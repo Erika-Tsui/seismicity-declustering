{
 "cells": [
  {
   "metadata": {
    "ExecuteTime": {
     "end_time": "2025-08-25T17:16:52.601234Z",
     "start_time": "2025-08-25T17:16:52.101503Z"
    }
   },
   "cell_type": "code",
   "source": [
    "import pandas as pd\n",
    "import geopandas as gpd\n",
    "\n",
    "# Load data\n",
    "df = pd.read_csv(\"sample_africa. csv\")\n",
    "\n",
    "# Convert Datetime column\n",
    "df['Datetime'] = pd.to_datetime(df['Datetime'])\n",
    "df['Timediff'] = ((df['Datetime'] - df['Datetime'].min()).dt.total_seconds())/86400\n",
    "\n",
    "# Make GeoDataFrame with lon/lat\n",
    "gdf = gpd.GeoDataFrame(\n",
    "    df,\n",
    "    geometry=gpd.points_from_xy(df['Lon'], df['Lat']),\n",
    "    crs=\"EPSG:4326\"   # WGS84 (lat/lon)\n",
    ")\n",
    "\n",
    "# Project to UTM (auto-detect zone for centroid of data)\n",
    "gdf = gdf.to_crs(gdf.estimate_utm_crs())\n",
    "\n",
    "# Extract projected coordinates (in meters)\n",
    "df['x'] = gdf.geometry.x   # Easting\n",
    "df['y'] = gdf.geometry.y   # Northing\n",
    "\n",
    "# Build feature matrix\n",
    "features = df[['x', 'y', 'Timediff', 'Mag']].values\n",
    "print(features)"
   ],
   "id": "fa09ebe9f6efcbac",
   "outputs": [
    {
     "name": "stdout",
     "output_type": "stream",
     "text": [
      "[[ 9.72685767e+05  4.17047302e+06  0.00000000e+00  6.40000000e+00]\n",
      " [ 3.02802479e+06  4.75439165e+06  1.96807299e+02  7.30000000e+00]\n",
      " [ 2.03778132e+06 -2.85602802e+05  2.40065223e+02  5.30000000e+00]\n",
      " ...\n",
      " [ 1.11761373e+06  4.27504878e+06  1.62969157e+04  4.80000000e+00]\n",
      " [ 2.62701019e+06  4.54628899e+06  1.63005679e+04  5.50000000e+00]\n",
      " [-2.83124797e+06 -1.57605129e+05  1.63042073e+04  4.70000000e+00]]\n"
     ]
    }
   ],
   "execution_count": 2
  },
  {
   "metadata": {
    "ExecuteTime": {
     "end_time": "2025-08-25T17:16:53.812557Z",
     "start_time": "2025-08-25T17:16:53.539823Z"
    }
   },
   "cell_type": "code",
   "source": [
    "# Data Normalisation\n",
    "from sklearn.preprocessing import MinMaxScaler\n",
    "scaler = MinMaxScaler()\n",
    "features_scaled = scaler.fit_transform(features)\n",
    "print(features_scaled)"
   ],
   "id": "fba62e64c369e41b",
   "outputs": [
    {
     "name": "stdout",
     "output_type": "stream",
     "text": [
      "[[0.53540563 0.9173935  0.         0.66666667]\n",
      " [0.79526704 0.9762822  0.01207095 0.8974359 ]\n",
      " [0.6700682  0.4679944  0.01472413 0.38461538]\n",
      " ...\n",
      " [0.55372922 0.92794006 0.99955278 0.25641026]\n",
      " [0.74456581 0.95529487 0.99977678 0.43589744]\n",
      " [0.05446523 0.48090308 1.         0.23076923]]\n"
     ]
    }
   ],
   "execution_count": 3
  },
  {
   "metadata": {
    "ExecuteTime": {
     "end_time": "2025-08-25T17:16:56.152136Z",
     "start_time": "2025-08-25T17:16:54.645840Z"
    }
   },
   "cell_type": "code",
   "source": [
    "# Tuning the cluster_selection_epsilon\n",
    "from sklearn.cluster import HDBSCAN\n",
    "import numpy as np\n",
    "\n",
    "eps_values = [0.0, 0.05, 0.1, 0.2, 0.5, 1.0]\n",
    "\n",
    "for eps in eps_values:\n",
    "    clusterer = HDBSCAN(min_cluster_size=2,\n",
    "                        cluster_selection_epsilon=eps,\n",
    "                        min_samples=2)\n",
    "    labels = clusterer.fit_predict(features_scaled)\n",
    "    n_clusters = len(set(labels)) - (1 if -1 in labels else 0)\n",
    "    noise_frac = np.mean(labels == -1)\n",
    "    print(f\"epsilon={eps}, clusters={n_clusters}, noise={noise_frac:.2f}\")"
   ],
   "id": "acbbb8d4af7b60d4",
   "outputs": [
    {
     "name": "stdout",
     "output_type": "stream",
     "text": [
      "epsilon=0.0, clusters=656, noise=0.21\n",
      "epsilon=0.05, clusters=298, noise=0.12\n",
      "epsilon=0.1, clusters=37, noise=0.03\n",
      "epsilon=0.2, clusters=3, noise=0.00\n",
      "epsilon=0.5, clusters=2, noise=0.00\n",
      "epsilon=1.0, clusters=2, noise=0.00\n"
     ]
    }
   ],
   "execution_count": 4
  },
  {
   "metadata": {
    "ExecuteTime": {
     "end_time": "2025-08-25T17:16:57.926323Z",
     "start_time": "2025-08-25T17:16:57.776560Z"
    }
   },
   "cell_type": "code",
   "source": [
    "from sklearn.cluster import HDBSCAN\n",
    "\n",
    "# Initialize the HDBSCAN model\n",
    "hdb = HDBSCAN(min_cluster_size=2,\n",
    "              cluster_selection_epsilon=0.05\n",
    "              )\n",
    "hdb.fit(features_scaled)"
   ],
   "id": "8522ae55dab4fc08",
   "outputs": [
    {
     "data": {
      "text/plain": [
       "HDBSCAN(cluster_selection_epsilon=0.05, min_cluster_size=2)"
      ],
      "text/html": [
       "<style>#sk-container-id-1 {\n",
       "  /* Definition of color scheme common for light and dark mode */\n",
       "  --sklearn-color-text: #000;\n",
       "  --sklearn-color-text-muted: #666;\n",
       "  --sklearn-color-line: gray;\n",
       "  /* Definition of color scheme for unfitted estimators */\n",
       "  --sklearn-color-unfitted-level-0: #fff5e6;\n",
       "  --sklearn-color-unfitted-level-1: #f6e4d2;\n",
       "  --sklearn-color-unfitted-level-2: #ffe0b3;\n",
       "  --sklearn-color-unfitted-level-3: chocolate;\n",
       "  /* Definition of color scheme for fitted estimators */\n",
       "  --sklearn-color-fitted-level-0: #f0f8ff;\n",
       "  --sklearn-color-fitted-level-1: #d4ebff;\n",
       "  --sklearn-color-fitted-level-2: #b3dbfd;\n",
       "  --sklearn-color-fitted-level-3: cornflowerblue;\n",
       "\n",
       "  /* Specific color for light theme */\n",
       "  --sklearn-color-text-on-default-background: var(--sg-text-color, var(--theme-code-foreground, var(--jp-content-font-color1, black)));\n",
       "  --sklearn-color-background: var(--sg-background-color, var(--theme-background, var(--jp-layout-color0, white)));\n",
       "  --sklearn-color-border-box: var(--sg-text-color, var(--theme-code-foreground, var(--jp-content-font-color1, black)));\n",
       "  --sklearn-color-icon: #696969;\n",
       "\n",
       "  @media (prefers-color-scheme: dark) {\n",
       "    /* Redefinition of color scheme for dark theme */\n",
       "    --sklearn-color-text-on-default-background: var(--sg-text-color, var(--theme-code-foreground, var(--jp-content-font-color1, white)));\n",
       "    --sklearn-color-background: var(--sg-background-color, var(--theme-background, var(--jp-layout-color0, #111)));\n",
       "    --sklearn-color-border-box: var(--sg-text-color, var(--theme-code-foreground, var(--jp-content-font-color1, white)));\n",
       "    --sklearn-color-icon: #878787;\n",
       "  }\n",
       "}\n",
       "\n",
       "#sk-container-id-1 {\n",
       "  color: var(--sklearn-color-text);\n",
       "}\n",
       "\n",
       "#sk-container-id-1 pre {\n",
       "  padding: 0;\n",
       "}\n",
       "\n",
       "#sk-container-id-1 input.sk-hidden--visually {\n",
       "  border: 0;\n",
       "  clip: rect(1px 1px 1px 1px);\n",
       "  clip: rect(1px, 1px, 1px, 1px);\n",
       "  height: 1px;\n",
       "  margin: -1px;\n",
       "  overflow: hidden;\n",
       "  padding: 0;\n",
       "  position: absolute;\n",
       "  width: 1px;\n",
       "}\n",
       "\n",
       "#sk-container-id-1 div.sk-dashed-wrapped {\n",
       "  border: 1px dashed var(--sklearn-color-line);\n",
       "  margin: 0 0.4em 0.5em 0.4em;\n",
       "  box-sizing: border-box;\n",
       "  padding-bottom: 0.4em;\n",
       "  background-color: var(--sklearn-color-background);\n",
       "}\n",
       "\n",
       "#sk-container-id-1 div.sk-container {\n",
       "  /* jupyter's `normalize.less` sets `[hidden] { display: none; }`\n",
       "     but bootstrap.min.css set `[hidden] { display: none !important; }`\n",
       "     so we also need the `!important` here to be able to override the\n",
       "     default hidden behavior on the sphinx rendered scikit-learn.org.\n",
       "     See: https://github.com/scikit-learn/scikit-learn/issues/21755 */\n",
       "  display: inline-block !important;\n",
       "  position: relative;\n",
       "}\n",
       "\n",
       "#sk-container-id-1 div.sk-text-repr-fallback {\n",
       "  display: none;\n",
       "}\n",
       "\n",
       "div.sk-parallel-item,\n",
       "div.sk-serial,\n",
       "div.sk-item {\n",
       "  /* draw centered vertical line to link estimators */\n",
       "  background-image: linear-gradient(var(--sklearn-color-text-on-default-background), var(--sklearn-color-text-on-default-background));\n",
       "  background-size: 2px 100%;\n",
       "  background-repeat: no-repeat;\n",
       "  background-position: center center;\n",
       "}\n",
       "\n",
       "/* Parallel-specific style estimator block */\n",
       "\n",
       "#sk-container-id-1 div.sk-parallel-item::after {\n",
       "  content: \"\";\n",
       "  width: 100%;\n",
       "  border-bottom: 2px solid var(--sklearn-color-text-on-default-background);\n",
       "  flex-grow: 1;\n",
       "}\n",
       "\n",
       "#sk-container-id-1 div.sk-parallel {\n",
       "  display: flex;\n",
       "  align-items: stretch;\n",
       "  justify-content: center;\n",
       "  background-color: var(--sklearn-color-background);\n",
       "  position: relative;\n",
       "}\n",
       "\n",
       "#sk-container-id-1 div.sk-parallel-item {\n",
       "  display: flex;\n",
       "  flex-direction: column;\n",
       "}\n",
       "\n",
       "#sk-container-id-1 div.sk-parallel-item:first-child::after {\n",
       "  align-self: flex-end;\n",
       "  width: 50%;\n",
       "}\n",
       "\n",
       "#sk-container-id-1 div.sk-parallel-item:last-child::after {\n",
       "  align-self: flex-start;\n",
       "  width: 50%;\n",
       "}\n",
       "\n",
       "#sk-container-id-1 div.sk-parallel-item:only-child::after {\n",
       "  width: 0;\n",
       "}\n",
       "\n",
       "/* Serial-specific style estimator block */\n",
       "\n",
       "#sk-container-id-1 div.sk-serial {\n",
       "  display: flex;\n",
       "  flex-direction: column;\n",
       "  align-items: center;\n",
       "  background-color: var(--sklearn-color-background);\n",
       "  padding-right: 1em;\n",
       "  padding-left: 1em;\n",
       "}\n",
       "\n",
       "\n",
       "/* Toggleable style: style used for estimator/Pipeline/ColumnTransformer box that is\n",
       "clickable and can be expanded/collapsed.\n",
       "- Pipeline and ColumnTransformer use this feature and define the default style\n",
       "- Estimators will overwrite some part of the style using the `sk-estimator` class\n",
       "*/\n",
       "\n",
       "/* Pipeline and ColumnTransformer style (default) */\n",
       "\n",
       "#sk-container-id-1 div.sk-toggleable {\n",
       "  /* Default theme specific background. It is overwritten whether we have a\n",
       "  specific estimator or a Pipeline/ColumnTransformer */\n",
       "  background-color: var(--sklearn-color-background);\n",
       "}\n",
       "\n",
       "/* Toggleable label */\n",
       "#sk-container-id-1 label.sk-toggleable__label {\n",
       "  cursor: pointer;\n",
       "  display: flex;\n",
       "  width: 100%;\n",
       "  margin-bottom: 0;\n",
       "  padding: 0.5em;\n",
       "  box-sizing: border-box;\n",
       "  text-align: center;\n",
       "  align-items: start;\n",
       "  justify-content: space-between;\n",
       "  gap: 0.5em;\n",
       "}\n",
       "\n",
       "#sk-container-id-1 label.sk-toggleable__label .caption {\n",
       "  font-size: 0.6rem;\n",
       "  font-weight: lighter;\n",
       "  color: var(--sklearn-color-text-muted);\n",
       "}\n",
       "\n",
       "#sk-container-id-1 label.sk-toggleable__label-arrow:before {\n",
       "  /* Arrow on the left of the label */\n",
       "  content: \"▸\";\n",
       "  float: left;\n",
       "  margin-right: 0.25em;\n",
       "  color: var(--sklearn-color-icon);\n",
       "}\n",
       "\n",
       "#sk-container-id-1 label.sk-toggleable__label-arrow:hover:before {\n",
       "  color: var(--sklearn-color-text);\n",
       "}\n",
       "\n",
       "/* Toggleable content - dropdown */\n",
       "\n",
       "#sk-container-id-1 div.sk-toggleable__content {\n",
       "  display: none;\n",
       "  text-align: left;\n",
       "  /* unfitted */\n",
       "  background-color: var(--sklearn-color-unfitted-level-0);\n",
       "}\n",
       "\n",
       "#sk-container-id-1 div.sk-toggleable__content.fitted {\n",
       "  /* fitted */\n",
       "  background-color: var(--sklearn-color-fitted-level-0);\n",
       "}\n",
       "\n",
       "#sk-container-id-1 div.sk-toggleable__content pre {\n",
       "  margin: 0.2em;\n",
       "  border-radius: 0.25em;\n",
       "  color: var(--sklearn-color-text);\n",
       "  /* unfitted */\n",
       "  background-color: var(--sklearn-color-unfitted-level-0);\n",
       "}\n",
       "\n",
       "#sk-container-id-1 div.sk-toggleable__content.fitted pre {\n",
       "  /* unfitted */\n",
       "  background-color: var(--sklearn-color-fitted-level-0);\n",
       "}\n",
       "\n",
       "#sk-container-id-1 input.sk-toggleable__control:checked~div.sk-toggleable__content {\n",
       "  /* Expand drop-down */\n",
       "  display: block;\n",
       "  width: 100%;\n",
       "  overflow: visible;\n",
       "}\n",
       "\n",
       "#sk-container-id-1 input.sk-toggleable__control:checked~label.sk-toggleable__label-arrow:before {\n",
       "  content: \"▾\";\n",
       "}\n",
       "\n",
       "/* Pipeline/ColumnTransformer-specific style */\n",
       "\n",
       "#sk-container-id-1 div.sk-label input.sk-toggleable__control:checked~label.sk-toggleable__label {\n",
       "  color: var(--sklearn-color-text);\n",
       "  background-color: var(--sklearn-color-unfitted-level-2);\n",
       "}\n",
       "\n",
       "#sk-container-id-1 div.sk-label.fitted input.sk-toggleable__control:checked~label.sk-toggleable__label {\n",
       "  background-color: var(--sklearn-color-fitted-level-2);\n",
       "}\n",
       "\n",
       "/* Estimator-specific style */\n",
       "\n",
       "/* Colorize estimator box */\n",
       "#sk-container-id-1 div.sk-estimator input.sk-toggleable__control:checked~label.sk-toggleable__label {\n",
       "  /* unfitted */\n",
       "  background-color: var(--sklearn-color-unfitted-level-2);\n",
       "}\n",
       "\n",
       "#sk-container-id-1 div.sk-estimator.fitted input.sk-toggleable__control:checked~label.sk-toggleable__label {\n",
       "  /* fitted */\n",
       "  background-color: var(--sklearn-color-fitted-level-2);\n",
       "}\n",
       "\n",
       "#sk-container-id-1 div.sk-label label.sk-toggleable__label,\n",
       "#sk-container-id-1 div.sk-label label {\n",
       "  /* The background is the default theme color */\n",
       "  color: var(--sklearn-color-text-on-default-background);\n",
       "}\n",
       "\n",
       "/* On hover, darken the color of the background */\n",
       "#sk-container-id-1 div.sk-label:hover label.sk-toggleable__label {\n",
       "  color: var(--sklearn-color-text);\n",
       "  background-color: var(--sklearn-color-unfitted-level-2);\n",
       "}\n",
       "\n",
       "/* Label box, darken color on hover, fitted */\n",
       "#sk-container-id-1 div.sk-label.fitted:hover label.sk-toggleable__label.fitted {\n",
       "  color: var(--sklearn-color-text);\n",
       "  background-color: var(--sklearn-color-fitted-level-2);\n",
       "}\n",
       "\n",
       "/* Estimator label */\n",
       "\n",
       "#sk-container-id-1 div.sk-label label {\n",
       "  font-family: monospace;\n",
       "  font-weight: bold;\n",
       "  display: inline-block;\n",
       "  line-height: 1.2em;\n",
       "}\n",
       "\n",
       "#sk-container-id-1 div.sk-label-container {\n",
       "  text-align: center;\n",
       "}\n",
       "\n",
       "/* Estimator-specific */\n",
       "#sk-container-id-1 div.sk-estimator {\n",
       "  font-family: monospace;\n",
       "  border: 1px dotted var(--sklearn-color-border-box);\n",
       "  border-radius: 0.25em;\n",
       "  box-sizing: border-box;\n",
       "  margin-bottom: 0.5em;\n",
       "  /* unfitted */\n",
       "  background-color: var(--sklearn-color-unfitted-level-0);\n",
       "}\n",
       "\n",
       "#sk-container-id-1 div.sk-estimator.fitted {\n",
       "  /* fitted */\n",
       "  background-color: var(--sklearn-color-fitted-level-0);\n",
       "}\n",
       "\n",
       "/* on hover */\n",
       "#sk-container-id-1 div.sk-estimator:hover {\n",
       "  /* unfitted */\n",
       "  background-color: var(--sklearn-color-unfitted-level-2);\n",
       "}\n",
       "\n",
       "#sk-container-id-1 div.sk-estimator.fitted:hover {\n",
       "  /* fitted */\n",
       "  background-color: var(--sklearn-color-fitted-level-2);\n",
       "}\n",
       "\n",
       "/* Specification for estimator info (e.g. \"i\" and \"?\") */\n",
       "\n",
       "/* Common style for \"i\" and \"?\" */\n",
       "\n",
       ".sk-estimator-doc-link,\n",
       "a:link.sk-estimator-doc-link,\n",
       "a:visited.sk-estimator-doc-link {\n",
       "  float: right;\n",
       "  font-size: smaller;\n",
       "  line-height: 1em;\n",
       "  font-family: monospace;\n",
       "  background-color: var(--sklearn-color-background);\n",
       "  border-radius: 1em;\n",
       "  height: 1em;\n",
       "  width: 1em;\n",
       "  text-decoration: none !important;\n",
       "  margin-left: 0.5em;\n",
       "  text-align: center;\n",
       "  /* unfitted */\n",
       "  border: var(--sklearn-color-unfitted-level-1) 1pt solid;\n",
       "  color: var(--sklearn-color-unfitted-level-1);\n",
       "}\n",
       "\n",
       ".sk-estimator-doc-link.fitted,\n",
       "a:link.sk-estimator-doc-link.fitted,\n",
       "a:visited.sk-estimator-doc-link.fitted {\n",
       "  /* fitted */\n",
       "  border: var(--sklearn-color-fitted-level-1) 1pt solid;\n",
       "  color: var(--sklearn-color-fitted-level-1);\n",
       "}\n",
       "\n",
       "/* On hover */\n",
       "div.sk-estimator:hover .sk-estimator-doc-link:hover,\n",
       ".sk-estimator-doc-link:hover,\n",
       "div.sk-label-container:hover .sk-estimator-doc-link:hover,\n",
       ".sk-estimator-doc-link:hover {\n",
       "  /* unfitted */\n",
       "  background-color: var(--sklearn-color-unfitted-level-3);\n",
       "  color: var(--sklearn-color-background);\n",
       "  text-decoration: none;\n",
       "}\n",
       "\n",
       "div.sk-estimator.fitted:hover .sk-estimator-doc-link.fitted:hover,\n",
       ".sk-estimator-doc-link.fitted:hover,\n",
       "div.sk-label-container:hover .sk-estimator-doc-link.fitted:hover,\n",
       ".sk-estimator-doc-link.fitted:hover {\n",
       "  /* fitted */\n",
       "  background-color: var(--sklearn-color-fitted-level-3);\n",
       "  color: var(--sklearn-color-background);\n",
       "  text-decoration: none;\n",
       "}\n",
       "\n",
       "/* Span, style for the box shown on hovering the info icon */\n",
       ".sk-estimator-doc-link span {\n",
       "  display: none;\n",
       "  z-index: 9999;\n",
       "  position: relative;\n",
       "  font-weight: normal;\n",
       "  right: .2ex;\n",
       "  padding: .5ex;\n",
       "  margin: .5ex;\n",
       "  width: min-content;\n",
       "  min-width: 20ex;\n",
       "  max-width: 50ex;\n",
       "  color: var(--sklearn-color-text);\n",
       "  box-shadow: 2pt 2pt 4pt #999;\n",
       "  /* unfitted */\n",
       "  background: var(--sklearn-color-unfitted-level-0);\n",
       "  border: .5pt solid var(--sklearn-color-unfitted-level-3);\n",
       "}\n",
       "\n",
       ".sk-estimator-doc-link.fitted span {\n",
       "  /* fitted */\n",
       "  background: var(--sklearn-color-fitted-level-0);\n",
       "  border: var(--sklearn-color-fitted-level-3);\n",
       "}\n",
       "\n",
       ".sk-estimator-doc-link:hover span {\n",
       "  display: block;\n",
       "}\n",
       "\n",
       "/* \"?\"-specific style due to the `<a>` HTML tag */\n",
       "\n",
       "#sk-container-id-1 a.estimator_doc_link {\n",
       "  float: right;\n",
       "  font-size: 1rem;\n",
       "  line-height: 1em;\n",
       "  font-family: monospace;\n",
       "  background-color: var(--sklearn-color-background);\n",
       "  border-radius: 1rem;\n",
       "  height: 1rem;\n",
       "  width: 1rem;\n",
       "  text-decoration: none;\n",
       "  /* unfitted */\n",
       "  color: var(--sklearn-color-unfitted-level-1);\n",
       "  border: var(--sklearn-color-unfitted-level-1) 1pt solid;\n",
       "}\n",
       "\n",
       "#sk-container-id-1 a.estimator_doc_link.fitted {\n",
       "  /* fitted */\n",
       "  border: var(--sklearn-color-fitted-level-1) 1pt solid;\n",
       "  color: var(--sklearn-color-fitted-level-1);\n",
       "}\n",
       "\n",
       "/* On hover */\n",
       "#sk-container-id-1 a.estimator_doc_link:hover {\n",
       "  /* unfitted */\n",
       "  background-color: var(--sklearn-color-unfitted-level-3);\n",
       "  color: var(--sklearn-color-background);\n",
       "  text-decoration: none;\n",
       "}\n",
       "\n",
       "#sk-container-id-1 a.estimator_doc_link.fitted:hover {\n",
       "  /* fitted */\n",
       "  background-color: var(--sklearn-color-fitted-level-3);\n",
       "}\n",
       "\n",
       ".estimator-table summary {\n",
       "    padding: .5rem;\n",
       "    font-family: monospace;\n",
       "    cursor: pointer;\n",
       "}\n",
       "\n",
       ".estimator-table details[open] {\n",
       "    padding-left: 0.1rem;\n",
       "    padding-right: 0.1rem;\n",
       "    padding-bottom: 0.3rem;\n",
       "}\n",
       "\n",
       ".estimator-table .parameters-table {\n",
       "    margin-left: auto !important;\n",
       "    margin-right: auto !important;\n",
       "}\n",
       "\n",
       ".estimator-table .parameters-table tr:nth-child(odd) {\n",
       "    background-color: #fff;\n",
       "}\n",
       "\n",
       ".estimator-table .parameters-table tr:nth-child(even) {\n",
       "    background-color: #f6f6f6;\n",
       "}\n",
       "\n",
       ".estimator-table .parameters-table tr:hover {\n",
       "    background-color: #e0e0e0;\n",
       "}\n",
       "\n",
       ".estimator-table table td {\n",
       "    border: 1px solid rgba(106, 105, 104, 0.232);\n",
       "}\n",
       "\n",
       ".user-set td {\n",
       "    color:rgb(255, 94, 0);\n",
       "    text-align: left;\n",
       "}\n",
       "\n",
       ".user-set td.value pre {\n",
       "    color:rgb(255, 94, 0) !important;\n",
       "    background-color: transparent !important;\n",
       "}\n",
       "\n",
       ".default td {\n",
       "    color: black;\n",
       "    text-align: left;\n",
       "}\n",
       "\n",
       ".user-set td i,\n",
       ".default td i {\n",
       "    color: black;\n",
       "}\n",
       "\n",
       ".copy-paste-icon {\n",
       "    background-image: url(data:image/svg+xml;base64,PHN2ZyB4bWxucz0iaHR0cDovL3d3dy53My5vcmcvMjAwMC9zdmciIHZpZXdCb3g9IjAgMCA0NDggNTEyIj48IS0tIUZvbnQgQXdlc29tZSBGcmVlIDYuNy4yIGJ5IEBmb250YXdlc29tZSAtIGh0dHBzOi8vZm9udGF3ZXNvbWUuY29tIExpY2Vuc2UgLSBodHRwczovL2ZvbnRhd2Vzb21lLmNvbS9saWNlbnNlL2ZyZWUgQ29weXJpZ2h0IDIwMjUgRm9udGljb25zLCBJbmMuLS0+PHBhdGggZD0iTTIwOCAwTDMzMi4xIDBjMTIuNyAwIDI0LjkgNS4xIDMzLjkgMTQuMWw2Ny45IDY3LjljOSA5IDE0LjEgMjEuMiAxNC4xIDMzLjlMNDQ4IDMzNmMwIDI2LjUtMjEuNSA0OC00OCA0OGwtMTkyIDBjLTI2LjUgMC00OC0yMS41LTQ4LTQ4bDAtMjg4YzAtMjYuNSAyMS41LTQ4IDQ4LTQ4ek00OCAxMjhsODAgMCAwIDY0LTY0IDAgMCAyNTYgMTkyIDAgMC0zMiA2NCAwIDAgNDhjMCAyNi41LTIxLjUgNDgtNDggNDhMNDggNTEyYy0yNi41IDAtNDgtMjEuNS00OC00OEwwIDE3NmMwLTI2LjUgMjEuNS00OCA0OC00OHoiLz48L3N2Zz4=);\n",
       "    background-repeat: no-repeat;\n",
       "    background-size: 14px 14px;\n",
       "    background-position: 0;\n",
       "    display: inline-block;\n",
       "    width: 14px;\n",
       "    height: 14px;\n",
       "    cursor: pointer;\n",
       "}\n",
       "</style><body><div id=\"sk-container-id-1\" class=\"sk-top-container\"><div class=\"sk-text-repr-fallback\"><pre>HDBSCAN(cluster_selection_epsilon=0.05, min_cluster_size=2)</pre><b>In a Jupyter environment, please rerun this cell to show the HTML representation or trust the notebook. <br />On GitHub, the HTML representation is unable to render, please try loading this page with nbviewer.org.</b></div><div class=\"sk-container\" hidden><div class=\"sk-item\"><div class=\"sk-estimator fitted sk-toggleable\"><input class=\"sk-toggleable__control sk-hidden--visually\" id=\"sk-estimator-id-1\" type=\"checkbox\" checked><label for=\"sk-estimator-id-1\" class=\"sk-toggleable__label fitted sk-toggleable__label-arrow\"><div><div>HDBSCAN</div></div><div><a class=\"sk-estimator-doc-link fitted\" rel=\"noreferrer\" target=\"_blank\" href=\"https://scikit-learn.org/1.7/modules/generated/sklearn.cluster.HDBSCAN.html\">?<span>Documentation for HDBSCAN</span></a><span class=\"sk-estimator-doc-link fitted\">i<span>Fitted</span></span></div></label><div class=\"sk-toggleable__content fitted\" data-param-prefix=\"\">\n",
       "        <div class=\"estimator-table\">\n",
       "            <details>\n",
       "                <summary>Parameters</summary>\n",
       "                <table class=\"parameters-table\">\n",
       "                  <tbody>\n",
       "                    \n",
       "        <tr class=\"user-set\">\n",
       "            <td><i class=\"copy-paste-icon\"\n",
       "                 onclick=\"copyToClipboard('min_cluster_size',\n",
       "                          this.parentElement.nextElementSibling)\"\n",
       "            ></i></td>\n",
       "            <td class=\"param\">min_cluster_size&nbsp;</td>\n",
       "            <td class=\"value\">2</td>\n",
       "        </tr>\n",
       "    \n",
       "\n",
       "        <tr class=\"default\">\n",
       "            <td><i class=\"copy-paste-icon\"\n",
       "                 onclick=\"copyToClipboard('min_samples',\n",
       "                          this.parentElement.nextElementSibling)\"\n",
       "            ></i></td>\n",
       "            <td class=\"param\">min_samples&nbsp;</td>\n",
       "            <td class=\"value\">None</td>\n",
       "        </tr>\n",
       "    \n",
       "\n",
       "        <tr class=\"user-set\">\n",
       "            <td><i class=\"copy-paste-icon\"\n",
       "                 onclick=\"copyToClipboard('cluster_selection_epsilon',\n",
       "                          this.parentElement.nextElementSibling)\"\n",
       "            ></i></td>\n",
       "            <td class=\"param\">cluster_selection_epsilon&nbsp;</td>\n",
       "            <td class=\"value\">0.05</td>\n",
       "        </tr>\n",
       "    \n",
       "\n",
       "        <tr class=\"default\">\n",
       "            <td><i class=\"copy-paste-icon\"\n",
       "                 onclick=\"copyToClipboard('max_cluster_size',\n",
       "                          this.parentElement.nextElementSibling)\"\n",
       "            ></i></td>\n",
       "            <td class=\"param\">max_cluster_size&nbsp;</td>\n",
       "            <td class=\"value\">None</td>\n",
       "        </tr>\n",
       "    \n",
       "\n",
       "        <tr class=\"default\">\n",
       "            <td><i class=\"copy-paste-icon\"\n",
       "                 onclick=\"copyToClipboard('metric',\n",
       "                          this.parentElement.nextElementSibling)\"\n",
       "            ></i></td>\n",
       "            <td class=\"param\">metric&nbsp;</td>\n",
       "            <td class=\"value\">&#x27;euclidean&#x27;</td>\n",
       "        </tr>\n",
       "    \n",
       "\n",
       "        <tr class=\"default\">\n",
       "            <td><i class=\"copy-paste-icon\"\n",
       "                 onclick=\"copyToClipboard('metric_params',\n",
       "                          this.parentElement.nextElementSibling)\"\n",
       "            ></i></td>\n",
       "            <td class=\"param\">metric_params&nbsp;</td>\n",
       "            <td class=\"value\">None</td>\n",
       "        </tr>\n",
       "    \n",
       "\n",
       "        <tr class=\"default\">\n",
       "            <td><i class=\"copy-paste-icon\"\n",
       "                 onclick=\"copyToClipboard('alpha',\n",
       "                          this.parentElement.nextElementSibling)\"\n",
       "            ></i></td>\n",
       "            <td class=\"param\">alpha&nbsp;</td>\n",
       "            <td class=\"value\">1.0</td>\n",
       "        </tr>\n",
       "    \n",
       "\n",
       "        <tr class=\"default\">\n",
       "            <td><i class=\"copy-paste-icon\"\n",
       "                 onclick=\"copyToClipboard('algorithm',\n",
       "                          this.parentElement.nextElementSibling)\"\n",
       "            ></i></td>\n",
       "            <td class=\"param\">algorithm&nbsp;</td>\n",
       "            <td class=\"value\">&#x27;auto&#x27;</td>\n",
       "        </tr>\n",
       "    \n",
       "\n",
       "        <tr class=\"default\">\n",
       "            <td><i class=\"copy-paste-icon\"\n",
       "                 onclick=\"copyToClipboard('leaf_size',\n",
       "                          this.parentElement.nextElementSibling)\"\n",
       "            ></i></td>\n",
       "            <td class=\"param\">leaf_size&nbsp;</td>\n",
       "            <td class=\"value\">40</td>\n",
       "        </tr>\n",
       "    \n",
       "\n",
       "        <tr class=\"default\">\n",
       "            <td><i class=\"copy-paste-icon\"\n",
       "                 onclick=\"copyToClipboard('n_jobs',\n",
       "                          this.parentElement.nextElementSibling)\"\n",
       "            ></i></td>\n",
       "            <td class=\"param\">n_jobs&nbsp;</td>\n",
       "            <td class=\"value\">None</td>\n",
       "        </tr>\n",
       "    \n",
       "\n",
       "        <tr class=\"default\">\n",
       "            <td><i class=\"copy-paste-icon\"\n",
       "                 onclick=\"copyToClipboard('cluster_selection_method',\n",
       "                          this.parentElement.nextElementSibling)\"\n",
       "            ></i></td>\n",
       "            <td class=\"param\">cluster_selection_method&nbsp;</td>\n",
       "            <td class=\"value\">&#x27;eom&#x27;</td>\n",
       "        </tr>\n",
       "    \n",
       "\n",
       "        <tr class=\"default\">\n",
       "            <td><i class=\"copy-paste-icon\"\n",
       "                 onclick=\"copyToClipboard('allow_single_cluster',\n",
       "                          this.parentElement.nextElementSibling)\"\n",
       "            ></i></td>\n",
       "            <td class=\"param\">allow_single_cluster&nbsp;</td>\n",
       "            <td class=\"value\">False</td>\n",
       "        </tr>\n",
       "    \n",
       "\n",
       "        <tr class=\"default\">\n",
       "            <td><i class=\"copy-paste-icon\"\n",
       "                 onclick=\"copyToClipboard('store_centers',\n",
       "                          this.parentElement.nextElementSibling)\"\n",
       "            ></i></td>\n",
       "            <td class=\"param\">store_centers&nbsp;</td>\n",
       "            <td class=\"value\">None</td>\n",
       "        </tr>\n",
       "    \n",
       "\n",
       "        <tr class=\"default\">\n",
       "            <td><i class=\"copy-paste-icon\"\n",
       "                 onclick=\"copyToClipboard('copy',\n",
       "                          this.parentElement.nextElementSibling)\"\n",
       "            ></i></td>\n",
       "            <td class=\"param\">copy&nbsp;</td>\n",
       "            <td class=\"value\">False</td>\n",
       "        </tr>\n",
       "    \n",
       "                  </tbody>\n",
       "                </table>\n",
       "            </details>\n",
       "        </div>\n",
       "    </div></div></div></div></div><script>function copyToClipboard(text, element) {\n",
       "    // Get the parameter prefix from the closest toggleable content\n",
       "    const toggleableContent = element.closest('.sk-toggleable__content');\n",
       "    const paramPrefix = toggleableContent ? toggleableContent.dataset.paramPrefix : '';\n",
       "    const fullParamName = paramPrefix ? `${paramPrefix}${text}` : text;\n",
       "\n",
       "    const originalStyle = element.style;\n",
       "    const computedStyle = window.getComputedStyle(element);\n",
       "    const originalWidth = computedStyle.width;\n",
       "    const originalHTML = element.innerHTML.replace('Copied!', '');\n",
       "\n",
       "    navigator.clipboard.writeText(fullParamName)\n",
       "        .then(() => {\n",
       "            element.style.width = originalWidth;\n",
       "            element.style.color = 'green';\n",
       "            element.innerHTML = \"Copied!\";\n",
       "\n",
       "            setTimeout(() => {\n",
       "                element.innerHTML = originalHTML;\n",
       "                element.style = originalStyle;\n",
       "            }, 2000);\n",
       "        })\n",
       "        .catch(err => {\n",
       "            console.error('Failed to copy:', err);\n",
       "            element.style.color = 'red';\n",
       "            element.innerHTML = \"Failed!\";\n",
       "            setTimeout(() => {\n",
       "                element.innerHTML = originalHTML;\n",
       "                element.style = originalStyle;\n",
       "            }, 2000);\n",
       "        });\n",
       "    return false;\n",
       "}\n",
       "\n",
       "document.querySelectorAll('.fa-regular.fa-copy').forEach(function(element) {\n",
       "    const toggleableContent = element.closest('.sk-toggleable__content');\n",
       "    const paramPrefix = toggleableContent ? toggleableContent.dataset.paramPrefix : '';\n",
       "    const paramName = element.parentElement.nextElementSibling.textContent.trim();\n",
       "    const fullParamName = paramPrefix ? `${paramPrefix}${paramName}` : paramName;\n",
       "\n",
       "    element.setAttribute('title', fullParamName);\n",
       "});\n",
       "</script></body>"
      ]
     },
     "execution_count": 5,
     "metadata": {},
     "output_type": "execute_result"
    }
   ],
   "execution_count": 5
  },
  {
   "metadata": {
    "ExecuteTime": {
     "end_time": "2025-08-25T17:17:00.907254Z",
     "start_time": "2025-08-25T17:17:00.899235Z"
    }
   },
   "cell_type": "code",
   "source": [
    "import matplotlib.pyplot as plt\n",
    "\n",
    "# Add the resulting cluster labels to the original DataFrame\n",
    "df['Cluster'] = hdb.labels_\n",
    "\n",
    "# Count the number of points in each cluster\n",
    "# This helps understand the distribution of the data\n",
    "print(\"--- Cluster ID counts ---\")\n",
    "print(df['Cluster'].value_counts())"
   ],
   "id": "a5a0c7914424947a",
   "outputs": [
    {
     "name": "stdout",
     "output_type": "stream",
     "text": [
      "--- Cluster ID counts ---\n",
      "Cluster\n",
      " 225    479\n",
      " 296    370\n",
      "-1      277\n",
      " 288     66\n",
      " 270     50\n",
      "       ... \n",
      " 97       2\n",
      " 219      2\n",
      " 37       2\n",
      " 265      2\n",
      " 111      2\n",
      "Name: count, Length: 299, dtype: int64\n"
     ]
    }
   ],
   "execution_count": 6
  },
  {
   "metadata": {
    "ExecuteTime": {
     "end_time": "2025-08-25T17:17:02.670111Z",
     "start_time": "2025-08-25T17:17:02.294419Z"
    }
   },
   "cell_type": "code",
   "source": [
    "# Classify mainshock, dependent shock and noise in each cluster\n",
    "# Add a new column for the classification of each event\n",
    "df['Type'] = 'Dependent'  # Initialize all as Unclassified\n",
    "\n",
    "# Loop through each cluster (excluding noise: -1)\n",
    "for cluster_id in sorted(df['Cluster'].unique()):\n",
    "    if cluster_id == -1: # if cluster id is not equal to -1\n",
    "        continue  # skip noise\n",
    "\n",
    "    sub_df = df[df['Cluster'] == cluster_id]  # Make each cluster as a subset from the whole dataframe\n",
    "\n",
    "    # Identify the mainshock (largest magnitude)\n",
    "    mainshock_idx = sub_df['Mag'].idxmax()\n",
    "    mainshock_time = sub_df.at[mainshock_idx, 'Datetime']\n",
    "\n",
    "    # Assign mainshock\n",
    "    df.at[mainshock_idx, 'Type'] = 'Mainshock'\n",
    "\n",
    "# Assign noise (they might be independent shocks)\n",
    "df.loc[df['Cluster'] == -1, 'Type'] = 'Noise'\n",
    "\n",
    "print(df)"
   ],
   "id": "7463054ebaf3c802",
   "outputs": [
    {
     "name": "stdout",
     "output_type": "stream",
     "text": [
      "            Date    Lat    Lon  Depth  Mag  Strike  Dip  Rake        Time  \\\n",
      "0     1976/05/11  37.56  20.35   33.0  6.4     339   14   110  16:59:48.2   \n",
      "1     1976/11/24  39.12  44.03   36.0  7.3     203   77     9  12:22:18.8   \n",
      "2     1977/01/06  -2.51  28.70   21.0  5.3     241   45   -90  18:33:43.5   \n",
      "3     1977/01/07 -31.28 -13.24   33.0  5.5      18   46   -59  14:38:22.4   \n",
      "4     1977/02/24 -11.69 -13.62   33.0  5.5      74   71    11  08:51:16.6   \n",
      "...          ...    ...    ...    ...  ...     ...  ...   ...         ...   \n",
      "2383  2020/12/13 -17.75 -12.75   10.0  4.9     210   40   -32  06:42:00.0   \n",
      "2384  2020/12/17  35.66  26.26   10.0  4.8     164   45  -116  13:36:45.4   \n",
      "2385  2020/12/23  38.41  22.07   10.0  4.8     295   44   -59  14:58:24.7   \n",
      "2386  2020/12/27  38.46  39.23    9.0  5.5     231   36   -22  06:37:32.9   \n",
      "2387  2020/12/30  -1.25 -13.66   10.0  4.7     341   89     1  21:58:16.1   \n",
      "\n",
      "                    Datetime      Timediff             x             y  \\\n",
      "0    1976-05-11 16:59:48.200      0.000000  9.726858e+05  4.170473e+06   \n",
      "1    1976-11-24 12:22:18.800    196.807299  3.028025e+06  4.754392e+06   \n",
      "2    1977-01-06 18:33:43.500    240.065223  2.037781e+06 -2.856028e+05   \n",
      "3    1977-01-07 14:38:22.400    240.901785 -2.237200e+06 -3.829611e+06   \n",
      "4    1977-02-24 08:51:16.600    288.660745 -2.745706e+06 -1.467565e+06   \n",
      "...                      ...           ...           ...           ...   \n",
      "2383 2020-12-13 06:42:00.000  16286.570970 -2.539708e+06 -2.200453e+06   \n",
      "2384 2020-12-17 13:36:45.400  16290.858995  1.521273e+06  4.005186e+06   \n",
      "2385 2020-12-23 14:58:24.700  16296.915700  1.117614e+06  4.275049e+06   \n",
      "2386 2020-12-27 06:37:32.900  16300.567878  2.627010e+06  4.546289e+06   \n",
      "2387 2020-12-30 21:58:16.100  16304.207267 -2.831248e+06 -1.576051e+05   \n",
      "\n",
      "      Cluster       Type  \n",
      "0          -1      Noise  \n",
      "1          -1      Noise  \n",
      "2          -1      Noise  \n",
      "3          -1      Noise  \n",
      "4          25  Mainshock  \n",
      "...       ...        ...  \n",
      "2383      225  Dependent  \n",
      "2384      296  Dependent  \n",
      "2385      296  Dependent  \n",
      "2386      241  Dependent  \n",
      "2387      225  Dependent  \n",
      "\n",
      "[2388 rows x 15 columns]\n"
     ]
    }
   ],
   "execution_count": 7
  },
  {
   "metadata": {
    "ExecuteTime": {
     "end_time": "2025-08-25T17:17:05.001677Z",
     "start_time": "2025-08-25T17:17:04.994622Z"
    }
   },
   "cell_type": "code",
   "source": "df['Type'].unique()",
   "id": "4739f489fbb13530",
   "outputs": [
    {
     "data": {
      "text/plain": [
       "array(['Noise', 'Mainshock', 'Dependent'], dtype=object)"
      ]
     },
     "execution_count": 8,
     "metadata": {},
     "output_type": "execute_result"
    }
   ],
   "execution_count": 8
  },
  {
   "metadata": {
    "ExecuteTime": {
     "end_time": "2025-08-25T17:17:06.241877Z",
     "start_time": "2025-08-25T17:17:06.238610Z"
    }
   },
   "cell_type": "code",
   "source": [
    "# ========================================\n",
    "# Estimation and further data exploration\n",
    "# ========================================"
   ],
   "id": "e3eb282b4735233f",
   "outputs": [],
   "execution_count": 9
  },
  {
   "metadata": {
    "ExecuteTime": {
     "end_time": "2025-08-25T17:17:13.597665Z",
     "start_time": "2025-08-25T17:17:11.888786Z"
    }
   },
   "cell_type": "code",
   "source": [
    "# Visualise the clustered sequence on map\n",
    "import plotly.express as px\n",
    "\n",
    "df_noise_excluded = df[df['Type'] != 'Noise']\n",
    "\n",
    "df_noise_excluded['Cluster'] = df_noise_excluded['Cluster'].astype('category')\n",
    "\n",
    "fig = px.scatter_map(\n",
    "    df_noise_excluded,\n",
    "    lat='Lat',\n",
    "    lon='Lon',\n",
    "    hover_name='Cluster',\n",
    "    color='Cluster',\n",
    "    color_discrete_sequence=px.colors.qualitative.Alphabet,\n",
    "    hover_data={'Date', 'Time', 'Lat', 'Lon'},\n",
    "    zoom=2,\n",
    "    height=800,\n",
    "    map_style='carto-positron',\n",
    "    title='Earthquake Clustering using HDBSCAN <br><sup>Time of occurrence: 1976-2020 | Africa and its surrounding area</sup>'\n",
    ")\n",
    "\n",
    "fig.show()"
   ],
   "id": "3f8b0679cde373b",
   "outputs": [
    {
     "name": "stderr",
     "output_type": "stream",
     "text": [
      "/var/folders/fn/9d0nx8h147x36gzgyptphd8w0000gn/T/ipykernel_37318/281727860.py:6: SettingWithCopyWarning: \n",
      "A value is trying to be set on a copy of a slice from a DataFrame.\n",
      "Try using .loc[row_indexer,col_indexer] = value instead\n",
      "\n",
      "See the caveats in the documentation: https://pandas.pydata.org/pandas-docs/stable/user_guide/indexing.html#returning-a-view-versus-a-copy\n",
      "  df_noise_excluded['Cluster'] = df_noise_excluded['Cluster'].astype('category')\n"
     ]
    },
    {
     "data": {
      "application/vnd.plotly.v1+json": {
       "data": [
        {
         "customdata": [
          [
           -11.69,
           -13.62,
           "08:51:16.6",
           "1977/02/24"
          ],
          [
           -12.78,
           -14.69,
           "14:18:06.6",
           "1977/09/12"
          ]
         ],
         "hovertemplate": "<b>%{hovertext}</b><br><br>Cluster=25<br>Lat=%{customdata[0]}<br>Lon=%{customdata[1]}<br>Time=%{customdata[2]}<br>Date=%{customdata[3]}<extra></extra>",
         "hovertext": {
          "dtype": "f8",
          "bdata": "AAAAAAAAOUAAAAAAAAA5QA=="
         },
         "lat": {
          "dtype": "f8",
          "bdata": "4XoUrkdhJ8CPwvUoXI8pwA=="
         },
         "legendgroup": "25",
         "lon": {
          "dtype": "f8",
          "bdata": "PQrXo3A9K8DhehSuR2EtwA=="
         },
         "marker": {
          "color": "#AA0DFE"
         },
         "mode": "markers",
         "name": "25",
         "showlegend": true,
         "subplot": "map",
         "type": "scattermap"
        },
        {
         "customdata": [
          [
           38.56,
           40.02,
           "02:39:58.2",
           "1977/03/25"
          ],
          [
           38.93,
           44.38,
           "01:35:13.8",
           "1977/05/26"
          ]
         ],
         "hovertemplate": "<b>%{hovertext}</b><br><br>Cluster=154<br>Lat=%{customdata[0]}<br>Lon=%{customdata[1]}<br>Time=%{customdata[2]}<br>Date=%{customdata[3]}<extra></extra>",
         "hovertext": {
          "dtype": "f8",
          "bdata": "AAAAAABAY0AAAAAAAEBjQA=="
         },
         "lat": {
          "dtype": "f8",
          "bdata": "SOF6FK5HQ0DXo3A9CndDQA=="
         },
         "legendgroup": "154",
         "lon": {
          "dtype": "f8",
          "bdata": "w/UoXI8CREBxPQrXozBGQA=="
         },
         "marker": {
          "color": "#3283FE"
         },
         "mode": "markers",
         "name": "154",
         "showlegend": true,
         "subplot": "map",
         "type": "scattermap"
        },
        {
         "customdata": [
          [
           -0.98,
           -13.48,
           "22:26:54.7",
           "1977/03/26"
          ],
          [
           -1.15,
           -14.04,
           "01:47:32.7",
           "1977/07/28"
          ],
          [
           -4.61,
           -12.37,
           "07:02:39.6",
           "1978/02/24"
          ],
          [
           -1.48,
           -15.61,
           "18:43:40.8",
           "1978/03/19"
          ]
         ],
         "hovertemplate": "<b>%{hovertext}</b><br><br>Cluster=59<br>Lat=%{customdata[0]}<br>Lon=%{customdata[1]}<br>Time=%{customdata[2]}<br>Date=%{customdata[3]}<extra></extra>",
         "hovertext": {
          "dtype": "f8",
          "bdata": "AAAAAACATUAAAAAAAIBNQAAAAAAAgE1AAAAAAACATUA="
         },
         "lat": {
          "dtype": "f8",
          "bdata": "XI/C9Shc779mZmZmZmbyv3E9CtejcBLArkfhehSu978="
         },
         "legendgroup": "59",
         "lon": {
          "dtype": "f8",
          "bdata": "9ihcj8L1KsAUrkfhehQswD0K16NwvSjAuB6F61E4L8A="
         },
         "marker": {
          "color": "#85660D"
         },
         "mode": "markers",
         "name": "59",
         "showlegend": true,
         "subplot": "map",
         "type": "scattermap"
        },
        {
         "customdata": [
          [
           31.98,
           50.68,
           "13:36:37.1",
           "1977/04/06"
          ],
          [
           32.64,
           48.09,
           "04:45:07.6",
           "1977/06/05"
          ]
         ],
         "hovertemplate": "<b>%{hovertext}</b><br><br>Cluster=115<br>Lat=%{customdata[0]}<br>Lon=%{customdata[1]}<br>Time=%{customdata[2]}<br>Date=%{customdata[3]}<extra></extra>",
         "hovertext": {
          "dtype": "f8",
          "bdata": "AAAAAADAXEAAAAAAAMBcQA=="
         },
         "lat": {
          "dtype": "f8",
          "bdata": "exSuR+H6P0BSuB6F61FAQA=="
         },
         "legendgroup": "115",
         "lon": {
          "dtype": "f8",
          "bdata": "16NwPQpXSUDsUbgehQtIQA=="
         },
         "marker": {
          "color": "#782AB6"
         },
         "mode": "markers",
         "name": "115",
         "showlegend": true,
         "subplot": "map",
         "type": "scattermap"
        },
        {
         "customdata": [
          [
           36.24,
           31.34,
           "12:54:49.2",
           "1977/06/01"
          ],
          [
           36.05,
           27.76,
           "02:59:10.8",
           "1977/11/28"
          ]
         ],
         "hovertemplate": "<b>%{hovertext}</b><br><br>Cluster=253<br>Lat=%{customdata[0]}<br>Lon=%{customdata[1]}<br>Time=%{customdata[2]}<br>Date=%{customdata[3]}<extra></extra>",
         "hovertext": {
          "dtype": "f8",
          "bdata": "AAAAAACgb0AAAAAAAKBvQA=="
         },
         "lat": {
          "dtype": "f8",
          "bdata": "H4XrUbgeQkBmZmZmZgZCQA=="
         },
         "legendgroup": "253",
         "lon": {
          "dtype": "f8",
          "bdata": "16NwPQpXP0DD9Shcj8I7QA=="
         },
         "marker": {
          "color": "#565656"
         },
         "mode": "markers",
         "name": "253",
         "showlegend": true,
         "subplot": "map",
         "type": "scattermap"
        },
        {
         "customdata": [
          [
           32.56,
           48.16,
           "08:25:30.8",
           "1977/06/05"
          ],
          [
           30.9,
           49.93,
           "01:33:26.9",
           "1979/03/28"
          ],
          [
           37.08,
           50.38,
           "04:26:15.0",
           "1980/12/03"
          ],
          [
           32.73,
           48.46,
           "04:57:57.9",
           "1981/01/02"
          ]
         ],
         "hovertemplate": "<b>%{hovertext}</b><br><br>Cluster=112<br>Lat=%{customdata[0]}<br>Lon=%{customdata[1]}<br>Time=%{customdata[2]}<br>Date=%{customdata[3]}<extra></extra>",
         "hovertext": {
          "dtype": "f8",
          "bdata": "AAAAAAAAXEAAAAAAAABcQAAAAAAAAFxAAAAAAAAAXEA="
         },
         "lat": {
          "dtype": "f8",
          "bdata": "SOF6FK5HQEBmZmZmZuY+QArXo3A9ikJAPQrXo3BdQEA="
         },
         "legendgroup": "112",
         "lon": {
          "dtype": "f8",
          "bdata": "FK5H4XoUSEDXo3A9CvdIQHE9CtejMElAexSuR+E6SEA="
         },
         "marker": {
          "color": "#1C8356"
         },
         "mode": "markers",
         "name": "112",
         "showlegend": true,
         "subplot": "map",
         "type": "scattermap"
        },
        {
         "customdata": [
          [
           38.63,
           14.71,
           "07:12:49.3",
           "1977/06/28"
          ],
          [
           38.28,
           11.74,
           "04:06:34.3",
           "1979/12/08"
          ]
         ],
         "hovertemplate": "<b>%{hovertext}</b><br><br>Cluster=160<br>Lat=%{customdata[0]}<br>Lon=%{customdata[1]}<br>Time=%{customdata[2]}<br>Date=%{customdata[3]}<extra></extra>",
         "hovertext": {
          "dtype": "f8",
          "bdata": "AAAAAAAAZEAAAAAAAABkQA=="
         },
         "lat": {
          "dtype": "f8",
          "bdata": "cT0K16NQQ0CkcD0K1yNDQA=="
         },
         "legendgroup": "160",
         "lon": {
          "dtype": "f8",
          "bdata": "7FG4HoVrLUB7FK5H4XonQA=="
         },
         "marker": {
          "color": "#16FF32"
         },
         "mode": "markers",
         "name": "160",
         "showlegend": true,
         "subplot": "map",
         "type": "scattermap"
        },
        {
         "customdata": [
          [
           10.94,
           39.63,
           "06:23:02.4",
           "1977/07/08"
          ],
          [
           11.56,
           42.57,
           "05:08:01.7",
           "1978/11/08"
          ]
         ],
         "hovertemplate": "<b>%{hovertext}</b><br><br>Cluster=100<br>Lat=%{customdata[0]}<br>Lon=%{customdata[1]}<br>Time=%{customdata[2]}<br>Date=%{customdata[3]}<extra></extra>",
         "hovertext": {
          "dtype": "f8",
          "bdata": "AAAAAAAAWUAAAAAAAABZQA=="
         },
         "lat": {
          "dtype": "f8",
          "bdata": "4XoUrkfhJUAfhetRuB4nQA=="
         },
         "legendgroup": "100",
         "lon": {
          "dtype": "f8",
          "bdata": "cT0K16PQQ0ApXI/C9UhFQA=="
         },
         "marker": {
          "color": "#F7E1A0"
         },
         "mode": "markers",
         "name": "100",
         "showlegend": true,
         "subplot": "map",
         "type": "scattermap"
        },
        {
         "customdata": [
          [
           -37.93,
           49.68,
           "00:15:58.8",
           "1977/07/10"
          ],
          [
           -39.09,
           46.24,
           "22:48:07.0",
           "1979/03/12"
          ]
         ],
         "hovertemplate": "<b>%{hovertext}</b><br><br>Cluster=0<br>Lat=%{customdata[0]}<br>Lon=%{customdata[1]}<br>Time=%{customdata[2]}<br>Date=%{customdata[3]}<extra></extra>",
         "hovertext": {
          "dtype": "f8",
          "bdata": "AAAAAAAAAAAAAAAAAAAAAA=="
         },
         "lat": {
          "dtype": "f8",
          "bdata": "16NwPQr3QsDsUbgehYtDwA=="
         },
         "legendgroup": "0",
         "lon": {
          "dtype": "f8",
          "bdata": "16NwPQrXSEAfhetRuB5HQA=="
         },
         "marker": {
          "color": "#E2E2E2"
         },
         "mode": "markers",
         "name": "0",
         "showlegend": true,
         "subplot": "map",
         "type": "scattermap"
        },
        {
         "customdata": [
          [
           35.23,
           23.4,
           "09:27:40.0",
           "1977/08/18"
          ],
          [
           34.5,
           25.26,
           "22:33:46.7",
           "1978/03/07"
          ]
         ],
         "hovertemplate": "<b>%{hovertext}</b><br><br>Cluster=290<br>Lat=%{customdata[0]}<br>Lon=%{customdata[1]}<br>Time=%{customdata[2]}<br>Date=%{customdata[3]}<extra></extra>",
         "hovertext": {
          "dtype": "f8",
          "bdata": "AAAAAAAgckAAAAAAACByQA=="
         },
         "lat": {
          "dtype": "f8",
          "bdata": "PQrXo3CdQUAAAAAAAEBBQA=="
         },
         "legendgroup": "290",
         "lon": {
          "dtype": "f8",
          "bdata": "ZmZmZmZmN0DD9Shcj0I5QA=="
         },
         "marker": {
          "color": "#1CBE4F"
         },
         "mode": "markers",
         "name": "290",
         "showlegend": true,
         "subplot": "map",
         "type": "scattermap"
        },
        {
         "customdata": [
          [
           -19.89,
           -11.89,
           "05:06:05.5",
           "1977/12/07"
          ],
          [
           -19.58,
           -11.79,
           "02:38:23.1",
           "1979/04/12"
          ]
         ],
         "hovertemplate": "<b>%{hovertext}</b><br><br>Cluster=37<br>Lat=%{customdata[0]}<br>Lon=%{customdata[1]}<br>Time=%{customdata[2]}<br>Date=%{customdata[3]}<extra></extra>",
         "hovertext": {
          "dtype": "f8",
          "bdata": "AAAAAACAQkAAAAAAAIBCQA=="
         },
         "lat": {
          "dtype": "f8",
          "bdata": "pHA9CtfjM8AUrkfhepQzwA=="
         },
         "legendgroup": "37",
         "lon": {
          "dtype": "f8",
          "bdata": "SOF6FK7HJ8AUrkfhepQnwA=="
         },
         "marker": {
          "color": "#C4451C"
         },
         "mode": "markers",
         "name": "37",
         "showlegend": true,
         "subplot": "map",
         "type": "scattermap"
        },
        {
         "customdata": [
          [
           13.13,
           50.94,
           "23:57:54.9",
           "1977/12/17"
          ],
          [
           13.16,
           50.95,
           "12:54:21.6",
           "1978/02/11"
          ],
          [
           12.67,
           48.32,
           "23:41:36.1",
           "1979/09/24"
          ]
         ],
         "hovertemplate": "<b>%{hovertext}</b><br><br>Cluster=90<br>Lat=%{customdata[0]}<br>Lon=%{customdata[1]}<br>Time=%{customdata[2]}<br>Date=%{customdata[3]}<extra></extra>",
         "hovertext": {
          "dtype": "f8",
          "bdata": "AAAAAACAVkAAAAAAAIBWQAAAAAAAgFZA"
         },
         "lat": {
          "dtype": "f8",
          "bdata": "w/UoXI9CKkBSuB6F61EqQNejcD0KVylA"
         },
         "legendgroup": "90",
         "lon": {
          "dtype": "f8",
          "bdata": "uB6F61F4SUCamZmZmXlJQClcj8L1KEhA"
         },
         "marker": {
          "color": "#DEA0FD"
         },
         "mode": "markers",
         "name": "90",
         "showlegend": true,
         "subplot": "map",
         "type": "scattermap"
        },
        {
         "customdata": [
          [
           16.52,
           40.26,
           "15:00:27.4",
           "1978/01/17"
          ],
          [
           16.45,
           40.23,
           "12:28:22.6",
           "1980/01/14"
          ]
         ],
         "hovertemplate": "<b>%{hovertext}</b><br><br>Cluster=103<br>Lat=%{customdata[0]}<br>Lon=%{customdata[1]}<br>Time=%{customdata[2]}<br>Date=%{customdata[3]}<extra></extra>",
         "hovertext": {
          "dtype": "f8",
          "bdata": "AAAAAADAWUAAAAAAAMBZQA=="
         },
         "lat": {
          "dtype": "f8",
          "bdata": "hetRuB6FMEAzMzMzM3MwQA=="
         },
         "legendgroup": "103",
         "lon": {
          "dtype": "f8",
          "bdata": "4XoUrkchREA9CtejcB1EQA=="
         },
         "marker": {
          "color": "#FE00FA"
         },
         "mode": "markers",
         "name": "103",
         "showlegend": true,
         "subplot": "map",
         "type": "scattermap"
        },
        {
         "customdata": [
          [
           38.1,
           16.03,
           "19:20:49.1",
           "1978/03/11"
          ],
          [
           38.39,
           15.07,
           "23:33:47.2",
           "1978/04/15"
          ],
          [
           38.48,
           14.25,
           "19:51:19.3",
           "1980/05/28"
          ]
         ],
         "hovertemplate": "<b>%{hovertext}</b><br><br>Cluster=184<br>Lat=%{customdata[0]}<br>Lon=%{customdata[1]}<br>Time=%{customdata[2]}<br>Date=%{customdata[3]}<extra></extra>",
         "hovertext": {
          "dtype": "f8",
          "bdata": "AAAAAAAAZ0AAAAAAAABnQAAAAAAAAGdA"
         },
         "lat": {
          "dtype": "f8",
          "bdata": "zczMzMwMQ0BSuB6F6zFDQD0K16NwPUNA"
         },
         "legendgroup": "184",
         "lon": {
          "dtype": "f8",
          "bdata": "SOF6FK4HMECkcD0K1yMuQAAAAAAAgCxA"
         },
         "marker": {
          "color": "#325A9B"
         },
         "mode": "markers",
         "name": "184",
         "showlegend": true,
         "subplot": "map",
         "type": "scattermap"
        },
        {
         "customdata": [
          [
           -29.12,
           -13.08,
           "11:55:27.5",
           "1978/08/15"
          ],
          [
           -29.01,
           -13.05,
           "01:05:21.1",
           "1979/11/05"
          ]
         ],
         "hovertemplate": "<b>%{hovertext}</b><br><br>Cluster=20<br>Lat=%{customdata[0]}<br>Lon=%{customdata[1]}<br>Time=%{customdata[2]}<br>Date=%{customdata[3]}<extra></extra>",
         "hovertext": {
          "dtype": "f8",
          "bdata": "AAAAAAAANEAAAAAAAAA0QA=="
         },
         "lat": {
          "dtype": "f8",
          "bdata": "H4XrUbgePcDD9ShcjwI9wA=="
         },
         "legendgroup": "20",
         "lon": {
          "dtype": "f8",
          "bdata": "KVyPwvUoKsCamZmZmRkqwA=="
         },
         "marker": {
          "color": "#FEAF16"
         },
         "mode": "markers",
         "name": "20",
         "showlegend": true,
         "subplot": "map",
         "type": "scattermap"
        },
        {
         "customdata": [
          [
           37.67,
           48.9,
           "15:22:19.0",
           "1978/11/04"
          ],
          [
           32.14,
           49.65,
           "07:05:21.0",
           "1978/12/14"
          ],
          [
           38.05,
           48.99,
           "18:35:20.0",
           "1980/05/04"
          ]
         ],
         "hovertemplate": "<b>%{hovertext}</b><br><br>Cluster=107<br>Lat=%{customdata[0]}<br>Lon=%{customdata[1]}<br>Time=%{customdata[2]}<br>Date=%{customdata[3]}<extra></extra>",
         "hovertext": {
          "dtype": "f8",
          "bdata": "AAAAAADAWkAAAAAAAMBaQAAAAAAAwFpA"
         },
         "lat": {
          "dtype": "f8",
          "bdata": "9ihcj8LVQkBSuB6F6xFAQGZmZmZmBkNA"
         },
         "legendgroup": "107",
         "lon": {
          "dtype": "f8",
          "bdata": "MzMzMzNzSEAzMzMzM9NIQB+F61G4fkhA"
         },
         "marker": {
          "color": "#F8A19F"
         },
         "mode": "markers",
         "name": "107",
         "showlegend": true,
         "subplot": "map",
         "type": "scattermap"
        },
        {
         "customdata": [
          [
           11.54,
           42.59,
           "17:05:55.2",
           "1978/11/07"
          ],
          [
           11.51,
           43.09,
           "04:03:55.7",
           "1978/12/21"
          ],
          [
           10.01,
           43.13,
           "03:30:55.6",
           "1980/05/03"
          ],
          [
           10.0,
           43.1,
           "08:02:50.4",
           "1980/05/30"
          ]
         ],
         "hovertemplate": "<b>%{hovertext}</b><br><br>Cluster=105<br>Lat=%{customdata[0]}<br>Lon=%{customdata[1]}<br>Time=%{customdata[2]}<br>Date=%{customdata[3]}<extra></extra>",
         "hovertext": {
          "dtype": "f8",
          "bdata": "AAAAAABAWkAAAAAAAEBaQAAAAAAAQFpAAAAAAABAWkA="
         },
         "lat": {
          "dtype": "f8",
          "bdata": "FK5H4XoUJ0CF61G4HgUnQIXrUbgeBSRAAAAAAAAAJEA="
         },
         "legendgroup": "105",
         "lon": {
          "dtype": "f8",
          "bdata": "7FG4HoVLRUDsUbgehYtFQHE9CtejkEVAzczMzMyMRUA="
         },
         "marker": {
          "color": "#90AD1C"
         },
         "mode": "markers",
         "name": "105",
         "showlegend": true,
         "subplot": "map",
         "type": "scattermap"
        },
        {
         "customdata": [
          [
           -35.2,
           -16.63,
           "19:33:39.9",
           "1979/01/13"
          ],
          [
           -37.37,
           -16.87,
           "12:07:38.7",
           "1981/05/17"
          ],
          [
           -35.82,
           -15.98,
           "20:26:17.4",
           "1981/07/26"
          ],
          [
           -39.4,
           -15.98,
           "11:45:11.3",
           "1982/07/23"
          ]
         ],
         "hovertemplate": "<b>%{hovertext}</b><br><br>Cluster=23<br>Lat=%{customdata[0]}<br>Lon=%{customdata[1]}<br>Time=%{customdata[2]}<br>Date=%{customdata[3]}<extra></extra>",
         "hovertext": {
          "dtype": "f8",
          "bdata": "AAAAAAAAN0AAAAAAAAA3QAAAAAAAADdAAAAAAAAAN0A="
         },
         "lat": {
          "dtype": "f8",
          "bdata": "mpmZmZmZQcCPwvUoXK9CwClcj8L16EHAMzMzMzOzQ8A="
         },
         "legendgroup": "23",
         "lon": {
          "dtype": "f8",
          "bdata": "4XoUrkehMMAfhetRuN4wwPYoXI/C9S/A9ihcj8L1L8A="
         },
         "marker": {
          "color": "#F6222E"
         },
         "mode": "markers",
         "name": "23",
         "showlegend": true,
         "subplot": "map",
         "type": "scattermap"
        },
        {
         "customdata": [
          [
           34.53,
           24.44,
           "06:59:21.2",
           "1979/05/15"
          ],
          [
           34.96,
           24.24,
           "11:34:15.6",
           "1979/06/15"
          ]
         ],
         "hovertemplate": "<b>%{hovertext}</b><br><br>Cluster=252<br>Lat=%{customdata[0]}<br>Lon=%{customdata[1]}<br>Time=%{customdata[2]}<br>Date=%{customdata[3]}<extra></extra>",
         "hovertext": {
          "dtype": "f8",
          "bdata": "AAAAAACAb0AAAAAAAIBvQA=="
         },
         "lat": {
          "dtype": "f8",
          "bdata": "pHA9CtdDQUB7FK5H4XpBQA=="
         },
         "legendgroup": "252",
         "lon": {
          "dtype": "f8",
          "bdata": "cT0K16NwOEA9CtejcD04QA=="
         },
         "marker": {
          "color": "#1CFFCE"
         },
         "mode": "markers",
         "name": "252",
         "showlegend": true,
         "subplot": "map",
         "type": "scattermap"
        },
        {
         "customdata": [
          [
           38.75,
           26.63,
           "18:42:00.3",
           "1979/06/16"
          ],
          [
           39.67,
           28.66,
           "13:12:02.5",
           "1979/07/18"
          ],
          [
           35.48,
           26.32,
           "11:41:54.6",
           "1979/07/23"
          ],
          [
           35.95,
           27.42,
           "20:12:48.1",
           "1979/08/22"
          ],
          [
           36.18,
           31.51,
           "06:21:34.3",
           "1979/12/31"
          ],
          [
           35.65,
           29.8,
           "05:30:58.1",
           "1980/05/02"
          ],
          [
           36.56,
           30.71,
           "14:13:27.6",
           "1981/04/26"
          ]
         ],
         "hovertemplate": "<b>%{hovertext}</b><br><br>Cluster=289<br>Lat=%{customdata[0]}<br>Lon=%{customdata[1]}<br>Time=%{customdata[2]}<br>Date=%{customdata[3]}<extra></extra>",
         "hovertext": {
          "dtype": "f8",
          "bdata": "AAAAAAAQckAAAAAAABByQAAAAAAAEHJAAAAAAAAQckAAAAAAABByQAAAAAAAEHJAAAAAAAAQckA="
         },
         "lat": {
          "dtype": "f8",
          "bdata": "AAAAAABgQ0D2KFyPwtVDQD0K16NwvUFAmpmZmZn5QUDXo3A9ChdCQDMzMzMz00FASOF6FK5HQkA="
         },
         "legendgroup": "289",
         "lon": {
          "dtype": "f8",
          "bdata": "4XoUrkehOkApXI/C9ag8QFK4HoXrUTpA7FG4HoVrO0DD9Shcj4I/QM3MzMzMzD1A9ihcj8K1PkA="
         },
         "marker": {
          "color": "#2ED9FF"
         },
         "mode": "markers",
         "name": "289",
         "showlegend": true,
         "subplot": "map",
         "type": "scattermap"
        },
        {
         "customdata": [
          [
           -12.6,
           41.17,
           "04:54:09.0",
           "1979/11/06"
          ],
          [
           -10.64,
           41.38,
           "20:20:20.0",
           "1982/04/29"
          ],
          [
           -15.39,
           41.39,
           "10:21:24.9",
           "1983/09/03"
          ],
          [
           -10.63,
           41.38,
           "08:32:17.5",
           "1985/05/30"
          ],
          [
           -10.62,
           41.21,
           "07:32:19.9",
           "1985/06/28"
          ]
         ],
         "hovertemplate": "<b>%{hovertext}</b><br><br>Cluster=32<br>Lat=%{customdata[0]}<br>Lon=%{customdata[1]}<br>Time=%{customdata[2]}<br>Date=%{customdata[3]}<extra></extra>",
         "hovertext": {
          "dtype": "f8",
          "bdata": "AAAAAAAAQEAAAAAAAABAQAAAAAAAAEBAAAAAAAAAQEAAAAAAAABAQA=="
         },
         "lat": {
          "dtype": "f8",
          "bdata": "MzMzMzMzKcBI4XoUrkclwEjhehSuxy7Aw/UoXI9CJcA9CtejcD0lwA=="
         },
         "legendgroup": "32",
         "lon": {
          "dtype": "f8",
          "bdata": "9ihcj8KVREBxPQrXo7BEQFK4HoXrsURAcT0K16OwREB7FK5H4ZpEQA=="
         },
         "marker": {
          "color": "#B10DA1"
         },
         "mode": "markers",
         "name": "32",
         "showlegend": true,
         "subplot": "map",
         "type": "scattermap"
        },
        {
         "customdata": [
          [
           -3.45,
           27.44,
           "14:49:59.1",
           "1980/01/09"
          ],
          [
           -2.71,
           28.46,
           "16:46:18.8",
           "1981/07/30"
          ],
          [
           -3.74,
           28.95,
           "23:21:12.0",
           "1982/07/03"
          ]
         ],
         "hovertemplate": "<b>%{hovertext}</b><br><br>Cluster=52<br>Lat=%{customdata[0]}<br>Lon=%{customdata[1]}<br>Time=%{customdata[2]}<br>Date=%{customdata[3]}<extra></extra>",
         "hovertext": {
          "dtype": "f8",
          "bdata": "AAAAAAAASkAAAAAAAABKQAAAAAAAAEpA"
         },
         "lat": {
          "dtype": "f8",
          "bdata": "mpmZmZmZC8CuR+F6FK4FwOxRuB6F6w3A"
         },
         "legendgroup": "52",
         "lon": {
          "dtype": "f8",
          "bdata": "cT0K16NwO0D2KFyPwnU8QDMzMzMz8zxA"
         },
         "marker": {
          "color": "#C075A6"
         },
         "mode": "markers",
         "name": "52",
         "showlegend": true,
         "subplot": "map",
         "type": "scattermap"
        },
        {
         "customdata": [
          [
           39.27,
           23.04,
           "02:11:52.8",
           "1980/07/09"
          ],
          [
           38.22,
           22.93,
           "20:53:38.4",
           "1981/02/24"
          ],
          [
           38.12,
           23.14,
           "02:35:53.3",
           "1981/02/25"
          ],
          [
           38.21,
           23.29,
           "21:58:05.9",
           "1981/03/04"
          ],
          [
           39.0,
           24.8,
           "17:39:16.7",
           "1981/12/27"
          ],
          [
           33.73,
           22.97,
           "22:22:21.3",
           "1982/08/17"
          ]
         ],
         "hovertemplate": "<b>%{hovertext}</b><br><br>Cluster=152<br>Lat=%{customdata[0]}<br>Lon=%{customdata[1]}<br>Time=%{customdata[2]}<br>Date=%{customdata[3]}<extra></extra>",
         "hovertext": {
          "dtype": "f8",
          "bdata": "AAAAAAAAY0AAAAAAAABjQAAAAAAAAGNAAAAAAAAAY0AAAAAAAABjQAAAAAAAAGNA"
         },
         "lat": {
          "dtype": "f8",
          "bdata": "w/UoXI+iQ0Bcj8L1KBxDQI/C9ShcD0NAexSuR+EaQ0AAAAAAAIBDQD0K16Nw3UBA"
         },
         "legendgroup": "152",
         "lon": {
          "dtype": "f8",
          "bdata": "CtejcD0KN0CuR+F6FO42QKRwPQrXIzdACtejcD1KN0DNzMzMzMw4QLgehetR+DZA"
         },
         "marker": {
          "color": "#FC1CBF"
         },
         "mode": "markers",
         "name": "152",
         "showlegend": true,
         "subplot": "map",
         "type": "scattermap"
        },
        {
         "customdata": [
          [
           39.31,
           22.92,
           "19:39:00.6",
           "1980/07/10"
          ],
          [
           39.27,
           22.66,
           "09:15:58.3",
           "1980/08/11"
          ],
          [
           38.21,
           23.13,
           "06:59:06.8",
           "1981/03/05"
          ],
          [
           38.19,
           23.32,
           "11:34:43.9",
           "1981/03/07"
          ],
          [
           39.48,
           20.7,
           "15:16:19.8",
           "1981/03/10"
          ],
          [
           37.87,
           20.12,
           "18:41:27.7",
           "1981/06/24"
          ],
          [
           37.89,
           20.07,
           "17:20:23.4",
           "1981/06/28"
          ],
          [
           38.8,
           24.77,
           "08:00:45.0",
           "1981/12/29"
          ],
          [
           37.16,
           21.27,
           "03:04:29.4",
           "1982/06/22"
          ],
          [
           34.53,
           24.38,
           "00:12:25.6",
           "1983/01/03"
          ],
          [
           38.17,
           20.23,
           "00:02:13.6",
           "1983/01/19"
          ],
          [
           38.11,
           20.3,
           "15:27:00.0",
           "1983/01/31"
          ],
          [
           37.89,
           20.1,
           "00:13:07.6",
           "1983/02/21"
          ],
          [
           35.18,
           25.36,
           "21:41:44.3",
           "1983/03/19"
          ],
          [
           38.18,
           20.32,
           "04:17:31.6",
           "1983/03/24"
          ],
          [
           38.49,
           20.36,
           "23:13:46.5",
           "1983/05/14"
          ],
          [
           35.81,
           21.91,
           "02:54:18.6",
           "1983/07/14"
          ],
          [
           36.69,
           26.96,
           "23:59:38.2",
           "1983/09/27"
          ],
          [
           38.38,
           22.07,
           "08:02:50.0",
           "1984/02/11"
          ],
          [
           38.82,
           25.66,
           "09:12:01.7",
           "1984/05/06"
          ],
          [
           35.92,
           22.52,
           "13:57:05.5",
           "1984/05/22"
          ],
          [
           35.68,
           22.2,
           "08:49:40.8",
           "1985/04/21"
          ],
          [
           34.39,
           28.3,
           "21:32:27.9",
           "1985/07/22"
          ],
          [
           37.48,
           21.24,
           "10:20:50.3",
           "1985/09/07"
          ],
          [
           34.51,
           26.59,
           "16:39:48.6",
           "1985/09/27"
          ],
          [
           38.36,
           25.15,
           "01:41:34.5",
           "1986/03/25"
          ],
          [
           34.51,
           26.59,
           "19:52:19.5",
           "1986/05/22"
          ],
          [
           36.07,
           21.51,
           "04:55:01.6",
           "1986/06/08"
          ],
          [
           34.63,
           28.36,
           "10:12:39.8",
           "1986/10/02"
          ],
          [
           37.96,
           28.59,
           "09:00:13.1",
           "1986/10/11"
          ],
          [
           35.43,
           23.43,
           "02:47:18.3",
           "1987/04/12"
          ],
          [
           37.52,
           21.56,
           "18:40:31.1",
           "1987/05/29"
          ],
          [
           37.23,
           21.45,
           "14:50:11.2",
           "1987/06/10"
          ],
          [
           36.77,
           28.13,
           "18:45:42.3",
           "1987/06/19"
          ],
          [
           32.75,
           24.37,
           "00:50:15.4",
           "1987/06/28"
          ],
          [
           34.51,
           26.65,
           "20:03:25.8",
           "1988/09/05"
          ],
          [
           35.29,
           28.67,
           "21:01:05.8",
           "1988/11/20"
          ],
          [
           37.76,
           29.44,
           "00:40:34.9",
           "1989/02/24"
          ],
          [
           34.64,
           25.59,
           "05:42:51.8",
           "1989/03/17"
          ],
          [
           34.06,
           24.68,
           "13:29:11.2",
           "1989/03/28"
          ],
          [
           37.06,
           28.29,
           "23:06:51.4",
           "1989/04/27"
          ],
          [
           37.01,
           28.25,
           "13:30:17.9",
           "1989/04/28"
          ],
          [
           38.05,
           21.63,
           "19:45:53.6",
           "1989/06/07"
          ],
          [
           34.3,
           26.1,
           "18:06:37.6",
           "1989/06/14"
          ],
          [
           37.96,
           20.21,
           "02:13:13.8",
           "1989/08/24"
          ],
          [
           34.92,
           26.26,
           "01:21:17.9",
           "1989/08/27"
          ],
          [
           34.92,
           26.75,
           "11:22:17.0",
           "1990/07/09"
          ],
          [
           37.0,
           29.64,
           "11:29:23.9",
           "1990/07/18"
          ],
          [
           36.95,
           30.92,
           "18:33:42.7",
           "1991/03/11"
          ],
          [
           34.82,
           26.28,
           "12:09:24.3",
           "1991/03/19"
          ],
          [
           38.42,
           21.17,
           "11:43:34.8",
           "1991/06/26"
          ],
          [
           35.76,
           28.64,
           "14:04:54.1",
           "1991/10/18"
          ],
          [
           36.17,
           31.81,
           "20:21:54.7",
           "1991/12/05"
          ],
          [
           38.33,
           20.32,
           "04:24:14.8",
           "1992/01/23"
          ],
          [
           36.65,
           24.53,
           "05:37:23.5",
           "1992/03/20"
          ],
          [
           39.82,
           24.39,
           "20:12:42.2",
           "1992/07/23"
          ],
          [
           37.15,
           21.44,
           "06:55:08.7",
           "1993/03/05"
          ],
          [
           38.33,
           22.09,
           "15:47:00.1",
           "1993/03/18"
          ],
          [
           37.49,
           21.49,
           "11:58:14.6",
           "1993/03/26"
          ],
          [
           39.4,
           20.51,
           "23:26:40.5",
           "1993/06/13"
          ],
          [
           38.24,
           21.78,
           "12:31:49.1",
           "1993/07/14"
          ],
          [
           38.39,
           21.99,
           "05:18:36.6",
           "1993/11/04"
          ],
          [
           35.95,
           21.91,
           "07:22:51.5",
           "1994/01/11"
          ],
          [
           39.06,
           20.52,
           "02:30:52.0",
           "1994/02/25"
          ],
          [
           37.44,
           20.58,
           "23:09:33.8",
           "1994/04/16"
          ],
          [
           37.76,
           19.86,
           "17:57:55.5",
           "1996/02/01"
          ]
         ],
         "hovertemplate": "<b>%{hovertext}</b><br><br>Cluster=288<br>Lat=%{customdata[0]}<br>Lon=%{customdata[1]}<br>Time=%{customdata[2]}<br>Date=%{customdata[3]}<extra></extra>",
         "hovertext": {
          "dtype": "f8",
          "bdata": "AAAAAAAAckAAAAAAAAByQAAAAAAAAHJAAAAAAAAAckAAAAAAAAByQAAAAAAAAHJAAAAAAAAAckAAAAAAAAByQAAAAAAAAHJAAAAAAAAAckAAAAAAAAByQAAAAAAAAHJAAAAAAAAAckAAAAAAAAByQAAAAAAAAHJAAAAAAAAAckAAAAAAAAByQAAAAAAAAHJAAAAAAAAAckAAAAAAAAByQAAAAAAAAHJAAAAAAAAAckAAAAAAAAByQAAAAAAAAHJAAAAAAAAAckAAAAAAAAByQAAAAAAAAHJAAAAAAAAAckAAAAAAAAByQAAAAAAAAHJAAAAAAAAAckAAAAAAAAByQAAAAAAAAHJAAAAAAAAAckAAAAAAAAByQAAAAAAAAHJAAAAAAAAAckAAAAAAAAByQAAAAAAAAHJAAAAAAAAAckAAAAAAAAByQAAAAAAAAHJAAAAAAAAAckAAAAAAAAByQAAAAAAAAHJAAAAAAAAAckAAAAAAAAByQAAAAAAAAHJAAAAAAAAAckAAAAAAAAByQAAAAAAAAHJAAAAAAAAAckAAAAAAAAByQAAAAAAAAHJAAAAAAAAAckAAAAAAAAByQAAAAAAAAHJAAAAAAAAAckAAAAAAAAByQAAAAAAAAHJAAAAAAAAAckAAAAAAAAByQAAAAAAAAHJAAAAAAAAAckAAAAAAAAByQAAAAAAAAHJA"
         },
         "lat": {
          "dtype": "f8",
          "bdata": "SOF6FK6nQ0DD9Shcj6JDQHsUrkfhGkNAuB6F61EYQ0A9CtejcL1DQI/C9Shc70JAUrgehevxQkBmZmZmZmZDQBSuR+F6lEJApHA9CtdDQUD2KFyPwhVDQK5H4XoUDkNAUrgehevxQkDXo3A9CpdBQNejcD0KF0NAH4XrUbg+Q0BI4XoUrudBQLgehetRWEJAcT0K16MwQ0ApXI/C9WhDQPYoXI/C9UFA16NwPQrXQUBSuB6F6zFBQD0K16NwvUJA4XoUrkdBQUCuR+F6FC5DQOF6FK5HQUFAKVyPwvUIQkBxPQrXo1BBQHsUrkfh+kJA16NwPQq3QUDD9Shcj8JCQD0K16NwnUJAw/UoXI9iQkAAAAAAAGBAQOF6FK5HQUFAhetRuB6lQUDhehSuR+FCQFK4HoXrUUFASOF6FK4HQUBI4XoUrodCQOF6FK5HgUJAZmZmZmYGQ0BmZmZmZiZBQHsUrkfh+kJA9ihcj8J1QUD2KFyPwnVBQAAAAAAAgEJAmpmZmZl5QkApXI/C9WhBQPYoXI/CNUNA4XoUrkfhQUD2KFyPwhVCQArXo3A9KkNAMzMzMzNTQkApXI/C9ehDQDMzMzMzk0JACtejcD0qQ0AfhetRuL5CQDMzMzMzs0NAH4XrUbgeQ0BSuB6F6zFDQJqZmZmZ+UFASOF6FK6HQ0C4HoXrUbhCQOF6FK5H4UJA"
         },
         "legendgroup": "288",
         "lon": {
          "dtype": "f8",
          "bdata": "7FG4HoXrNkApXI/C9ag2QOF6FK5HITdAUrgehetRN0AzMzMzM7M0QB+F61G4HjRAUrgehesRNECF61G4HsU4QIXrUbgeRTVA4XoUrkdhOEB7FK5H4To0QM3MzMzMTDRAmpmZmZkZNEBcj8L1KFw5QFK4HoXrUTRAXI/C9ShcNEApXI/C9eg1QPYoXI/C9TpAUrgehesRNkApXI/C9ag5QIXrUbgehTZAMzMzMzMzNkDNzMzMzEw8QD0K16NwPTVA16NwPQqXOkBmZmZmZiY5QNejcD0KlzpAw/UoXI+CNUBcj8L1KFw8QNejcD0KlzxArkfhehRuN0CPwvUoXI81QDMzMzMzczVA4XoUrkchPEAfhetRuF44QGZmZmZmpjpA7FG4HoWrPEBxPQrXo3A9QNejcD0KlzlArkfhehSuOEAK16NwPUo8QAAAAAAAQDxA4XoUrkehNUCamZmZmRk6QPYoXI/CNTRAw/UoXI9COkAAAAAAAMA6QKRwPQrXoz1A7FG4HoXrPkBI4XoUrkc6QOxRuB6FKzVApHA9CtejPECPwvUoXM8/QFK4HoXrUTRASOF6FK6HOECkcD0K12M4QHE9CtejcDVA16NwPQoXNkA9CtejcH01QMP1KFyPgjRASOF6FK7HNUA9CtejcP01QClcj8L16DVAhetRuB6FNEAUrkfhepQ0QFyPwvUo3DNA"
         },
         "marker": {
          "color": "#B00068"
         },
         "mode": "markers",
         "name": "288",
         "showlegend": true,
         "subplot": "map",
         "type": "scattermap"
        },
        {
         "customdata": [
          [
           37.19,
           50.2,
           "05:17:10.1",
           "1980/07/22"
          ],
          [
           34.5,
           50.59,
           "12:51:21.0",
           "1980/12/22"
          ]
         ],
         "hovertemplate": "<b>%{hovertext}</b><br><br>Cluster=126<br>Lat=%{customdata[0]}<br>Lon=%{customdata[1]}<br>Time=%{customdata[2]}<br>Date=%{customdata[3]}<extra></extra>",
         "hovertext": {
          "dtype": "f8",
          "bdata": "AAAAAACAX0AAAAAAAIBfQA=="
         },
         "lat": {
          "dtype": "f8",
          "bdata": "uB6F61GYQkAAAAAAAEBBQA=="
         },
         "legendgroup": "126",
         "lon": {
          "dtype": "f8",
          "bdata": "mpmZmZkZSUDsUbgehUtJQA=="
         },
         "marker": {
          "color": "#FBE426"
         },
         "mode": "markers",
         "name": "126",
         "showlegend": true,
         "subplot": "map",
         "type": "scattermap"
        },
        {
         "customdata": [
          [
           36.26,
           1.57,
           "06:37:39.2",
           "1980/10/13"
          ],
          [
           36.11,
           1.36,
           "07:54:18.2",
           "1980/11/08"
          ]
         ],
         "hovertemplate": "<b>%{hovertext}</b><br><br>Cluster=66<br>Lat=%{customdata[0]}<br>Lon=%{customdata[1]}<br>Time=%{customdata[2]}<br>Date=%{customdata[3]}<extra></extra>",
         "hovertext": {
          "dtype": "f8",
          "bdata": "AAAAAACAUEAAAAAAAIBQQA=="
         },
         "lat": {
          "dtype": "f8",
          "bdata": "4XoUrkchQkCuR+F6FA5CQA=="
         },
         "legendgroup": "66",
         "lon": {
          "dtype": "f8",
          "bdata": "H4XrUbge+T/D9Shcj8L1Pw=="
         },
         "marker": {
          "color": "#FA0087"
         },
         "mode": "markers",
         "name": "66",
         "showlegend": true,
         "subplot": "map",
         "type": "scattermap"
        },
        {
         "customdata": [
          [
           -6.83,
           -11.59,
           "01:32:35.7",
           "1980/10/16"
          ],
          [
           -3.21,
           -12.67,
           "16:00:45.8",
           "1980/11/01"
          ],
          [
           -6.94,
           -12.57,
           "17:15:27.8",
           "1981/08/10"
          ]
         ],
         "hovertemplate": "<b>%{hovertext}</b><br><br>Cluster=64<br>Lat=%{customdata[0]}<br>Lon=%{customdata[1]}<br>Time=%{customdata[2]}<br>Date=%{customdata[3]}<extra></extra>",
         "hovertext": {
          "dtype": "f8",
          "bdata": "AAAAAAAAUEAAAAAAAABQQAAAAAAAAFBA"
         },
         "lat": {
          "dtype": "f8",
          "bdata": "UrgehetRG8CuR+F6FK4JwMP1KFyPwhvA"
         },
         "legendgroup": "64",
         "lon": {
          "dtype": "f8",
          "bdata": "rkfhehQuJ8DXo3A9ClcpwKRwPQrXIynA"
         },
         "marker": {
          "color": "#AA0DFE"
         },
         "mode": "markers",
         "name": "64",
         "showlegend": true,
         "subplot": "map",
         "type": "scattermap"
        },
        {
         "customdata": [
          [
           32.76,
           48.57,
           "17:24:09.9",
           "1980/10/19"
          ],
          [
           34.59,
           50.65,
           "01:16:56.0",
           "1980/12/19"
          ]
         ],
         "hovertemplate": "<b>%{hovertext}</b><br><br>Cluster=117<br>Lat=%{customdata[0]}<br>Lon=%{customdata[1]}<br>Time=%{customdata[2]}<br>Date=%{customdata[3]}<extra></extra>",
         "hovertext": {
          "dtype": "f8",
          "bdata": "AAAAAABAXUAAAAAAAEBdQA=="
         },
         "lat": {
          "dtype": "f8",
          "bdata": "4XoUrkdhQEDsUbgehUtBQA=="
         },
         "legendgroup": "117",
         "lon": {
          "dtype": "f8",
          "bdata": "KVyPwvVISEAzMzMzM1NJQA=="
         },
         "marker": {
          "color": "#3283FE"
         },
         "mode": "markers",
         "name": "117",
         "showlegend": true,
         "subplot": "map",
         "type": "scattermap"
        },
        {
         "customdata": [
          [
           35.95,
           1.37,
           "13:32:05.9",
           "1980/12/05"
          ],
          [
           36.36,
           1.64,
           "04:25:14.8",
           "1981/01/15"
          ],
          [
           35.9,
           1.28,
           "13:15:14.9",
           "1981/02/14"
          ],
          [
           35.63,
           1.32,
           "20:07:47.3",
           "1982/11/15"
          ]
         ],
         "hovertemplate": "<b>%{hovertext}</b><br><br>Cluster=67<br>Lat=%{customdata[0]}<br>Lon=%{customdata[1]}<br>Time=%{customdata[2]}<br>Date=%{customdata[3]}<extra></extra>",
         "hovertext": {
          "dtype": "f8",
          "bdata": "AAAAAADAUEAAAAAAAMBQQAAAAAAAwFBAAAAAAADAUEA="
         },
         "lat": {
          "dtype": "f8",
          "bdata": "mpmZmZn5QUCuR+F6FC5CQDMzMzMz80FAcT0K16PQQUA="
         },
         "legendgroup": "67",
         "lon": {
          "dtype": "f8",
          "bdata": "7FG4HoXr9T89CtejcD36P3sUrkfhevQ/H4XrUbge9T8="
         },
         "marker": {
          "color": "#85660D"
         },
         "mode": "markers",
         "name": "67",
         "showlegend": true,
         "subplot": "map",
         "type": "scattermap"
        },
        {
         "customdata": [
          [
           36.01,
           44.67,
           "12:34:15.6",
           "1980/12/18"
          ],
          [
           37.14,
           45.23,
           "00:05:30.7",
           "1981/07/23"
          ],
          [
           38.06,
           49.33,
           "18:35:40.9",
           "1981/08/04"
          ]
         ],
         "hovertemplate": "<b>%{hovertext}</b><br><br>Cluster=127<br>Lat=%{customdata[0]}<br>Lon=%{customdata[1]}<br>Time=%{customdata[2]}<br>Date=%{customdata[3]}<extra></extra>",
         "hovertext": {
          "dtype": "f8",
          "bdata": "AAAAAADAX0AAAAAAAMBfQAAAAAAAwF9A"
         },
         "lat": {
          "dtype": "f8",
          "bdata": "4XoUrkcBQkBSuB6F65FCQEjhehSuB0NA"
         },
         "legendgroup": "127",
         "lon": {
          "dtype": "f8",
          "bdata": "9ihcj8JVRkA9CtejcJ1GQArXo3A9qkhA"
         },
         "marker": {
          "color": "#782AB6"
         },
         "mode": "markers",
         "name": "127",
         "showlegend": true,
         "subplot": "map",
         "type": "scattermap"
        },
        {
         "customdata": [
          [
           -15.7,
           -13.1,
           "08:23:06.2",
           "1981/09/04"
          ],
          [
           -14.04,
           -14.52,
           "09:24:53.5",
           "1982/06/01"
          ],
          [
           -14.21,
           -14.34,
           "19:06:13.1",
           "1983/03/04"
          ],
          [
           -12.72,
           -14.72,
           "06:34:15.3",
           "1983/09/29"
          ],
          [
           -16.37,
           -14.23,
           "06:53:31.8",
           "1983/12/20"
          ],
          [
           -7.02,
           -12.81,
           "05:22:15.7",
           "1984/07/19"
          ],
          [
           -10.17,
           -13.29,
           "03:38:41.3",
           "1984/11/02"
          ]
         ],
         "hovertemplate": "<b>%{hovertext}</b><br><br>Cluster=73<br>Lat=%{customdata[0]}<br>Lon=%{customdata[1]}<br>Time=%{customdata[2]}<br>Date=%{customdata[3]}<extra></extra>",
         "hovertext": {
          "dtype": "f8",
          "bdata": "AAAAAABAUkAAAAAAAEBSQAAAAAAAQFJAAAAAAABAUkAAAAAAAEBSQAAAAAAAQFJAAAAAAABAUkA="
         },
         "lat": {
          "dtype": "f8",
          "bdata": "ZmZmZmZmL8AUrkfhehQswOxRuB6FayzAcT0K16NwKcAfhetRuF4wwBSuR+F6FBzA16NwPQpXJMA="
         },
         "legendgroup": "73",
         "lon": {
          "dtype": "f8",
          "bdata": "MzMzMzMzKsAK16NwPQotwK5H4XoUrizAcT0K16NwLcD2KFyPwnUswB+F61G4ninAFK5H4XqUKsA="
         },
         "marker": {
          "color": "#565656"
         },
         "mode": "markers",
         "name": "73",
         "showlegend": true,
         "subplot": "map",
         "type": "scattermap"
        },
        {
         "customdata": [
          [
           23.69,
           32.6,
           "09:05:29.0",
           "1981/11/14"
          ],
          [
           39.78,
           39.52,
           "01:15:32.9",
           "1983/11/18"
          ],
          [
           25.25,
           34.57,
           "01:46:58.8",
           "1984/07/02"
          ],
          [
           32.71,
           35.16,
           "06:02:24.9",
           "1984/08/24"
          ]
         ],
         "hovertemplate": "<b>%{hovertext}</b><br><br>Cluster=71<br>Lat=%{customdata[0]}<br>Lon=%{customdata[1]}<br>Time=%{customdata[2]}<br>Date=%{customdata[3]}<extra></extra>",
         "hovertext": {
          "dtype": "f8",
          "bdata": "AAAAAADAUUAAAAAAAMBRQAAAAAAAwFFAAAAAAADAUUA="
         },
         "lat": {
          "dtype": "f8",
          "bdata": "cT0K16OwN0CkcD0K1+NDQAAAAAAAQDlAexSuR+FaQEA="
         },
         "legendgroup": "71",
         "lon": {
          "dtype": "f8",
          "bdata": "zczMzMxMQEDD9Shcj8JDQClcj8L1SEFAFK5H4XqUQUA="
         },
         "marker": {
          "color": "#1C8356"
         },
         "mode": "markers",
         "name": "71",
         "showlegend": true,
         "subplot": "map",
         "type": "scattermap"
        },
        {
         "customdata": [
          [
           39.39,
           25.09,
           "14:10:52.9",
           "1981/12/19"
          ],
          [
           38.09,
           20.19,
           "12:41:29.3",
           "1983/01/17"
          ]
         ],
         "hovertemplate": "<b>%{hovertext}</b><br><br>Cluster=99<br>Lat=%{customdata[0]}<br>Lon=%{customdata[1]}<br>Time=%{customdata[2]}<br>Date=%{customdata[3]}<extra></extra>",
         "hovertext": {
          "dtype": "f8",
          "bdata": "AAAAAADAWEAAAAAAAMBYQA=="
         },
         "lat": {
          "dtype": "f8",
          "bdata": "UrgeheuxQ0DsUbgehQtDQA=="
         },
         "legendgroup": "99",
         "lon": {
          "dtype": "f8",
          "bdata": "16NwPQoXOUBxPQrXozA0QA=="
         },
         "marker": {
          "color": "#16FF32"
         },
         "mode": "markers",
         "name": "99",
         "showlegend": true,
         "subplot": "map",
         "type": "scattermap"
        },
        {
         "customdata": [
          [
           -1.64,
           -15.61,
           "05:35:47.3",
           "1982/10/01"
          ],
          [
           0.18,
           -16.96,
           "20:36:12.8",
           "1983/09/08"
          ]
         ],
         "hovertemplate": "<b>%{hovertext}</b><br><br>Cluster=96<br>Lat=%{customdata[0]}<br>Lon=%{customdata[1]}<br>Time=%{customdata[2]}<br>Date=%{customdata[3]}<extra></extra>",
         "hovertext": {
          "dtype": "f8",
          "bdata": "AAAAAAAAWEAAAAAAAABYQA=="
         },
         "lat": {
          "dtype": "f8",
          "bdata": "PQrXo3A9+r8K16NwPQrHPw=="
         },
         "legendgroup": "96",
         "lon": {
          "dtype": "f8",
          "bdata": "uB6F61E4L8D2KFyPwvUwwA=="
         },
         "marker": {
          "color": "#F7E1A0"
         },
         "mode": "markers",
         "name": "96",
         "showlegend": true,
         "subplot": "map",
         "type": "scattermap"
        },
        {
         "customdata": [
          [
           12.08,
           46.06,
           "06:19:37.5",
           "1982/12/08"
          ],
          [
           14.65,
           44.46,
           "23:53:15.4",
           "1982/12/29"
          ],
          [
           11.52,
           43.1,
           "21:02:33.4",
           "1983/09/28"
          ],
          [
           11.81,
           43.26,
           "18:58:13.7",
           "1983/09/30"
          ],
          [
           11.8,
           43.44,
           "04:45:54.9",
           "1983/10/19"
          ],
          [
           12.13,
           43.48,
           "02:43:49.0",
           "1985/06/04"
          ]
         ],
         "hovertemplate": "<b>%{hovertext}</b><br><br>Cluster=104<br>Lat=%{customdata[0]}<br>Lon=%{customdata[1]}<br>Time=%{customdata[2]}<br>Date=%{customdata[3]}<extra></extra>",
         "hovertext": {
          "dtype": "f8",
          "bdata": "AAAAAAAAWkAAAAAAAABaQAAAAAAAAFpAAAAAAAAAWkAAAAAAAABaQAAAAAAAAFpA"
         },
         "lat": {
          "dtype": "f8",
          "bdata": "KVyPwvUoKEDNzMzMzEwtQArXo3A9CidAH4XrUbieJ0CamZmZmZknQMP1KFyPQihA"
         },
         "legendgroup": "104",
         "lon": {
          "dtype": "f8",
          "bdata": "SOF6FK4HR0B7FK5H4TpGQM3MzMzMjEVA4XoUrkehRUC4HoXrUbhFQD0K16NwvUVA"
         },
         "marker": {
          "color": "#E2E2E2"
         },
         "mode": "markers",
         "name": "104",
         "showlegend": true,
         "subplot": "map",
         "type": "scattermap"
        },
        {
         "customdata": [
          [
           -23.36,
           44.26,
           "17:37:46.9",
           "1983/01/31"
          ],
          [
           -18.26,
           44.79,
           "00:39:08.1",
           "1983/12/27"
          ],
          [
           -18.31,
           48.46,
           "15:17:06.9",
           "1985/10/04"
          ]
         ],
         "hovertemplate": "<b>%{hovertext}</b><br><br>Cluster=33<br>Lat=%{customdata[0]}<br>Lon=%{customdata[1]}<br>Time=%{customdata[2]}<br>Date=%{customdata[3]}<extra></extra>",
         "hovertext": {
          "dtype": "f8",
          "bdata": "AAAAAACAQEAAAAAAAIBAQAAAAAAAgEBA"
         },
         "lat": {
          "dtype": "f8",
          "bdata": "XI/C9ShcN8DD9Shcj0IywI/C9ShcTzLA"
         },
         "legendgroup": "33",
         "lon": {
          "dtype": "f8",
          "bdata": "4XoUrkchRkCF61G4HmVGQHsUrkfhOkhA"
         },
         "marker": {
          "color": "#1CBE4F"
         },
         "mode": "markers",
         "name": "33",
         "showlegend": true,
         "subplot": "map",
         "type": "scattermap"
        },
        {
         "customdata": [
          [
           32.51,
           49.33,
           "14:22:35.8",
           "1983/03/05"
          ],
          [
           32.58,
           48.55,
           "11:35:53.8",
           "1983/05/28"
          ]
         ],
         "hovertemplate": "<b>%{hovertext}</b><br><br>Cluster=120<br>Lat=%{customdata[0]}<br>Lon=%{customdata[1]}<br>Time=%{customdata[2]}<br>Date=%{customdata[3]}<extra></extra>",
         "hovertext": {
          "dtype": "f8",
          "bdata": "AAAAAAAAXkAAAAAAAABeQA=="
         },
         "lat": {
          "dtype": "f8",
          "bdata": "4XoUrkdBQEAK16NwPUpAQA=="
         },
         "legendgroup": "120",
         "lon": {
          "dtype": "f8",
          "bdata": "CtejcD2qSEBmZmZmZkZIQA=="
         },
         "marker": {
          "color": "#C4451C"
         },
         "mode": "markers",
         "name": "120",
         "showlegend": true,
         "subplot": "map",
         "type": "scattermap"
        },
        {
         "customdata": [
          [
           38.33,
           20.22,
           "23:51:06.3",
           "1983/03/23"
          ],
          [
           38.86,
           25.72,
           "07:48:02.6",
           "1984/06/17"
          ]
         ],
         "hovertemplate": "<b>%{hovertext}</b><br><br>Cluster=153<br>Lat=%{customdata[0]}<br>Lon=%{customdata[1]}<br>Time=%{customdata[2]}<br>Date=%{customdata[3]}<extra></extra>",
         "hovertext": {
          "dtype": "f8",
          "bdata": "AAAAAAAgY0AAAAAAACBjQA=="
         },
         "lat": {
          "dtype": "f8",
          "bdata": "CtejcD0qQ0CuR+F6FG5DQA=="
         },
         "legendgroup": "153",
         "lon": {
          "dtype": "f8",
          "bdata": "uB6F61E4NEC4HoXrUbg5QA=="
         },
         "marker": {
          "color": "#DEA0FD"
         },
         "mode": "markers",
         "name": "153",
         "showlegend": true,
         "subplot": "map",
         "type": "scattermap"
        },
        {
         "customdata": [
          [
           -7.25,
           27.86,
           "20:35:38.2",
           "1983/07/07"
          ],
          [
           -6.11,
           27.72,
           "18:40:30.4",
           "1984/01/11"
          ],
          [
           -8.62,
           32.59,
           "20:37:50.4",
           "1984/08/25"
          ],
          [
           -5.2,
           29.59,
           "21:47:59.2",
           "1986/06/29"
          ]
         ],
         "hovertemplate": "<b>%{hovertext}</b><br><br>Cluster=53<br>Lat=%{customdata[0]}<br>Lon=%{customdata[1]}<br>Time=%{customdata[2]}<br>Date=%{customdata[3]}<extra></extra>",
         "hovertext": {
          "dtype": "f8",
          "bdata": "AAAAAACASkAAAAAAAIBKQAAAAAAAgEpAAAAAAACASkA="
         },
         "lat": {
          "dtype": "f8",
          "bdata": "AAAAAAAAHcBxPQrXo3AYwD0K16NwPSHAzczMzMzMFMA="
         },
         "legendgroup": "53",
         "lon": {
          "dtype": "f8",
          "bdata": "XI/C9SjcO0C4HoXrUbg7QOxRuB6FS0BA16NwPQqXPUA="
         },
         "marker": {
          "color": "#FE00FA"
         },
         "mode": "markers",
         "name": "53",
         "showlegend": true,
         "subplot": "map",
         "type": "scattermap"
        },
        {
         "customdata": [
          [
           -7.02,
           -12.81,
           "20:40:23.3",
           "1983/09/24"
          ],
          [
           -7.24,
           -13.53,
           "14:53:17.3",
           "1983/11/17"
          ],
          [
           -5.1,
           -11.26,
           "11:14:04.6",
           "1984/06/01"
          ],
          [
           -7.06,
           -12.59,
           "03:51:47.0",
           "1984/10/21"
          ]
         ],
         "hovertemplate": "<b>%{hovertext}</b><br><br>Cluster=74<br>Lat=%{customdata[0]}<br>Lon=%{customdata[1]}<br>Time=%{customdata[2]}<br>Date=%{customdata[3]}<extra></extra>",
         "hovertext": {
          "dtype": "f8",
          "bdata": "AAAAAACAUkAAAAAAAIBSQAAAAAAAgFJAAAAAAACAUkA="
         },
         "lat": {
          "dtype": "f8",
          "bdata": "FK5H4XoUHMD2KFyPwvUcwGZmZmZmZhTAPQrXo3A9HMA="
         },
         "legendgroup": "74",
         "lon": {
          "dtype": "f8",
          "bdata": "H4XrUbieKcCPwvUoXA8rwIXrUbgehSbArkfhehQuKcA="
         },
         "marker": {
          "color": "#325A9B"
         },
         "mode": "markers",
         "name": "74",
         "showlegend": true,
         "subplot": "map",
         "type": "scattermap"
        },
        {
         "customdata": [
          [
           35.35,
           23.29,
           "10:43:40.5",
           "1984/06/21"
          ],
          [
           37.03,
           22.2,
           "17:24:33.7",
           "1986/09/13"
          ],
          [
           37.95,
           20.9,
           "12:34:06.3",
           "1988/10/16"
          ],
          [
           37.28,
           21.21,
           "18:32:30.7",
           "1989/08/20"
          ],
          [
           39.21,
           20.54,
           "02:16:21.2",
           "1990/06/16"
          ]
         ],
         "hovertemplate": "<b>%{hovertext}</b><br><br>Cluster=245<br>Lat=%{customdata[0]}<br>Lon=%{customdata[1]}<br>Time=%{customdata[2]}<br>Date=%{customdata[3]}<extra></extra>",
         "hovertext": {
          "dtype": "f8",
          "bdata": "AAAAAACgbkAAAAAAAKBuQAAAAAAAoG5AAAAAAACgbkAAAAAAAKBuQA=="
         },
         "lat": {
          "dtype": "f8",
          "bdata": "zczMzMysQUCkcD0K14NCQJqZmZmZ+UJApHA9CtejQkB7FK5H4ZpDQA=="
         },
         "legendgroup": "245",
         "lon": {
          "dtype": "f8",
          "bdata": "CtejcD1KN0AzMzMzMzM2QGZmZmZm5jRA9ihcj8I1NUAK16NwPYo0QA=="
         },
         "marker": {
          "color": "#FEAF16"
         },
         "mode": "markers",
         "name": "245",
         "showlegend": true,
         "subplot": "map",
         "type": "scattermap"
        },
        {
         "customdata": [
          [
           -16.48,
           28.66,
           "07:44:27.9",
           "1984/10/26"
          ],
          [
           -16.35,
           28.52,
           "15:07:51.2",
           "1986/07/18"
          ]
         ],
         "hovertemplate": "<b>%{hovertext}</b><br><br>Cluster=51<br>Lat=%{customdata[0]}<br>Lon=%{customdata[1]}<br>Time=%{customdata[2]}<br>Date=%{customdata[3]}<extra></extra>",
         "hovertext": {
          "dtype": "f8",
          "bdata": "AAAAAACASUAAAAAAAIBJQA=="
         },
         "lat": {
          "dtype": "f8",
          "bdata": "exSuR+F6MMCamZmZmVkwwA=="
         },
         "legendgroup": "51",
         "lon": {
          "dtype": "f8",
          "bdata": "KVyPwvWoPECF61G4HoU8QA=="
         },
         "marker": {
          "color": "#F8A19F"
         },
         "mode": "markers",
         "name": "51",
         "showlegend": true,
         "subplot": "map",
         "type": "scattermap"
        },
        {
         "customdata": [
          [
           -30.93,
           -13.51,
           "00:50:43.5",
           "1984/11/22"
          ],
          [
           -29.04,
           -13.19,
           "19:40:33.9",
           "1985/11/10"
          ],
          [
           -28.93,
           -13.11,
           "02:11:45.3",
           "1985/11/14"
          ],
          [
           -32.25,
           -13.43,
           "18:18:34.9",
           "1985/11/18"
          ],
          [
           -31.16,
           -13.46,
           "03:24:06.0",
           "1986/04/27"
          ],
          [
           -27.17,
           -11.31,
           "21:07:11.3",
           "1988/01/15"
          ],
          [
           -23.0,
           -13.6,
           "06:26:59.4",
           "1988/03/26"
          ]
         ],
         "hovertemplate": "<b>%{hovertext}</b><br><br>Cluster=28<br>Lat=%{customdata[0]}<br>Lon=%{customdata[1]}<br>Time=%{customdata[2]}<br>Date=%{customdata[3]}<extra></extra>",
         "hovertext": {
          "dtype": "f8",
          "bdata": "AAAAAAAAPEAAAAAAAAA8QAAAAAAAADxAAAAAAAAAPEAAAAAAAAA8QAAAAAAAADxAAAAAAAAAPEA="
         },
         "lat": {
          "dtype": "f8",
          "bdata": "rkfhehTuPsAK16NwPQo9wK5H4XoU7jzAAAAAAAAgQMApXI/C9Sg/wOxRuB6FKzvAAAAAAAAAN8A="
         },
         "legendgroup": "28",
         "lon": {
          "dtype": "f8",
          "bdata": "hetRuB4FK8DhehSuR2EqwLgehetROCrAXI/C9SjcKsDsUbgehesqwB+F61G4nibAMzMzMzMzK8A="
         },
         "marker": {
          "color": "#90AD1C"
         },
         "mode": "markers",
         "name": "28",
         "showlegend": true,
         "subplot": "map",
         "type": "scattermap"
        },
        {
         "customdata": [
          [
           -1.28,
           -13.98,
           "13:39:23.6",
           "1984/12/05"
          ],
          [
           -1.18,
           -14.51,
           "22:57:41.4",
           "1985/02/27"
          ]
         ],
         "hovertemplate": "<b>%{hovertext}</b><br><br>Cluster=95<br>Lat=%{customdata[0]}<br>Lon=%{customdata[1]}<br>Time=%{customdata[2]}<br>Date=%{customdata[3]}<extra></extra>",
         "hovertext": {
          "dtype": "f8",
          "bdata": "AAAAAADAV0AAAAAAAMBXQA=="
         },
         "lat": {
          "dtype": "f8",
          "bdata": "exSuR+F69L/hehSuR+Hyvw=="
         },
         "legendgroup": "95",
         "lon": {
          "dtype": "f8",
          "bdata": "9ihcj8L1K8CF61G4HgUtwA=="
         },
         "marker": {
          "color": "#F6222E"
         },
         "mode": "markers",
         "name": "95",
         "showlegend": true,
         "subplot": "map",
         "type": "scattermap"
        },
        {
         "customdata": [
          [
           31.66,
           49.94,
           "02:06:42.5",
           "1985/03/27"
          ],
          [
           31.59,
           49.44,
           "00:10:34.5",
           "1985/09/18"
          ]
         ],
         "hovertemplate": "<b>%{hovertext}</b><br><br>Cluster=230<br>Lat=%{customdata[0]}<br>Lon=%{customdata[1]}<br>Time=%{customdata[2]}<br>Date=%{customdata[3]}<extra></extra>",
         "hovertext": {
          "dtype": "f8",
          "bdata": "AAAAAADAbEAAAAAAAMBsQA=="
         },
         "lat": {
          "dtype": "f8",
          "bdata": "KVyPwvWoP0DXo3A9Cpc/QA=="
         },
         "legendgroup": "230",
         "lon": {
          "dtype": "f8",
          "bdata": "uB6F61H4SEC4HoXrUbhIQA=="
         },
         "marker": {
          "color": "#1CFFCE"
         },
         "mode": "markers",
         "name": "230",
         "showlegend": true,
         "subplot": "map",
         "type": "scattermap"
        },
        {
         "customdata": [
          [
           -35.5,
           -16.08,
           "03:41:35.4",
           "1985/04/05"
          ],
          [
           -31.58,
           -15.11,
           "04:07:24.2",
           "1988/03/25"
          ]
         ],
         "hovertemplate": "<b>%{hovertext}</b><br><br>Cluster=17<br>Lat=%{customdata[0]}<br>Lon=%{customdata[1]}<br>Time=%{customdata[2]}<br>Date=%{customdata[3]}<extra></extra>",
         "hovertext": {
          "dtype": "f8",
          "bdata": "AAAAAAAAMUAAAAAAAAAxQA=="
         },
         "lat": {
          "dtype": "f8",
          "bdata": "AAAAAADAQcAUrkfhepQ/wA=="
         },
         "legendgroup": "17",
         "lon": {
          "dtype": "f8",
          "bdata": "FK5H4XoUMMC4HoXrUTguwA=="
         },
         "marker": {
          "color": "#2ED9FF"
         },
         "mode": "markers",
         "name": "17",
         "showlegend": true,
         "subplot": "map",
         "type": "scattermap"
        },
        {
         "customdata": [
          [
           39.25,
           22.79,
           "18:14:11.6",
           "1985/04/30"
          ],
          [
           38.5,
           20.26,
           "23:34:53.1",
           "1987/02/27"
          ]
         ],
         "hovertemplate": "<b>%{hovertext}</b><br><br>Cluster=249<br>Lat=%{customdata[0]}<br>Lon=%{customdata[1]}<br>Time=%{customdata[2]}<br>Date=%{customdata[3]}<extra></extra>",
         "hovertext": {
          "dtype": "f8",
          "bdata": "AAAAAAAgb0AAAAAAACBvQA=="
         },
         "lat": {
          "dtype": "f8",
          "bdata": "AAAAAACgQ0AAAAAAAEBDQA=="
         },
         "legendgroup": "249",
         "lon": {
          "dtype": "f8",
          "bdata": "CtejcD3KNkDD9Shcj0I0QA=="
         },
         "marker": {
          "color": "#B10DA1"
         },
         "mode": "markers",
         "name": "249",
         "showlegend": true,
         "subplot": "map",
         "type": "scattermap"
        },
        {
         "customdata": [
          [
           -10.59,
           41.37,
           "13:24:57.8",
           "1985/05/14"
          ],
          [
           -10.49,
           41.43,
           "18:11:09.1",
           "1985/05/14"
          ]
         ],
         "hovertemplate": "<b>%{hovertext}</b><br><br>Cluster=24<br>Lat=%{customdata[0]}<br>Lon=%{customdata[1]}<br>Time=%{customdata[2]}<br>Date=%{customdata[3]}<extra></extra>",
         "hovertext": {
          "dtype": "f8",
          "bdata": "AAAAAAAAOEAAAAAAAAA4QA=="
         },
         "lat": {
          "dtype": "f8",
          "bdata": "rkfhehQuJcB7FK5H4fokwA=="
         },
         "legendgroup": "24",
         "lon": {
          "dtype": "f8",
          "bdata": "j8L1KFyvREDXo3A9CrdEQA=="
         },
         "marker": {
          "color": "#C075A6"
         },
         "mode": "markers",
         "name": "24",
         "showlegend": true,
         "subplot": "map",
         "type": "scattermap"
        },
        {
         "customdata": [
          [
           5.53,
           36.04,
           "05:46:00.7",
           "1985/08/20"
          ],
          [
           6.35,
           35.88,
           "22:29:29.4",
           "1987/10/07"
          ],
          [
           5.72,
           36.69,
           "08:58:29.2",
           "1987/10/28"
          ],
          [
           6.8,
           37.85,
           "06:24:08.1",
           "1989/06/08"
          ]
         ],
         "hovertemplate": "<b>%{hovertext}</b><br><br>Cluster=113<br>Lat=%{customdata[0]}<br>Lon=%{customdata[1]}<br>Time=%{customdata[2]}<br>Date=%{customdata[3]}<extra></extra>",
         "hovertext": {
          "dtype": "f8",
          "bdata": "AAAAAABAXEAAAAAAAEBcQAAAAAAAQFxAAAAAAABAXEA="
         },
         "lat": {
          "dtype": "f8",
          "bdata": "H4XrUbgeFkBmZmZmZmYZQOF6FK5H4RZAMzMzMzMzG0A="
         },
         "legendgroup": "113",
         "lon": {
          "dtype": "f8",
          "bdata": "hetRuB4FQkBxPQrXo/BBQLgehetRWEJAzczMzMzsQkA="
         },
         "marker": {
          "color": "#FC1CBF"
         },
         "mode": "markers",
         "name": "113",
         "showlegend": true,
         "subplot": "map",
         "type": "scattermap"
        },
        {
         "customdata": [
          [
           -17.77,
           -13.7,
           "17:28:41.8",
           "1985/09/23"
          ],
          [
           -14.97,
           -15.51,
           "00:13:13.1",
           "1987/04/14"
          ]
         ],
         "hovertemplate": "<b>%{hovertext}</b><br><br>Cluster=70<br>Lat=%{customdata[0]}<br>Lon=%{customdata[1]}<br>Time=%{customdata[2]}<br>Date=%{customdata[3]}<extra></extra>",
         "hovertext": {
          "dtype": "f8",
          "bdata": "AAAAAACAUUAAAAAAAIBRQA=="
         },
         "lat": {
          "dtype": "f8",
          "bdata": "hetRuB7FMcBxPQrXo/AtwA=="
         },
         "legendgroup": "70",
         "lon": {
          "dtype": "f8",
          "bdata": "ZmZmZmZmK8CF61G4HgUvwA=="
         },
         "marker": {
          "color": "#B00068"
         },
         "mode": "markers",
         "name": "70",
         "showlegend": true,
         "subplot": "map",
         "type": "scattermap"
        },
        {
         "customdata": [
          [
           36.4,
           6.75,
           "19:34:57.0",
           "1985/10/27"
          ],
          [
           36.35,
           2.73,
           "10:12:57.8",
           "1988/10/31"
          ],
          [
           36.79,
           2.45,
           "19:09:13.4",
           "1989/10/29"
          ]
         ],
         "hovertemplate": "<b>%{hovertext}</b><br><br>Cluster=35<br>Lat=%{customdata[0]}<br>Lon=%{customdata[1]}<br>Time=%{customdata[2]}<br>Date=%{customdata[3]}<extra></extra>",
         "hovertext": {
          "dtype": "f8",
          "bdata": "AAAAAACAQUAAAAAAAIBBQAAAAAAAgEFA"
         },
         "lat": {
          "dtype": "f8",
          "bdata": "MzMzMzMzQkDNzMzMzCxCQIXrUbgeZUJA"
         },
         "legendgroup": "35",
         "lon": {
          "dtype": "f8",
          "bdata": "AAAAAAAAG0DXo3A9CtcFQJqZmZmZmQNA"
         },
         "marker": {
          "color": "#FBE426"
         },
         "mode": "markers",
         "name": "35",
         "showlegend": true,
         "subplot": "map",
         "type": "scattermap"
        },
        {
         "customdata": [
          [
           -39.72,
           -15.94,
           "14:01:20.2",
           "1985/11/29"
          ],
          [
           -35.24,
           -15.67,
           "23:05:16.1",
           "1988/07/06"
          ],
          [
           -39.04,
           -15.98,
           "10:07:45.2",
           "1988/08/05"
          ]
         ],
         "hovertemplate": "<b>%{hovertext}</b><br><br>Cluster=30<br>Lat=%{customdata[0]}<br>Lon=%{customdata[1]}<br>Time=%{customdata[2]}<br>Date=%{customdata[3]}<extra></extra>",
         "hovertext": {
          "dtype": "f8",
          "bdata": "AAAAAAAAPkAAAAAAAAA+QAAAAAAAAD5A"
         },
         "lat": {
          "dtype": "f8",
          "bdata": "XI/C9SjcQ8AfhetRuJ5BwIXrUbgehUPA"
         },
         "legendgroup": "30",
         "lon": {
          "dtype": "f8",
          "bdata": "4XoUrkfhL8DXo3A9ClcvwPYoXI/C9S/A"
         },
         "marker": {
          "color": "#FA0087"
         },
         "mode": "markers",
         "name": "30",
         "showlegend": true,
         "subplot": "map",
         "type": "scattermap"
        },
        {
         "customdata": [
          [
           -10.73,
           27.73,
           "04:15:58.1",
           "1986/03/14"
          ],
          [
           -10.35,
           27.66,
           "21:17:09.3",
           "1988/04/16"
          ]
         ],
         "hovertemplate": "<b>%{hovertext}</b><br><br>Cluster=50<br>Lat=%{customdata[0]}<br>Lon=%{customdata[1]}<br>Time=%{customdata[2]}<br>Date=%{customdata[3]}<extra></extra>",
         "hovertext": {
          "dtype": "f8",
          "bdata": "AAAAAAAASUAAAAAAAABJQA=="
         },
         "lat": {
          "dtype": "f8",
          "bdata": "9ihcj8J1JcAzMzMzM7MkwA=="
         },
         "legendgroup": "50",
         "lon": {
          "dtype": "f8",
          "bdata": "exSuR+G6O0ApXI/C9ag7QA=="
         },
         "marker": {
          "color": "#AA0DFE"
         },
         "mode": "markers",
         "name": "50",
         "showlegend": true,
         "subplot": "map",
         "type": "scattermap"
        },
        {
         "customdata": [
          [
           37.97,
           37.77,
           "03:35:38.8",
           "1986/05/05"
          ],
          [
           37.97,
           37.88,
           "10:39:46.7",
           "1986/06/06"
          ]
         ],
         "hovertemplate": "<b>%{hovertext}</b><br><br>Cluster=65<br>Lat=%{customdata[0]}<br>Lon=%{customdata[1]}<br>Time=%{customdata[2]}<br>Date=%{customdata[3]}<extra></extra>",
         "hovertext": {
          "dtype": "f8",
          "bdata": "AAAAAABAUEAAAAAAAEBQQA=="
         },
         "lat": {
          "dtype": "f8",
          "bdata": "XI/C9Sj8QkBcj8L1KPxCQA=="
         },
         "legendgroup": "65",
         "lon": {
          "dtype": "f8",
          "bdata": "w/UoXI/iQkBxPQrXo/BCQA=="
         },
         "marker": {
          "color": "#3283FE"
         },
         "mode": "markers",
         "name": "65",
         "showlegend": true,
         "subplot": "map",
         "type": "scattermap"
        },
        {
         "customdata": [
          [
           -38.91,
           47.34,
           "00:01:17.3",
           "1987/04/28"
          ],
          [
           -37.43,
           50.91,
           "20:55:28.3",
           "1989/02/21"
          ],
          [
           -37.83,
           50.01,
           "01:32:48.2",
           "1989/04/08"
          ]
         ],
         "hovertemplate": "<b>%{hovertext}</b><br><br>Cluster=5<br>Lat=%{customdata[0]}<br>Lon=%{customdata[1]}<br>Time=%{customdata[2]}<br>Date=%{customdata[3]}<extra></extra>",
         "hovertext": {
          "dtype": "f8",
          "bdata": "AAAAAAAAFEAAAAAAAAAUQAAAAAAAABRA"
         },
         "lat": {
          "dtype": "f8",
          "bdata": "FK5H4Xp0Q8DXo3A9CrdCwArXo3A96kLA"
         },
         "legendgroup": "5",
         "lon": {
          "dtype": "f8",
          "bdata": "7FG4HoWrR0AUrkfhenRJQOF6FK5HAUlA"
         },
         "marker": {
          "color": "#85660D"
         },
         "mode": "markers",
         "name": "5",
         "showlegend": true,
         "subplot": "map",
         "type": "scattermap"
        },
        {
         "customdata": [
          [
           -1.55,
           -12.69,
           "10:59:35.8",
           "1987/06/30"
          ],
          [
           -1.1,
           -13.9,
           "01:58:49.0",
           "1988/02/22"
          ],
          [
           -1.28,
           -14.52,
           "03:00:36.5",
           "1988/09/30"
          ],
          [
           -1.31,
           -15.02,
           "05:30:51.9",
           "1988/11/21"
          ],
          [
           -1.63,
           -13.06,
           "06:50:39.0",
           "1989/03/31"
          ]
         ],
         "hovertemplate": "<b>%{hovertext}</b><br><br>Cluster=93<br>Lat=%{customdata[0]}<br>Lon=%{customdata[1]}<br>Time=%{customdata[2]}<br>Date=%{customdata[3]}<extra></extra>",
         "hovertext": {
          "dtype": "f8",
          "bdata": "AAAAAABAV0AAAAAAAEBXQAAAAAAAQFdAAAAAAABAV0AAAAAAAEBXQA=="
         },
         "lat": {
          "dtype": "f8",
          "bdata": "zczMzMzM+L+amZmZmZnxv3sUrkfhevS/9ihcj8L19L8UrkfhehT6vw=="
         },
         "legendgroup": "93",
         "lon": {
          "dtype": "f8",
          "bdata": "4XoUrkdhKcDNzMzMzMwrwArXo3A9Ci3ACtejcD0KLsAfhetRuB4qwA=="
         },
         "marker": {
          "color": "#782AB6"
         },
         "mode": "markers",
         "name": "93",
         "showlegend": true,
         "subplot": "map",
         "type": "scattermap"
        },
        {
         "customdata": [
          [
           5.41,
           36.73,
           "16:46:12.9",
           "1987/10/25"
          ],
          [
           5.04,
           32.11,
           "02:21:59.7",
           "1990/05/20"
          ],
          [
           5.29,
           31.86,
           "19:34:43.4",
           "1990/05/24"
          ],
          [
           5.34,
           31.91,
           "20:00:07.0",
           "1990/05/24"
          ],
          [
           5.36,
           31.66,
           "15:11:19.5",
           "1990/07/09"
          ]
         ],
         "hovertemplate": "<b>%{hovertext}</b><br><br>Cluster=49<br>Lat=%{customdata[0]}<br>Lon=%{customdata[1]}<br>Time=%{customdata[2]}<br>Date=%{customdata[3]}<extra></extra>",
         "hovertext": {
          "dtype": "f8",
          "bdata": "AAAAAACASEAAAAAAAIBIQAAAAAAAgEhAAAAAAACASEAAAAAAAIBIQA=="
         },
         "lat": {
          "dtype": "f8",
          "bdata": "pHA9CtejFUApXI/C9SgUQClcj8L1KBVAXI/C9ShcFUBxPQrXo3AVQA=="
         },
         "legendgroup": "49",
         "lon": {
          "dtype": "f8",
          "bdata": "PQrXo3BdQkCuR+F6FA5AQFyPwvUo3D9AKVyPwvXoP0ApXI/C9ag/QA=="
         },
         "marker": {
          "color": "#565656"
         },
         "mode": "markers",
         "name": "49",
         "showlegend": true,
         "subplot": "map",
         "type": "scattermap"
        },
        {
         "customdata": [
          [
           32.65,
           47.06,
           "09:34:48.4",
           "1988/01/26"
          ],
          [
           32.6,
           47.79,
           "21:24:36.8",
           "1989/04/02"
          ],
          [
           32.82,
           48.31,
           "13:56:59.9",
           "1990/10/11"
          ],
          [
           30.62,
           50.18,
           "01:50:30.8",
           "1991/11/04"
          ],
          [
           30.22,
           50.86,
           "16:32:44.0",
           "1993/06/22"
          ],
          [
           32.55,
           48.35,
           "05:15:40.1",
           "1994/07/31"
          ]
         ],
         "hovertemplate": "<b>%{hovertext}</b><br><br>Cluster=236<br>Lat=%{customdata[0]}<br>Lon=%{customdata[1]}<br>Time=%{customdata[2]}<br>Date=%{customdata[3]}<extra></extra>",
         "hovertext": {
          "dtype": "f8",
          "bdata": "AAAAAACAbUAAAAAAAIBtQAAAAAAAgG1AAAAAAACAbUAAAAAAAIBtQAAAAAAAgG1A"
         },
         "lat": {
          "dtype": "f8",
          "bdata": "MzMzMzNTQEDNzMzMzExAQClcj8L1aEBAH4XrUbiePkC4HoXrUTg+QGZmZmZmRkBA"
         },
         "legendgroup": "236",
         "lon": {
          "dtype": "f8",
          "bdata": "SOF6FK6HR0CF61G4HuVHQEjhehSuJ0hA16NwPQoXSUCuR+F6FG5JQM3MzMzMLEhA"
         },
         "marker": {
          "color": "#1C8356"
         },
         "mode": "markers",
         "name": "236",
         "showlegend": true,
         "subplot": "map",
         "type": "scattermap"
        },
        {
         "customdata": [
          [
           -37.22,
           47.81,
           "13:42:27.1",
           "1988/02/26"
          ],
          [
           -37.14,
           47.75,
           "17:52:34.8",
           "1988/02/26"
          ],
          [
           -37.45,
           48.0,
           "02:36:59.0",
           "1988/03/11"
          ]
         ],
         "hovertemplate": "<b>%{hovertext}</b><br><br>Cluster=8<br>Lat=%{customdata[0]}<br>Lon=%{customdata[1]}<br>Time=%{customdata[2]}<br>Date=%{customdata[3]}<extra></extra>",
         "hovertext": {
          "dtype": "f8",
          "bdata": "AAAAAAAAIEAAAAAAAAAgQAAAAAAAACBA"
         },
         "lat": {
          "dtype": "f8",
          "bdata": "XI/C9SicQsBSuB6F65FCwJqZmZmZuULA"
         },
         "legendgroup": "8",
         "lon": {
          "dtype": "f8",
          "bdata": "SOF6FK7nR0AAAAAAAOBHQAAAAAAAAEhA"
         },
         "marker": {
          "color": "#16FF32"
         },
         "mode": "markers",
         "name": "8",
         "showlegend": true,
         "subplot": "map",
         "type": "scattermap"
        },
        {
         "customdata": [
          [
           33.2,
           13.34,
           "12:07:29.6",
           "1988/03/26"
          ],
          [
           35.5,
           11.66,
           "16:52:19.0",
           "1989/01/03"
          ],
          [
           33.94,
           12.04,
           "11:57:37.5",
           "1990/11/11"
          ],
          [
           35.0,
           12.4,
           "16:02:32.1",
           "1993/09/10"
          ],
          [
           35.33,
           8.25,
           "11:20:10.2",
           "1995/09/22"
          ]
         ],
         "hovertemplate": "<b>%{hovertext}</b><br><br>Cluster=91<br>Lat=%{customdata[0]}<br>Lon=%{customdata[1]}<br>Time=%{customdata[2]}<br>Date=%{customdata[3]}<extra></extra>",
         "hovertext": {
          "dtype": "f8",
          "bdata": "AAAAAADAVkAAAAAAAMBWQAAAAAAAwFZAAAAAAADAVkAAAAAAAMBWQA=="
         },
         "lat": {
          "dtype": "f8",
          "bdata": "mpmZmZmZQEAAAAAAAMBBQLgehetR+EBAAAAAAACAQUAK16NwPapBQA=="
         },
         "legendgroup": "91",
         "lon": {
          "dtype": "f8",
          "bdata": "rkfhehSuKkBSuB6F61EnQBSuR+F6FChAzczMzMzMKEAAAAAAAIAgQA=="
         },
         "marker": {
          "color": "#F7E1A0"
         },
         "mode": "markers",
         "name": "91",
         "showlegend": true,
         "subplot": "map",
         "type": "scattermap"
        },
        {
         "customdata": [
          [
           30.88,
           50.2,
           "02:12:42.8",
           "1988/03/30"
          ],
          [
           30.18,
           50.95,
           "20:08:37.2",
           "1989/05/27"
          ]
         ],
         "hovertemplate": "<b>%{hovertext}</b><br><br>Cluster=229<br>Lat=%{customdata[0]}<br>Lon=%{customdata[1]}<br>Time=%{customdata[2]}<br>Date=%{customdata[3]}<extra></extra>",
         "hovertext": {
          "dtype": "f8",
          "bdata": "AAAAAACgbEAAAAAAAKBsQA=="
         },
         "lat": {
          "dtype": "f8",
          "bdata": "4XoUrkfhPkCuR+F6FC4+QA=="
         },
         "legendgroup": "229",
         "lon": {
          "dtype": "f8",
          "bdata": "mpmZmZkZSUCamZmZmXlJQA=="
         },
         "marker": {
          "color": "#E2E2E2"
         },
         "mode": "markers",
         "name": "229",
         "showlegend": true,
         "subplot": "map",
         "type": "scattermap"
        },
        {
         "customdata": [
          [
           39.05,
           44.06,
           "03:50:09.1",
           "1988/04/20"
          ],
          [
           39.58,
           40.21,
           "20:44:00.5",
           "1989/05/20"
          ],
          [
           39.98,
           40.09,
           "23:30:03.1",
           "1990/04/20"
          ],
          [
           37.21,
           36.01,
           "01:08:42.5",
           "1991/04/10"
          ],
          [
           38.68,
           40.13,
           "19:15:02.3",
           "1992/05/07"
          ]
         ],
         "hovertemplate": "<b>%{hovertext}</b><br><br>Cluster=251<br>Lat=%{customdata[0]}<br>Lon=%{customdata[1]}<br>Time=%{customdata[2]}<br>Date=%{customdata[3]}<extra></extra>",
         "hovertext": {
          "dtype": "f8",
          "bdata": "AAAAAABgb0AAAAAAAGBvQAAAAAAAYG9AAAAAAABgb0AAAAAAAGBvQA=="
         },
         "lat": {
          "dtype": "f8",
          "bdata": "ZmZmZmaGQ0AK16NwPcpDQD0K16Nw/UNAexSuR+GaQkDXo3A9CldDQA=="
         },
         "legendgroup": "251",
         "lon": {
          "dtype": "f8",
          "bdata": "SOF6FK4HRkB7FK5H4RpEQOxRuB6FC0RA4XoUrkcBQkBxPQrXoxBEQA=="
         },
         "marker": {
          "color": "#1CBE4F"
         },
         "mode": "markers",
         "name": "251",
         "showlegend": true,
         "subplot": "map",
         "type": "scattermap"
        },
        {
         "customdata": [
          [
           38.42,
           20.47,
           "05:17:43.4",
           "1988/05/18"
          ],
          [
           39.27,
           23.51,
           "05:36:59.2",
           "1989/03/19"
          ]
         ],
         "hovertemplate": "<b>%{hovertext}</b><br><br>Cluster=250<br>Lat=%{customdata[0]}<br>Lon=%{customdata[1]}<br>Time=%{customdata[2]}<br>Date=%{customdata[3]}<extra></extra>",
         "hovertext": {
          "dtype": "f8",
          "bdata": "AAAAAABAb0AAAAAAAEBvQA=="
         },
         "lat": {
          "dtype": "f8",
          "bdata": "9ihcj8I1Q0DD9Shcj6JDQA=="
         },
         "legendgroup": "250",
         "lon": {
          "dtype": "f8",
          "bdata": "uB6F61F4NEDD9Shcj4I3QA=="
         },
         "marker": {
          "color": "#C4451C"
         },
         "mode": "markers",
         "name": "250",
         "showlegend": true,
         "subplot": "map",
         "type": "scattermap"
        },
        {
         "customdata": [
          [
           -12.56,
           -14.82,
           "21:58:34.8",
           "1988/09/20"
          ],
          [
           -11.52,
           -14.33,
           "20:17:57.7",
           "1989/08/08"
          ]
         ],
         "hovertemplate": "<b>%{hovertext}</b><br><br>Cluster=92<br>Lat=%{customdata[0]}<br>Lon=%{customdata[1]}<br>Time=%{customdata[2]}<br>Date=%{customdata[3]}<extra></extra>",
         "hovertext": {
          "dtype": "f8",
          "bdata": "AAAAAAAAV0AAAAAAAABXQA=="
         },
         "lat": {
          "dtype": "f8",
          "bdata": "H4XrUbgeKcAK16NwPQonwA=="
         },
         "legendgroup": "92",
         "lon": {
          "dtype": "f8",
          "bdata": "pHA9CtejLcApXI/C9agswA=="
         },
         "marker": {
          "color": "#DEA0FD"
         },
         "mode": "markers",
         "name": "92",
         "showlegend": true,
         "subplot": "map",
         "type": "scattermap"
        },
        {
         "customdata": [
          [
           -1.44,
           -15.2,
           "19:42:31.3",
           "1988/12/06"
          ],
          [
           0.07,
           -16.7,
           "15:51:52.2",
           "1989/02/04"
          ],
          [
           -1.61,
           -15.49,
           "09:46:39.6",
           "1989/07/09"
          ],
          [
           -1.44,
           -15.53,
           "15:43:18.5",
           "1989/07/14"
          ]
         ],
         "hovertemplate": "<b>%{hovertext}</b><br><br>Cluster=84<br>Lat=%{customdata[0]}<br>Lon=%{customdata[1]}<br>Time=%{customdata[2]}<br>Date=%{customdata[3]}<extra></extra>",
         "hovertext": {
          "dtype": "f8",
          "bdata": "AAAAAAAAVUAAAAAAAABVQAAAAAAAAFVAAAAAAAAAVUA="
         },
         "lat": {
          "dtype": "f8",
          "bdata": "CtejcD0K97/sUbgeheuxP8P1KFyPwvm/CtejcD0K978="
         },
         "legendgroup": "84",
         "lon": {
          "dtype": "f8",
          "bdata": "ZmZmZmZmLsAzMzMzM7MwwHsUrkfh+i7Aj8L1KFwPL8A="
         },
         "marker": {
          "color": "#FE00FA"
         },
         "mode": "markers",
         "name": "84",
         "showlegend": true,
         "subplot": "map",
         "type": "scattermap"
        },
        {
         "customdata": [
          [
           16.33,
           41.08,
           "17:33:19.5",
           "1988/12/10"
          ],
          [
           13.37,
           39.83,
           "12:17:32.0",
           "1989/04/13"
          ],
          [
           11.79,
           41.81,
           "18:39:47.9",
           "1989/08/20"
          ],
          [
           11.92,
           41.71,
           "05:05:45.9",
           "1989/08/21"
          ],
          [
           11.84,
           41.73,
           "07:07:38.6",
           "1989/08/21"
          ]
         ],
         "hovertemplate": "<b>%{hovertext}</b><br><br>Cluster=118<br>Lat=%{customdata[0]}<br>Lon=%{customdata[1]}<br>Time=%{customdata[2]}<br>Date=%{customdata[3]}<extra></extra>",
         "hovertext": {
          "dtype": "f8",
          "bdata": "AAAAAACAXUAAAAAAAIBdQAAAAAAAgF1AAAAAAACAXUAAAAAAAIBdQA=="
         },
         "lat": {
          "dtype": "f8",
          "bdata": "FK5H4XpUMEA9CtejcL0qQBSuR+F6lCdA16NwPQrXJ0CuR+F6FK4nQA=="
         },
         "legendgroup": "118",
         "lon": {
          "dtype": "f8",
          "bdata": "CtejcD2KREAK16NwPepDQEjhehSu50RAexSuR+HaREA9CtejcN1EQA=="
         },
         "marker": {
          "color": "#325A9B"
         },
         "mode": "markers",
         "name": "118",
         "showlegend": true,
         "subplot": "map",
         "type": "scattermap"
        },
        {
         "customdata": [
          [
           -39.23,
           46.07,
           "17:55:48.3",
           "1989/02/19"
          ],
          [
           -37.36,
           47.87,
           "06:52:11.5",
           "1990/05/14"
          ]
         ],
         "hovertemplate": "<b>%{hovertext}</b><br><br>Cluster=7<br>Lat=%{customdata[0]}<br>Lon=%{customdata[1]}<br>Time=%{customdata[2]}<br>Date=%{customdata[3]}<extra></extra>",
         "hovertext": {
          "dtype": "f8",
          "bdata": "AAAAAAAAHEAAAAAAAAAcQA=="
         },
         "lat": {
          "dtype": "f8",
          "bdata": "PQrXo3CdQ8CuR+F6FK5CwA=="
         },
         "legendgroup": "7",
         "lon": {
          "dtype": "f8",
          "bdata": "KVyPwvUIR0CPwvUoXO9HQA=="
         },
         "marker": {
          "color": "#FEAF16"
         },
         "mode": "markers",
         "name": "7",
         "showlegend": true,
         "subplot": "map",
         "type": "scattermap"
        },
        {
         "customdata": [
          [
           -13.76,
           34.32,
           "02:37:00.6",
           "1989/03/09"
          ],
          [
           -13.78,
           34.34,
           "21:49:45.9",
           "1989/03/10"
          ]
         ],
         "hovertemplate": "<b>%{hovertext}</b><br><br>Cluster=31<br>Lat=%{customdata[0]}<br>Lon=%{customdata[1]}<br>Time=%{customdata[2]}<br>Date=%{customdata[3]}<extra></extra>",
         "hovertext": {
          "dtype": "f8",
          "bdata": "AAAAAAAAP0AAAAAAAAA/QA=="
         },
         "lat": {
          "dtype": "f8",
          "bdata": "hetRuB6FK8CPwvUoXI8rwA=="
         },
         "legendgroup": "31",
         "lon": {
          "dtype": "f8",
          "bdata": "KVyPwvUoQUDsUbgehStBQA=="
         },
         "marker": {
          "color": "#F8A19F"
         },
         "mode": "markers",
         "name": "31",
         "showlegend": true,
         "subplot": "map",
         "type": "scattermap"
        },
        {
         "customdata": [
          [
           -7.31,
           -12.7,
           "17:18:36.9",
           "1989/08/12"
          ],
          [
           -6.98,
           -12.68,
           "16:59:48.9",
           "1991/08/29"
          ],
          [
           -7.8,
           -13.61,
           "16:34:47.1",
           "1992/03/12"
          ]
         ],
         "hovertemplate": "<b>%{hovertext}</b><br><br>Cluster=101<br>Lat=%{customdata[0]}<br>Lon=%{customdata[1]}<br>Time=%{customdata[2]}<br>Date=%{customdata[3]}<extra></extra>",
         "hovertext": {
          "dtype": "f8",
          "bdata": "AAAAAABAWUAAAAAAAEBZQAAAAAAAQFlA"
         },
         "lat": {
          "dtype": "f8",
          "bdata": "PQrXo3A9HcDsUbgehesbwDMzMzMzMx/A"
         },
         "legendgroup": "101",
         "lon": {
          "dtype": "f8",
          "bdata": "ZmZmZmZmKcBcj8L1KFwpwLgehetROCvA"
         },
         "marker": {
          "color": "#90AD1C"
         },
         "mode": "markers",
         "name": "101",
         "showlegend": true,
         "subplot": "map",
         "type": "scattermap"
        },
        {
         "customdata": [
          [
           11.75,
           41.94,
           "11:16:56.1",
           "1989/08/20"
          ],
          [
           11.9,
           41.82,
           "19:25:56.1",
           "1989/08/20"
          ],
          [
           11.87,
           41.84,
           "01:09:05.7",
           "1989/08/21"
          ],
          [
           11.51,
           42.81,
           "08:55:06.5",
           "1992/03/05"
          ]
         ],
         "hovertemplate": "<b>%{hovertext}</b><br><br>Cluster=123<br>Lat=%{customdata[0]}<br>Lon=%{customdata[1]}<br>Time=%{customdata[2]}<br>Date=%{customdata[3]}<extra></extra>",
         "hovertext": {
          "dtype": "f8",
          "bdata": "AAAAAADAXkAAAAAAAMBeQAAAAAAAwF5AAAAAAADAXkA="
         },
         "lat": {
          "dtype": "f8",
          "bdata": "AAAAAACAJ0DNzMzMzMwnQD0K16NwvSdAhetRuB4FJ0A="
         },
         "legendgroup": "123",
         "lon": {
          "dtype": "f8",
          "bdata": "uB6F61H4REApXI/C9ehEQOxRuB6F60RASOF6FK5nRUA="
         },
         "marker": {
          "color": "#F6222E"
         },
         "mode": "markers",
         "name": "123",
         "showlegend": true,
         "subplot": "map",
         "type": "scattermap"
        },
        {
         "customdata": [
          [
           11.86,
           41.9,
           "11:46:27.9",
           "1989/08/20"
          ],
          [
           11.95,
           41.75,
           "05:03:05.7",
           "1989/08/21"
          ]
         ],
         "hovertemplate": "<b>%{hovertext}</b><br><br>Cluster=122<br>Lat=%{customdata[0]}<br>Lon=%{customdata[1]}<br>Time=%{customdata[2]}<br>Date=%{customdata[3]}<extra></extra>",
         "hovertext": {
          "dtype": "f8",
          "bdata": "AAAAAACAXkAAAAAAAIBeQA=="
         },
         "lat": {
          "dtype": "f8",
          "bdata": "uB6F61G4J0BmZmZmZuYnQA=="
         },
         "legendgroup": "122",
         "lon": {
          "dtype": "f8",
          "bdata": "MzMzMzPzREAAAAAAAOBEQA=="
         },
         "marker": {
          "color": "#1CFFCE"
         },
         "mode": "markers",
         "name": "122",
         "showlegend": true,
         "subplot": "map",
         "type": "scattermap"
        },
        {
         "customdata": [
          [
           -11.8,
           34.46,
           "20:49:34.1",
           "1989/09/05"
          ],
          [
           -21.37,
           33.15,
           "00:31:29.3",
           "1990/11/03"
          ],
          [
           -18.41,
           34.69,
           "13:54:51.6",
           "1991/07/24"
          ]
         ],
         "hovertemplate": "<b>%{hovertext}</b><br><br>Cluster=63<br>Lat=%{customdata[0]}<br>Lon=%{customdata[1]}<br>Time=%{customdata[2]}<br>Date=%{customdata[3]}<extra></extra>",
         "hovertext": {
          "dtype": "f8",
          "bdata": "AAAAAACAT0AAAAAAAIBPQAAAAAAAgE9A"
         },
         "lat": {
          "dtype": "f8",
          "bdata": "mpmZmZmZJ8AfhetRuF41wClcj8L1aDLA"
         },
         "legendgroup": "63",
         "lon": {
          "dtype": "f8",
          "bdata": "exSuR+E6QUAzMzMzM5NAQLgehetRWEFA"
         },
         "marker": {
          "color": "#2ED9FF"
         },
         "mode": "markers",
         "name": "63",
         "showlegend": true,
         "subplot": "map",
         "type": "scattermap"
        },
        {
         "customdata": [
          [
           -32.48,
           -14.29,
           "04:03:03.3",
           "1989/09/16"
          ],
          [
           -35.09,
           -16.21,
           "05:49:36.7",
           "1990/10/26"
          ]
         ],
         "hovertemplate": "<b>%{hovertext}</b><br><br>Cluster=29<br>Lat=%{customdata[0]}<br>Lon=%{customdata[1]}<br>Time=%{customdata[2]}<br>Date=%{customdata[3]}<extra></extra>",
         "hovertext": {
          "dtype": "f8",
          "bdata": "AAAAAAAAPUAAAAAAAAA9QA=="
         },
         "lat": {
          "dtype": "f8",
          "bdata": "PQrXo3A9QMDsUbgehYtBwA=="
         },
         "legendgroup": "29",
         "lon": {
          "dtype": "f8",
          "bdata": "FK5H4XqULMD2KFyPwjUwwA=="
         },
         "marker": {
          "color": "#B10DA1"
         },
         "mode": "markers",
         "name": "29",
         "showlegend": true,
         "subplot": "map",
         "type": "scattermap"
        },
        {
         "customdata": [
          [
           12.62,
           48.28,
           "07:22:26.1",
           "1989/11/24"
          ],
          [
           12.45,
           47.54,
           "15:26:29.0",
           "1991/05/11"
          ],
          [
           12.31,
           47.47,
           "16:12:37.4",
           "1991/05/12"
          ],
          [
           13.3,
           50.9,
           "04:13:17.3",
           "1992/05/21"
          ],
          [
           12.99,
           49.41,
           "17:31:10.7",
           "1993/01/08"
          ]
         ],
         "hovertemplate": "<b>%{hovertext}</b><br><br>Cluster=87<br>Lat=%{customdata[0]}<br>Lon=%{customdata[1]}<br>Time=%{customdata[2]}<br>Date=%{customdata[3]}<extra></extra>",
         "hovertext": {
          "dtype": "f8",
          "bdata": "AAAAAADAVUAAAAAAAMBVQAAAAAAAwFVAAAAAAADAVUAAAAAAAMBVQA=="
         },
         "lat": {
          "dtype": "f8",
          "bdata": "PQrXo3A9KUBmZmZmZuYoQB+F61G4nihAmpmZmZmZKkB7FK5H4fopQA=="
         },
         "legendgroup": "87",
         "lon": {
          "dtype": "f8",
          "bdata": "pHA9CtcjSECF61G4HsVHQFyPwvUovEdAMzMzMzNzSUAUrkfherRIQA=="
         },
         "marker": {
          "color": "#C075A6"
         },
         "mode": "markers",
         "name": "87",
         "showlegend": true,
         "subplot": "map",
         "type": "scattermap"
        },
        {
         "customdata": [
          [
           36.75,
           2.43,
           "09:31:47.8",
           "1990/02/09"
          ],
          [
           31.35,
           -4.33,
           "09:11:08.9",
           "1992/10/23"
          ],
          [
           31.3,
           -4.43,
           "10:43:58.5",
           "1992/10/30"
          ],
          [
           36.77,
           -2.99,
           "14:22:34.2",
           "1993/12/23"
          ]
         ],
         "hovertemplate": "<b>%{hovertext}</b><br><br>Cluster=62<br>Lat=%{customdata[0]}<br>Lon=%{customdata[1]}<br>Time=%{customdata[2]}<br>Date=%{customdata[3]}<extra></extra>",
         "hovertext": {
          "dtype": "f8",
          "bdata": "AAAAAAAAT0AAAAAAAABPQAAAAAAAAE9AAAAAAAAAT0A="
         },
         "lat": {
          "dtype": "f8",
          "bdata": "AAAAAABgQkCamZmZmVk/QM3MzMzMTD9Aw/UoXI9iQkA="
         },
         "legendgroup": "62",
         "lon": {
          "dtype": "f8",
          "bdata": "cT0K16NwA0BSuB6F61ERwLgehetRuBHA7FG4HoXrB8A="
         },
         "marker": {
          "color": "#FC1CBF"
         },
         "mode": "markers",
         "name": "62",
         "showlegend": true,
         "subplot": "map",
         "type": "scattermap"
        },
        {
         "customdata": [
          [
           -2.94,
           35.95,
           "19:20:44.4",
           "1990/04/05"
          ],
          [
           -3.97,
           35.8,
           "22:06:11.1",
           "1991/02/22"
          ]
         ],
         "hovertemplate": "<b>%{hovertext}</b><br><br>Cluster=76<br>Lat=%{customdata[0]}<br>Lon=%{customdata[1]}<br>Time=%{customdata[2]}<br>Date=%{customdata[3]}<extra></extra>",
         "hovertext": {
          "dtype": "f8",
          "bdata": "AAAAAAAAU0AAAAAAAABTQA=="
         },
         "lat": {
          "dtype": "f8",
          "bdata": "hetRuB6FB8DD9Shcj8IPwA=="
         },
         "legendgroup": "76",
         "lon": {
          "dtype": "f8",
          "bdata": "mpmZmZn5QUBmZmZmZuZBQA=="
         },
         "marker": {
          "color": "#B00068"
         },
         "mode": "markers",
         "name": "76",
         "showlegend": true,
         "subplot": "map",
         "type": "scattermap"
        },
        {
         "customdata": [
          [
           -2.96,
           35.85,
           "15:21:28.8",
           "1990/05/15"
          ],
          [
           -3.01,
           36.0,
           "16:24:20.6",
           "1990/05/15"
          ]
         ],
         "hovertemplate": "<b>%{hovertext}</b><br><br>Cluster=75<br>Lat=%{customdata[0]}<br>Lon=%{customdata[1]}<br>Time=%{customdata[2]}<br>Date=%{customdata[3]}<extra></extra>",
         "hovertext": {
          "dtype": "f8",
          "bdata": "AAAAAADAUkAAAAAAAMBSQA=="
         },
         "lat": {
          "dtype": "f8",
          "bdata": "rkfhehSuB8AUrkfhehQIwA=="
         },
         "legendgroup": "75",
         "lon": {
          "dtype": "f8",
          "bdata": "zczMzMzsQUAAAAAAAABCQA=="
         },
         "marker": {
          "color": "#FBE426"
         },
         "mode": "markers",
         "name": "75",
         "showlegend": true,
         "subplot": "map",
         "type": "scattermap"
        },
        {
         "customdata": [
          [
           36.65,
           49.81,
           "09:02:13.7",
           "1990/06/21"
          ],
          [
           36.77,
           49.58,
           "17:19:54.8",
           "1991/11/28"
          ]
         ],
         "hovertemplate": "<b>%{hovertext}</b><br><br>Cluster=81<br>Lat=%{customdata[0]}<br>Lon=%{customdata[1]}<br>Time=%{customdata[2]}<br>Date=%{customdata[3]}<extra></extra>",
         "hovertext": {
          "dtype": "f8",
          "bdata": "AAAAAABAVEAAAAAAAEBUQA=="
         },
         "lat": {
          "dtype": "f8",
          "bdata": "MzMzMzNTQkDD9Shcj2JCQA=="
         },
         "legendgroup": "81",
         "lon": {
          "dtype": "f8",
          "bdata": "SOF6FK7nSEAK16NwPcpIQA=="
         },
         "marker": {
          "color": "#FA0087"
         },
         "mode": "markers",
         "name": "81",
         "showlegend": true,
         "subplot": "map",
         "type": "scattermap"
        },
        {
         "customdata": [
          [
           36.82,
           49.42,
           "09:45:56.7",
           "1990/06/24"
          ],
          [
           36.82,
           49.31,
           "19:34:52.1",
           "1990/07/06"
          ],
          [
           32.8,
           48.24,
           "11:57:12.2",
           "1990/08/03"
          ]
         ],
         "hovertemplate": "<b>%{hovertext}</b><br><br>Cluster=238<br>Lat=%{customdata[0]}<br>Lon=%{customdata[1]}<br>Time=%{customdata[2]}<br>Date=%{customdata[3]}<extra></extra>",
         "hovertext": {
          "dtype": "f8",
          "bdata": "AAAAAADAbUAAAAAAAMBtQAAAAAAAwG1A"
         },
         "lat": {
          "dtype": "f8",
          "bdata": "KVyPwvVoQkApXI/C9WhCQGZmZmZmZkBA"
         },
         "legendgroup": "238",
         "lon": {
          "dtype": "f8",
          "bdata": "9ihcj8K1SEBI4XoUrqdIQB+F61G4HkhA"
         },
         "marker": {
          "color": "#AA0DFE"
         },
         "mode": "markers",
         "name": "238",
         "showlegend": true,
         "subplot": "map",
         "type": "scattermap"
        },
        {
         "customdata": [
          [
           5.21,
           32.65,
           "16:46:02.5",
           "1990/07/28"
          ],
          [
           5.44,
           31.64,
           "00:12:26.1",
           "1990/09/07"
          ],
          [
           5.16,
           32.56,
           "09:06:06.3",
           "1991/03/29"
          ],
          [
           1.87,
           31.31,
           "17:22:02.4",
           "1991/10/09"
          ]
         ],
         "hovertemplate": "<b>%{hovertext}</b><br><br>Cluster=102<br>Lat=%{customdata[0]}<br>Lon=%{customdata[1]}<br>Time=%{customdata[2]}<br>Date=%{customdata[3]}<extra></extra>",
         "hovertext": {
          "dtype": "f8",
          "bdata": "AAAAAACAWUAAAAAAAIBZQAAAAAAAgFlAAAAAAACAWUA="
         },
         "lat": {
          "dtype": "f8",
          "bdata": "16NwPQrXFEDD9Shcj8IVQKRwPQrXoxRA7FG4HoXr/T8="
         },
         "legendgroup": "102",
         "lon": {
          "dtype": "f8",
          "bdata": "MzMzMzNTQECkcD0K16M/QEjhehSuR0BAj8L1KFxPP0A="
         },
         "marker": {
          "color": "#3283FE"
         },
         "mode": "markers",
         "name": "102",
         "showlegend": true,
         "subplot": "map",
         "type": "scattermap"
        },
        {
         "customdata": [
          [
           -17.77,
           -13.24,
           "15:41:20.4",
           "1990/08/24"
          ],
          [
           -20.98,
           -11.66,
           "16:40:12.6",
           "1990/12/24"
          ]
         ],
         "hovertemplate": "<b>%{hovertext}</b><br><br>Cluster=38<br>Lat=%{customdata[0]}<br>Lon=%{customdata[1]}<br>Time=%{customdata[2]}<br>Date=%{customdata[3]}<extra></extra>",
         "hovertext": {
          "dtype": "f8",
          "bdata": "AAAAAAAAQ0AAAAAAAABDQA=="
         },
         "lat": {
          "dtype": "f8",
          "bdata": "hetRuB7FMcB7FK5H4fo0wA=="
         },
         "legendgroup": "38",
         "lon": {
          "dtype": "f8",
          "bdata": "exSuR+F6KsBSuB6F61EnwA=="
         },
         "marker": {
          "color": "#85660D"
         },
         "mode": "markers",
         "name": "38",
         "showlegend": true,
         "subplot": "map",
         "type": "scattermap"
        },
        {
         "customdata": [
          [
           37.2,
           15.5,
           "00:24:24.3",
           "1990/12/13"
          ],
          [
           39.3,
           15.38,
           "03:21:26.8",
           "1990/12/14"
          ],
          [
           38.58,
           14.95,
           "12:46:17.0",
           "1992/04/25"
          ]
         ],
         "hovertemplate": "<b>%{hovertext}</b><br><br>Cluster=246<br>Lat=%{customdata[0]}<br>Lon=%{customdata[1]}<br>Time=%{customdata[2]}<br>Date=%{customdata[3]}<extra></extra>",
         "hovertext": {
          "dtype": "f8",
          "bdata": "AAAAAADAbkAAAAAAAMBuQAAAAAAAwG5A"
         },
         "lat": {
          "dtype": "f8",
          "bdata": "mpmZmZmZQkBmZmZmZqZDQArXo3A9SkNA"
         },
         "legendgroup": "246",
         "lon": {
          "dtype": "f8",
          "bdata": "AAAAAAAAL0DD9Shcj8IuQGZmZmZm5i1A"
         },
         "marker": {
          "color": "#782AB6"
         },
         "mode": "markers",
         "name": "246",
         "showlegend": true,
         "subplot": "map",
         "type": "scattermap"
        },
        {
         "customdata": [
          [
           -3.06,
           -12.28,
           "00:09:54.7",
           "1991/01/20"
          ],
          [
           -1.53,
           -12.76,
           "04:43:16.9",
           "1992/01/30"
          ],
          [
           -3.84,
           -11.97,
           "23:04:36.5",
           "1994/01/20"
          ]
         ],
         "hovertemplate": "<b>%{hovertext}</b><br><br>Cluster=108<br>Lat=%{customdata[0]}<br>Lon=%{customdata[1]}<br>Time=%{customdata[2]}<br>Date=%{customdata[3]}<extra></extra>",
         "hovertext": {
          "dtype": "f8",
          "bdata": "AAAAAAAAW0AAAAAAAABbQAAAAAAAAFtA"
         },
         "lat": {
          "dtype": "f8",
          "bdata": "exSuR+F6CMB7FK5H4Xr4v7gehetRuA7A"
         },
         "legendgroup": "108",
         "lon": {
          "dtype": "f8",
          "bdata": "j8L1KFyPKMCF61G4HoUpwHE9Ctej8CfA"
         },
         "marker": {
          "color": "#565656"
         },
         "mode": "markers",
         "name": "108",
         "showlegend": true,
         "subplot": "map",
         "type": "scattermap"
        },
        {
         "customdata": [
          [
           -14.45,
           -13.58,
           "03:08:14.0",
           "1991/06/30"
          ],
          [
           -14.2,
           -14.22,
           "13:02:30.1",
           "1991/08/12"
          ],
          [
           -16.44,
           -14.2,
           "10:32:31.0",
           "1993/04/15"
          ],
          [
           -17.46,
           -14.52,
           "09:43:05.8",
           "1994/01/13"
          ]
         ],
         "hovertemplate": "<b>%{hovertext}</b><br><br>Cluster=61<br>Lat=%{customdata[0]}<br>Lon=%{customdata[1]}<br>Time=%{customdata[2]}<br>Date=%{customdata[3]}<extra></extra>",
         "hovertext": {
          "dtype": "f8",
          "bdata": "AAAAAACATkAAAAAAAIBOQAAAAAAAgE5AAAAAAACATkA="
         },
         "lat": {
          "dtype": "f8",
          "bdata": "ZmZmZmbmLMBmZmZmZmYswHE9CtejcDDA9ihcj8J1McA="
         },
         "legendgroup": "61",
         "lon": {
          "dtype": "f8",
          "bdata": "KVyPwvUoK8BxPQrXo3AswGZmZmZmZizACtejcD0KLcA="
         },
         "marker": {
          "color": "#1C8356"
         },
         "mode": "markers",
         "name": "61",
         "showlegend": true,
         "subplot": "map",
         "type": "scattermap"
        },
        {
         "customdata": [
          [
           31.64,
           50.71,
           "11:57:54.7",
           "1992/03/04"
          ],
          [
           30.68,
           50.82,
           "22:52:47.4",
           "1993/03/26"
          ],
          [
           32.64,
           48.71,
           "05:51:46.8",
           "1994/09/20"
          ],
          [
           30.91,
           49.84,
           "00:21:49.6",
           "1995/04/22"
          ]
         ],
         "hovertemplate": "<b>%{hovertext}</b><br><br>Cluster=237<br>Lat=%{customdata[0]}<br>Lon=%{customdata[1]}<br>Time=%{customdata[2]}<br>Date=%{customdata[3]}<extra></extra>",
         "hovertext": {
          "dtype": "f8",
          "bdata": "AAAAAACgbUAAAAAAAKBtQAAAAAAAoG1AAAAAAACgbUA="
         },
         "lat": {
          "dtype": "f8",
          "bdata": "pHA9CtejP0CuR+F6FK4+QFK4HoXrUUBAKVyPwvXoPkA="
         },
         "legendgroup": "237",
         "lon": {
          "dtype": "f8",
          "bdata": "exSuR+FaSUApXI/C9WhJQHsUrkfhWkhA7FG4HoXrSEA="
         },
         "marker": {
          "color": "#16FF32"
         },
         "mode": "markers",
         "name": "237",
         "showlegend": true,
         "subplot": "map",
         "type": "scattermap"
        },
        {
         "customdata": [
          [
           -28.21,
           -12.61,
           "21:39:26.0",
           "1992/04/20"
          ],
          [
           -31.14,
           -13.52,
           "03:46:14.7",
           "1992/11/20"
          ]
         ],
         "hovertemplate": "<b>%{hovertext}</b><br><br>Cluster=21<br>Lat=%{customdata[0]}<br>Lon=%{customdata[1]}<br>Time=%{customdata[2]}<br>Date=%{customdata[3]}<extra></extra>",
         "hovertext": {
          "dtype": "f8",
          "bdata": "AAAAAAAANUAAAAAAAAA1QA=="
         },
         "lat": {
          "dtype": "f8",
          "bdata": "9ihcj8I1PMCkcD0K1yM/wA=="
         },
         "legendgroup": "21",
         "lon": {
          "dtype": "f8",
          "bdata": "uB6F61E4KcAK16NwPQorwA=="
         },
         "marker": {
          "color": "#F7E1A0"
         },
         "mode": "markers",
         "name": "21",
         "showlegend": true,
         "subplot": "map",
         "type": "scattermap"
        },
        {
         "customdata": [
          [
           29.89,
           31.22,
           "13:09:56.3",
           "1992/10/12"
          ],
          [
           28.63,
           34.64,
           "12:43:04.5",
           "1993/08/03"
          ],
          [
           28.76,
           34.7,
           "16:33:20.6",
           "1993/08/03"
          ]
         ],
         "hovertemplate": "<b>%{hovertext}</b><br><br>Cluster=148<br>Lat=%{customdata[0]}<br>Lon=%{customdata[1]}<br>Time=%{customdata[2]}<br>Date=%{customdata[3]}<extra></extra>",
         "hovertext": {
          "dtype": "f8",
          "bdata": "AAAAAACAYkAAAAAAAIBiQAAAAAAAgGJA"
         },
         "lat": {
          "dtype": "f8",
          "bdata": "pHA9CtfjPUDhehSuR6E8QMP1KFyPwjxA"
         },
         "legendgroup": "148",
         "lon": {
          "dtype": "f8",
          "bdata": "uB6F61E4P0BSuB6F61FBQJqZmZmZWUFA"
         },
         "marker": {
          "color": "#E2E2E2"
         },
         "mode": "markers",
         "name": "148",
         "showlegend": true,
         "subplot": "map",
         "type": "scattermap"
        },
        {
         "customdata": [
          [
           38.08,
           26.95,
           "19:08:08.9",
           "1992/11/06"
          ],
          [
           38.3,
           22.43,
           "21:10:40.8",
           "1992/11/18"
          ],
          [
           35.93,
           22.44,
           "05:07:22.7",
           "1992/11/21"
          ],
          [
           35.58,
           24.72,
           "06:46:16.3",
           "1994/05/23"
          ]
         ],
         "hovertemplate": "<b>%{hovertext}</b><br><br>Cluster=222<br>Lat=%{customdata[0]}<br>Lon=%{customdata[1]}<br>Time=%{customdata[2]}<br>Date=%{customdata[3]}<extra></extra>",
         "hovertext": {
          "dtype": "f8",
          "bdata": "AAAAAADAa0AAAAAAAMBrQAAAAAAAwGtAAAAAAADAa0A="
         },
         "lat": {
          "dtype": "f8",
          "bdata": "CtejcD0KQ0BmZmZmZiZDQNejcD0K90FACtejcD3KQUA="
         },
         "legendgroup": "222",
         "lon": {
          "dtype": "f8",
          "bdata": "MzMzMzPzOkCuR+F6FG42QHE9CtejcDZAuB6F61G4OEA="
         },
         "marker": {
          "color": "#1CBE4F"
         },
         "mode": "markers",
         "name": "222",
         "showlegend": true,
         "subplot": "map",
         "type": "scattermap"
        },
        {
         "customdata": [
          [
           0.12,
           -16.97,
           "07:42:26.2",
           "1993/01/07"
          ],
          [
           -0.94,
           -13.25,
           "20:24:00.8",
           "1993/11/25"
          ]
         ],
         "hovertemplate": "<b>%{hovertext}</b><br><br>Cluster=48<br>Lat=%{customdata[0]}<br>Lon=%{customdata[1]}<br>Time=%{customdata[2]}<br>Date=%{customdata[3]}<extra></extra>",
         "hovertext": {
          "dtype": "f8",
          "bdata": "AAAAAAAASEAAAAAAAABIQA=="
         },
         "lat": {
          "dtype": "f8",
          "bdata": "uB6F61G4vj8UrkfhehTuvw=="
         },
         "legendgroup": "48",
         "lon": {
          "dtype": "f8",
          "bdata": "uB6F61H4MMAAAAAAAIAqwA=="
         },
         "marker": {
          "color": "#C4451C"
         },
         "mode": "markers",
         "name": "48",
         "showlegend": true,
         "subplot": "map",
         "type": "scattermap"
        },
        {
         "customdata": [
          [
           8.3,
           39.26,
           "02:25:49.3",
           "1993/02/13"
          ],
          [
           19.59,
           38.66,
           "04:24:19.7",
           "1993/03/12"
          ],
          [
           19.76,
           38.68,
           "23:32:47.0",
           "1993/03/12"
          ],
          [
           19.65,
           38.74,
           "08:12:13.5",
           "1993/03/14"
          ],
          [
           19.5,
           38.8,
           "11:59:26.0",
           "1993/03/16"
          ],
          [
           19.52,
           38.81,
           "20:51:37.3",
           "1993/03/22"
          ],
          [
           19.61,
           38.9,
           "00:59:31.8",
           "1993/03/23"
          ],
          [
           14.46,
           40.17,
           "20:35:56.0",
           "1993/05/06"
          ]
         ],
         "hovertemplate": "<b>%{hovertext}</b><br><br>Cluster=129<br>Lat=%{customdata[0]}<br>Lon=%{customdata[1]}<br>Time=%{customdata[2]}<br>Date=%{customdata[3]}<extra></extra>",
         "hovertext": {
          "dtype": "f8",
          "bdata": "AAAAAAAgYEAAAAAAACBgQAAAAAAAIGBAAAAAAAAgYEAAAAAAACBgQAAAAAAAIGBAAAAAAAAgYEAAAAAAACBgQA=="
         },
         "lat": {
          "dtype": "f8",
          "bdata": "mpmZmZmZIEDXo3A9CpczQMP1KFyPwjNAZmZmZmamM0AAAAAAAIAzQIXrUbgehTNAXI/C9SicM0DsUbgehessQA=="
         },
         "legendgroup": "129",
         "lon": {
          "dtype": "f8",
          "bdata": "4XoUrkehQ0AUrkfhelRDQNejcD0KV0NAH4XrUbheQ0BmZmZmZmZDQEjhehSuZ0NAMzMzMzNzQ0D2KFyPwhVEQA=="
         },
         "marker": {
          "color": "#DEA0FD"
         },
         "mode": "markers",
         "name": "129",
         "showlegend": true,
         "subplot": "map",
         "type": "scattermap"
        },
        {
         "customdata": [
          [
           11.66,
           41.88,
           "22:59:45.4",
           "1993/03/16"
          ],
          [
           11.5,
           39.65,
           "19:11:36.1",
           "1993/09/21"
          ],
          [
           11.83,
           42.81,
           "11:20:22.2",
           "1994/04/11"
          ]
         ],
         "hovertemplate": "<b>%{hovertext}</b><br><br>Cluster=135<br>Lat=%{customdata[0]}<br>Lon=%{customdata[1]}<br>Time=%{customdata[2]}<br>Date=%{customdata[3]}<extra></extra>",
         "hovertext": {
          "dtype": "f8",
          "bdata": "AAAAAADgYEAAAAAAAOBgQAAAAAAA4GBA"
         },
         "lat": {
          "dtype": "f8",
          "bdata": "UrgehetRJ0AAAAAAAAAnQClcj8L1qCdA"
         },
         "legendgroup": "135",
         "lon": {
          "dtype": "f8",
          "bdata": "cT0K16PwREAzMzMzM9NDQEjhehSuZ0VA"
         },
         "marker": {
          "color": "#FE00FA"
         },
         "mode": "markers",
         "name": "135",
         "showlegend": true,
         "subplot": "map",
         "type": "scattermap"
        },
        {
         "customdata": [
          [
           -11.56,
           -13.25,
           "09:50:12.8",
           "1993/08/06"
          ],
          [
           -10.04,
           -13.39,
           "21:34:52.5",
           "1994/11/16"
          ]
         ],
         "hovertemplate": "<b>%{hovertext}</b><br><br>Cluster=109<br>Lat=%{customdata[0]}<br>Lon=%{customdata[1]}<br>Time=%{customdata[2]}<br>Date=%{customdata[3]}<extra></extra>",
         "hovertext": {
          "dtype": "f8",
          "bdata": "AAAAAABAW0AAAAAAAEBbQA=="
         },
         "lat": {
          "dtype": "f8",
          "bdata": "H4XrUbgeJ8AUrkfhehQkwA=="
         },
         "legendgroup": "109",
         "lon": {
          "dtype": "f8",
          "bdata": "AAAAAACAKsBI4XoUrscqwA=="
         },
         "marker": {
          "color": "#325A9B"
         },
         "mode": "markers",
         "name": "109",
         "showlegend": true,
         "subplot": "map",
         "type": "scattermap"
        },
        {
         "customdata": [
          [
           0.58,
           30.14,
           "23:34:08.6",
           "1994/02/05"
          ],
          [
           -7.34,
           31.79,
           "00:45:48.0",
           "1994/08/18"
          ],
          [
           -7.36,
           30.37,
           "18:13:22.8",
           "1997/09/21"
          ]
         ],
         "hovertemplate": "<b>%{hovertext}</b><br><br>Cluster=57<br>Lat=%{customdata[0]}<br>Lon=%{customdata[1]}<br>Time=%{customdata[2]}<br>Date=%{customdata[3]}<extra></extra>",
         "hovertext": {
          "dtype": "f8",
          "bdata": "AAAAAACATEAAAAAAAIBMQAAAAAAAgExA"
         },
         "lat": {
          "dtype": "f8",
          "bdata": "j8L1KFyP4j9cj8L1KFwdwHE9CtejcB3A"
         },
         "legendgroup": "57",
         "lon": {
          "dtype": "f8",
          "bdata": "pHA9CtcjPkAK16NwPco/QB+F61G4Xj5A"
         },
         "marker": {
          "color": "#FEAF16"
         },
         "mode": "markers",
         "name": "57",
         "showlegend": true,
         "subplot": "map",
         "type": "scattermap"
        },
        {
         "customdata": [
          [
           11.6,
           43.09,
           "02:57:10.7",
           "1994/04/24"
          ],
          [
           11.75,
           43.26,
           "23:29:02.7",
           "1997/03/08"
          ],
          [
           11.7,
           43.55,
           "17:40:18.3",
           "1997/03/09"
          ]
         ],
         "hovertemplate": "<b>%{hovertext}</b><br><br>Cluster=137<br>Lat=%{customdata[0]}<br>Lon=%{customdata[1]}<br>Time=%{customdata[2]}<br>Date=%{customdata[3]}<extra></extra>",
         "hovertext": {
          "dtype": "f8",
          "bdata": "AAAAAAAgYUAAAAAAACBhQAAAAAAAIGFA"
         },
         "lat": {
          "dtype": "f8",
          "bdata": "MzMzMzMzJ0AAAAAAAIAnQGZmZmZmZidA"
         },
         "legendgroup": "137",
         "lon": {
          "dtype": "f8",
          "bdata": "7FG4HoWLRUDhehSuR6FFQGZmZmZmxkVA"
         },
         "marker": {
          "color": "#F8A19F"
         },
         "mode": "markers",
         "name": "137",
         "showlegend": true,
         "subplot": "map",
         "type": "scattermap"
        },
        {
         "customdata": [
          [
           38.65,
           26.59,
           "02:05:34.4",
           "1994/05/24"
          ],
          [
           36.62,
           27.09,
           "15:39:10.0",
           "1996/04/12"
          ]
         ],
         "hovertemplate": "<b>%{hovertext}</b><br><br>Cluster=284<br>Lat=%{customdata[0]}<br>Lon=%{customdata[1]}<br>Time=%{customdata[2]}<br>Date=%{customdata[3]}<extra></extra>",
         "hovertext": {
          "dtype": "f8",
          "bdata": "AAAAAADAcUAAAAAAAMBxQA=="
         },
         "lat": {
          "dtype": "f8",
          "bdata": "MzMzMzNTQ0CPwvUoXE9CQA=="
         },
         "legendgroup": "284",
         "lon": {
          "dtype": "f8",
          "bdata": "16NwPQqXOkDXo3A9Chc7QA=="
         },
         "marker": {
          "color": "#90AD1C"
         },
         "mode": "markers",
         "name": "284",
         "showlegend": true,
         "subplot": "map",
         "type": "scattermap"
        },
        {
         "customdata": [
          [
           35.37,
           -4.12,
           "08:26:52.8",
           "1994/05/26"
          ],
          [
           35.56,
           -0.11,
           "01:13:06.1",
           "1994/08/18"
          ]
         ],
         "hovertemplate": "<b>%{hovertext}</b><br><br>Cluster=36<br>Lat=%{customdata[0]}<br>Lon=%{customdata[1]}<br>Time=%{customdata[2]}<br>Date=%{customdata[3]}<extra></extra>",
         "hovertext": {
          "dtype": "f8",
          "bdata": "AAAAAAAAQkAAAAAAAABCQA=="
         },
         "lat": {
          "dtype": "f8",
          "bdata": "j8L1KFyvQUBI4XoUrsdBQA=="
         },
         "legendgroup": "36",
         "lon": {
          "dtype": "f8",
          "bdata": "exSuR+F6EMApXI/C9Si8vw=="
         },
         "marker": {
          "color": "#F6222E"
         },
         "mode": "markers",
         "name": "36",
         "showlegend": true,
         "subplot": "map",
         "type": "scattermap"
        },
        {
         "customdata": [
          [
           -25.06,
           -13.54,
           "15:17:40.2",
           "1994/08/24"
          ],
          [
           -22.65,
           -10.6,
           "22:42:02.8",
           "1995/08/05"
          ]
         ],
         "hovertemplate": "<b>%{hovertext}</b><br><br>Cluster=27<br>Lat=%{customdata[0]}<br>Lon=%{customdata[1]}<br>Time=%{customdata[2]}<br>Date=%{customdata[3]}<extra></extra>",
         "hovertext": {
          "dtype": "f8",
          "bdata": "AAAAAAAAO0AAAAAAAAA7QA=="
         },
         "lat": {
          "dtype": "f8",
          "bdata": "j8L1KFwPOcBmZmZmZqY2wA=="
         },
         "legendgroup": "27",
         "lon": {
          "dtype": "f8",
          "bdata": "FK5H4XoUK8AzMzMzMzMlwA=="
         },
         "marker": {
          "color": "#1CFFCE"
         },
         "mode": "markers",
         "name": "27",
         "showlegend": true,
         "subplot": "map",
         "type": "scattermap"
        },
        {
         "customdata": [
          [
           -24.88,
           -13.57,
           "11:28:36.1",
           "1994/09/01"
          ],
          [
           -26.4,
           -13.69,
           "18:45:25.8",
           "1996/03/22"
          ],
          [
           -25.86,
           -13.84,
           "10:42:57.0",
           "1996/11/14"
          ]
         ],
         "hovertemplate": "<b>%{hovertext}</b><br><br>Cluster=26<br>Lat=%{customdata[0]}<br>Lon=%{customdata[1]}<br>Time=%{customdata[2]}<br>Date=%{customdata[3]}<extra></extra>",
         "hovertext": {
          "dtype": "f8",
          "bdata": "AAAAAAAAOkAAAAAAAAA6QAAAAAAAADpA"
         },
         "lat": {
          "dtype": "f8",
          "bdata": "4XoUrkfhOMBmZmZmZmY6wFyPwvUo3DnA"
         },
         "legendgroup": "26",
         "lon": {
          "dtype": "f8",
          "bdata": "pHA9CtcjK8DhehSuR2ErwK5H4XoUrivA"
         },
         "marker": {
          "color": "#2ED9FF"
         },
         "mode": "markers",
         "name": "26",
         "showlegend": true,
         "subplot": "map",
         "type": "scattermap"
        },
        {
         "customdata": [
          [
           36.9,
           29.09,
           "06:56:03.0",
           "1994/11/13"
          ],
          [
           37.83,
           27.0,
           "07:59:26.1",
           "1996/04/02"
          ],
          [
           36.37,
           28.04,
           "07:01:27.5",
           "1996/04/26"
          ],
          [
           38.05,
           29.03,
           "20:47:46.7",
           "1997/01/21"
          ],
          [
           36.02,
           28.39,
           "11:21:20.3",
           "1998/03/09"
          ],
          [
           38.1,
           30.16,
           "16:16:47.1",
           "1998/04/04"
          ],
          [
           33.8,
           25.62,
           "18:47:34.5",
           "1998/10/07"
          ],
          [
           39.31,
           28.0,
           "06:56:53.0",
           "1999/07/25"
          ],
          [
           36.73,
           28.24,
           "00:53:29.0",
           "1999/10/05"
          ],
          [
           34.6,
           25.6,
           "11:55:25.6",
           "2000/02/22"
          ],
          [
           34.36,
           26.03,
           "22:01:46.0",
           "2000/03/10"
          ],
          [
           37.84,
           29.33,
           "12:23:10.5",
           "2000/04/21"
          ],
          [
           35.15,
           27.12,
           "01:43:14.4",
           "2000/06/13"
          ],
          [
           35.7,
           27.5,
           "06:00:56.4",
           "2001/05/01"
          ],
          [
           35.41,
           27.78,
           "04:43:57.9",
           "2001/05/29"
          ],
          [
           34.82,
           24.28,
           "05:03:21.0",
           "2001/11/26"
          ],
          [
           35.65,
           26.18,
           "22:35:42.0",
           "2002/06/06"
          ],
          [
           34.77,
           26.37,
           "05:58:50.1",
           "2002/10/12"
          ]
         ],
         "hovertemplate": "<b>%{hovertext}</b><br><br>Cluster=285<br>Lat=%{customdata[0]}<br>Lon=%{customdata[1]}<br>Time=%{customdata[2]}<br>Date=%{customdata[3]}<extra></extra>",
         "hovertext": {
          "dtype": "f8",
          "bdata": "AAAAAADQcUAAAAAAANBxQAAAAAAA0HFAAAAAAADQcUAAAAAAANBxQAAAAAAA0HFAAAAAAADQcUAAAAAAANBxQAAAAAAA0HFAAAAAAADQcUAAAAAAANBxQAAAAAAA0HFAAAAAAADQcUAAAAAAANBxQAAAAAAA0HFAAAAAAADQcUAAAAAAANBxQAAAAAAA0HFA"
         },
         "lat": {
          "dtype": "f8",
          "bdata": "MzMzMzNzQkAK16NwPepCQI/C9ShcL0JAZmZmZmYGQ0DD9ShcjwJCQM3MzMzMDENAZmZmZmbmQEBI4XoUrqdDQD0K16NwXUJAzczMzMxMQUCuR+F6FC5BQOxRuB6F60JAMzMzMzOTQUCamZmZmdlBQBSuR+F6tEFAKVyPwvVoQUAzMzMzM9NBQMP1KFyPYkFA"
         },
         "legendgroup": "285",
         "lon": {
          "dtype": "f8",
          "bdata": "16NwPQoXPUAAAAAAAAA7QArXo3A9CjxASOF6FK4HPUCkcD0K12M8QClcj8L1KD5AH4XrUbieOUAAAAAAAAA8QD0K16NwPTxAmpmZmZmZOUBI4XoUrgc6QBSuR+F6VD1AH4XrUbgeO0AAAAAAAIA7QEjhehSuxztASOF6FK5HOECuR+F6FC46QB+F61G4XjpA"
         },
         "marker": {
          "color": "#B10DA1"
         },
         "mode": "markers",
         "name": "285",
         "showlegend": true,
         "subplot": "map",
         "type": "scattermap"
        },
        {
         "customdata": [
          [
           -0.02,
           -16.93,
           "11:27:56.1",
           "1994/11/14"
          ],
          [
           -0.28,
           -15.99,
           "11:43:15.1",
           "1995/06/07"
          ],
          [
           -0.94,
           -15.96,
           "10:27:07.6",
           "1996/01/29"
          ],
          [
           -0.03,
           -16.73,
           "17:50:09.6",
           "1997/05/16"
          ],
          [
           0.01,
           -16.76,
           "20:23:01.0",
           "1997/05/21"
          ],
          [
           -1.59,
           -15.57,
           "12:36:29.6",
           "1997/09/01"
          ],
          [
           0.03,
           -16.81,
           "22:59:28.6",
           "1997/09/01"
          ],
          [
           0.12,
           -16.92,
           "14:00:05.8",
           "1997/09/26"
          ],
          [
           -1.33,
           -15.86,
           "08:20:32.7",
           "1998/07/10"
          ],
          [
           0.03,
           -16.81,
           "14:42:54.4",
           "1999/03/16"
          ],
          [
           -12.92,
           -14.5,
           "07:52:27.7",
           "1999/12/25"
          ],
          [
           -1.27,
           -15.92,
           "15:17:10.2",
           "2000/04/29"
          ],
          [
           -1.16,
           -15.87,
           "15:20:06.7",
           "2000/04/29"
          ],
          [
           -10.29,
           -13.17,
           "09:50:25.7",
           "2000/05/18"
          ],
          [
           -4.92,
           -12.37,
           "21:16:38.0",
           "2000/06/14"
          ],
          [
           -7.98,
           -13.4,
           "17:59:03.3",
           "2000/06/16"
          ],
          [
           -0.91,
           -16.14,
           "05:22:01.8",
           "2000/07/14"
          ],
          [
           -1.92,
           -12.96,
           "21:37:43.2",
           "2000/09/10"
          ],
          [
           -11.69,
           -14.31,
           "19:47:06.7",
           "2001/07/25"
          ],
          [
           -3.29,
           -12.18,
           "19:50:09.2",
           "2001/07/30"
          ],
          [
           -11.48,
           -13.25,
           "17:40:35.8",
           "2001/08/28"
          ],
          [
           -12.5,
           -14.72,
           "13:20:48.4",
           "2002/05/13"
          ],
          [
           -5.04,
           -12.3,
           "20:15:57.6",
           "2002/06/25"
          ],
          [
           -4.93,
           -12.38,
           "21:47:23.7",
           "2002/06/25"
          ],
          [
           -4.95,
           -12.38,
           "22:59:11.9",
           "2002/06/25"
          ],
          [
           -10.65,
           -13.21,
           "14:12:35.7",
           "2002/12/21"
          ],
          [
           -4.89,
           -11.61,
           "07:30:06.4",
           "2003/01/11"
          ],
          [
           -6.73,
           -11.8,
           "05:59:10.6",
           "2003/02/13"
          ],
          [
           -12.91,
           -14.54,
           "08:23:47.2",
           "2003/02/13"
          ],
          [
           -15.66,
           -13.24,
           "20:07:05.2",
           "2003/07/23"
          ],
          [
           -7.04,
           -13.01,
           "06:40:57.2",
           "2004/03/17"
          ],
          [
           -3.42,
           -12.28,
           "18:04:34.7",
           "2004/04/04"
          ],
          [
           -7.41,
           -13.48,
           "05:24:18.7",
           "2004/05/05"
          ],
          [
           -14.2,
           -14.43,
           "15:11:37.5",
           "2004/05/27"
          ],
          [
           -11.78,
           -13.38,
           "15:02:54.9",
           "2004/07/06"
          ],
          [
           -11.6,
           -13.65,
           "15:09:41.3",
           "2004/07/06"
          ],
          [
           -11.73,
           -13.52,
           "15:31:53.0",
           "2004/07/06"
          ],
          [
           -12.83,
           -14.69,
           "13:39:50.6",
           "2004/09/28"
          ],
          [
           -10.51,
           -13.09,
           "13:55:52.8",
           "2005/04/12"
          ],
          [
           -10.23,
           -13.19,
           "03:46:06.1",
           "2005/04/22"
          ],
          [
           -34.09,
           -14.72,
           "11:02:22.6",
           "2005/05/25"
          ],
          [
           -8.13,
           -13.49,
           "19:17:49.6",
           "2005/07/21"
          ],
          [
           -1.68,
           -13.05,
           "07:53:42.6",
           "2005/08/15"
          ],
          [
           -14.12,
           -13.83,
           "05:46:45.5",
           "2005/12/07"
          ],
          [
           -6.55,
           -11.06,
           "14:59:04.9",
           "2006/02/18"
          ],
          [
           -10.21,
           -13.37,
           "19:26:49.6",
           "2006/02/20"
          ],
          [
           -11.43,
           -13.14,
           "22:41:51.3",
           "2006/05/01"
          ],
          [
           -17.63,
           -13.94,
           "00:42:23.9",
           "2006/06/20"
          ],
          [
           -38.62,
           -16.17,
           "13:27:49.5",
           "2006/06/25"
          ],
          [
           -17.75,
           -13.25,
           "14:43:20.0",
           "2006/07/20"
          ],
          [
           -17.72,
           -13.31,
           "19:47:42.5",
           "2006/07/22"
          ],
          [
           -7.07,
           -12.83,
           "12:01:43.4",
           "2006/08/01"
          ],
          [
           -35.0,
           -15.0,
           "14:27:44.0",
           "2006/09/04"
          ],
          [
           -34.75,
           -14.75,
           "22:46:08.0",
           "2006/09/22"
          ],
          [
           -6.5,
           -11.5,
           "11:10:24.0",
           "2006/09/26"
          ],
          [
           -35.0,
           -15.0,
           "14:24:24.0",
           "2006/11/09"
          ],
          [
           -12.51,
           -14.77,
           "08:53:57.8",
           "2006/11/13"
          ],
          [
           -12.72,
           -14.69,
           "23:42:40.8",
           "2006/11/17"
          ],
          [
           -1.4,
           -14.08,
           "16:37:02.0",
           "2007/02/05"
          ],
          [
           -5.69,
           -11.53,
           "13:38:21.0",
           "2007/03/24"
          ],
          [
           -3.42,
           -11.96,
           "15:25:56.2",
           "2007/04/01"
          ],
          [
           -7.67,
           -13.56,
           "17:44:40.5",
           "2007/05/06"
          ],
          [
           -35.69,
           -16.14,
           "17:13:44.1",
           "2007/06/11"
          ],
          [
           -5.55,
           -11.55,
           "06:32:54.5",
           "2007/08/11"
          ],
          [
           -5.59,
           -11.48,
           "08:01:27.5",
           "2007/08/12"
          ],
          [
           -3.59,
           -11.8,
           "14:44:04.0",
           "2007/08/16"
          ],
          [
           -2.61,
           -12.28,
           "12:59:40.4",
           "2007/08/19"
          ],
          [
           -1.75,
           -12.75,
           "03:02:56.0",
           "2007/10/23"
          ],
          [
           -1.19,
           -13.16,
           "08:42:19.8",
           "2007/11/17"
          ],
          [
           -16.93,
           -14.36,
           "23:47:51.0",
           "2007/12/23"
          ],
          [
           -0.89,
           -13.15,
           "02:52:18.6",
           "2008/02/14"
          ],
          [
           -10.3,
           -13.37,
           "14:14:30.9",
           "2008/02/26"
          ],
          [
           -39.5,
           -15.5,
           "17:00:40.0",
           "2008/03/05"
          ],
          [
           -17.25,
           -12.75,
           "20:28:48.0",
           "2008/04/16"
          ],
          [
           -17.59,
           -14.21,
           "18:26:27.9",
           "2008/04/24"
          ],
          [
           -17.84,
           -13.49,
           "20:06:46.5",
           "2008/06/13"
          ],
          [
           -11.6,
           -14.49,
           "09:28:17.8",
           "2008/07/11"
          ],
          [
           -7.75,
           -13.25,
           "01:26:16.0",
           "2008/08/19"
          ],
          [
           -8.2,
           -13.45,
           "08:33:55.2",
           "2008/08/19"
          ],
          [
           -7.11,
           -13.0,
           "21:17:35.2",
           "2008/09/19"
          ],
          [
           -10.43,
           -13.14,
           "21:21:53.6",
           "2008/10/21"
          ],
          [
           -11.63,
           -13.41,
           "17:26:29.4",
           "2008/12/16"
          ],
          [
           -39.25,
           -15.25,
           "08:59:28.0",
           "2009/01/19"
          ],
          [
           -38.75,
           -15.75,
           "09:11:44.0",
           "2009/01/19"
          ],
          [
           -38.79,
           -15.88,
           "09:19:06.9",
           "2009/01/19"
          ],
          [
           -38.96,
           -15.7,
           "10:27:12.4",
           "2009/01/19"
          ],
          [
           -39.01,
           -15.87,
           "15:10:21.3",
           "2009/01/19"
          ],
          [
           -8.25,
           -13.75,
           "22:13:52.0",
           "2009/03/05"
          ],
          [
           -16.6,
           -11.08,
           "09:47:18.8",
           "2009/03/09"
          ],
          [
           -12.83,
           -14.55,
           "06:06:36.0",
           "2009/03/22"
          ],
          [
           -12.87,
           -14.62,
           "06:35:15.4",
           "2009/03/22"
          ],
          [
           -12.87,
           -14.56,
           "08:02:26.7",
           "2009/03/22"
          ],
          [
           -12.74,
           -14.69,
           "12:54:51.4",
           "2009/03/22"
          ],
          [
           -6.78,
           -12.54,
           "18:43:47.6",
           "2009/03/26"
          ],
          [
           -6.86,
           -12.42,
           "19:13:36.4",
           "2009/03/26"
          ],
          [
           -12.8,
           -14.55,
           "10:00:47.1",
           "2009/03/27"
          ],
          [
           -11.63,
           -14.16,
           "03:20:49.1",
           "2009/07/02"
          ],
          [
           -14.05,
           -13.92,
           "01:54:32.0",
           "2009/07/11"
          ],
          [
           -1.46,
           -14.97,
           "15:27:11.1",
           "2009/08/13"
          ],
          [
           -6.5,
           -12.5,
           "16:55:12.0",
           "2009/08/21"
          ],
          [
           -38.5,
           -15.5,
           "20:40:32.0",
           "2009/11/13"
          ],
          [
           -38.49,
           -15.65,
           "00:51:33.2",
           "2009/11/14"
          ],
          [
           -11.75,
           -14.25,
           "14:12:08.0",
           "2009/11/25"
          ],
          [
           -1.33,
           -15.87,
           "12:09:37.3",
           "2009/12/03"
          ],
          [
           -38.75,
           -15.75,
           "17:20:40.0",
           "2010/01/26"
          ],
          [
           -39.25,
           -15.25,
           "18:35:44.0",
           "2010/01/26"
          ],
          [
           -38.75,
           -15.75,
           "10:46:48.0",
           "2010/01/27"
          ],
          [
           -38.65,
           -15.93,
           "11:20:36.5",
           "2010/01/27"
          ],
          [
           -38.81,
           -15.93,
           "15:47:59.3",
           "2010/01/27"
          ],
          [
           -39.25,
           -15.25,
           "03:04:48.0",
           "2010/01/28"
          ],
          [
           -17.56,
           -13.08,
           "04:36:07.2",
           "2010/03/22"
          ],
          [
           -16.31,
           -14.19,
           "20:05:41.6",
           "2010/05/17"
          ],
          [
           -0.89,
           -13.23,
           "04:25:49.4",
           "2010/06/07"
          ],
          [
           -39.92,
           -16.53,
           "06:18:23.6",
           "2010/07/10"
          ],
          [
           -1.5,
           -15.5,
           "07:14:00.0",
           "2010/10/25"
          ],
          [
           -7.51,
           -13.45,
           "22:33:47.2",
           "2010/11/17"
          ],
          [
           -17.9,
           -13.72,
           "01:37:12.7",
           "2010/11/29"
          ],
          [
           -4.97,
           -11.67,
           "04:03:43.4",
           "2010/12/22"
          ],
          [
           -8.25,
           -13.25,
           "15:00:32.0",
           "2011/01/14"
          ],
          [
           -21.12,
           -11.48,
           "00:08:35.6",
           "2011/01/17"
          ],
          [
           -5.61,
           -11.37,
           "03:46:29.6",
           "2011/03/01"
          ],
          [
           -11.25,
           -12.75,
           "14:37:52.0",
           "2011/03/16"
          ],
          [
           -10.27,
           -13.1,
           "03:03:16.9",
           "2011/03/19"
          ],
          [
           -10.28,
           -13.18,
           "18:30:28.6",
           "2011/03/19"
          ],
          [
           -10.25,
           -13.23,
           "18:43:03.2",
           "2011/03/19"
          ],
          [
           -1.22,
           -14.44,
           "04:39:33.7",
           "2011/05/01"
          ],
          [
           -11.25,
           -12.75,
           "05:25:12.0",
           "2011/05/09"
          ],
          [
           -10.12,
           -13.15,
           "07:04:18.6",
           "2011/05/12"
          ],
          [
           -21.25,
           -11.25,
           "16:17:04.0",
           "2011/05/16"
          ],
          [
           -34.73,
           -15.09,
           "12:28:45.7",
           "2011/05/25"
          ],
          [
           -11.7,
           -13.21,
           "12:30:27.1",
           "2011/06/02"
          ],
          [
           -7.86,
           -13.59,
           "23:17:58.4",
           "2011/07/09"
          ],
          [
           -7.8,
           -13.48,
           "23:47:30.1",
           "2011/07/09"
          ],
          [
           -7.01,
           -12.56,
           "01:36:45.8",
           "2011/08/11"
          ],
          [
           -6.75,
           -12.75,
           "06:58:56.0",
           "2011/08/11"
          ],
          [
           -7.02,
           -12.8,
           "08:19:39.6",
           "2011/08/11"
          ],
          [
           -38.75,
           -16.75,
           "05:07:36.0",
           "2011/09/20"
          ],
          [
           -38.75,
           -16.75,
           "08:55:52.0",
           "2011/09/21"
          ],
          [
           -38.5,
           -16.03,
           "15:35:06.7",
           "2011/09/23"
          ],
          [
           -38.42,
           -16.99,
           "14:03:03.6",
           "2011/09/26"
          ],
          [
           -12.95,
           -14.52,
           "00:08:03.9",
           "2011/09/29"
          ],
          [
           -11.7,
           -14.39,
           "06:07:31.1",
           "2011/10/25"
          ],
          [
           -5.25,
           -11.25,
           "21:11:12.0",
           "2011/11/01"
          ],
          [
           -26.5,
           -13.5,
           "20:09:36.0",
           "2011/11/14"
          ],
          [
           0.07,
           -16.4,
           "23:54:54.1",
           "2011/11/17"
          ],
          [
           -8.25,
           -13.75,
           "10:08:00.0",
           "2011/12/06"
          ],
          [
           -38.75,
           -16.25,
           "02:18:48.0",
           "2011/12/07"
          ],
          [
           -34.5,
           -14.5,
           "01:40:40.0",
           "2012/01/02"
          ],
          [
           -14.09,
           -14.26,
           "00:38:48.4",
           "2012/01/06"
          ],
          [
           -15.68,
           -12.91,
           "19:06:45.5",
           "2012/01/15"
          ],
          [
           -2.11,
           -12.6,
           "17:53:12.2",
           "2012/01/16"
          ],
          [
           -31.11,
           -13.39,
           "23:07:39.3",
           "2012/02/08"
          ],
          [
           -7.07,
           -13.05,
           "18:09:21.7",
           "2012/02/12"
          ],
          [
           -34.74,
           -16.17,
           "06:16:49.3",
           "2012/02/27"
          ],
          [
           -11.52,
           -13.25,
           "16:05:56.4",
           "2012/03/06"
          ],
          [
           0.11,
           -16.23,
           "06:00:18.9",
           "2012/03/18"
          ],
          [
           -16.86,
           -14.4,
           "04:53:26.4",
           "2012/04/11"
          ],
          [
           -16.88,
           -14.4,
           "05:44:41.5",
           "2012/04/11"
          ],
          [
           -35.16,
           -15.81,
           "20:12:48.1",
           "2012/04/13"
          ],
          [
           -12.77,
           -14.63,
           "13:27:21.0",
           "2012/04/25"
          ],
          [
           -22.61,
           -12.7,
           "07:03:23.4",
           "2012/05/09"
          ],
          [
           -1.25,
           -15.75,
           "03:00:48.0",
           "2012/06/12"
          ],
          [
           -23.9,
           -13.49,
           "01:18:57.8",
           "2012/06/23"
          ],
          [
           -25.81,
           -13.83,
           "13:01:08.2",
           "2012/08/03"
          ],
          [
           -33.15,
           -15.88,
           "07:09:46.7",
           "2012/08/09"
          ],
          [
           -28.84,
           -13.02,
           "22:09:02.8",
           "2012/08/19"
          ],
          [
           -10.92,
           -12.91,
           "02:34:25.1",
           "2012/08/24"
          ],
          [
           -34.01,
           -14.56,
           "20:16:29.6",
           "2012/09/06"
          ],
          [
           -39.64,
           -16.02,
           "06:56:16.8",
           "2012/09/14"
          ],
          [
           -39.59,
           -16.06,
           "07:07:47.4",
           "2012/09/14"
          ],
          [
           -32.45,
           -14.14,
           "14:38:07.1",
           "2012/09/22"
          ],
          [
           -5.75,
           -11.25,
           "01:51:52.0",
           "2012/09/24"
          ],
          [
           -5.67,
           -11.38,
           "02:01:36.9",
           "2012/09/24"
          ],
          [
           -24.75,
           -13.25,
           "19:07:04.0",
           "2012/09/25"
          ],
          [
           -5.64,
           -11.39,
           "10:21:19.2",
           "2012/09/27"
          ],
          [
           -15.28,
           -13.17,
           "09:04:54.9",
           "2012/10/31"
          ],
          [
           -33.31,
           -14.4,
           "09:48:49.5",
           "2012/11/10"
          ],
          [
           -11.25,
           -13.25,
           "04:51:20.0",
           "2012/11/20"
          ],
          [
           -0.44,
           -13.19,
           "12:18:40.3",
           "2012/11/21"
          ],
          [
           -31.5,
           -13.5,
           "02:39:20.0",
           "2012/11/22"
          ],
          [
           -1.42,
           -15.4,
           "08:24:21.0",
           "2012/11/26"
          ],
          [
           0.08,
           -16.77,
           "16:39:17.6",
           "2012/12/06"
          ],
          [
           -22.45,
           -12.65,
           "01:07:33.4",
           "2012/12/25"
          ],
          [
           -10.41,
           -13.13,
           "20:24:26.6",
           "2012/12/26"
          ],
          [
           -10.25,
           -13.25,
           "22:47:12.0",
           "2012/12/26"
          ],
          [
           -12.4,
           -14.88,
           "16:33:59.9",
           "2012/12/27"
          ],
          [
           -32.4,
           -14.16,
           "19:04:00.1",
           "2013/01/08"
          ],
          [
           0.25,
           -16.75,
           "14:22:40.0",
           "2013/01/12"
          ],
          [
           -1.57,
           -15.63,
           "23:58:58.2",
           "2013/01/15"
          ],
          [
           -1.79,
           -12.91,
           "10:20:04.2",
           "2013/01/31"
          ],
          [
           -33.93,
           -14.58,
           "11:41:51.2",
           "2013/02/04"
          ],
          [
           -34.02,
           -14.68,
           "11:48:42.1",
           "2013/02/04"
          ],
          [
           -33.9,
           -14.54,
           "22:26:40.0",
           "2013/02/11"
          ],
          [
           -15.57,
           -13.21,
           "20:29:17.9",
           "2013/02/16"
          ],
          [
           -15.66,
           -13.17,
           "22:43:42.3",
           "2013/02/16"
          ],
          [
           -35.41,
           -16.96,
           "09:19:18.1",
           "2013/02/25"
          ],
          [
           -28.68,
           -13.22,
           "08:10:40.7",
           "2013/04/12"
          ],
          [
           -39.25,
           -15.75,
           "12:38:40.0",
           "2013/04/27"
          ],
          [
           -34.01,
           -14.75,
           "10:02:05.6",
           "2013/05/02"
          ],
          [
           -14.01,
           -14.25,
           "18:02:48.7",
           "2013/05/05"
          ],
          [
           -15.61,
           -13.19,
           "08:21:32.0",
           "2013/05/19"
          ],
          [
           -39.54,
           -16.05,
           "01:03:59.3",
           "2013/06/18"
          ],
          [
           -11.53,
           -12.89,
           "04:41:24.7",
           "2013/07/21"
          ],
          [
           -21.31,
           -11.85,
           "00:53:54.8",
           "2013/08/20"
          ],
          [
           -11.66,
           -14.05,
           "03:40:59.7",
           "2013/08/20"
          ],
          [
           -6.25,
           -11.25,
           "02:56:40.0",
           "2013/09/02"
          ],
          [
           -6.11,
           -11.27,
           "03:44:57.8",
           "2013/09/02"
          ],
          [
           -6.25,
           -11.25,
           "04:02:00.0",
           "2013/09/02"
          ],
          [
           -6.75,
           -11.7,
           "14:41:53.4",
           "2013/09/03"
          ],
          [
           -25.75,
           -13.25,
           "21:31:44.0",
           "2013/09/14"
          ],
          [
           -31.25,
           -13.25,
           "11:01:20.0",
           "2013/09/17"
          ],
          [
           -17.25,
           -13.75,
           "07:19:12.0",
           "2013/09/19"
          ],
          [
           -17.25,
           -13.75,
           "13:25:04.0",
           "2013/09/21"
          ],
          [
           -14.04,
           -14.27,
           "19:49:56.5",
           "2013/10/03"
          ],
          [
           -10.17,
           -13.19,
           "13:50:15.9",
           "2013/10/21"
          ],
          [
           -11.67,
           -13.61,
           "07:40:40.4",
           "2013/11/02"
          ],
          [
           -11.5,
           -13.5,
           "07:46:56.0",
           "2013/11/02"
          ],
          [
           -17.75,
           -13.25,
           "21:15:28.0",
           "2013/11/08"
          ],
          [
           -26.69,
           -13.82,
           "14:39:16.5",
           "2013/11/15"
          ],
          [
           -1.98,
           -12.68,
           "13:52:13.5",
           "2013/11/20"
          ],
          [
           -0.95,
           -13.02,
           "02:35:28.0",
           "2014/01/24"
          ],
          [
           -24.92,
           -14.21,
           "12:15:32.3",
           "2014/02/10"
          ],
          [
           -0.05,
           -16.33,
           "20:54:45.4",
           "2014/02/17"
          ],
          [
           -17.25,
           -13.75,
           "22:12:56.0",
           "2014/02/19"
          ],
          [
           -14.17,
           -14.55,
           "04:09:56.0",
           "2014/02/20"
          ],
          [
           -15.78,
           -13.07,
           "02:48:08.5",
           "2014/02/28"
          ],
          [
           -35.5,
           -15.5,
           "13:59:20.0",
           "2014/03/23"
          ],
          [
           -0.75,
           -14.25,
           "11:38:24.0",
           "2014/04/15"
          ],
          [
           -28.25,
           -12.79,
           "03:21:23.0",
           "2014/04/21"
          ],
          [
           -35.6,
           -15.47,
           "22:39:28.4",
           "2014/05/05"
          ],
          [
           -10.4,
           -13.23,
           "21:11:29.1",
           "2014/05/16"
          ],
          [
           -1.02,
           -14.42,
           "01:39:17.6",
           "2014/05/25"
          ],
          [
           -22.92,
           -13.55,
           "10:59:11.0",
           "2014/05/27"
          ],
          [
           -13.7,
           -14.65,
           "09:21:21.0",
           "2014/06/21"
          ],
          [
           -35.75,
           -15.03,
           "23:22:58.0",
           "2014/07/05"
          ],
          [
           -14.32,
           -13.64,
           "04:41:33.8",
           "2014/07/13"
          ],
          [
           -14.14,
           -13.64,
           "04:49:44.0",
           "2014/07/13"
          ],
          [
           -21.2,
           -15.17,
           "17:11:16.5",
           "2014/07/26"
          ],
          [
           -19.06,
           -12.3,
           "02:24:27.6",
           "2014/07/30"
          ],
          [
           -28.9,
           -12.42,
           "04:16:24.0",
           "2014/07/31"
          ],
          [
           -5.54,
           -11.38,
           "03:26:10.7",
           "2014/08/07"
          ],
          [
           -2.28,
           -12.33,
           "23:20:47.8",
           "2014/09/12"
          ],
          [
           -35.0,
           -15.0,
           "20:58:40.0",
           "2014/09/29"
          ],
          [
           -35.09,
           -15.12,
           "23:52:57.2",
           "2014/09/29"
          ],
          [
           -7.0,
           -11.0,
           "14:09:52.0",
           "2014/10/01"
          ],
          [
           -22.18,
           -11.96,
           "17:07:47.9",
           "2014/10/12"
          ],
          [
           -1.1,
           -12.54,
           "22:46:56.6",
           "2014/10/19"
          ],
          [
           -11.69,
           -14.25,
           "23:11:06.4",
           "2014/10/21"
          ],
          [
           -24.57,
           -13.13,
           "18:38:51.5",
           "2014/11/19"
          ],
          [
           -39.64,
           -15.48,
           "13:32:49.4",
           "2014/11/25"
          ],
          [
           -39.71,
           -15.94,
           "19:47:53.7",
           "2014/11/25"
          ],
          [
           -35.25,
           -15.25,
           "11:25:36.0",
           "2014/12/01"
          ],
          [
           -35.25,
           -15.25,
           "11:42:24.0",
           "2014/12/01"
          ],
          [
           -35.0,
           -15.0,
           "20:42:16.0",
           "2014/12/01"
          ],
          [
           -35.75,
           -14.75,
           "16:22:48.0",
           "2015/01/06"
          ],
          [
           -22.25,
           -12.75,
           "08:42:00.0",
           "2015/01/11"
          ],
          [
           -16.83,
           -14.48,
           "18:47:21.0",
           "2015/01/11"
          ],
          [
           -17.16,
           -14.09,
           "20:16:60.0",
           "2015/01/11"
          ],
          [
           -16.85,
           -14.37,
           "03:04:20.3",
           "2015/01/12"
          ],
          [
           -16.79,
           -14.42,
           "05:41:51.9",
           "2015/01/12"
          ],
          [
           -16.75,
           -14.25,
           "12:54:48.0",
           "2015/01/12"
          ],
          [
           -16.75,
           -14.25,
           "11:20:24.0",
           "2015/01/13"
          ],
          [
           -17.25,
           -14.25,
           "11:38:08.0",
           "2015/01/13"
          ],
          [
           -16.69,
           -14.49,
           "09:23:28.7",
           "2015/01/14"
          ],
          [
           -16.5,
           -14.5,
           "02:18:40.0",
           "2015/01/15"
          ],
          [
           -16.71,
           -14.39,
           "07:15:13.9",
           "2015/01/15"
          ],
          [
           -26.11,
           -11.52,
           "20:29:13.4",
           "2015/01/15"
          ],
          [
           -16.41,
           -14.03,
           "08:30:29.0",
           "2015/01/18"
          ],
          [
           -16.92,
           -14.3,
           "15:44:45.4",
           "2015/01/18"
          ],
          [
           -16.84,
           -14.39,
           "18:54:54.7",
           "2015/01/18"
          ],
          [
           -24.74,
           -13.34,
           "12:02:49.9",
           "2015/01/27"
          ],
          [
           -16.91,
           -14.23,
           "03:34:31.3",
           "2015/01/30"
          ],
          [
           -16.89,
           -14.6,
           "16:54:24.1",
           "2015/02/14"
          ],
          [
           -4.5,
           -12.5,
           "11:46:56.0",
           "2015/02/15"
          ],
          [
           -4.37,
           -12.04,
           "12:10:41.6",
           "2015/02/15"
          ],
          [
           -7.61,
           -13.59,
           "03:32:21.5",
           "2015/02/18"
          ],
          [
           -22.8,
           -13.32,
           "09:08:15.1",
           "2015/02/20"
          ],
          [
           -16.85,
           -14.12,
           "11:34:06.4",
           "2015/02/21"
          ],
          [
           -28.13,
           -13.01,
           "05:45:22.2",
           "2015/03/04"
          ],
          [
           -27.97,
           -13.26,
           "14:01:10.9",
           "2015/03/04"
          ],
          [
           -17.53,
           -14.12,
           "03:21:35.0",
           "2015/03/14"
          ],
          [
           -7.07,
           -13.14,
           "09:35:20.7",
           "2015/04/03"
          ],
          [
           -2.25,
           -12.73,
           "04:43:30.9",
           "2015/04/13"
          ],
          [
           -0.99,
           -13.12,
           "11:02:34.3",
           "2015/05/04"
          ],
          [
           -3.83,
           -12.19,
           "21:02:45.8",
           "2015/05/04"
          ],
          [
           -16.8,
           -14.16,
           "10:14:10.5",
           "2015/05/19"
          ],
          [
           -16.79,
           -14.22,
           "02:06:24.8",
           "2015/05/25"
          ],
          [
           -16.82,
           -14.2,
           "00:11:09.8",
           "2015/06/02"
          ],
          [
           -7.14,
           -12.82,
           "19:18:30.6",
           "2015/06/03"
          ],
          [
           -5.96,
           -11.16,
           "20:03:14.1",
           "2015/06/08"
          ],
          [
           -34.7,
           -16.18,
           "07:26:49.2",
           "2015/07/02"
          ],
          [
           -34.11,
           -14.48,
           "00:57:07.8",
           "2015/07/15"
          ],
          [
           -11.18,
           -12.98,
           "18:52:09.0",
           "2015/07/15"
          ],
          [
           -11.75,
           -13.7,
           "21:39:52.8",
           "2015/07/22"
          ],
          [
           -6.83,
           -11.72,
           "14:19:28.6",
           "2015/08/01"
          ],
          [
           -25.63,
           -13.86,
           "10:53:17.0",
           "2015/08/02"
          ],
          [
           -13.91,
           -14.47,
           "21:15:32.3",
           "2015/08/08"
          ],
          [
           -13.97,
           -14.47,
           "02:39:55.4",
           "2015/08/09"
          ],
          [
           -0.7,
           -16.02,
           "05:11:38.4",
           "2015/08/26"
          ],
          [
           -0.79,
           -16.11,
           "05:58:52.5",
           "2015/08/26"
          ],
          [
           -11.19,
           -12.75,
           "10:30:55.0",
           "2015/09/09"
          ],
          [
           -11.05,
           -12.37,
           "10:51:44.1",
           "2015/09/09"
          ],
          [
           -35.27,
           -15.43,
           "22:41:32.3",
           "2015/11/09"
          ],
          [
           -7.64,
           -13.56,
           "13:49:44.7",
           "2015/11/19"
          ],
          [
           -12.8,
           -14.68,
           "12:14:39.1",
           "2015/12/12"
          ],
          [
           -1.08,
           -15.95,
           "10:50:31.4",
           "2016/01/07"
          ],
          [
           -34.97,
           -15.7,
           "01:51:22.7",
           "2016/01/28"
          ],
          [
           -25.71,
           -13.79,
           "17:00:32.8",
           "2016/02/11"
          ],
          [
           -1.09,
           -13.68,
           "15:26:28.0",
           "2016/02/14"
          ],
          [
           -28.83,
           -12.71,
           "23:50:40.3",
           "2016/02/29"
          ],
          [
           -1.11,
           -13.83,
           "17:14:14.5",
           "2016/04/27"
          ],
          [
           -31.17,
           -13.34,
           "00:20:47.6",
           "2016/04/30"
          ],
          [
           -23.69,
           -13.35,
           "15:23:51.8",
           "2016/05/09"
          ],
          [
           -20.45,
           -11.67,
           "01:45:35.8",
           "2016/06/14"
          ],
          [
           -20.55,
           -10.68,
           "02:13:27.8",
           "2016/06/14"
          ],
          [
           -20.5,
           -11.65,
           "02:16:48.8",
           "2016/06/14"
          ],
          [
           -20.5,
           -11.5,
           "03:03:36.0",
           "2016/06/14"
          ],
          [
           -20.63,
           -11.58,
           "22:42:17.4",
           "2016/06/14"
          ],
          [
           -5.61,
           -11.58,
           "22:52:23.0",
           "2016/06/19"
          ],
          [
           -34.5,
           -14.5,
           "05:59:28.0",
           "2016/06/25"
          ],
          [
           -12.82,
           -14.67,
           "09:58:56.9",
           "2016/06/29"
          ],
          [
           -12.5,
           -14.5,
           "10:06:32.0",
           "2016/06/29"
          ],
          [
           -19.85,
           -11.94,
           "11:07:08.1",
           "2016/06/29"
          ],
          [
           -19.87,
           -11.82,
           "11:17:37.5",
           "2016/06/29"
          ],
          [
           -19.75,
           -11.75,
           "12:17:44.0",
           "2016/06/29"
          ],
          [
           -14.57,
           -13.48,
           "01:54:09.4",
           "2016/06/30"
          ],
          [
           -7.74,
           -13.35,
           "17:38:16.1",
           "2016/07/03"
          ],
          [
           -0.54,
           -12.62,
           "10:52:52.9",
           "2016/07/04"
          ],
          [
           -24.85,
           -13.56,
           "18:49:08.3",
           "2016/07/19"
          ],
          [
           -15.6,
           -13.19,
           "03:30:12.9",
           "2016/07/20"
          ],
          [
           -15.53,
           -13.19,
           "07:57:58.8",
           "2016/07/20"
          ],
          [
           -35.32,
           -15.36,
           "06:18:09.1",
           "2016/07/23"
          ],
          [
           -11.17,
           -12.98,
           "03:55:06.3",
           "2016/08/01"
          ],
          [
           -1.25,
           -15.84,
           "17:47:43.9",
           "2016/08/23"
          ],
          [
           0.19,
           -16.86,
           "08:40:21.3",
           "2016/09/02"
          ],
          [
           -1.23,
           -14.31,
           "09:18:25.2",
           "2016/09/14"
          ],
          [
           -6.93,
           -12.59,
           "09:41:17.5",
           "2016/09/28"
          ],
          [
           -6.25,
           -11.75,
           "00:25:20.0",
           "2016/10/06"
          ],
          [
           -11.5,
           -13.75,
           "19:16:02.9",
           "2016/10/26"
          ],
          [
           -35.24,
           -15.07,
           "08:27:14.6",
           "2016/11/01"
          ],
          [
           -6.25,
           -11.25,
           "23:47:36.0",
           "2016/11/15"
          ],
          [
           -35.25,
           -16.25,
           "09:49:20.0",
           "2016/11/21"
          ],
          [
           -22.6,
           -12.65,
           "03:23:53.9",
           "2017/01/05"
          ],
          [
           -17.92,
           -13.41,
           "20:39:50.6",
           "2017/01/06"
          ],
          [
           -18.19,
           -13.66,
           "16:53:16.4",
           "2017/01/19"
          ],
          [
           -7.75,
           -13.25,
           "03:11:44.0",
           "2017/01/26"
          ],
          [
           -17.83,
           -12.9,
           "02:58:55.4",
           "2017/02/10"
          ],
          [
           -17.82,
           -13.74,
           "05:38:34.6",
           "2017/02/16"
          ],
          [
           -32.0,
           -14.0,
           "13:08:40.0",
           "2017/02/21"
          ],
          [
           -1.48,
           -15.44,
           "07:19:11.2",
           "2017/03/05"
          ],
          [
           -22.4,
           -12.44,
           "22:56:48.2",
           "2017/03/29"
          ],
          [
           -12.34,
           -14.77,
           "02:58:32.7",
           "2017/04/13"
          ],
          [
           -5.28,
           -11.51,
           "21:11:36.4",
           "2017/04/13"
          ],
          [
           -12.36,
           -14.8,
           "05:29:38.1",
           "2017/04/14"
          ],
          [
           -34.23,
           -14.79,
           "19:04:02.5",
           "2017/05/01"
          ],
          [
           -2.39,
           -12.47,
           "22:11:07.6",
           "2017/05/14"
          ],
          [
           -16.75,
           -14.25,
           "12:04:56.0",
           "2017/05/27"
          ],
          [
           -6.75,
           -11.25,
           "00:38:08.0",
           "2017/06/07"
          ],
          [
           -26.41,
           -13.64,
           "06:06:20.2",
           "2017/06/08"
          ],
          [
           -25.75,
           -13.75,
           "22:00:56.0",
           "2017/06/10"
          ],
          [
           -6.8,
           -11.81,
           "16:29:55.9",
           "2017/06/11"
          ],
          [
           -11.61,
           -13.18,
           "06:42:00.7",
           "2017/07/09"
          ],
          [
           -7.6,
           -13.63,
           "21:37:53.1",
           "2017/07/10"
          ],
          [
           -6.57,
           -11.21,
           "04:55:34.2",
           "2017/07/24"
          ],
          [
           -5.89,
           -12.63,
           "19:56:57.1",
           "2017/08/06"
          ],
          [
           -25.01,
           -13.6,
           "09:51:51.0",
           "2017/08/10"
          ],
          [
           -24.96,
           -13.46,
           "19:46:59.9",
           "2017/08/16"
          ],
          [
           -5.75,
           -12.64,
           "08:52:22.2",
           "2017/08/17"
          ],
          [
           -1.31,
           -14.59,
           "15:35:55.3",
           "2017/08/18"
          ],
          [
           -17.69,
           -13.96,
           "23:14:55.4",
           "2017/09/16"
          ],
          [
           -18.55,
           -12.7,
           "05:28:03.0",
           "2017/09/18"
          ],
          [
           -6.44,
           -11.26,
           "04:35:55.0",
           "2017/09/22"
          ],
          [
           -2.39,
           -11.91,
           "22:30:41.8",
           "2017/09/26"
          ],
          [
           -5.5,
           -11.5,
           "16:45:52.0",
           "2017/10/01"
          ],
          [
           -11.58,
           -14.23,
           "23:36:52.8",
           "2017/11/10"
          ],
          [
           -15.75,
           -13.25,
           "00:46:08.0",
           "2017/11/17"
          ],
          [
           -17.67,
           -14.06,
           "14:24:11.5",
           "2017/11/28"
          ],
          [
           -30.75,
           -13.25,
           "18:38:48.0",
           "2017/11/28"
          ],
          [
           -25.64,
           -13.86,
           "03:36:15.0",
           "2017/11/29"
          ],
          [
           -20.19,
           -12.29,
           "10:24:37.3",
           "2017/12/27"
          ],
          [
           -7.04,
           -12.58,
           "07:42:41.5",
           "2018/01/13"
          ],
          [
           -15.29,
           -13.11,
           "12:56:12.2",
           "2018/01/21"
          ],
          [
           -8.05,
           -13.63,
           "10:25:41.8",
           "2018/01/25"
          ],
          [
           -29.55,
           -13.64,
           "09:06:50.7",
           "2018/02/04"
          ],
          [
           -28.75,
           -12.25,
           "23:42:00.0",
           "2018/02/24"
          ],
          [
           -1.52,
           -14.65,
           "05:15:23.8",
           "2018/03/15"
          ],
          [
           -4.25,
           -12.25,
           "16:53:12.0",
           "2018/03/17"
          ],
          [
           -6.46,
           -11.16,
           "08:24:37.7",
           "2018/03/25"
          ],
          [
           -31.28,
           -13.39,
           "06:51:07.5",
           "2018/04/03"
          ],
          [
           -31.04,
           -13.4,
           "06:56:43.6",
           "2018/04/03"
          ],
          [
           -31.1,
           -13.19,
           "07:09:56.1",
           "2018/04/03"
          ],
          [
           -28.39,
           -12.48,
           "17:19:18.0",
           "2018/04/14"
          ],
          [
           -24.8,
           -13.29,
           "12:50:09.1",
           "2018/04/18"
          ],
          [
           -31.36,
           -13.51,
           "19:12:02.7",
           "2018/05/02"
          ],
          [
           -5.8,
           -11.59,
           "23:34:03.8",
           "2018/05/02"
          ],
          [
           -5.9,
           -11.3,
           "00:03:39.3",
           "2018/05/03"
          ],
          [
           -18.96,
           -12.3,
           "04:19:25.9",
           "2018/05/07"
          ],
          [
           -14.14,
           -14.13,
           "17:50:36.8",
           "2018/05/21"
          ],
          [
           -8.06,
           -13.68,
           "11:07:17.0",
           "2018/06/30"
          ],
          [
           -8.31,
           -13.81,
           "12:05:03.1",
           "2018/06/30"
          ],
          [
           -12.79,
           -14.54,
           "06:38:06.1",
           "2018/08/10"
          ],
          [
           -12.83,
           -14.65,
           "07:17:05.3",
           "2018/08/10"
          ],
          [
           -17.8,
           -13.28,
           "09:24:09.3",
           "2018/08/10"
          ],
          [
           -12.87,
           -14.67,
           "02:56:59.3",
           "2018/08/12"
          ],
          [
           -14.21,
           -13.72,
           "08:27:07.2",
           "2018/09/13"
          ],
          [
           -7.15,
           -12.81,
           "12:30:12.6",
           "2018/09/21"
          ],
          [
           -7.33,
           -12.65,
           "03:57:41.8",
           "2018/09/22"
          ],
          [
           -7.05,
           -12.82,
           "08:42:31.8",
           "2018/09/22"
          ],
          [
           -7.25,
           -12.75,
           "18:31:52.0",
           "2018/09/22"
          ],
          [
           -5.59,
           -11.4,
           "15:13:28.1",
           "2018/10/05"
          ],
          [
           -7.33,
           -13.15,
           "09:44:28.7",
           "2018/10/07"
          ],
          [
           -23.55,
           -13.24,
           "18:58:16.2",
           "2018/10/09"
          ],
          [
           -23.56,
           -13.41,
           "19:05:42.5",
           "2018/10/09"
          ],
          [
           -23.68,
           -13.27,
           "12:24:18.3",
           "2018/11/03"
          ],
          [
           -11.68,
           -13.94,
           "00:13:31.2",
           "2018/11/27"
          ],
          [
           -3.07,
           -12.07,
           "22:33:37.6",
           "2018/12/05"
          ],
          [
           -34.33,
           -14.57,
           "18:53:07.8",
           "2018/12/25"
          ],
          [
           -11.32,
           -13.94,
           "00:40:49.3",
           "2019/01/08"
          ],
          [
           -17.84,
           -13.52,
           "21:15:58.2",
           "2019/02/22"
          ],
          [
           -7.22,
           -12.69,
           "04:57:38.8",
           "2019/04/25"
          ],
          [
           -7.0,
           -13.0,
           "17:55:28.0",
           "2019/05/01"
          ],
          [
           -3.26,
           -12.1,
           "16:11:30.0",
           "2019/05/06"
          ],
          [
           -0.75,
           -13.75,
           "18:45:44.0",
           "2019/05/12"
          ],
          [
           -2.57,
           -12.21,
           "15:56:41.3",
           "2019/05/23"
          ],
          [
           -14.16,
           -14.53,
           "10:17:43.5",
           "2019/06/01"
          ],
          [
           -1.75,
           -13.25,
           "19:00:48.0",
           "2019/06/29"
          ],
          [
           -1.74,
           -12.9,
           "19:27:08.6",
           "2019/06/29"
          ],
          [
           -1.64,
           -12.74,
           "19:59:22.5",
           "2019/06/29"
          ],
          [
           -1.88,
           -13.0,
           "23:03:03.4",
           "2019/06/29"
          ],
          [
           -6.9,
           -11.93,
           "17:58:34.5",
           "2019/07/10"
          ],
          [
           -11.33,
           -13.14,
           "08:41:56.7",
           "2019/07/30"
          ],
          [
           -32.5,
           -13.5,
           "00:08:56.0",
           "2019/07/31"
          ],
          [
           -14.08,
           -13.95,
           "00:41:04.8",
           "2019/07/31"
          ],
          [
           -22.23,
           -12.37,
           "19:51:51.7",
           "2019/08/14"
          ],
          [
           -28.25,
           -12.75,
           "04:47:44.0",
           "2019/08/20"
          ],
          [
           -28.05,
           -13.19,
           "10:59:25.9",
           "2019/08/20"
          ],
          [
           -13.0,
           -15.0,
           "20:35:36.0",
           "2019/09/10"
          ],
          [
           -21.25,
           -11.25,
           "17:30:32.0",
           "2019/10/05"
          ],
          [
           -29.17,
           -12.94,
           "19:17:19.8",
           "2019/10/16"
          ],
          [
           -32.63,
           -14.45,
           "09:14:04.1",
           "2019/10/20"
          ],
          [
           -29.04,
           -12.9,
           "13:07:32.5",
           "2019/11/07"
          ],
          [
           -28.0,
           -13.23,
           "10:35:55.8",
           "2019/11/10"
          ],
          [
           -31.17,
           -13.35,
           "02:25:44.1",
           "2019/12/21"
          ],
          [
           -31.26,
           -13.5,
           "02:33:14.9",
           "2019/12/21"
          ],
          [
           -6.35,
           -11.03,
           "18:04:47.9",
           "2019/12/27"
          ],
          [
           -31.53,
           -13.46,
           "09:36:29.1",
           "2020/01/05"
          ],
          [
           -30.75,
           -13.25,
           "10:06:48.0",
           "2020/01/05"
          ],
          [
           -12.75,
           -14.75,
           "16:19:04.0",
           "2020/02/21"
          ],
          [
           -12.28,
           -14.79,
           "04:11:10.7",
           "2020/02/27"
          ],
          [
           -13.03,
           -15.11,
           "15:10:27.6",
           "2020/02/27"
          ],
          [
           -13.79,
           -14.67,
           "15:18:18.7",
           "2020/02/27"
          ],
          [
           -15.25,
           -13.25,
           "21:05:44.0",
           "2020/03/05"
          ],
          [
           -27.64,
           -13.31,
           "07:27:38.6",
           "2020/03/12"
          ],
          [
           -19.78,
           -11.78,
           "05:58:34.0",
           "2020/03/26"
          ],
          [
           -19.62,
           -11.69,
           "06:13:08.4",
           "2020/03/26"
          ],
          [
           0.09,
           -16.36,
           "15:50:06.9",
           "2020/05/24"
          ],
          [
           -7.49,
           -13.69,
           "05:03:05.9",
           "2020/06/06"
          ],
          [
           -15.37,
           -13.17,
           "21:14:39.7",
           "2020/06/10"
          ],
          [
           -6.75,
           -11.78,
           "00:53:26.3",
           "2020/06/12"
          ],
          [
           -6.93,
           -10.78,
           "10:13:55.0",
           "2020/07/01"
          ],
          [
           -15.25,
           -13.25,
           "14:58:16.0",
           "2020/07/04"
          ],
          [
           -15.25,
           -13.25,
           "16:26:00.0",
           "2020/07/04"
          ],
          [
           -25.5,
           -13.5,
           "01:18:40.0",
           "2020/07/24"
          ],
          [
           -22.67,
           -12.6,
           "08:17:01.1",
           "2020/07/26"
          ],
          [
           -22.69,
           -12.6,
           "08:26:55.8",
           "2020/07/26"
          ],
          [
           -5.43,
           -12.28,
           "15:33:39.9",
           "2020/07/27"
          ],
          [
           -22.92,
           -13.5,
           "09:17:17.5",
           "2020/08/01"
          ],
          [
           -3.9,
           -12.36,
           "23:25:14.1",
           "2020/08/10"
          ],
          [
           -17.54,
           -12.98,
           "11:45:38.7",
           "2020/08/17"
          ],
          [
           -35.0,
           -15.0,
           "14:51:52.0",
           "2020/08/20"
          ],
          [
           -7.15,
           -12.97,
           "10:21:29.5",
           "2020/08/22"
          ],
          [
           -15.56,
           -12.78,
           "23:46:04.5",
           "2020/09/11"
          ],
          [
           -15.56,
           -13.23,
           "23:54:12.4",
           "2020/09/11"
          ],
          [
           -0.75,
           -14.25,
           "06:02:00.0",
           "2020/10/22"
          ],
          [
           -22.46,
           -12.72,
           "21:00:55.5",
           "2020/11/27"
          ],
          [
           -25.06,
           -13.0,
           "11:21:55.2",
           "2020/12/01"
          ],
          [
           -7.52,
           -13.69,
           "02:53:59.6",
           "2020/12/04"
          ],
          [
           -17.75,
           -12.75,
           "06:42:00.0",
           "2020/12/13"
          ],
          [
           -1.25,
           -13.66,
           "21:58:16.1",
           "2020/12/30"
          ]
         ],
         "hovertemplate": "<b>%{hovertext}</b><br><br>Cluster=225<br>Lat=%{customdata[0]}<br>Lon=%{customdata[1]}<br>Time=%{customdata[2]}<br>Date=%{customdata[3]}<extra></extra>",
         "hovertext": {
          "dtype": "f8",
          "bdata": "AAAAAAAgbEAAAAAAACBsQAAAAAAAIGxAAAAAAAAgbEAAAAAAACBsQAAAAAAAIGxAAAAAAAAgbEAAAAAAACBsQAAAAAAAIGxAAAAAAAAgbEAAAAAAACBsQAAAAAAAIGxAAAAAAAAgbEAAAAAAACBsQAAAAAAAIGxAAAAAAAAgbEAAAAAAACBsQAAAAAAAIGxAAAAAAAAgbEAAAAAAACBsQAAAAAAAIGxAAAAAAAAgbEAAAAAAACBsQAAAAAAAIGxAAAAAAAAgbEAAAAAAACBsQAAAAAAAIGxAAAAAAAAgbEAAAAAAACBsQAAAAAAAIGxAAAAAAAAgbEAAAAAAACBsQAAAAAAAIGxAAAAAAAAgbEAAAAAAACBsQAAAAAAAIGxAAAAAAAAgbEAAAAAAACBsQAAAAAAAIGxAAAAAAAAgbEAAAAAAACBsQAAAAAAAIGxAAAAAAAAgbEAAAAAAACBsQAAAAAAAIGxAAAAAAAAgbEAAAAAAACBsQAAAAAAAIGxAAAAAAAAgbEAAAAAAACBsQAAAAAAAIGxAAAAAAAAgbEAAAAAAACBsQAAAAAAAIGxAAAAAAAAgbEAAAAAAACBsQAAAAAAAIGxAAAAAAAAgbEAAAAAAACBsQAAAAAAAIGxAAAAAAAAgbEAAAAAAACBsQAAAAAAAIGxAAAAAAAAgbEAAAAAAACBsQAAAAAAAIGxAAAAAAAAgbEAAAAAAACBsQAAAAAAAIGxAAAAAAAAgbEAAAAAAACBsQAAAAAAAIGxAAAAAAAAgbEAAAAAAACBsQAAAAAAAIGxAAAAAAAAgbEAAAAAAACBsQAAAAAAAIGxAAAAAAAAgbEAAAAAAACBsQAAAAAAAIGxAAAAAAAAgbEAAAAAAACBsQAAAAAAAIGxAAAAAAAAgbEAAAAAAACBsQAAAAAAAIGxAAAAAAAAgbEAAAAAAACBsQAAAAAAAIGxAAAAAAAAgbEAAAAAAACBsQAAAAAAAIGxAAAAAAAAgbEAAAAAAACBsQAAAAAAAIGxAAAAAAAAgbEAAAAAAACBsQAAAAAAAIGxAAAAAAAAgbEAAAAAAACBsQAAAAAAAIGxAAAAAAAAgbEAAAAAAACBsQAAAAAAAIGxAAAAAAAAgbEAAAAAAACBsQAAAAAAAIGxAAAAAAAAgbEAAAAAAACBsQAAAAAAAIGxAAAAAAAAgbEAAAAAAACBsQAAAAAAAIGxAAAAAAAAgbEAAAAAAACBsQAAAAAAAIGxAAAAAAAAgbEAAAAAAACBsQAAAAAAAIGxAAAAAAAAgbEAAAAAAACBsQAAAAAAAIGxAAAAAAAAgbEAAAAAAACBsQAAAAAAAIGxAAAAAAAAgbEAAAAAAACBsQAAAAAAAIGxAAAAAAAAgbEAAAAAAACBsQAAAAAAAIGxAAAAAAAAgbEAAAAAAACBsQAAAAAAAIGxAAAAAAAAgbEAAAAAAACBsQAAAAAAAIGxAAAAAAAAgbEAAAAAAACBsQAAAAAAAIGxAAAAAAAAgbEAAAAAAACBsQAAAAAAAIGxAAAAAAAAgbEAAAAAAACBsQAAAAAAAIGxAAAAAAAAgbEAAAAAAACBsQAAAAAAAIGxAAAAAAAAgbEAAAAAAACBsQAAAAAAAIGxAAAAAAAAgbEAAAAAAACBsQAAAAAAAIGxAAAAAAAAgbEAAAAAAACBsQAAAAAAAIGxAAAAAAAAgbEAAAAAAACBsQAAAAAAAIGxAAAAAAAAgbEAAAAAAACBsQAAAAAAAIGxAAAAAAAAgbEAAAAAAACBsQAAAAAAAIGxAAAAAAAAgbEAAAAAAACBsQAAAAAAAIGxAAAAAAAAgbEAAAAAAACBsQAAAAAAAIGxAAAAAAAAgbEAAAAAAACBsQAAAAAAAIGxAAAAAAAAgbEAAAAAAACBsQAAAAAAAIGxAAAAAAAAgbEAAAAAAACBsQAAAAAAAIGxAAAAAAAAgbEAAAAAAACBsQAAAAAAAIGxAAAAAAAAgbEAAAAAAACBsQAAAAAAAIGxAAAAAAAAgbEAAAAAAACBsQAAAAAAAIGxAAAAAAAAgbEAAAAAAACBsQAAAAAAAIGxAAAAAAAAgbEAAAAAAACBsQAAAAAAAIGxAAAAAAAAgbEAAAAAAACBsQAAAAAAAIGxAAAAAAAAgbEAAAAAAACBsQAAAAAAAIGxAAAAAAAAgbEAAAAAAACBsQAAAAAAAIGxAAAAAAAAgbEAAAAAAACBsQAAAAAAAIGxAAAAAAAAgbEAAAAAAACBsQAAAAAAAIGxAAAAAAAAgbEAAAAAAACBsQAAAAAAAIGxAAAAAAAAgbEAAAAAAACBsQAAAAAAAIGxAAAAAAAAgbEAAAAAAACBsQAAAAAAAIGxAAAAAAAAgbEAAAAAAACBsQAAAAAAAIGxAAAAAAAAgbEAAAAAAACBsQAAAAAAAIGxAAAAAAAAgbEAAAAAAACBsQAAAAAAAIGxAAAAAAAAgbEAAAAAAACBsQAAAAAAAIGxAAAAAAAAgbEAAAAAAACBsQAAAAAAAIGxAAAAAAAAgbEAAAAAAACBsQAAAAAAAIGxAAAAAAAAgbEAAAAAAACBsQAAAAAAAIGxAAAAAAAAgbEAAAAAAACBsQAAAAAAAIGxAAAAAAAAgbEAAAAAAACBsQAAAAAAAIGxAAAAAAAAgbEAAAAAAACBsQAAAAAAAIGxAAAAAAAAgbEAAAAAAACBsQAAAAAAAIGxAAAAAAAAgbEAAAAAAACBsQAAAAAAAIGxAAAAAAAAgbEAAAAAAACBsQAAAAAAAIGxAAAAAAAAgbEAAAAAAACBsQAAAAAAAIGxAAAAAAAAgbEAAAAAAACBsQAAAAAAAIGxAAAAAAAAgbEAAAAAAACBsQAAAAAAAIGxAAAAAAAAgbEAAAAAAACBsQAAAAAAAIGxAAAAAAAAgbEAAAAAAACBsQAAAAAAAIGxAAAAAAAAgbEAAAAAAACBsQAAAAAAAIGxAAAAAAAAgbEAAAAAAACBsQAAAAAAAIGxAAAAAAAAgbEAAAAAAACBsQAAAAAAAIGxAAAAAAAAgbEAAAAAAACBsQAAAAAAAIGxAAAAAAAAgbEAAAAAAACBsQAAAAAAAIGxAAAAAAAAgbEAAAAAAACBsQAAAAAAAIGxAAAAAAAAgbEAAAAAAACBsQAAAAAAAIGxAAAAAAAAgbEAAAAAAACBsQAAAAAAAIGxAAAAAAAAgbEAAAAAAACBsQAAAAAAAIGxAAAAAAAAgbEAAAAAAACBsQAAAAAAAIGxAAAAAAAAgbEAAAAAAACBsQAAAAAAAIGxAAAAAAAAgbEAAAAAAACBsQAAAAAAAIGxAAAAAAAAgbEAAAAAAACBsQAAAAAAAIGxAAAAAAAAgbEAAAAAAACBsQAAAAAAAIGxAAAAAAAAgbEAAAAAAACBsQAAAAAAAIGxAAAAAAAAgbEAAAAAAACBsQAAAAAAAIGxAAAAAAAAgbEAAAAAAACBsQAAAAAAAIGxAAAAAAAAgbEAAAAAAACBsQAAAAAAAIGxAAAAAAAAgbEAAAAAAACBsQAAAAAAAIGxAAAAAAAAgbEAAAAAAACBsQAAAAAAAIGxAAAAAAAAgbEAAAAAAACBsQAAAAAAAIGxAAAAAAAAgbEAAAAAAACBsQAAAAAAAIGxAAAAAAAAgbEAAAAAAACBsQAAAAAAAIGxAAAAAAAAgbEAAAAAAACBsQAAAAAAAIGxAAAAAAAAgbEAAAAAAACBsQAAAAAAAIGxAAAAAAAAgbEAAAAAAACBsQAAAAAAAIGxAAAAAAAAgbEAAAAAAACBsQAAAAAAAIGxAAAAAAAAgbEAAAAAAACBsQAAAAAAAIGxAAAAAAAAgbEAAAAAAACBsQAAAAAAAIGxAAAAAAAAgbEAAAAAAACBsQAAAAAAAIGxAAAAAAAAgbEAAAAAAACBsQAAAAAAAIGxAAAAAAAAgbEAAAAAAACBsQAAAAAAAIGxAAAAAAAAgbEAAAAAAACBsQAAAAAAAIGxAAAAAAAAgbEAAAAAAACBsQAAAAAAAIGxAAAAAAAAgbEAAAAAAACBsQAAAAAAAIGxAAAAAAAAgbEAAAAAAACBsQAAAAAAAIGxAAAAAAAAgbEAAAAAAACBsQAAAAAAAIGxAAAAAAAAgbEAAAAAAACBsQAAAAAAAIGxAAAAAAAAgbEAAAAAAACBsQAAAAAAAIGxAAAAAAAAgbEAAAAAAACBsQAAAAAAAIGxAAAAAAAAgbEAAAAAAACBsQAAAAAAAIGxAAAAAAAAgbEAAAAAAACBsQAAAAAAAIGxAAAAAAAAgbEAAAAAAACBsQAAAAAAAIGxAAAAAAAAgbEAAAAAAACBsQAAAAAAAIGxAAAAAAAAgbEAAAAAAACBsQAAAAAAAIGxAAAAAAAAgbEAAAAAAACBsQAAAAAAAIGxAAAAAAAAgbEAAAAAAACBsQAAAAAAAIGxAAAAAAAAgbEAAAAAAACBsQAAAAAAAIGxAAAAAAAAgbEAAAAAAACBsQAAAAAAAIGxAAAAAAAAgbEAAAAAAACBsQAAAAAAAIGxAAAAAAAAgbEAAAAAAACBsQAAAAAAAIGxAAAAAAAAgbEAAAAAAACBsQAAAAAAAIGxAAAAAAAAgbEAAAAAAACBsQAAAAAAAIGxAAAAAAAAgbEAAAAAAACBsQAAAAAAAIGxAAAAAAAAgbEAAAAAAACBsQAAAAAAAIGxAAAAAAAAgbEAAAAAAACBsQAAAAAAAIGxAAAAAAAAgbEAAAAAAACBsQAAAAAAAIGxAAAAAAAAgbEAAAAAAACBsQAAAAAAAIGxAAAAAAAAgbEAAAAAAACBsQAAAAAAAIGxAAAAAAAAgbEAAAAAAACBsQAAAAAAAIGxAAAAAAAAgbEAAAAAAACBsQAAAAAAAIGxAAAAAAAAgbEAAAAAAACBsQAAAAAAAIGxAAAAAAAAgbEAAAAAAACBsQAAAAAAAIGxAAAAAAAAgbEAAAAAAACBsQAAAAAAAIGxAAAAAAAAgbEAAAAAAACBsQAAAAAAAIGxAAAAAAAAgbEAAAAAAACBsQAAAAAAAIGxAAAAAAAAgbEAAAAAAACBsQAAAAAAAIGxAAAAAAAAgbEAAAAAAACBsQA=="
         },
         "lat": {
          "dtype": "f8",
          "bdata": "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"
         },
         "legendgroup": "225",
         "lon": {
          "dtype": "f8",
          "bdata": "rkfhehTuMMB7FK5H4fovwOxRuB6F6y/AexSuR+G6MMDD9Shcj8IwwKRwPQrXIy/Aj8L1KFzPMMDsUbgeheswwLgehetRuC/Aj8L1KFzPMMAAAAAAAAAtwNejcD0K1y/APQrXo3C9L8DXo3A9ClcqwD0K16NwvSjAzczMzMzMKsCkcD0K1yMwwOxRuB6F6ynAH4XrUbieLMBcj8L1KFwowAAAAAAAgCrAcT0K16NwLcCamZmZmZkowMP1KFyPwijAw/UoXI/CKMDsUbgehWsqwLgehetROCfAmpmZmZmZJ8AUrkfhehQtwHsUrkfheirAhetRuB4FKsCPwvUoXI8owPYoXI/C9SrAXI/C9SjcLMDD9Shcj8IqwM3MzMzMTCvACtejcD0KK8DhehSuR2EtwK5H4XoULirA4XoUrkdhKsBxPQrXo3AtwHsUrkfh+irAmpmZmZkZKsApXI/C9agrwB+F61G4HibAPQrXo3C9KsBI4XoUrkcqwOF6FK5H4SvA7FG4HoUrMMAAAAAAAIAqwB+F61G4nirAKVyPwvWoKcAAAAAAAAAuwAAAAAAAgC3AAAAAAAAAJ8AAAAAAAAAuwArXo3A9ii3A4XoUrkdhLcApXI/C9SgswI/C9ShcDyfA7FG4HoXrJ8AfhetRuB4rwKRwPQrXIzDAmpmZmZkZJ8D2KFyPwvUmwJqZmZmZmSfAj8L1KFyPKMAAAAAAAIApwFK4HoXrUSrAuB6F61G4LMDNzMzMzEwqwD0K16NwvSrAAAAAAAAAL8AAAAAAAIApwOxRuB6FayzAexSuR+H6KsB7FK5H4foswAAAAAAAgCrAZmZmZmbmKsAAAAAAAAAqwEjhehSuRyrAUrgehevRKsAAAAAAAIAuwAAAAAAAgC/Aw/UoXI/CL8BmZmZmZmYvwD0K16NwvS/AAAAAAACAK8ApXI/C9SgmwJqZmZmZGS3APQrXo3A9LcAfhetRuB4twOF6FK5HYS3AFK5H4XoUKcDXo3A9CtcowJqZmZmZGS3AUrgehetRLMDXo3A9CtcrwHE9Ctej8C3AAAAAAAAAKcAAAAAAAAAvwM3MzMzMTC/AAAAAAACALMA9CtejcL0vwAAAAAAAgC/AAAAAAACALsAAAAAAAIAvwFyPwvUo3C/AXI/C9SjcL8AAAAAAAIAuwClcj8L1KCrA4XoUrkdhLMD2KFyPwnUqwEjhehSuhzDAAAAAAAAAL8BmZmZmZuYqwHE9CtejcCvA16NwPQpXJ8AAAAAAAIAqwPYoXI/C9SbAPQrXo3C9JsAAAAAAAIApwDMzMzMzMyrAXI/C9ShcKsD2KFyPwnUqwOF6FK5H4SzAAAAAAACAKcDNzMzMzEwqwAAAAAAAgCbArkfhehQuLsDsUbgehWsqwK5H4XoULivA9ihcj8L1KsAfhetRuB4pwAAAAAAAgCnAmpmZmZmZKcAAAAAAAMAwwAAAAAAAwDDASOF6FK4HMMA9CtejcP0wwArXo3A9Ci3ASOF6FK7HLMAAAAAAAIAmwAAAAAAAACvAZmZmZmZmMMAAAAAAAIArwAAAAAAAQDDAAAAAAAAALcCF61G4HoUswFK4HoXr0SnAMzMzMzMzKcBI4XoUrscqwJqZmZmZGSrA7FG4HoUrMMAAAAAAAIAqwHsUrkfhOjDAzczMzMzMLMDNzMzMzMwswB+F61G4ni/Aw/UoXI9CLcBmZmZmZmYpwAAAAAAAgC/AexSuR+H6KsApXI/C9agrwMP1KFyPwi/ACtejcD0KKsBSuB6F69EpwB+F61G4Hi3AhetRuB4FMMCPwvUoXA8wwEjhehSuRyzAAAAAAACAJsDD9Shcj8ImwAAAAAAAgCrASOF6FK7HJsDXo3A9ClcqwM3MzMzMzCzAAAAAAACAKsDhehSuR2EqwAAAAAAAACvAzczMzMzMLsCF61G4HsUwwM3MzMzMTCnAw/UoXI9CKsAAAAAAAIAqwMP1KFyPwi3AUrgehetRLMAAAAAAAMAwwMP1KFyPQi/AUrgehevRKcApXI/C9SgtwFyPwvUoXC3AFK5H4XoULcDsUbgehWsqwNejcD0KVyrA9ihcj8L1MMBxPQrXo3AqwAAAAAAAgC/AAAAAAACALcAAAAAAAIAswOF6FK5HYSrAzczMzMwMMMBI4XoUrscpwDMzMzMzsyfAmpmZmZkZLMAAAAAAAIAmwArXo3A9iibAAAAAAACAJsBmZmZmZmYnwAAAAAAAgCrAAAAAAACAKsAAAAAAAIArwAAAAAAAgCvACtejcD2KLMDhehSuR2EqwLgehetROCvAAAAAAAAAK8AAAAAAAIAqwKRwPQrXoyvAXI/C9ShcKcAK16NwPQoqwOxRuB6FayzAFK5H4XpUMMAAAAAAAIArwJqZmZmZGS3ApHA9CtcjKsAAAAAAAAAvwAAAAAAAgCzAFK5H4XqUKcBxPQrXo/AuwPYoXI/CdSrA16NwPQrXLMCamZmZmRkrwM3MzMzMTC3Aj8L1KFwPLsBI4XoUrkcrwEjhehSuRyvA16NwPQpXLsCamZmZmZkowNejcD0K1yjAw/UoXI/CJsApXI/C9agowAAAAAAAAC7APQrXo3A9LsAAAAAAAAAmwOxRuB6F6yfAFK5H4XoUKcAAAAAAAIAswMP1KFyPQirA9ihcj8L1LsDhehSuR+EvwAAAAAAAgC7AAAAAAACALsAAAAAAAAAuwAAAAAAAgC3AAAAAAACAKcD2KFyPwvUswK5H4XoULizAPQrXo3C9LMDXo3A9CtcswAAAAAAAgCzAAAAAAACALMAAAAAAAIAswHsUrkfh+izAAAAAAAAALcBI4XoUrscswArXo3A9CifAj8L1KFwPLMCamZmZmZkswEjhehSuxyzArkfhehSuKsD2KFyPwnUswDMzMzMzMy3AAAAAAAAAKcAUrkfhehQowK5H4XoULivApHA9CtejKsA9CtejcD0swIXrUbgeBSrAhetRuB6FKsA9CtejcD0swEjhehSuRyrA9ihcj8J1KcA9CtejcD0qwOF6FK5HYSjAUrgehetRLMBxPQrXo3AswGZmZmZmZizApHA9CtejKcBSuB6F61EmwK5H4XoULjDA9ihcj8L1LMD2KFyPwvUpwGZmZmZmZivAcT0K16NwJ8C4HoXrUbgrwHE9Ctej8CzAcT0K16PwLMCF61G4HgUwwFyPwvUoHDDAAAAAAACAKcA9CtejcL0owFyPwvUo3C7AH4XrUbgeK8Bcj8L1KFwtwGZmZmZm5i/AZmZmZmZmL8AUrkfhepQrwFyPwvUoXCvA7FG4HoVrKcApXI/C9agrwK5H4XoUrirAMzMzMzOzKsDXo3A9ClcnwFyPwvUoXCXAzczMzMxMJ8AAAAAAAAAnwClcj8L1KCfAKVyPwvUoJ8AAAAAAAAAtwNejcD0KVy3AAAAAAAAALcDhehSuR+EnwKRwPQrXoyfAAAAAAACAJ8D2KFyPwvUqwDMzMzMzsyrAPQrXo3A9KcAfhetRuB4rwOF6FK5HYSrA4XoUrkdhKsC4HoXrUbguwPYoXI/C9SnArkfhehSuL8Bcj8L1KNwwwB+F61G4nizArkfhehQuKcAAAAAAAIAnwAAAAAAAgCvApHA9CtcjLsAAAAAAAIAmwAAAAAAAQDDAzczMzMxMKcBSuB6F69EqwFK4HoXrUSvAAAAAAACAKsDNzMzMzMwpwHsUrkfheivAAAAAAAAALMDhehSuR+EuwOF6FK5H4SjACtejcD2KLcCF61G4HgUnwJqZmZmZmS3AFK5H4XqULcBxPQrXo/AowAAAAAAAgCzAAAAAAACAJsBI4XoUrkcrwAAAAAAAgCvAH4XrUbieJ8Bcj8L1KFwqwMP1KFyPQivA7FG4HoVrJsDD9Shcj0IpwDMzMzMzMyvA7FG4HoXrKsBI4XoUrkcpwK5H4XoULi3A7FG4HoXrK8BmZmZmZmYpwIXrUbgehSbAUrgehevRJ8AAAAAAAAAnwPYoXI/CdSzAAAAAAACAKsAfhetRuB4swAAAAAAAgCrAuB6F61G4K8AUrkfhepQowClcj8L1KCnAuB6F61E4KsDD9Shcj0IrwEjhehSuRyvAAAAAAACAKMDNzMzMzEwtwAAAAAAAgCjAUrgehetRJsBI4XoUrscqwM3MzMzMzCrA4XoUrkdhKsD2KFyPwvUowBSuR+F6lCrAhetRuB4FK8CuR+F6FC4nwJqZmZmZmSbAmpmZmZmZKMDD9Shcj0IswFyPwvUoXCvAH4XrUbieK8AUrkfhehQtwM3MzMzMTC3Aj8L1KFyPKsDXo3A9ClctwHE9CtejcCvAH4XrUbieKcDNzMzMzEwpwKRwPQrXoynAAAAAAACAKcDNzMzMzMwmwM3MzMzMTCrAexSuR+F6KsBSuB6F69EqwArXo3A9iirA4XoUrkfhK8CkcD0K1yMowKRwPQrXIy3A4XoUrkfhK8AK16NwPQorwOF6FK5HYSnAAAAAAAAAKsAzMzMzMzMowAAAAAAAgCvA7FG4HoVrKMCPwvUoXA8twAAAAAAAgCrAzczMzMzMKcB7FK5H4XopwAAAAAAAACrAXI/C9SjcJ8BI4XoUrkcqwAAAAAAAACvAZmZmZmbmK8A9CtejcL0owAAAAAAAgCnA4XoUrkdhKsAAAAAAAAAuwAAAAAAAgCbA4XoUrkfhKcBmZmZmZuYswM3MzMzMzCnA9ihcj8J1KsAzMzMzM7MqwAAAAAAAACvAj8L1KFwPJsDsUbgehesqwAAAAAAAgCrAAAAAAACALcAUrkfhepQtwLgehetROC7A16NwPQpXLcAAAAAAAIAqwB+F61G4nirAj8L1KFyPJ8DhehSuR2EnwFyPwvUoXDDA4XoUrkdhK8DXo3A9ClcqwI/C9ShcjyfAj8L1KFyPJcAAAAAAAIAqwAAAAAAAgCrAAAAAAAAAK8AzMzMzMzMpwDMzMzMzMynAj8L1KFyPKMAAAAAAAAArwLgehetRuCjA9ihcj8L1KcAAAAAAAAAuwHE9Ctej8CnAj8L1KFyPKcD2KFyPwnUqwAAAAAAAgCzAcT0K16NwKcAAAAAAAAAqwOF6FK5HYSvAAAAAAACAKcBSuB6F61ErwA=="
         },
         "marker": {
          "color": "#C075A6"
         },
         "mode": "markers",
         "name": "225",
         "showlegend": true,
         "subplot": "map",
         "type": "scattermap"
        },
        {
         "customdata": [
          [
           35.35,
           39.54,
           "14:31:02.4",
           "1994/11/20"
          ],
          [
           34.29,
           38.71,
           "22:16:26.1",
           "1996/12/24"
          ]
         ],
         "hovertemplate": "<b>%{hovertext}</b><br><br>Cluster=231<br>Lat=%{customdata[0]}<br>Lon=%{customdata[1]}<br>Time=%{customdata[2]}<br>Date=%{customdata[3]}<extra></extra>",
         "hovertext": {
          "dtype": "f8",
          "bdata": "AAAAAADgbEAAAAAAAOBsQA=="
         },
         "lat": {
          "dtype": "f8",
          "bdata": "zczMzMysQUCF61G4HiVBQA=="
         },
         "legendgroup": "231",
         "lon": {
          "dtype": "f8",
          "bdata": "hetRuB7FQ0B7FK5H4VpDQA=="
         },
         "marker": {
          "color": "#FC1CBF"
         },
         "mode": "markers",
         "name": "231",
         "showlegend": true,
         "subplot": "map",
         "type": "scattermap"
        },
        {
         "customdata": [
          [
           -39.0,
           46.74,
           "21:49:15.4",
           "1994/12/12"
          ],
          [
           -37.51,
           50.92,
           "21:26:39.4",
           "1996/05/11"
          ],
          [
           -37.97,
           48.56,
           "05:53:33.3",
           "1997/04/14"
          ],
          [
           -38.07,
           48.48,
           "09:29:26.6",
           "1997/04/14"
          ],
          [
           -38.09,
           48.52,
           "05:09:33.9",
           "1997/04/15"
          ]
         ],
         "hovertemplate": "<b>%{hovertext}</b><br><br>Cluster=11<br>Lat=%{customdata[0]}<br>Lon=%{customdata[1]}<br>Time=%{customdata[2]}<br>Date=%{customdata[3]}<extra></extra>",
         "hovertext": {
          "dtype": "f8",
          "bdata": "AAAAAAAAJkAAAAAAAAAmQAAAAAAAACZAAAAAAAAAJkAAAAAAAAAmQA=="
         },
         "lat": {
          "dtype": "f8",
          "bdata": "AAAAAACAQ8DhehSuR8FCwFyPwvUo/ELAKVyPwvUIQ8DsUbgehQtDwA=="
         },
         "legendgroup": "11",
         "lon": {
          "dtype": "f8",
          "bdata": "H4XrUbheR0D2KFyPwnVJQEjhehSuR0hAPQrXo3A9SEDD9Shcj0JIQA=="
         },
         "marker": {
          "color": "#B00068"
         },
         "mode": "markers",
         "name": "11",
         "showlegend": true,
         "subplot": "map",
         "type": "scattermap"
        },
        {
         "customdata": [
          [
           -14.0,
           -14.47,
           "17:56:37.6",
           "1995/03/04"
          ],
          [
           -15.7,
           -13.2,
           "19:33:40.4",
           "1996/08/13"
          ]
         ],
         "hovertemplate": "<b>%{hovertext}</b><br><br>Cluster=60<br>Lat=%{customdata[0]}<br>Lon=%{customdata[1]}<br>Time=%{customdata[2]}<br>Date=%{customdata[3]}<extra></extra>",
         "hovertext": {
          "dtype": "f8",
          "bdata": "AAAAAAAATkAAAAAAAABOQA=="
         },
         "lat": {
          "dtype": "f8",
          "bdata": "AAAAAAAALMBmZmZmZmYvwA=="
         },
         "legendgroup": "60",
         "lon": {
          "dtype": "f8",
          "bdata": "cT0K16PwLMBmZmZmZmYqwA=="
         },
         "marker": {
          "color": "#FBE426"
         },
         "mode": "markers",
         "name": "60",
         "showlegend": true,
         "subplot": "map",
         "type": "scattermap"
        },
        {
         "customdata": [
          [
           -14.05,
           -14.27,
           "07:28:19.8",
           "1995/05/13"
          ],
          [
           -12.78,
           -14.64,
           "16:07:03.7",
           "1996/06/08"
          ],
          [
           -12.87,
           -14.69,
           "16:37:03.7",
           "1996/06/08"
          ]
         ],
         "hovertemplate": "<b>%{hovertext}</b><br><br>Cluster=110<br>Lat=%{customdata[0]}<br>Lon=%{customdata[1]}<br>Time=%{customdata[2]}<br>Date=%{customdata[3]}<extra></extra>",
         "hovertext": {
          "dtype": "f8",
          "bdata": "AAAAAACAW0AAAAAAAIBbQAAAAAAAgFtA"
         },
         "lat": {
          "dtype": "f8",
          "bdata": "mpmZmZkZLMCPwvUoXI8pwD0K16NwvSnA"
         },
         "legendgroup": "110",
         "lon": {
          "dtype": "f8",
          "bdata": "CtejcD2KLMBI4XoUrkctwOF6FK5HYS3A"
         },
         "marker": {
          "color": "#FA0087"
         },
         "mode": "markers",
         "name": "110",
         "showlegend": true,
         "subplot": "map",
         "type": "scattermap"
        },
        {
         "customdata": [
          [
           35.06,
           32.26,
           "04:58:32.4",
           "1995/05/29"
          ],
          [
           34.56,
           32.21,
           "01:10:22.4",
           "1996/10/10"
          ],
          [
           34.31,
           32.33,
           "10:19:26.1",
           "1997/01/13"
          ],
          [
           36.25,
           35.95,
           "17:57:18.7",
           "1997/01/22"
          ]
         ],
         "hovertemplate": "<b>%{hovertext}</b><br><br>Cluster=267<br>Lat=%{customdata[0]}<br>Lon=%{customdata[1]}<br>Time=%{customdata[2]}<br>Date=%{customdata[3]}<extra></extra>",
         "hovertext": {
          "dtype": "f8",
          "bdata": "AAAAAACwcEAAAAAAALBwQAAAAAAAsHBAAAAAAACwcEA="
         },
         "lat": {
          "dtype": "f8",
          "bdata": "SOF6FK6HQUBI4XoUrkdBQEjhehSuJ0FAAAAAAAAgQkA="
         },
         "legendgroup": "267",
         "lon": {
          "dtype": "f8",
          "bdata": "4XoUrkchQEB7FK5H4RpAQArXo3A9KkBAmpmZmZn5QUA="
         },
         "marker": {
          "color": "#AA0DFE"
         },
         "mode": "markers",
         "name": "267",
         "showlegend": true,
         "subplot": "map",
         "type": "scattermap"
        },
        {
         "customdata": [
          [
           38.4,
           22.27,
           "00:15:48.6",
           "1995/06/15"
          ],
          [
           36.38,
           22.07,
           "13:39:37.5",
           "1997/10/13"
          ],
          [
           37.57,
           20.66,
           "13:07:41.7",
           "1997/11/18"
          ],
          [
           39.06,
           24.24,
           "00:21:36.9",
           "2001/07/26"
          ]
         ],
         "hovertemplate": "<b>%{hovertext}</b><br><br>Cluster=85<br>Lat=%{customdata[0]}<br>Lon=%{customdata[1]}<br>Time=%{customdata[2]}<br>Date=%{customdata[3]}<extra></extra>",
         "hovertext": {
          "dtype": "f8",
          "bdata": "AAAAAABAVUAAAAAAAEBVQAAAAAAAQFVAAAAAAABAVUA="
         },
         "lat": {
          "dtype": "f8",
          "bdata": "MzMzMzMzQ0BxPQrXozBCQClcj8L1yEJASOF6FK6HQ0A="
         },
         "legendgroup": "85",
         "lon": {
          "dtype": "f8",
          "bdata": "hetRuB5FNkBSuB6F6xE2QClcj8L1qDRAPQrXo3A9OEA="
         },
         "marker": {
          "color": "#3283FE"
         },
         "mode": "markers",
         "name": "85",
         "showlegend": true,
         "subplot": "map",
         "type": "scattermap"
        },
        {
         "customdata": [
          [
           -25.66,
           -13.74,
           "19:08:27.3",
           "1995/09/06"
          ],
          [
           -33.63,
           -14.45,
           "10:41:24.7",
           "1996/03/29"
          ],
          [
           -22.47,
           -12.81,
           "16:07:43.8",
           "1998/02/22"
          ],
          [
           -31.09,
           -13.49,
           "09:10:02.6",
           "1998/08/01"
          ],
          [
           -25.6,
           -13.8,
           "12:10:11.9",
           "1999/04/26"
          ],
          [
           -35.08,
           -15.15,
           "07:16:07.7",
           "1999/05/18"
          ],
          [
           -28.01,
           -13.23,
           "11:17:31.9",
           "2000/08/24"
          ]
         ],
         "hovertemplate": "<b>%{hovertext}</b><br><br>Cluster=22<br>Lat=%{customdata[0]}<br>Lon=%{customdata[1]}<br>Time=%{customdata[2]}<br>Date=%{customdata[3]}<extra></extra>",
         "hovertext": {
          "dtype": "f8",
          "bdata": "AAAAAAAANkAAAAAAAAA2QAAAAAAAADZAAAAAAAAANkAAAAAAAAA2QAAAAAAAADZAAAAAAAAANkA="
         },
         "lat": {
          "dtype": "f8",
          "bdata": "KVyPwvWoOcBxPQrXo9BAwLgehetReDbA16NwPQoXP8CamZmZmZk5wArXo3A9ikHAw/UoXI8CPMA="
         },
         "legendgroup": "22",
         "lon": {
          "dtype": "f8",
          "bdata": "exSuR+F6K8BmZmZmZuYswB+F61G4ninAexSuR+H6KsCamZmZmZkrwM3MzMzMTC7A9ihcj8J1KsA="
         },
         "marker": {
          "color": "#85660D"
         },
         "mode": "markers",
         "name": "22",
         "showlegend": true,
         "subplot": "map",
         "type": "scattermap"
        },
        {
         "customdata": [
          [
           1.12,
           19.51,
           "08:51:49.6",
           "1995/09/22"
          ],
          [
           0.81,
           17.42,
           "02:59:43.4",
           "1998/03/05"
          ],
          [
           0.86,
           17.34,
           "14:16:52.2",
           "1998/04/26"
          ]
         ],
         "hovertemplate": "<b>%{hovertext}</b><br><br>Cluster=15<br>Lat=%{customdata[0]}<br>Lon=%{customdata[1]}<br>Time=%{customdata[2]}<br>Date=%{customdata[3]}<extra></extra>",
         "hovertext": {
          "dtype": "f8",
          "bdata": "AAAAAAAALkAAAAAAAAAuQAAAAAAAAC5A"
         },
         "lat": {
          "dtype": "f8",
          "bdata": "7FG4HoXr8T/sUbgehevpP4XrUbgehes/"
         },
         "legendgroup": "15",
         "lon": {
          "dtype": "f8",
          "bdata": "w/UoXI+CM0DsUbgehWsxQNejcD0KVzFA"
         },
         "marker": {
          "color": "#782AB6"
         },
         "mode": "markers",
         "name": "15",
         "showlegend": true,
         "subplot": "map",
         "type": "scattermap"
        },
        {
         "customdata": [
          [
           38.1,
           30.17,
           "15:57:16.0",
           "1995/10/01"
          ],
          [
           36.15,
           27.1,
           "00:00:41.8",
           "1996/07/20"
          ]
         ],
         "hovertemplate": "<b>%{hovertext}</b><br><br>Cluster=205<br>Lat=%{customdata[0]}<br>Lon=%{customdata[1]}<br>Time=%{customdata[2]}<br>Date=%{customdata[3]}<extra></extra>",
         "hovertext": {
          "dtype": "f8",
          "bdata": "AAAAAACgaUAAAAAAAKBpQA=="
         },
         "lat": {
          "dtype": "f8",
          "bdata": "zczMzMwMQ0AzMzMzMxNCQA=="
         },
         "legendgroup": "205",
         "lon": {
          "dtype": "f8",
          "bdata": "7FG4HoUrPkCamZmZmRk7QA=="
         },
         "marker": {
          "color": "#565656"
         },
         "mode": "markers",
         "name": "205",
         "showlegend": true,
         "subplot": "map",
         "type": "scattermap"
        },
        {
         "customdata": [
          [
           37.06,
           49.53,
           "06:56:33.7",
           "1995/10/15"
          ],
          [
           39.03,
           48.72,
           "08:42:26.2",
           "1996/01/03"
          ],
          [
           37.86,
           47.87,
           "18:29:42.5",
           "1997/03/02"
          ]
         ],
         "hovertemplate": "<b>%{hovertext}</b><br><br>Cluster=242<br>Lat=%{customdata[0]}<br>Lon=%{customdata[1]}<br>Time=%{customdata[2]}<br>Date=%{customdata[3]}<extra></extra>",
         "hovertext": {
          "dtype": "f8",
          "bdata": "AAAAAABAbkAAAAAAAEBuQAAAAAAAQG5A"
         },
         "lat": {
          "dtype": "f8",
          "bdata": "SOF6FK6HQkCkcD0K14NDQK5H4XoU7kJA"
         },
         "legendgroup": "242",
         "lon": {
          "dtype": "f8",
          "bdata": "pHA9CtfDSEBcj8L1KFxIQI/C9Shc70dA"
         },
         "marker": {
          "color": "#1C8356"
         },
         "mode": "markers",
         "name": "242",
         "showlegend": true,
         "subplot": "map",
         "type": "scattermap"
        },
        {
         "customdata": [
          [
           28.45,
           34.84,
           "22:16:53.5",
           "1995/11/22"
          ],
          [
           29.25,
           34.64,
           "18:07:17.5",
           "1995/11/23"
          ],
          [
           28.8,
           34.78,
           "04:59:51.2",
           "1996/02/21"
          ]
         ],
         "hovertemplate": "<b>%{hovertext}</b><br><br>Cluster=201<br>Lat=%{customdata[0]}<br>Lon=%{customdata[1]}<br>Time=%{customdata[2]}<br>Date=%{customdata[3]}<extra></extra>",
         "hovertext": {
          "dtype": "f8",
          "bdata": "AAAAAAAgaUAAAAAAACBpQAAAAAAAIGlA"
         },
         "lat": {
          "dtype": "f8",
          "bdata": "MzMzMzNzPEAAAAAAAEA9QM3MzMzMzDxA"
         },
         "legendgroup": "201",
         "lon": {
          "dtype": "f8",
          "bdata": "7FG4HoVrQUBSuB6F61FBQKRwPQrXY0FA"
         },
         "marker": {
          "color": "#16FF32"
         },
         "mode": "markers",
         "name": "201",
         "showlegend": true,
         "subplot": "map",
         "type": "scattermap"
        },
        {
         "customdata": [
          [
           34.83,
           24.25,
           "03:27:48.0",
           "1995/12/10"
          ],
          [
           34.77,
           23.98,
           "12:22:55.5",
           "1997/11/05"
          ],
          [
           36.02,
           19.66,
           "19:22:44.7",
           "1997/12/02"
          ],
          [
           37.26,
           20.79,
           "19:21:56.5",
           "1998/01/10"
          ],
          [
           36.14,
           21.94,
           "03:30:39.3",
           "1998/04/29"
          ],
          [
           37.49,
           20.74,
           "04:00:13.0",
           "1998/05/01"
          ],
          [
           37.25,
           21.11,
           "12:27:42.0",
           "1998/10/06"
          ],
          [
           36.04,
           21.68,
           "08:17:58.3",
           "1999/04/17"
          ],
          [
           37.56,
           21.11,
           "07:50:15.4",
           "1999/06/11"
          ],
          [
           35.92,
           22.1,
           "10:01:44.8",
           "2000/05/24"
          ],
          [
           34.44,
           20.18,
           "21:30:29.0",
           "2000/06/15"
          ]
         ],
         "hovertemplate": "<b>%{hovertext}</b><br><br>Cluster=287<br>Lat=%{customdata[0]}<br>Lon=%{customdata[1]}<br>Time=%{customdata[2]}<br>Date=%{customdata[3]}<extra></extra>",
         "hovertext": {
          "dtype": "f8",
          "bdata": "AAAAAADwcUAAAAAAAPBxQAAAAAAA8HFAAAAAAADwcUAAAAAAAPBxQAAAAAAA8HFAAAAAAADwcUAAAAAAAPBxQAAAAAAA8HFAAAAAAADwcUAAAAAAAPBxQA=="
         },
         "lat": {
          "dtype": "f8",
          "bdata": "CtejcD1qQUDD9Shcj2JBQMP1KFyPAkJA4XoUrkehQkBSuB6F6xFCQB+F61G4vkJAAAAAAACgQkCF61G4HgVCQEjhehSux0JA9ihcj8L1QUC4HoXrUThBQA=="
         },
         "legendgroup": "287",
         "lon": {
          "dtype": "f8",
          "bdata": "AAAAAABAOEB7FK5H4fo3QClcj8L1qDNACtejcD3KNEBxPQrXo/A1QD0K16NwvTRAXI/C9SgcNUCuR+F6FK41QFyPwvUoHDVAmpmZmZkZNkCuR+F6FC40QA=="
         },
         "marker": {
          "color": "#F7E1A0"
         },
         "mode": "markers",
         "name": "287",
         "showlegend": true,
         "subplot": "map",
         "type": "scattermap"
        },
        {
         "customdata": [
          [
           -1.52,
           -15.22,
           "09:44:58.1",
           "1996/02/16"
          ],
          [
           -1.28,
           -14.27,
           "23:49:28.0",
           "1996/02/18"
          ]
         ],
         "hovertemplate": "<b>%{hovertext}</b><br><br>Cluster=1<br>Lat=%{customdata[0]}<br>Lon=%{customdata[1]}<br>Time=%{customdata[2]}<br>Date=%{customdata[3]}<extra></extra>",
         "hovertext": {
          "dtype": "f8",
          "bdata": "AAAAAAAA8D8AAAAAAADwPw=="
         },
         "lat": {
          "dtype": "f8",
          "bdata": "UrgehetR+L97FK5H4Xr0vw=="
         },
         "legendgroup": "1",
         "lon": {
          "dtype": "f8",
          "bdata": "cT0K16NwLsAK16NwPYoswA=="
         },
         "marker": {
          "color": "#E2E2E2"
         },
         "mode": "markers",
         "name": "1",
         "showlegend": true,
         "subplot": "map",
         "type": "scattermap"
        },
        {
         "customdata": [
          [
           0.56,
           30.17,
           "08:24:24.3",
           "1996/03/24"
          ],
          [
           -5.29,
           35.83,
           "03:53:22.2",
           "1996/12/20"
          ],
          [
           -6.02,
           29.52,
           "21:59:56.2",
           "1998/03/28"
          ]
         ],
         "hovertemplate": "<b>%{hovertext}</b><br><br>Cluster=56<br>Lat=%{customdata[0]}<br>Lon=%{customdata[1]}<br>Time=%{customdata[2]}<br>Date=%{customdata[3]}<extra></extra>",
         "hovertext": {
          "dtype": "f8",
          "bdata": "AAAAAAAATEAAAAAAAABMQAAAAAAAAExA"
         },
         "lat": {
          "dtype": "f8",
          "bdata": "7FG4HoXr4T8pXI/C9SgVwBSuR+F6FBjA"
         },
         "legendgroup": "56",
         "lon": {
          "dtype": "f8",
          "bdata": "7FG4HoUrPkAK16NwPepBQIXrUbgehT1A"
         },
         "marker": {
          "color": "#1CBE4F"
         },
         "mode": "markers",
         "name": "56",
         "showlegend": true,
         "subplot": "map",
         "type": "scattermap"
        },
        {
         "customdata": [
          [
           -3.65,
           -12.1,
           "05:01:45.2",
           "1996/07/15"
          ],
          [
           -3.5,
           -12.14,
           "06:01:11.7",
           "1996/07/15"
          ],
          [
           -6.93,
           -12.72,
           "14:36:39.1",
           "1996/08/27"
          ],
          [
           -3.33,
           -12.04,
           "23:00:30.9",
           "1996/08/30"
          ],
          [
           -1.65,
           -13.0,
           "02:17:05.4",
           "1997/03/20"
          ],
          [
           -6.77,
           -12.61,
           "12:31:20.4",
           "1998/03/01"
          ],
          [
           -3.18,
           -12.16,
           "08:02:06.3",
           "1998/08/17"
          ],
          [
           -1.45,
           -13.1,
           "01:15:38.7",
           "1998/12/19"
          ],
          [
           -6.66,
           -11.43,
           "04:23:08.2",
           "1999/02/05"
          ]
         ],
         "hovertemplate": "<b>%{hovertext}</b><br><br>Cluster=195<br>Lat=%{customdata[0]}<br>Lon=%{customdata[1]}<br>Time=%{customdata[2]}<br>Date=%{customdata[3]}<extra></extra>",
         "hovertext": {
          "dtype": "f8",
          "bdata": "AAAAAABgaEAAAAAAAGBoQAAAAAAAYGhAAAAAAABgaEAAAAAAAGBoQAAAAAAAYGhAAAAAAABgaEAAAAAAAGBoQAAAAAAAYGhA"
         },
         "lat": {
          "dtype": "f8",
          "bdata": "MzMzMzMzDcAAAAAAAAAMwLgehetRuBvApHA9CtejCsBmZmZmZmb6vxSuR+F6FBvAcT0K16NwCcAzMzMzMzP3v6RwPQrXoxrA"
         },
         "legendgroup": "195",
         "lon": {
          "dtype": "f8",
          "bdata": "MzMzMzMzKMBI4XoUrkcowHE9CtejcCnAFK5H4XoUKMAAAAAAAAAqwLgehetROCnAUrgehetRKMAzMzMzMzMqwFyPwvUo3CbA"
         },
         "marker": {
          "color": "#C4451C"
         },
         "mode": "markers",
         "name": "195",
         "showlegend": true,
         "subplot": "map",
         "type": "scattermap"
        },
        {
         "customdata": [
          [
           34.85,
           32.29,
           "04:54:46.3",
           "1996/10/10"
          ],
          [
           34.5,
           32.06,
           "00:44:23.0",
           "1996/11/27"
          ]
         ],
         "hovertemplate": "<b>%{hovertext}</b><br><br>Cluster=275<br>Lat=%{customdata[0]}<br>Lon=%{customdata[1]}<br>Time=%{customdata[2]}<br>Date=%{customdata[3]}<extra></extra>",
         "hovertext": {
          "dtype": "f8",
          "bdata": "AAAAAAAwcUAAAAAAADBxQA=="
         },
         "lat": {
          "dtype": "f8",
          "bdata": "zczMzMxsQUAAAAAAAEBBQA=="
         },
         "legendgroup": "275",
         "lon": {
          "dtype": "f8",
          "bdata": "hetRuB4lQEBI4XoUrgdAQA=="
         },
         "marker": {
          "color": "#DEA0FD"
         },
         "mode": "markers",
         "name": "275",
         "showlegend": true,
         "subplot": "map",
         "type": "scattermap"
        },
        {
         "customdata": [
          [
           38.08,
           48.05,
           "12:57:18.6",
           "1997/02/28"
          ],
          [
           38.72,
           48.51,
           "14:19:18.4",
           "1998/07/09"
          ]
         ],
         "hovertemplate": "<b>%{hovertext}</b><br><br>Cluster=16<br>Lat=%{customdata[0]}<br>Lon=%{customdata[1]}<br>Time=%{customdata[2]}<br>Date=%{customdata[3]}<extra></extra>",
         "hovertext": {
          "dtype": "f8",
          "bdata": "AAAAAAAAMEAAAAAAAAAwQA=="
         },
         "lat": {
          "dtype": "f8",
          "bdata": "CtejcD0KQ0Bcj8L1KFxDQA=="
         },
         "legendgroup": "16",
         "lon": {
          "dtype": "f8",
          "bdata": "ZmZmZmYGSEDhehSuR0FIQA=="
         },
         "marker": {
          "color": "#FE00FA"
         },
         "mode": "markers",
         "name": "16",
         "showlegend": true,
         "subplot": "map",
         "type": "scattermap"
        },
        {
         "customdata": [
          [
           35.58,
           21.06,
           "10:07:52.5",
           "1997/07/27"
          ],
          [
           38.44,
           22.28,
           "21:10:28.7",
           "1997/11/05"
          ]
         ],
         "hovertemplate": "<b>%{hovertext}</b><br><br>Cluster=269<br>Lat=%{customdata[0]}<br>Lon=%{customdata[1]}<br>Time=%{customdata[2]}<br>Date=%{customdata[3]}<extra></extra>",
         "hovertext": {
          "dtype": "f8",
          "bdata": "AAAAAADQcEAAAAAAANBwQA=="
         },
         "lat": {
          "dtype": "f8",
          "bdata": "CtejcD3KQUC4HoXrUThDQA=="
         },
         "legendgroup": "269",
         "lon": {
          "dtype": "f8",
          "bdata": "j8L1KFwPNUBI4XoUrkc2QA=="
         },
         "marker": {
          "color": "#325A9B"
         },
         "mode": "markers",
         "name": "269",
         "showlegend": true,
         "subplot": "map",
         "type": "scattermap"
        },
        {
         "customdata": [
          [
           38.86,
           25.8,
           "21:38:51.6",
           "1997/11/14"
          ],
          [
           38.12,
           23.6,
           "11:56:49.4",
           "1999/09/07"
          ],
          [
           36.04,
           22.01,
           "05:40:37.7",
           "2000/05/24"
          ]
         ],
         "hovertemplate": "<b>%{hovertext}</b><br><br>Cluster=232<br>Lat=%{customdata[0]}<br>Lon=%{customdata[1]}<br>Time=%{customdata[2]}<br>Date=%{customdata[3]}<extra></extra>",
         "hovertext": {
          "dtype": "f8",
          "bdata": "AAAAAAAAbUAAAAAAAABtQAAAAAAAAG1A"
         },
         "lat": {
          "dtype": "f8",
          "bdata": "rkfhehRuQ0CPwvUoXA9DQIXrUbgeBUJA"
         },
         "legendgroup": "232",
         "lon": {
          "dtype": "f8",
          "bdata": "zczMzMzMOUCamZmZmZk3QMP1KFyPAjZA"
         },
         "marker": {
          "color": "#FEAF16"
         },
         "mode": "markers",
         "name": "232",
         "showlegend": true,
         "subplot": "map",
         "type": "scattermap"
        },
        {
         "customdata": [
          [
           -39.61,
           46.36,
           "02:37:03.8",
           "1998/01/14"
          ],
          [
           -39.84,
           45.88,
           "07:08:30.8",
           "1998/01/19"
          ]
         ],
         "hovertemplate": "<b>%{hovertext}</b><br><br>Cluster=10<br>Lat=%{customdata[0]}<br>Lon=%{customdata[1]}<br>Time=%{customdata[2]}<br>Date=%{customdata[3]}<extra></extra>",
         "hovertext": {
          "dtype": "f8",
          "bdata": "AAAAAAAAJEAAAAAAAAAkQA=="
         },
         "lat": {
          "dtype": "f8",
          "bdata": "rkfhehTOQ8DsUbgehetDwA=="
         },
         "legendgroup": "10",
         "lon": {
          "dtype": "f8",
          "bdata": "rkfhehQuR0BxPQrXo/BGQA=="
         },
         "marker": {
          "color": "#F8A19F"
         },
         "mode": "markers",
         "name": "10",
         "showlegend": true,
         "subplot": "map",
         "type": "scattermap"
        },
        {
         "customdata": [
          [
           -12.33,
           -14.85,
           "06:58:24.0",
           "1998/03/01"
          ],
          [
           -14.05,
           -14.48,
           "01:51:15.6",
           "1999/09/06"
          ]
         ],
         "hovertemplate": "<b>%{hovertext}</b><br><br>Cluster=94<br>Lat=%{customdata[0]}<br>Lon=%{customdata[1]}<br>Time=%{customdata[2]}<br>Date=%{customdata[3]}<extra></extra>",
         "hovertext": {
          "dtype": "f8",
          "bdata": "AAAAAACAV0AAAAAAAIBXQA=="
         },
         "lat": {
          "dtype": "f8",
          "bdata": "KVyPwvWoKMCamZmZmRkswA=="
         },
         "legendgroup": "94",
         "lon": {
          "dtype": "f8",
          "bdata": "MzMzMzOzLcD2KFyPwvUswA=="
         },
         "marker": {
          "color": "#90AD1C"
         },
         "mode": "markers",
         "name": "94",
         "showlegend": true,
         "subplot": "map",
         "type": "scattermap"
        },
        {
         "customdata": [
          [
           39.24,
           41.06,
           "15:14:33.5",
           "1998/04/13"
          ],
          [
           38.28,
           38.99,
           "15:38:00.5",
           "1998/05/09"
          ],
          [
           36.87,
           35.32,
           "02:15:46.9",
           "1998/07/04"
          ],
          [
           39.4,
           38.31,
           "00:08:22.9",
           "1999/04/06"
          ]
         ],
         "hovertemplate": "<b>%{hovertext}</b><br><br>Cluster=260<br>Lat=%{customdata[0]}<br>Lon=%{customdata[1]}<br>Time=%{customdata[2]}<br>Date=%{customdata[3]}<extra></extra>",
         "hovertext": {
          "dtype": "f8",
          "bdata": "AAAAAABAcEAAAAAAAEBwQAAAAAAAQHBAAAAAAABAcEA="
         },
         "lat": {
          "dtype": "f8",
          "bdata": "H4XrUbieQ0CkcD0K1yNDQI/C9Shcb0JAMzMzMzOzQ0A="
         },
         "legendgroup": "260",
         "lon": {
          "dtype": "f8",
          "bdata": "SOF6FK6HREAfhetRuH5DQClcj8L1qEFASOF6FK4nQ0A="
         },
         "marker": {
          "color": "#F6222E"
         },
         "mode": "markers",
         "name": "260",
         "showlegend": true,
         "subplot": "map",
         "type": "scattermap"
        },
        {
         "customdata": [
          [
           31.71,
           50.83,
           "01:14:36.0",
           "1998/06/15"
          ],
          [
           33.21,
           46.25,
           "14:27:00.3",
           "1998/08/05"
          ],
          [
           34.23,
           48.16,
           "05:13:13.0",
           "1998/08/21"
          ],
          [
           35.35,
           45.16,
           "19:14:10.6",
           "1999/01/15"
          ],
          [
           29.66,
           50.8,
           "09:01:16.3",
           "2000/05/03"
          ]
         ],
         "hovertemplate": "<b>%{hovertext}</b><br><br>Cluster=244<br>Lat=%{customdata[0]}<br>Lon=%{customdata[1]}<br>Time=%{customdata[2]}<br>Date=%{customdata[3]}<extra></extra>",
         "hovertext": {
          "dtype": "f8",
          "bdata": "AAAAAACAbkAAAAAAAIBuQAAAAAAAgG5AAAAAAACAbkAAAAAAAIBuQA=="
         },
         "lat": {
          "dtype": "f8",
          "bdata": "9ihcj8K1P0B7FK5H4ZpAQD0K16NwHUFAzczMzMysQUApXI/C9ag9QA=="
         },
         "legendgroup": "244",
         "lon": {
          "dtype": "f8",
          "bdata": "CtejcD1qSUAAAAAAACBHQBSuR+F6FEhAFK5H4XqURkBmZmZmZmZJQA=="
         },
         "marker": {
          "color": "#1CFFCE"
         },
         "mode": "markers",
         "name": "244",
         "showlegend": true,
         "subplot": "map",
         "type": "scattermap"
        },
        {
         "customdata": [
          [
           33.24,
           47.25,
           "00:42:47.5",
           "1998/10/04"
          ],
          [
           33.2,
           47.22,
           "02:20:33.9",
           "1998/10/05"
          ]
         ],
         "hovertemplate": "<b>%{hovertext}</b><br><br>Cluster=206<br>Lat=%{customdata[0]}<br>Lon=%{customdata[1]}<br>Time=%{customdata[2]}<br>Date=%{customdata[3]}<extra></extra>",
         "hovertext": {
          "dtype": "f8",
          "bdata": "AAAAAADAaUAAAAAAAMBpQA=="
         },
         "lat": {
          "dtype": "f8",
          "bdata": "H4XrUbieQECamZmZmZlAQA=="
         },
         "legendgroup": "206",
         "lon": {
          "dtype": "f8",
          "bdata": "AAAAAACgR0Bcj8L1KJxHQA=="
         },
         "marker": {
          "color": "#2ED9FF"
         },
         "mode": "markers",
         "name": "206",
         "showlegend": true,
         "subplot": "map",
         "type": "scattermap"
        },
        {
         "customdata": [
          [
           12.35,
           47.56,
           "19:16:45.5",
           "1998/11/23"
          ],
          [
           12.01,
           45.95,
           "01:35:02.0",
           "2000/02/10"
          ],
          [
           11.9,
           46.06,
           "06:38:27.5",
           "2000/02/14"
          ]
         ],
         "hovertemplate": "<b>%{hovertext}</b><br><br>Cluster=157<br>Lat=%{customdata[0]}<br>Lon=%{customdata[1]}<br>Time=%{customdata[2]}<br>Date=%{customdata[3]}<extra></extra>",
         "hovertext": {
          "dtype": "f8",
          "bdata": "AAAAAACgY0AAAAAAAKBjQAAAAAAAoGNA"
         },
         "lat": {
          "dtype": "f8",
          "bdata": "MzMzMzOzKECF61G4HgUoQM3MzMzMzCdA"
         },
         "legendgroup": "157",
         "lon": {
          "dtype": "f8",
          "bdata": "SOF6FK7HR0CamZmZmflGQEjhehSuB0dA"
         },
         "marker": {
          "color": "#B10DA1"
         },
         "mode": "markers",
         "name": "157",
         "showlegend": true,
         "subplot": "map",
         "type": "scattermap"
        },
        {
         "customdata": [
          [
           34.48,
           32.13,
           "17:15:21.9",
           "1999/05/25"
          ],
          [
           34.79,
           32.94,
           "04:27:55.3",
           "1999/08/11"
          ]
         ],
         "hovertemplate": "<b>%{hovertext}</b><br><br>Cluster=254<br>Lat=%{customdata[0]}<br>Lon=%{customdata[1]}<br>Time=%{customdata[2]}<br>Date=%{customdata[3]}<extra></extra>",
         "hovertext": {
          "dtype": "f8",
          "bdata": "AAAAAADAb0AAAAAAAMBvQA=="
         },
         "lat": {
          "dtype": "f8",
          "bdata": "PQrXo3A9QUCF61G4HmVBQA=="
         },
         "legendgroup": "254",
         "lon": {
          "dtype": "f8",
          "bdata": "cT0K16MQQEC4HoXrUXhAQA=="
         },
         "marker": {
          "color": "#C075A6"
         },
         "mode": "markers",
         "name": "254",
         "showlegend": true,
         "subplot": "map",
         "type": "scattermap"
        },
        {
         "customdata": [
          [
           35.32,
           -1.28,
           "17:36:56.2",
           "1999/12/22"
          ],
          [
           36.6,
           4.77,
           "20:10:53.4",
           "2000/11/10"
          ],
          [
           37.08,
           3.63,
           "03:14:03.8",
           "2003/05/22"
          ],
          [
           36.94,
           3.58,
           "17:11:28.8",
           "2003/05/27"
          ]
         ],
         "hovertemplate": "<b>%{hovertext}</b><br><br>Cluster=79<br>Lat=%{customdata[0]}<br>Lon=%{customdata[1]}<br>Time=%{customdata[2]}<br>Date=%{customdata[3]}<extra></extra>",
         "hovertext": {
          "dtype": "f8",
          "bdata": "AAAAAADAU0AAAAAAAMBTQAAAAAAAwFNAAAAAAADAU0A="
         },
         "lat": {
          "dtype": "f8",
          "bdata": "KVyPwvWoQUDNzMzMzExCQArXo3A9ikJAuB6F61F4QkA="
         },
         "legendgroup": "79",
         "lon": {
          "dtype": "f8",
          "bdata": "exSuR+F69L8UrkfhehQTQArXo3A9Cg1ApHA9CtejDEA="
         },
         "marker": {
          "color": "#FC1CBF"
         },
         "mode": "markers",
         "name": "79",
         "showlegend": true,
         "subplot": "map",
         "type": "scattermap"
        },
        {
         "customdata": [
          [
           34.22,
           25.69,
           "04:36:58.8",
           "2000/04/05"
          ],
          [
           38.58,
           25.61,
           "13:11:04.2",
           "2001/06/10"
          ],
          [
           35.55,
           28.16,
           "06:52:43.0",
           "2001/06/23"
          ],
          [
           39.09,
           24.04,
           "15:24:56.7",
           "2001/07/30"
          ],
          [
           37.24,
           21.87,
           "02:00:47.4",
           "2001/09/16"
          ],
          [
           38.55,
           31.18,
           "11:39:55.4",
           "2002/02/03"
          ],
          [
           36.63,
           24.27,
           "20:53:29.7",
           "2002/05/21"
          ],
          [
           37.93,
           20.69,
           "17:16:31.1",
           "2002/07/28"
          ],
          [
           37.75,
           21.09,
           "04:58:55.2",
           "2002/12/02"
          ],
          [
           37.87,
           19.97,
           "09:35:04.9",
           "2002/12/09"
          ],
          [
           38.16,
           27.0,
           "22:34:24.6",
           "2003/04/17"
          ],
          [
           36.83,
           21.72,
           "01:51:20.2",
           "2003/04/29"
          ],
          [
           36.88,
           31.54,
           "11:22:40.6",
           "2003/05/03"
          ],
          [
           39.89,
           22.31,
           "07:06:39.3",
           "2003/06/09"
          ],
          [
           38.17,
           28.85,
           "04:56:03.0",
           "2003/07/23"
          ],
          [
           38.02,
           28.93,
           "08:36:49.2",
           "2003/07/26"
          ],
          [
           38.9,
           20.61,
           "12:18:14.2",
           "2003/08/14"
          ],
          [
           36.63,
           26.92,
           "13:46:14.3",
           "2003/09/13"
          ],
          [
           38.27,
           20.34,
           "07:22:49.7",
           "2003/11/16"
          ],
          [
           36.04,
           26.91,
           "21:17:24.2",
           "2004/02/07"
          ],
          [
           36.01,
           22.45,
           "03:48:12.5",
           "2004/02/09"
          ],
          [
           37.14,
           22.12,
           "00:35:58.0",
           "2004/03/01"
          ],
          [
           35.51,
           22.83,
           "14:54:37.4",
           "2004/03/28"
          ],
          [
           35.92,
           27.18,
           "05:34:25.1",
           "2004/05/25"
          ],
          [
           35.37,
           23.59,
           "19:00:56.1",
           "2004/07/24"
          ],
          [
           36.83,
           27.82,
           "03:01:07.6",
           "2004/08/04"
          ],
          [
           36.84,
           27.85,
           "04:19:48.4",
           "2004/08/04"
          ],
          [
           36.83,
           27.83,
           "14:18:50.2",
           "2004/08/04"
          ],
          [
           35.28,
           27.79,
           "14:15:04.2",
           "2004/09/21"
          ],
          [
           36.38,
           22.6,
           "07:16:53.6",
           "2004/10/07"
          ],
          [
           34.33,
           33.25,
           "15:28:27.6",
           "2004/10/16"
          ],
          [
           35.94,
           23.11,
           "06:22:39.4",
           "2004/11/04"
          ],
          [
           37.04,
           28.21,
           "23:02:12.4",
           "2004/12/20"
          ],
          [
           37.02,
           27.8,
           "23:48:50.0",
           "2005/01/10"
          ],
          [
           36.92,
           27.87,
           "04:36:01.0",
           "2005/01/11"
          ],
          [
           35.81,
           29.63,
           "16:23:48.4",
           "2005/01/30"
          ],
          [
           37.53,
           20.16,
           "01:05:33.6",
           "2005/01/31"
          ],
          [
           35.69,
           31.58,
           "23:46:50.5",
           "2005/05/14"
          ],
          [
           38.26,
           22.73,
           "08:55:35.8",
           "2005/05/29"
          ],
          [
           34.46,
           26.09,
           "09:20:08.5",
           "2005/05/30"
          ],
          [
           35.11,
           27.26,
           "22:39:22.2",
           "2005/07/03"
          ],
          [
           36.57,
           26.78,
           "13:35:00.2",
           "2005/08/01"
          ],
          [
           34.89,
           26.5,
           "10:45:30.4",
           "2005/08/04"
          ],
          [
           34.01,
           25.88,
           "07:42:25.6",
           "2005/09/02"
          ],
          [
           38.04,
           20.24,
           "22:17:16.0",
           "2005/09/19"
          ],
          [
           35.58,
           27.47,
           "05:44:27.8",
           "2005/10/11"
          ],
          [
           38.13,
           26.5,
           "05:45:16.0",
           "2005/10/17"
          ],
          [
           38.14,
           26.61,
           "09:55:30.0",
           "2005/10/17"
          ],
          [
           37.62,
           20.92,
           "15:26:00.3",
           "2005/10/18"
          ],
          [
           37.58,
           21.15,
           "15:36:28.4",
           "2005/10/18"
          ],
          [
           35.02,
           23.32,
           "09:30:56.9",
           "2005/11/25"
          ],
          [
           35.24,
           27.18,
           "14:33:20.2",
           "2005/12/09"
          ],
          [
           37.59,
           20.95,
           "00:49:42.8",
           "2006/04/03"
          ],
          [
           37.64,
           20.96,
           "22:05:05.1",
           "2006/04/04"
          ],
          [
           35.17,
           27.24,
           "23:27:19.8",
           "2006/04/09"
          ],
          [
           37.64,
           20.92,
           "00:02:41.5",
           "2006/04/11"
          ],
          [
           37.68,
           20.91,
           "17:29:28.4",
           "2006/04/11"
          ],
          [
           37.64,
           21.0,
           "21:15:11.4",
           "2006/04/15"
          ],
          [
           37.66,
           20.93,
           "15:16:24.6",
           "2006/04/19"
          ],
          [
           36.87,
           20.34,
           "23:14:36.9",
           "2006/05/25"
          ],
          [
           39.01,
           20.59,
           "15:54:44.6",
           "2006/06/21"
          ],
          [
           38.36,
           20.5,
           "02:49:26.4",
           "2006/06/24"
          ],
          [
           34.42,
           26.57,
           "10:35:12.7",
           "2006/08/13"
          ],
          [
           35.24,
           27.12,
           "09:23:21.2",
           "2006/08/22"
          ],
          [
           39.32,
           23.6,
           "18:30:52.9",
           "2006/12/21"
          ],
          [
           35.81,
           22.43,
           "13:43:23.1",
           "2007/02/03"
          ],
          [
           37.99,
           30.92,
           "19:23:56.1",
           "2007/03/30"
          ],
          [
           38.55,
           21.64,
           "03:17:56.3",
           "2007/04/10"
          ],
          [
           38.53,
           21.54,
           "07:15:41.6",
           "2007/04/10"
          ],
          [
           38.55,
           21.64,
           "10:41:00.2",
           "2007/04/10"
          ],
          [
           38.01,
           30.92,
           "22:00:34.2",
           "2007/04/10"
          ],
          [
           35.12,
           27.81,
           "16:39:08.7",
           "2007/05/21"
          ],
          [
           39.27,
           20.26,
           "18:09:11.2",
           "2007/06/29"
          ],
          [
           36.65,
           26.27,
           "20:52:43.4",
           "2007/08/31"
          ],
          [
           35.27,
           27.12,
           "00:54:29.6",
           "2007/09/23"
          ],
          [
           37.72,
           21.3,
           "05:29:39.0",
           "2007/10/27"
          ],
          [
           37.03,
           29.23,
           "09:23:14.0",
           "2007/10/29"
          ],
          [
           38.73,
           25.72,
           "01:43:04.2",
           "2007/11/09"
          ],
          [
           38.74,
           25.71,
           "07:11:55.8",
           "2007/11/09"
          ],
          [
           37.02,
           29.26,
           "09:08:23.0",
           "2007/11/16"
          ],
          [
           38.83,
           33.05,
           "18:06:18.0",
           "2007/12/13"
          ],
          [
           36.19,
           21.77,
           "23:15:40.0",
           "2008/02/19"
          ],
          [
           35.91,
           21.87,
           "10:46:07.3",
           "2008/02/26"
          ],
          [
           36.09,
           21.89,
           "16:10:40.0",
           "2008/02/26"
          ],
          [
           36.06,
           21.81,
           "13:25:24.4",
           "2008/03/04"
          ],
          [
           36.14,
           21.76,
           "20:28:24.2",
           "2008/03/07"
          ],
          [
           36.01,
           21.76,
           "07:10:21.6",
           "2008/03/14"
          ],
          [
           36.15,
           21.86,
           "20:11:11.9",
           "2008/03/23"
          ],
          [
           34.76,
           25.34,
           "00:16:19.9",
           "2008/03/28"
          ],
          [
           37.82,
           29.26,
           "04:48:54.0",
           "2008/04/25"
          ],
          [
           36.11,
           21.95,
           "12:26:22.6",
           "2008/05/08"
          ],
          [
           36.3,
           22.24,
           "20:53:04.2",
           "2008/05/10"
          ],
          [
           35.11,
           26.19,
           "00:20:45.6",
           "2008/06/12"
          ],
          [
           37.67,
           22.78,
           "01:58:42.9",
           "2008/06/18"
          ],
          [
           36.1,
           21.93,
           "05:57:16.2",
           "2008/06/21"
          ],
          [
           36.06,
           21.82,
           "11:36:23.9",
           "2008/06/21"
          ],
          [
           35.99,
           21.7,
           "13:43:29.0",
           "2008/06/21"
          ],
          [
           35.87,
           27.9,
           "23:52:37.8",
           "2008/07/15"
          ],
          [
           38.02,
           20.12,
           "05:02:56.0",
           "2008/07/30"
          ],
          [
           39.61,
           23.85,
           "00:39:16.9",
           "2008/08/03"
          ],
          [
           34.1,
           26.58,
           "19:38:25.3",
           "2008/08/04"
          ],
          [
           38.85,
           23.62,
           "02:06:34.7",
           "2008/10/14"
          ],
          [
           38.84,
           35.52,
           "14:03:18.3",
           "2008/11/12"
          ],
          [
           38.72,
           22.57,
           "08:27:19.2",
           "2008/12/13"
          ],
          [
           35.66,
           26.39,
           "06:12:42.9",
           "2009/01/13"
          ],
          [
           37.13,
           20.78,
           "23:16:38.5",
           "2009/02/16"
          ],
          [
           39.11,
           29.04,
           "05:28:19.0",
           "2009/02/17"
          ],
          [
           35.1,
           23.44,
           "14:15:19.3",
           "2009/03/19"
          ],
          [
           36.09,
           27.0,
           "09:13:42.4",
           "2009/05/14"
          ],
          [
           38.12,
           22.69,
           "11:59:03.1",
           "2009/05/17"
          ],
          [
           36.4,
           21.7,
           "04:47:37.3",
           "2009/05/23"
          ],
          [
           35.38,
           28.41,
           "04:26:14.7",
           "2009/06/18"
          ],
          [
           37.68,
           26.86,
           "08:28:19.0",
           "2009/06/20"
          ],
          [
           37.95,
           32.48,
           "18:29:52.9",
           "2009/09/10"
          ],
          [
           37.94,
           32.44,
           "01:58:30.0",
           "2009/09/11"
          ],
          [
           37.51,
           20.36,
           "09:51:06.5",
           "2009/11/11"
          ],
          [
           36.09,
           21.4,
           "15:09:16.7",
           "2009/11/26"
          ],
          [
           37.92,
           28.73,
           "06:02:19.0",
           "2009/12/04"
          ],
          [
           35.26,
           27.86,
           "20:16:04.1",
           "2010/01/17"
          ],
          [
           38.4,
           21.96,
           "15:56:09.0",
           "2010/01/18"
          ],
          [
           38.42,
           22.04,
           "00:46:56.7",
           "2010/01/22"
          ],
          [
           34.0,
           25.39,
           "21:56:31.5",
           "2010/02/11"
          ],
          [
           34.45,
           26.01,
           "15:01:12.6",
           "2010/04/24"
          ],
          [
           36.81,
           26.91,
           "08:11:01.9",
           "2010/07/16"
          ],
          [
           39.34,
           23.99,
           "18:53:10.4",
           "2010/07/16"
          ],
          [
           37.24,
           19.95,
           "10:22:58.0",
           "2010/08/22"
          ],
          [
           34.93,
           26.54,
           "15:20:57.8",
           "2010/10/03"
          ],
          [
           37.9,
           27.34,
           "20:08:00.9",
           "2010/11/11"
          ],
          [
           34.98,
           25.42,
           "07:49:07.0",
           "2011/02/28"
          ],
          [
           36.7,
           27.24,
           "06:50:24.3",
           "2011/05/08"
          ],
          [
           34.38,
           23.72,
           "20:39:03.3",
           "2011/05/19"
          ],
          [
           39.12,
           29.05,
           "05:47:17.0",
           "2011/05/28"
          ],
          [
           39.11,
           29.03,
           "21:13:58.8",
           "2011/06/27"
          ],
          [
           37.21,
           19.92,
           "07:13:12.2",
           "2011/07/19"
          ],
          [
           38.32,
           31.96,
           "09:58:15.2",
           "2011/07/27"
          ],
          [
           38.44,
           21.83,
           "14:35:34.5",
           "2011/08/07"
          ],
          [
           37.92,
           21.71,
           "02:00:24.5",
           "2011/08/20"
          ],
          [
           34.41,
           23.72,
           "16:19:31.9",
           "2011/09/13"
          ],
          [
           34.52,
           23.78,
           "12:08:22.9",
           "2011/09/27"
          ],
          [
           37.21,
           22.06,
           "19:07:01.1",
           "2011/10/10"
          ],
          [
           35.8,
           25.66,
           "20:56:49.5",
           "2011/11/06"
          ],
          [
           34.28,
           25.08,
           "12:17:51.3",
           "2011/11/23"
          ],
          [
           38.81,
           26.23,
           "08:17:26.6",
           "2011/12/05"
          ],
          [
           36.06,
           25.07,
           "04:24:58.3",
           "2012/01/26"
          ],
          [
           36.04,
           25.06,
           "01:33:24.0",
           "2012/01/27"
          ],
          [
           36.07,
           25.01,
           "09:55:06.6",
           "2012/01/29"
          ],
          [
           39.12,
           29.08,
           "22:05:33.9",
           "2012/04/26"
          ],
          [
           38.66,
           26.66,
           "14:48:28.5",
           "2012/05/01"
          ],
          [
           36.44,
           28.94,
           "13:05:28.0",
           "2012/06/25"
          ],
          [
           35.08,
           26.65,
           "23:46:38.8",
           "2012/07/04"
          ],
          [
           34.4,
           23.91,
           "07:48:18.4",
           "2012/08/07"
          ],
          [
           34.78,
           24.11,
           "03:27:46.3",
           "2012/09/12"
          ],
          [
           35.3,
           22.63,
           "08:47:40.1",
           "2012/09/21"
          ],
          [
           35.49,
           22.83,
           "15:39:17.5",
           "2012/09/21"
          ],
          [
           38.1,
           22.77,
           "03:52:26.1",
           "2012/09/22"
          ],
          [
           38.92,
           20.5,
           "15:20:42.2",
           "2012/10/23"
          ],
          [
           38.96,
           22.89,
           "23:16:45.3",
           "2012/10/26"
          ],
          [
           37.33,
           20.74,
           "03:12:56.2",
           "2013/02/17"
          ],
          [
           36.68,
           21.68,
           "05:42:07.8",
           "2013/02/17"
          ],
          [
           34.8,
           24.09,
           "11:26:07.4",
           "2013/04/06"
          ],
          [
           37.04,
           28.4,
           "03:02:03.3",
           "2013/05/16"
          ],
          [
           38.66,
           20.56,
           "14:09:05.9",
           "2013/05/23"
          ],
          [
           36.81,
           21.87,
           "11:53:47.1",
           "2013/06/06"
          ],
          [
           38.69,
           22.69,
           "09:06:52.2",
           "2013/08/07"
          ],
          [
           38.7,
           22.66,
           "13:10:10.4",
           "2013/08/09"
          ],
          [
           34.72,
           25.09,
           "04:59:29.5",
           "2013/09/08"
          ],
          [
           38.71,
           22.73,
           "15:01:14.4",
           "2013/09/16"
          ],
          [
           38.92,
           23.1,
           "18:09:28.2",
           "2013/11/12"
          ],
          [
           38.24,
           20.42,
           "18:45:07.9",
           "2014/01/26"
          ],
          [
           38.13,
           20.3,
           "21:15:34.7",
           "2014/01/26"
          ],
          [
           38.38,
           20.5,
           "11:06:17.4",
           "2014/01/30"
          ],
          [
           38.7,
           22.75,
           "08:14:03.2",
           "2014/02/01"
          ],
          [
           38.17,
           20.37,
           "16:33:38.5",
           "2014/02/01"
          ],
          [
           38.19,
           20.35,
           "08:22:59.1",
           "2014/02/09"
          ],
          [
           38.19,
           20.4,
           "03:38:36.1",
           "2014/02/14"
          ],
          [
           38.3,
           20.39,
           "07:31:19.4",
           "2014/02/15"
          ],
          [
           38.11,
           20.35,
           "12:49:21.2",
           "2014/03/05"
          ],
          [
           37.28,
           23.87,
           "20:08:07.0",
           "2014/04/04"
          ],
          [
           38.79,
           17.26,
           "10:24:45.8",
           "2014/04/05"
          ],
          [
           34.1,
           25.87,
           "20:41:23.3",
           "2014/04/14"
          ],
          [
           35.48,
           21.68,
           "02:56:31.6",
           "2014/04/25"
          ],
          [
           35.58,
           21.67,
           "17:20:32.9",
           "2014/04/25"
          ],
          [
           38.23,
           25.13,
           "04:03:32.4",
           "2014/04/30"
          ],
          [
           35.65,
           27.69,
           "20:37:18.5",
           "2014/08/21"
          ],
          [
           39.94,
           23.43,
           "04:27:54.0",
           "2014/08/22"
          ],
          [
           37.68,
           30.63,
           "19:43:30.8",
           "2014/08/24"
          ],
          [
           36.21,
           30.82,
           "21:00:04.3",
           "2014/09/04"
          ],
          [
           38.35,
           21.83,
           "00:43:40.0",
           "2014/09/21"
          ],
          [
           34.44,
           26.3,
           "22:20:45.5",
           "2014/10/03"
          ],
          [
           38.92,
           21.12,
           "23:43:15.5",
           "2014/10/24"
          ],
          [
           38.35,
           22.27,
           "17:13:00.6",
           "2014/11/07"
          ],
          [
           38.1,
           20.44,
           "23:15:42.2",
           "2014/11/08"
          ],
          [
           37.14,
           28.78,
           "06:16:40.5",
           "2014/11/10"
          ],
          [
           38.67,
           23.38,
           "23:05:58.1",
           "2014/11/17"
          ],
          [
           38.68,
           23.24,
           "23:09:04.7",
           "2014/11/17"
          ],
          [
           38.89,
           26.27,
           "01:45:06.8",
           "2014/12/06"
          ],
          [
           38.9,
           26.27,
           "06:20:53.0",
           "2014/12/06"
          ],
          [
           34.46,
           25.09,
           "15:54:39.0",
           "2015/01/28"
          ],
          [
           37.17,
           30.01,
           "08:56:29.9",
           "2015/02/10"
          ],
          [
           37.22,
           30.08,
           "11:52:46.2",
           "2015/02/16"
          ],
          [
           35.71,
           26.62,
           "23:34:54.3",
           "2015/03/27"
          ],
          [
           38.35,
           20.39,
           "15:48:41.4",
           "2015/03/31"
          ],
          [
           34.81,
           32.33,
           "08:25:11.6",
           "2015/04/15"
          ],
          [
           35.06,
           26.88,
           "19:02:12.0",
           "2015/04/16"
          ],
          [
           35.03,
           26.78,
           "02:05:40.3",
           "2015/04/17"
          ],
          [
           36.48,
           23.15,
           "16:46:50.3",
           "2015/04/18"
          ],
          [
           34.45,
           25.78,
           "08:23:46.3",
           "2015/05/02"
          ],
          [
           38.62,
           23.39,
           "01:09:03.0",
           "2015/06/09"
          ],
          [
           35.04,
           26.79,
           "21:49:46.7",
           "2015/06/09"
          ],
          [
           36.7,
           26.81,
           "09:58:38.3",
           "2015/07/24"
          ],
          [
           39.24,
           21.41,
           "17:22:21.0",
           "2015/08/08"
          ],
          [
           35.65,
           31.29,
           "21:19:44.5",
           "2015/08/18"
          ],
          [
           34.32,
           25.62,
           "00:25:06.2",
           "2015/08/27"
          ],
          [
           38.79,
           26.14,
           "08:12:45.0",
           "2015/09/10"
          ],
          [
           35.35,
           27.79,
           "19:52:11.6",
           "2015/09/16"
          ],
          [
           36.17,
           29.9,
           "21:27:33.0",
           "2015/10/06"
          ],
          [
           34.5,
           26.38,
           "02:16:10.9",
           "2015/10/12"
          ],
          [
           38.68,
           20.52,
           "12:37:56.0",
           "2015/11/17"
          ],
          [
           38.84,
           20.56,
           "12:15:38.0",
           "2015/11/18"
          ],
          [
           38.72,
           20.63,
           "13:03:14.9",
           "2015/11/18"
          ],
          [
           38.47,
           20.49,
           "05:12:24.8",
           "2015/11/20"
          ],
          [
           38.63,
           20.58,
           "09:33:14.8",
           "2015/11/20"
          ],
          [
           35.52,
           27.39,
           "11:00:53.0",
           "2015/12/26"
          ],
          [
           37.57,
           21.78,
           "18:55:02.0",
           "2016/02/15"
          ],
          [
           37.52,
           20.16,
           "01:05:30.0",
           "2016/03/29"
          ],
          [
           34.19,
           25.73,
           "00:46:15.8",
           "2016/04/03"
          ],
          [
           34.94,
           25.76,
           "00:10:41.3",
           "2016/04/16"
          ],
          [
           34.95,
           26.21,
           "08:36:13.7",
           "2016/05/25"
          ],
          [
           35.29,
           22.95,
           "17:26:22.2",
           "2016/07/30"
          ],
          [
           38.9,
           27.75,
           "08:26:04.9",
           "2016/09/12"
          ],
          [
           36.39,
           27.61,
           "20:57:08.1",
           "2016/09/27"
          ],
          [
           36.73,
           21.9,
           "07:17:31.8",
           "2016/09/28"
          ],
          [
           39.81,
           20.65,
           "20:14:49.7",
           "2016/10/15"
          ],
          [
           39.77,
           20.71,
           "00:09:58.2",
           "2016/10/16"
          ],
          [
           39.81,
           20.6,
           "00:41:14.3",
           "2016/10/16"
          ],
          [
           39.79,
           20.61,
           "02:21:04.0",
           "2016/10/16"
          ],
          [
           39.78,
           20.69,
           "03:40:20.0",
           "2016/10/16"
          ],
          [
           36.54,
           26.92,
           "06:03:44.2",
           "2016/12/20"
          ],
          [
           36.62,
           22.98,
           "19:31:04.5",
           "2016/12/27"
          ],
          [
           34.99,
           27.04,
           "13:04:01.9",
           "2017/01/01"
          ],
          [
           38.42,
           21.78,
           "09:53:17.6",
           "2017/01/09"
          ],
          [
           35.36,
           26.42,
           "18:50:51.8",
           "2017/01/25"
          ],
          [
           39.6,
           26.07,
           "03:51:40.6",
           "2017/02/06"
          ],
          [
           39.57,
           26.08,
           "10:58:02.3",
           "2017/02/06"
          ],
          [
           39.53,
           26.1,
           "02:24:04.2",
           "2017/02/07"
          ],
          [
           39.55,
           26.19,
           "08:55:26.9",
           "2017/02/10"
          ],
          [
           39.6,
           26.09,
           "13:48:16.1",
           "2017/02/12"
          ],
          [
           39.54,
           26.12,
           "00:19:00.2",
           "2017/02/16"
          ],
          [
           39.52,
           26.12,
           "23:27:33.8",
           "2017/02/28"
          ],
          [
           37.12,
           28.69,
           "16:22:16.2",
           "2017/04/13"
          ],
          [
           38.77,
           29.06,
           "13:09:22.1",
           "2017/04/21"
          ],
          [
           38.66,
           27.67,
           "14:12:22.6",
           "2017/04/21"
          ],
          [
           35.4,
           21.45,
           "12:04:27.4",
           "2017/04/27"
          ],
          [
           35.97,
           27.5,
           "11:30:33.3",
           "2017/05/17"
          ],
          [
           38.77,
           27.82,
           "15:53:24.2",
           "2017/05/27"
          ],
          [
           38.78,
           27.8,
           "02:52:56.4",
           "2017/05/28"
          ],
          [
           38.76,
           27.78,
           "11:04:59.4",
           "2017/05/28"
          ],
          [
           38.9,
           26.22,
           "03:40:37.4",
           "2017/06/17"
          ],
          [
           38.89,
           26.42,
           "19:50:04.8",
           "2017/06/17"
          ],
          [
           38.83,
           26.47,
           "02:48:53.1",
           "2017/06/22"
          ],
          [
           35.09,
           26.63,
           "13:53:45.1",
           "2017/07/03"
          ],
          [
           34.92,
           25.43,
           "20:30:17.1",
           "2017/07/15"
          ],
          [
           36.91,
           27.3,
           "17:09:45.3",
           "2017/07/21"
          ],
          [
           36.97,
           27.65,
           "17:51:19.4",
           "2017/07/30"
          ],
          [
           34.52,
           24.06,
           "21:29:14.7",
           "2017/07/31"
          ],
          [
           36.92,
           27.55,
           "05:18:48.5",
           "2017/08/07"
          ],
          [
           36.97,
           27.57,
           "07:42:22.2",
           "2017/08/08"
          ],
          [
           37.05,
           27.7,
           "11:16:52.4",
           "2017/08/13"
          ],
          [
           37.1,
           27.7,
           "02:43:48.5",
           "2017/08/14"
          ],
          [
           36.6,
           24.71,
           "15:53:28.6",
           "2017/08/16"
          ],
          [
           36.01,
           28.01,
           "16:48:34.0",
           "2017/09/01"
          ],
          [
           39.17,
           24.24,
           "22:49:44.8",
           "2017/10/11"
          ],
          [
           36.96,
           27.35,
           "09:36:24.2",
           "2017/10/24"
          ],
          [
           37.05,
           28.64,
           "20:22:53.5",
           "2017/11/22"
          ],
          [
           37.08,
           28.62,
           "21:49:15.2",
           "2017/11/24"
          ],
          [
           38.58,
           26.74,
           "05:13:51.3",
           "2017/12/25"
          ],
          [
           38.24,
           22.86,
           "04:02:18.5",
           "2017/12/31"
          ],
          [
           34.51,
           23.62,
           "12:35:26.2",
           "2018/03/12"
          ],
          [
           36.66,
           26.14,
           "15:56:19.2",
           "2018/04/10"
          ],
          [
           37.16,
           31.93,
           "17:14:00.7",
           "2018/04/13"
          ],
          [
           39.97,
           23.65,
           "00:20:06.3",
           "2018/04/21"
          ],
          [
           36.51,
           22.93,
           "22:30:03.1",
           "2018/05/16"
          ],
          [
           36.58,
           22.59,
           "08:52:39.5",
           "2018/06/05"
          ],
          [
           36.64,
           21.34,
           "05:14:45.0",
           "2018/06/25"
          ],
          [
           35.03,
           25.97,
           "12:42:41.3",
           "2018/07/13"
          ],
          [
           37.53,
           29.91,
           "02:40:24.6",
           "2018/07/23"
          ],
          [
           39.33,
           21.69,
           "07:12:25.3",
           "2018/08/31"
          ],
          [
           37.23,
           30.61,
           "23:02:56.1",
           "2018/09/10"
          ],
          [
           36.19,
           31.06,
           "06:21:48.4",
           "2018/09/12"
          ],
          [
           34.46,
           26.49,
           "00:24:10.6",
           "2018/09/17"
          ],
          [
           36.81,
           21.43,
           "10:21:49.5",
           "2018/09/27"
          ],
          [
           37.49,
           20.6,
           "05:48:37.1",
           "2018/10/26"
          ],
          [
           38.98,
           22.51,
           "12:03:17.0",
           "2018/10/26"
          ],
          [
           37.55,
           20.57,
           "12:41:12.9",
           "2018/10/26"
          ],
          [
           37.48,
           20.47,
           "08:32:26.2",
           "2018/10/30"
          ],
          [
           37.42,
           20.58,
           "02:44:48.8",
           "2018/11/01"
          ],
          [
           37.51,
           20.6,
           "03:12:45.3",
           "2018/11/04"
          ],
          [
           37.74,
           20.48,
           "06:46:13.9",
           "2018/11/05"
          ],
          [
           37.75,
           20.51,
           "23:38:35.8",
           "2018/11/11"
          ],
          [
           37.33,
           20.59,
           "06:50:28.2",
           "2018/11/12"
          ],
          [
           37.62,
           20.67,
           "09:02:05.3",
           "2018/11/15"
          ],
          [
           37.28,
           20.62,
           "13:05:56.2",
           "2018/11/19"
          ],
          [
           36.6,
           25.75,
           "23:16:11.0",
           "2018/11/27"
          ],
          [
           36.73,
           21.57,
           "19:35:53.8",
           "2018/12/19"
          ],
          [
           37.42,
           20.86,
           "01:41:27.1",
           "2018/12/25"
          ],
          [
           34.8,
           23.86,
           "11:40:05.5",
           "2019/01/01"
          ],
          [
           34.61,
           26.68,
           "18:24:38.0",
           "2019/01/10"
          ],
          [
           35.6,
           28.29,
           "15:49:50.3",
           "2019/01/20"
          ],
          [
           36.06,
           28.09,
           "14:30:54.0",
           "2019/01/24"
          ],
          [
           39.05,
           20.59,
           "02:26:09.8",
           "2019/02/05"
          ],
          [
           36.59,
           22.97,
           "19:07:42.0",
           "2019/02/17"
          ],
          [
           39.69,
           26.4,
           "18:23:29.5",
           "2019/02/20"
          ],
          [
           37.65,
           20.94,
           "20:09:25.9",
           "2019/02/28"
          ],
          [
           38.37,
           22.39,
           "10:46:19.2",
           "2019/03/30"
          ],
          [
           37.51,
           29.37,
           "11:30:17.8",
           "2019/03/31"
          ],
          [
           35.37,
           27.69,
           "04:43:17.6",
           "2019/04/29"
          ],
          [
           36.94,
           27.62,
           "05:27:47.9",
           "2019/05/28"
          ],
          [
           38.1,
           23.52,
           "11:13:15.7",
           "2019/07/19"
          ],
          [
           35.39,
           24.97,
           "04:40:04.2",
           "2019/07/31"
          ],
          [
           35.23,
           27.85,
           "09:51:24.2",
           "2019/08/03"
          ],
          [
           37.99,
           26.89,
           "08:39:08.7",
           "2019/08/08"
          ],
          [
           34.31,
           25.0,
           "07:02:49.8",
           "2019/08/11"
          ],
          [
           35.68,
           27.64,
           "11:58:18.5",
           "2019/08/28"
          ],
          [
           37.49,
           26.83,
           "15:38:14.5",
           "2019/08/30"
          ],
          [
           37.52,
           26.82,
           "17:21:04.4",
           "2019/08/30"
          ],
          [
           35.17,
           27.9,
           "01:01:32.9",
           "2019/09/04"
          ],
          [
           34.24,
           26.2,
           "07:48:58.0",
           "2019/09/24"
          ],
          [
           36.28,
           28.57,
           "04:44:56.5",
           "2019/10/03"
          ],
          [
           36.46,
           28.67,
           "21:06:47.5",
           "2019/10/24"
          ],
          [
           39.46,
           27.9,
           "20:14:03.2",
           "2019/12/10"
          ],
          [
           35.5,
           26.45,
           "21:58:28.9",
           "2019/12/10"
          ],
          [
           34.9,
           26.27,
           "03:05:42.5",
           "2019/12/12"
          ],
          [
           38.26,
           20.75,
           "02:52:09.2",
           "2020/01/19"
          ],
          [
           39.11,
           27.88,
           "11:26:15.0",
           "2020/01/28"
          ],
          [
           35.22,
           27.89,
           "15:38:34.4",
           "2020/01/28"
          ],
          [
           35.17,
           27.89,
           "13:36:59.5",
           "2020/01/29"
          ],
          [
           35.16,
           27.89,
           "01:28:05.2",
           "2020/01/30"
          ],
          [
           39.04,
           27.88,
           "17:55:24.0",
           "2020/02/04"
          ],
          [
           35.17,
           27.91,
           "22:46:50.8",
           "2020/02/10"
          ],
          [
           35.78,
           26.95,
           "16:02:16.4",
           "2020/02/14"
          ],
          [
           39.11,
           27.82,
           "16:09:23.8",
           "2020/02/18"
          ],
          [
           39.06,
           27.92,
           "02:43:35.0",
           "2020/02/24"
          ],
          [
           35.26,
           27.8,
           "14:20:11.1",
           "2020/02/26"
          ],
          [
           35.35,
           27.94,
           "14:36:14.4",
           "2020/02/27"
          ],
          [
           34.98,
           26.16,
           "10:22:54.1",
           "2020/04/11"
          ],
          [
           34.15,
           25.45,
           "13:33:51.8",
           "2020/05/02"
          ],
          [
           34.12,
           25.61,
           "16:44:26.6",
           "2020/05/02"
          ],
          [
           34.12,
           25.9,
           "05:54:41.9",
           "2020/05/03"
          ],
          [
           34.08,
           25.57,
           "03:14:22.6",
           "2020/05/08"
          ],
          [
           34.17,
           25.62,
           "04:18:18.0",
           "2020/05/18"
          ],
          [
           34.13,
           25.52,
           "11:48:07.4",
           "2020/05/18"
          ],
          [
           34.27,
           25.6,
           "19:09:13.8",
           "2020/05/19"
          ],
          [
           34.34,
           25.89,
           "02:12:18.2",
           "2020/05/20"
          ],
          [
           34.48,
           25.89,
           "03:40:30.6",
           "2020/05/22"
          ],
          [
           34.29,
           25.51,
           "22:50:12.8",
           "2020/05/23"
          ],
          [
           34.23,
           25.62,
           "01:09:52.8",
           "2020/05/27"
          ],
          [
           34.29,
           25.52,
           "07:43:21.0",
           "2020/06/19"
          ],
          [
           38.79,
           27.79,
           "07:21:12.5",
           "2020/06/26"
          ],
          [
           35.5,
           26.68,
           "19:36:36.6",
           "2020/06/26"
          ],
          [
           36.75,
           28.25,
           "17:43:28.6",
           "2020/06/28"
          ],
          [
           34.45,
           25.83,
           "17:48:53.3",
           "2020/08/14"
          ],
          [
           36.9,
           23.77,
           "07:27:02.4",
           "2020/08/17"
          ],
          [
           39.99,
           24.33,
           "22:50:25.1",
           "2020/09/26"
          ],
          [
           35.59,
           26.24,
           "00:30:39.9",
           "2020/10/12"
          ],
          [
           35.65,
           26.25,
           "04:11:27.6",
           "2020/10/12"
          ],
          [
           37.32,
           20.51,
           "23:00:54.2",
           "2020/10/21"
          ],
          [
           37.86,
           26.83,
           "05:31:30.2",
           "2020/10/31"
          ],
          [
           38.35,
           23.46,
           "10:54:57.9",
           "2020/12/02"
          ],
          [
           35.66,
           26.26,
           "13:36:45.4",
           "2020/12/17"
          ],
          [
           38.41,
           22.07,
           "14:58:24.7",
           "2020/12/23"
          ]
         ],
         "hovertemplate": "<b>%{hovertext}</b><br><br>Cluster=296<br>Lat=%{customdata[0]}<br>Lon=%{customdata[1]}<br>Time=%{customdata[2]}<br>Date=%{customdata[3]}<extra></extra>",
         "hovertext": {
          "dtype": "f8",
          "bdata": "AAAAAACAckAAAAAAAIByQAAAAAAAgHJAAAAAAACAckAAAAAAAIByQAAAAAAAgHJAAAAAAACAckAAAAAAAIByQAAAAAAAgHJAAAAAAACAckAAAAAAAIByQAAAAAAAgHJAAAAAAACAckAAAAAAAIByQAAAAAAAgHJAAAAAAACAckAAAAAAAIByQAAAAAAAgHJAAAAAAACAckAAAAAAAIByQAAAAAAAgHJAAAAAAACAckAAAAAAAIByQAAAAAAAgHJAAAAAAACAckAAAAAAAIByQAAAAAAAgHJAAAAAAACAckAAAAAAAIByQAAAAAAAgHJAAAAAAACAckAAAAAAAIByQAAAAAAAgHJAAAAAAACAckAAAAAAAIByQAAAAAAAgHJAAAAAAACAckAAAAAAAIByQAAAAAAAgHJAAAAAAACAckAAAAAAAIByQAAAAAAAgHJAAAAAAACAckAAAAAAAIByQAAAAAAAgHJAAAAAAACAckAAAAAAAIByQAAAAAAAgHJAAAAAAACAckAAAAAAAIByQAAAAAAAgHJAAAAAAACAckAAAAAAAIByQAAAAAAAgHJAAAAAAACAckAAAAAAAIByQAAAAAAAgHJAAAAAAACAckAAAAAAAIByQAAAAAAAgHJAAAAAAACAckAAAAAAAIByQAAAAAAAgHJAAAAAAACAckAAAAAAAIByQAAAAAAAgHJAAAAAAACAckAAAAAAAIByQAAAAAAAgHJAAAAAAACAckAAAAAAAIByQAAAAAAAgHJAAAAAAACAckAAAAAAAIByQAAAAAAAgHJAAAAAAACAckAAAAAAAIByQAAAAAAAgHJAAAAAAACAckAAAAAAAIByQAAAAAAAgHJAAAAAAACAckAAAAAAAIByQAAAAAAAgHJAAAAAAACAckAAAAAAAIByQAAAAAAAgHJAAAAAAACAckAAAAAAAIByQAAAAAAAgHJAAAAAAACAckAAAAAAAIByQAAAAAAAgHJAAAAAAACAckAAAAAAAIByQAAAAAAAgHJAAAAAAACAckAAAAAAAIByQAAAAAAAgHJAAAAAAACAckAAAAAAAIByQAAAAAAAgHJAAAAAAACAckAAAAAAAIByQAAAAAAAgHJAAAAAAACAckAAAAAAAIByQAAAAAAAgHJAAAAAAACAckAAAAAAAIByQAAAAAAAgHJAAAAAAACAckAAAAAAAIByQAAAAAAAgHJAAAAAAACAckAAAAAAAIByQAAAAAAAgHJAAAAAAACAckAAAAAAAIByQAAAAAAAgHJAAAAAAACAckAAAAAAAIByQAAAAAAAgHJAAAAAAACAckAAAAAAAIByQAAAAAAAgHJAAAAAAACAckAAAAAAAIByQAAAAAAAgHJAAAAAAACAckAAAAAAAIByQAAAAAAAgHJAAAAAAACAckAAAAAAAIByQAAAAAAAgHJAAAAAAACAckAAAAAAAIByQAAAAAAAgHJAAAAAAACAckAAAAAAAIByQAAAAAAAgHJAAAAAAACAckAAAAAAAIByQAAAAAAAgHJAAAAAAACAckAAAAAAAIByQAAAAAAAgHJAAAAAAACAckAAAAAAAIByQAAAAAAAgHJAAAAAAACAckAAAAAAAIByQAAAAAAAgHJAAAAAAACAckAAAAAAAIByQAAAAAAAgHJAAAAAAACAckAAAAAAAIByQAAAAAAAgHJAAAAAAACAckAAAAAAAIByQAAAAAAAgHJAAAAAAACAckAAAAAAAIByQAAAAAAAgHJAAAAAAACAckAAAAAAAIByQAAAAAAAgHJAAAAAAACAckAAAAAAAIByQAAAAAAAgHJAAAAAAACAckAAAAAAAIByQAAAAAAAgHJAAAAAAACAckAAAAAAAIByQAAAAAAAgHJAAAAAAACAckAAAAAAAIByQAAAAAAAgHJAAAAAAACAckAAAAAAAIByQAAAAAAAgHJAAAAAAACAckAAAAAAAIByQAAAAAAAgHJAAAAAAACAckAAAAAAAIByQAAAAAAAgHJAAAAAAACAckAAAAAAAIByQAAAAAAAgHJAAAAAAACAckAAAAAAAIByQAAAAAAAgHJAAAAAAACAckAAAAAAAIByQAAAAAAAgHJAAAAAAACAckAAAAAAAIByQAAAAAAAgHJAAAAAAACAckAAAAAAAIByQAAAAAAAgHJAAAAAAACAckAAAAAAAIByQAAAAAAAgHJAAAAAAACAckAAAAAAAIByQAAAAAAAgHJAAAAAAACAckAAAAAAAIByQAAAAAAAgHJAAAAAAACAckAAAAAAAIByQAAAAAAAgHJAAAAAAACAckAAAAAAAIByQAAAAAAAgHJAAAAAAACAckAAAAAAAIByQAAAAAAAgHJAAAAAAACAckAAAAAAAIByQAAAAAAAgHJAAAAAAACAckAAAAAAAIByQAAAAAAAgHJAAAAAAACAckAAAAAAAIByQAAAAAAAgHJAAAAAAACAckAAAAAAAIByQAAAAAAAgHJAAAAAAACAckAAAAAAAIByQAAAAAAAgHJAAAAAAACAckAAAAAAAIByQAAAAAAAgHJAAAAAAACAckAAAAAAAIByQAAAAAAAgHJAAAAAAACAckAAAAAAAIByQAAAAAAAgHJAAAAAAACAckAAAAAAAIByQAAAAAAAgHJAAAAAAACAckAAAAAAAIByQAAAAAAAgHJAAAAAAACAckAAAAAAAIByQAAAAAAAgHJAAAAAAACAckAAAAAAAIByQAAAAAAAgHJAAAAAAACAckAAAAAAAIByQAAAAAAAgHJAAAAAAACAckAAAAAAAIByQAAAAAAAgHJAAAAAAACAckAAAAAAAIByQAAAAAAAgHJAAAAAAACAckAAAAAAAIByQAAAAAAAgHJAAAAAAACAckAAAAAAAIByQAAAAAAAgHJAAAAAAACAckAAAAAAAIByQAAAAAAAgHJAAAAAAACAckAAAAAAAIByQAAAAAAAgHJAAAAAAACAckAAAAAAAIByQAAAAAAAgHJAAAAAAACAckAAAAAAAIByQAAAAAAAgHJAAAAAAACAckAAAAAAAIByQAAAAAAAgHJAAAAAAACAckAAAAAAAIByQAAAAAAAgHJAAAAAAACAckAAAAAAAIByQAAAAAAAgHJAAAAAAACAckAAAAAAAIByQAAAAAAAgHJAAAAAAACAckAAAAAAAIByQAAAAAAAgHJAAAAAAACAckAAAAAAAIByQAAAAAAAgHJAAAAAAACAckAAAAAAAIByQAAAAAAAgHJAAAAAAACAckAAAAAAAIByQAAAAAAAgHJAAAAAAACAckAAAAAAAIByQAAAAAAAgHJAAAAAAACAckAAAAAAAIByQAAAAAAAgHJAAAAAAACAckAAAAAAAIByQAAAAAAAgHJAAAAAAACAckAAAAAAAIByQAAAAAAAgHJAAAAAAACAckAAAAAAAIByQAAAAAAAgHJAAAAAAACAckAAAAAAAIByQAAAAAAAgHJAAAAAAACAckAAAAAAAIByQAAAAAAAgHJAAAAAAACAckAAAAAAAIByQAAAAAAAgHJAAAAAAACAckAAAAAAAIByQAAAAAAAgHJAAAAAAACAckAAAAAAAIByQAAAAAAAgHJAAAAAAACAckAAAAAAAIByQAAAAAAAgHJAAAAAAACAckAAAAAAAIByQAAAAAAAgHJAAAAAAACAckAAAAAAAIByQAAAAAAAgHJAAAAAAACAckAAAAAAAIByQAAAAAAAgHJAAAAAAACAckAAAAAAAIByQAAAAAAAgHJAAAAAAACAckAAAAAAAIByQAAAAAAAgHJAAAAAAACAckAAAAAAAIByQAAAAAAAgHJAAAAAAACAckAAAAAAAIByQAAAAAAAgHJAAAAAAACAckAAAAAAAIByQAAAAAAAgHJAAAAAAACAckAAAAAAAIByQAAAAAAAgHJAAAAAAACAckA="
         },
         "lat": {
          "dtype": "f8",
          "bdata": "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"
         },
         "legendgroup": "296",
         "lon": {
          "dtype": "f8",
          "bdata": "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"
         },
         "marker": {
          "color": "#B00068"
         },
         "mode": "markers",
         "name": "296",
         "showlegend": true,
         "subplot": "map",
         "type": "scattermap"
        },
        {
         "customdata": [
          [
           -39.84,
           41.76,
           "01:34:41.5",
           "2000/09/08"
          ],
          [
           -39.78,
           45.1,
           "08:49:57.4",
           "2003/02/08"
          ]
         ],
         "hovertemplate": "<b>%{hovertext}</b><br><br>Cluster=6<br>Lat=%{customdata[0]}<br>Lon=%{customdata[1]}<br>Time=%{customdata[2]}<br>Date=%{customdata[3]}<extra></extra>",
         "hovertext": {
          "dtype": "f8",
          "bdata": "AAAAAAAAGEAAAAAAAAAYQA=="
         },
         "lat": {
          "dtype": "f8",
          "bdata": "7FG4HoXrQ8CkcD0K1+NDwA=="
         },
         "legendgroup": "6",
         "lon": {
          "dtype": "f8",
          "bdata": "4XoUrkfhREDNzMzMzIxGQA=="
         },
         "marker": {
          "color": "#FBE426"
         },
         "mode": "markers",
         "name": "6",
         "showlegend": true,
         "subplot": "map",
         "type": "scattermap"
        },
        {
         "customdata": [
          [
           38.4,
           42.92,
           "15:05:38.2",
           "2000/11/15"
          ],
          [
           39.83,
           41.62,
           "21:42:08.8",
           "2001/07/10"
          ]
         ],
         "hovertemplate": "<b>%{hovertext}</b><br><br>Cluster=233<br>Lat=%{customdata[0]}<br>Lon=%{customdata[1]}<br>Time=%{customdata[2]}<br>Date=%{customdata[3]}<extra></extra>",
         "hovertext": {
          "dtype": "f8",
          "bdata": "AAAAAAAgbUAAAAAAACBtQA=="
         },
         "lat": {
          "dtype": "f8",
          "bdata": "MzMzMzMzQ0AK16NwPepDQA=="
         },
         "legendgroup": "233",
         "lon": {
          "dtype": "f8",
          "bdata": "9ihcj8J1RUCPwvUoXM9EQA=="
         },
         "marker": {
          "color": "#FA0087"
         },
         "mode": "markers",
         "name": "233",
         "showlegend": true,
         "subplot": "map",
         "type": "scattermap"
        },
        {
         "customdata": [
          [
           38.46,
           31.35,
           "16:44:47.7",
           "2000/12/15"
          ],
          [
           38.63,
           30.9,
           "09:26:43.3",
           "2002/02/03"
          ]
         ],
         "hovertemplate": "<b>%{hovertext}</b><br><br>Cluster=256<br>Lat=%{customdata[0]}<br>Lon=%{customdata[1]}<br>Time=%{customdata[2]}<br>Date=%{customdata[3]}<extra></extra>",
         "hovertext": {
          "dtype": "f8",
          "bdata": "AAAAAAAAcEAAAAAAAABwQA=="
         },
         "lat": {
          "dtype": "f8",
          "bdata": "exSuR+E6Q0BxPQrXo1BDQA=="
         },
         "legendgroup": "256",
         "lon": {
          "dtype": "f8",
          "bdata": "mpmZmZlZP0BmZmZmZuY+QA=="
         },
         "marker": {
          "color": "#AA0DFE"
         },
         "mode": "markers",
         "name": "256",
         "showlegend": true,
         "subplot": "map",
         "type": "scattermap"
        },
        {
         "customdata": [
          [
           -17.58,
           -13.57,
           "11:40:09.6",
           "2001/01/05"
          ],
          [
           -17.26,
           -14.13,
           "11:02:03.8",
           "2001/06/21"
          ]
         ],
         "hovertemplate": "<b>%{hovertext}</b><br><br>Cluster=197<br>Lat=%{customdata[0]}<br>Lon=%{customdata[1]}<br>Time=%{customdata[2]}<br>Date=%{customdata[3]}<extra></extra>",
         "hovertext": {
          "dtype": "f8",
          "bdata": "AAAAAACgaEAAAAAAAKBoQA=="
         },
         "lat": {
          "dtype": "f8",
          "bdata": "FK5H4XqUMcDD9Shcj0IxwA=="
         },
         "legendgroup": "197",
         "lon": {
          "dtype": "f8",
          "bdata": "pHA9CtcjK8DD9Shcj0IswA=="
         },
         "marker": {
          "color": "#3283FE"
         },
         "mode": "markers",
         "name": "197",
         "showlegend": true,
         "subplot": "map",
         "type": "scattermap"
        },
        {
         "customdata": [
          [
           -6.81,
           -12.91,
           "18:10:58.7",
           "2001/03/07"
          ],
          [
           -7.43,
           -13.38,
           "06:12:16.8",
           "2001/07/12"
          ]
         ],
         "hovertemplate": "<b>%{hovertext}</b><br><br>Cluster=131<br>Lat=%{customdata[0]}<br>Lon=%{customdata[1]}<br>Time=%{customdata[2]}<br>Date=%{customdata[3]}<extra></extra>",
         "hovertext": {
          "dtype": "f8",
          "bdata": "AAAAAABgYEAAAAAAAGBgQA=="
         },
         "lat": {
          "dtype": "f8",
          "bdata": "PQrXo3A9G8C4HoXrUbgdwA=="
         },
         "legendgroup": "131",
         "lon": {
          "dtype": "f8",
          "bdata": "UrgehevRKcDD9Shcj8IqwA=="
         },
         "marker": {
          "color": "#85660D"
         },
         "mode": "markers",
         "name": "131",
         "showlegend": true,
         "subplot": "map",
         "type": "scattermap"
        },
        {
         "customdata": [
          [
           32.95,
           46.62,
           "05:24:11.9",
           "2001/03/23"
          ],
          [
           32.47,
           47.99,
           "17:36:34.2",
           "2001/04/03"
          ],
          [
           32.73,
           47.68,
           "22:38:16.8",
           "2001/09/01"
          ],
          [
           36.57,
           49.81,
           "13:46:49.8",
           "2002/04/19"
          ],
          [
           34.64,
           47.4,
           "19:48:07.1",
           "2002/04/24"
          ],
          [
           33.33,
           45.91,
           "03:19:24.2",
           "2002/06/18"
          ],
          [
           35.7,
           48.84,
           "01:00:03.3",
           "2002/09/02"
          ],
          [
           34.59,
           47.45,
           "17:03:02.9",
           "2002/12/24"
          ]
         ],
         "hovertemplate": "<b>%{hovertext}</b><br><br>Cluster=264<br>Lat=%{customdata[0]}<br>Lon=%{customdata[1]}<br>Time=%{customdata[2]}<br>Date=%{customdata[3]}<extra></extra>",
         "hovertext": {
          "dtype": "f8",
          "bdata": "AAAAAACAcEAAAAAAAIBwQAAAAAAAgHBAAAAAAACAcEAAAAAAAIBwQAAAAAAAgHBAAAAAAACAcEAAAAAAAIBwQA=="
         },
         "lat": {
          "dtype": "f8",
          "bdata": "mpmZmZl5QEBcj8L1KDxAQD0K16NwXUBAKVyPwvVIQkBSuB6F61FBQArXo3A9qkBAmpmZmZnZQUDsUbgehUtBQA=="
         },
         "legendgroup": "264",
         "lon": {
          "dtype": "f8",
          "bdata": "j8L1KFxPR0AfhetRuP5HQNejcD0K10dASOF6FK7nSEAzMzMzM7NHQBSuR+F69EZA7FG4HoVrSECamZmZmblHQA=="
         },
         "marker": {
          "color": "#782AB6"
         },
         "mode": "markers",
         "name": "264",
         "showlegend": true,
         "subplot": "map",
         "type": "scattermap"
        },
        {
         "customdata": [
          [
           -17.29,
           -14.06,
           "19:56:01.1",
           "2001/04/09"
          ],
          [
           -17.69,
           -13.35,
           "18:45:15.0",
           "2002/11/08"
          ],
          [
           -22.97,
           -13.66,
           "16:10:22.5",
           "2003/09/23"
          ],
          [
           -19.96,
           -11.75,
           "18:29:11.0",
           "2003/10/05"
          ],
          [
           -18.82,
           -12.56,
           "13:45:25.7",
           "2004/02/27"
          ],
          [
           -25.57,
           -13.75,
           "07:17:57.2",
           "2004/07/16"
          ],
          [
           -25.01,
           -13.72,
           "00:57:14.0",
           "2004/08/23"
          ],
          [
           -21.37,
           -11.72,
           "06:39:56.4",
           "2004/09/13"
          ],
          [
           -28.85,
           -12.7,
           "14:59:10.2",
           "2004/10/12"
          ],
          [
           -24.36,
           -13.27,
           "19:35:30.8",
           "2004/12/15"
          ],
          [
           -29.42,
           -12.96,
           "17:57:17.3",
           "2005/01/08"
          ],
          [
           -22.53,
           -12.75,
           "07:57:11.2",
           "2006/04/20"
          ],
          [
           -30.96,
           -13.39,
           "07:24:22.9",
           "2006/05/23"
          ],
          [
           -24.72,
           -13.42,
           "15:11:25.2",
           "2006/07/06"
          ],
          [
           -27.75,
           -13.25,
           "08:08:40.0",
           "2006/11/07"
          ],
          [
           -27.55,
           -13.36,
           "08:33:59.7",
           "2006/11/07"
          ],
          [
           -31.07,
           -13.4,
           "20:22:13.7",
           "2007/08/13"
          ],
          [
           -24.76,
           -13.31,
           "16:10:34.3",
           "2008/02/06"
          ],
          [
           -28.1,
           -13.19,
           "18:14:28.0",
           "2008/09/17"
          ],
          [
           -28.2,
           -12.86,
           "21:03:40.0",
           "2008/09/17"
          ],
          [
           -29.25,
           -13.25,
           "05:23:12.0",
           "2009/03/04"
          ],
          [
           -30.75,
           -13.5,
           "01:32:33.3",
           "2009/03/05"
          ],
          [
           -22.99,
           -13.57,
           "08:34:42.8",
           "2009/07/30"
          ]
         ],
         "hovertemplate": "<b>%{hovertext}</b><br><br>Cluster=196<br>Lat=%{customdata[0]}<br>Lon=%{customdata[1]}<br>Time=%{customdata[2]}<br>Date=%{customdata[3]}<extra></extra>",
         "hovertext": {
          "dtype": "f8",
          "bdata": "AAAAAACAaEAAAAAAAIBoQAAAAAAAgGhAAAAAAACAaEAAAAAAAIBoQAAAAAAAgGhAAAAAAACAaEAAAAAAAIBoQAAAAAAAgGhAAAAAAACAaEAAAAAAAIBoQAAAAAAAgGhAAAAAAACAaEAAAAAAAIBoQAAAAAAAgGhAAAAAAACAaEAAAAAAAIBoQAAAAAAAgGhAAAAAAACAaEAAAAAAAIBoQAAAAAAAgGhAAAAAAACAaEAAAAAAAIBoQA=="
         },
         "lat": {
          "dtype": "f8",
          "bdata": "CtejcD1KMcBxPQrXo7AxwLgehetR+DbA9ihcj8L1M8BSuB6F69EywFK4HoXrkTnAw/UoXI8COcAfhetRuF41wJqZmZmZ2TzAXI/C9ShcOMDsUbgehWs9wEjhehSuhzbA9ihcj8L1PsC4HoXrUbg4wAAAAAAAwDvAzczMzMyMO8BSuB6F6xE/wMP1KFyPwjjAmpmZmZkZPMAzMzMzMzM8wAAAAAAAQD3AAAAAAADAPsA9CtejcP02wA=="
         },
         "legendgroup": "196",
         "lon": {
          "dtype": "f8",
          "bdata": "H4XrUbgeLMAzMzMzM7MqwFK4HoXrUSvAAAAAAACAJ8AfhetRuB4pwAAAAAAAgCvAcT0K16NwK8BxPQrXo3AnwGZmZmZmZinACtejcD2KKsDsUbgehespwAAAAAAAgCnASOF6FK7HKsDXo3A9CtcqwAAAAAAAgCrAuB6F61G4KsDNzMzMzMwqwB+F61G4nirA4XoUrkdhKsC4HoXrUbgpwAAAAAAAgCrAAAAAAAAAK8CkcD0K1yMrwA=="
         },
         "marker": {
          "color": "#565656"
         },
         "mode": "markers",
         "name": "196",
         "showlegend": true,
         "subplot": "map",
         "type": "scattermap"
        },
        {
         "customdata": [
          [
           0.29,
           29.97,
           "23:40:00.9",
           "2001/06/29"
          ],
          [
           -1.68,
           28.98,
           "00:14:44.4",
           "2002/01/20"
          ],
          [
           -1.78,
           29.04,
           "04:39:21.6",
           "2002/01/21"
          ],
          [
           -1.51,
           28.99,
           "15:32:05.6",
           "2002/01/22"
          ],
          [
           -5.55,
           29.51,
           "16:03:56.1",
           "2003/04/10"
          ]
         ],
         "hovertemplate": "<b>%{hovertext}</b><br><br>Cluster=165<br>Lat=%{customdata[0]}<br>Lon=%{customdata[1]}<br>Time=%{customdata[2]}<br>Date=%{customdata[3]}<extra></extra>",
         "hovertext": {
          "dtype": "f8",
          "bdata": "AAAAAACgZEAAAAAAAKBkQAAAAAAAoGRAAAAAAACgZEAAAAAAAKBkQA=="
         },
         "lat": {
          "dtype": "f8",
          "bdata": "j8L1KFyP0j/hehSuR+H6v3sUrkfhevy/KVyPwvUo+L8zMzMzMzMWwA=="
         },
         "legendgroup": "165",
         "lon": {
          "dtype": "f8",
          "bdata": "uB6F61H4PUB7FK5H4fo8QArXo3A9Cj1APQrXo3D9PEDD9Shcj4I9QA=="
         },
         "marker": {
          "color": "#1C8356"
         },
         "mode": "markers",
         "name": "165",
         "showlegend": true,
         "subplot": "map",
         "type": "scattermap"
        },
        {
         "customdata": [
          [
           11.79,
           43.19,
           "16:23:44.6",
           "2001/11/02"
          ],
          [
           11.82,
           43.65,
           "22:08:43.0",
           "2002/08/09"
          ],
          [
           12.13,
           43.88,
           "09:45:41.9",
           "2002/08/10"
          ],
          [
           11.51,
           43.04,
           "23:17:52.5",
           "2004/01/03"
          ],
          [
           11.64,
           43.19,
           "00:09:46.1",
           "2004/01/04"
          ]
         ],
         "hovertemplate": "<b>%{hovertext}</b><br><br>Cluster=204<br>Lat=%{customdata[0]}<br>Lon=%{customdata[1]}<br>Time=%{customdata[2]}<br>Date=%{customdata[3]}<extra></extra>",
         "hovertext": {
          "dtype": "f8",
          "bdata": "AAAAAACAaUAAAAAAAIBpQAAAAAAAgGlAAAAAAACAaUAAAAAAAIBpQA=="
         },
         "lat": {
          "dtype": "f8",
          "bdata": "FK5H4XqUJ0CkcD0K16MnQMP1KFyPQihAhetRuB4FJ0BI4XoUrkcnQA=="
         },
         "legendgroup": "204",
         "lon": {
          "dtype": "f8",
          "bdata": "uB6F61GYRUAzMzMzM9NFQHE9Ctej8EVAhetRuB6FRUC4HoXrUZhFQA=="
         },
         "marker": {
          "color": "#16FF32"
         },
         "mode": "markers",
         "name": "204",
         "showlegend": true,
         "subplot": "map",
         "type": "scattermap"
        },
        {
         "customdata": [
          [
           35.79,
           26.62,
           "04:53:52.7",
           "2002/01/22"
          ],
          [
           38.57,
           31.27,
           "07:11:28.4",
           "2002/02/03"
          ],
          [
           39.16,
           20.6,
           "05:14:54.8",
           "2003/08/14"
          ]
         ],
         "hovertemplate": "<b>%{hovertext}</b><br><br>Cluster=86<br>Lat=%{customdata[0]}<br>Lon=%{customdata[1]}<br>Time=%{customdata[2]}<br>Date=%{customdata[3]}<extra></extra>",
         "hovertext": {
          "dtype": "f8",
          "bdata": "AAAAAACAVUAAAAAAAIBVQAAAAAAAgFVA"
         },
         "lat": {
          "dtype": "f8",
          "bdata": "hetRuB7lQUApXI/C9UhDQBSuR+F6lENA"
         },
         "legendgroup": "86",
         "lon": {
          "dtype": "f8",
          "bdata": "H4XrUbieOkCF61G4HkU/QJqZmZmZmTRA"
         },
         "marker": {
          "color": "#F7E1A0"
         },
         "mode": "markers",
         "name": "86",
         "showlegend": true,
         "subplot": "map",
         "type": "scattermap"
        },
        {
         "customdata": [
          [
           37.1,
           -2.61,
           "20:09:30.7",
           "2002/02/04"
          ],
          [
           35.28,
           -4.11,
           "12:44:57.5",
           "2004/02/25"
          ],
          [
           35.23,
           -4.18,
           "12:07:04.3",
           "2004/02/26"
          ],
          [
           35.03,
           -3.03,
           "17:50:45.0",
           "2004/12/02"
          ],
          [
           35.04,
           -3.14,
           "10:30:00.5",
           "2004/12/04"
          ]
         ],
         "hovertemplate": "<b>%{hovertext}</b><br><br>Cluster=223<br>Lat=%{customdata[0]}<br>Lon=%{customdata[1]}<br>Time=%{customdata[2]}<br>Date=%{customdata[3]}<extra></extra>",
         "hovertext": {
          "dtype": "f8",
          "bdata": "AAAAAADga0AAAAAAAOBrQAAAAAAA4GtAAAAAAADga0AAAAAAAOBrQA=="
         },
         "lat": {
          "dtype": "f8",
          "bdata": "zczMzMyMQkCkcD0K16NBQD0K16NwnUFApHA9CteDQUCF61G4HoVBQA=="
         },
         "legendgroup": "223",
         "lon": {
          "dtype": "f8",
          "bdata": "4XoUrkfhBMBxPQrXo3AQwLgehetRuBDAPQrXo3A9CMAfhetRuB4JwA=="
         },
         "marker": {
          "color": "#E2E2E2"
         },
         "mode": "markers",
         "name": "223",
         "showlegend": true,
         "subplot": "map",
         "type": "scattermap"
        },
        {
         "customdata": [
          [
           -7.68,
           31.9,
           "19:07:17.1",
           "2002/02/20"
          ],
          [
           -2.91,
           33.73,
           "15:15:08.8",
           "2002/05/18"
          ]
         ],
         "hovertemplate": "<b>%{hovertext}</b><br><br>Cluster=106<br>Lat=%{customdata[0]}<br>Lon=%{customdata[1]}<br>Time=%{customdata[2]}<br>Date=%{customdata[3]}<extra></extra>",
         "hovertext": {
          "dtype": "f8",
          "bdata": "AAAAAACAWkAAAAAAAIBaQA=="
         },
         "lat": {
          "dtype": "f8",
          "bdata": "uB6F61G4HsBI4XoUrkcHwA=="
         },
         "legendgroup": "106",
         "lon": {
          "dtype": "f8",
          "bdata": "ZmZmZmbmP0A9CtejcN1AQA=="
         },
         "marker": {
          "color": "#1CBE4F"
         },
         "mode": "markers",
         "name": "106",
         "showlegend": true,
         "subplot": "map",
         "type": "scattermap"
        },
        {
         "customdata": [
          [
           39.7,
           16.84,
           "06:42:54.3",
           "2002/04/17"
          ],
          [
           38.44,
           13.69,
           "06:10:44.9",
           "2002/09/27"
          ]
         ],
         "hovertemplate": "<b>%{hovertext}</b><br><br>Cluster=282<br>Lat=%{customdata[0]}<br>Lon=%{customdata[1]}<br>Time=%{customdata[2]}<br>Date=%{customdata[3]}<extra></extra>",
         "hovertext": {
          "dtype": "f8",
          "bdata": "AAAAAACgcUAAAAAAAKBxQA=="
         },
         "lat": {
          "dtype": "f8",
          "bdata": "mpmZmZnZQ0C4HoXrUThDQA=="
         },
         "legendgroup": "282",
         "lon": {
          "dtype": "f8",
          "bdata": "16NwPQrXMEDhehSuR2ErQA=="
         },
         "marker": {
          "color": "#C4451C"
         },
         "mode": "markers",
         "name": "282",
         "showlegend": true,
         "subplot": "map",
         "type": "scattermap"
        },
        {
         "customdata": [
          [
           -4.83,
           -12.27,
           "19:55:58.9",
           "2002/06/25"
          ],
          [
           -4.78,
           -12.34,
           "01:00:11.5",
           "2002/06/26"
          ],
          [
           -4.74,
           -12.3,
           "06:38:13.5",
           "2002/06/26"
          ]
         ],
         "hovertemplate": "<b>%{hovertext}</b><br><br>Cluster=221<br>Lat=%{customdata[0]}<br>Lon=%{customdata[1]}<br>Time=%{customdata[2]}<br>Date=%{customdata[3]}<extra></extra>",
         "hovertext": {
          "dtype": "f8",
          "bdata": "AAAAAACga0AAAAAAAKBrQAAAAAAAoGtA"
         },
         "lat": {
          "dtype": "f8",
          "bdata": "UrgehetRE8AfhetRuB4TwPYoXI/C9RLA"
         },
         "legendgroup": "221",
         "lon": {
          "dtype": "f8",
          "bdata": "CtejcD2KKMCuR+F6FK4owJqZmZmZmSjA"
         },
         "marker": {
          "color": "#DEA0FD"
         },
         "mode": "markers",
         "name": "221",
         "showlegend": true,
         "subplot": "map",
         "type": "scattermap"
        },
        {
         "customdata": [
          [
           -11.65,
           41.07,
           "14:50:14.5",
           "2002/07/16"
          ],
          [
           -10.41,
           41.49,
           "19:58:06.9",
           "2005/01/04"
          ]
         ],
         "hovertemplate": "<b>%{hovertext}</b><br><br>Cluster=185<br>Lat=%{customdata[0]}<br>Lon=%{customdata[1]}<br>Time=%{customdata[2]}<br>Date=%{customdata[3]}<extra></extra>",
         "hovertext": {
          "dtype": "f8",
          "bdata": "AAAAAAAgZ0AAAAAAACBnQA=="
         },
         "lat": {
          "dtype": "f8",
          "bdata": "zczMzMxMJ8BSuB6F69EkwA=="
         },
         "legendgroup": "185",
         "lon": {
          "dtype": "f8",
          "bdata": "KVyPwvWIREAfhetRuL5EQA=="
         },
         "marker": {
          "color": "#FE00FA"
         },
         "mode": "markers",
         "name": "185",
         "showlegend": true,
         "subplot": "map",
         "type": "scattermap"
        },
        {
         "customdata": [
          [
           -1.51,
           -14.37,
           "14:18:13.4",
           "2002/08/03"
          ],
          [
           -1.01,
           -14.06,
           "23:15:12.1",
           "2003/09/21"
          ]
         ],
         "hovertemplate": "<b>%{hovertext}</b><br><br>Cluster=189<br>Lat=%{customdata[0]}<br>Lon=%{customdata[1]}<br>Time=%{customdata[2]}<br>Date=%{customdata[3]}<extra></extra>",
         "hovertext": {
          "dtype": "f8",
          "bdata": "AAAAAACgZ0AAAAAAAKBnQA=="
         },
         "lat": {
          "dtype": "f8",
          "bdata": "KVyPwvUo+L8pXI/C9Sjwvw=="
         },
         "legendgroup": "189",
         "lon": {
          "dtype": "f8",
          "bdata": "PQrXo3C9LMAfhetRuB4swA=="
         },
         "marker": {
          "color": "#325A9B"
         },
         "mode": "markers",
         "name": "189",
         "showlegend": true,
         "subplot": "map",
         "type": "scattermap"
        },
        {
         "customdata": [
          [
           -35.46,
           -16.24,
           "15:16:27.0",
           "2002/08/04"
          ],
          [
           -38.9,
           -15.84,
           "21:32:23.6",
           "2004/02/13"
          ],
          [
           -39.54,
           -16.07,
           "15:37:53.2",
           "2004/07/09"
          ]
         ],
         "hovertemplate": "<b>%{hovertext}</b><br><br>Cluster=45<br>Lat=%{customdata[0]}<br>Lon=%{customdata[1]}<br>Time=%{customdata[2]}<br>Date=%{customdata[3]}<extra></extra>",
         "hovertext": {
          "dtype": "f8",
          "bdata": "AAAAAACARkAAAAAAAIBGQAAAAAAAgEZA"
         },
         "lat": {
          "dtype": "f8",
          "bdata": "exSuR+G6QcAzMzMzM3NDwIXrUbgexUPA"
         },
         "legendgroup": "45",
         "lon": {
          "dtype": "f8",
          "bdata": "PQrXo3A9MMCuR+F6FK4vwFK4HoXrETDA"
         },
         "marker": {
          "color": "#FEAF16"
         },
         "mode": "markers",
         "name": "45",
         "showlegend": true,
         "subplot": "map",
         "type": "scattermap"
        },
        {
         "customdata": [
          [
           13.65,
           40.0,
           "21:17:11.7",
           "2002/08/08"
          ],
          [
           12.28,
           39.74,
           "11:18:32.5",
           "2002/12/01"
          ]
         ],
         "hovertemplate": "<b>%{hovertext}</b><br><br>Cluster=192<br>Lat=%{customdata[0]}<br>Lon=%{customdata[1]}<br>Time=%{customdata[2]}<br>Date=%{customdata[3]}<extra></extra>",
         "hovertext": {
          "dtype": "f8",
          "bdata": "AAAAAAAAaEAAAAAAAABoQA=="
         },
         "lat": {
          "dtype": "f8",
          "bdata": "zczMzMxMK0CPwvUoXI8oQA=="
         },
         "legendgroup": "192",
         "lon": {
          "dtype": "f8",
          "bdata": "AAAAAAAAREAfhetRuN5DQA=="
         },
         "marker": {
          "color": "#F8A19F"
         },
         "mode": "markers",
         "name": "192",
         "showlegend": true,
         "subplot": "map",
         "type": "scattermap"
        },
        {
         "customdata": [
          [
           -9.74,
           34.31,
           "22:52:33.2",
           "2002/08/31"
          ],
          [
           -10.4,
           34.43,
           "14:07:56.2",
           "2004/03/14"
          ],
          [
           -10.59,
           34.42,
           "20:11:48.9",
           "2004/08/21"
          ]
         ],
         "hovertemplate": "<b>%{hovertext}</b><br><br>Cluster=134<br>Lat=%{customdata[0]}<br>Lon=%{customdata[1]}<br>Time=%{customdata[2]}<br>Date=%{customdata[3]}<extra></extra>",
         "hovertext": {
          "dtype": "f8",
          "bdata": "AAAAAADAYEAAAAAAAMBgQAAAAAAAwGBA"
         },
         "lat": {
          "dtype": "f8",
          "bdata": "exSuR+F6I8DNzMzMzMwkwK5H4XoULiXA"
         },
         "legendgroup": "134",
         "lon": {
          "dtype": "f8",
          "bdata": "SOF6FK4nQUDXo3A9CjdBQPYoXI/CNUFA"
         },
         "marker": {
          "color": "#90AD1C"
         },
         "mode": "markers",
         "name": "134",
         "showlegend": true,
         "subplot": "map",
         "type": "scattermap"
        },
        {
         "customdata": [
          [
           -19.65,
           -12.01,
           "12:55:29.8",
           "2002/09/26"
          ],
          [
           -22.19,
           -11.9,
           "11:45:42.5",
           "2004/04/24"
          ]
         ],
         "hovertemplate": "<b>%{hovertext}</b><br><br>Cluster=128<br>Lat=%{customdata[0]}<br>Lon=%{customdata[1]}<br>Time=%{customdata[2]}<br>Date=%{customdata[3]}<extra></extra>",
         "hovertext": {
          "dtype": "f8",
          "bdata": "AAAAAAAAYEAAAAAAAABgQA=="
         },
         "lat": {
          "dtype": "f8",
          "bdata": "ZmZmZmamM8BxPQrXozA2wA=="
         },
         "legendgroup": "128",
         "lon": {
          "dtype": "f8",
          "bdata": "hetRuB4FKMDNzMzMzMwnwA=="
         },
         "marker": {
          "color": "#F6222E"
         },
         "mode": "markers",
         "name": "128",
         "showlegend": true,
         "subplot": "map",
         "type": "scattermap"
        },
        {
         "customdata": [
          [
           36.19,
           -7.47,
           "13:51:26.7",
           "2002/12/10"
          ],
          [
           35.69,
           -10.56,
           "05:31:26.7",
           "2003/07/29"
          ]
         ],
         "hovertemplate": "<b>%{hovertext}</b><br><br>Cluster=224<br>Lat=%{customdata[0]}<br>Lon=%{customdata[1]}<br>Time=%{customdata[2]}<br>Date=%{customdata[3]}<extra></extra>",
         "hovertext": {
          "dtype": "f8",
          "bdata": "AAAAAAAAbEAAAAAAAABsQA=="
         },
         "lat": {
          "dtype": "f8",
          "bdata": "uB6F61EYQkC4HoXrUdhBQA=="
         },
         "legendgroup": "224",
         "lon": {
          "dtype": "f8",
          "bdata": "4XoUrkfhHcAfhetRuB4lwA=="
         },
         "marker": {
          "color": "#1CFFCE"
         },
         "mode": "markers",
         "name": "224",
         "showlegend": true,
         "subplot": "map",
         "type": "scattermap"
        },
        {
         "customdata": [
          [
           -2.42,
           29.56,
           "06:15:20.6",
           "2003/03/20"
          ],
          [
           -0.52,
           29.45,
           "18:56:50.7",
           "2003/08/05"
          ]
         ],
         "hovertemplate": "<b>%{hovertext}</b><br><br>Cluster=172<br>Lat=%{customdata[0]}<br>Lon=%{customdata[1]}<br>Time=%{customdata[2]}<br>Date=%{customdata[3]}<extra></extra>",
         "hovertext": {
          "dtype": "f8",
          "bdata": "AAAAAACAZUAAAAAAAIBlQA=="
         },
         "lat": {
          "dtype": "f8",
          "bdata": "XI/C9ShcA8CkcD0K16Pgvw=="
         },
         "legendgroup": "172",
         "lon": {
          "dtype": "f8",
          "bdata": "j8L1KFyPPUAzMzMzM3M9QA=="
         },
         "marker": {
          "color": "#2ED9FF"
         },
         "mode": "markers",
         "name": "172",
         "showlegend": true,
         "subplot": "map",
         "type": "scattermap"
        },
        {
         "customdata": [
          [
           38.22,
           26.96,
           "00:40:15.1",
           "2003/04/10"
          ],
          [
           36.75,
           27.75,
           "13:11:36.0",
           "2004/08/03"
          ],
          [
           36.43,
           26.8,
           "01:05:12.9",
           "2004/10/07"
          ],
          [
           38.2,
           26.5,
           "09:46:53.9",
           "2005/10/17"
          ],
          [
           38.15,
           26.75,
           "21:40:04.1",
           "2005/10/20"
          ]
         ],
         "hovertemplate": "<b>%{hovertext}</b><br><br>Cluster=255<br>Lat=%{customdata[0]}<br>Lon=%{customdata[1]}<br>Time=%{customdata[2]}<br>Date=%{customdata[3]}<extra></extra>",
         "hovertext": {
          "dtype": "f8",
          "bdata": "AAAAAADgb0AAAAAAAOBvQAAAAAAA4G9AAAAAAADgb0AAAAAAAOBvQA=="
         },
         "lat": {
          "dtype": "f8",
          "bdata": "XI/C9SgcQ0AAAAAAAGBCQNejcD0KN0JAmpmZmZkZQ0AzMzMzMxNDQA=="
         },
         "legendgroup": "255",
         "lon": {
          "dtype": "f8",
          "bdata": "9ihcj8L1OkAAAAAAAMA7QM3MzMzMzDpAAAAAAACAOkAAAAAAAMA6QA=="
         },
         "marker": {
          "color": "#B10DA1"
         },
         "mode": "markers",
         "name": "255",
         "showlegend": true,
         "subplot": "map",
         "type": "scattermap"
        },
        {
         "customdata": [
          [
           37.03,
           3.93,
           "13:57:20.6",
           "2003/05/22"
          ],
          [
           36.82,
           3.36,
           "02:14:59.8",
           "2003/05/29"
          ],
          [
           36.62,
           5.33,
           "19:44:25.2",
           "2006/03/20"
          ]
         ],
         "hovertemplate": "<b>%{hovertext}</b><br><br>Cluster=228<br>Lat=%{customdata[0]}<br>Lon=%{customdata[1]}<br>Time=%{customdata[2]}<br>Date=%{customdata[3]}<extra></extra>",
         "hovertext": {
          "dtype": "f8",
          "bdata": "AAAAAACAbEAAAAAAAIBsQAAAAAAAgGxA"
         },
         "lat": {
          "dtype": "f8",
          "bdata": "pHA9CteDQkApXI/C9WhCQI/C9ShcT0JA"
         },
         "legendgroup": "228",
         "lon": {
          "dtype": "f8",
          "bdata": "cT0K16NwD0DhehSuR+EKQFK4HoXrURVA"
         },
         "marker": {
          "color": "#C075A6"
         },
         "mode": "markers",
         "name": "228",
         "showlegend": true,
         "subplot": "map",
         "type": "scattermap"
        },
        {
         "customdata": [
          [
           -5.51,
           36.07,
           "03:10:23.1",
           "2003/06/14"
          ],
          [
           -5.99,
           39.22,
           "05:13:10.7",
           "2005/01/15"
          ]
         ],
         "hovertemplate": "<b>%{hovertext}</b><br><br>Cluster=177<br>Lat=%{customdata[0]}<br>Lon=%{customdata[1]}<br>Time=%{customdata[2]}<br>Date=%{customdata[3]}<extra></extra>",
         "hovertext": {
          "dtype": "f8",
          "bdata": "AAAAAAAgZkAAAAAAACBmQA=="
         },
         "lat": {
          "dtype": "f8",
          "bdata": "CtejcD0KFsD2KFyPwvUXwA=="
         },
         "legendgroup": "177",
         "lon": {
          "dtype": "f8",
          "bdata": "KVyPwvUIQkBcj8L1KJxDQA=="
         },
         "marker": {
          "color": "#FC1CBF"
         },
         "mode": "markers",
         "name": "177",
         "showlegend": true,
         "subplot": "map",
         "type": "scattermap"
        },
        {
         "customdata": [
          [
           38.29,
           38.96,
           "01:48:22.0",
           "2003/07/13"
          ],
          [
           39.93,
           40.81,
           "19:30:49.0",
           "2004/03/25"
          ],
          [
           39.85,
           40.87,
           "03:51:10.1",
           "2004/03/28"
          ],
          [
           39.77,
           43.98,
           "22:30:09.3",
           "2004/07/01"
          ],
          [
           38.38,
           39.26,
           "15:48:26.8",
           "2004/08/11"
          ],
          [
           39.44,
           40.98,
           "07:36:12.2",
           "2005/03/12"
          ],
          [
           39.43,
           40.92,
           "21:44:53.0",
           "2005/03/23"
          ],
          [
           39.22,
           41.08,
           "07:41:28.7",
           "2005/06/06"
          ],
          [
           38.26,
           38.81,
           "15:56:55.0",
           "2005/11/26"
          ],
          [
           38.39,
           39.04,
           "02:22:55.0",
           "2007/02/09"
          ],
          [
           39.28,
           41.12,
           "22:05:49.6",
           "2007/08/25"
          ]
         ],
         "hovertemplate": "<b>%{hovertext}</b><br><br>Cluster=259<br>Lat=%{customdata[0]}<br>Lon=%{customdata[1]}<br>Time=%{customdata[2]}<br>Date=%{customdata[3]}<extra></extra>",
         "hovertext": {
          "dtype": "f8",
          "bdata": "AAAAAAAwcEAAAAAAADBwQAAAAAAAMHBAAAAAAAAwcEAAAAAAADBwQAAAAAAAMHBAAAAAAAAwcEAAAAAAADBwQAAAAAAAMHBAAAAAAAAwcEAAAAAAADBwQA=="
         },
         "lat": {
          "dtype": "f8",
          "bdata": "hetRuB4lQ0DXo3A9CvdDQM3MzMzM7ENAw/UoXI/iQ0BxPQrXozBDQLgehetRuENA16NwPQq3Q0Bcj8L1KJxDQOF6FK5HIUNAUrgehesxQ0CkcD0K16NDQA=="
         },
         "legendgroup": "259",
         "lon": {
          "dtype": "f8",
          "bdata": "exSuR+F6Q0BI4XoUrmdEQI/C9Shcb0RAPQrXo3D9RUDhehSuR6FDQD0K16NwfURA9ihcj8J1REAK16NwPYpEQEjhehSuZ0NAhetRuB6FQ0CPwvUoXI9EQA=="
         },
         "marker": {
          "color": "#B00068"
         },
         "mode": "markers",
         "name": "259",
         "showlegend": true,
         "subplot": "map",
         "type": "scattermap"
        },
        {
         "customdata": [
          [
           -15.59,
           -13.35,
           "16:38:37.2",
           "2003/07/23"
          ],
          [
           -18.73,
           -12.56,
           "05:23:54.4",
           "2004/02/28"
          ]
         ],
         "hovertemplate": "<b>%{hovertext}</b><br><br>Cluster=34<br>Lat=%{customdata[0]}<br>Lon=%{customdata[1]}<br>Time=%{customdata[2]}<br>Date=%{customdata[3]}<extra></extra>",
         "hovertext": {
          "dtype": "f8",
          "bdata": "AAAAAAAAQUAAAAAAAABBQA=="
         },
         "lat": {
          "dtype": "f8",
          "bdata": "rkfhehQuL8B7FK5H4boywA=="
         },
         "legendgroup": "34",
         "lon": {
          "dtype": "f8",
          "bdata": "MzMzMzOzKsAfhetRuB4pwA=="
         },
         "marker": {
          "color": "#FBE426"
         },
         "mode": "markers",
         "name": "34",
         "showlegend": true,
         "subplot": "map",
         "type": "scattermap"
        },
        {
         "customdata": [
          [
           -1.41,
           -15.05,
           "23:08:45.2",
           "2003/10/11"
          ],
          [
           -0.73,
           -16.13,
           "20:24:44.7",
           "2004/03/03"
          ],
          [
           -1.61,
           -15.29,
           "23:23:54.4",
           "2004/05/12"
          ],
          [
           -1.63,
           -15.52,
           "21:01:09.0",
           "2005/01/29"
          ],
          [
           -1.07,
           -13.42,
           "13:54:36.1",
           "2005/06/24"
          ],
          [
           -1.48,
           -15.1,
           "13:24:02.0",
           "2006/02/17"
          ],
          [
           -1.31,
           -15.92,
           "03:14:40.7",
           "2006/03/30"
          ]
         ],
         "hovertemplate": "<b>%{hovertext}</b><br><br>Cluster=158<br>Lat=%{customdata[0]}<br>Lon=%{customdata[1]}<br>Time=%{customdata[2]}<br>Date=%{customdata[3]}<extra></extra>",
         "hovertext": {
          "dtype": "f8",
          "bdata": "AAAAAADAY0AAAAAAAMBjQAAAAAAAwGNAAAAAAADAY0AAAAAAAMBjQAAAAAAAwGNAAAAAAADAY0A="
         },
         "lat": {
          "dtype": "f8",
          "bdata": "j8L1KFyP9r9cj8L1KFznv8P1KFyPwvm/FK5H4XoU+r8fhetRuB7xv65H4XoUrve/9ihcj8L19L8="
         },
         "legendgroup": "158",
         "lon": {
          "dtype": "f8",
          "bdata": "mpmZmZkZLsDhehSuRyEwwBSuR+F6lC7ACtejcD0KL8DXo3A9CtcqwDMzMzMzMy7A16NwPQrXL8A="
         },
         "marker": {
          "color": "#FA0087"
         },
         "mode": "markers",
         "name": "158",
         "showlegend": true,
         "subplot": "map",
         "type": "scattermap"
        },
        {
         "customdata": [
          [
           38.26,
           24.04,
           "03:06:03.7",
           "2004/09/26"
          ],
          [
           39.68,
           25.56,
           "03:06:19.9",
           "2005/08/24"
          ]
         ],
         "hovertemplate": "<b>%{hovertext}</b><br><br>Cluster=292<br>Lat=%{customdata[0]}<br>Lon=%{customdata[1]}<br>Time=%{customdata[2]}<br>Date=%{customdata[3]}<extra></extra>",
         "hovertext": {
          "dtype": "f8",
          "bdata": "AAAAAABAckAAAAAAAEByQA=="
         },
         "lat": {
          "dtype": "f8",
          "bdata": "4XoUrkchQ0DXo3A9CtdDQA=="
         },
         "legendgroup": "292",
         "lon": {
          "dtype": "f8",
          "bdata": "CtejcD0KOECPwvUoXI85QA=="
         },
         "marker": {
          "color": "#AA0DFE"
         },
         "mode": "markers",
         "name": "292",
         "showlegend": true,
         "subplot": "map",
         "type": "scattermap"
        },
        {
         "customdata": [
          [
           33.3,
           47.98,
           "21:37:24.2",
           "2004/11/21"
          ],
          [
           33.3,
           47.98,
           "04:01:30.4",
           "2004/11/22"
          ],
          [
           33.43,
           47.94,
           "16:12:06.4",
           "2004/11/27"
          ],
          [
           33.39,
           45.87,
           "11:39:20.9",
           "2005/01/25"
          ],
          [
           33.71,
           48.69,
           "07:21:10.5",
           "2005/05/03"
          ],
          [
           37.3,
           47.8,
           "18:57:04.0",
           "2005/09/26"
          ],
          [
           31.69,
           50.49,
           "23:32:23.2",
           "2005/10/20"
          ],
          [
           32.1,
           49.2,
           "23:15:50.0",
           "2005/12/26"
          ],
          [
           33.56,
           48.75,
           "19:36:17.3",
           "2006/03/30"
          ],
          [
           33.72,
           48.67,
           "11:54:02.3",
           "2006/03/31"
          ],
          [
           35.67,
           46.02,
           "17:03:08.0",
           "2006/06/06"
          ],
          [
           37.63,
           48.92,
           "20:06:41.3",
           "2006/11/05"
          ],
          [
           38.75,
           48.6,
           "06:51:14.3",
           "2007/07/11"
          ],
          [
           38.72,
           45.79,
           "20:00:50.8",
           "2008/09/02"
          ]
         ],
         "hovertemplate": "<b>%{hovertext}</b><br><br>Cluster=263<br>Lat=%{customdata[0]}<br>Lon=%{customdata[1]}<br>Time=%{customdata[2]}<br>Date=%{customdata[3]}<extra></extra>",
         "hovertext": {
          "dtype": "f8",
          "bdata": "AAAAAABwcEAAAAAAAHBwQAAAAAAAcHBAAAAAAABwcEAAAAAAAHBwQAAAAAAAcHBAAAAAAABwcEAAAAAAAHBwQAAAAAAAcHBAAAAAAABwcEAAAAAAAHBwQAAAAAAAcHBAAAAAAABwcEAAAAAAAHBwQA=="
         },
         "lat": {
          "dtype": "f8",
          "bdata": "ZmZmZmamQEBmZmZmZqZAQNejcD0Kt0BAUrgeheuxQEB7FK5H4dpAQGZmZmZmpkJAcT0K16OwP0DNzMzMzAxAQEjhehSux0BAXI/C9SjcQED2KFyPwtVBQHE9Ctej0EJAAAAAAABgQ0Bcj8L1KFxDQA=="
         },
         "legendgroup": "263",
         "lon": {
          "dtype": "f8",
          "bdata": "PQrXo3D9R0A9CtejcP1HQLgehetR+EdAj8L1KFzvRkC4HoXrUVhIQGZmZmZm5kdAH4XrUbg+SUCamZmZmZlIQAAAAAAAYEhA9ihcj8JVSEDD9ShcjwJHQPYoXI/CdUhAzczMzMxMSECF61G4HuVGQA=="
         },
         "marker": {
          "color": "#3283FE"
         },
         "mode": "markers",
         "name": "263",
         "showlegend": true,
         "subplot": "map",
         "type": "scattermap"
        },
        {
         "customdata": [
          [
           37.62,
           43.7,
           "16:44:16.1",
           "2005/01/25"
          ],
          [
           39.35,
           40.89,
           "01:55:55.6",
           "2005/03/14"
          ],
          [
           38.32,
           39.27,
           "11:05:29.2",
           "2007/02/21"
          ]
         ],
         "hovertemplate": "<b>%{hovertext}</b><br><br>Cluster=257<br>Lat=%{customdata[0]}<br>Lon=%{customdata[1]}<br>Time=%{customdata[2]}<br>Date=%{customdata[3]}<extra></extra>",
         "hovertext": {
          "dtype": "f8",
          "bdata": "AAAAAAAQcEAAAAAAABBwQAAAAAAAEHBA"
         },
         "lat": {
          "dtype": "f8",
          "bdata": "j8L1KFzPQkDNzMzMzKxDQClcj8L1KENA"
         },
         "legendgroup": "257",
         "lon": {
          "dtype": "f8",
          "bdata": "mpmZmZnZRUBSuB6F63FEQMP1KFyPokNA"
         },
         "marker": {
          "color": "#85660D"
         },
         "mode": "markers",
         "name": "257",
         "showlegend": true,
         "subplot": "map",
         "type": "scattermap"
        },
        {
         "customdata": [
          [
           -38.56,
           47.65,
           "02:24:49.8",
           "2005/07/23"
          ],
          [
           -37.94,
           49.28,
           "04:36:42.7",
           "2009/06/03"
          ],
          [
           -37.99,
           49.07,
           "23:00:02.5",
           "2010/09/04"
          ],
          [
           -39.29,
           46.28,
           "20:40:28.5",
           "2010/12/22"
          ],
          [
           -39.96,
           46.07,
           "02:57:26.5",
           "2012/09/12"
          ]
         ],
         "hovertemplate": "<b>%{hovertext}</b><br><br>Cluster=12<br>Lat=%{customdata[0]}<br>Lon=%{customdata[1]}<br>Time=%{customdata[2]}<br>Date=%{customdata[3]}<extra></extra>",
         "hovertext": {
          "dtype": "f8",
          "bdata": "AAAAAAAAKEAAAAAAAAAoQAAAAAAAAChAAAAAAAAAKEAAAAAAAAAoQA=="
         },
         "lat": {
          "dtype": "f8",
          "bdata": "SOF6FK5HQ8C4HoXrUfhCwB+F61G4/kLAhetRuB6lQ8B7FK5H4fpDwA=="
         },
         "legendgroup": "12",
         "lon": {
          "dtype": "f8",
          "bdata": "MzMzMzPTR0CkcD0K16NIQClcj8L1iEhApHA9CtcjR0ApXI/C9QhHQA=="
         },
         "marker": {
          "color": "#782AB6"
         },
         "mode": "markers",
         "name": "12",
         "showlegend": true,
         "subplot": "map",
         "type": "scattermap"
        },
        {
         "customdata": [
          [
           12.71,
           40.53,
           "21:23:37.6",
           "2005/09/20"
          ],
          [
           12.53,
           40.47,
           "14:57:26.5",
           "2005/09/21"
          ],
          [
           12.7,
           40.46,
           "03:12:34.1",
           "2005/09/22"
          ],
          [
           12.7,
           40.55,
           "13:58:44.4",
           "2005/09/22"
          ],
          [
           12.42,
           40.47,
           "19:51:52.6",
           "2005/09/22"
          ],
          [
           12.67,
           40.52,
           "05:15:33.9",
           "2005/09/24"
          ],
          [
           12.57,
           40.57,
           "06:58:28.0",
           "2005/09/24"
          ],
          [
           12.62,
           40.54,
           "07:36:08.5",
           "2005/09/24"
          ],
          [
           12.54,
           40.39,
           "08:20:49.0",
           "2005/09/24"
          ],
          [
           12.47,
           40.63,
           "19:24:02.7",
           "2005/09/24"
          ],
          [
           12.45,
           40.6,
           "00:37:28.6",
           "2005/09/25"
          ],
          [
           12.26,
           40.51,
           "01:10:58.7",
           "2005/09/25"
          ],
          [
           12.44,
           40.49,
           "08:18:42.5",
           "2005/09/25"
          ],
          [
           12.37,
           40.51,
           "10:02:12.7",
           "2005/09/25"
          ],
          [
           12.42,
           40.58,
           "11:20:03.8",
           "2005/09/25"
          ],
          [
           12.32,
           40.46,
           "13:28:33.3",
           "2005/09/26"
          ],
          [
           12.47,
           40.54,
           "20:30:01.4",
           "2005/09/26"
          ],
          [
           12.31,
           40.58,
           "21:25:01.7",
           "2005/09/26"
          ],
          [
           12.44,
           40.63,
           "16:31:35.7",
           "2005/09/28"
          ],
          [
           12.02,
           40.54,
           "23:24:41.9",
           "2005/10/02"
          ]
         ],
         "hovertemplate": "<b>%{hovertext}</b><br><br>Cluster=211<br>Lat=%{customdata[0]}<br>Lon=%{customdata[1]}<br>Time=%{customdata[2]}<br>Date=%{customdata[3]}<extra></extra>",
         "hovertext": {
          "dtype": "f8",
          "bdata": "AAAAAABgakAAAAAAAGBqQAAAAAAAYGpAAAAAAABgakAAAAAAAGBqQAAAAAAAYGpAAAAAAABgakAAAAAAAGBqQAAAAAAAYGpAAAAAAABgakAAAAAAAGBqQAAAAAAAYGpAAAAAAABgakAAAAAAAGBqQAAAAAAAYGpAAAAAAABgakAAAAAAAGBqQAAAAAAAYGpAAAAAAABgakAAAAAAAGBqQA=="
         },
         "lat": {
          "dtype": "f8",
          "bdata": "7FG4HoVrKUCPwvUoXA8pQGZmZmZmZilAZmZmZmZmKUDXo3A9CtcoQNejcD0KVylApHA9CtcjKUA9CtejcD0pQBSuR+F6FClAcT0K16PwKEBmZmZmZuYoQIXrUbgehShA4XoUrkfhKEA9CtejcL0oQNejcD0K1yhApHA9CtejKEBxPQrXo/AoQB+F61G4nihA4XoUrkfhKEAK16NwPQooQA=="
         },
         "legendgroup": "211",
         "lon": {
          "dtype": "f8",
          "bdata": "pHA9CtdDREBcj8L1KDxEQHsUrkfhOkRAZmZmZmZGREBcj8L1KDxEQMP1KFyPQkRAKVyPwvVIRECF61G4HkVEQFK4HoXrMURAcT0K16NQREDNzMzMzExEQOF6FK5HQURAH4XrUbg+REDhehSuR0FEQArXo3A9SkRAexSuR+E6RECF61G4HkVEQArXo3A9SkRAcT0K16NQRECF61G4HkVEQA=="
         },
         "marker": {
          "color": "#565656"
         },
         "mode": "markers",
         "name": "211",
         "showlegend": true,
         "subplot": "map",
         "type": "scattermap"
        },
        {
         "customdata": [
          [
           -6.08,
           29.64,
           "05:53:09.0",
           "2005/12/06"
          ],
          [
           -6.28,
           29.51,
           "03:16:34.0",
           "2005/12/08"
          ],
          [
           -6.18,
           29.71,
           "23:30:23.9",
           "2005/12/09"
          ],
          [
           -6.1,
           29.74,
           "20:59:38.3",
           "2006/01/09"
          ]
         ],
         "hovertemplate": "<b>%{hovertext}</b><br><br>Cluster=167<br>Lat=%{customdata[0]}<br>Lon=%{customdata[1]}<br>Time=%{customdata[2]}<br>Date=%{customdata[3]}<extra></extra>",
         "hovertext": {
          "dtype": "f8",
          "bdata": "AAAAAADgZEAAAAAAAOBkQAAAAAAA4GRAAAAAAADgZEA="
         },
         "lat": {
          "dtype": "f8",
          "bdata": "UrgehetRGMAfhetRuB4ZwLgehetRuBjAZmZmZmZmGMA="
         },
         "legendgroup": "167",
         "lon": {
          "dtype": "f8",
          "bdata": "pHA9CtejPUDD9Shcj4I9QPYoXI/CtT1APQrXo3C9PUA="
         },
         "marker": {
          "color": "#1C8356"
         },
         "mode": "markers",
         "name": "167",
         "showlegend": true,
         "subplot": "map",
         "type": "scattermap"
        },
        {
         "customdata": [
          [
           -6.55,
           29.51,
           "11:51:22.8",
           "2005/12/08"
          ],
          [
           -8.35,
           30.32,
           "05:36:36.7",
           "2006/07/13"
          ]
         ],
         "hovertemplate": "<b>%{hovertext}</b><br><br>Cluster=168<br>Lat=%{customdata[0]}<br>Lon=%{customdata[1]}<br>Time=%{customdata[2]}<br>Date=%{customdata[3]}<extra></extra>",
         "hovertext": {
          "dtype": "f8",
          "bdata": "AAAAAAAAZUAAAAAAAABlQA=="
         },
         "lat": {
          "dtype": "f8",
          "bdata": "MzMzMzMzGsAzMzMzM7MgwA=="
         },
         "legendgroup": "168",
         "lon": {
          "dtype": "f8",
          "bdata": "w/UoXI+CPUBSuB6F61E+QA=="
         },
         "marker": {
          "color": "#16FF32"
         },
         "mode": "markers",
         "name": "168",
         "showlegend": true,
         "subplot": "map",
         "type": "scattermap"
        },
        {
         "customdata": [
          [
           39.39,
           40.95,
           "00:09:50.2",
           "2005/12/10"
          ],
          [
           39.27,
           40.96,
           "19:39:39.0",
           "2006/07/02"
          ],
          [
           39.59,
           42.86,
           "07:38:57.0",
           "2007/01/21"
          ]
         ],
         "hovertemplate": "<b>%{hovertext}</b><br><br>Cluster=258<br>Lat=%{customdata[0]}<br>Lon=%{customdata[1]}<br>Time=%{customdata[2]}<br>Date=%{customdata[3]}<extra></extra>",
         "hovertext": {
          "dtype": "f8",
          "bdata": "AAAAAAAgcEAAAAAAACBwQAAAAAAAIHBA"
         },
         "lat": {
          "dtype": "f8",
          "bdata": "UrgeheuxQ0DD9Shcj6JDQOxRuB6Fy0NA"
         },
         "legendgroup": "258",
         "lon": {
          "dtype": "f8",
          "bdata": "mpmZmZl5REB7FK5H4XpEQK5H4XoUbkVA"
         },
         "marker": {
          "color": "#F7E1A0"
         },
         "mode": "markers",
         "name": "258",
         "showlegend": true,
         "subplot": "map",
         "type": "scattermap"
        },
        {
         "customdata": [
          [
           37.05,
           -14.12,
           "16:40:44.3",
           "2006/01/09"
          ],
          [
           37.06,
           -14.13,
           "01:09:34.2",
           "2006/01/10"
          ]
         ],
         "hovertemplate": "<b>%{hovertext}</b><br><br>Cluster=125<br>Lat=%{customdata[0]}<br>Lon=%{customdata[1]}<br>Time=%{customdata[2]}<br>Date=%{customdata[3]}<extra></extra>",
         "hovertext": {
          "dtype": "f8",
          "bdata": "AAAAAABAX0AAAAAAAEBfQA=="
         },
         "lat": {
          "dtype": "f8",
          "bdata": "ZmZmZmaGQkBI4XoUrodCQA=="
         },
         "legendgroup": "125",
         "lon": {
          "dtype": "f8",
          "bdata": "PQrXo3A9LMDD9Shcj0IswA=="
         },
         "marker": {
          "color": "#E2E2E2"
         },
         "mode": "markers",
         "name": "125",
         "showlegend": true,
         "subplot": "map",
         "type": "scattermap"
        },
        {
         "customdata": [
          [
           13.21,
           50.86,
           "08:25:35.7",
           "2006/01/27"
          ],
          [
           12.82,
           49.1,
           "03:08:49.5",
           "2006/04/30"
          ]
         ],
         "hovertemplate": "<b>%{hovertext}</b><br><br>Cluster=132<br>Lat=%{customdata[0]}<br>Lon=%{customdata[1]}<br>Time=%{customdata[2]}<br>Date=%{customdata[3]}<extra></extra>",
         "hovertext": {
          "dtype": "f8",
          "bdata": "AAAAAACAYEAAAAAAAIBgQA=="
         },
         "lat": {
          "dtype": "f8",
          "bdata": "7FG4HoVrKkCkcD0K16MpQA=="
         },
         "legendgroup": "132",
         "lon": {
          "dtype": "f8",
          "bdata": "rkfhehRuSUDNzMzMzIxIQA=="
         },
         "marker": {
          "color": "#1CBE4F"
         },
         "mode": "markers",
         "name": "132",
         "showlegend": true,
         "subplot": "map",
         "type": "scattermap"
        },
        {
         "customdata": [
          [
           -21.37,
           33.53,
           "01:23:42.2",
           "2006/02/23"
          ],
          [
           -21.14,
           33.72,
           "14:19:48.7",
           "2006/03/15"
          ]
         ],
         "hovertemplate": "<b>%{hovertext}</b><br><br>Cluster=41<br>Lat=%{customdata[0]}<br>Lon=%{customdata[1]}<br>Time=%{customdata[2]}<br>Date=%{customdata[3]}<extra></extra>",
         "hovertext": {
          "dtype": "f8",
          "bdata": "AAAAAACAREAAAAAAAIBEQA=="
         },
         "lat": {
          "dtype": "f8",
          "bdata": "H4XrUbheNcCkcD0K1yM1wA=="
         },
         "legendgroup": "41",
         "lon": {
          "dtype": "f8",
          "bdata": "pHA9CtfDQEBcj8L1KNxAQA=="
         },
         "marker": {
          "color": "#C4451C"
         },
         "mode": "markers",
         "name": "41",
         "showlegend": true,
         "subplot": "map",
         "type": "scattermap"
        },
        {
         "customdata": [
          [
           -21.31,
           33.54,
           "21:32:05.6",
           "2006/02/23"
          ],
          [
           -21.72,
           33.56,
           "16:23:42.9",
           "2006/03/19"
          ],
          [
           -21.34,
           33.26,
           "11:35:13.1",
           "2006/03/22"
          ],
          [
           -21.24,
           33.46,
           "06:14:41.5",
           "2006/03/23"
          ],
          [
           -21.29,
           33.45,
           "18:12:18.9",
           "2006/05/12"
          ],
          [
           -21.35,
           33.42,
           "06:17:25.3",
           "2006/06/08"
          ],
          [
           -21.11,
           33.26,
           "01:07:28.1",
           "2006/06/30"
          ],
          [
           -21.1,
           33.31,
           "18:48:14.9",
           "2006/07/11"
          ],
          [
           -21.27,
           33.4,
           "00:53:34.1",
           "2006/08/23"
          ],
          [
           -21.13,
           33.11,
           "20:16:06.2",
           "2006/11/20"
          ],
          [
           -21.32,
           33.09,
           "11:12:12.7",
           "2008/02/03"
          ]
         ],
         "hovertemplate": "<b>%{hovertext}</b><br><br>Cluster=39<br>Lat=%{customdata[0]}<br>Lon=%{customdata[1]}<br>Time=%{customdata[2]}<br>Date=%{customdata[3]}<extra></extra>",
         "hovertext": {
          "dtype": "f8",
          "bdata": "AAAAAACAQ0AAAAAAAIBDQAAAAAAAgENAAAAAAACAQ0AAAAAAAIBDQAAAAAAAgENAAAAAAACAQ0AAAAAAAIBDQAAAAAAAgENAAAAAAACAQ0AAAAAAAIBDQA=="
         },
         "lat": {
          "dtype": "f8",
          "bdata": "j8L1KFxPNcC4HoXrUbg1wNejcD0KVzXAPQrXo3A9NcAK16NwPUo1wJqZmZmZWTXAXI/C9SgcNcCamZmZmRk1wIXrUbgeRTXA4XoUrkchNcBSuB6F61E1wA=="
         },
         "legendgroup": "39",
         "lon": {
          "dtype": "f8",
          "bdata": "hetRuB7FQEBI4XoUrsdAQOF6FK5HoUBAexSuR+G6QECamZmZmblAQPYoXI/CtUBA4XoUrkehQEBI4XoUrqdAQDMzMzMzs0BArkfhehSOQEDsUbgehYtAQA=="
         },
         "marker": {
          "color": "#DEA0FD"
         },
         "mode": "markers",
         "name": "39",
         "showlegend": true,
         "subplot": "map",
         "type": "scattermap"
        },
        {
         "customdata": [
          [
           -21.19,
           33.53,
           "11:52:54.1",
           "2006/03/15"
          ],
          [
           -21.41,
           33.65,
           "18:41:39.5",
           "2006/04/14"
          ],
          [
           -21.17,
           33.26,
           "02:59:10.4",
           "2007/11/29"
          ]
         ],
         "hovertemplate": "<b>%{hovertext}</b><br><br>Cluster=42<br>Lat=%{customdata[0]}<br>Lon=%{customdata[1]}<br>Time=%{customdata[2]}<br>Date=%{customdata[3]}<extra></extra>",
         "hovertext": {
          "dtype": "f8",
          "bdata": "AAAAAAAARUAAAAAAAABFQAAAAAAAAEVA"
         },
         "lat": {
          "dtype": "f8",
          "bdata": "cT0K16MwNcApXI/C9Wg1wOxRuB6FKzXA"
         },
         "legendgroup": "42",
         "lon": {
          "dtype": "f8",
          "bdata": "pHA9CtfDQEAzMzMzM9NAQOF6FK5HoUBA"
         },
         "marker": {
          "color": "#FE00FA"
         },
         "mode": "markers",
         "name": "42",
         "showlegend": true,
         "subplot": "map",
         "type": "scattermap"
        },
        {
         "customdata": [
          [
           33.5,
           48.78,
           "01:17:01.0",
           "2006/03/31"
          ],
          [
           32.31,
           47.35,
           "21:52:38.1",
           "2008/08/27"
          ]
         ],
         "hovertemplate": "<b>%{hovertext}</b><br><br>Cluster=88<br>Lat=%{customdata[0]}<br>Lon=%{customdata[1]}<br>Time=%{customdata[2]}<br>Date=%{customdata[3]}<extra></extra>",
         "hovertext": {
          "dtype": "f8",
          "bdata": "AAAAAAAAVkAAAAAAAABWQA=="
         },
         "lat": {
          "dtype": "f8",
          "bdata": "AAAAAADAQEBI4XoUridAQA=="
         },
         "legendgroup": "88",
         "lon": {
          "dtype": "f8",
          "bdata": "pHA9CtdjSEDNzMzMzKxHQA=="
         },
         "marker": {
          "color": "#325A9B"
         },
         "mode": "markers",
         "name": "88",
         "showlegend": true,
         "subplot": "map",
         "type": "scattermap"
        },
        {
         "customdata": [
          [
           34.89,
           3.81,
           "06:44:31.8",
           "2006/04/02"
          ],
          [
           34.84,
           3.8,
           "10:59:45.4",
           "2006/08/07"
          ],
          [
           34.09,
           7.04,
           "15:58:22.3",
           "2007/07/09"
          ]
         ],
         "hovertemplate": "<b>%{hovertext}</b><br><br>Cluster=162<br>Lat=%{customdata[0]}<br>Lon=%{customdata[1]}<br>Time=%{customdata[2]}<br>Date=%{customdata[3]}<extra></extra>",
         "hovertext": {
          "dtype": "f8",
          "bdata": "AAAAAABAZEAAAAAAAEBkQAAAAAAAQGRA"
         },
         "lat": {
          "dtype": "f8",
          "bdata": "UrgehetxQUDsUbgehWtBQOxRuB6FC0FA"
         },
         "legendgroup": "162",
         "lon": {
          "dtype": "f8",
          "bdata": "exSuR+F6DkBmZmZmZmYOQClcj8L1KBxA"
         },
         "marker": {
          "color": "#FEAF16"
         },
         "mode": "markers",
         "name": "162",
         "showlegend": true,
         "subplot": "map",
         "type": "scattermap"
        },
        {
         "customdata": [
          [
           37.61,
           20.95,
           "16:52:01.2",
           "2006/04/12"
          ],
          [
           38.34,
           20.42,
           "13:57:58.2",
           "2007/03/25"
          ]
         ],
         "hovertemplate": "<b>%{hovertext}</b><br><br>Cluster=294<br>Lat=%{customdata[0]}<br>Lon=%{customdata[1]}<br>Time=%{customdata[2]}<br>Date=%{customdata[3]}<extra></extra>",
         "hovertext": {
          "dtype": "f8",
          "bdata": "AAAAAABgckAAAAAAAGByQA=="
         },
         "lat": {
          "dtype": "f8",
          "bdata": "rkfhehTOQkDsUbgehStDQA=="
         },
         "legendgroup": "294",
         "lon": {
          "dtype": "f8",
          "bdata": "MzMzMzPzNEDsUbgehWs0QA=="
         },
         "marker": {
          "color": "#F8A19F"
         },
         "mode": "markers",
         "name": "294",
         "showlegend": true,
         "subplot": "map",
         "type": "scattermap"
        },
        {
         "customdata": [
          [
           -34.21,
           -14.59,
           "17:43:14.4",
           "2006/05/25"
          ],
          [
           -35.13,
           -15.14,
           "15:20:47.0",
           "2006/09/04"
          ],
          [
           -34.26,
           -14.55,
           "20:41:35.6",
           "2008/09/05"
          ]
         ],
         "hovertemplate": "<b>%{hovertext}</b><br><br>Cluster=77<br>Lat=%{customdata[0]}<br>Lon=%{customdata[1]}<br>Time=%{customdata[2]}<br>Date=%{customdata[3]}<extra></extra>",
         "hovertext": {
          "dtype": "f8",
          "bdata": "AAAAAABAU0AAAAAAAEBTQAAAAAAAQFNA"
         },
         "lat": {
          "dtype": "f8",
          "bdata": "exSuR+EaQcBxPQrXo5BBwOF6FK5HIUHA"
         },
         "legendgroup": "77",
         "lon": {
          "dtype": "f8",
          "bdata": "rkfhehQuLcBI4XoUrkcuwJqZmZmZGS3A"
         },
         "marker": {
          "color": "#90AD1C"
         },
         "mode": "markers",
         "name": "77",
         "showlegend": true,
         "subplot": "map",
         "type": "scattermap"
        },
        {
         "customdata": [
          [
           37.93,
           28.67,
           "04:23:29.0",
           "2006/06/05"
          ],
          [
           38.13,
           28.82,
           "21:22:00.8",
           "2007/01/23"
          ]
         ],
         "hovertemplate": "<b>%{hovertext}</b><br><br>Cluster=291<br>Lat=%{customdata[0]}<br>Lon=%{customdata[1]}<br>Time=%{customdata[2]}<br>Date=%{customdata[3]}<extra></extra>",
         "hovertext": {
          "dtype": "f8",
          "bdata": "AAAAAAAwckAAAAAAADByQA=="
         },
         "lat": {
          "dtype": "f8",
          "bdata": "16NwPQr3QkBxPQrXoxBDQA=="
         },
         "legendgroup": "291",
         "lon": {
          "dtype": "f8",
          "bdata": "7FG4HoWrPEBSuB6F69E8QA=="
         },
         "marker": {
          "color": "#F6222E"
         },
         "mode": "markers",
         "name": "291",
         "showlegend": true,
         "subplot": "map",
         "type": "scattermap"
        },
        {
         "customdata": [
          [
           -17.72,
           41.83,
           "10:22:09.1",
           "2006/06/24"
          ],
          [
           -17.69,
           41.81,
           "04:51:56.9",
           "2006/06/25"
          ],
          [
           -17.71,
           41.81,
           "13:24:54.5",
           "2006/09/17"
          ]
         ],
         "hovertemplate": "<b>%{hovertext}</b><br><br>Cluster=166<br>Lat=%{customdata[0]}<br>Lon=%{customdata[1]}<br>Time=%{customdata[2]}<br>Date=%{customdata[3]}<extra></extra>",
         "hovertext": {
          "dtype": "f8",
          "bdata": "AAAAAADAZEAAAAAAAMBkQAAAAAAAwGRA"
         },
         "lat": {
          "dtype": "f8",
          "bdata": "uB6F61G4McBxPQrXo7AxwPYoXI/CtTHA"
         },
         "legendgroup": "166",
         "lon": {
          "dtype": "f8",
          "bdata": "CtejcD3qREBI4XoUrudEQEjhehSu50RA"
         },
         "marker": {
          "color": "#1CFFCE"
         },
         "mode": "markers",
         "name": "166",
         "showlegend": true,
         "subplot": "map",
         "type": "scattermap"
        },
        {
         "customdata": [
          [
           -12.2,
           -14.91,
           "09:10:16.7",
           "2006/08/14"
          ],
          [
           -11.49,
           -14.25,
           "00:35:20.9",
           "2007/04/10"
          ]
         ],
         "hovertemplate": "<b>%{hovertext}</b><br><br>Cluster=124<br>Lat=%{customdata[0]}<br>Lon=%{customdata[1]}<br>Time=%{customdata[2]}<br>Date=%{customdata[3]}<extra></extra>",
         "hovertext": {
          "dtype": "f8",
          "bdata": "AAAAAAAAX0AAAAAAAABfQA=="
         },
         "lat": {
          "dtype": "f8",
          "bdata": "ZmZmZmZmKMB7FK5H4fomwA=="
         },
         "legendgroup": "124",
         "lon": {
          "dtype": "f8",
          "bdata": "UrgehevRLcAAAAAAAIAswA=="
         },
         "marker": {
          "color": "#2ED9FF"
         },
         "mode": "markers",
         "name": "124",
         "showlegend": true,
         "subplot": "map",
         "type": "scattermap"
        },
        {
         "customdata": [
          [
           -17.69,
           41.83,
           "07:30:11.1",
           "2006/09/17"
          ],
          [
           -17.74,
           41.81,
           "22:56:21.7",
           "2006/09/24"
          ]
         ],
         "hovertemplate": "<b>%{hovertext}</b><br><br>Cluster=78<br>Lat=%{customdata[0]}<br>Lon=%{customdata[1]}<br>Time=%{customdata[2]}<br>Date=%{customdata[3]}<extra></extra>",
         "hovertext": {
          "dtype": "f8",
          "bdata": "AAAAAACAU0AAAAAAAIBTQA=="
         },
         "lat": {
          "dtype": "f8",
          "bdata": "cT0K16OwMcA9CtejcL0xwA=="
         },
         "legendgroup": "78",
         "lon": {
          "dtype": "f8",
          "bdata": "CtejcD3qREBI4XoUrudEQA=="
         },
         "marker": {
          "color": "#B10DA1"
         },
         "mode": "markers",
         "name": "78",
         "showlegend": true,
         "subplot": "map",
         "type": "scattermap"
        },
        {
         "customdata": [
          [
           12.04,
           43.55,
           "09:07:46.3",
           "2006/12/21"
          ],
          [
           9.97,
           42.88,
           "08:48:59.4",
           "2007/02/26"
          ],
          [
           11.68,
           42.99,
           "00:06:59.2",
           "2008/04/29"
          ],
          [
           11.72,
           42.81,
           "01:07:31.0",
           "2008/04/29"
          ],
          [
           12.34,
           40.65,
           "10:57:15.7",
           "2008/10/17"
          ]
         ],
         "hovertemplate": "<b>%{hovertext}</b><br><br>Cluster=216<br>Lat=%{customdata[0]}<br>Lon=%{customdata[1]}<br>Time=%{customdata[2]}<br>Date=%{customdata[3]}<extra></extra>",
         "hovertext": {
          "dtype": "f8",
          "bdata": "AAAAAAAAa0AAAAAAAABrQAAAAAAAAGtAAAAAAAAAa0AAAAAAAABrQA=="
         },
         "lat": {
          "dtype": "f8",
          "bdata": "FK5H4XoUKEBxPQrXo/AjQFyPwvUoXCdAcT0K16NwJ0CuR+F6FK4oQA=="
         },
         "legendgroup": "216",
         "lon": {
          "dtype": "f8",
          "bdata": "ZmZmZmbGRUBxPQrXo3BFQB+F61G4fkVASOF6FK5nRUAzMzMzM1NEQA=="
         },
         "marker": {
          "color": "#C075A6"
         },
         "mode": "markers",
         "name": "216",
         "showlegend": true,
         "subplot": "map",
         "type": "scattermap"
        },
        {
         "customdata": [
          [
           35.8,
           -10.33,
           "10:35:21.2",
           "2007/02/12"
          ],
          [
           36.97,
           -3.54,
           "22:08:12.8",
           "2010/04/11"
          ],
          [
           35.65,
           -3.68,
           "04:22:02.7",
           "2016/01/25"
          ]
         ],
         "hovertemplate": "<b>%{hovertext}</b><br><br>Cluster=18<br>Lat=%{customdata[0]}<br>Lon=%{customdata[1]}<br>Time=%{customdata[2]}<br>Date=%{customdata[3]}<extra></extra>",
         "hovertext": {
          "dtype": "f8",
          "bdata": "AAAAAAAAMkAAAAAAAAAyQAAAAAAAADJA"
         },
         "lat": {
          "dtype": "f8",
          "bdata": "ZmZmZmbmQUBcj8L1KHxCQDMzMzMz00FA"
         },
         "legendgroup": "18",
         "lon": {
          "dtype": "f8",
          "bdata": "KVyPwvWoJMBSuB6F61EMwHE9CtejcA3A"
         },
         "marker": {
          "color": "#FC1CBF"
         },
         "mode": "markers",
         "name": "18",
         "showlegend": true,
         "subplot": "map",
         "type": "scattermap"
        },
        {
         "customdata": [
          [
           1.76,
           30.75,
           "02:33:44.4",
           "2007/02/19"
          ],
          [
           1.72,
           30.83,
           "18:49:53.4",
           "2007/06/15"
          ],
          [
           -2.3,
           28.9,
           "07:34:12.2",
           "2008/02/03"
          ]
         ],
         "hovertemplate": "<b>%{hovertext}</b><br><br>Cluster=140<br>Lat=%{customdata[0]}<br>Lon=%{customdata[1]}<br>Time=%{customdata[2]}<br>Date=%{customdata[3]}<extra></extra>",
         "hovertext": {
          "dtype": "f8",
          "bdata": "AAAAAACAYUAAAAAAAIBhQAAAAAAAgGFA"
         },
         "lat": {
          "dtype": "f8",
          "bdata": "KVyPwvUo/D+F61G4HoX7P2ZmZmZmZgLA"
         },
         "legendgroup": "140",
         "lon": {
          "dtype": "f8",
          "bdata": "AAAAAADAPkAUrkfhetQ+QGZmZmZm5jxA"
         },
         "marker": {
          "color": "#B00068"
         },
         "mode": "markers",
         "name": "140",
         "showlegend": true,
         "subplot": "map",
         "type": "scattermap"
        },
        {
         "customdata": [
          [
           -1.41,
           -14.91,
           "12:06:52.2",
           "2007/05/04"
          ],
          [
           -1.23,
           -13.93,
           "18:49:42.4",
           "2008/11/22"
          ]
         ],
         "hovertemplate": "<b>%{hovertext}</b><br><br>Cluster=4<br>Lat=%{customdata[0]}<br>Lon=%{customdata[1]}<br>Time=%{customdata[2]}<br>Date=%{customdata[3]}<extra></extra>",
         "hovertext": {
          "dtype": "f8",
          "bdata": "AAAAAAAAEEAAAAAAAAAQQA=="
         },
         "lat": {
          "dtype": "f8",
          "bdata": "j8L1KFyP9r+uR+F6FK7zvw=="
         },
         "legendgroup": "4",
         "lon": {
          "dtype": "f8",
          "bdata": "UrgehevRLcBcj8L1KNwrwA=="
         },
         "marker": {
          "color": "#FBE426"
         },
         "mode": "markers",
         "name": "4",
         "showlegend": true,
         "subplot": "map",
         "type": "scattermap"
        },
        {
         "customdata": [
          [
           -12.47,
           41.83,
           "23:51:10.3",
           "2007/06/18"
          ],
          [
           -11.81,
           42.08,
           "14:01:47.7",
           "2007/09/16"
          ],
          [
           -10.53,
           41.56,
           "02:49:12.0",
           "2008/01/21"
          ],
          [
           -10.57,
           41.57,
           "15:28:35.4",
           "2008/01/21"
          ]
         ],
         "hovertemplate": "<b>%{hovertext}</b><br><br>Cluster=186<br>Lat=%{customdata[0]}<br>Lon=%{customdata[1]}<br>Time=%{customdata[2]}<br>Date=%{customdata[3]}<extra></extra>",
         "hovertext": {
          "dtype": "f8",
          "bdata": "AAAAAABAZ0AAAAAAAEBnQAAAAAAAQGdAAAAAAABAZ0A="
         },
         "lat": {
          "dtype": "f8",
          "bdata": "cT0K16PwKMAfhetRuJ4nwI/C9ShcDyXApHA9CtcjJcA="
         },
         "legendgroup": "186",
         "lon": {
          "dtype": "f8",
          "bdata": "CtejcD3qREAK16NwPQpFQEjhehSux0RAKVyPwvXIREA="
         },
         "marker": {
          "color": "#FA0087"
         },
         "mode": "markers",
         "name": "186",
         "showlegend": true,
         "subplot": "map",
         "type": "scattermap"
        },
        {
         "customdata": [
          [
           38.8,
           15.2,
           "23:55:32.0",
           "2007/07/04"
          ],
          [
           38.6,
           14.07,
           "21:26:32.0",
           "2009/09/07"
          ]
         ],
         "hovertemplate": "<b>%{hovertext}</b><br><br>Cluster=240<br>Lat=%{customdata[0]}<br>Lon=%{customdata[1]}<br>Time=%{customdata[2]}<br>Date=%{customdata[3]}<extra></extra>",
         "hovertext": {
          "dtype": "f8",
          "bdata": "AAAAAAAAbkAAAAAAAABuQA=="
         },
         "lat": {
          "dtype": "f8",
          "bdata": "ZmZmZmZmQ0DNzMzMzExDQA=="
         },
         "legendgroup": "240",
         "lon": {
          "dtype": "f8",
          "bdata": "ZmZmZmZmLkCkcD0K1yMsQA=="
         },
         "marker": {
          "color": "#AA0DFE"
         },
         "mode": "markers",
         "name": "240",
         "showlegend": true,
         "subplot": "map",
         "type": "scattermap"
        },
        {
         "customdata": [
          [
           -2.93,
           36.24,
           "11:24:21.4",
           "2007/07/15"
          ],
          [
           -2.88,
           36.16,
           "20:42:11.5",
           "2007/07/15"
          ],
          [
           -2.78,
           36.19,
           "18:27:51.4",
           "2007/07/17"
          ],
          [
           -2.77,
           36.09,
           "17:25:52.3",
           "2007/07/18"
          ],
          [
           -2.68,
           36.01,
           "18:54:37.2",
           "2007/07/26"
          ],
          [
           -2.83,
           36.21,
           "07:44:02.0",
           "2007/08/18"
          ],
          [
           -2.71,
           36.29,
           "02:56:48.0",
           "2007/08/20"
          ],
          [
           -2.64,
           36.11,
           "14:15:33.0",
           "2007/09/08"
          ],
          [
           -4.04,
           39.25,
           "12:56:13.0",
           "2007/12/23"
          ],
          [
           -2.78,
           36.2,
           "13:45:27.4",
           "2007/12/23"
          ],
          [
           -5.41,
           36.01,
           "07:35:35.4",
           "2008/03/06"
          ],
          [
           -3.95,
           34.84,
           "08:24:22.0",
           "2009/02/16"
          ],
          [
           -4.17,
           35.23,
           "23:57:43.3",
           "2010/04/08"
          ],
          [
           -0.2,
           34.49,
           "12:13:24.6",
           "2010/06/13"
          ]
         ],
         "hovertemplate": "<b>%{hovertext}</b><br><br>Cluster=164<br>Lat=%{customdata[0]}<br>Lon=%{customdata[1]}<br>Time=%{customdata[2]}<br>Date=%{customdata[3]}<extra></extra>",
         "hovertext": {
          "dtype": "f8",
          "bdata": "AAAAAACAZEAAAAAAAIBkQAAAAAAAgGRAAAAAAACAZEAAAAAAAIBkQAAAAAAAgGRAAAAAAACAZEAAAAAAAIBkQAAAAAAAgGRAAAAAAACAZEAAAAAAAIBkQAAAAAAAgGRAAAAAAACAZEAAAAAAAIBkQA=="
         },
         "lat": {
          "dtype": "f8",
          "bdata": "cT0K16NwB8AK16NwPQoHwD0K16NwPQbAKVyPwvUoBsBxPQrXo3AFwKRwPQrXowbArkfhehSuBcAfhetRuB4FwClcj8L1KBDAPQrXo3A9BsCkcD0K16MVwJqZmZmZmQ/ArkfhehSuEMCamZmZmZnJvw=="
         },
         "legendgroup": "164",
         "lon": {
          "dtype": "f8",
          "bdata": "H4XrUbgeQkAUrkfhehRCQLgehetRGEJA7FG4HoULQkDhehSuRwFCQHsUrkfhGkJAhetRuB4lQkCuR+F6FA5CQAAAAAAAoENAmpmZmZkZQkDhehSuRwFCQOxRuB6Fa0FAPQrXo3CdQUAfhetRuD5BQA=="
         },
         "marker": {
          "color": "#3283FE"
         },
         "mode": "markers",
         "name": "164",
         "showlegend": true,
         "subplot": "map",
         "type": "scattermap"
        },
        {
         "customdata": [
          [
           -30.99,
           -13.41,
           "22:23:04.5",
           "2007/08/13"
          ],
          [
           -32.24,
           -13.92,
           "17:16:46.3",
           "2007/09/19"
          ],
          [
           -33.1,
           -16.04,
           "08:56:57.3",
           "2008/06/28"
          ],
          [
           -31.12,
           -13.42,
           "22:13:48.1",
           "2008/12/20"
          ]
         ],
         "hovertemplate": "<b>%{hovertext}</b><br><br>Cluster=175<br>Lat=%{customdata[0]}<br>Lon=%{customdata[1]}<br>Time=%{customdata[2]}<br>Date=%{customdata[3]}<extra></extra>",
         "hovertext": {
          "dtype": "f8",
          "bdata": "AAAAAADgZUAAAAAAAOBlQAAAAAAA4GVAAAAAAADgZUA="
         },
         "lat": {
          "dtype": "f8",
          "bdata": "PQrXo3D9PsAfhetRuB5AwM3MzMzMjEDAH4XrUbgeP8A="
         },
         "legendgroup": "175",
         "lon": {
          "dtype": "f8",
          "bdata": "UrgehevRKsDXo3A9CtcrwArXo3A9CjDA16NwPQrXKsA="
         },
         "marker": {
          "color": "#85660D"
         },
         "mode": "markers",
         "name": "175",
         "showlegend": true,
         "subplot": "map",
         "type": "scattermap"
        },
        {
         "customdata": [
          [
           -3.52,
           -12.15,
           "14:18:24.6",
           "2007/08/16"
          ],
          [
           -7.07,
           -11.71,
           "18:39:34.8",
           "2007/09/26"
          ]
         ],
         "hovertemplate": "<b>%{hovertext}</b><br><br>Cluster=54<br>Lat=%{customdata[0]}<br>Lon=%{customdata[1]}<br>Time=%{customdata[2]}<br>Date=%{customdata[3]}<extra></extra>",
         "hovertext": {
          "dtype": "f8",
          "bdata": "AAAAAAAAS0AAAAAAAABLQA=="
         },
         "lat": {
          "dtype": "f8",
          "bdata": "KVyPwvUoDMBI4XoUrkccwA=="
         },
         "legendgroup": "54",
         "lon": {
          "dtype": "f8",
          "bdata": "zczMzMxMKMDsUbgehWsnwA=="
         },
         "marker": {
          "color": "#782AB6"
         },
         "mode": "markers",
         "name": "54",
         "showlegend": true,
         "subplot": "map",
         "type": "scattermap"
        },
        {
         "customdata": [
          [
           -3.55,
           -12.1,
           "16:27:40.9",
           "2007/08/17"
          ],
          [
           -5.22,
           -11.42,
           "16:28:10.1",
           "2009/08/11"
          ],
          [
           -6.43,
           -10.75,
           "15:45:32.5",
           "2011/01/11"
          ],
          [
           -6.92,
           -12.45,
           "09:16:57.9",
           "2011/08/11"
          ],
          [
           -4.88,
           -11.63,
           "01:33:17.3",
           "2012/05/15"
          ]
         ],
         "hovertemplate": "<b>%{hovertext}</b><br><br>Cluster=226<br>Lat=%{customdata[0]}<br>Lon=%{customdata[1]}<br>Time=%{customdata[2]}<br>Date=%{customdata[3]}<extra></extra>",
         "hovertext": {
          "dtype": "f8",
          "bdata": "AAAAAABAbEAAAAAAAEBsQAAAAAAAQGxAAAAAAABAbEAAAAAAAEBsQA=="
         },
         "lat": {
          "dtype": "f8",
          "bdata": "ZmZmZmZmDMDhehSuR+EUwLgehetRuBnArkfhehSuG8CF61G4HoUTwA=="
         },
         "legendgroup": "226",
         "lon": {
          "dtype": "f8",
          "bdata": "MzMzMzMzKMDXo3A9CtcmwAAAAAAAgCXAZmZmZmbmKMDD9Shcj0InwA=="
         },
         "marker": {
          "color": "#565656"
         },
         "mode": "markers",
         "name": "226",
         "showlegend": true,
         "subplot": "map",
         "type": "scattermap"
        },
        {
         "customdata": [
          [
           -1.36,
           -13.29,
           "10:13:49.7",
           "2007/11/27"
          ],
          [
           -1.17,
           -13.95,
           "19:07:38.3",
           "2008/09/05"
          ]
         ],
         "hovertemplate": "<b>%{hovertext}</b><br><br>Cluster=55<br>Lat=%{customdata[0]}<br>Lon=%{customdata[1]}<br>Time=%{customdata[2]}<br>Date=%{customdata[3]}<extra></extra>",
         "hovertext": {
          "dtype": "f8",
          "bdata": "AAAAAACAS0AAAAAAAIBLQA=="
         },
         "lat": {
          "dtype": "f8",
          "bdata": "w/UoXI/C9b+4HoXrUbjyvw=="
         },
         "legendgroup": "55",
         "lon": {
          "dtype": "f8",
          "bdata": "FK5H4XqUKsBmZmZmZuYrwA=="
         },
         "marker": {
          "color": "#1C8356"
         },
         "mode": "markers",
         "name": "55",
         "showlegend": true,
         "subplot": "map",
         "type": "scattermap"
        },
        {
         "customdata": [
          [
           39.42,
           33.21,
           "09:48:30.0",
           "2007/12/20"
          ],
          [
           39.45,
           33.16,
           "23:47:10.8",
           "2007/12/26"
          ]
         ],
         "hovertemplate": "<b>%{hovertext}</b><br><br>Cluster=220<br>Lat=%{customdata[0]}<br>Lon=%{customdata[1]}<br>Time=%{customdata[2]}<br>Date=%{customdata[3]}<extra></extra>",
         "hovertext": {
          "dtype": "f8",
          "bdata": "AAAAAACAa0AAAAAAAIBrQA=="
         },
         "lat": {
          "dtype": "f8",
          "bdata": "9ihcj8K1Q0CamZmZmblDQA=="
         },
         "legendgroup": "220",
         "lon": {
          "dtype": "f8",
          "bdata": "exSuR+GaQEAUrkfhepRAQA=="
         },
         "marker": {
          "color": "#16FF32"
         },
         "mode": "markers",
         "name": "220",
         "showlegend": true,
         "subplot": "map",
         "type": "scattermap"
        },
        {
         "customdata": [
          [
           37.22,
           22.69,
           "05:14:20.2",
           "2008/01/06"
          ],
          [
           36.35,
           21.86,
           "12:08:55.8",
           "2008/02/14"
          ],
          [
           36.29,
           21.77,
           "18:27:06.0",
           "2008/02/20"
          ],
          [
           37.96,
           21.52,
           "12:25:29.7",
           "2008/06/08"
          ]
         ],
         "hovertemplate": "<b>%{hovertext}</b><br><br>Cluster=227<br>Lat=%{customdata[0]}<br>Lon=%{customdata[1]}<br>Time=%{customdata[2]}<br>Date=%{customdata[3]}<extra></extra>",
         "hovertext": {
          "dtype": "f8",
          "bdata": "AAAAAABgbEAAAAAAAGBsQAAAAAAAYGxAAAAAAABgbEA="
         },
         "lat": {
          "dtype": "f8",
          "bdata": "XI/C9SicQkDNzMzMzCxCQIXrUbgeJUJAexSuR+H6QkA="
         },
         "legendgroup": "227",
         "lon": {
          "dtype": "f8",
          "bdata": "cT0K16OwNkBcj8L1KNw1QIXrUbgexTVAhetRuB6FNUA="
         },
         "marker": {
          "color": "#F7E1A0"
         },
         "mode": "markers",
         "name": "227",
         "showlegend": true,
         "subplot": "map",
         "type": "scattermap"
        },
        {
         "customdata": [
          [
           -2.4,
           28.97,
           "10:56:09.7",
           "2008/02/03"
          ],
          [
           -3.67,
           26.07,
           "07:30:44.3",
           "2008/04/20"
          ]
         ],
         "hovertemplate": "<b>%{hovertext}</b><br><br>Cluster=194<br>Lat=%{customdata[0]}<br>Lon=%{customdata[1]}<br>Time=%{customdata[2]}<br>Date=%{customdata[3]}<extra></extra>",
         "hovertext": {
          "dtype": "f8",
          "bdata": "AAAAAABAaEAAAAAAAEBoQA=="
         },
         "lat": {
          "dtype": "f8",
          "bdata": "MzMzMzMzA8Bcj8L1KFwNwA=="
         },
         "legendgroup": "194",
         "lon": {
          "dtype": "f8",
          "bdata": "uB6F61H4PEBSuB6F6xE6QA=="
         },
         "marker": {
          "color": "#E2E2E2"
         },
         "mode": "markers",
         "name": "194",
         "showlegend": true,
         "subplot": "map",
         "type": "scattermap"
        },
        {
         "customdata": [
          [
           -2.4,
           28.92,
           "02:07:46.8",
           "2008/02/14"
          ],
          [
           -1.13,
           29.12,
           "00:02:12.6",
           "2008/10/05"
          ],
          [
           -0.9,
           29.2,
           "23:52:30.5",
           "2010/01/28"
          ]
         ],
         "hovertemplate": "<b>%{hovertext}</b><br><br>Cluster=193<br>Lat=%{customdata[0]}<br>Lon=%{customdata[1]}<br>Time=%{customdata[2]}<br>Date=%{customdata[3]}<extra></extra>",
         "hovertext": {
          "dtype": "f8",
          "bdata": "AAAAAAAgaEAAAAAAACBoQAAAAAAAIGhA"
         },
         "lat": {
          "dtype": "f8",
          "bdata": "MzMzMzMzA8AUrkfhehTyv83MzMzMzOy/"
         },
         "legendgroup": "193",
         "lon": {
          "dtype": "f8",
          "bdata": "7FG4HoXrPEAfhetRuB49QDMzMzMzMz1A"
         },
         "marker": {
          "color": "#1CBE4F"
         },
         "mode": "markers",
         "name": "193",
         "showlegend": true,
         "subplot": "map",
         "type": "scattermap"
        },
        {
         "customdata": [
          [
           -35.46,
           -16.6,
           "14:35:29.2",
           "2008/04/27"
          ],
          [
           -33.2,
           -15.94,
           "15:45:49.2",
           "2009/06/27"
          ]
         ],
         "hovertemplate": "<b>%{hovertext}</b><br><br>Cluster=151<br>Lat=%{customdata[0]}<br>Lon=%{customdata[1]}<br>Time=%{customdata[2]}<br>Date=%{customdata[3]}<extra></extra>",
         "hovertext": {
          "dtype": "f8",
          "bdata": "AAAAAADgYkAAAAAAAOBiQA=="
         },
         "lat": {
          "dtype": "f8",
          "bdata": "exSuR+G6QcCamZmZmZlAwA=="
         },
         "legendgroup": "151",
         "lon": {
          "dtype": "f8",
          "bdata": "mpmZmZmZMMDhehSuR+EvwA=="
         },
         "marker": {
          "color": "#C4451C"
         },
         "mode": "markers",
         "name": "151",
         "showlegend": true,
         "subplot": "map",
         "type": "scattermap"
        },
        {
         "customdata": [
          [
           35.8,
           27.86,
           "03:26:34.7",
           "2008/07/15"
          ],
          [
           34.16,
           25.47,
           "09:30:10.4",
           "2009/07/01"
          ]
         ],
         "hovertemplate": "<b>%{hovertext}</b><br><br>Cluster=234<br>Lat=%{customdata[0]}<br>Lon=%{customdata[1]}<br>Time=%{customdata[2]}<br>Date=%{customdata[3]}<extra></extra>",
         "hovertext": {
          "dtype": "f8",
          "bdata": "AAAAAABAbUAAAAAAAEBtQA=="
         },
         "lat": {
          "dtype": "f8",
          "bdata": "ZmZmZmbmQUAUrkfhehRBQA=="
         },
         "legendgroup": "234",
         "lon": {
          "dtype": "f8",
          "bdata": "XI/C9SjcO0C4HoXrUXg5QA=="
         },
         "marker": {
          "color": "#DEA0FD"
         },
         "mode": "markers",
         "name": "234",
         "showlegend": true,
         "subplot": "map",
         "type": "scattermap"
        },
        {
         "customdata": [
          [
           37.51,
           38.5,
           "02:22:47.0",
           "2008/09/03"
          ],
          [
           39.59,
           39.73,
           "07:37:51.7",
           "2009/07/30"
          ],
          [
           38.76,
           40.06,
           "09:00:46.0",
           "2010/03/08"
          ],
          [
           38.82,
           40.14,
           "14:11:31.0",
           "2010/03/24"
          ]
         ],
         "hovertemplate": "<b>%{hovertext}</b><br><br>Cluster=272<br>Lat=%{customdata[0]}<br>Lon=%{customdata[1]}<br>Time=%{customdata[2]}<br>Date=%{customdata[3]}<extra></extra>",
         "hovertext": {
          "dtype": "f8",
          "bdata": "AAAAAAAAcUAAAAAAAABxQAAAAAAAAHFAAAAAAAAAcUA="
         },
         "lat": {
          "dtype": "f8",
          "bdata": "4XoUrkfBQkDsUbgehctDQOF6FK5HYUNAKVyPwvVoQ0A="
         },
         "legendgroup": "272",
         "lon": {
          "dtype": "f8",
          "bdata": "AAAAAABAQ0A9CtejcN1DQEjhehSuB0RAUrgehesRREA="
         },
         "marker": {
          "color": "#FE00FA"
         },
         "mode": "markers",
         "name": "272",
         "showlegend": true,
         "subplot": "map",
         "type": "scattermap"
        },
        {
         "customdata": [
          [
           32.3,
           47.2,
           "22:43:13.0",
           "2008/09/03"
          ],
          [
           34.88,
           46.85,
           "00:54:28.0",
           "2009/10/13"
          ],
          [
           32.54,
           48.37,
           "07:28:02.7",
           "2010/02/23"
          ],
          [
           32.51,
           48.29,
           "10:25:56.8",
           "2010/02/23"
          ],
          [
           32.87,
           46.96,
           "18:21:38.5",
           "2012/03/08"
          ],
          [
           32.55,
           46.98,
           "05:25:38.2",
           "2012/03/24"
          ],
          [
           32.58,
           47.05,
           "18:42:58.1",
           "2012/04/18"
          ],
          [
           32.51,
           47.02,
           "01:21:07.5",
           "2012/04/20"
          ],
          [
           32.45,
           46.99,
           "03:05:41.8",
           "2012/04/20"
          ],
          [
           32.42,
           46.86,
           "15:37:03.0",
           "2012/04/20"
          ],
          [
           32.41,
           47.05,
           "05:25:08.4",
           "2012/04/21"
          ],
          [
           29.78,
           50.71,
           "16:15:14.8",
           "2012/06/08"
          ],
          [
           33.22,
           49.21,
           "06:22:27.4",
           "2012/11/27"
          ],
          [
           33.23,
           48.73,
           "11:12:17.3",
           "2013/01/22"
          ],
          [
           31.77,
           50.91,
           "12:11:27.9",
           "2013/01/25"
          ],
          [
           29.63,
           50.86,
           "10:51:27.7",
           "2014/05/21"
          ],
          [
           32.7,
           47.64,
           "14:47:20.3",
           "2014/08/17"
          ],
          [
           32.76,
           47.6,
           "08:05:26.0",
           "2014/08/18"
          ],
          [
           32.7,
           47.62,
           "11:23:04.2",
           "2014/08/18"
          ],
          [
           32.71,
           47.56,
           "21:44:28.3",
           "2014/08/18"
          ],
          [
           32.73,
           47.62,
           "10:39:59.0",
           "2014/08/22"
          ],
          [
           33.7,
           45.77,
           "20:06:04.2",
           "2014/08/22"
          ],
          [
           32.72,
           47.77,
           "20:05:18.7",
           "2014/08/23"
          ],
          [
           32.68,
           47.79,
           "02:44:52.1",
           "2014/08/24"
          ],
          [
           32.73,
           46.95,
           "08:04:39.0",
           "2015/02/15"
          ],
          [
           32.83,
           46.6,
           "06:10:24.4",
           "2015/09/25"
          ]
         ],
         "hovertemplate": "<b>%{hovertext}</b><br><br>Cluster=280<br>Lat=%{customdata[0]}<br>Lon=%{customdata[1]}<br>Time=%{customdata[2]}<br>Date=%{customdata[3]}<extra></extra>",
         "hovertext": {
          "dtype": "f8",
          "bdata": "AAAAAACAcUAAAAAAAIBxQAAAAAAAgHFAAAAAAACAcUAAAAAAAIBxQAAAAAAAgHFAAAAAAACAcUAAAAAAAIBxQAAAAAAAgHFAAAAAAACAcUAAAAAAAIBxQAAAAAAAgHFAAAAAAACAcUAAAAAAAIBxQAAAAAAAgHFAAAAAAACAcUAAAAAAAIBxQAAAAAAAgHFAAAAAAACAcUAAAAAAAIBxQAAAAAAAgHFAAAAAAACAcUAAAAAAAIBxQAAAAAAAgHFAAAAAAACAcUAAAAAAAIBxQA=="
         },
         "lat": {
          "dtype": "f8",
          "bdata": "ZmZmZmYmQEBxPQrXo3BBQIXrUbgeRUBA4XoUrkdBQECPwvUoXG9AQGZmZmZmRkBACtejcD1KQEDhehSuR0FAQJqZmZmZOUBA9ihcj8I1QEAUrkfhejRAQEjhehSuxz1AXI/C9SicQEA9CtejcJ1AQIXrUbgexT9A4XoUrkehPUCamZmZmVlAQOF6FK5HYUBAmpmZmZlZQEB7FK5H4VpAQD0K16NwXUBAmpmZmZnZQEBcj8L1KFxAQNejcD0KV0BAPQrXo3BdQEAK16NwPWpAQA=="
         },
         "legendgroup": "280",
         "lon": {
          "dtype": "f8",
          "bdata": "mpmZmZmZR0DNzMzMzGxHQI/C9ShcL0hAhetRuB4lSEB7FK5H4XpHQD0K16NwfUdAZmZmZmaGR0DD9Shcj4JHQB+F61G4fkdArkfhehRuR0BmZmZmZoZHQHsUrkfhWklAexSuR+GaSEA9CtejcF1IQBSuR+F6dElArkfhehRuSUBSuB6F69FHQM3MzMzMzEdAj8L1KFzPR0BI4XoUrsdHQI/C9Shcz0dAw/UoXI/iRkDD9Shcj+JHQIXrUbge5UdAmpmZmZl5R0DNzMzMzExHQA=="
         },
         "marker": {
          "color": "#325A9B"
         },
         "mode": "markers",
         "name": "280",
         "showlegend": true,
         "subplot": "map",
         "type": "scattermap"
        },
        {
         "customdata": [
          [
           -22.71,
           -12.76,
           "17:12:15.8",
           "2008/09/24"
          ],
          [
           -23.81,
           -13.43,
           "12:34:17.8",
           "2009/06/25"
          ],
          [
           -25.63,
           -13.75,
           "12:13:17.5",
           "2009/09/28"
          ],
          [
           -21.04,
           -11.55,
           "01:35:31.8",
           "2011/01/17"
          ]
         ],
         "hovertemplate": "<b>%{hovertext}</b><br><br>Cluster=119<br>Lat=%{customdata[0]}<br>Lon=%{customdata[1]}<br>Time=%{customdata[2]}<br>Date=%{customdata[3]}<extra></extra>",
         "hovertext": {
          "dtype": "f8",
          "bdata": "AAAAAADAXUAAAAAAAMBdQAAAAAAAwF1AAAAAAADAXUA="
         },
         "lat": {
          "dtype": "f8",
          "bdata": "9ihcj8K1NsCPwvUoXM83wOF6FK5HoTnACtejcD0KNcA="
         },
         "legendgroup": "119",
         "lon": {
          "dtype": "f8",
          "bdata": "hetRuB6FKcBcj8L1KNwqwAAAAAAAgCvAmpmZmZkZJ8A="
         },
         "marker": {
          "color": "#FEAF16"
         },
         "mode": "markers",
         "name": "119",
         "showlegend": true,
         "subplot": "map",
         "type": "scattermap"
        },
        {
         "customdata": [
          [
           12.39,
           40.61,
           "09:40:41.3",
           "2008/10/17"
          ],
          [
           10.22,
           40.85,
           "03:39:07.7",
           "2009/12/22"
          ]
         ],
         "hovertemplate": "<b>%{hovertext}</b><br><br>Cluster=217<br>Lat=%{customdata[0]}<br>Lon=%{customdata[1]}<br>Time=%{customdata[2]}<br>Date=%{customdata[3]}<extra></extra>",
         "hovertext": {
          "dtype": "f8",
          "bdata": "AAAAAAAga0AAAAAAACBrQA=="
         },
         "lat": {
          "dtype": "f8",
          "bdata": "SOF6FK7HKEBxPQrXo3AkQA=="
         },
         "legendgroup": "217",
         "lon": {
          "dtype": "f8",
          "bdata": "rkfhehROREDNzMzMzGxEQA=="
         },
         "marker": {
          "color": "#F8A19F"
         },
         "mode": "markers",
         "name": "217",
         "showlegend": true,
         "subplot": "map",
         "type": "scattermap"
        },
        {
         "customdata": [
          [
           -6.37,
           26.86,
           "11:07:23.1",
           "2008/11/13"
          ],
          [
           -7.35,
           30.13,
           "09:43:10.7",
           "2008/12/14"
          ]
         ],
         "hovertemplate": "<b>%{hovertext}</b><br><br>Cluster=181<br>Lat=%{customdata[0]}<br>Lon=%{customdata[1]}<br>Time=%{customdata[2]}<br>Date=%{customdata[3]}<extra></extra>",
         "hovertext": {
          "dtype": "f8",
          "bdata": "AAAAAACgZkAAAAAAAKBmQA=="
         },
         "lat": {
          "dtype": "f8",
          "bdata": "exSuR+F6GcBmZmZmZmYdwA=="
         },
         "legendgroup": "181",
         "lon": {
          "dtype": "f8",
          "bdata": "XI/C9SjcOkDhehSuRyE+QA=="
         },
         "marker": {
          "color": "#90AD1C"
         },
         "mode": "markers",
         "name": "181",
         "showlegend": true,
         "subplot": "map",
         "type": "scattermap"
        },
        {
         "customdata": [
          [
           -31.19,
           -13.34,
           "21:05:16.2",
           "2008/12/20"
          ],
          [
           -29.03,
           -13.1,
           "17:19:50.3",
           "2010/07/20"
          ]
         ],
         "hovertemplate": "<b>%{hovertext}</b><br><br>Cluster=80<br>Lat=%{customdata[0]}<br>Lon=%{customdata[1]}<br>Time=%{customdata[2]}<br>Date=%{customdata[3]}<extra></extra>",
         "hovertext": {
          "dtype": "f8",
          "bdata": "AAAAAAAAVEAAAAAAAABUQA=="
         },
         "lat": {
          "dtype": "f8",
          "bdata": "cT0K16MwP8BI4XoUrgc9wA=="
         },
         "legendgroup": "80",
         "lon": {
          "dtype": "f8",
          "bdata": "rkfhehSuKsAzMzMzMzMqwA=="
         },
         "marker": {
          "color": "#F6222E"
         },
         "mode": "markers",
         "name": "80",
         "showlegend": true,
         "subplot": "map",
         "type": "scattermap"
        },
        {
         "customdata": [
          [
           -39.25,
           -15.75,
           "10:37:52.0",
           "2009/01/19"
          ],
          [
           -38.9,
           -15.83,
           "12:31:36.0",
           "2010/01/27"
          ]
         ],
         "hovertemplate": "<b>%{hovertext}</b><br><br>Cluster=212<br>Lat=%{customdata[0]}<br>Lon=%{customdata[1]}<br>Time=%{customdata[2]}<br>Date=%{customdata[3]}<extra></extra>",
         "hovertext": {
          "dtype": "f8",
          "bdata": "AAAAAACAakAAAAAAAIBqQA=="
         },
         "lat": {
          "dtype": "f8",
          "bdata": "AAAAAACgQ8AzMzMzM3NDwA=="
         },
         "legendgroup": "212",
         "lon": {
          "dtype": "f8",
          "bdata": "AAAAAACAL8ApXI/C9agvwA=="
         },
         "marker": {
          "color": "#1CFFCE"
         },
         "mode": "markers",
         "name": "212",
         "showlegend": true,
         "subplot": "map",
         "type": "scattermap"
        },
        {
         "customdata": [
          [
           -28.23,
           -12.74,
           "03:13:25.2",
           "2009/02/06"
          ],
          [
           -28.24,
           -13.18,
           "14:32:30.6",
           "2010/11/30"
          ]
         ],
         "hovertemplate": "<b>%{hovertext}</b><br><br>Cluster=190<br>Lat=%{customdata[0]}<br>Lon=%{customdata[1]}<br>Time=%{customdata[2]}<br>Date=%{customdata[3]}<extra></extra>",
         "hovertext": {
          "dtype": "f8",
          "bdata": "AAAAAADAZ0AAAAAAAMBnQA=="
         },
         "lat": {
          "dtype": "f8",
          "bdata": "exSuR+E6PMA9CtejcD08wA=="
         },
         "legendgroup": "190",
         "lon": {
          "dtype": "f8",
          "bdata": "exSuR+F6KcBcj8L1KFwqwA=="
         },
         "marker": {
          "color": "#2ED9FF"
         },
         "mode": "markers",
         "name": "190",
         "showlegend": true,
         "subplot": "map",
         "type": "scattermap"
        },
        {
         "customdata": [
          [
           -30.05,
           -13.9,
           "14:32:30.4",
           "2009/05/11"
          ],
          [
           -33.07,
           -15.95,
           "02:50:23.6",
           "2009/05/27"
          ],
          [
           -34.66,
           -15.41,
           "19:06:37.0",
           "2010/05/16"
          ]
         ],
         "hovertemplate": "<b>%{hovertext}</b><br><br>Cluster=174<br>Lat=%{customdata[0]}<br>Lon=%{customdata[1]}<br>Time=%{customdata[2]}<br>Date=%{customdata[3]}<extra></extra>",
         "hovertext": {
          "dtype": "f8",
          "bdata": "AAAAAADAZUAAAAAAAMBlQAAAAAAAwGVA"
         },
         "lat": {
          "dtype": "f8",
          "bdata": "zczMzMwMPsApXI/C9YhAwBSuR+F6VEHA"
         },
         "legendgroup": "174",
         "lon": {
          "dtype": "f8",
          "bdata": "zczMzMzMK8BmZmZmZuYvwFK4HoXr0S7A"
         },
         "marker": {
          "color": "#B10DA1"
         },
         "mode": "markers",
         "name": "174",
         "showlegend": true,
         "subplot": "map",
         "type": "scattermap"
        },
        {
         "customdata": [
          [
           25.21,
           37.77,
           "06:38:32.5",
           "2009/05/19"
          ],
          [
           25.25,
           37.7,
           "16:54:31.1",
           "2009/05/19"
          ],
          [
           25.24,
           37.74,
           "19:57:20.0",
           "2009/05/19"
          ]
         ],
         "hovertemplate": "<b>%{hovertext}</b><br><br>Cluster=121<br>Lat=%{customdata[0]}<br>Lon=%{customdata[1]}<br>Time=%{customdata[2]}<br>Date=%{customdata[3]}<extra></extra>",
         "hovertext": {
          "dtype": "f8",
          "bdata": "AAAAAABAXkAAAAAAAEBeQAAAAAAAQF5A"
         },
         "lat": {
          "dtype": "f8",
          "bdata": "9ihcj8I1OUAAAAAAAEA5QD0K16NwPTlA"
         },
         "legendgroup": "121",
         "lon": {
          "dtype": "f8",
          "bdata": "w/UoXI/iQkCamZmZmdlCQB+F61G43kJA"
         },
         "marker": {
          "color": "#C075A6"
         },
         "mode": "markers",
         "name": "121",
         "showlegend": true,
         "subplot": "map",
         "type": "scattermap"
        },
        {
         "customdata": [
          [
           0.17,
           -16.88,
           "11:12:22.0",
           "2009/06/24"
          ],
          [
           -1.28,
           -15.83,
           "09:36:56.8",
           "2010/03/26"
          ]
         ],
         "hovertemplate": "<b>%{hovertext}</b><br><br>Cluster=46<br>Lat=%{customdata[0]}<br>Lon=%{customdata[1]}<br>Time=%{customdata[2]}<br>Date=%{customdata[3]}<extra></extra>",
         "hovertext": {
          "dtype": "f8",
          "bdata": "AAAAAAAAR0AAAAAAAABHQA=="
         },
         "lat": {
          "dtype": "f8",
          "bdata": "w/UoXI/CxT97FK5H4Xr0vw=="
         },
         "legendgroup": "46",
         "lon": {
          "dtype": "f8",
          "bdata": "4XoUrkfhMMApXI/C9agvwA=="
         },
         "marker": {
          "color": "#FC1CBF"
         },
         "mode": "markers",
         "name": "46",
         "showlegend": true,
         "subplot": "map",
         "type": "scattermap"
        },
        {
         "customdata": [
          [
           -7.53,
           30.45,
           "13:26:37.6",
           "2009/09/26"
          ],
          [
           -6.85,
           29.84,
           "04:47:02.6",
           "2009/11/14"
          ],
          [
           -6.78,
           29.82,
           "04:50:17.3",
           "2009/11/14"
          ]
         ],
         "hovertemplate": "<b>%{hovertext}</b><br><br>Cluster=182<br>Lat=%{customdata[0]}<br>Lon=%{customdata[1]}<br>Time=%{customdata[2]}<br>Date=%{customdata[3]}<extra></extra>",
         "hovertext": {
          "dtype": "f8",
          "bdata": "AAAAAADAZkAAAAAAAMBmQAAAAAAAwGZA"
         },
         "lat": {
          "dtype": "f8",
          "bdata": "H4XrUbgeHsBmZmZmZmYbwB+F61G4HhvA"
         },
         "legendgroup": "182",
         "lon": {
          "dtype": "f8",
          "bdata": "MzMzMzNzPkDXo3A9Ctc9QFK4HoXr0T1A"
         },
         "marker": {
          "color": "#B00068"
         },
         "mode": "markers",
         "name": "182",
         "showlegend": true,
         "subplot": "map",
         "type": "scattermap"
        },
        {
         "customdata": [
          [
           0.56,
           30.15,
           "00:39:43.2",
           "2009/10/18"
          ],
          [
           1.74,
           31.23,
           "03:25:19.4",
           "2011/03/15"
          ]
         ],
         "hovertemplate": "<b>%{hovertext}</b><br><br>Cluster=188<br>Lat=%{customdata[0]}<br>Lon=%{customdata[1]}<br>Time=%{customdata[2]}<br>Date=%{customdata[3]}<extra></extra>",
         "hovertext": {
          "dtype": "f8",
          "bdata": "AAAAAACAZ0AAAAAAAIBnQA=="
         },
         "lat": {
          "dtype": "f8",
          "bdata": "7FG4HoXr4T/Xo3A9Ctf7Pw=="
         },
         "legendgroup": "188",
         "lon": {
          "dtype": "f8",
          "bdata": "ZmZmZmYmPkB7FK5H4To/QA=="
         },
         "marker": {
          "color": "#FBE426"
         },
         "mode": "markers",
         "name": "188",
         "showlegend": true,
         "subplot": "map",
         "type": "scattermap"
        },
        {
         "customdata": [
          [
           12.14,
           45.81,
           "06:23:04.2",
           "2009/11/05"
          ],
          [
           12.07,
           45.92,
           "07:57:30.7",
           "2009/11/05"
          ],
          [
           12.1,
           45.9,
           "08:05:49.8",
           "2009/11/05"
          ],
          [
           12.02,
           44.68,
           "01:26:02.8",
           "2009/11/06"
          ],
          [
           12.06,
           46.49,
           "06:32:03.1",
           "2010/06/27"
          ],
          [
           11.8,
           43.95,
           "07:08:32.2",
           "2010/11/14"
          ],
          [
           11.93,
           43.99,
           "07:38:33.2",
           "2010/11/14"
          ],
          [
           12.03,
           43.96,
           "08:21:21.7",
           "2010/11/14"
          ],
          [
           11.94,
           43.97,
           "10:37:47.4",
           "2010/11/14"
          ],
          [
           11.96,
           43.9,
           "12:41:48.6",
           "2010/11/14"
          ],
          [
           11.86,
           43.76,
           "12:49:56.1",
           "2010/11/14"
          ],
          [
           11.93,
           43.94,
           "13:50:03.5",
           "2010/11/14"
          ],
          [
           11.97,
           43.93,
           "14:04:30.8",
           "2010/11/14"
          ],
          [
           11.78,
           43.67,
           "14:27:42.6",
           "2010/11/14"
          ],
          [
           11.95,
           43.81,
           "14:33:19.2",
           "2010/11/14"
          ],
          [
           12.04,
           43.8,
           "14:55:25.8",
           "2010/11/14"
          ],
          [
           11.91,
           43.64,
           "15:06:30.6",
           "2010/11/14"
          ],
          [
           11.89,
           43.66,
           "16:33:18.3",
           "2010/11/14"
          ],
          [
           11.86,
           43.98,
           "17:39:17.5",
           "2010/11/14"
          ],
          [
           11.98,
           43.92,
           "19:15:44.8",
           "2010/11/14"
          ],
          [
           11.92,
           43.62,
           "20:18:03.2",
           "2010/11/14"
          ],
          [
           11.91,
           43.58,
           "22:22:30.1",
           "2010/11/14"
          ],
          [
           12.12,
           44.01,
           "23:25:34.8",
           "2010/11/14"
          ],
          [
           12.01,
           43.99,
           "01:56:53.7",
           "2010/11/18"
          ],
          [
           11.93,
           43.98,
           "14:06:25.5",
           "2010/12/11"
          ],
          [
           12.04,
           43.99,
           "02:29:57.6",
           "2011/01/10"
          ],
          [
           12.02,
           44.07,
           "02:28:44.3",
           "2011/01/30"
          ],
          [
           13.42,
           41.69,
           "15:37:04.1",
           "2011/06/12"
          ],
          [
           13.3,
           41.8,
           "19:21:50.8",
           "2011/06/12"
          ],
          [
           9.98,
           43.08,
           "23:24:33.0",
           "2011/08/02"
          ],
          [
           11.84,
           44.21,
           "12:34:51.7",
           "2011/10/21"
          ],
          [
           11.91,
           44.15,
           "15:40:13.1",
           "2011/10/21"
          ],
          [
           11.77,
           44.19,
           "20:03:46.9",
           "2011/10/22"
          ],
          [
           11.87,
           44.11,
           "21:30:42.5",
           "2011/10/22"
          ],
          [
           12.52,
           48.06,
           "01:22:05.8",
           "2011/10/31"
          ],
          [
           13.35,
           41.79,
           "16:19:13.5",
           "2012/07/01"
          ],
          [
           12.71,
           48.19,
           "02:05:23.9",
           "2013/07/11"
          ],
          [
           12.67,
           47.97,
           "09:46:10.9",
           "2013/07/11"
          ]
         ],
         "hovertemplate": "<b>%{hovertext}</b><br><br>Cluster=218<br>Lat=%{customdata[0]}<br>Lon=%{customdata[1]}<br>Time=%{customdata[2]}<br>Date=%{customdata[3]}<extra></extra>",
         "hovertext": {
          "dtype": "f8",
          "bdata": "AAAAAABAa0AAAAAAAEBrQAAAAAAAQGtAAAAAAABAa0AAAAAAAEBrQAAAAAAAQGtAAAAAAABAa0AAAAAAAEBrQAAAAAAAQGtAAAAAAABAa0AAAAAAAEBrQAAAAAAAQGtAAAAAAABAa0AAAAAAAEBrQAAAAAAAQGtAAAAAAABAa0AAAAAAAEBrQAAAAAAAQGtAAAAAAABAa0AAAAAAAEBrQAAAAAAAQGtAAAAAAABAa0AAAAAAAEBrQAAAAAAAQGtAAAAAAABAa0AAAAAAAEBrQAAAAAAAQGtAAAAAAABAa0AAAAAAAEBrQAAAAAAAQGtAAAAAAABAa0AAAAAAAEBrQAAAAAAAQGtAAAAAAABAa0AAAAAAAEBrQAAAAAAAQGtAAAAAAABAa0AAAAAAAEBrQA=="
         },
         "lat": {
          "dtype": "f8",
          "bdata": "SOF6FK5HKECkcD0K1yMoQDMzMzMzMyhACtejcD0KKEAfhetRuB4oQJqZmZmZmSdAXI/C9SjcJ0CPwvUoXA8oQOF6FK5H4SdA7FG4HoXrJ0C4HoXrUbgnQFyPwvUo3CdAcT0K16PwJ0CPwvUoXI8nQGZmZmZm5idAFK5H4XoUKEBSuB6F69EnQEjhehSuxydAuB6F61G4J0D2KFyPwvUnQNejcD0K1ydAUrgehevRJ0A9CtejcD0oQIXrUbgeBShAXI/C9SjcJ0AUrkfhehQoQArXo3A9CihA16NwPQrXKkCamZmZmZkqQPYoXI/C9SNArkfhehSuJ0BSuB6F69EnQArXo3A9iidAPQrXo3C9J0AK16NwPQopQDMzMzMzsypA7FG4HoVrKUDXo3A9ClcpQA=="
         },
         "legendgroup": "218",
         "lon": {
          "dtype": "f8",
          "bdata": "SOF6FK7nRkD2KFyPwvVGQDMzMzMz80ZA16NwPQpXRkAfhetRuD5HQJqZmZmZ+UVAH4XrUbj+RUB7FK5H4fpFQFyPwvUo/EVAMzMzMzPzRUDhehSuR+FFQLgehetR+EVA16NwPQr3RUD2KFyPwtVFQEjhehSu50VAZmZmZmbmRUBSuB6F69FFQBSuR+F61EVAPQrXo3D9RUD2KFyPwvVFQI/C9Shcz0VACtejcD3KRUDhehSuRwFGQB+F61G4/kVAPQrXo3D9RUAfhetRuP5FQClcj8L1CEZAuB6F61HYREBmZmZmZuZEQArXo3A9ikVAexSuR+EaRkAzMzMzMxNGQLgehetRGEZArkfhehQORkBI4XoUrgdIQIXrUbge5URAuB6F61EYSEBcj8L1KPxHQA=="
         },
         "marker": {
          "color": "#FA0087"
         },
         "mode": "markers",
         "name": "218",
         "showlegend": true,
         "subplot": "map",
         "type": "scattermap"
        },
        {
         "customdata": [
          [
           12.11,
           45.91,
           "07:12:32.4",
           "2009/11/05"
          ],
          [
           11.98,
           43.96,
           "06:32:28.0",
           "2010/11/14"
          ],
          [
           11.86,
           43.72,
           "17:02:47.7",
           "2010/11/14"
          ],
          [
           13.41,
           41.74,
           "20:32:40.5",
           "2011/06/12"
          ],
          [
           13.52,
           41.64,
           "21:03:23.1",
           "2011/06/12"
          ],
          [
           13.3,
           41.73,
           "09:16:12.6",
           "2011/06/17"
          ]
         ],
         "hovertemplate": "<b>%{hovertext}</b><br><br>Cluster=215<br>Lat=%{customdata[0]}<br>Lon=%{customdata[1]}<br>Time=%{customdata[2]}<br>Date=%{customdata[3]}<extra></extra>",
         "hovertext": {
          "dtype": "f8",
          "bdata": "AAAAAADgakAAAAAAAOBqQAAAAAAA4GpAAAAAAADgakAAAAAAAOBqQAAAAAAA4GpA"
         },
         "lat": {
          "dtype": "f8",
          "bdata": "uB6F61E4KED2KFyPwvUnQLgehetRuCdAUrgehevRKkAK16NwPQorQJqZmZmZmSpA"
         },
         "legendgroup": "215",
         "lon": {
          "dtype": "f8",
          "bdata": "FK5H4Xr0RkB7FK5H4fpFQFyPwvUo3EVAH4XrUbjeREBSuB6F69FEQD0K16Nw3URA"
         },
         "marker": {
          "color": "#AA0DFE"
         },
         "mode": "markers",
         "name": "215",
         "showlegend": true,
         "subplot": "map",
         "type": "scattermap"
        },
        {
         "customdata": [
          [
           -10.13,
           33.85,
           "17:36:36.2",
           "2009/12/06"
          ],
          [
           -9.95,
           33.88,
           "03:08:57.2",
           "2009/12/08"
          ],
          [
           -10.11,
           33.82,
           "23:19:15.6",
           "2009/12/19"
          ]
         ],
         "hovertemplate": "<b>%{hovertext}</b><br><br>Cluster=144<br>Lat=%{customdata[0]}<br>Lon=%{customdata[1]}<br>Time=%{customdata[2]}<br>Date=%{customdata[3]}<extra></extra>",
         "hovertext": {
          "dtype": "f8",
          "bdata": "AAAAAAAAYkAAAAAAAABiQAAAAAAAAGJA"
         },
         "lat": {
          "dtype": "f8",
          "bdata": "w/UoXI9CJMBmZmZmZuYjwLgehetROCTA"
         },
         "legendgroup": "144",
         "lon": {
          "dtype": "f8",
          "bdata": "zczMzMzsQEBxPQrXo/BAQClcj8L16EBA"
         },
         "marker": {
          "color": "#3283FE"
         },
         "mode": "markers",
         "name": "144",
         "showlegend": true,
         "subplot": "map",
         "type": "scattermap"
        },
        {
         "customdata": [
          [
           -10.02,
           33.87,
           "18:00:01.0",
           "2009/12/06"
          ],
          [
           -10.13,
           33.92,
           "18:29:15.0",
           "2009/12/06"
          ]
         ],
         "hovertemplate": "<b>%{hovertext}</b><br><br>Cluster=178<br>Lat=%{customdata[0]}<br>Lon=%{customdata[1]}<br>Time=%{customdata[2]}<br>Date=%{customdata[3]}<extra></extra>",
         "hovertext": {
          "dtype": "f8",
          "bdata": "AAAAAABAZkAAAAAAAEBmQA=="
         },
         "lat": {
          "dtype": "f8",
          "bdata": "CtejcD0KJMDD9Shcj0IkwA=="
         },
         "legendgroup": "178",
         "lon": {
          "dtype": "f8",
          "bdata": "j8L1KFzvQED2KFyPwvVAQA=="
         },
         "marker": {
          "color": "#85660D"
         },
         "mode": "markers",
         "name": "178",
         "showlegend": true,
         "subplot": "map",
         "type": "scattermap"
        },
        {
         "customdata": [
          [
           -10.11,
           33.84,
           "09:31:44.8",
           "2009/12/07"
          ],
          [
           -10.0,
           33.84,
           "18:16:32.4",
           "2009/12/07"
          ],
          [
           -10.09,
           33.86,
           "04:49:09.4",
           "2009/12/11"
          ]
         ],
         "hovertemplate": "<b>%{hovertext}</b><br><br>Cluster=179<br>Lat=%{customdata[0]}<br>Lon=%{customdata[1]}<br>Time=%{customdata[2]}<br>Date=%{customdata[3]}<extra></extra>",
         "hovertext": {
          "dtype": "f8",
          "bdata": "AAAAAABgZkAAAAAAAGBmQAAAAAAAYGZA"
         },
         "lat": {
          "dtype": "f8",
          "bdata": "uB6F61E4JMAAAAAAAAAkwK5H4XoULiTA"
         },
         "legendgroup": "179",
         "lon": {
          "dtype": "f8",
          "bdata": "7FG4HoXrQEDsUbgehetAQK5H4XoU7kBA"
         },
         "marker": {
          "color": "#782AB6"
         },
         "mode": "markers",
         "name": "179",
         "showlegend": true,
         "subplot": "map",
         "type": "scattermap"
        },
        {
         "customdata": [
          [
           -17.55,
           -13.25,
           "03:34:40.3",
           "2009/12/12"
          ],
          [
           -17.7,
           -13.19,
           "05:08:12.8",
           "2012/02/23"
          ]
         ],
         "hovertemplate": "<b>%{hovertext}</b><br><br>Cluster=40<br>Lat=%{customdata[0]}<br>Lon=%{customdata[1]}<br>Time=%{customdata[2]}<br>Date=%{customdata[3]}<extra></extra>",
         "hovertext": {
          "dtype": "f8",
          "bdata": "AAAAAAAAREAAAAAAAABEQA=="
         },
         "lat": {
          "dtype": "f8",
          "bdata": "zczMzMyMMcAzMzMzM7MxwA=="
         },
         "legendgroup": "40",
         "lon": {
          "dtype": "f8",
          "bdata": "AAAAAACAKsDhehSuR2EqwA=="
         },
         "marker": {
          "color": "#565656"
         },
         "mode": "markers",
         "name": "40",
         "showlegend": true,
         "subplot": "map",
         "type": "scattermap"
        },
        {
         "customdata": [
          [
           32.57,
           15.06,
           "11:08:54.7",
           "2009/12/29"
          ],
          [
           36.15,
           12.8,
           "15:01:04.3",
           "2011/12/18"
          ],
          [
           39.26,
           6.35,
           "22:09:50.4",
           "2012/06/18"
          ],
          [
           34.0,
           14.67,
           "05:03:40.7",
           "2012/07/03"
          ],
          [
           35.7,
           10.95,
           "15:08:31.2",
           "2013/10/18"
          ]
         ],
         "hovertemplate": "<b>%{hovertext}</b><br><br>Cluster=176<br>Lat=%{customdata[0]}<br>Lon=%{customdata[1]}<br>Time=%{customdata[2]}<br>Date=%{customdata[3]}<extra></extra>",
         "hovertext": {
          "dtype": "f8",
          "bdata": "AAAAAAAAZkAAAAAAAABmQAAAAAAAAGZAAAAAAAAAZkAAAAAAAABmQA=="
         },
         "lat": {
          "dtype": "f8",
          "bdata": "KVyPwvVIQEAzMzMzMxNCQOF6FK5HoUNAAAAAAAAAQUCamZmZmdlBQA=="
         },
         "legendgroup": "176",
         "lon": {
          "dtype": "f8",
          "bdata": "H4XrUbgeLkCamZmZmZkpQGZmZmZmZhlA16NwPQpXLUBmZmZmZuYlQA=="
         },
         "marker": {
          "color": "#1C8356"
         },
         "mode": "markers",
         "name": "176",
         "showlegend": true,
         "subplot": "map",
         "type": "scattermap"
        },
        {
         "customdata": [
          [
           38.87,
           39.99,
           "02:32:34.7",
           "2010/03/08"
          ],
          [
           38.63,
           43.08,
           "20:45:34.9",
           "2011/10/23"
          ]
         ],
         "hovertemplate": "<b>%{hovertext}</b><br><br>Cluster=198<br>Lat=%{customdata[0]}<br>Lon=%{customdata[1]}<br>Time=%{customdata[2]}<br>Date=%{customdata[3]}<extra></extra>",
         "hovertext": {
          "dtype": "f8",
          "bdata": "AAAAAADAaEAAAAAAAMBoQA=="
         },
         "lat": {
          "dtype": "f8",
          "bdata": "j8L1KFxvQ0BxPQrXo1BDQA=="
         },
         "legendgroup": "198",
         "lon": {
          "dtype": "f8",
          "bdata": "H4XrUbj+Q0AK16NwPYpFQA=="
         },
         "marker": {
          "color": "#16FF32"
         },
         "mode": "markers",
         "name": "198",
         "showlegend": true,
         "subplot": "map",
         "type": "scattermap"
        },
        {
         "customdata": [
          [
           38.71,
           40.05,
           "07:47:42.0",
           "2010/03/08"
          ],
          [
           39.78,
           38.84,
           "03:22:36.1",
           "2011/09/22"
          ]
         ],
         "hovertemplate": "<b>%{hovertext}</b><br><br>Cluster=268<br>Lat=%{customdata[0]}<br>Lon=%{customdata[1]}<br>Time=%{customdata[2]}<br>Date=%{customdata[3]}<extra></extra>",
         "hovertext": {
          "dtype": "f8",
          "bdata": "AAAAAADAcEAAAAAAAMBwQA=="
         },
         "lat": {
          "dtype": "f8",
          "bdata": "exSuR+FaQ0CkcD0K1+NDQA=="
         },
         "legendgroup": "268",
         "lon": {
          "dtype": "f8",
          "bdata": "ZmZmZmYGREDsUbgehWtDQA=="
         },
         "marker": {
          "color": "#F7E1A0"
         },
         "mode": "markers",
         "name": "268",
         "showlegend": true,
         "subplot": "map",
         "type": "scattermap"
        },
        {
         "customdata": [
          [
           38.78,
           40.14,
           "11:12:10.0",
           "2010/03/08"
          ],
          [
           38.58,
           39.64,
           "07:34:42.7",
           "2011/06/23"
          ],
          [
           38.71,
           43.34,
           "18:10:45.2",
           "2011/10/23"
          ],
          [
           38.59,
           43.54,
           "08:28:27.1",
           "2011/10/24"
          ],
          [
           38.67,
           43.51,
           "08:49:21.1",
           "2011/10/24"
          ],
          [
           38.66,
           43.21,
           "15:28:06.7",
           "2011/10/24"
          ],
          [
           38.8,
           43.63,
           "14:55:08.2",
           "2011/10/25"
          ],
          [
           38.73,
           43.3,
           "03:16:18.4",
           "2011/10/26"
          ],
          [
           37.25,
           43.86,
           "08:04:22.4",
           "2011/10/27"
          ],
          [
           38.89,
           43.56,
           "22:24:21.9",
           "2011/10/29"
          ],
          [
           38.92,
           43.56,
           "02:43:12.0",
           "2011/11/06"
          ],
          [
           38.72,
           43.19,
           "22:05:51.0",
           "2011/11/08"
          ],
          [
           38.43,
           43.23,
           "19:23:33.2",
           "2011/11/09"
          ],
          [
           38.66,
           43.17,
           "22:08:15.4",
           "2011/11/14"
          ],
          [
           38.84,
           43.73,
           "17:39:43.1",
           "2011/11/18"
          ],
          [
           38.47,
           43.45,
           "00:47:21.8",
           "2011/11/30"
          ],
          [
           38.46,
           43.3,
           "22:15:02.3",
           "2011/12/04"
          ],
          [
           39.16,
           42.34,
           "10:35:34.7",
           "2012/03/26"
          ],
          [
           35.09,
           44.1,
           "01:57:11.8",
           "2012/05/05"
          ],
          [
           37.29,
           42.33,
           "05:52:53.6",
           "2012/06/14"
          ],
          [
           38.72,
           43.68,
           "20:07:22.0",
           "2012/06/24"
          ],
          [
           37.42,
           42.93,
           "20:37:27.4",
           "2012/08/05"
          ],
          [
           38.48,
           46.76,
           "22:24:02.0",
           "2012/08/11"
          ],
          [
           38.41,
           46.67,
           "17:49:04.6",
           "2012/08/15"
          ],
          [
           38.44,
           46.69,
           "17:14:14.4",
           "2012/08/16"
          ],
          [
           38.42,
           46.62,
           "06:26:32.8",
           "2012/11/07"
          ],
          [
           38.56,
           46.59,
           "03:58:25.1",
           "2012/11/16"
          ],
          [
           38.47,
           44.86,
           "06:38:57.1",
           "2012/12/23"
          ],
          [
           38.36,
           46.84,
           "15:10:49.0",
           "2013/01/26"
          ],
          [
           36.67,
           43.44,
           "14:57:07.0",
           "2013/03/11"
          ],
          [
           38.4,
           45.44,
           "10:39:39.3",
           "2013/04/18"
          ],
          [
           38.92,
           41.5,
           "20:40:50.2",
           "2013/09/17"
          ]
         ],
         "hovertemplate": "<b>%{hovertext}</b><br><br>Cluster=273<br>Lat=%{customdata[0]}<br>Lon=%{customdata[1]}<br>Time=%{customdata[2]}<br>Date=%{customdata[3]}<extra></extra>",
         "hovertext": {
          "dtype": "f8",
          "bdata": "AAAAAAAQcUAAAAAAABBxQAAAAAAAEHFAAAAAAAAQcUAAAAAAABBxQAAAAAAAEHFAAAAAAAAQcUAAAAAAABBxQAAAAAAAEHFAAAAAAAAQcUAAAAAAABBxQAAAAAAAEHFAAAAAAAAQcUAAAAAAABBxQAAAAAAAEHFAAAAAAAAQcUAAAAAAABBxQAAAAAAAEHFAAAAAAAAQcUAAAAAAABBxQAAAAAAAEHFAAAAAAAAQcUAAAAAAABBxQAAAAAAAEHFAAAAAAAAQcUAAAAAAABBxQAAAAAAAEHFAAAAAAAAQcUAAAAAAABBxQAAAAAAAEHFAAAAAAAAQcUAAAAAAABBxQA=="
         },
         "lat": {
          "dtype": "f8",
          "bdata": "pHA9CtdjQ0AK16NwPUpDQHsUrkfhWkNA7FG4HoVLQ0D2KFyPwlVDQBSuR+F6VENAZmZmZmZmQ0A9CtejcF1DQAAAAAAAoEJAUrgehetxQ0D2KFyPwnVDQFyPwvUoXENA16NwPQo3Q0AUrkfhelRDQOxRuB6Fa0NAXI/C9Sg8Q0B7FK5H4TpDQBSuR+F6lENA7FG4HoWLQUCF61G4HqVCQFyPwvUoXENA9ihcj8K1QkA9CtejcD1DQBSuR+F6NENAuB6F61E4Q0D2KFyPwjVDQEjhehSuR0NAXI/C9Sg8Q0CuR+F6FC5DQPYoXI/CVUJAMzMzMzMzQ0D2KFyPwnVDQA=="
         },
         "legendgroup": "273",
         "lon": {
          "dtype": "f8",
          "bdata": "UrgehesRREBSuB6F69FDQOxRuB6Fq0VAhetRuB7FRUDhehSuR8FFQHsUrkfhmkVAcT0K16PQRUBmZmZmZqZFQK5H4XoU7kVASOF6FK7HRUBI4XoUrsdFQLgehetRmEVAPQrXo3CdRUD2KFyPwpVFQD0K16Nw3UVAmpmZmZm5RUBmZmZmZqZFQOxRuB6FK0VAzczMzMwMRkAK16NwPSpFQNejcD0K10VA16NwPQp3RUDhehSuR2FHQPYoXI/CVUdAuB6F61FYR0CPwvUoXE9HQOxRuB6FS0dArkfhehRuRkDsUbgehWtHQLgehetRuEVAuB6F61G4RkAAAAAAAMBEQA=="
         },
         "marker": {
          "color": "#E2E2E2"
         },
         "mode": "markers",
         "name": "273",
         "showlegend": true,
         "subplot": "map",
         "type": "scattermap"
        },
        {
         "customdata": [
          [
           35.9,
           4.12,
           "12:29:22.3",
           "2010/05/14"
          ],
          [
           36.0,
           3.94,
           "06:52:42.6",
           "2010/05/16"
          ],
          [
           35.98,
           4.15,
           "13:28:18.0",
           "2010/05/23"
          ],
          [
           36.53,
           1.65,
           "03:18:18.0",
           "2012/04/25"
          ],
          [
           36.94,
           5.31,
           "23:15:29.8",
           "2012/11/28"
          ],
          [
           36.74,
           5.18,
           "16:00:55.1",
           "2013/05/26"
          ],
          [
           35.78,
           0.24,
           "05:22:02.7",
           "2014/05/22"
          ],
          [
           36.53,
           3.09,
           "08:00:22.0",
           "2014/12/23"
          ],
          [
           36.52,
           3.07,
           "17:55:18.1",
           "2014/12/26"
          ],
          [
           35.72,
           5.71,
           "11:22:13.9",
           "2015/03/15"
          ],
          [
           35.68,
           5.68,
           "22:55:57.7",
           "2015/03/21"
          ],
          [
           36.37,
           3.51,
           "17:48:54.1",
           "2016/04/10"
          ],
          [
           36.55,
           6.74,
           "01:46:55.8",
           "2017/03/05"
          ],
          [
           35.65,
           5.8,
           "14:50:43.1",
           "2017/08/15"
          ],
          [
           36.38,
           2.55,
           "20:59:37.9",
           "2018/01/02"
          ]
         ],
         "hovertemplate": "<b>%{hovertext}</b><br><br>Cluster=209<br>Lat=%{customdata[0]}<br>Lon=%{customdata[1]}<br>Time=%{customdata[2]}<br>Date=%{customdata[3]}<extra></extra>",
         "hovertext": {
          "dtype": "f8",
          "bdata": "AAAAAAAgakAAAAAAACBqQAAAAAAAIGpAAAAAAAAgakAAAAAAACBqQAAAAAAAIGpAAAAAAAAgakAAAAAAACBqQAAAAAAAIGpAAAAAAAAgakAAAAAAACBqQAAAAAAAIGpAAAAAAAAgakAAAAAAACBqQAAAAAAAIGpA"
         },
         "lat": {
          "dtype": "f8",
          "bdata": "MzMzMzPzQUAAAAAAAABCQD0K16Nw/UFApHA9CtdDQkC4HoXrUXhCQB+F61G4XkJApHA9CtfjQUCkcD0K10NCQMP1KFyPQkJAXI/C9SjcQUDXo3A9CtdBQI/C9ShcL0JAZmZmZmZGQkAzMzMzM9NBQHE9CtejMEJA"
         },
         "legendgroup": "209",
         "lon": {
          "dtype": "f8",
          "bdata": "exSuR+F6EECF61G4HoUPQJqZmZmZmRBAZmZmZmZm+j89CtejcD0VQLgehetRuBRAuB6F61G4zj+4HoXrUbgIQI/C9ShcjwhA16NwPQrXFkC4HoXrUbgWQBSuR+F6FAxA9ihcj8L1GkAzMzMzMzMXQGZmZmZmZgRA"
         },
         "marker": {
          "color": "#1CBE4F"
         },
         "mode": "markers",
         "name": "209",
         "showlegend": true,
         "subplot": "map",
         "type": "scattermap"
        },
        {
         "customdata": [
          [
           -0.76,
           -16.02,
           "11:36:56.6",
           "2010/07/31"
          ],
          [
           -1.34,
           -14.65,
           "01:29:39.3",
           "2011/08/14"
          ],
          [
           -0.96,
           -13.6,
           "14:49:51.0",
           "2012/05/09"
          ]
         ],
         "hovertemplate": "<b>%{hovertext}</b><br><br>Cluster=69<br>Lat=%{customdata[0]}<br>Lon=%{customdata[1]}<br>Time=%{customdata[2]}<br>Date=%{customdata[3]}<extra></extra>",
         "hovertext": {
          "dtype": "f8",
          "bdata": "AAAAAABAUUAAAAAAAEBRQAAAAAAAQFFA"
         },
         "lat": {
          "dtype": "f8",
          "bdata": "UrgehetR6L9xPQrXo3D1v7gehetRuO6/"
         },
         "legendgroup": "69",
         "lon": {
          "dtype": "f8",
          "bdata": "hetRuB4FMMDNzMzMzEwtwDMzMzMzMyvA"
         },
         "marker": {
          "color": "#C4451C"
         },
         "mode": "markers",
         "name": "69",
         "showlegend": true,
         "subplot": "map",
         "type": "scattermap"
        },
        {
         "customdata": [
          [
           -10.32,
           42.78,
           "10:03:30.5",
           "2010/10/14"
          ],
          [
           -12.62,
           44.9,
           "13:25:04.2",
           "2011/09/09"
          ],
          [
           -10.92,
           43.29,
           "02:39:55.7",
           "2012/03/13"
          ]
         ],
         "hovertemplate": "<b>%{hovertext}</b><br><br>Cluster=171<br>Lat=%{customdata[0]}<br>Lon=%{customdata[1]}<br>Time=%{customdata[2]}<br>Date=%{customdata[3]}<extra></extra>",
         "hovertext": {
          "dtype": "f8",
          "bdata": "AAAAAABgZUAAAAAAAGBlQAAAAAAAYGVA"
         },
         "lat": {
          "dtype": "f8",
          "bdata": "pHA9CtejJMA9CtejcD0pwNejcD0K1yXA"
         },
         "legendgroup": "171",
         "lon": {
          "dtype": "f8",
          "bdata": "pHA9CtdjRUAzMzMzM3NGQIXrUbgepUVA"
         },
         "marker": {
          "color": "#DEA0FD"
         },
         "mode": "markers",
         "name": "171",
         "showlegend": true,
         "subplot": "map",
         "type": "scattermap"
        },
        {
         "customdata": [
          [
           4.73,
           36.12,
           "11:08:21.8",
           "2010/10/23"
          ],
          [
           7.52,
           37.84,
           "12:14:24.5",
           "2010/12/19"
          ],
          [
           6.66,
           38.52,
           "20:08:10.4",
           "2011/03/19"
          ],
          [
           4.6,
           36.71,
           "02:14:42.3",
           "2011/12/03"
          ],
          [
           3.68,
           36.09,
           "21:03:36.0",
           "2012/01/22"
          ]
         ],
         "hovertemplate": "<b>%{hovertext}</b><br><br>Cluster=163<br>Lat=%{customdata[0]}<br>Lon=%{customdata[1]}<br>Time=%{customdata[2]}<br>Date=%{customdata[3]}<extra></extra>",
         "hovertext": {
          "dtype": "f8",
          "bdata": "AAAAAABgZEAAAAAAAGBkQAAAAAAAYGRAAAAAAABgZEAAAAAAAGBkQA=="
         },
         "lat": {
          "dtype": "f8",
          "bdata": "7FG4HoXrEkAUrkfhehQeQKRwPQrXoxpAZmZmZmZmEkBxPQrXo3ANQA=="
         },
         "legendgroup": "163",
         "lon": {
          "dtype": "f8",
          "bdata": "j8L1KFwPQkDsUbgehetCQMP1KFyPQkNAexSuR+FaQkDsUbgehQtCQA=="
         },
         "marker": {
          "color": "#FE00FA"
         },
         "mode": "markers",
         "name": "163",
         "showlegend": true,
         "subplot": "map",
         "type": "scattermap"
        },
        {
         "customdata": [
          [
           36.58,
           36.01,
           "23:08:25.0",
           "2010/11/14"
          ],
          [
           37.55,
           36.38,
           "09:26:03.0",
           "2012/07/22"
          ],
          [
           37.31,
           37.1,
           "09:17:46.8",
           "2012/09/19"
          ]
         ],
         "hovertemplate": "<b>%{hovertext}</b><br><br>Cluster=279<br>Lat=%{customdata[0]}<br>Lon=%{customdata[1]}<br>Time=%{customdata[2]}<br>Date=%{customdata[3]}<extra></extra>",
         "hovertext": {
          "dtype": "f8",
          "bdata": "AAAAAABwcUAAAAAAAHBxQAAAAAAAcHFA"
         },
         "lat": {
          "dtype": "f8",
          "bdata": "CtejcD1KQkBmZmZmZsZCQEjhehSup0JA"
         },
         "legendgroup": "279",
         "lon": {
          "dtype": "f8",
          "bdata": "4XoUrkcBQkBxPQrXozBCQM3MzMzMjEJA"
         },
         "marker": {
          "color": "#325A9B"
         },
         "mode": "markers",
         "name": "279",
         "showlegend": true,
         "subplot": "map",
         "type": "scattermap"
        },
        {
         "customdata": [
          [
           35.66,
           26.56,
           "13:29:10.7",
           "2011/04/01"
          ],
          [
           39.15,
           29.1,
           "20:15:22.9",
           "2011/05/19"
          ],
          [
           36.42,
           28.88,
           "12:44:16.6",
           "2012/06/10"
          ],
          [
           34.4,
           25.02,
           "16:11:02.5",
           "2013/06/15"
          ],
          [
           34.35,
           25.16,
           "21:39:05.8",
           "2013/06/16"
          ],
          [
           36.04,
           31.31,
           "15:21:04.0",
           "2013/12/28"
          ],
          [
           35.15,
           26.83,
           "18:07:43.0",
           "2015/04/16"
          ]
         ],
         "hovertemplate": "<b>%{hovertext}</b><br><br>Cluster=248<br>Lat=%{customdata[0]}<br>Lon=%{customdata[1]}<br>Time=%{customdata[2]}<br>Date=%{customdata[3]}<extra></extra>",
         "hovertext": {
          "dtype": "f8",
          "bdata": "AAAAAAAAb0AAAAAAAABvQAAAAAAAAG9AAAAAAAAAb0AAAAAAAABvQAAAAAAAAG9AAAAAAAAAb0A="
         },
         "lat": {
          "dtype": "f8",
          "bdata": "FK5H4XrUQUAzMzMzM5NDQPYoXI/CNUJAMzMzMzMzQUDNzMzMzCxBQIXrUbgeBUJAMzMzMzOTQUA="
         },
         "legendgroup": "248",
         "lon": {
          "dtype": "f8",
          "bdata": "j8L1KFyPOkCamZmZmRk9QOF6FK5H4TxAhetRuB4FOUApXI/C9Sg5QI/C9ShcTz9AFK5H4XrUOkA="
         },
         "marker": {
          "color": "#FEAF16"
         },
         "mode": "markers",
         "name": "248",
         "showlegend": true,
         "subplot": "map",
         "type": "scattermap"
        },
        {
         "customdata": [
          [
           -38.34,
           -16.92,
           "13:24:39.1",
           "2011/09/20"
          ],
          [
           -38.34,
           -16.84,
           "00:29:52.6",
           "2011/09/21"
          ],
          [
           -38.42,
           -16.81,
           "22:43:58.4",
           "2011/09/21"
          ]
         ],
         "hovertemplate": "<b>%{hovertext}</b><br><br>Cluster=72<br>Lat=%{customdata[0]}<br>Lon=%{customdata[1]}<br>Time=%{customdata[2]}<br>Date=%{customdata[3]}<extra></extra>",
         "hovertext": {
          "dtype": "f8",
          "bdata": "AAAAAAAAUkAAAAAAAABSQAAAAAAAAFJA"
         },
         "lat": {
          "dtype": "f8",
          "bdata": "7FG4HoUrQ8DsUbgehStDwPYoXI/CNUPA"
         },
         "legendgroup": "72",
         "lon": {
          "dtype": "f8",
          "bdata": "7FG4HoXrMMDXo3A9CtcwwI/C9ShczzDA"
         },
         "marker": {
          "color": "#F8A19F"
         },
         "mode": "markers",
         "name": "72",
         "showlegend": true,
         "subplot": "map",
         "type": "scattermap"
        },
        {
         "customdata": [
          [
           -26.97,
           38.61,
           "14:47:16.8",
           "2011/10/09"
          ],
          [
           -23.61,
           43.59,
           "23:37:01.1",
           "2013/01/25"
          ]
         ],
         "hovertemplate": "<b>%{hovertext}</b><br><br>Cluster=47<br>Lat=%{customdata[0]}<br>Lon=%{customdata[1]}<br>Time=%{customdata[2]}<br>Date=%{customdata[3]}<extra></extra>",
         "hovertext": {
          "dtype": "f8",
          "bdata": "AAAAAACAR0AAAAAAAIBHQA=="
         },
         "lat": {
          "dtype": "f8",
          "bdata": "uB6F61H4OsBcj8L1KJw3wA=="
         },
         "legendgroup": "47",
         "lon": {
          "dtype": "f8",
          "bdata": "rkfhehROQ0DsUbgehctFQA=="
         },
         "marker": {
          "color": "#90AD1C"
         },
         "mode": "markers",
         "name": "47",
         "showlegend": true,
         "subplot": "map",
         "type": "scattermap"
        },
        {
         "customdata": [
          [
           -32.28,
           -13.31,
           "10:40:39.8",
           "2011/10/19"
          ],
          [
           -35.19,
           -14.88,
           "13:14:32.7",
           "2012/04/01"
          ]
         ],
         "hovertemplate": "<b>%{hovertext}</b><br><br>Cluster=114<br>Lat=%{customdata[0]}<br>Lon=%{customdata[1]}<br>Time=%{customdata[2]}<br>Date=%{customdata[3]}<extra></extra>",
         "hovertext": {
          "dtype": "f8",
          "bdata": "AAAAAACAXEAAAAAAAIBcQA=="
         },
         "lat": {
          "dtype": "f8",
          "bdata": "pHA9CtcjQMC4HoXrUZhBwA=="
         },
         "legendgroup": "114",
         "lon": {
          "dtype": "f8",
          "bdata": "H4XrUbieKsDD9Shcj8ItwA=="
         },
         "marker": {
          "color": "#F6222E"
         },
         "mode": "markers",
         "name": "114",
         "showlegend": true,
         "subplot": "map",
         "type": "scattermap"
        },
        {
         "customdata": [
          [
           38.72,
           43.51,
           "10:41:22.9",
           "2011/10/23"
          ],
          [
           34.91,
           45.96,
           "18:18:17.2",
           "2017/11/12"
          ]
         ],
         "hovertemplate": "<b>%{hovertext}</b><br><br>Cluster=9<br>Lat=%{customdata[0]}<br>Lon=%{customdata[1]}<br>Time=%{customdata[2]}<br>Date=%{customdata[3]}<extra></extra>",
         "hovertext": {
          "dtype": "f8",
          "bdata": "AAAAAAAAIkAAAAAAAAAiQA=="
         },
         "lat": {
          "dtype": "f8",
          "bdata": "XI/C9ShcQ0AUrkfhenRBQA=="
         },
         "legendgroup": "9",
         "lon": {
          "dtype": "f8",
          "bdata": "4XoUrkfBRUB7FK5H4fpGQA=="
         },
         "marker": {
          "color": "#1CFFCE"
         },
         "mode": "markers",
         "name": "9",
         "showlegend": true,
         "subplot": "map",
         "type": "scattermap"
        },
        {
         "customdata": [
          [
           32.5,
           46.91,
           "23:18:53.8",
           "2012/02/28"
          ],
          [
           35.04,
           44.1,
           "06:50:37.9",
           "2012/03/05"
          ],
          [
           32.44,
           47.12,
           "20:04:06.7",
           "2012/04/18"
          ],
          [
           32.38,
           46.96,
           "03:52:36.8",
           "2012/04/20"
          ],
          [
           32.52,
           46.85,
           "03:56:25.4",
           "2012/04/20"
          ],
          [
           32.42,
           46.84,
           "16:17:49.0",
           "2012/04/20"
          ]
         ],
         "hovertemplate": "<b>%{hovertext}</b><br><br>Cluster=281<br>Lat=%{customdata[0]}<br>Lon=%{customdata[1]}<br>Time=%{customdata[2]}<br>Date=%{customdata[3]}<extra></extra>",
         "hovertext": {
          "dtype": "f8",
          "bdata": "AAAAAACQcUAAAAAAAJBxQAAAAAAAkHFAAAAAAACQcUAAAAAAAJBxQAAAAAAAkHFA"
         },
         "lat": {
          "dtype": "f8",
          "bdata": "AAAAAABAQECF61G4HoVBQLgehetROEBAcT0K16MwQEDD9Shcj0JAQPYoXI/CNUBA"
         },
         "legendgroup": "281",
         "lon": {
          "dtype": "f8",
          "bdata": "FK5H4Xp0R0DNzMzMzAxGQI/C9Shcj0dAexSuR+F6R0DNzMzMzGxHQOxRuB6Fa0dA"
         },
         "marker": {
          "color": "#2ED9FF"
         },
         "mode": "markers",
         "name": "281",
         "showlegend": true,
         "subplot": "map",
         "type": "scattermap"
        },
        {
         "customdata": [
          [
           -1.26,
           -13.97,
           "05:09:08.4",
           "2012/04/10"
          ],
          [
           -1.37,
           -15.17,
           "18:59:04.9",
           "2013/12/28"
          ],
          [
           -1.17,
           -13.46,
           "15:52:40.8",
           "2014/04/30"
          ]
         ],
         "hovertemplate": "<b>%{hovertext}</b><br><br>Cluster=68<br>Lat=%{customdata[0]}<br>Lon=%{customdata[1]}<br>Time=%{customdata[2]}<br>Date=%{customdata[3]}<extra></extra>",
         "hovertext": {
          "dtype": "f8",
          "bdata": "AAAAAAAAUUAAAAAAAABRQAAAAAAAAFFA"
         },
         "lat": {
          "dtype": "f8",
          "bdata": "KVyPwvUo9L/sUbgehev1v7gehetRuPK/"
         },
         "legendgroup": "68",
         "lon": {
          "dtype": "f8",
          "bdata": "cT0K16PwK8DXo3A9ClcuwOxRuB6F6yrA"
         },
         "marker": {
          "color": "#B10DA1"
         },
         "mode": "markers",
         "name": "68",
         "showlegend": true,
         "subplot": "map",
         "type": "scattermap"
        },
        {
         "customdata": [
          [
           31.7,
           50.96,
           "06:50:06.0",
           "2012/07/24"
          ],
          [
           29.57,
           50.9,
           "09:46:28.3",
           "2014/05/21"
          ]
         ],
         "hovertemplate": "<b>%{hovertext}</b><br><br>Cluster=276<br>Lat=%{customdata[0]}<br>Lon=%{customdata[1]}<br>Time=%{customdata[2]}<br>Date=%{customdata[3]}<extra></extra>",
         "hovertext": {
          "dtype": "f8",
          "bdata": "AAAAAABAcUAAAAAAAEBxQA=="
         },
         "lat": {
          "dtype": "f8",
          "bdata": "MzMzMzOzP0BSuB6F65E9QA=="
         },
         "legendgroup": "276",
         "lon": {
          "dtype": "f8",
          "bdata": "exSuR+F6SUAzMzMzM3NJQA=="
         },
         "marker": {
          "color": "#C075A6"
         },
         "mode": "markers",
         "name": "276",
         "showlegend": true,
         "subplot": "map",
         "type": "scattermap"
        },
        {
         "customdata": [
          [
           13.13,
           50.95,
           "06:22:04.4",
           "2012/09/04"
          ],
          [
           13.26,
           50.86,
           "08:58:03.6",
           "2014/03/03"
          ]
         ],
         "hovertemplate": "<b>%{hovertext}</b><br><br>Cluster=150<br>Lat=%{customdata[0]}<br>Lon=%{customdata[1]}<br>Time=%{customdata[2]}<br>Date=%{customdata[3]}<extra></extra>",
         "hovertext": {
          "dtype": "f8",
          "bdata": "AAAAAADAYkAAAAAAAMBiQA=="
         },
         "lat": {
          "dtype": "f8",
          "bdata": "w/UoXI9CKkCF61G4HoUqQA=="
         },
         "legendgroup": "150",
         "lon": {
          "dtype": "f8",
          "bdata": "mpmZmZl5SUCuR+F6FG5JQA=="
         },
         "marker": {
          "color": "#FC1CBF"
         },
         "mode": "markers",
         "name": "150",
         "showlegend": true,
         "subplot": "map",
         "type": "scattermap"
        },
        {
         "customdata": [
          [
           -37.92,
           49.26,
           "19:51:44.1",
           "2012/10/03"
          ],
          [
           -38.92,
           46.35,
           "02:22:22.6",
           "2012/12/01"
          ],
          [
           -37.91,
           49.2,
           "17:07:51.2",
           "2013/08/08"
          ],
          [
           -37.79,
           49.8,
           "13:44:34.6",
           "2014/10/09"
          ],
          [
           -38.68,
           47.8,
           "18:12:52.2",
           "2016/03/16"
          ]
         ],
         "hovertemplate": "<b>%{hovertext}</b><br><br>Cluster=13<br>Lat=%{customdata[0]}<br>Lon=%{customdata[1]}<br>Time=%{customdata[2]}<br>Date=%{customdata[3]}<extra></extra>",
         "hovertext": {
          "dtype": "f8",
          "bdata": "AAAAAAAAKkAAAAAAAAAqQAAAAAAAACpAAAAAAAAAKkAAAAAAAAAqQA=="
         },
         "lat": {
          "dtype": "f8",
          "bdata": "9ihcj8L1QsD2KFyPwnVDwBSuR+F69ELAhetRuB7lQsDXo3A9CldDwA=="
         },
         "legendgroup": "13",
         "lon": {
          "dtype": "f8",
          "bdata": "4XoUrkehSEDNzMzMzCxHQJqZmZmZmUhAZmZmZmbmSEBmZmZmZuZHQA=="
         },
         "marker": {
          "color": "#B00068"
         },
         "mode": "markers",
         "name": "13",
         "showlegend": true,
         "subplot": "map",
         "type": "scattermap"
        },
        {
         "customdata": [
          [
           -3.91,
           28.26,
           "14:35:31.5",
           "2012/12/24"
          ],
          [
           -4.92,
           29.43,
           "03:20:49.3",
           "2014/11/11"
          ],
          [
           -2.65,
           29.06,
           "16:11:56.6",
           "2016/09/23"
          ],
          [
           -2.69,
           28.66,
           "17:20:26.4",
           "2017/12/02"
          ]
         ],
         "hovertemplate": "<b>%{hovertext}</b><br><br>Cluster=170<br>Lat=%{customdata[0]}<br>Lon=%{customdata[1]}<br>Time=%{customdata[2]}<br>Date=%{customdata[3]}<extra></extra>",
         "hovertext": {
          "dtype": "f8",
          "bdata": "AAAAAABAZUAAAAAAAEBlQAAAAAAAQGVAAAAAAABAZUA="
         },
         "lat": {
          "dtype": "f8",
          "bdata": "SOF6FK5HD8CuR+F6FK4TwDMzMzMzMwXAhetRuB6FBcA="
         },
         "legendgroup": "170",
         "lon": {
          "dtype": "f8",
          "bdata": "w/UoXI9CPECuR+F6FG49QI/C9ShcDz1AKVyPwvWoPEA="
         },
         "marker": {
          "color": "#FBE426"
         },
         "mode": "markers",
         "name": "170",
         "showlegend": true,
         "subplot": "map",
         "type": "scattermap"
        },
        {
         "customdata": [
          [
           13.31,
           49.62,
           "08:20:37.6",
           "2013/05/05"
          ],
          [
           13.34,
           50.52,
           "20:26:52.0",
           "2013/07/11"
          ]
         ],
         "hovertemplate": "<b>%{hovertext}</b><br><br>Cluster=203<br>Lat=%{customdata[0]}<br>Lon=%{customdata[1]}<br>Time=%{customdata[2]}<br>Date=%{customdata[3]}<extra></extra>",
         "hovertext": {
          "dtype": "f8",
          "bdata": "AAAAAABgaUAAAAAAAGBpQA=="
         },
         "lat": {
          "dtype": "f8",
          "bdata": "H4XrUbieKkCuR+F6FK4qQA=="
         },
         "legendgroup": "203",
         "lon": {
          "dtype": "f8",
          "bdata": "j8L1KFzPSEDD9Shcj0JJQA=="
         },
         "marker": {
          "color": "#FA0087"
         },
         "mode": "markers",
         "name": "203",
         "showlegend": true,
         "subplot": "map",
         "type": "scattermap"
        },
        {
         "customdata": [
          [
           36.7,
           5.26,
           "09:07:26.5",
           "2013/05/19"
          ],
          [
           36.86,
           3.18,
           "04:11:16.5",
           "2014/08/01"
          ],
          [
           36.43,
           3.52,
           "23:54:53.4",
           "2016/05/28"
          ]
         ],
         "hovertemplate": "<b>%{hovertext}</b><br><br>Cluster=208<br>Lat=%{customdata[0]}<br>Lon=%{customdata[1]}<br>Time=%{customdata[2]}<br>Date=%{customdata[3]}<extra></extra>",
         "hovertext": {
          "dtype": "f8",
          "bdata": "AAAAAAAAakAAAAAAAABqQAAAAAAAAGpA"
         },
         "lat": {
          "dtype": "f8",
          "bdata": "mpmZmZlZQkCuR+F6FG5CQNejcD0KN0JA"
         },
         "legendgroup": "208",
         "lon": {
          "dtype": "f8",
          "bdata": "CtejcD0KFUBxPQrXo3AJQClcj8L1KAxA"
         },
         "marker": {
          "color": "#AA0DFE"
         },
         "mode": "markers",
         "name": "208",
         "showlegend": true,
         "subplot": "map",
         "type": "scattermap"
        },
        {
         "customdata": [
          [
           -4.88,
           -11.89,
           "08:55:30.0",
           "2013/06/06"
          ],
          [
           -7.72,
           -13.54,
           "23:46:09.3",
           "2013/08/09"
          ]
         ],
         "hovertemplate": "<b>%{hovertext}</b><br><br>Cluster=180<br>Lat=%{customdata[0]}<br>Lon=%{customdata[1]}<br>Time=%{customdata[2]}<br>Date=%{customdata[3]}<extra></extra>",
         "hovertext": {
          "dtype": "f8",
          "bdata": "AAAAAACAZkAAAAAAAIBmQA=="
         },
         "lat": {
          "dtype": "f8",
          "bdata": "hetRuB6FE8DhehSuR+EewA=="
         },
         "legendgroup": "180",
         "lon": {
          "dtype": "f8",
          "bdata": "SOF6FK7HJ8AUrkfhehQrwA=="
         },
         "marker": {
          "color": "#3283FE"
         },
         "mode": "markers",
         "name": "180",
         "showlegend": true,
         "subplot": "map",
         "type": "scattermap"
        },
        {
         "customdata": [
          [
           1.61,
           30.91,
           "13:33:17.4",
           "2013/07/02"
          ],
          [
           1.55,
           30.82,
           "22:22:18.5",
           "2013/07/03"
          ]
         ],
         "hovertemplate": "<b>%{hovertext}</b><br><br>Cluster=187<br>Lat=%{customdata[0]}<br>Lon=%{customdata[1]}<br>Time=%{customdata[2]}<br>Date=%{customdata[3]}<extra></extra>",
         "hovertext": {
          "dtype": "f8",
          "bdata": "AAAAAABgZ0AAAAAAAGBnQA=="
         },
         "lat": {
          "dtype": "f8",
          "bdata": "w/UoXI/C+T/NzMzMzMz4Pw=="
         },
         "legendgroup": "187",
         "lon": {
          "dtype": "f8",
          "bdata": "KVyPwvXoPkBSuB6F69E+QA=="
         },
         "marker": {
          "color": "#85660D"
         },
         "mode": "markers",
         "name": "187",
         "showlegend": true,
         "subplot": "map",
         "type": "scattermap"
        },
        {
         "customdata": [
          [
           1.54,
           30.89,
           "19:21:46.0",
           "2013/07/03"
          ],
          [
           -2.15,
           28.89,
           "01:25:02.5",
           "2015/08/07"
          ],
          [
           -1.04,
           31.62,
           "12:27:33.4",
           "2016/09/10"
          ]
         ],
         "hovertemplate": "<b>%{hovertext}</b><br><br>Cluster=147<br>Lat=%{customdata[0]}<br>Lon=%{customdata[1]}<br>Time=%{customdata[2]}<br>Date=%{customdata[3]}<extra></extra>",
         "hovertext": {
          "dtype": "f8",
          "bdata": "AAAAAABgYkAAAAAAAGBiQAAAAAAAYGJA"
         },
         "lat": {
          "dtype": "f8",
          "bdata": "pHA9Ctej+D8zMzMzMzMBwKRwPQrXo/C/"
         },
         "legendgroup": "147",
         "lon": {
          "dtype": "f8",
          "bdata": "pHA9CtfjPkCkcD0K1+M8QB+F61G4nj9A"
         },
         "marker": {
          "color": "#782AB6"
         },
         "mode": "markers",
         "name": "147",
         "showlegend": true,
         "subplot": "map",
         "type": "scattermap"
        },
        {
         "customdata": [
          [
           -1.3,
           -15.99,
           "22:15:10.2",
           "2013/07/22"
          ],
          [
           -1.25,
           -15.98,
           "22:19:05.3",
           "2013/07/22"
          ],
          [
           -1.25,
           -15.78,
           "22:51:03.1",
           "2013/07/22"
          ]
         ],
         "hovertemplate": "<b>%{hovertext}</b><br><br>Cluster=156<br>Lat=%{customdata[0]}<br>Lon=%{customdata[1]}<br>Time=%{customdata[2]}<br>Date=%{customdata[3]}<extra></extra>",
         "hovertext": {
          "dtype": "f8",
          "bdata": "AAAAAACAY0AAAAAAAIBjQAAAAAAAgGNA"
         },
         "lat": {
          "dtype": "f8",
          "bdata": "zczMzMzM9L8AAAAAAAD0vwAAAAAAAPS/"
         },
         "legendgroup": "156",
         "lon": {
          "dtype": "f8",
          "bdata": "exSuR+H6L8D2KFyPwvUvwI/C9Shcjy/A"
         },
         "marker": {
          "color": "#565656"
         },
         "mode": "markers",
         "name": "156",
         "showlegend": true,
         "subplot": "map",
         "type": "scattermap"
        },
        {
         "customdata": [
          [
           35.51,
           23.25,
           "13:11:53.3",
           "2013/10/12"
          ],
          [
           38.67,
           20.6,
           "07:10:07.3",
           "2015/11/17"
          ]
         ],
         "hovertemplate": "<b>%{hovertext}</b><br><br>Cluster=83<br>Lat=%{customdata[0]}<br>Lon=%{customdata[1]}<br>Time=%{customdata[2]}<br>Date=%{customdata[3]}<extra></extra>",
         "hovertext": {
          "dtype": "f8",
          "bdata": "AAAAAADAVEAAAAAAAMBUQA=="
         },
         "lat": {
          "dtype": "f8",
          "bdata": "4XoUrkfBQUD2KFyPwlVDQA=="
         },
         "legendgroup": "83",
         "lon": {
          "dtype": "f8",
          "bdata": "AAAAAABAN0CamZmZmZk0QA=="
         },
         "marker": {
          "color": "#1C8356"
         },
         "mode": "markers",
         "name": "83",
         "showlegend": true,
         "subplot": "map",
         "type": "scattermap"
        },
        {
         "customdata": [
          [
           34.46,
           45.49,
           "06:51:25.1",
           "2013/11/22"
          ],
          [
           34.31,
           45.61,
           "18:30:58.0",
           "2013/11/22"
          ],
          [
           32.72,
           47.69,
           "05:25:51.0",
           "2014/08/18"
          ],
          [
           32.64,
           47.74,
           "10:14:15.7",
           "2014/08/20"
          ],
          [
           32.53,
           47.81,
           "13:35:52.8",
           "2014/10/15"
          ]
         ],
         "hovertemplate": "<b>%{hovertext}</b><br><br>Cluster=278<br>Lat=%{customdata[0]}<br>Lon=%{customdata[1]}<br>Time=%{customdata[2]}<br>Date=%{customdata[3]}<extra></extra>",
         "hovertext": {
          "dtype": "f8",
          "bdata": "AAAAAABgcUAAAAAAAGBxQAAAAAAAYHFAAAAAAABgcUAAAAAAAGBxQA=="
         },
         "lat": {
          "dtype": "f8",
          "bdata": "exSuR+E6QUBI4XoUridBQFyPwvUoXEBAUrgehetRQECkcD0K10NAQA=="
         },
         "legendgroup": "278",
         "lon": {
          "dtype": "f8",
          "bdata": "H4XrUbi+RkCuR+F6FM5GQLgehetR2EdAH4XrUbjeR0BI4XoUrudHQA=="
         },
         "marker": {
          "color": "#16FF32"
         },
         "mode": "markers",
         "name": "278",
         "showlegend": true,
         "subplot": "map",
         "type": "scattermap"
        },
        {
         "customdata": [
          [
           34.18,
           45.62,
           "18:05:41.7",
           "2013/11/24"
          ],
          [
           32.78,
           47.68,
           "11:51:35.0",
           "2014/08/18"
          ],
          [
           32.74,
           47.53,
           "21:32:16.4",
           "2014/08/19"
          ]
         ],
         "hovertemplate": "<b>%{hovertext}</b><br><br>Cluster=277<br>Lat=%{customdata[0]}<br>Lon=%{customdata[1]}<br>Time=%{customdata[2]}<br>Date=%{customdata[3]}<extra></extra>",
         "hovertext": {
          "dtype": "f8",
          "bdata": "AAAAAABQcUAAAAAAAFBxQAAAAAAAUHFA"
         },
         "lat": {
          "dtype": "f8",
          "bdata": "16NwPQoXQUCkcD0K12NAQB+F61G4XkBA"
         },
         "legendgroup": "277",
         "lon": {
          "dtype": "f8",
          "bdata": "j8L1KFzPRkDXo3A9CtdHQKRwPQrXw0dA"
         },
         "marker": {
          "color": "#F7E1A0"
         },
         "mode": "markers",
         "name": "277",
         "showlegend": true,
         "subplot": "map",
         "type": "scattermap"
        },
        {
         "customdata": [
          [
           38.21,
           20.45,
           "13:55:42.2",
           "2014/01/26"
          ],
          [
           38.26,
           20.39,
           "03:08:46.2",
           "2014/02/03"
          ]
         ],
         "hovertemplate": "<b>%{hovertext}</b><br><br>Cluster=235<br>Lat=%{customdata[0]}<br>Lon=%{customdata[1]}<br>Time=%{customdata[2]}<br>Date=%{customdata[3]}<extra></extra>",
         "hovertext": {
          "dtype": "f8",
          "bdata": "AAAAAABgbUAAAAAAAGBtQA=="
         },
         "lat": {
          "dtype": "f8",
          "bdata": "exSuR+EaQ0DhehSuRyFDQA=="
         },
         "legendgroup": "235",
         "lon": {
          "dtype": "f8",
          "bdata": "MzMzMzNzNECkcD0K12M0QA=="
         },
         "marker": {
          "color": "#E2E2E2"
         },
         "mode": "markers",
         "name": "235",
         "showlegend": true,
         "subplot": "map",
         "type": "scattermap"
        },
        {
         "customdata": [
          [
           36.74,
           36.08,
           "00:33:40.5",
           "2014/02/14"
          ],
          [
           36.74,
           36.05,
           "03:38:34.9",
           "2014/06/09"
          ]
         ],
         "hovertemplate": "<b>%{hovertext}</b><br><br>Cluster=247<br>Lat=%{customdata[0]}<br>Lon=%{customdata[1]}<br>Time=%{customdata[2]}<br>Date=%{customdata[3]}<extra></extra>",
         "hovertext": {
          "dtype": "f8",
          "bdata": "AAAAAADgbkAAAAAAAOBuQA=="
         },
         "lat": {
          "dtype": "f8",
          "bdata": "H4XrUbheQkAfhetRuF5CQA=="
         },
         "legendgroup": "247",
         "lon": {
          "dtype": "f8",
          "bdata": "CtejcD0KQkBmZmZmZgZCQA=="
         },
         "marker": {
          "color": "#1CBE4F"
         },
         "mode": "markers",
         "name": "247",
         "showlegend": true,
         "subplot": "map",
         "type": "scattermap"
        },
        {
         "customdata": [
          [
           17.75,
           40.14,
           "21:53:58.9",
           "2014/07/10"
          ],
          [
           16.92,
           38.93,
           "02:22:55.3",
           "2015/06/09"
          ],
          [
           17.46,
           40.5,
           "01:21:25.2",
           "2015/06/25"
          ],
          [
           17.9,
           40.34,
           "00:05:02.8",
           "2016/03/06"
          ],
          [
           17.53,
           40.28,
           "21:02:42.3",
           "2016/03/06"
          ],
          [
           17.72,
           40.34,
           "22:43:25.0",
           "2016/03/07"
          ]
         ],
         "hovertemplate": "<b>%{hovertext}</b><br><br>Cluster=138<br>Lat=%{customdata[0]}<br>Lon=%{customdata[1]}<br>Time=%{customdata[2]}<br>Date=%{customdata[3]}<extra></extra>",
         "hovertext": {
          "dtype": "f8",
          "bdata": "AAAAAABAYUAAAAAAAEBhQAAAAAAAQGFAAAAAAABAYUAAAAAAAEBhQAAAAAAAQGFA"
         },
         "lat": {
          "dtype": "f8",
          "bdata": "AAAAAADAMUDsUbgeheswQPYoXI/CdTFAZmZmZmbmMUBI4XoUrocxQLgehetRuDFA"
         },
         "legendgroup": "138",
         "lon": {
          "dtype": "f8",
          "bdata": "UrgehesRREDXo3A9CndDQAAAAAAAQERA7FG4HoUrRECkcD0K1yNEQOxRuB6FK0RA"
         },
         "marker": {
          "color": "#C4451C"
         },
         "mode": "markers",
         "name": "138",
         "showlegend": true,
         "subplot": "map",
         "type": "scattermap"
        },
        {
         "customdata": [
          [
           32.7,
           47.69,
           "02:32:05.3",
           "2014/08/18"
          ],
          [
           32.58,
           47.7,
           "18:08:22.8",
           "2014/08/18"
          ]
         ],
         "hovertemplate": "<b>%{hovertext}</b><br><br>Cluster=239<br>Lat=%{customdata[0]}<br>Lon=%{customdata[1]}<br>Time=%{customdata[2]}<br>Date=%{customdata[3]}<extra></extra>",
         "hovertext": {
          "dtype": "f8",
          "bdata": "AAAAAADgbUAAAAAAAOBtQA=="
         },
         "lat": {
          "dtype": "f8",
          "bdata": "mpmZmZlZQEAK16NwPUpAQA=="
         },
         "legendgroup": "239",
         "lon": {
          "dtype": "f8",
          "bdata": "uB6F61HYR0CamZmZmdlHQA=="
         },
         "marker": {
          "color": "#DEA0FD"
         },
         "mode": "markers",
         "name": "239",
         "showlegend": true,
         "subplot": "map",
         "type": "scattermap"
        },
        {
         "customdata": [
          [
           32.67,
           47.72,
           "11:01:40.3",
           "2014/08/18"
          ],
          [
           32.7,
           47.57,
           "18:54:57.8",
           "2014/08/18"
          ]
         ],
         "hovertemplate": "<b>%{hovertext}</b><br><br>Cluster=274<br>Lat=%{customdata[0]}<br>Lon=%{customdata[1]}<br>Time=%{customdata[2]}<br>Date=%{customdata[3]}<extra></extra>",
         "hovertext": {
          "dtype": "f8",
          "bdata": "AAAAAAAgcUAAAAAAACBxQA=="
         },
         "lat": {
          "dtype": "f8",
          "bdata": "9ihcj8JVQECamZmZmVlAQA=="
         },
         "legendgroup": "274",
         "lon": {
          "dtype": "f8",
          "bdata": "XI/C9SjcR0ApXI/C9chHQA=="
         },
         "marker": {
          "color": "#FE00FA"
         },
         "mode": "markers",
         "name": "274",
         "showlegend": true,
         "subplot": "map",
         "type": "scattermap"
        },
        {
         "customdata": [
          [
           -5.37,
           35.88,
           "16:50:01.7",
           "2014/10/31"
          ],
          [
           -7.14,
           39.82,
           "23:43:27.1",
           "2015/09/08"
          ],
          [
           -4.4,
           35.97,
           "10:56:17.4",
           "2016/03/22"
          ]
         ],
         "hovertemplate": "<b>%{hovertext}</b><br><br>Cluster=141<br>Lat=%{customdata[0]}<br>Lon=%{customdata[1]}<br>Time=%{customdata[2]}<br>Date=%{customdata[3]}<extra></extra>",
         "hovertext": {
          "dtype": "f8",
          "bdata": "AAAAAACgYUAAAAAAAKBhQAAAAAAAoGFA"
         },
         "lat": {
          "dtype": "f8",
          "bdata": "exSuR+F6FcCPwvUoXI8cwJqZmZmZmRHA"
         },
         "legendgroup": "141",
         "lon": {
          "dtype": "f8",
          "bdata": "cT0K16PwQUApXI/C9ehDQFyPwvUo/EFA"
         },
         "marker": {
          "color": "#325A9B"
         },
         "mode": "markers",
         "name": "141",
         "showlegend": true,
         "subplot": "map",
         "type": "scattermap"
        },
        {
         "customdata": [
          [
           -5.42,
           35.9,
           "17:04:58.2",
           "2014/10/31"
          ],
          [
           -10.03,
           33.86,
           "19:47:36.0",
           "2014/12/31"
          ],
          [
           -5.51,
           35.97,
           "03:01:14.3",
           "2016/07/13"
          ]
         ],
         "hovertemplate": "<b>%{hovertext}</b><br><br>Cluster=149<br>Lat=%{customdata[0]}<br>Lon=%{customdata[1]}<br>Time=%{customdata[2]}<br>Date=%{customdata[3]}<extra></extra>",
         "hovertext": {
          "dtype": "f8",
          "bdata": "AAAAAACgYkAAAAAAAKBiQAAAAAAAoGJA"
         },
         "lat": {
          "dtype": "f8",
          "bdata": "rkfhehSuFcCPwvUoXA8kwArXo3A9ChbA"
         },
         "legendgroup": "149",
         "lon": {
          "dtype": "f8",
          "bdata": "MzMzMzPzQUCuR+F6FO5AQFyPwvUo/EFA"
         },
         "marker": {
          "color": "#FEAF16"
         },
         "mode": "markers",
         "name": "149",
         "showlegend": true,
         "subplot": "map",
         "type": "scattermap"
        },
        {
         "customdata": [
          [
           -10.97,
           29.74,
           "18:25:41.0",
           "2014/11/02"
          ],
          [
           -9.69,
           28.64,
           "22:15:47.8",
           "2015/08/19"
          ]
         ],
         "hovertemplate": "<b>%{hovertext}</b><br><br>Cluster=155<br>Lat=%{customdata[0]}<br>Lon=%{customdata[1]}<br>Time=%{customdata[2]}<br>Date=%{customdata[3]}<extra></extra>",
         "hovertext": {
          "dtype": "f8",
          "bdata": "AAAAAABgY0AAAAAAAGBjQA=="
         },
         "lat": {
          "dtype": "f8",
          "bdata": "cT0K16PwJcDhehSuR2EjwA=="
         },
         "legendgroup": "155",
         "lon": {
          "dtype": "f8",
          "bdata": "PQrXo3C9PUCkcD0K16M8QA=="
         },
         "marker": {
          "color": "#F8A19F"
         },
         "mode": "markers",
         "name": "155",
         "showlegend": true,
         "subplot": "map",
         "type": "scattermap"
        },
        {
         "customdata": [
          [
           -7.71,
           -13.47,
           "02:20:37.7",
           "2015/02/18"
          ],
          [
           -7.46,
           -13.6,
           "09:26:53.1",
           "2016/06/10"
          ],
          [
           -5.65,
           -11.57,
           "23:13:44.6",
           "2016/06/19"
          ],
          [
           -5.78,
           -12.54,
           "23:09:09.6",
           "2018/01/23"
          ]
         ],
         "hovertemplate": "<b>%{hovertext}</b><br><br>Cluster=173<br>Lat=%{customdata[0]}<br>Lon=%{customdata[1]}<br>Time=%{customdata[2]}<br>Date=%{customdata[3]}<extra></extra>",
         "hovertext": {
          "dtype": "f8",
          "bdata": "AAAAAACgZUAAAAAAAKBlQAAAAAAAoGVAAAAAAACgZUA="
         },
         "lat": {
          "dtype": "f8",
          "bdata": "16NwPQrXHsDXo3A9CtcdwJqZmZmZmRbAH4XrUbgeF8A="
         },
         "legendgroup": "173",
         "lon": {
          "dtype": "f8",
          "bdata": "cT0K16PwKsAzMzMzMzMrwKRwPQrXIyfAFK5H4XoUKcA="
         },
         "marker": {
          "color": "#90AD1C"
         },
         "mode": "markers",
         "name": "173",
         "showlegend": true,
         "subplot": "map",
         "type": "scattermap"
        },
        {
         "customdata": [
          [
           11.79,
           44.06,
           "11:04:29.4",
           "2015/04/14"
          ],
          [
           11.69,
           43.16,
           "06:48:28.5",
           "2015/05/30"
          ],
          [
           11.94,
           46.37,
           "11:14:04.2",
           "2015/07/13"
          ],
          [
           11.92,
           46.32,
           "11:30:51.4",
           "2015/07/13"
          ],
          [
           12.09,
           46.21,
           "16:52:28.1",
           "2015/07/13"
          ],
          [
           11.87,
           46.26,
           "23:44:44.5",
           "2015/07/13"
          ],
          [
           11.57,
           43.31,
           "05:31:26.2",
           "2015/09/29"
          ],
          [
           13.12,
           50.85,
           "12:21:41.2",
           "2016/04/21"
          ],
          [
           14.09,
           45.33,
           "17:43:28.7",
           "2016/05/24"
          ],
          [
           12.6,
           48.0,
           "19:05:22.7",
           "2016/09/04"
          ],
          [
           13.2,
           50.38,
           "17:00:13.6",
           "2016/09/12"
          ],
          [
           11.79,
           43.38,
           "05:53:17.8",
           "2017/04/14"
          ],
          [
           11.82,
           43.26,
           "10:44:55.1",
           "2017/04/14"
          ],
          [
           13.24,
           50.8,
           "03:54:41.1",
           "2017/07/28"
          ],
          [
           12.05,
           46.12,
           "03:50:22.0",
           "2017/09/07"
          ],
          [
           13.26,
           50.92,
           "06:27:49.7",
           "2017/10/28"
          ],
          [
           13.35,
           50.8,
           "01:09:30.1",
           "2018/06/30"
          ],
          [
           13.27,
           50.87,
           "17:43:27.7",
           "2018/06/30"
          ],
          [
           12.6,
           48.25,
           "23:37:11.8",
           "2019/03/27"
          ],
          [
           11.9,
           46.03,
           "11:23:38.5",
           "2019/05/17"
          ],
          [
           13.1,
           50.5,
           "19:15:57.7",
           "2019/07/14"
          ],
          [
           13.19,
           50.52,
           "11:09:28.6",
           "2019/07/15"
          ],
          [
           12.6,
           48.37,
           "21:48:44.3",
           "2019/07/30"
          ],
          [
           13.1,
           50.33,
           "06:24:31.7",
           "2019/08/15"
          ],
          [
           12.71,
           47.66,
           "15:12:00.5",
           "2020/06/07"
          ],
          [
           13.19,
           50.33,
           "06:48:49.4",
           "2020/11/27"
          ]
         ],
         "hovertemplate": "<b>%{hovertext}</b><br><br>Cluster=213<br>Lat=%{customdata[0]}<br>Lon=%{customdata[1]}<br>Time=%{customdata[2]}<br>Date=%{customdata[3]}<extra></extra>",
         "hovertext": {
          "dtype": "f8",
          "bdata": "AAAAAACgakAAAAAAAKBqQAAAAAAAoGpAAAAAAACgakAAAAAAAKBqQAAAAAAAoGpAAAAAAACgakAAAAAAAKBqQAAAAAAAoGpAAAAAAACgakAAAAAAAKBqQAAAAAAAoGpAAAAAAACgakAAAAAAAKBqQAAAAAAAoGpAAAAAAACgakAAAAAAAKBqQAAAAAAAoGpAAAAAAACgakAAAAAAAKBqQAAAAAAAoGpAAAAAAACgakAAAAAAAKBqQAAAAAAAoGpAAAAAAACgakAAAAAAAKBqQA=="
         },
         "lat": {
          "dtype": "f8",
          "bdata": "FK5H4XqUJ0DhehSuR2EnQOF6FK5H4SdA16NwPQrXJ0CuR+F6FC4oQD0K16NwvSdApHA9CtcjJ0A9CtejcD0qQK5H4XoULixAMzMzMzMzKUBmZmZmZmYqQBSuR+F6lCdApHA9CtejJ0B7FK5H4XoqQJqZmZmZGShAhetRuB6FKkAzMzMzM7MqQArXo3A9iipAMzMzMzMzKUDNzMzMzMwnQDMzMzMzMypA4XoUrkdhKkAzMzMzMzMpQDMzMzMzMypA7FG4HoVrKUDhehSuR2EqQA=="
         },
         "legendgroup": "213",
         "lon": {
          "dtype": "f8",
          "bdata": "SOF6FK4HRkAUrkfhepRFQI/C9ShcL0dAKVyPwvUoR0B7FK5H4RpHQOF6FK5HIUdASOF6FK6nRUDNzMzMzGxJQArXo3A9qkZAAAAAAAAASEBxPQrXozBJQHE9CtejsEVA4XoUrkehRUBmZmZmZmZJQI/C9ShcD0dA9ihcj8J1SUBmZmZmZmZJQI/C9Shcb0lAAAAAAAAgSECkcD0K1wNHQAAAAAAAQElAw/UoXI9CSUCPwvUoXC9IQArXo3A9KklAFK5H4XrUR0AK16NwPSpJQA=="
         },
         "marker": {
          "color": "#F6222E"
         },
         "mode": "markers",
         "name": "213",
         "showlegend": true,
         "subplot": "map",
         "type": "scattermap"
        },
        {
         "customdata": [
          [
           38.69,
           43.18,
           "22:35:20.1",
           "2015/06/23"
          ],
          [
           39.07,
           43.8,
           "09:46:42.2",
           "2015/10/29"
          ]
         ],
         "hovertemplate": "<b>%{hovertext}</b><br><br>Cluster=243<br>Lat=%{customdata[0]}<br>Lon=%{customdata[1]}<br>Time=%{customdata[2]}<br>Date=%{customdata[3]}<extra></extra>",
         "hovertext": {
          "dtype": "f8",
          "bdata": "AAAAAABgbkAAAAAAAGBuQA=="
         },
         "lat": {
          "dtype": "f8",
          "bdata": "uB6F61FYQ0ApXI/C9YhDQA=="
         },
         "legendgroup": "243",
         "lon": {
          "dtype": "f8",
          "bdata": "16NwPQqXRUBmZmZmZuZFQA=="
         },
         "marker": {
          "color": "#1CFFCE"
         },
         "mode": "markers",
         "name": "243",
         "showlegend": true,
         "subplot": "map",
         "type": "scattermap"
        },
        {
         "customdata": [
          [
           36.56,
           34.98,
           "22:00:55.8",
           "2015/07/29"
          ],
          [
           38.82,
           37.74,
           "00:28:11.9",
           "2015/11/29"
          ],
          [
           39.56,
           34.34,
           "17:40:49.5",
           "2016/01/10"
          ]
         ],
         "hovertemplate": "<b>%{hovertext}</b><br><br>Cluster=297<br>Lat=%{customdata[0]}<br>Lon=%{customdata[1]}<br>Time=%{customdata[2]}<br>Date=%{customdata[3]}<extra></extra>",
         "hovertext": {
          "dtype": "f8",
          "bdata": "AAAAAACQckAAAAAAAJByQAAAAAAAkHJA"
         },
         "lat": {
          "dtype": "f8",
          "bdata": "SOF6FK5HQkApXI/C9WhDQEjhehSux0NA"
         },
         "legendgroup": "297",
         "lon": {
          "dtype": "f8",
          "bdata": "PQrXo3B9QUAfhetRuN5CQOxRuB6FK0FA"
         },
         "marker": {
          "color": "#2ED9FF"
         },
         "mode": "markers",
         "name": "297",
         "showlegend": true,
         "subplot": "map",
         "type": "scattermap"
        },
        {
         "customdata": [
          [
           39.28,
           40.26,
           "23:27:09.9",
           "2015/12/02"
          ],
          [
           37.62,
           38.43,
           "11:07:26.9",
           "2017/03/02"
          ]
         ],
         "hovertemplate": "<b>%{hovertext}</b><br><br>Cluster=191<br>Lat=%{customdata[0]}<br>Lon=%{customdata[1]}<br>Time=%{customdata[2]}<br>Date=%{customdata[3]}<extra></extra>",
         "hovertext": {
          "dtype": "f8",
          "bdata": "AAAAAADgZ0AAAAAAAOBnQA=="
         },
         "lat": {
          "dtype": "f8",
          "bdata": "pHA9CtejQ0CPwvUoXM9CQA=="
         },
         "legendgroup": "191",
         "lon": {
          "dtype": "f8",
          "bdata": "4XoUrkchREDXo3A9CjdDQA=="
         },
         "marker": {
          "color": "#B10DA1"
         },
         "mode": "markers",
         "name": "191",
         "showlegend": true,
         "subplot": "map",
         "type": "scattermap"
        },
        {
         "customdata": [
          [
           -1.34,
           -15.83,
           "11:46:48.3",
           "2015/12/18"
          ],
          [
           -1.51,
           -15.59,
           "01:03:12.3",
           "2016/10/27"
          ]
         ],
         "hovertemplate": "<b>%{hovertext}</b><br><br>Cluster=116<br>Lat=%{customdata[0]}<br>Lon=%{customdata[1]}<br>Time=%{customdata[2]}<br>Date=%{customdata[3]}<extra></extra>",
         "hovertext": {
          "dtype": "f8",
          "bdata": "AAAAAAAAXUAAAAAAAABdQA=="
         },
         "lat": {
          "dtype": "f8",
          "bdata": "cT0K16Nw9b8pXI/C9Sj4vw=="
         },
         "legendgroup": "116",
         "lon": {
          "dtype": "f8",
          "bdata": "KVyPwvWoL8CuR+F6FC4vwA=="
         },
         "marker": {
          "color": "#C075A6"
         },
         "mode": "markers",
         "name": "116",
         "showlegend": true,
         "subplot": "map",
         "type": "scattermap"
        },
        {
         "customdata": [
          [
           35.62,
           -3.65,
           "13:47:19.9",
           "2016/01/21"
          ],
          [
           35.48,
           -3.77,
           "05:54:05.5",
           "2016/01/25"
          ],
          [
           35.51,
           -3.88,
           "06:10:42.0",
           "2016/01/25"
          ],
          [
           35.74,
           -3.59,
           "14:52:42.7",
           "2016/01/25"
          ],
          [
           35.69,
           -3.58,
           "06:32:08.1",
           "2016/01/27"
          ],
          [
           35.74,
           -3.51,
           "03:46:02.5",
           "2016/02/22"
          ],
          [
           35.49,
           -3.79,
           "11:36:26.2",
           "2016/03/03"
          ],
          [
           35.7,
           -3.6,
           "04:16:47.9",
           "2016/03/11"
          ],
          [
           35.62,
           -3.58,
           "15:04:05.4",
           "2016/03/12"
          ],
          [
           35.66,
           -3.59,
           "15:17:12.0",
           "2016/03/12"
          ],
          [
           35.69,
           -3.63,
           "04:40:39.1",
           "2016/03/15"
          ],
          [
           35.25,
           -3.7,
           "16:27:34.4",
           "2016/03/16"
          ],
          [
           35.81,
           -1.69,
           "03:18:19.3",
           "2017/07/11"
          ]
         ],
         "hovertemplate": "<b>%{hovertext}</b><br><br>Cluster=210<br>Lat=%{customdata[0]}<br>Lon=%{customdata[1]}<br>Time=%{customdata[2]}<br>Date=%{customdata[3]}<extra></extra>",
         "hovertext": {
          "dtype": "f8",
          "bdata": "AAAAAABAakAAAAAAAEBqQAAAAAAAQGpAAAAAAABAakAAAAAAAEBqQAAAAAAAQGpAAAAAAABAakAAAAAAAEBqQAAAAAAAQGpAAAAAAABAakAAAAAAAEBqQAAAAAAAQGpAAAAAAABAakA="
         },
         "lat": {
          "dtype": "f8",
          "bdata": "j8L1KFzPQUA9CtejcL1BQOF6FK5HwUFAH4XrUbjeQUC4HoXrUdhBQB+F61G43kFAH4XrUbi+QUCamZmZmdlBQI/C9Shcz0FAFK5H4XrUQUC4HoXrUdhBQAAAAAAAoEFASOF6FK7nQUA="
         },
         "legendgroup": "210",
         "lon": {
          "dtype": "f8",
          "bdata": "MzMzMzMzDcApXI/C9SgOwArXo3A9Cg/AuB6F61G4DMCkcD0K16MMwBSuR+F6FAzAUrgehetRDsDNzMzMzMwMwKRwPQrXowzAuB6F61G4DMAK16NwPQoNwJqZmZmZmQ3ACtejcD0K+78="
         },
         "marker": {
          "color": "#FC1CBF"
         },
         "mode": "markers",
         "name": "210",
         "showlegend": true,
         "subplot": "map",
         "type": "scattermap"
        },
        {
         "customdata": [
          [
           -1.57,
           28.42,
           "12:43:59.7",
           "2016/02/04"
          ],
          [
           -2.72,
           28.81,
           "17:45:46.8",
           "2017/09/15"
          ],
          [
           -2.62,
           28.71,
           "21:48:35.6",
           "2017/11/30"
          ],
          [
           -1.94,
           26.96,
           "18:50:05.8",
           "2019/09/05"
          ],
          [
           -2.78,
           28.47,
           "20:55:27.2",
           "2019/10/30"
          ],
          [
           -3.75,
           29.26,
           "14:13:13.7",
           "2020/08/24"
          ]
         ],
         "hovertemplate": "<b>%{hovertext}</b><br><br>Cluster=169<br>Lat=%{customdata[0]}<br>Lon=%{customdata[1]}<br>Time=%{customdata[2]}<br>Date=%{customdata[3]}<extra></extra>",
         "hovertext": {
          "dtype": "f8",
          "bdata": "AAAAAAAgZUAAAAAAACBlQAAAAAAAIGVAAAAAAAAgZUAAAAAAACBlQAAAAAAAIGVA"
         },
         "lat": {
          "dtype": "f8",
          "bdata": "H4XrUbge+b/D9Shcj8IFwPYoXI/C9QTACtejcD0K/789CtejcD0GwAAAAAAAAA7A"
         },
         "legendgroup": "169",
         "lon": {
          "dtype": "f8",
          "bdata": "7FG4HoVrPECPwvUoXM88QPYoXI/CtTxA9ihcj8L1OkC4HoXrUXg8QMP1KFyPQj1A"
         },
         "marker": {
          "color": "#B00068"
         },
         "mode": "markers",
         "name": "169",
         "showlegend": true,
         "subplot": "map",
         "type": "scattermap"
        },
        {
         "customdata": [
          [
           -1.4,
           -14.92,
           "08:12:32.2",
           "2016/02/15"
          ],
          [
           -1.36,
           -16.24,
           "22:11:48.8",
           "2016/04/03"
          ],
          [
           -0.25,
           -13.86,
           "17:11:15.2",
           "2017/05/27"
          ]
         ],
         "hovertemplate": "<b>%{hovertext}</b><br><br>Cluster=136<br>Lat=%{customdata[0]}<br>Lon=%{customdata[1]}<br>Time=%{customdata[2]}<br>Date=%{customdata[3]}<extra></extra>",
         "hovertext": {
          "dtype": "f8",
          "bdata": "AAAAAAAAYUAAAAAAAABhQAAAAAAAAGFA"
         },
         "lat": {
          "dtype": "f8",
          "bdata": "ZmZmZmZm9r/D9Shcj8L1vwAAAAAAANC/"
         },
         "legendgroup": "136",
         "lon": {
          "dtype": "f8",
          "bdata": "16NwPQrXLcA9CtejcD0wwLgehetRuCvA"
         },
         "marker": {
          "color": "#FBE426"
         },
         "mode": "markers",
         "name": "136",
         "showlegend": true,
         "subplot": "map",
         "type": "scattermap"
        },
        {
         "customdata": [
          [
           31.87,
           50.67,
           "07:15:17.6",
           "2016/03/31"
          ],
          [
           39.95,
           47.98,
           "04:46:34.5",
           "2016/08/01"
          ],
          [
           39.82,
           48.57,
           "03:24:21.4",
           "2017/05/11"
          ],
          [
           31.82,
           50.6,
           "15:37:40.1",
           "2017/07/30"
          ],
          [
           36.18,
           44.94,
           "13:42:53.9",
           "2017/08/23"
          ],
          [
           37.95,
           47.13,
           "23:14:52.8",
           "2017/08/27"
          ],
          [
           32.85,
           46.39,
           "15:23:42.7",
           "2017/11/20"
          ],
          [
           35.08,
           45.76,
           "14:09:57.4",
           "2017/12/11"
          ],
          [
           35.03,
           45.75,
           "14:42:40.9",
           "2017/12/11"
          ],
          [
           34.58,
           45.77,
           "15:22:09.1",
           "2018/01/06"
          ],
          [
           33.71,
           45.72,
           "06:59:30.5",
           "2018/01/11"
          ],
          [
           33.8,
           45.73,
           "07:14:16.0",
           "2018/01/11"
          ],
          [
           33.22,
           46.42,
           "07:21:43.6",
           "2018/01/11"
          ],
          [
           33.71,
           45.79,
           "07:55:00.4",
           "2018/01/11"
          ],
          [
           33.72,
           45.7,
           "08:00:39.9",
           "2018/01/11"
          ],
          [
           33.72,
           45.71,
           "22:17:55.9",
           "2018/01/19"
          ],
          [
           29.62,
           50.74,
           "04:30:47.6",
           "2018/03/19"
          ],
          [
           34.4,
           45.75,
           "08:35:26.4",
           "2018/04/01"
          ],
          [
           38.6,
           44.37,
           "03:50:06.2",
           "2018/06/23"
          ],
          [
           34.65,
           46.14,
           "17:57:04.6",
           "2018/06/26"
          ],
          [
           38.82,
           48.81,
           "12:57:13.9",
           "2018/08/28"
          ],
          [
           34.65,
           46.07,
           "21:05:44.4",
           "2018/08/31"
          ],
          [
           31.92,
           50.56,
           "02:42:49.7",
           "2018/10/02"
          ],
          [
           37.67,
           37.4,
           "15:29:05.2",
           "2018/10/02"
          ],
          [
           34.42,
           45.72,
           "17:09:36.0",
           "2018/11/25"
          ],
          [
           34.39,
           45.75,
           "00:38:36.7",
           "2018/11/26"
          ],
          [
           34.12,
           45.68,
           "13:41:59.1",
           "2019/01/06"
          ],
          [
           32.99,
           47.5,
           "05:42:53.5",
           "2019/02/27"
          ],
          [
           38.69,
           38.07,
           "11:29:26.3",
           "2019/03/25"
          ],
          [
           33.58,
           45.77,
           "10:07:23.9",
           "2019/04/01"
          ],
          [
           33.68,
           45.78,
           "10:16:14.5",
           "2019/04/01"
          ],
          [
           34.96,
           45.73,
           "10:28:59.9",
           "2019/05/11"
          ],
          [
           38.54,
           44.4,
           "00:14:13.6",
           "2019/11/19"
          ],
          [
           31.94,
           49.81,
           "17:20:13.6",
           "2019/11/29"
          ],
          [
           32.54,
           48.9,
           "11:27:29.4",
           "2019/12/22"
          ],
          [
           37.13,
           44.9,
           "18:07:31.1",
           "2020/01/29"
          ],
          [
           38.41,
           44.34,
           "14:14:05.1",
           "2020/02/25"
          ],
          [
           38.85,
           43.52,
           "05:44:26.6",
           "2020/04/03"
          ],
          [
           35.94,
           35.49,
           "18:15:42.6",
           "2020/04/03"
          ],
          [
           38.46,
           44.31,
           "02:23:13.2",
           "2020/04/12"
          ],
          [
           35.86,
           35.53,
           "07:40:05.5",
           "2020/04/15"
          ],
          [
           35.57,
           45.08,
           "17:01:35.7",
           "2020/04/29"
          ],
          [
           33.9,
           48.16,
           "08:07:59.6",
           "2020/05/06"
          ],
          [
           30.38,
           50.76,
           "09:11:28.7",
           "2020/05/24"
          ],
          [
           37.95,
           42.66,
           "19:20:12.5",
           "2020/08/07"
          ],
          [
           34.23,
           45.59,
           "09:16:19.8",
           "2020/08/09"
          ],
          [
           38.06,
           38.78,
           "10:44:09.6",
           "2020/09/08"
          ],
          [
           38.72,
           42.03,
           "14:48:21.6",
           "2020/09/16"
          ],
          [
           35.75,
           48.93,
           "11:34:18.0",
           "2020/10/24"
          ],
          [
           35.47,
           45.11,
           "23:18:25.2",
           "2020/11/09"
          ]
         ],
         "hovertemplate": "<b>%{hovertext}</b><br><br>Cluster=270<br>Lat=%{customdata[0]}<br>Lon=%{customdata[1]}<br>Time=%{customdata[2]}<br>Date=%{customdata[3]}<extra></extra>",
         "hovertext": {
          "dtype": "f8",
          "bdata": "AAAAAADgcEAAAAAAAOBwQAAAAAAA4HBAAAAAAADgcEAAAAAAAOBwQAAAAAAA4HBAAAAAAADgcEAAAAAAAOBwQAAAAAAA4HBAAAAAAADgcEAAAAAAAOBwQAAAAAAA4HBAAAAAAADgcEAAAAAAAOBwQAAAAAAA4HBAAAAAAADgcEAAAAAAAOBwQAAAAAAA4HBAAAAAAADgcEAAAAAAAOBwQAAAAAAA4HBAAAAAAADgcEAAAAAAAOBwQAAAAAAA4HBAAAAAAADgcEAAAAAAAOBwQAAAAAAA4HBAAAAAAADgcEAAAAAAAOBwQAAAAAAA4HBAAAAAAADgcEAAAAAAAOBwQAAAAAAA4HBAAAAAAADgcEAAAAAAAOBwQAAAAAAA4HBAAAAAAADgcEAAAAAAAOBwQAAAAAAA4HBAAAAAAADgcEAAAAAAAOBwQAAAAAAA4HBAAAAAAADgcEAAAAAAAOBwQAAAAAAA4HBAAAAAAADgcEAAAAAAAOBwQAAAAAAA4HBAAAAAAADgcEAAAAAAAOBwQA=="
         },
         "lat": {
          "dtype": "f8",
          "bdata": "H4XrUbjeP0CamZmZmflDQClcj8L16ENAUrgehevRP0DXo3A9ChdCQJqZmZmZ+UJAzczMzMxsQEAK16NwPYpBQKRwPQrXg0FACtejcD1KQUB7FK5H4dpAQGZmZmZm5kBAXI/C9SicQEB7FK5H4dpAQFyPwvUo3EBAXI/C9SjcQEAfhetRuJ49QDMzMzMzM0FAzczMzMxMQ0AzMzMzM1NBQClcj8L1aENAMzMzMzNTQUDsUbgehes/QPYoXI/C1UJA9ihcj8I1QUBSuB6F6zFBQI/C9ShcD0FAH4XrUbh+QEC4HoXrUVhDQArXo3A9ykBA16NwPQrXQEB7FK5H4XpBQIXrUbgeRUNAcT0K16PwP0CF61G4HkVAQHE9CtejkEJAFK5H4Xo0Q0DNzMzMzGxDQLgehetR+EFAexSuR+E6Q0CuR+F6FO5BQClcj8L1yEFAMzMzMzPzQEDhehSuR2E+QJqZmZmZ+UJAPQrXo3AdQUBI4XoUrgdDQFyPwvUoXENAAAAAAADgQUBcj8L1KLxBQA=="
         },
         "legendgroup": "270",
         "lon": {
          "dtype": "f8",
          "bdata": "9ihcj8JVSUA9CtejcP1HQClcj8L1SEhAzczMzMxMSUC4HoXrUXhGQHE9CtejkEdAUrgehesxR0DhehSuR+FGQAAAAAAA4EZAw/UoXI/iRkBcj8L1KNxGQD0K16Nw3UZA9ihcj8I1R0CF61G4HuVGQJqZmZmZ2UZAexSuR+HaRkAfhetRuF5JQAAAAAAA4EZAj8L1KFwvRkBSuB6F6xFHQEjhehSuZ0hAKVyPwvUIR0BI4XoUrkdJQDMzMzMzs0JAXI/C9SjcRkAAAAAAAOBGQNejcD0K10ZAAAAAAADAR0ApXI/C9QhDQMP1KFyP4kZApHA9CtfjRkA9CtejcN1GQDMzMzMzM0ZASOF6FK7nSEAzMzMzM3NIQDMzMzMzc0ZA7FG4HoUrRkDD9Shcj8JFQB+F61G4vkFASOF6FK4nRkCkcD0K18NBQArXo3A9ikZAFK5H4XoUSEDhehSuR2FJQBSuR+F6VEVA7FG4HoXLRkCkcD0K12NDQKRwPQrXA0VA16NwPQp3SECuR+F6FI5GQA=="
         },
         "marker": {
          "color": "#FA0087"
         },
         "mode": "markers",
         "name": "270",
         "showlegend": true,
         "subplot": "map",
         "type": "scattermap"
        },
        {
         "customdata": [
          [
           -10.77,
           41.44,
           "15:16:46.6",
           "2016/04/12"
          ],
          [
           -12.47,
           43.3,
           "01:08:44.2",
           "2016/09/21"
          ],
          [
           -10.95,
           41.05,
           "20:37:03.8",
           "2017/03/29"
          ],
          [
           -11.94,
           40.97,
           "22:55:28.8",
           "2018/06/05"
          ]
         ],
         "hovertemplate": "<b>%{hovertext}</b><br><br>Cluster=143<br>Lat=%{customdata[0]}<br>Lon=%{customdata[1]}<br>Time=%{customdata[2]}<br>Date=%{customdata[3]}<extra></extra>",
         "hovertext": {
          "dtype": "f8",
          "bdata": "AAAAAADgYUAAAAAAAOBhQAAAAAAA4GFAAAAAAADgYUA="
         },
         "lat": {
          "dtype": "f8",
          "bdata": "CtejcD2KJcBxPQrXo/AowGZmZmZm5iXA4XoUrkfhJ8A="
         },
         "legendgroup": "143",
         "lon": {
          "dtype": "f8",
          "bdata": "uB6F61G4REBmZmZmZqZFQGZmZmZmhkRAXI/C9Sh8REA="
         },
         "marker": {
          "color": "#AA0DFE"
         },
         "mode": "markers",
         "name": "143",
         "showlegend": true,
         "subplot": "map",
         "type": "scattermap"
        },
        {
         "customdata": [
          [
           -21.55,
           33.41,
           "20:06:11.7",
           "2016/09/22"
          ],
          [
           -19.45,
           34.49,
           "02:37:18.5",
           "2017/06/24"
          ],
          [
           -16.76,
           35.43,
           "08:49:46.2",
           "2018/03/08"
          ],
          [
           -20.64,
           32.81,
           "05:37:38.9",
           "2018/12/22"
          ]
         ],
         "hovertemplate": "<b>%{hovertext}</b><br><br>Cluster=58<br>Lat=%{customdata[0]}<br>Lon=%{customdata[1]}<br>Time=%{customdata[2]}<br>Date=%{customdata[3]}<extra></extra>",
         "hovertext": {
          "dtype": "f8",
          "bdata": "AAAAAAAATUAAAAAAAABNQAAAAAAAAE1AAAAAAAAATUA="
         },
         "lat": {
          "dtype": "f8",
          "bdata": "zczMzMyMNcAzMzMzM3MzwMP1KFyPwjDApHA9CtejNMA="
         },
         "legendgroup": "58",
         "lon": {
          "dtype": "f8",
          "bdata": "FK5H4Xq0QEAfhetRuD5BQNejcD0Kt0FASOF6FK5nQEA="
         },
         "marker": {
          "color": "#3283FE"
         },
         "mode": "markers",
         "name": "58",
         "showlegend": true,
         "subplot": "map",
         "type": "scattermap"
        },
        {
         "customdata": [
          [
           34.75,
           6.24,
           "07:42:24.7",
           "2016/11/18"
          ],
          [
           34.4,
           9.7,
           "00:18:36.1",
           "2018/05/21"
          ]
         ],
         "hovertemplate": "<b>%{hovertext}</b><br><br>Cluster=207<br>Lat=%{customdata[0]}<br>Lon=%{customdata[1]}<br>Time=%{customdata[2]}<br>Date=%{customdata[3]}<extra></extra>",
         "hovertext": {
          "dtype": "f8",
          "bdata": "AAAAAADgaUAAAAAAAOBpQA=="
         },
         "lat": {
          "dtype": "f8",
          "bdata": "AAAAAABgQUAzMzMzMzNBQA=="
         },
         "legendgroup": "207",
         "lon": {
          "dtype": "f8",
          "bdata": "9ihcj8L1GEBmZmZmZmYjQA=="
         },
         "marker": {
          "color": "#85660D"
         },
         "mode": "markers",
         "name": "207",
         "showlegend": true,
         "subplot": "map",
         "type": "scattermap"
        },
        {
         "customdata": [
          [
           -6.13,
           29.93,
           "10:53:22.0",
           "2017/04/29"
          ],
          [
           -6.09,
           30.74,
           "06:05:13.0",
           "2017/10/22"
          ]
         ],
         "hovertemplate": "<b>%{hovertext}</b><br><br>Cluster=161<br>Lat=%{customdata[0]}<br>Lon=%{customdata[1]}<br>Time=%{customdata[2]}<br>Date=%{customdata[3]}<extra></extra>",
         "hovertext": {
          "dtype": "f8",
          "bdata": "AAAAAAAgZEAAAAAAACBkQA=="
         },
         "lat": {
          "dtype": "f8",
          "bdata": "hetRuB6FGMBcj8L1KFwYwA=="
         },
         "legendgroup": "161",
         "lon": {
          "dtype": "f8",
          "bdata": "rkfhehTuPUA9CtejcL0+QA=="
         },
         "marker": {
          "color": "#782AB6"
         },
         "mode": "markers",
         "name": "161",
         "showlegend": true,
         "subplot": "map",
         "type": "scattermap"
        },
        {
         "customdata": [
          [
           -11.73,
           -13.92,
           "15:10:22.4",
           "2017/05/02"
          ],
          [
           -11.74,
           -14.11,
           "00:36:15.0",
           "2017/11/11"
          ]
         ],
         "hovertemplate": "<b>%{hovertext}</b><br><br>Cluster=44<br>Lat=%{customdata[0]}<br>Lon=%{customdata[1]}<br>Time=%{customdata[2]}<br>Date=%{customdata[3]}<extra></extra>",
         "hovertext": {
          "dtype": "f8",
          "bdata": "AAAAAAAARkAAAAAAAABGQA=="
         },
         "lat": {
          "dtype": "f8",
          "bdata": "9ihcj8J1J8B7FK5H4XonwA=="
         },
         "legendgroup": "44",
         "lon": {
          "dtype": "f8",
          "bdata": "16NwPQrXK8C4HoXrUTgswA=="
         },
         "marker": {
          "color": "#565656"
         },
         "mode": "markers",
         "name": "44",
         "showlegend": true,
         "subplot": "map",
         "type": "scattermap"
        },
        {
         "customdata": [
          [
           38.93,
           26.36,
           "12:28:39.2",
           "2017/06/12"
          ],
          [
           36.92,
           27.41,
           "22:31:11.2",
           "2017/07/20"
          ],
          [
           34.18,
           25.71,
           "12:51:05.6",
           "2020/05/02"
          ]
         ],
         "hovertemplate": "<b>%{hovertext}</b><br><br>Cluster=82<br>Lat=%{customdata[0]}<br>Lon=%{customdata[1]}<br>Time=%{customdata[2]}<br>Date=%{customdata[3]}<extra></extra>",
         "hovertext": {
          "dtype": "f8",
          "bdata": "AAAAAACAVEAAAAAAAIBUQAAAAAAAgFRA"
         },
         "lat": {
          "dtype": "f8",
          "bdata": "16NwPQp3Q0D2KFyPwnVCQNejcD0KF0FA"
         },
         "legendgroup": "82",
         "lon": {
          "dtype": "f8",
          "bdata": "XI/C9ShcOkApXI/C9Wg7QPYoXI/CtTlA"
         },
         "marker": {
          "color": "#1C8356"
         },
         "mode": "markers",
         "name": "82",
         "showlegend": true,
         "subplot": "map",
         "type": "scattermap"
        },
        {
         "customdata": [
          [
           -1.11,
           -13.66,
           "02:59:25.6",
           "2017/08/18"
          ],
          [
           -1.1,
           -13.84,
           "16:08:14.5",
           "2019/10/23"
          ]
         ],
         "hovertemplate": "<b>%{hovertext}</b><br><br>Cluster=3<br>Lat=%{customdata[0]}<br>Lon=%{customdata[1]}<br>Time=%{customdata[2]}<br>Date=%{customdata[3]}<extra></extra>",
         "hovertext": {
          "dtype": "f8",
          "bdata": "AAAAAAAACEAAAAAAAAAIQA=="
         },
         "lat": {
          "dtype": "f8",
          "bdata": "w/UoXI/C8b+amZmZmZnxvw=="
         },
         "legendgroup": "3",
         "lon": {
          "dtype": "f8",
          "bdata": "UrgehetRK8CuR+F6FK4rwA=="
         },
         "marker": {
          "color": "#16FF32"
         },
         "mode": "markers",
         "name": "3",
         "showlegend": true,
         "subplot": "map",
         "type": "scattermap"
        },
        {
         "customdata": [
          [
           -35.31,
           -15.55,
           "17:41:23.1",
           "2017/10/06"
          ],
          [
           -35.3,
           -15.49,
           "07:30:38.3",
           "2019/04/16"
          ]
         ],
         "hovertemplate": "<b>%{hovertext}</b><br><br>Cluster=98<br>Lat=%{customdata[0]}<br>Lon=%{customdata[1]}<br>Time=%{customdata[2]}<br>Date=%{customdata[3]}<extra></extra>",
         "hovertext": {
          "dtype": "f8",
          "bdata": "AAAAAACAWEAAAAAAAIBYQA=="
         },
         "lat": {
          "dtype": "f8",
          "bdata": "SOF6FK6nQcBmZmZmZqZBwA=="
         },
         "legendgroup": "98",
         "lon": {
          "dtype": "f8",
          "bdata": "mpmZmZkZL8B7FK5H4fouwA=="
         },
         "marker": {
          "color": "#F7E1A0"
         },
         "mode": "markers",
         "name": "98",
         "showlegend": true,
         "subplot": "map",
         "type": "scattermap"
        },
        {
         "customdata": [
          [
           37.72,
           44.74,
           "11:58:00.2",
           "2017/12/02"
          ],
          [
           39.05,
           44.18,
           "06:15:17.2",
           "2018/07/21"
          ]
         ],
         "hovertemplate": "<b>%{hovertext}</b><br><br>Cluster=262<br>Lat=%{customdata[0]}<br>Lon=%{customdata[1]}<br>Time=%{customdata[2]}<br>Date=%{customdata[3]}<extra></extra>",
         "hovertext": {
          "dtype": "f8",
          "bdata": "AAAAAABgcEAAAAAAAGBwQA=="
         },
         "lat": {
          "dtype": "f8",
          "bdata": "XI/C9SjcQkBmZmZmZoZDQA=="
         },
         "legendgroup": "262",
         "lon": {
          "dtype": "f8",
          "bdata": "H4XrUbheRkDXo3A9ChdGQA=="
         },
         "marker": {
          "color": "#E2E2E2"
         },
         "mode": "markers",
         "name": "262",
         "showlegend": true,
         "subplot": "map",
         "type": "scattermap"
        },
        {
         "customdata": [
          [
           -38.91,
           46.42,
           "02:16:18.1",
           "2018/01/02"
          ],
          [
           -38.9,
           46.46,
           "10:38:18.3",
           "2018/04/27"
          ],
          [
           -38.11,
           49.01,
           "15:38:33.2",
           "2018/08/14"
          ],
          [
           -39.89,
           44.45,
           "22:51:04.9",
           "2018/09/12"
          ],
          [
           -37.88,
           49.97,
           "10:57:50.7",
           "2018/09/18"
          ],
          [
           -39.46,
           46.21,
           "17:03:46.2",
           "2020/11/26"
          ]
         ],
         "hovertemplate": "<b>%{hovertext}</b><br><br>Cluster=14<br>Lat=%{customdata[0]}<br>Lon=%{customdata[1]}<br>Time=%{customdata[2]}<br>Date=%{customdata[3]}<extra></extra>",
         "hovertext": {
          "dtype": "f8",
          "bdata": "AAAAAAAALEAAAAAAAAAsQAAAAAAAACxAAAAAAAAALEAAAAAAAAAsQAAAAAAAACxA"
         },
         "lat": {
          "dtype": "f8",
          "bdata": "FK5H4Xp0Q8AzMzMzM3NDwK5H4XoUDkPAUrgehevxQ8BxPQrXo/BCwHsUrkfhukPA"
         },
         "legendgroup": "14",
         "lon": {
          "dtype": "f8",
          "bdata": "9ihcj8I1R0B7FK5H4TpHQOF6FK5HgUhAmpmZmZk5RkBcj8L1KPxIQHsUrkfhGkdA"
         },
         "marker": {
          "color": "#1CBE4F"
         },
         "mode": "markers",
         "name": "14",
         "showlegend": true,
         "subplot": "map",
         "type": "scattermap"
        },
        {
         "customdata": [
          [
           11.35,
           46.08,
           "11:26:07.3",
           "2018/01/09"
          ],
          [
           12.18,
           46.44,
           "23:59:47.5",
           "2018/04/15"
          ]
         ],
         "hovertemplate": "<b>%{hovertext}</b><br><br>Cluster=199<br>Lat=%{customdata[0]}<br>Lon=%{customdata[1]}<br>Time=%{customdata[2]}<br>Date=%{customdata[3]}<extra></extra>",
         "hovertext": {
          "dtype": "f8",
          "bdata": "AAAAAADgaEAAAAAAAOBoQA=="
         },
         "lat": {
          "dtype": "f8",
          "bdata": "MzMzMzOzJkBcj8L1KFwoQA=="
         },
         "legendgroup": "199",
         "lon": {
          "dtype": "f8",
          "bdata": "CtejcD0KR0C4HoXrUThHQA=="
         },
         "marker": {
          "color": "#C4451C"
         },
         "mode": "markers",
         "name": "199",
         "showlegend": true,
         "subplot": "map",
         "type": "scattermap"
        },
        {
         "customdata": [
          [
           -16.83,
           35.49,
           "09:52:04.4",
           "2018/03/08"
          ],
          [
           -11.18,
           34.6,
           "07:03:49.2",
           "2020/08/24"
          ]
         ],
         "hovertemplate": "<b>%{hovertext}</b><br><br>Cluster=89<br>Lat=%{customdata[0]}<br>Lon=%{customdata[1]}<br>Time=%{customdata[2]}<br>Date=%{customdata[3]}<extra></extra>",
         "hovertext": {
          "dtype": "f8",
          "bdata": "AAAAAABAVkAAAAAAAEBWQA=="
         },
         "lat": {
          "dtype": "f8",
          "bdata": "FK5H4XrUMMBcj8L1KFwmwA=="
         },
         "legendgroup": "89",
         "lon": {
          "dtype": "f8",
          "bdata": "H4XrUbi+QUDNzMzMzExBQA=="
         },
         "marker": {
          "color": "#DEA0FD"
         },
         "mode": "markers",
         "name": "89",
         "showlegend": true,
         "subplot": "map",
         "type": "scattermap"
        },
        {
         "customdata": [
          [
           -1.42,
           -15.21,
           "21:45:36.3",
           "2018/03/10"
          ],
          [
           -0.94,
           -13.83,
           "12:03:27.4",
           "2018/11/27"
          ],
          [
           -3.17,
           -12.28,
           "13:23:08.8",
           "2019/05/06"
          ],
          [
           -1.72,
           -13.01,
           "19:51:20.8",
           "2019/06/29"
          ]
         ],
         "hovertemplate": "<b>%{hovertext}</b><br><br>Cluster=130<br>Lat=%{customdata[0]}<br>Lon=%{customdata[1]}<br>Time=%{customdata[2]}<br>Date=%{customdata[3]}<extra></extra>",
         "hovertext": {
          "dtype": "f8",
          "bdata": "AAAAAABAYEAAAAAAAEBgQAAAAAAAQGBAAAAAAABAYEA="
         },
         "lat": {
          "dtype": "f8",
          "bdata": "uB6F61G49r8UrkfhehTuv1yPwvUoXAnAhetRuB6F+78="
         },
         "legendgroup": "130",
         "lon": {
          "dtype": "f8",
          "bdata": "7FG4HoVrLsApXI/C9agrwI/C9ShcjyjAhetRuB4FKsA="
         },
         "marker": {
          "color": "#FE00FA"
         },
         "mode": "markers",
         "name": "130",
         "showlegend": true,
         "subplot": "map",
         "type": "scattermap"
        },
        {
         "customdata": [
          [
           13.4,
           40.01,
           "10:27:32.2",
           "2018/03/24"
          ],
          [
           17.92,
           40.23,
           "19:54:12.1",
           "2019/03/06"
          ],
          [
           16.58,
           40.14,
           "19:06:57.6",
           "2019/09/11"
          ]
         ],
         "hovertemplate": "<b>%{hovertext}</b><br><br>Cluster=133<br>Lat=%{customdata[0]}<br>Lon=%{customdata[1]}<br>Time=%{customdata[2]}<br>Date=%{customdata[3]}<extra></extra>",
         "hovertext": {
          "dtype": "f8",
          "bdata": "AAAAAACgYEAAAAAAAKBgQAAAAAAAoGBA"
         },
         "lat": {
          "dtype": "f8",
          "bdata": "zczMzMzMKkDsUbgehesxQBSuR+F6lDBA"
         },
         "legendgroup": "133",
         "lon": {
          "dtype": "f8",
          "bdata": "4XoUrkcBREA9CtejcB1EQFK4HoXrEURA"
         },
         "marker": {
          "color": "#325A9B"
         },
         "mode": "markers",
         "name": "133",
         "showlegend": true,
         "subplot": "map",
         "type": "scattermap"
        },
        {
         "customdata": [
          [
           37.6,
           38.51,
           "00:34:31.2",
           "2018/04/24"
          ],
          [
           38.3,
           39.16,
           "17:31:10.2",
           "2019/04/04"
          ],
          [
           38.3,
           39.03,
           "07:02:27.7",
           "2019/12/27"
          ],
          [
           38.36,
           39.11,
           "16:30:11.1",
           "2020/01/25"
          ],
          [
           38.34,
           38.8,
           "23:03:37.8",
           "2020/02/25"
          ],
          [
           38.38,
           39.07,
           "17:53:33.4",
           "2020/03/19"
          ],
          [
           38.24,
           38.76,
           "18:06:21.6",
           "2020/06/05"
          ],
          [
           37.95,
           41.7,
           "05:45:19.8",
           "2020/12/03"
          ]
         ],
         "hovertemplate": "<b>%{hovertext}</b><br><br>Cluster=271<br>Lat=%{customdata[0]}<br>Lon=%{customdata[1]}<br>Time=%{customdata[2]}<br>Date=%{customdata[3]}<extra></extra>",
         "hovertext": {
          "dtype": "f8",
          "bdata": "AAAAAADwcEAAAAAAAPBwQAAAAAAA8HBAAAAAAADwcEAAAAAAAPBwQAAAAAAA8HBAAAAAAADwcEAAAAAAAPBwQA=="
         },
         "lat": {
          "dtype": "f8",
          "bdata": "zczMzMzMQkBmZmZmZiZDQGZmZmZmJkNArkfhehQuQ0DsUbgehStDQHE9CtejMENAH4XrUbgeQ0CamZmZmflCQA=="
         },
         "legendgroup": "271",
         "lon": {
          "dtype": "f8",
          "bdata": "4XoUrkdBQ0AUrkfhepRDQKRwPQrXg0NArkfhehSOQ0BmZmZmZmZDQClcj8L1iENA4XoUrkdhQ0CamZmZmdlEQA=="
         },
         "marker": {
          "color": "#FEAF16"
         },
         "mode": "markers",
         "name": "271",
         "showlegend": true,
         "subplot": "map",
         "type": "scattermap"
        },
        {
         "customdata": [
          [
           -39.26,
           46.12,
           "22:23:05.9",
           "2018/04/29"
          ],
          [
           -37.81,
           49.78,
           "07:27:41.3",
           "2018/09/18"
          ]
         ],
         "hovertemplate": "<b>%{hovertext}</b><br><br>Cluster=2<br>Lat=%{customdata[0]}<br>Lon=%{customdata[1]}<br>Time=%{customdata[2]}<br>Date=%{customdata[3]}<extra></extra>",
         "hovertext": {
          "dtype": "f8",
          "bdata": "AAAAAAAAAEAAAAAAAAAAQA=="
         },
         "lat": {
          "dtype": "f8",
          "bdata": "4XoUrkehQ8BI4XoUrudCwA=="
         },
         "legendgroup": "2",
         "lon": {
          "dtype": "f8",
          "bdata": "j8L1KFwPR0CkcD0K1+NIQA=="
         },
         "marker": {
          "color": "#F8A19F"
         },
         "mode": "markers",
         "name": "2",
         "showlegend": true,
         "subplot": "map",
         "type": "scattermap"
        },
        {
         "customdata": [
          [
           -12.83,
           45.61,
           "14:41:42.6",
           "2018/05/14"
          ],
          [
           -12.84,
           45.64,
           "21:00:01.2",
           "2018/05/19"
          ],
          [
           -12.8,
           45.67,
           "08:01:27.0",
           "2018/05/20"
          ],
          [
           -12.85,
           45.65,
           "00:47:14.1",
           "2018/05/21"
          ],
          [
           -12.85,
           45.62,
           "12:37:08.1",
           "2018/05/22"
          ],
          [
           -12.82,
           45.59,
           "06:36:04.2",
           "2018/05/25"
          ],
          [
           -12.85,
           45.61,
           "09:32:46.2",
           "2018/05/25"
          ],
          [
           -12.81,
           45.69,
           "00:32:40.9",
           "2018/05/26"
          ],
          [
           -12.89,
           45.59,
           "05:54:03.2",
           "2018/05/30"
          ],
          [
           -12.85,
           45.59,
           "06:13:42.9",
           "2018/06/03"
          ],
          [
           -12.94,
           45.78,
           "19:53:34.1",
           "2018/06/04"
          ],
          [
           -12.89,
           45.64,
           "21:20:28.7",
           "2018/06/04"
          ],
          [
           -12.92,
           45.73,
           "23:02:45.2",
           "2018/06/05"
          ],
          [
           -12.87,
           45.74,
           "09:37:02.1",
           "2018/06/06"
          ],
          [
           -13.02,
           45.6,
           "03:31:31.0",
           "2018/06/08"
          ],
          [
           -12.93,
           45.5,
           "12:03:30.5",
           "2018/06/08"
          ],
          [
           -13.06,
           45.54,
           "22:36:35.3",
           "2018/06/09"
          ],
          [
           -13.07,
           45.84,
           "17:17:16.4",
           "2018/06/12"
          ],
          [
           -12.99,
           45.72,
           "13:43:01.3",
           "2018/06/18"
          ],
          [
           -12.98,
           45.52,
           "19:45:45.5",
           "2018/06/23"
          ],
          [
           -12.99,
           45.67,
           "17:41:29.0",
           "2018/06/25"
          ],
          [
           -12.86,
           45.7,
           "06:40:56.8",
           "2018/06/27"
          ],
          [
           -12.84,
           45.45,
           "00:20:38.4",
           "2019/05/14"
          ],
          [
           -12.85,
           45.56,
           "16:00:31.9",
           "2020/01/02"
          ],
          [
           -12.33,
           44.88,
           "06:42:34.8",
           "2020/03/21"
          ]
         ],
         "hovertemplate": "<b>%{hovertext}</b><br><br>Cluster=145<br>Lat=%{customdata[0]}<br>Lon=%{customdata[1]}<br>Time=%{customdata[2]}<br>Date=%{customdata[3]}<extra></extra>",
         "hovertext": {
          "dtype": "f8",
          "bdata": "AAAAAAAgYkAAAAAAACBiQAAAAAAAIGJAAAAAAAAgYkAAAAAAACBiQAAAAAAAIGJAAAAAAAAgYkAAAAAAACBiQAAAAAAAIGJAAAAAAAAgYkAAAAAAACBiQAAAAAAAIGJAAAAAAAAgYkAAAAAAACBiQAAAAAAAIGJAAAAAAAAgYkAAAAAAACBiQAAAAAAAIGJAAAAAAAAgYkAAAAAAACBiQAAAAAAAIGJAAAAAAAAgYkAAAAAAACBiQAAAAAAAIGJAAAAAAAAgYkA="
         },
         "lat": {
          "dtype": "f8",
          "bdata": "KVyPwvWoKcCuR+F6FK4pwJqZmZmZmSnAMzMzMzOzKcAzMzMzM7MpwKRwPQrXoynAMzMzMzOzKcAfhetRuJ4pwEjhehSuxynAMzMzMzOzKcDhehSuR+EpwEjhehSuxynA16NwPQrXKcA9CtejcL0pwArXo3A9CirAXI/C9SjcKcAfhetRuB4qwKRwPQrXIyrAexSuR+H6KcD2KFyPwvUpwHsUrkfh+inAuB6F61G4KcCuR+F6FK4pwDMzMzMzsynAKVyPwvWoKMA="
         },
         "legendgroup": "145",
         "lon": {
          "dtype": "f8",
          "bdata": "rkfhehTORkBSuB6F69FGQPYoXI/C1UZAMzMzMzPTRkCPwvUoXM9GQOxRuB6Fy0ZArkfhehTORkC4HoXrUdhGQOxRuB6Fy0ZA7FG4HoXLRkCkcD0K1+NGQFK4HoXr0UZAPQrXo3DdRkAfhetRuN5GQM3MzMzMzEZAAAAAAADARkCF61G4HsVGQOxRuB6F60ZAXI/C9SjcRkDD9Shcj8JGQPYoXI/C1UZAmpmZmZnZRkCamZmZmblGQEjhehSux0ZAcT0K16NwRkA="
         },
         "marker": {
          "color": "#90AD1C"
         },
         "mode": "markers",
         "name": "145",
         "showlegend": true,
         "subplot": "map",
         "type": "scattermap"
        },
        {
         "customdata": [
          [
           -33.16,
           -15.97,
           "10:53:55.7",
           "2018/05/18"
          ],
          [
           -35.59,
           -16.85,
           "10:01:57.1",
           "2018/06/27"
          ]
         ],
         "hovertemplate": "<b>%{hovertext}</b><br><br>Cluster=97<br>Lat=%{customdata[0]}<br>Lon=%{customdata[1]}<br>Time=%{customdata[2]}<br>Date=%{customdata[3]}<extra></extra>",
         "hovertext": {
          "dtype": "f8",
          "bdata": "AAAAAABAWEAAAAAAAEBYQA=="
         },
         "lat": {
          "dtype": "f8",
          "bdata": "FK5H4XqUQMDsUbgehctBwA=="
         },
         "legendgroup": "97",
         "lon": {
          "dtype": "f8",
          "bdata": "cT0K16PwL8CamZmZmdkwwA=="
         },
         "marker": {
          "color": "#F6222E"
         },
         "mode": "markers",
         "name": "97",
         "showlegend": true,
         "subplot": "map",
         "type": "scattermap"
        },
        {
         "customdata": [
          [
           -12.88,
           45.57,
           "07:14:40.7",
           "2018/06/01"
          ],
          [
           -12.9,
           45.7,
           "13:06:52.5",
           "2018/06/07"
          ],
          [
           -13.11,
           45.61,
           "12:14:47.8",
           "2018/06/10"
          ],
          [
           -13.2,
           45.63,
           "13:04:38.1",
           "2018/06/10"
          ]
         ],
         "hovertemplate": "<b>%{hovertext}</b><br><br>Cluster=146<br>Lat=%{customdata[0]}<br>Lon=%{customdata[1]}<br>Time=%{customdata[2]}<br>Date=%{customdata[3]}<extra></extra>",
         "hovertext": {
          "dtype": "f8",
          "bdata": "AAAAAABAYkAAAAAAAEBiQAAAAAAAQGJAAAAAAABAYkA="
         },
         "lat": {
          "dtype": "f8",
          "bdata": "w/UoXI/CKcDNzMzMzMwpwLgehetROCrAZmZmZmZmKsA="
         },
         "legendgroup": "146",
         "lon": {
          "dtype": "f8",
          "bdata": "KVyPwvXIRkCamZmZmdlGQK5H4XoUzkZAcT0K16PQRkA="
         },
         "marker": {
          "color": "#1CFFCE"
         },
         "mode": "markers",
         "name": "146",
         "showlegend": true,
         "subplot": "map",
         "type": "scattermap"
        },
        {
         "customdata": [
          [
           -39.68,
           -15.93,
           "12:22:09.1",
           "2018/06/08"
          ],
          [
           -39.15,
           -15.72,
           "01:45:37.2",
           "2018/06/17"
          ],
          [
           -39.62,
           -16.14,
           "05:47:21.9",
           "2018/07/02"
          ],
          [
           -38.41,
           -16.09,
           "09:20:33.6",
           "2019/06/10"
          ],
          [
           -39.75,
           -15.75,
           "06:51:44.0",
           "2020/03/04"
          ]
         ],
         "hovertemplate": "<b>%{hovertext}</b><br><br>Cluster=183<br>Lat=%{customdata[0]}<br>Lon=%{customdata[1]}<br>Time=%{customdata[2]}<br>Date=%{customdata[3]}<extra></extra>",
         "hovertext": {
          "dtype": "f8",
          "bdata": "AAAAAADgZkAAAAAAAOBmQAAAAAAA4GZAAAAAAADgZkAAAAAAAOBmQA=="
         },
         "lat": {
          "dtype": "f8",
          "bdata": "16NwPQrXQ8AzMzMzM5NDwI/C9Shcz0PAFK5H4Xo0Q8AAAAAAAOBDwA=="
         },
         "legendgroup": "183",
         "lon": {
          "dtype": "f8",
          "bdata": "XI/C9SjcL8BxPQrXo3AvwKRwPQrXIzDA16NwPQoXMMAAAAAAAIAvwA=="
         },
         "marker": {
          "color": "#2ED9FF"
         },
         "mode": "markers",
         "name": "183",
         "showlegend": true,
         "subplot": "map",
         "type": "scattermap"
        },
        {
         "customdata": [
          [
           32.8,
           35.44,
           "19:45:40.0",
           "2018/07/04"
          ],
          [
           32.81,
           32.65,
           "16:53:46.2",
           "2019/05/15"
          ]
         ],
         "hovertemplate": "<b>%{hovertext}</b><br><br>Cluster=265<br>Lat=%{customdata[0]}<br>Lon=%{customdata[1]}<br>Time=%{customdata[2]}<br>Date=%{customdata[3]}<extra></extra>",
         "hovertext": {
          "dtype": "f8",
          "bdata": "AAAAAACQcEAAAAAAAJBwQA=="
         },
         "lat": {
          "dtype": "f8",
          "bdata": "ZmZmZmZmQEBI4XoUrmdAQA=="
         },
         "legendgroup": "265",
         "lon": {
          "dtype": "f8",
          "bdata": "uB6F61G4QUAzMzMzM1NAQA=="
         },
         "marker": {
          "color": "#B10DA1"
         },
         "mode": "markers",
         "name": "265",
         "showlegend": true,
         "subplot": "map",
         "type": "scattermap"
        },
        {
         "customdata": [
          [
           -1.49,
           -15.44,
           "05:47:27.0",
           "2018/07/11"
          ],
          [
           0.02,
           -16.97,
           "21:43:48.9",
           "2019/07/10"
          ]
         ],
         "hovertemplate": "<b>%{hovertext}</b><br><br>Cluster=111<br>Lat=%{customdata[0]}<br>Lon=%{customdata[1]}<br>Time=%{customdata[2]}<br>Date=%{customdata[3]}<extra></extra>",
         "hovertext": {
          "dtype": "f8",
          "bdata": "AAAAAADAW0AAAAAAAMBbQA=="
         },
         "lat": {
          "dtype": "f8",
          "bdata": "16NwPQrX9797FK5H4XqUPw=="
         },
         "legendgroup": "111",
         "lon": {
          "dtype": "f8",
          "bdata": "4XoUrkfhLsC4HoXrUfgwwA=="
         },
         "marker": {
          "color": "#C075A6"
         },
         "mode": "markers",
         "name": "111",
         "showlegend": true,
         "subplot": "map",
         "type": "scattermap"
        },
        {
         "customdata": [
          [
           34.59,
           46.17,
           "10:07:27.2",
           "2018/07/22"
          ],
          [
           34.61,
           46.24,
           "22:13:25.6",
           "2018/08/25"
          ]
         ],
         "hovertemplate": "<b>%{hovertext}</b><br><br>Cluster=266<br>Lat=%{customdata[0]}<br>Lon=%{customdata[1]}<br>Time=%{customdata[2]}<br>Date=%{customdata[3]}<extra></extra>",
         "hovertext": {
          "dtype": "f8",
          "bdata": "AAAAAACgcEAAAAAAAKBwQA=="
         },
         "lat": {
          "dtype": "f8",
          "bdata": "7FG4HoVLQUCuR+F6FE5BQA=="
         },
         "legendgroup": "266",
         "lon": {
          "dtype": "f8",
          "bdata": "9ihcj8IVR0AfhetRuB5HQA=="
         },
         "marker": {
          "color": "#FC1CBF"
         },
         "mode": "markers",
         "name": "266",
         "showlegend": true,
         "subplot": "map",
         "type": "scattermap"
        },
        {
         "customdata": [
          [
           16.0,
           39.81,
           "13:54:30.5",
           "2018/08/13"
          ],
          [
           17.9,
           40.19,
           "21:24:02.5",
           "2019/03/06"
          ],
          [
           18.11,
           40.17,
           "17:20:09.6",
           "2019/03/08"
          ],
          [
           18.05,
           40.06,
           "22:41:47.1",
           "2020/11/27"
          ]
         ],
         "hovertemplate": "<b>%{hovertext}</b><br><br>Cluster=139<br>Lat=%{customdata[0]}<br>Lon=%{customdata[1]}<br>Time=%{customdata[2]}<br>Date=%{customdata[3]}<extra></extra>",
         "hovertext": {
          "dtype": "f8",
          "bdata": "AAAAAABgYUAAAAAAAGBhQAAAAAAAYGFAAAAAAABgYUA="
         },
         "lat": {
          "dtype": "f8",
          "bdata": "AAAAAAAAMEBmZmZmZuYxQFyPwvUoHDJAzczMzMwMMkA="
         },
         "legendgroup": "139",
         "lon": {
          "dtype": "f8",
          "bdata": "SOF6FK7nQ0C4HoXrURhEQPYoXI/CFURASOF6FK4HREA="
         },
         "marker": {
          "color": "#B00068"
         },
         "mode": "markers",
         "name": "139",
         "showlegend": true,
         "subplot": "map",
         "type": "scattermap"
        },
        {
         "customdata": [
          [
           -34.73,
           -16.04,
           "14:04:37.5",
           "2018/09/20"
          ],
          [
           -35.75,
           -16.75,
           "12:53:12.0",
           "2019/09/03"
          ],
          [
           -35.5,
           -15.5,
           "09:29:12.0",
           "2019/10/12"
          ]
         ],
         "hovertemplate": "<b>%{hovertext}</b><br><br>Cluster=214<br>Lat=%{customdata[0]}<br>Lon=%{customdata[1]}<br>Time=%{customdata[2]}<br>Date=%{customdata[3]}<extra></extra>",
         "hovertext": {
          "dtype": "f8",
          "bdata": "AAAAAADAakAAAAAAAMBqQAAAAAAAwGpA"
         },
         "lat": {
          "dtype": "f8",
          "bdata": "PQrXo3BdQcAAAAAAAOBBwAAAAAAAwEHA"
         },
         "legendgroup": "214",
         "lon": {
          "dtype": "f8",
          "bdata": "CtejcD0KMMAAAAAAAMAwwAAAAAAAAC/A"
         },
         "marker": {
          "color": "#FBE426"
         },
         "mode": "markers",
         "name": "214",
         "showlegend": true,
         "subplot": "map",
         "type": "scattermap"
        },
        {
         "customdata": [
          [
           37.51,
           20.51,
           "15:12:00.6",
           "2018/10/30"
          ],
          [
           39.36,
           20.64,
           "00:49:51.4",
           "2020/03/21"
          ],
          [
           35.17,
           20.27,
           "23:43:18.4",
           "2020/05/20"
          ]
         ],
         "hovertemplate": "<b>%{hovertext}</b><br><br>Cluster=283<br>Lat=%{customdata[0]}<br>Lon=%{customdata[1]}<br>Time=%{customdata[2]}<br>Date=%{customdata[3]}<extra></extra>",
         "hovertext": {
          "dtype": "f8",
          "bdata": "AAAAAACwcUAAAAAAALBxQAAAAAAAsHFA"
         },
         "lat": {
          "dtype": "f8",
          "bdata": "4XoUrkfBQkCuR+F6FK5DQPYoXI/ClUFA"
         },
         "legendgroup": "283",
         "lon": {
          "dtype": "f8",
          "bdata": "w/UoXI+CNECkcD0K16M0QIXrUbgeRTRA"
         },
         "marker": {
          "color": "#FA0087"
         },
         "mode": "markers",
         "name": "283",
         "showlegend": true,
         "subplot": "map",
         "type": "scattermap"
        },
        {
         "customdata": [
          [
           37.18,
           20.59,
           "01:10:05.6",
           "2018/11/03"
          ],
          [
           37.21,
           20.72,
           "03:04:31.5",
           "2018/11/04"
          ]
         ],
         "hovertemplate": "<b>%{hovertext}</b><br><br>Cluster=293<br>Lat=%{customdata[0]}<br>Lon=%{customdata[1]}<br>Time=%{customdata[2]}<br>Date=%{customdata[3]}<extra></extra>",
         "hovertext": {
          "dtype": "f8",
          "bdata": "AAAAAABQckAAAAAAAFByQA=="
         },
         "lat": {
          "dtype": "f8",
          "bdata": "16NwPQqXQkB7FK5H4ZpCQA=="
         },
         "legendgroup": "293",
         "lon": {
          "dtype": "f8",
          "bdata": "16NwPQqXNEC4HoXrUbg0QA=="
         },
         "marker": {
          "color": "#AA0DFE"
         },
         "mode": "markers",
         "name": "293",
         "showlegend": true,
         "subplot": "map",
         "type": "scattermap"
        },
        {
         "customdata": [
          [
           37.41,
           29.53,
           "06:34:27.8",
           "2019/03/20"
          ],
          [
           39.07,
           27.84,
           "19:22:16.4",
           "2020/01/22"
          ],
          [
           35.19,
           27.78,
           "11:21:36.8",
           "2020/01/30"
          ],
          [
           34.18,
           25.51,
           "23:22:35.2",
           "2020/05/18"
          ]
         ],
         "hovertemplate": "<b>%{hovertext}</b><br><br>Cluster=295<br>Lat=%{customdata[0]}<br>Lon=%{customdata[1]}<br>Time=%{customdata[2]}<br>Date=%{customdata[3]}<extra></extra>",
         "hovertext": {
          "dtype": "f8",
          "bdata": "AAAAAABwckAAAAAAAHByQAAAAAAAcHJAAAAAAABwckA="
         },
         "lat": {
          "dtype": "f8",
          "bdata": "FK5H4Xq0QkApXI/C9YhDQLgehetRmEFA16NwPQoXQUA="
         },
         "legendgroup": "295",
         "lon": {
          "dtype": "f8",
          "bdata": "SOF6FK6HPUDXo3A9Ctc7QEjhehSuxztAw/UoXI+COUA="
         },
         "marker": {
          "color": "#3283FE"
         },
         "mode": "markers",
         "name": "295",
         "showlegend": true,
         "subplot": "map",
         "type": "scattermap"
        },
        {
         "customdata": [
          [
           -7.91,
           32.11,
           "09:15:40.3",
           "2019/03/21"
          ],
          [
           -6.47,
           30.74,
           "00:38:46.3",
           "2019/09/09"
          ]
         ],
         "hovertemplate": "<b>%{hovertext}</b><br><br>Cluster=159<br>Lat=%{customdata[0]}<br>Lon=%{customdata[1]}<br>Time=%{customdata[2]}<br>Date=%{customdata[3]}<extra></extra>",
         "hovertext": {
          "dtype": "f8",
          "bdata": "AAAAAADgY0AAAAAAAOBjQA=="
         },
         "lat": {
          "dtype": "f8",
          "bdata": "pHA9CtejH8DhehSuR+EZwA=="
         },
         "legendgroup": "159",
         "lon": {
          "dtype": "f8",
          "bdata": "rkfhehQOQEA9CtejcL0+QA=="
         },
         "marker": {
          "color": "#85660D"
         },
         "mode": "markers",
         "name": "159",
         "showlegend": true,
         "subplot": "map",
         "type": "scattermap"
        },
        {
         "customdata": [
          [
           -3.07,
           38.16,
           "16:21:15.5",
           "2019/03/24"
          ],
          [
           -4.22,
           36.87,
           "06:54:58.9",
           "2019/08/20"
          ]
         ],
         "hovertemplate": "<b>%{hovertext}</b><br><br>Cluster=142<br>Lat=%{customdata[0]}<br>Lon=%{customdata[1]}<br>Time=%{customdata[2]}<br>Date=%{customdata[3]}<extra></extra>",
         "hovertext": {
          "dtype": "f8",
          "bdata": "AAAAAADAYUAAAAAAAMBhQA=="
         },
         "lat": {
          "dtype": "f8",
          "bdata": "j8L1KFyPCMDhehSuR+EQwA=="
         },
         "legendgroup": "142",
         "lon": {
          "dtype": "f8",
          "bdata": "FK5H4XoUQ0CPwvUoXG9CQA=="
         },
         "marker": {
          "color": "#782AB6"
         },
         "mode": "markers",
         "name": "142",
         "showlegend": true,
         "subplot": "map",
         "type": "scattermap"
        },
        {
         "customdata": [
          [
           37.1,
           5.75,
           "09:56:35.4",
           "2019/07/13"
          ],
          [
           36.73,
           5.6,
           "07:24:18.8",
           "2020/01/24"
          ],
          [
           35.87,
           5.76,
           "07:09:25.8",
           "2020/03/26"
          ],
          [
           36.55,
           6.27,
           "06:15:37.8",
           "2020/08/07"
          ],
          [
           36.64,
           6.89,
           "03:53:08.5",
           "2020/11/22"
          ]
         ],
         "hovertemplate": "<b>%{hovertext}</b><br><br>Cluster=202<br>Lat=%{customdata[0]}<br>Lon=%{customdata[1]}<br>Time=%{customdata[2]}<br>Date=%{customdata[3]}<extra></extra>",
         "hovertext": {
          "dtype": "f8",
          "bdata": "AAAAAABAaUAAAAAAAEBpQAAAAAAAQGlAAAAAAABAaUAAAAAAAEBpQA=="
         },
         "lat": {
          "dtype": "f8",
          "bdata": "zczMzMyMQkA9CtejcF1CQI/C9Shc70FAZmZmZmZGQkBSuB6F61FCQA=="
         },
         "legendgroup": "202",
         "lon": {
          "dtype": "f8",
          "bdata": "AAAAAAAAF0BmZmZmZmYWQArXo3A9ChdAFK5H4XoUGUCPwvUoXI8bQA=="
         },
         "marker": {
          "color": "#565656"
         },
         "mode": "markers",
         "name": "202",
         "showlegend": true,
         "subplot": "map",
         "type": "scattermap"
        },
        {
         "customdata": [
          [
           37.81,
           47.56,
           "22:47:05.4",
           "2019/11/07"
          ],
          [
           38.45,
           44.42,
           "05:53:01.0",
           "2020/02/23"
          ],
          [
           38.5,
           44.37,
           "16:00:31.6",
           "2020/02/23"
          ],
          [
           39.43,
           40.71,
           "14:24:29.5",
           "2020/06/14"
          ]
         ],
         "hovertemplate": "<b>%{hovertext}</b><br><br>Cluster=261<br>Lat=%{customdata[0]}<br>Lon=%{customdata[1]}<br>Time=%{customdata[2]}<br>Date=%{customdata[3]}<extra></extra>",
         "hovertext": {
          "dtype": "f8",
          "bdata": "AAAAAABQcEAAAAAAAFBwQAAAAAAAUHBAAAAAAABQcEA="
         },
         "lat": {
          "dtype": "f8",
          "bdata": "SOF6FK7nQkCamZmZmTlDQAAAAAAAQENA16NwPQq3Q0A="
         },
         "legendgroup": "261",
         "lon": {
          "dtype": "f8",
          "bdata": "SOF6FK7HR0D2KFyPwjVGQI/C9ShcL0ZAexSuR+FaREA="
         },
         "marker": {
          "color": "#1C8356"
         },
         "mode": "markers",
         "name": "261",
         "showlegend": true,
         "subplot": "map",
         "type": "scattermap"
        },
        {
         "customdata": [
          [
           35.69,
           23.22,
           "07:23:41.8",
           "2019/11/27"
          ],
          [
           35.04,
           25.3,
           "16:28:17.6",
           "2020/09/18"
          ]
         ],
         "hovertemplate": "<b>%{hovertext}</b><br><br>Cluster=286<br>Lat=%{customdata[0]}<br>Lon=%{customdata[1]}<br>Time=%{customdata[2]}<br>Date=%{customdata[3]}<extra></extra>",
         "hovertext": {
          "dtype": "f8",
          "bdata": "AAAAAADgcUAAAAAAAOBxQA=="
         },
         "lat": {
          "dtype": "f8",
          "bdata": "uB6F61HYQUCF61G4HoVBQA=="
         },
         "legendgroup": "286",
         "lon": {
          "dtype": "f8",
          "bdata": "uB6F61E4N0DNzMzMzEw5QA=="
         },
         "marker": {
          "color": "#16FF32"
         },
         "mode": "markers",
         "name": "286",
         "showlegend": true,
         "subplot": "map",
         "type": "scattermap"
        },
        {
         "customdata": [
          [
           -26.45,
           -13.77,
           "17:13:03.5",
           "2020/01/06"
          ],
          [
           -25.31,
           -13.66,
           "22:55:21.3",
           "2020/09/05"
          ]
         ],
         "hovertemplate": "<b>%{hovertext}</b><br><br>Cluster=200<br>Lat=%{customdata[0]}<br>Lon=%{customdata[1]}<br>Time=%{customdata[2]}<br>Date=%{customdata[3]}<extra></extra>",
         "hovertext": {
          "dtype": "f8",
          "bdata": "AAAAAAAAaUAAAAAAAABpQA=="
         },
         "lat": {
          "dtype": "f8",
          "bdata": "MzMzMzNzOsCPwvUoXE85wA=="
         },
         "legendgroup": "200",
         "lon": {
          "dtype": "f8",
          "bdata": "CtejcD2KK8BSuB6F61ErwA=="
         },
         "marker": {
          "color": "#F7E1A0"
         },
         "mode": "markers",
         "name": "200",
         "showlegend": true,
         "subplot": "map",
         "type": "scattermap"
        },
        {
         "customdata": [
          [
           -11.64,
           -13.78,
           "06:37:52.7",
           "2020/01/17"
          ],
          [
           -11.51,
           -13.53,
           "19:40:12.9",
           "2020/06/29"
          ]
         ],
         "hovertemplate": "<b>%{hovertext}</b><br><br>Cluster=43<br>Lat=%{customdata[0]}<br>Lon=%{customdata[1]}<br>Time=%{customdata[2]}<br>Date=%{customdata[3]}<extra></extra>",
         "hovertext": {
          "dtype": "f8",
          "bdata": "AAAAAACARUAAAAAAAIBFQA=="
         },
         "lat": {
          "dtype": "f8",
          "bdata": "SOF6FK5HJ8CF61G4HgUnwA=="
         },
         "legendgroup": "43",
         "lon": {
          "dtype": "f8",
          "bdata": "j8L1KFyPK8CPwvUoXA8rwA=="
         },
         "marker": {
          "color": "#E2E2E2"
         },
         "mode": "markers",
         "name": "43",
         "showlegend": true,
         "subplot": "map",
         "type": "scattermap"
        },
        {
         "customdata": [
          [
           35.22,
           -14.57,
           "03:05:27.7",
           "2020/02/29"
          ],
          [
           32.41,
           -16.83,
           "20:58:04.9",
           "2020/03/07"
          ]
         ],
         "hovertemplate": "<b>%{hovertext}</b><br><br>Cluster=19<br>Lat=%{customdata[0]}<br>Lon=%{customdata[1]}<br>Time=%{customdata[2]}<br>Date=%{customdata[3]}<extra></extra>",
         "hovertext": {
          "dtype": "f8",
          "bdata": "AAAAAAAAM0AAAAAAAAAzQA=="
         },
         "lat": {
          "dtype": "f8",
          "bdata": "XI/C9SicQUAUrkfhejRAQA=="
         },
         "legendgroup": "19",
         "lon": {
          "dtype": "f8",
          "bdata": "pHA9CtcjLcAUrkfhetQwwA=="
         },
         "marker": {
          "color": "#1CBE4F"
         },
         "mode": "markers",
         "name": "19",
         "showlegend": true,
         "subplot": "map",
         "type": "scattermap"
        },
        {
         "customdata": [
          [
           39.42,
           40.75,
           "06:51:31.8",
           "2020/06/15"
          ],
          [
           38.19,
           38.7,
           "09:37:37.1",
           "2020/08/04"
          ],
          [
           38.46,
           39.23,
           "06:37:32.9",
           "2020/12/27"
          ]
         ],
         "hovertemplate": "<b>%{hovertext}</b><br><br>Cluster=241<br>Lat=%{customdata[0]}<br>Lon=%{customdata[1]}<br>Time=%{customdata[2]}<br>Date=%{customdata[3]}<extra></extra>",
         "hovertext": {
          "dtype": "f8",
          "bdata": "AAAAAAAgbkAAAAAAACBuQAAAAAAAIG5A"
         },
         "lat": {
          "dtype": "f8",
          "bdata": "9ihcj8K1Q0C4HoXrURhDQHsUrkfhOkNA"
         },
         "legendgroup": "241",
         "lon": {
          "dtype": "f8",
          "bdata": "AAAAAABgRECamZmZmVlDQD0K16NwnUNA"
         },
         "marker": {
          "color": "#C4451C"
         },
         "mode": "markers",
         "name": "241",
         "showlegend": true,
         "subplot": "map",
         "type": "scattermap"
        },
        {
         "customdata": [
          [
           -34.8,
           -14.9,
           "17:08:00.8",
           "2020/08/20"
          ],
          [
           -35.28,
           -15.94,
           "11:56:27.8",
           "2020/09/01"
          ]
         ],
         "hovertemplate": "<b>%{hovertext}</b><br><br>Cluster=219<br>Lat=%{customdata[0]}<br>Lon=%{customdata[1]}<br>Time=%{customdata[2]}<br>Date=%{customdata[3]}<extra></extra>",
         "hovertext": {
          "dtype": "f8",
          "bdata": "AAAAAABga0AAAAAAAGBrQA=="
         },
         "lat": {
          "dtype": "f8",
          "bdata": "ZmZmZmZmQcCkcD0K16NBwA=="
         },
         "legendgroup": "219",
         "lon": {
          "dtype": "f8",
          "bdata": "zczMzMzMLcDhehSuR+EvwA=="
         },
         "marker": {
          "color": "#DEA0FD"
         },
         "mode": "markers",
         "name": "219",
         "showlegend": true,
         "subplot": "map",
         "type": "scattermap"
        }
       ],
       "layout": {
        "template": {
         "data": {
          "histogram2dcontour": [
           {
            "type": "histogram2dcontour",
            "colorbar": {
             "outlinewidth": 0,
             "ticks": ""
            },
            "colorscale": [
             [
              0.0,
              "#0d0887"
             ],
             [
              0.1111111111111111,
              "#46039f"
             ],
             [
              0.2222222222222222,
              "#7201a8"
             ],
             [
              0.3333333333333333,
              "#9c179e"
             ],
             [
              0.4444444444444444,
              "#bd3786"
             ],
             [
              0.5555555555555556,
              "#d8576b"
             ],
             [
              0.6666666666666666,
              "#ed7953"
             ],
             [
              0.7777777777777778,
              "#fb9f3a"
             ],
             [
              0.8888888888888888,
              "#fdca26"
             ],
             [
              1.0,
              "#f0f921"
             ]
            ]
           }
          ],
          "choropleth": [
           {
            "type": "choropleth",
            "colorbar": {
             "outlinewidth": 0,
             "ticks": ""
            }
           }
          ],
          "histogram2d": [
           {
            "type": "histogram2d",
            "colorbar": {
             "outlinewidth": 0,
             "ticks": ""
            },
            "colorscale": [
             [
              0.0,
              "#0d0887"
             ],
             [
              0.1111111111111111,
              "#46039f"
             ],
             [
              0.2222222222222222,
              "#7201a8"
             ],
             [
              0.3333333333333333,
              "#9c179e"
             ],
             [
              0.4444444444444444,
              "#bd3786"
             ],
             [
              0.5555555555555556,
              "#d8576b"
             ],
             [
              0.6666666666666666,
              "#ed7953"
             ],
             [
              0.7777777777777778,
              "#fb9f3a"
             ],
             [
              0.8888888888888888,
              "#fdca26"
             ],
             [
              1.0,
              "#f0f921"
             ]
            ]
           }
          ],
          "heatmap": [
           {
            "type": "heatmap",
            "colorbar": {
             "outlinewidth": 0,
             "ticks": ""
            },
            "colorscale": [
             [
              0.0,
              "#0d0887"
             ],
             [
              0.1111111111111111,
              "#46039f"
             ],
             [
              0.2222222222222222,
              "#7201a8"
             ],
             [
              0.3333333333333333,
              "#9c179e"
             ],
             [
              0.4444444444444444,
              "#bd3786"
             ],
             [
              0.5555555555555556,
              "#d8576b"
             ],
             [
              0.6666666666666666,
              "#ed7953"
             ],
             [
              0.7777777777777778,
              "#fb9f3a"
             ],
             [
              0.8888888888888888,
              "#fdca26"
             ],
             [
              1.0,
              "#f0f921"
             ]
            ]
           }
          ],
          "contourcarpet": [
           {
            "type": "contourcarpet",
            "colorbar": {
             "outlinewidth": 0,
             "ticks": ""
            }
           }
          ],
          "contour": [
           {
            "type": "contour",
            "colorbar": {
             "outlinewidth": 0,
             "ticks": ""
            },
            "colorscale": [
             [
              0.0,
              "#0d0887"
             ],
             [
              0.1111111111111111,
              "#46039f"
             ],
             [
              0.2222222222222222,
              "#7201a8"
             ],
             [
              0.3333333333333333,
              "#9c179e"
             ],
             [
              0.4444444444444444,
              "#bd3786"
             ],
             [
              0.5555555555555556,
              "#d8576b"
             ],
             [
              0.6666666666666666,
              "#ed7953"
             ],
             [
              0.7777777777777778,
              "#fb9f3a"
             ],
             [
              0.8888888888888888,
              "#fdca26"
             ],
             [
              1.0,
              "#f0f921"
             ]
            ]
           }
          ],
          "surface": [
           {
            "type": "surface",
            "colorbar": {
             "outlinewidth": 0,
             "ticks": ""
            },
            "colorscale": [
             [
              0.0,
              "#0d0887"
             ],
             [
              0.1111111111111111,
              "#46039f"
             ],
             [
              0.2222222222222222,
              "#7201a8"
             ],
             [
              0.3333333333333333,
              "#9c179e"
             ],
             [
              0.4444444444444444,
              "#bd3786"
             ],
             [
              0.5555555555555556,
              "#d8576b"
             ],
             [
              0.6666666666666666,
              "#ed7953"
             ],
             [
              0.7777777777777778,
              "#fb9f3a"
             ],
             [
              0.8888888888888888,
              "#fdca26"
             ],
             [
              1.0,
              "#f0f921"
             ]
            ]
           }
          ],
          "mesh3d": [
           {
            "type": "mesh3d",
            "colorbar": {
             "outlinewidth": 0,
             "ticks": ""
            }
           }
          ],
          "scatter": [
           {
            "fillpattern": {
             "fillmode": "overlay",
             "size": 10,
             "solidity": 0.2
            },
            "type": "scatter"
           }
          ],
          "parcoords": [
           {
            "type": "parcoords",
            "line": {
             "colorbar": {
              "outlinewidth": 0,
              "ticks": ""
             }
            }
           }
          ],
          "scatterpolargl": [
           {
            "type": "scatterpolargl",
            "marker": {
             "colorbar": {
              "outlinewidth": 0,
              "ticks": ""
             }
            }
           }
          ],
          "bar": [
           {
            "error_x": {
             "color": "#2a3f5f"
            },
            "error_y": {
             "color": "#2a3f5f"
            },
            "marker": {
             "line": {
              "color": "#E5ECF6",
              "width": 0.5
             },
             "pattern": {
              "fillmode": "overlay",
              "size": 10,
              "solidity": 0.2
             }
            },
            "type": "bar"
           }
          ],
          "scattergeo": [
           {
            "type": "scattergeo",
            "marker": {
             "colorbar": {
              "outlinewidth": 0,
              "ticks": ""
             }
            }
           }
          ],
          "scatterpolar": [
           {
            "type": "scatterpolar",
            "marker": {
             "colorbar": {
              "outlinewidth": 0,
              "ticks": ""
             }
            }
           }
          ],
          "histogram": [
           {
            "marker": {
             "pattern": {
              "fillmode": "overlay",
              "size": 10,
              "solidity": 0.2
             }
            },
            "type": "histogram"
           }
          ],
          "scattergl": [
           {
            "type": "scattergl",
            "marker": {
             "colorbar": {
              "outlinewidth": 0,
              "ticks": ""
             }
            }
           }
          ],
          "scatter3d": [
           {
            "type": "scatter3d",
            "line": {
             "colorbar": {
              "outlinewidth": 0,
              "ticks": ""
             }
            },
            "marker": {
             "colorbar": {
              "outlinewidth": 0,
              "ticks": ""
             }
            }
           }
          ],
          "scattermap": [
           {
            "type": "scattermap",
            "marker": {
             "colorbar": {
              "outlinewidth": 0,
              "ticks": ""
             }
            }
           }
          ],
          "scattermapbox": [
           {
            "type": "scattermapbox",
            "marker": {
             "colorbar": {
              "outlinewidth": 0,
              "ticks": ""
             }
            }
           }
          ],
          "scatterternary": [
           {
            "type": "scatterternary",
            "marker": {
             "colorbar": {
              "outlinewidth": 0,
              "ticks": ""
             }
            }
           }
          ],
          "scattercarpet": [
           {
            "type": "scattercarpet",
            "marker": {
             "colorbar": {
              "outlinewidth": 0,
              "ticks": ""
             }
            }
           }
          ],
          "carpet": [
           {
            "aaxis": {
             "endlinecolor": "#2a3f5f",
             "gridcolor": "white",
             "linecolor": "white",
             "minorgridcolor": "white",
             "startlinecolor": "#2a3f5f"
            },
            "baxis": {
             "endlinecolor": "#2a3f5f",
             "gridcolor": "white",
             "linecolor": "white",
             "minorgridcolor": "white",
             "startlinecolor": "#2a3f5f"
            },
            "type": "carpet"
           }
          ],
          "table": [
           {
            "cells": {
             "fill": {
              "color": "#EBF0F8"
             },
             "line": {
              "color": "white"
             }
            },
            "header": {
             "fill": {
              "color": "#C8D4E3"
             },
             "line": {
              "color": "white"
             }
            },
            "type": "table"
           }
          ],
          "barpolar": [
           {
            "marker": {
             "line": {
              "color": "#E5ECF6",
              "width": 0.5
             },
             "pattern": {
              "fillmode": "overlay",
              "size": 10,
              "solidity": 0.2
             }
            },
            "type": "barpolar"
           }
          ],
          "pie": [
           {
            "automargin": true,
            "type": "pie"
           }
          ]
         },
         "layout": {
          "autotypenumbers": "strict",
          "colorway": [
           "#636efa",
           "#EF553B",
           "#00cc96",
           "#ab63fa",
           "#FFA15A",
           "#19d3f3",
           "#FF6692",
           "#B6E880",
           "#FF97FF",
           "#FECB52"
          ],
          "font": {
           "color": "#2a3f5f"
          },
          "hovermode": "closest",
          "hoverlabel": {
           "align": "left"
          },
          "paper_bgcolor": "white",
          "plot_bgcolor": "#E5ECF6",
          "polar": {
           "bgcolor": "#E5ECF6",
           "angularaxis": {
            "gridcolor": "white",
            "linecolor": "white",
            "ticks": ""
           },
           "radialaxis": {
            "gridcolor": "white",
            "linecolor": "white",
            "ticks": ""
           }
          },
          "ternary": {
           "bgcolor": "#E5ECF6",
           "aaxis": {
            "gridcolor": "white",
            "linecolor": "white",
            "ticks": ""
           },
           "baxis": {
            "gridcolor": "white",
            "linecolor": "white",
            "ticks": ""
           },
           "caxis": {
            "gridcolor": "white",
            "linecolor": "white",
            "ticks": ""
           }
          },
          "coloraxis": {
           "colorbar": {
            "outlinewidth": 0,
            "ticks": ""
           }
          },
          "colorscale": {
           "sequential": [
            [
             0.0,
             "#0d0887"
            ],
            [
             0.1111111111111111,
             "#46039f"
            ],
            [
             0.2222222222222222,
             "#7201a8"
            ],
            [
             0.3333333333333333,
             "#9c179e"
            ],
            [
             0.4444444444444444,
             "#bd3786"
            ],
            [
             0.5555555555555556,
             "#d8576b"
            ],
            [
             0.6666666666666666,
             "#ed7953"
            ],
            [
             0.7777777777777778,
             "#fb9f3a"
            ],
            [
             0.8888888888888888,
             "#fdca26"
            ],
            [
             1.0,
             "#f0f921"
            ]
           ],
           "sequentialminus": [
            [
             0.0,
             "#0d0887"
            ],
            [
             0.1111111111111111,
             "#46039f"
            ],
            [
             0.2222222222222222,
             "#7201a8"
            ],
            [
             0.3333333333333333,
             "#9c179e"
            ],
            [
             0.4444444444444444,
             "#bd3786"
            ],
            [
             0.5555555555555556,
             "#d8576b"
            ],
            [
             0.6666666666666666,
             "#ed7953"
            ],
            [
             0.7777777777777778,
             "#fb9f3a"
            ],
            [
             0.8888888888888888,
             "#fdca26"
            ],
            [
             1.0,
             "#f0f921"
            ]
           ],
           "diverging": [
            [
             0,
             "#8e0152"
            ],
            [
             0.1,
             "#c51b7d"
            ],
            [
             0.2,
             "#de77ae"
            ],
            [
             0.3,
             "#f1b6da"
            ],
            [
             0.4,
             "#fde0ef"
            ],
            [
             0.5,
             "#f7f7f7"
            ],
            [
             0.6,
             "#e6f5d0"
            ],
            [
             0.7,
             "#b8e186"
            ],
            [
             0.8,
             "#7fbc41"
            ],
            [
             0.9,
             "#4d9221"
            ],
            [
             1,
             "#276419"
            ]
           ]
          },
          "xaxis": {
           "gridcolor": "white",
           "linecolor": "white",
           "ticks": "",
           "title": {
            "standoff": 15
           },
           "zerolinecolor": "white",
           "automargin": true,
           "zerolinewidth": 2
          },
          "yaxis": {
           "gridcolor": "white",
           "linecolor": "white",
           "ticks": "",
           "title": {
            "standoff": 15
           },
           "zerolinecolor": "white",
           "automargin": true,
           "zerolinewidth": 2
          },
          "scene": {
           "xaxis": {
            "backgroundcolor": "#E5ECF6",
            "gridcolor": "white",
            "linecolor": "white",
            "showbackground": true,
            "ticks": "",
            "zerolinecolor": "white",
            "gridwidth": 2
           },
           "yaxis": {
            "backgroundcolor": "#E5ECF6",
            "gridcolor": "white",
            "linecolor": "white",
            "showbackground": true,
            "ticks": "",
            "zerolinecolor": "white",
            "gridwidth": 2
           },
           "zaxis": {
            "backgroundcolor": "#E5ECF6",
            "gridcolor": "white",
            "linecolor": "white",
            "showbackground": true,
            "ticks": "",
            "zerolinecolor": "white",
            "gridwidth": 2
           }
          },
          "shapedefaults": {
           "line": {
            "color": "#2a3f5f"
           }
          },
          "annotationdefaults": {
           "arrowcolor": "#2a3f5f",
           "arrowhead": 0,
           "arrowwidth": 1
          },
          "geo": {
           "bgcolor": "white",
           "landcolor": "#E5ECF6",
           "subunitcolor": "white",
           "showland": true,
           "showlakes": true,
           "lakecolor": "white"
          },
          "title": {
           "x": 0.05
          },
          "mapbox": {
           "style": "light"
          }
         }
        },
        "map": {
         "domain": {
          "x": [
           0.0,
           1.0
          ],
          "y": [
           0.0,
           1.0
          ]
         },
         "center": {
          "lat": 10.585296068214115,
          "lon": 16.359909995262907
         },
         "zoom": 2,
         "style": "carto-positron"
        },
        "legend": {
         "title": {
          "text": "Cluster"
         },
         "tracegroupgap": 0
        },
        "title": {
         "text": "Earthquake Clustering using HDBSCAN <br><sup>Time of occurrence: 1976-2020 | Africa and its surrounding area</sup>"
        },
        "height": 800,
        "mapbox": {
         "center": {
          "lat": 10.585296068214115,
          "lon": 16.359909995262907
         },
         "zoom": 2,
         "style": "carto-positron"
        }
       },
       "config": {
        "plotlyServerURL": "https://plot.ly"
       }
      }
     },
     "metadata": {},
     "output_type": "display_data"
    }
   ],
   "execution_count": 10
  },
  {
   "metadata": {
    "ExecuteTime": {
     "end_time": "2025-08-25T17:17:16.306435Z",
     "start_time": "2025-08-25T17:17:16.288848Z"
    }
   },
   "cell_type": "code",
   "source": [
    "# Extract the mainshock sequence\n",
    "declustered_mainshock_hdbscan = df[(df['Type'] == 'Mainshock')].copy()\n",
    "\n",
    "# Compute inter-arrival timesCompute inter-arrival times to second\n",
    "declustered_mainshock_hdbscan['inter_arrival'] = declustered_mainshock_hdbscan['Datetime'].diff().dt.total_seconds()\n",
    "print(declustered_mainshock_hdbscan)"
   ],
   "id": "fedf3be91c53280c",
   "outputs": [
    {
     "name": "stdout",
     "output_type": "stream",
     "text": [
      "            Date    Lat    Lon  Depth  Mag  Strike  Dip  Rake        Time  \\\n",
      "4     1977/02/24 -11.69 -13.62   33.0  5.5      74   71    11  08:51:16.6   \n",
      "7     1977/04/06  31.98  50.68   41.0  5.9     220   58    28  13:36:37.1   \n",
      "9     1977/05/26  38.93  44.38   37.0  5.4     219   86     1  01:35:13.8   \n",
      "10    1977/06/01  36.24  31.34   67.0  5.7     132   64   155  12:54:49.2   \n",
      "12    1977/06/05  32.56  48.16   33.0  5.1     289   33    91  08:25:30.8   \n",
      "...          ...    ...    ...    ...  ...     ...  ...   ...         ...   \n",
      "2278  2020/03/07  32.41 -16.83    9.0  5.2      72   59  -152  20:58:04.9   \n",
      "2337  2020/08/04  38.19  38.70   10.0  5.6     235   75   -15  09:37:37.1   \n",
      "2349  2020/08/20 -34.80 -14.90   10.0  4.6     171   36   -92  17:08:00.8   \n",
      "2352  2020/08/24 -11.18  34.60   10.0  5.0     139   43  -105  07:03:49.2   \n",
      "2373  2020/11/22  36.64   6.89   10.0  5.1     103   75   174  03:53:08.5   \n",
      "\n",
      "                    Datetime      Timediff             x             y  \\\n",
      "4    1977-02-24 08:51:16.600    288.660745 -2.745706e+06 -1.467565e+06   \n",
      "7    1977-04-06 13:36:37.100    329.858899  3.961438e+06  4.159084e+06   \n",
      "9    1977-05-26 01:35:13.800    379.357935  3.066485e+06  4.743774e+06   \n",
      "10   1977-06-01 12:54:49.200    385.829873  1.974099e+06  4.136820e+06   \n",
      "12   1977-06-05 08:25:30.800    389.642854  3.682394e+06  4.134827e+06   \n",
      "...                      ...           ...           ...           ...   \n",
      "2278 2020-03-07 20:58:04.900  16006.165471 -2.555761e+06  4.071723e+06   \n",
      "2337 2020-08-04 09:37:37.100  16155.692927  2.588290e+06  4.502818e+06   \n",
      "2349 2020-08-20 17:08:00.800  16172.005701 -2.275509e+06 -4.287837e+06   \n",
      "2352 2020-08-24 07:03:49.200  16175.586123  2.679744e+06 -1.310349e+06   \n",
      "2373 2020-11-22 03:53:08.500  16265.453707 -2.256820e+05  4.085706e+06   \n",
      "\n",
      "      Cluster       Type  inter_arrival  \n",
      "4          25  Mainshock            NaN  \n",
      "7         115  Mainshock      3559520.5  \n",
      "9         154  Mainshock      4276716.7  \n",
      "10        253  Mainshock       559175.4  \n",
      "12        112  Mainshock       329441.6  \n",
      "...       ...        ...            ...  \n",
      "2278       19  Mainshock      1141053.3  \n",
      "2337      241  Mainshock     12919172.2  \n",
      "2349      219  Mainshock      1409423.7  \n",
      "2352       89  Mainshock       309348.4  \n",
      "2373      202  Mainshock      7764559.3  \n",
      "\n",
      "[298 rows x 16 columns]\n"
     ]
    }
   ],
   "execution_count": 11
  },
  {
   "metadata": {
    "ExecuteTime": {
     "end_time": "2025-08-25T17:17:18.934829Z",
     "start_time": "2025-08-25T17:17:18.926175Z"
    }
   },
   "cell_type": "code",
   "source": [
    "# The Statistic Features of the Mainshock Sequence\n",
    "print(\"The declustered catalogue contains {} events.\".format(len(declustered_mainshock_hdbscan)))\n",
    "\n",
    "max_interval_days = round(declustered_mainshock_hdbscan['inter_arrival'].max() / (24*60*60))\n",
    "print(\"The maximum interarrival time between two neighbour independent events is {} days.\".format(max_interval_days))\n",
    "\n",
    "min_interval_min = round(declustered_mainshock_hdbscan['inter_arrival'].min() / 60)\n",
    "print(\"The minimum interarrival time between two neighbour independent events is {} minutes.\".format(min_interval_min))"
   ],
   "id": "2633261840f259cb",
   "outputs": [
    {
     "name": "stdout",
     "output_type": "stream",
     "text": [
      "The declustered catalogue contains 298 events.\n",
      "The maximum interarrival time between two neighbour independent events is 424 days.\n",
      "The minimum interarrival time between two neighbour independent events is 39 minutes.\n"
     ]
    }
   ],
   "execution_count": 12
  },
  {
   "metadata": {
    "ExecuteTime": {
     "end_time": "2025-08-21T21:47:03.165058Z",
     "start_time": "2025-08-21T21:47:03.102731Z"
    }
   },
   "cell_type": "code",
   "source": [
    "# Visualise the declustered mainshock sequence on map\n",
    "import plotly.express as px\n",
    "\n",
    "fig_mainshock = px.scatter_map(\n",
    "    declustered_mainshock_hdbscan,\n",
    "    lat='Lat',\n",
    "    lon='Lon',\n",
    "    hover_name='Mag',\n",
    "    size='Mag',\n",
    "    size_max=8,\n",
    "    color='Mag',\n",
    "    color_continuous_scale='orrd',\n",
    "    hover_data={'Date', 'Time', 'Lat', 'Lon'},\n",
    "    zoom=2,\n",
    "    height=800,\n",
    "    map_style='carto-positron',\n",
    "    title='Declustered Mainshock Sequence using HDBSCAN<br><sup>Time of occurrence: 1976-2020</sup>'\n",
    ")\n",
    "\n",
    "fig_mainshock.show()"
   ],
   "id": "1295e77d2b6c39",
   "outputs": [
    {
     "data": {
      "application/vnd.plotly.v1+json": {
       "data": [
        {
         "customdata": [
          [
           -13.62,
           "08:51:16.6",
           -11.69,
           "1977/02/24"
          ],
          [
           50.68,
           "13:36:37.1",
           31.98,
           "1977/04/06"
          ],
          [
           44.38,
           "01:35:13.8",
           38.93,
           "1977/05/26"
          ],
          [
           31.34,
           "12:54:49.2",
           36.24,
           "1977/06/01"
          ],
          [
           48.16,
           "08:25:30.8",
           32.56,
           "1977/06/05"
          ],
          [
           39.63,
           "06:23:02.4",
           10.94,
           "1977/07/08"
          ],
          [
           50.95,
           "12:54:21.6",
           13.16,
           "1978/02/11"
          ],
          [
           -12.37,
           "07:02:39.6",
           -4.61,
           "1978/02/24"
          ],
          [
           25.26,
           "22:33:46.7",
           34.5,
           "1978/03/07"
          ],
          [
           15.07,
           "23:33:47.2",
           38.39,
           "1978/04/15"
          ],
          [
           42.59,
           "17:05:55.2",
           11.54,
           "1978/11/07"
          ],
          [
           49.65,
           "07:05:21.0",
           32.14,
           "1978/12/14"
          ],
          [
           -16.63,
           "19:33:39.9",
           -35.2,
           "1979/01/13"
          ],
          [
           46.24,
           "22:48:07.0",
           -39.09,
           "1979/03/12"
          ],
          [
           -11.79,
           "02:38:23.1",
           -19.58,
           "1979/04/12"
          ],
          [
           24.44,
           "06:59:21.2",
           34.53,
           "1979/05/15"
          ],
          [
           -13.05,
           "01:05:21.1",
           -29.01,
           "1979/11/05"
          ],
          [
           11.74,
           "04:06:34.3",
           38.28,
           "1979/12/08"
          ],
          [
           40.23,
           "12:28:22.6",
           16.45,
           "1980/01/14"
          ],
          [
           -11.59,
           "01:32:35.7",
           -6.83,
           "1980/10/16"
          ],
          [
           48.57,
           "17:24:09.9",
           32.76,
           "1980/10/19"
          ],
          [
           1.36,
           "07:54:18.2",
           36.11,
           "1980/11/08"
          ],
          [
           1.37,
           "13:32:05.9",
           35.95,
           "1980/12/05"
          ],
          [
           44.67,
           "12:34:15.6",
           36.01,
           "1980/12/18"
          ],
          [
           50.59,
           "12:51:21.0",
           34.5,
           "1980/12/22"
          ],
          [
           22.93,
           "20:53:38.4",
           38.22,
           "1981/02/24"
          ],
          [
           20.7,
           "15:16:19.8",
           39.48,
           "1981/03/10"
          ],
          [
           30.71,
           "14:13:27.6",
           36.56,
           "1981/04/26"
          ],
          [
           -13.1,
           "08:23:06.2",
           -15.7,
           "1981/09/04"
          ],
          [
           32.6,
           "09:05:29.0",
           23.69,
           "1981/11/14"
          ],
          [
           25.09,
           "14:10:52.9",
           39.39,
           "1981/12/19"
          ],
          [
           28.95,
           "23:21:12.0",
           -3.74,
           "1982/07/03"
          ],
          [
           -15.61,
           "05:35:47.3",
           -1.64,
           "1982/10/01"
          ],
          [
           46.06,
           "06:19:37.5",
           12.08,
           "1982/12/08"
          ],
          [
           20.22,
           "23:51:06.3",
           38.33,
           "1983/03/23"
          ],
          [
           48.55,
           "11:35:53.8",
           32.58,
           "1983/05/28"
          ],
          [
           27.86,
           "20:35:38.2",
           -7.25,
           "1983/07/07"
          ],
          [
           -12.81,
           "20:40:23.3",
           -7.02,
           "1983/09/24"
          ],
          [
           -13.51,
           "00:50:43.5",
           -30.93,
           "1984/11/22"
          ],
          [
           -13.98,
           "13:39:23.6",
           -1.28,
           "1984/12/05"
          ],
          [
           49.94,
           "02:06:42.5",
           31.66,
           "1985/03/27"
          ],
          [
           -16.08,
           "03:41:35.4",
           -35.5,
           "1985/04/05"
          ],
          [
           22.79,
           "18:14:11.6",
           39.25,
           "1985/04/30"
          ],
          [
           41.43,
           "18:11:09.1",
           -10.49,
           "1985/05/14"
          ],
          [
           41.38,
           "08:32:17.5",
           -10.63,
           "1985/05/30"
          ],
          [
           48.46,
           "15:17:06.9",
           -18.31,
           "1985/10/04"
          ],
          [
           6.75,
           "19:34:57.0",
           36.4,
           "1985/10/27"
          ],
          [
           -15.94,
           "14:01:20.2",
           -39.72,
           "1985/11/29"
          ],
          [
           37.77,
           "03:35:38.8",
           37.97,
           "1986/05/05"
          ],
          [
           28.52,
           "15:07:51.2",
           -16.35,
           "1986/07/18"
          ],
          [
           22.2,
           "17:24:33.7",
           37.03,
           "1986/09/13"
          ],
          [
           -15.51,
           "00:13:13.1",
           -14.97,
           "1987/04/14"
          ],
          [
           47.34,
           "00:01:17.3",
           -38.91,
           "1987/04/28"
          ],
          [
           36.69,
           "08:58:29.2",
           5.72,
           "1987/10/28"
          ],
          [
           -13.9,
           "01:58:49.0",
           -1.1,
           "1988/02/22"
          ],
          [
           47.81,
           "13:42:27.1",
           -37.22,
           "1988/02/26"
          ],
          [
           27.66,
           "21:17:09.3",
           -10.35,
           "1988/04/16"
          ],
          [
           20.47,
           "05:17:43.4",
           38.42,
           "1988/05/18"
          ],
          [
           -14.82,
           "21:58:34.8",
           -12.56,
           "1988/09/20"
          ],
          [
           11.66,
           "16:52:19.0",
           35.5,
           "1989/01/03"
          ],
          [
           -16.7,
           "15:51:52.2",
           0.07,
           "1989/02/04"
          ],
          [
           34.34,
           "21:49:45.9",
           -13.78,
           "1989/03/10"
          ],
          [
           40.21,
           "20:44:00.5",
           39.58,
           "1989/05/20"
          ],
          [
           50.95,
           "20:08:37.2",
           30.18,
           "1989/05/27"
          ],
          [
           41.94,
           "11:16:56.1",
           11.75,
           "1989/08/20"
          ],
          [
           41.81,
           "18:39:47.9",
           11.79,
           "1989/08/20"
          ],
          [
           41.75,
           "05:03:05.7",
           11.95,
           "1989/08/21"
          ],
          [
           -14.29,
           "04:03:03.3",
           -32.48,
           "1989/09/16"
          ],
          [
           35.95,
           "19:20:44.4",
           -2.94,
           "1990/04/05"
          ],
          [
           47.87,
           "06:52:11.5",
           -37.36,
           "1990/05/14"
          ],
          [
           35.85,
           "15:21:28.8",
           -2.96,
           "1990/05/15"
          ],
          [
           32.11,
           "02:21:59.7",
           5.04,
           "1990/05/20"
          ],
          [
           49.81,
           "09:02:13.7",
           36.65,
           "1990/06/21"
          ],
          [
           49.31,
           "19:34:52.1",
           36.82,
           "1990/07/06"
          ],
          [
           -13.24,
           "15:41:20.4",
           -17.77,
           "1990/08/24"
          ],
          [
           33.15,
           "00:31:29.3",
           -21.37,
           "1990/11/03"
          ],
          [
           15.5,
           "00:24:24.3",
           37.2,
           "1990/12/13"
          ],
          [
           -12.28,
           "00:09:54.7",
           -3.06,
           "1991/01/20"
          ],
          [
           47.47,
           "16:12:37.4",
           12.31,
           "1991/05/12"
          ],
          [
           31.31,
           "17:22:02.4",
           1.87,
           "1991/10/09"
          ],
          [
           50.71,
           "11:57:54.7",
           31.64,
           "1992/03/04"
          ],
          [
           -13.61,
           "16:34:47.1",
           -7.8,
           "1992/03/12"
          ],
          [
           -4.33,
           "09:11:08.9",
           31.35,
           "1992/10/23"
          ],
          [
           26.95,
           "19:08:08.9",
           38.08,
           "1992/11/06"
          ],
          [
           -13.52,
           "03:46:14.7",
           -31.14,
           "1992/11/20"
          ],
          [
           -16.97,
           "07:42:26.2",
           0.12,
           "1993/01/07"
          ],
          [
           38.8,
           "11:59:26.0",
           19.5,
           "1993/03/16"
          ],
          [
           50.86,
           "16:32:44.0",
           30.22,
           "1993/06/22"
          ],
          [
           34.64,
           "12:43:04.5",
           28.63,
           "1993/08/03"
          ],
          [
           -14.52,
           "09:43:05.8",
           -17.46,
           "1994/01/13"
          ],
          [
           42.81,
           "11:20:22.2",
           11.83,
           "1994/04/11"
          ],
          [
           43.09,
           "02:57:10.7",
           11.6,
           "1994/04/24"
          ],
          [
           26.59,
           "02:05:34.4",
           38.65,
           "1994/05/24"
          ],
          [
           -0.11,
           "01:13:06.1",
           35.56,
           "1994/08/18"
          ],
          [
           -13.54,
           "15:17:40.2",
           -25.06,
           "1994/08/24"
          ],
          [
           -13.39,
           "21:34:52.5",
           -10.04,
           "1994/11/16"
          ],
          [
           39.54,
           "14:31:02.4",
           35.35,
           "1994/11/20"
          ],
          [
           46.74,
           "21:49:15.4",
           -39.0,
           "1994/12/12"
          ],
          [
           -14.27,
           "07:28:19.8",
           -14.05,
           "1995/05/13"
          ],
          [
           19.51,
           "08:51:49.6",
           1.12,
           "1995/09/22"
          ],
          [
           34.64,
           "18:07:17.5",
           29.25,
           "1995/11/23"
          ],
          [
           -14.27,
           "23:49:28.0",
           -1.28,
           "1996/02/18"
          ],
          [
           -13.69,
           "18:45:25.8",
           -26.4,
           "1996/03/22"
          ],
          [
           -14.45,
           "10:41:24.7",
           -33.63,
           "1996/03/29"
          ],
          [
           28.04,
           "07:01:27.5",
           36.37,
           "1996/04/26"
          ],
          [
           27.1,
           "00:00:41.8",
           36.15,
           "1996/07/20"
          ],
          [
           -13.2,
           "19:33:40.4",
           -15.7,
           "1996/08/13"
          ],
          [
           -12.72,
           "14:36:39.1",
           -6.93,
           "1996/08/27"
          ],
          [
           32.21,
           "01:10:22.4",
           34.56,
           "1996/10/10"
          ],
          [
           32.29,
           "04:54:46.3",
           34.85,
           "1996/10/10"
          ],
          [
           48.05,
           "12:57:18.6",
           38.08,
           "1997/02/28"
          ],
          [
           47.87,
           "18:29:42.5",
           37.86,
           "1997/03/02"
          ],
          [
           21.06,
           "10:07:52.5",
           35.58,
           "1997/07/27"
          ],
          [
           30.37,
           "18:13:22.8",
           -7.36,
           "1997/09/21"
          ],
          [
           22.07,
           "13:39:37.5",
           36.38,
           "1997/10/13"
          ],
          [
           25.8,
           "21:38:51.6",
           38.86,
           "1997/11/14"
          ],
          [
           46.36,
           "02:37:03.8",
           -39.61,
           "1998/01/14"
          ],
          [
           -14.85,
           "06:58:24.0",
           -12.33,
           "1998/03/01"
          ],
          [
           29.52,
           "21:59:56.2",
           -6.02,
           "1998/03/28"
          ],
          [
           21.94,
           "03:30:39.3",
           36.14,
           "1998/04/29"
          ],
          [
           46.25,
           "14:27:00.3",
           33.21,
           "1998/08/05"
          ],
          [
           47.25,
           "00:42:47.5",
           33.24,
           "1998/10/04"
          ],
          [
           47.56,
           "19:16:45.5",
           12.35,
           "1998/11/23"
          ],
          [
           38.31,
           "00:08:22.9",
           39.4,
           "1999/04/06"
          ],
          [
           32.94,
           "04:27:55.3",
           34.79,
           "1999/08/11"
          ],
          [
           41.76,
           "01:34:41.5",
           -39.84,
           "2000/09/08"
          ],
          [
           4.77,
           "20:10:53.4",
           36.6,
           "2000/11/10"
          ],
          [
           42.92,
           "15:05:38.2",
           38.4,
           "2000/11/15"
          ],
          [
           31.35,
           "16:44:47.7",
           38.46,
           "2000/12/15"
          ],
          [
           -12.91,
           "18:10:58.7",
           -6.81,
           "2001/03/07"
          ],
          [
           -14.13,
           "11:02:03.8",
           -17.26,
           "2001/06/21"
          ],
          [
           29.97,
           "23:40:00.9",
           0.29,
           "2001/06/29"
          ],
          [
           31.27,
           "07:11:28.4",
           38.57,
           "2002/02/03"
          ],
          [
           31.9,
           "19:07:17.1",
           -7.68,
           "2002/02/20"
          ],
          [
           49.81,
           "13:46:49.8",
           36.57,
           "2002/04/19"
          ],
          [
           -12.27,
           "19:55:58.9",
           -4.83,
           "2002/06/25"
          ],
          [
           41.07,
           "14:50:14.5",
           -11.65,
           "2002/07/16"
          ],
          [
           -16.24,
           "15:16:27.0",
           -35.46,
           "2002/08/04"
          ],
          [
           40.0,
           "21:17:11.7",
           13.65,
           "2002/08/08"
          ],
          [
           34.31,
           "22:52:33.2",
           -9.74,
           "2002/08/31"
          ],
          [
           -12.01,
           "12:55:29.8",
           -19.65,
           "2002/09/26"
          ],
          [
           13.69,
           "06:10:44.9",
           38.44,
           "2002/09/27"
          ],
          [
           36.07,
           "03:10:23.1",
           -5.51,
           "2003/06/14"
          ],
          [
           -13.35,
           "16:38:37.2",
           -15.59,
           "2003/07/23"
          ],
          [
           -10.56,
           "05:31:26.7",
           35.69,
           "2003/07/29"
          ],
          [
           29.45,
           "18:56:50.7",
           -0.52,
           "2003/08/05"
          ],
          [
           -14.06,
           "23:15:12.1",
           -1.01,
           "2003/09/21"
          ],
          [
           -13.66,
           "16:10:22.5",
           -22.97,
           "2003/09/23"
          ],
          [
           43.19,
           "00:09:46.1",
           11.64,
           "2004/01/04"
          ],
          [
           -16.13,
           "20:24:44.7",
           -0.73,
           "2004/03/03"
          ],
          [
           39.26,
           "15:48:26.8",
           38.38,
           "2004/08/11"
          ],
          [
           26.8,
           "01:05:12.9",
           36.43,
           "2004/10/07"
          ],
          [
           -3.14,
           "10:30:00.5",
           35.04,
           "2004/12/04"
          ],
          [
           40.89,
           "01:55:55.6",
           39.35,
           "2005/03/14"
          ],
          [
           25.56,
           "03:06:19.9",
           39.68,
           "2005/08/24"
          ],
          [
           40.53,
           "21:23:37.6",
           12.71,
           "2005/09/20"
          ],
          [
           50.49,
           "23:32:23.2",
           31.69,
           "2005/10/20"
          ],
          [
           29.51,
           "11:51:22.8",
           -6.55,
           "2005/12/08"
          ],
          [
           29.71,
           "23:30:23.9",
           -6.18,
           "2005/12/09"
          ],
          [
           40.95,
           "00:09:50.2",
           39.39,
           "2005/12/10"
          ],
          [
           -14.13,
           "01:09:34.2",
           37.06,
           "2006/01/10"
          ],
          [
           50.86,
           "08:25:35.7",
           13.21,
           "2006/01/27"
          ],
          [
           33.53,
           "01:23:42.2",
           -21.37,
           "2006/02/23"
          ],
          [
           33.53,
           "11:52:54.1",
           -21.19,
           "2006/03/15"
          ],
          [
           5.33,
           "19:44:25.2",
           36.62,
           "2006/03/20"
          ],
          [
           33.26,
           "11:35:13.1",
           -21.34,
           "2006/03/22"
          ],
          [
           48.78,
           "01:17:01.0",
           33.5,
           "2006/03/31"
          ],
          [
           3.81,
           "06:44:31.8",
           34.89,
           "2006/04/02"
          ],
          [
           -14.59,
           "17:43:14.4",
           -34.21,
           "2006/05/25"
          ],
          [
           41.81,
           "04:51:56.9",
           -17.69,
           "2006/06/25"
          ],
          [
           -14.91,
           "09:10:16.7",
           -12.2,
           "2006/08/14"
          ],
          [
           41.81,
           "22:56:21.7",
           -17.74,
           "2006/09/24"
          ],
          [
           43.55,
           "09:07:46.3",
           12.04,
           "2006/12/21"
          ],
          [
           28.82,
           "21:22:00.8",
           38.13,
           "2007/01/23"
          ],
          [
           20.42,
           "13:57:58.2",
           38.34,
           "2007/03/25"
          ],
          [
           15.2,
           "23:55:32.0",
           38.8,
           "2007/07/04"
          ],
          [
           36.16,
           "20:42:11.5",
           -2.88,
           "2007/07/15"
          ],
          [
           -13.41,
           "22:23:04.5",
           -30.99,
           "2007/08/13"
          ],
          [
           42.08,
           "14:01:47.7",
           -11.81,
           "2007/09/16"
          ],
          [
           -11.71,
           "18:39:34.8",
           -7.07,
           "2007/09/26"
          ],
          [
           33.21,
           "09:48:30.0",
           39.42,
           "2007/12/20"
          ],
          [
           28.9,
           "07:34:12.2",
           -2.3,
           "2008/02/03"
          ],
          [
           28.92,
           "02:07:46.8",
           -2.4,
           "2008/02/14"
          ],
          [
           26.07,
           "07:30:44.3",
           -3.67,
           "2008/04/20"
          ],
          [
           -16.6,
           "14:35:29.2",
           -35.46,
           "2008/04/27"
          ],
          [
           21.52,
           "12:25:29.7",
           37.96,
           "2008/06/08"
          ],
          [
           27.86,
           "03:26:34.7",
           35.8,
           "2008/07/15"
          ],
          [
           38.5,
           "02:22:47.0",
           37.51,
           "2008/09/03"
          ],
          [
           -13.95,
           "19:07:38.3",
           -1.17,
           "2008/09/05"
          ],
          [
           40.61,
           "09:40:41.3",
           12.39,
           "2008/10/17"
          ],
          [
           -13.93,
           "18:49:42.4",
           -1.23,
           "2008/11/22"
          ],
          [
           30.13,
           "09:43:10.7",
           -7.35,
           "2008/12/14"
          ],
          [
           -13.34,
           "21:05:16.2",
           -31.19,
           "2008/12/20"
          ],
          [
           -12.74,
           "03:13:25.2",
           -28.23,
           "2009/02/06"
          ],
          [
           -13.9,
           "14:32:30.4",
           -30.05,
           "2009/05/11"
          ],
          [
           37.7,
           "16:54:31.1",
           25.25,
           "2009/05/19"
          ],
          [
           -16.88,
           "11:12:22.0",
           0.17,
           "2009/06/24"
          ],
          [
           -13.75,
           "12:13:17.5",
           -25.63,
           "2009/09/28"
          ],
          [
           29.82,
           "04:50:17.3",
           -6.78,
           "2009/11/14"
          ],
          [
           33.87,
           "18:00:01.0",
           -10.02,
           "2009/12/06"
          ],
          [
           33.84,
           "09:31:44.8",
           -10.11,
           "2009/12/07"
          ],
          [
           -13.25,
           "03:34:40.3",
           -17.55,
           "2009/12/12"
          ],
          [
           33.82,
           "23:19:15.6",
           -10.11,
           "2009/12/19"
          ],
          [
           15.06,
           "11:08:54.7",
           32.57,
           "2009/12/29"
          ],
          [
           -15.83,
           "12:31:36.0",
           -38.9,
           "2010/01/27"
          ],
          [
           48.29,
           "10:25:56.8",
           32.51,
           "2010/02/23"
          ],
          [
           39.99,
           "02:32:34.7",
           38.87,
           "2010/03/08"
          ],
          [
           40.05,
           "07:47:42.0",
           38.71,
           "2010/03/08"
          ],
          [
           -3.54,
           "22:08:12.8",
           36.97,
           "2010/04/11"
          ],
          [
           4.12,
           "12:29:22.3",
           35.9,
           "2010/05/14"
          ],
          [
           49.07,
           "23:00:02.5",
           -37.99,
           "2010/09/04"
          ],
          [
           42.78,
           "10:03:30.5",
           -10.32,
           "2010/10/14"
          ],
          [
           43.81,
           "14:33:19.2",
           11.95,
           "2010/11/14"
          ],
          [
           -10.75,
           "15:45:32.5",
           -6.43,
           "2011/01/11"
          ],
          [
           31.23,
           "03:25:19.4",
           1.74,
           "2011/03/15"
          ],
          [
           26.56,
           "13:29:10.7",
           35.66,
           "2011/04/01"
          ],
          [
           41.74,
           "20:32:40.5",
           13.41,
           "2011/06/12"
          ],
          [
           -14.65,
           "01:29:39.3",
           -1.34,
           "2011/08/14"
          ],
          [
           -16.92,
           "13:24:39.1",
           -38.34,
           "2011/09/20"
          ],
          [
           -13.31,
           "10:40:39.8",
           -32.28,
           "2011/10/19"
          ],
          [
           43.51,
           "10:41:22.9",
           38.72,
           "2011/10/23"
          ],
          [
           43.63,
           "14:55:08.2",
           38.8,
           "2011/10/25"
          ],
          [
           36.09,
           "21:03:36.0",
           3.68,
           "2012/01/22"
          ],
          [
           -13.97,
           "05:09:08.4",
           -1.26,
           "2012/04/10"
          ],
          [
           46.84,
           "16:17:49.0",
           32.42,
           "2012/04/20"
          ],
          [
           50.96,
           "06:50:06.0",
           31.7,
           "2012/07/24"
          ],
          [
           50.95,
           "06:22:04.4",
           13.13,
           "2012/09/04"
          ],
          [
           24.11,
           "03:27:46.3",
           34.78,
           "2012/09/12"
          ],
          [
           37.1,
           "09:17:46.8",
           37.31,
           "2012/09/19"
          ],
          [
           28.26,
           "14:35:31.5",
           -3.91,
           "2012/12/24"
          ],
          [
           43.59,
           "23:37:01.1",
           -23.61,
           "2013/01/25"
          ],
          [
           49.62,
           "08:20:37.6",
           13.31,
           "2013/05/05"
          ],
          [
           5.26,
           "09:07:26.5",
           36.7,
           "2013/05/19"
          ],
          [
           30.82,
           "22:22:18.5",
           1.55,
           "2013/07/03"
          ],
          [
           -15.98,
           "22:19:05.3",
           -1.25,
           "2013/07/22"
          ],
          [
           49.2,
           "17:07:51.2",
           -37.91,
           "2013/08/08"
          ],
          [
           -13.54,
           "23:46:09.3",
           -7.72,
           "2013/08/09"
          ],
          [
           23.25,
           "13:11:53.3",
           35.51,
           "2013/10/12"
          ],
          [
           45.61,
           "18:30:58.0",
           34.31,
           "2013/11/22"
          ],
          [
           45.62,
           "18:05:41.7",
           34.18,
           "2013/11/24"
          ],
          [
           20.45,
           "13:55:42.2",
           38.21,
           "2014/01/26"
          ],
          [
           36.08,
           "00:33:40.5",
           36.74,
           "2014/02/14"
          ],
          [
           47.69,
           "02:32:05.3",
           32.7,
           "2014/08/18"
          ],
          [
           47.72,
           "11:01:40.3",
           32.67,
           "2014/08/18"
          ],
          [
           35.9,
           "17:04:58.2",
           -5.42,
           "2014/10/31"
          ],
          [
           29.74,
           "18:25:41.0",
           -10.97,
           "2014/11/02"
          ],
          [
           46.37,
           "11:14:04.2",
           11.94,
           "2015/07/13"
          ],
          [
           39.82,
           "23:43:27.1",
           -7.14,
           "2015/09/08"
          ],
          [
           43.8,
           "09:46:42.2",
           39.07,
           "2015/10/29"
          ],
          [
           34.34,
           "17:40:49.5",
           39.56,
           "2016/01/10"
          ],
          [
           -3.88,
           "06:10:42.0",
           35.51,
           "2016/01/25"
          ],
          [
           28.42,
           "12:43:59.7",
           -1.57,
           "2016/02/04"
          ],
          [
           40.28,
           "21:02:42.3",
           17.53,
           "2016/03/06"
          ],
          [
           41.44,
           "15:16:46.6",
           -10.77,
           "2016/04/12"
          ],
          [
           31.62,
           "12:27:33.4",
           -1.04,
           "2016/09/10"
          ],
          [
           33.41,
           "20:06:11.7",
           -21.55,
           "2016/09/22"
          ],
          [
           -15.59,
           "01:03:12.3",
           -1.51,
           "2016/10/27"
          ],
          [
           6.24,
           "07:42:24.7",
           34.75,
           "2016/11/18"
          ],
          [
           38.43,
           "11:07:26.9",
           37.62,
           "2017/03/02"
          ],
          [
           29.93,
           "10:53:22.0",
           -6.13,
           "2017/04/29"
          ],
          [
           -13.86,
           "17:11:15.2",
           -0.25,
           "2017/05/27"
          ],
          [
           27.41,
           "22:31:11.2",
           36.92,
           "2017/07/20"
          ],
          [
           -13.6,
           "09:51:51.0",
           -25.01,
           "2017/08/10"
          ],
          [
           -13.66,
           "02:59:25.6",
           -1.11,
           "2017/08/18"
          ],
          [
           -14.11,
           "00:36:15.0",
           -11.74,
           "2017/11/11"
          ],
          [
           44.74,
           "11:58:00.2",
           37.72,
           "2017/12/02"
          ],
          [
           46.42,
           "02:16:18.1",
           -38.91,
           "2018/01/02"
          ],
          [
           46.08,
           "11:26:07.3",
           11.35,
           "2018/01/09"
          ],
          [
           -12.54,
           "23:09:09.6",
           -5.78,
           "2018/01/23"
          ],
          [
           -15.21,
           "21:45:36.3",
           -1.42,
           "2018/03/10"
          ],
          [
           40.01,
           "10:27:32.2",
           13.4,
           "2018/03/24"
          ],
          [
           38.51,
           "00:34:31.2",
           37.6,
           "2018/04/24"
          ],
          [
           -15.97,
           "10:53:55.7",
           -33.16,
           "2018/05/18"
          ],
          [
           45.65,
           "00:47:14.1",
           -12.85,
           "2018/05/21"
          ],
          [
           45.57,
           "07:14:40.7",
           -12.88,
           "2018/06/01"
          ],
          [
           -15.44,
           "05:47:27.0",
           -1.49,
           "2018/07/11"
          ],
          [
           39.81,
           "13:54:30.5",
           16.0,
           "2018/08/13"
          ],
          [
           46.24,
           "22:13:25.6",
           34.61,
           "2018/08/25"
          ],
          [
           49.78,
           "07:27:41.3",
           -37.81,
           "2018/09/18"
          ],
          [
           -16.04,
           "14:04:37.5",
           -34.73,
           "2018/09/20"
          ],
          [
           20.51,
           "15:12:00.6",
           37.51,
           "2018/10/30"
          ],
          [
           20.59,
           "01:10:05.6",
           37.18,
           "2018/11/03"
          ],
          [
           45.68,
           "13:41:59.1",
           34.12,
           "2019/01/06"
          ],
          [
           29.53,
           "06:34:27.8",
           37.41,
           "2019/03/20"
          ],
          [
           32.11,
           "09:15:40.3",
           -7.91,
           "2019/03/21"
          ],
          [
           -15.49,
           "07:30:38.3",
           -35.3,
           "2019/04/16"
          ],
          [
           32.65,
           "16:53:46.2",
           32.81,
           "2019/05/15"
          ],
          [
           -16.09,
           "09:20:33.6",
           -38.41,
           "2019/06/10"
          ],
          [
           36.87,
           "06:54:58.9",
           -4.22,
           "2019/08/20"
          ],
          [
           23.22,
           "07:23:41.8",
           35.69,
           "2019/11/27"
          ],
          [
           -13.77,
           "17:13:03.5",
           -26.45,
           "2020/01/06"
          ],
          [
           -13.78,
           "06:37:52.7",
           -11.64,
           "2020/01/17"
          ],
          [
           44.37,
           "16:00:31.6",
           38.5,
           "2020/02/23"
          ],
          [
           -16.83,
           "20:58:04.9",
           32.41,
           "2020/03/07"
          ],
          [
           38.7,
           "09:37:37.1",
           38.19,
           "2020/08/04"
          ],
          [
           -14.9,
           "17:08:00.8",
           -34.8,
           "2020/08/20"
          ],
          [
           34.6,
           "07:03:49.2",
           -11.18,
           "2020/08/24"
          ],
          [
           6.89,
           "03:53:08.5",
           36.64,
           "2020/11/22"
          ]
         ],
         "hovertemplate": "<b>%{hovertext}</b><br><br>Mag=%{marker.color}<br>Lat=%{customdata[2]}<br>Lon=%{customdata[0]}<br>Time=%{customdata[1]}<br>Date=%{customdata[3]}<extra></extra>",
         "hovertext": {
          "dtype": "f8",
          "bdata": "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"
         },
         "lat": {
          "dtype": "f8",
          "bdata": "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"
         },
         "legendgroup": "",
         "lon": {
          "dtype": "f8",
          "bdata": "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"
         },
         "marker": {
          "color": {
           "dtype": "f8",
           "bdata": "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"
          },
          "coloraxis": "coloraxis",
          "size": {
           "dtype": "f8",
           "bdata": "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"
          },
          "sizemode": "area",
          "sizeref": 0.1140625
         },
         "mode": "markers",
         "name": "",
         "showlegend": false,
         "subplot": "map",
         "type": "scattermap"
        }
       ],
       "layout": {
        "template": {
         "data": {
          "histogram2dcontour": [
           {
            "type": "histogram2dcontour",
            "colorbar": {
             "outlinewidth": 0,
             "ticks": ""
            },
            "colorscale": [
             [
              0.0,
              "#0d0887"
             ],
             [
              0.1111111111111111,
              "#46039f"
             ],
             [
              0.2222222222222222,
              "#7201a8"
             ],
             [
              0.3333333333333333,
              "#9c179e"
             ],
             [
              0.4444444444444444,
              "#bd3786"
             ],
             [
              0.5555555555555556,
              "#d8576b"
             ],
             [
              0.6666666666666666,
              "#ed7953"
             ],
             [
              0.7777777777777778,
              "#fb9f3a"
             ],
             [
              0.8888888888888888,
              "#fdca26"
             ],
             [
              1.0,
              "#f0f921"
             ]
            ]
           }
          ],
          "choropleth": [
           {
            "type": "choropleth",
            "colorbar": {
             "outlinewidth": 0,
             "ticks": ""
            }
           }
          ],
          "histogram2d": [
           {
            "type": "histogram2d",
            "colorbar": {
             "outlinewidth": 0,
             "ticks": ""
            },
            "colorscale": [
             [
              0.0,
              "#0d0887"
             ],
             [
              0.1111111111111111,
              "#46039f"
             ],
             [
              0.2222222222222222,
              "#7201a8"
             ],
             [
              0.3333333333333333,
              "#9c179e"
             ],
             [
              0.4444444444444444,
              "#bd3786"
             ],
             [
              0.5555555555555556,
              "#d8576b"
             ],
             [
              0.6666666666666666,
              "#ed7953"
             ],
             [
              0.7777777777777778,
              "#fb9f3a"
             ],
             [
              0.8888888888888888,
              "#fdca26"
             ],
             [
              1.0,
              "#f0f921"
             ]
            ]
           }
          ],
          "heatmap": [
           {
            "type": "heatmap",
            "colorbar": {
             "outlinewidth": 0,
             "ticks": ""
            },
            "colorscale": [
             [
              0.0,
              "#0d0887"
             ],
             [
              0.1111111111111111,
              "#46039f"
             ],
             [
              0.2222222222222222,
              "#7201a8"
             ],
             [
              0.3333333333333333,
              "#9c179e"
             ],
             [
              0.4444444444444444,
              "#bd3786"
             ],
             [
              0.5555555555555556,
              "#d8576b"
             ],
             [
              0.6666666666666666,
              "#ed7953"
             ],
             [
              0.7777777777777778,
              "#fb9f3a"
             ],
             [
              0.8888888888888888,
              "#fdca26"
             ],
             [
              1.0,
              "#f0f921"
             ]
            ]
           }
          ],
          "contourcarpet": [
           {
            "type": "contourcarpet",
            "colorbar": {
             "outlinewidth": 0,
             "ticks": ""
            }
           }
          ],
          "contour": [
           {
            "type": "contour",
            "colorbar": {
             "outlinewidth": 0,
             "ticks": ""
            },
            "colorscale": [
             [
              0.0,
              "#0d0887"
             ],
             [
              0.1111111111111111,
              "#46039f"
             ],
             [
              0.2222222222222222,
              "#7201a8"
             ],
             [
              0.3333333333333333,
              "#9c179e"
             ],
             [
              0.4444444444444444,
              "#bd3786"
             ],
             [
              0.5555555555555556,
              "#d8576b"
             ],
             [
              0.6666666666666666,
              "#ed7953"
             ],
             [
              0.7777777777777778,
              "#fb9f3a"
             ],
             [
              0.8888888888888888,
              "#fdca26"
             ],
             [
              1.0,
              "#f0f921"
             ]
            ]
           }
          ],
          "surface": [
           {
            "type": "surface",
            "colorbar": {
             "outlinewidth": 0,
             "ticks": ""
            },
            "colorscale": [
             [
              0.0,
              "#0d0887"
             ],
             [
              0.1111111111111111,
              "#46039f"
             ],
             [
              0.2222222222222222,
              "#7201a8"
             ],
             [
              0.3333333333333333,
              "#9c179e"
             ],
             [
              0.4444444444444444,
              "#bd3786"
             ],
             [
              0.5555555555555556,
              "#d8576b"
             ],
             [
              0.6666666666666666,
              "#ed7953"
             ],
             [
              0.7777777777777778,
              "#fb9f3a"
             ],
             [
              0.8888888888888888,
              "#fdca26"
             ],
             [
              1.0,
              "#f0f921"
             ]
            ]
           }
          ],
          "mesh3d": [
           {
            "type": "mesh3d",
            "colorbar": {
             "outlinewidth": 0,
             "ticks": ""
            }
           }
          ],
          "scatter": [
           {
            "fillpattern": {
             "fillmode": "overlay",
             "size": 10,
             "solidity": 0.2
            },
            "type": "scatter"
           }
          ],
          "parcoords": [
           {
            "type": "parcoords",
            "line": {
             "colorbar": {
              "outlinewidth": 0,
              "ticks": ""
             }
            }
           }
          ],
          "scatterpolargl": [
           {
            "type": "scatterpolargl",
            "marker": {
             "colorbar": {
              "outlinewidth": 0,
              "ticks": ""
             }
            }
           }
          ],
          "bar": [
           {
            "error_x": {
             "color": "#2a3f5f"
            },
            "error_y": {
             "color": "#2a3f5f"
            },
            "marker": {
             "line": {
              "color": "#E5ECF6",
              "width": 0.5
             },
             "pattern": {
              "fillmode": "overlay",
              "size": 10,
              "solidity": 0.2
             }
            },
            "type": "bar"
           }
          ],
          "scattergeo": [
           {
            "type": "scattergeo",
            "marker": {
             "colorbar": {
              "outlinewidth": 0,
              "ticks": ""
             }
            }
           }
          ],
          "scatterpolar": [
           {
            "type": "scatterpolar",
            "marker": {
             "colorbar": {
              "outlinewidth": 0,
              "ticks": ""
             }
            }
           }
          ],
          "histogram": [
           {
            "marker": {
             "pattern": {
              "fillmode": "overlay",
              "size": 10,
              "solidity": 0.2
             }
            },
            "type": "histogram"
           }
          ],
          "scattergl": [
           {
            "type": "scattergl",
            "marker": {
             "colorbar": {
              "outlinewidth": 0,
              "ticks": ""
             }
            }
           }
          ],
          "scatter3d": [
           {
            "type": "scatter3d",
            "line": {
             "colorbar": {
              "outlinewidth": 0,
              "ticks": ""
             }
            },
            "marker": {
             "colorbar": {
              "outlinewidth": 0,
              "ticks": ""
             }
            }
           }
          ],
          "scattermap": [
           {
            "type": "scattermap",
            "marker": {
             "colorbar": {
              "outlinewidth": 0,
              "ticks": ""
             }
            }
           }
          ],
          "scattermapbox": [
           {
            "type": "scattermapbox",
            "marker": {
             "colorbar": {
              "outlinewidth": 0,
              "ticks": ""
             }
            }
           }
          ],
          "scatterternary": [
           {
            "type": "scatterternary",
            "marker": {
             "colorbar": {
              "outlinewidth": 0,
              "ticks": ""
             }
            }
           }
          ],
          "scattercarpet": [
           {
            "type": "scattercarpet",
            "marker": {
             "colorbar": {
              "outlinewidth": 0,
              "ticks": ""
             }
            }
           }
          ],
          "carpet": [
           {
            "aaxis": {
             "endlinecolor": "#2a3f5f",
             "gridcolor": "white",
             "linecolor": "white",
             "minorgridcolor": "white",
             "startlinecolor": "#2a3f5f"
            },
            "baxis": {
             "endlinecolor": "#2a3f5f",
             "gridcolor": "white",
             "linecolor": "white",
             "minorgridcolor": "white",
             "startlinecolor": "#2a3f5f"
            },
            "type": "carpet"
           }
          ],
          "table": [
           {
            "cells": {
             "fill": {
              "color": "#EBF0F8"
             },
             "line": {
              "color": "white"
             }
            },
            "header": {
             "fill": {
              "color": "#C8D4E3"
             },
             "line": {
              "color": "white"
             }
            },
            "type": "table"
           }
          ],
          "barpolar": [
           {
            "marker": {
             "line": {
              "color": "#E5ECF6",
              "width": 0.5
             },
             "pattern": {
              "fillmode": "overlay",
              "size": 10,
              "solidity": 0.2
             }
            },
            "type": "barpolar"
           }
          ],
          "pie": [
           {
            "automargin": true,
            "type": "pie"
           }
          ]
         },
         "layout": {
          "autotypenumbers": "strict",
          "colorway": [
           "#636efa",
           "#EF553B",
           "#00cc96",
           "#ab63fa",
           "#FFA15A",
           "#19d3f3",
           "#FF6692",
           "#B6E880",
           "#FF97FF",
           "#FECB52"
          ],
          "font": {
           "color": "#2a3f5f"
          },
          "hovermode": "closest",
          "hoverlabel": {
           "align": "left"
          },
          "paper_bgcolor": "white",
          "plot_bgcolor": "#E5ECF6",
          "polar": {
           "bgcolor": "#E5ECF6",
           "angularaxis": {
            "gridcolor": "white",
            "linecolor": "white",
            "ticks": ""
           },
           "radialaxis": {
            "gridcolor": "white",
            "linecolor": "white",
            "ticks": ""
           }
          },
          "ternary": {
           "bgcolor": "#E5ECF6",
           "aaxis": {
            "gridcolor": "white",
            "linecolor": "white",
            "ticks": ""
           },
           "baxis": {
            "gridcolor": "white",
            "linecolor": "white",
            "ticks": ""
           },
           "caxis": {
            "gridcolor": "white",
            "linecolor": "white",
            "ticks": ""
           }
          },
          "coloraxis": {
           "colorbar": {
            "outlinewidth": 0,
            "ticks": ""
           }
          },
          "colorscale": {
           "sequential": [
            [
             0.0,
             "#0d0887"
            ],
            [
             0.1111111111111111,
             "#46039f"
            ],
            [
             0.2222222222222222,
             "#7201a8"
            ],
            [
             0.3333333333333333,
             "#9c179e"
            ],
            [
             0.4444444444444444,
             "#bd3786"
            ],
            [
             0.5555555555555556,
             "#d8576b"
            ],
            [
             0.6666666666666666,
             "#ed7953"
            ],
            [
             0.7777777777777778,
             "#fb9f3a"
            ],
            [
             0.8888888888888888,
             "#fdca26"
            ],
            [
             1.0,
             "#f0f921"
            ]
           ],
           "sequentialminus": [
            [
             0.0,
             "#0d0887"
            ],
            [
             0.1111111111111111,
             "#46039f"
            ],
            [
             0.2222222222222222,
             "#7201a8"
            ],
            [
             0.3333333333333333,
             "#9c179e"
            ],
            [
             0.4444444444444444,
             "#bd3786"
            ],
            [
             0.5555555555555556,
             "#d8576b"
            ],
            [
             0.6666666666666666,
             "#ed7953"
            ],
            [
             0.7777777777777778,
             "#fb9f3a"
            ],
            [
             0.8888888888888888,
             "#fdca26"
            ],
            [
             1.0,
             "#f0f921"
            ]
           ],
           "diverging": [
            [
             0,
             "#8e0152"
            ],
            [
             0.1,
             "#c51b7d"
            ],
            [
             0.2,
             "#de77ae"
            ],
            [
             0.3,
             "#f1b6da"
            ],
            [
             0.4,
             "#fde0ef"
            ],
            [
             0.5,
             "#f7f7f7"
            ],
            [
             0.6,
             "#e6f5d0"
            ],
            [
             0.7,
             "#b8e186"
            ],
            [
             0.8,
             "#7fbc41"
            ],
            [
             0.9,
             "#4d9221"
            ],
            [
             1,
             "#276419"
            ]
           ]
          },
          "xaxis": {
           "gridcolor": "white",
           "linecolor": "white",
           "ticks": "",
           "title": {
            "standoff": 15
           },
           "zerolinecolor": "white",
           "automargin": true,
           "zerolinewidth": 2
          },
          "yaxis": {
           "gridcolor": "white",
           "linecolor": "white",
           "ticks": "",
           "title": {
            "standoff": 15
           },
           "zerolinecolor": "white",
           "automargin": true,
           "zerolinewidth": 2
          },
          "scene": {
           "xaxis": {
            "backgroundcolor": "#E5ECF6",
            "gridcolor": "white",
            "linecolor": "white",
            "showbackground": true,
            "ticks": "",
            "zerolinecolor": "white",
            "gridwidth": 2
           },
           "yaxis": {
            "backgroundcolor": "#E5ECF6",
            "gridcolor": "white",
            "linecolor": "white",
            "showbackground": true,
            "ticks": "",
            "zerolinecolor": "white",
            "gridwidth": 2
           },
           "zaxis": {
            "backgroundcolor": "#E5ECF6",
            "gridcolor": "white",
            "linecolor": "white",
            "showbackground": true,
            "ticks": "",
            "zerolinecolor": "white",
            "gridwidth": 2
           }
          },
          "shapedefaults": {
           "line": {
            "color": "#2a3f5f"
           }
          },
          "annotationdefaults": {
           "arrowcolor": "#2a3f5f",
           "arrowhead": 0,
           "arrowwidth": 1
          },
          "geo": {
           "bgcolor": "white",
           "landcolor": "#E5ECF6",
           "subunitcolor": "white",
           "showland": true,
           "showlakes": true,
           "lakecolor": "white"
          },
          "title": {
           "x": 0.05
          },
          "mapbox": {
           "style": "light"
          }
         }
        },
        "map": {
         "domain": {
          "x": [
           0.0,
           1.0
          ],
          "y": [
           0.0,
           1.0
          ]
         },
         "center": {
          "lat": 8.559261744966442,
          "lon": 21.011040268456377
         },
         "zoom": 2,
         "style": "carto-positron"
        },
        "coloraxis": {
         "colorbar": {
          "title": {
           "text": "Mag"
          }
         },
         "colorscale": [
          [
           0.0,
           "rgb(255,247,236)"
          ],
          [
           0.125,
           "rgb(254,232,200)"
          ],
          [
           0.25,
           "rgb(253,212,158)"
          ],
          [
           0.375,
           "rgb(253,187,132)"
          ],
          [
           0.5,
           "rgb(252,141,89)"
          ],
          [
           0.625,
           "rgb(239,101,72)"
          ],
          [
           0.75,
           "rgb(215,48,31)"
          ],
          [
           0.875,
           "rgb(179,0,0)"
          ],
          [
           1.0,
           "rgb(127,0,0)"
          ]
         ]
        },
        "legend": {
         "tracegroupgap": 0,
         "itemsizing": "constant"
        },
        "title": {
         "text": "Declustered Mainshock Sequence using HDBSCAN<br><sup>Time of occurrence: 1976-2020</sup>"
        },
        "height": 800,
        "mapbox": {
         "center": {
          "lat": 8.559261744966442,
          "lon": 21.011040268456377
         },
         "zoom": 2,
         "style": "carto-positron"
        }
       },
       "config": {
        "plotlyServerURL": "https://plot.ly"
       }
      }
     },
     "metadata": {},
     "output_type": "display_data"
    }
   ],
   "execution_count": 100
  },
  {
   "metadata": {
    "ExecuteTime": {
     "end_time": "2025-08-26T23:18:24.554284Z",
     "start_time": "2025-08-26T23:18:18.442481Z"
    }
   },
   "cell_type": "code",
   "source": [
    "# Visualisation: The inter_arrival times are expected to fit an exponential distribution\n",
    "import matplotlib.pyplot as plt\n",
    "import numpy as np\n",
    "from scipy.stats import expon\n",
    "from scipy.stats import probplot\n",
    "\n",
    "x = declustered_mainshock_hdbscan['inter_arrival'].dropna()\n",
    "loc, scale = expon.fit(x)\n",
    "\n",
    "# Comprehensive analysis for the raw catalogue\n",
    "fig, axes = plt.subplots(2, 2, figsize=(15, 12))\n",
    "\n",
    "# Standard Histogram with Exponential Fit (Top-Left)\n",
    "axes[0, 0].hist(x, bins=30, density=True, alpha=0.7, color='skyblue', edgecolor='black')\n",
    "x_range = np.linspace(x.min(), x.max(), 100)\n",
    "axes[0, 0].plot(x_range, expon.pdf(x_range, loc, scale), 'r-', lw=2)\n",
    "axes[0, 0].set_title('Standard Histogram with Exponential Fit')\n",
    "axes[0, 0].set_xlabel('Inter-arrival Time (days)')\n",
    "axes[0, 0].set_ylabel('Probability Density')\n",
    "axes[0, 0].grid(True, alpha=0.3)\n",
    "\n",
    "# Log-scale Histogram (Top-Right)\n",
    "bins = np.logspace(np.log10(x.min()), np.log10(x.max()), 30)\n",
    "axes[0, 1].hist(x, bins=bins, density=True, alpha=0.7, color='skyblue', edgecolor='black')\n",
    "axes[0, 1].set_xscale('log')\n",
    "axes[0, 1].set_title('Log-scale Histogram')\n",
    "axes[0, 1].set_xlabel('Inter-arrival Time (days, log scale)')\n",
    "axes[0, 1].set_ylabel('Probability Density')\n",
    "axes[0, 1].grid(True, alpha=0.3)\n",
    "\n",
    "# CDF Comparison (Bottom-Left)\n",
    "x_sorted = np.sort(x)\n",
    "y_ecdf = np.arange(1, len(x_sorted)+1) / len(x_sorted)\n",
    "y_theoretical = expon.cdf(x_sorted, loc, scale)\n",
    "axes[1, 0].plot(x_sorted, y_ecdf, label='Empirical CDF', linewidth=2)\n",
    "axes[1, 0].plot(x_sorted, y_theoretical, label='Theoretical CDF', linestyle='--', linewidth=2)\n",
    "axes[1, 0].set_title('CDF Comparison')\n",
    "axes[1, 0].set_xlabel('Inter-arrival Time (days)')\n",
    "axes[1, 0].set_ylabel('Cumulative Probability')\n",
    "axes[1, 0].legend()\n",
    "axes[1, 0].grid(True, alpha=0.3)\n",
    "\n",
    "# Q-Q Plot (Bottom-Right)\n",
    "probplot(x, dist=expon, sparams=(loc, scale), plot=axes[1, 1])\n",
    "axes[1, 1].set_title('Q-Q Plot')\n",
    "\n",
    "plt.savefig('comprehensive_analysis_africa_hdbscan.png', dpi=300, bbox_inches='tight')\n",
    "plt.suptitle('Comprehensive Analysis of Inter-arrival Times after Declustering using Window Method\\nAfrica and its Surrounding area, 1976-2020', fontsize=16)\n",
    "plt.tight_layout()\n",
    "plt.show()"
   ],
   "id": "51f9928a884c976f",
   "outputs": [
    {
     "data": {
      "text/plain": [
       "<Figure size 1500x1200 with 4 Axes>"
      ],
      "image/png": "[encoded data removed]"
     },
     "metadata": {},
     "output_type": "display_data"
    }
   ],
   "execution_count": 18
  },
  {
   "metadata": {
    "ExecuteTime": {
     "end_time": "2025-08-25T17:30:10.888990Z",
     "start_time": "2025-08-25T17:30:09.842822Z"
    }
   },
   "cell_type": "code",
   "source": [
    "# Q-Q Plot (Zoom out)\n",
    "x = declustered_mainshock_hdbscan['inter_arrival'].dropna()\n",
    "loc, scale = expon.fit(x)\n",
    "\n",
    "plt.figure(figsize=(6, 6))\n",
    "probplot(x, dist=expon, sparams=(loc, scale), plot=plt)\n",
    "plt.title(\"Africa Grid: HDBSCAN\", fontsize=14)\n",
    "plt.tight_layout()\n",
    "plt.savefig(\"qq_africa_hdbscan.png\", dpi=300)\n",
    "plt.show()"
   ],
   "id": "532da434a3f56ffe",
   "outputs": [
    {
     "data": {
      "text/plain": [
       "<Figure size 600x600 with 1 Axes>"
      ],
      "image/png": "[encoded data removed]"
     },
     "metadata": {},
     "output_type": "display_data"
    }
   ],
   "execution_count": 17
  },
  {
   "metadata": {
    "ExecuteTime": {
     "end_time": "2025-08-25T17:17:28.168459Z",
     "start_time": "2025-08-25T17:17:27.917233Z"
    }
   },
   "cell_type": "code",
   "source": [
    "# Lon vs Mag\n",
    "import matplotlib.pyplot as plt\n",
    "\n",
    "x = declustered_mainshock_hdbscan['Lon']\n",
    "y = declustered_mainshock_hdbscan['Mag']\n",
    "\n",
    "plt.figure(figsize=(8, 5))\n",
    "plt.ylim(4, 9)\n",
    "plt.scatter(x, y, s=5, color='orange')\n",
    "plt.axhline(y=4.5, color='red', linestyle='--')  # Observing the minor magnitude(<4.5) events for comparison\n",
    "plt.axhline(y=5, color='grey', linestyle='--')  # Observing the minor magnitude events(<5) for comparison\n",
    "plt.xlabel(\"Longitude\")\n",
    "plt.ylabel(\"Magnitude\")\n",
    "plt.title(\"Longitude vs. Magnitude for the Declustered Catalogue from HDBSCAN\\n(Africa and its Surrounding area, 1976-2020)\")\n",
    "plt.show()"
   ],
   "id": "4b6047b97d9a4585",
   "outputs": [
    {
     "data": {
      "text/plain": [
       "<Figure size 800x500 with 1 Axes>"
      ],
      "image/png": "[encoded data removed]"
     },
     "metadata": {},
     "output_type": "display_data"
    }
   ],
   "execution_count": 13
  },
  {
   "metadata": {
    "ExecuteTime": {
     "end_time": "2025-08-27T00:16:07.994491Z",
     "start_time": "2025-08-27T00:16:07.176141Z"
    }
   },
   "cell_type": "code",
   "source": [
    "# Lat vs Mag\n",
    "import matplotlib.pyplot as plt\n",
    "\n",
    "x = declustered_mainshock_hdbscan['Lat']\n",
    "y = declustered_mainshock_hdbscan['Mag']\n",
    "\n",
    "plt.figure(figsize=(8, 5))\n",
    "plt.ylim(4, 8.5)\n",
    "plt.scatter(x, y, s=5, color='orange')\n",
    "plt.axhline(y=4.5, color='red', linestyle='--')  # Observing the minor magnitude(<4.5) events for comparison\n",
    "plt.axhline(y=5, color='grey', linestyle='--')  # Observing the minor magnitude events(<5) for comparison\n",
    "plt.xlabel(\"Latitude\")\n",
    "plt.ylabel(\"Magnitude\")\n",
    "plt.title(\"Latitude vs. Magnitude for the Declustered Catalogue from HDBSCAN\\n(Africa and its Surrounding area, 1976-2020)\")\n",
    "plt.show()"
   ],
   "id": "ca7bc4cb19080ac1",
   "outputs": [
    {
     "data": {
      "text/plain": [
       "<Figure size 800x500 with 1 Axes>"
      ],
      "image/png": "[encoded data removed]"
     },
     "metadata": {},
     "output_type": "display_data"
    }
   ],
   "execution_count": 19
  },
  {
   "metadata": {
    "ExecuteTime": {
     "end_time": "2025-08-21T21:47:06.703204Z",
     "start_time": "2025-08-21T21:47:06.684777Z"
    }
   },
   "cell_type": "code",
   "source": [
    "# KS test\n",
    "from scipy.stats import kstest, expon\n",
    "\n",
    "x = declustered_mainshock_hdbscan['inter_arrival'].dropna()\n",
    "loc, scale = expon.fit(x)\n",
    "\n",
    "stat, p_value = kstest(x, 'expon', args=(loc, scale))\n",
    "\n",
    "# If p_value > 0.05, the inter-arrival times are consistent with an exponential distribution.\n",
    "# This implies that the earthquake occurrences follow a Poisson process.\n",
    "print(f\"K-S test p-value: {p_value:.4f}\")\n",
    "print(f\"K-S Test Statistic (D): {stat:.4f}\")\n",
    "\n",
    "METHOD_NAME = \"HDBSCAN\"\n",
    "if p_value > 0.05:\n",
    "    # We fail to reject the null hypothesis.\n",
    "    print(f\"The declustered catalogue from the {METHOD_NAME} method is consistent with a Poisson process.\")\n",
    "else:\n",
    "    # We reject the null hypothesis.\n",
    "    print(f\"The declustered catalogue from the {METHOD_NAME} method is not consistent with a Poisson process.\")"
   ],
   "id": "68545393a04ea46f",
   "outputs": [
    {
     "name": "stdout",
     "output_type": "stream",
     "text": [
      "K-S test p-value: 0.4121\n",
      "K-S Test Statistic (D): 0.0509\n",
      "The declustered catalogue from the HDBSCAN method is consistent with a Poisson process.\n"
     ]
    }
   ],
   "execution_count": 104
  },
  {
   "metadata": {
    "ExecuteTime": {
     "end_time": "2025-08-21T21:47:06.727785Z",
     "start_time": "2025-08-21T21:47:06.723765Z"
    }
   },
   "cell_type": "code",
   "source": "",
   "id": "e74dca210bd2c261",
   "outputs": [],
   "execution_count": null
  }
 ],
 "metadata": {
  "kernelspec": {
   "display_name": "Python 3",
   "language": "python",
   "name": "python3"
  },
  "language_info": {
   "codemirror_mode": {
    "name": "ipython",
    "version": 2
   },
   "file_extension": ".py",
   "mimetype": "text/x-python",
   "name": "python",
   "nbconvert_exporter": "python",
   "pygments_lexer": "ipython2",
   "version": "2.7.6"
  }
 },
 "nbformat": 4,
 "nbformat_minor": 5
}
