{
 "cells": [
  {
   "metadata": {
    "ExecuteTime": {
     "end_time": "2025-08-26T07:31:37.972832Z",
     "start_time": "2025-08-26T07:31:37.941694Z"
    }
   },
   "cell_type": "code",
   "source": [
    "# ============================\n",
    "# Import Dataset\n",
    "# ============================\n",
    "import pandas as pd\n",
    "file_path = \"sample_new_zealand. csv\"\n",
    "df = pd.read_csv(file_path)\n",
    "df['Datetime'] = pd.to_datetime(df['Datetime'])\n",
    "df = df.sort_values('Datetime').reset_index(drop=True)\n",
    "print(df)"
   ],
   "id": "8ca0755511b3ad6e",
   "outputs": [
    {
     "name": "stdout",
     "output_type": "stream",
     "text": [
      "            Date    Lat     Lon  Depth  Mag  Strike  Dip  Rake        Time  \\\n",
      "0     1976/01/15 -30.38 -176.82   33.0  6.2     196   26    91  06:06:46.1   \n",
      "1     1976/01/15 -30.15 -177.24   33.0  6.1     180   10    73  16:12:22.3   \n",
      "2     1976/05/04 -44.64  167.57   19.0  6.6      57   18   136  13:56:29.9   \n",
      "3     1976/06/29 -33.82 -177.83   48.0  6.1      24   37    78  18:30:09.1   \n",
      "4     1976/07/31 -30.32 -177.96   20.0  6.2     196   31    93  00:46:58.0   \n",
      "...          ...    ...     ...    ...  ...     ...  ...   ...         ...   \n",
      "1537  2020/11/29 -31.86  179.20  462.5  5.3     115   35  -178  21:45:22.7   \n",
      "1538  2020/12/10 -32.88 -179.85   96.0  5.9     139   25   175  20:42:08.3   \n",
      "1539  2020/12/11 -32.91 -179.05   43.5  5.1     206   34   104  15:30:00.1   \n",
      "1540  2020/12/18 -32.64 -178.84   35.7  5.1     198   32    97  20:49:15.8   \n",
      "1541  2020/12/24 -32.05 -178.10   10.0  5.1     197   28    77  20:04:11.8   \n",
      "\n",
      "                    Datetime  \n",
      "0    1976-01-15 06:06:46.100  \n",
      "1    1976-01-15 16:12:22.300  \n",
      "2    1976-05-04 13:56:29.900  \n",
      "3    1976-06-29 18:30:09.100  \n",
      "4    1976-07-31 00:46:58.000  \n",
      "...                      ...  \n",
      "1537 2020-11-29 21:45:22.700  \n",
      "1538 2020-12-10 20:42:08.300  \n",
      "1539 2020-12-11 15:30:00.100  \n",
      "1540 2020-12-18 20:49:15.800  \n",
      "1541 2020-12-24 20:04:11.800  \n",
      "\n",
      "[1542 rows x 10 columns]\n"
     ]
    }
   ],
   "execution_count": 2
  },
  {
   "metadata": {
    "ExecuteTime": {
     "end_time": "2025-08-26T07:31:38.000133Z",
     "start_time": "2025-08-26T07:31:37.997230Z"
    }
   },
   "cell_type": "code",
   "source": [
    "# ===============================================\n",
    "# Gardner and Knopoff Window Method (1974)\n",
    "# ==============================================="
   ],
   "id": "167c8c11582a49a0",
   "outputs": [],
   "execution_count": 3
  },
  {
   "metadata": {
    "ExecuteTime": {
     "end_time": "2025-08-26T07:31:40.714061Z",
     "start_time": "2025-08-26T07:31:38.010593Z"
    }
   },
   "cell_type": "code",
   "source": [
    "# --- Step 1: Run the declustering algorithm ---\n",
    "from gk_decluster import window_decluster, get_valid_clusters, get_mainshocks\n",
    "clustered_catalog = window_decluster(df)\n",
    "print(clustered_catalog)  # This catalogue contains mainshocks, dependent shocks and noise"
   ],
   "id": "e8660f525eaafa9d",
   "outputs": [
    {
     "name": "stdout",
     "output_type": "stream",
     "text": [
      "            Date    Lat     Lon  Depth  Mag  Strike  Dip  Rake        Time  \\\n",
      "0     1976/01/15 -30.38 -176.82   33.0  6.2     196   26    91  06:06:46.1   \n",
      "1     1976/01/15 -30.15 -177.24   33.0  6.1     180   10    73  16:12:22.3   \n",
      "2     1976/05/04 -44.64  167.57   19.0  6.6      57   18   136  13:56:29.9   \n",
      "3     1976/06/29 -33.82 -177.83   48.0  6.1      24   37    78  18:30:09.1   \n",
      "4     1976/07/31 -30.32 -177.96   20.0  6.2     196   31    93  00:46:58.0   \n",
      "...          ...    ...     ...    ...  ...     ...  ...   ...         ...   \n",
      "1537  2020/11/29 -31.86  179.20  462.5  5.3     115   35  -178  21:45:22.7   \n",
      "1538  2020/12/10 -32.88 -179.85   96.0  5.9     139   25   175  20:42:08.3   \n",
      "1539  2020/12/11 -32.91 -179.05   43.5  5.1     206   34   104  15:30:00.1   \n",
      "1540  2020/12/18 -32.64 -178.84   35.7  5.1     198   32    97  20:49:15.8   \n",
      "1541  2020/12/24 -32.05 -178.10   10.0  5.1     197   28    77  20:04:11.8   \n",
      "\n",
      "                    Datetime             x             y  is_dependent  \\\n",
      "0    1976-01-15 06:06:46.100  4.827059e+05 -6.635022e+06         False   \n",
      "1    1976-01-15 16:12:22.300  5.231126e+05 -6.660499e+06          True   \n",
      "2    1976-05-04 13:56:29.900  1.723758e+06 -4.935752e+06         False   \n",
      "3    1976-06-29 18:30:09.100  5.768110e+05 -6.253422e+06         False   \n",
      "4    1976-07-31 00:46:58.000  5.922934e+05 -6.641295e+06         False   \n",
      "...                      ...           ...           ...           ...   \n",
      "1537 2020-11-29 21:45:22.700  8.595922e+05 -6.464712e+06         False   \n",
      "1538 2020-12-10 20:42:08.300  7.666404e+05 -6.354344e+06         False   \n",
      "1539 2020-12-11 15:30:00.100  6.917135e+05 -6.352756e+06         False   \n",
      "1540 2020-12-18 20:49:15.800  6.725923e+05 -6.383056e+06          True   \n",
      "1541 2020-12-24 20:04:11.800  6.038473e+05 -6.449423e+06          True   \n",
      "\n",
      "      ClusterID  \n",
      "0             0  \n",
      "1             0  \n",
      "2             1  \n",
      "3             2  \n",
      "4             3  \n",
      "...         ...  \n",
      "1537        711  \n",
      "1538        712  \n",
      "1539        713  \n",
      "1540        713  \n",
      "1541        657  \n",
      "\n",
      "[1542 rows x 14 columns]\n"
     ]
    }
   ],
   "execution_count": 4
  },
  {
   "metadata": {
    "ExecuteTime": {
     "end_time": "2025-08-26T07:31:40.733296Z",
     "start_time": "2025-08-26T07:31:40.723879Z"
    }
   },
   "cell_type": "code",
   "source": [
    "# --- Step 2: Identify valid clusters (size >= 2) ---\n",
    "valid_cluster_ids = get_valid_clusters(clustered_catalog)\n",
    "print(f\"--- Identified Valid Cluster IDs (size >= 2) ---\\n{valid_cluster_ids.to_list()}\\n\")\n",
    "\n",
    "# Filter the catalog to only include events from these valid clusters\n",
    "sequences_df = clustered_catalog[clustered_catalog['ClusterID'].isin(valid_cluster_ids)]\n",
    "print(\"--- DataFrame with Only Valid Sequences ---\")\n",
    "print(sequences_df[['Datetime', 'Mag', 'ClusterID']])"
   ],
   "id": "f83eabc3e1a68d81",
   "outputs": [
    {
     "name": "stdout",
     "output_type": "stream",
     "text": [
      "--- Identified Valid Cluster IDs (size >= 2) ---\n",
      "[0, 3, 11, 13, 32, 33, 34, 43, 44, 46, 49, 51, 53, 58, 63, 64, 68, 70, 76, 77, 78, 82, 83, 85, 86, 91, 92, 95, 96, 97, 102, 103, 106, 109, 114, 116, 118, 124, 127, 128, 129, 132, 134, 136, 139, 140, 141, 142, 151, 152, 153, 160, 164, 166, 180, 181, 184, 186, 192, 201, 202, 203, 206, 208, 209, 212, 215, 217, 220, 223, 229, 233, 235, 237, 238, 240, 243, 244, 250, 253, 257, 267, 268, 271, 274, 277, 281, 284, 285, 286, 287, 300, 302, 304, 308, 309, 310, 312, 313, 314, 315, 318, 319, 320, 323, 324, 325, 326, 327, 328, 329, 336, 337, 339, 341, 345, 351, 355, 356, 360, 363, 369, 373, 375, 377, 378, 383, 384, 385, 387, 389, 392, 393, 397, 400, 401, 403, 404, 413, 418, 419, 420, 421, 424, 425, 430, 433, 438, 440, 443, 450, 451, 454, 455, 457, 458, 459, 461, 463, 464, 467, 468, 470, 472, 477, 478, 479, 481, 486, 487, 488, 491, 495, 497, 498, 502, 503, 504, 505, 508, 512, 513, 514, 516, 519, 522, 525, 526, 528, 531, 532, 533, 534, 538, 541, 543, 545, 548, 550, 556, 559, 561, 562, 563, 567, 568, 569, 573, 580, 583, 584, 592, 597, 598, 600, 601, 605, 607, 610, 617, 623, 626, 627, 628, 631, 632, 633, 637, 638, 641, 646, 648, 649, 654, 656, 657, 659, 660, 666, 667, 669, 670, 680, 681, 683, 686, 690, 699, 701, 703, 707, 713]\n",
      "\n",
      "--- DataFrame with Only Valid Sequences ---\n",
      "                    Datetime  Mag  ClusterID\n",
      "0    1976-01-15 06:06:46.100  6.2          0\n",
      "1    1976-01-15 16:12:22.300  6.1          0\n",
      "4    1976-07-31 00:46:58.000  6.2          3\n",
      "5    1976-09-30 23:34:14.400  6.5          3\n",
      "12   1977-10-16 13:14:05.000  5.7          0\n",
      "...                      ...  ...        ...\n",
      "1533 2020-09-29 00:17:37.300  5.0        703\n",
      "1534 2020-10-15 07:00:18.800  5.1        667\n",
      "1539 2020-12-11 15:30:00.100  5.1        713\n",
      "1540 2020-12-18 20:49:15.800  5.1        713\n",
      "1541 2020-12-24 20:04:11.800  5.1        657\n",
      "\n",
      "[1080 rows x 3 columns]\n"
     ]
    }
   ],
   "execution_count": 5
  },
  {
   "metadata": {
    "ExecuteTime": {
     "end_time": "2025-08-26T07:31:40.763344Z",
     "start_time": "2025-08-26T07:31:40.750959Z"
    }
   },
   "cell_type": "code",
   "source": [
    "# --- Step 3: Identify the mainshock in each sequence ---\n",
    "final_catalog = get_mainshocks(sequences_df)\n",
    "print(\"--- Final Catalog with Mainshocks Identified ---\")\n",
    "print(final_catalog[['Datetime', 'Mag', 'ClusterID', 'Type']])"
   ],
   "id": "55f3ef1fb34403f7",
   "outputs": [
    {
     "name": "stdout",
     "output_type": "stream",
     "text": [
      "--- Final Catalog with Mainshocks Identified ---\n",
      "                    Datetime  Mag  ClusterID       Type\n",
      "0    1976-01-15 06:06:46.100  6.2          0  Mainshock\n",
      "1    1976-01-15 16:12:22.300  6.1          0  Dependent\n",
      "4    1976-07-31 00:46:58.000  6.2          3  Dependent\n",
      "5    1976-09-30 23:34:14.400  6.5          3  Mainshock\n",
      "12   1977-10-16 13:14:05.000  5.7          0  Dependent\n",
      "...                      ...  ...        ...        ...\n",
      "1533 2020-09-29 00:17:37.300  5.0        703  Dependent\n",
      "1534 2020-10-15 07:00:18.800  5.1        667  Dependent\n",
      "1539 2020-12-11 15:30:00.100  5.1        713  Mainshock\n",
      "1540 2020-12-18 20:49:15.800  5.1        713  Dependent\n",
      "1541 2020-12-24 20:04:11.800  5.1        657  Dependent\n",
      "\n",
      "[1080 rows x 4 columns]\n"
     ]
    }
   ],
   "execution_count": 6
  },
  {
   "metadata": {
    "ExecuteTime": {
     "end_time": "2025-08-26T07:31:40.791922Z",
     "start_time": "2025-08-26T07:31:40.783050Z"
    }
   },
   "cell_type": "code",
   "source": [
    "# --- Step 4: Display only the mainshocks ---\n",
    "mainshocks_only = final_catalog[final_catalog['Type'] == 'Mainshock'].copy()\n",
    "print(\"--- Mainshocks of Valid Sequences ---\")\n",
    "print(mainshocks_only[['Datetime', 'Mag', 'ClusterID']])"
   ],
   "id": "41f0344014a71806",
   "outputs": [
    {
     "name": "stdout",
     "output_type": "stream",
     "text": [
      "--- Mainshocks of Valid Sequences ---\n",
      "                    Datetime  Mag  ClusterID\n",
      "0    1976-01-15 06:06:46.100  6.2          0\n",
      "5    1976-09-30 23:34:14.400  6.5          3\n",
      "16   1978-02-09 21:35:12.700  7.2         11\n",
      "24   1978-09-22 10:42:07.900  5.4         13\n",
      "50   1980-11-25 04:57:05.000  5.4         33\n",
      "...                      ...  ...        ...\n",
      "1502 2020-05-24 19:53:32.300  5.5        699\n",
      "1507 2020-06-18 12:49:53.800  7.4        703\n",
      "1515 2020-06-24 22:20:02.000  5.6        701\n",
      "1525 2020-08-28 15:47:06.000  5.6        707\n",
      "1539 2020-12-11 15:30:00.100  5.1        713\n",
      "\n",
      "[252 rows x 3 columns]\n"
     ]
    }
   ],
   "execution_count": 7
  },
  {
   "metadata": {
    "ExecuteTime": {
     "end_time": "2025-08-26T07:31:40.803967Z",
     "start_time": "2025-08-26T07:31:40.801003Z"
    }
   },
   "cell_type": "code",
   "source": [
    "# ========================================\n",
    "# Estimation and further data exploration\n",
    "# ========================================"
   ],
   "id": "fc360bb0e74cb68",
   "outputs": [],
   "execution_count": 8
  },
  {
   "metadata": {
    "ExecuteTime": {
     "end_time": "2025-08-26T07:31:42.349537Z",
     "start_time": "2025-08-26T07:31:40.816453Z"
    }
   },
   "cell_type": "code",
   "source": [
    "# Visualise the clustered sequence on map\n",
    "import plotly.express as px\n",
    "\n",
    "sequences_df['Cluster'] = sequences_df['ClusterID'].astype('category')\n",
    "\n",
    "fig = px.scatter_map(\n",
    "    sequences_df,\n",
    "    lat='Lat',\n",
    "    lon='Lon',\n",
    "    hover_name='ClusterID',\n",
    "    color='Cluster',\n",
    "    hover_data={'Date', 'Time', 'Lat', 'Lon'},\n",
    "    center={'lat': -41, 'lon': 174},\n",
    "    zoom=3.8,\n",
    "    height=800,\n",
    "    map_style='carto-positron',\n",
    "    title='Earthquake Clusters of New Zealand Earthquakes using Gardner and Knopoff Window Method (1974)<br><sup>Time of occurrence: 1976-2020</sup>'\n",
    ")\n",
    "\n",
    "fig.show()"
   ],
   "id": "1f94e97f0f9f9911",
   "outputs": [
    {
     "name": "stderr",
     "output_type": "stream",
     "text": [
      "/var/folders/fn/9d0nx8h147x36gzgyptphd8w0000gn/T/ipykernel_42352/1243077823.py:4: SettingWithCopyWarning: \n",
      "A value is trying to be set on a copy of a slice from a DataFrame.\n",
      "Try using .loc[row_indexer,col_indexer] = value instead\n",
      "\n",
      "See the caveats in the documentation: https://pandas.pydata.org/pandas-docs/stable/user_guide/indexing.html#returning-a-view-versus-a-copy\n",
      "  sequences_df['Cluster'] = sequences_df['ClusterID'].astype('category')\n"
     ]
    },
    {
     "data": {
      "application/vnd.plotly.v1+json": {
       "data": [
        {
         "customdata": [
          [
           -30.38,
           -176.82,
           "06:06:46.1",
           "1976/01/15"
          ],
          [
           -30.15,
           -177.24,
           "16:12:22.3",
           "1976/01/15"
          ],
          [
           -30.06,
           -176.85,
           "13:14:05.0",
           "1977/10/16"
          ]
         ],
         "hovertemplate": "<b>%{hovertext}</b><br><br>Cluster=0<br>Lat=%{customdata[0]}<br>Lon=%{customdata[1]}<br>Time=%{customdata[2]}<br>Date=%{customdata[3]}<extra></extra>",
         "hovertext": {
          "dtype": "f8",
          "bdata": "AAAAAAAAAAAAAAAAAAAAAAAAAAAAAAAA"
         },
         "lat": {
          "dtype": "f8",
          "bdata": "4XoUrkdhPsBmZmZmZiY+wI/C9ShcDz7A"
         },
         "legendgroup": "0",
         "lon": {
          "dtype": "f8",
          "bdata": "CtejcD0aZsBI4XoUridmwDMzMzMzG2bA"
         },
         "marker": {
          "color": "#636efa"
         },
         "mode": "markers",
         "name": "0",
         "showlegend": true,
         "subplot": "map",
         "type": "scattermap"
        },
        {
         "customdata": [
          [
           -30.32,
           -177.96,
           "00:46:58.0",
           "1976/07/31"
          ],
          [
           -30.24,
           -177.88,
           "23:34:14.4",
           "1976/09/30"
          ],
          [
           -30.12,
           -177.49,
           "15:20:54.2",
           "1978/01/14"
          ],
          [
           -30.21,
           -177.55,
           "06:56:34.5",
           "1978/01/15"
          ],
          [
           -30.53,
           -178.18,
           "12:37:12.8",
           "1978/08/15"
          ]
         ],
         "hovertemplate": "<b>%{hovertext}</b><br><br>Cluster=3<br>Lat=%{customdata[0]}<br>Lon=%{customdata[1]}<br>Time=%{customdata[2]}<br>Date=%{customdata[3]}<extra></extra>",
         "hovertext": {
          "dtype": "f8",
          "bdata": "AAAAAAAACEAAAAAAAAAIQAAAAAAAAAhAAAAAAAAACEAAAAAAAAAIQA=="
         },
         "lat": {
          "dtype": "f8",
          "bdata": "UrgehetRPsA9CtejcD0+wB+F61G4Hj7A9ihcj8I1PsBI4XoUroc+wA=="
         },
         "legendgroup": "3",
         "lon": {
          "dtype": "f8",
          "bdata": "H4XrUbg+ZsBcj8L1KDxmwEjhehSuL2bAmpmZmZkxZsD2KFyPwkVmwA=="
         },
         "marker": {
          "color": "#EF553B"
         },
         "mode": "markers",
         "name": "3",
         "showlegend": true,
         "subplot": "map",
         "type": "scattermap"
        },
        {
         "customdata": [
          [
           -30.68,
           -177.36,
           "21:35:12.7",
           "1978/02/09"
          ],
          [
           -30.07,
           -177.33,
           "19:32:37.1",
           "1978/02/10"
          ],
          [
           -30.41,
           -177.12,
           "00:05:23.0",
           "1978/02/11"
          ],
          [
           -30.44,
           -177.46,
           "04:12:33.6",
           "1978/02/11"
          ],
          [
           -30.68,
           -178.14,
           "16:13:13.0",
           "1978/03/12"
          ],
          [
           -30.68,
           -178.02,
           "07:14:48.6",
           "1978/09/01"
          ],
          [
           -30.25,
           -177.92,
           "00:24:14.2",
           "1978/11/19"
          ],
          [
           -30.57,
           -177.78,
           "07:03:48.6",
           "1979/01/27"
          ],
          [
           -30.04,
           -177.22,
           "11:13:40.3",
           "1980/02/21"
          ],
          [
           -30.03,
           -177.24,
           "14:24:25.1",
           "1980/02/21"
          ]
         ],
         "hovertemplate": "<b>%{hovertext}</b><br><br>Cluster=11<br>Lat=%{customdata[0]}<br>Lon=%{customdata[1]}<br>Time=%{customdata[2]}<br>Date=%{customdata[3]}<extra></extra>",
         "hovertext": {
          "dtype": "f8",
          "bdata": "AAAAAAAAJkAAAAAAAAAmQAAAAAAAACZAAAAAAAAAJkAAAAAAAAAmQAAAAAAAACZAAAAAAAAAJkAAAAAAAAAmQAAAAAAAACZAAAAAAAAAJkA="
         },
         "lat": {
          "dtype": "f8",
          "bdata": "rkfhehSuPsBSuB6F6xE+wClcj8L1aD7AcT0K16NwPsCuR+F6FK4+wK5H4XoUrj7AAAAAAABAPsBSuB6F65E+wArXo3A9Cj7ASOF6FK4HPsA="
         },
         "legendgroup": "11",
         "lon": {
          "dtype": "f8",
          "bdata": "7FG4HoUrZsDD9ShcjypmwKRwPQrXI2bAH4XrUbguZsAUrkfhekRmwHE9CtejQGbAPQrXo3A9ZsApXI/C9ThmwNejcD0KJ2bASOF6FK4nZsA="
         },
         "marker": {
          "color": "#00cc96"
         },
         "mode": "markers",
         "name": "11",
         "showlegend": true,
         "subplot": "map",
         "type": "scattermap"
        },
        {
         "customdata": [
          [
           -37.61,
           176.55,
           "10:42:07.9",
           "1978/09/22"
          ],
          [
           -37.95,
           176.77,
           "18:01:13.0",
           "1979/04/19"
          ]
         ],
         "hovertemplate": "<b>%{hovertext}</b><br><br>Cluster=13<br>Lat=%{customdata[0]}<br>Lon=%{customdata[1]}<br>Time=%{customdata[2]}<br>Date=%{customdata[3]}<extra></extra>",
         "hovertext": {
          "dtype": "f8",
          "bdata": "AAAAAAAAKkAAAAAAAAAqQA=="
         },
         "lat": {
          "dtype": "f8",
          "bdata": "rkfhehTOQsCamZmZmflCwA=="
         },
         "legendgroup": "13",
         "lon": {
          "dtype": "f8",
          "bdata": "mpmZmZkRZkBxPQrXoxhmQA=="
         },
         "marker": {
          "color": "#ab63fa"
         },
         "mode": "markers",
         "name": "13",
         "showlegend": true,
         "subplot": "map",
         "type": "scattermap"
        },
        {
         "customdata": [
          [
           -30.46,
           -177.94,
           "02:38:10.0",
           "1980/10/28"
          ],
          [
           -30.57,
           -178.21,
           "23:30:08.4",
           "1981/03/07"
          ]
         ],
         "hovertemplate": "<b>%{hovertext}</b><br><br>Cluster=32<br>Lat=%{customdata[0]}<br>Lon=%{customdata[1]}<br>Time=%{customdata[2]}<br>Date=%{customdata[3]}<extra></extra>",
         "hovertext": {
          "dtype": "f8",
          "bdata": "AAAAAAAAQEAAAAAAAABAQA=="
         },
         "lat": {
          "dtype": "f8",
          "bdata": "9ihcj8J1PsBSuB6F65E+wA=="
         },
         "legendgroup": "32",
         "lon": {
          "dtype": "f8",
          "bdata": "rkfhehQ+ZsAfhetRuEZmwA=="
         },
         "marker": {
          "color": "#FFA15A"
         },
         "mode": "markers",
         "name": "32",
         "showlegend": true,
         "subplot": "map",
         "type": "scattermap"
        },
        {
         "customdata": [
          [
           -37.99,
           177.86,
           "04:22:14.7",
           "1980/11/24"
          ],
          [
           -37.99,
           178.27,
           "04:57:05.0",
           "1980/11/25"
          ]
         ],
         "hovertemplate": "<b>%{hovertext}</b><br><br>Cluster=33<br>Lat=%{customdata[0]}<br>Lon=%{customdata[1]}<br>Time=%{customdata[2]}<br>Date=%{customdata[3]}<extra></extra>",
         "hovertext": {
          "dtype": "f8",
          "bdata": "AAAAAACAQEAAAAAAAIBAQA=="
         },
         "lat": {
          "dtype": "f8",
          "bdata": "H4XrUbj+QsAfhetRuP5CwA=="
         },
         "legendgroup": "33",
         "lon": {
          "dtype": "f8",
          "bdata": "7FG4HoU7ZkBxPQrXo0hmQA=="
         },
         "marker": {
          "color": "#19d3f3"
         },
         "mode": "markers",
         "name": "33",
         "showlegend": true,
         "subplot": "map",
         "type": "scattermap"
        },
        {
         "customdata": [
          [
           -35.35,
           179.96,
           "06:48:46.9",
           "1980/11/29"
          ],
          [
           -35.51,
           -179.66,
           "05:20:39.7",
           "1981/03/31"
          ],
          [
           -35.14,
           179.53,
           "01:59:52.4",
           "1981/07/04"
          ]
         ],
         "hovertemplate": "<b>%{hovertext}</b><br><br>Cluster=34<br>Lat=%{customdata[0]}<br>Lon=%{customdata[1]}<br>Time=%{customdata[2]}<br>Date=%{customdata[3]}<extra></extra>",
         "hovertext": {
          "dtype": "f8",
          "bdata": "AAAAAAAAQUAAAAAAAABBQAAAAAAAAEFA"
         },
         "lat": {
          "dtype": "f8",
          "bdata": "zczMzMysQcDhehSuR8FBwFK4HoXrkUHA"
         },
         "legendgroup": "34",
         "lon": {
          "dtype": "f8",
          "bdata": "H4XrUbh+ZkCF61G4HnVmwClcj8L1cGZA"
         },
         "marker": {
          "color": "#FF6692"
         },
         "mode": "markers",
         "name": "34",
         "showlegend": true,
         "subplot": "map",
         "type": "scattermap"
        },
        {
         "customdata": [
          [
           -30.12,
           -177.31,
           "23:17:02.5",
           "1981/05/20"
          ],
          [
           -30.41,
           -177.58,
           "06:59:36.2",
           "1981/10/12"
          ]
         ],
         "hovertemplate": "<b>%{hovertext}</b><br><br>Cluster=43<br>Lat=%{customdata[0]}<br>Lon=%{customdata[1]}<br>Time=%{customdata[2]}<br>Date=%{customdata[3]}<extra></extra>",
         "hovertext": {
          "dtype": "f8",
          "bdata": "AAAAAACARUAAAAAAAIBFQA=="
         },
         "lat": {
          "dtype": "f8",
          "bdata": "H4XrUbgePsApXI/C9Wg+wA=="
         },
         "legendgroup": "43",
         "lon": {
          "dtype": "f8",
          "bdata": "UrgehespZsDD9ShcjzJmwA=="
         },
         "marker": {
          "color": "#B6E880"
         },
         "mode": "markers",
         "name": "43",
         "showlegend": true,
         "subplot": "map",
         "type": "scattermap"
        },
        {
         "customdata": [
          [
           -48.79,
           164.36,
           "05:25:14.4",
           "1981/05/25"
          ],
          [
           -48.56,
           164.05,
           "18:57:21.6",
           "1981/05/27"
          ],
          [
           -49.15,
           164.74,
           "09:47:17.2",
           "1981/05/30"
          ],
          [
           -48.57,
           164.71,
           "02:31:18.4",
           "1981/06/15"
          ]
         ],
         "hovertemplate": "<b>%{hovertext}</b><br><br>Cluster=44<br>Lat=%{customdata[0]}<br>Lon=%{customdata[1]}<br>Time=%{customdata[2]}<br>Date=%{customdata[3]}<extra></extra>",
         "hovertext": {
          "dtype": "f8",
          "bdata": "AAAAAAAARkAAAAAAAABGQAAAAAAAAEZAAAAAAAAARkA="
         },
         "lat": {
          "dtype": "f8",
          "bdata": "hetRuB5lSMBI4XoUrkdIwDMzMzMzk0jAKVyPwvVISMA="
         },
         "legendgroup": "44",
         "lon": {
          "dtype": "f8",
          "bdata": "7FG4HoWLZECamZmZmYFkQEjhehSul2RAH4XrUbiWZEA="
         },
         "marker": {
          "color": "#FF97FF"
         },
         "mode": "markers",
         "name": "44",
         "showlegend": true,
         "subplot": "map",
         "type": "scattermap"
        },
        {
         "customdata": [
          [
           -30.27,
           -178.99,
           "00:51:06.0",
           "1981/06/26"
          ],
          [
           -30.33,
           -178.9,
           "04:41:09.2",
           "1981/07/04"
          ]
         ],
         "hovertemplate": "<b>%{hovertext}</b><br><br>Cluster=46<br>Lat=%{customdata[0]}<br>Lon=%{customdata[1]}<br>Time=%{customdata[2]}<br>Date=%{customdata[3]}<extra></extra>",
         "hovertext": {
          "dtype": "f8",
          "bdata": "AAAAAAAAR0AAAAAAAABHQA=="
         },
         "lat": {
          "dtype": "f8",
          "bdata": "hetRuB5FPsAUrkfhelQ+wA=="
         },
         "legendgroup": "46",
         "lon": {
          "dtype": "f8",
          "bdata": "SOF6FK5fZsDNzMzMzFxmwA=="
         },
         "marker": {
          "color": "#FECB52"
         },
         "mode": "markers",
         "name": "46",
         "showlegend": true,
         "subplot": "map",
         "type": "scattermap"
        },
        {
         "customdata": [
          [
           -33.93,
           -179.66,
           "16:02:52.0",
           "1981/10/01"
          ],
          [
           -33.94,
           -179.76,
           "19:42:38.5",
           "1981/11/16"
          ]
         ],
         "hovertemplate": "<b>%{hovertext}</b><br><br>Cluster=49<br>Lat=%{customdata[0]}<br>Lon=%{customdata[1]}<br>Time=%{customdata[2]}<br>Date=%{customdata[3]}<extra></extra>",
         "hovertext": {
          "dtype": "f8",
          "bdata": "AAAAAACASEAAAAAAAIBIQA=="
         },
         "lat": {
          "dtype": "f8",
          "bdata": "16NwPQr3QMC4HoXrUfhAwA=="
         },
         "legendgroup": "49",
         "lon": {
          "dtype": "f8",
          "bdata": "hetRuB51ZsC4HoXrUXhmwA=="
         },
         "marker": {
          "color": "#636efa"
         },
         "mode": "markers",
         "name": "49",
         "showlegend": true,
         "subplot": "map",
         "type": "scattermap"
        },
        {
         "customdata": [
          [
           -30.24,
           -177.28,
           "13:02:39.8",
           "1981/12/24"
          ],
          [
           -30.37,
           -177.36,
           "22:36:27.8",
           "1981/12/24"
          ],
          [
           -30.39,
           -177.5,
           "09:12:06.1",
           "1981/12/25"
          ],
          [
           -30.01,
           -177.61,
           "06:22:50.4",
           "1981/12/27"
          ]
         ],
         "hovertemplate": "<b>%{hovertext}</b><br><br>Cluster=51<br>Lat=%{customdata[0]}<br>Lon=%{customdata[1]}<br>Time=%{customdata[2]}<br>Date=%{customdata[3]}<extra></extra>",
         "hovertext": {
          "dtype": "f8",
          "bdata": "AAAAAACASUAAAAAAAIBJQAAAAAAAgElAAAAAAACASUA="
         },
         "lat": {
          "dtype": "f8",
          "bdata": "PQrXo3A9PsAfhetRuF4+wKRwPQrXYz7Aw/UoXI8CPsA="
         },
         "legendgroup": "51",
         "lon": {
          "dtype": "f8",
          "bdata": "KVyPwvUoZsDsUbgehStmwAAAAAAAMGbA7FG4HoUzZsA="
         },
         "marker": {
          "color": "#EF553B"
         },
         "mode": "markers",
         "name": "51",
         "showlegend": true,
         "subplot": "map",
         "type": "scattermap"
        },
        {
         "customdata": [
          [
           -30.23,
           -177.92,
           "19:06:31.3",
           "1981/12/29"
          ],
          [
           -30.18,
           -177.9,
           "23:45:54.5",
           "1982/02/13"
          ],
          [
           -30.19,
           -177.88,
           "00:34:44.3",
           "1982/04/12"
          ],
          [
           -30.5,
           -177.84,
           "12:41:49.0",
           "1982/05/12"
          ],
          [
           -30.23,
           -178.06,
           "10:15:15.4",
           "1982/10/05"
          ]
         ],
         "hovertemplate": "<b>%{hovertext}</b><br><br>Cluster=53<br>Lat=%{customdata[0]}<br>Lon=%{customdata[1]}<br>Time=%{customdata[2]}<br>Date=%{customdata[3]}<extra></extra>",
         "hovertext": {
          "dtype": "f8",
          "bdata": "AAAAAACASkAAAAAAAIBKQAAAAAAAgEpAAAAAAACASkAAAAAAAIBKQA=="
         },
         "lat": {
          "dtype": "f8",
          "bdata": "exSuR+E6PsCuR+F6FC4+wHE9CtejMD7AAAAAAACAPsB7FK5H4To+wA=="
         },
         "legendgroup": "53",
         "lon": {
          "dtype": "f8",
          "bdata": "PQrXo3A9ZsDNzMzMzDxmwFyPwvUoPGbAexSuR+E6ZsBSuB6F60FmwA=="
         },
         "marker": {
          "color": "#00cc96"
         },
         "mode": "markers",
         "name": "53",
         "showlegend": true,
         "subplot": "map",
         "type": "scattermap"
        },
        {
         "customdata": [
          [
           -31.45,
           -178.69,
           "03:52:34.7",
           "1982/03/28"
          ],
          [
           -31.41,
           -178.13,
           "21:56:16.6",
           "1983/07/17"
          ]
         ],
         "hovertemplate": "<b>%{hovertext}</b><br><br>Cluster=58<br>Lat=%{customdata[0]}<br>Lon=%{customdata[1]}<br>Time=%{customdata[2]}<br>Date=%{customdata[3]}<extra></extra>",
         "hovertext": {
          "dtype": "f8",
          "bdata": "AAAAAAAATUAAAAAAAABNQA=="
         },
         "lat": {
          "dtype": "f8",
          "bdata": "MzMzMzNzP8ApXI/C9Wg/wA=="
         },
         "legendgroup": "58",
         "lon": {
          "dtype": "f8",
          "bdata": "rkfhehRWZsBcj8L1KERmwA=="
         },
         "marker": {
          "color": "#ab63fa"
         },
         "mode": "markers",
         "name": "58",
         "showlegend": true,
         "subplot": "map",
         "type": "scattermap"
        },
        {
         "customdata": [
          [
           -32.45,
           -178.39,
           "23:07:59.5",
           "1982/11/22"
          ],
          [
           -32.46,
           -178.26,
           "02:19:09.8",
           "1982/11/27"
          ],
          [
           -32.48,
           -178.46,
           "00:06:19.8",
           "1982/12/19"
          ]
         ],
         "hovertemplate": "<b>%{hovertext}</b><br><br>Cluster=63<br>Lat=%{customdata[0]}<br>Lon=%{customdata[1]}<br>Time=%{customdata[2]}<br>Date=%{customdata[3]}<extra></extra>",
         "hovertext": {
          "dtype": "f8",
          "bdata": "AAAAAACAT0AAAAAAAIBPQAAAAAAAgE9A"
         },
         "lat": {
          "dtype": "f8",
          "bdata": "mpmZmZk5QMB7FK5H4TpAwD0K16NwPUDA"
         },
         "legendgroup": "63",
         "lon": {
          "dtype": "f8",
          "bdata": "FK5H4XpMZsC4HoXrUUhmwB+F61G4TmbA"
         },
         "marker": {
          "color": "#FFA15A"
         },
         "mode": "markers",
         "name": "63",
         "showlegend": true,
         "subplot": "map",
         "type": "scattermap"
        },
        {
         "customdata": [
          [
           -30.36,
           -179.43,
           "16:02:21.5",
           "1983/01/26"
          ],
          [
           -30.36,
           -179.65,
           "04:58:26.6",
           "1984/07/23"
          ]
         ],
         "hovertemplate": "<b>%{hovertext}</b><br><br>Cluster=64<br>Lat=%{customdata[0]}<br>Lon=%{customdata[1]}<br>Time=%{customdata[2]}<br>Date=%{customdata[3]}<extra></extra>",
         "hovertext": {
          "dtype": "f8",
          "bdata": "AAAAAAAAUEAAAAAAAABQQA=="
         },
         "lat": {
          "dtype": "f8",
          "bdata": "XI/C9ShcPsBcj8L1KFw+wA=="
         },
         "legendgroup": "64",
         "lon": {
          "dtype": "f8",
          "bdata": "9ihcj8JtZsDNzMzMzHRmwA=="
         },
         "marker": {
          "color": "#19d3f3"
         },
         "mode": "markers",
         "name": "64",
         "showlegend": true,
         "subplot": "map",
         "type": "scattermap"
        },
        {
         "customdata": [
          [
           -34.01,
           179.36,
           "14:58:40.3",
           "1983/05/04"
          ],
          [
           -33.83,
           179.38,
           "04:43:59.4",
           "1983/05/05"
          ]
         ],
         "hovertemplate": "<b>%{hovertext}</b><br><br>Cluster=68<br>Lat=%{customdata[0]}<br>Lon=%{customdata[1]}<br>Time=%{customdata[2]}<br>Date=%{customdata[3]}<extra></extra>",
         "hovertext": {
          "dtype": "f8",
          "bdata": "AAAAAAAAUUAAAAAAAABRQA=="
         },
         "lat": {
          "dtype": "f8",
          "bdata": "4XoUrkcBQcAK16NwPepAwA=="
         },
         "legendgroup": "68",
         "lon": {
          "dtype": "f8",
          "bdata": "7FG4HoVrZkBcj8L1KGxmQA=="
         },
         "marker": {
          "color": "#FF6692"
         },
         "mode": "markers",
         "name": "68",
         "showlegend": true,
         "subplot": "map",
         "type": "scattermap"
        },
        {
         "customdata": [
          [
           -36.19,
           -179.89,
           "04:33:46.6",
           "1983/08/01"
          ],
          [
           -36.55,
           -179.98,
           "05:38:27.5",
           "1983/10/26"
          ]
         ],
         "hovertemplate": "<b>%{hovertext}</b><br><br>Cluster=70<br>Lat=%{customdata[0]}<br>Lon=%{customdata[1]}<br>Time=%{customdata[2]}<br>Date=%{customdata[3]}<extra></extra>",
         "hovertext": {
          "dtype": "f8",
          "bdata": "AAAAAACAUUAAAAAAAIBRQA=="
         },
         "lat": {
          "dtype": "f8",
          "bdata": "uB6F61EYQsBmZmZmZkZCwA=="
         },
         "legendgroup": "70",
         "lon": {
          "dtype": "f8",
          "bdata": "FK5H4Xp8ZsCPwvUoXH9mwA=="
         },
         "marker": {
          "color": "#B6E880"
         },
         "mode": "markers",
         "name": "70",
         "showlegend": true,
         "subplot": "map",
         "type": "scattermap"
        },
        {
         "customdata": [
          [
           -30.25,
           -177.76,
           "03:37:14.6",
           "1984/05/08"
          ],
          [
           -30.06,
           -177.62,
           "11:48:24.7",
           "1984/09/03"
          ],
          [
           -30.12,
           -177.97,
           "00:37:22.8",
           "1985/05/17"
          ]
         ],
         "hovertemplate": "<b>%{hovertext}</b><br><br>Cluster=76<br>Lat=%{customdata[0]}<br>Lon=%{customdata[1]}<br>Time=%{customdata[2]}<br>Date=%{customdata[3]}<extra></extra>",
         "hovertext": {
          "dtype": "f8",
          "bdata": "AAAAAAAAU0AAAAAAAABTQAAAAAAAAFNA"
         },
         "lat": {
          "dtype": "f8",
          "bdata": "AAAAAABAPsCPwvUoXA8+wB+F61G4Hj7A"
         },
         "legendgroup": "76",
         "lon": {
          "dtype": "f8",
          "bdata": "uB6F61E4ZsCkcD0K1zNmwNejcD0KP2bA"
         },
         "marker": {
          "color": "#FF97FF"
         },
         "mode": "markers",
         "name": "76",
         "showlegend": true,
         "subplot": "map",
         "type": "scattermap"
        },
        {
         "customdata": [
          [
           -33.24,
           -179.44,
           "14:52:39.0",
           "1984/05/13"
          ],
          [
           -33.38,
           -179.35,
           "16:06:13.9",
           "1984/08/30"
          ]
         ],
         "hovertemplate": "<b>%{hovertext}</b><br><br>Cluster=77<br>Lat=%{customdata[0]}<br>Lon=%{customdata[1]}<br>Time=%{customdata[2]}<br>Date=%{customdata[3]}<extra></extra>",
         "hovertext": {
          "dtype": "f8",
          "bdata": "AAAAAABAU0AAAAAAAEBTQA=="
         },
         "lat": {
          "dtype": "f8",
          "bdata": "H4XrUbieQMBxPQrXo7BAwA=="
         },
         "legendgroup": "77",
         "lon": {
          "dtype": "f8",
          "bdata": "rkfhehRuZsAzMzMzM2tmwA=="
         },
         "marker": {
          "color": "#FECB52"
         },
         "mode": "markers",
         "name": "77",
         "showlegend": true,
         "subplot": "map",
         "type": "scattermap"
        },
        {
         "customdata": [
          [
           -30.57,
           -178.35,
           "02:32:45.6",
           "1984/05/25"
          ],
          [
           -30.54,
           -178.38,
           "19:59:56.2",
           "1984/10/19"
          ]
         ],
         "hovertemplate": "<b>%{hovertext}</b><br><br>Cluster=78<br>Lat=%{customdata[0]}<br>Lon=%{customdata[1]}<br>Time=%{customdata[2]}<br>Date=%{customdata[3]}<extra></extra>",
         "hovertext": {
          "dtype": "f8",
          "bdata": "AAAAAACAU0AAAAAAAIBTQA=="
         },
         "lat": {
          "dtype": "f8",
          "bdata": "UrgeheuRPsAK16NwPYo+wA=="
         },
         "legendgroup": "78",
         "lon": {
          "dtype": "f8",
          "bdata": "MzMzMzNLZsBcj8L1KExmwA=="
         },
         "marker": {
          "color": "#636efa"
         },
         "mode": "markers",
         "name": "78",
         "showlegend": true,
         "subplot": "map",
         "type": "scattermap"
        },
        {
         "customdata": [
          [
           -32.79,
           -179.31,
           "14:59:34.3",
           "1984/08/04"
          ],
          [
           -33.04,
           -179.13,
           "01:21:12.6",
           "1985/03/09"
          ],
          [
           -32.98,
           -179.16,
           "01:54:03.2",
           "1985/03/09"
          ],
          [
           -33.14,
           -179.35,
           "18:12:26.5",
           "1985/04/03"
          ]
         ],
         "hovertemplate": "<b>%{hovertext}</b><br><br>Cluster=82<br>Lat=%{customdata[0]}<br>Lon=%{customdata[1]}<br>Time=%{customdata[2]}<br>Date=%{customdata[3]}<extra></extra>",
         "hovertext": {
          "dtype": "f8",
          "bdata": "AAAAAACAVEAAAAAAAIBUQAAAAAAAgFRAAAAAAACAVEA="
         },
         "lat": {
          "dtype": "f8",
          "bdata": "hetRuB5lQMCF61G4HoVAwD0K16NwfUDAUrgeheuRQMA="
         },
         "legendgroup": "82",
         "lon": {
          "dtype": "f8",
          "bdata": "UrgehetpZsBcj8L1KGRmwIXrUbgeZWbAMzMzMzNrZsA="
         },
         "marker": {
          "color": "#EF553B"
         },
         "mode": "markers",
         "name": "82",
         "showlegend": true,
         "subplot": "map",
         "type": "scattermap"
        },
        {
         "customdata": [
          [
           -32.0,
           -178.18,
           "07:07:46.7",
           "1984/09/16"
          ],
          [
           -32.07,
           -178.37,
           "09:08:52.7",
           "1984/09/17"
          ],
          [
           -32.14,
           -178.05,
           "03:50:10.9",
           "1984/09/19"
          ],
          [
           -32.23,
           -178.04,
           "04:32:55.0",
           "1984/09/19"
          ],
          [
           -31.86,
           -177.81,
           "20:23:28.5",
           "1984/09/19"
          ],
          [
           -32.09,
           -178.24,
           "10:15:16.0",
           "1984/09/22"
          ],
          [
           -32.2,
           -178.38,
           "11:43:16.5",
           "1984/09/22"
          ],
          [
           -32.01,
           -178.39,
           "21:44:18.4",
           "1984/09/22"
          ],
          [
           -31.77,
           -178.67,
           "01:24:51.1",
           "1985/06/08"
          ]
         ],
         "hovertemplate": "<b>%{hovertext}</b><br><br>Cluster=83<br>Lat=%{customdata[0]}<br>Lon=%{customdata[1]}<br>Time=%{customdata[2]}<br>Date=%{customdata[3]}<extra></extra>",
         "hovertext": {
          "dtype": "f8",
          "bdata": "AAAAAADAVEAAAAAAAMBUQAAAAAAAwFRAAAAAAADAVEAAAAAAAMBUQAAAAAAAwFRAAAAAAADAVEAAAAAAAMBUQAAAAAAAwFRA"
         },
         "lat": {
          "dtype": "f8",
          "bdata": "AAAAAAAAQMApXI/C9QhAwFK4HoXrEUDAPQrXo3AdQMBcj8L1KNw/wOxRuB6FC0DAmpmZmZkZQMDhehSuRwFAwIXrUbgexT/A"
         },
         "legendgroup": "83",
         "lon": {
          "dtype": "f8",
          "bdata": "9ihcj8JFZsCkcD0K10tmwJqZmZmZQWbA4XoUrkdBZsBSuB6F6zlmwEjhehSuR2bAXI/C9ShMZsAUrkfhekxmwD0K16NwVWbA"
         },
         "marker": {
          "color": "#00cc96"
         },
         "mode": "markers",
         "name": "83",
         "showlegend": true,
         "subplot": "map",
         "type": "scattermap"
        },
        {
         "customdata": [
          [
           -31.46,
           -177.77,
           "15:26:54.8",
           "1984/10/22"
          ],
          [
           -31.58,
           -177.57,
           "17:20:31.5",
           "1984/10/30"
          ],
          [
           -31.53,
           -177.71,
           "20:33:41.0",
           "1984/10/30"
          ],
          [
           -31.2,
           -177.96,
           "14:27:54.6",
           "1985/06/06"
          ]
         ],
         "hovertemplate": "<b>%{hovertext}</b><br><br>Cluster=85<br>Lat=%{customdata[0]}<br>Lon=%{customdata[1]}<br>Time=%{customdata[2]}<br>Date=%{customdata[3]}<extra></extra>",
         "hovertext": {
          "dtype": "f8",
          "bdata": "AAAAAABAVUAAAAAAAEBVQAAAAAAAQFVAAAAAAABAVUA="
         },
         "lat": {
          "dtype": "f8",
          "bdata": "9ihcj8J1P8AUrkfhepQ/wEjhehSuhz/AMzMzMzMzP8A="
         },
         "legendgroup": "85",
         "lon": {
          "dtype": "f8",
          "bdata": "cT0K16M4ZsAK16NwPTJmwB+F61G4NmbAH4XrUbg+ZsA="
         },
         "marker": {
          "color": "#ab63fa"
         },
         "mode": "markers",
         "name": "85",
         "showlegend": true,
         "subplot": "map",
         "type": "scattermap"
        },
        {
         "customdata": [
          [
           -36.63,
           177.72,
           "18:20:17.1",
           "1984/12/28"
          ],
          [
           -36.48,
           178.04,
           "15:06:46.0",
           "1984/12/30"
          ],
          [
           -36.67,
           177.96,
           "20:26:22.1",
           "1984/12/30"
          ],
          [
           -36.72,
           177.71,
           "20:59:54.6",
           "1984/12/30"
          ],
          [
           -36.73,
           177.5,
           "21:36:55.7",
           "1984/12/30"
          ],
          [
           -36.61,
           178.18,
           "21:08:55.8",
           "1985/01/02"
          ],
          [
           -36.67,
           177.58,
           "18:32:06.4",
           "1985/01/06"
          ],
          [
           -36.54,
           177.62,
           "07:41:48.4",
           "1985/01/08"
          ]
         ],
         "hovertemplate": "<b>%{hovertext}</b><br><br>Cluster=86<br>Lat=%{customdata[0]}<br>Lon=%{customdata[1]}<br>Time=%{customdata[2]}<br>Date=%{customdata[3]}<extra></extra>",
         "hovertext": {
          "dtype": "f8",
          "bdata": "AAAAAACAVUAAAAAAAIBVQAAAAAAAgFVAAAAAAACAVUAAAAAAAIBVQAAAAAAAgFVAAAAAAACAVUAAAAAAAIBVQA=="
         },
         "lat": {
          "dtype": "f8",
          "bdata": "cT0K16NQQsA9CtejcD1CwPYoXI/CVULAXI/C9ShcQsA9CtejcF1CwK5H4XoUTkLA9ihcj8JVQsCF61G4HkVCwA=="
         },
         "legendgroup": "86",
         "lon": {
          "dtype": "f8",
          "bdata": "16NwPQo3ZkDhehSuR0FmQB+F61G4PmZAH4XrUbg2ZkAAAAAAADBmQPYoXI/CRWZAw/UoXI8yZkCkcD0K1zNmQA=="
         },
         "marker": {
          "color": "#FFA15A"
         },
         "mode": "markers",
         "name": "86",
         "showlegend": true,
         "subplot": "map",
         "type": "scattermap"
        },
        {
         "customdata": [
          [
           -37.49,
           179.35,
           "17:10:03.6",
           "1985/05/06"
          ],
          [
           -37.51,
           179.47,
           "18:54:13.8",
           "1985/06/28"
          ]
         ],
         "hovertemplate": "<b>%{hovertext}</b><br><br>Cluster=91<br>Lat=%{customdata[0]}<br>Lon=%{customdata[1]}<br>Time=%{customdata[2]}<br>Date=%{customdata[3]}<extra></extra>",
         "hovertext": {
          "dtype": "f8",
          "bdata": "AAAAAADAVkAAAAAAAMBWQA=="
         },
         "lat": {
          "dtype": "f8",
          "bdata": "H4XrUbi+QsDhehSuR8FCwA=="
         },
         "legendgroup": "91",
         "lon": {
          "dtype": "f8",
          "bdata": "MzMzMzNrZkDXo3A9Cm9mQA=="
         },
         "marker": {
          "color": "#19d3f3"
         },
         "mode": "markers",
         "name": "91",
         "showlegend": true,
         "subplot": "map",
         "type": "scattermap"
        },
        {
         "customdata": [
          [
           -38.65,
           177.07,
           "14:33:59.0",
           "1985/07/19"
          ],
          [
           -38.75,
           176.58,
           "14:44:19.5",
           "1985/11/01"
          ]
         ],
         "hovertemplate": "<b>%{hovertext}</b><br><br>Cluster=92<br>Lat=%{customdata[0]}<br>Lon=%{customdata[1]}<br>Time=%{customdata[2]}<br>Date=%{customdata[3]}<extra></extra>",
         "hovertext": {
          "dtype": "f8",
          "bdata": "AAAAAAAAV0AAAAAAAABXQA=="
         },
         "lat": {
          "dtype": "f8",
          "bdata": "MzMzMzNTQ8AAAAAAAGBDwA=="
         },
         "legendgroup": "92",
         "lon": {
          "dtype": "f8",
          "bdata": "CtejcD0iZkDD9ShcjxJmQA=="
         },
         "marker": {
          "color": "#FF6692"
         },
         "mode": "markers",
         "name": "92",
         "showlegend": true,
         "subplot": "map",
         "type": "scattermap"
        },
        {
         "customdata": [
          [
           -30.73,
           -178.28,
           "19:29:46.1",
           "1985/10/11"
          ],
          [
           -30.83,
           -177.89,
           "23:18:30.3",
           "1986/06/19"
          ],
          [
           -31.09,
           -178.08,
           "11:57:13.8",
           "1987/09/07"
          ]
         ],
         "hovertemplate": "<b>%{hovertext}</b><br><br>Cluster=95<br>Lat=%{customdata[0]}<br>Lon=%{customdata[1]}<br>Time=%{customdata[2]}<br>Date=%{customdata[3]}<extra></extra>",
         "hovertext": {
          "dtype": "f8",
          "bdata": "AAAAAADAV0AAAAAAAMBXQAAAAAAAwFdA"
         },
         "lat": {
          "dtype": "f8",
          "bdata": "exSuR+G6PsAUrkfhetQ+wNejcD0KFz/A"
         },
         "legendgroup": "95",
         "lon": {
          "dtype": "f8",
          "bdata": "KVyPwvVIZsAUrkfhejxmwMP1KFyPQmbA"
         },
         "marker": {
          "color": "#B6E880"
         },
         "mode": "markers",
         "name": "95",
         "showlegend": true,
         "subplot": "map",
         "type": "scattermap"
        },
        {
         "customdata": [
          [
           -35.2,
           -179.36,
           "19:12:29.8",
           "1985/11/07"
          ],
          [
           -34.96,
           -179.87,
           "16:06:42.2",
           "1987/02/04"
          ]
         ],
         "hovertemplate": "<b>%{hovertext}</b><br><br>Cluster=96<br>Lat=%{customdata[0]}<br>Lon=%{customdata[1]}<br>Time=%{customdata[2]}<br>Date=%{customdata[3]}<extra></extra>",
         "hovertext": {
          "dtype": "f8",
          "bdata": "AAAAAAAAWEAAAAAAAABYQA=="
         },
         "lat": {
          "dtype": "f8",
          "bdata": "mpmZmZmZQcB7FK5H4XpBwA=="
         },
         "legendgroup": "96",
         "lon": {
          "dtype": "f8",
          "bdata": "7FG4HoVrZsCkcD0K13tmwA=="
         },
         "marker": {
          "color": "#FF97FF"
         },
         "mode": "markers",
         "name": "96",
         "showlegend": true,
         "subplot": "map",
         "type": "scattermap"
        },
        {
         "customdata": [
          [
           -30.17,
           -176.65,
           "16:55:54.1",
           "1986/03/14"
          ],
          [
           -30.37,
           -176.96,
           "10:01:14.7",
           "1987/07/29"
          ]
         ],
         "hovertemplate": "<b>%{hovertext}</b><br><br>Cluster=97<br>Lat=%{customdata[0]}<br>Lon=%{customdata[1]}<br>Time=%{customdata[2]}<br>Date=%{customdata[3]}<extra></extra>",
         "hovertext": {
          "dtype": "f8",
          "bdata": "AAAAAABAWEAAAAAAAEBYQA=="
         },
         "lat": {
          "dtype": "f8",
          "bdata": "7FG4HoUrPsAfhetRuF4+wA=="
         },
         "legendgroup": "97",
         "lon": {
          "dtype": "f8",
          "bdata": "zczMzMwUZsAfhetRuB5mwA=="
         },
         "marker": {
          "color": "#FECB52"
         },
         "mode": "markers",
         "name": "97",
         "showlegend": true,
         "subplot": "map",
         "type": "scattermap"
        },
        {
         "customdata": [
          [
           -33.44,
           -178.47,
           "02:12:46.5",
           "1986/07/22"
          ],
          [
           -33.06,
           -178.63,
           "12:58:17.8",
           "1986/07/27"
          ]
         ],
         "hovertemplate": "<b>%{hovertext}</b><br><br>Cluster=102<br>Lat=%{customdata[0]}<br>Lon=%{customdata[1]}<br>Time=%{customdata[2]}<br>Date=%{customdata[3]}<extra></extra>",
         "hovertext": {
          "dtype": "f8",
          "bdata": "AAAAAACAWUAAAAAAAIBZQA=="
         },
         "lat": {
          "dtype": "f8",
          "bdata": "uB6F61G4QMBI4XoUrodAwA=="
         },
         "legendgroup": "102",
         "lon": {
          "dtype": "f8",
          "bdata": "16NwPQpPZsBcj8L1KFRmwA=="
         },
         "marker": {
          "color": "#636efa"
         },
         "mode": "markers",
         "name": "102",
         "showlegend": true,
         "subplot": "map",
         "type": "scattermap"
        },
        {
         "customdata": [
          [
           -34.56,
           179.34,
           "23:47:48.7",
           "1986/08/23"
          ],
          [
           -34.16,
           178.98,
           "02:50:54.1",
           "1987/03/11"
          ],
          [
           -34.94,
           179.68,
           "21:38:47.5",
           "1987/08/16"
          ],
          [
           -34.93,
           179.72,
           "18:02:50.5",
           "1987/10/11"
          ],
          [
           -34.48,
           179.77,
           "02:11:15.4",
           "1987/10/14"
          ]
         ],
         "hovertemplate": "<b>%{hovertext}</b><br><br>Cluster=103<br>Lat=%{customdata[0]}<br>Lon=%{customdata[1]}<br>Time=%{customdata[2]}<br>Date=%{customdata[3]}<extra></extra>",
         "hovertext": {
          "dtype": "f8",
          "bdata": "AAAAAADAWUAAAAAAAMBZQAAAAAAAwFlAAAAAAADAWUAAAAAAAMBZQA=="
         },
         "lat": {
          "dtype": "f8",
          "bdata": "SOF6FK5HQcAUrkfhehRBwLgehetReEHA16NwPQp3QcA9CtejcD1BwA=="
         },
         "legendgroup": "103",
         "lon": {
          "dtype": "f8",
          "bdata": "exSuR+FqZkCPwvUoXF9mQPYoXI/CdWZA16NwPQp3ZkBxPQrXo3hmQA=="
         },
         "marker": {
          "color": "#EF553B"
         },
         "mode": "markers",
         "name": "103",
         "showlegend": true,
         "subplot": "map",
         "type": "scattermap"
        },
        {
         "customdata": [
          [
           -32.9,
           -179.27,
           "06:16:18.1",
           "1987/02/17"
          ],
          [
           -32.69,
           -178.7,
           "10:02:16.0",
           "1987/02/19"
          ],
          [
           -32.8,
           -178.98,
           "00:44:14.5",
           "1988/03/12"
          ],
          [
           -33.0,
           -178.75,
           "19:14:56.7",
           "1988/05/06"
          ],
          [
           -33.35,
           -179.33,
           "06:24:23.1",
           "1988/06/25"
          ]
         ],
         "hovertemplate": "<b>%{hovertext}</b><br><br>Cluster=106<br>Lat=%{customdata[0]}<br>Lon=%{customdata[1]}<br>Time=%{customdata[2]}<br>Date=%{customdata[3]}<extra></extra>",
         "hovertext": {
          "dtype": "f8",
          "bdata": "AAAAAACAWkAAAAAAAIBaQAAAAAAAgFpAAAAAAACAWkAAAAAAAIBaQA=="
         },
         "lat": {
          "dtype": "f8",
          "bdata": "MzMzMzNzQMC4HoXrUVhAwGZmZmZmZkDAAAAAAACAQMDNzMzMzKxAwA=="
         },
         "legendgroup": "106",
         "lon": {
          "dtype": "f8",
          "bdata": "cT0K16NoZsBmZmZmZlZmwI/C9ShcX2bAAAAAAABYZsDD9Shcj2pmwA=="
         },
         "marker": {
          "color": "#00cc96"
         },
         "mode": "markers",
         "name": "106",
         "showlegend": true,
         "subplot": "map",
         "type": "scattermap"
        },
        {
         "customdata": [
          [
           -30.17,
           -177.65,
           "08:52:48.8",
           "1987/03/18"
          ],
          [
           -30.29,
           -178.0,
           "12:15:35.4",
           "1987/08/30"
          ]
         ],
         "hovertemplate": "<b>%{hovertext}</b><br><br>Cluster=109<br>Lat=%{customdata[0]}<br>Lon=%{customdata[1]}<br>Time=%{customdata[2]}<br>Date=%{customdata[3]}<extra></extra>",
         "hovertext": {
          "dtype": "f8",
          "bdata": "AAAAAABAW0AAAAAAAEBbQA=="
         },
         "lat": {
          "dtype": "f8",
          "bdata": "7FG4HoUrPsAK16NwPUo+wA=="
         },
         "legendgroup": "109",
         "lon": {
          "dtype": "f8",
          "bdata": "zczMzMw0ZsAAAAAAAEBmwA=="
         },
         "marker": {
          "color": "#ab63fa"
         },
         "mode": "markers",
         "name": "109",
         "showlegend": true,
         "subplot": "map",
         "type": "scattermap"
        },
        {
         "customdata": [
          [
           -30.21,
           165.77,
           "21:59:41.9",
           "1987/07/26"
          ],
          [
           -30.38,
           165.52,
           "17:53:35.9",
           "1987/07/27"
          ]
         ],
         "hovertemplate": "<b>%{hovertext}</b><br><br>Cluster=114<br>Lat=%{customdata[0]}<br>Lon=%{customdata[1]}<br>Time=%{customdata[2]}<br>Date=%{customdata[3]}<extra></extra>",
         "hovertext": {
          "dtype": "f8",
          "bdata": "AAAAAACAXEAAAAAAAIBcQA=="
         },
         "lat": {
          "dtype": "f8",
          "bdata": "9ihcj8I1PsDhehSuR2E+wA=="
         },
         "legendgroup": "114",
         "lon": {
          "dtype": "f8",
          "bdata": "cT0K16O4ZEBxPQrXo7BkQA=="
         },
         "marker": {
          "color": "#FFA15A"
         },
         "mode": "markers",
         "name": "114",
         "showlegend": true,
         "subplot": "map",
         "type": "scattermap"
        },
        {
         "customdata": [
          [
           -31.22,
           -177.87,
           "17:43:39.1",
           "1987/09/07"
          ],
          [
           -31.42,
           -177.87,
           "21:37:00.3",
           "1987/09/08"
          ],
          [
           -30.82,
           -178.01,
           "04:13:38.1",
           "1988/04/23"
          ]
         ],
         "hovertemplate": "<b>%{hovertext}</b><br><br>Cluster=116<br>Lat=%{customdata[0]}<br>Lon=%{customdata[1]}<br>Time=%{customdata[2]}<br>Date=%{customdata[3]}<extra></extra>",
         "hovertext": {
          "dtype": "f8",
          "bdata": "AAAAAAAAXUAAAAAAAABdQAAAAAAAAF1A"
         },
         "lat": {
          "dtype": "f8",
          "bdata": "uB6F61E4P8DsUbgehWs/wFK4HoXr0T7A"
         },
         "legendgroup": "116",
         "lon": {
          "dtype": "f8",
          "bdata": "pHA9Ctc7ZsCkcD0K1ztmwLgehetRQGbA"
         },
         "marker": {
          "color": "#19d3f3"
         },
         "mode": "markers",
         "name": "116",
         "showlegend": true,
         "subplot": "map",
         "type": "scattermap"
        },
        {
         "customdata": [
          [
           -32.51,
           -179.76,
           "08:07:32.7",
           "1988/01/13"
          ],
          [
           -32.54,
           -179.87,
           "11:47:44.5",
           "1988/01/13"
          ],
          [
           -32.32,
           -179.68,
           "22:16:51.0",
           "1988/01/13"
          ],
          [
           -32.43,
           -179.59,
           "13:51:34.7",
           "1988/01/17"
          ],
          [
           -32.32,
           -179.71,
           "09:53:38.0",
           "1988/01/18"
          ]
         ],
         "hovertemplate": "<b>%{hovertext}</b><br><br>Cluster=118<br>Lat=%{customdata[0]}<br>Lon=%{customdata[1]}<br>Time=%{customdata[2]}<br>Date=%{customdata[3]}<extra></extra>",
         "hovertext": {
          "dtype": "f8",
          "bdata": "AAAAAACAXUAAAAAAAIBdQAAAAAAAgF1AAAAAAACAXUAAAAAAAIBdQA=="
         },
         "lat": {
          "dtype": "f8",
          "bdata": "4XoUrkdBQMCF61G4HkVAwClcj8L1KEDA16NwPQo3QMApXI/C9ShAwA=="
         },
         "legendgroup": "118",
         "lon": {
          "dtype": "f8",
          "bdata": "uB6F61F4ZsCkcD0K13tmwPYoXI/CdWbAexSuR+FyZsAfhetRuHZmwA=="
         },
         "marker": {
          "color": "#FF6692"
         },
         "mode": "markers",
         "name": "118",
         "showlegend": true,
         "subplot": "map",
         "type": "scattermap"
        },
        {
         "customdata": [
          [
           -45.01,
           167.52,
           "23:27:34.8",
           "1988/06/03"
          ],
          [
           -45.25,
           167.64,
           "02:58:15.6",
           "1988/07/19"
          ],
          [
           -45.16,
           167.11,
           "05:54:23.1",
           "1989/05/31"
          ]
         ],
         "hovertemplate": "<b>%{hovertext}</b><br><br>Cluster=124<br>Lat=%{customdata[0]}<br>Lon=%{customdata[1]}<br>Time=%{customdata[2]}<br>Date=%{customdata[3]}<extra></extra>",
         "hovertext": {
          "dtype": "f8",
          "bdata": "AAAAAAAAX0AAAAAAAABfQAAAAAAAAF9A"
         },
         "lat": {
          "dtype": "f8",
          "bdata": "4XoUrkeBRsAAAAAAAKBGwBSuR+F6lEbA"
         },
         "legendgroup": "124",
         "lon": {
          "dtype": "f8",
          "bdata": "cT0K16PwZEAUrkfhevRkQOxRuB6F42RA"
         },
         "marker": {
          "color": "#B6E880"
         },
         "mode": "markers",
         "name": "124",
         "showlegend": true,
         "subplot": "map",
         "type": "scattermap"
        },
        {
         "customdata": [
          [
           -31.62,
           -179.59,
           "14:44:21.9",
           "1988/09/20"
          ],
          [
           -31.46,
           -179.77,
           "05:10:37.8",
           "1988/11/16"
          ]
         ],
         "hovertemplate": "<b>%{hovertext}</b><br><br>Cluster=127<br>Lat=%{customdata[0]}<br>Lon=%{customdata[1]}<br>Time=%{customdata[2]}<br>Date=%{customdata[3]}<extra></extra>",
         "hovertext": {
          "dtype": "f8",
          "bdata": "AAAAAADAX0AAAAAAAMBfQA=="
         },
         "lat": {
          "dtype": "f8",
          "bdata": "H4XrUbieP8D2KFyPwnU/wA=="
         },
         "legendgroup": "127",
         "lon": {
          "dtype": "f8",
          "bdata": "exSuR+FyZsBxPQrXo3hmwA=="
         },
         "marker": {
          "color": "#FF97FF"
         },
         "mode": "markers",
         "name": "127",
         "showlegend": true,
         "subplot": "map",
         "type": "scattermap"
        },
        {
         "customdata": [
          [
           -30.58,
           -177.99,
           "04:17:34.2",
           "1989/03/15"
          ],
          [
           -30.55,
           -178.41,
           "00:59:49.0",
           "1989/05/14"
          ],
          [
           -30.65,
           -177.75,
           "13:10:20.0",
           "1990/04/11"
          ],
          [
           -30.44,
           -177.79,
           "18:24:11.9",
           "1990/07/10"
          ],
          [
           -30.37,
           -177.74,
           "21:23:20.2",
           "1991/01/26"
          ],
          [
           -30.63,
           -177.93,
           "06:21:34.8",
           "1991/04/02"
          ]
         ],
         "hovertemplate": "<b>%{hovertext}</b><br><br>Cluster=128<br>Lat=%{customdata[0]}<br>Lon=%{customdata[1]}<br>Time=%{customdata[2]}<br>Date=%{customdata[3]}<extra></extra>",
         "hovertext": {
          "dtype": "f8",
          "bdata": "AAAAAAAAYEAAAAAAAABgQAAAAAAAAGBAAAAAAAAAYEAAAAAAAABgQAAAAAAAAGBA"
         },
         "lat": {
          "dtype": "f8",
          "bdata": "FK5H4XqUPsDNzMzMzIw+wGZmZmZmpj7AcT0K16NwPsAfhetRuF4+wOF6FK5HoT7A"
         },
         "legendgroup": "128",
         "lon": {
          "dtype": "f8",
          "bdata": "SOF6FK4/ZsCF61G4Hk1mwAAAAAAAOGbA4XoUrkc5ZsBI4XoUrjdmwPYoXI/CPWbA"
         },
         "marker": {
          "color": "#FECB52"
         },
         "mode": "markers",
         "name": "128",
         "showlegend": true,
         "subplot": "map",
         "type": "scattermap"
        },
        {
         "customdata": [
          [
           -30.21,
           -178.06,
           "09:33:59.8",
           "1989/03/16"
          ],
          [
           -30.36,
           -178.36,
           "16:01:50.1",
           "1989/05/20"
          ],
          [
           -30.18,
           -178.01,
           "13:32:01.6",
           "1989/09/07"
          ],
          [
           -30.15,
           -177.83,
           "08:25:40.1",
           "1989/09/08"
          ],
          [
           -30.08,
           -177.64,
           "05:42:36.1",
           "1990/01/18"
          ],
          [
           -30.0,
           -177.71,
           "12:45:26.0",
           "1990/01/18"
          ],
          [
           -30.11,
           -177.91,
           "21:58:42.4",
           "1990/02/11"
          ]
         ],
         "hovertemplate": "<b>%{hovertext}</b><br><br>Cluster=129<br>Lat=%{customdata[0]}<br>Lon=%{customdata[1]}<br>Time=%{customdata[2]}<br>Date=%{customdata[3]}<extra></extra>",
         "hovertext": {
          "dtype": "f8",
          "bdata": "AAAAAAAgYEAAAAAAACBgQAAAAAAAIGBAAAAAAAAgYEAAAAAAACBgQAAAAAAAIGBAAAAAAAAgYEA="
         },
         "lat": {
          "dtype": "f8",
          "bdata": "9ihcj8I1PsBcj8L1KFw+wK5H4XoULj7AZmZmZmYmPsAUrkfhehQ+wAAAAAAAAD7AXI/C9SgcPsA="
         },
         "legendgroup": "129",
         "lon": {
          "dtype": "f8",
          "bdata": "UrgehetBZsDsUbgehUtmwLgehetRQGbAw/UoXI86ZsAUrkfhejRmwB+F61G4NmbAhetRuB49ZsA="
         },
         "marker": {
          "color": "#636efa"
         },
         "mode": "markers",
         "name": "129",
         "showlegend": true,
         "subplot": "map",
         "type": "scattermap"
        },
        {
         "customdata": [
          [
           -31.29,
           -177.89,
           "00:08:23.1",
           "1989/04/19"
          ],
          [
           -31.42,
           -177.81,
           "07:03:59.3",
           "1989/04/19"
          ],
          [
           -31.17,
           -177.84,
           "04:03:42.5",
           "1989/05/21"
          ],
          [
           -31.28,
           -178.0,
           "06:29:40.2",
           "1990/01/25"
          ]
         ],
         "hovertemplate": "<b>%{hovertext}</b><br><br>Cluster=132<br>Lat=%{customdata[0]}<br>Lon=%{customdata[1]}<br>Time=%{customdata[2]}<br>Date=%{customdata[3]}<extra></extra>",
         "hovertext": {
          "dtype": "f8",
          "bdata": "AAAAAACAYEAAAAAAAIBgQAAAAAAAgGBAAAAAAACAYEA="
         },
         "lat": {
          "dtype": "f8",
          "bdata": "CtejcD1KP8DsUbgehWs/wOxRuB6FKz/ASOF6FK5HP8A="
         },
         "legendgroup": "132",
         "lon": {
          "dtype": "f8",
          "bdata": "FK5H4Xo8ZsBSuB6F6zlmwHsUrkfhOmbAAAAAAABAZsA="
         },
         "marker": {
          "color": "#EF553B"
         },
         "mode": "markers",
         "name": "132",
         "showlegend": true,
         "subplot": "map",
         "type": "scattermap"
        },
        {
         "customdata": [
          [
           -31.94,
           -178.19,
           "22:16:13.3",
           "1989/07/25"
          ],
          [
           -31.68,
           -178.11,
           "07:36:33.1",
           "1990/01/16"
          ],
          [
           -31.71,
           -178.01,
           "07:56:33.4",
           "1990/01/16"
          ],
          [
           -31.66,
           -178.09,
           "10:52:08.3",
           "1990/01/16"
          ],
          [
           -31.55,
           -178.12,
           "08:25:34.1",
           "1990/01/22"
          ],
          [
           -31.83,
           -178.05,
           "21:33:30.8",
           "1990/05/15"
          ]
         ],
         "hovertemplate": "<b>%{hovertext}</b><br><br>Cluster=134<br>Lat=%{customdata[0]}<br>Lon=%{customdata[1]}<br>Time=%{customdata[2]}<br>Date=%{customdata[3]}<extra></extra>",
         "hovertext": {
          "dtype": "f8",
          "bdata": "AAAAAADAYEAAAAAAAMBgQAAAAAAAwGBAAAAAAADAYEAAAAAAAMBgQAAAAAAAwGBA"
         },
         "lat": {
          "dtype": "f8",
          "bdata": "cT0K16PwP8CuR+F6FK4/wPYoXI/CtT/AKVyPwvWoP8DNzMzMzIw/wBSuR+F61D/A"
         },
         "legendgroup": "134",
         "lon": {
          "dtype": "f8",
          "bdata": "rkfhehRGZsDsUbgehUNmwLgehetRQGbAexSuR+FCZsCkcD0K10NmwJqZmZmZQWbA"
         },
         "marker": {
          "color": "#00cc96"
         },
         "mode": "markers",
         "name": "134",
         "showlegend": true,
         "subplot": "map",
         "type": "scattermap"
        },
        {
         "customdata": [
          [
           -33.15,
           -177.64,
           "07:18:25.5",
           "1989/09/04"
          ],
          [
           -33.16,
           -178.03,
           "00:57:28.8",
           "1990/08/21"
          ]
         ],
         "hovertemplate": "<b>%{hovertext}</b><br><br>Cluster=136<br>Lat=%{customdata[0]}<br>Lon=%{customdata[1]}<br>Time=%{customdata[2]}<br>Date=%{customdata[3]}<extra></extra>",
         "hovertext": {
          "dtype": "f8",
          "bdata": "AAAAAAAAYUAAAAAAAABhQA=="
         },
         "lat": {
          "dtype": "f8",
          "bdata": "MzMzMzOTQMAUrkfhepRAwA=="
         },
         "legendgroup": "136",
         "lon": {
          "dtype": "f8",
          "bdata": "FK5H4Xo0ZsApXI/C9UBmwA=="
         },
         "marker": {
          "color": "#ab63fa"
         },
         "mode": "markers",
         "name": "136",
         "showlegend": true,
         "subplot": "map",
         "type": "scattermap"
        },
        {
         "customdata": [
          [
           -35.04,
           -179.55,
           "04:23:45.9",
           "1989/12/20"
          ],
          [
           -34.92,
           -179.51,
           "11:44:48.6",
           "1989/12/20"
          ]
         ],
         "hovertemplate": "<b>%{hovertext}</b><br><br>Cluster=139<br>Lat=%{customdata[0]}<br>Lon=%{customdata[1]}<br>Time=%{customdata[2]}<br>Date=%{customdata[3]}<extra></extra>",
         "hovertext": {
          "dtype": "f8",
          "bdata": "AAAAAABgYUAAAAAAAGBhQA=="
         },
         "lat": {
          "dtype": "f8",
          "bdata": "hetRuB6FQcD2KFyPwnVBwA=="
         },
         "legendgroup": "139",
         "lon": {
          "dtype": "f8",
          "bdata": "mpmZmZlxZsC4HoXrUXBmwA=="
         },
         "marker": {
          "color": "#FFA15A"
         },
         "mode": "markers",
         "name": "139",
         "showlegend": true,
         "subplot": "map",
         "type": "scattermap"
        },
        {
         "customdata": [
          [
           -42.29,
           172.8,
           "03:27:41.7",
           "1990/02/10"
          ],
          [
           -42.19,
           172.74,
           "03:54:50.8",
           "1990/02/10"
          ]
         ],
         "hovertemplate": "<b>%{hovertext}</b><br><br>Cluster=140<br>Lat=%{customdata[0]}<br>Lon=%{customdata[1]}<br>Time=%{customdata[2]}<br>Date=%{customdata[3]}<extra></extra>",
         "hovertext": {
          "dtype": "f8",
          "bdata": "AAAAAACAYUAAAAAAAIBhQA=="
         },
         "lat": {
          "dtype": "f8",
          "bdata": "hetRuB4lRcC4HoXrURhFwA=="
         },
         "legendgroup": "140",
         "lon": {
          "dtype": "f8",
          "bdata": "mpmZmZmZZUBI4XoUrpdlQA=="
         },
         "marker": {
          "color": "#19d3f3"
         },
         "mode": "markers",
         "name": "140",
         "showlegend": true,
         "subplot": "map",
         "type": "scattermap"
        },
        {
         "customdata": [
          [
           -40.3,
           176.04,
           "05:34:37.4",
           "1990/02/19"
          ],
          [
           -40.26,
           176.14,
           "04:23:10.8",
           "1990/05/13"
          ],
          [
           -40.32,
           176.64,
           "15:54:40.3",
           "1990/08/15"
          ],
          [
           -40.47,
           176.19,
           "09:05:57.8",
           "1992/03/02"
          ]
         ],
         "hovertemplate": "<b>%{hovertext}</b><br><br>Cluster=141<br>Lat=%{customdata[0]}<br>Lon=%{customdata[1]}<br>Time=%{customdata[2]}<br>Date=%{customdata[3]}<extra></extra>",
         "hovertext": {
          "dtype": "f8",
          "bdata": "AAAAAACgYUAAAAAAAKBhQAAAAAAAoGFAAAAAAACgYUA="
         },
         "lat": {
          "dtype": "f8",
          "bdata": "ZmZmZmYmRMDhehSuRyFEwClcj8L1KETAXI/C9Sg8RMA="
         },
         "legendgroup": "141",
         "lon": {
          "dtype": "f8",
          "bdata": "4XoUrkcBZkAUrkfhegRmQBSuR+F6FGZArkfhehQGZkA="
         },
         "marker": {
          "color": "#FF6692"
         },
         "mode": "markers",
         "name": "141",
         "showlegend": true,
         "subplot": "map",
         "type": "scattermap"
        },
        {
         "customdata": [
          [
           -48.05,
           165.45,
           "12:59:51.2",
           "1990/03/12"
          ],
          [
           -47.9,
           165.76,
           "13:30:39.7",
           "1990/03/13"
          ]
         ],
         "hovertemplate": "<b>%{hovertext}</b><br><br>Cluster=142<br>Lat=%{customdata[0]}<br>Lon=%{customdata[1]}<br>Time=%{customdata[2]}<br>Date=%{customdata[3]}<extra></extra>",
         "hovertext": {
          "dtype": "f8",
          "bdata": "AAAAAADAYUAAAAAAAMBhQA=="
         },
         "lat": {
          "dtype": "f8",
          "bdata": "ZmZmZmYGSMAzMzMzM/NHwA=="
         },
         "legendgroup": "142",
         "lon": {
          "dtype": "f8",
          "bdata": "ZmZmZmauZEC4HoXrUbhkQA=="
         },
         "marker": {
          "color": "#B6E880"
         },
         "mode": "markers",
         "name": "142",
         "showlegend": true,
         "subplot": "map",
         "type": "scattermap"
        },
        {
         "customdata": [
          [
           -41.45,
           175.0,
           "23:48:31.4",
           "1990/10/04"
          ],
          [
           -41.51,
           175.29,
           "02:41:16.2",
           "1990/10/06"
          ]
         ],
         "hovertemplate": "<b>%{hovertext}</b><br><br>Cluster=151<br>Lat=%{customdata[0]}<br>Lon=%{customdata[1]}<br>Time=%{customdata[2]}<br>Date=%{customdata[3]}<extra></extra>",
         "hovertext": {
          "dtype": "f8",
          "bdata": "AAAAAADgYkAAAAAAAOBiQA=="
         },
         "lat": {
          "dtype": "f8",
          "bdata": "mpmZmZm5RMDhehSuR8FEwA=="
         },
         "legendgroup": "151",
         "lon": {
          "dtype": "f8",
          "bdata": "AAAAAADgZUDhehSuR+llQA=="
         },
         "marker": {
          "color": "#FF97FF"
         },
         "mode": "markers",
         "name": "151",
         "showlegend": true,
         "subplot": "map",
         "type": "scattermap"
        },
        {
         "customdata": [
          [
           -42.02,
           171.71,
           "12:58:48.8",
           "1991/01/28"
          ],
          [
           -42.02,
           171.75,
           "18:00:55.0",
           "1991/01/28"
          ],
          [
           -42.1,
           171.56,
           "10:48:12.9",
           "1991/02/15"
          ]
         ],
         "hovertemplate": "<b>%{hovertext}</b><br><br>Cluster=152<br>Lat=%{customdata[0]}<br>Lon=%{customdata[1]}<br>Time=%{customdata[2]}<br>Date=%{customdata[3]}<extra></extra>",
         "hovertext": {
          "dtype": "f8",
          "bdata": "AAAAAAAAY0AAAAAAAABjQAAAAAAAAGNA"
         },
         "lat": {
          "dtype": "f8",
          "bdata": "w/UoXI8CRcDD9ShcjwJFwM3MzMzMDEXA"
         },
         "legendgroup": "152",
         "lon": {
          "dtype": "f8",
          "bdata": "H4XrUbh2ZUAAAAAAAHhlQFK4HoXrcWVA"
         },
         "marker": {
          "color": "#FECB52"
         },
         "mode": "markers",
         "name": "152",
         "showlegend": true,
         "subplot": "map",
         "type": "scattermap"
        },
        {
         "customdata": [
          [
           -31.78,
           179.77,
           "11:31:04.6",
           "1991/02/12"
          ],
          [
           -31.39,
           179.8,
           "15:03:25.9",
           "1991/06/04"
          ]
         ],
         "hovertemplate": "<b>%{hovertext}</b><br><br>Cluster=153<br>Lat=%{customdata[0]}<br>Lon=%{customdata[1]}<br>Time=%{customdata[2]}<br>Date=%{customdata[3]}<extra></extra>",
         "hovertext": {
          "dtype": "f8",
          "bdata": "AAAAAAAgY0AAAAAAACBjQA=="
         },
         "lat": {
          "dtype": "f8",
          "bdata": "SOF6FK7HP8CkcD0K12M/wA=="
         },
         "legendgroup": "153",
         "lon": {
          "dtype": "f8",
          "bdata": "cT0K16N4ZkCamZmZmXlmQA=="
         },
         "marker": {
          "color": "#636efa"
         },
         "mode": "markers",
         "name": "153",
         "showlegend": true,
         "subplot": "map",
         "type": "scattermap"
        },
        {
         "customdata": [
          [
           -30.11,
           -177.99,
           "16:23:26.4",
           "1991/11/01"
          ],
          [
           -30.12,
           -177.99,
           "06:36:44.7",
           "1991/12/15"
          ],
          [
           -30.15,
           -177.66,
           "06:09:42.4",
           "1992/03/30"
          ],
          [
           -30.42,
           -178.14,
           "09:27:12.2",
           "1992/05/28"
          ]
         ],
         "hovertemplate": "<b>%{hovertext}</b><br><br>Cluster=160<br>Lat=%{customdata[0]}<br>Lon=%{customdata[1]}<br>Time=%{customdata[2]}<br>Date=%{customdata[3]}<extra></extra>",
         "hovertext": {
          "dtype": "f8",
          "bdata": "AAAAAAAAZEAAAAAAAABkQAAAAAAAAGRAAAAAAAAAZEA="
         },
         "lat": {
          "dtype": "f8",
          "bdata": "XI/C9SgcPsAfhetRuB4+wGZmZmZmJj7A7FG4HoVrPsA="
         },
         "legendgroup": "160",
         "lon": {
          "dtype": "f8",
          "bdata": "SOF6FK4/ZsBI4XoUrj9mwIXrUbgeNWbAFK5H4XpEZsA="
         },
         "marker": {
          "color": "#EF553B"
         },
         "mode": "markers",
         "name": "160",
         "showlegend": true,
         "subplot": "map",
         "type": "scattermap"
        },
        {
         "customdata": [
          [
           -33.54,
           -179.54,
           "20:35:24.5",
           "1992/02/20"
          ],
          [
           -33.68,
           -179.08,
           "03:18:54.0",
           "1992/06/26"
          ]
         ],
         "hovertemplate": "<b>%{hovertext}</b><br><br>Cluster=164<br>Lat=%{customdata[0]}<br>Lon=%{customdata[1]}<br>Time=%{customdata[2]}<br>Date=%{customdata[3]}<extra></extra>",
         "hovertext": {
          "dtype": "f8",
          "bdata": "AAAAAACAZEAAAAAAAIBkQA=="
         },
         "lat": {
          "dtype": "f8",
          "bdata": "hetRuB7FQMDXo3A9CtdAwA=="
         },
         "legendgroup": "164",
         "lon": {
          "dtype": "f8",
          "bdata": "4XoUrkdxZsDD9Shcj2JmwA=="
         },
         "marker": {
          "color": "#00cc96"
         },
         "mode": "markers",
         "name": "164",
         "showlegend": true,
         "subplot": "map",
         "type": "scattermap"
        },
        {
         "customdata": [
          [
           -37.52,
           177.25,
           "17:27:32.6",
           "1992/03/25"
          ],
          [
           -37.8,
           176.96,
           "17:43:12.1",
           "1992/06/21"
          ]
         ],
         "hovertemplate": "<b>%{hovertext}</b><br><br>Cluster=166<br>Lat=%{customdata[0]}<br>Lon=%{customdata[1]}<br>Time=%{customdata[2]}<br>Date=%{customdata[3]}<extra></extra>",
         "hovertext": {
          "dtype": "f8",
          "bdata": "AAAAAADAZEAAAAAAAMBkQA=="
         },
         "lat": {
          "dtype": "f8",
          "bdata": "w/UoXI/CQsBmZmZmZuZCwA=="
         },
         "legendgroup": "166",
         "lon": {
          "dtype": "f8",
          "bdata": "AAAAAAAoZkAfhetRuB5mQA=="
         },
         "marker": {
          "color": "#ab63fa"
         },
         "mode": "markers",
         "name": "166",
         "showlegend": true,
         "subplot": "map",
         "type": "scattermap"
        },
        {
         "customdata": [
          [
           -32.45,
           -178.26,
           "19:14:25.6",
           "1992/12/26"
          ],
          [
           -32.77,
           -178.12,
           "03:03:41.3",
           "1993/01/20"
          ]
         ],
         "hovertemplate": "<b>%{hovertext}</b><br><br>Cluster=180<br>Lat=%{customdata[0]}<br>Lon=%{customdata[1]}<br>Time=%{customdata[2]}<br>Date=%{customdata[3]}<extra></extra>",
         "hovertext": {
          "dtype": "f8",
          "bdata": "AAAAAACAZkAAAAAAAIBmQA=="
         },
         "lat": {
          "dtype": "f8",
          "bdata": "mpmZmZk5QMDD9Shcj2JAwA=="
         },
         "legendgroup": "180",
         "lon": {
          "dtype": "f8",
          "bdata": "uB6F61FIZsCkcD0K10NmwA=="
         },
         "marker": {
          "color": "#FFA15A"
         },
         "mode": "markers",
         "name": "180",
         "showlegend": true,
         "subplot": "map",
         "type": "scattermap"
        },
        {
         "customdata": [
          [
           -31.98,
           -178.17,
           "20:17:14.2",
           "1992/12/31"
          ],
          [
           -31.93,
           -178.05,
           "12:02:14.2",
           "1993/01/07"
          ],
          [
           -31.92,
           -178.09,
           "12:06:44.7",
           "1993/01/07"
          ],
          [
           -32.05,
           -177.98,
           "16:46:19.5",
           "1993/01/07"
          ],
          [
           -32.05,
           -178.2,
           "11:15:55.6",
           "1993/01/09"
          ]
         ],
         "hovertemplate": "<b>%{hovertext}</b><br><br>Cluster=181<br>Lat=%{customdata[0]}<br>Lon=%{customdata[1]}<br>Time=%{customdata[2]}<br>Date=%{customdata[3]}<extra></extra>",
         "hovertext": {
          "dtype": "f8",
          "bdata": "AAAAAACgZkAAAAAAAKBmQAAAAAAAoGZAAAAAAACgZkAAAAAAAKBmQA=="
         },
         "lat": {
          "dtype": "f8",
          "bdata": "exSuR+H6P8CuR+F6FO4/wOxRuB6F6z/AZmZmZmYGQMBmZmZmZgZAwA=="
         },
         "legendgroup": "181",
         "lon": {
          "dtype": "f8",
          "bdata": "PQrXo3BFZsCamZmZmUFmwHsUrkfhQmbAj8L1KFw/ZsBmZmZmZkZmwA=="
         },
         "marker": {
          "color": "#19d3f3"
         },
         "mode": "markers",
         "name": "181",
         "showlegend": true,
         "subplot": "map",
         "type": "scattermap"
        },
        {
         "customdata": [
          [
           -45.14,
           166.95,
           "00:51:54.7",
           "1993/08/10"
          ],
          [
           -45.16,
           166.86,
           "04:09:12.6",
           "1993/08/11"
          ],
          [
           -45.35,
           166.61,
           "22:08:49.6",
           "1993/08/11"
          ]
         ],
         "hovertemplate": "<b>%{hovertext}</b><br><br>Cluster=184<br>Lat=%{customdata[0]}<br>Lon=%{customdata[1]}<br>Time=%{customdata[2]}<br>Date=%{customdata[3]}<extra></extra>",
         "hovertext": {
          "dtype": "f8",
          "bdata": "AAAAAAAAZ0AAAAAAAABnQAAAAAAAAGdA"
         },
         "lat": {
          "dtype": "f8",
          "bdata": "UrgeheuRRsAUrkfhepRGwM3MzMzMrEbA"
         },
         "legendgroup": "184",
         "lon": {
          "dtype": "f8",
          "bdata": "ZmZmZmbeZEDsUbgehdtkQOxRuB6F02RA"
         },
         "marker": {
          "color": "#FF6692"
         },
         "mode": "markers",
         "name": "184",
         "showlegend": true,
         "subplot": "map",
         "type": "scattermap"
        },
        {
         "customdata": [
          [
           -35.96,
           178.52,
           "11:02:22.1",
           "1993/08/13"
          ],
          [
           -35.93,
           178.28,
           "01:29:59.9",
           "1993/08/26"
          ]
         ],
         "hovertemplate": "<b>%{hovertext}</b><br><br>Cluster=186<br>Lat=%{customdata[0]}<br>Lon=%{customdata[1]}<br>Time=%{customdata[2]}<br>Date=%{customdata[3]}<extra></extra>",
         "hovertext": {
          "dtype": "f8",
          "bdata": "AAAAAABAZ0AAAAAAAEBnQA=="
         },
         "lat": {
          "dtype": "f8",
          "bdata": "exSuR+H6QcDXo3A9CvdBwA=="
         },
         "legendgroup": "186",
         "lon": {
          "dtype": "f8",
          "bdata": "cT0K16NQZkApXI/C9UhmQA=="
         },
         "marker": {
          "color": "#B6E880"
         },
         "mode": "markers",
         "name": "186",
         "showlegend": true,
         "subplot": "map",
         "type": "scattermap"
        },
        {
         "customdata": [
          [
           -42.86,
           171.46,
           "03:25:19.5",
           "1994/06/18"
          ],
          [
           -43.13,
           171.58,
           "13:43:51.5",
           "1994/06/19"
          ],
          [
           -43.11,
           171.52,
           "02:18:26.8",
           "1994/06/21"
          ],
          [
           -42.96,
           171.5,
           "10:06:45.0",
           "1995/05/29"
          ],
          [
           -42.99,
           171.62,
           "06:18:57.1",
           "1995/11/24"
          ]
         ],
         "hovertemplate": "<b>%{hovertext}</b><br><br>Cluster=192<br>Lat=%{customdata[0]}<br>Lon=%{customdata[1]}<br>Time=%{customdata[2]}<br>Date=%{customdata[3]}<extra></extra>",
         "hovertext": {
          "dtype": "f8",
          "bdata": "AAAAAAAAaEAAAAAAAABoQAAAAAAAAGhAAAAAAAAAaEAAAAAAAABoQA=="
         },
         "lat": {
          "dtype": "f8",
          "bdata": "rkfhehRuRcBxPQrXo5BFwK5H4XoUjkXAexSuR+F6RcAfhetRuH5FwA=="
         },
         "legendgroup": "192",
         "lon": {
          "dtype": "f8",
          "bdata": "H4XrUbhuZUDD9Shcj3JlQHE9CtejcGVAAAAAAABwZUCkcD0K13NlQA=="
         },
         "marker": {
          "color": "#FF97FF"
         },
         "mode": "markers",
         "name": "192",
         "showlegend": true,
         "subplot": "map",
         "type": "scattermap"
        },
        {
         "customdata": [
          [
           -31.96,
           -178.28,
           "14:19:56.1",
           "1995/01/20"
          ],
          [
           -31.86,
           -178.58,
           "02:15:41.5",
           "1995/06/04"
          ]
         ],
         "hovertemplate": "<b>%{hovertext}</b><br><br>Cluster=201<br>Lat=%{customdata[0]}<br>Lon=%{customdata[1]}<br>Time=%{customdata[2]}<br>Date=%{customdata[3]}<extra></extra>",
         "hovertext": {
          "dtype": "f8",
          "bdata": "AAAAAAAgaUAAAAAAACBpQA=="
         },
         "lat": {
          "dtype": "f8",
          "bdata": "9ihcj8L1P8Bcj8L1KNw/wA=="
         },
         "legendgroup": "201",
         "lon": {
          "dtype": "f8",
          "bdata": "KVyPwvVIZsDD9Shcj1JmwA=="
         },
         "marker": {
          "color": "#FECB52"
         },
         "mode": "markers",
         "name": "201",
         "showlegend": true,
         "subplot": "map",
         "type": "scattermap"
        },
        {
         "customdata": [
          [
           -37.71,
           178.77,
           "22:51:10.4",
           "1995/02/05"
          ],
          [
           -37.93,
           178.8,
           "10:19:52.5",
           "1995/02/06"
          ],
          [
           -37.8,
           178.82,
           "10:43:57.2",
           "1995/02/06"
          ],
          [
           -37.98,
           178.65,
           "11:23:04.4",
           "1995/02/06"
          ],
          [
           -37.78,
           178.81,
           "15:19:28.4",
           "1995/02/06"
          ],
          [
           -38.12,
           178.41,
           "02:56:20.2",
           "1995/02/07"
          ],
          [
           -37.64,
           178.72,
           "17:20:22.9",
           "1995/02/08"
          ],
          [
           -38.14,
           178.52,
           "10:56:43.5",
           "1995/02/09"
          ],
          [
           -37.64,
           179.05,
           "02:44:29.2",
           "1995/02/12"
          ],
          [
           -37.54,
           178.54,
           "00:11:47.7",
           "1995/02/13"
          ],
          [
           -37.61,
           178.85,
           "01:16:53.7",
           "1995/02/15"
          ],
          [
           -37.54,
           178.73,
           "23:36:16.7",
           "1995/02/15"
          ],
          [
           -37.69,
           179.02,
           "09:04:16.7",
           "1995/02/27"
          ]
         ],
         "hovertemplate": "<b>%{hovertext}</b><br><br>Cluster=202<br>Lat=%{customdata[0]}<br>Lon=%{customdata[1]}<br>Time=%{customdata[2]}<br>Date=%{customdata[3]}<extra></extra>",
         "hovertext": {
          "dtype": "f8",
          "bdata": "AAAAAABAaUAAAAAAAEBpQAAAAAAAQGlAAAAAAABAaUAAAAAAAEBpQAAAAAAAQGlAAAAAAABAaUAAAAAAAEBpQAAAAAAAQGlAAAAAAABAaUAAAAAAAEBpQAAAAAAAQGlAAAAAAABAaUA="
         },
         "lat": {
          "dtype": "f8",
          "bdata": "exSuR+HaQsDXo3A9CvdCwGZmZmZm5kLAPQrXo3D9QsCkcD0K1+NCwI/C9ShcD0PAUrgehevRQsBSuB6F6xFDwFK4HoXr0ULAhetRuB7FQsCuR+F6FM5CwIXrUbgexULAuB6F61HYQsA="
         },
         "legendgroup": "202",
         "lon": {
          "dtype": "f8",
          "bdata": "cT0K16NYZkCamZmZmVlmQArXo3A9WmZAzczMzMxUZkBSuB6F61lmQIXrUbgeTWZA16NwPQpXZkBxPQrXo1BmQJqZmZmZYWZA4XoUrkdRZkAzMzMzM1tmQI/C9ShcV2ZAcT0K16NgZkA="
         },
         "marker": {
          "color": "#636efa"
         },
         "mode": "markers",
         "name": "202",
         "showlegend": true,
         "subplot": "map",
         "type": "scattermap"
        },
        {
         "customdata": [
          [
           -38.25,
           178.4,
           "12:54:01.3",
           "1995/02/09"
          ],
          [
           -37.97,
           178.47,
           "01:45:04.4",
           "1995/02/10"
          ],
          [
           -38.28,
           177.74,
           "03:34:32.9",
           "1996/06/27"
          ]
         ],
         "hovertemplate": "<b>%{hovertext}</b><br><br>Cluster=203<br>Lat=%{customdata[0]}<br>Lon=%{customdata[1]}<br>Time=%{customdata[2]}<br>Date=%{customdata[3]}<extra></extra>",
         "hovertext": {
          "dtype": "f8",
          "bdata": "AAAAAABgaUAAAAAAAGBpQAAAAAAAYGlA"
         },
         "lat": {
          "dtype": "f8",
          "bdata": "AAAAAAAgQ8Bcj8L1KPxCwKRwPQrXI0PA"
         },
         "legendgroup": "203",
         "lon": {
          "dtype": "f8",
          "bdata": "zczMzMxMZkDXo3A9Ck9mQEjhehSuN2ZA"
         },
         "marker": {
          "color": "#EF553B"
         },
         "mode": "markers",
         "name": "203",
         "showlegend": true,
         "subplot": "map",
         "type": "scattermap"
        },
        {
         "customdata": [
          [
           -32.96,
           -178.61,
           "13:58:27.6",
           "1995/04/29"
          ],
          [
           -32.76,
           -178.77,
           "21:39:36.9",
           "1995/08/02"
          ],
          [
           -32.77,
           -178.44,
           "06:38:33.2",
           "1995/08/04"
          ]
         ],
         "hovertemplate": "<b>%{hovertext}</b><br><br>Cluster=206<br>Lat=%{customdata[0]}<br>Lon=%{customdata[1]}<br>Time=%{customdata[2]}<br>Date=%{customdata[3]}<extra></extra>",
         "hovertext": {
          "dtype": "f8",
          "bdata": "AAAAAADAaUAAAAAAAMBpQAAAAAAAwGlA"
         },
         "lat": {
          "dtype": "f8",
          "bdata": "exSuR+F6QMDhehSuR2FAwMP1KFyPYkDA"
         },
         "legendgroup": "206",
         "lon": {
          "dtype": "f8",
          "bdata": "7FG4HoVTZsBxPQrXo1hmwK5H4XoUTmbA"
         },
         "marker": {
          "color": "#00cc96"
         },
         "mode": "markers",
         "name": "206",
         "showlegend": true,
         "subplot": "map",
         "type": "scattermap"
        },
        {
         "customdata": [
          [
           -32.88,
           -178.34,
           "22:00:12.4",
           "1996/01/30"
          ],
          [
           -32.83,
           -178.27,
           "22:29:57.3",
           "1996/01/30"
          ],
          [
           -33.15,
           -178.49,
           "06:19:11.5",
           "1996/01/31"
          ],
          [
           -32.65,
           -178.53,
           "10:31:58.4",
           "1996/09/07"
          ],
          [
           -33.13,
           -178.94,
           "14:34:09.3",
           "1997/04/01"
          ],
          [
           -32.9,
           -178.54,
           "15:40:22.7",
           "1997/06/16"
          ],
          [
           -33.12,
           -178.48,
           "04:59:27.8",
           "1997/06/17"
          ],
          [
           -32.85,
           -178.34,
           "19:31:54.6",
           "1997/06/18"
          ],
          [
           -32.99,
           -178.66,
           "03:02:41.9",
           "1997/06/19"
          ],
          [
           -33.3,
           -178.44,
           "01:09:10.6",
           "1998/04/02"
          ]
         ],
         "hovertemplate": "<b>%{hovertext}</b><br><br>Cluster=208<br>Lat=%{customdata[0]}<br>Lon=%{customdata[1]}<br>Time=%{customdata[2]}<br>Date=%{customdata[3]}<extra></extra>",
         "hovertext": {
          "dtype": "f8",
          "bdata": "AAAAAAAAakAAAAAAAABqQAAAAAAAAGpAAAAAAAAAakAAAAAAAABqQAAAAAAAAGpAAAAAAAAAakAAAAAAAABqQAAAAAAAAGpAAAAAAAAAakA="
         },
         "lat": {
          "dtype": "f8",
          "bdata": "cT0K16NwQMAK16NwPWpAwDMzMzMzk0DAMzMzMzNTQMBxPQrXo5BAwDMzMzMzc0DAj8L1KFyPQMDNzMzMzGxAwB+F61G4fkDAZmZmZmamQMA="
         },
         "legendgroup": "208",
         "lon": {
          "dtype": "f8",
          "bdata": "exSuR+FKZsBxPQrXo0hmwEjhehSuT2bAKVyPwvVQZsCuR+F6FF5mwOF6FK5HUWbAj8L1KFxPZsB7FK5H4UpmwIXrUbgeVWbArkfhehROZsA="
         },
         "marker": {
          "color": "#ab63fa"
         },
         "mode": "markers",
         "name": "208",
         "showlegend": true,
         "subplot": "map",
         "type": "scattermap"
        },
        {
         "customdata": [
          [
           -32.35,
           -179.54,
           "22:56:59.5",
           "1996/02/04"
          ],
          [
           -32.51,
           -179.53,
           "23:34:52.8",
           "1996/02/04"
          ],
          [
           -32.61,
           -179.38,
           "04:36:03.7",
           "1996/05/09"
          ]
         ],
         "hovertemplate": "<b>%{hovertext}</b><br><br>Cluster=209<br>Lat=%{customdata[0]}<br>Lon=%{customdata[1]}<br>Time=%{customdata[2]}<br>Date=%{customdata[3]}<extra></extra>",
         "hovertext": {
          "dtype": "f8",
          "bdata": "AAAAAAAgakAAAAAAACBqQAAAAAAAIGpA"
         },
         "lat": {
          "dtype": "f8",
          "bdata": "zczMzMwsQMDhehSuR0FAwK5H4XoUTkDA"
         },
         "legendgroup": "209",
         "lon": {
          "dtype": "f8",
          "bdata": "4XoUrkdxZsApXI/C9XBmwFyPwvUobGbA"
         },
         "marker": {
          "color": "#FFA15A"
         },
         "mode": "markers",
         "name": "209",
         "showlegend": true,
         "subplot": "map",
         "type": "scattermap"
        },
        {
         "customdata": [
          [
           -30.75,
           -178.24,
           "08:51:15.2",
           "1996/08/24"
          ],
          [
           -30.66,
           -178.19,
           "23:26:36.2",
           "1996/11/17"
          ],
          [
           -30.9,
           -177.85,
           "17:55:25.4",
           "1997/03/07"
          ]
         ],
         "hovertemplate": "<b>%{hovertext}</b><br><br>Cluster=212<br>Lat=%{customdata[0]}<br>Lon=%{customdata[1]}<br>Time=%{customdata[2]}<br>Date=%{customdata[3]}<extra></extra>",
         "hovertext": {
          "dtype": "f8",
          "bdata": "AAAAAACAakAAAAAAAIBqQAAAAAAAgGpA"
         },
         "lat": {
          "dtype": "f8",
          "bdata": "AAAAAADAPsApXI/C9ag+wGZmZmZm5j7A"
         },
         "legendgroup": "212",
         "lon": {
          "dtype": "f8",
          "bdata": "SOF6FK5HZsCuR+F6FEZmwDMzMzMzO2bA"
         },
         "marker": {
          "color": "#19d3f3"
         },
         "mode": "markers",
         "name": "212",
         "showlegend": true,
         "subplot": "map",
         "type": "scattermap"
        },
        {
         "customdata": [
          [
           -31.16,
           180.0,
           "09:41:34.7",
           "1996/11/05"
          ],
          [
           -31.16,
           179.62,
           "12:07:17.6",
           "1997/03/21"
          ]
         ],
         "hovertemplate": "<b>%{hovertext}</b><br><br>Cluster=215<br>Lat=%{customdata[0]}<br>Lon=%{customdata[1]}<br>Time=%{customdata[2]}<br>Date=%{customdata[3]}<extra></extra>",
         "hovertext": {
          "dtype": "f8",
          "bdata": "AAAAAADgakAAAAAAAOBqQA=="
         },
         "lat": {
          "dtype": "f8",
          "bdata": "KVyPwvUoP8ApXI/C9Sg/wA=="
         },
         "legendgroup": "215",
         "lon": {
          "dtype": "f8",
          "bdata": "AAAAAACAZkCkcD0K13NmQA=="
         },
         "marker": {
          "color": "#FF6692"
         },
         "mode": "markers",
         "name": "215",
         "showlegend": true,
         "subplot": "map",
         "type": "scattermap"
        },
        {
         "customdata": [
          [
           -32.54,
           -179.05,
           "00:47:21.1",
           "1996/11/11"
          ],
          [
           -32.67,
           -179.07,
           "02:37:48.5",
           "1998/01/16"
          ]
         ],
         "hovertemplate": "<b>%{hovertext}</b><br><br>Cluster=217<br>Lat=%{customdata[0]}<br>Lon=%{customdata[1]}<br>Time=%{customdata[2]}<br>Date=%{customdata[3]}<extra></extra>",
         "hovertext": {
          "dtype": "f8",
          "bdata": "AAAAAAAga0AAAAAAACBrQA=="
         },
         "lat": {
          "dtype": "f8",
          "bdata": "hetRuB5FQMD2KFyPwlVAwA=="
         },
         "legendgroup": "217",
         "lon": {
          "dtype": "f8",
          "bdata": "mpmZmZlhZsAK16NwPWJmwA=="
         },
         "marker": {
          "color": "#B6E880"
         },
         "mode": "markers",
         "name": "217",
         "showlegend": true,
         "subplot": "map",
         "type": "scattermap"
        },
        {
         "customdata": [
          [
           -31.08,
           -177.73,
           "05:25:57.7",
           "1997/03/11"
          ],
          [
           -31.24,
           -178.24,
           "06:55:52.3",
           "1997/05/11"
          ]
         ],
         "hovertemplate": "<b>%{hovertext}</b><br><br>Cluster=220<br>Lat=%{customdata[0]}<br>Lon=%{customdata[1]}<br>Time=%{customdata[2]}<br>Date=%{customdata[3]}<extra></extra>",
         "hovertext": {
          "dtype": "f8",
          "bdata": "AAAAAACAa0AAAAAAAIBrQA=="
         },
         "lat": {
          "dtype": "f8",
          "bdata": "FK5H4XoUP8A9CtejcD0/wA=="
         },
         "legendgroup": "220",
         "lon": {
          "dtype": "f8",
          "bdata": "j8L1KFw3ZsBI4XoUrkdmwA=="
         },
         "marker": {
          "color": "#FF97FF"
         },
         "mode": "markers",
         "name": "220",
         "showlegend": true,
         "subplot": "map",
         "type": "scattermap"
        },
        {
         "customdata": [
          [
           -31.79,
           -179.38,
           "16:46:02.0",
           "1997/05/03"
          ],
          [
           -31.32,
           -179.49,
           "01:20:12.1",
           "1998/04/26"
          ],
          [
           -32.18,
           -178.9,
           "16:37:34.5",
           "1998/06/20"
          ],
          [
           -31.89,
           -179.04,
           "19:04:08.3",
           "1999/04/20"
          ]
         ],
         "hovertemplate": "<b>%{hovertext}</b><br><br>Cluster=223<br>Lat=%{customdata[0]}<br>Lon=%{customdata[1]}<br>Time=%{customdata[2]}<br>Date=%{customdata[3]}<extra></extra>",
         "hovertext": {
          "dtype": "f8",
          "bdata": "AAAAAADga0AAAAAAAOBrQAAAAAAA4GtAAAAAAADga0A="
         },
         "lat": {
          "dtype": "f8",
          "bdata": "CtejcD3KP8BSuB6F61E/wNejcD0KF0DApHA9CtfjP8A="
         },
         "legendgroup": "223",
         "lon": {
          "dtype": "f8",
          "bdata": "XI/C9ShsZsBI4XoUrm9mwM3MzMzMXGbA4XoUrkdhZsA="
         },
         "marker": {
          "color": "#FECB52"
         },
         "mode": "markers",
         "name": "223",
         "showlegend": true,
         "subplot": "map",
         "type": "scattermap"
        },
        {
         "customdata": [
          [
           -31.84,
           -178.32,
           "13:15:53.3",
           "1997/10/07"
          ],
          [
           -31.65,
           -178.59,
           "14:27:12.7",
           "1998/05/23"
          ]
         ],
         "hovertemplate": "<b>%{hovertext}</b><br><br>Cluster=229<br>Lat=%{customdata[0]}<br>Lon=%{customdata[1]}<br>Time=%{customdata[2]}<br>Date=%{customdata[3]}<extra></extra>",
         "hovertext": {
          "dtype": "f8",
          "bdata": "AAAAAACgbEAAAAAAAKBsQA=="
         },
         "lat": {
          "dtype": "f8",
          "bdata": "16NwPQrXP8BmZmZmZqY/wA=="
         },
         "legendgroup": "229",
         "lon": {
          "dtype": "f8",
          "bdata": "CtejcD1KZsB7FK5H4VJmwA=="
         },
         "marker": {
          "color": "#636efa"
         },
         "mode": "markers",
         "name": "229",
         "showlegend": true,
         "subplot": "map",
         "type": "scattermap"
        },
        {
         "customdata": [
          [
           -30.42,
           -177.71,
           "23:59:58.4",
           "1998/03/07"
          ],
          [
           -30.56,
           -177.79,
           "14:00:55.9",
           "1998/03/08"
          ]
         ],
         "hovertemplate": "<b>%{hovertext}</b><br><br>Cluster=233<br>Lat=%{customdata[0]}<br>Lon=%{customdata[1]}<br>Time=%{customdata[2]}<br>Date=%{customdata[3]}<extra></extra>",
         "hovertext": {
          "dtype": "f8",
          "bdata": "AAAAAAAgbUAAAAAAACBtQA=="
         },
         "lat": {
          "dtype": "f8",
          "bdata": "7FG4HoVrPsCPwvUoXI8+wA=="
         },
         "legendgroup": "233",
         "lon": {
          "dtype": "f8",
          "bdata": "H4XrUbg2ZsDhehSuRzlmwA=="
         },
         "marker": {
          "color": "#EF553B"
         },
         "mode": "markers",
         "name": "233",
         "showlegend": true,
         "subplot": "map",
         "type": "scattermap"
        },
        {
         "customdata": [
          [
           -33.55,
           -179.54,
           "16:43:41.3",
           "1998/04/10"
          ],
          [
           -33.84,
           -179.19,
           "14:17:51.2",
           "1998/07/07"
          ]
         ],
         "hovertemplate": "<b>%{hovertext}</b><br><br>Cluster=235<br>Lat=%{customdata[0]}<br>Lon=%{customdata[1]}<br>Time=%{customdata[2]}<br>Date=%{customdata[3]}<extra></extra>",
         "hovertext": {
          "dtype": "f8",
          "bdata": "AAAAAABgbUAAAAAAAGBtQA=="
         },
         "lat": {
          "dtype": "f8",
          "bdata": "ZmZmZmbGQMDsUbgehetAwA=="
         },
         "legendgroup": "235",
         "lon": {
          "dtype": "f8",
          "bdata": "4XoUrkdxZsCuR+F6FGZmwA=="
         },
         "marker": {
          "color": "#00cc96"
         },
         "mode": "markers",
         "name": "235",
         "showlegend": true,
         "subplot": "map",
         "type": "scattermap"
        },
        {
         "customdata": [
          [
           -30.1,
           -177.93,
           "20:24:45.2",
           "1998/06/20"
          ],
          [
           -30.39,
           -177.61,
           "00:05:32.9",
           "1998/11/08"
          ]
         ],
         "hovertemplate": "<b>%{hovertext}</b><br><br>Cluster=237<br>Lat=%{customdata[0]}<br>Lon=%{customdata[1]}<br>Time=%{customdata[2]}<br>Date=%{customdata[3]}<extra></extra>",
         "hovertext": {
          "dtype": "f8",
          "bdata": "AAAAAACgbUAAAAAAAKBtQA=="
         },
         "lat": {
          "dtype": "f8",
          "bdata": "mpmZmZkZPsCkcD0K12M+wA=="
         },
         "legendgroup": "237",
         "lon": {
          "dtype": "f8",
          "bdata": "9ihcj8I9ZsDsUbgehTNmwA=="
         },
         "marker": {
          "color": "#ab63fa"
         },
         "mode": "markers",
         "name": "237",
         "showlegend": true,
         "subplot": "map",
         "type": "scattermap"
        },
        {
         "customdata": [
          [
           -30.49,
           -178.99,
           "14:45:40.0",
           "1998/07/09"
          ],
          [
           -30.33,
           -178.98,
           "19:54:13.2",
           "2000/03/11"
          ],
          [
           -30.34,
           -178.97,
           "16:08:40.9",
           "2000/03/16"
          ]
         ],
         "hovertemplate": "<b>%{hovertext}</b><br><br>Cluster=238<br>Lat=%{customdata[0]}<br>Lon=%{customdata[1]}<br>Time=%{customdata[2]}<br>Date=%{customdata[3]}<extra></extra>",
         "hovertext": {
          "dtype": "f8",
          "bdata": "AAAAAADAbUAAAAAAAMBtQAAAAAAAwG1A"
         },
         "lat": {
          "dtype": "f8",
          "bdata": "PQrXo3B9PsAUrkfhelQ+wNejcD0KVz7A"
         },
         "legendgroup": "238",
         "lon": {
          "dtype": "f8",
          "bdata": "SOF6FK5fZsCPwvUoXF9mwNejcD0KX2bA"
         },
         "marker": {
          "color": "#FFA15A"
         },
         "mode": "markers",
         "name": "238",
         "showlegend": true,
         "subplot": "map",
         "type": "scattermap"
        },
        {
         "customdata": [
          [
           -35.63,
           -179.84,
           "06:30:46.6",
           "1998/09/20"
          ],
          [
           -35.59,
           179.96,
           "07:14:32.6",
           "1998/09/20"
          ],
          [
           -35.42,
           -179.56,
           "09:25:19.8",
           "1998/09/27"
          ]
         ],
         "hovertemplate": "<b>%{hovertext}</b><br><br>Cluster=240<br>Lat=%{customdata[0]}<br>Lon=%{customdata[1]}<br>Time=%{customdata[2]}<br>Date=%{customdata[3]}<extra></extra>",
         "hovertext": {
          "dtype": "f8",
          "bdata": "AAAAAAAAbkAAAAAAAABuQAAAAAAAAG5A"
         },
         "lat": {
          "dtype": "f8",
          "bdata": "cT0K16PQQcDsUbgehctBwPYoXI/CtUHA"
         },
         "legendgroup": "240",
         "lon": {
          "dtype": "f8",
          "bdata": "exSuR+F6ZsAfhetRuH5mQFK4HoXrcWbA"
         },
         "marker": {
          "color": "#19d3f3"
         },
         "mode": "markers",
         "name": "240",
         "showlegend": true,
         "subplot": "map",
         "type": "scattermap"
        },
        {
         "customdata": [
          [
           -34.56,
           179.79,
           "23:20:47.2",
           "1998/11/11"
          ],
          [
           -34.15,
           179.78,
           "05:46:36.3",
           "1998/12/08"
          ]
         ],
         "hovertemplate": "<b>%{hovertext}</b><br><br>Cluster=243<br>Lat=%{customdata[0]}<br>Lon=%{customdata[1]}<br>Time=%{customdata[2]}<br>Date=%{customdata[3]}<extra></extra>",
         "hovertext": {
          "dtype": "f8",
          "bdata": "AAAAAABgbkAAAAAAAGBuQA=="
         },
         "lat": {
          "dtype": "f8",
          "bdata": "SOF6FK5HQcAzMzMzMxNBwA=="
         },
         "legendgroup": "243",
         "lon": {
          "dtype": "f8",
          "bdata": "4XoUrkd5ZkApXI/C9XhmQA=="
         },
         "marker": {
          "color": "#FF6692"
         },
         "mode": "markers",
         "name": "243",
         "showlegend": true,
         "subplot": "map",
         "type": "scattermap"
        },
        {
         "customdata": [
          [
           -33.05,
           -179.32,
           "17:45:34.8",
           "1998/12/25"
          ],
          [
           -32.79,
           -179.37,
           "09:05:08.3",
           "1999/05/06"
          ]
         ],
         "hovertemplate": "<b>%{hovertext}</b><br><br>Cluster=244<br>Lat=%{customdata[0]}<br>Lon=%{customdata[1]}<br>Time=%{customdata[2]}<br>Date=%{customdata[3]}<extra></extra>",
         "hovertext": {
          "dtype": "f8",
          "bdata": "AAAAAACAbkAAAAAAAIBuQA=="
         },
         "lat": {
          "dtype": "f8",
          "bdata": "ZmZmZmaGQMCF61G4HmVAwA=="
         },
         "legendgroup": "244",
         "lon": {
          "dtype": "f8",
          "bdata": "CtejcD1qZsCkcD0K12tmwA=="
         },
         "marker": {
          "color": "#B6E880"
         },
         "mode": "markers",
         "name": "244",
         "showlegend": true,
         "subplot": "map",
         "type": "scattermap"
        },
        {
         "customdata": [
          [
           -34.39,
           -179.19,
           "00:15:08.6",
           "1999/05/08"
          ],
          [
           -34.23,
           -178.9,
           "09:41:39.6",
           "1999/05/12"
          ]
         ],
         "hovertemplate": "<b>%{hovertext}</b><br><br>Cluster=250<br>Lat=%{customdata[0]}<br>Lon=%{customdata[1]}<br>Time=%{customdata[2]}<br>Date=%{customdata[3]}<extra></extra>",
         "hovertext": {
          "dtype": "f8",
          "bdata": "AAAAAABAb0AAAAAAAEBvQA=="
         },
         "lat": {
          "dtype": "f8",
          "bdata": "UrgehesxQcA9CtejcB1BwA=="
         },
         "legendgroup": "250",
         "lon": {
          "dtype": "f8",
          "bdata": "rkfhehRmZsDNzMzMzFxmwA=="
         },
         "marker": {
          "color": "#FF97FF"
         },
         "mode": "markers",
         "name": "250",
         "showlegend": true,
         "subplot": "map",
         "type": "scattermap"
        },
        {
         "customdata": [
          [
           -30.25,
           -178.13,
           "11:04:50.0",
           "1999/07/08"
          ],
          [
           -30.28,
           -178.01,
           "10:08:20.6",
           "1999/07/28"
          ],
          [
           -30.37,
           -177.83,
           "08:39:04.9",
           "1999/08/01"
          ],
          [
           -30.23,
           -177.68,
           "02:56:07.4",
           "1999/11/26"
          ],
          [
           -30.35,
           -178.05,
           "19:15:36.9",
           "1999/12/28"
          ],
          [
           -30.24,
           -178.13,
           "15:00:40.8",
           "2000/01/16"
          ],
          [
           -30.26,
           -178.14,
           "17:26:24.2",
           "2000/09/16"
          ],
          [
           -30.13,
           -178.02,
           "21:07:20.1",
           "2001/01/24"
          ],
          [
           -30.36,
           -178.06,
           "21:42:21.2",
           "2001/04/30"
          ],
          [
           -30.01,
           -177.86,
           "23:04:39.5",
           "2001/07/20"
          ],
          [
           -30.66,
           -178.07,
           "03:09:02.3",
           "2001/08/09"
          ],
          [
           -30.17,
           -177.55,
           "02:31:23.0",
           "2001/10/03"
          ]
         ],
         "hovertemplate": "<b>%{hovertext}</b><br><br>Cluster=253<br>Lat=%{customdata[0]}<br>Lon=%{customdata[1]}<br>Time=%{customdata[2]}<br>Date=%{customdata[3]}<extra></extra>",
         "hovertext": {
          "dtype": "f8",
          "bdata": "AAAAAACgb0AAAAAAAKBvQAAAAAAAoG9AAAAAAACgb0AAAAAAAKBvQAAAAAAAoG9AAAAAAACgb0AAAAAAAKBvQAAAAAAAoG9AAAAAAACgb0AAAAAAAKBvQAAAAAAAoG9A"
         },
         "lat": {
          "dtype": "f8",
          "bdata": "AAAAAABAPsBI4XoUrkc+wB+F61G4Xj7AexSuR+E6PsCamZmZmVk+wD0K16NwPT7Aw/UoXI9CPsDhehSuRyE+wFyPwvUoXD7Aw/UoXI8CPsApXI/C9ag+wOxRuB6FKz7A"
         },
         "legendgroup": "253",
         "lon": {
          "dtype": "f8",
          "bdata": "XI/C9ShEZsC4HoXrUUBmwMP1KFyPOmbA9ihcj8I1ZsCamZmZmUFmwFyPwvUoRGbAFK5H4XpEZsBxPQrXo0BmwFK4HoXrQWbA7FG4HoU7ZsAK16NwPUJmwJqZmZmZMWbA"
         },
         "marker": {
          "color": "#FECB52"
         },
         "mode": "markers",
         "name": "253",
         "showlegend": true,
         "subplot": "map",
         "type": "scattermap"
        },
        {
         "customdata": [
          [
           -32.92,
           -178.47,
           "03:35:36.2",
           "1999/09/05"
          ],
          [
           -32.83,
           -178.27,
           "19:37:44.8",
           "1999/09/10"
          ]
         ],
         "hovertemplate": "<b>%{hovertext}</b><br><br>Cluster=257<br>Lat=%{customdata[0]}<br>Lon=%{customdata[1]}<br>Time=%{customdata[2]}<br>Date=%{customdata[3]}<extra></extra>",
         "hovertext": {
          "dtype": "f8",
          "bdata": "AAAAAAAQcEAAAAAAABBwQA=="
         },
         "lat": {
          "dtype": "f8",
          "bdata": "9ihcj8J1QMAK16NwPWpAwA=="
         },
         "legendgroup": "257",
         "lon": {
          "dtype": "f8",
          "bdata": "16NwPQpPZsBxPQrXo0hmwA=="
         },
         "marker": {
          "color": "#636efa"
         },
         "mode": "markers",
         "name": "257",
         "showlegend": true,
         "subplot": "map",
         "type": "scattermap"
        },
        {
         "customdata": [
          [
           -31.32,
           179.84,
           "21:35:42.8",
           "2000/05/08"
          ],
          [
           -31.51,
           179.73,
           "04:30:08.8",
           "2000/08/15"
          ],
          [
           -31.33,
           179.84,
           "18:28:07.4",
           "2001/03/27"
          ]
         ],
         "hovertemplate": "<b>%{hovertext}</b><br><br>Cluster=267<br>Lat=%{customdata[0]}<br>Lon=%{customdata[1]}<br>Time=%{customdata[2]}<br>Date=%{customdata[3]}<extra></extra>",
         "hovertext": {
          "dtype": "f8",
          "bdata": "AAAAAACwcEAAAAAAALBwQAAAAAAAsHBA"
         },
         "lat": {
          "dtype": "f8",
          "bdata": "UrgehetRP8DD9Shcj4I/wBSuR+F6VD/A"
         },
         "legendgroup": "267",
         "lon": {
          "dtype": "f8",
          "bdata": "exSuR+F6ZkCPwvUoXHdmQHsUrkfhemZA"
         },
         "marker": {
          "color": "#EF553B"
         },
         "mode": "markers",
         "name": "267",
         "showlegend": true,
         "subplot": "map",
         "type": "scattermap"
        },
        {
         "customdata": [
          [
           -30.76,
           -178.35,
           "03:29:49.5",
           "2000/06/11"
          ],
          [
           -30.75,
           -178.04,
           "05:14:15.8",
           "2000/10/09"
          ],
          [
           -30.53,
           -178.33,
           "10:32:58.5",
           "2000/10/17"
          ],
          [
           -30.47,
           -178.13,
           "22:57:03.2",
           "2000/12/01"
          ],
          [
           -30.72,
           -178.26,
           "23:52:24.1",
           "2001/02/23"
          ]
         ],
         "hovertemplate": "<b>%{hovertext}</b><br><br>Cluster=268<br>Lat=%{customdata[0]}<br>Lon=%{customdata[1]}<br>Time=%{customdata[2]}<br>Date=%{customdata[3]}<extra></extra>",
         "hovertext": {
          "dtype": "f8",
          "bdata": "AAAAAADAcEAAAAAAAMBwQAAAAAAAwHBAAAAAAADAcEAAAAAAAMBwQA=="
         },
         "lat": {
          "dtype": "f8",
          "bdata": "w/UoXI/CPsAAAAAAAMA+wEjhehSuhz7AuB6F61F4PsC4HoXrUbg+wA=="
         },
         "legendgroup": "268",
         "lon": {
          "dtype": "f8",
          "bdata": "MzMzMzNLZsDhehSuR0FmwMP1KFyPSmbAXI/C9ShEZsC4HoXrUUhmwA=="
         },
         "marker": {
          "color": "#00cc96"
         },
         "mode": "markers",
         "name": "268",
         "showlegend": true,
         "subplot": "map",
         "type": "scattermap"
        },
        {
         "customdata": [
          [
           -45.07,
           167.01,
           "10:35:55.0",
           "2000/11/01"
          ],
          [
           -45.06,
           167.15,
           "11:49:15.1",
           "2000/11/12"
          ]
         ],
         "hovertemplate": "<b>%{hovertext}</b><br><br>Cluster=271<br>Lat=%{customdata[0]}<br>Lon=%{customdata[1]}<br>Time=%{customdata[2]}<br>Date=%{customdata[3]}<extra></extra>",
         "hovertext": {
          "dtype": "f8",
          "bdata": "AAAAAADwcEAAAAAAAPBwQA=="
         },
         "lat": {
          "dtype": "f8",
          "bdata": "KVyPwvWIRsBI4XoUrodGwA=="
         },
         "legendgroup": "271",
         "lon": {
          "dtype": "f8",
          "bdata": "uB6F61HgZEDNzMzMzORkQA=="
         },
         "marker": {
          "color": "#ab63fa"
         },
         "mode": "markers",
         "name": "271",
         "showlegend": true,
         "subplot": "map",
         "type": "scattermap"
        },
        {
         "customdata": [
          [
           -35.0,
           -179.56,
           "14:02:19.4",
           "2001/03/12"
          ],
          [
           -34.81,
           -179.32,
           "00:31:04.5",
           "2001/08/14"
          ]
         ],
         "hovertemplate": "<b>%{hovertext}</b><br><br>Cluster=274<br>Lat=%{customdata[0]}<br>Lon=%{customdata[1]}<br>Time=%{customdata[2]}<br>Date=%{customdata[3]}<extra></extra>",
         "hovertext": {
          "dtype": "f8",
          "bdata": "AAAAAAAgcUAAAAAAACBxQA=="
         },
         "lat": {
          "dtype": "f8",
          "bdata": "AAAAAACAQcBI4XoUrmdBwA=="
         },
         "legendgroup": "274",
         "lon": {
          "dtype": "f8",
          "bdata": "UrgehetxZsAK16NwPWpmwA=="
         },
         "marker": {
          "color": "#FFA15A"
         },
         "mode": "markers",
         "name": "274",
         "showlegend": true,
         "subplot": "map",
         "type": "scattermap"
        },
        {
         "customdata": [
          [
           -36.81,
           -179.57,
           "06:52:06.2",
           "2001/08/21"
          ],
          [
           -36.98,
           -179.83,
           "04:39:29.8",
           "2001/08/22"
          ],
          [
           -36.85,
           -179.87,
           "05:28:04.1",
           "2001/08/22"
          ],
          [
           -36.82,
           -179.7,
           "21:16:35.6",
           "2001/08/24"
          ],
          [
           -36.81,
           179.95,
           "21:34:00.7",
           "2001/08/24"
          ],
          [
           -36.56,
           -179.65,
           "12:50:36.1",
           "2001/08/27"
          ],
          [
           -36.54,
           -179.46,
           "13:54:58.5",
           "2001/08/29"
          ],
          [
           -37.0,
           -179.93,
           "13:29:12.1",
           "2001/09/22"
          ],
          [
           -36.82,
           -179.79,
           "21:43:31.1",
           "2002/03/17"
          ],
          [
           -36.87,
           -179.74,
           "22:13:18.2",
           "2002/03/17"
          ]
         ],
         "hovertemplate": "<b>%{hovertext}</b><br><br>Cluster=277<br>Lat=%{customdata[0]}<br>Lon=%{customdata[1]}<br>Time=%{customdata[2]}<br>Date=%{customdata[3]}<extra></extra>",
         "hovertext": {
          "dtype": "f8",
          "bdata": "AAAAAABQcUAAAAAAAFBxQAAAAAAAUHFAAAAAAABQcUAAAAAAAFBxQAAAAAAAUHFAAAAAAABQcUAAAAAAAFBxQAAAAAAAUHFAAAAAAABQcUA="
         },
         "lat": {
          "dtype": "f8",
          "bdata": "SOF6FK5nQsA9CtejcH1CwM3MzMzMbELAKVyPwvVoQsBI4XoUrmdCwEjhehSuR0LAhetRuB5FQsAAAAAAAIBCwClcj8L1aELAj8L1KFxvQsA="
         },
         "legendgroup": "277",
         "lon": {
          "dtype": "f8",
          "bdata": "CtejcD1yZsDD9Shcj3pmwKRwPQrXe2bAZmZmZmZ2ZsBmZmZmZn5mQM3MzMzMdGbAH4XrUbhuZsD2KFyPwn1mwOF6FK5HeWbASOF6FK53ZsA="
         },
         "marker": {
          "color": "#19d3f3"
         },
         "mode": "markers",
         "name": "277",
         "showlegend": true,
         "subplot": "map",
         "type": "scattermap"
        },
        {
         "customdata": [
          [
           -37.27,
           179.84,
           "01:28:53.4",
           "2001/10/22"
          ],
          [
           -37.06,
           179.49,
           "22:43:58.4",
           "2001/11/01"
          ]
         ],
         "hovertemplate": "<b>%{hovertext}</b><br><br>Cluster=281<br>Lat=%{customdata[0]}<br>Lon=%{customdata[1]}<br>Time=%{customdata[2]}<br>Date=%{customdata[3]}<extra></extra>",
         "hovertext": {
          "dtype": "f8",
          "bdata": "AAAAAACQcUAAAAAAAJBxQA=="
         },
         "lat": {
          "dtype": "f8",
          "bdata": "w/UoXI+iQsBI4XoUrodCwA=="
         },
         "legendgroup": "281",
         "lon": {
          "dtype": "f8",
          "bdata": "exSuR+F6ZkBI4XoUrm9mQA=="
         },
         "marker": {
          "color": "#FF6692"
         },
         "mode": "markers",
         "name": "281",
         "showlegend": true,
         "subplot": "map",
         "type": "scattermap"
        },
        {
         "customdata": [
          [
           -33.23,
           -178.57,
           "00:53:46.2",
           "2001/11/27"
          ],
          [
           -33.17,
           -178.77,
           "02:26:46.9",
           "2001/11/27"
          ],
          [
           -33.0,
           -178.67,
           "00:48:32.7",
           "2001/11/28"
          ],
          [
           -33.18,
           -178.48,
           "14:13:05.8",
           "2001/11/30"
          ],
          [
           -33.25,
           -178.48,
           "18:02:06.3",
           "2001/11/30"
          ],
          [
           -33.23,
           -178.47,
           "20:24:01.3",
           "2001/11/30"
          ],
          [
           -33.11,
           -178.61,
           "21:08:22.5",
           "2001/11/30"
          ]
         ],
         "hovertemplate": "<b>%{hovertext}</b><br><br>Cluster=284<br>Lat=%{customdata[0]}<br>Lon=%{customdata[1]}<br>Time=%{customdata[2]}<br>Date=%{customdata[3]}<extra></extra>",
         "hovertext": {
          "dtype": "f8",
          "bdata": "AAAAAADAcUAAAAAAAMBxQAAAAAAAwHFAAAAAAADAcUAAAAAAAMBxQAAAAAAAwHFAAAAAAADAcUA="
         },
         "lat": {
          "dtype": "f8",
          "bdata": "PQrXo3CdQMD2KFyPwpVAwAAAAAAAgEDA16NwPQqXQMAAAAAAAKBAwD0K16NwnUDArkfhehSOQMA="
         },
         "legendgroup": "284",
         "lon": {
          "dtype": "f8",
          "bdata": "CtejcD1SZsBxPQrXo1hmwD0K16NwVWbAj8L1KFxPZsCPwvUoXE9mwNejcD0KT2bA7FG4HoVTZsA="
         },
         "marker": {
          "color": "#B6E880"
         },
         "mode": "markers",
         "name": "284",
         "showlegend": true,
         "subplot": "map",
         "type": "scattermap"
        },
        {
         "customdata": [
          [
           -44.22,
           168.82,
           "19:27:34.1",
           "2001/12/07"
          ],
          [
           -44.11,
           168.58,
           "06:37:37.2",
           "2002/02/24"
          ]
         ],
         "hovertemplate": "<b>%{hovertext}</b><br><br>Cluster=285<br>Lat=%{customdata[0]}<br>Lon=%{customdata[1]}<br>Time=%{customdata[2]}<br>Date=%{customdata[3]}<extra></extra>",
         "hovertext": {
          "dtype": "f8",
          "bdata": "AAAAAADQcUAAAAAAANBxQA=="
         },
         "lat": {
          "dtype": "f8",
          "bdata": "XI/C9SgcRsCuR+F6FA5GwA=="
         },
         "legendgroup": "285",
         "lon": {
          "dtype": "f8",
          "bdata": "CtejcD0aZUDD9ShcjxJlQA=="
         },
         "marker": {
          "color": "#FF97FF"
         },
         "mode": "markers",
         "name": "285",
         "showlegend": true,
         "subplot": "map",
         "type": "scattermap"
        },
        {
         "customdata": [
          [
           -30.32,
           -178.18,
           "04:22:56.6",
           "2001/12/25"
          ],
          [
           -30.22,
           -178.09,
           "23:00:46.2",
           "2001/12/25"
          ],
          [
           -30.25,
           -177.86,
           "03:35:30.8",
           "2001/12/26"
          ]
         ],
         "hovertemplate": "<b>%{hovertext}</b><br><br>Cluster=286<br>Lat=%{customdata[0]}<br>Lon=%{customdata[1]}<br>Time=%{customdata[2]}<br>Date=%{customdata[3]}<extra></extra>",
         "hovertext": {
          "dtype": "f8",
          "bdata": "AAAAAADgcUAAAAAAAOBxQAAAAAAA4HFA"
         },
         "lat": {
          "dtype": "f8",
          "bdata": "UrgehetRPsC4HoXrUTg+wAAAAAAAQD7A"
         },
         "legendgroup": "286",
         "lon": {
          "dtype": "f8",
          "bdata": "9ihcj8JFZsB7FK5H4UJmwOxRuB6FO2bA"
         },
         "marker": {
          "color": "#FECB52"
         },
         "mode": "markers",
         "name": "286",
         "showlegend": true,
         "subplot": "map",
         "type": "scattermap"
        },
        {
         "customdata": [
          [
           -33.19,
           -179.39,
           "09:55:04.3",
           "2002/03/01"
          ],
          [
           -33.26,
           -179.73,
           "20:50:32.5",
           "2002/03/17"
          ]
         ],
         "hovertemplate": "<b>%{hovertext}</b><br><br>Cluster=287<br>Lat=%{customdata[0]}<br>Lon=%{customdata[1]}<br>Time=%{customdata[2]}<br>Date=%{customdata[3]}<extra></extra>",
         "hovertext": {
          "dtype": "f8",
          "bdata": "AAAAAADwcUAAAAAAAPBxQA=="
         },
         "lat": {
          "dtype": "f8",
          "bdata": "uB6F61GYQMDhehSuR6FAwA=="
         },
         "legendgroup": "287",
         "lon": {
          "dtype": "f8",
          "bdata": "FK5H4XpsZsCPwvUoXHdmwA=="
         },
         "marker": {
          "color": "#636efa"
         },
         "mode": "markers",
         "name": "287",
         "showlegend": true,
         "subplot": "map",
         "type": "scattermap"
        },
        {
         "customdata": [
          [
           -34.87,
           -179.51,
           "02:48:11.6",
           "2003/02/16"
          ],
          [
           -34.8,
           -179.76,
           "22:24:23.4",
           "2003/02/16"
          ]
         ],
         "hovertemplate": "<b>%{hovertext}</b><br><br>Cluster=300<br>Lat=%{customdata[0]}<br>Lon=%{customdata[1]}<br>Time=%{customdata[2]}<br>Date=%{customdata[3]}<extra></extra>",
         "hovertext": {
          "dtype": "f8",
          "bdata": "AAAAAADAckAAAAAAAMByQA=="
         },
         "lat": {
          "dtype": "f8",
          "bdata": "j8L1KFxvQcBmZmZmZmZBwA=="
         },
         "legendgroup": "300",
         "lon": {
          "dtype": "f8",
          "bdata": "uB6F61FwZsC4HoXrUXhmwA=="
         },
         "marker": {
          "color": "#EF553B"
         },
         "mode": "markers",
         "name": "300",
         "showlegend": true,
         "subplot": "map",
         "type": "scattermap"
        },
        {
         "customdata": [
          [
           -33.35,
           -179.25,
           "16:54:58.0",
           "2003/03/09"
          ],
          [
           -33.46,
           -179.54,
           "04:31:05.7",
           "2003/05/27"
          ]
         ],
         "hovertemplate": "<b>%{hovertext}</b><br><br>Cluster=302<br>Lat=%{customdata[0]}<br>Lon=%{customdata[1]}<br>Time=%{customdata[2]}<br>Date=%{customdata[3]}<extra></extra>",
         "hovertext": {
          "dtype": "f8",
          "bdata": "AAAAAADgckAAAAAAAOByQA=="
         },
         "lat": {
          "dtype": "f8",
          "bdata": "zczMzMysQMB7FK5H4bpAwA=="
         },
         "legendgroup": "302",
         "lon": {
          "dtype": "f8",
          "bdata": "AAAAAABoZsDhehSuR3FmwA=="
         },
         "marker": {
          "color": "#00cc96"
         },
         "mode": "markers",
         "name": "302",
         "showlegend": true,
         "subplot": "map",
         "type": "scattermap"
        },
        {
         "customdata": [
          [
           -30.53,
           -178.23,
           "13:15:18.7",
           "2003/05/04"
          ],
          [
           -30.59,
           -178.29,
           "20:08:46.5",
           "2003/05/04"
          ],
          [
           -30.5,
           -177.68,
           "14:49:00.2",
           "2003/05/10"
          ],
          [
           -30.62,
           -178.8,
           "08:23:17.4",
           "2003/06/05"
          ],
          [
           -30.74,
           -178.19,
           "01:28:52.0",
           "2003/08/03"
          ],
          [
           -30.75,
           -178.24,
           "06:15:41.7",
           "2003/08/30"
          ],
          [
           -30.26,
           -178.7,
           "20:33:06.2",
           "2004/06/10"
          ],
          [
           -30.95,
           -178.13,
           "20:20:21.2",
           "2005/01/20"
          ]
         ],
         "hovertemplate": "<b>%{hovertext}</b><br><br>Cluster=304<br>Lat=%{customdata[0]}<br>Lon=%{customdata[1]}<br>Time=%{customdata[2]}<br>Date=%{customdata[3]}<extra></extra>",
         "hovertext": {
          "dtype": "f8",
          "bdata": "AAAAAAAAc0AAAAAAAABzQAAAAAAAAHNAAAAAAAAAc0AAAAAAAABzQAAAAAAAAHNAAAAAAAAAc0AAAAAAAABzQA=="
         },
         "lat": {
          "dtype": "f8",
          "bdata": "SOF6FK6HPsDXo3A9Cpc+wAAAAAAAgD7AH4XrUbiePsA9CtejcL0+wAAAAAAAwD7Aw/UoXI9CPsAzMzMzM/M+wA=="
         },
         "legendgroup": "304",
         "lon": {
          "dtype": "f8",
          "bdata": "j8L1KFxHZsDhehSuR0lmwPYoXI/CNWbAmpmZmZlZZsCuR+F6FEZmwEjhehSuR2bAZmZmZmZWZsBcj8L1KERmwA=="
         },
         "marker": {
          "color": "#ab63fa"
         },
         "mode": "markers",
         "name": "304",
         "showlegend": true,
         "subplot": "map",
         "type": "scattermap"
        },
        {
         "customdata": [
          [
           -32.93,
           -179.21,
           "01:13:28.3",
           "2003/08/19"
          ],
          [
           -33.11,
           -179.22,
           "17:34:56.1",
           "2003/08/26"
          ]
         ],
         "hovertemplate": "<b>%{hovertext}</b><br><br>Cluster=308<br>Lat=%{customdata[0]}<br>Lon=%{customdata[1]}<br>Time=%{customdata[2]}<br>Date=%{customdata[3]}<extra></extra>",
         "hovertext": {
          "dtype": "f8",
          "bdata": "AAAAAABAc0AAAAAAAEBzQA=="
         },
         "lat": {
          "dtype": "f8",
          "bdata": "16NwPQp3QMCuR+F6FI5AwA=="
         },
         "legendgroup": "308",
         "lon": {
          "dtype": "f8",
          "bdata": "H4XrUbhmZsDXo3A9CmdmwA=="
         },
         "marker": {
          "color": "#FFA15A"
         },
         "mode": "markers",
         "name": "308",
         "showlegend": true,
         "subplot": "map",
         "type": "scattermap"
        },
        {
         "customdata": [
          [
           -45.1,
           167.14,
           "12:12:49.8",
           "2003/08/21"
          ],
          [
           -45.43,
           166.8,
           "23:56:29.6",
           "2003/08/26"
          ],
          [
           -45.19,
           167.11,
           "08:40:44.4",
           "2003/09/04"
          ],
          [
           -45.4,
           166.77,
           "17:56:26.2",
           "2003/09/11"
          ],
          [
           -45.49,
           167.04,
           "19:37:50.2",
           "2003/09/30"
          ],
          [
           -45.19,
           166.54,
           "05:32:15.7",
           "2003/11/02"
          ],
          [
           -45.08,
           166.61,
           "13:58:08.7",
           "2003/11/02"
          ],
          [
           -45.07,
           166.75,
           "08:04:35.1",
           "2005/03/14"
          ]
         ],
         "hovertemplate": "<b>%{hovertext}</b><br><br>Cluster=309<br>Lat=%{customdata[0]}<br>Lon=%{customdata[1]}<br>Time=%{customdata[2]}<br>Date=%{customdata[3]}<extra></extra>",
         "hovertext": {
          "dtype": "f8",
          "bdata": "AAAAAABQc0AAAAAAAFBzQAAAAAAAUHNAAAAAAABQc0AAAAAAAFBzQAAAAAAAUHNAAAAAAABQc0AAAAAAAFBzQA=="
         },
         "lat": {
          "dtype": "f8",
          "bdata": "zczMzMyMRsDXo3A9CrdGwLgehetRmEbAMzMzMzOzRsAfhetRuL5GwLgehetRmEbACtejcD2KRsApXI/C9YhGwA=="
         },
         "legendgroup": "309",
         "lon": {
          "dtype": "f8",
          "bdata": "FK5H4XrkZECamZmZmdlkQOxRuB6F42RAcT0K16PYZEDhehSuR+FkQOF6FK5H0WRA7FG4HoXTZEAAAAAAANhkQA=="
         },
         "marker": {
          "color": "#19d3f3"
         },
         "mode": "markers",
         "name": "309",
         "showlegend": true,
         "subplot": "map",
         "type": "scattermap"
        },
        {
         "customdata": [
          [
           -30.9,
           -178.87,
           "22:36:34.5",
           "2003/08/29"
          ],
          [
           -30.62,
           -179.01,
           "13:44:53.3",
           "2003/11/11"
          ],
          [
           -31.1,
           -178.97,
           "11:33:24.4",
           "2004/09/27"
          ],
          [
           -30.96,
           -178.85,
           "10:32:51.0",
           "2004/11/02"
          ]
         ],
         "hovertemplate": "<b>%{hovertext}</b><br><br>Cluster=310<br>Lat=%{customdata[0]}<br>Lon=%{customdata[1]}<br>Time=%{customdata[2]}<br>Date=%{customdata[3]}<extra></extra>",
         "hovertext": {
          "dtype": "f8",
          "bdata": "AAAAAABgc0AAAAAAAGBzQAAAAAAAYHNAAAAAAABgc0A="
         },
         "lat": {
          "dtype": "f8",
          "bdata": "ZmZmZmbmPsAfhetRuJ4+wJqZmZmZGT/A9ihcj8L1PsA="
         },
         "legendgroup": "310",
         "lon": {
          "dtype": "f8",
          "bdata": "pHA9CtdbZsC4HoXrUWBmwNejcD0KX2bAMzMzMzNbZsA="
         },
         "marker": {
          "color": "#FF6692"
         },
         "mode": "markers",
         "name": "310",
         "showlegend": true,
         "subplot": "map",
         "type": "scattermap"
        },
        {
         "customdata": [
          [
           -30.42,
           -177.49,
           "20:52:37.0",
           "2003/09/29"
          ],
          [
           -30.44,
           -177.4,
           "14:08:37.7",
           "2003/09/30"
          ],
          [
           -30.49,
           -177.18,
           "15:22:31.7",
           "2003/09/30"
          ],
          [
           -30.25,
           -177.49,
           "21:39:14.4",
           "2003/09/30"
          ],
          [
           -30.53,
           -177.21,
           "01:05:21.3",
           "2003/10/02"
          ],
          [
           -30.58,
           -177.3,
           "01:54:13.5",
           "2003/10/02"
          ],
          [
           -30.28,
           -177.36,
           "00:53:14.6",
           "2003/10/03"
          ],
          [
           -30.02,
           -177.34,
           "06:35:46.9",
           "2003/10/15"
          ],
          [
           -30.21,
           -177.95,
           "23:12:44.6",
           "2004/02/01"
          ],
          [
           -30.42,
           -177.76,
           "06:33:33.5",
           "2004/02/25"
          ],
          [
           -30.42,
           -177.72,
           "15:59:03.5",
           "2004/02/27"
          ],
          [
           -30.32,
           -178.08,
           "13:37:42.0",
           "2004/03/17"
          ],
          [
           -30.29,
           -177.71,
           "17:26:13.1",
           "2004/04/25"
          ],
          [
           -30.12,
           -177.55,
           "17:18:55.4",
           "2004/05/13"
          ],
          [
           -30.48,
           -177.88,
           "22:39:29.5",
           "2004/06/02"
          ],
          [
           -30.13,
           -177.86,
           "18:48:21.0",
           "2004/09/30"
          ],
          [
           -30.04,
           -177.85,
           "10:43:50.8",
           "2004/11/17"
          ],
          [
           -30.48,
           -177.62,
           "00:48:06.4",
           "2004/12/07"
          ],
          [
           -30.94,
           -177.65,
           "05:27:33.0",
           "2005/01/07"
          ],
          [
           -30.34,
           -177.72,
           "08:29:57.8",
           "2005/02/28"
          ],
          [
           -30.11,
           -178.01,
           "21:44:27.3",
           "2005/05/29"
          ],
          [
           -30.13,
           -177.96,
           "03:22:33.4",
           "2005/06/10"
          ],
          [
           -30.25,
           -178.07,
           "08:51:43.6",
           "2005/07/23"
          ],
          [
           -30.2,
           -177.86,
           "09:40:22.1",
           "2005/08/17"
          ],
          [
           -30.73,
           -177.33,
           "19:15:09.3",
           "2005/10/25"
          ],
          [
           -30.01,
           -177.64,
           "23:32:51.5",
           "2005/12/07"
          ],
          [
           -30.02,
           -177.38,
           "05:00:15.1",
           "2005/12/08"
          ],
          [
           -30.14,
           -177.72,
           "05:32:08.5",
           "2005/12/08"
          ],
          [
           -30.02,
           -177.09,
           "20:26:40.7",
           "2005/12/11"
          ]
         ],
         "hovertemplate": "<b>%{hovertext}</b><br><br>Cluster=312<br>Lat=%{customdata[0]}<br>Lon=%{customdata[1]}<br>Time=%{customdata[2]}<br>Date=%{customdata[3]}<extra></extra>",
         "hovertext": {
          "dtype": "f8",
          "bdata": "AAAAAACAc0AAAAAAAIBzQAAAAAAAgHNAAAAAAACAc0AAAAAAAIBzQAAAAAAAgHNAAAAAAACAc0AAAAAAAIBzQAAAAAAAgHNAAAAAAACAc0AAAAAAAIBzQAAAAAAAgHNAAAAAAACAc0AAAAAAAIBzQAAAAAAAgHNAAAAAAACAc0AAAAAAAIBzQAAAAAAAgHNAAAAAAACAc0AAAAAAAIBzQAAAAAAAgHNAAAAAAACAc0AAAAAAAIBzQAAAAAAAgHNAAAAAAACAc0AAAAAAAIBzQAAAAAAAgHNAAAAAAACAc0AAAAAAAIBzQA=="
         },
         "lat": {
          "dtype": "f8",
          "bdata": "7FG4HoVrPsBxPQrXo3A+wD0K16NwfT7AAAAAAABAPsBI4XoUroc+wBSuR+F6lD7ASOF6FK5HPsCF61G4HgU+wPYoXI/CNT7A7FG4HoVrPsDsUbgehWs+wFK4HoXrUT7ACtejcD1KPsAfhetRuB4+wHsUrkfhej7A4XoUrkchPsAK16NwPQo+wHsUrkfhej7AcT0K16PwPsDXo3A9Clc+wFyPwvUoHD7A4XoUrkchPsAAAAAAAEA+wDMzMzMzMz7AexSuR+G6PsDD9ShcjwI+wIXrUbgeBT7ApHA9CtcjPsCF61G4HgU+wA=="
         },
         "legendgroup": "312",
         "lon": {
          "dtype": "f8",
          "bdata": "SOF6FK4vZsDNzMzMzCxmwPYoXI/CJWbASOF6FK4vZsAfhetRuCZmwJqZmZmZKWbA7FG4HoUrZsB7FK5H4SpmwGZmZmZmPmbAuB6F61E4ZsDXo3A9CjdmwMP1KFyPQmbAH4XrUbg2ZsCamZmZmTFmwFyPwvUoPGbA7FG4HoU7ZsAzMzMzMztmwKRwPQrXM2bAzczMzMw0ZsDXo3A9CjdmwLgehetRQGbAH4XrUbg+ZsAK16NwPUJmwOxRuB6FO2bAw/UoXI8qZsAUrkfhejRmwFyPwvUoLGbA16NwPQo3ZsB7FK5H4SJmwA=="
         },
         "marker": {
          "color": "#B6E880"
         },
         "mode": "markers",
         "name": "312",
         "showlegend": true,
         "subplot": "map",
         "type": "scattermap"
        },
        {
         "customdata": [
          [
           -30.66,
           -179.38,
           "15:39:33.6",
           "2003/11/11"
          ],
          [
           -30.54,
           -179.11,
           "10:13:06.7",
           "2003/11/15"
          ]
         ],
         "hovertemplate": "<b>%{hovertext}</b><br><br>Cluster=313<br>Lat=%{customdata[0]}<br>Lon=%{customdata[1]}<br>Time=%{customdata[2]}<br>Date=%{customdata[3]}<extra></extra>",
         "hovertext": {
          "dtype": "f8",
          "bdata": "AAAAAACQc0AAAAAAAJBzQA=="
         },
         "lat": {
          "dtype": "f8",
          "bdata": "KVyPwvWoPsAK16NwPYo+wA=="
         },
         "legendgroup": "313",
         "lon": {
          "dtype": "f8",
          "bdata": "XI/C9ShsZsDsUbgehWNmwA=="
         },
         "marker": {
          "color": "#FF97FF"
         },
         "mode": "markers",
         "name": "313",
         "showlegend": true,
         "subplot": "map",
         "type": "scattermap"
        },
        {
         "customdata": [
          [
           -34.95,
           -178.25,
           "14:21:14.9",
           "2003/12/25"
          ],
          [
           -35.11,
           -178.25,
           "22:21:07.5",
           "2004/01/23"
          ]
         ],
         "hovertemplate": "<b>%{hovertext}</b><br><br>Cluster=314<br>Lat=%{customdata[0]}<br>Lon=%{customdata[1]}<br>Time=%{customdata[2]}<br>Date=%{customdata[3]}<extra></extra>",
         "hovertext": {
          "dtype": "f8",
          "bdata": "AAAAAACgc0AAAAAAAKBzQA=="
         },
         "lat": {
          "dtype": "f8",
          "bdata": "mpmZmZl5QcCuR+F6FI5BwA=="
         },
         "legendgroup": "314",
         "lon": {
          "dtype": "f8",
          "bdata": "AAAAAABIZsAAAAAAAEhmwA=="
         },
         "marker": {
          "color": "#FECB52"
         },
         "mode": "markers",
         "name": "314",
         "showlegend": true,
         "subplot": "map",
         "type": "scattermap"
        },
        {
         "customdata": [
          [
           -32.01,
           -178.81,
           "20:36:40.8",
           "2004/01/18"
          ],
          [
           -32.14,
           -178.42,
           "12:33:42.7",
           "2004/03/04"
          ]
         ],
         "hovertemplate": "<b>%{hovertext}</b><br><br>Cluster=315<br>Lat=%{customdata[0]}<br>Lon=%{customdata[1]}<br>Time=%{customdata[2]}<br>Date=%{customdata[3]}<extra></extra>",
         "hovertext": {
          "dtype": "f8",
          "bdata": "AAAAAACwc0AAAAAAALBzQA=="
         },
         "lat": {
          "dtype": "f8",
          "bdata": "4XoUrkcBQMBSuB6F6xFAwA=="
         },
         "legendgroup": "315",
         "lon": {
          "dtype": "f8",
          "bdata": "UrgehetZZsA9CtejcE1mwA=="
         },
         "marker": {
          "color": "#636efa"
         },
         "mode": "markers",
         "name": "315",
         "showlegend": true,
         "subplot": "map",
         "type": "scattermap"
        },
        {
         "customdata": [
          [
           -32.4,
           -178.59,
           "17:48:42.3",
           "2004/03/04"
          ],
          [
           -32.54,
           -178.6,
           "01:07:32.4",
           "2004/03/07"
          ],
          [
           -32.38,
           -178.19,
           "11:08:01.3",
           "2004/03/07"
          ],
          [
           -32.4,
           -178.1,
           "11:19:52.5",
           "2004/03/07"
          ],
          [
           -32.53,
           -178.3,
           "15:04:51.1",
           "2004/03/07"
          ],
          [
           -32.26,
           -178.36,
           "22:56:42.5",
           "2004/03/09"
          ],
          [
           -32.28,
           -178.37,
           "15:50:34.5",
           "2004/03/14"
          ],
          [
           -32.26,
           -178.19,
           "02:13:06.3",
           "2004/11/18"
          ],
          [
           -32.59,
           -178.79,
           "13:58:13.1",
           "2005/01/20"
          ],
          [
           -32.78,
           -178.76,
           "20:48:59.8",
           "2005/01/21"
          ],
          [
           -32.76,
           -178.59,
           "11:43:49.9",
           "2005/04/24"
          ],
          [
           -32.61,
           -178.36,
           "04:33:22.6",
           "2005/04/27"
          ],
          [
           -32.8,
           -178.71,
           "09:59:35.3",
           "2005/05/16"
          ],
          [
           -32.73,
           -178.39,
           "12:18:21.9",
           "2005/07/23"
          ],
          [
           -32.16,
           -178.82,
           "06:16:54.4",
           "2005/11/12"
          ],
          [
           -32.65,
           -178.36,
           "18:27:30.0",
           "2006/02/20"
          ],
          [
           -32.55,
           -178.02,
           "09:21:57.5",
           "2006/05/17"
          ]
         ],
         "hovertemplate": "<b>%{hovertext}</b><br><br>Cluster=318<br>Lat=%{customdata[0]}<br>Lon=%{customdata[1]}<br>Time=%{customdata[2]}<br>Date=%{customdata[3]}<extra></extra>",
         "hovertext": {
          "dtype": "f8",
          "bdata": "AAAAAADgc0AAAAAAAOBzQAAAAAAA4HNAAAAAAADgc0AAAAAAAOBzQAAAAAAA4HNAAAAAAADgc0AAAAAAAOBzQAAAAAAA4HNAAAAAAADgc0AAAAAAAOBzQAAAAAAA4HNAAAAAAADgc0AAAAAAAOBzQAAAAAAA4HNAAAAAAADgc0AAAAAAAOBzQA=="
         },
         "lat": {
          "dtype": "f8",
          "bdata": "MzMzMzMzQMCF61G4HkVAwHE9CtejMEDAMzMzMzMzQMCkcD0K10NAwOF6FK5HIUDApHA9CtcjQMDhehSuRyFAwOxRuB6FS0DApHA9CtdjQMDhehSuR2FAwK5H4XoUTkDAZmZmZmZmQMA9CtejcF1AwBSuR+F6FEDAMzMzMzNTQMBmZmZmZkZAwA=="
         },
         "legendgroup": "318",
         "lon": {
          "dtype": "f8",
          "bdata": "exSuR+FSZsAzMzMzM1NmwK5H4XoURmbAMzMzMzNDZsCamZmZmUlmwOxRuB6FS2bApHA9CtdLZsCuR+F6FEZmwOF6FK5HWWbAuB6F61FYZsB7FK5H4VJmwOxRuB6FS2bAH4XrUbhWZsAUrkfhekxmwArXo3A9WmbA7FG4HoVLZsBxPQrXo0BmwA=="
         },
         "marker": {
          "color": "#EF553B"
         },
         "mode": "markers",
         "name": "318",
         "showlegend": true,
         "subplot": "map",
         "type": "scattermap"
        },
        {
         "customdata": [
          [
           -32.71,
           -178.0,
           "05:34:38.3",
           "2004/03/08"
          ],
          [
           -32.56,
           -177.97,
           "22:07:13.2",
           "2004/03/09"
          ],
          [
           -32.38,
           -178.13,
           "02:04:19.6",
           "2004/03/10"
          ],
          [
           -32.34,
           -178.12,
           "03:48:36.5",
           "2004/03/10"
          ],
          [
           -32.28,
           -178.1,
           "06:52:37.7",
           "2004/03/10"
          ],
          [
           -32.82,
           -177.79,
           "08:19:18.4",
           "2004/03/10"
          ],
          [
           -32.32,
           -178.04,
           "01:31:24.2",
           "2004/03/11"
          ],
          [
           -32.31,
           -178.06,
           "02:16:00.8",
           "2004/03/11"
          ],
          [
           -32.61,
           -178.25,
           "19:10:10.5",
           "2004/05/24"
          ],
          [
           -32.67,
           -178.16,
           "22:24:53.3",
           "2004/05/26"
          ]
         ],
         "hovertemplate": "<b>%{hovertext}</b><br><br>Cluster=319<br>Lat=%{customdata[0]}<br>Lon=%{customdata[1]}<br>Time=%{customdata[2]}<br>Date=%{customdata[3]}<extra></extra>",
         "hovertext": {
          "dtype": "f8",
          "bdata": "AAAAAADwc0AAAAAAAPBzQAAAAAAA8HNAAAAAAADwc0AAAAAAAPBzQAAAAAAA8HNAAAAAAADwc0AAAAAAAPBzQAAAAAAA8HNAAAAAAADwc0A="
         },
         "lat": {
          "dtype": "f8",
          "bdata": "exSuR+FaQMBI4XoUrkdAwHE9CtejMEDA7FG4HoUrQMCkcD0K1yNAwClcj8L1aEDAKVyPwvUoQMBI4XoUridAwK5H4XoUTkDA9ihcj8JVQMA="
         },
         "legendgroup": "319",
         "lon": {
          "dtype": "f8",
          "bdata": "AAAAAABAZsDXo3A9Cj9mwFyPwvUoRGbApHA9CtdDZsAzMzMzM0NmwOF6FK5HOWbA4XoUrkdBZsBSuB6F60FmwAAAAAAASGbAhetRuB5FZsA="
         },
         "marker": {
          "color": "#00cc96"
         },
         "mode": "markers",
         "name": "319",
         "showlegend": true,
         "subplot": "map",
         "type": "scattermap"
        },
        {
         "customdata": [
          [
           -32.22,
           -177.88,
           "06:09:22.8",
           "2004/03/16"
          ],
          [
           -32.04,
           -177.96,
           "06:11:30.1",
           "2004/03/16"
          ],
          [
           -32.1,
           -178.14,
           "13:15:48.9",
           "2004/03/17"
          ],
          [
           -32.22,
           -178.1,
           "15:59:49.2",
           "2004/05/21"
          ]
         ],
         "hovertemplate": "<b>%{hovertext}</b><br><br>Cluster=320<br>Lat=%{customdata[0]}<br>Lon=%{customdata[1]}<br>Time=%{customdata[2]}<br>Date=%{customdata[3]}<extra></extra>",
         "hovertext": {
          "dtype": "f8",
          "bdata": "AAAAAAAAdEAAAAAAAAB0QAAAAAAAAHRAAAAAAAAAdEA="
         },
         "lat": {
          "dtype": "f8",
          "bdata": "XI/C9SgcQMCF61G4HgVAwM3MzMzMDEDAXI/C9SgcQMA="
         },
         "legendgroup": "320",
         "lon": {
          "dtype": "f8",
          "bdata": "XI/C9Sg8ZsAfhetRuD5mwBSuR+F6RGbAMzMzMzNDZsA="
         },
         "marker": {
          "color": "#ab63fa"
         },
         "mode": "markers",
         "name": "320",
         "showlegend": true,
         "subplot": "map",
         "type": "scattermap"
        },
        {
         "customdata": [
          [
           -31.05,
           -177.12,
           "21:11:25.4",
           "2004/05/30"
          ],
          [
           -30.77,
           -177.53,
           "21:47:26.6",
           "2005/07/19"
          ]
         ],
         "hovertemplate": "<b>%{hovertext}</b><br><br>Cluster=323<br>Lat=%{customdata[0]}<br>Lon=%{customdata[1]}<br>Time=%{customdata[2]}<br>Date=%{customdata[3]}<extra></extra>",
         "hovertext": {
          "dtype": "f8",
          "bdata": "AAAAAAAwdEAAAAAAADB0QA=="
         },
         "lat": {
          "dtype": "f8",
          "bdata": "zczMzMwMP8CF61G4HsU+wA=="
         },
         "legendgroup": "323",
         "lon": {
          "dtype": "f8",
          "bdata": "pHA9CtcjZsApXI/C9TBmwA=="
         },
         "marker": {
          "color": "#FFA15A"
         },
         "mode": "markers",
         "name": "323",
         "showlegend": true,
         "subplot": "map",
         "type": "scattermap"
        },
        {
         "customdata": [
          [
           -32.88,
           -179.45,
           "08:50:37.1",
           "2004/06/02"
          ],
          [
           -32.94,
           -179.4,
           "20:36:55.6",
           "2004/07/08"
          ],
          [
           -32.74,
           -179.72,
           "04:09:38.2",
           "2004/09/19"
          ],
          [
           -32.88,
           -179.15,
           "11:54:36.1",
           "2005/03/03"
          ],
          [
           -32.59,
           -179.35,
           "03:54:14.6",
           "2005/05/16"
          ],
          [
           -32.76,
           -179.14,
           "13:56:21.9",
           "2005/06/01"
          ],
          [
           -32.75,
           -179.18,
           "17:11:20.2",
           "2005/06/01"
          ],
          [
           -32.76,
           -179.22,
           "13:45:24.5",
           "2005/07/15"
          ],
          [
           -32.86,
           -179.98,
           "08:05:11.9",
           "2005/10/02"
          ],
          [
           -32.65,
           -179.24,
           "05:48:51.7",
           "2005/11/25"
          ],
          [
           -32.98,
           -179.17,
           "19:35:45.2",
           "2005/12/16"
          ],
          [
           -33.12,
           -179.52,
           "17:21:34.4",
           "2006/08/09"
          ]
         ],
         "hovertemplate": "<b>%{hovertext}</b><br><br>Cluster=324<br>Lat=%{customdata[0]}<br>Lon=%{customdata[1]}<br>Time=%{customdata[2]}<br>Date=%{customdata[3]}<extra></extra>",
         "hovertext": {
          "dtype": "f8",
          "bdata": "AAAAAABAdEAAAAAAAEB0QAAAAAAAQHRAAAAAAABAdEAAAAAAAEB0QAAAAAAAQHRAAAAAAABAdEAAAAAAAEB0QAAAAAAAQHRAAAAAAABAdEAAAAAAAEB0QAAAAAAAQHRA"
         },
         "lat": {
          "dtype": "f8",
          "bdata": "cT0K16NwQMC4HoXrUXhAwB+F61G4XkDAcT0K16NwQMDsUbgehUtAwOF6FK5HYUDAAAAAAABgQMDhehSuR2FAwK5H4XoUbkDAMzMzMzNTQMA9CtejcH1AwI/C9Shcj0DA"
         },
         "legendgroup": "324",
         "lon": {
          "dtype": "f8",
          "bdata": "ZmZmZmZuZsDNzMzMzGxmwNejcD0Kd2bAzczMzMxkZsAzMzMzM2tmwBSuR+F6ZGbA9ihcj8JlZsDXo3A9CmdmwI/C9Shcf2bASOF6FK5nZsA9CtejcGVmwHE9CtejcGbA"
         },
         "marker": {
          "color": "#19d3f3"
         },
         "mode": "markers",
         "name": "324",
         "showlegend": true,
         "subplot": "map",
         "type": "scattermap"
        },
        {
         "customdata": [
          [
           -34.24,
           -179.6,
           "23:16:12.7",
           "2004/06/28"
          ],
          [
           -34.13,
           -179.39,
           "00:38:46.4",
           "2004/06/29"
          ]
         ],
         "hovertemplate": "<b>%{hovertext}</b><br><br>Cluster=325<br>Lat=%{customdata[0]}<br>Lon=%{customdata[1]}<br>Time=%{customdata[2]}<br>Date=%{customdata[3]}<extra></extra>",
         "hovertext": {
          "dtype": "f8",
          "bdata": "AAAAAABQdEAAAAAAAFB0QA=="
         },
         "lat": {
          "dtype": "f8",
          "bdata": "H4XrUbgeQcBxPQrXoxBBwA=="
         },
         "legendgroup": "325",
         "lon": {
          "dtype": "f8",
          "bdata": "MzMzMzNzZsAUrkfhemxmwA=="
         },
         "marker": {
          "color": "#FF6692"
         },
         "mode": "markers",
         "name": "325",
         "showlegend": true,
         "subplot": "map",
         "type": "scattermap"
        },
        {
         "customdata": [
          [
           -49.58,
           163.67,
           "04:39:37.5",
           "2004/07/01"
          ],
          [
           -49.66,
           163.87,
           "07:00:45.6",
           "2004/08/05"
          ]
         ],
         "hovertemplate": "<b>%{hovertext}</b><br><br>Cluster=326<br>Lat=%{customdata[0]}<br>Lon=%{customdata[1]}<br>Time=%{customdata[2]}<br>Date=%{customdata[3]}<extra></extra>",
         "hovertext": {
          "dtype": "f8",
          "bdata": "AAAAAABgdEAAAAAAAGB0QA=="
         },
         "lat": {
          "dtype": "f8",
          "bdata": "CtejcD3KSMAUrkfhetRIwA=="
         },
         "legendgroup": "326",
         "lon": {
          "dtype": "f8",
          "bdata": "PQrXo3B1ZECkcD0K13tkQA=="
         },
         "marker": {
          "color": "#B6E880"
         },
         "mode": "markers",
         "name": "326",
         "showlegend": true,
         "subplot": "map",
         "type": "scattermap"
        },
        {
         "customdata": [
          [
           -38.01,
           176.49,
           "03:58:06.0",
           "2004/07/18"
          ],
          [
           -38.0,
           176.51,
           "04:22:22.6",
           "2004/07/18"
          ]
         ],
         "hovertemplate": "<b>%{hovertext}</b><br><br>Cluster=327<br>Lat=%{customdata[0]}<br>Lon=%{customdata[1]}<br>Time=%{customdata[2]}<br>Date=%{customdata[3]}<extra></extra>",
         "hovertext": {
          "dtype": "f8",
          "bdata": "AAAAAABwdEAAAAAAAHB0QA=="
         },
         "lat": {
          "dtype": "f8",
          "bdata": "4XoUrkcBQ8AAAAAAAABDwA=="
         },
         "legendgroup": "327",
         "lon": {
          "dtype": "f8",
          "bdata": "SOF6FK4PZkC4HoXrURBmQA=="
         },
         "marker": {
          "color": "#FF97FF"
         },
         "mode": "markers",
         "name": "327",
         "showlegend": true,
         "subplot": "map",
         "type": "scattermap"
        },
        {
         "customdata": [
          [
           -32.35,
           -179.61,
           "18:48:38.4",
           "2004/07/20"
          ],
          [
           -32.36,
           -179.57,
           "03:08:18.2",
           "2004/07/22"
          ]
         ],
         "hovertemplate": "<b>%{hovertext}</b><br><br>Cluster=328<br>Lat=%{customdata[0]}<br>Lon=%{customdata[1]}<br>Time=%{customdata[2]}<br>Date=%{customdata[3]}<extra></extra>",
         "hovertext": {
          "dtype": "f8",
          "bdata": "AAAAAACAdEAAAAAAAIB0QA=="
         },
         "lat": {
          "dtype": "f8",
          "bdata": "zczMzMwsQMCuR+F6FC5AwA=="
         },
         "legendgroup": "328",
         "lon": {
          "dtype": "f8",
          "bdata": "7FG4HoVzZsAK16NwPXJmwA=="
         },
         "marker": {
          "color": "#FECB52"
         },
         "mode": "markers",
         "name": "328",
         "showlegend": true,
         "subplot": "map",
         "type": "scattermap"
        },
        {
         "customdata": [
          [
           -32.97,
           -178.46,
           "22:17:06.9",
           "2004/07/23"
          ],
          [
           -32.85,
           -178.59,
           "10:36:04.2",
           "2004/11/01"
          ],
          [
           -32.94,
           -178.41,
           "11:37:58.5",
           "2004/11/01"
          ],
          [
           -32.74,
           -178.66,
           "14:02:39.5",
           "2004/11/01"
          ]
         ],
         "hovertemplate": "<b>%{hovertext}</b><br><br>Cluster=329<br>Lat=%{customdata[0]}<br>Lon=%{customdata[1]}<br>Time=%{customdata[2]}<br>Date=%{customdata[3]}<extra></extra>",
         "hovertext": {
          "dtype": "f8",
          "bdata": "AAAAAACQdEAAAAAAAJB0QAAAAAAAkHRAAAAAAACQdEA="
         },
         "lat": {
          "dtype": "f8",
          "bdata": "XI/C9Sh8QMDNzMzMzGxAwLgehetReEDAH4XrUbheQMA="
         },
         "legendgroup": "329",
         "lon": {
          "dtype": "f8",
          "bdata": "H4XrUbhOZsB7FK5H4VJmwIXrUbgeTWbAhetRuB5VZsA="
         },
         "marker": {
          "color": "#636efa"
         },
         "mode": "markers",
         "name": "329",
         "showlegend": true,
         "subplot": "map",
         "type": "scattermap"
        },
        {
         "customdata": [
          [
           -49.31,
           161.35,
           "14:59:04.4",
           "2004/12/23"
          ],
          [
           -49.56,
           161.37,
           "05:31:48.3",
           "2004/12/24"
          ],
          [
           -48.62,
           161.32,
           "22:34:40.0",
           "2004/12/24"
          ],
          [
           -49.91,
           161.49,
           "21:25:15.8",
           "2006/08/30"
          ]
         ],
         "hovertemplate": "<b>%{hovertext}</b><br><br>Cluster=336<br>Lat=%{customdata[0]}<br>Lon=%{customdata[1]}<br>Time=%{customdata[2]}<br>Date=%{customdata[3]}<extra></extra>",
         "hovertext": {
          "dtype": "f8",
          "bdata": "AAAAAAAAdUAAAAAAAAB1QAAAAAAAAHVAAAAAAAAAdUA="
         },
         "lat": {
          "dtype": "f8",
          "bdata": "SOF6FK6nSMBI4XoUrsdIwI/C9ShcT0jAFK5H4Xr0SMA="
         },
         "legendgroup": "336",
         "lon": {
          "dtype": "f8",
          "bdata": "MzMzMzMrZECkcD0K1ytkQArXo3A9KmRASOF6FK4vZEA="
         },
         "marker": {
          "color": "#EF553B"
         },
         "mode": "markers",
         "name": "336",
         "showlegend": true,
         "subplot": "map",
         "type": "scattermap"
        },
        {
         "customdata": [
          [
           -41.46,
           175.78,
           "08:36:04.4",
           "2005/01/18"
          ],
          [
           -41.45,
           175.78,
           "09:26:00.5",
           "2005/01/18"
          ],
          [
           -41.44,
           175.75,
           "17:31:53.5",
           "2005/01/31"
          ]
         ],
         "hovertemplate": "<b>%{hovertext}</b><br><br>Cluster=337<br>Lat=%{customdata[0]}<br>Lon=%{customdata[1]}<br>Time=%{customdata[2]}<br>Date=%{customdata[3]}<extra></extra>",
         "hovertext": {
          "dtype": "f8",
          "bdata": "AAAAAAAQdUAAAAAAABB1QAAAAAAAEHVA"
         },
         "lat": {
          "dtype": "f8",
          "bdata": "exSuR+G6RMCamZmZmblEwLgehetRuETA"
         },
         "legendgroup": "337",
         "lon": {
          "dtype": "f8",
          "bdata": "KVyPwvX4ZUApXI/C9fhlQAAAAAAA+GVA"
         },
         "marker": {
          "color": "#00cc96"
         },
         "mode": "markers",
         "name": "337",
         "showlegend": true,
         "subplot": "map",
         "type": "scattermap"
        },
        {
         "customdata": [
          [
           -31.61,
           -177.93,
           "11:27:43.2",
           "2005/01/22"
          ],
          [
           -31.56,
           -177.76,
           "12:30:18.8",
           "2005/01/22"
          ],
          [
           -31.41,
           -177.74,
           "09:59:07.1",
           "2005/02/08"
          ]
         ],
         "hovertemplate": "<b>%{hovertext}</b><br><br>Cluster=339<br>Lat=%{customdata[0]}<br>Lon=%{customdata[1]}<br>Time=%{customdata[2]}<br>Date=%{customdata[3]}<extra></extra>",
         "hovertext": {
          "dtype": "f8",
          "bdata": "AAAAAAAwdUAAAAAAADB1QAAAAAAAMHVA"
         },
         "lat": {
          "dtype": "f8",
          "bdata": "XI/C9SicP8CPwvUoXI8/wClcj8L1aD/A"
         },
         "legendgroup": "339",
         "lon": {
          "dtype": "f8",
          "bdata": "9ihcj8I9ZsC4HoXrUThmwEjhehSuN2bA"
         },
         "marker": {
          "color": "#ab63fa"
         },
         "mode": "markers",
         "name": "339",
         "showlegend": true,
         "subplot": "map",
         "type": "scattermap"
        },
        {
         "customdata": [
          [
           -30.12,
           -176.83,
           "00:04:56.0",
           "2005/02/21"
          ],
          [
           -30.0,
           -176.98,
           "12:31:45.3",
           "2005/03/01"
          ]
         ],
         "hovertemplate": "<b>%{hovertext}</b><br><br>Cluster=341<br>Lat=%{customdata[0]}<br>Lon=%{customdata[1]}<br>Time=%{customdata[2]}<br>Date=%{customdata[3]}<extra></extra>",
         "hovertext": {
          "dtype": "f8",
          "bdata": "AAAAAABQdUAAAAAAAFB1QA=="
         },
         "lat": {
          "dtype": "f8",
          "bdata": "H4XrUbgePsAAAAAAAAA+wA=="
         },
         "legendgroup": "341",
         "lon": {
          "dtype": "f8",
          "bdata": "w/UoXI8aZsCPwvUoXB9mwA=="
         },
         "marker": {
          "color": "#FFA15A"
         },
         "mode": "markers",
         "name": "341",
         "showlegend": true,
         "subplot": "map",
         "type": "scattermap"
        },
        {
         "customdata": [
          [
           -43.95,
           169.02,
           "15:35:38.4",
           "2005/05/02"
          ],
          [
           -43.94,
           169.01,
           "15:40:04.1",
           "2005/05/02"
          ]
         ],
         "hovertemplate": "<b>%{hovertext}</b><br><br>Cluster=345<br>Lat=%{customdata[0]}<br>Lon=%{customdata[1]}<br>Time=%{customdata[2]}<br>Date=%{customdata[3]}<extra></extra>",
         "hovertext": {
          "dtype": "f8",
          "bdata": "AAAAAACQdUAAAAAAAJB1QA=="
         },
         "lat": {
          "dtype": "f8",
          "bdata": "mpmZmZn5RcC4HoXrUfhFwA=="
         },
         "legendgroup": "345",
         "lon": {
          "dtype": "f8",
          "bdata": "cT0K16MgZUC4HoXrUSBlQA=="
         },
         "marker": {
          "color": "#19d3f3"
         },
         "mode": "markers",
         "name": "345",
         "showlegend": true,
         "subplot": "map",
         "type": "scattermap"
        },
        {
         "customdata": [
          [
           -34.31,
           -179.57,
           "01:40:20.5",
           "2005/07/29"
          ],
          [
           -34.35,
           -179.68,
           "11:59:04.6",
           "2005/11/15"
          ]
         ],
         "hovertemplate": "<b>%{hovertext}</b><br><br>Cluster=351<br>Lat=%{customdata[0]}<br>Lon=%{customdata[1]}<br>Time=%{customdata[2]}<br>Date=%{customdata[3]}<extra></extra>",
         "hovertext": {
          "dtype": "f8",
          "bdata": "AAAAAADwdUAAAAAAAPB1QA=="
         },
         "lat": {
          "dtype": "f8",
          "bdata": "SOF6FK4nQcDNzMzMzCxBwA=="
         },
         "legendgroup": "351",
         "lon": {
          "dtype": "f8",
          "bdata": "CtejcD1yZsD2KFyPwnVmwA=="
         },
         "marker": {
          "color": "#FF6692"
         },
         "mode": "markers",
         "name": "351",
         "showlegend": true,
         "subplot": "map",
         "type": "scattermap"
        },
        {
         "customdata": [
          [
           -33.3,
           -178.51,
           "07:25:56.2",
           "2005/10/27"
          ],
          [
           -33.44,
           -178.37,
           "21:04:56.3",
           "2005/10/27"
          ],
          [
           -33.1,
           -178.31,
           "18:55:14.3",
           "2006/02/19"
          ]
         ],
         "hovertemplate": "<b>%{hovertext}</b><br><br>Cluster=355<br>Lat=%{customdata[0]}<br>Lon=%{customdata[1]}<br>Time=%{customdata[2]}<br>Date=%{customdata[3]}<extra></extra>",
         "hovertext": {
          "dtype": "f8",
          "bdata": "AAAAAAAwdkAAAAAAADB2QAAAAAAAMHZA"
         },
         "lat": {
          "dtype": "f8",
          "bdata": "ZmZmZmamQMC4HoXrUbhAwM3MzMzMjEDA"
         },
         "legendgroup": "355",
         "lon": {
          "dtype": "f8",
          "bdata": "uB6F61FQZsCkcD0K10tmwFK4HoXrSWbA"
         },
         "marker": {
          "color": "#B6E880"
         },
         "mode": "markers",
         "name": "355",
         "showlegend": true,
         "subplot": "map",
         "type": "scattermap"
        },
        {
         "customdata": [
          [
           -30.39,
           -178.17,
           "03:09:18.1",
           "2005/11/02"
          ],
          [
           -30.32,
           -177.97,
           "00:22:28.1",
           "2005/11/09"
          ],
          [
           -30.01,
           -177.93,
           "18:09:38.7",
           "2005/11/19"
          ],
          [
           -30.69,
           -177.79,
           "01:16:16.0",
           "2006/01/26"
          ],
          [
           -30.44,
           -177.91,
           "06:32:16.6",
           "2006/01/26"
          ],
          [
           -30.12,
           -177.89,
           "03:25:26.8",
           "2006/03/23"
          ]
         ],
         "hovertemplate": "<b>%{hovertext}</b><br><br>Cluster=356<br>Lat=%{customdata[0]}<br>Lon=%{customdata[1]}<br>Time=%{customdata[2]}<br>Date=%{customdata[3]}<extra></extra>",
         "hovertext": {
          "dtype": "f8",
          "bdata": "AAAAAABAdkAAAAAAAEB2QAAAAAAAQHZAAAAAAABAdkAAAAAAAEB2QAAAAAAAQHZA"
         },
         "lat": {
          "dtype": "f8",
          "bdata": "pHA9CtdjPsBSuB6F61E+wMP1KFyPAj7AcT0K16OwPsBxPQrXo3A+wB+F61G4Hj7A"
         },
         "legendgroup": "356",
         "lon": {
          "dtype": "f8",
          "bdata": "PQrXo3BFZsDXo3A9Cj9mwPYoXI/CPWbA4XoUrkc5ZsCF61G4Hj1mwBSuR+F6PGbA"
         },
         "marker": {
          "color": "#FF97FF"
         },
         "mode": "markers",
         "name": "356",
         "showlegend": true,
         "subplot": "map",
         "type": "scattermap"
        },
        {
         "customdata": [
          [
           -33.69,
           -178.59,
           "04:32:51.7",
           "2005/12/04"
          ],
          [
           -33.7,
           -178.87,
           "01:17:21.8",
           "2006/02/14"
          ]
         ],
         "hovertemplate": "<b>%{hovertext}</b><br><br>Cluster=360<br>Lat=%{customdata[0]}<br>Lon=%{customdata[1]}<br>Time=%{customdata[2]}<br>Date=%{customdata[3]}<extra></extra>",
         "hovertext": {
          "dtype": "f8",
          "bdata": "AAAAAACAdkAAAAAAAIB2QA=="
         },
         "lat": {
          "dtype": "f8",
          "bdata": "uB6F61HYQMCamZmZmdlAwA=="
         },
         "legendgroup": "360",
         "lon": {
          "dtype": "f8",
          "bdata": "exSuR+FSZsCkcD0K11tmwA=="
         },
         "marker": {
          "color": "#FECB52"
         },
         "mode": "markers",
         "name": "360",
         "showlegend": true,
         "subplot": "map",
         "type": "scattermap"
        },
        {
         "customdata": [
          [
           -31.78,
           -179.31,
           "10:39:23.3",
           "2006/05/16"
          ],
          [
           -31.91,
           -179.23,
           "13:52:36.1",
           "2006/07/04"
          ],
          [
           -32.06,
           -178.54,
           "03:13:56.3",
           "2006/10/31"
          ],
          [
           -31.48,
           -179.04,
           "19:15:35.0",
           "2006/11/24"
          ],
          [
           -31.32,
           -179.82,
           "20:38:24.2",
           "2007/08/05"
          ],
          [
           -31.72,
           -178.52,
           "14:30:10.3",
           "2008/06/11"
          ],
          [
           -31.98,
           -179.3,
           "09:52:02.5",
           "2008/11/10"
          ]
         ],
         "hovertemplate": "<b>%{hovertext}</b><br><br>Cluster=363<br>Lat=%{customdata[0]}<br>Lon=%{customdata[1]}<br>Time=%{customdata[2]}<br>Date=%{customdata[3]}<extra></extra>",
         "hovertext": {
          "dtype": "f8",
          "bdata": "AAAAAACwdkAAAAAAALB2QAAAAAAAsHZAAAAAAACwdkAAAAAAALB2QAAAAAAAsHZAAAAAAACwdkA="
         },
         "lat": {
          "dtype": "f8",
          "bdata": "SOF6FK7HP8ApXI/C9eg/wEjhehSuB0DAexSuR+F6P8BSuB6F61E/wLgehetRuD/AexSuR+H6P8A="
         },
         "legendgroup": "363",
         "lon": {
          "dtype": "f8",
          "bdata": "UrgehetpZsCPwvUoXGdmwOF6FK5HUWbA4XoUrkdhZsAK16NwPXpmwHE9CtejUGbAmpmZmZlpZsA="
         },
         "marker": {
          "color": "#636efa"
         },
         "mode": "markers",
         "name": "363",
         "showlegend": true,
         "subplot": "map",
         "type": "scattermap"
        },
        {
         "customdata": [
          [
           -33.68,
           -179.02,
           "14:44:46.4",
           "2006/08/15"
          ],
          [
           -33.35,
           -179.1,
           "01:43:29.1",
           "2006/09/13"
          ]
         ],
         "hovertemplate": "<b>%{hovertext}</b><br><br>Cluster=369<br>Lat=%{customdata[0]}<br>Lon=%{customdata[1]}<br>Time=%{customdata[2]}<br>Date=%{customdata[3]}<extra></extra>",
         "hovertext": {
          "dtype": "f8",
          "bdata": "AAAAAAAQd0AAAAAAABB3QA=="
         },
         "lat": {
          "dtype": "f8",
          "bdata": "16NwPQrXQMDNzMzMzKxAwA=="
         },
         "legendgroup": "369",
         "lon": {
          "dtype": "f8",
          "bdata": "cT0K16NgZsAzMzMzM2NmwA=="
         },
         "marker": {
          "color": "#EF553B"
         },
         "mode": "markers",
         "name": "369",
         "showlegend": true,
         "subplot": "map",
         "type": "scattermap"
        },
        {
         "customdata": [
          [
           -33.97,
           -178.73,
           "17:36:13.6",
           "2006/11/26"
          ],
          [
           -34.02,
           -178.84,
           "15:14:07.1",
           "2007/04/20"
          ],
          [
           -34.12,
           -178.95,
           "13:56:29.7",
           "2007/05/03"
          ],
          [
           -33.83,
           -178.9,
           "15:23:00.6",
           "2007/06/01"
          ],
          [
           -34.31,
           -178.5,
           "15:58:50.7",
           "2007/07/06"
          ],
          [
           -33.91,
           -178.69,
           "13:30:41.6",
           "2007/08/19"
          ]
         ],
         "hovertemplate": "<b>%{hovertext}</b><br><br>Cluster=373<br>Lat=%{customdata[0]}<br>Lon=%{customdata[1]}<br>Time=%{customdata[2]}<br>Date=%{customdata[3]}<extra></extra>",
         "hovertext": {
          "dtype": "f8",
          "bdata": "AAAAAABQd0AAAAAAAFB3QAAAAAAAUHdAAAAAAABQd0AAAAAAAFB3QAAAAAAAUHdA"
         },
         "lat": {
          "dtype": "f8",
          "bdata": "XI/C9Sj8QMDD9ShcjwJBwI/C9ShcD0HACtejcD3qQMBI4XoUridBwBSuR+F69EDA"
         },
         "legendgroup": "373",
         "lon": {
          "dtype": "f8",
          "bdata": "j8L1KFxXZsB7FK5H4VpmwGZmZmZmXmbAzczMzMxcZsAAAAAAAFBmwK5H4XoUVmbA"
         },
         "marker": {
          "color": "#00cc96"
         },
         "mode": "markers",
         "name": "373",
         "showlegend": true,
         "subplot": "map",
         "type": "scattermap"
        },
        {
         "customdata": [
          [
           -32.01,
           -177.5,
           "10:23:33.4",
           "2007/02/15"
          ],
          [
           -32.06,
           -177.53,
           "10:27:29.7",
           "2007/02/15"
          ]
         ],
         "hovertemplate": "<b>%{hovertext}</b><br><br>Cluster=375<br>Lat=%{customdata[0]}<br>Lon=%{customdata[1]}<br>Time=%{customdata[2]}<br>Date=%{customdata[3]}<extra></extra>",
         "hovertext": {
          "dtype": "f8",
          "bdata": "AAAAAABwd0AAAAAAAHB3QA=="
         },
         "lat": {
          "dtype": "f8",
          "bdata": "4XoUrkcBQMBI4XoUrgdAwA=="
         },
         "legendgroup": "375",
         "lon": {
          "dtype": "f8",
          "bdata": "AAAAAAAwZsApXI/C9TBmwA=="
         },
         "marker": {
          "color": "#ab63fa"
         },
         "mode": "markers",
         "name": "375",
         "showlegend": true,
         "subplot": "map",
         "type": "scattermap"
        },
        {
         "customdata": [
          [
           -30.65,
           -177.56,
           "01:15:49.2",
           "2007/03/05"
          ],
          [
           -30.55,
           -177.41,
           "00:26:52.6",
           "2007/08/11"
          ]
         ],
         "hovertemplate": "<b>%{hovertext}</b><br><br>Cluster=377<br>Lat=%{customdata[0]}<br>Lon=%{customdata[1]}<br>Time=%{customdata[2]}<br>Date=%{customdata[3]}<extra></extra>",
         "hovertext": {
          "dtype": "f8",
          "bdata": "AAAAAACQd0AAAAAAAJB3QA=="
         },
         "lat": {
          "dtype": "f8",
          "bdata": "ZmZmZmamPsDNzMzMzIw+wA=="
         },
         "legendgroup": "377",
         "lon": {
          "dtype": "f8",
          "bdata": "UrgehesxZsCF61G4Hi1mwA=="
         },
         "marker": {
          "color": "#FFA15A"
         },
         "mode": "markers",
         "name": "377",
         "showlegend": true,
         "subplot": "map",
         "type": "scattermap"
        },
        {
         "customdata": [
          [
           -33.5,
           -178.27,
           "09:25:49.2",
           "2007/03/20"
          ],
          [
           -33.4,
           -178.55,
           "10:14:19.6",
           "2007/03/20"
          ]
         ],
         "hovertemplate": "<b>%{hovertext}</b><br><br>Cluster=378<br>Lat=%{customdata[0]}<br>Lon=%{customdata[1]}<br>Time=%{customdata[2]}<br>Date=%{customdata[3]}<extra></extra>",
         "hovertext": {
          "dtype": "f8",
          "bdata": "AAAAAACgd0AAAAAAAKB3QA=="
         },
         "lat": {
          "dtype": "f8",
          "bdata": "AAAAAADAQMAzMzMzM7NAwA=="
         },
         "legendgroup": "378",
         "lon": {
          "dtype": "f8",
          "bdata": "cT0K16NIZsCamZmZmVFmwA=="
         },
         "marker": {
          "color": "#19d3f3"
         },
         "mode": "markers",
         "name": "378",
         "showlegend": true,
         "subplot": "map",
         "type": "scattermap"
        },
        {
         "customdata": [
          [
           -31.68,
           -178.02,
           "16:44:35.8",
           "2007/08/19"
          ],
          [
           -31.68,
           -177.95,
           "13:41:21.2",
           "2007/11/28"
          ]
         ],
         "hovertemplate": "<b>%{hovertext}</b><br><br>Cluster=383<br>Lat=%{customdata[0]}<br>Lon=%{customdata[1]}<br>Time=%{customdata[2]}<br>Date=%{customdata[3]}<extra></extra>",
         "hovertext": {
          "dtype": "f8",
          "bdata": "AAAAAADwd0AAAAAAAPB3QA=="
         },
         "lat": {
          "dtype": "f8",
          "bdata": "rkfhehSuP8CuR+F6FK4/wA=="
         },
         "legendgroup": "383",
         "lon": {
          "dtype": "f8",
          "bdata": "cT0K16NAZsBmZmZmZj5mwA=="
         },
         "marker": {
          "color": "#FF6692"
         },
         "mode": "markers",
         "name": "383",
         "showlegend": true,
         "subplot": "map",
         "type": "scattermap"
        },
        {
         "customdata": [
          [
           -33.08,
           -179.34,
           "09:41:57.2",
           "2007/09/04"
          ],
          [
           -33.09,
           -179.19,
           "08:09:12.5",
           "2007/11/21"
          ]
         ],
         "hovertemplate": "<b>%{hovertext}</b><br><br>Cluster=384<br>Lat=%{customdata[0]}<br>Lon=%{customdata[1]}<br>Time=%{customdata[2]}<br>Date=%{customdata[3]}<extra></extra>",
         "hovertext": {
          "dtype": "f8",
          "bdata": "AAAAAAAAeEAAAAAAAAB4QA=="
         },
         "lat": {
          "dtype": "f8",
          "bdata": "CtejcD2KQMDsUbgehYtAwA=="
         },
         "legendgroup": "384",
         "lon": {
          "dtype": "f8",
          "bdata": "exSuR+FqZsCuR+F6FGZmwA=="
         },
         "marker": {
          "color": "#B6E880"
         },
         "mode": "markers",
         "name": "384",
         "showlegend": true,
         "subplot": "map",
         "type": "scattermap"
        },
        {
         "customdata": [
          [
           -30.97,
           180.0,
           "05:16:01.1",
           "2007/09/25"
          ],
          [
           -31.38,
           179.97,
           "18:50:21.4",
           "2008/09/21"
          ]
         ],
         "hovertemplate": "<b>%{hovertext}</b><br><br>Cluster=385<br>Lat=%{customdata[0]}<br>Lon=%{customdata[1]}<br>Time=%{customdata[2]}<br>Date=%{customdata[3]}<extra></extra>",
         "hovertext": {
          "dtype": "f8",
          "bdata": "AAAAAAAQeEAAAAAAABB4QA=="
         },
         "lat": {
          "dtype": "f8",
          "bdata": "uB6F61H4PsDhehSuR2E/wA=="
         },
         "legendgroup": "385",
         "lon": {
          "dtype": "f8",
          "bdata": "AAAAAACAZkDXo3A9Cn9mQA=="
         },
         "marker": {
          "color": "#FF97FF"
         },
         "mode": "markers",
         "name": "385",
         "showlegend": true,
         "subplot": "map",
         "type": "scattermap"
        },
        {
         "customdata": [
          [
           -49.27,
           164.12,
           "05:23:34.1",
           "2007/09/30"
          ],
          [
           -49.14,
           164.11,
           "09:47:52.0",
           "2007/09/30"
          ],
          [
           -49.26,
           163.66,
           "16:19:57.8",
           "2007/10/01"
          ],
          [
           -49.05,
           164.31,
           "16:25:05.8",
           "2007/10/11"
          ],
          [
           -49.4,
           164.79,
           "18:07:11.8",
           "2007/12/05"
          ],
          [
           -49.09,
           164.12,
           "23:34:49.4",
           "2008/04/26"
          ],
          [
           -49.5,
           163.99,
           "06:59:57.6",
           "2008/12/27"
          ],
          [
           -49.19,
           164.74,
           "10:50:50.0",
           "2009/03/14"
          ],
          [
           -49.79,
           164.19,
           "09:48:46.5",
           "2010/01/06"
          ]
         ],
         "hovertemplate": "<b>%{hovertext}</b><br><br>Cluster=387<br>Lat=%{customdata[0]}<br>Lon=%{customdata[1]}<br>Time=%{customdata[2]}<br>Date=%{customdata[3]}<extra></extra>",
         "hovertext": {
          "dtype": "f8",
          "bdata": "AAAAAAAweEAAAAAAADB4QAAAAAAAMHhAAAAAAAAweEAAAAAAADB4QAAAAAAAMHhAAAAAAAAweEAAAAAAADB4QAAAAAAAMHhA"
         },
         "lat": {
          "dtype": "f8",
          "bdata": "w/UoXI+iSMBSuB6F65FIwOF6FK5HoUjAZmZmZmaGSMAzMzMzM7NIwOxRuB6Fi0jAAAAAAADASMC4HoXrUZhIwIXrUbge5UjA"
         },
         "legendgroup": "387",
         "lon": {
          "dtype": "f8",
          "bdata": "pHA9CteDZEDsUbgehYNkQIXrUbgedWRAUrgeheuJZEDhehSuR5lkQKRwPQrXg2RASOF6FK5/ZEBI4XoUrpdkQK5H4XoUhmRA"
         },
         "marker": {
          "color": "#FECB52"
         },
         "mode": "markers",
         "name": "387",
         "showlegend": true,
         "subplot": "map",
         "type": "scattermap"
        },
        {
         "customdata": [
          [
           -48.63,
           164.66,
           "01:43:25.7",
           "2007/10/03"
          ],
          [
           -48.72,
           164.7,
           "03:32:56.5",
           "2007/10/03"
          ],
          [
           -48.65,
           164.62,
           "18:03:03.9",
           "2007/10/03"
          ]
         ],
         "hovertemplate": "<b>%{hovertext}</b><br><br>Cluster=389<br>Lat=%{customdata[0]}<br>Lon=%{customdata[1]}<br>Time=%{customdata[2]}<br>Date=%{customdata[3]}<extra></extra>",
         "hovertext": {
          "dtype": "f8",
          "bdata": "AAAAAABQeEAAAAAAAFB4QAAAAAAAUHhA"
         },
         "lat": {
          "dtype": "f8",
          "bdata": "cT0K16NQSMBcj8L1KFxIwDMzMzMzU0jA"
         },
         "legendgroup": "389",
         "lon": {
          "dtype": "f8",
          "bdata": "hetRuB6VZEBmZmZmZpZkQKRwPQrXk2RA"
         },
         "marker": {
          "color": "#636efa"
         },
         "mode": "markers",
         "name": "389",
         "showlegend": true,
         "subplot": "map",
         "type": "scattermap"
        },
        {
         "customdata": [
          [
           -33.21,
           -178.22,
           "14:43:09.6",
           "2007/10/12"
          ],
          [
           -33.03,
           -178.32,
           "08:41:45.1",
           "2007/10/16"
          ],
          [
           -33.05,
           -178.22,
           "22:06:47.9",
           "2007/10/31"
          ]
         ],
         "hovertemplate": "<b>%{hovertext}</b><br><br>Cluster=392<br>Lat=%{customdata[0]}<br>Lon=%{customdata[1]}<br>Time=%{customdata[2]}<br>Date=%{customdata[3]}<extra></extra>",
         "hovertext": {
          "dtype": "f8",
          "bdata": "AAAAAACAeEAAAAAAAIB4QAAAAAAAgHhA"
         },
         "lat": {
          "dtype": "f8",
          "bdata": "exSuR+GaQMCkcD0K14NAwGZmZmZmhkDA"
         },
         "legendgroup": "392",
         "lon": {
          "dtype": "f8",
          "bdata": "16NwPQpHZsAK16NwPUpmwNejcD0KR2bA"
         },
         "marker": {
          "color": "#EF553B"
         },
         "mode": "markers",
         "name": "392",
         "showlegend": true,
         "subplot": "map",
         "type": "scattermap"
        },
        {
         "customdata": [
          [
           -44.78,
           167.58,
           "12:29:36.0",
           "2007/10/15"
          ],
          [
           -44.79,
           167.46,
           "21:28:23.7",
           "2007/10/15"
          ],
          [
           -44.7,
           167.24,
           "16:38:47.9",
           "2007/10/16"
          ],
          [
           -45.0,
           167.41,
           "15:53:31.6",
           "2007/11/29"
          ],
          [
           -44.92,
           166.98,
           "18:41:47.5",
           "2008/01/20"
          ]
         ],
         "hovertemplate": "<b>%{hovertext}</b><br><br>Cluster=393<br>Lat=%{customdata[0]}<br>Lon=%{customdata[1]}<br>Time=%{customdata[2]}<br>Date=%{customdata[3]}<extra></extra>",
         "hovertext": {
          "dtype": "f8",
          "bdata": "AAAAAACQeEAAAAAAAJB4QAAAAAAAkHhAAAAAAACQeEAAAAAAAJB4QA=="
         },
         "lat": {
          "dtype": "f8",
          "bdata": "pHA9CtdjRsCF61G4HmVGwJqZmZmZWUbAAAAAAACARsD2KFyPwnVGwA=="
         },
         "legendgroup": "393",
         "lon": {
          "dtype": "f8",
          "bdata": "w/UoXI/yZEAfhetRuO5kQEjhehSu52RAhetRuB7tZECPwvUoXN9kQA=="
         },
         "marker": {
          "color": "#00cc96"
         },
         "mode": "markers",
         "name": "393",
         "showlegend": true,
         "subplot": "map",
         "type": "scattermap"
        },
        {
         "customdata": [
          [
           -30.03,
           -177.93,
           "15:28:28.1",
           "2007/11/20"
          ],
          [
           -30.4,
           -177.61,
           "19:16:06.7",
           "2008/01/07"
          ],
          [
           -30.22,
           -177.66,
           "19:24:58.9",
           "2008/05/19"
          ],
          [
           -30.0,
           -177.48,
           "03:03:24.7",
           "2008/10/01"
          ],
          [
           -30.24,
           -177.88,
           "01:36:30.6",
           "2008/11/25"
          ],
          [
           -30.03,
           -177.76,
           "15:49:56.9",
           "2008/12/07"
          ],
          [
           -30.2,
           -177.95,
           "14:11:48.9",
           "2009/01/18"
          ],
          [
           -30.28,
           -177.9,
           "12:49:01.8",
           "2009/04/14"
          ]
         ],
         "hovertemplate": "<b>%{hovertext}</b><br><br>Cluster=397<br>Lat=%{customdata[0]}<br>Lon=%{customdata[1]}<br>Time=%{customdata[2]}<br>Date=%{customdata[3]}<extra></extra>",
         "hovertext": {
          "dtype": "f8",
          "bdata": "AAAAAADQeEAAAAAAANB4QAAAAAAA0HhAAAAAAADQeEAAAAAAANB4QAAAAAAA0HhAAAAAAADQeEAAAAAAANB4QA=="
         },
         "lat": {
          "dtype": "f8",
          "bdata": "SOF6FK4HPsBmZmZmZmY+wLgehetROD7AAAAAAAAAPsA9CtejcD0+wEjhehSuBz7AMzMzMzMzPsBI4XoUrkc+wA=="
         },
         "legendgroup": "397",
         "lon": {
          "dtype": "f8",
          "bdata": "9ihcj8I9ZsDsUbgehTNmwIXrUbgeNWbAj8L1KFwvZsBcj8L1KDxmwLgehetROGbAZmZmZmY+ZsDNzMzMzDxmwA=="
         },
         "marker": {
          "color": "#ab63fa"
         },
         "mode": "markers",
         "name": "397",
         "showlegend": true,
         "subplot": "map",
         "type": "scattermap"
        },
        {
         "customdata": [
          [
           -39.01,
           178.29,
           "07:55:15.8",
           "2007/12/20"
          ],
          [
           -38.72,
           178.51,
           "11:12:58.8",
           "2009/04/08"
          ]
         ],
         "hovertemplate": "<b>%{hovertext}</b><br><br>Cluster=400<br>Lat=%{customdata[0]}<br>Lon=%{customdata[1]}<br>Time=%{customdata[2]}<br>Date=%{customdata[3]}<extra></extra>",
         "hovertext": {
          "dtype": "f8",
          "bdata": "AAAAAAAAeUAAAAAAAAB5QA=="
         },
         "lat": {
          "dtype": "f8",
          "bdata": "4XoUrkeBQ8Bcj8L1KFxDwA=="
         },
         "legendgroup": "400",
         "lon": {
          "dtype": "f8",
          "bdata": "4XoUrkdJZkC4HoXrUVBmQA=="
         },
         "marker": {
          "color": "#FFA15A"
         },
         "mode": "markers",
         "name": "400",
         "showlegend": true,
         "subplot": "map",
         "type": "scattermap"
        },
        {
         "customdata": [
          [
           -35.52,
           178.26,
           "09:26:09.4",
           "2008/02/19"
          ],
          [
           -35.66,
           178.2,
           "11:52:03.2",
           "2008/02/19"
          ]
         ],
         "hovertemplate": "<b>%{hovertext}</b><br><br>Cluster=401<br>Lat=%{customdata[0]}<br>Lon=%{customdata[1]}<br>Time=%{customdata[2]}<br>Date=%{customdata[3]}<extra></extra>",
         "hovertext": {
          "dtype": "f8",
          "bdata": "AAAAAAAQeUAAAAAAABB5QA=="
         },
         "lat": {
          "dtype": "f8",
          "bdata": "w/UoXI/CQcAUrkfhetRBwA=="
         },
         "legendgroup": "401",
         "lon": {
          "dtype": "f8",
          "bdata": "uB6F61FIZkBmZmZmZkZmQA=="
         },
         "marker": {
          "color": "#19d3f3"
         },
         "mode": "markers",
         "name": "401",
         "showlegend": true,
         "subplot": "map",
         "type": "scattermap"
        },
        {
         "customdata": [
          [
           -34.99,
           -179.23,
           "05:27:41.3",
           "2008/02/27"
          ],
          [
           -35.0,
           -179.24,
           "15:44:05.1",
           "2008/02/27"
          ]
         ],
         "hovertemplate": "<b>%{hovertext}</b><br><br>Cluster=403<br>Lat=%{customdata[0]}<br>Lon=%{customdata[1]}<br>Time=%{customdata[2]}<br>Date=%{customdata[3]}<extra></extra>",
         "hovertext": {
          "dtype": "f8",
          "bdata": "AAAAAAAweUAAAAAAADB5QA=="
         },
         "lat": {
          "dtype": "f8",
          "bdata": "H4XrUbh+QcAAAAAAAIBBwA=="
         },
         "legendgroup": "403",
         "lon": {
          "dtype": "f8",
          "bdata": "j8L1KFxnZsBI4XoUrmdmwA=="
         },
         "marker": {
          "color": "#FF6692"
         },
         "mode": "markers",
         "name": "403",
         "showlegend": true,
         "subplot": "map",
         "type": "scattermap"
        },
        {
         "customdata": [
          [
           -35.61,
           -179.52,
           "21:54:57.2",
           "2008/03/01"
          ],
          [
           -35.38,
           -179.3,
           "23:06:44.8",
           "2008/03/01"
          ]
         ],
         "hovertemplate": "<b>%{hovertext}</b><br><br>Cluster=404<br>Lat=%{customdata[0]}<br>Lon=%{customdata[1]}<br>Time=%{customdata[2]}<br>Date=%{customdata[3]}<extra></extra>",
         "hovertext": {
          "dtype": "f8",
          "bdata": "AAAAAABAeUAAAAAAAEB5QA=="
         },
         "lat": {
          "dtype": "f8",
          "bdata": "rkfhehTOQcBxPQrXo7BBwA=="
         },
         "legendgroup": "404",
         "lon": {
          "dtype": "f8",
          "bdata": "cT0K16NwZsCamZmZmWlmwA=="
         },
         "marker": {
          "color": "#B6E880"
         },
         "mode": "markers",
         "name": "404",
         "showlegend": true,
         "subplot": "map",
         "type": "scattermap"
        },
        {
         "customdata": [
          [
           -31.13,
           -178.51,
           "17:09:19.1",
           "2008/07/16"
          ],
          [
           -30.72,
           -178.62,
           "03:30:53.3",
           "2009/02/17"
          ],
          [
           -31.4,
           -178.56,
           "14:37:53.8",
           "2009/04/03"
          ],
          [
           -31.52,
           -178.79,
           "00:53:52.7",
           "2009/05/16"
          ],
          [
           -30.81,
           -178.27,
           "03:00:05.5",
           "2010/07/11"
          ],
          [
           -30.82,
           -178.04,
           "09:54:30.7",
           "2010/09/06"
          ]
         ],
         "hovertemplate": "<b>%{hovertext}</b><br><br>Cluster=413<br>Lat=%{customdata[0]}<br>Lon=%{customdata[1]}<br>Time=%{customdata[2]}<br>Date=%{customdata[3]}<extra></extra>",
         "hovertext": {
          "dtype": "f8",
          "bdata": "AAAAAADQeUAAAAAAANB5QAAAAAAA0HlAAAAAAADQeUAAAAAAANB5QAAAAAAA0HlA"
         },
         "lat": {
          "dtype": "f8",
          "bdata": "4XoUrkchP8C4HoXrUbg+wGZmZmZmZj/AhetRuB6FP8CPwvUoXM8+wFK4HoXr0T7A"
         },
         "legendgroup": "413",
         "lon": {
          "dtype": "f8",
          "bdata": "uB6F61FQZsCkcD0K11NmwFK4HoXrUWbA4XoUrkdZZsBxPQrXo0hmwOF6FK5HQWbA"
         },
         "marker": {
          "color": "#FF97FF"
         },
         "mode": "markers",
         "name": "413",
         "showlegend": true,
         "subplot": "map",
         "type": "scattermap"
        },
        {
         "customdata": [
          [
           -31.56,
           -177.81,
           "16:09:51.3",
           "2008/09/04"
          ],
          [
           -31.16,
           -177.57,
           "14:09:49.3",
           "2008/10/05"
          ],
          [
           -31.23,
           -178.11,
           "18:54:28.2",
           "2009/02/12"
          ],
          [
           -31.67,
           -177.61,
           "05:37:35.1",
           "2009/04/24"
          ],
          [
           -31.22,
           -177.75,
           "12:43:52.9",
           "2009/05/20"
          ],
          [
           -31.48,
           -177.68,
           "00:58:02.1",
           "2009/05/24"
          ],
          [
           -31.41,
           -177.62,
           "02:00:13.3",
           "2009/05/24"
          ],
          [
           -31.36,
           -177.75,
           "03:21:49.5",
           "2009/05/24"
          ],
          [
           -31.59,
           -177.84,
           "12:36:38.5",
           "2009/12/16"
          ],
          [
           -31.73,
           -177.61,
           "10:14:03.0",
           "2010/01/15"
          ],
          [
           -31.71,
           -177.51,
           "10:38:36.6",
           "2010/01/15"
          ]
         ],
         "hovertemplate": "<b>%{hovertext}</b><br><br>Cluster=418<br>Lat=%{customdata[0]}<br>Lon=%{customdata[1]}<br>Time=%{customdata[2]}<br>Date=%{customdata[3]}<extra></extra>",
         "hovertext": {
          "dtype": "f8",
          "bdata": "AAAAAAAgekAAAAAAACB6QAAAAAAAIHpAAAAAAAAgekAAAAAAACB6QAAAAAAAIHpAAAAAAAAgekAAAAAAACB6QAAAAAAAIHpAAAAAAAAgekAAAAAAACB6QA=="
         },
         "lat": {
          "dtype": "f8",
          "bdata": "j8L1KFyPP8ApXI/C9Sg/wHsUrkfhOj/A7FG4HoWrP8C4HoXrUTg/wHsUrkfhej/AKVyPwvVoP8Bcj8L1KFw/wNejcD0Klz/AexSuR+G6P8D2KFyPwrU/wA=="
         },
         "legendgroup": "418",
         "lon": {
          "dtype": "f8",
          "bdata": "Urgehes5ZsAK16NwPTJmwOxRuB6FQ2bA7FG4HoUzZsAAAAAAADhmwPYoXI/CNWbApHA9CtczZsAAAAAAADhmwHsUrkfhOmbA7FG4HoUzZsC4HoXrUTBmwA=="
         },
         "marker": {
          "color": "#FECB52"
         },
         "mode": "markers",
         "name": "418",
         "showlegend": true,
         "subplot": "map",
         "type": "scattermap"
        },
        {
         "customdata": [
          [
           -42.2,
           173.98,
           "22:40:41.9",
           "2008/09/24"
          ],
          [
           -42.21,
           173.8,
           "07:23:03.5",
           "2008/09/26"
          ]
         ],
         "hovertemplate": "<b>%{hovertext}</b><br><br>Cluster=419<br>Lat=%{customdata[0]}<br>Lon=%{customdata[1]}<br>Time=%{customdata[2]}<br>Date=%{customdata[3]}<extra></extra>",
         "hovertext": {
          "dtype": "f8",
          "bdata": "AAAAAAAwekAAAAAAADB6QA=="
         },
         "lat": {
          "dtype": "f8",
          "bdata": "mpmZmZkZRcB7FK5H4RpFwA=="
         },
         "legendgroup": "419",
         "lon": {
          "dtype": "f8",
          "bdata": "j8L1KFy/ZUCamZmZmbllQA=="
         },
         "marker": {
          "color": "#636efa"
         },
         "mode": "markers",
         "name": "419",
         "showlegend": true,
         "subplot": "map",
         "type": "scattermap"
        },
        {
         "customdata": [
          [
           -30.78,
           -178.13,
           "13:03:08.8",
           "2008/10/02"
          ],
          [
           -31.05,
           -177.79,
           "06:10:33.3",
           "2008/12/20"
          ],
          [
           -30.71,
           -178.2,
           "02:17:50.0",
           "2009/02/13"
          ]
         ],
         "hovertemplate": "<b>%{hovertext}</b><br><br>Cluster=420<br>Lat=%{customdata[0]}<br>Lon=%{customdata[1]}<br>Time=%{customdata[2]}<br>Date=%{customdata[3]}<extra></extra>",
         "hovertext": {
          "dtype": "f8",
          "bdata": "AAAAAABAekAAAAAAAEB6QAAAAAAAQHpA"
         },
         "lat": {
          "dtype": "f8",
          "bdata": "SOF6FK7HPsDNzMzMzAw/wPYoXI/CtT7A"
         },
         "legendgroup": "420",
         "lon": {
          "dtype": "f8",
          "bdata": "XI/C9ShEZsDhehSuRzlmwGZmZmZmRmbA"
         },
         "marker": {
          "color": "#EF553B"
         },
         "mode": "markers",
         "name": "420",
         "showlegend": true,
         "subplot": "map",
         "type": "scattermap"
        },
        {
         "customdata": [
          [
           -30.43,
           -177.25,
           "14:50:30.7",
           "2008/10/04"
          ],
          [
           -30.18,
           -177.18,
           "09:12:36.1",
           "2008/10/05"
          ],
          [
           -30.61,
           -176.93,
           "10:44:60.0",
           "2008/10/05"
          ],
          [
           -30.27,
           -176.95,
           "02:01:05.9",
           "2008/10/06"
          ],
          [
           -30.22,
           -177.77,
           "21:27:58.1",
           "2009/01/23"
          ],
          [
           -30.28,
           -177.77,
           "18:08:30.3",
           "2009/03/15"
          ]
         ],
         "hovertemplate": "<b>%{hovertext}</b><br><br>Cluster=421<br>Lat=%{customdata[0]}<br>Lon=%{customdata[1]}<br>Time=%{customdata[2]}<br>Date=%{customdata[3]}<extra></extra>",
         "hovertext": {
          "dtype": "f8",
          "bdata": "AAAAAABQekAAAAAAAFB6QAAAAAAAUHpAAAAAAABQekAAAAAAAFB6QAAAAAAAUHpA"
         },
         "lat": {
          "dtype": "f8",
          "bdata": "rkfhehRuPsCuR+F6FC4+wFyPwvUonD7AhetRuB5FPsC4HoXrUTg+wEjhehSuRz7A"
         },
         "legendgroup": "421",
         "lon": {
          "dtype": "f8",
          "bdata": "AAAAAAAoZsD2KFyPwiVmwPYoXI/CHWbAZmZmZmYeZsBxPQrXozhmwHE9CtejOGbA"
         },
         "marker": {
          "color": "#00cc96"
         },
         "mode": "markers",
         "name": "421",
         "showlegend": true,
         "subplot": "map",
         "type": "scattermap"
        },
        {
         "customdata": [
          [
           -31.23,
           -176.92,
           "06:23:59.8",
           "2008/12/09"
          ],
          [
           -31.07,
           -176.81,
           "11:55:29.6",
           "2008/12/12"
          ],
          [
           -31.01,
           -176.74,
           "15:58:16.2",
           "2008/12/12"
          ],
          [
           -30.99,
           -177.54,
           "14:07:02.0",
           "2009/09/25"
          ],
          [
           -31.25,
           -176.98,
           "01:35:38.0",
           "2010/04/03"
          ],
          [
           -31.43,
           -177.1,
           "11:25:51.2",
           "2011/04/06"
          ]
         ],
         "hovertemplate": "<b>%{hovertext}</b><br><br>Cluster=424<br>Lat=%{customdata[0]}<br>Lon=%{customdata[1]}<br>Time=%{customdata[2]}<br>Date=%{customdata[3]}<extra></extra>",
         "hovertext": {
          "dtype": "f8",
          "bdata": "AAAAAACAekAAAAAAAIB6QAAAAAAAgHpAAAAAAACAekAAAAAAAIB6QAAAAAAAgHpA"
         },
         "lat": {
          "dtype": "f8",
          "bdata": "exSuR+E6P8BSuB6F6xE/wMP1KFyPAj/APQrXo3D9PsAAAAAAAEA/wK5H4XoUbj/A"
         },
         "legendgroup": "424",
         "lon": {
          "dtype": "f8",
          "bdata": "PQrXo3AdZsBSuB6F6xlmwEjhehSuF2bA4XoUrkcxZsCPwvUoXB9mwDMzMzMzI2bA"
         },
         "marker": {
          "color": "#ab63fa"
         },
         "mode": "markers",
         "name": "424",
         "showlegend": true,
         "subplot": "map",
         "type": "scattermap"
        },
        {
         "customdata": [
          [
           -36.91,
           177.73,
           "20:33:57.6",
           "2008/12/17"
          ],
          [
           -37.01,
           177.69,
           "17:38:58.0",
           "2009/03/14"
          ]
         ],
         "hovertemplate": "<b>%{hovertext}</b><br><br>Cluster=425<br>Lat=%{customdata[0]}<br>Lon=%{customdata[1]}<br>Time=%{customdata[2]}<br>Date=%{customdata[3]}<extra></extra>",
         "hovertext": {
          "dtype": "f8",
          "bdata": "AAAAAACQekAAAAAAAJB6QA=="
         },
         "lat": {
          "dtype": "f8",
          "bdata": "FK5H4Xp0QsDhehSuR4FCwA=="
         },
         "legendgroup": "425",
         "lon": {
          "dtype": "f8",
          "bdata": "j8L1KFw3ZkCuR+F6FDZmQA=="
         },
         "marker": {
          "color": "#FFA15A"
         },
         "mode": "markers",
         "name": "425",
         "showlegend": true,
         "subplot": "map",
         "type": "scattermap"
        },
        {
         "customdata": [
          [
           -30.3,
           -178.58,
           "00:06:53.2",
           "2009/04/26"
          ],
          [
           -30.08,
           -178.57,
           "14:01:21.0",
           "2009/05/03"
          ]
         ],
         "hovertemplate": "<b>%{hovertext}</b><br><br>Cluster=430<br>Lat=%{customdata[0]}<br>Lon=%{customdata[1]}<br>Time=%{customdata[2]}<br>Date=%{customdata[3]}<extra></extra>",
         "hovertext": {
          "dtype": "f8",
          "bdata": "AAAAAADgekAAAAAAAOB6QA=="
         },
         "lat": {
          "dtype": "f8",
          "bdata": "zczMzMxMPsAUrkfhehQ+wA=="
         },
         "legendgroup": "430",
         "lon": {
          "dtype": "f8",
          "bdata": "w/UoXI9SZsAK16NwPVJmwA=="
         },
         "marker": {
          "color": "#19d3f3"
         },
         "mode": "markers",
         "name": "430",
         "showlegend": true,
         "subplot": "map",
         "type": "scattermap"
        },
        {
         "customdata": [
          [
           -45.76,
           166.56,
           "09:22:29.0",
           "2009/07/15"
          ],
          [
           -46.29,
           165.87,
           "00:44:46.5",
           "2009/07/16"
          ],
          [
           -45.49,
           166.54,
           "17:27:40.9",
           "2009/07/16"
          ],
          [
           -46.2,
           166.13,
           "22:18:23.5",
           "2009/07/16"
          ],
          [
           -45.43,
           166.54,
           "06:39:24.0",
           "2009/07/17"
          ],
          [
           -45.57,
           166.65,
           "15:33:46.6",
           "2009/07/18"
          ],
          [
           -45.38,
           166.1,
           "05:11:32.8",
           "2009/07/19"
          ],
          [
           -45.54,
           166.29,
           "08:48:45.9",
           "2009/07/19"
          ],
          [
           -46.25,
           165.96,
           "20:43:00.9",
           "2009/07/29"
          ],
          [
           -45.55,
           166.36,
           "08:31:40.5",
           "2009/08/05"
          ],
          [
           -45.83,
           166.04,
           "16:56:42.1",
           "2009/08/17"
          ],
          [
           -46.21,
           166.14,
           "04:57:24.0",
           "2009/08/25"
          ],
          [
           -46.07,
           166.18,
           "04:38:37.8",
           "2010/02/25"
          ],
          [
           -46.03,
           166.07,
           "21:29:24.0",
           "2010/03/18"
          ]
         ],
         "hovertemplate": "<b>%{hovertext}</b><br><br>Cluster=433<br>Lat=%{customdata[0]}<br>Lon=%{customdata[1]}<br>Time=%{customdata[2]}<br>Date=%{customdata[3]}<extra></extra>",
         "hovertext": {
          "dtype": "f8",
          "bdata": "AAAAAAAQe0AAAAAAABB7QAAAAAAAEHtAAAAAAAAQe0AAAAAAABB7QAAAAAAAEHtAAAAAAAAQe0AAAAAAABB7QAAAAAAAEHtAAAAAAAAQe0AAAAAAABB7QAAAAAAAEHtAAAAAAAAQe0AAAAAAABB7QA=="
         },
         "lat": {
          "dtype": "f8",
          "bdata": "4XoUrkfhRsCF61G4HiVHwB+F61G4vkbAmpmZmZkZR8DXo3A9CrdGwClcj8L1yEbAcT0K16OwRsCF61G4HsVGwAAAAAAAIEfAZmZmZmbGRsAK16NwPepGwHsUrkfhGkfAKVyPwvUIR8CkcD0K1wNHwA=="
         },
         "legendgroup": "433",
         "lon": {
          "dtype": "f8",
          "bdata": "UrgehevRZECkcD0K17tkQOF6FK5H0WRAXI/C9SjEZEDhehSuR9FkQM3MzMzM1GRAMzMzMzPDZEDhehSuR8lkQB+F61G4vmRA7FG4HoXLZEDhehSuR8FkQBSuR+F6xGRA9ihcj8LFZEAK16NwPcJkQA=="
         },
         "marker": {
          "color": "#FF6692"
         },
         "mode": "markers",
         "name": "433",
         "showlegend": true,
         "subplot": "map",
         "type": "scattermap"
        },
        {
         "customdata": [
          [
           -33.17,
           179.83,
           "21:47:16.2",
           "2009/10/11"
          ],
          [
           -32.94,
           179.82,
           "14:08:27.5",
           "2010/01/25"
          ]
         ],
         "hovertemplate": "<b>%{hovertext}</b><br><br>Cluster=438<br>Lat=%{customdata[0]}<br>Lon=%{customdata[1]}<br>Time=%{customdata[2]}<br>Date=%{customdata[3]}<extra></extra>",
         "hovertext": {
          "dtype": "f8",
          "bdata": "AAAAAABge0AAAAAAAGB7QA=="
         },
         "lat": {
          "dtype": "f8",
          "bdata": "9ihcj8KVQMC4HoXrUXhAwA=="
         },
         "legendgroup": "438",
         "lon": {
          "dtype": "f8",
          "bdata": "w/UoXI96ZkAK16NwPXpmQA=="
         },
         "marker": {
          "color": "#B6E880"
         },
         "mode": "markers",
         "name": "438",
         "showlegend": true,
         "subplot": "map",
         "type": "scattermap"
        },
        {
         "customdata": [
          [
           -31.57,
           179.47,
           "22:47:27.5",
           "2009/11/22"
          ],
          [
           -31.52,
           179.74,
           "07:25:03.4",
           "2010/08/01"
          ]
         ],
         "hovertemplate": "<b>%{hovertext}</b><br><br>Cluster=440<br>Lat=%{customdata[0]}<br>Lon=%{customdata[1]}<br>Time=%{customdata[2]}<br>Date=%{customdata[3]}<extra></extra>",
         "hovertext": {
          "dtype": "f8",
          "bdata": "AAAAAACAe0AAAAAAAIB7QA=="
         },
         "lat": {
          "dtype": "f8",
          "bdata": "UrgeheuRP8CF61G4HoU/wA=="
         },
         "legendgroup": "440",
         "lon": {
          "dtype": "f8",
          "bdata": "16NwPQpvZkBI4XoUrndmQA=="
         },
         "marker": {
          "color": "#FF97FF"
         },
         "mode": "markers",
         "name": "440",
         "showlegend": true,
         "subplot": "map",
         "type": "scattermap"
        },
        {
         "customdata": [
          [
           -48.62,
           164.85,
           "06:24:16.7",
           "2010/03/18"
          ],
          [
           -48.73,
           164.67,
           "06:28:50.3",
           "2010/03/18"
          ],
          [
           -48.52,
           164.9,
           "06:42:08.8",
           "2010/03/18"
          ]
         ],
         "hovertemplate": "<b>%{hovertext}</b><br><br>Cluster=443<br>Lat=%{customdata[0]}<br>Lon=%{customdata[1]}<br>Time=%{customdata[2]}<br>Date=%{customdata[3]}<extra></extra>",
         "hovertext": {
          "dtype": "f8",
          "bdata": "AAAAAACwe0AAAAAAALB7QAAAAAAAsHtA"
         },
         "lat": {
          "dtype": "f8",
          "bdata": "j8L1KFxPSMA9CtejcF1IwMP1KFyPQkjA"
         },
         "legendgroup": "443",
         "lon": {
          "dtype": "f8",
          "bdata": "MzMzMzObZEA9CtejcJVkQM3MzMzMnGRA"
         },
         "marker": {
          "color": "#FECB52"
         },
         "mode": "markers",
         "name": "443",
         "showlegend": true,
         "subplot": "map",
         "type": "scattermap"
        },
        {
         "customdata": [
          [
           -30.04,
           -177.23,
           "10:43:57.5",
           "2010/08/17"
          ],
          [
           -30.12,
           -177.19,
           "21:16:41.5",
           "2010/11/12"
          ]
         ],
         "hovertemplate": "<b>%{hovertext}</b><br><br>Cluster=450<br>Lat=%{customdata[0]}<br>Lon=%{customdata[1]}<br>Time=%{customdata[2]}<br>Date=%{customdata[3]}<extra></extra>",
         "hovertext": {
          "dtype": "f8",
          "bdata": "AAAAAAAgfEAAAAAAACB8QA=="
         },
         "lat": {
          "dtype": "f8",
          "bdata": "CtejcD0KPsAfhetRuB4+wA=="
         },
         "legendgroup": "450",
         "lon": {
          "dtype": "f8",
          "bdata": "j8L1KFwnZsCuR+F6FCZmwA=="
         },
         "marker": {
          "color": "#636efa"
         },
         "mode": "markers",
         "name": "450",
         "showlegend": true,
         "subplot": "map",
         "type": "scattermap"
        },
        {
         "customdata": [
          [
           -43.53,
           171.81,
           "16:35:47.8",
           "2010/09/03"
          ],
          [
           -43.57,
           172.39,
           "11:24:01.6",
           "2010/09/06"
          ],
          [
           -43.59,
           171.89,
           "11:40:50.3",
           "2010/09/06"
          ],
          [
           -43.6,
           172.71,
           "23:51:43.0",
           "2011/02/21"
          ],
          [
           -43.59,
           172.65,
           "00:04:19.4",
           "2011/02/22"
          ],
          [
           -43.6,
           172.62,
           "01:50:29.7",
           "2011/02/22"
          ]
         ],
         "hovertemplate": "<b>%{hovertext}</b><br><br>Cluster=451<br>Lat=%{customdata[0]}<br>Lon=%{customdata[1]}<br>Time=%{customdata[2]}<br>Date=%{customdata[3]}<extra></extra>",
         "hovertext": {
          "dtype": "f8",
          "bdata": "AAAAAAAwfEAAAAAAADB8QAAAAAAAMHxAAAAAAAAwfEAAAAAAADB8QAAAAAAAMHxA"
         },
         "lat": {
          "dtype": "f8",
          "bdata": "pHA9CtfDRcApXI/C9chFwOxRuB6Fy0XAzczMzMzMRcDsUbgehctFwM3MzMzMzEXA"
         },
         "legendgroup": "451",
         "lon": {
          "dtype": "f8",
          "bdata": "Urgehet5ZUAUrkfheoxlQBSuR+F6fGVAH4XrUbiWZUDNzMzMzJRlQKRwPQrXk2VA"
         },
         "marker": {
          "color": "#EF553B"
         },
         "mode": "markers",
         "name": "451",
         "showlegend": true,
         "subplot": "map",
         "type": "scattermap"
        },
        {
         "customdata": [
          [
           -30.13,
           -177.98,
           "00:06:01.6",
           "2010/10/04"
          ],
          [
           -30.36,
           -178.02,
           "02:10:23.6",
           "2010/12/16"
          ],
          [
           -30.06,
           -177.95,
           "13:18:10.2",
           "2011/01/25"
          ],
          [
           -30.42,
           -178.05,
           "20:16:28.3",
           "2011/06/09"
          ]
         ],
         "hovertemplate": "<b>%{hovertext}</b><br><br>Cluster=454<br>Lat=%{customdata[0]}<br>Lon=%{customdata[1]}<br>Time=%{customdata[2]}<br>Date=%{customdata[3]}<extra></extra>",
         "hovertext": {
          "dtype": "f8",
          "bdata": "AAAAAABgfEAAAAAAAGB8QAAAAAAAYHxAAAAAAABgfEA="
         },
         "lat": {
          "dtype": "f8",
          "bdata": "4XoUrkchPsBcj8L1KFw+wI/C9ShcDz7A7FG4HoVrPsA="
         },
         "legendgroup": "454",
         "lon": {
          "dtype": "f8",
          "bdata": "j8L1KFw/ZsBxPQrXo0BmwGZmZmZmPmbAmpmZmZlBZsA="
         },
         "marker": {
          "color": "#00cc96"
         },
         "mode": "markers",
         "name": "454",
         "showlegend": true,
         "subplot": "map",
         "type": "scattermap"
        },
        {
         "customdata": [
          [
           -33.4,
           -178.73,
           "11:50:31.2",
           "2010/10/21"
          ],
          [
           -33.62,
           -178.92,
           "16:18:43.4",
           "2010/11/22"
          ],
          [
           -33.05,
           -178.53,
           "05:45:17.3",
           "2011/04/14"
          ],
          [
           -33.08,
           -178.9,
           "13:39:10.3",
           "2011/06/27"
          ],
          [
           -33.73,
           -178.67,
           "13:47:02.4",
           "2011/07/07"
          ],
          [
           -33.7,
           -178.88,
           "14:53:52.5",
           "2011/07/07"
          ],
          [
           -33.17,
           -179.02,
           "13:37:14.8",
           "2011/12/21"
          ]
         ],
         "hovertemplate": "<b>%{hovertext}</b><br><br>Cluster=455<br>Lat=%{customdata[0]}<br>Lon=%{customdata[1]}<br>Time=%{customdata[2]}<br>Date=%{customdata[3]}<extra></extra>",
         "hovertext": {
          "dtype": "f8",
          "bdata": "AAAAAABwfEAAAAAAAHB8QAAAAAAAcHxAAAAAAABwfEAAAAAAAHB8QAAAAAAAcHxAAAAAAABwfEA="
         },
         "lat": {
          "dtype": "f8",
          "bdata": "MzMzMzOzQMCPwvUoXM9AwGZmZmZmhkDACtejcD2KQMA9CtejcN1AwJqZmZmZ2UDA9ihcj8KVQMA="
         },
         "legendgroup": "455",
         "lon": {
          "dtype": "f8",
          "bdata": "j8L1KFxXZsA9CtejcF1mwClcj8L1UGbAzczMzMxcZsA9CtejcFVmwFyPwvUoXGbAcT0K16NgZsA="
         },
         "marker": {
          "color": "#ab63fa"
         },
         "mode": "markers",
         "name": "455",
         "showlegend": true,
         "subplot": "map",
         "type": "scattermap"
        },
        {
         "customdata": [
          [
           -32.3,
           -179.54,
           "09:18:48.2",
           "2010/12/08"
          ],
          [
           -32.34,
           -179.57,
           "01:16:18.8",
           "2010/12/14"
          ],
          [
           -32.4,
           -179.56,
           "23:01:17.0",
           "2011/03/23"
          ]
         ],
         "hovertemplate": "<b>%{hovertext}</b><br><br>Cluster=457<br>Lat=%{customdata[0]}<br>Lon=%{customdata[1]}<br>Time=%{customdata[2]}<br>Date=%{customdata[3]}<extra></extra>",
         "hovertext": {
          "dtype": "f8",
          "bdata": "AAAAAACQfEAAAAAAAJB8QAAAAAAAkHxA"
         },
         "lat": {
          "dtype": "f8",
          "bdata": "ZmZmZmYmQMDsUbgehStAwDMzMzMzM0DA"
         },
         "legendgroup": "457",
         "lon": {
          "dtype": "f8",
          "bdata": "4XoUrkdxZsAK16NwPXJmwFK4HoXrcWbA"
         },
         "marker": {
          "color": "#FFA15A"
         },
         "mode": "markers",
         "name": "457",
         "showlegend": true,
         "subplot": "map",
         "type": "scattermap"
        },
        {
         "customdata": [
          [
           -30.99,
           -177.78,
           "11:09:24.9",
           "2010/12/08"
          ],
          [
           -31.09,
           -177.66,
           "21:23:28.6",
           "2011/02/09"
          ],
          [
           -31.24,
           -177.81,
           "03:03:04.3",
           "2011/02/12"
          ],
          [
           -30.82,
           -178.17,
           "21:17:02.4",
           "2011/05/21"
          ]
         ],
         "hovertemplate": "<b>%{hovertext}</b><br><br>Cluster=458<br>Lat=%{customdata[0]}<br>Lon=%{customdata[1]}<br>Time=%{customdata[2]}<br>Date=%{customdata[3]}<extra></extra>",
         "hovertext": {
          "dtype": "f8",
          "bdata": "AAAAAACgfEAAAAAAAKB8QAAAAAAAoHxAAAAAAACgfEA="
         },
         "lat": {
          "dtype": "f8",
          "bdata": "PQrXo3D9PsDXo3A9Chc/wD0K16NwPT/AUrgehevRPsA="
         },
         "legendgroup": "458",
         "lon": {
          "dtype": "f8",
          "bdata": "KVyPwvU4ZsCF61G4HjVmwFK4HoXrOWbAPQrXo3BFZsA="
         },
         "marker": {
          "color": "#19d3f3"
         },
         "mode": "markers",
         "name": "458",
         "showlegend": true,
         "subplot": "map",
         "type": "scattermap"
        },
        {
         "customdata": [
          [
           -31.83,
           -178.13,
           "23:47:03.9",
           "2010/12/30"
          ],
          [
           -31.96,
           -177.94,
           "19:21:42.3",
           "2011/06/01"
          ]
         ],
         "hovertemplate": "<b>%{hovertext}</b><br><br>Cluster=459<br>Lat=%{customdata[0]}<br>Lon=%{customdata[1]}<br>Time=%{customdata[2]}<br>Date=%{customdata[3]}<extra></extra>",
         "hovertext": {
          "dtype": "f8",
          "bdata": "AAAAAACwfEAAAAAAALB8QA=="
         },
         "lat": {
          "dtype": "f8",
          "bdata": "FK5H4XrUP8D2KFyPwvU/wA=="
         },
         "legendgroup": "459",
         "lon": {
          "dtype": "f8",
          "bdata": "XI/C9ShEZsCuR+F6FD5mwA=="
         },
         "marker": {
          "color": "#FF6692"
         },
         "mode": "markers",
         "name": "459",
         "showlegend": true,
         "subplot": "map",
         "type": "scattermap"
        },
        {
         "customdata": [
          [
           -49.35,
           163.83,
           "06:48:58.8",
           "2011/01/14"
          ],
          [
           -49.64,
           164.0,
           "12:32:24.5",
           "2011/03/04"
          ],
          [
           -49.54,
           163.79,
           "15:46:12.6",
           "2011/03/04"
          ]
         ],
         "hovertemplate": "<b>%{hovertext}</b><br><br>Cluster=461<br>Lat=%{customdata[0]}<br>Lon=%{customdata[1]}<br>Time=%{customdata[2]}<br>Date=%{customdata[3]}<extra></extra>",
         "hovertext": {
          "dtype": "f8",
          "bdata": "AAAAAADQfEAAAAAAANB8QAAAAAAA0HxA"
         },
         "lat": {
          "dtype": "f8",
          "bdata": "zczMzMysSMBSuB6F69FIwIXrUbgexUjA"
         },
         "legendgroup": "461",
         "lon": {
          "dtype": "f8",
          "bdata": "w/UoXI96ZEAAAAAAAIBkQOF6FK5HeWRA"
         },
         "marker": {
          "color": "#B6E880"
         },
         "mode": "markers",
         "name": "461",
         "showlegend": true,
         "subplot": "map",
         "type": "scattermap"
        },
        {
         "customdata": [
          [
           -38.5,
           176.0,
           "15:02:46.3",
           "2011/01/27"
          ],
          [
           -38.67,
           175.75,
           "03:36:25.1",
           "2011/07/05"
          ]
         ],
         "hovertemplate": "<b>%{hovertext}</b><br><br>Cluster=463<br>Lat=%{customdata[0]}<br>Lon=%{customdata[1]}<br>Time=%{customdata[2]}<br>Date=%{customdata[3]}<extra></extra>",
         "hovertext": {
          "dtype": "f8",
          "bdata": "AAAAAADwfEAAAAAAAPB8QA=="
         },
         "lat": {
          "dtype": "f8",
          "bdata": "AAAAAABAQ8D2KFyPwlVDwA=="
         },
         "legendgroup": "463",
         "lon": {
          "dtype": "f8",
          "bdata": "AAAAAAAAZkAAAAAAAPhlQA=="
         },
         "marker": {
          "color": "#FF97FF"
         },
         "mode": "markers",
         "name": "463",
         "showlegend": true,
         "subplot": "map",
         "type": "scattermap"
        },
        {
         "customdata": [
          [
           -31.09,
           -178.67,
           "23:45:00.4",
           "2011/03/06"
          ],
          [
           -31.27,
           -178.29,
           "13:29:36.5",
           "2011/07/31"
          ]
         ],
         "hovertemplate": "<b>%{hovertext}</b><br><br>Cluster=464<br>Lat=%{customdata[0]}<br>Lon=%{customdata[1]}<br>Time=%{customdata[2]}<br>Date=%{customdata[3]}<extra></extra>",
         "hovertext": {
          "dtype": "f8",
          "bdata": "AAAAAAAAfUAAAAAAAAB9QA=="
         },
         "lat": {
          "dtype": "f8",
          "bdata": "16NwPQoXP8CF61G4HkU/wA=="
         },
         "legendgroup": "464",
         "lon": {
          "dtype": "f8",
          "bdata": "PQrXo3BVZsDhehSuR0lmwA=="
         },
         "marker": {
          "color": "#FECB52"
         },
         "mode": "markers",
         "name": "464",
         "showlegend": true,
         "subplot": "map",
         "type": "scattermap"
        },
        {
         "customdata": [
          [
           -43.61,
           172.79,
           "05:49:22.2",
           "2011/04/16"
          ],
          [
           -43.58,
           172.33,
           "15:04:23.2",
           "2011/05/09"
          ],
          [
           -43.58,
           172.39,
           "21:09:55.3",
           "2011/06/05"
          ],
          [
           -43.58,
           172.76,
           "01:01:00.3",
           "2011/06/13"
          ],
          [
           -43.56,
           172.74,
           "02:20:49.3",
           "2011/06/13"
          ],
          [
           -43.64,
           172.93,
           "18:27:26.8",
           "2011/06/14"
          ],
          [
           -43.6,
           172.52,
           "10:34:23.0",
           "2011/06/21"
          ],
          [
           -43.65,
           173.03,
           "07:34:38.2",
           "2011/10/09"
          ],
          [
           -43.52,
           172.97,
           "00:58:37.1",
           "2011/12/23"
          ],
          [
           -43.47,
           172.84,
           "01:06:25.6",
           "2011/12/23"
          ],
          [
           -43.49,
           172.86,
           "02:18:02.4",
           "2011/12/23"
          ],
          [
           -43.67,
           172.84,
           "17:37:30.4",
           "2011/12/23"
          ],
          [
           -43.48,
           172.88,
           "16:45:05.0",
           "2012/01/01"
          ],
          [
           -43.51,
           172.82,
           "12:21:37.1",
           "2012/01/06"
          ],
          [
           -43.47,
           172.81,
           "02:44:50.5",
           "2012/05/25"
          ]
         ],
         "hovertemplate": "<b>%{hovertext}</b><br><br>Cluster=467<br>Lat=%{customdata[0]}<br>Lon=%{customdata[1]}<br>Time=%{customdata[2]}<br>Date=%{customdata[3]}<extra></extra>",
         "hovertext": {
          "dtype": "f8",
          "bdata": "AAAAAAAwfUAAAAAAADB9QAAAAAAAMH1AAAAAAAAwfUAAAAAAADB9QAAAAAAAMH1AAAAAAAAwfUAAAAAAADB9QAAAAAAAMH1AAAAAAAAwfUAAAAAAADB9QAAAAAAAMH1AAAAAAAAwfUAAAAAAADB9QAAAAAAAMH1A"
         },
         "lat": {
          "dtype": "f8",
          "bdata": "rkfhehTORcAK16NwPcpFwArXo3A9ykXACtejcD3KRcBI4XoUrsdFwFK4HoXr0UXAzczMzMzMRcAzMzMzM9NFwMP1KFyPwkXAXI/C9Si8RcAfhetRuL5FwPYoXI/C1UXAPQrXo3C9RcDhehSuR8FFwFyPwvUovEXA"
         },
         "legendgroup": "467",
         "lon": {
          "dtype": "f8",
          "bdata": "4XoUrkeZZUDD9Shcj4plQBSuR+F6jGVAuB6F61GYZUBI4XoUrpdlQPYoXI/CnWVAcT0K16OQZUApXI/C9aBlQNejcD0Kn2VAexSuR+GaZUDsUbgehZtlQHsUrkfhmmVAXI/C9SicZUAK16NwPZplQFK4HoXrmWVA"
         },
         "marker": {
          "color": "#636efa"
         },
         "mode": "markers",
         "name": "467",
         "showlegend": true,
         "subplot": "map",
         "type": "scattermap"
        },
        {
         "customdata": [
          [
           -34.34,
           179.87,
           "13:03:02.7",
           "2011/04/18"
          ],
          [
           -34.25,
           179.75,
           "07:10:40.0",
           "2011/09/06"
          ],
          [
           -34.21,
           179.54,
           "10:51:37.3",
           "2011/09/06"
          ],
          [
           -34.13,
           179.5,
           "13:10:22.8",
           "2011/09/06"
          ],
          [
           -34.21,
           179.46,
           "07:14:47.6",
           "2012/02/09"
          ]
         ],
         "hovertemplate": "<b>%{hovertext}</b><br><br>Cluster=468<br>Lat=%{customdata[0]}<br>Lon=%{customdata[1]}<br>Time=%{customdata[2]}<br>Date=%{customdata[3]}<extra></extra>",
         "hovertext": {
          "dtype": "f8",
          "bdata": "AAAAAABAfUAAAAAAAEB9QAAAAAAAQH1AAAAAAABAfUAAAAAAAEB9QA=="
         },
         "lat": {
          "dtype": "f8",
          "bdata": "7FG4HoUrQcAAAAAAACBBwHsUrkfhGkHAcT0K16MQQcB7FK5H4RpBwA=="
         },
         "legendgroup": "468",
         "lon": {
          "dtype": "f8",
          "bdata": "pHA9Ctd7ZkAAAAAAAHhmQOF6FK5HcWZAAAAAAABwZkAfhetRuG5mQA=="
         },
         "marker": {
          "color": "#EF553B"
         },
         "mode": "markers",
         "name": "468",
         "showlegend": true,
         "subplot": "map",
         "type": "scattermap"
        },
        {
         "customdata": [
          [
           -30.53,
           -177.71,
           "11:47:25.0",
           "2011/06/21"
          ],
          [
           -30.72,
           -177.82,
           "02:20:35.7",
           "2011/07/19"
          ],
          [
           -30.55,
           -177.93,
           "07:14:47.6",
           "2011/08/13"
          ],
          [
           -30.77,
           -177.41,
           "09:12:47.4",
           "2011/11/27"
          ],
          [
           -30.72,
           -177.85,
           "14:45:20.7",
           "2011/12/04"
          ]
         ],
         "hovertemplate": "<b>%{hovertext}</b><br><br>Cluster=470<br>Lat=%{customdata[0]}<br>Lon=%{customdata[1]}<br>Time=%{customdata[2]}<br>Date=%{customdata[3]}<extra></extra>",
         "hovertext": {
          "dtype": "f8",
          "bdata": "AAAAAABgfUAAAAAAAGB9QAAAAAAAYH1AAAAAAABgfUAAAAAAAGB9QA=="
         },
         "lat": {
          "dtype": "f8",
          "bdata": "SOF6FK6HPsC4HoXrUbg+wM3MzMzMjD7AhetRuB7FPsC4HoXrUbg+wA=="
         },
         "legendgroup": "470",
         "lon": {
          "dtype": "f8",
          "bdata": "H4XrUbg2ZsAK16NwPTpmwPYoXI/CPWbAhetRuB4tZsAzMzMzMztmwA=="
         },
         "marker": {
          "color": "#00cc96"
         },
         "mode": "markers",
         "name": "470",
         "showlegend": true,
         "subplot": "map",
         "type": "scattermap"
        },
        {
         "customdata": [
          [
           -32.52,
           -178.35,
           "06:57:24.6",
           "2011/07/10"
          ],
          [
           -32.69,
           -177.98,
           "12:07:57.9",
           "2011/07/10"
          ],
          [
           -32.82,
           -178.1,
           "17:29:58.4",
           "2011/12/30"
          ],
          [
           -32.38,
           -178.32,
           "21:37:49.6",
           "2011/12/30"
          ],
          [
           -32.57,
           -178.39,
           "21:43:19.7",
           "2011/12/30"
          ]
         ],
         "hovertemplate": "<b>%{hovertext}</b><br><br>Cluster=472<br>Lat=%{customdata[0]}<br>Lon=%{customdata[1]}<br>Time=%{customdata[2]}<br>Date=%{customdata[3]}<extra></extra>",
         "hovertext": {
          "dtype": "f8",
          "bdata": "AAAAAACAfUAAAAAAAIB9QAAAAAAAgH1AAAAAAACAfUAAAAAAAIB9QA=="
         },
         "lat": {
          "dtype": "f8",
          "bdata": "w/UoXI9CQMC4HoXrUVhAwClcj8L1aEDAcT0K16MwQMApXI/C9UhAwA=="
         },
         "legendgroup": "472",
         "lon": {
          "dtype": "f8",
          "bdata": "MzMzMzNLZsCPwvUoXD9mwDMzMzMzQ2bACtejcD1KZsAUrkfhekxmwA=="
         },
         "marker": {
          "color": "#ab63fa"
         },
         "mode": "markers",
         "name": "472",
         "showlegend": true,
         "subplot": "map",
         "type": "scattermap"
        },
        {
         "customdata": [
          [
           -37.5,
           179.77,
           "18:58:29.2",
           "2011/09/01"
          ],
          [
           -37.43,
           179.96,
           "02:43:51.1",
           "2011/11/18"
          ],
          [
           -37.42,
           179.99,
           "04:34:03.0",
           "2011/11/18"
          ],
          [
           -37.81,
           179.42,
           "07:51:24.7",
           "2011/11/18"
          ],
          [
           -37.53,
           179.73,
           "19:38:28.6",
           "2011/11/21"
          ],
          [
           -37.71,
           -179.97,
           "04:54:05.5",
           "2012/07/21"
          ],
          [
           -37.61,
           -179.73,
           "04:58:01.3",
           "2012/08/02"
          ]
         ],
         "hovertemplate": "<b>%{hovertext}</b><br><br>Cluster=477<br>Lat=%{customdata[0]}<br>Lon=%{customdata[1]}<br>Time=%{customdata[2]}<br>Date=%{customdata[3]}<extra></extra>",
         "hovertext": {
          "dtype": "f8",
          "bdata": "AAAAAADQfUAAAAAAANB9QAAAAAAA0H1AAAAAAADQfUAAAAAAANB9QAAAAAAA0H1AAAAAAADQfUA="
         },
         "lat": {
          "dtype": "f8",
          "bdata": "AAAAAADAQsDXo3A9CrdCwPYoXI/CtULASOF6FK7nQsCkcD0K18NCwHsUrkfh2kLArkfhehTOQsA="
         },
         "legendgroup": "477",
         "lon": {
          "dtype": "f8",
          "bdata": "cT0K16N4ZkAfhetRuH5mQEjhehSuf2ZAPQrXo3BtZkCPwvUoXHdmQNejcD0Kf2bAj8L1KFx3ZsA="
         },
         "marker": {
          "color": "#FFA15A"
         },
         "mode": "markers",
         "name": "477",
         "showlegend": true,
         "subplot": "map",
         "type": "scattermap"
        },
        {
         "customdata": [
          [
           -49.58,
           164.0,
           "19:26:01.1",
           "2011/09/09"
          ],
          [
           -49.64,
           163.76,
           "10:18:27.8",
           "2011/09/30"
          ]
         ],
         "hovertemplate": "<b>%{hovertext}</b><br><br>Cluster=478<br>Lat=%{customdata[0]}<br>Lon=%{customdata[1]}<br>Time=%{customdata[2]}<br>Date=%{customdata[3]}<extra></extra>",
         "hovertext": {
          "dtype": "f8",
          "bdata": "AAAAAADgfUAAAAAAAOB9QA=="
         },
         "lat": {
          "dtype": "f8",
          "bdata": "CtejcD3KSMBSuB6F69FIwA=="
         },
         "legendgroup": "478",
         "lon": {
          "dtype": "f8",
          "bdata": "AAAAAACAZEC4HoXrUXhkQA=="
         },
         "marker": {
          "color": "#19d3f3"
         },
         "mode": "markers",
         "name": "478",
         "showlegend": true,
         "subplot": "map",
         "type": "scattermap"
        },
        {
         "customdata": [
          [
           -35.11,
           -178.99,
           "13:36:34.1",
           "2011/09/14"
          ],
          [
           -35.31,
           -179.03,
           "07:53:18.8",
           "2011/09/15"
          ]
         ],
         "hovertemplate": "<b>%{hovertext}</b><br><br>Cluster=479<br>Lat=%{customdata[0]}<br>Lon=%{customdata[1]}<br>Time=%{customdata[2]}<br>Date=%{customdata[3]}<extra></extra>",
         "hovertext": {
          "dtype": "f8",
          "bdata": "AAAAAADwfUAAAAAAAPB9QA=="
         },
         "lat": {
          "dtype": "f8",
          "bdata": "rkfhehSOQcBI4XoUrqdBwA=="
         },
         "legendgroup": "479",
         "lon": {
          "dtype": "f8",
          "bdata": "SOF6FK5fZsApXI/C9WBmwA=="
         },
         "marker": {
          "color": "#FF6692"
         },
         "mode": "markers",
         "name": "479",
         "showlegend": true,
         "subplot": "map",
         "type": "scattermap"
        },
        {
         "customdata": [
          [
           -32.54,
           -179.04,
           "08:58:28.6",
           "2011/10/07"
          ],
          [
           -32.57,
           -178.93,
           "12:14:40.2",
           "2011/10/07"
          ],
          [
           -32.72,
           -179.1,
           "10:10:07.2",
           "2011/12/15"
          ],
          [
           -32.85,
           -178.6,
           "10:18:19.9",
           "2011/12/17"
          ],
          [
           -32.81,
           -178.57,
           "17:49:10.1",
           "2012/01/13"
          ],
          [
           -32.55,
           -178.85,
           "10:12:07.2",
           "2012/02/13"
          ],
          [
           -32.83,
           -178.62,
           "23:52:53.3",
           "2012/06/21"
          ]
         ],
         "hovertemplate": "<b>%{hovertext}</b><br><br>Cluster=481<br>Lat=%{customdata[0]}<br>Lon=%{customdata[1]}<br>Time=%{customdata[2]}<br>Date=%{customdata[3]}<extra></extra>",
         "hovertext": {
          "dtype": "f8",
          "bdata": "AAAAAAAQfkAAAAAAABB+QAAAAAAAEH5AAAAAAAAQfkAAAAAAABB+QAAAAAAAEH5AAAAAAAAQfkA="
         },
         "lat": {
          "dtype": "f8",
          "bdata": "hetRuB5FQMApXI/C9UhAwFyPwvUoXEDAzczMzMxsQMBI4XoUrmdAwGZmZmZmRkDACtejcD1qQMA="
         },
         "legendgroup": "481",
         "lon": {
          "dtype": "f8",
          "bdata": "4XoUrkdhZsD2KFyPwl1mwDMzMzMzY2bAMzMzMzNTZsAK16NwPVJmwDMzMzMzW2bApHA9CtdTZsA="
         },
         "marker": {
          "color": "#B6E880"
         },
         "mode": "markers",
         "name": "481",
         "showlegend": true,
         "subplot": "map",
         "type": "scattermap"
        },
        {
         "customdata": [
          [
           -33.81,
           -178.34,
           "10:52:07.0",
           "2011/12/23"
          ],
          [
           -33.98,
           -178.7,
           "07:50:39.9",
           "2012/02/13"
          ]
         ],
         "hovertemplate": "<b>%{hovertext}</b><br><br>Cluster=486<br>Lat=%{customdata[0]}<br>Lon=%{customdata[1]}<br>Time=%{customdata[2]}<br>Date=%{customdata[3]}<extra></extra>",
         "hovertext": {
          "dtype": "f8",
          "bdata": "AAAAAABgfkAAAAAAAGB+QA=="
         },
         "lat": {
          "dtype": "f8",
          "bdata": "SOF6FK7nQMA9CtejcP1AwA=="
         },
         "legendgroup": "486",
         "lon": {
          "dtype": "f8",
          "bdata": "exSuR+FKZsBmZmZmZlZmwA=="
         },
         "marker": {
          "color": "#FF97FF"
         },
         "mode": "markers",
         "name": "486",
         "showlegend": true,
         "subplot": "map",
         "type": "scattermap"
        },
        {
         "customdata": [
          [
           -46.69,
           165.78,
           "06:48:48.8",
           "2012/01/19"
          ],
          [
           -46.76,
           165.6,
           "09:01:56.0",
           "2012/01/19"
          ],
          [
           -46.68,
           165.71,
           "06:02:34.8",
           "2012/01/25"
          ]
         ],
         "hovertemplate": "<b>%{hovertext}</b><br><br>Cluster=487<br>Lat=%{customdata[0]}<br>Lon=%{customdata[1]}<br>Time=%{customdata[2]}<br>Date=%{customdata[3]}<extra></extra>",
         "hovertext": {
          "dtype": "f8",
          "bdata": "AAAAAABwfkAAAAAAAHB+QAAAAAAAcH5A"
         },
         "lat": {
          "dtype": "f8",
          "bdata": "uB6F61FYR8DhehSuR2FHwNejcD0KV0fA"
         },
         "legendgroup": "487",
         "lon": {
          "dtype": "f8",
          "bdata": "KVyPwvW4ZEAzMzMzM7NkQB+F61G4tmRA"
         },
         "marker": {
          "color": "#FECB52"
         },
         "mode": "markers",
         "name": "487",
         "showlegend": true,
         "subplot": "map",
         "type": "scattermap"
        },
        {
         "customdata": [
          [
           -30.12,
           -177.27,
           "15:49:46.4",
           "2012/02/10"
          ],
          [
           -30.05,
           -177.12,
           "06:37:41.3",
           "2012/05/23"
          ]
         ],
         "hovertemplate": "<b>%{hovertext}</b><br><br>Cluster=488<br>Lat=%{customdata[0]}<br>Lon=%{customdata[1]}<br>Time=%{customdata[2]}<br>Date=%{customdata[3]}<extra></extra>",
         "hovertext": {
          "dtype": "f8",
          "bdata": "AAAAAACAfkAAAAAAAIB+QA=="
         },
         "lat": {
          "dtype": "f8",
          "bdata": "H4XrUbgePsDNzMzMzAw+wA=="
         },
         "legendgroup": "488",
         "lon": {
          "dtype": "f8",
          "bdata": "cT0K16MoZsCkcD0K1yNmwA=="
         },
         "marker": {
          "color": "#636efa"
         },
         "mode": "markers",
         "name": "488",
         "showlegend": true,
         "subplot": "map",
         "type": "scattermap"
        },
        {
         "customdata": [
          [
           -30.59,
           -177.47,
           "22:35:54.8",
           "2012/04/29"
          ],
          [
           -30.55,
           -177.43,
           "18:15:16.1",
           "2012/07/22"
          ],
          [
           -30.83,
           -177.46,
           "19:47:14.1",
           "2012/07/23"
          ]
         ],
         "hovertemplate": "<b>%{hovertext}</b><br><br>Cluster=491<br>Lat=%{customdata[0]}<br>Lon=%{customdata[1]}<br>Time=%{customdata[2]}<br>Date=%{customdata[3]}<extra></extra>",
         "hovertext": {
          "dtype": "f8",
          "bdata": "AAAAAACwfkAAAAAAALB+QAAAAAAAsH5A"
         },
         "lat": {
          "dtype": "f8",
          "bdata": "16NwPQqXPsDNzMzMzIw+wBSuR+F61D7A"
         },
         "legendgroup": "491",
         "lon": {
          "dtype": "f8",
          "bdata": "16NwPQovZsD2KFyPwi1mwB+F61G4LmbA"
         },
         "marker": {
          "color": "#EF553B"
         },
         "mode": "markers",
         "name": "491",
         "showlegend": true,
         "subplot": "map",
         "type": "scattermap"
        },
        {
         "customdata": [
          [
           -32.8,
           -178.51,
           "00:02:60.0",
           "2012/06/22"
          ],
          [
           -32.94,
           -178.65,
           "02:20:06.6",
           "2012/06/22"
          ],
          [
           -32.98,
           -178.33,
           "05:02:06.8",
           "2012/06/22"
          ],
          [
           -33.06,
           -178.3,
           "12:12:49.6",
           "2012/06/22"
          ]
         ],
         "hovertemplate": "<b>%{hovertext}</b><br><br>Cluster=495<br>Lat=%{customdata[0]}<br>Lon=%{customdata[1]}<br>Time=%{customdata[2]}<br>Date=%{customdata[3]}<extra></extra>",
         "hovertext": {
          "dtype": "f8",
          "bdata": "AAAAAADwfkAAAAAAAPB+QAAAAAAA8H5AAAAAAADwfkA="
         },
         "lat": {
          "dtype": "f8",
          "bdata": "ZmZmZmZmQMC4HoXrUXhAwD0K16NwfUDASOF6FK6HQMA="
         },
         "legendgroup": "495",
         "lon": {
          "dtype": "f8",
          "bdata": "uB6F61FQZsDNzMzMzFRmwMP1KFyPSmbAmpmZmZlJZsA="
         },
         "marker": {
          "color": "#00cc96"
         },
         "mode": "markers",
         "name": "495",
         "showlegend": true,
         "subplot": "map",
         "type": "scattermap"
        },
        {
         "customdata": [
          [
           -30.75,
           -178.17,
           "14:36:34.5",
           "2012/07/04"
          ],
          [
           -30.91,
           -178.39,
           "00:53:28.8",
           "2012/12/13"
          ],
          [
           -30.77,
           -178.12,
           "12:19:18.1",
           "2013/02/18"
          ],
          [
           -30.74,
           -178.15,
           "16:32:47.1",
           "2013/02/18"
          ],
          [
           -30.61,
           -178.11,
           "15:09:03.0",
           "2013/07/03"
          ]
         ],
         "hovertemplate": "<b>%{hovertext}</b><br><br>Cluster=497<br>Lat=%{customdata[0]}<br>Lon=%{customdata[1]}<br>Time=%{customdata[2]}<br>Date=%{customdata[3]}<extra></extra>",
         "hovertext": {
          "dtype": "f8",
          "bdata": "AAAAAAAQf0AAAAAAABB/QAAAAAAAEH9AAAAAAAAQf0AAAAAAABB/QA=="
         },
         "lat": {
          "dtype": "f8",
          "bdata": "AAAAAADAPsApXI/C9eg+wIXrUbgexT7APQrXo3C9PsBcj8L1KJw+wA=="
         },
         "legendgroup": "497",
         "lon": {
          "dtype": "f8",
          "bdata": "PQrXo3BFZsAUrkfhekxmwKRwPQrXQ2bAzczMzMxEZsDsUbgehUNmwA=="
         },
         "marker": {
          "color": "#ab63fa"
         },
         "mode": "markers",
         "name": "497",
         "showlegend": true,
         "subplot": "map",
         "type": "scattermap"
        },
        {
         "customdata": [
          [
           -39.07,
           175.81,
           "00:50:27.0",
           "2012/07/07"
          ],
          [
           -38.86,
           176.11,
           "06:42:13.9",
           "2012/10/19"
          ]
         ],
         "hovertemplate": "<b>%{hovertext}</b><br><br>Cluster=498<br>Lat=%{customdata[0]}<br>Lon=%{customdata[1]}<br>Time=%{customdata[2]}<br>Date=%{customdata[3]}<extra></extra>",
         "hovertext": {
          "dtype": "f8",
          "bdata": "AAAAAAAgf0AAAAAAACB/QA=="
         },
         "lat": {
          "dtype": "f8",
          "bdata": "KVyPwvWIQ8CuR+F6FG5DwA=="
         },
         "legendgroup": "498",
         "lon": {
          "dtype": "f8",
          "bdata": "Urgehev5ZUDsUbgehQNmQA=="
         },
         "marker": {
          "color": "#FFA15A"
         },
         "mode": "markers",
         "name": "498",
         "showlegend": true,
         "subplot": "map",
         "type": "scattermap"
        },
        {
         "customdata": [
          [
           -35.97,
           -179.41,
           "09:56:22.0",
           "2012/08/04"
          ],
          [
           -35.78,
           -179.75,
           "12:54:27.1",
           "2012/08/04"
          ]
         ],
         "hovertemplate": "<b>%{hovertext}</b><br><br>Cluster=502<br>Lat=%{customdata[0]}<br>Lon=%{customdata[1]}<br>Time=%{customdata[2]}<br>Date=%{customdata[3]}<extra></extra>",
         "hovertext": {
          "dtype": "f8",
          "bdata": "AAAAAABgf0AAAAAAAGB/QA=="
         },
         "lat": {
          "dtype": "f8",
          "bdata": "XI/C9Sj8QcCkcD0K1+NBwA=="
         },
         "legendgroup": "502",
         "lon": {
          "dtype": "f8",
          "bdata": "hetRuB5tZsAAAAAAAHhmwA=="
         },
         "marker": {
          "color": "#19d3f3"
         },
         "mode": "markers",
         "name": "502",
         "showlegend": true,
         "subplot": "map",
         "type": "scattermap"
        },
        {
         "customdata": [
          [
           -33.44,
           -179.53,
           "10:01:53.9",
           "2012/08/24"
          ],
          [
           -33.28,
           -179.52,
           "17:36:24.4",
           "2013/03/26"
          ]
         ],
         "hovertemplate": "<b>%{hovertext}</b><br><br>Cluster=503<br>Lat=%{customdata[0]}<br>Lon=%{customdata[1]}<br>Time=%{customdata[2]}<br>Date=%{customdata[3]}<extra></extra>",
         "hovertext": {
          "dtype": "f8",
          "bdata": "AAAAAABwf0AAAAAAAHB/QA=="
         },
         "lat": {
          "dtype": "f8",
          "bdata": "uB6F61G4QMCkcD0K16NAwA=="
         },
         "legendgroup": "503",
         "lon": {
          "dtype": "f8",
          "bdata": "KVyPwvVwZsBxPQrXo3BmwA=="
         },
         "marker": {
          "color": "#FF6692"
         },
         "mode": "markers",
         "name": "503",
         "showlegend": true,
         "subplot": "map",
         "type": "scattermap"
        },
        {
         "customdata": [
          [
           -30.4,
           -177.93,
           "14:36:36.6",
           "2012/09/09"
          ],
          [
           -30.49,
           -177.58,
           "06:06:30.0",
           "2012/12/20"
          ]
         ],
         "hovertemplate": "<b>%{hovertext}</b><br><br>Cluster=504<br>Lat=%{customdata[0]}<br>Lon=%{customdata[1]}<br>Time=%{customdata[2]}<br>Date=%{customdata[3]}<extra></extra>",
         "hovertext": {
          "dtype": "f8",
          "bdata": "AAAAAACAf0AAAAAAAIB/QA=="
         },
         "lat": {
          "dtype": "f8",
          "bdata": "ZmZmZmZmPsA9CtejcH0+wA=="
         },
         "legendgroup": "504",
         "lon": {
          "dtype": "f8",
          "bdata": "9ihcj8I9ZsDD9ShcjzJmwA=="
         },
         "marker": {
          "color": "#B6E880"
         },
         "mode": "markers",
         "name": "504",
         "showlegend": true,
         "subplot": "map",
         "type": "scattermap"
        },
        {
         "customdata": [
          [
           -38.38,
           175.92,
           "00:05:38.1",
           "2012/10/15"
          ],
          [
           -38.64,
           176.17,
           "23:42:55.7",
           "2012/10/16"
          ],
          [
           -38.47,
           176.1,
           "18:19:06.2",
           "2012/12/07"
          ],
          [
           -38.56,
           176.44,
           "01:14:31.6",
           "2014/10/06"
          ]
         ],
         "hovertemplate": "<b>%{hovertext}</b><br><br>Cluster=505<br>Lat=%{customdata[0]}<br>Lon=%{customdata[1]}<br>Time=%{customdata[2]}<br>Date=%{customdata[3]}<extra></extra>",
         "hovertext": {
          "dtype": "f8",
          "bdata": "AAAAAACQf0AAAAAAAJB/QAAAAAAAkH9AAAAAAACQf0A="
         },
         "lat": {
          "dtype": "f8",
          "bdata": "cT0K16MwQ8BSuB6F61FDwFyPwvUoPEPASOF6FK5HQ8A="
         },
         "legendgroup": "505",
         "lon": {
          "dtype": "f8",
          "bdata": "PQrXo3D9ZUA9CtejcAVmQDMzMzMzA2ZArkfhehQOZkA="
         },
         "marker": {
          "color": "#FF97FF"
         },
         "mode": "markers",
         "name": "505",
         "showlegend": true,
         "subplot": "map",
         "type": "scattermap"
        },
        {
         "customdata": [
          [
           -31.1,
           -177.52,
           "23:41:54.1",
           "2012/12/05"
          ],
          [
           -31.09,
           -177.45,
           "12:26:29.4",
           "2012/12/08"
          ],
          [
           -31.07,
           -177.56,
           "06:49:50.8",
           "2013/02/27"
          ],
          [
           -31.06,
           -177.44,
           "07:00:31.9",
           "2013/03/06"
          ]
         ],
         "hovertemplate": "<b>%{hovertext}</b><br><br>Cluster=508<br>Lat=%{customdata[0]}<br>Lon=%{customdata[1]}<br>Time=%{customdata[2]}<br>Date=%{customdata[3]}<extra></extra>",
         "hovertext": {
          "dtype": "f8",
          "bdata": "AAAAAADAf0AAAAAAAMB/QAAAAAAAwH9AAAAAAADAf0A="
         },
         "lat": {
          "dtype": "f8",
          "bdata": "mpmZmZkZP8DXo3A9Chc/wFK4HoXrET/Aj8L1KFwPP8A="
         },
         "legendgroup": "508",
         "lon": {
          "dtype": "f8",
          "bdata": "cT0K16MwZsBmZmZmZi5mwFK4HoXrMWbArkfhehQuZsA="
         },
         "marker": {
          "color": "#FECB52"
         },
         "mode": "markers",
         "name": "508",
         "showlegend": true,
         "subplot": "map",
         "type": "scattermap"
        },
        {
         "customdata": [
          [
           -32.34,
           -178.05,
           "20:54:04.1",
           "2013/02/24"
          ],
          [
           -32.21,
           -178.05,
           "00:07:39.7",
           "2013/02/25"
          ],
          [
           -32.39,
           -178.14,
           "00:13:46.2",
           "2013/02/25"
          ],
          [
           -32.29,
           -178.0,
           "08:05:31.6",
           "2013/02/25"
          ]
         ],
         "hovertemplate": "<b>%{hovertext}</b><br><br>Cluster=512<br>Lat=%{customdata[0]}<br>Lon=%{customdata[1]}<br>Time=%{customdata[2]}<br>Date=%{customdata[3]}<extra></extra>",
         "hovertext": {
          "dtype": "f8",
          "bdata": "AAAAAAAAgEAAAAAAAACAQAAAAAAAAIBAAAAAAAAAgEA="
         },
         "lat": {
          "dtype": "f8",
          "bdata": "7FG4HoUrQMB7FK5H4RpAwFK4HoXrMUDAhetRuB4lQMA="
         },
         "legendgroup": "512",
         "lon": {
          "dtype": "f8",
          "bdata": "mpmZmZlBZsCamZmZmUFmwBSuR+F6RGbAAAAAAABAZsA="
         },
         "marker": {
          "color": "#636efa"
         },
         "mode": "markers",
         "name": "512",
         "showlegend": true,
         "subplot": "map",
         "type": "scattermap"
        },
        {
         "customdata": [
          [
           -31.9,
           -177.7,
           "06:27:47.1",
           "2013/04/05"
          ],
          [
           -32.04,
           -177.44,
           "10:00:03.0",
           "2013/04/05"
          ]
         ],
         "hovertemplate": "<b>%{hovertext}</b><br><br>Cluster=513<br>Lat=%{customdata[0]}<br>Lon=%{customdata[1]}<br>Time=%{customdata[2]}<br>Date=%{customdata[3]}<extra></extra>",
         "hovertext": {
          "dtype": "f8",
          "bdata": "AAAAAAAIgEAAAAAAAAiAQA=="
         },
         "lat": {
          "dtype": "f8",
          "bdata": "ZmZmZmbmP8CF61G4HgVAwA=="
         },
         "legendgroup": "513",
         "lon": {
          "dtype": "f8",
          "bdata": "ZmZmZmY2ZsCuR+F6FC5mwA=="
         },
         "marker": {
          "color": "#EF553B"
         },
         "mode": "markers",
         "name": "513",
         "showlegend": true,
         "subplot": "map",
         "type": "scattermap"
        },
        {
         "customdata": [
          [
           -30.4,
           -177.65,
           "11:35:22.3",
           "2013/05/22"
          ],
          [
           -30.15,
           -177.47,
           "14:25:39.8",
           "2013/07/10"
          ],
          [
           -30.24,
           -177.54,
           "14:44:01.8",
           "2013/07/10"
          ],
          [
           -30.25,
           -178.02,
           "21:27:03.5",
           "2013/08/18"
          ],
          [
           -30.56,
           -177.76,
           "14:35:16.9",
           "2013/10/05"
          ],
          [
           -30.09,
           -177.78,
           "01:06:04.4",
           "2014/02/17"
          ]
         ],
         "hovertemplate": "<b>%{hovertext}</b><br><br>Cluster=514<br>Lat=%{customdata[0]}<br>Lon=%{customdata[1]}<br>Time=%{customdata[2]}<br>Date=%{customdata[3]}<extra></extra>",
         "hovertext": {
          "dtype": "f8",
          "bdata": "AAAAAAAQgEAAAAAAABCAQAAAAAAAEIBAAAAAAAAQgEAAAAAAABCAQAAAAAAAEIBA"
         },
         "lat": {
          "dtype": "f8",
          "bdata": "ZmZmZmZmPsBmZmZmZiY+wD0K16NwPT7AAAAAAABAPsCPwvUoXI8+wNejcD0KFz7A"
         },
         "legendgroup": "514",
         "lon": {
          "dtype": "f8",
          "bdata": "zczMzMw0ZsDXo3A9Ci9mwOF6FK5HMWbAcT0K16NAZsC4HoXrUThmwClcj8L1OGbA"
         },
         "marker": {
          "color": "#00cc96"
         },
         "mode": "markers",
         "name": "514",
         "showlegend": true,
         "subplot": "map",
         "type": "scattermap"
        },
        {
         "customdata": [
          [
           -33.85,
           179.4,
           "11:20:36.0",
           "2013/06/15"
          ],
          [
           -33.6,
           179.41,
           "15:50:00.5",
           "2014/04/08"
          ]
         ],
         "hovertemplate": "<b>%{hovertext}</b><br><br>Cluster=516<br>Lat=%{customdata[0]}<br>Lon=%{customdata[1]}<br>Time=%{customdata[2]}<br>Date=%{customdata[3]}<extra></extra>",
         "hovertext": {
          "dtype": "f8",
          "bdata": "AAAAAAAggEAAAAAAACCAQA=="
         },
         "lat": {
          "dtype": "f8",
          "bdata": "zczMzMzsQMDNzMzMzMxAwA=="
         },
         "legendgroup": "516",
         "lon": {
          "dtype": "f8",
          "bdata": "zczMzMxsZkCF61G4Hm1mQA=="
         },
         "marker": {
          "color": "#ab63fa"
         },
         "mode": "markers",
         "name": "516",
         "showlegend": true,
         "subplot": "map",
         "type": "scattermap"
        },
        {
         "customdata": [
          [
           -41.55,
           174.41,
           "21:06:39.0",
           "2013/07/18"
          ],
          [
           -41.64,
           174.39,
           "19:17:10.1",
           "2013/07/20"
          ],
          [
           -41.7,
           174.34,
           "05:09:31.5",
           "2013/07/21"
          ],
          [
           -41.6,
           174.26,
           "22:47:25.0",
           "2013/07/21"
          ],
          [
           -41.69,
           174.3,
           "13:07:14.6",
           "2013/07/28"
          ],
          [
           -41.73,
           174.15,
           "02:31:05.8",
           "2013/08/16"
          ],
          [
           -41.76,
           174.02,
           "02:45:28.2",
           "2013/08/16"
          ],
          [
           -41.74,
           174.05,
           "03:09:08.1",
           "2013/08/16"
          ],
          [
           -41.67,
           174.26,
           "05:31:16.5",
           "2013/08/16"
          ],
          [
           -41.68,
           174.29,
           "06:55:58.9",
           "2013/08/16"
          ],
          [
           -41.77,
           174.05,
           "08:58:39.7",
           "2013/08/17"
          ]
         ],
         "hovertemplate": "<b>%{hovertext}</b><br><br>Cluster=519<br>Lat=%{customdata[0]}<br>Lon=%{customdata[1]}<br>Time=%{customdata[2]}<br>Date=%{customdata[3]}<extra></extra>",
         "hovertext": {
          "dtype": "f8",
          "bdata": "AAAAAAA4gEAAAAAAADiAQAAAAAAAOIBAAAAAAAA4gEAAAAAAADiAQAAAAAAAOIBAAAAAAAA4gEAAAAAAADiAQAAAAAAAOIBAAAAAAAA4gEAAAAAAADiAQA=="
         },
         "lat": {
          "dtype": "f8",
          "bdata": "ZmZmZmbGRMBSuB6F69FEwJqZmZmZ2UTAzczMzMzMRMC4HoXrUdhEwD0K16Nw3UTA4XoUrkfhRMAfhetRuN5EwPYoXI/C1UTA16NwPQrXRMDD9Shcj+JEwA=="
         },
         "legendgroup": "519",
         "lon": {
          "dtype": "f8",
          "bdata": "hetRuB7NZUAUrkfhesxlQHsUrkfhymVAuB6F61HIZUCamZmZmcllQM3MzMzMxGVAcT0K16PAZUCamZmZmcFlQLgehetRyGVA4XoUrkfJZUCamZmZmcFlQA=="
         },
         "marker": {
          "color": "#FFA15A"
         },
         "mode": "markers",
         "name": "519",
         "showlegend": true,
         "subplot": "map",
         "type": "scattermap"
        },
        {
         "customdata": [
          [
           -30.63,
           -179.68,
           "04:16:47.8",
           "2013/08/12"
          ],
          [
           -30.36,
           -179.71,
           "22:23:28.4",
           "2013/11/18"
          ],
          [
           -30.52,
           -179.21,
           "11:53:44.9",
           "2014/01/11"
          ]
         ],
         "hovertemplate": "<b>%{hovertext}</b><br><br>Cluster=522<br>Lat=%{customdata[0]}<br>Lon=%{customdata[1]}<br>Time=%{customdata[2]}<br>Date=%{customdata[3]}<extra></extra>",
         "hovertext": {
          "dtype": "f8",
          "bdata": "AAAAAABQgEAAAAAAAFCAQAAAAAAAUIBA"
         },
         "lat": {
          "dtype": "f8",
          "bdata": "4XoUrkehPsBcj8L1KFw+wIXrUbgehT7A"
         },
         "legendgroup": "522",
         "lon": {
          "dtype": "f8",
          "bdata": "9ihcj8J1ZsAfhetRuHZmwB+F61G4ZmbA"
         },
         "marker": {
          "color": "#19d3f3"
         },
         "mode": "markers",
         "name": "522",
         "showlegend": true,
         "subplot": "map",
         "type": "scattermap"
        },
        {
         "customdata": [
          [
           -33.51,
           -178.09,
           "16:48:59.3",
           "2013/09/21"
          ],
          [
           -33.7,
           -178.14,
           "18:12:02.5",
           "2014/02/02"
          ]
         ],
         "hovertemplate": "<b>%{hovertext}</b><br><br>Cluster=525<br>Lat=%{customdata[0]}<br>Lon=%{customdata[1]}<br>Time=%{customdata[2]}<br>Date=%{customdata[3]}<extra></extra>",
         "hovertext": {
          "dtype": "f8",
          "bdata": "AAAAAABogEAAAAAAAGiAQA=="
         },
         "lat": {
          "dtype": "f8",
          "bdata": "4XoUrkfBQMCamZmZmdlAwA=="
         },
         "legendgroup": "525",
         "lon": {
          "dtype": "f8",
          "bdata": "exSuR+FCZsAUrkfhekRmwA=="
         },
         "marker": {
          "color": "#FF6692"
         },
         "mode": "markers",
         "name": "525",
         "showlegend": true,
         "subplot": "map",
         "type": "scattermap"
        },
        {
         "customdata": [
          [
           -30.88,
           -178.38,
           "05:55:55.7",
           "2013/09/30"
          ],
          [
           -30.87,
           -178.12,
           "08:31:55.5",
           "2013/10/04"
          ],
          [
           -30.66,
           -178.48,
           "21:25:00.0",
           "2013/10/11"
          ],
          [
           -30.83,
           -178.22,
           "00:25:46.1",
           "2013/10/24"
          ],
          [
           -31.06,
           -178.35,
           "15:39:17.9",
           "2015/02/20"
          ],
          [
           -30.66,
           -178.34,
           "17:03:12.0",
           "2015/04/22"
          ],
          [
           -30.65,
           -178.73,
           "09:41:26.6",
           "2015/08/24"
          ],
          [
           -31.32,
           -178.73,
           "13:43:58.0",
           "2016/01/18"
          ],
          [
           -30.88,
           -178.58,
           "08:26:21.6",
           "2016/01/21"
          ],
          [
           -31.33,
           -178.33,
           "05:16:19.4",
           "2016/02/19"
          ]
         ],
         "hovertemplate": "<b>%{hovertext}</b><br><br>Cluster=526<br>Lat=%{customdata[0]}<br>Lon=%{customdata[1]}<br>Time=%{customdata[2]}<br>Date=%{customdata[3]}<extra></extra>",
         "hovertext": {
          "dtype": "f8",
          "bdata": "AAAAAABwgEAAAAAAAHCAQAAAAAAAcIBAAAAAAABwgEAAAAAAAHCAQAAAAAAAcIBAAAAAAABwgEAAAAAAAHCAQAAAAAAAcIBAAAAAAABwgEA="
         },
         "lat": {
          "dtype": "f8",
          "bdata": "4XoUrkfhPsAfhetRuN4+wClcj8L1qD7AFK5H4XrUPsCPwvUoXA8/wClcj8L1qD7AZmZmZmamPsBSuB6F61E/wOF6FK5H4T7AFK5H4XpUP8A="
         },
         "legendgroup": "526",
         "lon": {
          "dtype": "f8",
          "bdata": "XI/C9ShMZsCkcD0K10NmwI/C9ShcT2bA16NwPQpHZsAzMzMzM0tmwHsUrkfhSmbAj8L1KFxXZsCPwvUoXFdmwMP1KFyPUmbAw/UoXI9KZsA="
         },
         "marker": {
          "color": "#B6E880"
         },
         "mode": "markers",
         "name": "526",
         "showlegend": true,
         "subplot": "map",
         "type": "scattermap"
        },
        {
         "customdata": [
          [
           -46.08,
           165.99,
           "12:07:24.8",
           "2013/12/16"
          ],
          [
           -46.21,
           165.96,
           "05:13:44.1",
           "2014/10/13"
          ]
         ],
         "hovertemplate": "<b>%{hovertext}</b><br><br>Cluster=528<br>Lat=%{customdata[0]}<br>Lon=%{customdata[1]}<br>Time=%{customdata[2]}<br>Date=%{customdata[3]}<extra></extra>",
         "hovertext": {
          "dtype": "f8",
          "bdata": "AAAAAACAgEAAAAAAAICAQA=="
         },
         "lat": {
          "dtype": "f8",
          "bdata": "CtejcD0KR8B7FK5H4RpHwA=="
         },
         "legendgroup": "528",
         "lon": {
          "dtype": "f8",
          "bdata": "SOF6FK6/ZEAfhetRuL5kQA=="
         },
         "marker": {
          "color": "#FF97FF"
         },
         "mode": "markers",
         "name": "528",
         "showlegend": true,
         "subplot": "map",
         "type": "scattermap"
        },
        {
         "customdata": [
          [
           -40.66,
           175.81,
           "02:52:44.3",
           "2014/01/20"
          ],
          [
           -40.54,
           175.92,
           "14:41:22.0",
           "2014/09/22"
          ]
         ],
         "hovertemplate": "<b>%{hovertext}</b><br><br>Cluster=531<br>Lat=%{customdata[0]}<br>Lon=%{customdata[1]}<br>Time=%{customdata[2]}<br>Date=%{customdata[3]}<extra></extra>",
         "hovertext": {
          "dtype": "f8",
          "bdata": "AAAAAACYgEAAAAAAAJiAQA=="
         },
         "lat": {
          "dtype": "f8",
          "bdata": "FK5H4XpURMCF61G4HkVEwA=="
         },
         "legendgroup": "531",
         "lon": {
          "dtype": "f8",
          "bdata": "Urgehev5ZUA9CtejcP1lQA=="
         },
         "marker": {
          "color": "#FECB52"
         },
         "mode": "markers",
         "name": "531",
         "showlegend": true,
         "subplot": "map",
         "type": "scattermap"
        },
        {
         "customdata": [
          [
           -32.91,
           -177.88,
           "09:26:37.8",
           "2014/02/02"
          ],
          [
           -32.81,
           -178.29,
           "15:58:32.4",
           "2015/08/13"
          ],
          [
           -32.82,
           -177.86,
           "09:13:56.6",
           "2015/09/07"
          ],
          [
           -32.83,
           -178.2,
           "14:06:27.8",
           "2015/09/07"
          ],
          [
           -32.77,
           -178.43,
           "20:24:59.0",
           "2015/09/07"
          ],
          [
           -32.72,
           -178.47,
           "02:50:57.8",
           "2015/09/08"
          ],
          [
           -32.61,
           -178.03,
           "20:32:27.0",
           "2015/09/12"
          ],
          [
           -32.61,
           -178.03,
           "03:12:04.7",
           "2015/09/29"
          ],
          [
           -32.94,
           -177.87,
           "19:06:45.0",
           "2016/07/05"
          ]
         ],
         "hovertemplate": "<b>%{hovertext}</b><br><br>Cluster=532<br>Lat=%{customdata[0]}<br>Lon=%{customdata[1]}<br>Time=%{customdata[2]}<br>Date=%{customdata[3]}<extra></extra>",
         "hovertext": {
          "dtype": "f8",
          "bdata": "AAAAAACggEAAAAAAAKCAQAAAAAAAoIBAAAAAAACggEAAAAAAAKCAQAAAAAAAoIBAAAAAAACggEAAAAAAAKCAQAAAAAAAoIBA"
         },
         "lat": {
          "dtype": "f8",
          "bdata": "FK5H4Xp0QMBI4XoUrmdAwClcj8L1aEDACtejcD1qQMDD9Shcj2JAwFyPwvUoXEDArkfhehROQMCuR+F6FE5AwLgehetReEDA"
         },
         "legendgroup": "532",
         "lon": {
          "dtype": "f8",
          "bdata": "XI/C9Sg8ZsDhehSuR0lmwOxRuB6FO2bAZmZmZmZGZsD2KFyPwk1mwNejcD0KT2bAKVyPwvVAZsApXI/C9UBmwKRwPQrXO2bA"
         },
         "marker": {
          "color": "#636efa"
         },
         "mode": "markers",
         "name": "532",
         "showlegend": true,
         "subplot": "map",
         "type": "scattermap"
        },
        {
         "customdata": [
          [
           -32.82,
           -178.87,
           "01:41:04.5",
           "2014/02/13"
          ],
          [
           -33.0,
           -178.86,
           "05:21:14.7",
           "2014/04/30"
          ],
          [
           -33.0,
           -179.04,
           "06:31:39.0",
           "2014/06/02"
          ],
          [
           -33.1,
           -178.55,
           "14:35:40.7",
           "2014/07/08"
          ]
         ],
         "hovertemplate": "<b>%{hovertext}</b><br><br>Cluster=533<br>Lat=%{customdata[0]}<br>Lon=%{customdata[1]}<br>Time=%{customdata[2]}<br>Date=%{customdata[3]}<extra></extra>",
         "hovertext": {
          "dtype": "f8",
          "bdata": "AAAAAACogEAAAAAAAKiAQAAAAAAAqIBAAAAAAACogEA="
         },
         "lat": {
          "dtype": "f8",
          "bdata": "KVyPwvVoQMAAAAAAAIBAwAAAAAAAgEDAzczMzMyMQMA="
         },
         "legendgroup": "533",
         "lon": {
          "dtype": "f8",
          "bdata": "pHA9CtdbZsDsUbgehVtmwOF6FK5HYWbAmpmZmZlRZsA="
         },
         "marker": {
          "color": "#EF553B"
         },
         "mode": "markers",
         "name": "533",
         "showlegend": true,
         "subplot": "map",
         "type": "scattermap"
        },
        {
         "customdata": [
          [
           -34.8,
           -179.42,
           "08:14:42.5",
           "2014/02/18"
          ],
          [
           -34.63,
           -179.58,
           "18:23:05.4",
           "2014/07/18"
          ]
         ],
         "hovertemplate": "<b>%{hovertext}</b><br><br>Cluster=534<br>Lat=%{customdata[0]}<br>Lon=%{customdata[1]}<br>Time=%{customdata[2]}<br>Date=%{customdata[3]}<extra></extra>",
         "hovertext": {
          "dtype": "f8",
          "bdata": "AAAAAACwgEAAAAAAALCAQA=="
         },
         "lat": {
          "dtype": "f8",
          "bdata": "ZmZmZmZmQcBxPQrXo1BBwA=="
         },
         "legendgroup": "534",
         "lon": {
          "dtype": "f8",
          "bdata": "PQrXo3BtZsDD9Shcj3JmwA=="
         },
         "marker": {
          "color": "#00cc96"
         },
         "mode": "markers",
         "name": "534",
         "showlegend": true,
         "subplot": "map",
         "type": "scattermap"
        },
        {
         "customdata": [
          [
           -30.22,
           -177.88,
           "06:39:04.5",
           "2014/05/29"
          ],
          [
           -30.27,
           -177.78,
           "22:48:14.1",
           "2014/05/30"
          ],
          [
           -30.25,
           -177.54,
           "22:46:43.1",
           "2014/06/25"
          ],
          [
           -30.41,
           -177.94,
           "01:18:08.8",
           "2014/07/05"
          ],
          [
           -30.04,
           -177.85,
           "21:38:00.8",
           "2014/11/10"
          ],
          [
           -30.55,
           -178.1,
           "07:14:08.7",
           "2014/12/14"
          ],
          [
           -30.3,
           -177.39,
           "18:53:23.9",
           "2015/03/11"
          ]
         ],
         "hovertemplate": "<b>%{hovertext}</b><br><br>Cluster=538<br>Lat=%{customdata[0]}<br>Lon=%{customdata[1]}<br>Time=%{customdata[2]}<br>Date=%{customdata[3]}<extra></extra>",
         "hovertext": {
          "dtype": "f8",
          "bdata": "AAAAAADQgEAAAAAAANCAQAAAAAAA0IBAAAAAAADQgEAAAAAAANCAQAAAAAAA0IBAAAAAAADQgEA="
         },
         "lat": {
          "dtype": "f8",
          "bdata": "uB6F61E4PsCF61G4HkU+wAAAAAAAQD7AKVyPwvVoPsAK16NwPQo+wM3MzMzMjD7AzczMzMxMPsA="
         },
         "legendgroup": "538",
         "lon": {
          "dtype": "f8",
          "bdata": "XI/C9Sg8ZsApXI/C9ThmwOF6FK5HMWbArkfhehQ+ZsAzMzMzMztmwDMzMzMzQ2bAFK5H4XosZsA="
         },
         "marker": {
          "color": "#ab63fa"
         },
         "mode": "markers",
         "name": "538",
         "showlegend": true,
         "subplot": "map",
         "type": "scattermap"
        },
        {
         "customdata": [
          [
           -30.1,
           -177.26,
           "02:30:06.2",
           "2014/06/26"
          ],
          [
           -30.25,
           -176.92,
           "19:45:07.3",
           "2014/06/26"
          ],
          [
           -30.08,
           -177.22,
           "00:10:48.2",
           "2014/06/28"
          ],
          [
           -30.12,
           -177.66,
           "11:36:04.0",
           "2014/06/30"
          ],
          [
           -30.25,
           -177.14,
           "18:11:48.9",
           "2014/07/01"
          ],
          [
           -30.3,
           -176.98,
           "18:14:52.0",
           "2014/07/01"
          ],
          [
           -30.27,
           -177.08,
           "18:19:20.9",
           "2014/07/01"
          ],
          [
           -30.4,
           -177.21,
           "17:39:06.9",
           "2014/08/03"
          ],
          [
           -30.4,
           -177.21,
           "16:50:06.6",
           "2014/08/04"
          ]
         ],
         "hovertemplate": "<b>%{hovertext}</b><br><br>Cluster=541<br>Lat=%{customdata[0]}<br>Lon=%{customdata[1]}<br>Time=%{customdata[2]}<br>Date=%{customdata[3]}<extra></extra>",
         "hovertext": {
          "dtype": "f8",
          "bdata": "AAAAAADogEAAAAAAAOiAQAAAAAAA6IBAAAAAAADogEAAAAAAAOiAQAAAAAAA6IBAAAAAAADogEAAAAAAAOiAQAAAAAAA6IBA"
         },
         "lat": {
          "dtype": "f8",
          "bdata": "mpmZmZkZPsAAAAAAAEA+wBSuR+F6FD7AH4XrUbgePsAAAAAAAEA+wM3MzMzMTD7AhetRuB5FPsBmZmZmZmY+wGZmZmZmZj7A"
         },
         "legendgroup": "541",
         "lon": {
          "dtype": "f8",
          "bdata": "uB6F61EoZsA9CtejcB1mwNejcD0KJ2bAhetRuB41ZsAUrkfheiRmwI/C9ShcH2bAw/UoXI8iZsAfhetRuCZmwB+F61G4JmbA"
         },
         "marker": {
          "color": "#FFA15A"
         },
         "mode": "markers",
         "name": "541",
         "showlegend": true,
         "subplot": "map",
         "type": "scattermap"
        },
        {
         "customdata": [
          [
           -30.45,
           -176.45,
           "19:50:07.3",
           "2014/07/03"
          ],
          [
           -30.06,
           -176.28,
           "09:13:01.7",
           "2015/12/06"
          ]
         ],
         "hovertemplate": "<b>%{hovertext}</b><br><br>Cluster=543<br>Lat=%{customdata[0]}<br>Lon=%{customdata[1]}<br>Time=%{customdata[2]}<br>Date=%{customdata[3]}<extra></extra>",
         "hovertext": {
          "dtype": "f8",
          "bdata": "AAAAAAD4gEAAAAAAAPiAQA=="
         },
         "lat": {
          "dtype": "f8",
          "bdata": "MzMzMzNzPsCPwvUoXA8+wA=="
         },
         "legendgroup": "543",
         "lon": {
          "dtype": "f8",
          "bdata": "ZmZmZmYOZsApXI/C9QhmwA=="
         },
         "marker": {
          "color": "#19d3f3"
         },
         "mode": "markers",
         "name": "543",
         "showlegend": true,
         "subplot": "map",
         "type": "scattermap"
        },
        {
         "customdata": [
          [
           -36.08,
           178.06,
           "15:02:30.2",
           "2014/09/21"
          ],
          [
           -35.95,
           178.38,
           "15:05:27.5",
           "2014/09/21"
          ]
         ],
         "hovertemplate": "<b>%{hovertext}</b><br><br>Cluster=545<br>Lat=%{customdata[0]}<br>Lon=%{customdata[1]}<br>Time=%{customdata[2]}<br>Date=%{customdata[3]}<extra></extra>",
         "hovertext": {
          "dtype": "f8",
          "bdata": "AAAAAAAIgUAAAAAAAAiBQA=="
         },
         "lat": {
          "dtype": "f8",
          "bdata": "CtejcD0KQsCamZmZmflBwA=="
         },
         "legendgroup": "545",
         "lon": {
          "dtype": "f8",
          "bdata": "UrgehetBZkBcj8L1KExmQA=="
         },
         "marker": {
          "color": "#FF6692"
         },
         "mode": "markers",
         "name": "545",
         "showlegend": true,
         "subplot": "map",
         "type": "scattermap"
        },
        {
         "customdata": [
          [
           -37.65,
           179.66,
           "22:33:20.5",
           "2014/11/16"
          ],
          [
           -37.65,
           179.65,
           "05:56:57.8",
           "2015/02/17"
          ]
         ],
         "hovertemplate": "<b>%{hovertext}</b><br><br>Cluster=548<br>Lat=%{customdata[0]}<br>Lon=%{customdata[1]}<br>Time=%{customdata[2]}<br>Date=%{customdata[3]}<extra></extra>",
         "hovertext": {
          "dtype": "f8",
          "bdata": "AAAAAAAggUAAAAAAACCBQA=="
         },
         "lat": {
          "dtype": "f8",
          "bdata": "MzMzMzPTQsAzMzMzM9NCwA=="
         },
         "legendgroup": "548",
         "lon": {
          "dtype": "f8",
          "bdata": "hetRuB51ZkDNzMzMzHRmQA=="
         },
         "marker": {
          "color": "#B6E880"
         },
         "mode": "markers",
         "name": "548",
         "showlegend": true,
         "subplot": "map",
         "type": "scattermap"
        },
        {
         "customdata": [
          [
           -48.85,
           164.45,
           "13:04:24.5",
           "2014/12/01"
          ],
          [
           -49.1,
           164.68,
           "00:14:21.6",
           "2015/01/06"
          ]
         ],
         "hovertemplate": "<b>%{hovertext}</b><br><br>Cluster=550<br>Lat=%{customdata[0]}<br>Lon=%{customdata[1]}<br>Time=%{customdata[2]}<br>Date=%{customdata[3]}<extra></extra>",
         "hovertext": {
          "dtype": "f8",
          "bdata": "AAAAAAAwgUAAAAAAADCBQA=="
         },
         "lat": {
          "dtype": "f8",
          "bdata": "zczMzMxsSMDNzMzMzIxIwA=="
         },
         "legendgroup": "550",
         "lon": {
          "dtype": "f8",
          "bdata": "ZmZmZmaOZED2KFyPwpVkQA=="
         },
         "marker": {
          "color": "#FF97FF"
         },
         "mode": "markers",
         "name": "550",
         "showlegend": true,
         "subplot": "map",
         "type": "scattermap"
        },
        {
         "customdata": [
          [
           -31.46,
           -177.9,
           "02:41:55.7",
           "2015/02/02"
          ],
          [
           -31.75,
           -177.87,
           "13:13:21.3",
           "2015/03/21"
          ]
         ],
         "hovertemplate": "<b>%{hovertext}</b><br><br>Cluster=556<br>Lat=%{customdata[0]}<br>Lon=%{customdata[1]}<br>Time=%{customdata[2]}<br>Date=%{customdata[3]}<extra></extra>",
         "hovertext": {
          "dtype": "f8",
          "bdata": "AAAAAABggUAAAAAAAGCBQA=="
         },
         "lat": {
          "dtype": "f8",
          "bdata": "9ihcj8J1P8AAAAAAAMA/wA=="
         },
         "legendgroup": "556",
         "lon": {
          "dtype": "f8",
          "bdata": "zczMzMw8ZsCkcD0K1ztmwA=="
         },
         "marker": {
          "color": "#FECB52"
         },
         "mode": "markers",
         "name": "556",
         "showlegend": true,
         "subplot": "map",
         "type": "scattermap"
        },
        {
         "customdata": [
          [
           -36.51,
           177.27,
           "10:25:06.2",
           "2015/02/23"
          ],
          [
           -36.58,
           177.27,
           "19:33:08.8",
           "2015/02/25"
          ],
          [
           -36.47,
           177.48,
           "14:18:23.7",
           "2015/02/28"
          ]
         ],
         "hovertemplate": "<b>%{hovertext}</b><br><br>Cluster=559<br>Lat=%{customdata[0]}<br>Lon=%{customdata[1]}<br>Time=%{customdata[2]}<br>Date=%{customdata[3]}<extra></extra>",
         "hovertext": {
          "dtype": "f8",
          "bdata": "AAAAAAB4gUAAAAAAAHiBQAAAAAAAeIFA"
         },
         "lat": {
          "dtype": "f8",
          "bdata": "4XoUrkdBQsAK16NwPUpCwFyPwvUoPELA"
         },
         "legendgroup": "559",
         "lon": {
          "dtype": "f8",
          "bdata": "cT0K16MoZkBxPQrXoyhmQI/C9ShcL2ZA"
         },
         "marker": {
          "color": "#636efa"
         },
         "mode": "markers",
         "name": "559",
         "showlegend": true,
         "subplot": "map",
         "type": "scattermap"
        },
        {
         "customdata": [
          [
           -30.11,
           -178.84,
           "12:53:51.5",
           "2015/04/02"
          ],
          [
           -30.2,
           -178.85,
           "10:31:17.4",
           "2015/04/03"
          ],
          [
           -30.12,
           -178.47,
           "02:41:04.4",
           "2015/04/18"
          ]
         ],
         "hovertemplate": "<b>%{hovertext}</b><br><br>Cluster=561<br>Lat=%{customdata[0]}<br>Lon=%{customdata[1]}<br>Time=%{customdata[2]}<br>Date=%{customdata[3]}<extra></extra>",
         "hovertext": {
          "dtype": "f8",
          "bdata": "AAAAAACIgUAAAAAAAIiBQAAAAAAAiIFA"
         },
         "lat": {
          "dtype": "f8",
          "bdata": "XI/C9SgcPsAzMzMzMzM+wB+F61G4Hj7A"
         },
         "legendgroup": "561",
         "lon": {
          "dtype": "f8",
          "bdata": "exSuR+FaZsAzMzMzM1tmwNejcD0KT2bA"
         },
         "marker": {
          "color": "#EF553B"
         },
         "mode": "markers",
         "name": "561",
         "showlegend": true,
         "subplot": "map",
         "type": "scattermap"
        },
        {
         "customdata": [
          [
           -34.87,
           179.76,
           "11:16:05.3",
           "2015/04/18"
          ],
          [
           -35.12,
           179.96,
           "01:09:35.4",
           "2015/10/05"
          ]
         ],
         "hovertemplate": "<b>%{hovertext}</b><br><br>Cluster=562<br>Lat=%{customdata[0]}<br>Lon=%{customdata[1]}<br>Time=%{customdata[2]}<br>Date=%{customdata[3]}<extra></extra>",
         "hovertext": {
          "dtype": "f8",
          "bdata": "AAAAAACQgUAAAAAAAJCBQA=="
         },
         "lat": {
          "dtype": "f8",
          "bdata": "j8L1KFxvQcCPwvUoXI9BwA=="
         },
         "legendgroup": "562",
         "lon": {
          "dtype": "f8",
          "bdata": "uB6F61F4ZkAfhetRuH5mQA=="
         },
         "marker": {
          "color": "#00cc96"
         },
         "mode": "markers",
         "name": "562",
         "showlegend": true,
         "subplot": "map",
         "type": "scattermap"
        },
        {
         "customdata": [
          [
           -42.06,
           173.01,
           "03:36:42.4",
           "2015/04/24"
          ],
          [
           -42.12,
           173.07,
           "00:39:00.6",
           "2016/02/09"
          ]
         ],
         "hovertemplate": "<b>%{hovertext}</b><br><br>Cluster=563<br>Lat=%{customdata[0]}<br>Lon=%{customdata[1]}<br>Time=%{customdata[2]}<br>Date=%{customdata[3]}<extra></extra>",
         "hovertext": {
          "dtype": "f8",
          "bdata": "AAAAAACYgUAAAAAAAJiBQA=="
         },
         "lat": {
          "dtype": "f8",
          "bdata": "SOF6FK4HRcCPwvUoXA9FwA=="
         },
         "legendgroup": "563",
         "lon": {
          "dtype": "f8",
          "bdata": "uB6F61GgZUAK16NwPaJlQA=="
         },
         "marker": {
          "color": "#ab63fa"
         },
         "mode": "markers",
         "name": "563",
         "showlegend": true,
         "subplot": "map",
         "type": "scattermap"
        },
        {
         "customdata": [
          [
           -35.23,
           -179.52,
           "15:40:32.6",
           "2015/05/15"
          ],
          [
           -35.34,
           -179.35,
           "10:48:50.6",
           "2015/05/19"
          ],
          [
           -35.1,
           -179.28,
           "22:06:31.8",
           "2015/06/24"
          ],
          [
           -35.31,
           -179.54,
           "16:08:33.0",
           "2015/07/04"
          ],
          [
           -35.42,
           -179.62,
           "05:35:14.5",
           "2015/07/07"
          ],
          [
           -35.41,
           -179.72,
           "06:21:02.2",
           "2015/07/07"
          ]
         ],
         "hovertemplate": "<b>%{hovertext}</b><br><br>Cluster=567<br>Lat=%{customdata[0]}<br>Lon=%{customdata[1]}<br>Time=%{customdata[2]}<br>Date=%{customdata[3]}<extra></extra>",
         "hovertext": {
          "dtype": "f8",
          "bdata": "AAAAAAC4gUAAAAAAALiBQAAAAAAAuIFAAAAAAAC4gUAAAAAAALiBQAAAAAAAuIFA"
         },
         "lat": {
          "dtype": "f8",
          "bdata": "PQrXo3CdQcDsUbgehatBwM3MzMzMjEHASOF6FK6nQcD2KFyPwrVBwBSuR+F6tEHA"
         },
         "legendgroup": "567",
         "lon": {
          "dtype": "f8",
          "bdata": "cT0K16NwZsAzMzMzM2tmwClcj8L1aGbA4XoUrkdxZsCkcD0K13NmwNejcD0Kd2bA"
         },
         "marker": {
          "color": "#FFA15A"
         },
         "mode": "markers",
         "name": "567",
         "showlegend": true,
         "subplot": "map",
         "type": "scattermap"
        },
        {
         "customdata": [
          [
           -32.07,
           -178.32,
           "18:45:57.5",
           "2015/06/25"
          ],
          [
           -32.13,
           -177.94,
           "22:57:15.2",
           "2015/06/25"
          ],
          [
           -32.19,
           -178.29,
           "02:51:56.4",
           "2015/06/26"
          ],
          [
           -31.95,
           -178.03,
           "19:22:42.2",
           "2015/07/02"
          ],
          [
           -32.09,
           -178.04,
           "17:28:23.4",
           "2015/07/04"
          ],
          [
           -32.02,
           -178.03,
           "17:34:00.3",
           "2015/07/04"
          ],
          [
           -32.44,
           -178.41,
           "23:47:10.4",
           "2015/09/15"
          ],
          [
           -31.83,
           -177.97,
           "10:27:17.3",
           "2016/07/18"
          ]
         ],
         "hovertemplate": "<b>%{hovertext}</b><br><br>Cluster=568<br>Lat=%{customdata[0]}<br>Lon=%{customdata[1]}<br>Time=%{customdata[2]}<br>Date=%{customdata[3]}<extra></extra>",
         "hovertext": {
          "dtype": "f8",
          "bdata": "AAAAAADAgUAAAAAAAMCBQAAAAAAAwIFAAAAAAADAgUAAAAAAAMCBQAAAAAAAwIFAAAAAAADAgUAAAAAAAMCBQA=="
         },
         "lat": {
          "dtype": "f8",
          "bdata": "KVyPwvUIQMBxPQrXoxBAwLgehetRGEDAMzMzMzPzP8DsUbgehQtAwMP1KFyPAkDAuB6F61E4QMAUrkfhetQ/wA=="
         },
         "legendgroup": "568",
         "lon": {
          "dtype": "f8",
          "bdata": "CtejcD1KZsCuR+F6FD5mwOF6FK5HSWbAKVyPwvVAZsDhehSuR0FmwClcj8L1QGbAhetRuB5NZsDXo3A9Cj9mwA=="
         },
         "marker": {
          "color": "#19d3f3"
         },
         "mode": "markers",
         "name": "568",
         "showlegend": true,
         "subplot": "map",
         "type": "scattermap"
        },
        {
         "customdata": [
          [
           -32.23,
           -177.62,
           "12:53:42.1",
           "2015/06/28"
          ],
          [
           -32.32,
           -177.82,
           "12:19:17.1",
           "2015/06/30"
          ],
          [
           -32.2,
           -177.87,
           "20:41:36.4",
           "2015/07/16"
          ],
          [
           -32.32,
           -177.77,
           "06:22:24.6",
           "2015/07/17"
          ],
          [
           -32.19,
           -177.89,
           "17:34:50.7",
           "2015/10/09"
          ]
         ],
         "hovertemplate": "<b>%{hovertext}</b><br><br>Cluster=569<br>Lat=%{customdata[0]}<br>Lon=%{customdata[1]}<br>Time=%{customdata[2]}<br>Date=%{customdata[3]}<extra></extra>",
         "hovertext": {
          "dtype": "f8",
          "bdata": "AAAAAADIgUAAAAAAAMiBQAAAAAAAyIFAAAAAAADIgUAAAAAAAMiBQA=="
         },
         "lat": {
          "dtype": "f8",
          "bdata": "PQrXo3AdQMApXI/C9ShAwJqZmZmZGUDAKVyPwvUoQMC4HoXrURhAwA=="
         },
         "legendgroup": "569",
         "lon": {
          "dtype": "f8",
          "bdata": "pHA9CtczZsAK16NwPTpmwKRwPQrXO2bAcT0K16M4ZsAUrkfhejxmwA=="
         },
         "marker": {
          "color": "#FF6692"
         },
         "mode": "markers",
         "name": "569",
         "showlegend": true,
         "subplot": "map",
         "type": "scattermap"
        },
        {
         "customdata": [
          [
           -33.03,
           -178.53,
           "06:48:32.9",
           "2015/09/08"
          ],
          [
           -33.12,
           -178.21,
           "08:19:53.8",
           "2015/09/08"
          ],
          [
           -32.7,
           -178.37,
           "11:37:26.4",
           "2015/09/08"
          ],
          [
           -33.1,
           -178.38,
           "08:47:21.4",
           "2015/09/11"
          ],
          [
           -33.42,
           -178.53,
           "07:05:12.7",
           "2015/09/13"
          ],
          [
           -32.97,
           -178.36,
           "14:53:23.4",
           "2015/09/14"
          ],
          [
           -32.92,
           -178.17,
           "22:30:38.7",
           "2015/09/24"
          ],
          [
           -33.03,
           -178.28,
           "04:14:09.7",
           "2015/10/03"
          ],
          [
           -32.81,
           -178.4,
           "14:19:45.1",
           "2015/11/10"
          ],
          [
           -32.94,
           -178.39,
           "09:26:45.4",
           "2016/03/01"
          ],
          [
           -32.7,
           -178.47,
           "16:43:59.2",
           "2016/03/04"
          ],
          [
           -32.96,
           -178.22,
           "18:45:30.1",
           "2016/03/05"
          ]
         ],
         "hovertemplate": "<b>%{hovertext}</b><br><br>Cluster=573<br>Lat=%{customdata[0]}<br>Lon=%{customdata[1]}<br>Time=%{customdata[2]}<br>Date=%{customdata[3]}<extra></extra>",
         "hovertext": {
          "dtype": "f8",
          "bdata": "AAAAAADogUAAAAAAAOiBQAAAAAAA6IFAAAAAAADogUAAAAAAAOiBQAAAAAAA6IFAAAAAAADogUAAAAAAAOiBQAAAAAAA6IFAAAAAAADogUAAAAAAAOiBQAAAAAAA6IFA"
         },
         "lat": {
          "dtype": "f8",
          "bdata": "pHA9CteDQMCPwvUoXI9AwJqZmZmZWUDAzczMzMyMQMD2KFyPwrVAwFyPwvUofEDA9ihcj8J1QMCkcD0K14NAwEjhehSuZ0DAuB6F61F4QMCamZmZmVlAwHsUrkfhekDA"
         },
         "legendgroup": "573",
         "lon": {
          "dtype": "f8",
          "bdata": "KVyPwvVQZsAfhetRuEZmwKRwPQrXS2bAXI/C9ShMZsApXI/C9VBmwOxRuB6FS2bAPQrXo3BFZsApXI/C9UhmwM3MzMzMTGbAFK5H4XpMZsDXo3A9Ck9mwNejcD0KR2bA"
         },
         "marker": {
          "color": "#B6E880"
         },
         "mode": "markers",
         "name": "573",
         "showlegend": true,
         "subplot": "map",
         "type": "scattermap"
        },
        {
         "customdata": [
          [
           -30.14,
           -177.6,
           "01:47:08.5",
           "2015/12/07"
          ],
          [
           -30.09,
           -177.45,
           "14:59:52.0",
           "2017/01/29"
          ],
          [
           -30.44,
           -177.18,
           "02:19:13.5",
           "2017/06/21"
          ]
         ],
         "hovertemplate": "<b>%{hovertext}</b><br><br>Cluster=580<br>Lat=%{customdata[0]}<br>Lon=%{customdata[1]}<br>Time=%{customdata[2]}<br>Date=%{customdata[3]}<extra></extra>",
         "hovertext": {
          "dtype": "f8",
          "bdata": "AAAAAAAggkAAAAAAACCCQAAAAAAAIIJA"
         },
         "lat": {
          "dtype": "f8",
          "bdata": "pHA9CtcjPsDXo3A9Chc+wHE9CtejcD7A"
         },
         "legendgroup": "580",
         "lon": {
          "dtype": "f8",
          "bdata": "MzMzMzMzZsBmZmZmZi5mwPYoXI/CJWbA"
         },
         "marker": {
          "color": "#FF97FF"
         },
         "mode": "markers",
         "name": "580",
         "showlegend": true,
         "subplot": "map",
         "type": "scattermap"
        },
        {
         "customdata": [
          [
           -30.36,
           -178.01,
           "21:29:38.9",
           "2015/12/31"
          ],
          [
           -30.45,
           -177.68,
           "00:07:47.9",
           "2016/02/04"
          ],
          [
           -30.42,
           -177.58,
           "00:48:14.1",
           "2016/02/04"
          ],
          [
           -30.5,
           -177.58,
           "00:58:43.8",
           "2016/02/04"
          ],
          [
           -30.49,
           -177.57,
           "08:52:15.6",
           "2016/02/04"
          ],
          [
           -30.48,
           -177.67,
           "07:44:26.9",
           "2016/02/17"
          ],
          [
           -30.27,
           -177.98,
           "07:14:18.6",
           "2016/05/30"
          ],
          [
           -30.32,
           -177.93,
           "10:55:17.1",
           "2016/05/30"
          ],
          [
           -30.22,
           -177.95,
           "15:37:23.3",
           "2016/06/01"
          ],
          [
           -30.02,
           -177.84,
           "02:35:32.4",
           "2016/06/06"
          ],
          [
           -30.15,
           -177.84,
           "14:55:48.4",
           "2016/06/23"
          ],
          [
           -30.06,
           -177.87,
           "17:38:47.1",
           "2016/07/04"
          ],
          [
           -30.29,
           -177.65,
           "01:34:03.7",
           "2016/09/29"
          ],
          [
           -30.5,
           -177.65,
           "16:15:24.0",
           "2016/11/02"
          ],
          [
           -30.58,
           -177.77,
           "12:56:11.0",
           "2016/12/30"
          ],
          [
           -30.17,
           -177.79,
           "00:41:50.7",
           "2017/01/16"
          ],
          [
           -30.2,
           -177.58,
           "22:05:02.0",
           "2017/02/04"
          ],
          [
           -30.52,
           -177.52,
           "17:10:38.7",
           "2017/03/11"
          ],
          [
           -30.3,
           -177.48,
           "18:16:52.2",
           "2017/03/14"
          ],
          [
           -30.52,
           -178.06,
           "00:26:17.5",
           "2017/06/15"
          ],
          [
           -30.22,
           -177.71,
           "18:47:16.6",
           "2017/06/18"
          ],
          [
           -30.31,
           -177.66,
           "18:20:55.5",
           "2017/06/28"
          ],
          [
           -30.23,
           -177.7,
           "04:45:34.5",
           "2017/07/05"
          ]
         ],
         "hovertemplate": "<b>%{hovertext}</b><br><br>Cluster=583<br>Lat=%{customdata[0]}<br>Lon=%{customdata[1]}<br>Time=%{customdata[2]}<br>Date=%{customdata[3]}<extra></extra>",
         "hovertext": {
          "dtype": "f8",
          "bdata": "AAAAAAA4gkAAAAAAADiCQAAAAAAAOIJAAAAAAAA4gkAAAAAAADiCQAAAAAAAOIJAAAAAAAA4gkAAAAAAADiCQAAAAAAAOIJAAAAAAAA4gkAAAAAAADiCQAAAAAAAOIJAAAAAAAA4gkAAAAAAADiCQAAAAAAAOIJAAAAAAAA4gkAAAAAAADiCQAAAAAAAOIJAAAAAAAA4gkAAAAAAADiCQAAAAAAAOIJAAAAAAAA4gkAAAAAAADiCQA=="
         },
         "lat": {
          "dtype": "f8",
          "bdata": "XI/C9ShcPsAzMzMzM3M+wOxRuB6Faz7AAAAAAACAPsA9CtejcH0+wHsUrkfhej7AhetRuB5FPsBSuB6F61E+wLgehetROD7AhetRuB4FPsBmZmZmZiY+wI/C9ShcDz7ACtejcD1KPsAAAAAAAIA+wBSuR+F6lD7A7FG4HoUrPsAzMzMzMzM+wIXrUbgehT7AzczMzMxMPsCF61G4HoU+wLgehetROD7Aj8L1KFxPPsB7FK5H4To+wA=="
         },
         "legendgroup": "583",
         "lon": {
          "dtype": "f8",
          "bdata": "uB6F61FAZsD2KFyPwjVmwMP1KFyPMmbAw/UoXI8yZsAK16NwPTJmwD0K16NwNWbAj8L1KFw/ZsD2KFyPwj1mwGZmZmZmPmbAexSuR+E6ZsB7FK5H4TpmwKRwPQrXO2bAzczMzMw0ZsDNzMzMzDRmwHE9CtejOGbA4XoUrkc5ZsDD9ShcjzJmwHE9CtejMGbAj8L1KFwvZsBSuB6F60FmwB+F61G4NmbAhetRuB41ZsBmZmZmZjZmwA=="
         },
         "marker": {
          "color": "#FECB52"
         },
         "mode": "markers",
         "name": "583",
         "showlegend": true,
         "subplot": "map",
         "type": "scattermap"
        },
        {
         "customdata": [
          [
           -30.75,
           -179.95,
           "19:00:46.3",
           "2016/02/01"
          ],
          [
           -31.0,
           -179.9,
           "16:49:19.1",
           "2016/12/06"
          ],
          [
           -31.18,
           -179.89,
           "19:25:59.3",
           "2017/03/06"
          ],
          [
           -31.12,
           179.93,
           "07:03:11.0",
           "2017/06/29"
          ]
         ],
         "hovertemplate": "<b>%{hovertext}</b><br><br>Cluster=584<br>Lat=%{customdata[0]}<br>Lon=%{customdata[1]}<br>Time=%{customdata[2]}<br>Date=%{customdata[3]}<extra></extra>",
         "hovertext": {
          "dtype": "f8",
          "bdata": "AAAAAABAgkAAAAAAAECCQAAAAAAAQIJAAAAAAABAgkA="
         },
         "lat": {
          "dtype": "f8",
          "bdata": "AAAAAADAPsAAAAAAAAA/wK5H4XoULj/AH4XrUbgeP8A="
         },
         "legendgroup": "584",
         "lon": {
          "dtype": "f8",
          "bdata": "ZmZmZmZ+ZsDNzMzMzHxmwBSuR+F6fGbA9ihcj8J9ZkA="
         },
         "marker": {
          "color": "#636efa"
         },
         "mode": "markers",
         "name": "584",
         "showlegend": true,
         "subplot": "map",
         "type": "scattermap"
        },
        {
         "customdata": [
          [
           -33.71,
           -178.46,
           "13:09:55.7",
           "2016/05/26"
          ],
          [
           -33.61,
           -178.58,
           "04:55:01.9",
           "2016/08/19"
          ]
         ],
         "hovertemplate": "<b>%{hovertext}</b><br><br>Cluster=592<br>Lat=%{customdata[0]}<br>Lon=%{customdata[1]}<br>Time=%{customdata[2]}<br>Date=%{customdata[3]}<extra></extra>",
         "hovertext": {
          "dtype": "f8",
          "bdata": "AAAAAACAgkAAAAAAAICCQA=="
         },
         "lat": {
          "dtype": "f8",
          "bdata": "exSuR+HaQMCuR+F6FM5AwA=="
         },
         "legendgroup": "592",
         "lon": {
          "dtype": "f8",
          "bdata": "H4XrUbhOZsDD9Shcj1JmwA=="
         },
         "marker": {
          "color": "#EF553B"
         },
         "mode": "markers",
         "name": "592",
         "showlegend": true,
         "subplot": "map",
         "type": "scattermap"
        },
        {
         "customdata": [
          [
           -37.13,
           178.93,
           "22:04:35.2",
           "2016/08/31"
          ],
          [
           -37.36,
           179.15,
           "16:37:57.3",
           "2016/09/01"
          ],
          [
           -37.23,
           178.6,
           "19:18:32.3",
           "2016/09/01"
          ],
          [
           -37.32,
           178.71,
           "20:06:10.0",
           "2016/09/01"
          ],
          [
           -37.5,
           178.73,
           "04:30:14.6",
           "2016/09/03"
          ],
          [
           -37.21,
           178.9,
           "04:58:38.5",
           "2016/09/03"
          ],
          [
           -37.34,
           178.99,
           "13:30:27.1",
           "2016/09/03"
          ],
          [
           -37.18,
           179.38,
           "06:19:38.5",
           "2016/09/04"
          ],
          [
           -37.33,
           178.97,
           "20:00:26.8",
           "2016/09/04"
          ],
          [
           -37.13,
           178.7,
           "15:19:03.6",
           "2016/09/05"
          ],
          [
           -36.96,
           178.99,
           "17:01:56.9",
           "2016/09/05"
          ],
          [
           -37.33,
           179.16,
           "16:09:27.1",
           "2016/09/14"
          ],
          [
           -37.67,
           178.97,
           "05:56:27.5",
           "2016/09/23"
          ],
          [
           -37.12,
           178.64,
           "19:41:21.3",
           "2016/10/08"
          ],
          [
           -37.64,
           179.01,
           "07:53:01.7",
           "2017/02/20"
          ],
          [
           -37.16,
           178.77,
           "06:34:36.3",
           "2017/09/30"
          ],
          [
           -37.49,
           178.83,
           "12:14:26.5",
           "2018/04/09"
          ]
         ],
         "hovertemplate": "<b>%{hovertext}</b><br><br>Cluster=597<br>Lat=%{customdata[0]}<br>Lon=%{customdata[1]}<br>Time=%{customdata[2]}<br>Date=%{customdata[3]}<extra></extra>",
         "hovertext": {
          "dtype": "f8",
          "bdata": "AAAAAACogkAAAAAAAKiCQAAAAAAAqIJAAAAAAACogkAAAAAAAKiCQAAAAAAAqIJAAAAAAACogkAAAAAAAKiCQAAAAAAAqIJAAAAAAACogkAAAAAAAKiCQAAAAAAAqIJAAAAAAACogkAAAAAAAKiCQAAAAAAAqIJAAAAAAACogkAAAAAAAKiCQA=="
         },
         "lat": {
          "dtype": "f8",
          "bdata": "cT0K16OQQsCuR+F6FK5CwD0K16NwnULAKVyPwvWoQsAAAAAAAMBCwHsUrkfhmkLA7FG4HoWrQsDXo3A9CpdCwArXo3A9qkLAcT0K16OQQsB7FK5H4XpCwArXo3A9qkLA9ihcj8LVQsCPwvUoXI9CwFK4HoXr0ULAFK5H4XqUQsAfhetRuL5CwA=="
         },
         "legendgroup": "597",
         "lon": {
          "dtype": "f8",
          "bdata": "9ihcj8JdZkDNzMzMzGRmQDMzMzMzU2ZAH4XrUbhWZkCPwvUoXFdmQM3MzMzMXGZASOF6FK5fZkBcj8L1KGxmQNejcD0KX2ZAZmZmZmZWZkBI4XoUrl9mQIXrUbgeZWZA16NwPQpfZkAUrkfhelRmQLgehetRYGZAcT0K16NYZkDD9Shcj1pmQA=="
         },
         "marker": {
          "color": "#00cc96"
         },
         "mode": "markers",
         "name": "597",
         "showlegend": true,
         "subplot": "map",
         "type": "scattermap"
        },
        {
         "customdata": [
          [
           -32.61,
           -178.01,
           "04:02:15.6",
           "2016/09/24"
          ],
          [
           -32.4,
           -177.77,
           "04:28:39.9",
           "2016/09/25"
          ],
          [
           -32.44,
           -178.22,
           "07:54:36.3",
           "2016/09/27"
          ],
          [
           -32.6,
           -178.05,
           "10:40:23.2",
           "2016/09/27"
          ]
         ],
         "hovertemplate": "<b>%{hovertext}</b><br><br>Cluster=598<br>Lat=%{customdata[0]}<br>Lon=%{customdata[1]}<br>Time=%{customdata[2]}<br>Date=%{customdata[3]}<extra></extra>",
         "hovertext": {
          "dtype": "f8",
          "bdata": "AAAAAACwgkAAAAAAALCCQAAAAAAAsIJAAAAAAACwgkA="
         },
         "lat": {
          "dtype": "f8",
          "bdata": "rkfhehROQMAzMzMzMzNAwLgehetROEDAzczMzMxMQMA="
         },
         "legendgroup": "598",
         "lon": {
          "dtype": "f8",
          "bdata": "uB6F61FAZsBxPQrXozhmwNejcD0KR2bAmpmZmZlBZsA="
         },
         "marker": {
          "color": "#ab63fa"
         },
         "mode": "markers",
         "name": "598",
         "showlegend": true,
         "subplot": "map",
         "type": "scattermap"
        },
        {
         "customdata": [
          [
           -42.74,
           173.05,
           "11:02:56.3",
           "2016/11/13"
          ],
          [
           -42.37,
           173.94,
           "19:28:56.7",
           "2016/11/13"
          ],
          [
           -42.35,
           173.07,
           "22:19:32.2",
           "2016/11/13"
          ],
          [
           -42.61,
           173.25,
           "00:34:22.6",
           "2016/11/14"
          ],
          [
           -42.33,
           173.91,
           "06:47:52.0",
           "2016/11/14"
          ],
          [
           -42.45,
           173.77,
           "09:49:56.3",
           "2016/11/14"
          ],
          [
           -42.35,
           173.96,
           "19:17:31.9",
           "2016/11/14"
          ],
          [
           -42.57,
           173.97,
           "04:12:44.7",
           "2016/11/15"
          ],
          [
           -42.35,
           173.74,
           "05:09:25.2",
           "2016/11/15"
          ],
          [
           -42.36,
           173.95,
           "06:30:30.5",
           "2016/11/15"
          ],
          [
           -42.59,
           173.26,
           "14:22:57.1",
           "2016/11/18"
          ],
          [
           -42.93,
           173.0,
           "05:13:35.4",
           "2016/11/22"
          ],
          [
           -42.37,
           173.87,
           "10:21:29.7",
           "2017/02/01"
          ],
          [
           -42.67,
           172.74,
           "20:18:54.3",
           "2017/02/11"
          ],
          [
           -43.01,
           173.18,
           "19:01:02.0",
           "2017/03/01"
          ],
          [
           -42.4,
           173.41,
           "04:10:58.9",
           "2017/10/22"
          ]
         ],
         "hovertemplate": "<b>%{hovertext}</b><br><br>Cluster=600<br>Lat=%{customdata[0]}<br>Lon=%{customdata[1]}<br>Time=%{customdata[2]}<br>Date=%{customdata[3]}<extra></extra>",
         "hovertext": {
          "dtype": "f8",
          "bdata": "AAAAAADAgkAAAAAAAMCCQAAAAAAAwIJAAAAAAADAgkAAAAAAAMCCQAAAAAAAwIJAAAAAAADAgkAAAAAAAMCCQAAAAAAAwIJAAAAAAADAgkAAAAAAAMCCQAAAAAAAwIJAAAAAAADAgkAAAAAAAMCCQAAAAAAAwIJAAAAAAADAgkA="
         },
         "lat": {
          "dtype": "f8",
          "bdata": "H4XrUbheRcCPwvUoXC9FwM3MzMzMLEXArkfhehRORcAK16NwPSpFwJqZmZmZOUXAzczMzMwsRcApXI/C9UhFwM3MzMzMLEXArkfhehQuRcDsUbgehUtFwNejcD0Kd0XAj8L1KFwvRcD2KFyPwlVFwOF6FK5HgUXAMzMzMzMzRcA="
         },
         "legendgroup": "600",
         "lon": {
          "dtype": "f8",
          "bdata": "mpmZmZmhZUCuR+F6FL5lQArXo3A9omVAAAAAAACoZUCF61G4Hr1lQHE9CtejuGVAH4XrUbi+ZUDXo3A9Cr9lQEjhehSut2VAZmZmZma+ZUC4HoXrUahlQAAAAAAAoGVApHA9Cte7ZUBI4XoUrpdlQPYoXI/CpWVAhetRuB6tZUA="
         },
         "marker": {
          "color": "#FFA15A"
         },
         "mode": "markers",
         "name": "600",
         "showlegend": true,
         "subplot": "map",
         "type": "scattermap"
        },
        {
         "customdata": [
          [
           -41.82,
           174.28,
           "06:43:00.2",
           "2016/11/14"
          ],
          [
           -41.76,
           174.3,
           "07:21:04.7",
           "2016/11/14"
          ],
          [
           -41.79,
           174.31,
           "01:34:44.0",
           "2016/11/15"
          ],
          [
           -41.72,
           174.41,
           "19:53:01.3",
           "2016/11/15"
          ],
          [
           -41.71,
           174.2,
           "03:15:47.5",
           "2016/12/04"
          ],
          [
           -41.7,
           174.56,
           "02:34:33.4",
           "2016/12/29"
          ],
          [
           -41.83,
           174.06,
           "11:17:34.8",
           "2017/01/05"
          ]
         ],
         "hovertemplate": "<b>%{hovertext}</b><br><br>Cluster=601<br>Lat=%{customdata[0]}<br>Lon=%{customdata[1]}<br>Time=%{customdata[2]}<br>Date=%{customdata[3]}<extra></extra>",
         "hovertext": {
          "dtype": "f8",
          "bdata": "AAAAAADIgkAAAAAAAMiCQAAAAAAAyIJAAAAAAADIgkAAAAAAAMiCQAAAAAAAyIJAAAAAAADIgkA="
         },
         "lat": {
          "dtype": "f8",
          "bdata": "KVyPwvXoRMDhehSuR+FEwIXrUbge5UTAXI/C9SjcRMB7FK5H4dpEwJqZmZmZ2UTACtejcD3qRMA="
         },
         "legendgroup": "601",
         "lon": {
          "dtype": "f8",
          "bdata": "KVyPwvXIZUCamZmZmcllQFK4HoXryWVAhetRuB7NZUBmZmZmZsZlQFK4HoXr0WVAUrgehevBZUA="
         },
         "marker": {
          "color": "#19d3f3"
         },
         "mode": "markers",
         "name": "601",
         "showlegend": true,
         "subplot": "map",
         "type": "scattermap"
        },
        {
         "customdata": [
          [
           -32.97,
           -178.75,
           "13:15:52.0",
           "2016/11/24"
          ],
          [
           -33.12,
           -179.13,
           "11:38:15.0",
           "2017/03/19"
          ]
         ],
         "hovertemplate": "<b>%{hovertext}</b><br><br>Cluster=605<br>Lat=%{customdata[0]}<br>Lon=%{customdata[1]}<br>Time=%{customdata[2]}<br>Date=%{customdata[3]}<extra></extra>",
         "hovertext": {
          "dtype": "f8",
          "bdata": "AAAAAADogkAAAAAAAOiCQA=="
         },
         "lat": {
          "dtype": "f8",
          "bdata": "XI/C9Sh8QMCPwvUoXI9AwA=="
         },
         "legendgroup": "605",
         "lon": {
          "dtype": "f8",
          "bdata": "AAAAAABYZsBcj8L1KGRmwA=="
         },
         "marker": {
          "color": "#FF6692"
         },
         "mode": "markers",
         "name": "605",
         "showlegend": true,
         "subplot": "map",
         "type": "scattermap"
        },
        {
         "customdata": [
          [
           -31.73,
           -176.15,
           "09:16:17.9",
           "2016/12/14"
          ],
          [
           -31.76,
           -176.12,
           "14:57:00.3",
           "2016/12/14"
          ]
         ],
         "hovertemplate": "<b>%{hovertext}</b><br><br>Cluster=607<br>Lat=%{customdata[0]}<br>Lon=%{customdata[1]}<br>Time=%{customdata[2]}<br>Date=%{customdata[3]}<extra></extra>",
         "hovertext": {
          "dtype": "f8",
          "bdata": "AAAAAAD4gkAAAAAAAPiCQA=="
         },
         "lat": {
          "dtype": "f8",
          "bdata": "exSuR+G6P8DD9Shcj8I/wA=="
         },
         "legendgroup": "607",
         "lon": {
          "dtype": "f8",
          "bdata": "zczMzMwEZsCkcD0K1wNmwA=="
         },
         "marker": {
          "color": "#B6E880"
         },
         "mode": "markers",
         "name": "607",
         "showlegend": true,
         "subplot": "map",
         "type": "scattermap"
        },
        {
         "customdata": [
          [
           -37.89,
           177.68,
           "16:46:11.1",
           "2017/01/06"
          ],
          [
           -38.03,
           177.78,
           "05:05:38.1",
           "2017/02/02"
          ],
          [
           -37.81,
           177.73,
           "06:19:56.9",
           "2017/05/09"
          ]
         ],
         "hovertemplate": "<b>%{hovertext}</b><br><br>Cluster=610<br>Lat=%{customdata[0]}<br>Lon=%{customdata[1]}<br>Time=%{customdata[2]}<br>Date=%{customdata[3]}<extra></extra>",
         "hovertext": {
          "dtype": "f8",
          "bdata": "AAAAAAAQg0AAAAAAABCDQAAAAAAAEINA"
         },
         "lat": {
          "dtype": "f8",
          "bdata": "UrgehevxQsCkcD0K1wNDwEjhehSu50LA"
         },
         "legendgroup": "610",
         "lon": {
          "dtype": "f8",
          "bdata": "9ihcj8I1ZkApXI/C9ThmQI/C9ShcN2ZA"
         },
         "marker": {
          "color": "#FF97FF"
         },
         "mode": "markers",
         "name": "610",
         "showlegend": true,
         "subplot": "map",
         "type": "scattermap"
        },
        {
         "customdata": [
          [
           -49.48,
           164.02,
           "07:00:01.2",
           "2017/07/11"
          ],
          [
           -49.64,
           163.83,
           "19:54:26.2",
           "2018/11/05"
          ]
         ],
         "hovertemplate": "<b>%{hovertext}</b><br><br>Cluster=617<br>Lat=%{customdata[0]}<br>Lon=%{customdata[1]}<br>Time=%{customdata[2]}<br>Date=%{customdata[3]}<extra></extra>",
         "hovertext": {
          "dtype": "f8",
          "bdata": "AAAAAABIg0AAAAAAAEiDQA=="
         },
         "lat": {
          "dtype": "f8",
          "bdata": "PQrXo3C9SMBSuB6F69FIwA=="
         },
         "legendgroup": "617",
         "lon": {
          "dtype": "f8",
          "bdata": "cT0K16OAZEDD9Shcj3pkQA=="
         },
         "marker": {
          "color": "#FECB52"
         },
         "mode": "markers",
         "name": "617",
         "showlegend": true,
         "subplot": "map",
         "type": "scattermap"
        },
        {
         "customdata": [
          [
           -30.28,
           -177.97,
           "22:22:44.1",
           "2017/09/17"
          ],
          [
           -30.31,
           -177.95,
           "12:11:04.4",
           "2017/09/18"
          ],
          [
           -30.39,
           -177.92,
           "05:25:54.1",
           "2017/11/17"
          ],
          [
           -30.52,
           -177.89,
           "01:03:50.5",
           "2018/01/10"
          ],
          [
           -30.02,
           -177.74,
           "22:56:59.4",
           "2018/01/17"
          ],
          [
           -30.17,
           -177.72,
           "07:26:26.7",
           "2018/03/22"
          ],
          [
           -30.24,
           -177.74,
           "06:31:12.3",
           "2018/03/31"
          ],
          [
           -30.06,
           -177.75,
           "00:49:04.3",
           "2018/04/04"
          ],
          [
           -30.24,
           -177.68,
           "02:47:46.4",
           "2018/05/18"
          ],
          [
           -30.75,
           -177.93,
           "14:03:11.7",
           "2018/07/16"
          ],
          [
           -30.23,
           -178.02,
           "17:53:01.8",
           "2019/01/23"
          ]
         ],
         "hovertemplate": "<b>%{hovertext}</b><br><br>Cluster=623<br>Lat=%{customdata[0]}<br>Lon=%{customdata[1]}<br>Time=%{customdata[2]}<br>Date=%{customdata[3]}<extra></extra>",
         "hovertext": {
          "dtype": "f8",
          "bdata": "AAAAAAB4g0AAAAAAAHiDQAAAAAAAeINAAAAAAAB4g0AAAAAAAHiDQAAAAAAAeINAAAAAAAB4g0AAAAAAAHiDQAAAAAAAeINAAAAAAAB4g0AAAAAAAHiDQA=="
         },
         "lat": {
          "dtype": "f8",
          "bdata": "SOF6FK5HPsCPwvUoXE8+wKRwPQrXYz7AhetRuB6FPsCF61G4HgU+wOxRuB6FKz7APQrXo3A9PsCPwvUoXA8+wD0K16NwPT7AAAAAAADAPsB7FK5H4To+wA=="
         },
         "legendgroup": "623",
         "lon": {
          "dtype": "f8",
          "bdata": "16NwPQo/ZsBmZmZmZj5mwD0K16NwPWbAFK5H4Xo8ZsBI4XoUrjdmwNejcD0KN2bASOF6FK43ZsAAAAAAADhmwPYoXI/CNWbA9ihcj8I9ZsBxPQrXo0BmwA=="
         },
         "marker": {
          "color": "#636efa"
         },
         "mode": "markers",
         "name": "623",
         "showlegend": true,
         "subplot": "map",
         "type": "scattermap"
        },
        {
         "customdata": [
          [
           -32.99,
           -178.28,
           "00:16:30.9",
           "2017/10/07"
          ],
          [
           -32.91,
           -178.04,
           "08:38:09.5",
           "2017/10/07"
          ]
         ],
         "hovertemplate": "<b>%{hovertext}</b><br><br>Cluster=626<br>Lat=%{customdata[0]}<br>Lon=%{customdata[1]}<br>Time=%{customdata[2]}<br>Date=%{customdata[3]}<extra></extra>",
         "hovertext": {
          "dtype": "f8",
          "bdata": "AAAAAACQg0AAAAAAAJCDQA=="
         },
         "lat": {
          "dtype": "f8",
          "bdata": "H4XrUbh+QMAUrkfhenRAwA=="
         },
         "legendgroup": "626",
         "lon": {
          "dtype": "f8",
          "bdata": "KVyPwvVIZsDhehSuR0FmwA=="
         },
         "marker": {
          "color": "#EF553B"
         },
         "mode": "markers",
         "name": "626",
         "showlegend": true,
         "subplot": "map",
         "type": "scattermap"
        },
        {
         "customdata": [
          [
           -30.45,
           -177.32,
           "14:13:26.5",
           "2017/10/07"
          ],
          [
           -30.52,
           -177.32,
           "09:55:58.7",
           "2017/10/20"
          ]
         ],
         "hovertemplate": "<b>%{hovertext}</b><br><br>Cluster=627<br>Lat=%{customdata[0]}<br>Lon=%{customdata[1]}<br>Time=%{customdata[2]}<br>Date=%{customdata[3]}<extra></extra>",
         "hovertext": {
          "dtype": "f8",
          "bdata": "AAAAAACYg0AAAAAAAJiDQA=="
         },
         "lat": {
          "dtype": "f8",
          "bdata": "MzMzMzNzPsCF61G4HoU+wA=="
         },
         "legendgroup": "627",
         "lon": {
          "dtype": "f8",
          "bdata": "CtejcD0qZsAK16NwPSpmwA=="
         },
         "marker": {
          "color": "#00cc96"
         },
         "mode": "markers",
         "name": "627",
         "showlegend": true,
         "subplot": "map",
         "type": "scattermap"
        },
        {
         "customdata": [
          [
           -37.49,
           177.34,
           "07:36:06.4",
           "2017/10/31"
          ],
          [
           -37.6,
           177.28,
           "22:59:51.9",
           "2017/10/31"
          ]
         ],
         "hovertemplate": "<b>%{hovertext}</b><br><br>Cluster=628<br>Lat=%{customdata[0]}<br>Lon=%{customdata[1]}<br>Time=%{customdata[2]}<br>Date=%{customdata[3]}<extra></extra>",
         "hovertext": {
          "dtype": "f8",
          "bdata": "AAAAAACgg0AAAAAAAKCDQA=="
         },
         "lat": {
          "dtype": "f8",
          "bdata": "H4XrUbi+QsDNzMzMzMxCwA=="
         },
         "legendgroup": "628",
         "lon": {
          "dtype": "f8",
          "bdata": "exSuR+EqZkApXI/C9ShmQA=="
         },
         "marker": {
          "color": "#ab63fa"
         },
         "mode": "markers",
         "name": "628",
         "showlegend": true,
         "subplot": "map",
         "type": "scattermap"
        },
        {
         "customdata": [
          [
           -32.75,
           -178.77,
           "00:08:09.2",
           "2017/12/04"
          ],
          [
           -32.7,
           -178.28,
           "06:32:27.3",
           "2018/06/16"
          ]
         ],
         "hovertemplate": "<b>%{hovertext}</b><br><br>Cluster=631<br>Lat=%{customdata[0]}<br>Lon=%{customdata[1]}<br>Time=%{customdata[2]}<br>Date=%{customdata[3]}<extra></extra>",
         "hovertext": {
          "dtype": "f8",
          "bdata": "AAAAAAC4g0AAAAAAALiDQA=="
         },
         "lat": {
          "dtype": "f8",
          "bdata": "AAAAAABgQMCamZmZmVlAwA=="
         },
         "legendgroup": "631",
         "lon": {
          "dtype": "f8",
          "bdata": "cT0K16NYZsApXI/C9UhmwA=="
         },
         "marker": {
          "color": "#FFA15A"
         },
         "mode": "markers",
         "name": "631",
         "showlegend": true,
         "subplot": "map",
         "type": "scattermap"
        },
        {
         "customdata": [
          [
           -30.56,
           -178.49,
           "02:09:57.4",
           "2017/12/08"
          ],
          [
           -30.65,
           -178.14,
           "18:02:28.6",
           "2018/03/09"
          ],
          [
           -30.57,
           -178.07,
           "21:33:49.6",
           "2018/07/07"
          ],
          [
           -30.58,
           -178.02,
           "10:31:20.8",
           "2019/03/03"
          ]
         ],
         "hovertemplate": "<b>%{hovertext}</b><br><br>Cluster=632<br>Lat=%{customdata[0]}<br>Lon=%{customdata[1]}<br>Time=%{customdata[2]}<br>Date=%{customdata[3]}<extra></extra>",
         "hovertext": {
          "dtype": "f8",
          "bdata": "AAAAAADAg0AAAAAAAMCDQAAAAAAAwINAAAAAAADAg0A="
         },
         "lat": {
          "dtype": "f8",
          "bdata": "j8L1KFyPPsBmZmZmZqY+wFK4HoXrkT7AFK5H4XqUPsA="
         },
         "legendgroup": "632",
         "lon": {
          "dtype": "f8",
          "bdata": "SOF6FK5PZsAUrkfhekRmwArXo3A9QmbAcT0K16NAZsA="
         },
         "marker": {
          "color": "#19d3f3"
         },
         "mode": "markers",
         "name": "632",
         "showlegend": true,
         "subplot": "map",
         "type": "scattermap"
        },
        {
         "customdata": [
          [
           -33.97,
           -179.29,
           "11:38:49.9",
           "2018/03/21"
          ],
          [
           -33.78,
           -179.5,
           "17:22:17.3",
           "2018/05/16"
          ]
         ],
         "hovertemplate": "<b>%{hovertext}</b><br><br>Cluster=633<br>Lat=%{customdata[0]}<br>Lon=%{customdata[1]}<br>Time=%{customdata[2]}<br>Date=%{customdata[3]}<extra></extra>",
         "hovertext": {
          "dtype": "f8",
          "bdata": "AAAAAADIg0AAAAAAAMiDQA=="
         },
         "lat": {
          "dtype": "f8",
          "bdata": "XI/C9Sj8QMCkcD0K1+NAwA=="
         },
         "legendgroup": "633",
         "lon": {
          "dtype": "f8",
          "bdata": "4XoUrkdpZsAAAAAAAHBmwA=="
         },
         "marker": {
          "color": "#FF6692"
         },
         "mode": "markers",
         "name": "633",
         "showlegend": true,
         "subplot": "map",
         "type": "scattermap"
        },
        {
         "customdata": [
          [
           -31.98,
           -179.95,
           "21:43:15.3",
           "2018/05/17"
          ],
          [
           -31.79,
           179.73,
           "05:03:43.1",
           "2019/04/17"
          ]
         ],
         "hovertemplate": "<b>%{hovertext}</b><br><br>Cluster=637<br>Lat=%{customdata[0]}<br>Lon=%{customdata[1]}<br>Time=%{customdata[2]}<br>Date=%{customdata[3]}<extra></extra>",
         "hovertext": {
          "dtype": "f8",
          "bdata": "AAAAAADog0AAAAAAAOiDQA=="
         },
         "lat": {
          "dtype": "f8",
          "bdata": "exSuR+H6P8AK16NwPco/wA=="
         },
         "legendgroup": "637",
         "lon": {
          "dtype": "f8",
          "bdata": "ZmZmZmZ+ZsCPwvUoXHdmQA=="
         },
         "marker": {
          "color": "#B6E880"
         },
         "mode": "markers",
         "name": "637",
         "showlegend": true,
         "subplot": "map",
         "type": "scattermap"
        },
        {
         "customdata": [
          [
           -34.59,
           -178.41,
           "01:45:31.5",
           "2018/05/18"
          ],
          [
           -34.87,
           -178.78,
           "13:01:27.8",
           "2018/08/02"
          ]
         ],
         "hovertemplate": "<b>%{hovertext}</b><br><br>Cluster=638<br>Lat=%{customdata[0]}<br>Lon=%{customdata[1]}<br>Time=%{customdata[2]}<br>Date=%{customdata[3]}<extra></extra>",
         "hovertext": {
          "dtype": "f8",
          "bdata": "AAAAAADwg0AAAAAAAPCDQA=="
         },
         "lat": {
          "dtype": "f8",
          "bdata": "7FG4HoVLQcCPwvUoXG9BwA=="
         },
         "legendgroup": "638",
         "lon": {
          "dtype": "f8",
          "bdata": "hetRuB5NZsApXI/C9VhmwA=="
         },
         "marker": {
          "color": "#FF97FF"
         },
         "mode": "markers",
         "name": "638",
         "showlegend": true,
         "subplot": "map",
         "type": "scattermap"
        },
        {
         "customdata": [
          [
           -33.04,
           -179.4,
           "04:52:31.1",
           "2018/06/01"
          ],
          [
           -33.11,
           -179.13,
           "19:41:27.0",
           "2018/09/25"
          ]
         ],
         "hovertemplate": "<b>%{hovertext}</b><br><br>Cluster=641<br>Lat=%{customdata[0]}<br>Lon=%{customdata[1]}<br>Time=%{customdata[2]}<br>Date=%{customdata[3]}<extra></extra>",
         "hovertext": {
          "dtype": "f8",
          "bdata": "AAAAAAAIhEAAAAAAAAiEQA=="
         },
         "lat": {
          "dtype": "f8",
          "bdata": "hetRuB6FQMCuR+F6FI5AwA=="
         },
         "legendgroup": "641",
         "lon": {
          "dtype": "f8",
          "bdata": "zczMzMxsZsBcj8L1KGRmwA=="
         },
         "marker": {
          "color": "#FECB52"
         },
         "mode": "markers",
         "name": "641",
         "showlegend": true,
         "subplot": "map",
         "type": "scattermap"
        },
        {
         "customdata": [
          [
           -30.06,
           -177.45,
           "09:28:17.4",
           "2018/07/28"
          ],
          [
           -30.04,
           -177.73,
           "09:24:17.1",
           "2018/09/18"
          ],
          [
           -30.41,
           -177.47,
           "09:42:14.3",
           "2018/12/15"
          ],
          [
           -30.39,
           -177.18,
           "12:10:03.7",
           "2019/06/17"
          ]
         ],
         "hovertemplate": "<b>%{hovertext}</b><br><br>Cluster=646<br>Lat=%{customdata[0]}<br>Lon=%{customdata[1]}<br>Time=%{customdata[2]}<br>Date=%{customdata[3]}<extra></extra>",
         "hovertext": {
          "dtype": "f8",
          "bdata": "AAAAAAAwhEAAAAAAADCEQAAAAAAAMIRAAAAAAAAwhEA="
         },
         "lat": {
          "dtype": "f8",
          "bdata": "j8L1KFwPPsAK16NwPQo+wClcj8L1aD7ApHA9CtdjPsA="
         },
         "legendgroup": "646",
         "lon": {
          "dtype": "f8",
          "bdata": "ZmZmZmYuZsCPwvUoXDdmwNejcD0KL2bA9ihcj8IlZsA="
         },
         "marker": {
          "color": "#636efa"
         },
         "mode": "markers",
         "name": "646",
         "showlegend": true,
         "subplot": "map",
         "type": "scattermap"
        },
        {
         "customdata": [
          [
           -31.75,
           -179.37,
           "04:19:02.6",
           "2018/09/10"
          ],
          [
           -32.34,
           -179.58,
           "13:26:58.7",
           "2019/04/16"
          ],
          [
           -31.66,
           -178.78,
           "18:21:52.6",
           "2019/05/29"
          ],
          [
           -32.2,
           -179.02,
           "10:20:30.6",
           "2020/02/06"
          ],
          [
           -31.96,
           -178.72,
           "20:50:57.2",
           "2020/02/08"
          ],
          [
           -32.31,
           -179.41,
           "17:05:03.8",
           "2020/09/02"
          ]
         ],
         "hovertemplate": "<b>%{hovertext}</b><br><br>Cluster=648<br>Lat=%{customdata[0]}<br>Lon=%{customdata[1]}<br>Time=%{customdata[2]}<br>Date=%{customdata[3]}<extra></extra>",
         "hovertext": {
          "dtype": "f8",
          "bdata": "AAAAAABAhEAAAAAAAECEQAAAAAAAQIRAAAAAAABAhEAAAAAAAECEQAAAAAAAQIRA"
         },
         "lat": {
          "dtype": "f8",
          "bdata": "AAAAAADAP8DsUbgehStAwClcj8L1qD/AmpmZmZkZQMD2KFyPwvU/wEjhehSuJ0DA"
         },
         "legendgroup": "648",
         "lon": {
          "dtype": "f8",
          "bdata": "pHA9CtdrZsDD9Shcj3JmwClcj8L1WGbAcT0K16NgZsDXo3A9CldmwIXrUbgebWbA"
         },
         "marker": {
          "color": "#EF553B"
         },
         "mode": "markers",
         "name": "648",
         "showlegend": true,
         "subplot": "map",
         "type": "scattermap"
        },
        {
         "customdata": [
          [
           -34.83,
           -179.08,
           "01:56:30.1",
           "2018/09/12"
          ],
          [
           -35.04,
           -179.24,
           "06:27:00.4",
           "2018/09/13"
          ],
          [
           -34.83,
           -179.35,
           "17:34:12.4",
           "2018/09/13"
          ]
         ],
         "hovertemplate": "<b>%{hovertext}</b><br><br>Cluster=649<br>Lat=%{customdata[0]}<br>Lon=%{customdata[1]}<br>Time=%{customdata[2]}<br>Date=%{customdata[3]}<extra></extra>",
         "hovertext": {
          "dtype": "f8",
          "bdata": "AAAAAABIhEAAAAAAAEiEQAAAAAAASIRA"
         },
         "lat": {
          "dtype": "f8",
          "bdata": "CtejcD1qQcCF61G4HoVBwArXo3A9akHA"
         },
         "legendgroup": "649",
         "lon": {
          "dtype": "f8",
          "bdata": "w/UoXI9iZsBI4XoUrmdmwDMzMzMza2bA"
         },
         "marker": {
          "color": "#00cc96"
         },
         "mode": "markers",
         "name": "649",
         "showlegend": true,
         "subplot": "map",
         "type": "scattermap"
        },
        {
         "customdata": [
          [
           -47.9,
           165.42,
           "23:42:39.5",
           "2018/11/24"
          ],
          [
           -47.91,
           165.4,
           "09:57:00.5",
           "2018/11/26"
          ],
          [
           -47.81,
           165.6,
           "13:00:14.1",
           "2018/11/28"
          ],
          [
           -47.95,
           165.57,
           "03:25:49.8",
           "2019/01/03"
          ],
          [
           -47.9,
           165.58,
           "00:11:07.2",
           "2019/08/04"
          ]
         ],
         "hovertemplate": "<b>%{hovertext}</b><br><br>Cluster=654<br>Lat=%{customdata[0]}<br>Lon=%{customdata[1]}<br>Time=%{customdata[2]}<br>Date=%{customdata[3]}<extra></extra>",
         "hovertext": {
          "dtype": "f8",
          "bdata": "AAAAAABwhEAAAAAAAHCEQAAAAAAAcIRAAAAAAABwhEAAAAAAAHCEQA=="
         },
         "lat": {
          "dtype": "f8",
          "bdata": "MzMzMzPzR8AUrkfhevRHwEjhehSu50fAmpmZmZn5R8AzMzMzM/NHwA=="
         },
         "legendgroup": "654",
         "lon": {
          "dtype": "f8",
          "bdata": "PQrXo3CtZEDNzMzMzKxkQDMzMzMzs2RACtejcD2yZEDD9Shcj7JkQA=="
         },
         "marker": {
          "color": "#ab63fa"
         },
         "mode": "markers",
         "name": "654",
         "showlegend": true,
         "subplot": "map",
         "type": "scattermap"
        },
        {
         "customdata": [
          [
           -33.48,
           -177.93,
           "07:06:56.9",
           "2019/01/23"
          ],
          [
           -33.59,
           -178.17,
           "07:20:21.6",
           "2019/06/18"
          ]
         ],
         "hovertemplate": "<b>%{hovertext}</b><br><br>Cluster=656<br>Lat=%{customdata[0]}<br>Lon=%{customdata[1]}<br>Time=%{customdata[2]}<br>Date=%{customdata[3]}<extra></extra>",
         "hovertext": {
          "dtype": "f8",
          "bdata": "AAAAAACAhEAAAAAAAICEQA=="
         },
         "lat": {
          "dtype": "f8",
          "bdata": "PQrXo3C9QMDsUbgehctAwA=="
         },
         "legendgroup": "656",
         "lon": {
          "dtype": "f8",
          "bdata": "9ihcj8I9ZsA9CtejcEVmwA=="
         },
         "marker": {
          "color": "#FFA15A"
         },
         "mode": "markers",
         "name": "656",
         "showlegend": true,
         "subplot": "map",
         "type": "scattermap"
        },
        {
         "customdata": [
          [
           -31.81,
           -178.0,
           "22:53:27.9",
           "2019/03/03"
          ],
          [
           -32.02,
           -177.88,
           "15:46:14.9",
           "2019/03/06"
          ],
          [
           -32.24,
           -177.77,
           "20:19:59.2",
           "2019/03/06"
          ],
          [
           -31.93,
           -178.08,
           "00:20:44.2",
           "2019/03/07"
          ],
          [
           -32.09,
           -177.98,
           "02:27:02.9",
           "2019/03/07"
          ],
          [
           -32.22,
           -178.17,
           "13:02:40.3",
           "2019/03/07"
          ],
          [
           -32.08,
           -177.9,
           "20:56:28.5",
           "2019/03/11"
          ],
          [
           -31.76,
           -177.77,
           "14:30:22.3",
           "2019/03/18"
          ],
          [
           -31.63,
           -177.6,
           "15:07:16.8",
           "2019/03/18"
          ],
          [
           -31.97,
           -178.18,
           "12:32:24.7",
           "2019/03/19"
          ],
          [
           -31.38,
           -177.77,
           "19:24:08.6",
           "2019/03/21"
          ],
          [
           -31.85,
           -177.79,
           "07:47:42.2",
           "2019/03/23"
          ],
          [
           -31.95,
           -177.75,
           "06:00:44.8",
           "2019/03/26"
          ],
          [
           -31.64,
           -177.85,
           "15:07:07.2",
           "2019/03/26"
          ],
          [
           -32.02,
           -177.97,
           "07:02:14.8",
           "2019/04/07"
          ],
          [
           -31.66,
           -177.8,
           "20:58:22.1",
           "2019/06/16"
          ],
          [
           -31.93,
           -177.99,
           "23:19:58.9",
           "2019/06/16"
          ],
          [
           -31.77,
           -178.02,
           "04:07:58.3",
           "2020/01/15"
          ],
          [
           -32.05,
           -178.1,
           "20:04:11.8",
           "2020/12/24"
          ]
         ],
         "hovertemplate": "<b>%{hovertext}</b><br><br>Cluster=657<br>Lat=%{customdata[0]}<br>Lon=%{customdata[1]}<br>Time=%{customdata[2]}<br>Date=%{customdata[3]}<extra></extra>",
         "hovertext": {
          "dtype": "f8",
          "bdata": "AAAAAACIhEAAAAAAAIiEQAAAAAAAiIRAAAAAAACIhEAAAAAAAIiEQAAAAAAAiIRAAAAAAACIhEAAAAAAAIiEQAAAAAAAiIRAAAAAAACIhEAAAAAAAIiEQAAAAAAAiIRAAAAAAACIhEAAAAAAAIiEQAAAAAAAiIRAAAAAAACIhEAAAAAAAIiEQAAAAAAAiIRAAAAAAACIhEA="
         },
         "lat": {
          "dtype": "f8",
          "bdata": "j8L1KFzPP8DD9ShcjwJAwB+F61G4HkDArkfhehTuP8DsUbgehQtAwFyPwvUoHEDACtejcD0KQMDD9Shcj8I/wOF6FK5HoT/AuB6F61H4P8DhehSuR2E/wJqZmZmZ2T/AMzMzMzPzP8CkcD0K16M/wMP1KFyPAkDAKVyPwvWoP8CuR+F6FO4/wIXrUbgexT/AZmZmZmYGQMA="
         },
         "legendgroup": "657",
         "lon": {
          "dtype": "f8",
          "bdata": "AAAAAABAZsBcj8L1KDxmwHE9CtejOGbAw/UoXI9CZsCPwvUoXD9mwD0K16NwRWbAzczMzMw8ZsBxPQrXozhmwDMzMzMzM2bA9ihcj8JFZsBxPQrXozhmwOF6FK5HOWbAAAAAAAA4ZsAzMzMzMztmwNejcD0KP2bAmpmZmZk5ZsBI4XoUrj9mwHE9CtejQGbAMzMzMzNDZsA="
         },
         "marker": {
          "color": "#19d3f3"
         },
         "mode": "markers",
         "name": "657",
         "showlegend": true,
         "subplot": "map",
         "type": "scattermap"
        },
        {
         "customdata": [
          [
           -32.47,
           -178.37,
           "16:29:09.1",
           "2019/03/07"
          ],
          [
           -32.15,
           -178.13,
           "11:57:18.7",
           "2019/03/08"
          ],
          [
           -32.23,
           -178.48,
           "16:25:20.7",
           "2019/03/09"
          ],
          [
           -32.83,
           -178.35,
           "17:52:21.1",
           "2019/07/06"
          ]
         ],
         "hovertemplate": "<b>%{hovertext}</b><br><br>Cluster=659<br>Lat=%{customdata[0]}<br>Lon=%{customdata[1]}<br>Time=%{customdata[2]}<br>Date=%{customdata[3]}<extra></extra>",
         "hovertext": {
          "dtype": "f8",
          "bdata": "AAAAAACYhEAAAAAAAJiEQAAAAAAAmIRAAAAAAACYhEA="
         },
         "lat": {
          "dtype": "f8",
          "bdata": "XI/C9Sg8QMAzMzMzMxNAwD0K16NwHUDACtejcD1qQMA="
         },
         "legendgroup": "659",
         "lon": {
          "dtype": "f8",
          "bdata": "pHA9CtdLZsBcj8L1KERmwI/C9ShcT2bAMzMzMzNLZsA="
         },
         "marker": {
          "color": "#FF6692"
         },
         "mode": "markers",
         "name": "659",
         "showlegend": true,
         "subplot": "map",
         "type": "scattermap"
        },
        {
         "customdata": [
          [
           -31.17,
           -179.07,
           "09:22:32.3",
           "2019/04/16"
          ],
          [
           -31.04,
           -178.8,
           "09:39:37.7",
           "2019/04/16"
          ]
         ],
         "hovertemplate": "<b>%{hovertext}</b><br><br>Cluster=660<br>Lat=%{customdata[0]}<br>Lon=%{customdata[1]}<br>Time=%{customdata[2]}<br>Date=%{customdata[3]}<extra></extra>",
         "hovertext": {
          "dtype": "f8",
          "bdata": "AAAAAACghEAAAAAAAKCEQA=="
         },
         "lat": {
          "dtype": "f8",
          "bdata": "7FG4HoUrP8AK16NwPQo/wA=="
         },
         "legendgroup": "660",
         "lon": {
          "dtype": "f8",
          "bdata": "CtejcD1iZsCamZmZmVlmwA=="
         },
         "marker": {
          "color": "#B6E880"
         },
         "mode": "markers",
         "name": "660",
         "showlegend": true,
         "subplot": "map",
         "type": "scattermap"
        },
        {
         "customdata": [
          [
           -30.64,
           -178.1,
           "22:55:04.1",
           "2019/06/15"
          ],
          [
           -31.0,
           -178.08,
           "05:17:14.9",
           "2019/06/16"
          ],
          [
           -30.98,
           -177.75,
           "22:20:18.6",
           "2019/06/16"
          ],
          [
           -31.07,
           -177.62,
           "22:28:21.2",
           "2019/06/16"
          ],
          [
           -30.88,
           -177.72,
           "00:11:02.0",
           "2019/06/17"
          ],
          [
           -30.84,
           -177.48,
           "06:02:04.1",
           "2019/06/17"
          ],
          [
           -31.08,
           -177.72,
           "09:57:19.2",
           "2019/06/17"
          ],
          [
           -30.79,
           -177.53,
           "16:53:05.0",
           "2019/06/17"
          ],
          [
           -30.72,
           -177.4,
           "01:15:58.5",
           "2019/06/18"
          ],
          [
           -31.07,
           -177.61,
           "04:23:50.2",
           "2019/06/18"
          ],
          [
           -31.02,
           -177.55,
           "16:05:17.4",
           "2019/06/18"
          ],
          [
           -30.65,
           -178.03,
           "18:12:09.6",
           "2019/06/18"
          ],
          [
           -30.52,
           -177.85,
           "07:01:45.4",
           "2019/06/19"
          ],
          [
           -30.64,
           -177.54,
           "23:00:28.0",
           "2019/06/21"
          ],
          [
           -30.76,
           -177.35,
           "11:34:08.9",
           "2019/06/24"
          ],
          [
           -30.63,
           -177.99,
           "19:56:58.7",
           "2019/07/01"
          ],
          [
           -30.29,
           -177.8,
           "00:10:45.2",
           "2019/07/06"
          ],
          [
           -30.37,
           -177.88,
           "03:11:47.5",
           "2019/07/09"
          ],
          [
           -31.06,
           -178.35,
           "22:35:35.9",
           "2019/07/20"
          ],
          [
           -30.3,
           -177.68,
           "07:27:40.8",
           "2019/07/28"
          ],
          [
           -30.17,
           -177.86,
           "12:05:02.5",
           "2019/09/27"
          ],
          [
           -30.09,
           -177.93,
           "14:02:05.0",
           "2019/09/27"
          ],
          [
           -30.24,
           -177.99,
           "21:57:36.0",
           "2019/10/13"
          ],
          [
           -30.39,
           -177.56,
           "22:49:16.0",
           "2019/12/28"
          ],
          [
           -30.41,
           -177.71,
           "19:19:31.2",
           "2020/01/25"
          ],
          [
           -30.25,
           -177.87,
           "01:43:35.5",
           "2020/03/05"
          ],
          [
           -30.42,
           -177.66,
           "21:09:07.9",
           "2020/04/18"
          ],
          [
           -30.36,
           -177.61,
           "22:19:04.6",
           "2020/04/18"
          ],
          [
           -30.39,
           -177.66,
           "22:22:00.4",
           "2020/04/18"
          ]
         ],
         "hovertemplate": "<b>%{hovertext}</b><br><br>Cluster=666<br>Lat=%{customdata[0]}<br>Lon=%{customdata[1]}<br>Time=%{customdata[2]}<br>Date=%{customdata[3]}<extra></extra>",
         "hovertext": {
          "dtype": "f8",
          "bdata": "AAAAAADQhEAAAAAAANCEQAAAAAAA0IRAAAAAAADQhEAAAAAAANCEQAAAAAAA0IRAAAAAAADQhEAAAAAAANCEQAAAAAAA0IRAAAAAAADQhEAAAAAAANCEQAAAAAAA0IRAAAAAAADQhEAAAAAAANCEQAAAAAAA0IRAAAAAAADQhEAAAAAAANCEQAAAAAAA0IRAAAAAAADQhEAAAAAAANCEQAAAAAAA0IRAAAAAAADQhEAAAAAAANCEQAAAAAAA0IRAAAAAAADQhEAAAAAAANCEQAAAAAAA0IRAAAAAAADQhEAAAAAAANCEQA=="
         },
         "lat": {
          "dtype": "f8",
          "bdata": "pHA9CtejPsAAAAAAAAA/wHsUrkfh+j7AUrgehesRP8DhehSuR+E+wNejcD0K1z7AFK5H4XoUP8AK16NwPco+wLgehetRuD7AUrgehesRP8CF61G4HgU/wGZmZmZmpj7AhetRuB6FPsCkcD0K16M+wMP1KFyPwj7A4XoUrkehPsAK16NwPUo+wB+F61G4Xj7Aj8L1KFwPP8DNzMzMzEw+wOxRuB6FKz7A16NwPQoXPsA9CtejcD0+wKRwPQrXYz7AKVyPwvVoPsAAAAAAAEA+wOxRuB6Faz7AXI/C9ShcPsCkcD0K12M+wA=="
         },
         "legendgroup": "666",
         "lon": {
          "dtype": "f8",
          "bdata": "MzMzMzNDZsDD9Shcj0JmwAAAAAAAOGbApHA9CtczZsDXo3A9CjdmwI/C9ShcL2bA16NwPQo3ZsApXI/C9TBmwM3MzMzMLGbA7FG4HoUzZsCamZmZmTFmwClcj8L1QGbAMzMzMzM7ZsDhehSuRzFmwDMzMzMzK2bASOF6FK4/ZsCamZmZmTlmwFyPwvUoPGbAMzMzMzNLZsD2KFyPwjVmwOxRuB6FO2bA9ihcj8I9ZsBI4XoUrj9mwFK4HoXrMWbAH4XrUbg2ZsCkcD0K1ztmwIXrUbgeNWbA7FG4HoUzZsCF61G4HjVmwA=="
         },
         "marker": {
          "color": "#FF97FF"
         },
         "mode": "markers",
         "name": "666",
         "showlegend": true,
         "subplot": "map",
         "type": "scattermap"
        },
        {
         "customdata": [
          [
           -31.22,
           -177.64,
           "17:21:48.0",
           "2019/06/18"
          ],
          [
           -30.93,
           -177.65,
           "23:04:34.8",
           "2019/06/18"
          ],
          [
           -31.37,
           -177.56,
           "23:24:20.3",
           "2019/06/18"
          ],
          [
           -30.99,
           -177.59,
           "23:59:06.8",
           "2019/06/18"
          ],
          [
           -31.01,
           -177.38,
           "21:45:06.9",
           "2019/06/20"
          ],
          [
           -31.04,
           -177.56,
           "07:27:40.1",
           "2019/06/21"
          ],
          [
           -30.86,
           -177.47,
           "08:37:17.0",
           "2019/06/21"
          ],
          [
           -30.75,
           -177.42,
           "22:49:25.0",
           "2019/06/21"
          ],
          [
           -30.95,
           -177.51,
           "06:52:12.4",
           "2019/06/23"
          ],
          [
           -30.91,
           -177.33,
           "18:06:30.1",
           "2019/06/26"
          ],
          [
           -31.19,
           -177.46,
           "14:40:09.9",
           "2019/07/25"
          ],
          [
           -31.67,
           -177.9,
           "19:29:24.6",
           "2019/08/05"
          ],
          [
           -31.11,
           -177.49,
           "01:45:51.4",
           "2019/08/13"
          ],
          [
           -31.17,
           -177.35,
           "06:35:01.5",
           "2019/08/13"
          ],
          [
           -31.04,
           -177.84,
           "17:25:39.4",
           "2019/09/06"
          ],
          [
           -31.38,
           -177.93,
           "09:21:15.3",
           "2019/11/22"
          ],
          [
           -31.54,
           -177.93,
           "13:49:05.0",
           "2019/11/26"
          ],
          [
           -31.42,
           -178.07,
           "17:12:57.9",
           "2019/11/29"
          ],
          [
           -31.24,
           -177.69,
           "11:52:06.1",
           "2020/06/21"
          ],
          [
           -31.27,
           -177.73,
           "07:00:18.8",
           "2020/10/15"
          ]
         ],
         "hovertemplate": "<b>%{hovertext}</b><br><br>Cluster=667<br>Lat=%{customdata[0]}<br>Lon=%{customdata[1]}<br>Time=%{customdata[2]}<br>Date=%{customdata[3]}<extra></extra>",
         "hovertext": {
          "dtype": "f8",
          "bdata": "AAAAAADYhEAAAAAAANiEQAAAAAAA2IRAAAAAAADYhEAAAAAAANiEQAAAAAAA2IRAAAAAAADYhEAAAAAAANiEQAAAAAAA2IRAAAAAAADYhEAAAAAAANiEQAAAAAAA2IRAAAAAAADYhEAAAAAAANiEQAAAAAAA2IRAAAAAAADYhEAAAAAAANiEQAAAAAAA2IRAAAAAAADYhEAAAAAAANiEQA=="
         },
         "lat": {
          "dtype": "f8",
          "bdata": "uB6F61E4P8CuR+F6FO4+wB+F61G4Xj/APQrXo3D9PsDD9ShcjwI/wArXo3A9Cj/AXI/C9SjcPsAAAAAAAMA+wDMzMzMz8z7AKVyPwvXoPsBxPQrXozA/wOxRuB6Fqz/AXI/C9SgcP8DsUbgehSs/wArXo3A9Cj/A4XoUrkdhP8AK16NwPYo/wOxRuB6Faz/APQrXo3A9P8CF61G4HkU/wA=="
         },
         "legendgroup": "667",
         "lon": {
          "dtype": "f8",
          "bdata": "FK5H4Xo0ZsDNzMzMzDRmwFK4HoXrMWbAexSuR+EyZsBcj8L1KCxmwFK4HoXrMWbA16NwPQovZsA9CtejcC1mwLgehetRMGbAw/UoXI8qZsAfhetRuC5mwM3MzMzMPGbASOF6FK4vZsAzMzMzMytmwHsUrkfhOmbA9ihcj8I9ZsD2KFyPwj1mwArXo3A9QmbArkfhehQ2ZsCPwvUoXDdmwA=="
         },
         "marker": {
          "color": "#FECB52"
         },
         "mode": "markers",
         "name": "667",
         "showlegend": true,
         "subplot": "map",
         "type": "scattermap"
        },
        {
         "customdata": [
          [
           -34.01,
           179.6,
           "23:15:16.1",
           "2019/06/20"
          ],
          [
           -34.31,
           179.7,
           "00:16:52.1",
           "2019/07/12"
          ],
          [
           -34.23,
           179.51,
           "07:17:41.7",
           "2019/07/12"
          ],
          [
           -34.26,
           179.46,
           "07:30:34.9",
           "2019/07/12"
          ]
         ],
         "hovertemplate": "<b>%{hovertext}</b><br><br>Cluster=669<br>Lat=%{customdata[0]}<br>Lon=%{customdata[1]}<br>Time=%{customdata[2]}<br>Date=%{customdata[3]}<extra></extra>",
         "hovertext": {
          "dtype": "f8",
          "bdata": "AAAAAADohEAAAAAAAOiEQAAAAAAA6IRAAAAAAADohEA="
         },
         "lat": {
          "dtype": "f8",
          "bdata": "4XoUrkcBQcBI4XoUridBwD0K16NwHUHA4XoUrkchQcA="
         },
         "legendgroup": "669",
         "lon": {
          "dtype": "f8",
          "bdata": "MzMzMzNzZkBmZmZmZnZmQLgehetRcGZAH4XrUbhuZkA="
         },
         "marker": {
          "color": "#636efa"
         },
         "mode": "markers",
         "name": "669",
         "showlegend": true,
         "subplot": "map",
         "type": "scattermap"
        },
        {
         "customdata": [
          [
           -30.4,
           -179.18,
           "11:04:56.3",
           "2019/06/27"
          ],
          [
           -30.2,
           -178.96,
           "06:09:50.9",
           "2019/07/08"
          ],
          [
           -30.25,
           -179.25,
           "13:11:20.0",
           "2019/07/20"
          ]
         ],
         "hovertemplate": "<b>%{hovertext}</b><br><br>Cluster=670<br>Lat=%{customdata[0]}<br>Lon=%{customdata[1]}<br>Time=%{customdata[2]}<br>Date=%{customdata[3]}<extra></extra>",
         "hovertext": {
          "dtype": "f8",
          "bdata": "AAAAAADwhEAAAAAAAPCEQAAAAAAA8IRA"
         },
         "lat": {
          "dtype": "f8",
          "bdata": "ZmZmZmZmPsAzMzMzMzM+wAAAAAAAQD7A"
         },
         "legendgroup": "670",
         "lon": {
          "dtype": "f8",
          "bdata": "9ihcj8JlZsAfhetRuF5mwAAAAAAAaGbA"
         },
         "marker": {
          "color": "#EF553B"
         },
         "mode": "markers",
         "name": "670",
         "showlegend": true,
         "subplot": "map",
         "type": "scattermap"
        },
        {
         "customdata": [
          [
           -35.05,
           -179.33,
           "20:22:51.4",
           "2019/10/09"
          ],
          [
           -35.08,
           -179.3,
           "21:16:29.4",
           "2019/10/09"
          ],
          [
           -35.25,
           -179.35,
           "18:32:14.4",
           "2019/10/10"
          ]
         ],
         "hovertemplate": "<b>%{hovertext}</b><br><br>Cluster=680<br>Lat=%{customdata[0]}<br>Lon=%{customdata[1]}<br>Time=%{customdata[2]}<br>Date=%{customdata[3]}<extra></extra>",
         "hovertext": {
          "dtype": "f8",
          "bdata": "AAAAAABAhUAAAAAAAECFQAAAAAAAQIVA"
         },
         "lat": {
          "dtype": "f8",
          "bdata": "ZmZmZmaGQcAK16NwPYpBwAAAAAAAoEHA"
         },
         "legendgroup": "680",
         "lon": {
          "dtype": "f8",
          "bdata": "w/UoXI9qZsCamZmZmWlmwDMzMzMza2bA"
         },
         "marker": {
          "color": "#00cc96"
         },
         "mode": "markers",
         "name": "680",
         "showlegend": true,
         "subplot": "map",
         "type": "scattermap"
        },
        {
         "customdata": [
          [
           -44.77,
           167.43,
           "08:53:38.5",
           "2019/10/24"
          ],
          [
           -44.74,
           167.36,
           "10:14:22.5",
           "2020/02/24"
          ]
         ],
         "hovertemplate": "<b>%{hovertext}</b><br><br>Cluster=681<br>Lat=%{customdata[0]}<br>Lon=%{customdata[1]}<br>Time=%{customdata[2]}<br>Date=%{customdata[3]}<extra></extra>",
         "hovertext": {
          "dtype": "f8",
          "bdata": "AAAAAABIhUAAAAAAAEiFQA=="
         },
         "lat": {
          "dtype": "f8",
          "bdata": "w/UoXI9iRsAfhetRuF5GwA=="
         },
         "legendgroup": "681",
         "lon": {
          "dtype": "f8",
          "bdata": "9ihcj8LtZEDsUbgehetkQA=="
         },
         "marker": {
          "color": "#ab63fa"
         },
         "mode": "markers",
         "name": "681",
         "showlegend": true,
         "subplot": "map",
         "type": "scattermap"
        },
        {
         "customdata": [
          [
           -37.36,
           177.26,
           "16:34:44.2",
           "2019/11/23"
          ],
          [
           -37.65,
           177.58,
           "14:22:36.4",
           "2020/03/15"
          ]
         ],
         "hovertemplate": "<b>%{hovertext}</b><br><br>Cluster=683<br>Lat=%{customdata[0]}<br>Lon=%{customdata[1]}<br>Time=%{customdata[2]}<br>Date=%{customdata[3]}<extra></extra>",
         "hovertext": {
          "dtype": "f8",
          "bdata": "AAAAAABYhUAAAAAAAFiFQA=="
         },
         "lat": {
          "dtype": "f8",
          "bdata": "rkfhehSuQsAzMzMzM9NCwA=="
         },
         "legendgroup": "683",
         "lon": {
          "dtype": "f8",
          "bdata": "uB6F61EoZkDD9ShcjzJmQA=="
         },
         "marker": {
          "color": "#FFA15A"
         },
         "mode": "markers",
         "name": "683",
         "showlegend": true,
         "subplot": "map",
         "type": "scattermap"
        },
        {
         "customdata": [
          [
           -32.97,
           -178.33,
           "19:28:51.9",
           "2020/01/01"
          ],
          [
           -33.21,
           -178.23,
           "20:01:27.2",
           "2020/01/01"
          ]
         ],
         "hovertemplate": "<b>%{hovertext}</b><br><br>Cluster=686<br>Lat=%{customdata[0]}<br>Lon=%{customdata[1]}<br>Time=%{customdata[2]}<br>Date=%{customdata[3]}<extra></extra>",
         "hovertext": {
          "dtype": "f8",
          "bdata": "AAAAAABwhUAAAAAAAHCFQA=="
         },
         "lat": {
          "dtype": "f8",
          "bdata": "XI/C9Sh8QMB7FK5H4ZpAwA=="
         },
         "legendgroup": "686",
         "lon": {
          "dtype": "f8",
          "bdata": "w/UoXI9KZsCPwvUoXEdmwA=="
         },
         "marker": {
          "color": "#19d3f3"
         },
         "mode": "markers",
         "name": "686",
         "showlegend": true,
         "subplot": "map",
         "type": "scattermap"
        },
        {
         "customdata": [
          [
           -35.48,
           -179.71,
           "19:24:52.7",
           "2020/01/25"
          ],
          [
           -35.5,
           -179.61,
           "21:20:06.9",
           "2020/01/25"
          ]
         ],
         "hovertemplate": "<b>%{hovertext}</b><br><br>Cluster=690<br>Lat=%{customdata[0]}<br>Lon=%{customdata[1]}<br>Time=%{customdata[2]}<br>Date=%{customdata[3]}<extra></extra>",
         "hovertext": {
          "dtype": "f8",
          "bdata": "AAAAAACQhUAAAAAAAJCFQA=="
         },
         "lat": {
          "dtype": "f8",
          "bdata": "PQrXo3C9QcAAAAAAAMBBwA=="
         },
         "legendgroup": "690",
         "lon": {
          "dtype": "f8",
          "bdata": "H4XrUbh2ZsDsUbgehXNmwA=="
         },
         "marker": {
          "color": "#FF6692"
         },
         "mode": "markers",
         "name": "690",
         "showlegend": true,
         "subplot": "map",
         "type": "scattermap"
        },
        {
         "customdata": [
          [
           -40.38,
           174.96,
           "19:53:32.3",
           "2020/05/24"
          ],
          [
           -40.46,
           174.95,
           "00:34:03.3",
           "2020/05/26"
          ]
         ],
         "hovertemplate": "<b>%{hovertext}</b><br><br>Cluster=699<br>Lat=%{customdata[0]}<br>Lon=%{customdata[1]}<br>Time=%{customdata[2]}<br>Date=%{customdata[3]}<extra></extra>",
         "hovertext": {
          "dtype": "f8",
          "bdata": "AAAAAADYhUAAAAAAANiFQA=="
         },
         "lat": {
          "dtype": "f8",
          "bdata": "cT0K16MwRMB7FK5H4TpEwA=="
         },
         "legendgroup": "699",
         "lon": {
          "dtype": "f8",
          "bdata": "H4XrUbjeZUBmZmZmZt5lQA=="
         },
         "marker": {
          "color": "#B6E880"
         },
         "mode": "markers",
         "name": "699",
         "showlegend": true,
         "subplot": "map",
         "type": "scattermap"
        },
        {
         "customdata": [
          [
           -44.49,
           167.76,
           "07:29:18.3",
           "2020/06/12"
          ],
          [
           -44.64,
           167.47,
           "22:20:02.0",
           "2020/06/24"
          ],
          [
           -44.69,
           167.57,
           "10:16:44.9",
           "2020/08/12"
          ]
         ],
         "hovertemplate": "<b>%{hovertext}</b><br><br>Cluster=701<br>Lat=%{customdata[0]}<br>Lon=%{customdata[1]}<br>Time=%{customdata[2]}<br>Date=%{customdata[3]}<extra></extra>",
         "hovertext": {
          "dtype": "f8",
          "bdata": "AAAAAADohUAAAAAAAOiFQAAAAAAA6IVA"
         },
         "lat": {
          "dtype": "f8",
          "bdata": "H4XrUbg+RsBSuB6F61FGwLgehetRWEbA"
         },
         "legendgroup": "701",
         "lon": {
          "dtype": "f8",
          "bdata": "uB6F61H4ZEDXo3A9Cu9kQArXo3A98mRA"
         },
         "marker": {
          "color": "#FF97FF"
         },
         "mode": "markers",
         "name": "701",
         "showlegend": true,
         "subplot": "map",
         "type": "scattermap"
        },
        {
         "customdata": [
          [
           -33.29,
           -177.86,
           "12:49:53.8",
           "2020/06/18"
          ],
          [
           -33.59,
           -178.57,
           "00:38:51.5",
           "2020/06/19"
          ],
          [
           -33.35,
           -178.48,
           "17:10:34.2",
           "2020/06/19"
          ],
          [
           -33.74,
           -178.38,
           "10:51:49.1",
           "2020/06/20"
          ],
          [
           -33.88,
           -178.12,
           "23:28:46.3",
           "2020/06/20"
          ],
          [
           -33.79,
           -178.14,
           "14:29:12.4",
           "2020/06/22"
          ],
          [
           -33.18,
           -178.51,
           "18:11:07.9",
           "2020/06/22"
          ],
          [
           -33.59,
           -178.49,
           "06:14:39.4",
           "2020/06/27"
          ],
          [
           -33.37,
           -178.13,
           "18:29:05.3",
           "2020/06/27"
          ],
          [
           -33.28,
           -177.88,
           "08:13:26.4",
           "2020/07/13"
          ],
          [
           -33.37,
           -177.8,
           "12:00:46.4",
           "2020/07/18"
          ],
          [
           -33.53,
           -177.88,
           "16:25:31.0",
           "2020/07/20"
          ],
          [
           -33.55,
           -178.21,
           "00:17:37.3",
           "2020/09/29"
          ]
         ],
         "hovertemplate": "<b>%{hovertext}</b><br><br>Cluster=703<br>Lat=%{customdata[0]}<br>Lon=%{customdata[1]}<br>Time=%{customdata[2]}<br>Date=%{customdata[3]}<extra></extra>",
         "hovertext": {
          "dtype": "f8",
          "bdata": "AAAAAAD4hUAAAAAAAPiFQAAAAAAA+IVAAAAAAAD4hUAAAAAAAPiFQAAAAAAA+IVAAAAAAAD4hUAAAAAAAPiFQAAAAAAA+IVAAAAAAAD4hUAAAAAAAPiFQAAAAAAA+IVAAAAAAAD4hUA="
         },
         "lat": {
          "dtype": "f8",
          "bdata": "hetRuB6lQMDsUbgehctAwM3MzMzMrEDAH4XrUbjeQMBxPQrXo/BAwIXrUbge5UDA16NwPQqXQMDsUbgehctAwI/C9Shcr0DApHA9CtejQMCPwvUoXK9AwKRwPQrXw0DAZmZmZmbGQMA="
         },
         "legendgroup": "703",
         "lon": {
          "dtype": "f8",
          "bdata": "7FG4HoU7ZsAK16NwPVJmwI/C9ShcT2bAXI/C9ShMZsCkcD0K10NmwBSuR+F6RGbAuB6F61FQZsBI4XoUrk9mwFyPwvUoRGbAXI/C9Sg8ZsCamZmZmTlmwFyPwvUoPGbAH4XrUbhGZsA="
         },
         "marker": {
          "color": "#FECB52"
         },
         "mode": "markers",
         "name": "703",
         "showlegend": true,
         "subplot": "map",
         "type": "scattermap"
        },
        {
         "customdata": [
          [
           -36.91,
           177.19,
           "15:47:06.0",
           "2020/08/28"
          ],
          [
           -36.89,
           177.2,
           "08:29:51.4",
           "2020/08/29"
          ],
          [
           -36.86,
           177.13,
           "12:45:19.1",
           "2020/08/29"
          ],
          [
           -36.82,
           177.29,
           "13:26:47.7",
           "2020/08/30"
          ],
          [
           -36.95,
           177.06,
           "19:45:02.1",
           "2020/09/02"
          ],
          [
           -36.84,
           177.19,
           "07:53:06.7",
           "2020/09/12"
          ]
         ],
         "hovertemplate": "<b>%{hovertext}</b><br><br>Cluster=707<br>Lat=%{customdata[0]}<br>Lon=%{customdata[1]}<br>Time=%{customdata[2]}<br>Date=%{customdata[3]}<extra></extra>",
         "hovertext": {
          "dtype": "f8",
          "bdata": "AAAAAAAYhkAAAAAAABiGQAAAAAAAGIZAAAAAAAAYhkAAAAAAABiGQAAAAAAAGIZA"
         },
         "lat": {
          "dtype": "f8",
          "bdata": "FK5H4Xp0QsBSuB6F63FCwK5H4XoUbkLAKVyPwvVoQsCamZmZmXlCwOxRuB6Fa0LA"
         },
         "legendgroup": "707",
         "lon": {
          "dtype": "f8",
          "bdata": "rkfhehQmZkBmZmZmZiZmQFyPwvUoJGZA4XoUrkcpZkBSuB6F6yFmQK5H4XoUJmZA"
         },
         "marker": {
          "color": "#636efa"
         },
         "mode": "markers",
         "name": "707",
         "showlegend": true,
         "subplot": "map",
         "type": "scattermap"
        },
        {
         "customdata": [
          [
           -32.91,
           -179.05,
           "15:30:00.1",
           "2020/12/11"
          ],
          [
           -32.64,
           -178.84,
           "20:49:15.8",
           "2020/12/18"
          ]
         ],
         "hovertemplate": "<b>%{hovertext}</b><br><br>Cluster=713<br>Lat=%{customdata[0]}<br>Lon=%{customdata[1]}<br>Time=%{customdata[2]}<br>Date=%{customdata[3]}<extra></extra>",
         "hovertext": {
          "dtype": "f8",
          "bdata": "AAAAAABIhkAAAAAAAEiGQA=="
         },
         "lat": {
          "dtype": "f8",
          "bdata": "FK5H4Xp0QMBSuB6F61FAwA=="
         },
         "legendgroup": "713",
         "lon": {
          "dtype": "f8",
          "bdata": "mpmZmZlhZsB7FK5H4VpmwA=="
         },
         "marker": {
          "color": "#EF553B"
         },
         "mode": "markers",
         "name": "713",
         "showlegend": true,
         "subplot": "map",
         "type": "scattermap"
        }
       ],
       "layout": {
        "template": {
         "data": {
          "histogram2dcontour": [
           {
            "type": "histogram2dcontour",
            "colorbar": {
             "outlinewidth": 0,
             "ticks": ""
            },
            "colorscale": [
             [
              0.0,
              "#0d0887"
             ],
             [
              0.1111111111111111,
              "#46039f"
             ],
             [
              0.2222222222222222,
              "#7201a8"
             ],
             [
              0.3333333333333333,
              "#9c179e"
             ],
             [
              0.4444444444444444,
              "#bd3786"
             ],
             [
              0.5555555555555556,
              "#d8576b"
             ],
             [
              0.6666666666666666,
              "#ed7953"
             ],
             [
              0.7777777777777778,
              "#fb9f3a"
             ],
             [
              0.8888888888888888,
              "#fdca26"
             ],
             [
              1.0,
              "#f0f921"
             ]
            ]
           }
          ],
          "choropleth": [
           {
            "type": "choropleth",
            "colorbar": {
             "outlinewidth": 0,
             "ticks": ""
            }
           }
          ],
          "histogram2d": [
           {
            "type": "histogram2d",
            "colorbar": {
             "outlinewidth": 0,
             "ticks": ""
            },
            "colorscale": [
             [
              0.0,
              "#0d0887"
             ],
             [
              0.1111111111111111,
              "#46039f"
             ],
             [
              0.2222222222222222,
              "#7201a8"
             ],
             [
              0.3333333333333333,
              "#9c179e"
             ],
             [
              0.4444444444444444,
              "#bd3786"
             ],
             [
              0.5555555555555556,
              "#d8576b"
             ],
             [
              0.6666666666666666,
              "#ed7953"
             ],
             [
              0.7777777777777778,
              "#fb9f3a"
             ],
             [
              0.8888888888888888,
              "#fdca26"
             ],
             [
              1.0,
              "#f0f921"
             ]
            ]
           }
          ],
          "heatmap": [
           {
            "type": "heatmap",
            "colorbar": {
             "outlinewidth": 0,
             "ticks": ""
            },
            "colorscale": [
             [
              0.0,
              "#0d0887"
             ],
             [
              0.1111111111111111,
              "#46039f"
             ],
             [
              0.2222222222222222,
              "#7201a8"
             ],
             [
              0.3333333333333333,
              "#9c179e"
             ],
             [
              0.4444444444444444,
              "#bd3786"
             ],
             [
              0.5555555555555556,
              "#d8576b"
             ],
             [
              0.6666666666666666,
              "#ed7953"
             ],
             [
              0.7777777777777778,
              "#fb9f3a"
             ],
             [
              0.8888888888888888,
              "#fdca26"
             ],
             [
              1.0,
              "#f0f921"
             ]
            ]
           }
          ],
          "contourcarpet": [
           {
            "type": "contourcarpet",
            "colorbar": {
             "outlinewidth": 0,
             "ticks": ""
            }
           }
          ],
          "contour": [
           {
            "type": "contour",
            "colorbar": {
             "outlinewidth": 0,
             "ticks": ""
            },
            "colorscale": [
             [
              0.0,
              "#0d0887"
             ],
             [
              0.1111111111111111,
              "#46039f"
             ],
             [
              0.2222222222222222,
              "#7201a8"
             ],
             [
              0.3333333333333333,
              "#9c179e"
             ],
             [
              0.4444444444444444,
              "#bd3786"
             ],
             [
              0.5555555555555556,
              "#d8576b"
             ],
             [
              0.6666666666666666,
              "#ed7953"
             ],
             [
              0.7777777777777778,
              "#fb9f3a"
             ],
             [
              0.8888888888888888,
              "#fdca26"
             ],
             [
              1.0,
              "#f0f921"
             ]
            ]
           }
          ],
          "surface": [
           {
            "type": "surface",
            "colorbar": {
             "outlinewidth": 0,
             "ticks": ""
            },
            "colorscale": [
             [
              0.0,
              "#0d0887"
             ],
             [
              0.1111111111111111,
              "#46039f"
             ],
             [
              0.2222222222222222,
              "#7201a8"
             ],
             [
              0.3333333333333333,
              "#9c179e"
             ],
             [
              0.4444444444444444,
              "#bd3786"
             ],
             [
              0.5555555555555556,
              "#d8576b"
             ],
             [
              0.6666666666666666,
              "#ed7953"
             ],
             [
              0.7777777777777778,
              "#fb9f3a"
             ],
             [
              0.8888888888888888,
              "#fdca26"
             ],
             [
              1.0,
              "#f0f921"
             ]
            ]
           }
          ],
          "mesh3d": [
           {
            "type": "mesh3d",
            "colorbar": {
             "outlinewidth": 0,
             "ticks": ""
            }
           }
          ],
          "scatter": [
           {
            "fillpattern": {
             "fillmode": "overlay",
             "size": 10,
             "solidity": 0.2
            },
            "type": "scatter"
           }
          ],
          "parcoords": [
           {
            "type": "parcoords",
            "line": {
             "colorbar": {
              "outlinewidth": 0,
              "ticks": ""
             }
            }
           }
          ],
          "scatterpolargl": [
           {
            "type": "scatterpolargl",
            "marker": {
             "colorbar": {
              "outlinewidth": 0,
              "ticks": ""
             }
            }
           }
          ],
          "bar": [
           {
            "error_x": {
             "color": "#2a3f5f"
            },
            "error_y": {
             "color": "#2a3f5f"
            },
            "marker": {
             "line": {
              "color": "#E5ECF6",
              "width": 0.5
             },
             "pattern": {
              "fillmode": "overlay",
              "size": 10,
              "solidity": 0.2
             }
            },
            "type": "bar"
           }
          ],
          "scattergeo": [
           {
            "type": "scattergeo",
            "marker": {
             "colorbar": {
              "outlinewidth": 0,
              "ticks": ""
             }
            }
           }
          ],
          "scatterpolar": [
           {
            "type": "scatterpolar",
            "marker": {
             "colorbar": {
              "outlinewidth": 0,
              "ticks": ""
             }
            }
           }
          ],
          "histogram": [
           {
            "marker": {
             "pattern": {
              "fillmode": "overlay",
              "size": 10,
              "solidity": 0.2
             }
            },
            "type": "histogram"
           }
          ],
          "scattergl": [
           {
            "type": "scattergl",
            "marker": {
             "colorbar": {
              "outlinewidth": 0,
              "ticks": ""
             }
            }
           }
          ],
          "scatter3d": [
           {
            "type": "scatter3d",
            "line": {
             "colorbar": {
              "outlinewidth": 0,
              "ticks": ""
             }
            },
            "marker": {
             "colorbar": {
              "outlinewidth": 0,
              "ticks": ""
             }
            }
           }
          ],
          "scattermap": [
           {
            "type": "scattermap",
            "marker": {
             "colorbar": {
              "outlinewidth": 0,
              "ticks": ""
             }
            }
           }
          ],
          "scattermapbox": [
           {
            "type": "scattermapbox",
            "marker": {
             "colorbar": {
              "outlinewidth": 0,
              "ticks": ""
             }
            }
           }
          ],
          "scatterternary": [
           {
            "type": "scatterternary",
            "marker": {
             "colorbar": {
              "outlinewidth": 0,
              "ticks": ""
             }
            }
           }
          ],
          "scattercarpet": [
           {
            "type": "scattercarpet",
            "marker": {
             "colorbar": {
              "outlinewidth": 0,
              "ticks": ""
             }
            }
           }
          ],
          "carpet": [
           {
            "aaxis": {
             "endlinecolor": "#2a3f5f",
             "gridcolor": "white",
             "linecolor": "white",
             "minorgridcolor": "white",
             "startlinecolor": "#2a3f5f"
            },
            "baxis": {
             "endlinecolor": "#2a3f5f",
             "gridcolor": "white",
             "linecolor": "white",
             "minorgridcolor": "white",
             "startlinecolor": "#2a3f5f"
            },
            "type": "carpet"
           }
          ],
          "table": [
           {
            "cells": {
             "fill": {
              "color": "#EBF0F8"
             },
             "line": {
              "color": "white"
             }
            },
            "header": {
             "fill": {
              "color": "#C8D4E3"
             },
             "line": {
              "color": "white"
             }
            },
            "type": "table"
           }
          ],
          "barpolar": [
           {
            "marker": {
             "line": {
              "color": "#E5ECF6",
              "width": 0.5
             },
             "pattern": {
              "fillmode": "overlay",
              "size": 10,
              "solidity": 0.2
             }
            },
            "type": "barpolar"
           }
          ],
          "pie": [
           {
            "automargin": true,
            "type": "pie"
           }
          ]
         },
         "layout": {
          "autotypenumbers": "strict",
          "colorway": [
           "#636efa",
           "#EF553B",
           "#00cc96",
           "#ab63fa",
           "#FFA15A",
           "#19d3f3",
           "#FF6692",
           "#B6E880",
           "#FF97FF",
           "#FECB52"
          ],
          "font": {
           "color": "#2a3f5f"
          },
          "hovermode": "closest",
          "hoverlabel": {
           "align": "left"
          },
          "paper_bgcolor": "white",
          "plot_bgcolor": "#E5ECF6",
          "polar": {
           "bgcolor": "#E5ECF6",
           "angularaxis": {
            "gridcolor": "white",
            "linecolor": "white",
            "ticks": ""
           },
           "radialaxis": {
            "gridcolor": "white",
            "linecolor": "white",
            "ticks": ""
           }
          },
          "ternary": {
           "bgcolor": "#E5ECF6",
           "aaxis": {
            "gridcolor": "white",
            "linecolor": "white",
            "ticks": ""
           },
           "baxis": {
            "gridcolor": "white",
            "linecolor": "white",
            "ticks": ""
           },
           "caxis": {
            "gridcolor": "white",
            "linecolor": "white",
            "ticks": ""
           }
          },
          "coloraxis": {
           "colorbar": {
            "outlinewidth": 0,
            "ticks": ""
           }
          },
          "colorscale": {
           "sequential": [
            [
             0.0,
             "#0d0887"
            ],
            [
             0.1111111111111111,
             "#46039f"
            ],
            [
             0.2222222222222222,
             "#7201a8"
            ],
            [
             0.3333333333333333,
             "#9c179e"
            ],
            [
             0.4444444444444444,
             "#bd3786"
            ],
            [
             0.5555555555555556,
             "#d8576b"
            ],
            [
             0.6666666666666666,
             "#ed7953"
            ],
            [
             0.7777777777777778,
             "#fb9f3a"
            ],
            [
             0.8888888888888888,
             "#fdca26"
            ],
            [
             1.0,
             "#f0f921"
            ]
           ],
           "sequentialminus": [
            [
             0.0,
             "#0d0887"
            ],
            [
             0.1111111111111111,
             "#46039f"
            ],
            [
             0.2222222222222222,
             "#7201a8"
            ],
            [
             0.3333333333333333,
             "#9c179e"
            ],
            [
             0.4444444444444444,
             "#bd3786"
            ],
            [
             0.5555555555555556,
             "#d8576b"
            ],
            [
             0.6666666666666666,
             "#ed7953"
            ],
            [
             0.7777777777777778,
             "#fb9f3a"
            ],
            [
             0.8888888888888888,
             "#fdca26"
            ],
            [
             1.0,
             "#f0f921"
            ]
           ],
           "diverging": [
            [
             0,
             "#8e0152"
            ],
            [
             0.1,
             "#c51b7d"
            ],
            [
             0.2,
             "#de77ae"
            ],
            [
             0.3,
             "#f1b6da"
            ],
            [
             0.4,
             "#fde0ef"
            ],
            [
             0.5,
             "#f7f7f7"
            ],
            [
             0.6,
             "#e6f5d0"
            ],
            [
             0.7,
             "#b8e186"
            ],
            [
             0.8,
             "#7fbc41"
            ],
            [
             0.9,
             "#4d9221"
            ],
            [
             1,
             "#276419"
            ]
           ]
          },
          "xaxis": {
           "gridcolor": "white",
           "linecolor": "white",
           "ticks": "",
           "title": {
            "standoff": 15
           },
           "zerolinecolor": "white",
           "automargin": true,
           "zerolinewidth": 2
          },
          "yaxis": {
           "gridcolor": "white",
           "linecolor": "white",
           "ticks": "",
           "title": {
            "standoff": 15
           },
           "zerolinecolor": "white",
           "automargin": true,
           "zerolinewidth": 2
          },
          "scene": {
           "xaxis": {
            "backgroundcolor": "#E5ECF6",
            "gridcolor": "white",
            "linecolor": "white",
            "showbackground": true,
            "ticks": "",
            "zerolinecolor": "white",
            "gridwidth": 2
           },
           "yaxis": {
            "backgroundcolor": "#E5ECF6",
            "gridcolor": "white",
            "linecolor": "white",
            "showbackground": true,
            "ticks": "",
            "zerolinecolor": "white",
            "gridwidth": 2
           },
           "zaxis": {
            "backgroundcolor": "#E5ECF6",
            "gridcolor": "white",
            "linecolor": "white",
            "showbackground": true,
            "ticks": "",
            "zerolinecolor": "white",
            "gridwidth": 2
           }
          },
          "shapedefaults": {
           "line": {
            "color": "#2a3f5f"
           }
          },
          "annotationdefaults": {
           "arrowcolor": "#2a3f5f",
           "arrowhead": 0,
           "arrowwidth": 1
          },
          "geo": {
           "bgcolor": "white",
           "landcolor": "#E5ECF6",
           "subunitcolor": "white",
           "showland": true,
           "showlakes": true,
           "lakecolor": "white"
          },
          "title": {
           "x": 0.05
          },
          "mapbox": {
           "style": "light"
          }
         }
        },
        "map": {
         "domain": {
          "x": [
           0.0,
           1.0
          ],
          "y": [
           0.0,
           1.0
          ]
         },
         "center": {
          "lat": -41,
          "lon": 174
         },
         "zoom": 3.8,
         "style": "carto-positron"
        },
        "legend": {
         "title": {
          "text": "Cluster"
         },
         "tracegroupgap": 0
        },
        "title": {
         "text": "Earthquake Clusters of New Zealand Earthquakes using Gardner and Knopoff Window Method (1974)<br><sup>Time of occurrence: 1976-2020</sup>"
        },
        "height": 800,
        "mapbox": {
         "center": {
          "lat": -41,
          "lon": 174
         },
         "zoom": 3.8,
         "style": "carto-positron"
        }
       },
       "config": {
        "plotlyServerURL": "https://plot.ly"
       }
      }
     },
     "metadata": {},
     "output_type": "display_data"
    }
   ],
   "execution_count": 9
  },
  {
   "metadata": {
    "ExecuteTime": {
     "end_time": "2025-08-26T07:31:42.414714Z",
     "start_time": "2025-08-26T07:31:42.401474Z"
    }
   },
   "cell_type": "code",
   "source": [
    "# Compute inter-arrival timesCompute inter-arrival times to second\n",
    "mainshocks_only['inter_arrival'] = mainshocks_only['Datetime'].diff().dt.total_seconds()\n",
    "print(mainshocks_only.head())"
   ],
   "id": "b97726dda19d6846",
   "outputs": [
    {
     "name": "stdout",
     "output_type": "stream",
     "text": [
      "          Date    Lat     Lon  Depth  Mag  Strike  Dip  Rake        Time  \\\n",
      "0   1976/01/15 -30.38 -176.82   33.0  6.2     196   26    91  06:06:46.1   \n",
      "5   1976/09/30 -30.24 -177.88   32.0  6.5     208   15   100  23:34:14.4   \n",
      "16  1978/02/09 -30.68 -177.36   33.0  7.2     195   29    80  21:35:12.7   \n",
      "24  1978/09/22 -37.61  176.55  186.0  5.4     277   63  -169  10:42:07.9   \n",
      "50  1980/11/25 -37.99  178.27   33.0  5.4     193   10  -127  04:57:05.0   \n",
      "\n",
      "                  Datetime             x             y  is_dependent  \\\n",
      "0  1976-01-15 06:06:46.100  4.827059e+05 -6.635022e+06         False   \n",
      "5  1976-09-30 23:34:14.400  5.846706e+05 -6.650223e+06          True   \n",
      "16 1978-02-09 21:35:12.700  5.344821e+05 -6.601736e+06         False   \n",
      "24 1978-09-22 10:42:07.900  1.069587e+06 -5.813772e+06         False   \n",
      "50 1980-11-25 04:57:05.000  9.154529e+05 -5.780655e+06          True   \n",
      "\n",
      "    ClusterID       Type  inter_arrival  \n",
      "0           0  Mainshock            NaN  \n",
      "5           3  Mainshock     22440448.3  \n",
      "16         11  Mainshock     42933658.3  \n",
      "24         13  Mainshock     19400815.2  \n",
      "50         33  Mainshock     68667297.1  \n"
     ]
    }
   ],
   "execution_count": 10
  },
  {
   "metadata": {
    "ExecuteTime": {
     "end_time": "2025-08-26T07:31:42.440835Z",
     "start_time": "2025-08-26T07:31:42.435683Z"
    }
   },
   "cell_type": "code",
   "source": [
    "# The Statistic Features of the Mainshock Sequence\n",
    "print(\"--- The Statistic Features of the Mainshock Sequence ---\")\n",
    "print(\"The declustered catalogue contains {} events.\".format(len(mainshocks_only)))\n",
    "\n",
    "max_interval_days = round(mainshocks_only['inter_arrival'].max() / (24*60*60))\n",
    "print(\"The maximum interarrival time between two neighbour independent events is {} days.\".format(max_interval_days))\n",
    "\n",
    "min_interval_min = round(mainshocks_only['inter_arrival'].min() / 60)\n",
    "print(\"The minimum interarrival time between two neighbour independent events is {} minutes.\".format(min_interval_min))"
   ],
   "id": "4a52eb24786e02f7",
   "outputs": [
    {
     "name": "stdout",
     "output_type": "stream",
     "text": [
      "--- The Statistic Features of the Mainshock Sequence ---\n",
      "The declustered catalogue contains 252 events.\n",
      "The maximum interarrival time between two neighbour independent events is 795 days.\n",
      "The minimum interarrival time between two neighbour independent events is 49 minutes.\n"
     ]
    }
   ],
   "execution_count": 11
  },
  {
   "metadata": {
    "ExecuteTime": {
     "end_time": "2025-08-26T07:31:42.523094Z",
     "start_time": "2025-08-26T07:31:42.468239Z"
    }
   },
   "cell_type": "code",
   "source": [
    "# Visualise the declustered mainshock sequence on map\n",
    "import plotly.express as px\n",
    "\n",
    "fig_mainshock = px.scatter_map(\n",
    "    mainshocks_only,\n",
    "    lat='Lat',\n",
    "    lon='Lon',\n",
    "    hover_name='Mag',\n",
    "    size='Mag',\n",
    "    size_max=8,\n",
    "    color='Mag',\n",
    "    color_continuous_scale='orrd',\n",
    "    hover_data={'Date', 'Time', 'Lat', 'Lon'},\n",
    "    center={'lat': -41, 'lon': 174},\n",
    "    zoom=3.8,\n",
    "    height=800,\n",
    "    map_style='carto-positron',\n",
    "    title='Declustered Catalogue of New Zealand Earthquakes using Gardner and Knopoff Window Method (1974)<br><sup>Time of occurrence: 1976-2020</sup>'\n",
    ")\n",
    "\n",
    "fig_mainshock.show()"
   ],
   "id": "4d60d0bfad8995d6",
   "outputs": [
    {
     "data": {
      "application/vnd.plotly.v1+json": {
       "data": [
        {
         "customdata": [
          [
           -30.38,
           -176.82,
           "06:06:46.1",
           "1976/01/15"
          ],
          [
           -30.24,
           -177.88,
           "23:34:14.4",
           "1976/09/30"
          ],
          [
           -30.68,
           -177.36,
           "21:35:12.7",
           "1978/02/09"
          ],
          [
           -37.61,
           176.55,
           "10:42:07.9",
           "1978/09/22"
          ],
          [
           -37.99,
           178.27,
           "04:57:05.0",
           "1980/11/25"
          ],
          [
           -35.35,
           179.96,
           "06:48:46.9",
           "1980/11/29"
          ],
          [
           -30.57,
           -178.21,
           "23:30:08.4",
           "1981/03/07"
          ],
          [
           -30.12,
           -177.31,
           "23:17:02.5",
           "1981/05/20"
          ],
          [
           -48.79,
           164.36,
           "05:25:14.4",
           "1981/05/25"
          ],
          [
           -30.27,
           -178.99,
           "00:51:06.0",
           "1981/06/26"
          ],
          [
           -33.94,
           -179.76,
           "19:42:38.5",
           "1981/11/16"
          ],
          [
           -30.39,
           -177.5,
           "09:12:06.1",
           "1981/12/25"
          ],
          [
           -31.45,
           -178.69,
           "03:52:34.7",
           "1982/03/28"
          ],
          [
           -30.19,
           -177.88,
           "00:34:44.3",
           "1982/04/12"
          ],
          [
           -32.48,
           -178.46,
           "00:06:19.8",
           "1982/12/19"
          ],
          [
           -30.36,
           -179.43,
           "16:02:21.5",
           "1983/01/26"
          ],
          [
           -33.83,
           179.38,
           "04:43:59.4",
           "1983/05/05"
          ],
          [
           -36.19,
           -179.89,
           "04:33:46.6",
           "1983/08/01"
          ],
          [
           -30.25,
           -177.76,
           "03:37:14.6",
           "1984/05/08"
          ],
          [
           -30.57,
           -178.35,
           "02:32:45.6",
           "1984/05/25"
          ],
          [
           -32.79,
           -179.31,
           "14:59:34.3",
           "1984/08/04"
          ],
          [
           -33.38,
           -179.35,
           "16:06:13.9",
           "1984/08/30"
          ],
          [
           -32.07,
           -178.37,
           "09:08:52.7",
           "1984/09/17"
          ],
          [
           -31.58,
           -177.57,
           "17:20:31.5",
           "1984/10/30"
          ],
          [
           -36.73,
           177.5,
           "21:36:55.7",
           "1984/12/30"
          ],
          [
           -37.49,
           179.35,
           "17:10:03.6",
           "1985/05/06"
          ],
          [
           -38.65,
           177.07,
           "14:33:59.0",
           "1985/07/19"
          ],
          [
           -35.2,
           -179.36,
           "19:12:29.8",
           "1985/11/07"
          ],
          [
           -30.17,
           -176.65,
           "16:55:54.1",
           "1986/03/14"
          ],
          [
           -30.83,
           -177.89,
           "23:18:30.3",
           "1986/06/19"
          ],
          [
           -33.44,
           -178.47,
           "02:12:46.5",
           "1986/07/22"
          ],
          [
           -34.56,
           179.34,
           "23:47:48.7",
           "1986/08/23"
          ],
          [
           -32.9,
           -179.27,
           "06:16:18.1",
           "1987/02/17"
          ],
          [
           -30.21,
           165.77,
           "21:59:41.9",
           "1987/07/26"
          ],
          [
           -30.29,
           -178.0,
           "12:15:35.4",
           "1987/08/30"
          ],
          [
           -31.22,
           -177.87,
           "17:43:39.1",
           "1987/09/07"
          ],
          [
           -32.51,
           -179.76,
           "08:07:32.7",
           "1988/01/13"
          ],
          [
           -31.62,
           -179.59,
           "14:44:21.9",
           "1988/09/20"
          ],
          [
           -31.29,
           -177.89,
           "00:08:23.1",
           "1989/04/19"
          ],
          [
           -30.55,
           -178.41,
           "00:59:49.0",
           "1989/05/14"
          ],
          [
           -30.36,
           -178.36,
           "16:01:50.1",
           "1989/05/20"
          ],
          [
           -45.16,
           167.11,
           "05:54:23.1",
           "1989/05/31"
          ],
          [
           -33.15,
           -177.64,
           "07:18:25.5",
           "1989/09/04"
          ],
          [
           -35.04,
           -179.55,
           "04:23:45.9",
           "1989/12/20"
          ],
          [
           -31.68,
           -178.11,
           "07:36:33.1",
           "1990/01/16"
          ],
          [
           -42.29,
           172.8,
           "03:27:41.7",
           "1990/02/10"
          ],
          [
           -48.05,
           165.45,
           "12:59:51.2",
           "1990/03/12"
          ],
          [
           -40.26,
           176.14,
           "04:23:10.8",
           "1990/05/13"
          ],
          [
           -41.51,
           175.29,
           "02:41:16.2",
           "1990/10/06"
          ],
          [
           -42.02,
           171.71,
           "12:58:48.8",
           "1991/01/28"
          ],
          [
           -31.78,
           179.77,
           "11:31:04.6",
           "1991/02/12"
          ],
          [
           -30.11,
           -177.99,
           "16:23:26.4",
           "1991/11/01"
          ],
          [
           -37.8,
           176.96,
           "17:43:12.1",
           "1992/06/21"
          ],
          [
           -33.68,
           -179.08,
           "03:18:54.0",
           "1992/06/26"
          ],
          [
           -32.45,
           -178.26,
           "19:14:25.6",
           "1992/12/26"
          ],
          [
           -31.98,
           -178.17,
           "20:17:14.2",
           "1992/12/31"
          ],
          [
           -45.14,
           166.95,
           "00:51:54.7",
           "1993/08/10"
          ],
          [
           -35.96,
           178.52,
           "11:02:22.1",
           "1993/08/13"
          ],
          [
           -42.86,
           171.46,
           "03:25:19.5",
           "1994/06/18"
          ],
          [
           -37.71,
           178.77,
           "22:51:10.4",
           "1995/02/05"
          ],
          [
           -37.97,
           178.47,
           "01:45:04.4",
           "1995/02/10"
          ],
          [
           -32.96,
           -178.61,
           "13:58:27.6",
           "1995/04/29"
          ],
          [
           -31.86,
           -178.58,
           "02:15:41.5",
           "1995/06/04"
          ],
          [
           -32.83,
           -178.27,
           "22:29:57.3",
           "1996/01/30"
          ],
          [
           -32.35,
           -179.54,
           "22:56:59.5",
           "1996/02/04"
          ],
          [
           -31.16,
           180.0,
           "09:41:34.7",
           "1996/11/05"
          ],
          [
           -32.54,
           -179.05,
           "00:47:21.1",
           "1996/11/11"
          ],
          [
           -30.66,
           -178.19,
           "23:26:36.2",
           "1996/11/17"
          ],
          [
           -31.08,
           -177.73,
           "05:25:57.7",
           "1997/03/11"
          ],
          [
           -31.79,
           -179.38,
           "16:46:02.0",
           "1997/05/03"
          ],
          [
           -31.84,
           -178.32,
           "13:15:53.3",
           "1997/10/07"
          ],
          [
           -30.56,
           -177.79,
           "14:00:55.9",
           "1998/03/08"
          ],
          [
           -33.55,
           -179.54,
           "16:43:41.3",
           "1998/04/10"
          ],
          [
           -30.1,
           -177.93,
           "20:24:45.2",
           "1998/06/20"
          ],
          [
           -30.49,
           -178.99,
           "14:45:40.0",
           "1998/07/09"
          ],
          [
           -35.59,
           179.96,
           "07:14:32.6",
           "1998/09/20"
          ],
          [
           -34.56,
           179.79,
           "23:20:47.2",
           "1998/11/11"
          ],
          [
           -33.05,
           -179.32,
           "17:45:34.8",
           "1998/12/25"
          ],
          [
           -34.23,
           -178.9,
           "09:41:39.6",
           "1999/05/12"
          ],
          [
           -30.37,
           -177.83,
           "08:39:04.9",
           "1999/08/01"
          ],
          [
           -32.83,
           -178.27,
           "19:37:44.8",
           "1999/09/10"
          ],
          [
           -31.51,
           179.73,
           "04:30:08.8",
           "2000/08/15"
          ],
          [
           -30.53,
           -178.33,
           "10:32:58.5",
           "2000/10/17"
          ],
          [
           -45.07,
           167.01,
           "10:35:55.0",
           "2000/11/01"
          ],
          [
           -35.0,
           -179.56,
           "14:02:19.4",
           "2001/03/12"
          ],
          [
           -36.81,
           -179.57,
           "06:52:06.2",
           "2001/08/21"
          ],
          [
           -37.06,
           179.49,
           "22:43:58.4",
           "2001/11/01"
          ],
          [
           -33.23,
           -178.57,
           "00:53:46.2",
           "2001/11/27"
          ],
          [
           -44.22,
           168.82,
           "19:27:34.1",
           "2001/12/07"
          ],
          [
           -30.32,
           -178.18,
           "04:22:56.6",
           "2001/12/25"
          ],
          [
           -33.26,
           -179.73,
           "20:50:32.5",
           "2002/03/17"
          ],
          [
           -34.87,
           -179.51,
           "02:48:11.6",
           "2003/02/16"
          ],
          [
           -33.35,
           -179.25,
           "16:54:58.0",
           "2003/03/09"
          ],
          [
           -30.53,
           -178.23,
           "13:15:18.7",
           "2003/05/04"
          ],
          [
           -32.93,
           -179.21,
           "01:13:28.3",
           "2003/08/19"
          ],
          [
           -45.1,
           167.14,
           "12:12:49.8",
           "2003/08/21"
          ],
          [
           -30.44,
           -177.4,
           "14:08:37.7",
           "2003/09/30"
          ],
          [
           -30.62,
           -179.01,
           "13:44:53.3",
           "2003/11/11"
          ],
          [
           -30.66,
           -179.38,
           "15:39:33.6",
           "2003/11/11"
          ],
          [
           -34.95,
           -178.25,
           "14:21:14.9",
           "2003/12/25"
          ],
          [
           -32.01,
           -178.81,
           "20:36:40.8",
           "2004/01/18"
          ],
          [
           -32.56,
           -177.97,
           "22:07:13.2",
           "2004/03/09"
          ],
          [
           -32.26,
           -178.36,
           "22:56:42.5",
           "2004/03/09"
          ],
          [
           -32.22,
           -178.1,
           "15:59:49.2",
           "2004/05/21"
          ],
          [
           -31.05,
           -177.12,
           "21:11:25.4",
           "2004/05/30"
          ],
          [
           -34.24,
           -179.6,
           "23:16:12.7",
           "2004/06/28"
          ],
          [
           -49.58,
           163.67,
           "04:39:37.5",
           "2004/07/01"
          ],
          [
           -38.0,
           176.51,
           "04:22:22.6",
           "2004/07/18"
          ],
          [
           -32.35,
           -179.61,
           "18:48:38.4",
           "2004/07/20"
          ],
          [
           -32.97,
           -178.46,
           "22:17:06.9",
           "2004/07/23"
          ],
          [
           -49.31,
           161.35,
           "14:59:04.4",
           "2004/12/23"
          ],
          [
           -31.61,
           -177.93,
           "11:27:43.2",
           "2005/01/22"
          ],
          [
           -41.44,
           175.75,
           "17:31:53.5",
           "2005/01/31"
          ],
          [
           -30.12,
           -176.83,
           "00:04:56.0",
           "2005/02/21"
          ],
          [
           -43.95,
           169.02,
           "15:35:38.4",
           "2005/05/02"
          ],
          [
           -32.59,
           -179.35,
           "03:54:14.6",
           "2005/05/16"
          ],
          [
           -33.44,
           -178.37,
           "21:04:56.3",
           "2005/10/27"
          ],
          [
           -30.39,
           -178.17,
           "03:09:18.1",
           "2005/11/02"
          ],
          [
           -34.35,
           -179.68,
           "11:59:04.6",
           "2005/11/15"
          ],
          [
           -33.69,
           -178.59,
           "04:32:51.7",
           "2005/12/04"
          ],
          [
           -31.78,
           -179.31,
           "10:39:23.3",
           "2006/05/16"
          ],
          [
           -33.68,
           -179.02,
           "14:44:46.4",
           "2006/08/15"
          ],
          [
           -32.06,
           -177.53,
           "10:27:29.7",
           "2007/02/15"
          ],
          [
           -30.65,
           -177.56,
           "01:15:49.2",
           "2007/03/05"
          ],
          [
           -33.5,
           -178.27,
           "09:25:49.2",
           "2007/03/20"
          ],
          [
           -34.12,
           -178.95,
           "13:56:29.7",
           "2007/05/03"
          ],
          [
           -31.68,
           -178.02,
           "16:44:35.8",
           "2007/08/19"
          ],
          [
           -33.08,
           -179.34,
           "09:41:57.2",
           "2007/09/04"
          ],
          [
           -30.97,
           180.0,
           "05:16:01.1",
           "2007/09/25"
          ],
          [
           -49.27,
           164.12,
           "05:23:34.1",
           "2007/09/30"
          ],
          [
           -48.65,
           164.62,
           "18:03:03.9",
           "2007/10/03"
          ],
          [
           -44.78,
           167.58,
           "12:29:36.0",
           "2007/10/15"
          ],
          [
           -33.05,
           -178.22,
           "22:06:47.9",
           "2007/10/31"
          ],
          [
           -39.01,
           178.29,
           "07:55:15.8",
           "2007/12/20"
          ],
          [
           -35.52,
           178.26,
           "09:26:09.4",
           "2008/02/19"
          ],
          [
           -34.99,
           -179.23,
           "05:27:41.3",
           "2008/02/27"
          ],
          [
           -35.38,
           -179.3,
           "23:06:44.8",
           "2008/03/01"
          ],
          [
           -42.21,
           173.8,
           "07:23:03.5",
           "2008/09/26"
          ],
          [
           -30.78,
           -178.13,
           "13:03:08.8",
           "2008/10/02"
          ],
          [
           -30.18,
           -177.18,
           "09:12:36.1",
           "2008/10/05"
          ],
          [
           -31.23,
           -176.92,
           "06:23:59.8",
           "2008/12/09"
          ],
          [
           -36.91,
           177.73,
           "20:33:57.6",
           "2008/12/17"
          ],
          [
           -30.2,
           -177.95,
           "14:11:48.9",
           "2009/01/18"
          ],
          [
           -30.3,
           -178.58,
           "00:06:53.2",
           "2009/04/26"
          ],
          [
           -31.52,
           -178.79,
           "00:53:52.7",
           "2009/05/16"
          ],
          [
           -31.48,
           -177.68,
           "00:58:02.1",
           "2009/05/24"
          ],
          [
           -45.76,
           166.56,
           "09:22:29.0",
           "2009/07/15"
          ],
          [
           -31.57,
           179.47,
           "22:47:27.5",
           "2009/11/22"
          ],
          [
           -32.94,
           179.82,
           "14:08:27.5",
           "2010/01/25"
          ],
          [
           -48.73,
           164.67,
           "06:28:50.3",
           "2010/03/18"
          ],
          [
           -30.04,
           -177.23,
           "10:43:57.5",
           "2010/08/17"
          ],
          [
           -43.53,
           171.81,
           "16:35:47.8",
           "2010/09/03"
          ],
          [
           -33.62,
           -178.92,
           "16:18:43.4",
           "2010/11/22"
          ],
          [
           -32.3,
           -179.54,
           "09:18:48.2",
           "2010/12/08"
          ],
          [
           -31.83,
           -178.13,
           "23:47:03.9",
           "2010/12/30"
          ],
          [
           -49.35,
           163.83,
           "06:48:58.8",
           "2011/01/14"
          ],
          [
           -30.06,
           -177.95,
           "13:18:10.2",
           "2011/01/25"
          ],
          [
           -38.5,
           176.0,
           "15:02:46.3",
           "2011/01/27"
          ],
          [
           -31.09,
           -178.67,
           "23:45:00.4",
           "2011/03/06"
          ],
          [
           -34.34,
           179.87,
           "13:03:02.7",
           "2011/04/18"
          ],
          [
           -30.82,
           -178.17,
           "21:17:02.4",
           "2011/05/21"
          ],
          [
           -43.56,
           172.74,
           "02:20:49.3",
           "2011/06/13"
          ],
          [
           -32.52,
           -178.35,
           "06:57:24.6",
           "2011/07/10"
          ],
          [
           -30.55,
           -177.93,
           "07:14:47.6",
           "2011/08/13"
          ],
          [
           -49.58,
           164.0,
           "19:26:01.1",
           "2011/09/09"
          ],
          [
           -35.31,
           -179.03,
           "07:53:18.8",
           "2011/09/15"
          ],
          [
           -32.54,
           -179.04,
           "08:58:28.6",
           "2011/10/07"
          ],
          [
           -37.81,
           179.42,
           "07:51:24.7",
           "2011/11/18"
          ],
          [
           -33.81,
           -178.34,
           "10:52:07.0",
           "2011/12/23"
          ],
          [
           -46.69,
           165.78,
           "06:48:48.8",
           "2012/01/19"
          ],
          [
           -30.12,
           -177.27,
           "15:49:46.4",
           "2012/02/10"
          ],
          [
           -32.94,
           -178.65,
           "02:20:06.6",
           "2012/06/22"
          ],
          [
           -39.07,
           175.81,
           "00:50:27.0",
           "2012/07/07"
          ],
          [
           -30.83,
           -177.46,
           "19:47:14.1",
           "2012/07/23"
          ],
          [
           -35.78,
           -179.75,
           "12:54:27.1",
           "2012/08/04"
          ],
          [
           -33.44,
           -179.53,
           "10:01:53.9",
           "2012/08/24"
          ],
          [
           -30.4,
           -177.93,
           "14:36:36.6",
           "2012/09/09"
          ],
          [
           -38.47,
           176.1,
           "18:19:06.2",
           "2012/12/07"
          ],
          [
           -30.77,
           -178.12,
           "12:19:18.1",
           "2013/02/18"
          ],
          [
           -32.34,
           -178.05,
           "20:54:04.1",
           "2013/02/24"
          ],
          [
           -31.07,
           -177.56,
           "06:49:50.8",
           "2013/02/27"
          ],
          [
           -32.04,
           -177.44,
           "10:00:03.0",
           "2013/04/05"
          ],
          [
           -33.85,
           179.4,
           "11:20:36.0",
           "2013/06/15"
          ],
          [
           -30.24,
           -177.54,
           "14:44:01.8",
           "2013/07/10"
          ],
          [
           -41.7,
           174.34,
           "05:09:31.5",
           "2013/07/21"
          ],
          [
           -30.63,
           -179.68,
           "04:16:47.8",
           "2013/08/12"
          ],
          [
           -33.51,
           -178.09,
           "16:48:59.3",
           "2013/09/21"
          ],
          [
           -30.88,
           -178.38,
           "05:55:55.7",
           "2013/09/30"
          ],
          [
           -46.08,
           165.99,
           "12:07:24.8",
           "2013/12/16"
          ],
          [
           -40.66,
           175.81,
           "02:52:44.3",
           "2014/01/20"
          ],
          [
           -32.91,
           -177.88,
           "09:26:37.8",
           "2014/02/02"
          ],
          [
           -34.8,
           -179.42,
           "08:14:42.5",
           "2014/02/18"
          ],
          [
           -33.0,
           -179.04,
           "06:31:39.0",
           "2014/06/02"
          ],
          [
           -30.12,
           -177.66,
           "11:36:04.0",
           "2014/06/30"
          ],
          [
           -30.45,
           -176.45,
           "19:50:07.3",
           "2014/07/03"
          ],
          [
           -36.08,
           178.06,
           "15:02:30.2",
           "2014/09/21"
          ],
          [
           -30.04,
           -177.85,
           "21:38:00.8",
           "2014/11/10"
          ],
          [
           -37.65,
           179.66,
           "22:33:20.5",
           "2014/11/16"
          ],
          [
           -48.85,
           164.45,
           "13:04:24.5",
           "2014/12/01"
          ],
          [
           -36.51,
           177.27,
           "10:25:06.2",
           "2015/02/23"
          ],
          [
           -31.75,
           -177.87,
           "13:13:21.3",
           "2015/03/21"
          ],
          [
           -30.2,
           -178.85,
           "10:31:17.4",
           "2015/04/03"
          ],
          [
           -34.87,
           179.76,
           "11:16:05.3",
           "2015/04/18"
          ],
          [
           -42.06,
           173.01,
           "03:36:42.4",
           "2015/04/24"
          ],
          [
           -32.07,
           -178.32,
           "18:45:57.5",
           "2015/06/25"
          ],
          [
           -32.32,
           -177.82,
           "12:19:17.1",
           "2015/06/30"
          ],
          [
           -35.42,
           -179.62,
           "05:35:14.5",
           "2015/07/07"
          ],
          [
           -33.03,
           -178.53,
           "06:48:32.9",
           "2015/09/08"
          ],
          [
           -30.75,
           -179.95,
           "19:00:46.3",
           "2016/02/01"
          ],
          [
           -33.71,
           -178.46,
           "13:09:55.7",
           "2016/05/26"
          ],
          [
           -30.02,
           -177.84,
           "02:35:32.4",
           "2016/06/06"
          ],
          [
           -37.36,
           179.15,
           "16:37:57.3",
           "2016/09/01"
          ],
          [
           -32.61,
           -178.01,
           "04:02:15.6",
           "2016/09/24"
          ],
          [
           -42.74,
           173.05,
           "11:02:56.3",
           "2016/11/13"
          ],
          [
           -41.76,
           174.3,
           "07:21:04.7",
           "2016/11/14"
          ],
          [
           -31.73,
           -176.15,
           "09:16:17.9",
           "2016/12/14"
          ],
          [
           -37.89,
           177.68,
           "16:46:11.1",
           "2017/01/06"
          ],
          [
           -30.09,
           -177.45,
           "14:59:52.0",
           "2017/01/29"
          ],
          [
           -33.12,
           -179.13,
           "11:38:15.0",
           "2017/03/19"
          ],
          [
           -49.48,
           164.02,
           "07:00:01.2",
           "2017/07/11"
          ],
          [
           -32.99,
           -178.28,
           "00:16:30.9",
           "2017/10/07"
          ],
          [
           -30.52,
           -177.32,
           "09:55:58.7",
           "2017/10/20"
          ],
          [
           -37.49,
           177.34,
           "07:36:06.4",
           "2017/10/31"
          ],
          [
           -32.75,
           -178.77,
           "00:08:09.2",
           "2017/12/04"
          ],
          [
           -30.02,
           -177.74,
           "22:56:59.4",
           "2018/01/17"
          ],
          [
           -33.78,
           -179.5,
           "17:22:17.3",
           "2018/05/16"
          ],
          [
           -31.98,
           -179.95,
           "21:43:15.3",
           "2018/05/17"
          ],
          [
           -34.59,
           -178.41,
           "01:45:31.5",
           "2018/05/18"
          ],
          [
           -33.04,
           -179.4,
           "04:52:31.1",
           "2018/06/01"
          ],
          [
           -30.57,
           -178.07,
           "21:33:49.6",
           "2018/07/07"
          ],
          [
           -30.06,
           -177.45,
           "09:28:17.4",
           "2018/07/28"
          ],
          [
           -31.75,
           -179.37,
           "04:19:02.6",
           "2018/09/10"
          ],
          [
           -34.83,
           -179.35,
           "17:34:12.4",
           "2018/09/13"
          ],
          [
           -47.9,
           165.42,
           "23:42:39.5",
           "2018/11/24"
          ],
          [
           -33.48,
           -177.93,
           "07:06:56.9",
           "2019/01/23"
          ],
          [
           -32.02,
           -177.88,
           "15:46:14.9",
           "2019/03/06"
          ],
          [
           -32.47,
           -178.37,
           "16:29:09.1",
           "2019/03/07"
          ],
          [
           -31.17,
           -179.07,
           "09:22:32.3",
           "2019/04/16"
          ],
          [
           -30.64,
           -178.1,
           "22:55:04.1",
           "2019/06/15"
          ],
          [
           -34.01,
           179.6,
           "23:15:16.1",
           "2019/06/20"
          ],
          [
           -30.86,
           -177.47,
           "08:37:17.0",
           "2019/06/21"
          ],
          [
           -30.4,
           -179.18,
           "11:04:56.3",
           "2019/06/27"
          ],
          [
           -35.05,
           -179.33,
           "20:22:51.4",
           "2019/10/09"
          ],
          [
           -44.77,
           167.43,
           "08:53:38.5",
           "2019/10/24"
          ],
          [
           -37.36,
           177.26,
           "16:34:44.2",
           "2019/11/23"
          ],
          [
           -32.97,
           -178.33,
           "19:28:51.9",
           "2020/01/01"
          ],
          [
           -35.48,
           -179.71,
           "19:24:52.7",
           "2020/01/25"
          ],
          [
           -40.38,
           174.96,
           "19:53:32.3",
           "2020/05/24"
          ],
          [
           -33.29,
           -177.86,
           "12:49:53.8",
           "2020/06/18"
          ],
          [
           -44.64,
           167.47,
           "22:20:02.0",
           "2020/06/24"
          ],
          [
           -36.91,
           177.19,
           "15:47:06.0",
           "2020/08/28"
          ],
          [
           -32.91,
           -179.05,
           "15:30:00.1",
           "2020/12/11"
          ]
         ],
         "hovertemplate": "<b>%{hovertext}</b><br><br>Mag=%{marker.color}<br>Lat=%{customdata[0]}<br>Lon=%{customdata[1]}<br>Time=%{customdata[2]}<br>Date=%{customdata[3]}<extra></extra>",
         "hovertext": {
          "dtype": "f8",
          "bdata": "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"
         },
         "lat": {
          "dtype": "f8",
          "bdata": "4XoUrkdhPsA9CtejcD0+wK5H4XoUrj7ArkfhehTOQsAfhetRuP5CwM3MzMzMrEHAUrgeheuRPsAfhetRuB4+wIXrUbgeZUjAhetRuB5FPsC4HoXrUfhAwKRwPQrXYz7AMzMzMzNzP8BxPQrXozA+wD0K16NwPUDAXI/C9ShcPsAK16NwPepAwLgehetRGELAAAAAAABAPsBSuB6F65E+wIXrUbgeZUDAcT0K16OwQMApXI/C9QhAwBSuR+F6lD/APQrXo3BdQsAfhetRuL5CwDMzMzMzU0PAmpmZmZmZQcDsUbgehSs+wBSuR+F61D7AuB6F61G4QMBI4XoUrkdBwDMzMzMzc0DA9ihcj8I1PsAK16NwPUo+wLgehetROD/A4XoUrkdBQMAfhetRuJ4/wArXo3A9Sj/AzczMzMyMPsBcj8L1KFw+wBSuR+F6lEbAMzMzMzOTQMCF61G4HoVBwK5H4XoUrj/AhetRuB4lRcBmZmZmZgZIwOF6FK5HIUTA4XoUrkfBRMDD9ShcjwJFwEjhehSuxz/AXI/C9SgcPsBmZmZmZuZCwNejcD0K10DAmpmZmZk5QMB7FK5H4fo/wFK4HoXrkUbAexSuR+H6QcCuR+F6FG5FwHsUrkfh2kLAXI/C9Sj8QsB7FK5H4XpAwFyPwvUo3D/ACtejcD1qQMDNzMzMzCxAwClcj8L1KD/AhetRuB5FQMApXI/C9ag+wBSuR+F6FD/ACtejcD3KP8DXo3A9Ctc/wI/C9Shcjz7AZmZmZmbGQMCamZmZmRk+wD0K16NwfT7A7FG4HoXLQcBI4XoUrkdBwGZmZmZmhkDAPQrXo3AdQcAfhetRuF4+wArXo3A9akDAw/UoXI+CP8BI4XoUroc+wClcj8L1iEbAAAAAAACAQcBI4XoUrmdCwEjhehSuh0LAPQrXo3CdQMBcj8L1KBxGwFK4HoXrUT7A4XoUrkehQMCPwvUoXG9BwM3MzMzMrEDASOF6FK6HPsDXo3A9CndAwM3MzMzMjEbAcT0K16NwPsAfhetRuJ4+wClcj8L1qD7AmpmZmZl5QcDhehSuRwFAwEjhehSuR0DA4XoUrkchQMBcj8L1KBxAwM3MzMzMDD/AH4XrUbgeQcAK16NwPcpIwAAAAAAAAEPAzczMzMwsQMBcj8L1KHxAwEjhehSup0jAXI/C9SicP8C4HoXrUbhEwB+F61G4Hj7AmpmZmZn5RcDsUbgehUtAwLgehetRuEDApHA9CtdjPsDNzMzMzCxBwLgehetR2EDASOF6FK7HP8DXo3A9CtdAwEjhehSuB0DAZmZmZmamPsAAAAAAAMBAwI/C9ShcD0HArkfhehSuP8AK16NwPYpAwLgehetR+D7Aw/UoXI+iSMAzMzMzM1NIwKRwPQrXY0bAZmZmZmaGQMDhehSuR4FDwMP1KFyPwkHAH4XrUbh+QcBxPQrXo7BBwHsUrkfhGkXASOF6FK7HPsCuR+F6FC4+wHsUrkfhOj/AFK5H4Xp0QsAzMzMzMzM+wM3MzMzMTD7AhetRuB6FP8B7FK5H4Xo/wOF6FK5H4UbAUrgeheuRP8C4HoXrUXhAwD0K16NwXUjACtejcD0KPsCkcD0K18NFwI/C9Shcz0DAZmZmZmYmQMAUrkfhetQ/wM3MzMzMrEjAj8L1KFwPPsAAAAAAAEBDwNejcD0KFz/A7FG4HoUrQcBSuB6F69E+wEjhehSux0XAw/UoXI9CQMDNzMzMzIw+wArXo3A9ykjASOF6FK6nQcCF61G4HkVAwEjhehSu50LASOF6FK7nQMC4HoXrUVhHwB+F61G4Hj7AuB6F61F4QMApXI/C9YhDwBSuR+F61D7ApHA9CtfjQcC4HoXrUbhAwGZmZmZmZj7AXI/C9Sg8Q8CF61G4HsU+wOxRuB6FK0DAUrgehesRP8CF61G4HgVAwM3MzMzM7EDAPQrXo3A9PsCamZmZmdlEwOF6FK5HoT7A4XoUrkfBQMDhehSuR+E+wArXo3A9CkfAFK5H4XpURMAUrkfhenRAwGZmZmZmZkHAAAAAAACAQMAfhetRuB4+wDMzMzMzcz7ACtejcD0KQsAK16NwPQo+wDMzMzMz00LAzczMzMxsSMDhehSuR0FCwAAAAAAAwD/AMzMzMzMzPsCPwvUoXG9BwEjhehSuB0XAKVyPwvUIQMApXI/C9ShAwPYoXI/CtUHApHA9CteDQMAAAAAAAMA+wHsUrkfh2kDAhetRuB4FPsCuR+F6FK5CwK5H4XoUTkDAH4XrUbheRcDhehSuR+FEwHsUrkfhuj/AUrgehevxQsDXo3A9Chc+wI/C9Shcj0DAPQrXo3C9SMAfhetRuH5AwIXrUbgehT7AH4XrUbi+QsAAAAAAAGBAwIXrUbgeBT7ApHA9CtfjQMB7FK5H4fo/wOxRuB6FS0HAhetRuB6FQMBSuB6F65E+wI/C9ShcDz7AAAAAAADAP8AK16NwPWpBwDMzMzMz80fAPQrXo3C9QMDD9ShcjwJAwFyPwvUoPEDA7FG4HoUrP8CkcD0K16M+wOF6FK5HAUHAXI/C9SjcPsBmZmZmZmY+wGZmZmZmhkHAw/UoXI9iRsCuR+F6FK5CwFyPwvUofEDAPQrXo3C9QcBxPQrXozBEwIXrUbgepUDAUrgehetRRsAUrkfhenRCwBSuR+F6dEDA"
         },
         "legendgroup": "",
         "lon": {
          "dtype": "f8",
          "bdata": "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"
         },
         "marker": {
          "color": {
           "dtype": "f8",
           "bdata": "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"
          },
          "coloraxis": "coloraxis",
          "size": {
           "dtype": "f8",
           "bdata": "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"
          },
          "sizemode": "area",
          "sizeref": 0.121875
         },
         "mode": "markers",
         "name": "",
         "showlegend": false,
         "subplot": "map",
         "type": "scattermap"
        }
       ],
       "layout": {
        "template": {
         "data": {
          "histogram2dcontour": [
           {
            "type": "histogram2dcontour",
            "colorbar": {
             "outlinewidth": 0,
             "ticks": ""
            },
            "colorscale": [
             [
              0.0,
              "#0d0887"
             ],
             [
              0.1111111111111111,
              "#46039f"
             ],
             [
              0.2222222222222222,
              "#7201a8"
             ],
             [
              0.3333333333333333,
              "#9c179e"
             ],
             [
              0.4444444444444444,
              "#bd3786"
             ],
             [
              0.5555555555555556,
              "#d8576b"
             ],
             [
              0.6666666666666666,
              "#ed7953"
             ],
             [
              0.7777777777777778,
              "#fb9f3a"
             ],
             [
              0.8888888888888888,
              "#fdca26"
             ],
             [
              1.0,
              "#f0f921"
             ]
            ]
           }
          ],
          "choropleth": [
           {
            "type": "choropleth",
            "colorbar": {
             "outlinewidth": 0,
             "ticks": ""
            }
           }
          ],
          "histogram2d": [
           {
            "type": "histogram2d",
            "colorbar": {
             "outlinewidth": 0,
             "ticks": ""
            },
            "colorscale": [
             [
              0.0,
              "#0d0887"
             ],
             [
              0.1111111111111111,
              "#46039f"
             ],
             [
              0.2222222222222222,
              "#7201a8"
             ],
             [
              0.3333333333333333,
              "#9c179e"
             ],
             [
              0.4444444444444444,
              "#bd3786"
             ],
             [
              0.5555555555555556,
              "#d8576b"
             ],
             [
              0.6666666666666666,
              "#ed7953"
             ],
             [
              0.7777777777777778,
              "#fb9f3a"
             ],
             [
              0.8888888888888888,
              "#fdca26"
             ],
             [
              1.0,
              "#f0f921"
             ]
            ]
           }
          ],
          "heatmap": [
           {
            "type": "heatmap",
            "colorbar": {
             "outlinewidth": 0,
             "ticks": ""
            },
            "colorscale": [
             [
              0.0,
              "#0d0887"
             ],
             [
              0.1111111111111111,
              "#46039f"
             ],
             [
              0.2222222222222222,
              "#7201a8"
             ],
             [
              0.3333333333333333,
              "#9c179e"
             ],
             [
              0.4444444444444444,
              "#bd3786"
             ],
             [
              0.5555555555555556,
              "#d8576b"
             ],
             [
              0.6666666666666666,
              "#ed7953"
             ],
             [
              0.7777777777777778,
              "#fb9f3a"
             ],
             [
              0.8888888888888888,
              "#fdca26"
             ],
             [
              1.0,
              "#f0f921"
             ]
            ]
           }
          ],
          "contourcarpet": [
           {
            "type": "contourcarpet",
            "colorbar": {
             "outlinewidth": 0,
             "ticks": ""
            }
           }
          ],
          "contour": [
           {
            "type": "contour",
            "colorbar": {
             "outlinewidth": 0,
             "ticks": ""
            },
            "colorscale": [
             [
              0.0,
              "#0d0887"
             ],
             [
              0.1111111111111111,
              "#46039f"
             ],
             [
              0.2222222222222222,
              "#7201a8"
             ],
             [
              0.3333333333333333,
              "#9c179e"
             ],
             [
              0.4444444444444444,
              "#bd3786"
             ],
             [
              0.5555555555555556,
              "#d8576b"
             ],
             [
              0.6666666666666666,
              "#ed7953"
             ],
             [
              0.7777777777777778,
              "#fb9f3a"
             ],
             [
              0.8888888888888888,
              "#fdca26"
             ],
             [
              1.0,
              "#f0f921"
             ]
            ]
           }
          ],
          "surface": [
           {
            "type": "surface",
            "colorbar": {
             "outlinewidth": 0,
             "ticks": ""
            },
            "colorscale": [
             [
              0.0,
              "#0d0887"
             ],
             [
              0.1111111111111111,
              "#46039f"
             ],
             [
              0.2222222222222222,
              "#7201a8"
             ],
             [
              0.3333333333333333,
              "#9c179e"
             ],
             [
              0.4444444444444444,
              "#bd3786"
             ],
             [
              0.5555555555555556,
              "#d8576b"
             ],
             [
              0.6666666666666666,
              "#ed7953"
             ],
             [
              0.7777777777777778,
              "#fb9f3a"
             ],
             [
              0.8888888888888888,
              "#fdca26"
             ],
             [
              1.0,
              "#f0f921"
             ]
            ]
           }
          ],
          "mesh3d": [
           {
            "type": "mesh3d",
            "colorbar": {
             "outlinewidth": 0,
             "ticks": ""
            }
           }
          ],
          "scatter": [
           {
            "fillpattern": {
             "fillmode": "overlay",
             "size": 10,
             "solidity": 0.2
            },
            "type": "scatter"
           }
          ],
          "parcoords": [
           {
            "type": "parcoords",
            "line": {
             "colorbar": {
              "outlinewidth": 0,
              "ticks": ""
             }
            }
           }
          ],
          "scatterpolargl": [
           {
            "type": "scatterpolargl",
            "marker": {
             "colorbar": {
              "outlinewidth": 0,
              "ticks": ""
             }
            }
           }
          ],
          "bar": [
           {
            "error_x": {
             "color": "#2a3f5f"
            },
            "error_y": {
             "color": "#2a3f5f"
            },
            "marker": {
             "line": {
              "color": "#E5ECF6",
              "width": 0.5
             },
             "pattern": {
              "fillmode": "overlay",
              "size": 10,
              "solidity": 0.2
             }
            },
            "type": "bar"
           }
          ],
          "scattergeo": [
           {
            "type": "scattergeo",
            "marker": {
             "colorbar": {
              "outlinewidth": 0,
              "ticks": ""
             }
            }
           }
          ],
          "scatterpolar": [
           {
            "type": "scatterpolar",
            "marker": {
             "colorbar": {
              "outlinewidth": 0,
              "ticks": ""
             }
            }
           }
          ],
          "histogram": [
           {
            "marker": {
             "pattern": {
              "fillmode": "overlay",
              "size": 10,
              "solidity": 0.2
             }
            },
            "type": "histogram"
           }
          ],
          "scattergl": [
           {
            "type": "scattergl",
            "marker": {
             "colorbar": {
              "outlinewidth": 0,
              "ticks": ""
             }
            }
           }
          ],
          "scatter3d": [
           {
            "type": "scatter3d",
            "line": {
             "colorbar": {
              "outlinewidth": 0,
              "ticks": ""
             }
            },
            "marker": {
             "colorbar": {
              "outlinewidth": 0,
              "ticks": ""
             }
            }
           }
          ],
          "scattermap": [
           {
            "type": "scattermap",
            "marker": {
             "colorbar": {
              "outlinewidth": 0,
              "ticks": ""
             }
            }
           }
          ],
          "scattermapbox": [
           {
            "type": "scattermapbox",
            "marker": {
             "colorbar": {
              "outlinewidth": 0,
              "ticks": ""
             }
            }
           }
          ],
          "scatterternary": [
           {
            "type": "scatterternary",
            "marker": {
             "colorbar": {
              "outlinewidth": 0,
              "ticks": ""
             }
            }
           }
          ],
          "scattercarpet": [
           {
            "type": "scattercarpet",
            "marker": {
             "colorbar": {
              "outlinewidth": 0,
              "ticks": ""
             }
            }
           }
          ],
          "carpet": [
           {
            "aaxis": {
             "endlinecolor": "#2a3f5f",
             "gridcolor": "white",
             "linecolor": "white",
             "minorgridcolor": "white",
             "startlinecolor": "#2a3f5f"
            },
            "baxis": {
             "endlinecolor": "#2a3f5f",
             "gridcolor": "white",
             "linecolor": "white",
             "minorgridcolor": "white",
             "startlinecolor": "#2a3f5f"
            },
            "type": "carpet"
           }
          ],
          "table": [
           {
            "cells": {
             "fill": {
              "color": "#EBF0F8"
             },
             "line": {
              "color": "white"
             }
            },
            "header": {
             "fill": {
              "color": "#C8D4E3"
             },
             "line": {
              "color": "white"
             }
            },
            "type": "table"
           }
          ],
          "barpolar": [
           {
            "marker": {
             "line": {
              "color": "#E5ECF6",
              "width": 0.5
             },
             "pattern": {
              "fillmode": "overlay",
              "size": 10,
              "solidity": 0.2
             }
            },
            "type": "barpolar"
           }
          ],
          "pie": [
           {
            "automargin": true,
            "type": "pie"
           }
          ]
         },
         "layout": {
          "autotypenumbers": "strict",
          "colorway": [
           "#636efa",
           "#EF553B",
           "#00cc96",
           "#ab63fa",
           "#FFA15A",
           "#19d3f3",
           "#FF6692",
           "#B6E880",
           "#FF97FF",
           "#FECB52"
          ],
          "font": {
           "color": "#2a3f5f"
          },
          "hovermode": "closest",
          "hoverlabel": {
           "align": "left"
          },
          "paper_bgcolor": "white",
          "plot_bgcolor": "#E5ECF6",
          "polar": {
           "bgcolor": "#E5ECF6",
           "angularaxis": {
            "gridcolor": "white",
            "linecolor": "white",
            "ticks": ""
           },
           "radialaxis": {
            "gridcolor": "white",
            "linecolor": "white",
            "ticks": ""
           }
          },
          "ternary": {
           "bgcolor": "#E5ECF6",
           "aaxis": {
            "gridcolor": "white",
            "linecolor": "white",
            "ticks": ""
           },
           "baxis": {
            "gridcolor": "white",
            "linecolor": "white",
            "ticks": ""
           },
           "caxis": {
            "gridcolor": "white",
            "linecolor": "white",
            "ticks": ""
           }
          },
          "coloraxis": {
           "colorbar": {
            "outlinewidth": 0,
            "ticks": ""
           }
          },
          "colorscale": {
           "sequential": [
            [
             0.0,
             "#0d0887"
            ],
            [
             0.1111111111111111,
             "#46039f"
            ],
            [
             0.2222222222222222,
             "#7201a8"
            ],
            [
             0.3333333333333333,
             "#9c179e"
            ],
            [
             0.4444444444444444,
             "#bd3786"
            ],
            [
             0.5555555555555556,
             "#d8576b"
            ],
            [
             0.6666666666666666,
             "#ed7953"
            ],
            [
             0.7777777777777778,
             "#fb9f3a"
            ],
            [
             0.8888888888888888,
             "#fdca26"
            ],
            [
             1.0,
             "#f0f921"
            ]
           ],
           "sequentialminus": [
            [
             0.0,
             "#0d0887"
            ],
            [
             0.1111111111111111,
             "#46039f"
            ],
            [
             0.2222222222222222,
             "#7201a8"
            ],
            [
             0.3333333333333333,
             "#9c179e"
            ],
            [
             0.4444444444444444,
             "#bd3786"
            ],
            [
             0.5555555555555556,
             "#d8576b"
            ],
            [
             0.6666666666666666,
             "#ed7953"
            ],
            [
             0.7777777777777778,
             "#fb9f3a"
            ],
            [
             0.8888888888888888,
             "#fdca26"
            ],
            [
             1.0,
             "#f0f921"
            ]
           ],
           "diverging": [
            [
             0,
             "#8e0152"
            ],
            [
             0.1,
             "#c51b7d"
            ],
            [
             0.2,
             "#de77ae"
            ],
            [
             0.3,
             "#f1b6da"
            ],
            [
             0.4,
             "#fde0ef"
            ],
            [
             0.5,
             "#f7f7f7"
            ],
            [
             0.6,
             "#e6f5d0"
            ],
            [
             0.7,
             "#b8e186"
            ],
            [
             0.8,
             "#7fbc41"
            ],
            [
             0.9,
             "#4d9221"
            ],
            [
             1,
             "#276419"
            ]
           ]
          },
          "xaxis": {
           "gridcolor": "white",
           "linecolor": "white",
           "ticks": "",
           "title": {
            "standoff": 15
           },
           "zerolinecolor": "white",
           "automargin": true,
           "zerolinewidth": 2
          },
          "yaxis": {
           "gridcolor": "white",
           "linecolor": "white",
           "ticks": "",
           "title": {
            "standoff": 15
           },
           "zerolinecolor": "white",
           "automargin": true,
           "zerolinewidth": 2
          },
          "scene": {
           "xaxis": {
            "backgroundcolor": "#E5ECF6",
            "gridcolor": "white",
            "linecolor": "white",
            "showbackground": true,
            "ticks": "",
            "zerolinecolor": "white",
            "gridwidth": 2
           },
           "yaxis": {
            "backgroundcolor": "#E5ECF6",
            "gridcolor": "white",
            "linecolor": "white",
            "showbackground": true,
            "ticks": "",
            "zerolinecolor": "white",
            "gridwidth": 2
           },
           "zaxis": {
            "backgroundcolor": "#E5ECF6",
            "gridcolor": "white",
            "linecolor": "white",
            "showbackground": true,
            "ticks": "",
            "zerolinecolor": "white",
            "gridwidth": 2
           }
          },
          "shapedefaults": {
           "line": {
            "color": "#2a3f5f"
           }
          },
          "annotationdefaults": {
           "arrowcolor": "#2a3f5f",
           "arrowhead": 0,
           "arrowwidth": 1
          },
          "geo": {
           "bgcolor": "white",
           "landcolor": "#E5ECF6",
           "subunitcolor": "white",
           "showland": true,
           "showlakes": true,
           "lakecolor": "white"
          },
          "title": {
           "x": 0.05
          },
          "mapbox": {
           "style": "light"
          }
         }
        },
        "map": {
         "domain": {
          "x": [
           0.0,
           1.0
          ],
          "y": [
           0.0,
           1.0
          ]
         },
         "center": {
          "lat": -41,
          "lon": 174
         },
         "zoom": 3.8,
         "style": "carto-positron"
        },
        "coloraxis": {
         "colorbar": {
          "title": {
           "text": "Mag"
          }
         },
         "colorscale": [
          [
           0.0,
           "rgb(255,247,236)"
          ],
          [
           0.125,
           "rgb(254,232,200)"
          ],
          [
           0.25,
           "rgb(253,212,158)"
          ],
          [
           0.375,
           "rgb(253,187,132)"
          ],
          [
           0.5,
           "rgb(252,141,89)"
          ],
          [
           0.625,
           "rgb(239,101,72)"
          ],
          [
           0.75,
           "rgb(215,48,31)"
          ],
          [
           0.875,
           "rgb(179,0,0)"
          ],
          [
           1.0,
           "rgb(127,0,0)"
          ]
         ]
        },
        "legend": {
         "tracegroupgap": 0,
         "itemsizing": "constant"
        },
        "title": {
         "text": "Declustered Catalogue of New Zealand Earthquakes using Gardner and Knopoff Window Method (1974)<br><sup>Time of occurrence: 1976-2020</sup>"
        },
        "height": 800,
        "mapbox": {
         "center": {
          "lat": -41,
          "lon": 174
         },
         "zoom": 3.8,
         "style": "carto-positron"
        }
       },
       "config": {
        "plotlyServerURL": "https://plot.ly"
       }
      }
     },
     "metadata": {},
     "output_type": "display_data"
    }
   ],
   "execution_count": 12
  },
  {
   "metadata": {
    "ExecuteTime": {
     "end_time": "2025-08-26T17:27:23.497062Z",
     "start_time": "2025-08-26T17:27:20.001076Z"
    }
   },
   "cell_type": "code",
   "source": [
    "# Visualisation: The inter_arrival times are expected to fit an exponential distribution\n",
    "import matplotlib.pyplot as plt\n",
    "import numpy as np\n",
    "from scipy.stats import expon\n",
    "from scipy.stats import probplot\n",
    "\n",
    "x = mainshocks_only['inter_arrival'].dropna()\n",
    "loc, scale = expon.fit(x)\n",
    "\n",
    "# Comprehensive analysis for the raw catalogue\n",
    "fig, axes = plt.subplots(2, 2, figsize=(15, 12))\n",
    "\n",
    "# Standard Histogram with Exponential Fit (Top-Left)\n",
    "axes[0, 0].hist(x, bins=30, density=True, alpha=0.7, color='skyblue', edgecolor='black')\n",
    "x_range = np.linspace(x.min(), x.max(), 100)\n",
    "axes[0, 0].plot(x_range, expon.pdf(x_range, loc, scale), 'r-', lw=2)\n",
    "axes[0, 0].set_title('Standard Histogram with Exponential Fit')\n",
    "axes[0, 0].set_xlabel('Inter-arrival Time (days)')\n",
    "axes[0, 0].set_ylabel('Probability Density')\n",
    "axes[0, 0].grid(True, alpha=0.3)\n",
    "\n",
    "# Log-scale Histogram (Top-Right)\n",
    "bins = np.logspace(np.log10(x.min()), np.log10(x.max()), 30)\n",
    "axes[0, 1].hist(x, bins=bins, density=True, alpha=0.7, color='skyblue', edgecolor='black')\n",
    "axes[0, 1].set_xscale('log')\n",
    "axes[0, 1].set_title('Log-scale Histogram')\n",
    "axes[0, 1].set_xlabel('Inter-arrival Time (days, log scale)')\n",
    "axes[0, 1].set_ylabel('Probability Density')\n",
    "axes[0, 1].grid(True, alpha=0.3)\n",
    "\n",
    "# CDF Comparison (Bottom-Left)\n",
    "x_sorted = np.sort(x)\n",
    "y_ecdf = np.arange(1, len(x_sorted)+1) / len(x_sorted)\n",
    "y_theoretical = expon.cdf(x_sorted, loc, scale)\n",
    "axes[1, 0].plot(x_sorted, y_ecdf, label='Empirical CDF', linewidth=2)\n",
    "axes[1, 0].plot(x_sorted, y_theoretical, label='Theoretical CDF', linestyle='--', linewidth=2)\n",
    "axes[1, 0].set_title('CDF Comparison')\n",
    "axes[1, 0].set_xlabel('Inter-arrival Time (days)')\n",
    "axes[1, 0].set_ylabel('Cumulative Probability')\n",
    "axes[1, 0].legend()\n",
    "axes[1, 0].grid(True, alpha=0.3)\n",
    "\n",
    "# Q-Q Plot (Bottom-Right)\n",
    "probplot(x, dist=expon, sparams=(loc, scale), plot=axes[1, 1])\n",
    "axes[1, 1].set_title('Q-Q Plot')\n",
    "\n",
    "plt.savefig('comprehensive_analysis_new_zealand_window.png', dpi=300, bbox_inches='tight')\n",
    "plt.suptitle('Comprehensive Analysis of Inter-arrival Times after Declustering using Window Method\\nNew Zealand and its Surrounding area, 1976-2020', fontsize=16)\n",
    "plt.tight_layout()\n",
    "plt.show()"
   ],
   "id": "c27764d25abd7fcf",
   "outputs": [
    {
     "data": {
      "text/plain": [
       "<Figure size 1500x1200 with 4 Axes>"
      ],
      "image/png": "[encoded data removed]"
     },
     "metadata": {},
     "output_type": "display_data"
    }
   ],
   "execution_count": 20
  },
  {
   "metadata": {
    "ExecuteTime": {
     "end_time": "2025-08-26T08:45:38.478132Z",
     "start_time": "2025-08-26T08:45:37.487799Z"
    }
   },
   "cell_type": "code",
   "source": [
    "import matplotlib.pyplot as plt\n",
    "from scipy.stats import expon\n",
    "from scipy.stats import probplot\n",
    "\n",
    "x = mainshocks_only['inter_arrival'].dropna()\n",
    "loc, scale = expon.fit(x)\n",
    "\n",
    "plt.figure(figsize=(6, 6))\n",
    "probplot(x, dist=expon, sparams=(loc, scale), plot=plt)\n",
    "plt.title(\"New Zealand Grid: Window method\")\n",
    "plt.tight_layout()\n",
    "plt.savefig(\"qq_new_zealand_window.png\", dpi=300)\n",
    "plt.show()"
   ],
   "id": "3a050d41477a0740",
   "outputs": [
    {
     "data": {
      "text/plain": [
       "<Figure size 600x600 with 1 Axes>"
      ],
      "image/png": "[encoded data removed]"
     },
     "metadata": {},
     "output_type": "display_data"
    }
   ],
   "execution_count": 18
  },
  {
   "metadata": {
    "ExecuteTime": {
     "end_time": "2025-08-26T07:31:48.462817Z",
     "start_time": "2025-08-26T07:31:48.258552Z"
    }
   },
   "cell_type": "code",
   "source": [
    "# Lon vs Mag\n",
    "import matplotlib.pyplot as plt\n",
    "\n",
    "x = mainshocks_only['Lon']\n",
    "y = mainshocks_only['Mag']\n",
    "\n",
    "plt.figure(figsize=(8, 5))\n",
    "plt.ylim(4, 8.5)\n",
    "plt.scatter(x, y, s=5, color='green')\n",
    "plt.axhline(y=4.5, color='red', linestyle='--')  # Observing the minor magnitude(<4.5) events for comparison\n",
    "plt.axhline(y=5, color='grey', linestyle='--')  # Observing the minor magnitude events(<5) for comparison\n",
    "plt.xlabel(\"Longitude\")\n",
    "plt.ylabel(\"Magnitude\")\n",
    "plt.title(\"Longitude vs. Magnitude for the Declustered Catalogue from Window Method\\n(New Zealand and its Surrounding area, 1976-2020)\")\n",
    "plt.show()"
   ],
   "id": "c91fc5ae53349f6d",
   "outputs": [
    {
     "data": {
      "text/plain": [
       "<Figure size 800x500 with 1 Axes>"
      ],
      "image/png": "[encoded data removed]"
     },
     "metadata": {},
     "output_type": "display_data"
    }
   ],
   "execution_count": 15
  },
  {
   "metadata": {
    "ExecuteTime": {
     "end_time": "2025-08-26T15:56:56.694198Z",
     "start_time": "2025-08-26T15:56:55.780061Z"
    }
   },
   "cell_type": "code",
   "source": [
    "# Lat vs Mag\n",
    "import matplotlib.pyplot as plt\n",
    "\n",
    "x = mainshocks_only['Lat']\n",
    "y = mainshocks_only['Mag']\n",
    "\n",
    "plt.figure(figsize=(8, 5))\n",
    "plt.ylim(4, 8.5)\n",
    "plt.scatter(x, y, s=5, color='green')\n",
    "plt.axhline(y=4.5, color='red', linestyle='--')  # Observing the minor magnitude(<4.5) events for comparison\n",
    "plt.axhline(y=5, color='grey', linestyle='--')  # Observing the minor magnitude events(<5) for comparison\n",
    "plt.xlabel(\"Latitude\")\n",
    "plt.ylabel(\"Magnitude\")\n",
    "plt.title(\"Latitude vs. Magnitude for the Declustered Catalogue from Window Method\\n(New Zealand and its Surrounding area, 1976-2020)\")\n",
    "plt.savefig('lat_mag_win.png', dpi=300)\n",
    "plt.show()"
   ],
   "id": "4ec9f91dfc1088d1",
   "outputs": [
    {
     "data": {
      "text/plain": [
       "<Figure size 800x500 with 1 Axes>"
      ],
      "image/png": "[encoded data removed]"
     },
     "metadata": {},
     "output_type": "display_data"
    }
   ],
   "execution_count": 19
  },
  {
   "metadata": {
    "ExecuteTime": {
     "end_time": "2025-08-26T07:31:48.720850Z",
     "start_time": "2025-08-26T07:31:48.711874Z"
    }
   },
   "cell_type": "code",
   "source": [
    "# KS test\n",
    "from scipy.stats import kstest, expon\n",
    "\n",
    "x = mainshocks_only['inter_arrival'].dropna()\n",
    "loc, scale = expon.fit(x)\n",
    "stat, p_value = kstest(x, 'expon', args=(loc, scale))\n",
    "\n",
    "# If p_value > 0.05, the inter-arrival times are consistent with an exponential distribution.\n",
    "# This implies that the earthquake occurrences follow a Poisson process.\n",
    "print(f\"K-S test p-value: {p_value:.4f}\")\n",
    "print(f\"K-S Test Statistic (D): {stat:.4f}\")\n",
    "\n",
    "METHOD_NAME = \"Window Method\"\n",
    "if p_value > 0.05:\n",
    "    # We fail to reject the null hypothesis.\n",
    "    print(f\"The declustered catalogue from the {METHOD_NAME} method is consistent with a Poisson process.\")\n",
    "else:\n",
    "    # We reject the null hypothesis.\n",
    "    print(f\"The declustered catalogue from the {METHOD_NAME} method is not consistent with a Poisson process.\")"
   ],
   "id": "f6032a26d83d750",
   "outputs": [
    {
     "name": "stdout",
     "output_type": "stream",
     "text": [
      "K-S test p-value: 0.0133\n",
      "K-S Test Statistic (D): 0.0992\n",
      "The declustered catalogue from the Window Method method is not consistent with a Poisson process.\n"
     ]
    }
   ],
   "execution_count": 17
  },
  {
   "metadata": {
    "ExecuteTime": {
     "end_time": "2025-08-26T07:31:48.830011Z",
     "start_time": "2025-08-26T07:31:48.827499Z"
    }
   },
   "cell_type": "code",
   "source": "",
   "id": "132045ef2ae04762",
   "outputs": [],
   "execution_count": null
  }
 ],
 "metadata": {
  "kernelspec": {
   "display_name": "Python 3",
   "language": "python",
   "name": "python3"
  },
  "language_info": {
   "codemirror_mode": {
    "name": "ipython",
    "version": 2
   },
   "file_extension": ".py",
   "mimetype": "text/x-python",
   "name": "python",
   "nbconvert_exporter": "python",
   "pygments_lexer": "ipython2",
   "version": "2.7.6"
  }
 },
 "nbformat": 4,
 "nbformat_minor": 5
}
