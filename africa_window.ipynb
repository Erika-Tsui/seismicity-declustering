{
 "cells": [
  {
   "metadata": {
    "ExecuteTime": {
     "end_time": "2025-08-25T17:21:24.749754Z",
     "start_time": "2025-08-25T17:21:24.717467Z"
    }
   },
   "cell_type": "code",
   "source": [
    "# ============================\n",
    "# Import Dataset\n",
    "# ============================\n",
    "import pandas as pd\n",
    "file_path = \"sample_africa. csv\"\n",
    "df = pd.read_csv(file_path)\n",
    "df['Datetime'] = pd.to_datetime(df['Datetime'])\n",
    "df = df.sort_values('Datetime').reset_index(drop=True)\n",
    "print(df)"
   ],
   "id": "8ca0755511b3ad6e",
   "outputs": [
    {
     "name": "stdout",
     "output_type": "stream",
     "text": [
      "            Date    Lat    Lon  Depth  Mag  Strike  Dip  Rake        Time  \\\n",
      "0     1976/05/11  37.56  20.35   33.0  6.4     339   14   110  16:59:48.2   \n",
      "1     1976/11/24  39.12  44.03   36.0  7.3     203   77     9  12:22:18.8   \n",
      "2     1977/01/06  -2.51  28.70   21.0  5.3     241   45   -90  18:33:43.5   \n",
      "3     1977/01/07 -31.28 -13.24   33.0  5.5      18   46   -59  14:38:22.4   \n",
      "4     1977/02/24 -11.69 -13.62   33.0  5.5      74   71    11  08:51:16.6   \n",
      "...          ...    ...    ...    ...  ...     ...  ...   ...         ...   \n",
      "2383  2020/12/13 -17.75 -12.75   10.0  4.9     210   40   -32  06:42:00.0   \n",
      "2384  2020/12/17  35.66  26.26   10.0  4.8     164   45  -116  13:36:45.4   \n",
      "2385  2020/12/23  38.41  22.07   10.0  4.8     295   44   -59  14:58:24.7   \n",
      "2386  2020/12/27  38.46  39.23    9.0  5.5     231   36   -22  06:37:32.9   \n",
      "2387  2020/12/30  -1.25 -13.66   10.0  4.7     341   89     1  21:58:16.1   \n",
      "\n",
      "                    Datetime  \n",
      "0    1976-05-11 16:59:48.200  \n",
      "1    1976-11-24 12:22:18.800  \n",
      "2    1977-01-06 18:33:43.500  \n",
      "3    1977-01-07 14:38:22.400  \n",
      "4    1977-02-24 08:51:16.600  \n",
      "...                      ...  \n",
      "2383 2020-12-13 06:42:00.000  \n",
      "2384 2020-12-17 13:36:45.400  \n",
      "2385 2020-12-23 14:58:24.700  \n",
      "2386 2020-12-27 06:37:32.900  \n",
      "2387 2020-12-30 21:58:16.100  \n",
      "\n",
      "[2388 rows x 10 columns]\n"
     ]
    }
   ],
   "execution_count": 2
  },
  {
   "metadata": {
    "ExecuteTime": {
     "end_time": "2025-08-25T17:21:24.786378Z",
     "start_time": "2025-08-25T17:21:24.782569Z"
    }
   },
   "cell_type": "code",
   "source": [
    "# ===============================================\n",
    "# Gardner and Knopoff Window Method (1974)\n",
    "# ==============================================="
   ],
   "id": "167c8c11582a49a0",
   "outputs": [],
   "execution_count": 3
  },
  {
   "metadata": {
    "ExecuteTime": {
     "end_time": "2025-08-25T17:21:31.011698Z",
     "start_time": "2025-08-25T17:21:24.799348Z"
    }
   },
   "cell_type": "code",
   "source": [
    "# --- Step 1: Run the declustering algorithm ---\n",
    "from gk_decluster import window_decluster, get_valid_clusters, get_mainshocks\n",
    "clustered_catalog = window_decluster(df)\n",
    "print(clustered_catalog)  # This catalogue contains mainshocks, dependent shocks and noise"
   ],
   "id": "e8660f525eaafa9d",
   "outputs": [
    {
     "name": "stdout",
     "output_type": "stream",
     "text": [
      "            Date    Lat    Lon  Depth  Mag  Strike  Dip  Rake        Time  \\\n",
      "0     1976/05/11  37.56  20.35   33.0  6.4     339   14   110  16:59:48.2   \n",
      "1     1976/11/24  39.12  44.03   36.0  7.3     203   77     9  12:22:18.8   \n",
      "2     1977/01/06  -2.51  28.70   21.0  5.3     241   45   -90  18:33:43.5   \n",
      "3     1977/01/07 -31.28 -13.24   33.0  5.5      18   46   -59  14:38:22.4   \n",
      "4     1977/02/24 -11.69 -13.62   33.0  5.5      74   71    11  08:51:16.6   \n",
      "...          ...    ...    ...    ...  ...     ...  ...   ...         ...   \n",
      "2383  2020/12/13 -17.75 -12.75   10.0  4.9     210   40   -32  06:42:00.0   \n",
      "2384  2020/12/17  35.66  26.26   10.0  4.8     164   45  -116  13:36:45.4   \n",
      "2385  2020/12/23  38.41  22.07   10.0  4.8     295   44   -59  14:58:24.7   \n",
      "2386  2020/12/27  38.46  39.23    9.0  5.5     231   36   -22  06:37:32.9   \n",
      "2387  2020/12/30  -1.25 -13.66   10.0  4.7     341   89     1  21:58:16.1   \n",
      "\n",
      "                    Datetime             x             y  is_dependent  \\\n",
      "0    1976-05-11 16:59:48.200  9.726858e+05  4.170473e+06         False   \n",
      "1    1976-11-24 12:22:18.800  3.028025e+06  4.754392e+06         False   \n",
      "2    1977-01-06 18:33:43.500  2.037781e+06 -2.856028e+05         False   \n",
      "3    1977-01-07 14:38:22.400 -2.237200e+06 -3.829611e+06         False   \n",
      "4    1977-02-24 08:51:16.600 -2.745706e+06 -1.467565e+06         False   \n",
      "...                      ...           ...           ...           ...   \n",
      "2383 2020-12-13 06:42:00.000 -2.539708e+06 -2.200453e+06          True   \n",
      "2384 2020-12-17 13:36:45.400  1.521273e+06  4.005186e+06          True   \n",
      "2385 2020-12-23 14:58:24.700  1.117614e+06  4.275049e+06         False   \n",
      "2386 2020-12-27 06:37:32.900  2.627010e+06  4.546289e+06          True   \n",
      "2387 2020-12-30 21:58:16.100 -2.831248e+06 -1.576051e+05         False   \n",
      "\n",
      "      ClusterID  \n",
      "0             0  \n",
      "1             1  \n",
      "2             2  \n",
      "3             3  \n",
      "4             4  \n",
      "...         ...  \n",
      "2383       1559  \n",
      "2384       1569  \n",
      "2385       1582  \n",
      "2386       1502  \n",
      "2387       1583  \n",
      "\n",
      "[2388 rows x 14 columns]\n"
     ]
    }
   ],
   "execution_count": 4
  },
  {
   "metadata": {
    "ExecuteTime": {
     "end_time": "2025-08-25T17:21:31.027928Z",
     "start_time": "2025-08-25T17:21:31.017768Z"
    }
   },
   "cell_type": "code",
   "source": [
    "# --- Step 2: Identify valid clusters (size >= 2) ---\n",
    "valid_cluster_ids = get_valid_clusters(clustered_catalog)\n",
    "print(f\"--- Identified Valid Cluster IDs (size >= 2) ---\\n{valid_cluster_ids.to_list()}\\n\")\n",
    "\n",
    "# Filter the catalog to only include events from these valid clusters\n",
    "sequences_df = clustered_catalog[clustered_catalog['ClusterID'].isin(valid_cluster_ids)]\n",
    "print(\"--- DataFrame with Only Valid Sequences ---\")\n",
    "print(sequences_df[['Datetime', 'Mag', 'ClusterID']])"
   ],
   "id": "f83eabc3e1a68d81",
   "outputs": [
    {
     "name": "stdout",
     "output_type": "stream",
     "text": [
      "--- Identified Valid Cluster IDs (size >= 2) ---\n",
      "[1, 10, 17, 23, 24, 32, 33, 43, 44, 57, 59, 60, 61, 63, 66, 68, 72, 83, 92, 94, 110, 120, 125, 140, 150, 153, 160, 175, 180, 185, 202, 206, 210, 225, 228, 234, 237, 239, 241, 244, 261, 277, 287, 288, 292, 295, 297, 302, 303, 311, 314, 325, 330, 333, 340, 341, 344, 352, 358, 359, 367, 368, 369, 373, 380, 381, 383, 384, 387, 390, 398, 402, 409, 415, 435, 437, 440, 444, 448, 463, 467, 474, 482, 483, 484, 495, 497, 502, 506, 527, 532, 536, 537, 540, 547, 548, 552, 553, 559, 569, 573, 582, 585, 589, 590, 593, 597, 602, 603, 619, 620, 623, 624, 628, 633, 638, 642, 644, 647, 658, 666, 671, 672, 675, 677, 678, 687, 689, 693, 694, 697, 708, 710, 711, 721, 722, 723, 724, 728, 731, 732, 733, 735, 748, 755, 760, 762, 765, 774, 782, 786, 787, 797, 798, 802, 803, 806, 810, 811, 819, 824, 825, 827, 828, 832, 833, 839, 841, 842, 845, 846, 851, 871, 884, 888, 889, 891, 893, 896, 897, 900, 902, 908, 912, 913, 915, 920, 921, 931, 938, 941, 947, 948, 950, 957, 969, 980, 984, 990, 991, 993, 995, 996, 1003, 1011, 1015, 1023, 1024, 1026, 1036, 1040, 1042, 1044, 1047, 1048, 1053, 1059, 1064, 1069, 1070, 1073, 1076, 1084, 1090, 1094, 1102, 1106, 1109, 1116, 1117, 1125, 1129, 1130, 1133, 1134, 1138, 1139, 1141, 1142, 1144, 1148, 1151, 1153, 1159, 1161, 1172, 1175, 1181, 1183, 1186, 1197, 1202, 1206, 1210, 1215, 1222, 1226, 1232, 1234, 1239, 1245, 1246, 1264, 1266, 1275, 1280, 1283, 1292, 1295, 1297, 1301, 1307, 1311, 1317, 1322, 1323, 1326, 1332, 1333, 1341, 1344, 1351, 1354, 1362, 1363, 1370, 1379, 1381, 1382, 1387, 1390, 1392, 1400, 1410, 1411, 1413, 1416, 1417, 1419, 1420, 1438, 1439, 1445, 1447, 1449, 1451, 1452, 1458, 1460, 1462, 1464, 1478, 1479, 1487, 1489, 1494, 1497, 1498, 1500, 1502, 1508, 1510, 1512, 1521, 1526, 1530, 1533, 1540, 1542, 1544, 1548, 1549, 1557, 1559, 1560, 1561, 1564, 1569, 1572]\n",
      "\n",
      "--- DataFrame with Only Valid Sequences ---\n",
      "                    Datetime  Mag  ClusterID\n",
      "1    1976-11-24 12:22:18.800  7.3          1\n",
      "9    1977-05-26 01:35:13.800  5.4          1\n",
      "11   1977-06-05 04:45:07.600  5.8         10\n",
      "12   1977-06-05 08:25:30.800  5.1         10\n",
      "19   1977-08-18 09:27:40.000  5.3         17\n",
      "...                      ...  ...        ...\n",
      "2376 2020-11-27 21:00:55.500  5.1       1549\n",
      "2381 2020-12-04 02:53:59.600  4.5       1540\n",
      "2383 2020-12-13 06:42:00.000  4.9       1559\n",
      "2384 2020-12-17 13:36:45.400  4.8       1569\n",
      "2386 2020-12-27 06:37:32.900  5.5       1502\n",
      "\n",
      "[1143 rows x 3 columns]\n"
     ]
    }
   ],
   "execution_count": 5
  },
  {
   "metadata": {
    "ExecuteTime": {
     "end_time": "2025-08-25T17:21:31.052729Z",
     "start_time": "2025-08-25T17:21:31.041797Z"
    }
   },
   "cell_type": "code",
   "source": [
    "# --- Step 3: Identify the mainshock in each sequence ---\n",
    "final_catalog = get_mainshocks(sequences_df)\n",
    "print(\"--- Final Catalog with Mainshocks Identified ---\")\n",
    "print(final_catalog[['Datetime', 'Mag', 'ClusterID', 'Type']])"
   ],
   "id": "55f3ef1fb34403f7",
   "outputs": [
    {
     "name": "stdout",
     "output_type": "stream",
     "text": [
      "--- Final Catalog with Mainshocks Identified ---\n",
      "                    Datetime  Mag  ClusterID       Type\n",
      "1    1976-11-24 12:22:18.800  7.3          1  Mainshock\n",
      "9    1977-05-26 01:35:13.800  5.4          1  Dependent\n",
      "11   1977-06-05 04:45:07.600  5.8         10  Mainshock\n",
      "12   1977-06-05 08:25:30.800  5.1         10  Dependent\n",
      "19   1977-08-18 09:27:40.000  5.3         17  Dependent\n",
      "...                      ...  ...        ...        ...\n",
      "2376 2020-11-27 21:00:55.500  5.1       1549  Mainshock\n",
      "2381 2020-12-04 02:53:59.600  4.5       1540  Dependent\n",
      "2383 2020-12-13 06:42:00.000  4.9       1559  Dependent\n",
      "2384 2020-12-17 13:36:45.400  4.8       1569  Dependent\n",
      "2386 2020-12-27 06:37:32.900  5.5       1502  Dependent\n",
      "\n",
      "[1143 rows x 4 columns]\n"
     ]
    }
   ],
   "execution_count": 6
  },
  {
   "metadata": {
    "ExecuteTime": {
     "end_time": "2025-08-25T17:21:31.074737Z",
     "start_time": "2025-08-25T17:21:31.066348Z"
    }
   },
   "cell_type": "code",
   "source": [
    "# --- Step 4: Display only the mainshocks ---\n",
    "mainshocks_only = final_catalog[final_catalog['Type'] == 'Mainshock'].copy()\n",
    "print(\"--- Mainshocks of Valid Sequences ---\")\n",
    "print(mainshocks_only[['Datetime', 'Mag', 'ClusterID']])"
   ],
   "id": "41f0344014a71806",
   "outputs": [
    {
     "name": "stdout",
     "output_type": "stream",
     "text": [
      "--- Mainshocks of Valid Sequences ---\n",
      "                    Datetime  Mag  ClusterID\n",
      "1    1976-11-24 12:22:18.800  7.3          1\n",
      "11   1977-06-05 04:45:07.600  5.8         10\n",
      "21   1977-09-11 23:19:23.700  6.0         17\n",
      "27   1977-12-28 02:45:36.700  6.6         24\n",
      "30   1978-02-11 12:54:21.600  5.3         23\n",
      "...                      ...  ...        ...\n",
      "2350 2020-08-22 08:38:01.700  6.0       1561\n",
      "2354 2020-08-31 21:18:02.700  5.9       1564\n",
      "2365 2020-10-12 04:11:27.600  5.2       1569\n",
      "2369 2020-10-30 11:51:27.400  7.0       1572\n",
      "2376 2020-11-27 21:00:55.500  5.1       1549\n",
      "\n",
      "[339 rows x 3 columns]\n"
     ]
    }
   ],
   "execution_count": 7
  },
  {
   "metadata": {
    "ExecuteTime": {
     "end_time": "2025-08-25T17:21:31.086281Z",
     "start_time": "2025-08-25T17:21:31.083144Z"
    }
   },
   "cell_type": "code",
   "source": [
    "# ========================================\n",
    "# Estimation and further data exploration\n",
    "# ========================================"
   ],
   "id": "fc360bb0e74cb68",
   "outputs": [],
   "execution_count": 8
  },
  {
   "metadata": {
    "ExecuteTime": {
     "end_time": "2025-08-25T17:21:33.337561Z",
     "start_time": "2025-08-25T17:21:31.098445Z"
    }
   },
   "cell_type": "code",
   "source": [
    "# Visualise the clustered sequence on map\n",
    "import plotly.express as px\n",
    "\n",
    "sequences_df['Cluster'] = sequences_df['ClusterID'].astype('category')\n",
    "\n",
    "fig = px.scatter_map(\n",
    "    sequences_df,\n",
    "    lat='Lat',\n",
    "    lon='Lon',\n",
    "    hover_name='ClusterID',\n",
    "    color='Cluster',\n",
    "    color_discrete_sequence=px.colors.qualitative.Alphabet,\n",
    "    hover_data={'Date', 'Time', 'Lat', 'Lon'},\n",
    "    zoom=2,\n",
    "    height=800,\n",
    "    map_style='carto-positron',\n",
    "    title='Earthquake Clustering using Gardner and Knopoff Window Method (1974)<br><sup>Time of occurrence: 1976-2020 | Africa and its surrounding area</sup>'\n",
    ")\n",
    "\n",
    "fig.show()"
   ],
   "id": "1f94e97f0f9f9911",
   "outputs": [
    {
     "name": "stderr",
     "output_type": "stream",
     "text": [
      "/var/folders/fn/9d0nx8h147x36gzgyptphd8w0000gn/T/ipykernel_37421/532482459.py:4: SettingWithCopyWarning: \n",
      "A value is trying to be set on a copy of a slice from a DataFrame.\n",
      "Try using .loc[row_indexer,col_indexer] = value instead\n",
      "\n",
      "See the caveats in the documentation: https://pandas.pydata.org/pandas-docs/stable/user_guide/indexing.html#returning-a-view-versus-a-copy\n",
      "  sequences_df['Cluster'] = sequences_df['ClusterID'].astype('category')\n"
     ]
    },
    {
     "data": {
      "application/vnd.plotly.v1+json": {
       "data": [
        {
         "customdata": [
          [
           39.12,
           "12:22:18.8",
           "1976/11/24",
           44.03
          ],
          [
           38.93,
           "01:35:13.8",
           "1977/05/26",
           44.38
          ]
         ],
         "hovertemplate": "<b>%{hovertext}</b><br><br>Cluster=1<br>Lat=%{customdata[0]}<br>Lon=%{customdata[3]}<br>Time=%{customdata[1]}<br>Date=%{customdata[2]}<extra></extra>",
         "hovertext": {
          "dtype": "f8",
          "bdata": "AAAAAAAA8D8AAAAAAADwPw=="
         },
         "lat": {
          "dtype": "f8",
          "bdata": "j8L1KFyPQ0DXo3A9CndDQA=="
         },
         "legendgroup": "1",
         "lon": {
          "dtype": "f8",
          "bdata": "pHA9CtcDRkBxPQrXozBGQA=="
         },
         "marker": {
          "color": "#AA0DFE"
         },
         "mode": "markers",
         "name": "1",
         "showlegend": true,
         "subplot": "map",
         "type": "scattermap"
        },
        {
         "customdata": [
          [
           32.64,
           "04:45:07.6",
           "1977/06/05",
           48.09
          ],
          [
           32.56,
           "08:25:30.8",
           "1977/06/05",
           48.16
          ]
         ],
         "hovertemplate": "<b>%{hovertext}</b><br><br>Cluster=10<br>Lat=%{customdata[0]}<br>Lon=%{customdata[3]}<br>Time=%{customdata[1]}<br>Date=%{customdata[2]}<extra></extra>",
         "hovertext": {
          "dtype": "f8",
          "bdata": "AAAAAAAAJEAAAAAAAAAkQA=="
         },
         "lat": {
          "dtype": "f8",
          "bdata": "UrgehetRQEBI4XoUrkdAQA=="
         },
         "legendgroup": "10",
         "lon": {
          "dtype": "f8",
          "bdata": "7FG4HoULSEAUrkfhehRIQA=="
         },
         "marker": {
          "color": "#3283FE"
         },
         "mode": "markers",
         "name": "10",
         "showlegend": true,
         "subplot": "map",
         "type": "scattermap"
        },
        {
         "customdata": [
          [
           35.23,
           "09:27:40.0",
           "1977/08/18",
           23.4
          ],
          [
           35.05,
           "23:19:23.7",
           "1977/09/11",
           23.03
          ]
         ],
         "hovertemplate": "<b>%{hovertext}</b><br><br>Cluster=17<br>Lat=%{customdata[0]}<br>Lon=%{customdata[3]}<br>Time=%{customdata[1]}<br>Date=%{customdata[2]}<extra></extra>",
         "hovertext": {
          "dtype": "f8",
          "bdata": "AAAAAAAAMUAAAAAAAAAxQA=="
         },
         "lat": {
          "dtype": "f8",
          "bdata": "PQrXo3CdQUBmZmZmZoZBQA=="
         },
         "legendgroup": "17",
         "lon": {
          "dtype": "f8",
          "bdata": "ZmZmZmZmN0BI4XoUrgc3QA=="
         },
         "marker": {
          "color": "#85660D"
         },
         "mode": "markers",
         "name": "17",
         "showlegend": true,
         "subplot": "map",
         "type": "scattermap"
        },
        {
         "customdata": [
          [
           13.13,
           "23:57:54.9",
           "1977/12/17",
           50.94
          ],
          [
           13.16,
           "12:54:21.6",
           "1978/02/11",
           50.95
          ]
         ],
         "hovertemplate": "<b>%{hovertext}</b><br><br>Cluster=23<br>Lat=%{customdata[0]}<br>Lon=%{customdata[3]}<br>Time=%{customdata[1]}<br>Date=%{customdata[2]}<extra></extra>",
         "hovertext": {
          "dtype": "f8",
          "bdata": "AAAAAAAAN0AAAAAAAAA3QA=="
         },
         "lat": {
          "dtype": "f8",
          "bdata": "w/UoXI9CKkBSuB6F61EqQA=="
         },
         "legendgroup": "23",
         "lon": {
          "dtype": "f8",
          "bdata": "uB6F61F4SUCamZmZmXlJQA=="
         },
         "marker": {
          "color": "#782AB6"
         },
         "mode": "markers",
         "name": "23",
         "showlegend": true,
         "subplot": "map",
         "type": "scattermap"
        },
        {
         "customdata": [
          [
           16.66,
           "02:45:36.7",
           "1977/12/28",
           40.28
          ],
          [
           16.52,
           "15:00:27.4",
           "1978/01/17",
           40.26
          ],
          [
           16.52,
           "04:10:54.0",
           "1980/01/14",
           40.27
          ],
          [
           16.45,
           "12:28:22.6",
           "1980/01/14",
           40.23
          ]
         ],
         "hovertemplate": "<b>%{hovertext}</b><br><br>Cluster=24<br>Lat=%{customdata[0]}<br>Lon=%{customdata[3]}<br>Time=%{customdata[1]}<br>Date=%{customdata[2]}<extra></extra>",
         "hovertext": {
          "dtype": "f8",
          "bdata": "AAAAAAAAOEAAAAAAAAA4QAAAAAAAADhAAAAAAAAAOEA="
         },
         "lat": {
          "dtype": "f8",
          "bdata": "KVyPwvWoMECF61G4HoUwQIXrUbgehTBAMzMzMzNzMEA="
         },
         "legendgroup": "24",
         "lon": {
          "dtype": "f8",
          "bdata": "pHA9CtcjREDhehSuRyFEQMP1KFyPIkRAPQrXo3AdREA="
         },
         "marker": {
          "color": "#565656"
         },
         "mode": "markers",
         "name": "24",
         "showlegend": true,
         "subplot": "map",
         "type": "scattermap"
        },
        {
         "customdata": [
          [
           37.67,
           "15:22:19.0",
           "1978/11/04",
           48.9
          ],
          [
           38.05,
           "18:35:20.0",
           "1980/05/04",
           48.99
          ]
         ],
         "hovertemplate": "<b>%{hovertext}</b><br><br>Cluster=32<br>Lat=%{customdata[0]}<br>Lon=%{customdata[3]}<br>Time=%{customdata[1]}<br>Date=%{customdata[2]}<extra></extra>",
         "hovertext": {
          "dtype": "f8",
          "bdata": "AAAAAAAAQEAAAAAAAABAQA=="
         },
         "lat": {
          "dtype": "f8",
          "bdata": "9ihcj8LVQkBmZmZmZgZDQA=="
         },
         "legendgroup": "32",
         "lon": {
          "dtype": "f8",
          "bdata": "MzMzMzNzSEAfhetRuH5IQA=="
         },
         "marker": {
          "color": "#1C8356"
         },
         "mode": "markers",
         "name": "32",
         "showlegend": true,
         "subplot": "map",
         "type": "scattermap"
        },
        {
         "customdata": [
          [
           11.54,
           "17:05:55.2",
           "1978/11/07",
           42.59
          ],
          [
           11.56,
           "05:08:01.7",
           "1978/11/08",
           42.57
          ]
         ],
         "hovertemplate": "<b>%{hovertext}</b><br><br>Cluster=33<br>Lat=%{customdata[0]}<br>Lon=%{customdata[3]}<br>Time=%{customdata[1]}<br>Date=%{customdata[2]}<extra></extra>",
         "hovertext": {
          "dtype": "f8",
          "bdata": "AAAAAACAQEAAAAAAAIBAQA=="
         },
         "lat": {
          "dtype": "f8",
          "bdata": "FK5H4XoUJ0AfhetRuB4nQA=="
         },
         "legendgroup": "33",
         "lon": {
          "dtype": "f8",
          "bdata": "7FG4HoVLRUApXI/C9UhFQA=="
         },
         "marker": {
          "color": "#16FF32"
         },
         "mode": "markers",
         "name": "33",
         "showlegend": true,
         "subplot": "map",
         "type": "scattermap"
        },
        {
         "customdata": [
          [
           36.41,
           "09:27:32.4",
           "1979/05/28",
           31.75
          ],
          [
           36.18,
           "06:21:34.3",
           "1979/12/31",
           31.51
          ]
         ],
         "hovertemplate": "<b>%{hovertext}</b><br><br>Cluster=43<br>Lat=%{customdata[0]}<br>Lon=%{customdata[3]}<br>Time=%{customdata[1]}<br>Date=%{customdata[2]}<extra></extra>",
         "hovertext": {
          "dtype": "f8",
          "bdata": "AAAAAACARUAAAAAAAIBFQA=="
         },
         "lat": {
          "dtype": "f8",
          "bdata": "FK5H4Xo0QkDXo3A9ChdCQA=="
         },
         "legendgroup": "43",
         "lon": {
          "dtype": "f8",
          "bdata": "AAAAAADAP0DD9Shcj4I/QA=="
         },
         "marker": {
          "color": "#F7E1A0"
         },
         "mode": "markers",
         "name": "43",
         "showlegend": true,
         "subplot": "map",
         "type": "scattermap"
        },
        {
         "customdata": [
          [
           38.81,
           "11:44:45.9",
           "1979/06/14",
           26.53
          ],
          [
           38.75,
           "18:42:00.3",
           "1979/06/16",
           26.63
          ]
         ],
         "hovertemplate": "<b>%{hovertext}</b><br><br>Cluster=44<br>Lat=%{customdata[0]}<br>Lon=%{customdata[3]}<br>Time=%{customdata[1]}<br>Date=%{customdata[2]}<extra></extra>",
         "hovertext": {
          "dtype": "f8",
          "bdata": "AAAAAAAARkAAAAAAAABGQA=="
         },
         "lat": {
          "dtype": "f8",
          "bdata": "SOF6FK5nQ0AAAAAAAGBDQA=="
         },
         "legendgroup": "44",
         "lon": {
          "dtype": "f8",
          "bdata": "SOF6FK6HOkDhehSuR6E6QA=="
         },
         "marker": {
          "color": "#E2E2E2"
         },
         "mode": "markers",
         "name": "44",
         "showlegend": true,
         "subplot": "map",
         "type": "scattermap"
        },
        {
         "customdata": [
          [
           10.01,
           "03:30:55.6",
           "1980/05/03",
           43.13
          ],
          [
           10.0,
           "08:02:50.4",
           "1980/05/30",
           43.1
          ]
         ],
         "hovertemplate": "<b>%{hovertext}</b><br><br>Cluster=57<br>Lat=%{customdata[0]}<br>Lon=%{customdata[3]}<br>Time=%{customdata[1]}<br>Date=%{customdata[2]}<extra></extra>",
         "hovertext": {
          "dtype": "f8",
          "bdata": "AAAAAACATEAAAAAAAIBMQA=="
         },
         "lat": {
          "dtype": "f8",
          "bdata": "hetRuB4FJEAAAAAAAAAkQA=="
         },
         "legendgroup": "57",
         "lon": {
          "dtype": "f8",
          "bdata": "cT0K16OQRUDNzMzMzIxFQA=="
         },
         "marker": {
          "color": "#1CBE4F"
         },
         "mode": "markers",
         "name": "57",
         "showlegend": true,
         "subplot": "map",
         "type": "scattermap"
        },
        {
         "customdata": [
          [
           39.27,
           "02:11:52.8",
           "1980/07/09",
           23.04
          ],
          [
           39.31,
           "19:39:00.6",
           "1980/07/10",
           22.92
          ],
          [
           39.27,
           "09:15:58.3",
           "1980/08/11",
           22.66
          ]
         ],
         "hovertemplate": "<b>%{hovertext}</b><br><br>Cluster=59<br>Lat=%{customdata[0]}<br>Lon=%{customdata[3]}<br>Time=%{customdata[1]}<br>Date=%{customdata[2]}<extra></extra>",
         "hovertext": {
          "dtype": "f8",
          "bdata": "AAAAAACATUAAAAAAAIBNQAAAAAAAgE1A"
         },
         "lat": {
          "dtype": "f8",
          "bdata": "w/UoXI+iQ0BI4XoUrqdDQMP1KFyPokNA"
         },
         "legendgroup": "59",
         "lon": {
          "dtype": "f8",
          "bdata": "CtejcD0KN0DsUbgehes2QClcj8L1qDZA"
         },
         "marker": {
          "color": "#C4451C"
         },
         "mode": "markers",
         "name": "59",
         "showlegend": true,
         "subplot": "map",
         "type": "scattermap"
        },
        {
         "customdata": [
          [
           37.19,
           "05:17:10.1",
           "1980/07/22",
           50.2
          ],
          [
           37.08,
           "04:26:15.0",
           "1980/12/03",
           50.38
          ]
         ],
         "hovertemplate": "<b>%{hovertext}</b><br><br>Cluster=60<br>Lat=%{customdata[0]}<br>Lon=%{customdata[3]}<br>Time=%{customdata[1]}<br>Date=%{customdata[2]}<extra></extra>",
         "hovertext": {
          "dtype": "f8",
          "bdata": "AAAAAAAATkAAAAAAAABOQA=="
         },
         "lat": {
          "dtype": "f8",
          "bdata": "uB6F61GYQkAK16NwPYpCQA=="
         },
         "legendgroup": "60",
         "lon": {
          "dtype": "f8",
          "bdata": "mpmZmZkZSUBxPQrXozBJQA=="
         },
         "marker": {
          "color": "#DEA0FD"
         },
         "mode": "markers",
         "name": "60",
         "showlegend": true,
         "subplot": "map",
         "type": "scattermap"
        },
        {
         "customdata": [
          [
           36.2,
           "12:25:23.5",
           "1980/10/10",
           1.35
          ],
          [
           36.22,
           "15:39:09.8",
           "1980/10/10",
           1.61
          ],
          [
           36.26,
           "06:37:39.2",
           "1980/10/13",
           1.57
          ],
          [
           36.11,
           "07:54:18.2",
           "1980/11/08",
           1.36
          ],
          [
           35.95,
           "13:32:05.9",
           "1980/12/05",
           1.37
          ],
          [
           36.36,
           "04:25:14.8",
           "1981/01/15",
           1.64
          ],
          [
           36.44,
           "13:19:59.2",
           "1981/02/01",
           1.66
          ],
          [
           35.9,
           "13:15:14.9",
           "1981/02/14",
           1.28
          ],
          [
           35.63,
           "20:07:47.3",
           "1982/11/15",
           1.32
          ]
         ],
         "hovertemplate": "<b>%{hovertext}</b><br><br>Cluster=61<br>Lat=%{customdata[0]}<br>Lon=%{customdata[3]}<br>Time=%{customdata[1]}<br>Date=%{customdata[2]}<extra></extra>",
         "hovertext": {
          "dtype": "f8",
          "bdata": "AAAAAACATkAAAAAAAIBOQAAAAAAAgE5AAAAAAACATkAAAAAAAIBOQAAAAAAAgE5AAAAAAACATkAAAAAAAIBOQAAAAAAAgE5A"
         },
         "lat": {
          "dtype": "f8",
          "bdata": "mpmZmZkZQkBcj8L1KBxCQOF6FK5HIUJArkfhehQOQkCamZmZmflBQK5H4XoULkJAuB6F61E4QkAzMzMzM/NBQHE9Ctej0EFA"
         },
         "legendgroup": "61",
         "lon": {
          "dtype": "f8",
          "bdata": "mpmZmZmZ9T/D9Shcj8L5Px+F61G4Hvk/w/UoXI/C9T/sUbgehev1Pz0K16NwPfo/j8L1KFyP+j97FK5H4Xr0Px+F61G4HvU/"
         },
         "marker": {
          "color": "#FE00FA"
         },
         "mode": "markers",
         "name": "61",
         "showlegend": true,
         "subplot": "map",
         "type": "scattermap"
        },
        {
         "customdata": [
          [
           32.76,
           "17:24:09.9",
           "1980/10/19",
           48.57
          ],
          [
           32.73,
           "04:57:57.9",
           "1981/01/02",
           48.46
          ]
         ],
         "hovertemplate": "<b>%{hovertext}</b><br><br>Cluster=63<br>Lat=%{customdata[0]}<br>Lon=%{customdata[3]}<br>Time=%{customdata[1]}<br>Date=%{customdata[2]}<extra></extra>",
         "hovertext": {
          "dtype": "f8",
          "bdata": "AAAAAACAT0AAAAAAAIBPQA=="
         },
         "lat": {
          "dtype": "f8",
          "bdata": "4XoUrkdhQEA9CtejcF1AQA=="
         },
         "legendgroup": "63",
         "lon": {
          "dtype": "f8",
          "bdata": "KVyPwvVISEB7FK5H4TpIQA=="
         },
         "marker": {
          "color": "#325A9B"
         },
         "mode": "markers",
         "name": "63",
         "showlegend": true,
         "subplot": "map",
         "type": "scattermap"
        },
        {
         "customdata": [
          [
           34.59,
           "01:16:56.0",
           "1980/12/19",
           50.65
          ],
          [
           34.5,
           "12:51:21.0",
           "1980/12/22",
           50.59
          ]
         ],
         "hovertemplate": "<b>%{hovertext}</b><br><br>Cluster=66<br>Lat=%{customdata[0]}<br>Lon=%{customdata[3]}<br>Time=%{customdata[1]}<br>Date=%{customdata[2]}<extra></extra>",
         "hovertext": {
          "dtype": "f8",
          "bdata": "AAAAAACAUEAAAAAAAIBQQA=="
         },
         "lat": {
          "dtype": "f8",
          "bdata": "7FG4HoVLQUAAAAAAAEBBQA=="
         },
         "legendgroup": "66",
         "lon": {
          "dtype": "f8",
          "bdata": "MzMzMzNTSUDsUbgehUtJQA=="
         },
         "marker": {
          "color": "#FEAF16"
         },
         "mode": "markers",
         "name": "66",
         "showlegend": true,
         "subplot": "map",
         "type": "scattermap"
        },
        {
         "customdata": [
          [
           38.22,
           "20:53:38.4",
           "1981/02/24",
           22.93
          ],
          [
           38.12,
           "02:35:53.3",
           "1981/02/25",
           23.14
          ],
          [
           38.21,
           "21:58:05.9",
           "1981/03/04",
           23.29
          ],
          [
           38.21,
           "06:59:06.8",
           "1981/03/05",
           23.13
          ],
          [
           38.19,
           "11:34:43.9",
           "1981/03/07",
           23.32
          ]
         ],
         "hovertemplate": "<b>%{hovertext}</b><br><br>Cluster=68<br>Lat=%{customdata[0]}<br>Lon=%{customdata[3]}<br>Time=%{customdata[1]}<br>Date=%{customdata[2]}<extra></extra>",
         "hovertext": {
          "dtype": "f8",
          "bdata": "AAAAAAAAUUAAAAAAAABRQAAAAAAAAFFAAAAAAAAAUUAAAAAAAABRQA=="
         },
         "lat": {
          "dtype": "f8",
          "bdata": "XI/C9SgcQ0CPwvUoXA9DQHsUrkfhGkNAexSuR+EaQ0C4HoXrURhDQA=="
         },
         "legendgroup": "68",
         "lon": {
          "dtype": "f8",
          "bdata": "rkfhehTuNkCkcD0K1yM3QArXo3A9SjdA4XoUrkchN0BSuB6F61E3QA=="
         },
         "marker": {
          "color": "#F8A19F"
         },
         "mode": "markers",
         "name": "68",
         "showlegend": true,
         "subplot": "map",
         "type": "scattermap"
        },
        {
         "customdata": [
          [
           37.87,
           "18:41:27.7",
           "1981/06/24",
           20.12
          ],
          [
           37.89,
           "17:20:23.4",
           "1981/06/28",
           20.07
          ]
         ],
         "hovertemplate": "<b>%{hovertext}</b><br><br>Cluster=72<br>Lat=%{customdata[0]}<br>Lon=%{customdata[3]}<br>Time=%{customdata[1]}<br>Date=%{customdata[2]}<extra></extra>",
         "hovertext": {
          "dtype": "f8",
          "bdata": "AAAAAAAAUkAAAAAAAABSQA=="
         },
         "lat": {
          "dtype": "f8",
          "bdata": "j8L1KFzvQkBSuB6F6/FCQA=="
         },
         "legendgroup": "72",
         "lon": {
          "dtype": "f8",
          "bdata": "H4XrUbgeNEBSuB6F6xE0QA=="
         },
         "marker": {
          "color": "#90AD1C"
         },
         "mode": "markers",
         "name": "72",
         "showlegend": true,
         "subplot": "map",
         "type": "scattermap"
        },
        {
         "customdata": [
          [
           39.39,
           "14:10:52.9",
           "1981/12/19",
           25.09
          ],
          [
           39.0,
           "17:39:16.7",
           "1981/12/27",
           24.8
          ],
          [
           38.8,
           "08:00:45.0",
           "1981/12/29",
           24.77
          ]
         ],
         "hovertemplate": "<b>%{hovertext}</b><br><br>Cluster=83<br>Lat=%{customdata[0]}<br>Lon=%{customdata[3]}<br>Time=%{customdata[1]}<br>Date=%{customdata[2]}<extra></extra>",
         "hovertext": {
          "dtype": "f8",
          "bdata": "AAAAAADAVEAAAAAAAMBUQAAAAAAAwFRA"
         },
         "lat": {
          "dtype": "f8",
          "bdata": "UrgeheuxQ0AAAAAAAIBDQGZmZmZmZkNA"
         },
         "legendgroup": "83",
         "lon": {
          "dtype": "f8",
          "bdata": "16NwPQoXOUDNzMzMzMw4QIXrUbgexThA"
         },
         "marker": {
          "color": "#F6222E"
         },
         "mode": "markers",
         "name": "83",
         "showlegend": true,
         "subplot": "map",
         "type": "scattermap"
        },
        {
         "customdata": [
          [
           14.75,
           "09:12:49.4",
           "1982/12/13",
           44.29
          ],
          [
           14.65,
           "23:53:15.4",
           "1982/12/29",
           44.46
          ]
         ],
         "hovertemplate": "<b>%{hovertext}</b><br><br>Cluster=92<br>Lat=%{customdata[0]}<br>Lon=%{customdata[3]}<br>Time=%{customdata[1]}<br>Date=%{customdata[2]}<extra></extra>",
         "hovertext": {
          "dtype": "f8",
          "bdata": "AAAAAAAAV0AAAAAAAABXQA=="
         },
         "lat": {
          "dtype": "f8",
          "bdata": "AAAAAACALUDNzMzMzEwtQA=="
         },
         "legendgroup": "92",
         "lon": {
          "dtype": "f8",
          "bdata": "hetRuB4lRkB7FK5H4TpGQA=="
         },
         "marker": {
          "color": "#1CFFCE"
         },
         "mode": "markers",
         "name": "92",
         "showlegend": true,
         "subplot": "map",
         "type": "scattermap"
        },
        {
         "customdata": [
          [
           38.09,
           "12:41:29.3",
           "1983/01/17",
           20.19
          ],
          [
           38.17,
           "00:02:13.6",
           "1983/01/19",
           20.23
          ],
          [
           38.11,
           "15:27:00.0",
           "1983/01/31",
           20.3
          ],
          [
           37.89,
           "00:13:07.6",
           "1983/02/21",
           20.1
          ],
          [
           38.33,
           "23:51:06.3",
           "1983/03/23",
           20.22
          ],
          [
           38.18,
           "04:17:31.6",
           "1983/03/24",
           20.32
          ],
          [
           38.49,
           "23:13:46.5",
           "1983/05/14",
           20.36
          ]
         ],
         "hovertemplate": "<b>%{hovertext}</b><br><br>Cluster=94<br>Lat=%{customdata[0]}<br>Lon=%{customdata[3]}<br>Time=%{customdata[1]}<br>Date=%{customdata[2]}<extra></extra>",
         "hovertext": {
          "dtype": "f8",
          "bdata": "AAAAAACAV0AAAAAAAIBXQAAAAAAAgFdAAAAAAACAV0AAAAAAAIBXQAAAAAAAgFdAAAAAAACAV0A="
         },
         "lat": {
          "dtype": "f8",
          "bdata": "7FG4HoULQ0D2KFyPwhVDQK5H4XoUDkNAUrgehevxQkAK16NwPSpDQNejcD0KF0NAH4XrUbg+Q0A="
         },
         "legendgroup": "94",
         "lon": {
          "dtype": "f8",
          "bdata": "cT0K16MwNEB7FK5H4To0QM3MzMzMTDRAmpmZmZkZNEC4HoXrUTg0QFK4HoXrUTRAXI/C9ShcNEA="
         },
         "marker": {
          "color": "#2ED9FF"
         },
         "mode": "markers",
         "name": "94",
         "showlegend": true,
         "subplot": "map",
         "type": "scattermap"
        },
        {
         "customdata": [
          [
           11.81,
           "18:58:13.7",
           "1983/09/30",
           43.26
          ],
          [
           11.8,
           "04:45:54.9",
           "1983/10/19",
           43.44
          ]
         ],
         "hovertemplate": "<b>%{hovertext}</b><br><br>Cluster=110<br>Lat=%{customdata[0]}<br>Lon=%{customdata[3]}<br>Time=%{customdata[1]}<br>Date=%{customdata[2]}<extra></extra>",
         "hovertext": {
          "dtype": "f8",
          "bdata": "AAAAAACAW0AAAAAAAIBbQA=="
         },
         "lat": {
          "dtype": "f8",
          "bdata": "H4XrUbieJ0CamZmZmZknQA=="
         },
         "legendgroup": "110",
         "lon": {
          "dtype": "f8",
          "bdata": "4XoUrkehRUC4HoXrUbhFQA=="
         },
         "marker": {
          "color": "#B10DA1"
         },
         "mode": "markers",
         "name": "110",
         "showlegend": true,
         "subplot": "map",
         "type": "scattermap"
        },
        {
         "customdata": [
          [
           38.82,
           "09:12:01.7",
           "1984/05/06",
           25.66
          ],
          [
           38.86,
           "07:48:02.6",
           "1984/06/17",
           25.72
          ]
         ],
         "hovertemplate": "<b>%{hovertext}</b><br><br>Cluster=120<br>Lat=%{customdata[0]}<br>Lon=%{customdata[3]}<br>Time=%{customdata[1]}<br>Date=%{customdata[2]}<extra></extra>",
         "hovertext": {
          "dtype": "f8",
          "bdata": "AAAAAAAAXkAAAAAAAABeQA=="
         },
         "lat": {
          "dtype": "f8",
          "bdata": "KVyPwvVoQ0CuR+F6FG5DQA=="
         },
         "legendgroup": "120",
         "lon": {
          "dtype": "f8",
          "bdata": "KVyPwvWoOUC4HoXrUbg5QA=="
         },
         "marker": {
          "color": "#C075A6"
         },
         "mode": "markers",
         "name": "120",
         "showlegend": true,
         "subplot": "map",
         "type": "scattermap"
        },
        {
         "customdata": [
          [
           -7.02,
           "05:22:15.7",
           "1984/07/19",
           -12.81
          ],
          [
           -7.06,
           "03:51:47.0",
           "1984/10/21",
           -12.59
          ]
         ],
         "hovertemplate": "<b>%{hovertext}</b><br><br>Cluster=125<br>Lat=%{customdata[0]}<br>Lon=%{customdata[3]}<br>Time=%{customdata[1]}<br>Date=%{customdata[2]}<extra></extra>",
         "hovertext": {
          "dtype": "f8",
          "bdata": "AAAAAABAX0AAAAAAAEBfQA=="
         },
         "lat": {
          "dtype": "f8",
          "bdata": "FK5H4XoUHMA9CtejcD0cwA=="
         },
         "legendgroup": "125",
         "lon": {
          "dtype": "f8",
          "bdata": "H4XrUbieKcCuR+F6FC4pwA=="
         },
         "marker": {
          "color": "#FC1CBF"
         },
         "mode": "markers",
         "name": "125",
         "showlegend": true,
         "subplot": "map",
         "type": "scattermap"
        },
        {
         "customdata": [
          [
           -10.59,
           "13:24:57.8",
           "1985/05/14",
           41.37
          ],
          [
           -10.49,
           "18:11:09.1",
           "1985/05/14",
           41.43
          ],
          [
           -10.63,
           "08:32:17.5",
           "1985/05/30",
           41.38
          ],
          [
           -10.62,
           "07:32:19.9",
           "1985/06/28",
           41.21
          ]
         ],
         "hovertemplate": "<b>%{hovertext}</b><br><br>Cluster=140<br>Lat=%{customdata[0]}<br>Lon=%{customdata[3]}<br>Time=%{customdata[1]}<br>Date=%{customdata[2]}<extra></extra>",
         "hovertext": {
          "dtype": "f8",
          "bdata": "AAAAAACAYUAAAAAAAIBhQAAAAAAAgGFAAAAAAACAYUA="
         },
         "lat": {
          "dtype": "f8",
          "bdata": "rkfhehQuJcB7FK5H4fokwMP1KFyPQiXAPQrXo3A9JcA="
         },
         "legendgroup": "140",
         "lon": {
          "dtype": "f8",
          "bdata": "j8L1KFyvREDXo3A9CrdEQHE9CtejsERAexSuR+GaREA="
         },
         "marker": {
          "color": "#B00068"
         },
         "mode": "markers",
         "name": "140",
         "showlegend": true,
         "subplot": "map",
         "type": "scattermap"
        },
        {
         "customdata": [
          [
           34.51,
           "16:39:48.6",
           "1985/09/27",
           26.59
          ],
          [
           34.51,
           "19:52:19.5",
           "1986/05/22",
           26.59
          ]
         ],
         "hovertemplate": "<b>%{hovertext}</b><br><br>Cluster=150<br>Lat=%{customdata[0]}<br>Lon=%{customdata[3]}<br>Time=%{customdata[1]}<br>Date=%{customdata[2]}<extra></extra>",
         "hovertext": {
          "dtype": "f8",
          "bdata": "AAAAAADAYkAAAAAAAMBiQA=="
         },
         "lat": {
          "dtype": "f8",
          "bdata": "4XoUrkdBQUDhehSuR0FBQA=="
         },
         "legendgroup": "150",
         "lon": {
          "dtype": "f8",
          "bdata": "16NwPQqXOkDXo3A9Cpc6QA=="
         },
         "marker": {
          "color": "#FBE426"
         },
         "mode": "markers",
         "name": "150",
         "showlegend": true,
         "subplot": "map",
         "type": "scattermap"
        },
        {
         "customdata": [
          [
           -29.04,
           "19:40:33.9",
           "1985/11/10",
           -13.19
          ],
          [
           -28.93,
           "02:11:45.3",
           "1985/11/14",
           -13.11
          ]
         ],
         "hovertemplate": "<b>%{hovertext}</b><br><br>Cluster=153<br>Lat=%{customdata[0]}<br>Lon=%{customdata[3]}<br>Time=%{customdata[1]}<br>Date=%{customdata[2]}<extra></extra>",
         "hovertext": {
          "dtype": "f8",
          "bdata": "AAAAAAAgY0AAAAAAACBjQA=="
         },
         "lat": {
          "dtype": "f8",
          "bdata": "CtejcD0KPcCuR+F6FO48wA=="
         },
         "legendgroup": "153",
         "lon": {
          "dtype": "f8",
          "bdata": "4XoUrkdhKsC4HoXrUTgqwA=="
         },
         "marker": {
          "color": "#FA0087"
         },
         "mode": "markers",
         "name": "153",
         "showlegend": true,
         "subplot": "map",
         "type": "scattermap"
        },
        {
         "customdata": [
          [
           37.97,
           "03:35:38.8",
           "1986/05/05",
           37.77
          ],
          [
           37.97,
           "10:39:46.7",
           "1986/06/06",
           37.88
          ]
         ],
         "hovertemplate": "<b>%{hovertext}</b><br><br>Cluster=160<br>Lat=%{customdata[0]}<br>Lon=%{customdata[3]}<br>Time=%{customdata[1]}<br>Date=%{customdata[2]}<extra></extra>",
         "hovertext": {
          "dtype": "f8",
          "bdata": "AAAAAAAAZEAAAAAAAABkQA=="
         },
         "lat": {
          "dtype": "f8",
          "bdata": "XI/C9Sj8QkBcj8L1KPxCQA=="
         },
         "legendgroup": "160",
         "lon": {
          "dtype": "f8",
          "bdata": "w/UoXI/iQkBxPQrXo/BCQA=="
         },
         "marker": {
          "color": "#AA0DFE"
         },
         "mode": "markers",
         "name": "160",
         "showlegend": true,
         "subplot": "map",
         "type": "scattermap"
        },
        {
         "customdata": [
          [
           37.52,
           "18:40:31.1",
           "1987/05/29",
           21.56
          ],
          [
           37.23,
           "14:50:11.2",
           "1987/06/10",
           21.45
          ]
         ],
         "hovertemplate": "<b>%{hovertext}</b><br><br>Cluster=175<br>Lat=%{customdata[0]}<br>Lon=%{customdata[3]}<br>Time=%{customdata[1]}<br>Date=%{customdata[2]}<extra></extra>",
         "hovertext": {
          "dtype": "f8",
          "bdata": "AAAAAADgZUAAAAAAAOBlQA=="
         },
         "lat": {
          "dtype": "f8",
          "bdata": "w/UoXI/CQkA9CtejcJ1CQA=="
         },
         "legendgroup": "175",
         "lon": {
          "dtype": "f8",
          "bdata": "j8L1KFyPNUAzMzMzM3M1QA=="
         },
         "marker": {
          "color": "#3283FE"
         },
         "mode": "markers",
         "name": "175",
         "showlegend": true,
         "subplot": "map",
         "type": "scattermap"
        },
        {
         "customdata": [
          [
           5.41,
           "16:46:12.9",
           "1987/10/25",
           36.73
          ],
          [
           5.72,
           "08:58:29.2",
           "1987/10/28",
           36.69
          ]
         ],
         "hovertemplate": "<b>%{hovertext}</b><br><br>Cluster=180<br>Lat=%{customdata[0]}<br>Lon=%{customdata[3]}<br>Time=%{customdata[1]}<br>Date=%{customdata[2]}<extra></extra>",
         "hovertext": {
          "dtype": "f8",
          "bdata": "AAAAAACAZkAAAAAAAIBmQA=="
         },
         "lat": {
          "dtype": "f8",
          "bdata": "pHA9CtejFUDhehSuR+EWQA=="
         },
         "legendgroup": "180",
         "lon": {
          "dtype": "f8",
          "bdata": "PQrXo3BdQkC4HoXrUVhCQA=="
         },
         "marker": {
          "color": "#85660D"
         },
         "mode": "markers",
         "name": "180",
         "showlegend": true,
         "subplot": "map",
         "type": "scattermap"
        },
        {
         "customdata": [
          [
           -37.3,
           "06:17:31.4",
           "1988/02/26",
           47.97
          ],
          [
           -37.22,
           "13:42:27.1",
           "1988/02/26",
           47.81
          ],
          [
           -37.14,
           "17:52:34.8",
           "1988/02/26",
           47.75
          ],
          [
           -37.45,
           "02:36:59.0",
           "1988/03/11",
           48.0
          ],
          [
           -37.36,
           "06:52:11.5",
           "1990/05/14",
           47.87
          ]
         ],
         "hovertemplate": "<b>%{hovertext}</b><br><br>Cluster=185<br>Lat=%{customdata[0]}<br>Lon=%{customdata[3]}<br>Time=%{customdata[1]}<br>Date=%{customdata[2]}<extra></extra>",
         "hovertext": {
          "dtype": "f8",
          "bdata": "AAAAAAAgZ0AAAAAAACBnQAAAAAAAIGdAAAAAAAAgZ0AAAAAAACBnQA=="
         },
         "lat": {
          "dtype": "f8",
          "bdata": "ZmZmZmamQsBcj8L1KJxCwFK4HoXrkULAmpmZmZm5QsCuR+F6FK5CwA=="
         },
         "legendgroup": "185",
         "lon": {
          "dtype": "f8",
          "bdata": "XI/C9Sj8R0BI4XoUrudHQAAAAAAA4EdAAAAAAAAASECPwvUoXO9HQA=="
         },
         "marker": {
          "color": "#782AB6"
         },
         "mode": "markers",
         "name": "185",
         "showlegend": true,
         "subplot": "map",
         "type": "scattermap"
        },
        {
         "customdata": [
          [
           -1.31,
           "05:30:51.9",
           "1988/11/21",
           -15.02
          ],
          [
           -1.44,
           "19:42:31.3",
           "1988/12/06",
           -15.2
          ]
         ],
         "hovertemplate": "<b>%{hovertext}</b><br><br>Cluster=202<br>Lat=%{customdata[0]}<br>Lon=%{customdata[3]}<br>Time=%{customdata[1]}<br>Date=%{customdata[2]}<extra></extra>",
         "hovertext": {
          "dtype": "f8",
          "bdata": "AAAAAABAaUAAAAAAAEBpQA=="
         },
         "lat": {
          "dtype": "f8",
          "bdata": "9ihcj8L19L8K16NwPQr3vw=="
         },
         "legendgroup": "202",
         "lon": {
          "dtype": "f8",
          "bdata": "CtejcD0KLsBmZmZmZmYuwA=="
         },
         "marker": {
          "color": "#565656"
         },
         "mode": "markers",
         "name": "202",
         "showlegend": true,
         "subplot": "map",
         "type": "scattermap"
        },
        {
         "customdata": [
          [
           37.01,
           "14:28:46.3",
           "1989/02/19",
           28.32
          ],
          [
           37.06,
           "23:06:51.4",
           "1989/04/27",
           28.29
          ],
          [
           37.01,
           "13:30:17.9",
           "1989/04/28",
           28.25
          ]
         ],
         "hovertemplate": "<b>%{hovertext}</b><br><br>Cluster=206<br>Lat=%{customdata[0]}<br>Lon=%{customdata[3]}<br>Time=%{customdata[1]}<br>Date=%{customdata[2]}<extra></extra>",
         "hovertext": {
          "dtype": "f8",
          "bdata": "AAAAAADAaUAAAAAAAMBpQAAAAAAAwGlA"
         },
         "lat": {
          "dtype": "f8",
          "bdata": "4XoUrkeBQkBI4XoUrodCQOF6FK5HgUJA"
         },
         "legendgroup": "206",
         "lon": {
          "dtype": "f8",
          "bdata": "UrgehetRPEAK16NwPUo8QAAAAAAAQDxA"
         },
         "marker": {
          "color": "#1C8356"
         },
         "mode": "markers",
         "name": "206",
         "showlegend": true,
         "subplot": "map",
         "type": "scattermap"
        },
        {
         "customdata": [
          [
           -13.76,
           "02:37:00.6",
           "1989/03/09",
           34.32
          ],
          [
           -13.78,
           "21:49:45.9",
           "1989/03/10",
           34.34
          ]
         ],
         "hovertemplate": "<b>%{hovertext}</b><br><br>Cluster=210<br>Lat=%{customdata[0]}<br>Lon=%{customdata[3]}<br>Time=%{customdata[1]}<br>Date=%{customdata[2]}<extra></extra>",
         "hovertext": {
          "dtype": "f8",
          "bdata": "AAAAAABAakAAAAAAAEBqQA=="
         },
         "lat": {
          "dtype": "f8",
          "bdata": "hetRuB6FK8CPwvUoXI8rwA=="
         },
         "legendgroup": "210",
         "lon": {
          "dtype": "f8",
          "bdata": "KVyPwvUoQUDsUbgehStBQA=="
         },
         "marker": {
          "color": "#16FF32"
         },
         "mode": "markers",
         "name": "210",
         "showlegend": true,
         "subplot": "map",
         "type": "scattermap"
        },
        {
         "customdata": [
          [
           -1.61,
           "09:46:39.6",
           "1989/07/09",
           -15.49
          ],
          [
           -1.44,
           "15:43:18.5",
           "1989/07/14",
           -15.53
          ]
         ],
         "hovertemplate": "<b>%{hovertext}</b><br><br>Cluster=225<br>Lat=%{customdata[0]}<br>Lon=%{customdata[3]}<br>Time=%{customdata[1]}<br>Date=%{customdata[2]}<extra></extra>",
         "hovertext": {
          "dtype": "f8",
          "bdata": "AAAAAAAgbEAAAAAAACBsQA=="
         },
         "lat": {
          "dtype": "f8",
          "bdata": "w/UoXI/C+b8K16NwPQr3vw=="
         },
         "legendgroup": "225",
         "lon": {
          "dtype": "f8",
          "bdata": "exSuR+H6LsCPwvUoXA8vwA=="
         },
         "marker": {
          "color": "#F7E1A0"
         },
         "mode": "markers",
         "name": "225",
         "showlegend": true,
         "subplot": "map",
         "type": "scattermap"
        },
        {
         "customdata": [
          [
           11.75,
           "11:16:56.1",
           "1989/08/20",
           41.94
          ],
          [
           11.86,
           "11:46:27.9",
           "1989/08/20",
           41.9
          ],
          [
           11.79,
           "18:39:47.9",
           "1989/08/20",
           41.81
          ],
          [
           11.9,
           "19:25:56.1",
           "1989/08/20",
           41.82
          ],
          [
           11.87,
           "01:09:05.7",
           "1989/08/21",
           41.84
          ],
          [
           11.95,
           "05:03:05.7",
           "1989/08/21",
           41.75
          ],
          [
           11.92,
           "05:05:45.9",
           "1989/08/21",
           41.71
          ],
          [
           11.84,
           "07:07:38.6",
           "1989/08/21",
           41.73
          ]
         ],
         "hovertemplate": "<b>%{hovertext}</b><br><br>Cluster=228<br>Lat=%{customdata[0]}<br>Lon=%{customdata[3]}<br>Time=%{customdata[1]}<br>Date=%{customdata[2]}<extra></extra>",
         "hovertext": {
          "dtype": "f8",
          "bdata": "AAAAAACAbEAAAAAAAIBsQAAAAAAAgGxAAAAAAACAbEAAAAAAAIBsQAAAAAAAgGxAAAAAAACAbEAAAAAAAIBsQA=="
         },
         "lat": {
          "dtype": "f8",
          "bdata": "AAAAAACAJ0C4HoXrUbgnQBSuR+F6lCdAzczMzMzMJ0A9CtejcL0nQGZmZmZm5idA16NwPQrXJ0CuR+F6FK4nQA=="
         },
         "legendgroup": "228",
         "lon": {
          "dtype": "f8",
          "bdata": "uB6F61H4REAzMzMzM/NEQEjhehSu50RAKVyPwvXoREDsUbgehetEQAAAAAAA4ERAexSuR+HaREA9CtejcN1EQA=="
         },
         "marker": {
          "color": "#E2E2E2"
         },
         "mode": "markers",
         "name": "228",
         "showlegend": true,
         "subplot": "map",
         "type": "scattermap"
        },
        {
         "customdata": [
          [
           36.79,
           "19:09:13.4",
           "1989/10/29",
           2.45
          ],
          [
           36.75,
           "09:31:47.8",
           "1990/02/09",
           2.43
          ]
         ],
         "hovertemplate": "<b>%{hovertext}</b><br><br>Cluster=234<br>Lat=%{customdata[0]}<br>Lon=%{customdata[3]}<br>Time=%{customdata[1]}<br>Date=%{customdata[2]}<extra></extra>",
         "hovertext": {
          "dtype": "f8",
          "bdata": "AAAAAABAbUAAAAAAAEBtQA=="
         },
         "lat": {
          "dtype": "f8",
          "bdata": "hetRuB5lQkAAAAAAAGBCQA=="
         },
         "legendgroup": "234",
         "lon": {
          "dtype": "f8",
          "bdata": "mpmZmZmZA0BxPQrXo3ADQA=="
         },
         "marker": {
          "color": "#1CBE4F"
         },
         "mode": "markers",
         "name": "234",
         "showlegend": true,
         "subplot": "map",
         "type": "scattermap"
        },
        {
         "customdata": [
          [
           -2.94,
           "19:20:44.4",
           "1990/04/05",
           35.95
          ],
          [
           -2.96,
           "15:21:28.8",
           "1990/05/15",
           35.85
          ],
          [
           -3.01,
           "16:24:20.6",
           "1990/05/15",
           36.0
          ]
         ],
         "hovertemplate": "<b>%{hovertext}</b><br><br>Cluster=237<br>Lat=%{customdata[0]}<br>Lon=%{customdata[3]}<br>Time=%{customdata[1]}<br>Date=%{customdata[2]}<extra></extra>",
         "hovertext": {
          "dtype": "f8",
          "bdata": "AAAAAACgbUAAAAAAAKBtQAAAAAAAoG1A"
         },
         "lat": {
          "dtype": "f8",
          "bdata": "hetRuB6FB8CuR+F6FK4HwBSuR+F6FAjA"
         },
         "legendgroup": "237",
         "lon": {
          "dtype": "f8",
          "bdata": "mpmZmZn5QUDNzMzMzOxBQAAAAAAAAEJA"
         },
         "marker": {
          "color": "#C4451C"
         },
         "mode": "markers",
         "name": "237",
         "showlegend": true,
         "subplot": "map",
         "type": "scattermap"
        },
        {
         "customdata": [
          [
           5.04,
           "02:21:59.7",
           "1990/05/20",
           32.11
          ],
          [
           5.29,
           "19:34:43.4",
           "1990/05/24",
           31.86
          ],
          [
           5.34,
           "20:00:07.0",
           "1990/05/24",
           31.91
          ],
          [
           5.36,
           "15:11:19.5",
           "1990/07/09",
           31.66
          ],
          [
           5.21,
           "16:46:02.5",
           "1990/07/28",
           32.65
          ],
          [
           5.44,
           "00:12:26.1",
           "1990/09/07",
           31.64
          ],
          [
           5.16,
           "09:06:06.3",
           "1991/03/29",
           32.56
          ]
         ],
         "hovertemplate": "<b>%{hovertext}</b><br><br>Cluster=239<br>Lat=%{customdata[0]}<br>Lon=%{customdata[3]}<br>Time=%{customdata[1]}<br>Date=%{customdata[2]}<extra></extra>",
         "hovertext": {
          "dtype": "f8",
          "bdata": "AAAAAADgbUAAAAAAAOBtQAAAAAAA4G1AAAAAAADgbUAAAAAAAOBtQAAAAAAA4G1AAAAAAADgbUA="
         },
         "lat": {
          "dtype": "f8",
          "bdata": "KVyPwvUoFEApXI/C9SgVQFyPwvUoXBVAcT0K16NwFUDXo3A9CtcUQMP1KFyPwhVApHA9CtejFEA="
         },
         "legendgroup": "239",
         "lon": {
          "dtype": "f8",
          "bdata": "rkfhehQOQEBcj8L1KNw/QClcj8L16D9AKVyPwvWoP0AzMzMzM1NAQKRwPQrXoz9ASOF6FK5HQEA="
         },
         "marker": {
          "color": "#DEA0FD"
         },
         "mode": "markers",
         "name": "239",
         "showlegend": true,
         "subplot": "map",
         "type": "scattermap"
        },
        {
         "customdata": [
          [
           36.96,
           "21:00:08.5",
           "1990/06/20",
           49.41
          ],
          [
           36.65,
           "09:02:13.7",
           "1990/06/21",
           49.81
          ],
          [
           36.82,
           "09:45:56.7",
           "1990/06/24",
           49.42
          ],
          [
           36.82,
           "19:34:52.1",
           "1990/07/06",
           49.31
          ],
          [
           36.77,
           "17:19:54.8",
           "1991/11/28",
           49.58
          ]
         ],
         "hovertemplate": "<b>%{hovertext}</b><br><br>Cluster=241<br>Lat=%{customdata[0]}<br>Lon=%{customdata[3]}<br>Time=%{customdata[1]}<br>Date=%{customdata[2]}<extra></extra>",
         "hovertext": {
          "dtype": "f8",
          "bdata": "AAAAAAAgbkAAAAAAACBuQAAAAAAAIG5AAAAAAAAgbkAAAAAAACBuQA=="
         },
         "lat": {
          "dtype": "f8",
          "bdata": "exSuR+F6QkAzMzMzM1NCQClcj8L1aEJAKVyPwvVoQkDD9Shcj2JCQA=="
         },
         "legendgroup": "241",
         "lon": {
          "dtype": "f8",
          "bdata": "FK5H4Xq0SEBI4XoUrudIQPYoXI/CtUhASOF6FK6nSEAK16NwPcpIQA=="
         },
         "marker": {
          "color": "#FE00FA"
         },
         "mode": "markers",
         "name": "241",
         "showlegend": true,
         "subplot": "map",
         "type": "scattermap"
        },
        {
         "customdata": [
          [
           32.8,
           "11:57:12.2",
           "1990/08/03",
           48.24
          ],
          [
           32.82,
           "13:56:59.9",
           "1990/10/11",
           48.31
          ]
         ],
         "hovertemplate": "<b>%{hovertext}</b><br><br>Cluster=244<br>Lat=%{customdata[0]}<br>Lon=%{customdata[3]}<br>Time=%{customdata[1]}<br>Date=%{customdata[2]}<extra></extra>",
         "hovertext": {
          "dtype": "f8",
          "bdata": "AAAAAACAbkAAAAAAAIBuQA=="
         },
         "lat": {
          "dtype": "f8",
          "bdata": "ZmZmZmZmQEApXI/C9WhAQA=="
         },
         "legendgroup": "244",
         "lon": {
          "dtype": "f8",
          "bdata": "H4XrUbgeSEBI4XoUridIQA=="
         },
         "marker": {
          "color": "#325A9B"
         },
         "mode": "markers",
         "name": "244",
         "showlegend": true,
         "subplot": "map",
         "type": "scattermap"
        },
        {
         "customdata": [
          [
           12.45,
           "15:26:29.0",
           "1991/05/11",
           47.54
          ],
          [
           12.31,
           "16:12:37.4",
           "1991/05/12",
           47.47
          ]
         ],
         "hovertemplate": "<b>%{hovertext}</b><br><br>Cluster=261<br>Lat=%{customdata[0]}<br>Lon=%{customdata[3]}<br>Time=%{customdata[1]}<br>Date=%{customdata[2]}<extra></extra>",
         "hovertext": {
          "dtype": "f8",
          "bdata": "AAAAAABQcEAAAAAAAFBwQA=="
         },
         "lat": {
          "dtype": "f8",
          "bdata": "ZmZmZmbmKEAfhetRuJ4oQA=="
         },
         "legendgroup": "261",
         "lon": {
          "dtype": "f8",
          "bdata": "hetRuB7FR0Bcj8L1KLxHQA=="
         },
         "marker": {
          "color": "#FEAF16"
         },
         "mode": "markers",
         "name": "261",
         "showlegend": true,
         "subplot": "map",
         "type": "scattermap"
        },
        {
         "customdata": [
          [
           39.71,
           "17:18:40.1",
           "1992/03/13",
           39.57
          ],
          [
           39.53,
           "16:16:24.5",
           "1992/03/15",
           39.88
          ]
         ],
         "hovertemplate": "<b>%{hovertext}</b><br><br>Cluster=277<br>Lat=%{customdata[0]}<br>Lon=%{customdata[3]}<br>Time=%{customdata[1]}<br>Date=%{customdata[2]}<extra></extra>",
         "hovertext": {
          "dtype": "f8",
          "bdata": "AAAAAABQcUAAAAAAAFBxQA=="
         },
         "lat": {
          "dtype": "f8",
          "bdata": "exSuR+HaQ0CkcD0K18NDQA=="
         },
         "legendgroup": "277",
         "lon": {
          "dtype": "f8",
          "bdata": "KVyPwvXIQ0BxPQrXo/BDQA=="
         },
         "marker": {
          "color": "#F8A19F"
         },
         "mode": "markers",
         "name": "277",
         "showlegend": true,
         "subplot": "map",
         "type": "scattermap"
        },
        {
         "customdata": [
          [
           -1.0,
           "18:18:45.3",
           "1992/08/28",
           -13.56
          ],
          [
           -0.94,
           "20:24:00.8",
           "1993/11/25",
           -13.25
          ]
         ],
         "hovertemplate": "<b>%{hovertext}</b><br><br>Cluster=287<br>Lat=%{customdata[0]}<br>Lon=%{customdata[3]}<br>Time=%{customdata[1]}<br>Date=%{customdata[2]}<extra></extra>",
         "hovertext": {
          "dtype": "f8",
          "bdata": "AAAAAADwcUAAAAAAAPBxQA=="
         },
         "lat": {
          "dtype": "f8",
          "bdata": "AAAAAAAA8L8UrkfhehTuvw=="
         },
         "legendgroup": "287",
         "lon": {
          "dtype": "f8",
          "bdata": "H4XrUbgeK8AAAAAAAIAqwA=="
         },
         "marker": {
          "color": "#90AD1C"
         },
         "mode": "markers",
         "name": "287",
         "showlegend": true,
         "subplot": "map",
         "type": "scattermap"
        },
        {
         "customdata": [
          [
           -6.09,
           "03:57:26.2",
           "1992/09/11",
           26.68
          ],
          [
           -6.15,
           "14:52:27.5",
           "1992/09/23",
           26.65
          ]
         ],
         "hovertemplate": "<b>%{hovertext}</b><br><br>Cluster=288<br>Lat=%{customdata[0]}<br>Lon=%{customdata[3]}<br>Time=%{customdata[1]}<br>Date=%{customdata[2]}<extra></extra>",
         "hovertext": {
          "dtype": "f8",
          "bdata": "AAAAAAAAckAAAAAAAAByQA=="
         },
         "lat": {
          "dtype": "f8",
          "bdata": "XI/C9ShcGMCamZmZmZkYwA=="
         },
         "legendgroup": "288",
         "lon": {
          "dtype": "f8",
          "bdata": "rkfhehSuOkBmZmZmZqY6QA=="
         },
         "marker": {
          "color": "#F6222E"
         },
         "mode": "markers",
         "name": "288",
         "showlegend": true,
         "subplot": "map",
         "type": "scattermap"
        },
        {
         "customdata": [
          [
           31.35,
           "09:11:08.9",
           "1992/10/23",
           -4.33
          ],
          [
           31.3,
           "10:43:58.5",
           "1992/10/30",
           -4.43
          ]
         ],
         "hovertemplate": "<b>%{hovertext}</b><br><br>Cluster=292<br>Lat=%{customdata[0]}<br>Lon=%{customdata[3]}<br>Time=%{customdata[1]}<br>Date=%{customdata[2]}<extra></extra>",
         "hovertext": {
          "dtype": "f8",
          "bdata": "AAAAAABAckAAAAAAAEByQA=="
         },
         "lat": {
          "dtype": "f8",
          "bdata": "mpmZmZlZP0DNzMzMzEw/QA=="
         },
         "legendgroup": "292",
         "lon": {
          "dtype": "f8",
          "bdata": "UrgehetREcC4HoXrUbgRwA=="
         },
         "marker": {
          "color": "#1CFFCE"
         },
         "mode": "markers",
         "name": "292",
         "showlegend": true,
         "subplot": "map",
         "type": "scattermap"
        },
        {
         "customdata": [
          [
           38.3,
           "21:10:40.8",
           "1992/11/18",
           22.43
          ],
          [
           38.33,
           "15:47:00.1",
           "1993/03/18",
           22.09
          ]
         ],
         "hovertemplate": "<b>%{hovertext}</b><br><br>Cluster=295<br>Lat=%{customdata[0]}<br>Lon=%{customdata[3]}<br>Time=%{customdata[1]}<br>Date=%{customdata[2]}<extra></extra>",
         "hovertext": {
          "dtype": "f8",
          "bdata": "AAAAAABwckAAAAAAAHByQA=="
         },
         "lat": {
          "dtype": "f8",
          "bdata": "ZmZmZmYmQ0AK16NwPSpDQA=="
         },
         "legendgroup": "295",
         "lon": {
          "dtype": "f8",
          "bdata": "rkfhehRuNkDXo3A9Chc2QA=="
         },
         "marker": {
          "color": "#2ED9FF"
         },
         "mode": "markers",
         "name": "295",
         "showlegend": true,
         "subplot": "map",
         "type": "scattermap"
        },
        {
         "customdata": [
          [
           35.93,
           "05:07:22.7",
           "1992/11/21",
           22.44
          ],
          [
           35.95,
           "07:22:51.5",
           "1994/01/11",
           21.91
          ]
         ],
         "hovertemplate": "<b>%{hovertext}</b><br><br>Cluster=297<br>Lat=%{customdata[0]}<br>Lon=%{customdata[3]}<br>Time=%{customdata[1]}<br>Date=%{customdata[2]}<extra></extra>",
         "hovertext": {
          "dtype": "f8",
          "bdata": "AAAAAACQckAAAAAAAJByQA=="
         },
         "lat": {
          "dtype": "f8",
          "bdata": "16NwPQr3QUCamZmZmflBQA=="
         },
         "legendgroup": "297",
         "lon": {
          "dtype": "f8",
          "bdata": "cT0K16NwNkApXI/C9eg1QA=="
         },
         "marker": {
          "color": "#B10DA1"
         },
         "mode": "markers",
         "name": "297",
         "showlegend": true,
         "subplot": "map",
         "type": "scattermap"
        },
        {
         "customdata": [
          [
           37.15,
           "06:55:08.7",
           "1993/03/05",
           21.44
          ],
          [
           37.49,
           "11:58:14.6",
           "1993/03/26",
           21.49
          ]
         ],
         "hovertemplate": "<b>%{hovertext}</b><br><br>Cluster=302<br>Lat=%{customdata[0]}<br>Lon=%{customdata[3]}<br>Time=%{customdata[1]}<br>Date=%{customdata[2]}<extra></extra>",
         "hovertext": {
          "dtype": "f8",
          "bdata": "AAAAAADgckAAAAAAAOByQA=="
         },
         "lat": {
          "dtype": "f8",
          "bdata": "MzMzMzOTQkAfhetRuL5CQA=="
         },
         "legendgroup": "302",
         "lon": {
          "dtype": "f8",
          "bdata": "cT0K16NwNUA9CtejcH01QA=="
         },
         "marker": {
          "color": "#C075A6"
         },
         "mode": "markers",
         "name": "302",
         "showlegend": true,
         "subplot": "map",
         "type": "scattermap"
        },
        {
         "customdata": [
          [
           19.59,
           "04:24:19.7",
           "1993/03/12",
           38.66
          ],
          [
           19.76,
           "23:32:47.0",
           "1993/03/12",
           38.68
          ],
          [
           19.67,
           "17:12:26.3",
           "1993/03/13",
           38.85
          ],
          [
           19.65,
           "08:12:13.5",
           "1993/03/14",
           38.74
          ],
          [
           19.5,
           "11:59:26.0",
           "1993/03/16",
           38.8
          ],
          [
           19.52,
           "20:51:37.3",
           "1993/03/22",
           38.81
          ],
          [
           19.61,
           "00:59:31.8",
           "1993/03/23",
           38.9
          ]
         ],
         "hovertemplate": "<b>%{hovertext}</b><br><br>Cluster=303<br>Lat=%{customdata[0]}<br>Lon=%{customdata[3]}<br>Time=%{customdata[1]}<br>Date=%{customdata[2]}<extra></extra>",
         "hovertext": {
          "dtype": "f8",
          "bdata": "AAAAAADwckAAAAAAAPByQAAAAAAA8HJAAAAAAADwckAAAAAAAPByQAAAAAAA8HJAAAAAAADwckA="
         },
         "lat": {
          "dtype": "f8",
          "bdata": "16NwPQqXM0DD9Shcj8IzQOxRuB6FqzNAZmZmZmamM0AAAAAAAIAzQIXrUbgehTNAXI/C9SicM0A="
         },
         "legendgroup": "303",
         "lon": {
          "dtype": "f8",
          "bdata": "FK5H4XpUQ0DXo3A9CldDQM3MzMzMbENAH4XrUbheQ0BmZmZmZmZDQEjhehSuZ0NAMzMzMzNzQ0A="
         },
         "marker": {
          "color": "#FC1CBF"
         },
         "mode": "markers",
         "name": "303",
         "showlegend": true,
         "subplot": "map",
         "type": "scattermap"
        },
        {
         "customdata": [
          [
           38.24,
           "12:31:49.1",
           "1993/07/14",
           21.78
          ],
          [
           38.39,
           "05:18:36.6",
           "1993/11/04",
           21.99
          ]
         ],
         "hovertemplate": "<b>%{hovertext}</b><br><br>Cluster=311<br>Lat=%{customdata[0]}<br>Lon=%{customdata[3]}<br>Time=%{customdata[1]}<br>Date=%{customdata[2]}<extra></extra>",
         "hovertext": {
          "dtype": "f8",
          "bdata": "AAAAAABwc0AAAAAAAHBzQA=="
         },
         "lat": {
          "dtype": "f8",
          "bdata": "H4XrUbgeQ0BSuB6F6zFDQA=="
         },
         "legendgroup": "311",
         "lon": {
          "dtype": "f8",
          "bdata": "SOF6FK7HNUA9CtejcP01QA=="
         },
         "marker": {
          "color": "#B00068"
         },
         "mode": "markers",
         "name": "311",
         "showlegend": true,
         "subplot": "map",
         "type": "scattermap"
        },
        {
         "customdata": [
          [
           28.63,
           "12:43:04.5",
           "1993/08/03",
           34.64
          ],
          [
           28.76,
           "16:33:20.6",
           "1993/08/03",
           34.7
          ]
         ],
         "hovertemplate": "<b>%{hovertext}</b><br><br>Cluster=314<br>Lat=%{customdata[0]}<br>Lon=%{customdata[3]}<br>Time=%{customdata[1]}<br>Date=%{customdata[2]}<extra></extra>",
         "hovertext": {
          "dtype": "f8",
          "bdata": "AAAAAACgc0AAAAAAAKBzQA=="
         },
         "lat": {
          "dtype": "f8",
          "bdata": "4XoUrkehPEDD9Shcj8I8QA=="
         },
         "legendgroup": "314",
         "lon": {
          "dtype": "f8",
          "bdata": "UrgehetRQUCamZmZmVlBQA=="
         },
         "marker": {
          "color": "#FBE426"
         },
         "mode": "markers",
         "name": "314",
         "showlegend": true,
         "subplot": "map",
         "type": "scattermap"
        },
        {
         "customdata": [
          [
           11.83,
           "11:20:22.2",
           "1994/04/11",
           42.81
          ],
          [
           11.6,
           "02:57:10.7",
           "1994/04/24",
           43.09
          ]
         ],
         "hovertemplate": "<b>%{hovertext}</b><br><br>Cluster=325<br>Lat=%{customdata[0]}<br>Lon=%{customdata[3]}<br>Time=%{customdata[1]}<br>Date=%{customdata[2]}<extra></extra>",
         "hovertext": {
          "dtype": "f8",
          "bdata": "AAAAAABQdEAAAAAAAFB0QA=="
         },
         "lat": {
          "dtype": "f8",
          "bdata": "KVyPwvWoJ0AzMzMzMzMnQA=="
         },
         "legendgroup": "325",
         "lon": {
          "dtype": "f8",
          "bdata": "SOF6FK5nRUDsUbgehYtFQA=="
         },
         "marker": {
          "color": "#FA0087"
         },
         "mode": "markers",
         "name": "325",
         "showlegend": true,
         "subplot": "map",
         "type": "scattermap"
        },
        {
         "customdata": [
          [
           32.55,
           "05:15:40.1",
           "1994/07/31",
           48.35
          ],
          [
           32.64,
           "05:51:46.8",
           "1994/09/20",
           48.71
          ]
         ],
         "hovertemplate": "<b>%{hovertext}</b><br><br>Cluster=330<br>Lat=%{customdata[0]}<br>Lon=%{customdata[3]}<br>Time=%{customdata[1]}<br>Date=%{customdata[2]}<extra></extra>",
         "hovertext": {
          "dtype": "f8",
          "bdata": "AAAAAACgdEAAAAAAAKB0QA=="
         },
         "lat": {
          "dtype": "f8",
          "bdata": "ZmZmZmZGQEBSuB6F61FAQA=="
         },
         "legendgroup": "330",
         "lon": {
          "dtype": "f8",
          "bdata": "zczMzMwsSEB7FK5H4VpIQA=="
         },
         "marker": {
          "color": "#AA0DFE"
         },
         "mode": "markers",
         "name": "330",
         "showlegend": true,
         "subplot": "map",
         "type": "scattermap"
        },
        {
         "customdata": [
          [
           -25.06,
           "15:17:40.2",
           "1994/08/24",
           -13.54
          ],
          [
           -24.88,
           "11:28:36.1",
           "1994/09/01",
           -13.57
          ]
         ],
         "hovertemplate": "<b>%{hovertext}</b><br><br>Cluster=333<br>Lat=%{customdata[0]}<br>Lon=%{customdata[3]}<br>Time=%{customdata[1]}<br>Date=%{customdata[2]}<extra></extra>",
         "hovertext": {
          "dtype": "f8",
          "bdata": "AAAAAADQdEAAAAAAANB0QA=="
         },
         "lat": {
          "dtype": "f8",
          "bdata": "j8L1KFwPOcDhehSuR+E4wA=="
         },
         "legendgroup": "333",
         "lon": {
          "dtype": "f8",
          "bdata": "FK5H4XoUK8CkcD0K1yMrwA=="
         },
         "marker": {
          "color": "#3283FE"
         },
         "mode": "markers",
         "name": "333",
         "showlegend": true,
         "subplot": "map",
         "type": "scattermap"
        },
        {
         "customdata": [
          [
           35.04,
           "21:03:02.0",
           "1995/02/23",
           32.27
          ],
          [
           35.06,
           "04:58:32.4",
           "1995/05/29",
           32.26
          ]
         ],
         "hovertemplate": "<b>%{hovertext}</b><br><br>Cluster=340<br>Lat=%{customdata[0]}<br>Lon=%{customdata[3]}<br>Time=%{customdata[1]}<br>Date=%{customdata[2]}<extra></extra>",
         "hovertext": {
          "dtype": "f8",
          "bdata": "AAAAAABAdUAAAAAAAEB1QA=="
         },
         "lat": {
          "dtype": "f8",
          "bdata": "hetRuB6FQUBI4XoUrodBQA=="
         },
         "legendgroup": "340",
         "lon": {
          "dtype": "f8",
          "bdata": "w/UoXI8iQEDhehSuRyFAQA=="
         },
         "marker": {
          "color": "#85660D"
         },
         "mode": "markers",
         "name": "340",
         "showlegend": true,
         "subplot": "map",
         "type": "scattermap"
        },
        {
         "customdata": [
          [
           -14.0,
           "17:56:37.6",
           "1995/03/04",
           -14.47
          ],
          [
           -14.05,
           "07:28:19.8",
           "1995/05/13",
           -14.27
          ]
         ],
         "hovertemplate": "<b>%{hovertext}</b><br><br>Cluster=341<br>Lat=%{customdata[0]}<br>Lon=%{customdata[3]}<br>Time=%{customdata[1]}<br>Date=%{customdata[2]}<extra></extra>",
         "hovertext": {
          "dtype": "f8",
          "bdata": "AAAAAABQdUAAAAAAAFB1QA=="
         },
         "lat": {
          "dtype": "f8",
          "bdata": "AAAAAAAALMCamZmZmRkswA=="
         },
         "legendgroup": "341",
         "lon": {
          "dtype": "f8",
          "bdata": "cT0K16PwLMAK16NwPYoswA=="
         },
         "marker": {
          "color": "#782AB6"
         },
         "mode": "markers",
         "name": "341",
         "showlegend": true,
         "subplot": "map",
         "type": "scattermap"
        },
        {
         "customdata": [
          [
           38.4,
           "00:15:48.6",
           "1995/06/15",
           22.27
          ],
          [
           38.44,
           "21:10:28.7",
           "1997/11/05",
           22.28
          ]
         ],
         "hovertemplate": "<b>%{hovertext}</b><br><br>Cluster=344<br>Lat=%{customdata[0]}<br>Lon=%{customdata[3]}<br>Time=%{customdata[1]}<br>Date=%{customdata[2]}<extra></extra>",
         "hovertext": {
          "dtype": "f8",
          "bdata": "AAAAAACAdUAAAAAAAIB1QA=="
         },
         "lat": {
          "dtype": "f8",
          "bdata": "MzMzMzMzQ0C4HoXrUThDQA=="
         },
         "legendgroup": "344",
         "lon": {
          "dtype": "f8",
          "bdata": "hetRuB5FNkBI4XoUrkc2QA=="
         },
         "marker": {
          "color": "#565656"
         },
         "mode": "markers",
         "name": "344",
         "showlegend": true,
         "subplot": "map",
         "type": "scattermap"
        },
        {
         "customdata": [
          [
           28.82,
           "04:15:11.7",
           "1995/11/22",
           34.86
          ],
          [
           28.45,
           "22:16:53.5",
           "1995/11/22",
           34.84
          ],
          [
           29.25,
           "18:07:17.5",
           "1995/11/23",
           34.64
          ],
          [
           28.8,
           "04:59:51.2",
           "1996/02/21",
           34.78
          ]
         ],
         "hovertemplate": "<b>%{hovertext}</b><br><br>Cluster=352<br>Lat=%{customdata[0]}<br>Lon=%{customdata[3]}<br>Time=%{customdata[1]}<br>Date=%{customdata[2]}<extra></extra>",
         "hovertext": {
          "dtype": "f8",
          "bdata": "AAAAAAAAdkAAAAAAAAB2QAAAAAAAAHZAAAAAAAAAdkA="
         },
         "lat": {
          "dtype": "f8",
          "bdata": "UrgehevRPEAzMzMzM3M8QAAAAAAAQD1AzczMzMzMPEA="
         },
         "legendgroup": "352",
         "lon": {
          "dtype": "f8",
          "bdata": "rkfhehRuQUDsUbgehWtBQFK4HoXrUUFApHA9CtdjQUA="
         },
         "marker": {
          "color": "#1C8356"
         },
         "mode": "markers",
         "name": "352",
         "showlegend": true,
         "subplot": "map",
         "type": "scattermap"
        },
        {
         "customdata": [
          [
           -1.52,
           "09:44:58.1",
           "1996/02/16",
           -15.22
          ],
          [
           -1.59,
           "12:36:29.6",
           "1997/09/01",
           -15.57
          ]
         ],
         "hovertemplate": "<b>%{hovertext}</b><br><br>Cluster=358<br>Lat=%{customdata[0]}<br>Lon=%{customdata[3]}<br>Time=%{customdata[1]}<br>Date=%{customdata[2]}<extra></extra>",
         "hovertext": {
          "dtype": "f8",
          "bdata": "AAAAAABgdkAAAAAAAGB2QA=="
         },
         "lat": {
          "dtype": "f8",
          "bdata": "UrgehetR+L9xPQrXo3D5vw=="
         },
         "legendgroup": "358",
         "lon": {
          "dtype": "f8",
          "bdata": "cT0K16NwLsCkcD0K1yMvwA=="
         },
         "marker": {
          "color": "#16FF32"
         },
         "mode": "markers",
         "name": "358",
         "showlegend": true,
         "subplot": "map",
         "type": "scattermap"
        },
        {
         "customdata": [
          [
           -1.28,
           "23:49:28.0",
           "1996/02/18",
           -14.27
          ],
          [
           -1.22,
           "02:28:31.8",
           "1996/02/19",
           -14.23
          ]
         ],
         "hovertemplate": "<b>%{hovertext}</b><br><br>Cluster=359<br>Lat=%{customdata[0]}<br>Lon=%{customdata[3]}<br>Time=%{customdata[1]}<br>Date=%{customdata[2]}<extra></extra>",
         "hovertext": {
          "dtype": "f8",
          "bdata": "AAAAAABwdkAAAAAAAHB2QA=="
         },
         "lat": {
          "dtype": "f8",
          "bdata": "exSuR+F69L+F61G4HoXzvw=="
         },
         "legendgroup": "359",
         "lon": {
          "dtype": "f8",
          "bdata": "CtejcD2KLMD2KFyPwnUswA=="
         },
         "marker": {
          "color": "#F7E1A0"
         },
         "mode": "markers",
         "name": "359",
         "showlegend": true,
         "subplot": "map",
         "type": "scattermap"
        },
        {
         "customdata": [
          [
           -12.78,
           "16:07:03.7",
           "1996/06/08",
           -14.64
          ],
          [
           -12.87,
           "16:37:03.7",
           "1996/06/08",
           -14.69
          ]
         ],
         "hovertemplate": "<b>%{hovertext}</b><br><br>Cluster=367<br>Lat=%{customdata[0]}<br>Lon=%{customdata[3]}<br>Time=%{customdata[1]}<br>Date=%{customdata[2]}<extra></extra>",
         "hovertext": {
          "dtype": "f8",
          "bdata": "AAAAAADwdkAAAAAAAPB2QA=="
         },
         "lat": {
          "dtype": "f8",
          "bdata": "j8L1KFyPKcA9CtejcL0pwA=="
         },
         "legendgroup": "367",
         "lon": {
          "dtype": "f8",
          "bdata": "SOF6FK5HLcDhehSuR2EtwA=="
         },
         "marker": {
          "color": "#E2E2E2"
         },
         "mode": "markers",
         "name": "367",
         "showlegend": true,
         "subplot": "map",
         "type": "scattermap"
        },
        {
         "customdata": [
          [
           -3.65,
           "05:01:45.2",
           "1996/07/15",
           -12.1
          ],
          [
           -3.5,
           "06:01:11.7",
           "1996/07/15",
           -12.14
          ],
          [
           -3.33,
           "23:00:30.9",
           "1996/08/30",
           -12.04
          ]
         ],
         "hovertemplate": "<b>%{hovertext}</b><br><br>Cluster=368<br>Lat=%{customdata[0]}<br>Lon=%{customdata[3]}<br>Time=%{customdata[1]}<br>Date=%{customdata[2]}<extra></extra>",
         "hovertext": {
          "dtype": "f8",
          "bdata": "AAAAAAAAd0AAAAAAAAB3QAAAAAAAAHdA"
         },
         "lat": {
          "dtype": "f8",
          "bdata": "MzMzMzMzDcAAAAAAAAAMwKRwPQrXowrA"
         },
         "legendgroup": "368",
         "lon": {
          "dtype": "f8",
          "bdata": "MzMzMzMzKMBI4XoUrkcowBSuR+F6FCjA"
         },
         "marker": {
          "color": "#1CBE4F"
         },
         "mode": "markers",
         "name": "368",
         "showlegend": true,
         "subplot": "map",
         "type": "scattermap"
        },
        {
         "customdata": [
          [
           36.15,
           "00:00:41.8",
           "1996/07/20",
           27.1
          ],
          [
           36.15,
           "01:44:38.0",
           "1996/07/22",
           27.22
          ]
         ],
         "hovertemplate": "<b>%{hovertext}</b><br><br>Cluster=369<br>Lat=%{customdata[0]}<br>Lon=%{customdata[3]}<br>Time=%{customdata[1]}<br>Date=%{customdata[2]}<extra></extra>",
         "hovertext": {
          "dtype": "f8",
          "bdata": "AAAAAAAQd0AAAAAAABB3QA=="
         },
         "lat": {
          "dtype": "f8",
          "bdata": "MzMzMzMTQkAzMzMzMxNCQA=="
         },
         "legendgroup": "369",
         "lon": {
          "dtype": "f8",
          "bdata": "mpmZmZkZO0C4HoXrUTg7QA=="
         },
         "marker": {
          "color": "#C4451C"
         },
         "mode": "markers",
         "name": "369",
         "showlegend": true,
         "subplot": "map",
         "type": "scattermap"
        },
        {
         "customdata": [
          [
           34.56,
           "13:10:52.1",
           "1996/10/09",
           32.13
          ],
          [
           34.56,
           "01:10:22.4",
           "1996/10/10",
           32.21
          ],
          [
           34.85,
           "04:54:46.3",
           "1996/10/10",
           32.29
          ],
          [
           34.5,
           "00:44:23.0",
           "1996/11/27",
           32.06
          ],
          [
           34.31,
           "10:19:26.1",
           "1997/01/13",
           32.33
          ]
         ],
         "hovertemplate": "<b>%{hovertext}</b><br><br>Cluster=373<br>Lat=%{customdata[0]}<br>Lon=%{customdata[3]}<br>Time=%{customdata[1]}<br>Date=%{customdata[2]}<extra></extra>",
         "hovertext": {
          "dtype": "f8",
          "bdata": "AAAAAABQd0AAAAAAAFB3QAAAAAAAUHdAAAAAAABQd0AAAAAAAFB3QA=="
         },
         "lat": {
          "dtype": "f8",
          "bdata": "SOF6FK5HQUBI4XoUrkdBQM3MzMzMbEFAAAAAAABAQUBI4XoUridBQA=="
         },
         "legendgroup": "373",
         "lon": {
          "dtype": "f8",
          "bdata": "cT0K16MQQEB7FK5H4RpAQIXrUbgeJUBASOF6FK4HQEAK16NwPSpAQA=="
         },
         "marker": {
          "color": "#DEA0FD"
         },
         "mode": "markers",
         "name": "373",
         "showlegend": true,
         "subplot": "map",
         "type": "scattermap"
        },
        {
         "customdata": [
          [
           38.08,
           "12:57:18.6",
           "1997/02/28",
           48.05
          ],
          [
           37.86,
           "18:29:42.5",
           "1997/03/02",
           47.87
          ]
         ],
         "hovertemplate": "<b>%{hovertext}</b><br><br>Cluster=380<br>Lat=%{customdata[0]}<br>Lon=%{customdata[3]}<br>Time=%{customdata[1]}<br>Date=%{customdata[2]}<extra></extra>",
         "hovertext": {
          "dtype": "f8",
          "bdata": "AAAAAADAd0AAAAAAAMB3QA=="
         },
         "lat": {
          "dtype": "f8",
          "bdata": "CtejcD0KQ0CuR+F6FO5CQA=="
         },
         "legendgroup": "380",
         "lon": {
          "dtype": "f8",
          "bdata": "ZmZmZmYGSECPwvUoXO9HQA=="
         },
         "marker": {
          "color": "#FE00FA"
         },
         "mode": "markers",
         "name": "380",
         "showlegend": true,
         "subplot": "map",
         "type": "scattermap"
        },
        {
         "customdata": [
          [
           11.75,
           "23:29:02.7",
           "1997/03/08",
           43.26
          ],
          [
           11.7,
           "17:40:18.3",
           "1997/03/09",
           43.55
          ]
         ],
         "hovertemplate": "<b>%{hovertext}</b><br><br>Cluster=381<br>Lat=%{customdata[0]}<br>Lon=%{customdata[3]}<br>Time=%{customdata[1]}<br>Date=%{customdata[2]}<extra></extra>",
         "hovertext": {
          "dtype": "f8",
          "bdata": "AAAAAADQd0AAAAAAANB3QA=="
         },
         "lat": {
          "dtype": "f8",
          "bdata": "AAAAAACAJ0BmZmZmZmYnQA=="
         },
         "legendgroup": "381",
         "lon": {
          "dtype": "f8",
          "bdata": "4XoUrkehRUBmZmZmZsZFQA=="
         },
         "marker": {
          "color": "#325A9B"
         },
         "mode": "markers",
         "name": "381",
         "showlegend": true,
         "subplot": "map",
         "type": "scattermap"
        },
        {
         "customdata": [
          [
           -37.97,
           "05:53:33.3",
           "1997/04/14",
           48.56
          ],
          [
           -38.07,
           "09:29:26.6",
           "1997/04/14",
           48.48
          ],
          [
           -38.09,
           "05:09:33.9",
           "1997/04/15",
           48.52
          ]
         ],
         "hovertemplate": "<b>%{hovertext}</b><br><br>Cluster=383<br>Lat=%{customdata[0]}<br>Lon=%{customdata[3]}<br>Time=%{customdata[1]}<br>Date=%{customdata[2]}<extra></extra>",
         "hovertext": {
          "dtype": "f8",
          "bdata": "AAAAAADwd0AAAAAAAPB3QAAAAAAA8HdA"
         },
         "lat": {
          "dtype": "f8",
          "bdata": "XI/C9Sj8QsApXI/C9QhDwOxRuB6FC0PA"
         },
         "legendgroup": "383",
         "lon": {
          "dtype": "f8",
          "bdata": "SOF6FK5HSEA9CtejcD1IQMP1KFyPQkhA"
         },
         "marker": {
          "color": "#FEAF16"
         },
         "mode": "markers",
         "name": "383",
         "showlegend": true,
         "subplot": "map",
         "type": "scattermap"
        },
        {
         "customdata": [
          [
           -0.03,
           "17:50:09.6",
           "1997/05/16",
           -16.73
          ],
          [
           0.01,
           "20:23:01.0",
           "1997/05/21",
           -16.76
          ],
          [
           0.03,
           "22:59:28.6",
           "1997/09/01",
           -16.81
          ],
          [
           0.12,
           "14:00:05.8",
           "1997/09/26",
           -16.92
          ],
          [
           0.05,
           "12:47:34.0",
           "1997/11/10",
           -16.89
          ]
         ],
         "hovertemplate": "<b>%{hovertext}</b><br><br>Cluster=384<br>Lat=%{customdata[0]}<br>Lon=%{customdata[3]}<br>Time=%{customdata[1]}<br>Date=%{customdata[2]}<extra></extra>",
         "hovertext": {
          "dtype": "f8",
          "bdata": "AAAAAAAAeEAAAAAAAAB4QAAAAAAAAHhAAAAAAAAAeEAAAAAAAAB4QA=="
         },
         "lat": {
          "dtype": "f8",
          "bdata": "uB6F61G4nr97FK5H4XqEP7gehetRuJ4/uB6F61G4vj+amZmZmZmpPw=="
         },
         "legendgroup": "384",
         "lon": {
          "dtype": "f8",
          "bdata": "exSuR+G6MMDD9Shcj8IwwI/C9ShczzDA7FG4HoXrMMCkcD0K1+MwwA=="
         },
         "marker": {
          "color": "#F8A19F"
         },
         "mode": "markers",
         "name": "384",
         "showlegend": true,
         "subplot": "map",
         "type": "scattermap"
        },
        {
         "customdata": [
          [
           36.38,
           "13:39:37.5",
           "1997/10/13",
           22.07
          ],
          [
           36.14,
           "03:30:39.3",
           "1998/04/29",
           21.94
          ],
          [
           36.04,
           "08:17:58.3",
           "1999/04/17",
           21.68
          ]
         ],
         "hovertemplate": "<b>%{hovertext}</b><br><br>Cluster=387<br>Lat=%{customdata[0]}<br>Lon=%{customdata[3]}<br>Time=%{customdata[1]}<br>Date=%{customdata[2]}<extra></extra>",
         "hovertext": {
          "dtype": "f8",
          "bdata": "AAAAAAAweEAAAAAAADB4QAAAAAAAMHhA"
         },
         "lat": {
          "dtype": "f8",
          "bdata": "cT0K16MwQkBSuB6F6xFCQIXrUbgeBUJA"
         },
         "legendgroup": "387",
         "lon": {
          "dtype": "f8",
          "bdata": "UrgehesRNkBxPQrXo/A1QK5H4XoUrjVA"
         },
         "marker": {
          "color": "#90AD1C"
         },
         "mode": "markers",
         "name": "387",
         "showlegend": true,
         "subplot": "map",
         "type": "scattermap"
        },
        {
         "customdata": [
          [
           37.57,
           "13:07:41.7",
           "1997/11/18",
           20.66
          ],
          [
           37.26,
           "19:21:56.5",
           "1998/01/10",
           20.79
          ],
          [
           37.49,
           "04:00:13.0",
           "1998/05/01",
           20.74
          ],
          [
           37.25,
           "12:27:42.0",
           "1998/10/06",
           21.11
          ],
          [
           37.56,
           "07:50:15.4",
           "1999/06/11",
           21.11
          ]
         ],
         "hovertemplate": "<b>%{hovertext}</b><br><br>Cluster=390<br>Lat=%{customdata[0]}<br>Lon=%{customdata[3]}<br>Time=%{customdata[1]}<br>Date=%{customdata[2]}<extra></extra>",
         "hovertext": {
          "dtype": "f8",
          "bdata": "AAAAAABgeEAAAAAAAGB4QAAAAAAAYHhAAAAAAABgeEAAAAAAAGB4QA=="
         },
         "lat": {
          "dtype": "f8",
          "bdata": "KVyPwvXIQkDhehSuR6FCQB+F61G4vkJAAAAAAACgQkBI4XoUrsdCQA=="
         },
         "legendgroup": "390",
         "lon": {
          "dtype": "f8",
          "bdata": "KVyPwvWoNEAK16NwPco0QD0K16NwvTRAXI/C9SgcNUBcj8L1KBw1QA=="
         },
         "marker": {
          "color": "#F6222E"
         },
         "mode": "markers",
         "name": "390",
         "showlegend": true,
         "subplot": "map",
         "type": "scattermap"
        },
        {
         "customdata": [
          [
           0.81,
           "02:59:43.4",
           "1998/03/05",
           17.42
          ],
          [
           0.86,
           "14:16:52.2",
           "1998/04/26",
           17.34
          ]
         ],
         "hovertemplate": "<b>%{hovertext}</b><br><br>Cluster=398<br>Lat=%{customdata[0]}<br>Lon=%{customdata[3]}<br>Time=%{customdata[1]}<br>Date=%{customdata[2]}<extra></extra>",
         "hovertext": {
          "dtype": "f8",
          "bdata": "AAAAAADgeEAAAAAAAOB4QA=="
         },
         "lat": {
          "dtype": "f8",
          "bdata": "7FG4HoXr6T+F61G4HoXrPw=="
         },
         "legendgroup": "398",
         "lon": {
          "dtype": "f8",
          "bdata": "7FG4HoVrMUDXo3A9ClcxQA=="
         },
         "marker": {
          "color": "#1CFFCE"
         },
         "mode": "markers",
         "name": "398",
         "showlegend": true,
         "subplot": "map",
         "type": "scattermap"
        },
        {
         "customdata": [
          [
           -1.32,
           "16:40:38.6",
           "1998/04/10",
           -15.65
          ],
          [
           -1.33,
           "08:20:32.7",
           "1998/07/10",
           -15.86
          ]
         ],
         "hovertemplate": "<b>%{hovertext}</b><br><br>Cluster=402<br>Lat=%{customdata[0]}<br>Lon=%{customdata[3]}<br>Time=%{customdata[1]}<br>Date=%{customdata[2]}<extra></extra>",
         "hovertext": {
          "dtype": "f8",
          "bdata": "AAAAAAAgeUAAAAAAACB5QA=="
         },
         "lat": {
          "dtype": "f8",
          "bdata": "H4XrUbge9b9I4XoUrkf1vw=="
         },
         "legendgroup": "402",
         "lon": {
          "dtype": "f8",
          "bdata": "zczMzMxML8C4HoXrUbgvwA=="
         },
         "marker": {
          "color": "#2ED9FF"
         },
         "mode": "markers",
         "name": "402",
         "showlegend": true,
         "subplot": "map",
         "type": "scattermap"
        },
        {
         "customdata": [
          [
           36.88,
           "13:55:52.1",
           "1998/06/27",
           35.31
          ],
          [
           36.87,
           "02:15:46.9",
           "1998/07/04",
           35.32
          ]
         ],
         "hovertemplate": "<b>%{hovertext}</b><br><br>Cluster=409<br>Lat=%{customdata[0]}<br>Lon=%{customdata[3]}<br>Time=%{customdata[1]}<br>Date=%{customdata[2]}<extra></extra>",
         "hovertext": {
          "dtype": "f8",
          "bdata": "AAAAAACQeUAAAAAAAJB5QA=="
         },
         "lat": {
          "dtype": "f8",
          "bdata": "cT0K16NwQkCPwvUoXG9CQA=="
         },
         "legendgroup": "409",
         "lon": {
          "dtype": "f8",
          "bdata": "SOF6FK6nQUApXI/C9ahBQA=="
         },
         "marker": {
          "color": "#B10DA1"
         },
         "mode": "markers",
         "name": "409",
         "showlegend": true,
         "subplot": "map",
         "type": "scattermap"
        },
        {
         "customdata": [
          [
           33.24,
           "00:42:47.5",
           "1998/10/04",
           47.25
          ],
          [
           33.2,
           "02:20:33.9",
           "1998/10/05",
           47.22
          ]
         ],
         "hovertemplate": "<b>%{hovertext}</b><br><br>Cluster=415<br>Lat=%{customdata[0]}<br>Lon=%{customdata[3]}<br>Time=%{customdata[1]}<br>Date=%{customdata[2]}<extra></extra>",
         "hovertext": {
          "dtype": "f8",
          "bdata": "AAAAAADweUAAAAAAAPB5QA=="
         },
         "lat": {
          "dtype": "f8",
          "bdata": "H4XrUbieQECamZmZmZlAQA=="
         },
         "legendgroup": "415",
         "lon": {
          "dtype": "f8",
          "bdata": "AAAAAACgR0Bcj8L1KJxHQA=="
         },
         "marker": {
          "color": "#C075A6"
         },
         "mode": "markers",
         "name": "415",
         "showlegend": true,
         "subplot": "map",
         "type": "scattermap"
        },
        {
         "customdata": [
          [
           12.01,
           "01:35:02.0",
           "2000/02/10",
           45.95
          ],
          [
           11.9,
           "06:38:27.5",
           "2000/02/14",
           46.06
          ]
         ],
         "hovertemplate": "<b>%{hovertext}</b><br><br>Cluster=435<br>Lat=%{customdata[0]}<br>Lon=%{customdata[3]}<br>Time=%{customdata[1]}<br>Date=%{customdata[2]}<extra></extra>",
         "hovertext": {
          "dtype": "f8",
          "bdata": "AAAAAAAwe0AAAAAAADB7QA=="
         },
         "lat": {
          "dtype": "f8",
          "bdata": "hetRuB4FKEDNzMzMzMwnQA=="
         },
         "legendgroup": "435",
         "lon": {
          "dtype": "f8",
          "bdata": "mpmZmZn5RkBI4XoUrgdHQA=="
         },
         "marker": {
          "color": "#FC1CBF"
         },
         "mode": "markers",
         "name": "435",
         "showlegend": true,
         "subplot": "map",
         "type": "scattermap"
        },
        {
         "customdata": [
          [
           34.36,
           "22:01:46.0",
           "2000/03/10",
           26.03
          ],
          [
           34.22,
           "04:36:58.8",
           "2000/04/05",
           25.69
          ]
         ],
         "hovertemplate": "<b>%{hovertext}</b><br><br>Cluster=437<br>Lat=%{customdata[0]}<br>Lon=%{customdata[3]}<br>Time=%{customdata[1]}<br>Date=%{customdata[2]}<extra></extra>",
         "hovertext": {
          "dtype": "f8",
          "bdata": "AAAAAABQe0AAAAAAAFB7QA=="
         },
         "lat": {
          "dtype": "f8",
          "bdata": "rkfhehQuQUBcj8L1KBxBQA=="
         },
         "legendgroup": "437",
         "lon": {
          "dtype": "f8",
          "bdata": "SOF6FK4HOkBxPQrXo7A5QA=="
         },
         "marker": {
          "color": "#B00068"
         },
         "mode": "markers",
         "name": "437",
         "showlegend": true,
         "subplot": "map",
         "type": "scattermap"
        },
        {
         "customdata": [
          [
           -1.27,
           "15:17:10.2",
           "2000/04/29",
           -15.92
          ],
          [
           -1.16,
           "15:20:06.7",
           "2000/04/29",
           -15.87
          ]
         ],
         "hovertemplate": "<b>%{hovertext}</b><br><br>Cluster=440<br>Lat=%{customdata[0]}<br>Lon=%{customdata[3]}<br>Time=%{customdata[1]}<br>Date=%{customdata[2]}<extra></extra>",
         "hovertext": {
          "dtype": "f8",
          "bdata": "AAAAAACAe0AAAAAAAIB7QA=="
         },
         "lat": {
          "dtype": "f8",
          "bdata": "UrgehetR9L+PwvUoXI/yvw=="
         },
         "legendgroup": "440",
         "lon": {
          "dtype": "f8",
          "bdata": "16NwPQrXL8A9CtejcL0vwA=="
         },
         "marker": {
          "color": "#FBE426"
         },
         "mode": "markers",
         "name": "440",
         "showlegend": true,
         "subplot": "map",
         "type": "scattermap"
        },
        {
         "customdata": [
          [
           36.04,
           "05:40:37.7",
           "2000/05/24",
           22.01
          ],
          [
           35.92,
           "10:01:44.8",
           "2000/05/24",
           22.1
          ]
         ],
         "hovertemplate": "<b>%{hovertext}</b><br><br>Cluster=444<br>Lat=%{customdata[0]}<br>Lon=%{customdata[3]}<br>Time=%{customdata[1]}<br>Date=%{customdata[2]}<extra></extra>",
         "hovertext": {
          "dtype": "f8",
          "bdata": "AAAAAADAe0AAAAAAAMB7QA=="
         },
         "lat": {
          "dtype": "f8",
          "bdata": "hetRuB4FQkD2KFyPwvVBQA=="
         },
         "legendgroup": "444",
         "lon": {
          "dtype": "f8",
          "bdata": "w/UoXI8CNkCamZmZmRk2QA=="
         },
         "marker": {
          "color": "#FA0087"
         },
         "mode": "markers",
         "name": "444",
         "showlegend": true,
         "subplot": "map",
         "type": "scattermap"
        },
        {
         "customdata": [
          [
           -7.98,
           "17:59:03.3",
           "2000/06/16",
           -13.4
          ],
          [
           -7.78,
           "18:17:58.9",
           "2000/06/16",
           -13.49
          ]
         ],
         "hovertemplate": "<b>%{hovertext}</b><br><br>Cluster=448<br>Lat=%{customdata[0]}<br>Lon=%{customdata[3]}<br>Time=%{customdata[1]}<br>Date=%{customdata[2]}<extra></extra>",
         "hovertext": {
          "dtype": "f8",
          "bdata": "AAAAAAAAfEAAAAAAAAB8QA=="
         },
         "lat": {
          "dtype": "f8",
          "bdata": "7FG4HoXrH8AfhetRuB4fwA=="
         },
         "legendgroup": "448",
         "lon": {
          "dtype": "f8",
          "bdata": "zczMzMzMKsB7FK5H4foqwA=="
         },
         "marker": {
          "color": "#AA0DFE"
         },
         "mode": "markers",
         "name": "448",
         "showlegend": true,
         "subplot": "map",
         "type": "scattermap"
        },
        {
         "customdata": [
          [
           -17.29,
           "19:56:01.1",
           "2001/04/09",
           -14.06
          ],
          [
           -17.26,
           "11:02:03.8",
           "2001/06/21",
           -14.13
          ]
         ],
         "hovertemplate": "<b>%{hovertext}</b><br><br>Cluster=463<br>Lat=%{customdata[0]}<br>Lon=%{customdata[3]}<br>Time=%{customdata[1]}<br>Date=%{customdata[2]}<extra></extra>",
         "hovertext": {
          "dtype": "f8",
          "bdata": "AAAAAADwfEAAAAAAAPB8QA=="
         },
         "lat": {
          "dtype": "f8",
          "bdata": "CtejcD1KMcDD9Shcj0IxwA=="
         },
         "legendgroup": "463",
         "lon": {
          "dtype": "f8",
          "bdata": "H4XrUbgeLMDD9Shcj0IswA=="
         },
         "marker": {
          "color": "#3283FE"
         },
         "mode": "markers",
         "name": "463",
         "showlegend": true,
         "subplot": "map",
         "type": "scattermap"
        },
        {
         "customdata": [
          [
           35.41,
           "04:43:57.9",
           "2001/05/29",
           27.78
          ],
          [
           35.55,
           "06:52:43.0",
           "2001/06/23",
           28.16
          ]
         ],
         "hovertemplate": "<b>%{hovertext}</b><br><br>Cluster=467<br>Lat=%{customdata[0]}<br>Lon=%{customdata[3]}<br>Time=%{customdata[1]}<br>Date=%{customdata[2]}<extra></extra>",
         "hovertext": {
          "dtype": "f8",
          "bdata": "AAAAAAAwfUAAAAAAADB9QA=="
         },
         "lat": {
          "dtype": "f8",
          "bdata": "FK5H4Xq0QUBmZmZmZsZBQA=="
         },
         "legendgroup": "467",
         "lon": {
          "dtype": "f8",
          "bdata": "SOF6FK7HO0ApXI/C9Sg8QA=="
         },
         "marker": {
          "color": "#85660D"
         },
         "mode": "markers",
         "name": "467",
         "showlegend": true,
         "subplot": "map",
         "type": "scattermap"
        },
        {
         "customdata": [
          [
           39.06,
           "00:21:36.9",
           "2001/07/26",
           24.24
          ],
          [
           39.09,
           "15:24:56.7",
           "2001/07/30",
           24.04
          ]
         ],
         "hovertemplate": "<b>%{hovertext}</b><br><br>Cluster=474<br>Lat=%{customdata[0]}<br>Lon=%{customdata[3]}<br>Time=%{customdata[1]}<br>Date=%{customdata[2]}<extra></extra>",
         "hovertext": {
          "dtype": "f8",
          "bdata": "AAAAAACgfUAAAAAAAKB9QA=="
         },
         "lat": {
          "dtype": "f8",
          "bdata": "SOF6FK6HQ0DsUbgehYtDQA=="
         },
         "legendgroup": "474",
         "lon": {
          "dtype": "f8",
          "bdata": "PQrXo3A9OEAK16NwPQo4QA=="
         },
         "marker": {
          "color": "#782AB6"
         },
         "mode": "markers",
         "name": "474",
         "showlegend": true,
         "subplot": "map",
         "type": "scattermap"
        },
        {
         "customdata": [
          [
           -1.68,
           "00:14:44.4",
           "2002/01/20",
           28.98
          ],
          [
           -1.78,
           "04:39:21.6",
           "2002/01/21",
           29.04
          ],
          [
           -1.51,
           "15:32:05.6",
           "2002/01/22",
           28.99
          ]
         ],
         "hovertemplate": "<b>%{hovertext}</b><br><br>Cluster=482<br>Lat=%{customdata[0]}<br>Lon=%{customdata[3]}<br>Time=%{customdata[1]}<br>Date=%{customdata[2]}<extra></extra>",
         "hovertext": {
          "dtype": "f8",
          "bdata": "AAAAAAAgfkAAAAAAACB+QAAAAAAAIH5A"
         },
         "lat": {
          "dtype": "f8",
          "bdata": "4XoUrkfh+r97FK5H4Xr8vylcj8L1KPi/"
         },
         "legendgroup": "482",
         "lon": {
          "dtype": "f8",
          "bdata": "exSuR+H6PEAK16NwPQo9QD0K16Nw/TxA"
         },
         "marker": {
          "color": "#565656"
         },
         "mode": "markers",
         "name": "482",
         "showlegend": true,
         "subplot": "map",
         "type": "scattermap"
        },
        {
         "customdata": [
          [
           35.79,
           "04:53:52.7",
           "2002/01/22",
           26.62
          ],
          [
           35.65,
           "22:35:42.0",
           "2002/06/06",
           26.18
          ]
         ],
         "hovertemplate": "<b>%{hovertext}</b><br><br>Cluster=483<br>Lat=%{customdata[0]}<br>Lon=%{customdata[3]}<br>Time=%{customdata[1]}<br>Date=%{customdata[2]}<extra></extra>",
         "hovertext": {
          "dtype": "f8",
          "bdata": "AAAAAAAwfkAAAAAAADB+QA=="
         },
         "lat": {
          "dtype": "f8",
          "bdata": "hetRuB7lQUAzMzMzM9NBQA=="
         },
         "legendgroup": "483",
         "lon": {
          "dtype": "f8",
          "bdata": "H4XrUbieOkCuR+F6FC46QA=="
         },
         "marker": {
          "color": "#1C8356"
         },
         "mode": "markers",
         "name": "483",
         "showlegend": true,
         "subplot": "map",
         "type": "scattermap"
        },
        {
         "customdata": [
          [
           38.57,
           "07:11:28.4",
           "2002/02/03",
           31.27
          ],
          [
           38.63,
           "09:26:43.3",
           "2002/02/03",
           30.9
          ],
          [
           38.55,
           "11:39:55.4",
           "2002/02/03",
           31.18
          ]
         ],
         "hovertemplate": "<b>%{hovertext}</b><br><br>Cluster=484<br>Lat=%{customdata[0]}<br>Lon=%{customdata[3]}<br>Time=%{customdata[1]}<br>Date=%{customdata[2]}<extra></extra>",
         "hovertext": {
          "dtype": "f8",
          "bdata": "AAAAAABAfkAAAAAAAEB+QAAAAAAAQH5A"
         },
         "lat": {
          "dtype": "f8",
          "bdata": "KVyPwvVIQ0BxPQrXo1BDQGZmZmZmRkNA"
         },
         "legendgroup": "484",
         "lon": {
          "dtype": "f8",
          "bdata": "hetRuB5FP0BmZmZmZuY+QK5H4XoULj9A"
         },
         "marker": {
          "color": "#16FF32"
         },
         "mode": "markers",
         "name": "484",
         "showlegend": true,
         "subplot": "map",
         "type": "scattermap"
        },
        {
         "customdata": [
          [
           35.63,
           "02:58:21.3",
           "2002/06/22",
           49.05
          ],
          [
           35.7,
           "01:00:03.3",
           "2002/09/02",
           48.84
          ]
         ],
         "hovertemplate": "<b>%{hovertext}</b><br><br>Cluster=495<br>Lat=%{customdata[0]}<br>Lon=%{customdata[3]}<br>Time=%{customdata[1]}<br>Date=%{customdata[2]}<extra></extra>",
         "hovertext": {
          "dtype": "f8",
          "bdata": "AAAAAADwfkAAAAAAAPB+QA=="
         },
         "lat": {
          "dtype": "f8",
          "bdata": "cT0K16PQQUCamZmZmdlBQA=="
         },
         "legendgroup": "495",
         "lon": {
          "dtype": "f8",
          "bdata": "ZmZmZmaGSEDsUbgehWtIQA=="
         },
         "marker": {
          "color": "#F7E1A0"
         },
         "mode": "markers",
         "name": "495",
         "showlegend": true,
         "subplot": "map",
         "type": "scattermap"
        },
        {
         "customdata": [
          [
           -4.83,
           "19:55:58.9",
           "2002/06/25",
           -12.27
          ],
          [
           -5.04,
           "20:15:57.6",
           "2002/06/25",
           -12.3
          ],
          [
           -4.93,
           "21:47:23.7",
           "2002/06/25",
           -12.38
          ],
          [
           -4.95,
           "22:59:11.9",
           "2002/06/25",
           -12.38
          ],
          [
           -4.78,
           "01:00:11.5",
           "2002/06/26",
           -12.34
          ],
          [
           -4.74,
           "06:38:13.5",
           "2002/06/26",
           -12.3
          ]
         ],
         "hovertemplate": "<b>%{hovertext}</b><br><br>Cluster=497<br>Lat=%{customdata[0]}<br>Lon=%{customdata[3]}<br>Time=%{customdata[1]}<br>Date=%{customdata[2]}<extra></extra>",
         "hovertext": {
          "dtype": "f8",
          "bdata": "AAAAAAAQf0AAAAAAABB/QAAAAAAAEH9AAAAAAAAQf0AAAAAAABB/QAAAAAAAEH9A"
         },
         "lat": {
          "dtype": "f8",
          "bdata": "UrgehetRE8ApXI/C9SgUwLgehetRuBPAzczMzMzME8AfhetRuB4TwPYoXI/C9RLA"
         },
         "legendgroup": "497",
         "lon": {
          "dtype": "f8",
          "bdata": "CtejcD2KKMCamZmZmZkowMP1KFyPwijAw/UoXI/CKMCuR+F6FK4owJqZmZmZmSjA"
         },
         "marker": {
          "color": "#E2E2E2"
         },
         "mode": "markers",
         "name": "497",
         "showlegend": true,
         "subplot": "map",
         "type": "scattermap"
        },
        {
         "customdata": [
          [
           13.65,
           "21:17:11.7",
           "2002/08/08",
           40.0
          ],
          [
           13.65,
           "15:56:02.0",
           "2002/08/10",
           39.81
          ]
         ],
         "hovertemplate": "<b>%{hovertext}</b><br><br>Cluster=502<br>Lat=%{customdata[0]}<br>Lon=%{customdata[3]}<br>Time=%{customdata[1]}<br>Date=%{customdata[2]}<extra></extra>",
         "hovertext": {
          "dtype": "f8",
          "bdata": "AAAAAABgf0AAAAAAAGB/QA=="
         },
         "lat": {
          "dtype": "f8",
          "bdata": "zczMzMxMK0DNzMzMzEwrQA=="
         },
         "legendgroup": "502",
         "lon": {
          "dtype": "f8",
          "bdata": "AAAAAAAAREBI4XoUrudDQA=="
         },
         "marker": {
          "color": "#1CBE4F"
         },
         "mode": "markers",
         "name": "502",
         "showlegend": true,
         "subplot": "map",
         "type": "scattermap"
        },
        {
         "customdata": [
          [
           38.38,
           "01:21:28.6",
           "2002/09/06",
           13.7
          ],
          [
           38.44,
           "06:10:44.9",
           "2002/09/27",
           13.69
          ]
         ],
         "hovertemplate": "<b>%{hovertext}</b><br><br>Cluster=506<br>Lat=%{customdata[0]}<br>Lon=%{customdata[3]}<br>Time=%{customdata[1]}<br>Date=%{customdata[2]}<extra></extra>",
         "hovertext": {
          "dtype": "f8",
          "bdata": "AAAAAACgf0AAAAAAAKB/QA=="
         },
         "lat": {
          "dtype": "f8",
          "bdata": "cT0K16MwQ0C4HoXrUThDQA=="
         },
         "legendgroup": "506",
         "lon": {
          "dtype": "f8",
          "bdata": "ZmZmZmZmK0DhehSuR2ErQA=="
         },
         "marker": {
          "color": "#C4451C"
         },
         "mode": "markers",
         "name": "506",
         "showlegend": true,
         "subplot": "map",
         "type": "scattermap"
        },
        {
         "customdata": [
          [
           38.22,
           "00:40:15.1",
           "2003/04/10",
           26.96
          ],
          [
           38.16,
           "22:34:24.6",
           "2003/04/17",
           27.0
          ]
         ],
         "hovertemplate": "<b>%{hovertext}</b><br><br>Cluster=527<br>Lat=%{customdata[0]}<br>Lon=%{customdata[3]}<br>Time=%{customdata[1]}<br>Date=%{customdata[2]}<extra></extra>",
         "hovertext": {
          "dtype": "f8",
          "bdata": "AAAAAAB4gEAAAAAAAHiAQA=="
         },
         "lat": {
          "dtype": "f8",
          "bdata": "XI/C9SgcQ0AUrkfhehRDQA=="
         },
         "legendgroup": "527",
         "lon": {
          "dtype": "f8",
          "bdata": "9ihcj8L1OkAAAAAAAAA7QA=="
         },
         "marker": {
          "color": "#DEA0FD"
         },
         "mode": "markers",
         "name": "527",
         "showlegend": true,
         "subplot": "map",
         "type": "scattermap"
        },
        {
         "customdata": [
          [
           36.96,
           "18:44:20.1",
           "2003/05/21",
           3.63
          ],
          [
           37.08,
           "03:14:03.8",
           "2003/05/22",
           3.63
          ],
          [
           37.03,
           "13:57:20.6",
           "2003/05/22",
           3.93
          ],
          [
           36.94,
           "17:11:28.8",
           "2003/05/27",
           3.58
          ],
          [
           36.82,
           "02:14:59.8",
           "2003/05/29",
           3.36
          ]
         ],
         "hovertemplate": "<b>%{hovertext}</b><br><br>Cluster=532<br>Lat=%{customdata[0]}<br>Lon=%{customdata[3]}<br>Time=%{customdata[1]}<br>Date=%{customdata[2]}<extra></extra>",
         "hovertext": {
          "dtype": "f8",
          "bdata": "AAAAAACggEAAAAAAAKCAQAAAAAAAoIBAAAAAAACggEAAAAAAAKCAQA=="
         },
         "lat": {
          "dtype": "f8",
          "bdata": "exSuR+F6QkAK16NwPYpCQKRwPQrXg0JAuB6F61F4QkApXI/C9WhCQA=="
         },
         "legendgroup": "532",
         "lon": {
          "dtype": "f8",
          "bdata": "CtejcD0KDUAK16NwPQoNQHE9CtejcA9ApHA9CtejDEDhehSuR+EKQA=="
         },
         "marker": {
          "color": "#FE00FA"
         },
         "mode": "markers",
         "name": "532",
         "showlegend": true,
         "subplot": "map",
         "type": "scattermap"
        },
        {
         "customdata": [
          [
           38.17,
           "04:56:03.0",
           "2003/07/23",
           28.85
          ],
          [
           38.02,
           "08:36:49.2",
           "2003/07/26",
           28.93
          ]
         ],
         "hovertemplate": "<b>%{hovertext}</b><br><br>Cluster=536<br>Lat=%{customdata[0]}<br>Lon=%{customdata[3]}<br>Time=%{customdata[1]}<br>Date=%{customdata[2]}<extra></extra>",
         "hovertext": {
          "dtype": "f8",
          "bdata": "AAAAAADAgEAAAAAAAMCAQA=="
         },
         "lat": {
          "dtype": "f8",
          "bdata": "9ihcj8IVQ0DD9ShcjwJDQA=="
         },
         "legendgroup": "536",
         "lon": {
          "dtype": "f8",
          "bdata": "mpmZmZnZPECuR+F6FO48QA=="
         },
         "marker": {
          "color": "#325A9B"
         },
         "mode": "markers",
         "name": "536",
         "showlegend": true,
         "subplot": "map",
         "type": "scattermap"
        },
        {
         "customdata": [
          [
           -15.59,
           "16:38:37.2",
           "2003/07/23",
           -13.35
          ],
          [
           -15.66,
           "20:07:05.2",
           "2003/07/23",
           -13.24
          ]
         ],
         "hovertemplate": "<b>%{hovertext}</b><br><br>Cluster=537<br>Lat=%{customdata[0]}<br>Lon=%{customdata[3]}<br>Time=%{customdata[1]}<br>Date=%{customdata[2]}<extra></extra>",
         "hovertext": {
          "dtype": "f8",
          "bdata": "AAAAAADIgEAAAAAAAMiAQA=="
         },
         "lat": {
          "dtype": "f8",
          "bdata": "rkfhehQuL8BSuB6F61EvwA=="
         },
         "legendgroup": "537",
         "lon": {
          "dtype": "f8",
          "bdata": "MzMzMzOzKsB7FK5H4XoqwA=="
         },
         "marker": {
          "color": "#FEAF16"
         },
         "mode": "markers",
         "name": "537",
         "showlegend": true,
         "subplot": "map",
         "type": "scattermap"
        },
        {
         "customdata": [
          [
           39.16,
           "05:14:54.8",
           "2003/08/14",
           20.6
          ],
          [
           38.9,
           "12:18:14.2",
           "2003/08/14",
           20.61
          ],
          [
           38.83,
           "16:18:02.5",
           "2003/08/14",
           20.57
          ]
         ],
         "hovertemplate": "<b>%{hovertext}</b><br><br>Cluster=540<br>Lat=%{customdata[0]}<br>Lon=%{customdata[3]}<br>Time=%{customdata[1]}<br>Date=%{customdata[2]}<extra></extra>",
         "hovertext": {
          "dtype": "f8",
          "bdata": "AAAAAADggEAAAAAAAOCAQAAAAAAA4IBA"
         },
         "lat": {
          "dtype": "f8",
          "bdata": "FK5H4XqUQ0AzMzMzM3NDQArXo3A9akNA"
         },
         "legendgroup": "540",
         "lon": {
          "dtype": "f8",
          "bdata": "mpmZmZmZNEBcj8L1KJw0QFK4HoXrkTRA"
         },
         "marker": {
          "color": "#F8A19F"
         },
         "mode": "markers",
         "name": "540",
         "showlegend": true,
         "subplot": "map",
         "type": "scattermap"
        },
        {
         "customdata": [
          [
           11.51,
           "23:17:52.5",
           "2004/01/03",
           43.04
          ],
          [
           11.64,
           "00:09:46.1",
           "2004/01/04",
           43.19
          ]
         ],
         "hovertemplate": "<b>%{hovertext}</b><br><br>Cluster=547<br>Lat=%{customdata[0]}<br>Lon=%{customdata[3]}<br>Time=%{customdata[1]}<br>Date=%{customdata[2]}<extra></extra>",
         "hovertext": {
          "dtype": "f8",
          "bdata": "AAAAAAAYgUAAAAAAABiBQA=="
         },
         "lat": {
          "dtype": "f8",
          "bdata": "hetRuB4FJ0BI4XoUrkcnQA=="
         },
         "legendgroup": "547",
         "lon": {
          "dtype": "f8",
          "bdata": "hetRuB6FRUC4HoXrUZhFQA=="
         },
         "marker": {
          "color": "#90AD1C"
         },
         "mode": "markers",
         "name": "547",
         "showlegend": true,
         "subplot": "map",
         "type": "scattermap"
        },
        {
         "customdata": [
          [
           36.04,
           "21:17:24.2",
           "2004/02/07",
           26.91
          ],
          [
           35.92,
           "05:34:25.1",
           "2004/05/25",
           27.18
          ]
         ],
         "hovertemplate": "<b>%{hovertext}</b><br><br>Cluster=548<br>Lat=%{customdata[0]}<br>Lon=%{customdata[3]}<br>Time=%{customdata[1]}<br>Date=%{customdata[2]}<extra></extra>",
         "hovertext": {
          "dtype": "f8",
          "bdata": "AAAAAAAggUAAAAAAACCBQA=="
         },
         "lat": {
          "dtype": "f8",
          "bdata": "hetRuB4FQkD2KFyPwvVBQA=="
         },
         "legendgroup": "548",
         "lon": {
          "dtype": "f8",
          "bdata": "KVyPwvXoOkCuR+F6FC47QA=="
         },
         "marker": {
          "color": "#F6222E"
         },
         "mode": "markers",
         "name": "548",
         "showlegend": true,
         "subplot": "map",
         "type": "scattermap"
        },
        {
         "customdata": [
          [
           35.28,
           "12:44:57.5",
           "2004/02/25",
           -4.11
          ],
          [
           35.23,
           "12:07:04.3",
           "2004/02/26",
           -4.18
          ]
         ],
         "hovertemplate": "<b>%{hovertext}</b><br><br>Cluster=552<br>Lat=%{customdata[0]}<br>Lon=%{customdata[3]}<br>Time=%{customdata[1]}<br>Date=%{customdata[2]}<extra></extra>",
         "hovertext": {
          "dtype": "f8",
          "bdata": "AAAAAABAgUAAAAAAAECBQA=="
         },
         "lat": {
          "dtype": "f8",
          "bdata": "pHA9CtejQUA9CtejcJ1BQA=="
         },
         "legendgroup": "552",
         "lon": {
          "dtype": "f8",
          "bdata": "cT0K16NwEMC4HoXrUbgQwA=="
         },
         "marker": {
          "color": "#1CFFCE"
         },
         "mode": "markers",
         "name": "552",
         "showlegend": true,
         "subplot": "map",
         "type": "scattermap"
        },
        {
         "customdata": [
          [
           -18.82,
           "13:45:25.7",
           "2004/02/27",
           -12.56
          ],
          [
           -18.73,
           "05:23:54.4",
           "2004/02/28",
           -12.56
          ]
         ],
         "hovertemplate": "<b>%{hovertext}</b><br><br>Cluster=553<br>Lat=%{customdata[0]}<br>Lon=%{customdata[3]}<br>Time=%{customdata[1]}<br>Date=%{customdata[2]}<extra></extra>",
         "hovertext": {
          "dtype": "f8",
          "bdata": "AAAAAABIgUAAAAAAAEiBQA=="
         },
         "lat": {
          "dtype": "f8",
          "bdata": "UrgehevRMsB7FK5H4boywA=="
         },
         "legendgroup": "553",
         "lon": {
          "dtype": "f8",
          "bdata": "H4XrUbgeKcAfhetRuB4pwA=="
         },
         "marker": {
          "color": "#2ED9FF"
         },
         "mode": "markers",
         "name": "553",
         "showlegend": true,
         "subplot": "map",
         "type": "scattermap"
        },
        {
         "customdata": [
          [
           39.93,
           "19:30:49.0",
           "2004/03/25",
           40.81
          ],
          [
           39.85,
           "03:51:10.1",
           "2004/03/28",
           40.87
          ]
         ],
         "hovertemplate": "<b>%{hovertext}</b><br><br>Cluster=559<br>Lat=%{customdata[0]}<br>Lon=%{customdata[3]}<br>Time=%{customdata[1]}<br>Date=%{customdata[2]}<extra></extra>",
         "hovertext": {
          "dtype": "f8",
          "bdata": "AAAAAAB4gUAAAAAAAHiBQA=="
         },
         "lat": {
          "dtype": "f8",
          "bdata": "16NwPQr3Q0DNzMzMzOxDQA=="
         },
         "legendgroup": "559",
         "lon": {
          "dtype": "f8",
          "bdata": "SOF6FK5nRECPwvUoXG9EQA=="
         },
         "marker": {
          "color": "#B10DA1"
         },
         "mode": "markers",
         "name": "559",
         "showlegend": true,
         "subplot": "map",
         "type": "scattermap"
        },
        {
         "customdata": [
          [
           -11.6,
           "15:09:41.3",
           "2004/07/06",
           -13.65
          ],
          [
           -11.73,
           "15:31:53.0",
           "2004/07/06",
           -13.52
          ]
         ],
         "hovertemplate": "<b>%{hovertext}</b><br><br>Cluster=569<br>Lat=%{customdata[0]}<br>Lon=%{customdata[3]}<br>Time=%{customdata[1]}<br>Date=%{customdata[2]}<extra></extra>",
         "hovertext": {
          "dtype": "f8",
          "bdata": "AAAAAADIgUAAAAAAAMiBQA=="
         },
         "lat": {
          "dtype": "f8",
          "bdata": "MzMzMzMzJ8D2KFyPwnUnwA=="
         },
         "legendgroup": "569",
         "lon": {
          "dtype": "f8",
          "bdata": "zczMzMxMK8AK16NwPQorwA=="
         },
         "marker": {
          "color": "#C075A6"
         },
         "mode": "markers",
         "name": "569",
         "showlegend": true,
         "subplot": "map",
         "type": "scattermap"
        },
        {
         "customdata": [
          [
           36.75,
           "13:11:36.0",
           "2004/08/03",
           27.75
          ],
          [
           36.83,
           "03:01:07.6",
           "2004/08/04",
           27.82
          ],
          [
           36.84,
           "04:19:48.4",
           "2004/08/04",
           27.85
          ],
          [
           36.83,
           "14:18:50.2",
           "2004/08/04",
           27.83
          ]
         ],
         "hovertemplate": "<b>%{hovertext}</b><br><br>Cluster=573<br>Lat=%{customdata[0]}<br>Lon=%{customdata[3]}<br>Time=%{customdata[1]}<br>Date=%{customdata[2]}<extra></extra>",
         "hovertext": {
          "dtype": "f8",
          "bdata": "AAAAAADogUAAAAAAAOiBQAAAAAAA6IFAAAAAAADogUA="
         },
         "lat": {
          "dtype": "f8",
          "bdata": "AAAAAABgQkAK16NwPWpCQOxRuB6Fa0JACtejcD1qQkA="
         },
         "legendgroup": "573",
         "lon": {
          "dtype": "f8",
          "bdata": "AAAAAADAO0BSuB6F69E7QJqZmZmZ2TtAFK5H4XrUO0A="
         },
         "marker": {
          "color": "#FC1CBF"
         },
         "mode": "markers",
         "name": "573",
         "showlegend": true,
         "subplot": "map",
         "type": "scattermap"
        },
        {
         "customdata": [
          [
           36.43,
           "01:05:12.9",
           "2004/10/07",
           26.8
          ],
          [
           36.57,
           "13:35:00.2",
           "2005/08/01",
           26.78
          ]
         ],
         "hovertemplate": "<b>%{hovertext}</b><br><br>Cluster=582<br>Lat=%{customdata[0]}<br>Lon=%{customdata[3]}<br>Time=%{customdata[1]}<br>Date=%{customdata[2]}<extra></extra>",
         "hovertext": {
          "dtype": "f8",
          "bdata": "AAAAAAAwgkAAAAAAADCCQA=="
         },
         "lat": {
          "dtype": "f8",
          "bdata": "16NwPQo3QkApXI/C9UhCQA=="
         },
         "legendgroup": "582",
         "lon": {
          "dtype": "f8",
          "bdata": "zczMzMzMOkBI4XoUrsc6QA=="
         },
         "marker": {
          "color": "#B00068"
         },
         "mode": "markers",
         "name": "582",
         "showlegend": true,
         "subplot": "map",
         "type": "scattermap"
        },
        {
         "customdata": [
          [
           33.43,
           "10:04:38.0",
           "2004/10/16",
           45.92
          ],
          [
           33.39,
           "11:39:20.9",
           "2005/01/25",
           45.87
          ]
         ],
         "hovertemplate": "<b>%{hovertext}</b><br><br>Cluster=585<br>Lat=%{customdata[0]}<br>Lon=%{customdata[3]}<br>Time=%{customdata[1]}<br>Date=%{customdata[2]}<extra></extra>",
         "hovertext": {
          "dtype": "f8",
          "bdata": "AAAAAABIgkAAAAAAAEiCQA=="
         },
         "lat": {
          "dtype": "f8",
          "bdata": "16NwPQq3QEBSuB6F67FAQA=="
         },
         "legendgroup": "585",
         "lon": {
          "dtype": "f8",
          "bdata": "9ihcj8L1RkCPwvUoXO9GQA=="
         },
         "marker": {
          "color": "#FBE426"
         },
         "mode": "markers",
         "name": "585",
         "showlegend": true,
         "subplot": "map",
         "type": "scattermap"
        },
        {
         "customdata": [
          [
           33.3,
           "21:37:24.2",
           "2004/11/21",
           47.98
          ],
          [
           33.3,
           "04:01:30.4",
           "2004/11/22",
           47.98
          ],
          [
           33.43,
           "16:12:06.4",
           "2004/11/27",
           47.94
          ]
         ],
         "hovertemplate": "<b>%{hovertext}</b><br><br>Cluster=589<br>Lat=%{customdata[0]}<br>Lon=%{customdata[3]}<br>Time=%{customdata[1]}<br>Date=%{customdata[2]}<extra></extra>",
         "hovertext": {
          "dtype": "f8",
          "bdata": "AAAAAABogkAAAAAAAGiCQAAAAAAAaIJA"
         },
         "lat": {
          "dtype": "f8",
          "bdata": "ZmZmZmamQEBmZmZmZqZAQNejcD0Kt0BA"
         },
         "legendgroup": "589",
         "lon": {
          "dtype": "f8",
          "bdata": "PQrXo3D9R0A9CtejcP1HQLgehetR+EdA"
         },
         "marker": {
          "color": "#FA0087"
         },
         "mode": "markers",
         "name": "589",
         "showlegend": true,
         "subplot": "map",
         "type": "scattermap"
        },
        {
         "customdata": [
          [
           35.03,
           "17:50:45.0",
           "2004/12/02",
           -3.03
          ],
          [
           35.04,
           "10:30:00.5",
           "2004/12/04",
           -3.14
          ]
         ],
         "hovertemplate": "<b>%{hovertext}</b><br><br>Cluster=590<br>Lat=%{customdata[0]}<br>Lon=%{customdata[3]}<br>Time=%{customdata[1]}<br>Date=%{customdata[2]}<extra></extra>",
         "hovertext": {
          "dtype": "f8",
          "bdata": "AAAAAABwgkAAAAAAAHCCQA=="
         },
         "lat": {
          "dtype": "f8",
          "bdata": "pHA9CteDQUCF61G4HoVBQA=="
         },
         "legendgroup": "590",
         "lon": {
          "dtype": "f8",
          "bdata": "PQrXo3A9CMAfhetRuB4JwA=="
         },
         "marker": {
          "color": "#AA0DFE"
         },
         "mode": "markers",
         "name": "590",
         "showlegend": true,
         "subplot": "map",
         "type": "scattermap"
        },
        {
         "customdata": [
          [
           37.04,
           "23:02:12.4",
           "2004/12/20",
           28.21
          ],
          [
           37.02,
           "23:48:50.0",
           "2005/01/10",
           27.8
          ],
          [
           36.92,
           "04:36:01.0",
           "2005/01/11",
           27.87
          ]
         ],
         "hovertemplate": "<b>%{hovertext}</b><br><br>Cluster=593<br>Lat=%{customdata[0]}<br>Lon=%{customdata[3]}<br>Time=%{customdata[1]}<br>Date=%{customdata[2]}<extra></extra>",
         "hovertext": {
          "dtype": "f8",
          "bdata": "AAAAAACIgkAAAAAAAIiCQAAAAAAAiIJA"
         },
         "lat": {
          "dtype": "f8",
          "bdata": "hetRuB6FQkDD9Shcj4JCQPYoXI/CdUJA"
         },
         "legendgroup": "593",
         "lon": {
          "dtype": "f8",
          "bdata": "9ihcj8I1PEDNzMzMzMw7QB+F61G43jtA"
         },
         "marker": {
          "color": "#3283FE"
         },
         "mode": "markers",
         "name": "593",
         "showlegend": true,
         "subplot": "map",
         "type": "scattermap"
        },
        {
         "customdata": [
          [
           35.8,
           "22:36:05.5",
           "2005/01/23",
           29.64
          ],
          [
           35.81,
           "16:23:48.4",
           "2005/01/30",
           29.63
          ]
         ],
         "hovertemplate": "<b>%{hovertext}</b><br><br>Cluster=597<br>Lat=%{customdata[0]}<br>Lon=%{customdata[3]}<br>Time=%{customdata[1]}<br>Date=%{customdata[2]}<extra></extra>",
         "hovertext": {
          "dtype": "f8",
          "bdata": "AAAAAACogkAAAAAAAKiCQA=="
         },
         "lat": {
          "dtype": "f8",
          "bdata": "ZmZmZmbmQUBI4XoUrudBQA=="
         },
         "legendgroup": "597",
         "lon": {
          "dtype": "f8",
          "bdata": "pHA9CtejPUDhehSuR6E9QA=="
         },
         "marker": {
          "color": "#85660D"
         },
         "mode": "markers",
         "name": "597",
         "showlegend": true,
         "subplot": "map",
         "type": "scattermap"
        },
        {
         "customdata": [
          [
           39.44,
           "07:36:12.2",
           "2005/03/12",
           40.98
          ],
          [
           39.35,
           "01:55:55.6",
           "2005/03/14",
           40.89
          ],
          [
           39.43,
           "21:44:53.0",
           "2005/03/23",
           40.92
          ],
          [
           39.22,
           "07:41:28.7",
           "2005/06/06",
           41.08
          ],
          [
           39.39,
           "00:09:50.2",
           "2005/12/10",
           40.95
          ]
         ],
         "hovertemplate": "<b>%{hovertext}</b><br><br>Cluster=602<br>Lat=%{customdata[0]}<br>Lon=%{customdata[3]}<br>Time=%{customdata[1]}<br>Date=%{customdata[2]}<extra></extra>",
         "hovertext": {
          "dtype": "f8",
          "bdata": "AAAAAADQgkAAAAAAANCCQAAAAAAA0IJAAAAAAADQgkAAAAAAANCCQA=="
         },
         "lat": {
          "dtype": "f8",
          "bdata": "uB6F61G4Q0DNzMzMzKxDQNejcD0Kt0NAXI/C9SicQ0BSuB6F67FDQA=="
         },
         "legendgroup": "602",
         "lon": {
          "dtype": "f8",
          "bdata": "PQrXo3B9REBSuB6F63FEQPYoXI/CdURACtejcD2KRECamZmZmXlEQA=="
         },
         "marker": {
          "color": "#782AB6"
         },
         "mode": "markers",
         "name": "602",
         "showlegend": true,
         "subplot": "map",
         "type": "scattermap"
        },
        {
         "customdata": [
          [
           -10.51,
           "13:55:52.8",
           "2005/04/12",
           -13.09
          ],
          [
           -10.23,
           "03:46:06.1",
           "2005/04/22",
           -13.19
          ]
         ],
         "hovertemplate": "<b>%{hovertext}</b><br><br>Cluster=603<br>Lat=%{customdata[0]}<br>Lon=%{customdata[3]}<br>Time=%{customdata[1]}<br>Date=%{customdata[2]}<extra></extra>",
         "hovertext": {
          "dtype": "f8",
          "bdata": "AAAAAADYgkAAAAAAANiCQA=="
         },
         "lat": {
          "dtype": "f8",
          "bdata": "hetRuB4FJcD2KFyPwnUkwA=="
         },
         "legendgroup": "603",
         "lon": {
          "dtype": "f8",
          "bdata": "rkfhehQuKsDhehSuR2EqwA=="
         },
         "marker": {
          "color": "#565656"
         },
         "mode": "markers",
         "name": "603",
         "showlegend": true,
         "subplot": "map",
         "type": "scattermap"
        },
        {
         "customdata": [
          [
           12.71,
           "21:23:37.6",
           "2005/09/20",
           40.53
          ],
          [
           12.53,
           "14:57:26.5",
           "2005/09/21",
           40.47
          ],
          [
           12.7,
           "03:12:34.1",
           "2005/09/22",
           40.46
          ],
          [
           12.7,
           "13:58:44.4",
           "2005/09/22",
           40.55
          ],
          [
           12.42,
           "19:51:52.6",
           "2005/09/22",
           40.47
          ],
          [
           12.67,
           "05:15:33.9",
           "2005/09/24",
           40.52
          ],
          [
           12.57,
           "06:58:28.0",
           "2005/09/24",
           40.57
          ],
          [
           12.62,
           "07:36:08.5",
           "2005/09/24",
           40.54
          ],
          [
           12.54,
           "08:20:49.0",
           "2005/09/24",
           40.39
          ],
          [
           12.47,
           "19:24:02.7",
           "2005/09/24",
           40.63
          ],
          [
           12.45,
           "00:37:28.6",
           "2005/09/25",
           40.6
          ]
         ],
         "hovertemplate": "<b>%{hovertext}</b><br><br>Cluster=619<br>Lat=%{customdata[0]}<br>Lon=%{customdata[3]}<br>Time=%{customdata[1]}<br>Date=%{customdata[2]}<extra></extra>",
         "hovertext": {
          "dtype": "f8",
          "bdata": "AAAAAABYg0AAAAAAAFiDQAAAAAAAWINAAAAAAABYg0AAAAAAAFiDQAAAAAAAWINAAAAAAABYg0AAAAAAAFiDQAAAAAAAWINAAAAAAABYg0AAAAAAAFiDQA=="
         },
         "lat": {
          "dtype": "f8",
          "bdata": "7FG4HoVrKUCPwvUoXA8pQGZmZmZmZilAZmZmZmZmKUDXo3A9CtcoQNejcD0KVylApHA9CtcjKUA9CtejcD0pQBSuR+F6FClAcT0K16PwKEBmZmZmZuYoQA=="
         },
         "legendgroup": "619",
         "lon": {
          "dtype": "f8",
          "bdata": "pHA9CtdDREBcj8L1KDxEQHsUrkfhOkRAZmZmZmZGREBcj8L1KDxEQMP1KFyPQkRAKVyPwvVIRECF61G4HkVEQFK4HoXrMURAcT0K16NQREDNzMzMzExEQA=="
         },
         "marker": {
          "color": "#1C8356"
         },
         "mode": "markers",
         "name": "619",
         "showlegend": true,
         "subplot": "map",
         "type": "scattermap"
        },
        {
         "customdata": [
          [
           12.26,
           "01:10:58.7",
           "2005/09/25",
           40.51
          ],
          [
           12.44,
           "08:18:42.5",
           "2005/09/25",
           40.49
          ],
          [
           12.37,
           "10:02:12.7",
           "2005/09/25",
           40.51
          ],
          [
           12.42,
           "11:20:03.8",
           "2005/09/25",
           40.58
          ],
          [
           12.32,
           "13:28:33.3",
           "2005/09/26",
           40.46
          ],
          [
           12.47,
           "20:30:01.4",
           "2005/09/26",
           40.54
          ],
          [
           12.31,
           "21:25:01.7",
           "2005/09/26",
           40.58
          ],
          [
           12.44,
           "16:31:35.7",
           "2005/09/28",
           40.63
          ],
          [
           12.02,
           "23:24:41.9",
           "2005/10/02",
           40.54
          ]
         ],
         "hovertemplate": "<b>%{hovertext}</b><br><br>Cluster=620<br>Lat=%{customdata[0]}<br>Lon=%{customdata[3]}<br>Time=%{customdata[1]}<br>Date=%{customdata[2]}<extra></extra>",
         "hovertext": {
          "dtype": "f8",
          "bdata": "AAAAAABgg0AAAAAAAGCDQAAAAAAAYINAAAAAAABgg0AAAAAAAGCDQAAAAAAAYINAAAAAAABgg0AAAAAAAGCDQAAAAAAAYINA"
         },
         "lat": {
          "dtype": "f8",
          "bdata": "hetRuB6FKEDhehSuR+EoQD0K16NwvShA16NwPQrXKECkcD0K16MoQHE9Ctej8ChAH4XrUbieKEDhehSuR+EoQArXo3A9CihA"
         },
         "legendgroup": "620",
         "lon": {
          "dtype": "f8",
          "bdata": "4XoUrkdBREAfhetRuD5EQOF6FK5HQURACtejcD1KREB7FK5H4TpEQIXrUbgeRURACtejcD1KREBxPQrXo1BEQIXrUbgeRURA"
         },
         "marker": {
          "color": "#16FF32"
         },
         "mode": "markers",
         "name": "620",
         "showlegend": true,
         "subplot": "map",
         "type": "scattermap"
        },
        {
         "customdata": [
          [
           38.13,
           "05:45:16.0",
           "2005/10/17",
           26.5
          ],
          [
           38.2,
           "09:46:53.9",
           "2005/10/17",
           26.5
          ],
          [
           38.14,
           "09:55:30.0",
           "2005/10/17",
           26.61
          ],
          [
           38.15,
           "21:40:04.1",
           "2005/10/20",
           26.75
          ]
         ],
         "hovertemplate": "<b>%{hovertext}</b><br><br>Cluster=623<br>Lat=%{customdata[0]}<br>Lon=%{customdata[3]}<br>Time=%{customdata[1]}<br>Date=%{customdata[2]}<extra></extra>",
         "hovertext": {
          "dtype": "f8",
          "bdata": "AAAAAAB4g0AAAAAAAHiDQAAAAAAAeINAAAAAAAB4g0A="
         },
         "lat": {
          "dtype": "f8",
          "bdata": "cT0K16MQQ0CamZmZmRlDQFK4HoXrEUNAMzMzMzMTQ0A="
         },
         "legendgroup": "623",
         "lon": {
          "dtype": "f8",
          "bdata": "AAAAAACAOkAAAAAAAIA6QFyPwvUonDpAAAAAAADAOkA="
         },
         "marker": {
          "color": "#F7E1A0"
         },
         "mode": "markers",
         "name": "623",
         "showlegend": true,
         "subplot": "map",
         "type": "scattermap"
        },
        {
         "customdata": [
          [
           37.62,
           "15:26:00.3",
           "2005/10/18",
           20.92
          ],
          [
           37.58,
           "15:36:28.4",
           "2005/10/18",
           21.15
          ],
          [
           37.59,
           "00:49:42.8",
           "2006/04/03",
           20.95
          ],
          [
           37.64,
           "22:05:05.1",
           "2006/04/04",
           20.96
          ],
          [
           37.64,
           "00:02:41.5",
           "2006/04/11",
           20.92
          ],
          [
           37.68,
           "17:29:28.4",
           "2006/04/11",
           20.91
          ],
          [
           37.61,
           "16:52:01.2",
           "2006/04/12",
           20.95
          ],
          [
           37.64,
           "21:15:11.4",
           "2006/04/15",
           21.0
          ],
          [
           37.66,
           "15:16:24.6",
           "2006/04/19",
           20.93
          ]
         ],
         "hovertemplate": "<b>%{hovertext}</b><br><br>Cluster=624<br>Lat=%{customdata[0]}<br>Lon=%{customdata[3]}<br>Time=%{customdata[1]}<br>Date=%{customdata[2]}<extra></extra>",
         "hovertext": {
          "dtype": "f8",
          "bdata": "AAAAAACAg0AAAAAAAICDQAAAAAAAgINAAAAAAACAg0AAAAAAAICDQAAAAAAAgINAAAAAAACAg0AAAAAAAICDQAAAAAAAgINA"
         },
         "lat": {
          "dtype": "f8",
          "bdata": "j8L1KFzPQkAK16NwPcpCQOxRuB6Fy0JAUrgehevRQkBSuB6F69FCQNejcD0K10JArkfhehTOQkBSuB6F69FCQBSuR+F61EJA"
         },
         "legendgroup": "624",
         "lon": {
          "dtype": "f8",
          "bdata": "7FG4HoXrNEBmZmZmZiY1QDMzMzMz8zRA9ihcj8L1NEDsUbgehes0QClcj8L16DRAMzMzMzPzNEAAAAAAAAA1QK5H4XoU7jRA"
         },
         "marker": {
          "color": "#E2E2E2"
         },
         "mode": "markers",
         "name": "624",
         "showlegend": true,
         "subplot": "map",
         "type": "scattermap"
        },
        {
         "customdata": [
          [
           -6.22,
           "12:19:56.6",
           "2005/12/05",
           29.83
          ],
          [
           -6.08,
           "05:53:09.0",
           "2005/12/06",
           29.64
          ],
          [
           -6.28,
           "03:16:34.0",
           "2005/12/08",
           29.51
          ],
          [
           -6.55,
           "11:51:22.8",
           "2005/12/08",
           29.51
          ],
          [
           -6.18,
           "23:30:23.9",
           "2005/12/09",
           29.71
          ],
          [
           -6.1,
           "20:59:38.3",
           "2006/01/09",
           29.74
          ],
          [
           -6.27,
           "21:17:10.6",
           "2007/03/28",
           29.67
          ]
         ],
         "hovertemplate": "<b>%{hovertext}</b><br><br>Cluster=628<br>Lat=%{customdata[0]}<br>Lon=%{customdata[3]}<br>Time=%{customdata[1]}<br>Date=%{customdata[2]}<extra></extra>",
         "hovertext": {
          "dtype": "f8",
          "bdata": "AAAAAACgg0AAAAAAAKCDQAAAAAAAoINAAAAAAACgg0AAAAAAAKCDQAAAAAAAoINAAAAAAACgg0A="
         },
         "lat": {
          "dtype": "f8",
          "bdata": "4XoUrkfhGMBSuB6F61EYwB+F61G4HhnAMzMzMzMzGsC4HoXrUbgYwGZmZmZmZhjAFK5H4XoUGcA="
         },
         "legendgroup": "628",
         "lon": {
          "dtype": "f8",
          "bdata": "FK5H4XrUPUCkcD0K16M9QMP1KFyPgj1Aw/UoXI+CPUD2KFyPwrU9QD0K16NwvT1A7FG4HoWrPUA="
         },
         "marker": {
          "color": "#1CBE4F"
         },
         "mode": "markers",
         "name": "628",
         "showlegend": true,
         "subplot": "map",
         "type": "scattermap"
        },
        {
         "customdata": [
          [
           37.05,
           "16:40:44.3",
           "2006/01/09",
           -14.12
          ],
          [
           37.06,
           "01:09:34.2",
           "2006/01/10",
           -14.13
          ]
         ],
         "hovertemplate": "<b>%{hovertext}</b><br><br>Cluster=633<br>Lat=%{customdata[0]}<br>Lon=%{customdata[3]}<br>Time=%{customdata[1]}<br>Date=%{customdata[2]}<extra></extra>",
         "hovertext": {
          "dtype": "f8",
          "bdata": "AAAAAADIg0AAAAAAAMiDQA=="
         },
         "lat": {
          "dtype": "f8",
          "bdata": "ZmZmZmaGQkBI4XoUrodCQA=="
         },
         "legendgroup": "633",
         "lon": {
          "dtype": "f8",
          "bdata": "PQrXo3A9LMDD9Shcj0IswA=="
         },
         "marker": {
          "color": "#C4451C"
         },
         "mode": "markers",
         "name": "633",
         "showlegend": true,
         "subplot": "map",
         "type": "scattermap"
        },
        {
         "customdata": [
          [
           -21.32,
           "22:19:07.8",
           "2006/02/22",
           33.58
          ],
          [
           -21.37,
           "01:23:42.2",
           "2006/02/23",
           33.53
          ],
          [
           -21.31,
           "21:32:05.6",
           "2006/02/23",
           33.54
          ],
          [
           -21.19,
           "11:52:54.1",
           "2006/03/15",
           33.53
          ],
          [
           -21.14,
           "14:19:48.7",
           "2006/03/15",
           33.72
          ],
          [
           -21.72,
           "16:23:42.9",
           "2006/03/19",
           33.56
          ],
          [
           -21.34,
           "11:35:13.1",
           "2006/03/22",
           33.26
          ],
          [
           -21.24,
           "06:14:41.5",
           "2006/03/23",
           33.46
          ],
          [
           -21.41,
           "18:41:39.5",
           "2006/04/14",
           33.65
          ],
          [
           -21.29,
           "18:12:18.9",
           "2006/05/12",
           33.45
          ],
          [
           -21.35,
           "06:17:25.3",
           "2006/06/08",
           33.42
          ],
          [
           -21.11,
           "01:07:28.1",
           "2006/06/30",
           33.26
          ],
          [
           -21.1,
           "18:48:14.9",
           "2006/07/11",
           33.31
          ],
          [
           -21.27,
           "00:53:34.1",
           "2006/08/23",
           33.4
          ],
          [
           -21.13,
           "20:16:06.2",
           "2006/11/20",
           33.11
          ],
          [
           -21.17,
           "02:59:10.4",
           "2007/11/29",
           33.26
          ],
          [
           -21.32,
           "11:12:12.7",
           "2008/02/03",
           33.09
          ]
         ],
         "hovertemplate": "<b>%{hovertext}</b><br><br>Cluster=638<br>Lat=%{customdata[0]}<br>Lon=%{customdata[3]}<br>Time=%{customdata[1]}<br>Date=%{customdata[2]}<extra></extra>",
         "hovertext": {
          "dtype": "f8",
          "bdata": "AAAAAADwg0AAAAAAAPCDQAAAAAAA8INAAAAAAADwg0AAAAAAAPCDQAAAAAAA8INAAAAAAADwg0AAAAAAAPCDQAAAAAAA8INAAAAAAADwg0AAAAAAAPCDQAAAAAAA8INAAAAAAADwg0AAAAAAAPCDQAAAAAAA8INAAAAAAADwg0AAAAAAAPCDQA=="
         },
         "lat": {
          "dtype": "f8",
          "bdata": "UrgehetRNcAfhetRuF41wI/C9ShcTzXAcT0K16MwNcCkcD0K1yM1wLgehetRuDXA16NwPQpXNcA9CtejcD01wClcj8L1aDXACtejcD1KNcCamZmZmVk1wFyPwvUoHDXAmpmZmZkZNcCF61G4HkU1wOF6FK5HITXA7FG4HoUrNcBSuB6F61E1wA=="
         },
         "legendgroup": "638",
         "lon": {
          "dtype": "f8",
          "bdata": "CtejcD3KQECkcD0K18NAQIXrUbgexUBApHA9CtfDQEBcj8L1KNxAQEjhehSux0BA4XoUrkehQEB7FK5H4bpAQDMzMzMz00BAmpmZmZm5QED2KFyPwrVAQOF6FK5HoUBASOF6FK6nQEAzMzMzM7NAQK5H4XoUjkBA4XoUrkehQEDsUbgehYtAQA=="
         },
         "marker": {
          "color": "#DEA0FD"
         },
         "mode": "markers",
         "name": "638",
         "showlegend": true,
         "subplot": "map",
         "type": "scattermap"
        },
        {
         "customdata": [
          [
           33.56,
           "19:36:17.3",
           "2006/03/30",
           48.75
          ],
          [
           33.5,
           "01:17:01.0",
           "2006/03/31",
           48.78
          ],
          [
           33.72,
           "11:54:02.3",
           "2006/03/31",
           48.67
          ]
         ],
         "hovertemplate": "<b>%{hovertext}</b><br><br>Cluster=642<br>Lat=%{customdata[0]}<br>Lon=%{customdata[3]}<br>Time=%{customdata[1]}<br>Date=%{customdata[2]}<extra></extra>",
         "hovertext": {
          "dtype": "f8",
          "bdata": "AAAAAAAQhEAAAAAAABCEQAAAAAAAEIRA"
         },
         "lat": {
          "dtype": "f8",
          "bdata": "SOF6FK7HQEAAAAAAAMBAQFyPwvUo3EBA"
         },
         "legendgroup": "642",
         "lon": {
          "dtype": "f8",
          "bdata": "AAAAAABgSECkcD0K12NIQPYoXI/CVUhA"
         },
         "marker": {
          "color": "#FE00FA"
         },
         "mode": "markers",
         "name": "642",
         "showlegend": true,
         "subplot": "map",
         "type": "scattermap"
        },
        {
         "customdata": [
          [
           35.17,
           "23:27:19.8",
           "2006/04/09",
           27.24
          ],
          [
           35.24,
           "09:23:21.2",
           "2006/08/22",
           27.12
          ]
         ],
         "hovertemplate": "<b>%{hovertext}</b><br><br>Cluster=644<br>Lat=%{customdata[0]}<br>Lon=%{customdata[3]}<br>Time=%{customdata[1]}<br>Date=%{customdata[2]}<extra></extra>",
         "hovertext": {
          "dtype": "f8",
          "bdata": "AAAAAAAghEAAAAAAACCEQA=="
         },
         "lat": {
          "dtype": "f8",
          "bdata": "9ihcj8KVQUAfhetRuJ5BQA=="
         },
         "legendgroup": "644",
         "lon": {
          "dtype": "f8",
          "bdata": "PQrXo3A9O0AfhetRuB47QA=="
         },
         "marker": {
          "color": "#325A9B"
         },
         "mode": "markers",
         "name": "644",
         "showlegend": true,
         "subplot": "map",
         "type": "scattermap"
        },
        {
         "customdata": [
          [
           0.34,
           "04:18:28.1",
           "2006/04/27",
           30.08
          ],
          [
           0.34,
           "15:30:37.8",
           "2006/05/29",
           30.11
          ]
         ],
         "hovertemplate": "<b>%{hovertext}</b><br><br>Cluster=647<br>Lat=%{customdata[0]}<br>Lon=%{customdata[3]}<br>Time=%{customdata[1]}<br>Date=%{customdata[2]}<extra></extra>",
         "hovertext": {
          "dtype": "f8",
          "bdata": "AAAAAAA4hEAAAAAAADiEQA=="
         },
         "lat": {
          "dtype": "f8",
          "bdata": "w/UoXI/C1T/D9Shcj8LVPw=="
         },
         "legendgroup": "647",
         "lon": {
          "dtype": "f8",
          "bdata": "FK5H4XoUPkBcj8L1KBw+QA=="
         },
         "marker": {
          "color": "#FEAF16"
         },
         "mode": "markers",
         "name": "647",
         "showlegend": true,
         "subplot": "map",
         "type": "scattermap"
        },
        {
         "customdata": [
          [
           -17.72,
           "10:22:09.1",
           "2006/06/24",
           41.83
          ],
          [
           -17.69,
           "04:51:56.9",
           "2006/06/25",
           41.81
          ],
          [
           -17.69,
           "07:30:11.1",
           "2006/09/17",
           41.83
          ],
          [
           -17.71,
           "13:24:54.5",
           "2006/09/17",
           41.81
          ],
          [
           -17.74,
           "22:56:21.7",
           "2006/09/24",
           41.81
          ]
         ],
         "hovertemplate": "<b>%{hovertext}</b><br><br>Cluster=658<br>Lat=%{customdata[0]}<br>Lon=%{customdata[3]}<br>Time=%{customdata[1]}<br>Date=%{customdata[2]}<extra></extra>",
         "hovertext": {
          "dtype": "f8",
          "bdata": "AAAAAACQhEAAAAAAAJCEQAAAAAAAkIRAAAAAAACQhEAAAAAAAJCEQA=="
         },
         "lat": {
          "dtype": "f8",
          "bdata": "uB6F61G4McBxPQrXo7AxwHE9CtejsDHA9ihcj8K1McA9CtejcL0xwA=="
         },
         "legendgroup": "658",
         "lon": {
          "dtype": "f8",
          "bdata": "CtejcD3qREBI4XoUrudEQArXo3A96kRASOF6FK7nREBI4XoUrudEQA=="
         },
         "marker": {
          "color": "#F8A19F"
         },
         "mode": "markers",
         "name": "658",
         "showlegend": true,
         "subplot": "map",
         "type": "scattermap"
        },
        {
         "customdata": [
          [
           -17.75,
           "14:43:20.0",
           "2006/07/20",
           -13.25
          ],
          [
           -17.72,
           "19:47:42.5",
           "2006/07/22",
           -13.31
          ]
         ],
         "hovertemplate": "<b>%{hovertext}</b><br><br>Cluster=666<br>Lat=%{customdata[0]}<br>Lon=%{customdata[3]}<br>Time=%{customdata[1]}<br>Date=%{customdata[2]}<extra></extra>",
         "hovertext": {
          "dtype": "f8",
          "bdata": "AAAAAADQhEAAAAAAANCEQA=="
         },
         "lat": {
          "dtype": "f8",
          "bdata": "AAAAAADAMcC4HoXrUbgxwA=="
         },
         "legendgroup": "666",
         "lon": {
          "dtype": "f8",
          "bdata": "AAAAAACAKsAfhetRuJ4qwA=="
         },
         "marker": {
          "color": "#90AD1C"
         },
         "mode": "markers",
         "name": "666",
         "showlegend": true,
         "subplot": "map",
         "type": "scattermap"
        },
        {
         "customdata": [
          [
           -35.0,
           "14:27:44.0",
           "2006/09/04",
           -15.0
          ],
          [
           -35.13,
           "15:20:47.0",
           "2006/09/04",
           -15.14
          ]
         ],
         "hovertemplate": "<b>%{hovertext}</b><br><br>Cluster=671<br>Lat=%{customdata[0]}<br>Lon=%{customdata[3]}<br>Time=%{customdata[1]}<br>Date=%{customdata[2]}<extra></extra>",
         "hovertext": {
          "dtype": "f8",
          "bdata": "AAAAAAD4hEAAAAAAAPiEQA=="
         },
         "lat": {
          "dtype": "f8",
          "bdata": "AAAAAACAQcBxPQrXo5BBwA=="
         },
         "legendgroup": "671",
         "lon": {
          "dtype": "f8",
          "bdata": "AAAAAAAALsBI4XoUrkcuwA=="
         },
         "marker": {
          "color": "#F6222E"
         },
         "mode": "markers",
         "name": "671",
         "showlegend": true,
         "subplot": "map",
         "type": "scattermap"
        },
        {
         "customdata": [
          [
           -34.75,
           "22:46:08.0",
           "2006/09/22",
           -14.75
          ],
          [
           -35.0,
           "14:24:24.0",
           "2006/11/09",
           -15.0
          ]
         ],
         "hovertemplate": "<b>%{hovertext}</b><br><br>Cluster=672<br>Lat=%{customdata[0]}<br>Lon=%{customdata[3]}<br>Time=%{customdata[1]}<br>Date=%{customdata[2]}<extra></extra>",
         "hovertext": {
          "dtype": "f8",
          "bdata": "AAAAAAAAhUAAAAAAAACFQA=="
         },
         "lat": {
          "dtype": "f8",
          "bdata": "AAAAAABgQcAAAAAAAIBBwA=="
         },
         "legendgroup": "672",
         "lon": {
          "dtype": "f8",
          "bdata": "AAAAAACALcAAAAAAAAAuwA=="
         },
         "marker": {
          "color": "#1CFFCE"
         },
         "mode": "markers",
         "name": "672",
         "showlegend": true,
         "subplot": "map",
         "type": "scattermap"
        },
        {
         "customdata": [
          [
           38.67,
           "14:28:37.5",
           "2006/10/26",
           15.4
          ],
          [
           38.8,
           "23:55:32.0",
           "2007/07/04",
           15.2
          ]
         ],
         "hovertemplate": "<b>%{hovertext}</b><br><br>Cluster=675<br>Lat=%{customdata[0]}<br>Lon=%{customdata[3]}<br>Time=%{customdata[1]}<br>Date=%{customdata[2]}<extra></extra>",
         "hovertext": {
          "dtype": "f8",
          "bdata": "AAAAAAAYhUAAAAAAABiFQA=="
         },
         "lat": {
          "dtype": "f8",
          "bdata": "9ihcj8JVQ0BmZmZmZmZDQA=="
         },
         "legendgroup": "675",
         "lon": {
          "dtype": "f8",
          "bdata": "zczMzMzMLkBmZmZmZmYuQA=="
         },
         "marker": {
          "color": "#2ED9FF"
         },
         "mode": "markers",
         "name": "675",
         "showlegend": true,
         "subplot": "map",
         "type": "scattermap"
        },
        {
         "customdata": [
          [
           -27.75,
           "08:08:40.0",
           "2006/11/07",
           -13.25
          ],
          [
           -27.55,
           "08:33:59.7",
           "2006/11/07",
           -13.36
          ]
         ],
         "hovertemplate": "<b>%{hovertext}</b><br><br>Cluster=677<br>Lat=%{customdata[0]}<br>Lon=%{customdata[3]}<br>Time=%{customdata[1]}<br>Date=%{customdata[2]}<extra></extra>",
         "hovertext": {
          "dtype": "f8",
          "bdata": "AAAAAAAohUAAAAAAACiFQA=="
         },
         "lat": {
          "dtype": "f8",
          "bdata": "AAAAAADAO8DNzMzMzIw7wA=="
         },
         "legendgroup": "677",
         "lon": {
          "dtype": "f8",
          "bdata": "AAAAAACAKsC4HoXrUbgqwA=="
         },
         "marker": {
          "color": "#B10DA1"
         },
         "mode": "markers",
         "name": "677",
         "showlegend": true,
         "subplot": "map",
         "type": "scattermap"
        },
        {
         "customdata": [
          [
           -12.51,
           "08:53:57.8",
           "2006/11/13",
           -14.77
          ],
          [
           -12.72,
           "23:42:40.8",
           "2006/11/17",
           -14.69
          ]
         ],
         "hovertemplate": "<b>%{hovertext}</b><br><br>Cluster=678<br>Lat=%{customdata[0]}<br>Lon=%{customdata[3]}<br>Time=%{customdata[1]}<br>Date=%{customdata[2]}<extra></extra>",
         "hovertext": {
          "dtype": "f8",
          "bdata": "AAAAAAAwhUAAAAAAADCFQA=="
         },
         "lat": {
          "dtype": "f8",
          "bdata": "hetRuB4FKcBxPQrXo3ApwA=="
         },
         "legendgroup": "678",
         "lon": {
          "dtype": "f8",
          "bdata": "CtejcD2KLcDhehSuR2EtwA=="
         },
         "marker": {
          "color": "#C075A6"
         },
         "mode": "markers",
         "name": "678",
         "showlegend": true,
         "subplot": "map",
         "type": "scattermap"
        },
        {
         "customdata": [
          [
           38.39,
           "02:22:55.0",
           "2007/02/09",
           39.04
          ],
          [
           38.32,
           "11:05:29.2",
           "2007/02/21",
           39.27
          ]
         ],
         "hovertemplate": "<b>%{hovertext}</b><br><br>Cluster=687<br>Lat=%{customdata[0]}<br>Lon=%{customdata[3]}<br>Time=%{customdata[1]}<br>Date=%{customdata[2]}<extra></extra>",
         "hovertext": {
          "dtype": "f8",
          "bdata": "AAAAAAB4hUAAAAAAAHiFQA=="
         },
         "lat": {
          "dtype": "f8",
          "bdata": "UrgehesxQ0ApXI/C9ShDQA=="
         },
         "legendgroup": "687",
         "lon": {
          "dtype": "f8",
          "bdata": "hetRuB6FQ0DD9Shcj6JDQA=="
         },
         "marker": {
          "color": "#FC1CBF"
         },
         "mode": "markers",
         "name": "687",
         "showlegend": true,
         "subplot": "map",
         "type": "scattermap"
        },
        {
         "customdata": [
          [
           1.76,
           "02:33:44.4",
           "2007/02/19",
           30.75
          ],
          [
           1.72,
           "18:49:53.4",
           "2007/06/15",
           30.83
          ]
         ],
         "hovertemplate": "<b>%{hovertext}</b><br><br>Cluster=689<br>Lat=%{customdata[0]}<br>Lon=%{customdata[3]}<br>Time=%{customdata[1]}<br>Date=%{customdata[2]}<extra></extra>",
         "hovertext": {
          "dtype": "f8",
          "bdata": "AAAAAACIhUAAAAAAAIiFQA=="
         },
         "lat": {
          "dtype": "f8",
          "bdata": "KVyPwvUo/D+F61G4HoX7Pw=="
         },
         "legendgroup": "689",
         "lon": {
          "dtype": "f8",
          "bdata": "AAAAAADAPkAUrkfhetQ+QA=="
         },
         "marker": {
          "color": "#B00068"
         },
         "mode": "markers",
         "name": "689",
         "showlegend": true,
         "subplot": "map",
         "type": "scattermap"
        },
        {
         "customdata": [
          [
           37.99,
           "19:23:56.1",
           "2007/03/30",
           30.92
          ],
          [
           38.01,
           "22:00:34.2",
           "2007/04/10",
           30.92
          ]
         ],
         "hovertemplate": "<b>%{hovertext}</b><br><br>Cluster=693<br>Lat=%{customdata[0]}<br>Lon=%{customdata[3]}<br>Time=%{customdata[1]}<br>Date=%{customdata[2]}<extra></extra>",
         "hovertext": {
          "dtype": "f8",
          "bdata": "AAAAAACohUAAAAAAAKiFQA=="
         },
         "lat": {
          "dtype": "f8",
          "bdata": "H4XrUbj+QkDhehSuRwFDQA=="
         },
         "legendgroup": "693",
         "lon": {
          "dtype": "f8",
          "bdata": "7FG4HoXrPkDsUbgehes+QA=="
         },
         "marker": {
          "color": "#FBE426"
         },
         "mode": "markers",
         "name": "693",
         "showlegend": true,
         "subplot": "map",
         "type": "scattermap"
        },
        {
         "customdata": [
          [
           -3.42,
           "15:25:56.2",
           "2007/04/01",
           -11.96
          ],
          [
           -3.52,
           "14:18:24.6",
           "2007/08/16",
           -12.15
          ],
          [
           -3.59,
           "14:44:04.0",
           "2007/08/16",
           -11.8
          ],
          [
           -3.55,
           "16:27:40.9",
           "2007/08/17",
           -12.1
          ]
         ],
         "hovertemplate": "<b>%{hovertext}</b><br><br>Cluster=694<br>Lat=%{customdata[0]}<br>Lon=%{customdata[3]}<br>Time=%{customdata[1]}<br>Date=%{customdata[2]}<extra></extra>",
         "hovertext": {
          "dtype": "f8",
          "bdata": "AAAAAACwhUAAAAAAALCFQAAAAAAAsIVAAAAAAACwhUA="
         },
         "lat": {
          "dtype": "f8",
          "bdata": "XI/C9ShcC8ApXI/C9SgMwLgehetRuAzAZmZmZmZmDMA="
         },
         "legendgroup": "694",
         "lon": {
          "dtype": "f8",
          "bdata": "7FG4HoXrJ8DNzMzMzEwowJqZmZmZmSfAMzMzMzMzKMA="
         },
         "marker": {
          "color": "#FA0087"
         },
         "mode": "markers",
         "name": "694",
         "showlegend": true,
         "subplot": "map",
         "type": "scattermap"
        },
        {
         "customdata": [
          [
           38.55,
           "03:17:56.3",
           "2007/04/10",
           21.64
          ],
          [
           38.53,
           "07:15:41.6",
           "2007/04/10",
           21.54
          ],
          [
           38.55,
           "10:41:00.2",
           "2007/04/10",
           21.64
          ]
         ],
         "hovertemplate": "<b>%{hovertext}</b><br><br>Cluster=697<br>Lat=%{customdata[0]}<br>Lon=%{customdata[3]}<br>Time=%{customdata[1]}<br>Date=%{customdata[2]}<extra></extra>",
         "hovertext": {
          "dtype": "f8",
          "bdata": "AAAAAADIhUAAAAAAAMiFQAAAAAAAyIVA"
         },
         "lat": {
          "dtype": "f8",
          "bdata": "ZmZmZmZGQ0CkcD0K10NDQGZmZmZmRkNA"
         },
         "legendgroup": "697",
         "lon": {
          "dtype": "f8",
          "bdata": "pHA9CtejNUAK16NwPYo1QKRwPQrXozVA"
         },
         "marker": {
          "color": "#AA0DFE"
         },
         "mode": "markers",
         "name": "697",
         "showlegend": true,
         "subplot": "map",
         "type": "scattermap"
        },
        {
         "customdata": [
          [
           -2.93,
           "11:24:21.4",
           "2007/07/15",
           36.24
          ],
          [
           -2.88,
           "20:42:11.5",
           "2007/07/15",
           36.16
          ],
          [
           -2.73,
           "14:10:42.5",
           "2007/07/17",
           36.36
          ],
          [
           -2.78,
           "18:27:51.4",
           "2007/07/17",
           36.19
          ],
          [
           -2.77,
           "17:25:52.3",
           "2007/07/18",
           36.09
          ],
          [
           -2.68,
           "18:54:37.2",
           "2007/07/26",
           36.01
          ],
          [
           -2.83,
           "07:44:02.0",
           "2007/08/18",
           36.21
          ],
          [
           -2.71,
           "02:56:48.0",
           "2007/08/20",
           36.29
          ],
          [
           -2.64,
           "14:15:33.0",
           "2007/09/08",
           36.11
          ],
          [
           -2.78,
           "13:45:27.4",
           "2007/12/23",
           36.2
          ]
         ],
         "hovertemplate": "<b>%{hovertext}</b><br><br>Cluster=708<br>Lat=%{customdata[0]}<br>Lon=%{customdata[3]}<br>Time=%{customdata[1]}<br>Date=%{customdata[2]}<extra></extra>",
         "hovertext": {
          "dtype": "f8",
          "bdata": "AAAAAAAghkAAAAAAACCGQAAAAAAAIIZAAAAAAAAghkAAAAAAACCGQAAAAAAAIIZAAAAAAAAghkAAAAAAACCGQAAAAAAAIIZAAAAAAAAghkA="
         },
         "lat": {
          "dtype": "f8",
          "bdata": "cT0K16NwB8AK16NwPQoHwNejcD0K1wXAPQrXo3A9BsApXI/C9SgGwHE9CtejcAXApHA9CtejBsCuR+F6FK4FwB+F61G4HgXAPQrXo3A9BsA="
         },
         "legendgroup": "708",
         "lon": {
          "dtype": "f8",
          "bdata": "H4XrUbgeQkAUrkfhehRCQK5H4XoULkJAuB6F61EYQkDsUbgehQtCQOF6FK5HAUJAexSuR+EaQkCF61G4HiVCQK5H4XoUDkJAmpmZmZkZQkA="
         },
         "marker": {
          "color": "#3283FE"
         },
         "mode": "markers",
         "name": "708",
         "showlegend": true,
         "subplot": "map",
         "type": "scattermap"
        },
        {
         "customdata": [
          [
           -5.55,
           "06:32:54.5",
           "2007/08/11",
           -11.55
          ],
          [
           -5.59,
           "08:01:27.5",
           "2007/08/12",
           -11.48
          ]
         ],
         "hovertemplate": "<b>%{hovertext}</b><br><br>Cluster=710<br>Lat=%{customdata[0]}<br>Lon=%{customdata[3]}<br>Time=%{customdata[1]}<br>Date=%{customdata[2]}<extra></extra>",
         "hovertext": {
          "dtype": "f8",
          "bdata": "AAAAAAAwhkAAAAAAADCGQA=="
         },
         "lat": {
          "dtype": "f8",
          "bdata": "MzMzMzMzFsBcj8L1KFwWwA=="
         },
         "legendgroup": "710",
         "lon": {
          "dtype": "f8",
          "bdata": "mpmZmZkZJ8D2KFyPwvUmwA=="
         },
         "marker": {
          "color": "#85660D"
         },
         "mode": "markers",
         "name": "710",
         "showlegend": true,
         "subplot": "map",
         "type": "scattermap"
        },
        {
         "customdata": [
          [
           -31.07,
           "20:22:13.7",
           "2007/08/13",
           -13.4
          ],
          [
           -30.99,
           "22:23:04.5",
           "2007/08/13",
           -13.41
          ]
         ],
         "hovertemplate": "<b>%{hovertext}</b><br><br>Cluster=711<br>Lat=%{customdata[0]}<br>Lon=%{customdata[3]}<br>Time=%{customdata[1]}<br>Date=%{customdata[2]}<extra></extra>",
         "hovertext": {
          "dtype": "f8",
          "bdata": "AAAAAAA4hkAAAAAAADiGQA=="
         },
         "lat": {
          "dtype": "f8",
          "bdata": "UrgehesRP8A9CtejcP0+wA=="
         },
         "legendgroup": "711",
         "lon": {
          "dtype": "f8",
          "bdata": "zczMzMzMKsBSuB6F69EqwA=="
         },
         "marker": {
          "color": "#782AB6"
         },
         "mode": "markers",
         "name": "711",
         "showlegend": true,
         "subplot": "map",
         "type": "scattermap"
        },
        {
         "customdata": [
          [
           37.72,
           "05:29:39.0",
           "2007/10/27",
           21.3
          ],
          [
           37.96,
           "12:25:29.7",
           "2008/06/08",
           21.52
          ]
         ],
         "hovertemplate": "<b>%{hovertext}</b><br><br>Cluster=721<br>Lat=%{customdata[0]}<br>Lon=%{customdata[3]}<br>Time=%{customdata[1]}<br>Date=%{customdata[2]}<extra></extra>",
         "hovertext": {
          "dtype": "f8",
          "bdata": "AAAAAACIhkAAAAAAAIiGQA=="
         },
         "lat": {
          "dtype": "f8",
          "bdata": "XI/C9SjcQkB7FK5H4fpCQA=="
         },
         "legendgroup": "721",
         "lon": {
          "dtype": "f8",
          "bdata": "zczMzMxMNUCF61G4HoU1QA=="
         },
         "marker": {
          "color": "#565656"
         },
         "mode": "markers",
         "name": "721",
         "showlegend": true,
         "subplot": "map",
         "type": "scattermap"
        },
        {
         "customdata": [
          [
           37.03,
           "09:23:14.0",
           "2007/10/29",
           29.23
          ],
          [
           37.02,
           "09:08:23.0",
           "2007/11/16",
           29.26
          ]
         ],
         "hovertemplate": "<b>%{hovertext}</b><br><br>Cluster=722<br>Lat=%{customdata[0]}<br>Lon=%{customdata[3]}<br>Time=%{customdata[1]}<br>Date=%{customdata[2]}<extra></extra>",
         "hovertext": {
          "dtype": "f8",
          "bdata": "AAAAAACQhkAAAAAAAJCGQA=="
         },
         "lat": {
          "dtype": "f8",
          "bdata": "pHA9CteDQkDD9Shcj4JCQA=="
         },
         "legendgroup": "722",
         "lon": {
          "dtype": "f8",
          "bdata": "exSuR+E6PUDD9Shcj0I9QA=="
         },
         "marker": {
          "color": "#1C8356"
         },
         "mode": "markers",
         "name": "722",
         "showlegend": true,
         "subplot": "map",
         "type": "scattermap"
        },
        {
         "customdata": [
          [
           38.73,
           "01:43:04.2",
           "2007/11/09",
           25.72
          ],
          [
           38.74,
           "07:11:55.8",
           "2007/11/09",
           25.71
          ]
         ],
         "hovertemplate": "<b>%{hovertext}</b><br><br>Cluster=723<br>Lat=%{customdata[0]}<br>Lon=%{customdata[3]}<br>Time=%{customdata[1]}<br>Date=%{customdata[2]}<extra></extra>",
         "hovertext": {
          "dtype": "f8",
          "bdata": "AAAAAACYhkAAAAAAAJiGQA=="
         },
         "lat": {
          "dtype": "f8",
          "bdata": "PQrXo3BdQ0AfhetRuF5DQA=="
         },
         "legendgroup": "723",
         "lon": {
          "dtype": "f8",
          "bdata": "uB6F61G4OUD2KFyPwrU5QA=="
         },
         "marker": {
          "color": "#16FF32"
         },
         "mode": "markers",
         "name": "723",
         "showlegend": true,
         "subplot": "map",
         "type": "scattermap"
        },
        {
         "customdata": [
          [
           -1.19,
           "08:42:19.8",
           "2007/11/17",
           -13.16
          ],
          [
           -1.36,
           "10:13:49.7",
           "2007/11/27",
           -13.29
          ],
          [
           -0.89,
           "02:52:18.6",
           "2008/02/14",
           -13.15
          ]
         ],
         "hovertemplate": "<b>%{hovertext}</b><br><br>Cluster=724<br>Lat=%{customdata[0]}<br>Lon=%{customdata[3]}<br>Time=%{customdata[1]}<br>Date=%{customdata[2]}<extra></extra>",
         "hovertext": {
          "dtype": "f8",
          "bdata": "AAAAAACghkAAAAAAAKCGQAAAAAAAoIZA"
         },
         "lat": {
          "dtype": "f8",
          "bdata": "CtejcD0K87/D9Shcj8L1v3sUrkfheuy/"
         },
         "legendgroup": "724",
         "lon": {
          "dtype": "f8",
          "bdata": "UrgehetRKsAUrkfhepQqwM3MzMzMTCrA"
         },
         "marker": {
          "color": "#F7E1A0"
         },
         "mode": "markers",
         "name": "724",
         "showlegend": true,
         "subplot": "map",
         "type": "scattermap"
        },
        {
         "customdata": [
          [
           39.42,
           "09:48:30.0",
           "2007/12/20",
           33.21
          ],
          [
           39.45,
           "23:47:10.8",
           "2007/12/26",
           33.16
          ]
         ],
         "hovertemplate": "<b>%{hovertext}</b><br><br>Cluster=728<br>Lat=%{customdata[0]}<br>Lon=%{customdata[3]}<br>Time=%{customdata[1]}<br>Date=%{customdata[2]}<extra></extra>",
         "hovertext": {
          "dtype": "f8",
          "bdata": "AAAAAADAhkAAAAAAAMCGQA=="
         },
         "lat": {
          "dtype": "f8",
          "bdata": "9ihcj8K1Q0CamZmZmblDQA=="
         },
         "legendgroup": "728",
         "lon": {
          "dtype": "f8",
          "bdata": "exSuR+GaQEAUrkfhepRAQA=="
         },
         "marker": {
          "color": "#E2E2E2"
         },
         "mode": "markers",
         "name": "728",
         "showlegend": true,
         "subplot": "map",
         "type": "scattermap"
        },
        {
         "customdata": [
          [
           37.22,
           "05:14:20.2",
           "2008/01/06",
           22.69
          ],
          [
           37.67,
           "01:58:42.9",
           "2008/06/18",
           22.78
          ]
         ],
         "hovertemplate": "<b>%{hovertext}</b><br><br>Cluster=731<br>Lat=%{customdata[0]}<br>Lon=%{customdata[3]}<br>Time=%{customdata[1]}<br>Date=%{customdata[2]}<extra></extra>",
         "hovertext": {
          "dtype": "f8",
          "bdata": "AAAAAADYhkAAAAAAANiGQA=="
         },
         "lat": {
          "dtype": "f8",
          "bdata": "XI/C9SicQkD2KFyPwtVCQA=="
         },
         "legendgroup": "731",
         "lon": {
          "dtype": "f8",
          "bdata": "cT0K16OwNkBI4XoUrsc2QA=="
         },
         "marker": {
          "color": "#1CBE4F"
         },
         "mode": "markers",
         "name": "731",
         "showlegend": true,
         "subplot": "map",
         "type": "scattermap"
        },
        {
         "customdata": [
          [
           -10.53,
           "02:49:12.0",
           "2008/01/21",
           41.56
          ],
          [
           -10.57,
           "15:28:35.4",
           "2008/01/21",
           41.57
          ]
         ],
         "hovertemplate": "<b>%{hovertext}</b><br><br>Cluster=732<br>Lat=%{customdata[0]}<br>Lon=%{customdata[3]}<br>Time=%{customdata[1]}<br>Date=%{customdata[2]}<extra></extra>",
         "hovertext": {
          "dtype": "f8",
          "bdata": "AAAAAADghkAAAAAAAOCGQA=="
         },
         "lat": {
          "dtype": "f8",
          "bdata": "j8L1KFwPJcCkcD0K1yMlwA=="
         },
         "legendgroup": "732",
         "lon": {
          "dtype": "f8",
          "bdata": "SOF6FK7HREApXI/C9chEQA=="
         },
         "marker": {
          "color": "#C4451C"
         },
         "mode": "markers",
         "name": "732",
         "showlegend": true,
         "subplot": "map",
         "type": "scattermap"
        },
        {
         "customdata": [
          [
           -2.3,
           "07:34:12.2",
           "2008/02/03",
           28.9
          ],
          [
           -2.4,
           "10:56:09.7",
           "2008/02/03",
           28.97
          ],
          [
           -2.4,
           "02:07:46.8",
           "2008/02/14",
           28.92
          ]
         ],
         "hovertemplate": "<b>%{hovertext}</b><br><br>Cluster=733<br>Lat=%{customdata[0]}<br>Lon=%{customdata[3]}<br>Time=%{customdata[1]}<br>Date=%{customdata[2]}<extra></extra>",
         "hovertext": {
          "dtype": "f8",
          "bdata": "AAAAAADohkAAAAAAAOiGQAAAAAAA6IZA"
         },
         "lat": {
          "dtype": "f8",
          "bdata": "ZmZmZmZmAsAzMzMzMzMDwDMzMzMzMwPA"
         },
         "legendgroup": "733",
         "lon": {
          "dtype": "f8",
          "bdata": "ZmZmZmbmPEC4HoXrUfg8QOxRuB6F6zxA"
         },
         "marker": {
          "color": "#DEA0FD"
         },
         "mode": "markers",
         "name": "733",
         "showlegend": true,
         "subplot": "map",
         "type": "scattermap"
        },
        {
         "customdata": [
          [
           36.5,
           "10:09:22.7",
           "2008/02/14",
           21.67
          ],
          [
           36.35,
           "12:08:55.8",
           "2008/02/14",
           21.86
          ],
          [
           36.19,
           "23:15:40.0",
           "2008/02/19",
           21.77
          ],
          [
           36.29,
           "18:27:06.0",
           "2008/02/20",
           21.77
          ],
          [
           35.91,
           "10:46:07.3",
           "2008/02/26",
           21.87
          ],
          [
           36.09,
           "16:10:40.0",
           "2008/02/26",
           21.89
          ],
          [
           36.06,
           "13:25:24.4",
           "2008/03/04",
           21.81
          ],
          [
           36.14,
           "20:28:24.2",
           "2008/03/07",
           21.76
          ],
          [
           36.01,
           "07:10:21.6",
           "2008/03/14",
           21.76
          ],
          [
           36.15,
           "20:11:11.9",
           "2008/03/23",
           21.86
          ],
          [
           36.11,
           "12:26:22.6",
           "2008/05/08",
           21.95
          ],
          [
           36.3,
           "20:53:04.2",
           "2008/05/10",
           22.24
          ],
          [
           36.1,
           "05:57:16.2",
           "2008/06/21",
           21.93
          ],
          [
           36.06,
           "11:36:23.9",
           "2008/06/21",
           21.82
          ],
          [
           35.99,
           "13:43:29.0",
           "2008/06/21",
           21.7
          ],
          [
           36.17,
           "00:40:10.9",
           "2008/06/22",
           21.98
          ],
          [
           36.4,
           "04:47:37.3",
           "2009/05/23",
           21.7
          ],
          [
           36.09,
           "15:09:16.7",
           "2009/11/26",
           21.4
          ]
         ],
         "hovertemplate": "<b>%{hovertext}</b><br><br>Cluster=735<br>Lat=%{customdata[0]}<br>Lon=%{customdata[3]}<br>Time=%{customdata[1]}<br>Date=%{customdata[2]}<extra></extra>",
         "hovertext": {
          "dtype": "f8",
          "bdata": "AAAAAAD4hkAAAAAAAPiGQAAAAAAA+IZAAAAAAAD4hkAAAAAAAPiGQAAAAAAA+IZAAAAAAAD4hkAAAAAAAPiGQAAAAAAA+IZAAAAAAAD4hkAAAAAAAPiGQAAAAAAA+IZAAAAAAAD4hkAAAAAAAPiGQAAAAAAA+IZAAAAAAAD4hkAAAAAAAPiGQAAAAAAA+IZA"
         },
         "lat": {
          "dtype": "f8",
          "bdata": "AAAAAABAQkDNzMzMzCxCQLgehetRGEJAhetRuB4lQkAUrkfhevRBQOxRuB6FC0JASOF6FK4HQkBSuB6F6xFCQOF6FK5HAUJAMzMzMzMTQkCuR+F6FA5CQGZmZmZmJkJAzczMzMwMQkBI4XoUrgdCQB+F61G4/kFA9ihcj8IVQkAzMzMzMzNCQOxRuB6FC0JA"
         },
         "legendgroup": "735",
         "lon": {
          "dtype": "f8",
          "bdata": "7FG4HoWrNUBcj8L1KNw1QIXrUbgexTVAhetRuB7FNUAfhetRuN41QKRwPQrX4zVAj8L1KFzPNUDD9Shcj8I1QMP1KFyPwjVAXI/C9SjcNUAzMzMzM/M1QD0K16NwPTZArkfhehTuNUBSuB6F69E1QDMzMzMzszVAexSuR+H6NUAzMzMzM7M1QGZmZmZmZjVA"
         },
         "marker": {
          "color": "#FE00FA"
         },
         "mode": "markers",
         "name": "735",
         "showlegend": true,
         "subplot": "map",
         "type": "scattermap"
        },
        {
         "customdata": [
          [
           11.68,
           "00:06:59.2",
           "2008/04/29",
           42.99
          ],
          [
           11.72,
           "01:07:31.0",
           "2008/04/29",
           42.81
          ]
         ],
         "hovertemplate": "<b>%{hovertext}</b><br><br>Cluster=748<br>Lat=%{customdata[0]}<br>Lon=%{customdata[3]}<br>Time=%{customdata[1]}<br>Date=%{customdata[2]}<extra></extra>",
         "hovertext": {
          "dtype": "f8",
          "bdata": "AAAAAABgh0AAAAAAAGCHQA=="
         },
         "lat": {
          "dtype": "f8",
          "bdata": "XI/C9ShcJ0BxPQrXo3AnQA=="
         },
         "legendgroup": "748",
         "lon": {
          "dtype": "f8",
          "bdata": "H4XrUbh+RUBI4XoUrmdFQA=="
         },
         "marker": {
          "color": "#325A9B"
         },
         "mode": "markers",
         "name": "748",
         "showlegend": true,
         "subplot": "map",
         "type": "scattermap"
        },
        {
         "customdata": [
          [
           35.8,
           "03:26:34.7",
           "2008/07/15",
           27.86
          ],
          [
           35.87,
           "23:52:37.8",
           "2008/07/15",
           27.9
          ],
          [
           35.26,
           "20:16:04.1",
           "2010/01/17",
           27.86
          ]
         ],
         "hovertemplate": "<b>%{hovertext}</b><br><br>Cluster=755<br>Lat=%{customdata[0]}<br>Lon=%{customdata[3]}<br>Time=%{customdata[1]}<br>Date=%{customdata[2]}<extra></extra>",
         "hovertext": {
          "dtype": "f8",
          "bdata": "AAAAAACYh0AAAAAAAJiHQAAAAAAAmIdA"
         },
         "lat": {
          "dtype": "f8",
          "bdata": "ZmZmZmbmQUCPwvUoXO9BQOF6FK5HoUFA"
         },
         "legendgroup": "755",
         "lon": {
          "dtype": "f8",
          "bdata": "XI/C9SjcO0BmZmZmZuY7QFyPwvUo3DtA"
         },
         "marker": {
          "color": "#FEAF16"
         },
         "mode": "markers",
         "name": "755",
         "showlegend": true,
         "subplot": "map",
         "type": "scattermap"
        },
        {
         "customdata": [
          [
           -8.2,
           "08:33:55.2",
           "2008/08/19",
           -13.45
          ],
          [
           -8.25,
           "22:13:52.0",
           "2009/03/05",
           -13.75
          ]
         ],
         "hovertemplate": "<b>%{hovertext}</b><br><br>Cluster=760<br>Lat=%{customdata[0]}<br>Lon=%{customdata[3]}<br>Time=%{customdata[1]}<br>Date=%{customdata[2]}<extra></extra>",
         "hovertext": {
          "dtype": "f8",
          "bdata": "AAAAAADAh0AAAAAAAMCHQA=="
         },
         "lat": {
          "dtype": "f8",
          "bdata": "ZmZmZmZmIMAAAAAAAIAgwA=="
         },
         "legendgroup": "760",
         "lon": {
          "dtype": "f8",
          "bdata": "ZmZmZmbmKsAAAAAAAIArwA=="
         },
         "marker": {
          "color": "#F8A19F"
         },
         "mode": "markers",
         "name": "760",
         "showlegend": true,
         "subplot": "map",
         "type": "scattermap"
        },
        {
         "customdata": [
          [
           32.31,
           "21:52:38.1",
           "2008/08/27",
           47.35
          ],
          [
           32.3,
           "22:43:13.0",
           "2008/09/03",
           47.2
          ]
         ],
         "hovertemplate": "<b>%{hovertext}</b><br><br>Cluster=762<br>Lat=%{customdata[0]}<br>Lon=%{customdata[3]}<br>Time=%{customdata[1]}<br>Date=%{customdata[2]}<extra></extra>",
         "hovertext": {
          "dtype": "f8",
          "bdata": "AAAAAADQh0AAAAAAANCHQA=="
         },
         "lat": {
          "dtype": "f8",
          "bdata": "SOF6FK4nQEBmZmZmZiZAQA=="
         },
         "legendgroup": "762",
         "lon": {
          "dtype": "f8",
          "bdata": "zczMzMysR0CamZmZmZlHQA=="
         },
         "marker": {
          "color": "#90AD1C"
         },
         "mode": "markers",
         "name": "762",
         "showlegend": true,
         "subplot": "map",
         "type": "scattermap"
        },
        {
         "customdata": [
          [
           -1.17,
           "19:07:38.3",
           "2008/09/05",
           -13.95
          ],
          [
           -1.23,
           "18:49:42.4",
           "2008/11/22",
           -13.93
          ]
         ],
         "hovertemplate": "<b>%{hovertext}</b><br><br>Cluster=765<br>Lat=%{customdata[0]}<br>Lon=%{customdata[3]}<br>Time=%{customdata[1]}<br>Date=%{customdata[2]}<extra></extra>",
         "hovertext": {
          "dtype": "f8",
          "bdata": "AAAAAADoh0AAAAAAAOiHQA=="
         },
         "lat": {
          "dtype": "f8",
          "bdata": "uB6F61G48r+uR+F6FK7zvw=="
         },
         "legendgroup": "765",
         "lon": {
          "dtype": "f8",
          "bdata": "ZmZmZmbmK8Bcj8L1KNwrwA=="
         },
         "marker": {
          "color": "#F6222E"
         },
         "mode": "markers",
         "name": "765",
         "showlegend": true,
         "subplot": "map",
         "type": "scattermap"
        },
        {
         "customdata": [
          [
           12.39,
           "09:40:41.3",
           "2008/10/17",
           40.61
          ],
          [
           12.34,
           "10:57:15.7",
           "2008/10/17",
           40.65
          ]
         ],
         "hovertemplate": "<b>%{hovertext}</b><br><br>Cluster=774<br>Lat=%{customdata[0]}<br>Lon=%{customdata[3]}<br>Time=%{customdata[1]}<br>Date=%{customdata[2]}<extra></extra>",
         "hovertext": {
          "dtype": "f8",
          "bdata": "AAAAAAAwiEAAAAAAADCIQA=="
         },
         "lat": {
          "dtype": "f8",
          "bdata": "SOF6FK7HKECuR+F6FK4oQA=="
         },
         "legendgroup": "774",
         "lon": {
          "dtype": "f8",
          "bdata": "rkfhehROREAzMzMzM1NEQA=="
         },
         "marker": {
          "color": "#1CFFCE"
         },
         "mode": "markers",
         "name": "774",
         "showlegend": true,
         "subplot": "map",
         "type": "scattermap"
        },
        {
         "customdata": [
          [
           -31.19,
           "21:05:16.2",
           "2008/12/20",
           -13.34
          ],
          [
           -31.12,
           "22:13:48.1",
           "2008/12/20",
           -13.42
          ]
         ],
         "hovertemplate": "<b>%{hovertext}</b><br><br>Cluster=782<br>Lat=%{customdata[0]}<br>Lon=%{customdata[3]}<br>Time=%{customdata[1]}<br>Date=%{customdata[2]}<extra></extra>",
         "hovertext": {
          "dtype": "f8",
          "bdata": "AAAAAABwiEAAAAAAAHCIQA=="
         },
         "lat": {
          "dtype": "f8",
          "bdata": "cT0K16MwP8AfhetRuB4/wA=="
         },
         "legendgroup": "782",
         "lon": {
          "dtype": "f8",
          "bdata": "rkfhehSuKsDXo3A9CtcqwA=="
         },
         "marker": {
          "color": "#2ED9FF"
         },
         "mode": "markers",
         "name": "782",
         "showlegend": true,
         "subplot": "map",
         "type": "scattermap"
        },
        {
         "customdata": [
          [
           -38.75,
           "09:11:44.0",
           "2009/01/19",
           -15.75
          ],
          [
           -38.79,
           "09:19:06.9",
           "2009/01/19",
           -15.88
          ],
          [
           -38.96,
           "10:27:12.4",
           "2009/01/19",
           -15.7
          ]
         ],
         "hovertemplate": "<b>%{hovertext}</b><br><br>Cluster=786<br>Lat=%{customdata[0]}<br>Lon=%{customdata[3]}<br>Time=%{customdata[1]}<br>Date=%{customdata[2]}<extra></extra>",
         "hovertext": {
          "dtype": "f8",
          "bdata": "AAAAAACQiEAAAAAAAJCIQAAAAAAAkIhA"
         },
         "lat": {
          "dtype": "f8",
          "bdata": "AAAAAABgQ8CF61G4HmVDwHsUrkfhekPA"
         },
         "legendgroup": "786",
         "lon": {
          "dtype": "f8",
          "bdata": "AAAAAACAL8DD9Shcj8IvwGZmZmZmZi/A"
         },
         "marker": {
          "color": "#B10DA1"
         },
         "mode": "markers",
         "name": "786",
         "showlegend": true,
         "subplot": "map",
         "type": "scattermap"
        },
        {
         "customdata": [
          [
           -39.25,
           "10:37:52.0",
           "2009/01/19",
           -15.75
          ],
          [
           -39.01,
           "15:10:21.3",
           "2009/01/19",
           -15.87
          ]
         ],
         "hovertemplate": "<b>%{hovertext}</b><br><br>Cluster=787<br>Lat=%{customdata[0]}<br>Lon=%{customdata[3]}<br>Time=%{customdata[1]}<br>Date=%{customdata[2]}<extra></extra>",
         "hovertext": {
          "dtype": "f8",
          "bdata": "AAAAAACYiEAAAAAAAJiIQA=="
         },
         "lat": {
          "dtype": "f8",
          "bdata": "AAAAAACgQ8DhehSuR4FDwA=="
         },
         "legendgroup": "787",
         "lon": {
          "dtype": "f8",
          "bdata": "AAAAAACAL8A9CtejcL0vwA=="
         },
         "marker": {
          "color": "#C075A6"
         },
         "mode": "markers",
         "name": "787",
         "showlegend": true,
         "subplot": "map",
         "type": "scattermap"
        },
        {
         "customdata": [
          [
           -12.83,
           "06:06:36.0",
           "2009/03/22",
           -14.55
          ],
          [
           -12.87,
           "06:35:15.4",
           "2009/03/22",
           -14.62
          ],
          [
           -12.87,
           "08:02:26.7",
           "2009/03/22",
           -14.56
          ],
          [
           -12.74,
           "12:54:51.4",
           "2009/03/22",
           -14.69
          ],
          [
           -12.8,
           "10:00:47.1",
           "2009/03/27",
           -14.55
          ]
         ],
         "hovertemplate": "<b>%{hovertext}</b><br><br>Cluster=797<br>Lat=%{customdata[0]}<br>Lon=%{customdata[3]}<br>Time=%{customdata[1]}<br>Date=%{customdata[2]}<extra></extra>",
         "hovertext": {
          "dtype": "f8",
          "bdata": "AAAAAADoiEAAAAAAAOiIQAAAAAAA6IhAAAAAAADoiEAAAAAAAOiIQA=="
         },
         "lat": {
          "dtype": "f8",
          "bdata": "KVyPwvWoKcA9CtejcL0pwD0K16NwvSnAexSuR+F6KcCamZmZmZkpwA=="
         },
         "legendgroup": "797",
         "lon": {
          "dtype": "f8",
          "bdata": "mpmZmZkZLcA9CtejcD0twB+F61G4Hi3A4XoUrkdhLcCamZmZmRktwA=="
         },
         "marker": {
          "color": "#FC1CBF"
         },
         "mode": "markers",
         "name": "797",
         "showlegend": true,
         "subplot": "map",
         "type": "scattermap"
        },
        {
         "customdata": [
          [
           -6.78,
           "18:43:47.6",
           "2009/03/26",
           -12.54
          ],
          [
           -6.86,
           "19:13:36.4",
           "2009/03/26",
           -12.42
          ],
          [
           -6.5,
           "16:55:12.0",
           "2009/08/21",
           -12.5
          ]
         ],
         "hovertemplate": "<b>%{hovertext}</b><br><br>Cluster=798<br>Lat=%{customdata[0]}<br>Lon=%{customdata[3]}<br>Time=%{customdata[1]}<br>Date=%{customdata[2]}<extra></extra>",
         "hovertext": {
          "dtype": "f8",
          "bdata": "AAAAAADwiEAAAAAAAPCIQAAAAAAA8IhA"
         },
         "lat": {
          "dtype": "f8",
          "bdata": "H4XrUbgeG8BxPQrXo3AbwAAAAAAAABrA"
         },
         "legendgroup": "798",
         "lon": {
          "dtype": "f8",
          "bdata": "FK5H4XoUKcDXo3A9CtcowAAAAAAAACnA"
         },
         "marker": {
          "color": "#B00068"
         },
         "mode": "markers",
         "name": "798",
         "showlegend": true,
         "subplot": "map",
         "type": "scattermap"
        },
        {
         "customdata": [
          [
           25.21,
           "06:38:32.5",
           "2009/05/19",
           37.77
          ],
          [
           25.25,
           "16:54:31.1",
           "2009/05/19",
           37.7
          ],
          [
           25.29,
           "17:35:00.6",
           "2009/05/19",
           37.74
          ],
          [
           25.24,
           "19:57:20.0",
           "2009/05/19",
           37.74
          ]
         ],
         "hovertemplate": "<b>%{hovertext}</b><br><br>Cluster=802<br>Lat=%{customdata[0]}<br>Lon=%{customdata[3]}<br>Time=%{customdata[1]}<br>Date=%{customdata[2]}<extra></extra>",
         "hovertext": {
          "dtype": "f8",
          "bdata": "AAAAAAAQiUAAAAAAABCJQAAAAAAAEIlAAAAAAAAQiUA="
         },
         "lat": {
          "dtype": "f8",
          "bdata": "9ihcj8I1OUAAAAAAAEA5QArXo3A9SjlAPQrXo3A9OUA="
         },
         "legendgroup": "802",
         "lon": {
          "dtype": "f8",
          "bdata": "w/UoXI/iQkCamZmZmdlCQB+F61G43kJAH4XrUbjeQkA="
         },
         "marker": {
          "color": "#FBE426"
         },
         "mode": "markers",
         "name": "802",
         "showlegend": true,
         "subplot": "map",
         "type": "scattermap"
        },
        {
         "customdata": [
          [
           -33.07,
           "02:50:23.6",
           "2009/05/27",
           -15.95
          ],
          [
           -33.2,
           "15:45:49.2",
           "2009/06/27",
           -15.94
          ]
         ],
         "hovertemplate": "<b>%{hovertext}</b><br><br>Cluster=803<br>Lat=%{customdata[0]}<br>Lon=%{customdata[3]}<br>Time=%{customdata[1]}<br>Date=%{customdata[2]}<extra></extra>",
         "hovertext": {
          "dtype": "f8",
          "bdata": "AAAAAAAYiUAAAAAAABiJQA=="
         },
         "lat": {
          "dtype": "f8",
          "bdata": "KVyPwvWIQMCamZmZmZlAwA=="
         },
         "legendgroup": "803",
         "lon": {
          "dtype": "f8",
          "bdata": "ZmZmZmbmL8DhehSuR+EvwA=="
         },
         "marker": {
          "color": "#FA0087"
         },
         "mode": "markers",
         "name": "803",
         "showlegend": true,
         "subplot": "map",
         "type": "scattermap"
        },
        {
         "customdata": [
          [
           35.38,
           "04:26:14.7",
           "2009/06/18",
           28.41
          ],
          [
           35.36,
           "14:04:59.0",
           "2009/06/19",
           28.45
          ]
         ],
         "hovertemplate": "<b>%{hovertext}</b><br><br>Cluster=806<br>Lat=%{customdata[0]}<br>Lon=%{customdata[3]}<br>Time=%{customdata[1]}<br>Date=%{customdata[2]}<extra></extra>",
         "hovertext": {
          "dtype": "f8",
          "bdata": "AAAAAAAwiUAAAAAAADCJQA=="
         },
         "lat": {
          "dtype": "f8",
          "bdata": "cT0K16OwQUCuR+F6FK5BQA=="
         },
         "legendgroup": "806",
         "lon": {
          "dtype": "f8",
          "bdata": "KVyPwvVoPEAzMzMzM3M8QA=="
         },
         "marker": {
          "color": "#AA0DFE"
         },
         "mode": "markers",
         "name": "806",
         "showlegend": true,
         "subplot": "map",
         "type": "scattermap"
        },
        {
         "customdata": [
          [
           34.16,
           "09:30:10.4",
           "2009/07/01",
           25.47
          ],
          [
           34.25,
           "19:47:50.2",
           "2009/07/02",
           25.22
          ],
          [
           34.0,
           "21:56:31.5",
           "2010/02/11",
           25.39
          ]
         ],
         "hovertemplate": "<b>%{hovertext}</b><br><br>Cluster=810<br>Lat=%{customdata[0]}<br>Lon=%{customdata[3]}<br>Time=%{customdata[1]}<br>Date=%{customdata[2]}<extra></extra>",
         "hovertext": {
          "dtype": "f8",
          "bdata": "AAAAAABQiUAAAAAAAFCJQAAAAAAAUIlA"
         },
         "lat": {
          "dtype": "f8",
          "bdata": "FK5H4XoUQUAAAAAAACBBQAAAAAAAAEFA"
         },
         "legendgroup": "810",
         "lon": {
          "dtype": "f8",
          "bdata": "uB6F61F4OUC4HoXrUTg5QKRwPQrXYzlA"
         },
         "marker": {
          "color": "#3283FE"
         },
         "mode": "markers",
         "name": "810",
         "showlegend": true,
         "subplot": "map",
         "type": "scattermap"
        },
        {
         "customdata": [
          [
           -11.63,
           "03:20:49.1",
           "2009/07/02",
           -14.16
          ],
          [
           -11.75,
           "14:12:08.0",
           "2009/11/25",
           -14.25
          ]
         ],
         "hovertemplate": "<b>%{hovertext}</b><br><br>Cluster=811<br>Lat=%{customdata[0]}<br>Lon=%{customdata[3]}<br>Time=%{customdata[1]}<br>Date=%{customdata[2]}<extra></extra>",
         "hovertext": {
          "dtype": "f8",
          "bdata": "AAAAAABYiUAAAAAAAFiJQA=="
         },
         "lat": {
          "dtype": "f8",
          "bdata": "w/UoXI9CJ8AAAAAAAIAnwA=="
         },
         "legendgroup": "811",
         "lon": {
          "dtype": "f8",
          "bdata": "UrgehetRLMAAAAAAAIAswA=="
         },
         "marker": {
          "color": "#85660D"
         },
         "mode": "markers",
         "name": "811",
         "showlegend": true,
         "subplot": "map",
         "type": "scattermap"
        },
        {
         "customdata": [
          [
           37.95,
           "18:29:52.9",
           "2009/09/10",
           32.48
          ],
          [
           37.94,
           "01:58:30.0",
           "2009/09/11",
           32.44
          ]
         ],
         "hovertemplate": "<b>%{hovertext}</b><br><br>Cluster=819<br>Lat=%{customdata[0]}<br>Lon=%{customdata[3]}<br>Time=%{customdata[1]}<br>Date=%{customdata[2]}<extra></extra>",
         "hovertext": {
          "dtype": "f8",
          "bdata": "AAAAAACYiUAAAAAAAJiJQA=="
         },
         "lat": {
          "dtype": "f8",
          "bdata": "mpmZmZn5QkC4HoXrUfhCQA=="
         },
         "legendgroup": "819",
         "lon": {
          "dtype": "f8",
          "bdata": "PQrXo3A9QEC4HoXrUThAQA=="
         },
         "marker": {
          "color": "#782AB6"
         },
         "mode": "markers",
         "name": "819",
         "showlegend": true,
         "subplot": "map",
         "type": "scattermap"
        },
        {
         "customdata": [
          [
           37.5,
           "05:25:08.1",
           "2009/11/03",
           20.49
          ],
          [
           37.51,
           "09:51:06.5",
           "2009/11/11",
           20.36
          ]
         ],
         "hovertemplate": "<b>%{hovertext}</b><br><br>Cluster=824<br>Lat=%{customdata[0]}<br>Lon=%{customdata[3]}<br>Time=%{customdata[1]}<br>Date=%{customdata[2]}<extra></extra>",
         "hovertext": {
          "dtype": "f8",
          "bdata": "AAAAAADAiUAAAAAAAMCJQA=="
         },
         "lat": {
          "dtype": "f8",
          "bdata": "AAAAAADAQkDhehSuR8FCQA=="
         },
         "legendgroup": "824",
         "lon": {
          "dtype": "f8",
          "bdata": "PQrXo3B9NEBcj8L1KFw0QA=="
         },
         "marker": {
          "color": "#565656"
         },
         "mode": "markers",
         "name": "824",
         "showlegend": true,
         "subplot": "map",
         "type": "scattermap"
        },
        {
         "customdata": [
          [
           12.14,
           "06:23:04.2",
           "2009/11/05",
           45.81
          ],
          [
           12.11,
           "07:12:32.4",
           "2009/11/05",
           45.91
          ],
          [
           12.07,
           "07:57:30.7",
           "2009/11/05",
           45.92
          ],
          [
           12.1,
           "08:05:49.8",
           "2009/11/05",
           45.9
          ],
          [
           12.05,
           "19:27:04.9",
           "2009/11/06",
           45.83
          ]
         ],
         "hovertemplate": "<b>%{hovertext}</b><br><br>Cluster=825<br>Lat=%{customdata[0]}<br>Lon=%{customdata[3]}<br>Time=%{customdata[1]}<br>Date=%{customdata[2]}<extra></extra>",
         "hovertext": {
          "dtype": "f8",
          "bdata": "AAAAAADIiUAAAAAAAMiJQAAAAAAAyIlAAAAAAADIiUAAAAAAAMiJQA=="
         },
         "lat": {
          "dtype": "f8",
          "bdata": "SOF6FK5HKEC4HoXrUTgoQKRwPQrXIyhAMzMzMzMzKECamZmZmRkoQA=="
         },
         "legendgroup": "825",
         "lon": {
          "dtype": "f8",
          "bdata": "SOF6FK7nRkAUrkfhevRGQPYoXI/C9UZAMzMzMzPzRkAK16NwPepGQA=="
         },
         "marker": {
          "color": "#1C8356"
         },
         "mode": "markers",
         "name": "825",
         "showlegend": true,
         "subplot": "map",
         "type": "scattermap"
        },
        {
         "customdata": [
          [
           -38.5,
           "20:40:32.0",
           "2009/11/13",
           -15.5
          ],
          [
           -38.49,
           "00:51:33.2",
           "2009/11/14",
           -15.65
          ],
          [
           -38.75,
           "17:20:40.0",
           "2010/01/26",
           -15.75
          ],
          [
           -38.75,
           "10:46:48.0",
           "2010/01/27",
           -15.75
          ]
         ],
         "hovertemplate": "<b>%{hovertext}</b><br><br>Cluster=827<br>Lat=%{customdata[0]}<br>Lon=%{customdata[3]}<br>Time=%{customdata[1]}<br>Date=%{customdata[2]}<extra></extra>",
         "hovertext": {
          "dtype": "f8",
          "bdata": "AAAAAADYiUAAAAAAANiJQAAAAAAA2IlAAAAAAADYiUA="
         },
         "lat": {
          "dtype": "f8",
          "bdata": "AAAAAABAQ8AfhetRuD5DwAAAAAAAYEPAAAAAAABgQ8A="
         },
         "legendgroup": "827",
         "lon": {
          "dtype": "f8",
          "bdata": "AAAAAAAAL8DNzMzMzEwvwAAAAAAAgC/AAAAAAACAL8A="
         },
         "marker": {
          "color": "#16FF32"
         },
         "mode": "markers",
         "name": "827",
         "showlegend": true,
         "subplot": "map",
         "type": "scattermap"
        },
        {
         "customdata": [
          [
           -6.85,
           "04:47:02.6",
           "2009/11/14",
           29.84
          ],
          [
           -6.78,
           "04:50:17.3",
           "2009/11/14",
           29.82
          ]
         ],
         "hovertemplate": "<b>%{hovertext}</b><br><br>Cluster=828<br>Lat=%{customdata[0]}<br>Lon=%{customdata[3]}<br>Time=%{customdata[1]}<br>Date=%{customdata[2]}<extra></extra>",
         "hovertext": {
          "dtype": "f8",
          "bdata": "AAAAAADgiUAAAAAAAOCJQA=="
         },
         "lat": {
          "dtype": "f8",
          "bdata": "ZmZmZmZmG8AfhetRuB4bwA=="
         },
         "legendgroup": "828",
         "lon": {
          "dtype": "f8",
          "bdata": "16NwPQrXPUBSuB6F69E9QA=="
         },
         "marker": {
          "color": "#F7E1A0"
         },
         "mode": "markers",
         "name": "828",
         "showlegend": true,
         "subplot": "map",
         "type": "scattermap"
        },
        {
         "customdata": [
          [
           -10.13,
           "17:36:36.2",
           "2009/12/06",
           33.85
          ],
          [
           -10.02,
           "18:00:01.0",
           "2009/12/06",
           33.87
          ],
          [
           -10.13,
           "18:29:15.0",
           "2009/12/06",
           33.92
          ],
          [
           -10.11,
           "09:31:44.8",
           "2009/12/07",
           33.84
          ],
          [
           -10.0,
           "18:16:32.4",
           "2009/12/07",
           33.84
          ],
          [
           -9.95,
           "03:08:57.2",
           "2009/12/08",
           33.88
          ],
          [
           -10.09,
           "04:49:09.4",
           "2009/12/11",
           33.86
          ],
          [
           -9.94,
           "02:27:03.8",
           "2009/12/12",
           33.91
          ],
          [
           -10.11,
           "23:19:15.6",
           "2009/12/19",
           33.82
          ]
         ],
         "hovertemplate": "<b>%{hovertext}</b><br><br>Cluster=832<br>Lat=%{customdata[0]}<br>Lon=%{customdata[3]}<br>Time=%{customdata[1]}<br>Date=%{customdata[2]}<extra></extra>",
         "hovertext": {
          "dtype": "f8",
          "bdata": "AAAAAAAAikAAAAAAAACKQAAAAAAAAIpAAAAAAAAAikAAAAAAAACKQAAAAAAAAIpAAAAAAAAAikAAAAAAAACKQAAAAAAAAIpA"
         },
         "lat": {
          "dtype": "f8",
          "bdata": "w/UoXI9CJMAK16NwPQokwMP1KFyPQiTAuB6F61E4JMAAAAAAAAAkwGZmZmZm5iPArkfhehQuJMDhehSuR+EjwLgehetROCTA"
         },
         "legendgroup": "832",
         "lon": {
          "dtype": "f8",
          "bdata": "zczMzMzsQECPwvUoXO9AQPYoXI/C9UBA7FG4HoXrQEDsUbgehetAQHE9Ctej8EBArkfhehTuQEAUrkfhevRAQClcj8L16EBA"
         },
         "marker": {
          "color": "#E2E2E2"
         },
         "mode": "markers",
         "name": "832",
         "showlegend": true,
         "subplot": "map",
         "type": "scattermap"
        },
        {
         "customdata": [
          [
           -17.55,
           "03:34:40.3",
           "2009/12/12",
           -13.25
          ],
          [
           -17.56,
           "04:36:07.2",
           "2010/03/22",
           -13.08
          ]
         ],
         "hovertemplate": "<b>%{hovertext}</b><br><br>Cluster=833<br>Lat=%{customdata[0]}<br>Lon=%{customdata[3]}<br>Time=%{customdata[1]}<br>Date=%{customdata[2]}<extra></extra>",
         "hovertext": {
          "dtype": "f8",
          "bdata": "AAAAAAAIikAAAAAAAAiKQA=="
         },
         "lat": {
          "dtype": "f8",
          "bdata": "zczMzMyMMcCPwvUoXI8xwA=="
         },
         "legendgroup": "833",
         "lon": {
          "dtype": "f8",
          "bdata": "AAAAAACAKsApXI/C9SgqwA=="
         },
         "marker": {
          "color": "#1CBE4F"
         },
         "mode": "markers",
         "name": "833",
         "showlegend": true,
         "subplot": "map",
         "type": "scattermap"
        },
        {
         "customdata": [
          [
           38.4,
           "15:56:09.0",
           "2010/01/18",
           21.96
          ],
          [
           38.42,
           "00:46:56.7",
           "2010/01/22",
           22.04
          ]
         ],
         "hovertemplate": "<b>%{hovertext}</b><br><br>Cluster=839<br>Lat=%{customdata[0]}<br>Lon=%{customdata[3]}<br>Time=%{customdata[1]}<br>Date=%{customdata[2]}<extra></extra>",
         "hovertext": {
          "dtype": "f8",
          "bdata": "AAAAAAA4ikAAAAAAADiKQA=="
         },
         "lat": {
          "dtype": "f8",
          "bdata": "MzMzMzMzQ0D2KFyPwjVDQA=="
         },
         "legendgroup": "839",
         "lon": {
          "dtype": "f8",
          "bdata": "9ihcj8L1NUAK16NwPQo2QA=="
         },
         "marker": {
          "color": "#C4451C"
         },
         "mode": "markers",
         "name": "839",
         "showlegend": true,
         "subplot": "map",
         "type": "scattermap"
        },
        {
         "customdata": [
          [
           -39.25,
           "18:35:44.0",
           "2010/01/26",
           -15.25
          ],
          [
           -39.25,
           "03:04:48.0",
           "2010/01/28",
           -15.25
          ]
         ],
         "hovertemplate": "<b>%{hovertext}</b><br><br>Cluster=841<br>Lat=%{customdata[0]}<br>Lon=%{customdata[3]}<br>Time=%{customdata[1]}<br>Date=%{customdata[2]}<extra></extra>",
         "hovertext": {
          "dtype": "f8",
          "bdata": "AAAAAABIikAAAAAAAEiKQA=="
         },
         "lat": {
          "dtype": "f8",
          "bdata": "AAAAAACgQ8AAAAAAAKBDwA=="
         },
         "legendgroup": "841",
         "lon": {
          "dtype": "f8",
          "bdata": "AAAAAACALsAAAAAAAIAuwA=="
         },
         "marker": {
          "color": "#DEA0FD"
         },
         "mode": "markers",
         "name": "841",
         "showlegend": true,
         "subplot": "map",
         "type": "scattermap"
        },
        {
         "customdata": [
          [
           -38.65,
           "11:20:36.5",
           "2010/01/27",
           -15.93
          ],
          [
           -38.9,
           "12:31:36.0",
           "2010/01/27",
           -15.83
          ],
          [
           -38.81,
           "15:47:59.3",
           "2010/01/27",
           -15.93
          ]
         ],
         "hovertemplate": "<b>%{hovertext}</b><br><br>Cluster=842<br>Lat=%{customdata[0]}<br>Lon=%{customdata[3]}<br>Time=%{customdata[1]}<br>Date=%{customdata[2]}<extra></extra>",
         "hovertext": {
          "dtype": "f8",
          "bdata": "AAAAAABQikAAAAAAAFCKQAAAAAAAUIpA"
         },
         "lat": {
          "dtype": "f8",
          "bdata": "MzMzMzNTQ8AzMzMzM3NDwEjhehSuZ0PA"
         },
         "legendgroup": "842",
         "lon": {
          "dtype": "f8",
          "bdata": "XI/C9SjcL8ApXI/C9agvwFyPwvUo3C/A"
         },
         "marker": {
          "color": "#FE00FA"
         },
         "mode": "markers",
         "name": "842",
         "showlegend": true,
         "subplot": "map",
         "type": "scattermap"
        },
        {
         "customdata": [
          [
           32.54,
           "07:28:02.7",
           "2010/02/23",
           48.37
          ],
          [
           32.51,
           "10:25:56.8",
           "2010/02/23",
           48.29
          ]
         ],
         "hovertemplate": "<b>%{hovertext}</b><br><br>Cluster=845<br>Lat=%{customdata[0]}<br>Lon=%{customdata[3]}<br>Time=%{customdata[1]}<br>Date=%{customdata[2]}<extra></extra>",
         "hovertext": {
          "dtype": "f8",
          "bdata": "AAAAAABoikAAAAAAAGiKQA=="
         },
         "lat": {
          "dtype": "f8",
          "bdata": "hetRuB5FQEDhehSuR0FAQA=="
         },
         "legendgroup": "845",
         "lon": {
          "dtype": "f8",
          "bdata": "j8L1KFwvSECF61G4HiVIQA=="
         },
         "marker": {
          "color": "#325A9B"
         },
         "mode": "markers",
         "name": "845",
         "showlegend": true,
         "subplot": "map",
         "type": "scattermap"
        },
        {
         "customdata": [
          [
           38.87,
           "02:32:34.7",
           "2010/03/08",
           39.99
          ],
          [
           38.71,
           "07:47:42.0",
           "2010/03/08",
           40.05
          ],
          [
           38.76,
           "09:00:46.0",
           "2010/03/08",
           40.06
          ],
          [
           38.78,
           "11:12:10.0",
           "2010/03/08",
           40.14
          ],
          [
           38.63,
           "15:04:54.2",
           "2010/03/08",
           40.06
          ],
          [
           38.82,
           "14:11:31.0",
           "2010/03/24",
           40.14
          ],
          [
           38.58,
           "07:34:42.7",
           "2011/06/23",
           39.64
          ]
         ],
         "hovertemplate": "<b>%{hovertext}</b><br><br>Cluster=846<br>Lat=%{customdata[0]}<br>Lon=%{customdata[3]}<br>Time=%{customdata[1]}<br>Date=%{customdata[2]}<extra></extra>",
         "hovertext": {
          "dtype": "f8",
          "bdata": "AAAAAABwikAAAAAAAHCKQAAAAAAAcIpAAAAAAABwikAAAAAAAHCKQAAAAAAAcIpAAAAAAABwikA="
         },
         "lat": {
          "dtype": "f8",
          "bdata": "j8L1KFxvQ0B7FK5H4VpDQOF6FK5HYUNApHA9CtdjQ0BxPQrXo1BDQClcj8L1aENACtejcD1KQ0A="
         },
         "legendgroup": "846",
         "lon": {
          "dtype": "f8",
          "bdata": "H4XrUbj+Q0BmZmZmZgZEQEjhehSuB0RAUrgehesRREBI4XoUrgdEQFK4HoXrEURAUrgehevRQ0A="
         },
         "marker": {
          "color": "#FEAF16"
         },
         "mode": "markers",
         "name": "846",
         "showlegend": true,
         "subplot": "map",
         "type": "scattermap"
        },
        {
         "customdata": [
          [
           35.9,
           "12:29:22.3",
           "2010/05/14",
           4.12
          ],
          [
           36.0,
           "06:52:42.6",
           "2010/05/16",
           3.94
          ],
          [
           35.98,
           "13:28:18.0",
           "2010/05/23",
           4.15
          ]
         ],
         "hovertemplate": "<b>%{hovertext}</b><br><br>Cluster=851<br>Lat=%{customdata[0]}<br>Lon=%{customdata[3]}<br>Time=%{customdata[1]}<br>Date=%{customdata[2]}<extra></extra>",
         "hovertext": {
          "dtype": "f8",
          "bdata": "AAAAAACYikAAAAAAAJiKQAAAAAAAmIpA"
         },
         "lat": {
          "dtype": "f8",
          "bdata": "MzMzMzPzQUAAAAAAAABCQD0K16Nw/UFA"
         },
         "legendgroup": "851",
         "lon": {
          "dtype": "f8",
          "bdata": "exSuR+F6EECF61G4HoUPQJqZmZmZmRBA"
         },
         "marker": {
          "color": "#F8A19F"
         },
         "mode": "markers",
         "name": "851",
         "showlegend": true,
         "subplot": "map",
         "type": "scattermap"
        },
        {
         "customdata": [
          [
           11.98,
           "06:32:28.0",
           "2010/11/14",
           43.96
          ],
          [
           11.8,
           "07:08:32.2",
           "2010/11/14",
           43.95
          ],
          [
           11.93,
           "07:38:33.2",
           "2010/11/14",
           43.99
          ],
          [
           12.03,
           "08:21:21.7",
           "2010/11/14",
           43.96
          ],
          [
           11.94,
           "10:37:47.4",
           "2010/11/14",
           43.97
          ],
          [
           11.96,
           "12:41:48.6",
           "2010/11/14",
           43.9
          ],
          [
           11.86,
           "12:49:56.1",
           "2010/11/14",
           43.76
          ],
          [
           11.93,
           "13:50:03.5",
           "2010/11/14",
           43.94
          ],
          [
           11.97,
           "14:04:30.8",
           "2010/11/14",
           43.93
          ],
          [
           11.78,
           "14:27:42.6",
           "2010/11/14",
           43.67
          ],
          [
           11.95,
           "14:33:19.2",
           "2010/11/14",
           43.81
          ],
          [
           12.04,
           "14:55:25.8",
           "2010/11/14",
           43.8
          ],
          [
           11.91,
           "15:06:30.6",
           "2010/11/14",
           43.64
          ],
          [
           11.89,
           "16:33:18.3",
           "2010/11/14",
           43.66
          ],
          [
           11.86,
           "17:02:47.7",
           "2010/11/14",
           43.72
          ],
          [
           11.87,
           "17:17:07.8",
           "2010/11/14",
           43.74
          ],
          [
           11.86,
           "17:39:17.5",
           "2010/11/14",
           43.98
          ],
          [
           11.98,
           "19:15:44.8",
           "2010/11/14",
           43.92
          ],
          [
           11.92,
           "20:18:03.2",
           "2010/11/14",
           43.62
          ],
          [
           12.12,
           "23:25:34.8",
           "2010/11/14",
           44.01
          ],
          [
           12.01,
           "01:56:53.7",
           "2010/11/18",
           43.99
          ],
          [
           11.93,
           "14:06:25.5",
           "2010/12/11",
           43.98
          ],
          [
           12.04,
           "02:29:57.6",
           "2011/01/10",
           43.99
          ],
          [
           12.02,
           "02:28:44.3",
           "2011/01/30",
           44.07
          ]
         ],
         "hovertemplate": "<b>%{hovertext}</b><br><br>Cluster=871<br>Lat=%{customdata[0]}<br>Lon=%{customdata[3]}<br>Time=%{customdata[1]}<br>Date=%{customdata[2]}<extra></extra>",
         "hovertext": {
          "dtype": "f8",
          "bdata": "AAAAAAA4i0AAAAAAADiLQAAAAAAAOItAAAAAAAA4i0AAAAAAADiLQAAAAAAAOItAAAAAAAA4i0AAAAAAADiLQAAAAAAAOItAAAAAAAA4i0AAAAAAADiLQAAAAAAAOItAAAAAAAA4i0AAAAAAADiLQAAAAAAAOItAAAAAAAA4i0AAAAAAADiLQAAAAAAAOItAAAAAAAA4i0AAAAAAADiLQAAAAAAAOItAAAAAAAA4i0AAAAAAADiLQAAAAAAAOItA"
         },
         "lat": {
          "dtype": "f8",
          "bdata": "9ihcj8L1J0CamZmZmZknQFyPwvUo3CdAj8L1KFwPKEDhehSuR+EnQOxRuB6F6ydAuB6F61G4J0Bcj8L1KNwnQHE9Ctej8CdAj8L1KFyPJ0BmZmZmZuYnQBSuR+F6FChAUrgehevRJ0BI4XoUrscnQLgehetRuCdAPQrXo3C9J0C4HoXrUbgnQPYoXI/C9SdA16NwPQrXJ0A9CtejcD0oQIXrUbgeBShAXI/C9SjcJ0AUrkfhehQoQArXo3A9CihA"
         },
         "legendgroup": "871",
         "lon": {
          "dtype": "f8",
          "bdata": "exSuR+H6RUCamZmZmflFQB+F61G4/kVAexSuR+H6RUBcj8L1KPxFQDMzMzMz80VA4XoUrkfhRUC4HoXrUfhFQNejcD0K90VA9ihcj8LVRUBI4XoUrudFQGZmZmZm5kVAUrgehevRRUAUrkfhetRFQFyPwvUo3EVAH4XrUbjeRUA9CtejcP1FQPYoXI/C9UVAj8L1KFzPRUDhehSuRwFGQB+F61G4/kVAPQrXo3D9RUAfhetRuP5FQClcj8L1CEZA"
         },
         "marker": {
          "color": "#90AD1C"
         },
         "mode": "markers",
         "name": "871",
         "showlegend": true,
         "subplot": "map",
         "type": "scattermap"
        },
        {
         "customdata": [
          [
           -21.12,
           "00:08:35.6",
           "2011/01/17",
           -11.48
          ],
          [
           -21.04,
           "01:35:31.8",
           "2011/01/17",
           -11.55
          ],
          [
           -21.25,
           "16:17:04.0",
           "2011/05/16",
           -11.25
          ]
         ],
         "hovertemplate": "<b>%{hovertext}</b><br><br>Cluster=884<br>Lat=%{customdata[0]}<br>Lon=%{customdata[3]}<br>Time=%{customdata[1]}<br>Date=%{customdata[2]}<extra></extra>",
         "hovertext": {
          "dtype": "f8",
          "bdata": "AAAAAACgi0AAAAAAAKCLQAAAAAAAoItA"
         },
         "lat": {
          "dtype": "f8",
          "bdata": "H4XrUbgeNcAK16NwPQo1wAAAAAAAQDXA"
         },
         "legendgroup": "884",
         "lon": {
          "dtype": "f8",
          "bdata": "9ihcj8L1JsCamZmZmRknwAAAAAAAgCbA"
         },
         "marker": {
          "color": "#F6222E"
         },
         "mode": "markers",
         "name": "884",
         "showlegend": true,
         "subplot": "map",
         "type": "scattermap"
        },
        {
         "customdata": [
          [
           -11.25,
           "14:37:52.0",
           "2011/03/16",
           -12.75
          ],
          [
           -11.25,
           "05:25:12.0",
           "2011/05/09",
           -12.75
          ]
         ],
         "hovertemplate": "<b>%{hovertext}</b><br><br>Cluster=888<br>Lat=%{customdata[0]}<br>Lon=%{customdata[3]}<br>Time=%{customdata[1]}<br>Date=%{customdata[2]}<extra></extra>",
         "hovertext": {
          "dtype": "f8",
          "bdata": "AAAAAADAi0AAAAAAAMCLQA=="
         },
         "lat": {
          "dtype": "f8",
          "bdata": "AAAAAACAJsAAAAAAAIAmwA=="
         },
         "legendgroup": "888",
         "lon": {
          "dtype": "f8",
          "bdata": "AAAAAACAKcAAAAAAAIApwA=="
         },
         "marker": {
          "color": "#1CFFCE"
         },
         "mode": "markers",
         "name": "888",
         "showlegend": true,
         "subplot": "map",
         "type": "scattermap"
        },
        {
         "customdata": [
          [
           -10.27,
           "03:03:16.9",
           "2011/03/19",
           -13.1
          ],
          [
           -10.28,
           "18:30:28.6",
           "2011/03/19",
           -13.18
          ],
          [
           -10.25,
           "18:43:03.2",
           "2011/03/19",
           -13.23
          ],
          [
           -10.12,
           "07:04:18.6",
           "2011/05/12",
           -13.15
          ]
         ],
         "hovertemplate": "<b>%{hovertext}</b><br><br>Cluster=889<br>Lat=%{customdata[0]}<br>Lon=%{customdata[3]}<br>Time=%{customdata[1]}<br>Date=%{customdata[2]}<extra></extra>",
         "hovertext": {
          "dtype": "f8",
          "bdata": "AAAAAADIi0AAAAAAAMiLQAAAAAAAyItAAAAAAADIi0A="
         },
         "lat": {
          "dtype": "f8",
          "bdata": "CtejcD2KJMCPwvUoXI8kwAAAAAAAgCTAPQrXo3A9JMA="
         },
         "legendgroup": "889",
         "lon": {
          "dtype": "f8",
          "bdata": "MzMzMzMzKsBcj8L1KFwqwPYoXI/CdSrAzczMzMxMKsA="
         },
         "marker": {
          "color": "#2ED9FF"
         },
         "mode": "markers",
         "name": "889",
         "showlegend": true,
         "subplot": "map",
         "type": "scattermap"
        },
        {
         "customdata": [
          [
           -33.1,
           "13:31:28.5",
           "2011/03/22",
           -15.98
          ],
          [
           -33.15,
           "07:09:46.7",
           "2012/08/09",
           -15.88
          ]
         ],
         "hovertemplate": "<b>%{hovertext}</b><br><br>Cluster=891<br>Lat=%{customdata[0]}<br>Lon=%{customdata[3]}<br>Time=%{customdata[1]}<br>Date=%{customdata[2]}<extra></extra>",
         "hovertext": {
          "dtype": "f8",
          "bdata": "AAAAAADYi0AAAAAAANiLQA=="
         },
         "lat": {
          "dtype": "f8",
          "bdata": "zczMzMyMQMAzMzMzM5NAwA=="
         },
         "legendgroup": "891",
         "lon": {
          "dtype": "f8",
          "bdata": "9ihcj8L1L8DD9Shcj8IvwA=="
         },
         "marker": {
          "color": "#B10DA1"
         },
         "mode": "markers",
         "name": "891",
         "showlegend": true,
         "subplot": "map",
         "type": "scattermap"
        },
        {
         "customdata": [
          [
           -1.22,
           "04:39:33.7",
           "2011/05/01",
           -14.44
          ],
          [
           -1.34,
           "01:29:39.3",
           "2011/08/14",
           -14.65
          ]
         ],
         "hovertemplate": "<b>%{hovertext}</b><br><br>Cluster=893<br>Lat=%{customdata[0]}<br>Lon=%{customdata[3]}<br>Time=%{customdata[1]}<br>Date=%{customdata[2]}<extra></extra>",
         "hovertext": {
          "dtype": "f8",
          "bdata": "AAAAAADoi0AAAAAAAOiLQA=="
         },
         "lat": {
          "dtype": "f8",
          "bdata": "hetRuB6F879xPQrXo3D1vw=="
         },
         "legendgroup": "893",
         "lon": {
          "dtype": "f8",
          "bdata": "4XoUrkfhLMDNzMzMzEwtwA=="
         },
         "marker": {
          "color": "#C075A6"
         },
         "mode": "markers",
         "name": "893",
         "showlegend": true,
         "subplot": "map",
         "type": "scattermap"
        },
        {
         "customdata": [
          [
           39.15,
           "20:15:22.9",
           "2011/05/19",
           29.1
          ],
          [
           39.12,
           "05:47:17.0",
           "2011/05/28",
           29.05
          ],
          [
           39.11,
           "21:13:58.8",
           "2011/06/27",
           29.03
          ],
          [
           39.12,
           "22:05:33.9",
           "2012/04/26",
           29.08
          ],
          [
           39.17,
           "15:20:25.7",
           "2012/05/03",
           29.09
          ]
         ],
         "hovertemplate": "<b>%{hovertext}</b><br><br>Cluster=896<br>Lat=%{customdata[0]}<br>Lon=%{customdata[3]}<br>Time=%{customdata[1]}<br>Date=%{customdata[2]}<extra></extra>",
         "hovertext": {
          "dtype": "f8",
          "bdata": "AAAAAAAAjEAAAAAAAACMQAAAAAAAAIxAAAAAAAAAjEAAAAAAAACMQA=="
         },
         "lat": {
          "dtype": "f8",
          "bdata": "MzMzMzOTQ0CPwvUoXI9DQK5H4XoUjkNAj8L1KFyPQ0D2KFyPwpVDQA=="
         },
         "legendgroup": "896",
         "lon": {
          "dtype": "f8",
          "bdata": "mpmZmZkZPUDNzMzMzAw9QEjhehSuBz1AFK5H4XoUPUDXo3A9Chc9QA=="
         },
         "marker": {
          "color": "#FC1CBF"
         },
         "mode": "markers",
         "name": "896",
         "showlegend": true,
         "subplot": "map",
         "type": "scattermap"
        },
        {
         "customdata": [
          [
           34.38,
           "20:39:03.3",
           "2011/05/19",
           23.72
          ],
          [
           34.41,
           "16:19:31.9",
           "2011/09/13",
           23.72
          ],
          [
           34.52,
           "12:08:22.9",
           "2011/09/27",
           23.78
          ]
         ],
         "hovertemplate": "<b>%{hovertext}</b><br><br>Cluster=897<br>Lat=%{customdata[0]}<br>Lon=%{customdata[3]}<br>Time=%{customdata[1]}<br>Date=%{customdata[2]}<extra></extra>",
         "hovertext": {
          "dtype": "f8",
          "bdata": "AAAAAAAIjEAAAAAAAAiMQAAAAAAACIxA"
         },
         "lat": {
          "dtype": "f8",
          "bdata": "cT0K16MwQUAUrkfhejRBQMP1KFyPQkFA"
         },
         "legendgroup": "897",
         "lon": {
          "dtype": "f8",
          "bdata": "uB6F61G4N0C4HoXrUbg3QEjhehSuxzdA"
         },
         "marker": {
          "color": "#B00068"
         },
         "mode": "markers",
         "name": "897",
         "showlegend": true,
         "subplot": "map",
         "type": "scattermap"
        },
        {
         "customdata": [
          [
           13.42,
           "15:37:04.1",
           "2011/06/12",
           41.69
          ],
          [
           13.3,
           "19:21:50.8",
           "2011/06/12",
           41.8
          ],
          [
           13.41,
           "20:32:40.5",
           "2011/06/12",
           41.74
          ],
          [
           13.52,
           "21:03:23.1",
           "2011/06/12",
           41.64
          ],
          [
           13.3,
           "09:16:12.6",
           "2011/06/17",
           41.73
          ]
         ],
         "hovertemplate": "<b>%{hovertext}</b><br><br>Cluster=900<br>Lat=%{customdata[0]}<br>Lon=%{customdata[3]}<br>Time=%{customdata[1]}<br>Date=%{customdata[2]}<extra></extra>",
         "hovertext": {
          "dtype": "f8",
          "bdata": "AAAAAAAgjEAAAAAAACCMQAAAAAAAIIxAAAAAAAAgjEAAAAAAACCMQA=="
         },
         "lat": {
          "dtype": "f8",
          "bdata": "16NwPQrXKkCamZmZmZkqQFK4HoXr0SpACtejcD0KK0CamZmZmZkqQA=="
         },
         "legendgroup": "900",
         "lon": {
          "dtype": "f8",
          "bdata": "uB6F61HYREBmZmZmZuZEQB+F61G43kRAUrgehevRREA9CtejcN1EQA=="
         },
         "marker": {
          "color": "#FBE426"
         },
         "mode": "markers",
         "name": "900",
         "showlegend": true,
         "subplot": "map",
         "type": "scattermap"
        },
        {
         "customdata": [
          [
           -7.86,
           "23:17:58.4",
           "2011/07/09",
           -13.59
          ],
          [
           -7.8,
           "23:47:30.1",
           "2011/07/09",
           -13.48
          ]
         ],
         "hovertemplate": "<b>%{hovertext}</b><br><br>Cluster=902<br>Lat=%{customdata[0]}<br>Lon=%{customdata[3]}<br>Time=%{customdata[1]}<br>Date=%{customdata[2]}<extra></extra>",
         "hovertext": {
          "dtype": "f8",
          "bdata": "AAAAAAAwjEAAAAAAADCMQA=="
         },
         "lat": {
          "dtype": "f8",
          "bdata": "cT0K16NwH8AzMzMzMzMfwA=="
         },
         "legendgroup": "902",
         "lon": {
          "dtype": "f8",
          "bdata": "rkfhehQuK8D2KFyPwvUqwA=="
         },
         "marker": {
          "color": "#FA0087"
         },
         "mode": "markers",
         "name": "902",
         "showlegend": true,
         "subplot": "map",
         "type": "scattermap"
        },
        {
         "customdata": [
          [
           -7.04,
           "23:45:43.0",
           "2011/08/10",
           -12.62
          ],
          [
           -7.01,
           "01:36:45.8",
           "2011/08/11",
           -12.56
          ],
          [
           -6.75,
           "06:58:56.0",
           "2011/08/11",
           -12.75
          ],
          [
           -7.02,
           "08:19:39.6",
           "2011/08/11",
           -12.8
          ],
          [
           -6.92,
           "09:16:57.9",
           "2011/08/11",
           -12.45
          ]
         ],
         "hovertemplate": "<b>%{hovertext}</b><br><br>Cluster=908<br>Lat=%{customdata[0]}<br>Lon=%{customdata[3]}<br>Time=%{customdata[1]}<br>Date=%{customdata[2]}<extra></extra>",
         "hovertext": {
          "dtype": "f8",
          "bdata": "AAAAAABgjEAAAAAAAGCMQAAAAAAAYIxAAAAAAABgjEAAAAAAAGCMQA=="
         },
         "lat": {
          "dtype": "f8",
          "bdata": "KVyPwvUoHMAK16NwPQocwAAAAAAAABvAFK5H4XoUHMCuR+F6FK4bwA=="
         },
         "legendgroup": "908",
         "lon": {
          "dtype": "f8",
          "bdata": "PQrXo3A9KcAfhetRuB4pwAAAAAAAgCnAmpmZmZmZKcBmZmZmZuYowA=="
         },
         "marker": {
          "color": "#AA0DFE"
         },
         "mode": "markers",
         "name": "908",
         "showlegend": true,
         "subplot": "map",
         "type": "scattermap"
        },
        {
         "customdata": [
          [
           -38.75,
           "05:07:36.0",
           "2011/09/20",
           -16.75
          ],
          [
           -38.75,
           "08:55:52.0",
           "2011/09/21",
           -16.75
          ]
         ],
         "hovertemplate": "<b>%{hovertext}</b><br><br>Cluster=912<br>Lat=%{customdata[0]}<br>Lon=%{customdata[3]}<br>Time=%{customdata[1]}<br>Date=%{customdata[2]}<extra></extra>",
         "hovertext": {
          "dtype": "f8",
          "bdata": "AAAAAACAjEAAAAAAAICMQA=="
         },
         "lat": {
          "dtype": "f8",
          "bdata": "AAAAAABgQ8AAAAAAAGBDwA=="
         },
         "legendgroup": "912",
         "lon": {
          "dtype": "f8",
          "bdata": "AAAAAADAMMAAAAAAAMAwwA=="
         },
         "marker": {
          "color": "#3283FE"
         },
         "mode": "markers",
         "name": "912",
         "showlegend": true,
         "subplot": "map",
         "type": "scattermap"
        },
        {
         "customdata": [
          [
           -38.34,
           "13:24:39.1",
           "2011/09/20",
           -16.92
          ],
          [
           -38.34,
           "00:29:52.6",
           "2011/09/21",
           -16.84
          ],
          [
           -38.42,
           "22:43:58.4",
           "2011/09/21",
           -16.81
          ],
          [
           -38.42,
           "14:03:03.6",
           "2011/09/26",
           -16.99
          ]
         ],
         "hovertemplate": "<b>%{hovertext}</b><br><br>Cluster=913<br>Lat=%{customdata[0]}<br>Lon=%{customdata[3]}<br>Time=%{customdata[1]}<br>Date=%{customdata[2]}<extra></extra>",
         "hovertext": {
          "dtype": "f8",
          "bdata": "AAAAAACIjEAAAAAAAIiMQAAAAAAAiIxAAAAAAACIjEA="
         },
         "lat": {
          "dtype": "f8",
          "bdata": "7FG4HoUrQ8DsUbgehStDwPYoXI/CNUPA9ihcj8I1Q8A="
         },
         "legendgroup": "913",
         "lon": {
          "dtype": "f8",
          "bdata": "7FG4HoXrMMDXo3A9CtcwwI/C9ShczzDAPQrXo3D9MMA="
         },
         "marker": {
          "color": "#85660D"
         },
         "mode": "markers",
         "name": "913",
         "showlegend": true,
         "subplot": "map",
         "type": "scattermap"
        },
        {
         "customdata": [
          [
           -38.5,
           "15:35:06.7",
           "2011/09/23",
           -16.03
          ],
          [
           -38.75,
           "02:18:48.0",
           "2011/12/07",
           -16.25
          ]
         ],
         "hovertemplate": "<b>%{hovertext}</b><br><br>Cluster=915<br>Lat=%{customdata[0]}<br>Lon=%{customdata[3]}<br>Time=%{customdata[1]}<br>Date=%{customdata[2]}<extra></extra>",
         "hovertext": {
          "dtype": "f8",
          "bdata": "AAAAAACYjEAAAAAAAJiMQA=="
         },
         "lat": {
          "dtype": "f8",
          "bdata": "AAAAAABAQ8AAAAAAAGBDwA=="
         },
         "legendgroup": "915",
         "lon": {
          "dtype": "f8",
          "bdata": "SOF6FK4HMMAAAAAAAEAwwA=="
         },
         "marker": {
          "color": "#782AB6"
         },
         "mode": "markers",
         "name": "915",
         "showlegend": true,
         "subplot": "map",
         "type": "scattermap"
        },
        {
         "customdata": [
          [
           11.84,
           "12:34:51.7",
           "2011/10/21",
           44.21
          ],
          [
           11.91,
           "15:40:13.1",
           "2011/10/21",
           44.15
          ],
          [
           11.77,
           "20:03:46.9",
           "2011/10/22",
           44.19
          ],
          [
           11.87,
           "21:30:42.5",
           "2011/10/22",
           44.11
          ]
         ],
         "hovertemplate": "<b>%{hovertext}</b><br><br>Cluster=920<br>Lat=%{customdata[0]}<br>Lon=%{customdata[3]}<br>Time=%{customdata[1]}<br>Date=%{customdata[2]}<extra></extra>",
         "hovertext": {
          "dtype": "f8",
          "bdata": "AAAAAADAjEAAAAAAAMCMQAAAAAAAwIxAAAAAAADAjEA="
         },
         "lat": {
          "dtype": "f8",
          "bdata": "rkfhehSuJ0BSuB6F69EnQArXo3A9iidAPQrXo3C9J0A="
         },
         "legendgroup": "920",
         "lon": {
          "dtype": "f8",
          "bdata": "exSuR+EaRkAzMzMzMxNGQLgehetRGEZArkfhehQORkA="
         },
         "marker": {
          "color": "#565656"
         },
         "mode": "markers",
         "name": "920",
         "showlegend": true,
         "subplot": "map",
         "type": "scattermap"
        },
        {
         "customdata": [
          [
           38.72,
           "10:41:22.9",
           "2011/10/23",
           43.51
          ],
          [
           38.71,
           "18:10:45.2",
           "2011/10/23",
           43.34
          ],
          [
           38.63,
           "20:45:34.9",
           "2011/10/23",
           43.08
          ],
          [
           38.59,
           "08:28:27.1",
           "2011/10/24",
           43.54
          ],
          [
           38.67,
           "08:49:21.1",
           "2011/10/24",
           43.51
          ],
          [
           38.66,
           "15:28:06.7",
           "2011/10/24",
           43.21
          ],
          [
           38.8,
           "14:55:08.2",
           "2011/10/25",
           43.63
          ],
          [
           38.73,
           "03:16:18.4",
           "2011/10/26",
           43.3
          ],
          [
           38.89,
           "22:24:21.9",
           "2011/10/29",
           43.56
          ],
          [
           38.92,
           "02:43:12.0",
           "2011/11/06",
           43.56
          ],
          [
           38.72,
           "22:05:51.0",
           "2011/11/08",
           43.19
          ],
          [
           38.43,
           "19:23:33.2",
           "2011/11/09",
           43.23
          ],
          [
           38.66,
           "22:08:15.4",
           "2011/11/14",
           43.17
          ],
          [
           38.84,
           "17:39:43.1",
           "2011/11/18",
           43.73
          ],
          [
           38.47,
           "00:47:21.8",
           "2011/11/30",
           43.45
          ],
          [
           38.46,
           "22:15:02.3",
           "2011/12/04",
           43.3
          ],
          [
           38.72,
           "20:07:22.0",
           "2012/06/24",
           43.68
          ]
         ],
         "hovertemplate": "<b>%{hovertext}</b><br><br>Cluster=921<br>Lat=%{customdata[0]}<br>Lon=%{customdata[3]}<br>Time=%{customdata[1]}<br>Date=%{customdata[2]}<extra></extra>",
         "hovertext": {
          "dtype": "f8",
          "bdata": "AAAAAADIjEAAAAAAAMiMQAAAAAAAyIxAAAAAAADIjEAAAAAAAMiMQAAAAAAAyIxAAAAAAADIjEAAAAAAAMiMQAAAAAAAyIxAAAAAAADIjEAAAAAAAMiMQAAAAAAAyIxAAAAAAADIjEAAAAAAAMiMQAAAAAAAyIxAAAAAAADIjEAAAAAAAMiMQA=="
         },
         "lat": {
          "dtype": "f8",
          "bdata": "XI/C9ShcQ0B7FK5H4VpDQHE9CtejUENA7FG4HoVLQ0D2KFyPwlVDQBSuR+F6VENAZmZmZmZmQ0A9CtejcF1DQFK4HoXrcUNA9ihcj8J1Q0Bcj8L1KFxDQNejcD0KN0NAFK5H4XpUQ0DsUbgehWtDQFyPwvUoPENAexSuR+E6Q0Bcj8L1KFxDQA=="
         },
         "legendgroup": "921",
         "lon": {
          "dtype": "f8",
          "bdata": "4XoUrkfBRUDsUbgehatFQArXo3A9ikVAhetRuB7FRUDhehSuR8FFQHsUrkfhmkVAcT0K16PQRUBmZmZmZqZFQEjhehSux0VASOF6FK7HRUC4HoXrUZhFQD0K16NwnUVA9ihcj8KVRUA9CtejcN1FQJqZmZmZuUVAZmZmZmamRUDXo3A9CtdFQA=="
         },
         "marker": {
          "color": "#1C8356"
         },
         "mode": "markers",
         "name": "921",
         "showlegend": true,
         "subplot": "map",
         "type": "scattermap"
        },
        {
         "customdata": [
          [
           -1.6,
           "00:30:29.1",
           "2011/11/29",
           -15.45
          ],
          [
           -1.42,
           "08:24:21.0",
           "2012/11/26",
           -15.4
          ],
          [
           -1.57,
           "23:58:58.2",
           "2013/01/15",
           -15.63
          ]
         ],
         "hovertemplate": "<b>%{hovertext}</b><br><br>Cluster=931<br>Lat=%{customdata[0]}<br>Lon=%{customdata[3]}<br>Time=%{customdata[1]}<br>Date=%{customdata[2]}<extra></extra>",
         "hovertext": {
          "dtype": "f8",
          "bdata": "AAAAAAAYjUAAAAAAABiNQAAAAAAAGI1A"
         },
         "lat": {
          "dtype": "f8",
          "bdata": "mpmZmZmZ+b+4HoXrUbj2vx+F61G4Hvm/"
         },
         "legendgroup": "931",
         "lon": {
          "dtype": "f8",
          "bdata": "ZmZmZmbmLsDNzMzMzMwuwMP1KFyPQi/A"
         },
         "marker": {
          "color": "#16FF32"
         },
         "mode": "markers",
         "name": "931",
         "showlegend": true,
         "subplot": "map",
         "type": "scattermap"
        },
        {
         "customdata": [
          [
           -15.68,
           "19:06:45.5",
           "2012/01/15",
           -12.91
          ],
          [
           -15.71,
           "14:53:39.0",
           "2012/06/01",
           -13.19
          ]
         ],
         "hovertemplate": "<b>%{hovertext}</b><br><br>Cluster=938<br>Lat=%{customdata[0]}<br>Lon=%{customdata[3]}<br>Time=%{customdata[1]}<br>Date=%{customdata[2]}<extra></extra>",
         "hovertext": {
          "dtype": "f8",
          "bdata": "AAAAAABQjUAAAAAAAFCNQA=="
         },
         "lat": {
          "dtype": "f8",
          "bdata": "XI/C9ShcL8DsUbgehWsvwA=="
         },
         "legendgroup": "938",
         "lon": {
          "dtype": "f8",
          "bdata": "UrgehevRKcDhehSuR2EqwA=="
         },
         "marker": {
          "color": "#F7E1A0"
         },
         "mode": "markers",
         "name": "938",
         "showlegend": true,
         "subplot": "map",
         "type": "scattermap"
        },
        {
         "customdata": [
          [
           36.06,
           "04:24:58.3",
           "2012/01/26",
           25.07
          ],
          [
           36.04,
           "01:33:24.0",
           "2012/01/27",
           25.06
          ],
          [
           36.07,
           "09:55:06.6",
           "2012/01/29",
           25.01
          ]
         ],
         "hovertemplate": "<b>%{hovertext}</b><br><br>Cluster=941<br>Lat=%{customdata[0]}<br>Lon=%{customdata[3]}<br>Time=%{customdata[1]}<br>Date=%{customdata[2]}<extra></extra>",
         "hovertext": {
          "dtype": "f8",
          "bdata": "AAAAAABojUAAAAAAAGiNQAAAAAAAaI1A"
         },
         "lat": {
          "dtype": "f8",
          "bdata": "SOF6FK4HQkCF61G4HgVCQClcj8L1CEJA"
         },
         "legendgroup": "941",
         "lon": {
          "dtype": "f8",
          "bdata": "UrgehesROUCPwvUoXA85QMP1KFyPAjlA"
         },
         "marker": {
          "color": "#E2E2E2"
         },
         "mode": "markers",
         "name": "941",
         "showlegend": true,
         "subplot": "map",
         "type": "scattermap"
        },
        {
         "customdata": [
          [
           32.5,
           "23:18:53.8",
           "2012/02/28",
           46.91
          ],
          [
           32.44,
           "20:04:06.7",
           "2012/04/18",
           47.12
          ],
          [
           32.51,
           "01:21:07.5",
           "2012/04/20",
           47.02
          ],
          [
           32.45,
           "03:05:41.8",
           "2012/04/20",
           46.99
          ],
          [
           32.38,
           "03:52:36.8",
           "2012/04/20",
           46.96
          ],
          [
           32.52,
           "03:56:25.4",
           "2012/04/20",
           46.85
          ],
          [
           32.42,
           "15:37:03.0",
           "2012/04/20",
           46.86
          ],
          [
           32.42,
           "16:17:49.0",
           "2012/04/20",
           46.84
          ],
          [
           32.41,
           "05:25:08.4",
           "2012/04/21",
           47.05
          ]
         ],
         "hovertemplate": "<b>%{hovertext}</b><br><br>Cluster=947<br>Lat=%{customdata[0]}<br>Lon=%{customdata[3]}<br>Time=%{customdata[1]}<br>Date=%{customdata[2]}<extra></extra>",
         "hovertext": {
          "dtype": "f8",
          "bdata": "AAAAAACYjUAAAAAAAJiNQAAAAAAAmI1AAAAAAACYjUAAAAAAAJiNQAAAAAAAmI1AAAAAAACYjUAAAAAAAJiNQAAAAAAAmI1A"
         },
         "lat": {
          "dtype": "f8",
          "bdata": "AAAAAABAQEC4HoXrUThAQOF6FK5HQUBAmpmZmZk5QEBxPQrXozBAQMP1KFyPQkBA9ihcj8I1QED2KFyPwjVAQBSuR+F6NEBA"
         },
         "legendgroup": "947",
         "lon": {
          "dtype": "f8",
          "bdata": "FK5H4Xp0R0CPwvUoXI9HQMP1KFyPgkdAH4XrUbh+R0B7FK5H4XpHQM3MzMzMbEdArkfhehRuR0DsUbgehWtHQGZmZmZmhkdA"
         },
         "marker": {
          "color": "#1CBE4F"
         },
         "mode": "markers",
         "name": "947",
         "showlegend": true,
         "subplot": "map",
         "type": "scattermap"
        },
        {
         "customdata": [
          [
           35.04,
           "06:50:37.9",
           "2012/03/05",
           44.1
          ],
          [
           35.09,
           "01:57:11.8",
           "2012/05/05",
           44.1
          ]
         ],
         "hovertemplate": "<b>%{hovertext}</b><br><br>Cluster=948<br>Lat=%{customdata[0]}<br>Lon=%{customdata[3]}<br>Time=%{customdata[1]}<br>Date=%{customdata[2]}<extra></extra>",
         "hovertext": {
          "dtype": "f8",
          "bdata": "AAAAAACgjUAAAAAAAKCNQA=="
         },
         "lat": {
          "dtype": "f8",
          "bdata": "hetRuB6FQUDsUbgehYtBQA=="
         },
         "legendgroup": "948",
         "lon": {
          "dtype": "f8",
          "bdata": "zczMzMwMRkDNzMzMzAxGQA=="
         },
         "marker": {
          "color": "#C4451C"
         },
         "mode": "markers",
         "name": "948",
         "showlegend": true,
         "subplot": "map",
         "type": "scattermap"
        },
        {
         "customdata": [
          [
           32.87,
           "18:21:38.5",
           "2012/03/08",
           46.96
          ],
          [
           32.55,
           "05:25:38.2",
           "2012/03/24",
           46.98
          ],
          [
           32.58,
           "18:42:58.1",
           "2012/04/18",
           47.05
          ]
         ],
         "hovertemplate": "<b>%{hovertext}</b><br><br>Cluster=950<br>Lat=%{customdata[0]}<br>Lon=%{customdata[3]}<br>Time=%{customdata[1]}<br>Date=%{customdata[2]}<extra></extra>",
         "hovertext": {
          "dtype": "f8",
          "bdata": "AAAAAACwjUAAAAAAALCNQAAAAAAAsI1A"
         },
         "lat": {
          "dtype": "f8",
          "bdata": "j8L1KFxvQEBmZmZmZkZAQArXo3A9SkBA"
         },
         "legendgroup": "950",
         "lon": {
          "dtype": "f8",
          "bdata": "exSuR+F6R0A9CtejcH1HQGZmZmZmhkdA"
         },
         "marker": {
          "color": "#DEA0FD"
         },
         "mode": "markers",
         "name": "950",
         "showlegend": true,
         "subplot": "map",
         "type": "scattermap"
        },
        {
         "customdata": [
          [
           -16.86,
           "04:53:26.4",
           "2012/04/11",
           -14.4
          ],
          [
           -16.88,
           "05:44:41.5",
           "2012/04/11",
           -14.4
          ]
         ],
         "hovertemplate": "<b>%{hovertext}</b><br><br>Cluster=957<br>Lat=%{customdata[0]}<br>Lon=%{customdata[3]}<br>Time=%{customdata[1]}<br>Date=%{customdata[2]}<extra></extra>",
         "hovertext": {
          "dtype": "f8",
          "bdata": "AAAAAADojUAAAAAAAOiNQA=="
         },
         "lat": {
          "dtype": "f8",
          "bdata": "XI/C9SjcMMDhehSuR+EwwA=="
         },
         "legendgroup": "957",
         "lon": {
          "dtype": "f8",
          "bdata": "zczMzMzMLMDNzMzMzMwswA=="
         },
         "marker": {
          "color": "#FE00FA"
         },
         "mode": "markers",
         "name": "957",
         "showlegend": true,
         "subplot": "map",
         "type": "scattermap"
        },
        {
         "customdata": [
          [
           36.42,
           "12:44:16.6",
           "2012/06/10",
           28.88
          ],
          [
           36.44,
           "13:05:28.0",
           "2012/06/25",
           28.94
          ]
         ],
         "hovertemplate": "<b>%{hovertext}</b><br><br>Cluster=969<br>Lat=%{customdata[0]}<br>Lon=%{customdata[3]}<br>Time=%{customdata[1]}<br>Date=%{customdata[2]}<extra></extra>",
         "hovertext": {
          "dtype": "f8",
          "bdata": "AAAAAABIjkAAAAAAAEiOQA=="
         },
         "lat": {
          "dtype": "f8",
          "bdata": "9ihcj8I1QkC4HoXrUThCQA=="
         },
         "legendgroup": "969",
         "lon": {
          "dtype": "f8",
          "bdata": "4XoUrkfhPEBxPQrXo/A8QA=="
         },
         "marker": {
          "color": "#325A9B"
         },
         "mode": "markers",
         "name": "969",
         "showlegend": true,
         "subplot": "map",
         "type": "scattermap"
        },
        {
         "customdata": [
          [
           31.7,
           "06:50:06.0",
           "2012/07/24",
           50.96
          ],
          [
           31.83,
           "03:25:04.4",
           "2013/01/12",
           50.95
          ],
          [
           31.77,
           "12:11:27.9",
           "2013/01/25",
           50.91
          ]
         ],
         "hovertemplate": "<b>%{hovertext}</b><br><br>Cluster=980<br>Lat=%{customdata[0]}<br>Lon=%{customdata[3]}<br>Time=%{customdata[1]}<br>Date=%{customdata[2]}<extra></extra>",
         "hovertext": {
          "dtype": "f8",
          "bdata": "AAAAAACgjkAAAAAAAKCOQAAAAAAAoI5A"
         },
         "lat": {
          "dtype": "f8",
          "bdata": "MzMzMzOzP0AUrkfhetQ/QIXrUbgexT9A"
         },
         "legendgroup": "980",
         "lon": {
          "dtype": "f8",
          "bdata": "exSuR+F6SUCamZmZmXlJQBSuR+F6dElA"
         },
         "marker": {
          "color": "#FEAF16"
         },
         "mode": "markers",
         "name": "980",
         "showlegend": true,
         "subplot": "map",
         "type": "scattermap"
        },
        {
         "customdata": [
          [
           38.33,
           "12:23:18.2",
           "2012/08/11",
           46.83
          ],
          [
           38.39,
           "12:34:35.9",
           "2012/08/11",
           46.74
          ],
          [
           38.48,
           "22:24:02.0",
           "2012/08/11",
           46.76
          ],
          [
           38.41,
           "17:49:04.6",
           "2012/08/15",
           46.67
          ],
          [
           38.44,
           "17:14:14.4",
           "2012/08/16",
           46.69
          ],
          [
           38.42,
           "06:26:32.8",
           "2012/11/07",
           46.62
          ],
          [
           38.56,
           "03:58:25.1",
           "2012/11/16",
           46.59
          ],
          [
           38.36,
           "15:10:49.0",
           "2013/01/26",
           46.84
          ]
         ],
         "hovertemplate": "<b>%{hovertext}</b><br><br>Cluster=984<br>Lat=%{customdata[0]}<br>Lon=%{customdata[3]}<br>Time=%{customdata[1]}<br>Date=%{customdata[2]}<extra></extra>",
         "hovertext": {
          "dtype": "f8",
          "bdata": "AAAAAADAjkAAAAAAAMCOQAAAAAAAwI5AAAAAAADAjkAAAAAAAMCOQAAAAAAAwI5AAAAAAADAjkAAAAAAAMCOQA=="
         },
         "lat": {
          "dtype": "f8",
          "bdata": "CtejcD0qQ0BSuB6F6zFDQD0K16NwPUNAFK5H4Xo0Q0C4HoXrUThDQPYoXI/CNUNASOF6FK5HQ0CuR+F6FC5DQA=="
         },
         "legendgroup": "984",
         "lon": {
          "dtype": "f8",
          "bdata": "CtejcD1qR0AfhetRuF5HQOF6FK5HYUdA9ihcj8JVR0C4HoXrUVhHQI/C9ShcT0dA7FG4HoVLR0DsUbgehWtHQA=="
         },
         "marker": {
          "color": "#F8A19F"
         },
         "mode": "markers",
         "name": "984",
         "showlegend": true,
         "subplot": "map",
         "type": "scattermap"
        },
        {
         "customdata": [
          [
           34.78,
           "03:27:46.3",
           "2012/09/12",
           24.11
          ],
          [
           34.8,
           "11:26:07.4",
           "2013/04/06",
           24.09
          ]
         ],
         "hovertemplate": "<b>%{hovertext}</b><br><br>Cluster=990<br>Lat=%{customdata[0]}<br>Lon=%{customdata[3]}<br>Time=%{customdata[1]}<br>Date=%{customdata[2]}<extra></extra>",
         "hovertext": {
          "dtype": "f8",
          "bdata": "AAAAAADwjkAAAAAAAPCOQA=="
         },
         "lat": {
          "dtype": "f8",
          "bdata": "pHA9CtdjQUBmZmZmZmZBQA=="
         },
         "legendgroup": "990",
         "lon": {
          "dtype": "f8",
          "bdata": "XI/C9SgcOEDXo3A9Chc4QA=="
         },
         "marker": {
          "color": "#90AD1C"
         },
         "mode": "markers",
         "name": "990",
         "showlegend": true,
         "subplot": "map",
         "type": "scattermap"
        },
        {
         "customdata": [
          [
           -39.64,
           "06:56:16.8",
           "2012/09/14",
           -16.02
          ],
          [
           -39.59,
           "07:07:47.4",
           "2012/09/14",
           -16.06
          ],
          [
           -39.68,
           "07:18:38.4",
           "2012/09/14",
           -16.01
          ]
         ],
         "hovertemplate": "<b>%{hovertext}</b><br><br>Cluster=991<br>Lat=%{customdata[0]}<br>Lon=%{customdata[3]}<br>Time=%{customdata[1]}<br>Date=%{customdata[2]}<extra></extra>",
         "hovertext": {
          "dtype": "f8",
          "bdata": "AAAAAAD4jkAAAAAAAPiOQAAAAAAA+I5A"
         },
         "lat": {
          "dtype": "f8",
          "bdata": "UrgehevRQ8DsUbgehctDwNejcD0K10PA"
         },
         "legendgroup": "991",
         "lon": {
          "dtype": "f8",
          "bdata": "hetRuB4FMMCPwvUoXA8wwMP1KFyPAjDA"
         },
         "marker": {
          "color": "#F6222E"
         },
         "mode": "markers",
         "name": "991",
         "showlegend": true,
         "subplot": "map",
         "type": "scattermap"
        },
        {
         "customdata": [
          [
           35.3,
           "08:47:40.1",
           "2012/09/21",
           22.63
          ],
          [
           35.49,
           "15:39:17.5",
           "2012/09/21",
           22.83
          ]
         ],
         "hovertemplate": "<b>%{hovertext}</b><br><br>Cluster=993<br>Lat=%{customdata[0]}<br>Lon=%{customdata[3]}<br>Time=%{customdata[1]}<br>Date=%{customdata[2]}<extra></extra>",
         "hovertext": {
          "dtype": "f8",
          "bdata": "AAAAAAAIj0AAAAAAAAiPQA=="
         },
         "lat": {
          "dtype": "f8",
          "bdata": "ZmZmZmamQUAfhetRuL5BQA=="
         },
         "legendgroup": "993",
         "lon": {
          "dtype": "f8",
          "bdata": "4XoUrkehNkAUrkfhetQ2QA=="
         },
         "marker": {
          "color": "#1CFFCE"
         },
         "mode": "markers",
         "name": "993",
         "showlegend": true,
         "subplot": "map",
         "type": "scattermap"
        },
        {
         "customdata": [
          [
           -32.45,
           "14:38:07.1",
           "2012/09/22",
           -14.14
          ],
          [
           -32.4,
           "19:04:00.1",
           "2013/01/08",
           -14.16
          ]
         ],
         "hovertemplate": "<b>%{hovertext}</b><br><br>Cluster=995<br>Lat=%{customdata[0]}<br>Lon=%{customdata[3]}<br>Time=%{customdata[1]}<br>Date=%{customdata[2]}<extra></extra>",
         "hovertext": {
          "dtype": "f8",
          "bdata": "AAAAAAAYj0AAAAAAABiPQA=="
         },
         "lat": {
          "dtype": "f8",
          "bdata": "mpmZmZk5QMAzMzMzMzNAwA=="
         },
         "legendgroup": "995",
         "lon": {
          "dtype": "f8",
          "bdata": "SOF6FK5HLMBSuB6F61EswA=="
         },
         "marker": {
          "color": "#2ED9FF"
         },
         "mode": "markers",
         "name": "995",
         "showlegend": true,
         "subplot": "map",
         "type": "scattermap"
        },
        {
         "customdata": [
          [
           -5.75,
           "01:51:52.0",
           "2012/09/24",
           -11.25
          ],
          [
           -5.67,
           "02:01:36.9",
           "2012/09/24",
           -11.38
          ],
          [
           -5.64,
           "10:21:19.2",
           "2012/09/27",
           -11.39
          ]
         ],
         "hovertemplate": "<b>%{hovertext}</b><br><br>Cluster=996<br>Lat=%{customdata[0]}<br>Lon=%{customdata[3]}<br>Time=%{customdata[1]}<br>Date=%{customdata[2]}<extra></extra>",
         "hovertext": {
          "dtype": "f8",
          "bdata": "AAAAAAAgj0AAAAAAACCPQAAAAAAAII9A"
         },
         "lat": {
          "dtype": "f8",
          "bdata": "AAAAAAAAF8CuR+F6FK4WwI/C9ShcjxbA"
         },
         "legendgroup": "996",
         "lon": {
          "dtype": "f8",
          "bdata": "AAAAAACAJsDD9Shcj8ImwEjhehSuxybA"
         },
         "marker": {
          "color": "#B10DA1"
         },
         "mode": "markers",
         "name": "996",
         "showlegend": true,
         "subplot": "map",
         "type": "scattermap"
        },
        {
         "customdata": [
          [
           -15.28,
           "09:04:54.9",
           "2012/10/31",
           -13.17
          ],
          [
           -15.57,
           "20:29:17.9",
           "2013/02/16",
           -13.21
          ]
         ],
         "hovertemplate": "<b>%{hovertext}</b><br><br>Cluster=1003<br>Lat=%{customdata[0]}<br>Lon=%{customdata[3]}<br>Time=%{customdata[1]}<br>Date=%{customdata[2]}<extra></extra>",
         "hovertext": {
          "dtype": "f8",
          "bdata": "AAAAAABYj0AAAAAAAFiPQA=="
         },
         "lat": {
          "dtype": "f8",
          "bdata": "j8L1KFyPLsCkcD0K1yMvwA=="
         },
         "legendgroup": "1003",
         "lon": {
          "dtype": "f8",
          "bdata": "16NwPQpXKsDsUbgehWsqwA=="
         },
         "marker": {
          "color": "#C075A6"
         },
         "mode": "markers",
         "name": "1003",
         "showlegend": true,
         "subplot": "map",
         "type": "scattermap"
        },
        {
         "customdata": [
          [
           0.08,
           "16:39:17.6",
           "2012/12/06",
           -16.77
          ],
          [
           0.25,
           "14:22:40.0",
           "2013/01/12",
           -16.75
          ]
         ],
         "hovertemplate": "<b>%{hovertext}</b><br><br>Cluster=1011<br>Lat=%{customdata[0]}<br>Lon=%{customdata[3]}<br>Time=%{customdata[1]}<br>Date=%{customdata[2]}<extra></extra>",
         "hovertext": {
          "dtype": "f8",
          "bdata": "AAAAAACYj0AAAAAAAJiPQA=="
         },
         "lat": {
          "dtype": "f8",
          "bdata": "exSuR+F6tD8AAAAAAADQPw=="
         },
         "legendgroup": "1011",
         "lon": {
          "dtype": "f8",
          "bdata": "hetRuB7FMMAAAAAAAMAwwA=="
         },
         "marker": {
          "color": "#FC1CBF"
         },
         "mode": "markers",
         "name": "1011",
         "showlegend": true,
         "subplot": "map",
         "type": "scattermap"
        },
        {
         "customdata": [
          [
           -10.41,
           "20:24:26.6",
           "2012/12/26",
           -13.13
          ],
          [
           -10.25,
           "22:47:12.0",
           "2012/12/26",
           -13.25
          ]
         ],
         "hovertemplate": "<b>%{hovertext}</b><br><br>Cluster=1015<br>Lat=%{customdata[0]}<br>Lon=%{customdata[3]}<br>Time=%{customdata[1]}<br>Date=%{customdata[2]}<extra></extra>",
         "hovertext": {
          "dtype": "f8",
          "bdata": "AAAAAAC4j0AAAAAAALiPQA=="
         },
         "lat": {
          "dtype": "f8",
          "bdata": "UrgehevRJMAAAAAAAIAkwA=="
         },
         "legendgroup": "1015",
         "lon": {
          "dtype": "f8",
          "bdata": "w/UoXI9CKsAAAAAAAIAqwA=="
         },
         "marker": {
          "color": "#B00068"
         },
         "mode": "markers",
         "name": "1015",
         "showlegend": true,
         "subplot": "map",
         "type": "scattermap"
        },
        {
         "customdata": [
          [
           -33.93,
           "11:41:51.2",
           "2013/02/04",
           -14.58
          ],
          [
           -34.02,
           "11:48:42.1",
           "2013/02/04",
           -14.68
          ],
          [
           -33.9,
           "22:26:40.0",
           "2013/02/11",
           -14.54
          ],
          [
           -34.01,
           "10:02:05.6",
           "2013/05/02",
           -14.75
          ]
         ],
         "hovertemplate": "<b>%{hovertext}</b><br><br>Cluster=1023<br>Lat=%{customdata[0]}<br>Lon=%{customdata[3]}<br>Time=%{customdata[1]}<br>Date=%{customdata[2]}<extra></extra>",
         "hovertext": {
          "dtype": "f8",
          "bdata": "AAAAAAD4j0AAAAAAAPiPQAAAAAAA+I9AAAAAAAD4j0A="
         },
         "lat": {
          "dtype": "f8",
          "bdata": "16NwPQr3QMDD9ShcjwJBwDMzMzMz80DA4XoUrkcBQcA="
         },
         "legendgroup": "1023",
         "lon": {
          "dtype": "f8",
          "bdata": "KVyPwvUoLcBcj8L1KFwtwBSuR+F6FC3AAAAAAACALcA="
         },
         "marker": {
          "color": "#FBE426"
         },
         "mode": "markers",
         "name": "1023",
         "showlegend": true,
         "subplot": "map",
         "type": "scattermap"
        },
        {
         "customdata": [
          [
           -15.66,
           "22:43:42.3",
           "2013/02/16",
           -13.17
          ],
          [
           -15.61,
           "08:21:32.0",
           "2013/05/19",
           -13.19
          ]
         ],
         "hovertemplate": "<b>%{hovertext}</b><br><br>Cluster=1024<br>Lat=%{customdata[0]}<br>Lon=%{customdata[3]}<br>Time=%{customdata[1]}<br>Date=%{customdata[2]}<extra></extra>",
         "hovertext": {
          "dtype": "f8",
          "bdata": "AAAAAAAAkEAAAAAAAACQQA=="
         },
         "lat": {
          "dtype": "f8",
          "bdata": "UrgehetRL8C4HoXrUTgvwA=="
         },
         "legendgroup": "1024",
         "lon": {
          "dtype": "f8",
          "bdata": "16NwPQpXKsDhehSuR2EqwA=="
         },
         "marker": {
          "color": "#FA0087"
         },
         "mode": "markers",
         "name": "1024",
         "showlegend": true,
         "subplot": "map",
         "type": "scattermap"
        },
        {
         "customdata": [
          [
           36.68,
           "05:42:07.8",
           "2013/02/17",
           21.68
          ],
          [
           36.81,
           "11:53:47.1",
           "2013/06/06",
           21.87
          ]
         ],
         "hovertemplate": "<b>%{hovertext}</b><br><br>Cluster=1026<br>Lat=%{customdata[0]}<br>Lon=%{customdata[3]}<br>Time=%{customdata[1]}<br>Date=%{customdata[2]}<extra></extra>",
         "hovertext": {
          "dtype": "f8",
          "bdata": "AAAAAAAIkEAAAAAAAAiQQA=="
         },
         "lat": {
          "dtype": "f8",
          "bdata": "16NwPQpXQkBI4XoUrmdCQA=="
         },
         "legendgroup": "1026",
         "lon": {
          "dtype": "f8",
          "bdata": "rkfhehSuNUAfhetRuN41QA=="
         },
         "marker": {
          "color": "#AA0DFE"
         },
         "mode": "markers",
         "name": "1026",
         "showlegend": true,
         "subplot": "map",
         "type": "scattermap"
        },
        {
         "customdata": [
          [
           36.7,
           "09:07:26.5",
           "2013/05/19",
           5.26
          ],
          [
           36.74,
           "16:00:55.1",
           "2013/05/26",
           5.18
          ]
         ],
         "hovertemplate": "<b>%{hovertext}</b><br><br>Cluster=1036<br>Lat=%{customdata[0]}<br>Lon=%{customdata[3]}<br>Time=%{customdata[1]}<br>Date=%{customdata[2]}<extra></extra>",
         "hovertext": {
          "dtype": "f8",
          "bdata": "AAAAAAAwkEAAAAAAADCQQA=="
         },
         "lat": {
          "dtype": "f8",
          "bdata": "mpmZmZlZQkAfhetRuF5CQA=="
         },
         "legendgroup": "1036",
         "lon": {
          "dtype": "f8",
          "bdata": "CtejcD0KFUC4HoXrUbgUQA=="
         },
         "marker": {
          "color": "#3283FE"
         },
         "mode": "markers",
         "name": "1036",
         "showlegend": true,
         "subplot": "map",
         "type": "scattermap"
        },
        {
         "customdata": [
          [
           34.4,
           "16:11:02.5",
           "2013/06/15",
           25.02
          ],
          [
           34.35,
           "21:39:05.8",
           "2013/06/16",
           25.16
          ],
          [
           34.72,
           "04:59:29.5",
           "2013/09/08",
           25.09
          ],
          [
           34.46,
           "15:54:39.0",
           "2015/01/28",
           25.09
          ]
         ],
         "hovertemplate": "<b>%{hovertext}</b><br><br>Cluster=1040<br>Lat=%{customdata[0]}<br>Lon=%{customdata[3]}<br>Time=%{customdata[1]}<br>Date=%{customdata[2]}<extra></extra>",
         "hovertext": {
          "dtype": "f8",
          "bdata": "AAAAAABAkEAAAAAAAECQQAAAAAAAQJBAAAAAAABAkEA="
         },
         "lat": {
          "dtype": "f8",
          "bdata": "MzMzMzMzQUDNzMzMzCxBQFyPwvUoXEFAexSuR+E6QUA="
         },
         "legendgroup": "1040",
         "lon": {
          "dtype": "f8",
          "bdata": "hetRuB4FOUApXI/C9Sg5QNejcD0KFzlA16NwPQoXOUA="
         },
         "marker": {
          "color": "#85660D"
         },
         "mode": "markers",
         "name": "1040",
         "showlegend": true,
         "subplot": "map",
         "type": "scattermap"
        },
        {
         "customdata": [
          [
           1.61,
           "13:33:17.4",
           "2013/07/02",
           30.91
          ],
          [
           1.54,
           "19:21:46.0",
           "2013/07/03",
           30.89
          ],
          [
           1.55,
           "22:22:18.5",
           "2013/07/03",
           30.82
          ]
         ],
         "hovertemplate": "<b>%{hovertext}</b><br><br>Cluster=1042<br>Lat=%{customdata[0]}<br>Lon=%{customdata[3]}<br>Time=%{customdata[1]}<br>Date=%{customdata[2]}<extra></extra>",
         "hovertext": {
          "dtype": "f8",
          "bdata": "AAAAAABIkEAAAAAAAEiQQAAAAAAASJBA"
         },
         "lat": {
          "dtype": "f8",
          "bdata": "w/UoXI/C+T+kcD0K16P4P83MzMzMzPg/"
         },
         "legendgroup": "1042",
         "lon": {
          "dtype": "f8",
          "bdata": "KVyPwvXoPkCkcD0K1+M+QFK4HoXr0T5A"
         },
         "marker": {
          "color": "#782AB6"
         },
         "mode": "markers",
         "name": "1042",
         "showlegend": true,
         "subplot": "map",
         "type": "scattermap"
        },
        {
         "customdata": [
          [
           12.71,
           "02:05:23.9",
           "2013/07/11",
           48.19
          ],
          [
           12.67,
           "09:46:10.9",
           "2013/07/11",
           47.97
          ]
         ],
         "hovertemplate": "<b>%{hovertext}</b><br><br>Cluster=1044<br>Lat=%{customdata[0]}<br>Lon=%{customdata[3]}<br>Time=%{customdata[1]}<br>Date=%{customdata[2]}<extra></extra>",
         "hovertext": {
          "dtype": "f8",
          "bdata": "AAAAAABQkEAAAAAAAFCQQA=="
         },
         "lat": {
          "dtype": "f8",
          "bdata": "7FG4HoVrKUDXo3A9ClcpQA=="
         },
         "legendgroup": "1044",
         "lon": {
          "dtype": "f8",
          "bdata": "uB6F61EYSEBcj8L1KPxHQA=="
         },
         "marker": {
          "color": "#565656"
         },
         "mode": "markers",
         "name": "1044",
         "showlegend": true,
         "subplot": "map",
         "type": "scattermap"
        },
        {
         "customdata": [
          [
           -1.3,
           "22:15:10.2",
           "2013/07/22",
           -15.99
          ],
          [
           -1.25,
           "22:19:05.3",
           "2013/07/22",
           -15.98
          ],
          [
           -1.25,
           "22:51:03.1",
           "2013/07/22",
           -15.78
          ]
         ],
         "hovertemplate": "<b>%{hovertext}</b><br><br>Cluster=1047<br>Lat=%{customdata[0]}<br>Lon=%{customdata[3]}<br>Time=%{customdata[1]}<br>Date=%{customdata[2]}<extra></extra>",
         "hovertext": {
          "dtype": "f8",
          "bdata": "AAAAAABckEAAAAAAAFyQQAAAAAAAXJBA"
         },
         "lat": {
          "dtype": "f8",
          "bdata": "zczMzMzM9L8AAAAAAAD0vwAAAAAAAPS/"
         },
         "legendgroup": "1047",
         "lon": {
          "dtype": "f8",
          "bdata": "exSuR+H6L8D2KFyPwvUvwI/C9Shcjy/A"
         },
         "marker": {
          "color": "#1C8356"
         },
         "mode": "markers",
         "name": "1047",
         "showlegend": true,
         "subplot": "map",
         "type": "scattermap"
        },
        {
         "customdata": [
          [
           38.69,
           "09:06:52.2",
           "2013/08/07",
           22.69
          ],
          [
           38.7,
           "13:10:10.4",
           "2013/08/09",
           22.66
          ],
          [
           38.71,
           "15:01:14.4",
           "2013/09/16",
           22.73
          ],
          [
           38.92,
           "18:09:28.2",
           "2013/11/12",
           23.1
          ],
          [
           38.7,
           "08:14:03.2",
           "2014/02/01",
           22.75
          ]
         ],
         "hovertemplate": "<b>%{hovertext}</b><br><br>Cluster=1048<br>Lat=%{customdata[0]}<br>Lon=%{customdata[3]}<br>Time=%{customdata[1]}<br>Date=%{customdata[2]}<extra></extra>",
         "hovertext": {
          "dtype": "f8",
          "bdata": "AAAAAABgkEAAAAAAAGCQQAAAAAAAYJBAAAAAAABgkEAAAAAAAGCQQA=="
         },
         "lat": {
          "dtype": "f8",
          "bdata": "uB6F61FYQ0CamZmZmVlDQHsUrkfhWkNA9ihcj8J1Q0CamZmZmVlDQA=="
         },
         "legendgroup": "1048",
         "lon": {
          "dtype": "f8",
          "bdata": "cT0K16OwNkApXI/C9ag2QHsUrkfhujZAmpmZmZkZN0AAAAAAAMA2QA=="
         },
         "marker": {
          "color": "#16FF32"
         },
         "mode": "markers",
         "name": "1048",
         "showlegend": true,
         "subplot": "map",
         "type": "scattermap"
        },
        {
         "customdata": [
          [
           -6.25,
           "02:56:40.0",
           "2013/09/02",
           -11.25
          ],
          [
           -6.11,
           "03:44:57.8",
           "2013/09/02",
           -11.27
          ],
          [
           -6.25,
           "04:02:00.0",
           "2013/09/02",
           -11.25
          ]
         ],
         "hovertemplate": "<b>%{hovertext}</b><br><br>Cluster=1053<br>Lat=%{customdata[0]}<br>Lon=%{customdata[3]}<br>Time=%{customdata[1]}<br>Date=%{customdata[2]}<extra></extra>",
         "hovertext": {
          "dtype": "f8",
          "bdata": "AAAAAAB0kEAAAAAAAHSQQAAAAAAAdJBA"
         },
         "lat": {
          "dtype": "f8",
          "bdata": "AAAAAAAAGcBxPQrXo3AYwAAAAAAAABnA"
         },
         "legendgroup": "1053",
         "lon": {
          "dtype": "f8",
          "bdata": "AAAAAACAJsAK16NwPYomwAAAAAAAgCbA"
         },
         "marker": {
          "color": "#F7E1A0"
         },
         "mode": "markers",
         "name": "1053",
         "showlegend": true,
         "subplot": "map",
         "type": "scattermap"
        },
        {
         "customdata": [
          [
           -17.25,
           "07:19:12.0",
           "2013/09/19",
           -13.75
          ],
          [
           -17.25,
           "13:25:04.0",
           "2013/09/21",
           -13.75
          ]
         ],
         "hovertemplate": "<b>%{hovertext}</b><br><br>Cluster=1059<br>Lat=%{customdata[0]}<br>Lon=%{customdata[3]}<br>Time=%{customdata[1]}<br>Date=%{customdata[2]}<extra></extra>",
         "hovertext": {
          "dtype": "f8",
          "bdata": "AAAAAACMkEAAAAAAAIyQQA=="
         },
         "lat": {
          "dtype": "f8",
          "bdata": "AAAAAABAMcAAAAAAAEAxwA=="
         },
         "legendgroup": "1059",
         "lon": {
          "dtype": "f8",
          "bdata": "AAAAAACAK8AAAAAAAIArwA=="
         },
         "marker": {
          "color": "#E2E2E2"
         },
         "mode": "markers",
         "name": "1059",
         "showlegend": true,
         "subplot": "map",
         "type": "scattermap"
        },
        {
         "customdata": [
          [
           -11.67,
           "07:40:40.4",
           "2013/11/02",
           -13.61
          ],
          [
           -11.5,
           "07:46:56.0",
           "2013/11/02",
           -13.5
          ]
         ],
         "hovertemplate": "<b>%{hovertext}</b><br><br>Cluster=1064<br>Lat=%{customdata[0]}<br>Lon=%{customdata[3]}<br>Time=%{customdata[1]}<br>Date=%{customdata[2]}<extra></extra>",
         "hovertext": {
          "dtype": "f8",
          "bdata": "AAAAAACgkEAAAAAAAKCQQA=="
         },
         "lat": {
          "dtype": "f8",
          "bdata": "16NwPQpXJ8AAAAAAAAAnwA=="
         },
         "legendgroup": "1064",
         "lon": {
          "dtype": "f8",
          "bdata": "uB6F61E4K8AAAAAAAAArwA=="
         },
         "marker": {
          "color": "#1CBE4F"
         },
         "mode": "markers",
         "name": "1064",
         "showlegend": true,
         "subplot": "map",
         "type": "scattermap"
        },
        {
         "customdata": [
          [
           34.46,
           "06:51:25.1",
           "2013/11/22",
           45.49
          ],
          [
           34.31,
           "18:30:58.0",
           "2013/11/22",
           45.61
          ],
          [
           34.18,
           "18:05:41.7",
           "2013/11/24",
           45.62
          ]
         ],
         "hovertemplate": "<b>%{hovertext}</b><br><br>Cluster=1069<br>Lat=%{customdata[0]}<br>Lon=%{customdata[3]}<br>Time=%{customdata[1]}<br>Date=%{customdata[2]}<extra></extra>",
         "hovertext": {
          "dtype": "f8",
          "bdata": "AAAAAAC0kEAAAAAAALSQQAAAAAAAtJBA"
         },
         "lat": {
          "dtype": "f8",
          "bdata": "exSuR+E6QUBI4XoUridBQNejcD0KF0FA"
         },
         "legendgroup": "1069",
         "lon": {
          "dtype": "f8",
          "bdata": "H4XrUbi+RkCuR+F6FM5GQI/C9Shcz0ZA"
         },
         "marker": {
          "color": "#C4451C"
         },
         "mode": "markers",
         "name": "1069",
         "showlegend": true,
         "subplot": "map",
         "type": "scattermap"
        },
        {
         "customdata": [
          [
           -1.06,
           "19:20:15.2",
           "2013/11/30",
           26.85
          ],
          [
           -0.95,
           "08:14:02.1",
           "2013/12/01",
           26.79
          ]
         ],
         "hovertemplate": "<b>%{hovertext}</b><br><br>Cluster=1070<br>Lat=%{customdata[0]}<br>Lon=%{customdata[3]}<br>Time=%{customdata[1]}<br>Date=%{customdata[2]}<extra></extra>",
         "hovertext": {
          "dtype": "f8",
          "bdata": "AAAAAAC4kEAAAAAAALiQQA=="
         },
         "lat": {
          "dtype": "f8",
          "bdata": "9ihcj8L18L9mZmZmZmbuvw=="
         },
         "legendgroup": "1070",
         "lon": {
          "dtype": "f8",
          "bdata": "mpmZmZnZOkAK16NwPco6QA=="
         },
         "marker": {
          "color": "#DEA0FD"
         },
         "mode": "markers",
         "name": "1070",
         "showlegend": true,
         "subplot": "map",
         "type": "scattermap"
        },
        {
         "customdata": [
          [
           36.04,
           "15:21:04.0",
           "2013/12/28",
           31.31
          ],
          [
           36.21,
           "21:00:04.3",
           "2014/09/04",
           30.82
          ]
         ],
         "hovertemplate": "<b>%{hovertext}</b><br><br>Cluster=1073<br>Lat=%{customdata[0]}<br>Lon=%{customdata[3]}<br>Time=%{customdata[1]}<br>Date=%{customdata[2]}<extra></extra>",
         "hovertext": {
          "dtype": "f8",
          "bdata": "AAAAAADEkEAAAAAAAMSQQA=="
         },
         "lat": {
          "dtype": "f8",
          "bdata": "hetRuB4FQkB7FK5H4RpCQA=="
         },
         "legendgroup": "1073",
         "lon": {
          "dtype": "f8",
          "bdata": "j8L1KFxPP0BSuB6F69E+QA=="
         },
         "marker": {
          "color": "#FE00FA"
         },
         "mode": "markers",
         "name": "1073",
         "showlegend": true,
         "subplot": "map",
         "type": "scattermap"
        },
        {
         "customdata": [
          [
           38.21,
           "13:55:42.2",
           "2014/01/26",
           20.45
          ],
          [
           38.24,
           "18:45:07.9",
           "2014/01/26",
           20.42
          ],
          [
           38.13,
           "21:15:34.7",
           "2014/01/26",
           20.3
          ],
          [
           38.38,
           "11:06:17.4",
           "2014/01/30",
           20.5
          ],
          [
           38.17,
           "16:33:38.5",
           "2014/02/01",
           20.37
          ],
          [
           38.26,
           "03:08:46.2",
           "2014/02/03",
           20.39
          ],
          [
           38.19,
           "08:22:59.1",
           "2014/02/09",
           20.35
          ],
          [
           38.19,
           "03:38:36.1",
           "2014/02/14",
           20.4
          ],
          [
           38.3,
           "07:31:19.4",
           "2014/02/15",
           20.39
          ],
          [
           38.11,
           "12:49:21.2",
           "2014/03/05",
           20.35
          ],
          [
           38.1,
           "23:15:42.2",
           "2014/11/08",
           20.44
          ],
          [
           38.35,
           "15:48:41.4",
           "2015/03/31",
           20.39
          ]
         ],
         "hovertemplate": "<b>%{hovertext}</b><br><br>Cluster=1076<br>Lat=%{customdata[0]}<br>Lon=%{customdata[3]}<br>Time=%{customdata[1]}<br>Date=%{customdata[2]}<extra></extra>",
         "hovertext": {
          "dtype": "f8",
          "bdata": "AAAAAADQkEAAAAAAANCQQAAAAAAA0JBAAAAAAADQkEAAAAAAANCQQAAAAAAA0JBAAAAAAADQkEAAAAAAANCQQAAAAAAA0JBAAAAAAADQkEAAAAAAANCQQAAAAAAA0JBA"
         },
         "lat": {
          "dtype": "f8",
          "bdata": "exSuR+EaQ0AfhetRuB5DQHE9CtejEENAcT0K16MwQ0D2KFyPwhVDQOF6FK5HIUNAuB6F61EYQ0C4HoXrURhDQGZmZmZmJkNArkfhehQOQ0DNzMzMzAxDQM3MzMzMLENA"
         },
         "legendgroup": "1076",
         "lon": {
          "dtype": "f8",
          "bdata": "MzMzMzNzNEDsUbgehWs0QM3MzMzMTDRAAAAAAACANEAfhetRuF40QKRwPQrXYzRAmpmZmZlZNEBmZmZmZmY0QKRwPQrXYzRAmpmZmZlZNEBxPQrXo3A0QKRwPQrXYzRA"
         },
         "marker": {
          "color": "#325A9B"
         },
         "mode": "markers",
         "name": "1076",
         "showlegend": true,
         "subplot": "map",
         "type": "scattermap"
        },
        {
         "customdata": [
          [
           -35.5,
           "13:59:20.0",
           "2014/03/23",
           -15.5
          ],
          [
           -35.6,
           "22:39:28.4",
           "2014/05/05",
           -15.47
          ]
         ],
         "hovertemplate": "<b>%{hovertext}</b><br><br>Cluster=1084<br>Lat=%{customdata[0]}<br>Lon=%{customdata[3]}<br>Time=%{customdata[1]}<br>Date=%{customdata[2]}<extra></extra>",
         "hovertext": {
          "dtype": "f8",
          "bdata": "AAAAAADwkEAAAAAAAPCQQA=="
         },
         "lat": {
          "dtype": "f8",
          "bdata": "AAAAAADAQcDNzMzMzMxBwA=="
         },
         "legendgroup": "1084",
         "lon": {
          "dtype": "f8",
          "bdata": "AAAAAAAAL8BxPQrXo/AuwA=="
         },
         "marker": {
          "color": "#FEAF16"
         },
         "mode": "markers",
         "name": "1084",
         "showlegend": true,
         "subplot": "map",
         "type": "scattermap"
        },
        {
         "customdata": [
          [
           35.48,
           "02:56:31.6",
           "2014/04/25",
           21.68
          ],
          [
           35.58,
           "17:20:32.9",
           "2014/04/25",
           21.67
          ]
         ],
         "hovertemplate": "<b>%{hovertext}</b><br><br>Cluster=1090<br>Lat=%{customdata[0]}<br>Lon=%{customdata[3]}<br>Time=%{customdata[1]}<br>Date=%{customdata[2]}<extra></extra>",
         "hovertext": {
          "dtype": "f8",
          "bdata": "AAAAAAAIkUAAAAAAAAiRQA=="
         },
         "lat": {
          "dtype": "f8",
          "bdata": "PQrXo3C9QUAK16NwPcpBQA=="
         },
         "legendgroup": "1090",
         "lon": {
          "dtype": "f8",
          "bdata": "rkfhehSuNUDsUbgehas1QA=="
         },
         "marker": {
          "color": "#F8A19F"
         },
         "mode": "markers",
         "name": "1090",
         "showlegend": true,
         "subplot": "map",
         "type": "scattermap"
        },
        {
         "customdata": [
          [
           29.57,
           "09:46:28.3",
           "2014/05/21",
           50.9
          ],
          [
           29.63,
           "10:51:27.7",
           "2014/05/21",
           50.86
          ]
         ],
         "hovertemplate": "<b>%{hovertext}</b><br><br>Cluster=1094<br>Lat=%{customdata[0]}<br>Lon=%{customdata[3]}<br>Time=%{customdata[1]}<br>Date=%{customdata[2]}<extra></extra>",
         "hovertext": {
          "dtype": "f8",
          "bdata": "AAAAAAAYkUAAAAAAABiRQA=="
         },
         "lat": {
          "dtype": "f8",
          "bdata": "UrgeheuRPUDhehSuR6E9QA=="
         },
         "legendgroup": "1094",
         "lon": {
          "dtype": "f8",
          "bdata": "MzMzMzNzSUCuR+F6FG5JQA=="
         },
         "marker": {
          "color": "#90AD1C"
         },
         "mode": "markers",
         "name": "1094",
         "showlegend": true,
         "subplot": "map",
         "type": "scattermap"
        },
        {
         "customdata": [
          [
           -14.32,
           "04:41:33.8",
           "2014/07/13",
           -13.64
          ],
          [
           -14.14,
           "04:49:44.0",
           "2014/07/13",
           -13.64
          ]
         ],
         "hovertemplate": "<b>%{hovertext}</b><br><br>Cluster=1102<br>Lat=%{customdata[0]}<br>Lon=%{customdata[3]}<br>Time=%{customdata[1]}<br>Date=%{customdata[2]}<extra></extra>",
         "hovertext": {
          "dtype": "f8",
          "bdata": "AAAAAAA4kUAAAAAAADiRQA=="
         },
         "lat": {
          "dtype": "f8",
          "bdata": "pHA9CtejLMBI4XoUrkcswA=="
         },
         "legendgroup": "1102",
         "lon": {
          "dtype": "f8",
          "bdata": "SOF6FK5HK8BI4XoUrkcrwA=="
         },
         "marker": {
          "color": "#F6222E"
         },
         "mode": "markers",
         "name": "1102",
         "showlegend": true,
         "subplot": "map",
         "type": "scattermap"
        },
        {
         "customdata": [
          [
           36.86,
           "04:11:16.5",
           "2014/08/01",
           3.18
          ],
          [
           36.53,
           "08:00:22.0",
           "2014/12/23",
           3.09
          ],
          [
           36.52,
           "17:55:18.1",
           "2014/12/26",
           3.07
          ]
         ],
         "hovertemplate": "<b>%{hovertext}</b><br><br>Cluster=1106<br>Lat=%{customdata[0]}<br>Lon=%{customdata[3]}<br>Time=%{customdata[1]}<br>Date=%{customdata[2]}<extra></extra>",
         "hovertext": {
          "dtype": "f8",
          "bdata": "AAAAAABIkUAAAAAAAEiRQAAAAAAASJFA"
         },
         "lat": {
          "dtype": "f8",
          "bdata": "rkfhehRuQkCkcD0K10NCQMP1KFyPQkJA"
         },
         "legendgroup": "1106",
         "lon": {
          "dtype": "f8",
          "bdata": "cT0K16NwCUC4HoXrUbgIQI/C9ShcjwhA"
         },
         "marker": {
          "color": "#1CFFCE"
         },
         "mode": "markers",
         "name": "1106",
         "showlegend": true,
         "subplot": "map",
         "type": "scattermap"
        },
        {
         "customdata": [
          [
           32.7,
           "14:47:20.3",
           "2014/08/17",
           47.64
          ],
          [
           32.7,
           "02:32:05.3",
           "2014/08/18",
           47.69
          ],
          [
           32.72,
           "05:25:51.0",
           "2014/08/18",
           47.69
          ],
          [
           32.76,
           "08:05:26.0",
           "2014/08/18",
           47.6
          ],
          [
           32.67,
           "11:01:40.3",
           "2014/08/18",
           47.72
          ],
          [
           32.7,
           "11:23:04.2",
           "2014/08/18",
           47.62
          ],
          [
           32.78,
           "11:51:35.0",
           "2014/08/18",
           47.68
          ],
          [
           32.58,
           "18:08:22.8",
           "2014/08/18",
           47.7
          ],
          [
           32.7,
           "18:54:57.8",
           "2014/08/18",
           47.57
          ],
          [
           32.71,
           "21:44:28.3",
           "2014/08/18",
           47.56
          ],
          [
           32.74,
           "21:32:16.4",
           "2014/08/19",
           47.53
          ],
          [
           32.64,
           "10:14:15.7",
           "2014/08/20",
           47.74
          ],
          [
           32.73,
           "10:39:59.0",
           "2014/08/22",
           47.62
          ],
          [
           32.72,
           "20:05:18.7",
           "2014/08/23",
           47.77
          ],
          [
           32.68,
           "02:44:52.1",
           "2014/08/24",
           47.79
          ],
          [
           32.53,
           "13:35:52.8",
           "2014/10/15",
           47.81
          ]
         ],
         "hovertemplate": "<b>%{hovertext}</b><br><br>Cluster=1109<br>Lat=%{customdata[0]}<br>Lon=%{customdata[3]}<br>Time=%{customdata[1]}<br>Date=%{customdata[2]}<extra></extra>",
         "hovertext": {
          "dtype": "f8",
          "bdata": "AAAAAABUkUAAAAAAAFSRQAAAAAAAVJFAAAAAAABUkUAAAAAAAFSRQAAAAAAAVJFAAAAAAABUkUAAAAAAAFSRQAAAAAAAVJFAAAAAAABUkUAAAAAAAFSRQAAAAAAAVJFAAAAAAABUkUAAAAAAAFSRQAAAAAAAVJFAAAAAAABUkUA="
         },
         "lat": {
          "dtype": "f8",
          "bdata": "mpmZmZlZQECamZmZmVlAQFyPwvUoXEBA4XoUrkdhQED2KFyPwlVAQJqZmZmZWUBApHA9CtdjQEAK16NwPUpAQJqZmZmZWUBAexSuR+FaQEAfhetRuF5AQFK4HoXrUUBAPQrXo3BdQEBcj8L1KFxAQNejcD0KV0BApHA9CtdDQEA="
         },
         "legendgroup": "1109",
         "lon": {
          "dtype": "f8",
          "bdata": "UrgehevRR0C4HoXrUdhHQLgehetR2EdAzczMzMzMR0Bcj8L1KNxHQI/C9Shcz0dA16NwPQrXR0CamZmZmdlHQClcj8L1yEdASOF6FK7HR0CkcD0K18NHQB+F61G43kdAj8L1KFzPR0DD9Shcj+JHQIXrUbge5UdASOF6FK7nR0A="
         },
         "marker": {
          "color": "#2ED9FF"
         },
         "mode": "markers",
         "name": "1109",
         "showlegend": true,
         "subplot": "map",
         "type": "scattermap"
        },
        {
         "customdata": [
          [
           38.35,
           "00:43:40.0",
           "2014/09/21",
           21.83
          ],
          [
           38.35,
           "17:13:00.6",
           "2014/11/07",
           22.27
          ]
         ],
         "hovertemplate": "<b>%{hovertext}</b><br><br>Cluster=1116<br>Lat=%{customdata[0]}<br>Lon=%{customdata[3]}<br>Time=%{customdata[1]}<br>Date=%{customdata[2]}<extra></extra>",
         "hovertext": {
          "dtype": "f8",
          "bdata": "AAAAAABwkUAAAAAAAHCRQA=="
         },
         "lat": {
          "dtype": "f8",
          "bdata": "zczMzMwsQ0DNzMzMzCxDQA=="
         },
         "legendgroup": "1116",
         "lon": {
          "dtype": "f8",
          "bdata": "FK5H4XrUNUCF61G4HkU2QA=="
         },
         "marker": {
          "color": "#B10DA1"
         },
         "mode": "markers",
         "name": "1116",
         "showlegend": true,
         "subplot": "map",
         "type": "scattermap"
        },
        {
         "customdata": [
          [
           -35.0,
           "20:58:40.0",
           "2014/09/29",
           -15.0
          ],
          [
           -35.09,
           "23:52:57.2",
           "2014/09/29",
           -15.12
          ]
         ],
         "hovertemplate": "<b>%{hovertext}</b><br><br>Cluster=1117<br>Lat=%{customdata[0]}<br>Lon=%{customdata[3]}<br>Time=%{customdata[1]}<br>Date=%{customdata[2]}<extra></extra>",
         "hovertext": {
          "dtype": "f8",
          "bdata": "AAAAAAB0kUAAAAAAAHSRQA=="
         },
         "lat": {
          "dtype": "f8",
          "bdata": "AAAAAACAQcDsUbgehYtBwA=="
         },
         "legendgroup": "1117",
         "lon": {
          "dtype": "f8",
          "bdata": "AAAAAAAALsA9CtejcD0uwA=="
         },
         "marker": {
          "color": "#C075A6"
         },
         "mode": "markers",
         "name": "1117",
         "showlegend": true,
         "subplot": "map",
         "type": "scattermap"
        },
        {
         "customdata": [
          [
           -5.37,
           "16:50:01.7",
           "2014/10/31",
           35.88
          ],
          [
           -5.42,
           "17:04:58.2",
           "2014/10/31",
           35.9
          ]
         ],
         "hovertemplate": "<b>%{hovertext}</b><br><br>Cluster=1125<br>Lat=%{customdata[0]}<br>Lon=%{customdata[3]}<br>Time=%{customdata[1]}<br>Date=%{customdata[2]}<extra></extra>",
         "hovertext": {
          "dtype": "f8",
          "bdata": "AAAAAACUkUAAAAAAAJSRQA=="
         },
         "lat": {
          "dtype": "f8",
          "bdata": "exSuR+F6FcCuR+F6FK4VwA=="
         },
         "legendgroup": "1125",
         "lon": {
          "dtype": "f8",
          "bdata": "cT0K16PwQUAzMzMzM/NBQA=="
         },
         "marker": {
          "color": "#FC1CBF"
         },
         "mode": "markers",
         "name": "1125",
         "showlegend": true,
         "subplot": "map",
         "type": "scattermap"
        },
        {
         "customdata": [
          [
           38.67,
           "23:05:58.1",
           "2014/11/17",
           23.38
          ],
          [
           38.68,
           "23:09:04.7",
           "2014/11/17",
           23.24
          ],
          [
           38.62,
           "01:09:03.0",
           "2015/06/09",
           23.39
          ]
         ],
         "hovertemplate": "<b>%{hovertext}</b><br><br>Cluster=1129<br>Lat=%{customdata[0]}<br>Lon=%{customdata[3]}<br>Time=%{customdata[1]}<br>Date=%{customdata[2]}<extra></extra>",
         "hovertext": {
          "dtype": "f8",
          "bdata": "AAAAAACkkUAAAAAAAKSRQAAAAAAApJFA"
         },
         "lat": {
          "dtype": "f8",
          "bdata": "9ihcj8JVQ0DXo3A9CldDQI/C9ShcT0NA"
         },
         "legendgroup": "1129",
         "lon": {
          "dtype": "f8",
          "bdata": "4XoUrkdhN0A9CtejcD03QKRwPQrXYzdA"
         },
         "marker": {
          "color": "#B00068"
         },
         "mode": "markers",
         "name": "1129",
         "showlegend": true,
         "subplot": "map",
         "type": "scattermap"
        },
        {
         "customdata": [
          [
           -24.57,
           "18:38:51.5",
           "2014/11/19",
           -13.13
          ],
          [
           -24.74,
           "12:02:49.9",
           "2015/01/27",
           -13.34
          ]
         ],
         "hovertemplate": "<b>%{hovertext}</b><br><br>Cluster=1130<br>Lat=%{customdata[0]}<br>Lon=%{customdata[3]}<br>Time=%{customdata[1]}<br>Date=%{customdata[2]}<extra></extra>",
         "hovertext": {
          "dtype": "f8",
          "bdata": "AAAAAACokUAAAAAAAKiRQA=="
         },
         "lat": {
          "dtype": "f8",
          "bdata": "UrgeheuROMA9CtejcL04wA=="
         },
         "legendgroup": "1130",
         "lon": {
          "dtype": "f8",
          "bdata": "w/UoXI9CKsCuR+F6FK4qwA=="
         },
         "marker": {
          "color": "#FBE426"
         },
         "mode": "markers",
         "name": "1130",
         "showlegend": true,
         "subplot": "map",
         "type": "scattermap"
        },
        {
         "customdata": [
          [
           -35.25,
           "11:25:36.0",
           "2014/12/01",
           -15.25
          ],
          [
           -35.25,
           "11:42:24.0",
           "2014/12/01",
           -15.25
          ],
          [
           -35.0,
           "20:42:16.0",
           "2014/12/01",
           -15.0
          ]
         ],
         "hovertemplate": "<b>%{hovertext}</b><br><br>Cluster=1133<br>Lat=%{customdata[0]}<br>Lon=%{customdata[3]}<br>Time=%{customdata[1]}<br>Date=%{customdata[2]}<extra></extra>",
         "hovertext": {
          "dtype": "f8",
          "bdata": "AAAAAAC0kUAAAAAAALSRQAAAAAAAtJFA"
         },
         "lat": {
          "dtype": "f8",
          "bdata": "AAAAAACgQcAAAAAAAKBBwAAAAAAAgEHA"
         },
         "legendgroup": "1133",
         "lon": {
          "dtype": "f8",
          "bdata": "AAAAAACALsAAAAAAAIAuwAAAAAAAAC7A"
         },
         "marker": {
          "color": "#FA0087"
         },
         "mode": "markers",
         "name": "1133",
         "showlegend": true,
         "subplot": "map",
         "type": "scattermap"
        },
        {
         "customdata": [
          [
           38.89,
           "01:45:06.8",
           "2014/12/06",
           26.27
          ],
          [
           38.9,
           "06:20:53.0",
           "2014/12/06",
           26.27
          ]
         ],
         "hovertemplate": "<b>%{hovertext}</b><br><br>Cluster=1134<br>Lat=%{customdata[0]}<br>Lon=%{customdata[3]}<br>Time=%{customdata[1]}<br>Date=%{customdata[2]}<extra></extra>",
         "hovertext": {
          "dtype": "f8",
          "bdata": "AAAAAAC4kUAAAAAAALiRQA=="
         },
         "lat": {
          "dtype": "f8",
          "bdata": "UrgehetxQ0AzMzMzM3NDQA=="
         },
         "legendgroup": "1134",
         "lon": {
          "dtype": "f8",
          "bdata": "hetRuB5FOkCF61G4HkU6QA=="
         },
         "marker": {
          "color": "#AA0DFE"
         },
         "mode": "markers",
         "name": "1134",
         "showlegend": true,
         "subplot": "map",
         "type": "scattermap"
        },
        {
         "customdata": [
          [
           -16.83,
           "18:47:21.0",
           "2015/01/11",
           -14.48
          ],
          [
           -16.85,
           "03:04:20.3",
           "2015/01/12",
           -14.37
          ],
          [
           -16.79,
           "05:41:51.9",
           "2015/01/12",
           -14.42
          ],
          [
           -16.75,
           "12:54:48.0",
           "2015/01/12",
           -14.25
          ],
          [
           -16.75,
           "11:20:24.0",
           "2015/01/13",
           -14.25
          ],
          [
           -16.69,
           "09:23:28.7",
           "2015/01/14",
           -14.49
          ],
          [
           -16.92,
           "15:44:45.4",
           "2015/01/18",
           -14.3
          ],
          [
           -16.84,
           "18:54:54.7",
           "2015/01/18",
           -14.39
          ],
          [
           -16.89,
           "16:54:24.1",
           "2015/02/14",
           -14.6
          ],
          [
           -16.8,
           "10:14:10.5",
           "2015/05/19",
           -14.16
          ]
         ],
         "hovertemplate": "<b>%{hovertext}</b><br><br>Cluster=1138<br>Lat=%{customdata[0]}<br>Lon=%{customdata[3]}<br>Time=%{customdata[1]}<br>Date=%{customdata[2]}<extra></extra>",
         "hovertext": {
          "dtype": "f8",
          "bdata": "AAAAAADIkUAAAAAAAMiRQAAAAAAAyJFAAAAAAADIkUAAAAAAAMiRQAAAAAAAyJFAAAAAAADIkUAAAAAAAMiRQAAAAAAAyJFAAAAAAADIkUA="
         },
         "lat": {
          "dtype": "f8",
          "bdata": "FK5H4XrUMMCamZmZmdkwwArXo3A9yjDAAAAAAADAMMAAAAAAAMAwwHE9CtejsDDA7FG4HoXrMMDXo3A9CtcwwKRwPQrX4zDAzczMzMzMMMA="
         },
         "legendgroup": "1138",
         "lon": {
          "dtype": "f8",
          "bdata": "9ihcj8L1LMA9CtejcL0swNejcD0K1yzAAAAAAACALMAAAAAAAIAswHsUrkfh+izAmpmZmZmZLMBI4XoUrscswDMzMzMzMy3AUrgehetRLMA="
         },
         "marker": {
          "color": "#3283FE"
         },
         "mode": "markers",
         "name": "1138",
         "showlegend": true,
         "subplot": "map",
         "type": "scattermap"
        },
        {
         "customdata": [
          [
           -17.16,
           "20:16:60.0",
           "2015/01/11",
           -14.09
          ],
          [
           -17.25,
           "11:38:08.0",
           "2015/01/13",
           -14.25
          ],
          [
           -16.91,
           "03:34:31.3",
           "2015/01/30",
           -14.23
          ],
          [
           -16.85,
           "11:34:06.4",
           "2015/02/21",
           -14.12
          ],
          [
           -16.85,
           "04:53:23.6",
           "2015/05/24",
           -14.17
          ],
          [
           -16.79,
           "02:06:24.8",
           "2015/05/25",
           -14.22
          ],
          [
           -16.82,
           "00:11:09.8",
           "2015/06/02",
           -14.2
          ]
         ],
         "hovertemplate": "<b>%{hovertext}</b><br><br>Cluster=1139<br>Lat=%{customdata[0]}<br>Lon=%{customdata[3]}<br>Time=%{customdata[1]}<br>Date=%{customdata[2]}<extra></extra>",
         "hovertext": {
          "dtype": "f8",
          "bdata": "AAAAAADMkUAAAAAAAMyRQAAAAAAAzJFAAAAAAADMkUAAAAAAAMyRQAAAAAAAzJFAAAAAAADMkUA="
         },
         "lat": {
          "dtype": "f8",
          "bdata": "KVyPwvUoMcAAAAAAAEAxwClcj8L16DDAmpmZmZnZMMCamZmZmdkwwArXo3A9yjDAUrgehevRMMA="
         },
         "legendgroup": "1139",
         "lon": {
          "dtype": "f8",
          "bdata": "rkfhehQuLMAAAAAAAIAswPYoXI/CdSzAPQrXo3A9LMDXo3A9ClcswHE9CtejcCzAZmZmZmZmLMA="
         },
         "marker": {
          "color": "#85660D"
         },
         "mode": "markers",
         "name": "1139",
         "showlegend": true,
         "subplot": "map",
         "type": "scattermap"
        },
        {
         "customdata": [
          [
           -16.5,
           "02:18:40.0",
           "2015/01/15",
           -14.5
          ],
          [
           -16.71,
           "07:15:13.9",
           "2015/01/15",
           -14.39
          ]
         ],
         "hovertemplate": "<b>%{hovertext}</b><br><br>Cluster=1141<br>Lat=%{customdata[0]}<br>Lon=%{customdata[3]}<br>Time=%{customdata[1]}<br>Date=%{customdata[2]}<extra></extra>",
         "hovertext": {
          "dtype": "f8",
          "bdata": "AAAAAADUkUAAAAAAANSRQA=="
         },
         "lat": {
          "dtype": "f8",
          "bdata": "AAAAAACAMMD2KFyPwrUwwA=="
         },
         "legendgroup": "1141",
         "lon": {
          "dtype": "f8",
          "bdata": "AAAAAAAALcBI4XoUrscswA=="
         },
         "marker": {
          "color": "#782AB6"
         },
         "mode": "markers",
         "name": "1141",
         "showlegend": true,
         "subplot": "map",
         "type": "scattermap"
        },
        {
         "customdata": [
          [
           -26.11,
           "20:29:13.4",
           "2015/01/15",
           -11.52
          ],
          [
           -26.08,
           "22:47:35.5",
           "2015/03/15",
           -11.61
          ]
         ],
         "hovertemplate": "<b>%{hovertext}</b><br><br>Cluster=1142<br>Lat=%{customdata[0]}<br>Lon=%{customdata[3]}<br>Time=%{customdata[1]}<br>Date=%{customdata[2]}<extra></extra>",
         "hovertext": {
          "dtype": "f8",
          "bdata": "AAAAAADYkUAAAAAAANiRQA=="
         },
         "lat": {
          "dtype": "f8",
          "bdata": "XI/C9SgcOsAUrkfhehQ6wA=="
         },
         "legendgroup": "1142",
         "lon": {
          "dtype": "f8",
          "bdata": "CtejcD0KJ8C4HoXrUTgnwA=="
         },
         "marker": {
          "color": "#565656"
         },
         "mode": "markers",
         "name": "1142",
         "showlegend": true,
         "subplot": "map",
         "type": "scattermap"
        },
        {
         "customdata": [
          [
           37.17,
           "08:56:29.9",
           "2015/02/10",
           30.01
          ],
          [
           37.22,
           "11:52:46.2",
           "2015/02/16",
           30.08
          ]
         ],
         "hovertemplate": "<b>%{hovertext}</b><br><br>Cluster=1144<br>Lat=%{customdata[0]}<br>Lon=%{customdata[3]}<br>Time=%{customdata[1]}<br>Date=%{customdata[2]}<extra></extra>",
         "hovertext": {
          "dtype": "f8",
          "bdata": "AAAAAADgkUAAAAAAAOCRQA=="
         },
         "lat": {
          "dtype": "f8",
          "bdata": "9ihcj8KVQkBcj8L1KJxCQA=="
         },
         "legendgroup": "1144",
         "lon": {
          "dtype": "f8",
          "bdata": "w/UoXI8CPkAUrkfhehQ+QA=="
         },
         "marker": {
          "color": "#1C8356"
         },
         "mode": "markers",
         "name": "1144",
         "showlegend": true,
         "subplot": "map",
         "type": "scattermap"
        },
        {
         "customdata": [
          [
           -7.71,
           "02:20:37.7",
           "2015/02/18",
           -13.47
          ],
          [
           -7.61,
           "03:32:21.5",
           "2015/02/18",
           -13.59
          ]
         ],
         "hovertemplate": "<b>%{hovertext}</b><br><br>Cluster=1148<br>Lat=%{customdata[0]}<br>Lon=%{customdata[3]}<br>Time=%{customdata[1]}<br>Date=%{customdata[2]}<extra></extra>",
         "hovertext": {
          "dtype": "f8",
          "bdata": "AAAAAADwkUAAAAAAAPCRQA=="
         },
         "lat": {
          "dtype": "f8",
          "bdata": "16NwPQrXHsBxPQrXo3AewA=="
         },
         "legendgroup": "1148",
         "lon": {
          "dtype": "f8",
          "bdata": "cT0K16PwKsCuR+F6FC4rwA=="
         },
         "marker": {
          "color": "#16FF32"
         },
         "mode": "markers",
         "name": "1148",
         "showlegend": true,
         "subplot": "map",
         "type": "scattermap"
        },
        {
         "customdata": [
          [
           -28.13,
           "05:45:22.2",
           "2015/03/04",
           -13.01
          ],
          [
           -27.97,
           "14:01:10.9",
           "2015/03/04",
           -13.26
          ]
         ],
         "hovertemplate": "<b>%{hovertext}</b><br><br>Cluster=1151<br>Lat=%{customdata[0]}<br>Lon=%{customdata[3]}<br>Time=%{customdata[1]}<br>Date=%{customdata[2]}<extra></extra>",
         "hovertext": {
          "dtype": "f8",
          "bdata": "AAAAAAD8kUAAAAAAAPyRQA=="
         },
         "lat": {
          "dtype": "f8",
          "bdata": "4XoUrkchPMC4HoXrUfg7wA=="
         },
         "legendgroup": "1151",
         "lon": {
          "dtype": "f8",
          "bdata": "hetRuB4FKsCF61G4HoUqwA=="
         },
         "marker": {
          "color": "#F7E1A0"
         },
         "mode": "markers",
         "name": "1151",
         "showlegend": true,
         "subplot": "map",
         "type": "scattermap"
        },
        {
         "customdata": [
          [
           35.72,
           "11:22:13.9",
           "2015/03/15",
           5.71
          ],
          [
           35.68,
           "22:55:57.7",
           "2015/03/21",
           5.68
          ]
         ],
         "hovertemplate": "<b>%{hovertext}</b><br><br>Cluster=1153<br>Lat=%{customdata[0]}<br>Lon=%{customdata[3]}<br>Time=%{customdata[1]}<br>Date=%{customdata[2]}<extra></extra>",
         "hovertext": {
          "dtype": "f8",
          "bdata": "AAAAAAAEkkAAAAAAAASSQA=="
         },
         "lat": {
          "dtype": "f8",
          "bdata": "XI/C9SjcQUDXo3A9CtdBQA=="
         },
         "legendgroup": "1153",
         "lon": {
          "dtype": "f8",
          "bdata": "16NwPQrXFkC4HoXrUbgWQA=="
         },
         "marker": {
          "color": "#E2E2E2"
         },
         "mode": "markers",
         "name": "1153",
         "showlegend": true,
         "subplot": "map",
         "type": "scattermap"
        },
        {
         "customdata": [
          [
           35.15,
           "18:07:43.0",
           "2015/04/16",
           26.83
          ],
          [
           35.06,
           "19:02:12.0",
           "2015/04/16",
           26.88
          ],
          [
           35.03,
           "02:05:40.3",
           "2015/04/17",
           26.78
          ],
          [
           35.04,
           "21:49:46.7",
           "2015/06/09",
           26.79
          ]
         ],
         "hovertemplate": "<b>%{hovertext}</b><br><br>Cluster=1159<br>Lat=%{customdata[0]}<br>Lon=%{customdata[3]}<br>Time=%{customdata[1]}<br>Date=%{customdata[2]}<extra></extra>",
         "hovertext": {
          "dtype": "f8",
          "bdata": "AAAAAAAckkAAAAAAABySQAAAAAAAHJJAAAAAAAAckkA="
         },
         "lat": {
          "dtype": "f8",
          "bdata": "MzMzMzOTQUBI4XoUrodBQKRwPQrXg0FAhetRuB6FQUA="
         },
         "legendgroup": "1159",
         "lon": {
          "dtype": "f8",
          "bdata": "FK5H4XrUOkDhehSuR+E6QEjhehSuxzpACtejcD3KOkA="
         },
         "marker": {
          "color": "#1CBE4F"
         },
         "mode": "markers",
         "name": "1159",
         "showlegend": true,
         "subplot": "map",
         "type": "scattermap"
        },
        {
         "customdata": [
          [
           34.45,
           "08:23:46.3",
           "2015/05/02",
           25.78
          ],
          [
           34.32,
           "00:25:06.2",
           "2015/08/27",
           25.62
          ]
         ],
         "hovertemplate": "<b>%{hovertext}</b><br><br>Cluster=1161<br>Lat=%{customdata[0]}<br>Lon=%{customdata[3]}<br>Time=%{customdata[1]}<br>Date=%{customdata[2]}<extra></extra>",
         "hovertext": {
          "dtype": "f8",
          "bdata": "AAAAAAAkkkAAAAAAACSSQA=="
         },
         "lat": {
          "dtype": "f8",
          "bdata": "mpmZmZk5QUApXI/C9ShBQA=="
         },
         "legendgroup": "1161",
         "lon": {
          "dtype": "f8",
          "bdata": "SOF6FK7HOUAfhetRuJ45QA=="
         },
         "marker": {
          "color": "#C4451C"
         },
         "mode": "markers",
         "name": "1161",
         "showlegend": true,
         "subplot": "map",
         "type": "scattermap"
        },
        {
         "customdata": [
          [
           11.94,
           "11:14:04.2",
           "2015/07/13",
           46.37
          ],
          [
           11.92,
           "11:30:51.4",
           "2015/07/13",
           46.32
          ],
          [
           12.09,
           "16:52:28.1",
           "2015/07/13",
           46.21
          ],
          [
           11.87,
           "23:44:44.5",
           "2015/07/13",
           46.26
          ]
         ],
         "hovertemplate": "<b>%{hovertext}</b><br><br>Cluster=1172<br>Lat=%{customdata[0]}<br>Lon=%{customdata[3]}<br>Time=%{customdata[1]}<br>Date=%{customdata[2]}<extra></extra>",
         "hovertext": {
          "dtype": "f8",
          "bdata": "AAAAAABQkkAAAAAAAFCSQAAAAAAAUJJAAAAAAABQkkA="
         },
         "lat": {
          "dtype": "f8",
          "bdata": "4XoUrkfhJ0DXo3A9CtcnQK5H4XoULihAPQrXo3C9J0A="
         },
         "legendgroup": "1172",
         "lon": {
          "dtype": "f8",
          "bdata": "j8L1KFwvR0ApXI/C9ShHQHsUrkfhGkdA4XoUrkchR0A="
         },
         "marker": {
          "color": "#DEA0FD"
         },
         "mode": "markers",
         "name": "1172",
         "showlegend": true,
         "subplot": "map",
         "type": "scattermap"
        },
        {
         "customdata": [
          [
           -11.18,
           "18:52:09.0",
           "2015/07/15",
           -12.98
          ],
          [
           -11.19,
           "10:30:55.0",
           "2015/09/09",
           -12.75
          ]
         ],
         "hovertemplate": "<b>%{hovertext}</b><br><br>Cluster=1175<br>Lat=%{customdata[0]}<br>Lon=%{customdata[3]}<br>Time=%{customdata[1]}<br>Date=%{customdata[2]}<extra></extra>",
         "hovertext": {
          "dtype": "f8",
          "bdata": "AAAAAABckkAAAAAAAFySQA=="
         },
         "lat": {
          "dtype": "f8",
          "bdata": "XI/C9ShcJsDhehSuR2EmwA=="
         },
         "legendgroup": "1175",
         "lon": {
          "dtype": "f8",
          "bdata": "9ihcj8L1KcAAAAAAAIApwA=="
         },
         "marker": {
          "color": "#FE00FA"
         },
         "mode": "markers",
         "name": "1175",
         "showlegend": true,
         "subplot": "map",
         "type": "scattermap"
        },
        {
         "customdata": [
          [
           -2.15,
           "01:25:02.5",
           "2015/08/07",
           28.89
          ],
          [
           -2.09,
           "01:28:37.1",
           "2015/08/07",
           28.95
          ]
         ],
         "hovertemplate": "<b>%{hovertext}</b><br><br>Cluster=1181<br>Lat=%{customdata[0]}<br>Lon=%{customdata[3]}<br>Time=%{customdata[1]}<br>Date=%{customdata[2]}<extra></extra>",
         "hovertext": {
          "dtype": "f8",
          "bdata": "AAAAAAB0kkAAAAAAAHSSQA=="
         },
         "lat": {
          "dtype": "f8",
          "bdata": "MzMzMzMzAcC4HoXrUbgAwA=="
         },
         "legendgroup": "1181",
         "lon": {
          "dtype": "f8",
          "bdata": "pHA9CtfjPEAzMzMzM/M8QA=="
         },
         "marker": {
          "color": "#325A9B"
         },
         "mode": "markers",
         "name": "1181",
         "showlegend": true,
         "subplot": "map",
         "type": "scattermap"
        },
        {
         "customdata": [
          [
           -13.91,
           "21:15:32.3",
           "2015/08/08",
           -14.47
          ],
          [
           -13.97,
           "02:39:55.4",
           "2015/08/09",
           -14.47
          ]
         ],
         "hovertemplate": "<b>%{hovertext}</b><br><br>Cluster=1183<br>Lat=%{customdata[0]}<br>Lon=%{customdata[3]}<br>Time=%{customdata[1]}<br>Date=%{customdata[2]}<extra></extra>",
         "hovertext": {
          "dtype": "f8",
          "bdata": "AAAAAAB8kkAAAAAAAHySQA=="
         },
         "lat": {
          "dtype": "f8",
          "bdata": "UrgehevRK8BxPQrXo/ArwA=="
         },
         "legendgroup": "1183",
         "lon": {
          "dtype": "f8",
          "bdata": "cT0K16PwLMBxPQrXo/AswA=="
         },
         "marker": {
          "color": "#FEAF16"
         },
         "mode": "markers",
         "name": "1183",
         "showlegend": true,
         "subplot": "map",
         "type": "scattermap"
        },
        {
         "customdata": [
          [
           -0.7,
           "05:11:38.4",
           "2015/08/26",
           -16.02
          ],
          [
           -0.79,
           "05:58:52.5",
           "2015/08/26",
           -16.11
          ]
         ],
         "hovertemplate": "<b>%{hovertext}</b><br><br>Cluster=1186<br>Lat=%{customdata[0]}<br>Lon=%{customdata[3]}<br>Time=%{customdata[1]}<br>Date=%{customdata[2]}<extra></extra>",
         "hovertext": {
          "dtype": "f8",
          "bdata": "AAAAAACIkkAAAAAAAIiSQA=="
         },
         "lat": {
          "dtype": "f8",
          "bdata": "ZmZmZmZm5r9I4XoUrkfpvw=="
         },
         "legendgroup": "1186",
         "lon": {
          "dtype": "f8",
          "bdata": "hetRuB4FMMBcj8L1KBwwwA=="
         },
         "marker": {
          "color": "#F8A19F"
         },
         "mode": "markers",
         "name": "1186",
         "showlegend": true,
         "subplot": "map",
         "type": "scattermap"
        },
        {
         "customdata": [
          [
           38.67,
           "07:10:07.3",
           "2015/11/17",
           20.6
          ],
          [
           38.68,
           "12:37:56.0",
           "2015/11/17",
           20.52
          ],
          [
           38.84,
           "12:15:38.0",
           "2015/11/18",
           20.56
          ],
          [
           38.72,
           "13:03:14.9",
           "2015/11/18",
           20.63
          ],
          [
           38.47,
           "05:12:24.8",
           "2015/11/20",
           20.49
          ],
          [
           38.63,
           "09:33:14.8",
           "2015/11/20",
           20.58
          ]
         ],
         "hovertemplate": "<b>%{hovertext}</b><br><br>Cluster=1197<br>Lat=%{customdata[0]}<br>Lon=%{customdata[3]}<br>Time=%{customdata[1]}<br>Date=%{customdata[2]}<extra></extra>",
         "hovertext": {
          "dtype": "f8",
          "bdata": "AAAAAAC0kkAAAAAAALSSQAAAAAAAtJJAAAAAAAC0kkAAAAAAALSSQAAAAAAAtJJA"
         },
         "lat": {
          "dtype": "f8",
          "bdata": "9ihcj8JVQ0DXo3A9CldDQOxRuB6Fa0NAXI/C9ShcQ0Bcj8L1KDxDQHE9CtejUENA"
         },
         "legendgroup": "1197",
         "lon": {
          "dtype": "f8",
          "bdata": "mpmZmZmZNECF61G4HoU0QI/C9ShcjzRA4XoUrkehNEA9CtejcH00QBSuR+F6lDRA"
         },
         "marker": {
          "color": "#90AD1C"
         },
         "mode": "markers",
         "name": "1197",
         "showlegend": true,
         "subplot": "map",
         "type": "scattermap"
        },
        {
         "customdata": [
          [
           -1.34,
           "11:46:48.3",
           "2015/12/18",
           -15.83
          ],
          [
           -1.08,
           "10:50:31.4",
           "2016/01/07",
           -15.95
          ]
         ],
         "hovertemplate": "<b>%{hovertext}</b><br><br>Cluster=1202<br>Lat=%{customdata[0]}<br>Lon=%{customdata[3]}<br>Time=%{customdata[1]}<br>Date=%{customdata[2]}<extra></extra>",
         "hovertext": {
          "dtype": "f8",
          "bdata": "AAAAAADIkkAAAAAAAMiSQA=="
         },
         "lat": {
          "dtype": "f8",
          "bdata": "cT0K16Nw9b9I4XoUrkfxvw=="
         },
         "legendgroup": "1202",
         "lon": {
          "dtype": "f8",
          "bdata": "KVyPwvWoL8BmZmZmZuYvwA=="
         },
         "marker": {
          "color": "#F6222E"
         },
         "mode": "markers",
         "name": "1202",
         "showlegend": true,
         "subplot": "map",
         "type": "scattermap"
        },
        {
         "customdata": [
          [
           35.62,
           "13:47:19.9",
           "2016/01/21",
           -3.65
          ],
          [
           35.65,
           "04:22:02.7",
           "2016/01/25",
           -3.68
          ],
          [
           35.48,
           "05:54:05.5",
           "2016/01/25",
           -3.77
          ],
          [
           35.51,
           "06:10:42.0",
           "2016/01/25",
           -3.88
          ],
          [
           35.74,
           "14:52:42.7",
           "2016/01/25",
           -3.59
          ],
          [
           35.69,
           "06:32:08.1",
           "2016/01/27",
           -3.58
          ],
          [
           35.74,
           "03:46:02.5",
           "2016/02/22",
           -3.51
          ],
          [
           35.49,
           "11:36:26.2",
           "2016/03/03",
           -3.79
          ],
          [
           35.7,
           "04:16:47.9",
           "2016/03/11",
           -3.6
          ],
          [
           35.62,
           "15:04:05.4",
           "2016/03/12",
           -3.58
          ],
          [
           35.66,
           "15:17:12.0",
           "2016/03/12",
           -3.59
          ],
          [
           35.69,
           "04:40:39.1",
           "2016/03/15",
           -3.63
          ],
          [
           35.25,
           "16:27:34.4",
           "2016/03/16",
           -3.7
          ]
         ],
         "hovertemplate": "<b>%{hovertext}</b><br><br>Cluster=1206<br>Lat=%{customdata[0]}<br>Lon=%{customdata[3]}<br>Time=%{customdata[1]}<br>Date=%{customdata[2]}<extra></extra>",
         "hovertext": {
          "dtype": "f8",
          "bdata": "AAAAAADYkkAAAAAAANiSQAAAAAAA2JJAAAAAAADYkkAAAAAAANiSQAAAAAAA2JJAAAAAAADYkkAAAAAAANiSQAAAAAAA2JJAAAAAAADYkkAAAAAAANiSQAAAAAAA2JJAAAAAAADYkkA="
         },
         "lat": {
          "dtype": "f8",
          "bdata": "j8L1KFzPQUAzMzMzM9NBQD0K16NwvUFA4XoUrkfBQUAfhetRuN5BQLgehetR2EFAH4XrUbjeQUAfhetRuL5BQJqZmZmZ2UFAj8L1KFzPQUAUrkfhetRBQLgehetR2EFAAAAAAACgQUA="
         },
         "legendgroup": "1206",
         "lon": {
          "dtype": "f8",
          "bdata": "MzMzMzMzDcBxPQrXo3ANwClcj8L1KA7ACtejcD0KD8C4HoXrUbgMwKRwPQrXowzAFK5H4XoUDMBSuB6F61EOwM3MzMzMzAzApHA9CtejDMC4HoXrUbgMwArXo3A9Cg3AmpmZmZmZDcA="
         },
         "marker": {
          "color": "#1CFFCE"
         },
         "mode": "markers",
         "name": "1206",
         "showlegend": true,
         "subplot": "map",
         "type": "scattermap"
        },
        {
         "customdata": [
          [
           -1.09,
           "15:26:28.0",
           "2016/02/14",
           -13.68
          ],
          [
           -1.11,
           "17:14:14.5",
           "2016/04/27",
           -13.83
          ]
         ],
         "hovertemplate": "<b>%{hovertext}</b><br><br>Cluster=1210<br>Lat=%{customdata[0]}<br>Lon=%{customdata[3]}<br>Time=%{customdata[1]}<br>Date=%{customdata[2]}<extra></extra>",
         "hovertext": {
          "dtype": "f8",
          "bdata": "AAAAAADokkAAAAAAAOiSQA=="
         },
         "lat": {
          "dtype": "f8",
          "bdata": "cT0K16Nw8b/D9Shcj8Lxvw=="
         },
         "legendgroup": "1210",
         "lon": {
          "dtype": "f8",
          "bdata": "XI/C9ShcK8ApXI/C9agrwA=="
         },
         "marker": {
          "color": "#2ED9FF"
         },
         "mode": "markers",
         "name": "1210",
         "showlegend": true,
         "subplot": "map",
         "type": "scattermap"
        },
        {
         "customdata": [
          [
           17.53,
           "21:02:42.3",
           "2016/03/06",
           40.28
          ],
          [
           17.72,
           "22:43:25.0",
           "2016/03/07",
           40.34
          ]
         ],
         "hovertemplate": "<b>%{hovertext}</b><br><br>Cluster=1215<br>Lat=%{customdata[0]}<br>Lon=%{customdata[3]}<br>Time=%{customdata[1]}<br>Date=%{customdata[2]}<extra></extra>",
         "hovertext": {
          "dtype": "f8",
          "bdata": "AAAAAAD8kkAAAAAAAPySQA=="
         },
         "lat": {
          "dtype": "f8",
          "bdata": "SOF6FK6HMUC4HoXrUbgxQA=="
         },
         "legendgroup": "1215",
         "lon": {
          "dtype": "f8",
          "bdata": "pHA9CtcjREDsUbgehStEQA=="
         },
         "marker": {
          "color": "#B10DA1"
         },
         "mode": "markers",
         "name": "1215",
         "showlegend": true,
         "subplot": "map",
         "type": "scattermap"
        },
        {
         "customdata": [
          [
           36.37,
           "17:48:54.1",
           "2016/04/10",
           3.51
          ],
          [
           36.43,
           "23:54:53.4",
           "2016/05/28",
           3.52
          ]
         ],
         "hovertemplate": "<b>%{hovertext}</b><br><br>Cluster=1222<br>Lat=%{customdata[0]}<br>Lon=%{customdata[3]}<br>Time=%{customdata[1]}<br>Date=%{customdata[2]}<extra></extra>",
         "hovertext": {
          "dtype": "f8",
          "bdata": "AAAAAAAYk0AAAAAAABiTQA=="
         },
         "lat": {
          "dtype": "f8",
          "bdata": "j8L1KFwvQkDXo3A9CjdCQA=="
         },
         "legendgroup": "1222",
         "lon": {
          "dtype": "f8",
          "bdata": "FK5H4XoUDEApXI/C9SgMQA=="
         },
         "marker": {
          "color": "#C075A6"
         },
         "mode": "markers",
         "name": "1222",
         "showlegend": true,
         "subplot": "map",
         "type": "scattermap"
        },
        {
         "customdata": [
          [
           -31.17,
           "00:20:47.6",
           "2016/04/30",
           -13.34
          ],
          [
           -31.28,
           "00:36:03.2",
           "2016/04/30",
           -13.58
          ]
         ],
         "hovertemplate": "<b>%{hovertext}</b><br><br>Cluster=1226<br>Lat=%{customdata[0]}<br>Lon=%{customdata[3]}<br>Time=%{customdata[1]}<br>Date=%{customdata[2]}<extra></extra>",
         "hovertext": {
          "dtype": "f8",
          "bdata": "AAAAAAAok0AAAAAAACiTQA=="
         },
         "lat": {
          "dtype": "f8",
          "bdata": "7FG4HoUrP8BI4XoUrkc/wA=="
         },
         "legendgroup": "1226",
         "lon": {
          "dtype": "f8",
          "bdata": "rkfhehSuKsApXI/C9SgrwA=="
         },
         "marker": {
          "color": "#FC1CBF"
         },
         "mode": "markers",
         "name": "1226",
         "showlegend": true,
         "subplot": "map",
         "type": "scattermap"
        },
        {
         "customdata": [
          [
           -20.45,
           "01:45:35.8",
           "2016/06/14",
           -11.67
          ],
          [
           -20.5,
           "02:16:48.8",
           "2016/06/14",
           -11.65
          ],
          [
           -20.5,
           "03:03:36.0",
           "2016/06/14",
           -11.5
          ],
          [
           -20.63,
           "22:42:17.4",
           "2016/06/14",
           -11.58
          ]
         ],
         "hovertemplate": "<b>%{hovertext}</b><br><br>Cluster=1232<br>Lat=%{customdata[0]}<br>Lon=%{customdata[3]}<br>Time=%{customdata[1]}<br>Date=%{customdata[2]}<extra></extra>",
         "hovertext": {
          "dtype": "f8",
          "bdata": "AAAAAABAk0AAAAAAAECTQAAAAAAAQJNAAAAAAABAk0A="
         },
         "lat": {
          "dtype": "f8",
          "bdata": "MzMzMzNzNMAAAAAAAIA0wAAAAAAAgDTA4XoUrkehNMA="
         },
         "legendgroup": "1232",
         "lon": {
          "dtype": "f8",
          "bdata": "16NwPQpXJ8DNzMzMzEwnwAAAAAAAACfAKVyPwvUoJ8A="
         },
         "marker": {
          "color": "#B00068"
         },
         "mode": "markers",
         "name": "1232",
         "showlegend": true,
         "subplot": "map",
         "type": "scattermap"
        },
        {
         "customdata": [
          [
           -5.61,
           "22:52:23.0",
           "2016/06/19",
           -11.58
          ],
          [
           -5.65,
           "23:13:44.6",
           "2016/06/19",
           -11.57
          ]
         ],
         "hovertemplate": "<b>%{hovertext}</b><br><br>Cluster=1234<br>Lat=%{customdata[0]}<br>Lon=%{customdata[3]}<br>Time=%{customdata[1]}<br>Date=%{customdata[2]}<extra></extra>",
         "hovertext": {
          "dtype": "f8",
          "bdata": "AAAAAABIk0AAAAAAAEiTQA=="
         },
         "lat": {
          "dtype": "f8",
          "bdata": "cT0K16NwFsCamZmZmZkWwA=="
         },
         "legendgroup": "1234",
         "lon": {
          "dtype": "f8",
          "bdata": "KVyPwvUoJ8CkcD0K1yMnwA=="
         },
         "marker": {
          "color": "#FBE426"
         },
         "mode": "markers",
         "name": "1234",
         "showlegend": true,
         "subplot": "map",
         "type": "scattermap"
        },
        {
         "customdata": [
          [
           -19.85,
           "11:07:08.1",
           "2016/06/29",
           -11.94
          ],
          [
           -19.87,
           "11:17:37.5",
           "2016/06/29",
           -11.82
          ],
          [
           -19.75,
           "12:17:44.0",
           "2016/06/29",
           -11.75
          ]
         ],
         "hovertemplate": "<b>%{hovertext}</b><br><br>Cluster=1239<br>Lat=%{customdata[0]}<br>Lon=%{customdata[3]}<br>Time=%{customdata[1]}<br>Date=%{customdata[2]}<extra></extra>",
         "hovertext": {
          "dtype": "f8",
          "bdata": "AAAAAABck0AAAAAAAFyTQAAAAAAAXJNA"
         },
         "lat": {
          "dtype": "f8",
          "bdata": "mpmZmZnZM8AfhetRuN4zwAAAAAAAwDPA"
         },
         "legendgroup": "1239",
         "lon": {
          "dtype": "f8",
          "bdata": "4XoUrkfhJ8CkcD0K16MnwAAAAAAAgCfA"
         },
         "marker": {
          "color": "#FA0087"
         },
         "mode": "markers",
         "name": "1239",
         "showlegend": true,
         "subplot": "map",
         "type": "scattermap"
        },
        {
         "customdata": [
          [
           -15.6,
           "03:30:12.9",
           "2016/07/20",
           -13.19
          ],
          [
           -15.53,
           "07:57:58.8",
           "2016/07/20",
           -13.19
          ]
         ],
         "hovertemplate": "<b>%{hovertext}</b><br><br>Cluster=1245<br>Lat=%{customdata[0]}<br>Lon=%{customdata[3]}<br>Time=%{customdata[1]}<br>Date=%{customdata[2]}<extra></extra>",
         "hovertext": {
          "dtype": "f8",
          "bdata": "AAAAAAB0k0AAAAAAAHSTQA=="
         },
         "lat": {
          "dtype": "f8",
          "bdata": "MzMzMzMzL8CPwvUoXA8vwA=="
         },
         "legendgroup": "1245",
         "lon": {
          "dtype": "f8",
          "bdata": "4XoUrkdhKsDhehSuR2EqwA=="
         },
         "marker": {
          "color": "#AA0DFE"
         },
         "mode": "markers",
         "name": "1245",
         "showlegend": true,
         "subplot": "map",
         "type": "scattermap"
        },
        {
         "customdata": [
          [
           -35.32,
           "06:18:09.1",
           "2016/07/23",
           -15.36
          ],
          [
           -35.24,
           "08:27:14.6",
           "2016/11/01",
           -15.07
          ]
         ],
         "hovertemplate": "<b>%{hovertext}</b><br><br>Cluster=1246<br>Lat=%{customdata[0]}<br>Lon=%{customdata[3]}<br>Time=%{customdata[1]}<br>Date=%{customdata[2]}<extra></extra>",
         "hovertext": {
          "dtype": "f8",
          "bdata": "AAAAAAB4k0AAAAAAAHiTQA=="
         },
         "lat": {
          "dtype": "f8",
          "bdata": "KVyPwvWoQcAfhetRuJ5BwA=="
         },
         "legendgroup": "1246",
         "lon": {
          "dtype": "f8",
          "bdata": "uB6F61G4LsCkcD0K1yMuwA=="
         },
         "marker": {
          "color": "#3283FE"
         },
         "mode": "markers",
         "name": "1246",
         "showlegend": true,
         "subplot": "map",
         "type": "scattermap"
        },
        {
         "customdata": [
          [
           39.81,
           "20:14:49.7",
           "2016/10/15",
           20.65
          ],
          [
           39.77,
           "00:09:58.2",
           "2016/10/16",
           20.71
          ],
          [
           39.81,
           "00:41:14.3",
           "2016/10/16",
           20.6
          ],
          [
           39.79,
           "02:21:04.0",
           "2016/10/16",
           20.61
          ],
          [
           39.78,
           "03:40:20.0",
           "2016/10/16",
           20.69
          ]
         ],
         "hovertemplate": "<b>%{hovertext}</b><br><br>Cluster=1264<br>Lat=%{customdata[0]}<br>Lon=%{customdata[3]}<br>Time=%{customdata[1]}<br>Date=%{customdata[2]}<extra></extra>",
         "hovertext": {
          "dtype": "f8",
          "bdata": "AAAAAADAk0AAAAAAAMCTQAAAAAAAwJNAAAAAAADAk0AAAAAAAMCTQA=="
         },
         "lat": {
          "dtype": "f8",
          "bdata": "SOF6FK7nQ0DD9Shcj+JDQEjhehSu50NAhetRuB7lQ0CkcD0K1+NDQA=="
         },
         "legendgroup": "1264",
         "lon": {
          "dtype": "f8",
          "bdata": "ZmZmZmamNED2KFyPwrU0QJqZmZmZmTRAXI/C9SicNEBxPQrXo7A0QA=="
         },
         "marker": {
          "color": "#85660D"
         },
         "mode": "markers",
         "name": "1264",
         "showlegend": true,
         "subplot": "map",
         "type": "scattermap"
        },
        {
         "customdata": [
          [
           -1.51,
           "01:03:12.3",
           "2016/10/27",
           -15.59
          ],
          [
           -1.48,
           "07:19:11.2",
           "2017/03/05",
           -15.44
          ]
         ],
         "hovertemplate": "<b>%{hovertext}</b><br><br>Cluster=1266<br>Lat=%{customdata[0]}<br>Lon=%{customdata[3]}<br>Time=%{customdata[1]}<br>Date=%{customdata[2]}<extra></extra>",
         "hovertext": {
          "dtype": "f8",
          "bdata": "AAAAAADIk0AAAAAAAMiTQA=="
         },
         "lat": {
          "dtype": "f8",
          "bdata": "KVyPwvUo+L+uR+F6FK73vw=="
         },
         "legendgroup": "1266",
         "lon": {
          "dtype": "f8",
          "bdata": "rkfhehQuL8DhehSuR+EuwA=="
         },
         "marker": {
          "color": "#782AB6"
         },
         "mode": "markers",
         "name": "1266",
         "showlegend": true,
         "subplot": "map",
         "type": "scattermap"
        },
        {
         "customdata": [
          [
           -22.6,
           "03:23:53.9",
           "2017/01/05",
           -12.65
          ],
          [
           -22.4,
           "22:56:48.2",
           "2017/03/29",
           -12.44
          ]
         ],
         "hovertemplate": "<b>%{hovertext}</b><br><br>Cluster=1275<br>Lat=%{customdata[0]}<br>Lon=%{customdata[3]}<br>Time=%{customdata[1]}<br>Date=%{customdata[2]}<extra></extra>",
         "hovertext": {
          "dtype": "f8",
          "bdata": "AAAAAADsk0AAAAAAAOyTQA=="
         },
         "lat": {
          "dtype": "f8",
          "bdata": "mpmZmZmZNsBmZmZmZmY2wA=="
         },
         "legendgroup": "1275",
         "lon": {
          "dtype": "f8",
          "bdata": "zczMzMxMKcDhehSuR+EowA=="
         },
         "marker": {
          "color": "#565656"
         },
         "mode": "markers",
         "name": "1275",
         "showlegend": true,
         "subplot": "map",
         "type": "scattermap"
        },
        {
         "customdata": [
          [
           35.36,
           "18:50:51.8",
           "2017/01/25",
           26.42
          ],
          [
           35.09,
           "13:53:45.1",
           "2017/07/03",
           26.63
          ]
         ],
         "hovertemplate": "<b>%{hovertext}</b><br><br>Cluster=1280<br>Lat=%{customdata[0]}<br>Lon=%{customdata[3]}<br>Time=%{customdata[1]}<br>Date=%{customdata[2]}<extra></extra>",
         "hovertext": {
          "dtype": "f8",
          "bdata": "AAAAAAAAlEAAAAAAAACUQA=="
         },
         "lat": {
          "dtype": "f8",
          "bdata": "rkfhehSuQUDsUbgehYtBQA=="
         },
         "legendgroup": "1280",
         "lon": {
          "dtype": "f8",
          "bdata": "7FG4HoVrOkDhehSuR6E6QA=="
         },
         "marker": {
          "color": "#1C8356"
         },
         "mode": "markers",
         "name": "1280",
         "showlegend": true,
         "subplot": "map",
         "type": "scattermap"
        },
        {
         "customdata": [
          [
           39.6,
           "03:51:40.6",
           "2017/02/06",
           26.07
          ],
          [
           39.57,
           "10:58:02.3",
           "2017/02/06",
           26.08
          ],
          [
           39.53,
           "02:24:04.2",
           "2017/02/07",
           26.1
          ],
          [
           39.55,
           "08:55:26.9",
           "2017/02/10",
           26.19
          ],
          [
           39.6,
           "13:48:16.1",
           "2017/02/12",
           26.09
          ],
          [
           39.54,
           "00:19:00.2",
           "2017/02/16",
           26.12
          ],
          [
           39.52,
           "23:27:33.8",
           "2017/02/28",
           26.12
          ]
         ],
         "hovertemplate": "<b>%{hovertext}</b><br><br>Cluster=1283<br>Lat=%{customdata[0]}<br>Lon=%{customdata[3]}<br>Time=%{customdata[1]}<br>Date=%{customdata[2]}<extra></extra>",
         "hovertext": {
          "dtype": "f8",
          "bdata": "AAAAAAAMlEAAAAAAAAyUQAAAAAAADJRAAAAAAAAMlEAAAAAAAAyUQAAAAAAADJRAAAAAAAAMlEA="
         },
         "lat": {
          "dtype": "f8",
          "bdata": "zczMzMzMQ0ApXI/C9chDQKRwPQrXw0NAZmZmZmbGQ0DNzMzMzMxDQIXrUbgexUNAw/UoXI/CQ0A="
         },
         "legendgroup": "1283",
         "lon": {
          "dtype": "f8",
          "bdata": "UrgehesROkAUrkfhehQ6QJqZmZmZGTpAcT0K16MwOkDXo3A9Chc6QB+F61G4HjpAH4XrUbgeOkA="
         },
         "marker": {
          "color": "#16FF32"
         },
         "mode": "markers",
         "name": "1283",
         "showlegend": true,
         "subplot": "map",
         "type": "scattermap"
        },
        {
         "customdata": [
          [
           -12.34,
           "02:58:32.7",
           "2017/04/13",
           -14.77
          ],
          [
           -12.36,
           "05:29:38.1",
           "2017/04/14",
           -14.8
          ]
         ],
         "hovertemplate": "<b>%{hovertext}</b><br><br>Cluster=1292<br>Lat=%{customdata[0]}<br>Lon=%{customdata[3]}<br>Time=%{customdata[1]}<br>Date=%{customdata[2]}<extra></extra>",
         "hovertext": {
          "dtype": "f8",
          "bdata": "AAAAAAAwlEAAAAAAADCUQA=="
         },
         "lat": {
          "dtype": "f8",
          "bdata": "rkfhehSuKMC4HoXrUbgowA=="
         },
         "legendgroup": "1292",
         "lon": {
          "dtype": "f8",
          "bdata": "CtejcD2KLcCamZmZmZktwA=="
         },
         "marker": {
          "color": "#F7E1A0"
         },
         "mode": "markers",
         "name": "1292",
         "showlegend": true,
         "subplot": "map",
         "type": "scattermap"
        },
        {
         "customdata": [
          [
           11.79,
           "05:53:17.8",
           "2017/04/14",
           43.38
          ],
          [
           11.82,
           "10:44:55.1",
           "2017/04/14",
           43.26
          ]
         ],
         "hovertemplate": "<b>%{hovertext}</b><br><br>Cluster=1295<br>Lat=%{customdata[0]}<br>Lon=%{customdata[3]}<br>Time=%{customdata[1]}<br>Date=%{customdata[2]}<extra></extra>",
         "hovertext": {
          "dtype": "f8",
          "bdata": "AAAAAAA8lEAAAAAAADyUQA=="
         },
         "lat": {
          "dtype": "f8",
          "bdata": "FK5H4XqUJ0CkcD0K16MnQA=="
         },
         "legendgroup": "1295",
         "lon": {
          "dtype": "f8",
          "bdata": "cT0K16OwRUDhehSuR6FFQA=="
         },
         "marker": {
          "color": "#E2E2E2"
         },
         "mode": "markers",
         "name": "1295",
         "showlegend": true,
         "subplot": "map",
         "type": "scattermap"
        },
        {
         "customdata": [
          [
           38.66,
           "14:12:22.6",
           "2017/04/21",
           27.67
          ],
          [
           38.77,
           "15:53:24.2",
           "2017/05/27",
           27.82
          ],
          [
           38.78,
           "02:52:56.4",
           "2017/05/28",
           27.8
          ],
          [
           38.76,
           "11:04:59.4",
           "2017/05/28",
           27.78
          ]
         ],
         "hovertemplate": "<b>%{hovertext}</b><br><br>Cluster=1297<br>Lat=%{customdata[0]}<br>Lon=%{customdata[3]}<br>Time=%{customdata[1]}<br>Date=%{customdata[2]}<extra></extra>",
         "hovertext": {
          "dtype": "f8",
          "bdata": "AAAAAABElEAAAAAAAESUQAAAAAAARJRAAAAAAABElEA="
         },
         "lat": {
          "dtype": "f8",
          "bdata": "FK5H4XpUQ0DD9Shcj2JDQKRwPQrXY0NA4XoUrkdhQ0A="
         },
         "legendgroup": "1297",
         "lon": {
          "dtype": "f8",
          "bdata": "7FG4HoWrO0BSuB6F69E7QM3MzMzMzDtASOF6FK7HO0A="
         },
         "marker": {
          "color": "#1CBE4F"
         },
         "mode": "markers",
         "name": "1297",
         "showlegend": true,
         "subplot": "map",
         "type": "scattermap"
        },
        {
         "customdata": [
          [
           -11.73,
           "15:10:22.4",
           "2017/05/02",
           -13.92
          ],
          [
           -11.58,
           "23:36:52.8",
           "2017/11/10",
           -14.23
          ],
          [
           -11.74,
           "00:36:15.0",
           "2017/11/11",
           -14.11
          ]
         ],
         "hovertemplate": "<b>%{hovertext}</b><br><br>Cluster=1301<br>Lat=%{customdata[0]}<br>Lon=%{customdata[3]}<br>Time=%{customdata[1]}<br>Date=%{customdata[2]}<extra></extra>",
         "hovertext": {
          "dtype": "f8",
          "bdata": "AAAAAABUlEAAAAAAAFSUQAAAAAAAVJRA"
         },
         "lat": {
          "dtype": "f8",
          "bdata": "9ihcj8J1J8ApXI/C9SgnwHsUrkfheifA"
         },
         "legendgroup": "1301",
         "lon": {
          "dtype": "f8",
          "bdata": "16NwPQrXK8D2KFyPwnUswLgehetROCzA"
         },
         "marker": {
          "color": "#C4451C"
         },
         "mode": "markers",
         "name": "1301",
         "showlegend": true,
         "subplot": "map",
         "type": "scattermap"
        },
        {
         "customdata": [
          [
           -6.75,
           "00:38:08.0",
           "2017/06/07",
           -11.25
          ],
          [
           -6.57,
           "04:55:34.2",
           "2017/07/24",
           -11.21
          ],
          [
           -6.44,
           "04:35:55.0",
           "2017/09/22",
           -11.26
          ]
         ],
         "hovertemplate": "<b>%{hovertext}</b><br><br>Cluster=1307<br>Lat=%{customdata[0]}<br>Lon=%{customdata[3]}<br>Time=%{customdata[1]}<br>Date=%{customdata[2]}<extra></extra>",
         "hovertext": {
          "dtype": "f8",
          "bdata": "AAAAAABslEAAAAAAAGyUQAAAAAAAbJRA"
         },
         "lat": {
          "dtype": "f8",
          "bdata": "AAAAAAAAG8BI4XoUrkcawMP1KFyPwhnA"
         },
         "legendgroup": "1307",
         "lon": {
          "dtype": "f8",
          "bdata": "AAAAAACAJsDsUbgehWsmwIXrUbgehSbA"
         },
         "marker": {
          "color": "#DEA0FD"
         },
         "mode": "markers",
         "name": "1307",
         "showlegend": true,
         "subplot": "map",
         "type": "scattermap"
        },
        {
         "customdata": [
          [
           38.93,
           "12:28:39.2",
           "2017/06/12",
           26.36
          ],
          [
           38.9,
           "03:40:37.4",
           "2017/06/17",
           26.22
          ],
          [
           38.89,
           "19:50:04.8",
           "2017/06/17",
           26.42
          ],
          [
           38.83,
           "02:48:53.1",
           "2017/06/22",
           26.47
          ],
          [
           38.58,
           "05:13:51.3",
           "2017/12/25",
           26.74
          ]
         ],
         "hovertemplate": "<b>%{hovertext}</b><br><br>Cluster=1311<br>Lat=%{customdata[0]}<br>Lon=%{customdata[3]}<br>Time=%{customdata[1]}<br>Date=%{customdata[2]}<extra></extra>",
         "hovertext": {
          "dtype": "f8",
          "bdata": "AAAAAAB8lEAAAAAAAHyUQAAAAAAAfJRAAAAAAAB8lEAAAAAAAHyUQA=="
         },
         "lat": {
          "dtype": "f8",
          "bdata": "16NwPQp3Q0AzMzMzM3NDQFK4HoXrcUNACtejcD1qQ0AK16NwPUpDQA=="
         },
         "legendgroup": "1311",
         "lon": {
          "dtype": "f8",
          "bdata": "XI/C9ShcOkC4HoXrUTg6QOxRuB6FazpAuB6F61F4OkA9CtejcL06QA=="
         },
         "marker": {
          "color": "#FE00FA"
         },
         "mode": "markers",
         "name": "1311",
         "showlegend": true,
         "subplot": "map",
         "type": "scattermap"
        },
        {
         "customdata": [
          [
           36.92,
           "22:31:11.2",
           "2017/07/20",
           27.41
          ],
          [
           36.82,
           "05:04:01.6",
           "2017/07/21",
           27.64
          ],
          [
           36.91,
           "17:09:45.3",
           "2017/07/21",
           27.3
          ],
          [
           36.97,
           "17:51:19.4",
           "2017/07/30",
           27.65
          ],
          [
           36.92,
           "05:18:48.5",
           "2017/08/07",
           27.55
          ],
          [
           36.97,
           "07:42:22.2",
           "2017/08/08",
           27.57
          ],
          [
           37.05,
           "11:16:52.4",
           "2017/08/13",
           27.7
          ],
          [
           37.1,
           "02:43:48.5",
           "2017/08/14",
           27.7
          ],
          [
           36.96,
           "09:36:24.2",
           "2017/10/24",
           27.35
          ],
          [
           36.94,
           "05:27:47.9",
           "2019/05/28",
           27.62
          ]
         ],
         "hovertemplate": "<b>%{hovertext}</b><br><br>Cluster=1317<br>Lat=%{customdata[0]}<br>Lon=%{customdata[3]}<br>Time=%{customdata[1]}<br>Date=%{customdata[2]}<extra></extra>",
         "hovertext": {
          "dtype": "f8",
          "bdata": "AAAAAACUlEAAAAAAAJSUQAAAAAAAlJRAAAAAAACUlEAAAAAAAJSUQAAAAAAAlJRAAAAAAACUlEAAAAAAAJSUQAAAAAAAlJRAAAAAAACUlEA="
         },
         "lat": {
          "dtype": "f8",
          "bdata": "9ihcj8J1QkApXI/C9WhCQBSuR+F6dEJAXI/C9Sh8QkD2KFyPwnVCQFyPwvUofEJAZmZmZmaGQkDNzMzMzIxCQHsUrkfhekJAuB6F61F4QkA="
         },
         "legendgroup": "1317",
         "lon": {
          "dtype": "f8",
          "bdata": "KVyPwvVoO0CkcD0K16M7QM3MzMzMTDtAZmZmZmamO0DNzMzMzIw7QFK4HoXrkTtAMzMzMzOzO0AzMzMzM7M7QJqZmZmZWTtAH4XrUbieO0A="
         },
         "marker": {
          "color": "#325A9B"
         },
         "mode": "markers",
         "name": "1317",
         "showlegend": true,
         "subplot": "map",
         "type": "scattermap"
        },
        {
         "customdata": [
          [
           -5.89,
           "19:56:57.1",
           "2017/08/06",
           -12.63
          ],
          [
           -5.75,
           "08:52:22.2",
           "2017/08/17",
           -12.64
          ],
          [
           -5.78,
           "23:09:09.6",
           "2018/01/23",
           -12.54
          ]
         ],
         "hovertemplate": "<b>%{hovertext}</b><br><br>Cluster=1322<br>Lat=%{customdata[0]}<br>Lon=%{customdata[3]}<br>Time=%{customdata[1]}<br>Date=%{customdata[2]}<extra></extra>",
         "hovertext": {
          "dtype": "f8",
          "bdata": "AAAAAAColEAAAAAAAKiUQAAAAAAAqJRA"
         },
         "lat": {
          "dtype": "f8",
          "bdata": "j8L1KFyPF8AAAAAAAAAXwB+F61G4HhfA"
         },
         "legendgroup": "1322",
         "lon": {
          "dtype": "f8",
          "bdata": "w/UoXI9CKcBI4XoUrkcpwBSuR+F6FCnA"
         },
         "marker": {
          "color": "#FEAF16"
         },
         "mode": "markers",
         "name": "1322",
         "showlegend": true,
         "subplot": "map",
         "type": "scattermap"
        },
        {
         "customdata": [
          [
           -25.01,
           "09:51:51.0",
           "2017/08/10",
           -13.6
          ],
          [
           -24.96,
           "19:46:59.9",
           "2017/08/16",
           -13.46
          ],
          [
           -24.8,
           "12:50:09.1",
           "2018/04/18",
           -13.29
          ]
         ],
         "hovertemplate": "<b>%{hovertext}</b><br><br>Cluster=1323<br>Lat=%{customdata[0]}<br>Lon=%{customdata[3]}<br>Time=%{customdata[1]}<br>Date=%{customdata[2]}<extra></extra>",
         "hovertext": {
          "dtype": "f8",
          "bdata": "AAAAAACslEAAAAAAAKyUQAAAAAAArJRA"
         },
         "lat": {
          "dtype": "f8",
          "bdata": "w/UoXI8COcD2KFyPwvU4wM3MzMzMzDjA"
         },
         "legendgroup": "1323",
         "lon": {
          "dtype": "f8",
          "bdata": "MzMzMzMzK8DsUbgehesqwBSuR+F6lCrA"
         },
         "marker": {
          "color": "#F8A19F"
         },
         "mode": "markers",
         "name": "1323",
         "showlegend": true,
         "subplot": "map",
         "type": "scattermap"
        },
        {
         "customdata": [
          [
           -1.11,
           "02:59:25.6",
           "2017/08/18",
           -13.66
          ],
          [
           -0.94,
           "12:03:27.4",
           "2018/11/27",
           -13.83
          ],
          [
           -0.75,
           "18:45:44.0",
           "2019/05/12",
           -13.75
          ],
          [
           -1.1,
           "16:08:14.5",
           "2019/10/23",
           -13.84
          ]
         ],
         "hovertemplate": "<b>%{hovertext}</b><br><br>Cluster=1326<br>Lat=%{customdata[0]}<br>Lon=%{customdata[3]}<br>Time=%{customdata[1]}<br>Date=%{customdata[2]}<extra></extra>",
         "hovertext": {
          "dtype": "f8",
          "bdata": "AAAAAAC4lEAAAAAAALiUQAAAAAAAuJRAAAAAAAC4lEA="
         },
         "lat": {
          "dtype": "f8",
          "bdata": "w/UoXI/C8b8UrkfhehTuvwAAAAAAAOi/mpmZmZmZ8b8="
         },
         "legendgroup": "1326",
         "lon": {
          "dtype": "f8",
          "bdata": "UrgehetRK8ApXI/C9agrwAAAAAAAgCvArkfhehSuK8A="
         },
         "marker": {
          "color": "#90AD1C"
         },
         "mode": "markers",
         "name": "1326",
         "showlegend": true,
         "subplot": "map",
         "type": "scattermap"
        },
        {
         "customdata": [
          [
           -2.72,
           "17:45:46.8",
           "2017/09/15",
           28.81
          ],
          [
           -2.62,
           "21:48:35.6",
           "2017/11/30",
           28.71
          ],
          [
           -2.69,
           "17:20:26.4",
           "2017/12/02",
           28.66
          ]
         ],
         "hovertemplate": "<b>%{hovertext}</b><br><br>Cluster=1332<br>Lat=%{customdata[0]}<br>Lon=%{customdata[3]}<br>Time=%{customdata[1]}<br>Date=%{customdata[2]}<extra></extra>",
         "hovertext": {
          "dtype": "f8",
          "bdata": "AAAAAADQlEAAAAAAANCUQAAAAAAA0JRA"
         },
         "lat": {
          "dtype": "f8",
          "bdata": "w/UoXI/CBcD2KFyPwvUEwIXrUbgehQXA"
         },
         "legendgroup": "1332",
         "lon": {
          "dtype": "f8",
          "bdata": "j8L1KFzPPED2KFyPwrU8QClcj8L1qDxA"
         },
         "marker": {
          "color": "#F6222E"
         },
         "mode": "markers",
         "name": "1332",
         "showlegend": true,
         "subplot": "map",
         "type": "scattermap"
        },
        {
         "customdata": [
          [
           -17.69,
           "23:14:55.4",
           "2017/09/16",
           -13.96
          ],
          [
           -17.67,
           "14:24:11.5",
           "2017/11/28",
           -14.06
          ]
         ],
         "hovertemplate": "<b>%{hovertext}</b><br><br>Cluster=1333<br>Lat=%{customdata[0]}<br>Lon=%{customdata[3]}<br>Time=%{customdata[1]}<br>Date=%{customdata[2]}<extra></extra>",
         "hovertext": {
          "dtype": "f8",
          "bdata": "AAAAAADUlEAAAAAAANSUQA=="
         },
         "lat": {
          "dtype": "f8",
          "bdata": "cT0K16OwMcDsUbgehasxwA=="
         },
         "legendgroup": "1333",
         "lon": {
          "dtype": "f8",
          "bdata": "7FG4HoXrK8AfhetRuB4swA=="
         },
         "marker": {
          "color": "#1CFFCE"
         },
         "mode": "markers",
         "name": "1333",
         "showlegend": true,
         "subplot": "map",
         "type": "scattermap"
        },
        {
         "customdata": [
          [
           34.91,
           "18:18:17.2",
           "2017/11/12",
           45.96
          ],
          [
           35.08,
           "14:09:57.4",
           "2017/12/11",
           45.76
          ],
          [
           35.03,
           "14:42:40.9",
           "2017/12/11",
           45.75
          ],
          [
           34.58,
           "15:22:09.1",
           "2018/01/06",
           45.77
          ],
          [
           34.4,
           "08:35:26.4",
           "2018/04/01",
           45.75
          ],
          [
           34.65,
           "17:57:04.6",
           "2018/06/26",
           46.14
          ],
          [
           34.59,
           "10:07:27.2",
           "2018/07/22",
           46.17
          ],
          [
           34.61,
           "22:13:25.6",
           "2018/08/25",
           46.24
          ],
          [
           34.65,
           "21:05:44.4",
           "2018/08/31",
           46.07
          ],
          [
           34.35,
           "16:37:32.7",
           "2018/11/25",
           45.74
          ],
          [
           34.42,
           "17:09:36.0",
           "2018/11/25",
           45.72
          ],
          [
           34.39,
           "00:38:36.7",
           "2018/11/26",
           45.75
          ],
          [
           34.96,
           "10:28:59.9",
           "2019/05/11",
           45.73
          ]
         ],
         "hovertemplate": "<b>%{hovertext}</b><br><br>Cluster=1341<br>Lat=%{customdata[0]}<br>Lon=%{customdata[3]}<br>Time=%{customdata[1]}<br>Date=%{customdata[2]}<extra></extra>",
         "hovertext": {
          "dtype": "f8",
          "bdata": "AAAAAAD0lEAAAAAAAPSUQAAAAAAA9JRAAAAAAAD0lEAAAAAAAPSUQAAAAAAA9JRAAAAAAAD0lEAAAAAAAPSUQAAAAAAA9JRAAAAAAAD0lEAAAAAAAPSUQAAAAAAA9JRAAAAAAAD0lEA="
         },
         "lat": {
          "dtype": "f8",
          "bdata": "FK5H4Xp0QUAK16NwPYpBQKRwPQrXg0FACtejcD1KQUAzMzMzMzNBQDMzMzMzU0FA7FG4HoVLQUCuR+F6FE5BQDMzMzMzU0FAzczMzMwsQUD2KFyPwjVBQFK4HoXrMUFAexSuR+F6QUA="
         },
         "legendgroup": "1341",
         "lon": {
          "dtype": "f8",
          "bdata": "exSuR+H6RkDhehSuR+FGQAAAAAAA4EZAw/UoXI/iRkAAAAAAAOBGQFK4HoXrEUdA9ihcj8IVR0AfhetRuB5HQClcj8L1CEdAH4XrUbjeRkBcj8L1KNxGQAAAAAAA4EZAPQrXo3DdRkA="
         },
         "marker": {
          "color": "#2ED9FF"
         },
         "mode": "markers",
         "name": "1341",
         "showlegend": true,
         "subplot": "map",
         "type": "scattermap"
        },
        {
         "customdata": [
          [
           37.05,
           "20:22:53.5",
           "2017/11/22",
           28.64
          ],
          [
           37.08,
           "21:49:15.2",
           "2017/11/24",
           28.62
          ]
         ],
         "hovertemplate": "<b>%{hovertext}</b><br><br>Cluster=1344<br>Lat=%{customdata[0]}<br>Lon=%{customdata[3]}<br>Time=%{customdata[1]}<br>Date=%{customdata[2]}<extra></extra>",
         "hovertext": {
          "dtype": "f8",
          "bdata": "AAAAAAAAlUAAAAAAAACVQA=="
         },
         "lat": {
          "dtype": "f8",
          "bdata": "ZmZmZmaGQkAK16NwPYpCQA=="
         },
         "legendgroup": "1344",
         "lon": {
          "dtype": "f8",
          "bdata": "pHA9CtejPEAfhetRuJ48QA=="
         },
         "marker": {
          "color": "#B10DA1"
         },
         "mode": "markers",
         "name": "1344",
         "showlegend": true,
         "subplot": "map",
         "type": "scattermap"
        },
        {
         "customdata": [
          [
           -38.91,
           "02:16:18.1",
           "2018/01/02",
           46.42
          ],
          [
           -38.9,
           "10:38:18.3",
           "2018/04/27",
           46.46
          ]
         ],
         "hovertemplate": "<b>%{hovertext}</b><br><br>Cluster=1351<br>Lat=%{customdata[0]}<br>Lon=%{customdata[3]}<br>Time=%{customdata[1]}<br>Date=%{customdata[2]}<extra></extra>",
         "hovertext": {
          "dtype": "f8",
          "bdata": "AAAAAAAclUAAAAAAAByVQA=="
         },
         "lat": {
          "dtype": "f8",
          "bdata": "FK5H4Xp0Q8AzMzMzM3NDwA=="
         },
         "legendgroup": "1351",
         "lon": {
          "dtype": "f8",
          "bdata": "9ihcj8I1R0B7FK5H4TpHQA=="
         },
         "marker": {
          "color": "#C075A6"
         },
         "mode": "markers",
         "name": "1351",
         "showlegend": true,
         "subplot": "map",
         "type": "scattermap"
        },
        {
         "customdata": [
          [
           33.71,
           "06:59:30.5",
           "2018/01/11",
           45.72
          ],
          [
           33.8,
           "07:14:16.0",
           "2018/01/11",
           45.73
          ],
          [
           33.71,
           "07:55:00.4",
           "2018/01/11",
           45.79
          ],
          [
           33.72,
           "08:00:39.9",
           "2018/01/11",
           45.7
          ],
          [
           33.72,
           "22:17:55.9",
           "2018/01/19",
           45.71
          ]
         ],
         "hovertemplate": "<b>%{hovertext}</b><br><br>Cluster=1354<br>Lat=%{customdata[0]}<br>Lon=%{customdata[3]}<br>Time=%{customdata[1]}<br>Date=%{customdata[2]}<extra></extra>",
         "hovertext": {
          "dtype": "f8",
          "bdata": "AAAAAAAolUAAAAAAACiVQAAAAAAAKJVAAAAAAAAolUAAAAAAACiVQA=="
         },
         "lat": {
          "dtype": "f8",
          "bdata": "exSuR+HaQEBmZmZmZuZAQHsUrkfh2kBAXI/C9SjcQEBcj8L1KNxAQA=="
         },
         "legendgroup": "1354",
         "lon": {
          "dtype": "f8",
          "bdata": "XI/C9SjcRkA9CtejcN1GQIXrUbge5UZAmpmZmZnZRkB7FK5H4dpGQA=="
         },
         "marker": {
          "color": "#FC1CBF"
         },
         "mode": "markers",
         "name": "1354",
         "showlegend": true,
         "subplot": "map",
         "type": "scattermap"
        },
        {
         "customdata": [
          [
           -16.76,
           "08:49:46.2",
           "2018/03/08",
           35.43
          ],
          [
           -16.83,
           "09:52:04.4",
           "2018/03/08",
           35.49
          ]
         ],
         "hovertemplate": "<b>%{hovertext}</b><br><br>Cluster=1362<br>Lat=%{customdata[0]}<br>Lon=%{customdata[3]}<br>Time=%{customdata[1]}<br>Date=%{customdata[2]}<extra></extra>",
         "hovertext": {
          "dtype": "f8",
          "bdata": "AAAAAABIlUAAAAAAAEiVQA=="
         },
         "lat": {
          "dtype": "f8",
          "bdata": "w/UoXI/CMMAUrkfhetQwwA=="
         },
         "legendgroup": "1362",
         "lon": {
          "dtype": "f8",
          "bdata": "16NwPQq3QUAfhetRuL5BQA=="
         },
         "marker": {
          "color": "#B00068"
         },
         "mode": "markers",
         "name": "1362",
         "showlegend": true,
         "subplot": "map",
         "type": "scattermap"
        },
        {
         "customdata": [
          [
           -1.42,
           "21:45:36.3",
           "2018/03/10",
           -15.21
          ],
          [
           -1.49,
           "05:47:27.0",
           "2018/07/11",
           -15.44
          ]
         ],
         "hovertemplate": "<b>%{hovertext}</b><br><br>Cluster=1363<br>Lat=%{customdata[0]}<br>Lon=%{customdata[3]}<br>Time=%{customdata[1]}<br>Date=%{customdata[2]}<extra></extra>",
         "hovertext": {
          "dtype": "f8",
          "bdata": "AAAAAABMlUAAAAAAAEyVQA=="
         },
         "lat": {
          "dtype": "f8",
          "bdata": "uB6F61G49r/Xo3A9Ctf3vw=="
         },
         "legendgroup": "1363",
         "lon": {
          "dtype": "f8",
          "bdata": "7FG4HoVrLsDhehSuR+EuwA=="
         },
         "marker": {
          "color": "#FBE426"
         },
         "mode": "markers",
         "name": "1363",
         "showlegend": true,
         "subplot": "map",
         "type": "scattermap"
        },
        {
         "customdata": [
          [
           -31.28,
           "06:51:07.5",
           "2018/04/03",
           -13.39
          ],
          [
           -31.04,
           "06:56:43.6",
           "2018/04/03",
           -13.4
          ],
          [
           -31.1,
           "07:09:56.1",
           "2018/04/03",
           -13.19
          ],
          [
           -31.36,
           "19:12:02.7",
           "2018/05/02",
           -13.51
          ]
         ],
         "hovertemplate": "<b>%{hovertext}</b><br><br>Cluster=1370<br>Lat=%{customdata[0]}<br>Lon=%{customdata[3]}<br>Time=%{customdata[1]}<br>Date=%{customdata[2]}<extra></extra>",
         "hovertext": {
          "dtype": "f8",
          "bdata": "AAAAAABolUAAAAAAAGiVQAAAAAAAaJVAAAAAAABolUA="
         },
         "lat": {
          "dtype": "f8",
          "bdata": "SOF6FK5HP8AK16NwPQo/wJqZmZmZGT/AXI/C9ShcP8A="
         },
         "legendgroup": "1370",
         "lon": {
          "dtype": "f8",
          "bdata": "SOF6FK7HKsDNzMzMzMwqwOF6FK5HYSrAhetRuB4FK8A="
         },
         "marker": {
          "color": "#FA0087"
         },
         "mode": "markers",
         "name": "1370",
         "showlegend": true,
         "subplot": "map",
         "type": "scattermap"
        },
        {
         "customdata": [
          [
           -5.8,
           "23:34:03.8",
           "2018/05/02",
           -11.59
          ],
          [
           -5.9,
           "00:03:39.3",
           "2018/05/03",
           -11.3
          ]
         ],
         "hovertemplate": "<b>%{hovertext}</b><br><br>Cluster=1379<br>Lat=%{customdata[0]}<br>Lon=%{customdata[3]}<br>Time=%{customdata[1]}<br>Date=%{customdata[2]}<extra></extra>",
         "hovertext": {
          "dtype": "f8",
          "bdata": "AAAAAACMlUAAAAAAAIyVQA=="
         },
         "lat": {
          "dtype": "f8",
          "bdata": "MzMzMzMzF8CamZmZmZkXwA=="
         },
         "legendgroup": "1379",
         "lon": {
          "dtype": "f8",
          "bdata": "rkfhehQuJ8CamZmZmZkmwA=="
         },
         "marker": {
          "color": "#AA0DFE"
         },
         "mode": "markers",
         "name": "1379",
         "showlegend": true,
         "subplot": "map",
         "type": "scattermap"
        },
        {
         "customdata": [
          [
           -12.83,
           "14:41:42.6",
           "2018/05/14",
           45.61
          ],
          [
           -12.78,
           "15:48:09.9",
           "2018/05/15",
           45.58
          ],
          [
           -12.84,
           "21:00:01.2",
           "2018/05/19",
           45.64
          ],
          [
           -12.8,
           "08:01:27.0",
           "2018/05/20",
           45.67
          ],
          [
           -12.85,
           "00:47:14.1",
           "2018/05/21",
           45.65
          ],
          [
           -12.85,
           "12:37:08.1",
           "2018/05/22",
           45.62
          ],
          [
           -12.82,
           "06:36:04.2",
           "2018/05/25",
           45.59
          ],
          [
           -12.85,
           "09:32:46.2",
           "2018/05/25",
           45.61
          ],
          [
           -12.81,
           "00:32:40.9",
           "2018/05/26",
           45.69
          ],
          [
           -12.89,
           "05:54:03.2",
           "2018/05/30",
           45.59
          ],
          [
           -12.88,
           "07:14:40.7",
           "2018/06/01",
           45.57
          ],
          [
           -12.85,
           "06:13:42.9",
           "2018/06/03",
           45.59
          ],
          [
           -12.94,
           "19:53:34.1",
           "2018/06/04",
           45.78
          ],
          [
           -12.89,
           "21:20:28.7",
           "2018/06/04",
           45.64
          ],
          [
           -12.92,
           "23:02:45.2",
           "2018/06/05",
           45.73
          ],
          [
           -12.87,
           "09:37:02.1",
           "2018/06/06",
           45.74
          ],
          [
           -12.9,
           "13:06:52.5",
           "2018/06/07",
           45.7
          ],
          [
           -13.02,
           "03:31:31.0",
           "2018/06/08",
           45.6
          ],
          [
           -12.93,
           "12:03:30.5",
           "2018/06/08",
           45.5
          ],
          [
           -13.06,
           "22:36:35.3",
           "2018/06/09",
           45.54
          ],
          [
           -13.11,
           "12:14:47.8",
           "2018/06/10",
           45.61
          ],
          [
           -13.2,
           "13:04:38.1",
           "2018/06/10",
           45.63
          ],
          [
           -13.07,
           "17:17:16.4",
           "2018/06/12",
           45.84
          ],
          [
           -12.99,
           "13:43:01.3",
           "2018/06/18",
           45.72
          ],
          [
           -12.98,
           "19:45:45.5",
           "2018/06/23",
           45.52
          ],
          [
           -12.99,
           "17:41:29.0",
           "2018/06/25",
           45.67
          ],
          [
           -12.86,
           "06:40:56.8",
           "2018/06/27",
           45.7
          ],
          [
           -12.84,
           "00:20:38.4",
           "2019/05/14",
           45.45
          ]
         ],
         "hovertemplate": "<b>%{hovertext}</b><br><br>Cluster=1381<br>Lat=%{customdata[0]}<br>Lon=%{customdata[3]}<br>Time=%{customdata[1]}<br>Date=%{customdata[2]}<extra></extra>",
         "hovertext": {
          "dtype": "f8",
          "bdata": "AAAAAACUlUAAAAAAAJSVQAAAAAAAlJVAAAAAAACUlUAAAAAAAJSVQAAAAAAAlJVAAAAAAACUlUAAAAAAAJSVQAAAAAAAlJVAAAAAAACUlUAAAAAAAJSVQAAAAAAAlJVAAAAAAACUlUAAAAAAAJSVQAAAAAAAlJVAAAAAAACUlUAAAAAAAJSVQAAAAAAAlJVAAAAAAACUlUAAAAAAAJSVQAAAAAAAlJVAAAAAAACUlUAAAAAAAJSVQAAAAAAAlJVAAAAAAACUlUAAAAAAAJSVQAAAAAAAlJVAAAAAAACUlUA="
         },
         "lat": {
          "dtype": "f8",
          "bdata": "KVyPwvWoKcCPwvUoXI8pwK5H4XoUrinAmpmZmZmZKcAzMzMzM7MpwDMzMzMzsynApHA9CtejKcAzMzMzM7MpwB+F61G4ninASOF6FK7HKcDD9Shcj8IpwDMzMzMzsynA4XoUrkfhKcBI4XoUrscpwNejcD0K1ynAPQrXo3C9KcDNzMzMzMwpwArXo3A9CirAXI/C9SjcKcAfhetRuB4qwLgehetROCrAZmZmZmZmKsCkcD0K1yMqwHsUrkfh+inA9ihcj8L1KcB7FK5H4fopwLgehetRuCnArkfhehSuKcA="
         },
         "legendgroup": "1381",
         "lon": {
          "dtype": "f8",
          "bdata": "rkfhehTORkAK16NwPcpGQFK4HoXr0UZA9ihcj8LVRkAzMzMzM9NGQI/C9Shcz0ZA7FG4HoXLRkCuR+F6FM5GQLgehetR2EZA7FG4HoXLRkApXI/C9chGQOxRuB6Fy0ZApHA9CtfjRkBSuB6F69FGQD0K16Nw3UZAH4XrUbjeRkCamZmZmdlGQM3MzMzMzEZAAAAAAADARkCF61G4HsVGQK5H4XoUzkZAcT0K16PQRkDsUbgehetGQFyPwvUo3EZAw/UoXI/CRkD2KFyPwtVGQJqZmZmZ2UZAmpmZmZm5RkA="
         },
         "marker": {
          "color": "#3283FE"
         },
         "mode": "markers",
         "name": "1381",
         "showlegend": true,
         "subplot": "map",
         "type": "scattermap"
        },
        {
         "customdata": [
          [
           36.51,
           "22:30:03.1",
           "2018/05/16",
           22.93
          ],
          [
           36.58,
           "08:52:39.5",
           "2018/06/05",
           22.59
          ]
         ],
         "hovertemplate": "<b>%{hovertext}</b><br><br>Cluster=1382<br>Lat=%{customdata[0]}<br>Lon=%{customdata[3]}<br>Time=%{customdata[1]}<br>Date=%{customdata[2]}<extra></extra>",
         "hovertext": {
          "dtype": "f8",
          "bdata": "AAAAAACYlUAAAAAAAJiVQA=="
         },
         "lat": {
          "dtype": "f8",
          "bdata": "4XoUrkdBQkAK16NwPUpCQA=="
         },
         "legendgroup": "1382",
         "lon": {
          "dtype": "f8",
          "bdata": "rkfhehTuNkDXo3A9Cpc2QA=="
         },
         "marker": {
          "color": "#85660D"
         },
         "mode": "markers",
         "name": "1382",
         "showlegend": true,
         "subplot": "map",
         "type": "scattermap"
        },
        {
         "customdata": [
          [
           -39.68,
           "12:22:09.1",
           "2018/06/08",
           -15.93
          ],
          [
           -39.62,
           "05:47:21.9",
           "2018/07/02",
           -16.14
          ]
         ],
         "hovertemplate": "<b>%{hovertext}</b><br><br>Cluster=1387<br>Lat=%{customdata[0]}<br>Lon=%{customdata[3]}<br>Time=%{customdata[1]}<br>Date=%{customdata[2]}<extra></extra>",
         "hovertext": {
          "dtype": "f8",
          "bdata": "AAAAAACslUAAAAAAAKyVQA=="
         },
         "lat": {
          "dtype": "f8",
          "bdata": "16NwPQrXQ8CPwvUoXM9DwA=="
         },
         "legendgroup": "1387",
         "lon": {
          "dtype": "f8",
          "bdata": "XI/C9SjcL8CkcD0K1yMwwA=="
         },
         "marker": {
          "color": "#782AB6"
         },
         "mode": "markers",
         "name": "1387",
         "showlegend": true,
         "subplot": "map",
         "type": "scattermap"
        },
        {
         "customdata": [
          [
           36.64,
           "05:14:45.0",
           "2018/06/25",
           21.34
          ],
          [
           36.81,
           "10:21:49.5",
           "2018/09/27",
           21.43
          ],
          [
           36.73,
           "19:35:53.8",
           "2018/12/19",
           21.57
          ]
         ],
         "hovertemplate": "<b>%{hovertext}</b><br><br>Cluster=1390<br>Lat=%{customdata[0]}<br>Lon=%{customdata[3]}<br>Time=%{customdata[1]}<br>Date=%{customdata[2]}<extra></extra>",
         "hovertext": {
          "dtype": "f8",
          "bdata": "AAAAAAC4lUAAAAAAALiVQAAAAAAAuJVA"
         },
         "lat": {
          "dtype": "f8",
          "bdata": "UrgehetRQkBI4XoUrmdCQD0K16NwXUJA"
         },
         "legendgroup": "1390",
         "lon": {
          "dtype": "f8",
          "bdata": "16NwPQpXNUCuR+F6FG41QFK4HoXrkTVA"
         },
         "marker": {
          "color": "#565656"
         },
         "mode": "markers",
         "name": "1390",
         "showlegend": true,
         "subplot": "map",
         "type": "scattermap"
        },
        {
         "customdata": [
          [
           13.35,
           "01:09:30.1",
           "2018/06/30",
           50.8
          ],
          [
           13.27,
           "17:43:27.7",
           "2018/06/30",
           50.87
          ]
         ],
         "hovertemplate": "<b>%{hovertext}</b><br><br>Cluster=1392<br>Lat=%{customdata[0]}<br>Lon=%{customdata[3]}<br>Time=%{customdata[1]}<br>Date=%{customdata[2]}<extra></extra>",
         "hovertext": {
          "dtype": "f8",
          "bdata": "AAAAAADAlUAAAAAAAMCVQA=="
         },
         "lat": {
          "dtype": "f8",
          "bdata": "MzMzMzOzKkAK16NwPYoqQA=="
         },
         "legendgroup": "1392",
         "lon": {
          "dtype": "f8",
          "bdata": "ZmZmZmZmSUCPwvUoXG9JQA=="
         },
         "marker": {
          "color": "#1C8356"
         },
         "mode": "markers",
         "name": "1392",
         "showlegend": true,
         "subplot": "map",
         "type": "scattermap"
        },
        {
         "customdata": [
          [
           -12.79,
           "06:38:06.1",
           "2018/08/10",
           -14.54
          ],
          [
           -12.83,
           "07:17:05.3",
           "2018/08/10",
           -14.65
          ],
          [
           -12.87,
           "02:56:59.3",
           "2018/08/12",
           -14.67
          ]
         ],
         "hovertemplate": "<b>%{hovertext}</b><br><br>Cluster=1400<br>Lat=%{customdata[0]}<br>Lon=%{customdata[3]}<br>Time=%{customdata[1]}<br>Date=%{customdata[2]}<extra></extra>",
         "hovertext": {
          "dtype": "f8",
          "bdata": "AAAAAADglUAAAAAAAOCVQAAAAAAA4JVA"
         },
         "lat": {
          "dtype": "f8",
          "bdata": "FK5H4XqUKcApXI/C9agpwD0K16NwvSnA"
         },
         "legendgroup": "1400",
         "lon": {
          "dtype": "f8",
          "bdata": "FK5H4XoULcDNzMzMzEwtwNejcD0KVy3A"
         },
         "marker": {
          "color": "#16FF32"
         },
         "mode": "markers",
         "name": "1400",
         "showlegend": true,
         "subplot": "map",
         "type": "scattermap"
        },
        {
         "customdata": [
          [
           34.46,
           "00:24:10.6",
           "2018/09/17",
           26.49
          ],
          [
           34.61,
           "18:24:38.0",
           "2019/01/10",
           26.68
          ]
         ],
         "hovertemplate": "<b>%{hovertext}</b><br><br>Cluster=1410<br>Lat=%{customdata[0]}<br>Lon=%{customdata[3]}<br>Time=%{customdata[1]}<br>Date=%{customdata[2]}<extra></extra>",
         "hovertext": {
          "dtype": "f8",
          "bdata": "AAAAAAAIlkAAAAAAAAiWQA=="
         },
         "lat": {
          "dtype": "f8",
          "bdata": "exSuR+E6QUCuR+F6FE5BQA=="
         },
         "legendgroup": "1410",
         "lon": {
          "dtype": "f8",
          "bdata": "PQrXo3B9OkCuR+F6FK46QA=="
         },
         "marker": {
          "color": "#F7E1A0"
         },
         "mode": "markers",
         "name": "1410",
         "showlegend": true,
         "subplot": "map",
         "type": "scattermap"
        },
        {
         "customdata": [
          [
           -37.81,
           "07:27:41.3",
           "2018/09/18",
           49.78
          ],
          [
           -37.88,
           "10:57:50.7",
           "2018/09/18",
           49.97
          ]
         ],
         "hovertemplate": "<b>%{hovertext}</b><br><br>Cluster=1411<br>Lat=%{customdata[0]}<br>Lon=%{customdata[3]}<br>Time=%{customdata[1]}<br>Date=%{customdata[2]}<extra></extra>",
         "hovertext": {
          "dtype": "f8",
          "bdata": "AAAAAAAMlkAAAAAAAAyWQA=="
         },
         "lat": {
          "dtype": "f8",
          "bdata": "SOF6FK7nQsBxPQrXo/BCwA=="
         },
         "legendgroup": "1411",
         "lon": {
          "dtype": "f8",
          "bdata": "pHA9CtfjSEBcj8L1KPxIQA=="
         },
         "marker": {
          "color": "#E2E2E2"
         },
         "mode": "markers",
         "name": "1411",
         "showlegend": true,
         "subplot": "map",
         "type": "scattermap"
        },
        {
         "customdata": [
          [
           -7.15,
           "12:30:12.6",
           "2018/09/21",
           -12.81
          ],
          [
           -7.33,
           "03:57:41.8",
           "2018/09/22",
           -12.65
          ],
          [
           -7.05,
           "08:42:31.8",
           "2018/09/22",
           -12.82
          ],
          [
           -7.25,
           "18:31:52.0",
           "2018/09/22",
           -12.75
          ]
         ],
         "hovertemplate": "<b>%{hovertext}</b><br><br>Cluster=1413<br>Lat=%{customdata[0]}<br>Lon=%{customdata[3]}<br>Time=%{customdata[1]}<br>Date=%{customdata[2]}<extra></extra>",
         "hovertext": {
          "dtype": "f8",
          "bdata": "AAAAAAAUlkAAAAAAABSWQAAAAAAAFJZAAAAAAAAUlkA="
         },
         "lat": {
          "dtype": "f8",
          "bdata": "mpmZmZmZHMBSuB6F61EdwDMzMzMzMxzAAAAAAAAAHcA="
         },
         "legendgroup": "1413",
         "lon": {
          "dtype": "f8",
          "bdata": "H4XrUbieKcDNzMzMzEwpwKRwPQrXoynAAAAAAACAKcA="
         },
         "marker": {
          "color": "#1CBE4F"
         },
         "mode": "markers",
         "name": "1413",
         "showlegend": true,
         "subplot": "map",
         "type": "scattermap"
        },
        {
         "customdata": [
          [
           -5.69,
           "14:59:44.1",
           "2018/10/05",
           -11.52
          ],
          [
           -5.59,
           "15:13:28.1",
           "2018/10/05",
           -11.4
          ]
         ],
         "hovertemplate": "<b>%{hovertext}</b><br><br>Cluster=1416<br>Lat=%{customdata[0]}<br>Lon=%{customdata[3]}<br>Time=%{customdata[1]}<br>Date=%{customdata[2]}<extra></extra>",
         "hovertext": {
          "dtype": "f8",
          "bdata": "AAAAAAAglkAAAAAAACCWQA=="
         },
         "lat": {
          "dtype": "f8",
          "bdata": "w/UoXI/CFsBcj8L1KFwWwA=="
         },
         "legendgroup": "1416",
         "lon": {
          "dtype": "f8",
          "bdata": "CtejcD0KJ8DNzMzMzMwmwA=="
         },
         "marker": {
          "color": "#C4451C"
         },
         "mode": "markers",
         "name": "1416",
         "showlegend": true,
         "subplot": "map",
         "type": "scattermap"
        },
        {
         "customdata": [
          [
           37.54,
           "00:34:20.6",
           "2018/10/06",
           15.06
          ],
          [
           37.63,
           "02:19:14.0",
           "2018/12/26",
           15.1
          ]
         ],
         "hovertemplate": "<b>%{hovertext}</b><br><br>Cluster=1417<br>Lat=%{customdata[0]}<br>Lon=%{customdata[3]}<br>Time=%{customdata[1]}<br>Date=%{customdata[2]}<extra></extra>",
         "hovertext": {
          "dtype": "f8",
          "bdata": "AAAAAAAklkAAAAAAACSWQA=="
         },
         "lat": {
          "dtype": "f8",
          "bdata": "hetRuB7FQkBxPQrXo9BCQA=="
         },
         "legendgroup": "1417",
         "lon": {
          "dtype": "f8",
          "bdata": "H4XrUbgeLkAzMzMzMzMuQA=="
         },
         "marker": {
          "color": "#DEA0FD"
         },
         "mode": "markers",
         "name": "1417",
         "showlegend": true,
         "subplot": "map",
         "type": "scattermap"
        },
        {
         "customdata": [
          [
           -23.55,
           "18:58:16.2",
           "2018/10/09",
           -13.24
          ],
          [
           -23.56,
           "19:05:42.5",
           "2018/10/09",
           -13.41
          ],
          [
           -23.68,
           "12:24:18.3",
           "2018/11/03",
           -13.27
          ]
         ],
         "hovertemplate": "<b>%{hovertext}</b><br><br>Cluster=1419<br>Lat=%{customdata[0]}<br>Lon=%{customdata[3]}<br>Time=%{customdata[1]}<br>Date=%{customdata[2]}<extra></extra>",
         "hovertext": {
          "dtype": "f8",
          "bdata": "AAAAAAAslkAAAAAAACyWQAAAAAAALJZA"
         },
         "lat": {
          "dtype": "f8",
          "bdata": "zczMzMyMN8CPwvUoXI83wK5H4XoUrjfA"
         },
         "legendgroup": "1419",
         "lon": {
          "dtype": "f8",
          "bdata": "exSuR+F6KsBSuB6F69EqwArXo3A9iirA"
         },
         "marker": {
          "color": "#FE00FA"
         },
         "mode": "markers",
         "name": "1419",
         "showlegend": true,
         "subplot": "map",
         "type": "scattermap"
        },
        {
         "customdata": [
          [
           37.52,
           "22:54:52.6",
           "2018/10/25",
           20.56
          ],
          [
           37.49,
           "05:48:37.1",
           "2018/10/26",
           20.6
          ],
          [
           37.55,
           "12:41:12.9",
           "2018/10/26",
           20.57
          ],
          [
           37.48,
           "08:32:26.2",
           "2018/10/30",
           20.47
          ],
          [
           37.51,
           "15:12:00.6",
           "2018/10/30",
           20.51
          ],
          [
           37.42,
           "02:44:48.8",
           "2018/11/01",
           20.58
          ],
          [
           37.18,
           "01:10:05.6",
           "2018/11/03",
           20.59
          ],
          [
           37.21,
           "03:04:31.5",
           "2018/11/04",
           20.72
          ],
          [
           37.51,
           "03:12:45.3",
           "2018/11/04",
           20.6
          ],
          [
           37.74,
           "06:46:13.9",
           "2018/11/05",
           20.48
          ],
          [
           37.75,
           "23:38:35.8",
           "2018/11/11",
           20.51
          ],
          [
           37.33,
           "06:50:28.2",
           "2018/11/12",
           20.59
          ],
          [
           37.62,
           "09:02:05.3",
           "2018/11/15",
           20.67
          ],
          [
           37.28,
           "13:05:56.2",
           "2018/11/19",
           20.62
          ],
          [
           37.42,
           "01:41:27.1",
           "2018/12/25",
           20.86
          ],
          [
           37.65,
           "20:09:25.9",
           "2019/02/28",
           20.94
          ],
          [
           37.32,
           "23:00:54.2",
           "2020/10/21",
           20.51
          ]
         ],
         "hovertemplate": "<b>%{hovertext}</b><br><br>Cluster=1420<br>Lat=%{customdata[0]}<br>Lon=%{customdata[3]}<br>Time=%{customdata[1]}<br>Date=%{customdata[2]}<extra></extra>",
         "hovertext": {
          "dtype": "f8",
          "bdata": "AAAAAAAwlkAAAAAAADCWQAAAAAAAMJZAAAAAAAAwlkAAAAAAADCWQAAAAAAAMJZAAAAAAAAwlkAAAAAAADCWQAAAAAAAMJZAAAAAAAAwlkAAAAAAADCWQAAAAAAAMJZAAAAAAAAwlkAAAAAAADCWQAAAAAAAMJZAAAAAAAAwlkAAAAAAADCWQA=="
         },
         "lat": {
          "dtype": "f8",
          "bdata": "w/UoXI/CQkAfhetRuL5CQGZmZmZmxkJAPQrXo3C9QkDhehSuR8FCQPYoXI/CtUJA16NwPQqXQkB7FK5H4ZpCQOF6FK5HwUJAH4XrUbjeQkAAAAAAAOBCQArXo3A9qkJAj8L1KFzPQkCkcD0K16NCQPYoXI/CtUJAMzMzMzPTQkApXI/C9ahCQA=="
         },
         "legendgroup": "1420",
         "lon": {
          "dtype": "f8",
          "bdata": "j8L1KFyPNECamZmZmZk0QFK4HoXrkTRAuB6F61F4NEDD9Shcj4I0QBSuR+F6lDRA16NwPQqXNEC4HoXrUbg0QJqZmZmZmTRAexSuR+F6NEDD9Shcj4I0QNejcD0KlzRA7FG4HoWrNEAfhetRuJ40QFyPwvUo3DRAcT0K16PwNEDD9Shcj4I0QA=="
         },
         "marker": {
          "color": "#325A9B"
         },
         "mode": "markers",
         "name": "1420",
         "showlegend": true,
         "subplot": "map",
         "type": "scattermap"
        },
        {
         "customdata": [
          [
           17.92,
           "19:54:12.1",
           "2019/03/06",
           40.23
          ],
          [
           17.9,
           "21:24:02.5",
           "2019/03/06",
           40.19
          ],
          [
           18.11,
           "17:20:09.6",
           "2019/03/08",
           40.17
          ]
         ],
         "hovertemplate": "<b>%{hovertext}</b><br><br>Cluster=1438<br>Lat=%{customdata[0]}<br>Lon=%{customdata[3]}<br>Time=%{customdata[1]}<br>Date=%{customdata[2]}<extra></extra>",
         "hovertext": {
          "dtype": "f8",
          "bdata": "AAAAAAB4lkAAAAAAAHiWQAAAAAAAeJZA"
         },
         "lat": {
          "dtype": "f8",
          "bdata": "7FG4HoXrMUBmZmZmZuYxQFyPwvUoHDJA"
         },
         "legendgroup": "1438",
         "lon": {
          "dtype": "f8",
          "bdata": "PQrXo3AdREC4HoXrURhEQPYoXI/CFURA"
         },
         "marker": {
          "color": "#FEAF16"
         },
         "mode": "markers",
         "name": "1438",
         "showlegend": true,
         "subplot": "map",
         "type": "scattermap"
        },
        {
         "customdata": [
          [
           37.41,
           "06:34:27.8",
           "2019/03/20",
           29.53
          ],
          [
           37.51,
           "11:30:17.8",
           "2019/03/31",
           29.37
          ]
         ],
         "hovertemplate": "<b>%{hovertext}</b><br><br>Cluster=1439<br>Lat=%{customdata[0]}<br>Lon=%{customdata[3]}<br>Time=%{customdata[1]}<br>Date=%{customdata[2]}<extra></extra>",
         "hovertext": {
          "dtype": "f8",
          "bdata": "AAAAAAB8lkAAAAAAAHyWQA=="
         },
         "lat": {
          "dtype": "f8",
          "bdata": "FK5H4Xq0QkDhehSuR8FCQA=="
         },
         "legendgroup": "1439",
         "lon": {
          "dtype": "f8",
          "bdata": "SOF6FK6HPUAfhetRuF49QA=="
         },
         "marker": {
          "color": "#F8A19F"
         },
         "mode": "markers",
         "name": "1439",
         "showlegend": true,
         "subplot": "map",
         "type": "scattermap"
        },
        {
         "customdata": [
          [
           33.58,
           "10:07:23.9",
           "2019/04/01",
           45.77
          ],
          [
           33.68,
           "10:16:14.5",
           "2019/04/01",
           45.78
          ]
         ],
         "hovertemplate": "<b>%{hovertext}</b><br><br>Cluster=1445<br>Lat=%{customdata[0]}<br>Lon=%{customdata[3]}<br>Time=%{customdata[1]}<br>Date=%{customdata[2]}<extra></extra>",
         "hovertext": {
          "dtype": "f8",
          "bdata": "AAAAAACUlkAAAAAAAJSWQA=="
         },
         "lat": {
          "dtype": "f8",
          "bdata": "CtejcD3KQEDXo3A9CtdAQA=="
         },
         "legendgroup": "1445",
         "lon": {
          "dtype": "f8",
          "bdata": "w/UoXI/iRkCkcD0K1+NGQA=="
         },
         "marker": {
          "color": "#90AD1C"
         },
         "mode": "markers",
         "name": "1445",
         "showlegend": true,
         "subplot": "map",
         "type": "scattermap"
        },
        {
         "customdata": [
          [
           -35.3,
           "07:30:38.3",
           "2019/04/16",
           -15.49
          ],
          [
           -35.5,
           "09:29:12.0",
           "2019/10/12",
           -15.5
          ]
         ],
         "hovertemplate": "<b>%{hovertext}</b><br><br>Cluster=1447<br>Lat=%{customdata[0]}<br>Lon=%{customdata[3]}<br>Time=%{customdata[1]}<br>Date=%{customdata[2]}<extra></extra>",
         "hovertext": {
          "dtype": "f8",
          "bdata": "AAAAAACclkAAAAAAAJyWQA=="
         },
         "lat": {
          "dtype": "f8",
          "bdata": "ZmZmZmamQcAAAAAAAMBBwA=="
         },
         "legendgroup": "1447",
         "lon": {
          "dtype": "f8",
          "bdata": "exSuR+H6LsAAAAAAAAAvwA=="
         },
         "marker": {
          "color": "#F6222E"
         },
         "mode": "markers",
         "name": "1447",
         "showlegend": true,
         "subplot": "map",
         "type": "scattermap"
        },
        {
         "customdata": [
          [
           35.37,
           "04:43:17.6",
           "2019/04/29",
           27.69
          ],
          [
           35.23,
           "09:51:24.2",
           "2019/08/03",
           27.85
          ],
          [
           35.68,
           "11:58:18.5",
           "2019/08/28",
           27.64
          ],
          [
           35.17,
           "01:01:32.9",
           "2019/09/04",
           27.9
          ]
         ],
         "hovertemplate": "<b>%{hovertext}</b><br><br>Cluster=1449<br>Lat=%{customdata[0]}<br>Lon=%{customdata[3]}<br>Time=%{customdata[1]}<br>Date=%{customdata[2]}<extra></extra>",
         "hovertext": {
          "dtype": "f8",
          "bdata": "AAAAAACklkAAAAAAAKSWQAAAAAAApJZAAAAAAACklkA="
         },
         "lat": {
          "dtype": "f8",
          "bdata": "j8L1KFyvQUA9CtejcJ1BQNejcD0K10FA9ihcj8KVQUA="
         },
         "legendgroup": "1449",
         "lon": {
          "dtype": "f8",
          "bdata": "cT0K16OwO0CamZmZmdk7QKRwPQrXoztAZmZmZmbmO0A="
         },
         "marker": {
          "color": "#1CFFCE"
         },
         "mode": "markers",
         "name": "1449",
         "showlegend": true,
         "subplot": "map",
         "type": "scattermap"
        },
        {
         "customdata": [
          [
           -3.17,
           "13:23:08.8",
           "2019/05/06",
           -12.28
          ],
          [
           -3.26,
           "16:11:30.0",
           "2019/05/06",
           -12.1
          ]
         ],
         "hovertemplate": "<b>%{hovertext}</b><br><br>Cluster=1451<br>Lat=%{customdata[0]}<br>Lon=%{customdata[3]}<br>Time=%{customdata[1]}<br>Date=%{customdata[2]}<extra></extra>",
         "hovertext": {
          "dtype": "f8",
          "bdata": "AAAAAACslkAAAAAAAKyWQA=="
         },
         "lat": {
          "dtype": "f8",
          "bdata": "XI/C9ShcCcAUrkfhehQKwA=="
         },
         "legendgroup": "1451",
         "lon": {
          "dtype": "f8",
          "bdata": "j8L1KFyPKMAzMzMzMzMowA=="
         },
         "marker": {
          "color": "#2ED9FF"
         },
         "mode": "markers",
         "name": "1451",
         "showlegend": true,
         "subplot": "map",
         "type": "scattermap"
        },
        {
         "customdata": [
          [
           12.15,
           "12:11:00.4",
           "2019/05/15",
           46.16
          ],
          [
           11.9,
           "11:23:38.5",
           "2019/05/17",
           46.03
          ]
         ],
         "hovertemplate": "<b>%{hovertext}</b><br><br>Cluster=1452<br>Lat=%{customdata[0]}<br>Lon=%{customdata[3]}<br>Time=%{customdata[1]}<br>Date=%{customdata[2]}<extra></extra>",
         "hovertext": {
          "dtype": "f8",
          "bdata": "AAAAAACwlkAAAAAAALCWQA=="
         },
         "lat": {
          "dtype": "f8",
          "bdata": "zczMzMxMKEDNzMzMzMwnQA=="
         },
         "legendgroup": "1452",
         "lon": {
          "dtype": "f8",
          "bdata": "FK5H4XoUR0CkcD0K1wNHQA=="
         },
         "marker": {
          "color": "#B10DA1"
         },
         "mode": "markers",
         "name": "1452",
         "showlegend": true,
         "subplot": "map",
         "type": "scattermap"
        },
        {
         "customdata": [
          [
           -1.74,
           "19:27:08.6",
           "2019/06/29",
           -12.9
          ],
          [
           -1.72,
           "19:51:20.8",
           "2019/06/29",
           -13.01
          ],
          [
           -1.64,
           "19:59:22.5",
           "2019/06/29",
           -12.74
          ],
          [
           -1.88,
           "23:03:03.4",
           "2019/06/29",
           -13.0
          ]
         ],
         "hovertemplate": "<b>%{hovertext}</b><br><br>Cluster=1458<br>Lat=%{customdata[0]}<br>Lon=%{customdata[3]}<br>Time=%{customdata[1]}<br>Date=%{customdata[2]}<extra></extra>",
         "hovertext": {
          "dtype": "f8",
          "bdata": "AAAAAADIlkAAAAAAAMiWQAAAAAAAyJZAAAAAAADIlkA="
         },
         "lat": {
          "dtype": "f8",
          "bdata": "16NwPQrX+7+F61G4HoX7vz0K16NwPfq/FK5H4XoU/r8="
         },
         "legendgroup": "1458",
         "lon": {
          "dtype": "f8",
          "bdata": "zczMzMzMKcCF61G4HgUqwHsUrkfheinAAAAAAAAAKsA="
         },
         "marker": {
          "color": "#C075A6"
         },
         "mode": "markers",
         "name": "1458",
         "showlegend": true,
         "subplot": "map",
         "type": "scattermap"
        },
        {
         "customdata": [
          [
           31.75,
           "07:00:32.4",
           "2019/07/08",
           49.56
          ],
          [
           31.94,
           "17:20:13.6",
           "2019/11/29",
           49.81
          ]
         ],
         "hovertemplate": "<b>%{hovertext}</b><br><br>Cluster=1460<br>Lat=%{customdata[0]}<br>Lon=%{customdata[3]}<br>Time=%{customdata[1]}<br>Date=%{customdata[2]}<extra></extra>",
         "hovertext": {
          "dtype": "f8",
          "bdata": "AAAAAADQlkAAAAAAANCWQA=="
         },
         "lat": {
          "dtype": "f8",
          "bdata": "AAAAAADAP0BxPQrXo/A/QA=="
         },
         "legendgroup": "1460",
         "lon": {
          "dtype": "f8",
          "bdata": "SOF6FK7HSEBI4XoUrudIQA=="
         },
         "marker": {
          "color": "#FC1CBF"
         },
         "mode": "markers",
         "name": "1460",
         "showlegend": true,
         "subplot": "map",
         "type": "scattermap"
        },
        {
         "customdata": [
          [
           0.02,
           "21:43:48.9",
           "2019/07/10",
           -16.97
          ],
          [
           0.23,
           "01:29:20.7",
           "2020/01/06",
           -16.99
          ]
         ],
         "hovertemplate": "<b>%{hovertext}</b><br><br>Cluster=1462<br>Lat=%{customdata[0]}<br>Lon=%{customdata[3]}<br>Time=%{customdata[1]}<br>Date=%{customdata[2]}<extra></extra>",
         "hovertext": {
          "dtype": "f8",
          "bdata": "AAAAAADYlkAAAAAAANiWQA=="
         },
         "lat": {
          "dtype": "f8",
          "bdata": "exSuR+F6lD9xPQrXo3DNPw=="
         },
         "legendgroup": "1462",
         "lon": {
          "dtype": "f8",
          "bdata": "uB6F61H4MMA9CtejcP0wwA=="
         },
         "marker": {
          "color": "#B00068"
         },
         "mode": "markers",
         "name": "1462",
         "showlegend": true,
         "subplot": "map",
         "type": "scattermap"
        },
        {
         "customdata": [
          [
           13.35,
           "19:12:24.4",
           "2019/07/14",
           50.45
          ],
          [
           13.1,
           "19:15:57.7",
           "2019/07/14",
           50.5
          ],
          [
           13.19,
           "11:09:28.6",
           "2019/07/15",
           50.52
          ],
          [
           13.1,
           "06:24:31.7",
           "2019/08/15",
           50.33
          ]
         ],
         "hovertemplate": "<b>%{hovertext}</b><br><br>Cluster=1464<br>Lat=%{customdata[0]}<br>Lon=%{customdata[3]}<br>Time=%{customdata[1]}<br>Date=%{customdata[2]}<extra></extra>",
         "hovertext": {
          "dtype": "f8",
          "bdata": "AAAAAADglkAAAAAAAOCWQAAAAAAA4JZAAAAAAADglkA="
         },
         "lat": {
          "dtype": "f8",
          "bdata": "MzMzMzOzKkAzMzMzMzMqQOF6FK5HYSpAMzMzMzMzKkA="
         },
         "legendgroup": "1464",
         "lon": {
          "dtype": "f8",
          "bdata": "mpmZmZk5SUAAAAAAAEBJQMP1KFyPQklACtejcD0qSUA="
         },
         "marker": {
          "color": "#FBE426"
         },
         "mode": "markers",
         "name": "1464",
         "showlegend": true,
         "subplot": "map",
         "type": "scattermap"
        },
        {
         "customdata": [
          [
           -28.05,
           "10:59:25.9",
           "2019/08/20",
           -13.19
          ],
          [
           -28.0,
           "10:35:55.8",
           "2019/11/10",
           -13.23
          ]
         ],
         "hovertemplate": "<b>%{hovertext}</b><br><br>Cluster=1478<br>Lat=%{customdata[0]}<br>Lon=%{customdata[3]}<br>Time=%{customdata[1]}<br>Date=%{customdata[2]}<extra></extra>",
         "hovertext": {
          "dtype": "f8",
          "bdata": "AAAAAAAYl0AAAAAAABiXQA=="
         },
         "lat": {
          "dtype": "f8",
          "bdata": "zczMzMwMPMAAAAAAAAA8wA=="
         },
         "legendgroup": "1478",
         "lon": {
          "dtype": "f8",
          "bdata": "4XoUrkdhKsD2KFyPwnUqwA=="
         },
         "marker": {
          "color": "#FA0087"
         },
         "mode": "markers",
         "name": "1478",
         "showlegend": true,
         "subplot": "map",
         "type": "scattermap"
        },
        {
         "customdata": [
          [
           37.49,
           "15:38:14.5",
           "2019/08/30",
           26.83
          ],
          [
           37.52,
           "17:21:04.4",
           "2019/08/30",
           26.82
          ]
         ],
         "hovertemplate": "<b>%{hovertext}</b><br><br>Cluster=1479<br>Lat=%{customdata[0]}<br>Lon=%{customdata[3]}<br>Time=%{customdata[1]}<br>Date=%{customdata[2]}<extra></extra>",
         "hovertext": {
          "dtype": "f8",
          "bdata": "AAAAAAAcl0AAAAAAAByXQA=="
         },
         "lat": {
          "dtype": "f8",
          "bdata": "H4XrUbi+QkDD9Shcj8JCQA=="
         },
         "legendgroup": "1479",
         "lon": {
          "dtype": "f8",
          "bdata": "FK5H4XrUOkBSuB6F69E6QA=="
         },
         "marker": {
          "color": "#AA0DFE"
         },
         "mode": "markers",
         "name": "1479",
         "showlegend": true,
         "subplot": "map",
         "type": "scattermap"
        },
        {
         "customdata": [
          [
           36.28,
           "04:44:56.5",
           "2019/10/03",
           28.57
          ],
          [
           36.46,
           "21:06:47.5",
           "2019/10/24",
           28.67
          ]
         ],
         "hovertemplate": "<b>%{hovertext}</b><br><br>Cluster=1487<br>Lat=%{customdata[0]}<br>Lon=%{customdata[3]}<br>Time=%{customdata[1]}<br>Date=%{customdata[2]}<extra></extra>",
         "hovertext": {
          "dtype": "f8",
          "bdata": "AAAAAAA8l0AAAAAAADyXQA=="
         },
         "lat": {
          "dtype": "f8",
          "bdata": "pHA9CtcjQkB7FK5H4TpCQA=="
         },
         "legendgroup": "1487",
         "lon": {
          "dtype": "f8",
          "bdata": "UrgeheuRPEDsUbgehas8QA=="
         },
         "marker": {
          "color": "#3283FE"
         },
         "mode": "markers",
         "name": "1487",
         "showlegend": true,
         "subplot": "map",
         "type": "scattermap"
        },
        {
         "customdata": [
          [
           -29.17,
           "19:17:19.8",
           "2019/10/16",
           -12.94
          ],
          [
           -29.04,
           "13:07:32.5",
           "2019/11/07",
           -12.9
          ]
         ],
         "hovertemplate": "<b>%{hovertext}</b><br><br>Cluster=1489<br>Lat=%{customdata[0]}<br>Lon=%{customdata[3]}<br>Time=%{customdata[1]}<br>Date=%{customdata[2]}<extra></extra>",
         "hovertext": {
          "dtype": "f8",
          "bdata": "AAAAAABEl0AAAAAAAESXQA=="
         },
         "lat": {
          "dtype": "f8",
          "bdata": "7FG4HoUrPcAK16NwPQo9wA=="
         },
         "legendgroup": "1489",
         "lon": {
          "dtype": "f8",
          "bdata": "4XoUrkfhKcDNzMzMzMwpwA=="
         },
         "marker": {
          "color": "#85660D"
         },
         "mode": "markers",
         "name": "1489",
         "showlegend": true,
         "subplot": "map",
         "type": "scattermap"
        },
        {
         "customdata": [
          [
           38.54,
           "00:14:13.6",
           "2019/11/19",
           44.4
          ],
          [
           38.45,
           "05:53:01.0",
           "2020/02/23",
           44.42
          ],
          [
           38.5,
           "16:00:31.6",
           "2020/02/23",
           44.37
          ],
          [
           38.41,
           "14:14:05.1",
           "2020/02/25",
           44.34
          ],
          [
           38.46,
           "02:23:13.2",
           "2020/04/12",
           44.31
          ],
          [
           38.53,
           "10:03:30.6",
           "2020/06/25",
           43.96
          ]
         ],
         "hovertemplate": "<b>%{hovertext}</b><br><br>Cluster=1494<br>Lat=%{customdata[0]}<br>Lon=%{customdata[3]}<br>Time=%{customdata[1]}<br>Date=%{customdata[2]}<extra></extra>",
         "hovertext": {
          "dtype": "f8",
          "bdata": "AAAAAABYl0AAAAAAAFiXQAAAAAAAWJdAAAAAAABYl0AAAAAAAFiXQAAAAAAAWJdA"
         },
         "lat": {
          "dtype": "f8",
          "bdata": "hetRuB5FQ0CamZmZmTlDQAAAAAAAQENAFK5H4Xo0Q0B7FK5H4TpDQKRwPQrXQ0NA"
         },
         "legendgroup": "1494",
         "lon": {
          "dtype": "f8",
          "bdata": "MzMzMzMzRkD2KFyPwjVGQI/C9ShcL0ZA7FG4HoUrRkBI4XoUridGQHsUrkfh+kVA"
         },
         "marker": {
          "color": "#782AB6"
         },
         "mode": "markers",
         "name": "1494",
         "showlegend": true,
         "subplot": "map",
         "type": "scattermap"
        },
        {
         "customdata": [
          [
           35.5,
           "21:58:28.9",
           "2019/12/10",
           26.45
          ],
          [
           35.5,
           "19:36:36.6",
           "2020/06/26",
           26.68
          ]
         ],
         "hovertemplate": "<b>%{hovertext}</b><br><br>Cluster=1497<br>Lat=%{customdata[0]}<br>Lon=%{customdata[3]}<br>Time=%{customdata[1]}<br>Date=%{customdata[2]}<extra></extra>",
         "hovertext": {
          "dtype": "f8",
          "bdata": "AAAAAABkl0AAAAAAAGSXQA=="
         },
         "lat": {
          "dtype": "f8",
          "bdata": "AAAAAADAQUAAAAAAAMBBQA=="
         },
         "legendgroup": "1497",
         "lon": {
          "dtype": "f8",
          "bdata": "MzMzMzNzOkCuR+F6FK46QA=="
         },
         "marker": {
          "color": "#565656"
         },
         "mode": "markers",
         "name": "1497",
         "showlegend": true,
         "subplot": "map",
         "type": "scattermap"
        },
        {
         "customdata": [
          [
           34.9,
           "03:05:42.5",
           "2019/12/12",
           26.27
          ],
          [
           34.98,
           "10:22:54.1",
           "2020/04/11",
           26.16
          ]
         ],
         "hovertemplate": "<b>%{hovertext}</b><br><br>Cluster=1498<br>Lat=%{customdata[0]}<br>Lon=%{customdata[3]}<br>Time=%{customdata[1]}<br>Date=%{customdata[2]}<extra></extra>",
         "hovertext": {
          "dtype": "f8",
          "bdata": "AAAAAABol0AAAAAAAGiXQA=="
         },
         "lat": {
          "dtype": "f8",
          "bdata": "MzMzMzNzQUA9CtejcH1BQA=="
         },
         "legendgroup": "1498",
         "lon": {
          "dtype": "f8",
          "bdata": "hetRuB5FOkApXI/C9Sg6QA=="
         },
         "marker": {
          "color": "#1C8356"
         },
         "mode": "markers",
         "name": "1498",
         "showlegend": true,
         "subplot": "map",
         "type": "scattermap"
        },
        {
         "customdata": [
          [
           -31.17,
           "02:25:44.1",
           "2019/12/21",
           -13.35
          ],
          [
           -31.26,
           "02:33:14.9",
           "2019/12/21",
           -13.5
          ]
         ],
         "hovertemplate": "<b>%{hovertext}</b><br><br>Cluster=1500<br>Lat=%{customdata[0]}<br>Lon=%{customdata[3]}<br>Time=%{customdata[1]}<br>Date=%{customdata[2]}<extra></extra>",
         "hovertext": {
          "dtype": "f8",
          "bdata": "AAAAAABwl0AAAAAAAHCXQA=="
         },
         "lat": {
          "dtype": "f8",
          "bdata": "7FG4HoUrP8DD9Shcj0I/wA=="
         },
         "legendgroup": "1500",
         "lon": {
          "dtype": "f8",
          "bdata": "MzMzMzOzKsAAAAAAAAArwA=="
         },
         "marker": {
          "color": "#16FF32"
         },
         "mode": "markers",
         "name": "1500",
         "showlegend": true,
         "subplot": "map",
         "type": "scattermap"
        },
        {
         "customdata": [
          [
           38.3,
           "07:02:27.7",
           "2019/12/27",
           39.03
          ],
          [
           38.41,
           "17:55:14.1",
           "2020/01/24",
           39.07
          ],
          [
           38.36,
           "16:30:11.1",
           "2020/01/25",
           39.11
          ],
          [
           38.34,
           "23:03:37.8",
           "2020/02/25",
           38.8
          ],
          [
           38.38,
           "17:53:33.4",
           "2020/03/19",
           39.07
          ],
          [
           38.24,
           "18:06:21.6",
           "2020/06/05",
           38.76
          ],
          [
           38.19,
           "09:37:37.1",
           "2020/08/04",
           38.7
          ],
          [
           38.06,
           "10:44:09.6",
           "2020/09/08",
           38.78
          ],
          [
           38.46,
           "06:37:32.9",
           "2020/12/27",
           39.23
          ]
         ],
         "hovertemplate": "<b>%{hovertext}</b><br><br>Cluster=1502<br>Lat=%{customdata[0]}<br>Lon=%{customdata[3]}<br>Time=%{customdata[1]}<br>Date=%{customdata[2]}<extra></extra>",
         "hovertext": {
          "dtype": "f8",
          "bdata": "AAAAAAB4l0AAAAAAAHiXQAAAAAAAeJdAAAAAAAB4l0AAAAAAAHiXQAAAAAAAeJdAAAAAAAB4l0AAAAAAAHiXQAAAAAAAeJdA"
         },
         "lat": {
          "dtype": "f8",
          "bdata": "ZmZmZmYmQ0AUrkfhejRDQK5H4XoULkNA7FG4HoUrQ0BxPQrXozBDQB+F61G4HkNAuB6F61EYQ0BI4XoUrgdDQHsUrkfhOkNA"
         },
         "legendgroup": "1502",
         "lon": {
          "dtype": "f8",
          "bdata": "pHA9CteDQ0ApXI/C9YhDQK5H4XoUjkNAZmZmZmZmQ0ApXI/C9YhDQOF6FK5HYUNAmpmZmZlZQ0CkcD0K12NDQD0K16NwnUNA"
         },
         "marker": {
          "color": "#F7E1A0"
         },
         "mode": "markers",
         "name": "1502",
         "showlegend": true,
         "subplot": "map",
         "type": "scattermap"
        },
        {
         "customdata": [
          [
           -11.64,
           "06:37:52.7",
           "2020/01/17",
           -13.78
          ],
          [
           -11.51,
           "19:40:12.9",
           "2020/06/29",
           -13.53
          ]
         ],
         "hovertemplate": "<b>%{hovertext}</b><br><br>Cluster=1508<br>Lat=%{customdata[0]}<br>Lon=%{customdata[3]}<br>Time=%{customdata[1]}<br>Date=%{customdata[2]}<extra></extra>",
         "hovertext": {
          "dtype": "f8",
          "bdata": "AAAAAACQl0AAAAAAAJCXQA=="
         },
         "lat": {
          "dtype": "f8",
          "bdata": "SOF6FK5HJ8CF61G4HgUnwA=="
         },
         "legendgroup": "1508",
         "lon": {
          "dtype": "f8",
          "bdata": "j8L1KFyPK8CPwvUoXA8rwA=="
         },
         "marker": {
          "color": "#E2E2E2"
         },
         "mode": "markers",
         "name": "1508",
         "showlegend": true,
         "subplot": "map",
         "type": "scattermap"
        },
        {
         "customdata": [
          [
           39.07,
           "19:22:16.4",
           "2020/01/22",
           27.84
          ],
          [
           39.11,
           "11:26:15.0",
           "2020/01/28",
           27.88
          ],
          [
           39.04,
           "17:55:24.0",
           "2020/02/04",
           27.88
          ],
          [
           39.11,
           "16:09:23.8",
           "2020/02/18",
           27.82
          ],
          [
           39.06,
           "02:43:35.0",
           "2020/02/24",
           27.92
          ],
          [
           38.79,
           "07:21:12.5",
           "2020/06/26",
           27.79
          ]
         ],
         "hovertemplate": "<b>%{hovertext}</b><br><br>Cluster=1510<br>Lat=%{customdata[0]}<br>Lon=%{customdata[3]}<br>Time=%{customdata[1]}<br>Date=%{customdata[2]}<extra></extra>",
         "hovertext": {
          "dtype": "f8",
          "bdata": "AAAAAACYl0AAAAAAAJiXQAAAAAAAmJdAAAAAAACYl0AAAAAAAJiXQAAAAAAAmJdA"
         },
         "lat": {
          "dtype": "f8",
          "bdata": "KVyPwvWIQ0CuR+F6FI5DQIXrUbgehUNArkfhehSOQ0BI4XoUrodDQIXrUbgeZUNA"
         },
         "legendgroup": "1510",
         "lon": {
          "dtype": "f8",
          "bdata": "16NwPQrXO0DhehSuR+E7QOF6FK5H4TtAUrgehevRO0DsUbgehes7QArXo3A9yjtA"
         },
         "marker": {
          "color": "#1CBE4F"
         },
         "mode": "markers",
         "name": "1510",
         "showlegend": true,
         "subplot": "map",
         "type": "scattermap"
        },
        {
         "customdata": [
          [
           35.22,
           "15:38:34.4",
           "2020/01/28",
           27.89
          ],
          [
           35.17,
           "13:36:59.5",
           "2020/01/29",
           27.89
          ],
          [
           35.16,
           "01:28:05.2",
           "2020/01/30",
           27.89
          ],
          [
           35.19,
           "11:21:36.8",
           "2020/01/30",
           27.78
          ],
          [
           35.17,
           "22:46:50.8",
           "2020/02/10",
           27.91
          ],
          [
           35.26,
           "14:20:11.1",
           "2020/02/26",
           27.8
          ],
          [
           35.35,
           "14:36:14.4",
           "2020/02/27",
           27.94
          ]
         ],
         "hovertemplate": "<b>%{hovertext}</b><br><br>Cluster=1512<br>Lat=%{customdata[0]}<br>Lon=%{customdata[3]}<br>Time=%{customdata[1]}<br>Date=%{customdata[2]}<extra></extra>",
         "hovertext": {
          "dtype": "f8",
          "bdata": "AAAAAACgl0AAAAAAAKCXQAAAAAAAoJdAAAAAAACgl0AAAAAAAKCXQAAAAAAAoJdAAAAAAACgl0A="
         },
         "lat": {
          "dtype": "f8",
          "bdata": "XI/C9SicQUD2KFyPwpVBQBSuR+F6lEFAuB6F61GYQUD2KFyPwpVBQOF6FK5HoUFAzczMzMysQUA="
         },
         "legendgroup": "1512",
         "lon": {
          "dtype": "f8",
          "bdata": "pHA9CtfjO0CkcD0K1+M7QKRwPQrX4ztASOF6FK7HO0ApXI/C9eg7QM3MzMzMzDtAcT0K16PwO0A="
         },
         "marker": {
          "color": "#C4451C"
         },
         "mode": "markers",
         "name": "1512",
         "showlegend": true,
         "subplot": "map",
         "type": "scattermap"
        },
        {
         "customdata": [
          [
           -15.25,
           "21:05:44.0",
           "2020/03/05",
           -13.25
          ],
          [
           -15.37,
           "21:14:39.7",
           "2020/06/10",
           -13.17
          ],
          [
           -15.25,
           "14:58:16.0",
           "2020/07/04",
           -13.25
          ],
          [
           -15.25,
           "16:26:00.0",
           "2020/07/04",
           -13.25
          ]
         ],
         "hovertemplate": "<b>%{hovertext}</b><br><br>Cluster=1521<br>Lat=%{customdata[0]}<br>Lon=%{customdata[3]}<br>Time=%{customdata[1]}<br>Date=%{customdata[2]}<extra></extra>",
         "hovertext": {
          "dtype": "f8",
          "bdata": "AAAAAADEl0AAAAAAAMSXQAAAAAAAxJdAAAAAAADEl0A="
         },
         "lat": {
          "dtype": "f8",
          "bdata": "AAAAAACALsA9CtejcL0uwAAAAAAAgC7AAAAAAACALsA="
         },
         "legendgroup": "1521",
         "lon": {
          "dtype": "f8",
          "bdata": "AAAAAACAKsDXo3A9ClcqwAAAAAAAgCrAAAAAAACAKsA="
         },
         "marker": {
          "color": "#DEA0FD"
         },
         "mode": "markers",
         "name": "1521",
         "showlegend": true,
         "subplot": "map",
         "type": "scattermap"
        },
        {
         "customdata": [
          [
           -19.78,
           "05:58:34.0",
           "2020/03/26",
           -11.78
          ],
          [
           -19.62,
           "06:13:08.4",
           "2020/03/26",
           -11.69
          ]
         ],
         "hovertemplate": "<b>%{hovertext}</b><br><br>Cluster=1526<br>Lat=%{customdata[0]}<br>Lon=%{customdata[3]}<br>Time=%{customdata[1]}<br>Date=%{customdata[2]}<extra></extra>",
         "hovertext": {
          "dtype": "f8",
          "bdata": "AAAAAADYl0AAAAAAANiXQA=="
         },
         "lat": {
          "dtype": "f8",
          "bdata": "SOF6FK7HM8AfhetRuJ4zwA=="
         },
         "legendgroup": "1526",
         "lon": {
          "dtype": "f8",
          "bdata": "j8L1KFyPJ8DhehSuR2EnwA=="
         },
         "marker": {
          "color": "#FE00FA"
         },
         "mode": "markers",
         "name": "1526",
         "showlegend": true,
         "subplot": "map",
         "type": "scattermap"
        },
        {
         "customdata": [
          [
           35.94,
           "18:15:42.6",
           "2020/04/03",
           35.49
          ],
          [
           35.86,
           "07:40:05.5",
           "2020/04/15",
           35.53
          ]
         ],
         "hovertemplate": "<b>%{hovertext}</b><br><br>Cluster=1530<br>Lat=%{customdata[0]}<br>Lon=%{customdata[3]}<br>Time=%{customdata[1]}<br>Date=%{customdata[2]}<extra></extra>",
         "hovertext": {
          "dtype": "f8",
          "bdata": "AAAAAADol0AAAAAAAOiXQA=="
         },
         "lat": {
          "dtype": "f8",
          "bdata": "uB6F61H4QUCuR+F6FO5BQA=="
         },
         "legendgroup": "1530",
         "lon": {
          "dtype": "f8",
          "bdata": "H4XrUbi+QUCkcD0K18NBQA=="
         },
         "marker": {
          "color": "#325A9B"
         },
         "mode": "markers",
         "name": "1530",
         "showlegend": true,
         "subplot": "map",
         "type": "scattermap"
        },
        {
         "customdata": [
          [
           34.18,
           "12:51:05.6",
           "2020/05/02",
           25.71
          ],
          [
           34.15,
           "13:33:51.8",
           "2020/05/02",
           25.45
          ],
          [
           34.12,
           "16:44:26.6",
           "2020/05/02",
           25.61
          ],
          [
           34.12,
           "05:54:41.9",
           "2020/05/03",
           25.9
          ],
          [
           34.08,
           "03:14:22.6",
           "2020/05/08",
           25.57
          ],
          [
           34.17,
           "04:18:18.0",
           "2020/05/18",
           25.62
          ],
          [
           34.13,
           "11:48:07.4",
           "2020/05/18",
           25.52
          ],
          [
           34.18,
           "23:22:35.2",
           "2020/05/18",
           25.51
          ],
          [
           34.27,
           "19:09:13.8",
           "2020/05/19",
           25.6
          ],
          [
           34.34,
           "02:12:18.2",
           "2020/05/20",
           25.89
          ],
          [
           34.1,
           "18:00:30.6",
           "2020/05/20",
           25.61
          ],
          [
           34.48,
           "03:40:30.6",
           "2020/05/22",
           25.89
          ],
          [
           34.29,
           "22:50:12.8",
           "2020/05/23",
           25.51
          ],
          [
           34.23,
           "01:09:52.8",
           "2020/05/27",
           25.62
          ],
          [
           34.29,
           "07:43:21.0",
           "2020/06/19",
           25.52
          ],
          [
           34.45,
           "17:48:53.3",
           "2020/08/14",
           25.83
          ]
         ],
         "hovertemplate": "<b>%{hovertext}</b><br><br>Cluster=1533<br>Lat=%{customdata[0]}<br>Lon=%{customdata[3]}<br>Time=%{customdata[1]}<br>Date=%{customdata[2]}<extra></extra>",
         "hovertext": {
          "dtype": "f8",
          "bdata": "AAAAAAD0l0AAAAAAAPSXQAAAAAAA9JdAAAAAAAD0l0AAAAAAAPSXQAAAAAAA9JdAAAAAAAD0l0AAAAAAAPSXQAAAAAAA9JdAAAAAAAD0l0AAAAAAAPSXQAAAAAAA9JdAAAAAAAD0l0AAAAAAAPSXQAAAAAAA9JdAAAAAAAD0l0A="
         },
         "lat": {
          "dtype": "f8",
          "bdata": "16NwPQoXQUAzMzMzMxNBQI/C9ShcD0FAj8L1KFwPQUAK16NwPQpBQPYoXI/CFUFAcT0K16MQQUDXo3A9ChdBQMP1KFyPIkFA7FG4HoUrQUDNzMzMzAxBQD0K16NwPUFAhetRuB4lQUA9CtejcB1BQIXrUbgeJUFAmpmZmZk5QUA="
         },
         "legendgroup": "1533",
         "lon": {
          "dtype": "f8",
          "bdata": "9ihcj8K1OUAzMzMzM3M5QFyPwvUonDlAZmZmZmbmOUBSuB6F65E5QB+F61G4njlAhetRuB6FOUDD9Shcj4I5QJqZmZmZmTlApHA9CtfjOUBcj8L1KJw5QKRwPQrX4zlAw/UoXI+COUAfhetRuJ45QIXrUbgehTlAFK5H4XrUOUA="
         },
         "marker": {
          "color": "#FEAF16"
         },
         "mode": "markers",
         "name": "1533",
         "showlegend": true,
         "subplot": "map",
         "type": "scattermap"
        },
        {
         "customdata": [
          [
           -7.49,
           "05:03:05.9",
           "2020/06/06",
           -13.69
          ],
          [
           -7.52,
           "02:53:59.6",
           "2020/12/04",
           -13.69
          ]
         ],
         "hovertemplate": "<b>%{hovertext}</b><br><br>Cluster=1540<br>Lat=%{customdata[0]}<br>Lon=%{customdata[3]}<br>Time=%{customdata[1]}<br>Date=%{customdata[2]}<extra></extra>",
         "hovertext": {
          "dtype": "f8",
          "bdata": "AAAAAAAQmEAAAAAAABCYQA=="
         },
         "lat": {
          "dtype": "f8",
          "bdata": "9ihcj8L1HcAUrkfhehQewA=="
         },
         "legendgroup": "1540",
         "lon": {
          "dtype": "f8",
          "bdata": "4XoUrkdhK8DhehSuR2ErwA=="
         },
         "marker": {
          "color": "#F8A19F"
         },
         "mode": "markers",
         "name": "1540",
         "showlegend": true,
         "subplot": "map",
         "type": "scattermap"
        },
        {
         "customdata": [
          [
           -15.81,
           "19:58:50.0",
           "2020/06/10",
           -13.04
          ],
          [
           -15.56,
           "23:46:04.5",
           "2020/09/11",
           -12.78
          ],
          [
           -15.56,
           "23:54:12.4",
           "2020/09/11",
           -13.23
          ]
         ],
         "hovertemplate": "<b>%{hovertext}</b><br><br>Cluster=1542<br>Lat=%{customdata[0]}<br>Lon=%{customdata[3]}<br>Time=%{customdata[1]}<br>Date=%{customdata[2]}<extra></extra>",
         "hovertext": {
          "dtype": "f8",
          "bdata": "AAAAAAAYmEAAAAAAABiYQAAAAAAAGJhA"
         },
         "lat": {
          "dtype": "f8",
          "bdata": "H4XrUbieL8AfhetRuB4vwB+F61G4Hi/A"
         },
         "legendgroup": "1542",
         "lon": {
          "dtype": "f8",
          "bdata": "FK5H4XoUKsCPwvUoXI8pwPYoXI/CdSrA"
         },
         "marker": {
          "color": "#90AD1C"
         },
         "mode": "markers",
         "name": "1542",
         "showlegend": true,
         "subplot": "map",
         "type": "scattermap"
        },
        {
         "customdata": [
          [
           39.43,
           "14:24:29.5",
           "2020/06/14",
           40.71
          ],
          [
           39.42,
           "06:51:31.8",
           "2020/06/15",
           40.75
          ]
         ],
         "hovertemplate": "<b>%{hovertext}</b><br><br>Cluster=1544<br>Lat=%{customdata[0]}<br>Lon=%{customdata[3]}<br>Time=%{customdata[1]}<br>Date=%{customdata[2]}<extra></extra>",
         "hovertext": {
          "dtype": "f8",
          "bdata": "AAAAAAAgmEAAAAAAACCYQA=="
         },
         "lat": {
          "dtype": "f8",
          "bdata": "16NwPQq3Q0D2KFyPwrVDQA=="
         },
         "legendgroup": "1544",
         "lon": {
          "dtype": "f8",
          "bdata": "exSuR+FaREAAAAAAAGBEQA=="
         },
         "marker": {
          "color": "#F6222E"
         },
         "mode": "markers",
         "name": "1544",
         "showlegend": true,
         "subplot": "map",
         "type": "scattermap"
        },
        {
         "customdata": [
          [
           -25.5,
           "01:18:40.0",
           "2020/07/24",
           -13.5
          ],
          [
           -25.31,
           "22:55:21.3",
           "2020/09/05",
           -13.66
          ]
         ],
         "hovertemplate": "<b>%{hovertext}</b><br><br>Cluster=1548<br>Lat=%{customdata[0]}<br>Lon=%{customdata[3]}<br>Time=%{customdata[1]}<br>Date=%{customdata[2]}<extra></extra>",
         "hovertext": {
          "dtype": "f8",
          "bdata": "AAAAAAAwmEAAAAAAADCYQA=="
         },
         "lat": {
          "dtype": "f8",
          "bdata": "AAAAAACAOcCPwvUoXE85wA=="
         },
         "legendgroup": "1548",
         "lon": {
          "dtype": "f8",
          "bdata": "AAAAAAAAK8BSuB6F61ErwA=="
         },
         "marker": {
          "color": "#1CFFCE"
         },
         "mode": "markers",
         "name": "1548",
         "showlegend": true,
         "subplot": "map",
         "type": "scattermap"
        },
        {
         "customdata": [
          [
           -22.67,
           "08:17:01.1",
           "2020/07/26",
           -12.6
          ],
          [
           -22.69,
           "08:26:55.8",
           "2020/07/26",
           -12.6
          ],
          [
           -22.46,
           "21:00:55.5",
           "2020/11/27",
           -12.72
          ]
         ],
         "hovertemplate": "<b>%{hovertext}</b><br><br>Cluster=1549<br>Lat=%{customdata[0]}<br>Lon=%{customdata[3]}<br>Time=%{customdata[1]}<br>Date=%{customdata[2]}<extra></extra>",
         "hovertext": {
          "dtype": "f8",
          "bdata": "AAAAAAA0mEAAAAAAADSYQAAAAAAANJhA"
         },
         "lat": {
          "dtype": "f8",
          "bdata": "7FG4HoWrNsBxPQrXo7A2wPYoXI/CdTbA"
         },
         "legendgroup": "1549",
         "lon": {
          "dtype": "f8",
          "bdata": "MzMzMzMzKcAzMzMzMzMpwHE9CtejcCnA"
         },
         "marker": {
          "color": "#2ED9FF"
         },
         "mode": "markers",
         "name": "1549",
         "showlegend": true,
         "subplot": "map",
         "type": "scattermap"
        },
        {
         "customdata": [
          [
           -7.33,
           "17:13:16.2",
           "2020/08/12",
           39.81
          ],
          [
           -7.36,
           "14:54:54.8",
           "2020/08/13",
           39.81
          ]
         ],
         "hovertemplate": "<b>%{hovertext}</b><br><br>Cluster=1557<br>Lat=%{customdata[0]}<br>Lon=%{customdata[3]}<br>Time=%{customdata[1]}<br>Date=%{customdata[2]}<extra></extra>",
         "hovertext": {
          "dtype": "f8",
          "bdata": "AAAAAABUmEAAAAAAAFSYQA=="
         },
         "lat": {
          "dtype": "f8",
          "bdata": "UrgehetRHcBxPQrXo3AdwA=="
         },
         "legendgroup": "1557",
         "lon": {
          "dtype": "f8",
          "bdata": "SOF6FK7nQ0BI4XoUrudDQA=="
         },
         "marker": {
          "color": "#B10DA1"
         },
         "mode": "markers",
         "name": "1557",
         "showlegend": true,
         "subplot": "map",
         "type": "scattermap"
        },
        {
         "customdata": [
          [
           -17.54,
           "11:45:38.7",
           "2020/08/17",
           -12.98
          ],
          [
           -17.75,
           "06:42:00.0",
           "2020/12/13",
           -12.75
          ]
         ],
         "hovertemplate": "<b>%{hovertext}</b><br><br>Cluster=1559<br>Lat=%{customdata[0]}<br>Lon=%{customdata[3]}<br>Time=%{customdata[1]}<br>Date=%{customdata[2]}<extra></extra>",
         "hovertext": {
          "dtype": "f8",
          "bdata": "AAAAAABcmEAAAAAAAFyYQA=="
         },
         "lat": {
          "dtype": "f8",
          "bdata": "CtejcD2KMcAAAAAAAMAxwA=="
         },
         "legendgroup": "1559",
         "lon": {
          "dtype": "f8",
          "bdata": "9ihcj8L1KcAAAAAAAIApwA=="
         },
         "marker": {
          "color": "#C075A6"
         },
         "mode": "markers",
         "name": "1559",
         "showlegend": true,
         "subplot": "map",
         "type": "scattermap"
        },
        {
         "customdata": [
          [
           -35.0,
           "14:51:52.0",
           "2020/08/20",
           -15.0
          ],
          [
           -34.8,
           "17:08:00.8",
           "2020/08/20",
           -14.9
          ]
         ],
         "hovertemplate": "<b>%{hovertext}</b><br><br>Cluster=1560<br>Lat=%{customdata[0]}<br>Lon=%{customdata[3]}<br>Time=%{customdata[1]}<br>Date=%{customdata[2]}<extra></extra>",
         "hovertext": {
          "dtype": "f8",
          "bdata": "AAAAAABgmEAAAAAAAGCYQA=="
         },
         "lat": {
          "dtype": "f8",
          "bdata": "AAAAAACAQcBmZmZmZmZBwA=="
         },
         "legendgroup": "1560",
         "lon": {
          "dtype": "f8",
          "bdata": "AAAAAAAALsDNzMzMzMwtwA=="
         },
         "marker": {
          "color": "#FC1CBF"
         },
         "mode": "markers",
         "name": "1560",
         "showlegend": true,
         "subplot": "map",
         "type": "scattermap"
        },
        {
         "customdata": [
          [
           -7.18,
           "08:38:01.7",
           "2020/08/22",
           -12.97
          ],
          [
           -7.15,
           "10:21:29.5",
           "2020/08/22",
           -12.97
          ]
         ],
         "hovertemplate": "<b>%{hovertext}</b><br><br>Cluster=1561<br>Lat=%{customdata[0]}<br>Lon=%{customdata[3]}<br>Time=%{customdata[1]}<br>Date=%{customdata[2]}<extra></extra>",
         "hovertext": {
          "dtype": "f8",
          "bdata": "AAAAAABkmEAAAAAAAGSYQA=="
         },
         "lat": {
          "dtype": "f8",
          "bdata": "uB6F61G4HMCamZmZmZkcwA=="
         },
         "legendgroup": "1561",
         "lon": {
          "dtype": "f8",
          "bdata": "cT0K16PwKcBxPQrXo/ApwA=="
         },
         "marker": {
          "color": "#B00068"
         },
         "mode": "markers",
         "name": "1561",
         "showlegend": true,
         "subplot": "map",
         "type": "scattermap"
        },
        {
         "customdata": [
          [
           -35.44,
           "21:18:02.7",
           "2020/08/31",
           -15.61
          ],
          [
           -35.28,
           "11:56:27.8",
           "2020/09/01",
           -15.94
          ]
         ],
         "hovertemplate": "<b>%{hovertext}</b><br><br>Cluster=1564<br>Lat=%{customdata[0]}<br>Lon=%{customdata[3]}<br>Time=%{customdata[1]}<br>Date=%{customdata[2]}<extra></extra>",
         "hovertext": {
          "dtype": "f8",
          "bdata": "AAAAAABwmEAAAAAAAHCYQA=="
         },
         "lat": {
          "dtype": "f8",
          "bdata": "uB6F61G4QcCkcD0K16NBwA=="
         },
         "legendgroup": "1564",
         "lon": {
          "dtype": "f8",
          "bdata": "uB6F61E4L8DhehSuR+EvwA=="
         },
         "marker": {
          "color": "#FBE426"
         },
         "mode": "markers",
         "name": "1564",
         "showlegend": true,
         "subplot": "map",
         "type": "scattermap"
        },
        {
         "customdata": [
          [
           35.59,
           "00:30:39.9",
           "2020/10/12",
           26.24
          ],
          [
           35.65,
           "04:11:27.6",
           "2020/10/12",
           26.25
          ],
          [
           35.66,
           "13:36:45.4",
           "2020/12/17",
           26.26
          ]
         ],
         "hovertemplate": "<b>%{hovertext}</b><br><br>Cluster=1569<br>Lat=%{customdata[0]}<br>Lon=%{customdata[3]}<br>Time=%{customdata[1]}<br>Date=%{customdata[2]}<extra></extra>",
         "hovertext": {
          "dtype": "f8",
          "bdata": "AAAAAACEmEAAAAAAAISYQAAAAAAAhJhA"
         },
         "lat": {
          "dtype": "f8",
          "bdata": "7FG4HoXLQUAzMzMzM9NBQBSuR+F61EFA"
         },
         "legendgroup": "1569",
         "lon": {
          "dtype": "f8",
          "bdata": "PQrXo3A9OkAAAAAAAEA6QMP1KFyPQjpA"
         },
         "marker": {
          "color": "#FA0087"
         },
         "mode": "markers",
         "name": "1569",
         "showlegend": true,
         "subplot": "map",
         "type": "scattermap"
        },
        {
         "customdata": [
          [
           37.91,
           "11:51:27.4",
           "2020/10/30",
           26.78
          ],
          [
           37.86,
           "05:31:30.2",
           "2020/10/31",
           26.83
          ],
          [
           37.79,
           "07:33:09.0",
           "2020/11/01",
           26.9
          ]
         ],
         "hovertemplate": "<b>%{hovertext}</b><br><br>Cluster=1572<br>Lat=%{customdata[0]}<br>Lon=%{customdata[3]}<br>Time=%{customdata[1]}<br>Date=%{customdata[2]}<extra></extra>",
         "hovertext": {
          "dtype": "f8",
          "bdata": "AAAAAACQmEAAAAAAAJCYQAAAAAAAkJhA"
         },
         "lat": {
          "dtype": "f8",
          "bdata": "FK5H4Xr0QkCuR+F6FO5CQIXrUbge5UJA"
         },
         "legendgroup": "1572",
         "lon": {
          "dtype": "f8",
          "bdata": "SOF6FK7HOkAUrkfhetQ6QGZmZmZm5jpA"
         },
         "marker": {
          "color": "#AA0DFE"
         },
         "mode": "markers",
         "name": "1572",
         "showlegend": true,
         "subplot": "map",
         "type": "scattermap"
        }
       ],
       "layout": {
        "template": {
         "data": {
          "histogram2dcontour": [
           {
            "type": "histogram2dcontour",
            "colorbar": {
             "outlinewidth": 0,
             "ticks": ""
            },
            "colorscale": [
             [
              0.0,
              "#0d0887"
             ],
             [
              0.1111111111111111,
              "#46039f"
             ],
             [
              0.2222222222222222,
              "#7201a8"
             ],
             [
              0.3333333333333333,
              "#9c179e"
             ],
             [
              0.4444444444444444,
              "#bd3786"
             ],
             [
              0.5555555555555556,
              "#d8576b"
             ],
             [
              0.6666666666666666,
              "#ed7953"
             ],
             [
              0.7777777777777778,
              "#fb9f3a"
             ],
             [
              0.8888888888888888,
              "#fdca26"
             ],
             [
              1.0,
              "#f0f921"
             ]
            ]
           }
          ],
          "choropleth": [
           {
            "type": "choropleth",
            "colorbar": {
             "outlinewidth": 0,
             "ticks": ""
            }
           }
          ],
          "histogram2d": [
           {
            "type": "histogram2d",
            "colorbar": {
             "outlinewidth": 0,
             "ticks": ""
            },
            "colorscale": [
             [
              0.0,
              "#0d0887"
             ],
             [
              0.1111111111111111,
              "#46039f"
             ],
             [
              0.2222222222222222,
              "#7201a8"
             ],
             [
              0.3333333333333333,
              "#9c179e"
             ],
             [
              0.4444444444444444,
              "#bd3786"
             ],
             [
              0.5555555555555556,
              "#d8576b"
             ],
             [
              0.6666666666666666,
              "#ed7953"
             ],
             [
              0.7777777777777778,
              "#fb9f3a"
             ],
             [
              0.8888888888888888,
              "#fdca26"
             ],
             [
              1.0,
              "#f0f921"
             ]
            ]
           }
          ],
          "heatmap": [
           {
            "type": "heatmap",
            "colorbar": {
             "outlinewidth": 0,
             "ticks": ""
            },
            "colorscale": [
             [
              0.0,
              "#0d0887"
             ],
             [
              0.1111111111111111,
              "#46039f"
             ],
             [
              0.2222222222222222,
              "#7201a8"
             ],
             [
              0.3333333333333333,
              "#9c179e"
             ],
             [
              0.4444444444444444,
              "#bd3786"
             ],
             [
              0.5555555555555556,
              "#d8576b"
             ],
             [
              0.6666666666666666,
              "#ed7953"
             ],
             [
              0.7777777777777778,
              "#fb9f3a"
             ],
             [
              0.8888888888888888,
              "#fdca26"
             ],
             [
              1.0,
              "#f0f921"
             ]
            ]
           }
          ],
          "contourcarpet": [
           {
            "type": "contourcarpet",
            "colorbar": {
             "outlinewidth": 0,
             "ticks": ""
            }
           }
          ],
          "contour": [
           {
            "type": "contour",
            "colorbar": {
             "outlinewidth": 0,
             "ticks": ""
            },
            "colorscale": [
             [
              0.0,
              "#0d0887"
             ],
             [
              0.1111111111111111,
              "#46039f"
             ],
             [
              0.2222222222222222,
              "#7201a8"
             ],
             [
              0.3333333333333333,
              "#9c179e"
             ],
             [
              0.4444444444444444,
              "#bd3786"
             ],
             [
              0.5555555555555556,
              "#d8576b"
             ],
             [
              0.6666666666666666,
              "#ed7953"
             ],
             [
              0.7777777777777778,
              "#fb9f3a"
             ],
             [
              0.8888888888888888,
              "#fdca26"
             ],
             [
              1.0,
              "#f0f921"
             ]
            ]
           }
          ],
          "surface": [
           {
            "type": "surface",
            "colorbar": {
             "outlinewidth": 0,
             "ticks": ""
            },
            "colorscale": [
             [
              0.0,
              "#0d0887"
             ],
             [
              0.1111111111111111,
              "#46039f"
             ],
             [
              0.2222222222222222,
              "#7201a8"
             ],
             [
              0.3333333333333333,
              "#9c179e"
             ],
             [
              0.4444444444444444,
              "#bd3786"
             ],
             [
              0.5555555555555556,
              "#d8576b"
             ],
             [
              0.6666666666666666,
              "#ed7953"
             ],
             [
              0.7777777777777778,
              "#fb9f3a"
             ],
             [
              0.8888888888888888,
              "#fdca26"
             ],
             [
              1.0,
              "#f0f921"
             ]
            ]
           }
          ],
          "mesh3d": [
           {
            "type": "mesh3d",
            "colorbar": {
             "outlinewidth": 0,
             "ticks": ""
            }
           }
          ],
          "scatter": [
           {
            "fillpattern": {
             "fillmode": "overlay",
             "size": 10,
             "solidity": 0.2
            },
            "type": "scatter"
           }
          ],
          "parcoords": [
           {
            "type": "parcoords",
            "line": {
             "colorbar": {
              "outlinewidth": 0,
              "ticks": ""
             }
            }
           }
          ],
          "scatterpolargl": [
           {
            "type": "scatterpolargl",
            "marker": {
             "colorbar": {
              "outlinewidth": 0,
              "ticks": ""
             }
            }
           }
          ],
          "bar": [
           {
            "error_x": {
             "color": "#2a3f5f"
            },
            "error_y": {
             "color": "#2a3f5f"
            },
            "marker": {
             "line": {
              "color": "#E5ECF6",
              "width": 0.5
             },
             "pattern": {
              "fillmode": "overlay",
              "size": 10,
              "solidity": 0.2
             }
            },
            "type": "bar"
           }
          ],
          "scattergeo": [
           {
            "type": "scattergeo",
            "marker": {
             "colorbar": {
              "outlinewidth": 0,
              "ticks": ""
             }
            }
           }
          ],
          "scatterpolar": [
           {
            "type": "scatterpolar",
            "marker": {
             "colorbar": {
              "outlinewidth": 0,
              "ticks": ""
             }
            }
           }
          ],
          "histogram": [
           {
            "marker": {
             "pattern": {
              "fillmode": "overlay",
              "size": 10,
              "solidity": 0.2
             }
            },
            "type": "histogram"
           }
          ],
          "scattergl": [
           {
            "type": "scattergl",
            "marker": {
             "colorbar": {
              "outlinewidth": 0,
              "ticks": ""
             }
            }
           }
          ],
          "scatter3d": [
           {
            "type": "scatter3d",
            "line": {
             "colorbar": {
              "outlinewidth": 0,
              "ticks": ""
             }
            },
            "marker": {
             "colorbar": {
              "outlinewidth": 0,
              "ticks": ""
             }
            }
           }
          ],
          "scattermap": [
           {
            "type": "scattermap",
            "marker": {
             "colorbar": {
              "outlinewidth": 0,
              "ticks": ""
             }
            }
           }
          ],
          "scattermapbox": [
           {
            "type": "scattermapbox",
            "marker": {
             "colorbar": {
              "outlinewidth": 0,
              "ticks": ""
             }
            }
           }
          ],
          "scatterternary": [
           {
            "type": "scatterternary",
            "marker": {
             "colorbar": {
              "outlinewidth": 0,
              "ticks": ""
             }
            }
           }
          ],
          "scattercarpet": [
           {
            "type": "scattercarpet",
            "marker": {
             "colorbar": {
              "outlinewidth": 0,
              "ticks": ""
             }
            }
           }
          ],
          "carpet": [
           {
            "aaxis": {
             "endlinecolor": "#2a3f5f",
             "gridcolor": "white",
             "linecolor": "white",
             "minorgridcolor": "white",
             "startlinecolor": "#2a3f5f"
            },
            "baxis": {
             "endlinecolor": "#2a3f5f",
             "gridcolor": "white",
             "linecolor": "white",
             "minorgridcolor": "white",
             "startlinecolor": "#2a3f5f"
            },
            "type": "carpet"
           }
          ],
          "table": [
           {
            "cells": {
             "fill": {
              "color": "#EBF0F8"
             },
             "line": {
              "color": "white"
             }
            },
            "header": {
             "fill": {
              "color": "#C8D4E3"
             },
             "line": {
              "color": "white"
             }
            },
            "type": "table"
           }
          ],
          "barpolar": [
           {
            "marker": {
             "line": {
              "color": "#E5ECF6",
              "width": 0.5
             },
             "pattern": {
              "fillmode": "overlay",
              "size": 10,
              "solidity": 0.2
             }
            },
            "type": "barpolar"
           }
          ],
          "pie": [
           {
            "automargin": true,
            "type": "pie"
           }
          ]
         },
         "layout": {
          "autotypenumbers": "strict",
          "colorway": [
           "#636efa",
           "#EF553B",
           "#00cc96",
           "#ab63fa",
           "#FFA15A",
           "#19d3f3",
           "#FF6692",
           "#B6E880",
           "#FF97FF",
           "#FECB52"
          ],
          "font": {
           "color": "#2a3f5f"
          },
          "hovermode": "closest",
          "hoverlabel": {
           "align": "left"
          },
          "paper_bgcolor": "white",
          "plot_bgcolor": "#E5ECF6",
          "polar": {
           "bgcolor": "#E5ECF6",
           "angularaxis": {
            "gridcolor": "white",
            "linecolor": "white",
            "ticks": ""
           },
           "radialaxis": {
            "gridcolor": "white",
            "linecolor": "white",
            "ticks": ""
           }
          },
          "ternary": {
           "bgcolor": "#E5ECF6",
           "aaxis": {
            "gridcolor": "white",
            "linecolor": "white",
            "ticks": ""
           },
           "baxis": {
            "gridcolor": "white",
            "linecolor": "white",
            "ticks": ""
           },
           "caxis": {
            "gridcolor": "white",
            "linecolor": "white",
            "ticks": ""
           }
          },
          "coloraxis": {
           "colorbar": {
            "outlinewidth": 0,
            "ticks": ""
           }
          },
          "colorscale": {
           "sequential": [
            [
             0.0,
             "#0d0887"
            ],
            [
             0.1111111111111111,
             "#46039f"
            ],
            [
             0.2222222222222222,
             "#7201a8"
            ],
            [
             0.3333333333333333,
             "#9c179e"
            ],
            [
             0.4444444444444444,
             "#bd3786"
            ],
            [
             0.5555555555555556,
             "#d8576b"
            ],
            [
             0.6666666666666666,
             "#ed7953"
            ],
            [
             0.7777777777777778,
             "#fb9f3a"
            ],
            [
             0.8888888888888888,
             "#fdca26"
            ],
            [
             1.0,
             "#f0f921"
            ]
           ],
           "sequentialminus": [
            [
             0.0,
             "#0d0887"
            ],
            [
             0.1111111111111111,
             "#46039f"
            ],
            [
             0.2222222222222222,
             "#7201a8"
            ],
            [
             0.3333333333333333,
             "#9c179e"
            ],
            [
             0.4444444444444444,
             "#bd3786"
            ],
            [
             0.5555555555555556,
             "#d8576b"
            ],
            [
             0.6666666666666666,
             "#ed7953"
            ],
            [
             0.7777777777777778,
             "#fb9f3a"
            ],
            [
             0.8888888888888888,
             "#fdca26"
            ],
            [
             1.0,
             "#f0f921"
            ]
           ],
           "diverging": [
            [
             0,
             "#8e0152"
            ],
            [
             0.1,
             "#c51b7d"
            ],
            [
             0.2,
             "#de77ae"
            ],
            [
             0.3,
             "#f1b6da"
            ],
            [
             0.4,
             "#fde0ef"
            ],
            [
             0.5,
             "#f7f7f7"
            ],
            [
             0.6,
             "#e6f5d0"
            ],
            [
             0.7,
             "#b8e186"
            ],
            [
             0.8,
             "#7fbc41"
            ],
            [
             0.9,
             "#4d9221"
            ],
            [
             1,
             "#276419"
            ]
           ]
          },
          "xaxis": {
           "gridcolor": "white",
           "linecolor": "white",
           "ticks": "",
           "title": {
            "standoff": 15
           },
           "zerolinecolor": "white",
           "automargin": true,
           "zerolinewidth": 2
          },
          "yaxis": {
           "gridcolor": "white",
           "linecolor": "white",
           "ticks": "",
           "title": {
            "standoff": 15
           },
           "zerolinecolor": "white",
           "automargin": true,
           "zerolinewidth": 2
          },
          "scene": {
           "xaxis": {
            "backgroundcolor": "#E5ECF6",
            "gridcolor": "white",
            "linecolor": "white",
            "showbackground": true,
            "ticks": "",
            "zerolinecolor": "white",
            "gridwidth": 2
           },
           "yaxis": {
            "backgroundcolor": "#E5ECF6",
            "gridcolor": "white",
            "linecolor": "white",
            "showbackground": true,
            "ticks": "",
            "zerolinecolor": "white",
            "gridwidth": 2
           },
           "zaxis": {
            "backgroundcolor": "#E5ECF6",
            "gridcolor": "white",
            "linecolor": "white",
            "showbackground": true,
            "ticks": "",
            "zerolinecolor": "white",
            "gridwidth": 2
           }
          },
          "shapedefaults": {
           "line": {
            "color": "#2a3f5f"
           }
          },
          "annotationdefaults": {
           "arrowcolor": "#2a3f5f",
           "arrowhead": 0,
           "arrowwidth": 1
          },
          "geo": {
           "bgcolor": "white",
           "landcolor": "#E5ECF6",
           "subunitcolor": "white",
           "showland": true,
           "showlakes": true,
           "lakecolor": "white"
          },
          "title": {
           "x": 0.05
          },
          "mapbox": {
           "style": "light"
          }
         }
        },
        "map": {
         "domain": {
          "x": [
           0.0,
           1.0
          ],
          "y": [
           0.0,
           1.0
          ]
         },
         "center": {
          "lat": 13.281461067366578,
          "lon": 19.418530183727036
         },
         "zoom": 2,
         "style": "carto-positron"
        },
        "legend": {
         "title": {
          "text": "Cluster"
         },
         "tracegroupgap": 0
        },
        "title": {
         "text": "Earthquake Clustering using Gardner and Knopoff Window Method (1974)<br><sup>Time of occurrence: 1976-2020 | Africa and its surrounding area</sup>"
        },
        "height": 800,
        "mapbox": {
         "center": {
          "lat": 13.281461067366578,
          "lon": 19.418530183727036
         },
         "zoom": 2,
         "style": "carto-positron"
        }
       },
       "config": {
        "plotlyServerURL": "https://plot.ly"
       }
      }
     },
     "metadata": {},
     "output_type": "display_data"
    }
   ],
   "execution_count": 9
  },
  {
   "metadata": {
    "ExecuteTime": {
     "end_time": "2025-08-25T17:21:33.454127Z",
     "start_time": "2025-08-25T17:21:33.430420Z"
    }
   },
   "cell_type": "code",
   "source": [
    "# Compute inter-arrival timesCompute inter-arrival times to second\n",
    "mainshocks_only['inter_arrival'] = mainshocks_only['Datetime'].diff().dt.total_seconds()\n",
    "print(mainshocks_only.head())"
   ],
   "id": "b97726dda19d6846",
   "outputs": [
    {
     "name": "stdout",
     "output_type": "stream",
     "text": [
      "          Date    Lat    Lon  Depth  Mag  Strike  Dip  Rake        Time  \\\n",
      "1   1976/11/24  39.12  44.03   36.0  7.3     203   77     9  12:22:18.8   \n",
      "11  1977/06/05  32.64  48.09   40.0  5.8     293   34    91  04:45:07.6   \n",
      "21  1977/09/11  35.05  23.03   33.0  6.0      74   28   100  23:19:23.7   \n",
      "27  1977/12/28  16.66  40.28   33.0  6.6     106   66  -171  02:45:36.7   \n",
      "30  1978/02/11  13.16  50.95   33.0  5.3     116   39   -79  12:54:21.6   \n",
      "\n",
      "                  Datetime             x             y  is_dependent  \\\n",
      "1  1976-11-24 12:22:18.800  3.028025e+06  4.754392e+06         False   \n",
      "11 1977-06-05 04:45:07.600  3.672092e+06  4.141797e+06         False   \n",
      "21 1977-09-11 23:19:23.700  1.233124e+06  3.908206e+06          True   \n",
      "27 1977-12-28 02:45:36.700  3.271806e+06  2.025971e+06         False   \n",
      "30 1978-02-11 12:54:21.600  4.646672e+06  1.783873e+06          True   \n",
      "\n",
      "    ClusterID       Type  inter_arrival  \n",
      "1           1  Mainshock            NaN  \n",
      "11         10  Mainshock     16647768.8  \n",
      "21         17  Mainshock      8534056.1  \n",
      "27         24  Mainshock      9257173.0  \n",
      "30         23  Mainshock      3924524.9  \n"
     ]
    }
   ],
   "execution_count": 10
  },
  {
   "metadata": {
    "ExecuteTime": {
     "end_time": "2025-08-25T17:21:33.512663Z",
     "start_time": "2025-08-25T17:21:33.504328Z"
    }
   },
   "cell_type": "code",
   "source": [
    "# The Statistic Features of the Mainshock Sequence\n",
    "print(\"--- The Statistic Features of the Mainshock Sequence ---\")\n",
    "print(\"The declustered catalogue contains {} events.\".format(len(mainshocks_only)))\n",
    "\n",
    "max_interval_days = round(mainshocks_only['inter_arrival'].max() / (24*60*60))\n",
    "print(\"The maximum interarrival time between two neighbour independent events is {} days.\".format(max_interval_days))\n",
    "\n",
    "min_interval_min = round(mainshocks_only['inter_arrival'].min() / 60)\n",
    "print(\"The minimum interarrival time between two neighbour independent events is {} minutes.\".format(min_interval_min))"
   ],
   "id": "4a52eb24786e02f7",
   "outputs": [
    {
     "name": "stdout",
     "output_type": "stream",
     "text": [
      "--- The Statistic Features of the Mainshock Sequence ---\n",
      "The declustered catalogue contains 339 events.\n",
      "The maximum interarrival time between two neighbour independent events is 494 days.\n",
      "The minimum interarrival time between two neighbour independent events is 76 minutes.\n"
     ]
    }
   ],
   "execution_count": 11
  },
  {
   "metadata": {
    "ExecuteTime": {
     "end_time": "2025-08-25T17:21:33.608893Z",
     "start_time": "2025-08-25T17:21:33.538990Z"
    }
   },
   "cell_type": "code",
   "source": [
    "# Visualise the declustered mainshock sequence on map\n",
    "import plotly.express as px\n",
    "\n",
    "fig_mainshock = px.scatter_map(\n",
    "    mainshocks_only,\n",
    "    lat='Lat',\n",
    "    lon='Lon',\n",
    "    hover_name='Mag',\n",
    "    size='Mag',\n",
    "    size_max=8,\n",
    "    color='Mag',\n",
    "    color_continuous_scale='orrd',\n",
    "    hover_data={'Date', 'Time', 'Lat', 'Lon'},\n",
    "    zoom=2,\n",
    "    height=800,\n",
    "    map_style='carto-positron',\n",
    "    title='Declustered Mainshock Sequence using Gardner and Knopoff Window Method (1974)<br><sup>Time of occurrence: 1976-2020 | Africa and its Surrounding Area</sup>'\n",
    ")\n",
    "\n",
    "fig_mainshock.show()"
   ],
   "id": "4d60d0bfad8995d6",
   "outputs": [
    {
     "data": {
      "application/vnd.plotly.v1+json": {
       "data": [
        {
         "customdata": [
          [
           39.12,
           "12:22:18.8",
           "1976/11/24",
           44.03
          ],
          [
           32.64,
           "04:45:07.6",
           "1977/06/05",
           48.09
          ],
          [
           35.05,
           "23:19:23.7",
           "1977/09/11",
           23.03
          ],
          [
           16.66,
           "02:45:36.7",
           "1977/12/28",
           40.28
          ],
          [
           13.16,
           "12:54:21.6",
           "1978/02/11",
           50.95
          ],
          [
           11.54,
           "17:05:55.2",
           "1978/11/07",
           42.59
          ],
          [
           36.41,
           "09:27:32.4",
           "1979/05/28",
           31.75
          ],
          [
           38.81,
           "11:44:45.9",
           "1979/06/14",
           26.53
          ],
          [
           10.01,
           "03:30:55.6",
           "1980/05/03",
           43.13
          ],
          [
           38.05,
           "18:35:20.0",
           "1980/05/04",
           48.99
          ],
          [
           39.27,
           "02:11:52.8",
           "1980/07/09",
           23.04
          ],
          [
           37.19,
           "05:17:10.1",
           "1980/07/22",
           50.2
          ],
          [
           36.2,
           "12:25:23.5",
           "1980/10/10",
           1.35
          ],
          [
           32.76,
           "17:24:09.9",
           "1980/10/19",
           48.57
          ],
          [
           34.59,
           "01:16:56.0",
           "1980/12/19",
           50.65
          ],
          [
           38.22,
           "20:53:38.4",
           "1981/02/24",
           22.93
          ],
          [
           37.89,
           "17:20:23.4",
           "1981/06/28",
           20.07
          ],
          [
           39.39,
           "14:10:52.9",
           "1981/12/19",
           25.09
          ],
          [
           14.75,
           "09:12:49.4",
           "1982/12/13",
           44.29
          ],
          [
           38.09,
           "12:41:29.3",
           "1983/01/17",
           20.19
          ],
          [
           11.81,
           "18:58:13.7",
           "1983/09/30",
           43.26
          ],
          [
           38.86,
           "07:48:02.6",
           "1984/06/17",
           25.72
          ],
          [
           -7.02,
           "05:22:15.7",
           "1984/07/19",
           -12.81
          ],
          [
           -10.49,
           "18:11:09.1",
           "1985/05/14",
           41.43
          ],
          [
           34.51,
           "16:39:48.6",
           "1985/09/27",
           26.59
          ],
          [
           -29.04,
           "19:40:33.9",
           "1985/11/10",
           -13.19
          ],
          [
           37.97,
           "03:35:38.8",
           "1986/05/05",
           37.77
          ],
          [
           37.52,
           "18:40:31.1",
           "1987/05/29",
           21.56
          ],
          [
           5.41,
           "16:46:12.9",
           "1987/10/25",
           36.73
          ],
          [
           -37.3,
           "06:17:31.4",
           "1988/02/26",
           47.97
          ],
          [
           -1.44,
           "19:42:31.3",
           "1988/12/06",
           -15.2
          ],
          [
           -13.78,
           "21:49:45.9",
           "1989/03/10",
           34.34
          ],
          [
           37.06,
           "23:06:51.4",
           "1989/04/27",
           28.29
          ],
          [
           -1.61,
           "09:46:39.6",
           "1989/07/09",
           -15.49
          ],
          [
           11.75,
           "11:16:56.1",
           "1989/08/20",
           41.94
          ],
          [
           36.79,
           "19:09:13.4",
           "1989/10/29",
           2.45
          ],
          [
           -2.96,
           "15:21:28.8",
           "1990/05/15",
           35.85
          ],
          [
           5.04,
           "02:21:59.7",
           "1990/05/20",
           32.11
          ],
          [
           36.96,
           "21:00:08.5",
           "1990/06/20",
           49.41
          ],
          [
           32.82,
           "13:56:59.9",
           "1990/10/11",
           48.31
          ],
          [
           12.31,
           "16:12:37.4",
           "1991/05/12",
           47.47
          ],
          [
           39.71,
           "17:18:40.1",
           "1992/03/13",
           39.57
          ],
          [
           -1.0,
           "18:18:45.3",
           "1992/08/28",
           -13.56
          ],
          [
           -6.09,
           "03:57:26.2",
           "1992/09/11",
           26.68
          ],
          [
           31.35,
           "09:11:08.9",
           "1992/10/23",
           -4.33
          ],
          [
           38.3,
           "21:10:40.8",
           "1992/11/18",
           22.43
          ],
          [
           35.93,
           "05:07:22.7",
           "1992/11/21",
           22.44
          ],
          [
           37.15,
           "06:55:08.7",
           "1993/03/05",
           21.44
          ],
          [
           19.67,
           "17:12:26.3",
           "1993/03/13",
           38.85
          ],
          [
           38.24,
           "12:31:49.1",
           "1993/07/14",
           21.78
          ],
          [
           28.63,
           "12:43:04.5",
           "1993/08/03",
           34.64
          ],
          [
           11.83,
           "11:20:22.2",
           "1994/04/11",
           42.81
          ],
          [
           32.55,
           "05:15:40.1",
           "1994/07/31",
           48.35
          ],
          [
           -25.06,
           "15:17:40.2",
           "1994/08/24",
           -13.54
          ],
          [
           35.04,
           "21:03:02.0",
           "1995/02/23",
           32.27
          ],
          [
           -14.0,
           "17:56:37.6",
           "1995/03/04",
           -14.47
          ],
          [
           38.4,
           "00:15:48.6",
           "1995/06/15",
           22.27
          ],
          [
           28.82,
           "04:15:11.7",
           "1995/11/22",
           34.86
          ],
          [
           -1.52,
           "09:44:58.1",
           "1996/02/16",
           -15.22
          ],
          [
           -1.28,
           "23:49:28.0",
           "1996/02/18",
           -14.27
          ],
          [
           -12.78,
           "16:07:03.7",
           "1996/06/08",
           -14.64
          ],
          [
           -3.5,
           "06:01:11.7",
           "1996/07/15",
           -12.14
          ],
          [
           36.15,
           "00:00:41.8",
           "1996/07/20",
           27.1
          ],
          [
           34.56,
           "13:10:52.1",
           "1996/10/09",
           32.13
          ],
          [
           38.08,
           "12:57:18.6",
           "1997/02/28",
           48.05
          ],
          [
           11.75,
           "23:29:02.7",
           "1997/03/08",
           43.26
          ],
          [
           -37.97,
           "05:53:33.3",
           "1997/04/14",
           48.56
          ],
          [
           36.38,
           "13:39:37.5",
           "1997/10/13",
           22.07
          ],
          [
           0.05,
           "12:47:34.0",
           "1997/11/10",
           -16.89
          ],
          [
           37.57,
           "13:07:41.7",
           "1997/11/18",
           20.66
          ],
          [
           -1.32,
           "16:40:38.6",
           "1998/04/10",
           -15.65
          ],
          [
           0.86,
           "14:16:52.2",
           "1998/04/26",
           17.34
          ],
          [
           36.88,
           "13:55:52.1",
           "1998/06/27",
           35.31
          ],
          [
           33.24,
           "00:42:47.5",
           "1998/10/04",
           47.25
          ],
          [
           12.01,
           "01:35:02.0",
           "2000/02/10",
           45.95
          ],
          [
           34.22,
           "04:36:58.8",
           "2000/04/05",
           25.69
          ],
          [
           -1.27,
           "15:17:10.2",
           "2000/04/29",
           -15.92
          ],
          [
           36.04,
           "05:40:37.7",
           "2000/05/24",
           22.01
          ],
          [
           -7.98,
           "17:59:03.3",
           "2000/06/16",
           -13.4
          ],
          [
           -17.26,
           "11:02:03.8",
           "2001/06/21",
           -14.13
          ],
          [
           35.55,
           "06:52:43.0",
           "2001/06/23",
           28.16
          ],
          [
           39.06,
           "00:21:36.9",
           "2001/07/26",
           24.24
          ],
          [
           -1.68,
           "00:14:44.4",
           "2002/01/20",
           28.98
          ],
          [
           35.79,
           "04:53:52.7",
           "2002/01/22",
           26.62
          ],
          [
           38.57,
           "07:11:28.4",
           "2002/02/03",
           31.27
          ],
          [
           35.63,
           "02:58:21.3",
           "2002/06/22",
           49.05
          ],
          [
           -5.04,
           "20:15:57.6",
           "2002/06/25",
           -12.3
          ],
          [
           13.65,
           "15:56:02.0",
           "2002/08/10",
           39.81
          ],
          [
           38.38,
           "01:21:28.6",
           "2002/09/06",
           13.7
          ],
          [
           38.22,
           "00:40:15.1",
           "2003/04/10",
           26.96
          ],
          [
           36.96,
           "18:44:20.1",
           "2003/05/21",
           3.63
          ],
          [
           -15.59,
           "16:38:37.2",
           "2003/07/23",
           -13.35
          ],
          [
           38.02,
           "08:36:49.2",
           "2003/07/26",
           28.93
          ],
          [
           39.16,
           "05:14:54.8",
           "2003/08/14",
           20.6
          ],
          [
           11.64,
           "00:09:46.1",
           "2004/01/04",
           43.19
          ],
          [
           36.04,
           "21:17:24.2",
           "2004/02/07",
           26.91
          ],
          [
           35.28,
           "12:44:57.5",
           "2004/02/25",
           -4.11
          ],
          [
           -18.73,
           "05:23:54.4",
           "2004/02/28",
           -12.56
          ],
          [
           39.93,
           "19:30:49.0",
           "2004/03/25",
           40.81
          ],
          [
           -11.73,
           "15:31:53.0",
           "2004/07/06",
           -13.52
          ],
          [
           36.75,
           "13:11:36.0",
           "2004/08/03",
           27.75
          ],
          [
           36.43,
           "01:05:12.9",
           "2004/10/07",
           26.8
          ],
          [
           33.43,
           "10:04:38.0",
           "2004/10/16",
           45.92
          ],
          [
           33.3,
           "21:37:24.2",
           "2004/11/21",
           47.98
          ],
          [
           35.04,
           "10:30:00.5",
           "2004/12/04",
           -3.14
          ],
          [
           37.04,
           "23:02:12.4",
           "2004/12/20",
           28.21
          ],
          [
           35.8,
           "22:36:05.5",
           "2005/01/23",
           29.64
          ],
          [
           39.35,
           "01:55:55.6",
           "2005/03/14",
           40.89
          ],
          [
           -10.23,
           "03:46:06.1",
           "2005/04/22",
           -13.19
          ],
          [
           12.71,
           "21:23:37.6",
           "2005/09/20",
           40.53
          ],
          [
           12.37,
           "10:02:12.7",
           "2005/09/25",
           40.51
          ],
          [
           38.2,
           "09:46:53.9",
           "2005/10/17",
           26.5
          ],
          [
           -6.22,
           "12:19:56.6",
           "2005/12/05",
           29.83
          ],
          [
           37.06,
           "01:09:34.2",
           "2006/01/10",
           -14.13
          ],
          [
           -21.32,
           "22:19:07.8",
           "2006/02/22",
           33.58
          ],
          [
           33.5,
           "01:17:01.0",
           "2006/03/31",
           48.78
          ],
          [
           35.17,
           "23:27:19.8",
           "2006/04/09",
           27.24
          ],
          [
           37.61,
           "16:52:01.2",
           "2006/04/12",
           20.95
          ],
          [
           0.34,
           "04:18:28.1",
           "2006/04/27",
           30.08
          ],
          [
           -17.75,
           "14:43:20.0",
           "2006/07/20",
           -13.25
          ],
          [
           -35.0,
           "14:27:44.0",
           "2006/09/04",
           -15.0
          ],
          [
           -34.75,
           "22:46:08.0",
           "2006/09/22",
           -14.75
          ],
          [
           -17.74,
           "22:56:21.7",
           "2006/09/24",
           41.81
          ],
          [
           38.67,
           "14:28:37.5",
           "2006/10/26",
           15.4
          ],
          [
           -27.55,
           "08:33:59.7",
           "2006/11/07",
           -13.36
          ],
          [
           -12.51,
           "08:53:57.8",
           "2006/11/13",
           -14.77
          ],
          [
           38.32,
           "11:05:29.2",
           "2007/02/21",
           39.27
          ],
          [
           37.99,
           "19:23:56.1",
           "2007/03/30",
           30.92
          ],
          [
           38.55,
           "03:17:56.3",
           "2007/04/10",
           21.64
          ],
          [
           1.72,
           "18:49:53.4",
           "2007/06/15",
           30.83
          ],
          [
           -2.73,
           "14:10:42.5",
           "2007/07/17",
           36.36
          ],
          [
           -5.55,
           "06:32:54.5",
           "2007/08/11",
           -11.55
          ],
          [
           -30.99,
           "22:23:04.5",
           "2007/08/13",
           -13.41
          ],
          [
           -3.52,
           "14:18:24.6",
           "2007/08/16",
           -12.15
          ],
          [
           37.03,
           "09:23:14.0",
           "2007/10/29",
           29.23
          ],
          [
           38.73,
           "01:43:04.2",
           "2007/11/09",
           25.72
          ],
          [
           -1.36,
           "10:13:49.7",
           "2007/11/27",
           -13.29
          ],
          [
           39.42,
           "09:48:30.0",
           "2007/12/20",
           33.21
          ],
          [
           37.22,
           "05:14:20.2",
           "2008/01/06",
           22.69
          ],
          [
           -10.53,
           "02:49:12.0",
           "2008/01/21",
           41.56
          ],
          [
           -2.3,
           "07:34:12.2",
           "2008/02/03",
           28.9
          ],
          [
           36.5,
           "10:09:22.7",
           "2008/02/14",
           21.67
          ],
          [
           11.68,
           "00:06:59.2",
           "2008/04/29",
           42.99
          ],
          [
           37.96,
           "12:25:29.7",
           "2008/06/08",
           21.52
          ],
          [
           35.8,
           "03:26:34.7",
           "2008/07/15",
           27.86
          ],
          [
           -8.2,
           "08:33:55.2",
           "2008/08/19",
           -13.45
          ],
          [
           32.31,
           "21:52:38.1",
           "2008/08/27",
           47.35
          ],
          [
           12.34,
           "10:57:15.7",
           "2008/10/17",
           40.65
          ],
          [
           -1.23,
           "18:49:42.4",
           "2008/11/22",
           -13.93
          ],
          [
           -31.19,
           "21:05:16.2",
           "2008/12/20",
           -13.34
          ],
          [
           -38.75,
           "09:11:44.0",
           "2009/01/19",
           -15.75
          ],
          [
           -39.25,
           "10:37:52.0",
           "2009/01/19",
           -15.75
          ],
          [
           -12.74,
           "12:54:51.4",
           "2009/03/22",
           -14.69
          ],
          [
           -6.78,
           "18:43:47.6",
           "2009/03/26",
           -12.54
          ],
          [
           25.29,
           "17:35:00.6",
           "2009/05/19",
           37.74
          ],
          [
           35.36,
           "14:04:59.0",
           "2009/06/19",
           28.45
          ],
          [
           -33.2,
           "15:45:49.2",
           "2009/06/27",
           -15.94
          ],
          [
           34.16,
           "09:30:10.4",
           "2009/07/01",
           25.47
          ],
          [
           -11.63,
           "03:20:49.1",
           "2009/07/02",
           -14.16
          ],
          [
           37.94,
           "01:58:30.0",
           "2009/09/11",
           32.44
          ],
          [
           37.5,
           "05:25:08.1",
           "2009/11/03",
           20.49
          ],
          [
           12.11,
           "07:12:32.4",
           "2009/11/05",
           45.91
          ],
          [
           -38.5,
           "20:40:32.0",
           "2009/11/13",
           -15.5
          ],
          [
           -6.78,
           "04:50:17.3",
           "2009/11/14",
           29.82
          ],
          [
           -17.55,
           "03:34:40.3",
           "2009/12/12",
           -13.25
          ],
          [
           -10.11,
           "23:19:15.6",
           "2009/12/19",
           33.82
          ],
          [
           38.42,
           "00:46:56.7",
           "2010/01/22",
           22.04
          ],
          [
           -39.25,
           "18:35:44.0",
           "2010/01/26",
           -15.25
          ],
          [
           -38.9,
           "12:31:36.0",
           "2010/01/27",
           -15.83
          ],
          [
           32.51,
           "10:25:56.8",
           "2010/02/23",
           48.29
          ],
          [
           38.87,
           "02:32:34.7",
           "2010/03/08",
           39.99
          ],
          [
           35.9,
           "12:29:22.3",
           "2010/05/14",
           4.12
          ],
          [
           11.98,
           "06:32:28.0",
           "2010/11/14",
           43.96
          ],
          [
           -21.04,
           "01:35:31.8",
           "2011/01/17",
           -11.55
          ],
          [
           -11.25,
           "14:37:52.0",
           "2011/03/16",
           -12.75
          ],
          [
           -10.25,
           "18:43:03.2",
           "2011/03/19",
           -13.23
          ],
          [
           -33.1,
           "13:31:28.5",
           "2011/03/22",
           -15.98
          ],
          [
           39.15,
           "20:15:22.9",
           "2011/05/19",
           29.1
          ],
          [
           13.41,
           "20:32:40.5",
           "2011/06/12",
           41.74
          ],
          [
           -7.8,
           "23:47:30.1",
           "2011/07/09",
           -13.48
          ],
          [
           -7.04,
           "23:45:43.0",
           "2011/08/10",
           -12.62
          ],
          [
           -1.34,
           "01:29:39.3",
           "2011/08/14",
           -14.65
          ],
          [
           -38.75,
           "05:07:36.0",
           "2011/09/20",
           -16.75
          ],
          [
           -38.5,
           "15:35:06.7",
           "2011/09/23",
           -16.03
          ],
          [
           -38.42,
           "14:03:03.6",
           "2011/09/26",
           -16.99
          ],
          [
           34.52,
           "12:08:22.9",
           "2011/09/27",
           23.78
          ],
          [
           11.91,
           "15:40:13.1",
           "2011/10/21",
           44.15
          ],
          [
           38.72,
           "10:41:22.9",
           "2011/10/23",
           43.51
          ],
          [
           -1.6,
           "00:30:29.1",
           "2011/11/29",
           -15.45
          ],
          [
           -15.68,
           "19:06:45.5",
           "2012/01/15",
           -12.91
          ],
          [
           36.06,
           "04:24:58.3",
           "2012/01/26",
           25.07
          ],
          [
           32.87,
           "18:21:38.5",
           "2012/03/08",
           46.96
          ],
          [
           -16.86,
           "04:53:26.4",
           "2012/04/11",
           -14.4
          ],
          [
           32.51,
           "01:21:07.5",
           "2012/04/20",
           47.02
          ],
          [
           35.09,
           "01:57:11.8",
           "2012/05/05",
           44.1
          ],
          [
           36.42,
           "12:44:16.6",
           "2012/06/10",
           28.88
          ],
          [
           38.33,
           "12:23:18.2",
           "2012/08/11",
           46.83
          ],
          [
           34.78,
           "03:27:46.3",
           "2012/09/12",
           24.11
          ],
          [
           -39.68,
           "07:18:38.4",
           "2012/09/14",
           -16.01
          ],
          [
           35.3,
           "08:47:40.1",
           "2012/09/21",
           22.63
          ],
          [
           -5.75,
           "01:51:52.0",
           "2012/09/24",
           -11.25
          ],
          [
           -15.28,
           "09:04:54.9",
           "2012/10/31",
           -13.17
          ],
          [
           -10.41,
           "20:24:26.6",
           "2012/12/26",
           -13.13
          ],
          [
           -32.4,
           "19:04:00.1",
           "2013/01/08",
           -14.16
          ],
          [
           31.83,
           "03:25:04.4",
           "2013/01/12",
           50.95
          ],
          [
           0.25,
           "14:22:40.0",
           "2013/01/12",
           -16.75
          ],
          [
           -33.93,
           "11:41:51.2",
           "2013/02/04",
           -14.58
          ],
          [
           -15.66,
           "22:43:42.3",
           "2013/02/16",
           -13.17
          ],
          [
           36.7,
           "09:07:26.5",
           "2013/05/19",
           5.26
          ],
          [
           36.81,
           "11:53:47.1",
           "2013/06/06",
           21.87
          ],
          [
           34.4,
           "16:11:02.5",
           "2013/06/15",
           25.02
          ],
          [
           1.54,
           "19:21:46.0",
           "2013/07/03",
           30.89
          ],
          [
           12.71,
           "02:05:23.9",
           "2013/07/11",
           48.19
          ],
          [
           -1.25,
           "22:19:05.3",
           "2013/07/22",
           -15.98
          ],
          [
           38.69,
           "09:06:52.2",
           "2013/08/07",
           22.69
          ],
          [
           -6.25,
           "02:56:40.0",
           "2013/09/02",
           -11.25
          ],
          [
           -17.25,
           "13:25:04.0",
           "2013/09/21",
           -13.75
          ],
          [
           -11.5,
           "07:46:56.0",
           "2013/11/02",
           -13.5
          ],
          [
           34.31,
           "18:30:58.0",
           "2013/11/22",
           45.61
          ],
          [
           -1.06,
           "19:20:15.2",
           "2013/11/30",
           26.85
          ],
          [
           36.04,
           "15:21:04.0",
           "2013/12/28",
           31.31
          ],
          [
           38.21,
           "13:55:42.2",
           "2014/01/26",
           20.45
          ],
          [
           -35.5,
           "13:59:20.0",
           "2014/03/23",
           -15.5
          ],
          [
           35.48,
           "02:56:31.6",
           "2014/04/25",
           21.68
          ],
          [
           29.57,
           "09:46:28.3",
           "2014/05/21",
           50.9
          ],
          [
           -14.14,
           "04:49:44.0",
           "2014/07/13",
           -13.64
          ],
          [
           36.86,
           "04:11:16.5",
           "2014/08/01",
           3.18
          ],
          [
           32.7,
           "02:32:05.3",
           "2014/08/18",
           47.69
          ],
          [
           38.35,
           "00:43:40.0",
           "2014/09/21",
           21.83
          ],
          [
           -35.0,
           "20:58:40.0",
           "2014/09/29",
           -15.0
          ],
          [
           -5.42,
           "17:04:58.2",
           "2014/10/31",
           35.9
          ],
          [
           38.67,
           "23:05:58.1",
           "2014/11/17",
           23.38
          ],
          [
           -24.57,
           "18:38:51.5",
           "2014/11/19",
           -13.13
          ],
          [
           -35.25,
           "11:25:36.0",
           "2014/12/01",
           -15.25
          ],
          [
           38.89,
           "01:45:06.8",
           "2014/12/06",
           26.27
          ],
          [
           -16.5,
           "02:18:40.0",
           "2015/01/15",
           -14.5
          ],
          [
           -16.89,
           "16:54:24.1",
           "2015/02/14",
           -14.6
          ],
          [
           37.22,
           "11:52:46.2",
           "2015/02/16",
           30.08
          ],
          [
           -7.71,
           "02:20:37.7",
           "2015/02/18",
           -13.47
          ],
          [
           -28.13,
           "05:45:22.2",
           "2015/03/04",
           -13.01
          ],
          [
           -26.08,
           "22:47:35.5",
           "2015/03/15",
           -11.61
          ],
          [
           35.68,
           "22:55:57.7",
           "2015/03/21",
           5.68
          ],
          [
           35.15,
           "18:07:43.0",
           "2015/04/16",
           26.83
          ],
          [
           34.45,
           "08:23:46.3",
           "2015/05/02",
           25.78
          ],
          [
           -16.85,
           "04:53:23.6",
           "2015/05/24",
           -14.17
          ],
          [
           11.94,
           "11:14:04.2",
           "2015/07/13",
           46.37
          ],
          [
           -11.18,
           "18:52:09.0",
           "2015/07/15",
           -12.98
          ],
          [
           -2.15,
           "01:25:02.5",
           "2015/08/07",
           28.89
          ],
          [
           -13.97,
           "02:39:55.4",
           "2015/08/09",
           -14.47
          ],
          [
           -0.79,
           "05:58:52.5",
           "2015/08/26",
           -16.11
          ],
          [
           38.67,
           "07:10:07.3",
           "2015/11/17",
           20.6
          ],
          [
           -1.34,
           "11:46:48.3",
           "2015/12/18",
           -15.83
          ],
          [
           35.65,
           "04:22:02.7",
           "2016/01/25",
           -3.68
          ],
          [
           -1.09,
           "15:26:28.0",
           "2016/02/14",
           -13.68
          ],
          [
           17.53,
           "21:02:42.3",
           "2016/03/06",
           40.28
          ],
          [
           -31.28,
           "00:36:03.2",
           "2016/04/30",
           -13.58
          ],
          [
           36.43,
           "23:54:53.4",
           "2016/05/28",
           3.52
          ],
          [
           -20.63,
           "22:42:17.4",
           "2016/06/14",
           -11.58
          ],
          [
           -5.65,
           "23:13:44.6",
           "2016/06/19",
           -11.57
          ],
          [
           -19.85,
           "11:07:08.1",
           "2016/06/29",
           -11.94
          ],
          [
           -15.6,
           "03:30:12.9",
           "2016/07/20",
           -13.19
          ],
          [
           39.81,
           "20:14:49.7",
           "2016/10/15",
           20.65
          ],
          [
           -1.51,
           "01:03:12.3",
           "2016/10/27",
           -15.59
          ],
          [
           -35.24,
           "08:27:14.6",
           "2016/11/01",
           -15.07
          ],
          [
           -22.6,
           "03:23:53.9",
           "2017/01/05",
           -12.65
          ],
          [
           35.36,
           "18:50:51.8",
           "2017/01/25",
           26.42
          ],
          [
           39.6,
           "03:51:40.6",
           "2017/02/06",
           26.07
          ],
          [
           -12.34,
           "02:58:32.7",
           "2017/04/13",
           -14.77
          ],
          [
           11.79,
           "05:53:17.8",
           "2017/04/14",
           43.38
          ],
          [
           38.77,
           "15:53:24.2",
           "2017/05/27",
           27.82
          ],
          [
           -6.75,
           "00:38:08.0",
           "2017/06/07",
           -11.25
          ],
          [
           38.93,
           "12:28:39.2",
           "2017/06/12",
           26.36
          ],
          [
           36.92,
           "22:31:11.2",
           "2017/07/20",
           27.41
          ],
          [
           -25.01,
           "09:51:51.0",
           "2017/08/10",
           -13.6
          ],
          [
           -1.11,
           "02:59:25.6",
           "2017/08/18",
           -13.66
          ],
          [
           -2.72,
           "17:45:46.8",
           "2017/09/15",
           28.81
          ],
          [
           -17.69,
           "23:14:55.4",
           "2017/09/16",
           -13.96
          ],
          [
           -11.74,
           "00:36:15.0",
           "2017/11/11",
           -14.11
          ],
          [
           34.91,
           "18:18:17.2",
           "2017/11/12",
           45.96
          ],
          [
           37.08,
           "21:49:15.2",
           "2017/11/24",
           28.62
          ],
          [
           -38.91,
           "02:16:18.1",
           "2018/01/02",
           46.42
          ],
          [
           33.71,
           "06:59:30.5",
           "2018/01/11",
           45.72
          ],
          [
           -5.78,
           "23:09:09.6",
           "2018/01/23",
           -12.54
          ],
          [
           -16.76,
           "08:49:46.2",
           "2018/03/08",
           35.43
          ],
          [
           -1.42,
           "21:45:36.3",
           "2018/03/10",
           -15.21
          ],
          [
           -31.28,
           "06:51:07.5",
           "2018/04/03",
           -13.39
          ],
          [
           -5.8,
           "23:34:03.8",
           "2018/05/02",
           -11.59
          ],
          [
           -12.78,
           "15:48:09.9",
           "2018/05/15",
           45.58
          ],
          [
           36.51,
           "22:30:03.1",
           "2018/05/16",
           22.93
          ],
          [
           -39.68,
           "12:22:09.1",
           "2018/06/08",
           -15.93
          ],
          [
           36.64,
           "05:14:45.0",
           "2018/06/25",
           21.34
          ],
          [
           13.35,
           "01:09:30.1",
           "2018/06/30",
           50.8
          ],
          [
           -12.83,
           "07:17:05.3",
           "2018/08/10",
           -14.65
          ],
          [
           -37.81,
           "07:27:41.3",
           "2018/09/18",
           49.78
          ],
          [
           -7.05,
           "08:42:31.8",
           "2018/09/22",
           -12.82
          ],
          [
           -5.69,
           "14:59:44.1",
           "2018/10/05",
           -11.52
          ],
          [
           -23.56,
           "19:05:42.5",
           "2018/10/09",
           -13.41
          ],
          [
           37.52,
           "22:54:52.6",
           "2018/10/25",
           20.56
          ],
          [
           37.63,
           "02:19:14.0",
           "2018/12/26",
           15.1
          ],
          [
           34.61,
           "18:24:38.0",
           "2019/01/10",
           26.68
          ],
          [
           17.92,
           "19:54:12.1",
           "2019/03/06",
           40.23
          ],
          [
           37.41,
           "06:34:27.8",
           "2019/03/20",
           29.53
          ],
          [
           33.58,
           "10:07:23.9",
           "2019/04/01",
           45.77
          ],
          [
           -35.3,
           "07:30:38.3",
           "2019/04/16",
           -15.49
          ],
          [
           -3.17,
           "13:23:08.8",
           "2019/05/06",
           -12.28
          ],
          [
           12.15,
           "12:11:00.4",
           "2019/05/15",
           46.16
          ],
          [
           -1.72,
           "19:51:20.8",
           "2019/06/29",
           -13.01
          ],
          [
           31.75,
           "07:00:32.4",
           "2019/07/08",
           49.56
          ],
          [
           13.35,
           "19:12:24.4",
           "2019/07/14",
           50.45
          ],
          [
           35.23,
           "09:51:24.2",
           "2019/08/03",
           27.85
          ],
          [
           -28.05,
           "10:59:25.9",
           "2019/08/20",
           -13.19
          ],
          [
           37.49,
           "15:38:14.5",
           "2019/08/30",
           26.83
          ],
          [
           36.28,
           "04:44:56.5",
           "2019/10/03",
           28.57
          ],
          [
           -29.04,
           "13:07:32.5",
           "2019/11/07",
           -12.9
          ],
          [
           35.5,
           "21:58:28.9",
           "2019/12/10",
           26.45
          ],
          [
           -31.26,
           "02:33:14.9",
           "2019/12/21",
           -13.5
          ],
          [
           0.23,
           "01:29:20.7",
           "2020/01/06",
           -16.99
          ],
          [
           -11.64,
           "06:37:52.7",
           "2020/01/17",
           -13.78
          ],
          [
           39.07,
           "19:22:16.4",
           "2020/01/22",
           27.84
          ],
          [
           38.41,
           "17:55:14.1",
           "2020/01/24",
           39.07
          ],
          [
           35.19,
           "11:21:36.8",
           "2020/01/30",
           27.78
          ],
          [
           38.5,
           "16:00:31.6",
           "2020/02/23",
           44.37
          ],
          [
           -19.78,
           "05:58:34.0",
           "2020/03/26",
           -11.78
          ],
          [
           35.94,
           "18:15:42.6",
           "2020/04/03",
           35.49
          ],
          [
           34.98,
           "10:22:54.1",
           "2020/04/11",
           26.16
          ],
          [
           34.18,
           "12:51:05.6",
           "2020/05/02",
           25.71
          ],
          [
           -7.49,
           "05:03:05.9",
           "2020/06/06",
           -13.69
          ],
          [
           -15.81,
           "19:58:50.0",
           "2020/06/10",
           -13.04
          ],
          [
           -15.37,
           "21:14:39.7",
           "2020/06/10",
           -13.17
          ],
          [
           39.43,
           "14:24:29.5",
           "2020/06/14",
           40.71
          ],
          [
           -25.5,
           "01:18:40.0",
           "2020/07/24",
           -13.5
          ],
          [
           -7.33,
           "17:13:16.2",
           "2020/08/12",
           39.81
          ],
          [
           -17.54,
           "11:45:38.7",
           "2020/08/17",
           -12.98
          ],
          [
           -35.0,
           "14:51:52.0",
           "2020/08/20",
           -15.0
          ],
          [
           -7.18,
           "08:38:01.7",
           "2020/08/22",
           -12.97
          ],
          [
           -35.44,
           "21:18:02.7",
           "2020/08/31",
           -15.61
          ],
          [
           35.65,
           "04:11:27.6",
           "2020/10/12",
           26.25
          ],
          [
           37.91,
           "11:51:27.4",
           "2020/10/30",
           26.78
          ],
          [
           -22.46,
           "21:00:55.5",
           "2020/11/27",
           -12.72
          ]
         ],
         "hovertemplate": "<b>%{hovertext}</b><br><br>Mag=%{marker.color}<br>Lat=%{customdata[0]}<br>Lon=%{customdata[3]}<br>Time=%{customdata[1]}<br>Date=%{customdata[2]}<extra></extra>",
         "hovertext": {
          "dtype": "f8",
          "bdata": "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"
         },
         "lat": {
          "dtype": "f8",
          "bdata": "j8L1KFyPQ0BSuB6F61FAQGZmZmZmhkFAKVyPwvWoMEBSuB6F61EqQBSuR+F6FCdAFK5H4Xo0QkBI4XoUrmdDQIXrUbgeBSRAZmZmZmYGQ0DD9Shcj6JDQLgehetRmEJAmpmZmZkZQkDhehSuR2FAQOxRuB6FS0FAXI/C9SgcQ0BSuB6F6/FCQFK4HoXrsUNAAAAAAACALUDsUbgehQtDQB+F61G4nidArkfhehRuQ0AUrkfhehQcwHsUrkfh+iTA4XoUrkdBQUAK16NwPQo9wFyPwvUo/EJAw/UoXI/CQkCkcD0K16MVQGZmZmZmpkLACtejcD0K97+PwvUoXI8rwEjhehSuh0JAw/UoXI/C+b8AAAAAAIAnQIXrUbgeZUJArkfhehSuB8ApXI/C9SgUQHsUrkfhekJAKVyPwvVoQEAfhetRuJ4oQHsUrkfh2kNAAAAAAAAA8L9cj8L1KFwYwJqZmZmZWT9AZmZmZmYmQ0DXo3A9CvdBQDMzMzMzk0JA7FG4HoWrM0AfhetRuB5DQOF6FK5HoTxAKVyPwvWoJ0BmZmZmZkZAQI/C9ShcDznAhetRuB6FQUAAAAAAAAAswDMzMzMzM0NAUrgehevRPEBSuB6F61H4v3sUrkfhevS/j8L1KFyPKcAAAAAAAAAMwDMzMzMzE0JASOF6FK5HQUAK16NwPQpDQAAAAAAAgCdAXI/C9Sj8QsBxPQrXozBCQJqZmZmZmak/KVyPwvXIQkAfhetRuB71v4XrUbgehes/cT0K16NwQkAfhetRuJ5AQIXrUbgeBShAXI/C9SgcQUBSuB6F61H0v4XrUbgeBUJA7FG4HoXrH8DD9Shcj0IxwGZmZmZmxkFASOF6FK6HQ0DhehSuR+H6v4XrUbge5UFAKVyPwvVIQ0BxPQrXo9BBQClcj8L1KBTAzczMzMxMK0BxPQrXozBDQFyPwvUoHENAexSuR+F6QkCuR+F6FC4vwMP1KFyPAkNAFK5H4XqUQ0BI4XoUrkcnQIXrUbgeBUJApHA9CtejQUB7FK5H4boywNejcD0K90NA9ihcj8J1J8AAAAAAAGBCQNejcD0KN0JA16NwPQq3QEBmZmZmZqZAQIXrUbgehUFAhetRuB6FQkBmZmZmZuZBQM3MzMzMrENA9ihcj8J1JMDsUbgehWspQD0K16NwvShAmpmZmZkZQ0DhehSuR+EYwEjhehSuh0JAUrgehetRNcAAAAAAAMBAQPYoXI/ClUFArkfhehTOQkDD9Shcj8LVPwAAAAAAwDHAAAAAAACAQcAAAAAAAGBBwD0K16NwvTHA9ihcj8JVQ0DNzMzMzIw7wIXrUbgeBSnAKVyPwvUoQ0AfhetRuP5CQGZmZmZmRkNAhetRuB6F+z/Xo3A9CtcFwDMzMzMzMxbAPQrXo3D9PsApXI/C9SgMwKRwPQrXg0JAPQrXo3BdQ0DD9Shcj8L1v/YoXI/CtUNAXI/C9SicQkCPwvUoXA8lwGZmZmZmZgLAAAAAAABAQkBcj8L1KFwnQHsUrkfh+kJAZmZmZmbmQUBmZmZmZmYgwEjhehSuJ0BArkfhehSuKECuR+F6FK7zv3E9CtejMD/AAAAAAABgQ8AAAAAAAKBDwHsUrkfheinAH4XrUbgeG8AK16NwPUo5QK5H4XoUrkFAmpmZmZmZQMAUrkfhehRBQMP1KFyPQifAuB6F61H4QkAAAAAAAMBCQLgehetROChAAAAAAABAQ8AfhetRuB4bwM3MzMzMjDHAuB6F61E4JMD2KFyPwjVDQAAAAAAAoEPAMzMzMzNzQ8DhehSuR0FAQI/C9Shcb0NAMzMzMzPzQUD2KFyPwvUnQArXo3A9CjXAAAAAAACAJsAAAAAAAIAkwM3MzMzMjEDAMzMzMzOTQ0BSuB6F69EqQDMzMzMzMx/AKVyPwvUoHMBxPQrXo3D1vwAAAAAAYEPAAAAAAABAQ8D2KFyPwjVDwMP1KFyPQkFAUrgehevRJ0Bcj8L1KFxDQJqZmZmZmfm/XI/C9ShcL8BI4XoUrgdCQI/C9Shcb0BAXI/C9SjcMMDhehSuR0FAQOxRuB6Fi0FA9ihcj8I1QkAK16NwPSpDQKRwPQrXY0FA16NwPQrXQ8BmZmZmZqZBQAAAAAAAABfAj8L1KFyPLsBSuB6F69EkwDMzMzMzM0DAFK5H4XrUP0AAAAAAAADQP9ejcD0K90DAUrgehetRL8CamZmZmVlCQEjhehSuZ0JAMzMzMzMzQUCkcD0K16P4P+xRuB6FaylAAAAAAAAA9L+4HoXrUVhDQAAAAAAAABnAAAAAAABAMcAAAAAAAAAnwEjhehSuJ0FA9ihcj8L18L+F61G4HgVCQHsUrkfhGkNAAAAAAADAQcA9CtejcL1BQFK4HoXrkT1ASOF6FK5HLMCuR+F6FG5CQJqZmZmZWUBAzczMzMwsQ0AAAAAAAIBBwK5H4XoUrhXA9ihcj8JVQ0BSuB6F65E4wAAAAAAAoEHAUrgehetxQ0AAAAAAAIAwwKRwPQrX4zDAXI/C9SicQkDXo3A9CtcewOF6FK5HITzAFK5H4XoUOsDXo3A9CtdBQDMzMzMzk0FAmpmZmZk5QUCamZmZmdkwwOF6FK5H4SdAXI/C9ShcJsAzMzMzMzMBwHE9Ctej8CvASOF6FK5H6b/2KFyPwlVDQHE9CtejcPW/MzMzMzPTQUBxPQrXo3Dxv0jhehSuhzFASOF6FK5HP8DXo3A9CjdCQOF6FK5HoTTAmpmZmZmZFsCamZmZmdkzwDMzMzMzMy/ASOF6FK7nQ0ApXI/C9Sj4vx+F61G4nkHAmpmZmZmZNsCuR+F6FK5BQM3MzMzMzENArkfhehSuKMAUrkfhepQnQMP1KFyPYkNAAAAAAAAAG8DXo3A9CndDQPYoXI/CdUJAw/UoXI8COcDD9Shcj8Lxv8P1KFyPwgXAcT0K16OwMcB7FK5H4XonwBSuR+F6dEFACtejcD2KQkAUrkfhenRDwHsUrkfh2kBAH4XrUbgeF8DD9Shcj8IwwLgehetRuPa/SOF6FK5HP8AzMzMzMzMXwI/C9ShcjynA4XoUrkdBQkDXo3A9CtdDwFK4HoXrUUJAMzMzMzOzKkApXI/C9agpwEjhehSu50LAMzMzMzMzHMDD9Shcj8IWwI/C9ShcjzfAw/UoXI/CQkBxPQrXo9BCQK5H4XoUTkFA7FG4HoXrMUAUrkfherRCQArXo3A9ykBAZmZmZmamQcBcj8L1KFwJwM3MzMzMTChAhetRuB6F+78AAAAAAMA/QDMzMzMzsypAPQrXo3CdQUDNzMzMzAw8wB+F61G4vkJApHA9CtcjQkAK16NwPQo9wAAAAAAAwEFAw/UoXI9CP8BxPQrXo3DNP0jhehSuRyfAKVyPwvWIQ0AUrkfhejRDQLgehetRmEFAAAAAAABAQ0BI4XoUrsczwLgehetR+EFAPQrXo3B9QUDXo3A9ChdBQPYoXI/C9R3AH4XrUbieL8A9CtejcL0uwNejcD0Kt0NAAAAAAACAOcBSuB6F61EdwArXo3A9ijHAAAAAAACAQcC4HoXrUbgcwLgehetRuEHAMzMzMzPTQUAUrkfhevRCQPYoXI/CdTbA"
         },
         "legendgroup": "",
         "lon": {
          "dtype": "f8",
          "bdata": "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"
         },
         "marker": {
          "color": {
           "dtype": "f8",
           "bdata": "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"
          },
          "coloraxis": "coloraxis",
          "size": {
           "dtype": "f8",
           "bdata": "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"
          },
          "sizemode": "area",
          "sizeref": 0.1203125
         },
         "mode": "markers",
         "name": "",
         "showlegend": false,
         "subplot": "map",
         "type": "scattermap"
        }
       ],
       "layout": {
        "template": {
         "data": {
          "histogram2dcontour": [
           {
            "type": "histogram2dcontour",
            "colorbar": {
             "outlinewidth": 0,
             "ticks": ""
            },
            "colorscale": [
             [
              0.0,
              "#0d0887"
             ],
             [
              0.1111111111111111,
              "#46039f"
             ],
             [
              0.2222222222222222,
              "#7201a8"
             ],
             [
              0.3333333333333333,
              "#9c179e"
             ],
             [
              0.4444444444444444,
              "#bd3786"
             ],
             [
              0.5555555555555556,
              "#d8576b"
             ],
             [
              0.6666666666666666,
              "#ed7953"
             ],
             [
              0.7777777777777778,
              "#fb9f3a"
             ],
             [
              0.8888888888888888,
              "#fdca26"
             ],
             [
              1.0,
              "#f0f921"
             ]
            ]
           }
          ],
          "choropleth": [
           {
            "type": "choropleth",
            "colorbar": {
             "outlinewidth": 0,
             "ticks": ""
            }
           }
          ],
          "histogram2d": [
           {
            "type": "histogram2d",
            "colorbar": {
             "outlinewidth": 0,
             "ticks": ""
            },
            "colorscale": [
             [
              0.0,
              "#0d0887"
             ],
             [
              0.1111111111111111,
              "#46039f"
             ],
             [
              0.2222222222222222,
              "#7201a8"
             ],
             [
              0.3333333333333333,
              "#9c179e"
             ],
             [
              0.4444444444444444,
              "#bd3786"
             ],
             [
              0.5555555555555556,
              "#d8576b"
             ],
             [
              0.6666666666666666,
              "#ed7953"
             ],
             [
              0.7777777777777778,
              "#fb9f3a"
             ],
             [
              0.8888888888888888,
              "#fdca26"
             ],
             [
              1.0,
              "#f0f921"
             ]
            ]
           }
          ],
          "heatmap": [
           {
            "type": "heatmap",
            "colorbar": {
             "outlinewidth": 0,
             "ticks": ""
            },
            "colorscale": [
             [
              0.0,
              "#0d0887"
             ],
             [
              0.1111111111111111,
              "#46039f"
             ],
             [
              0.2222222222222222,
              "#7201a8"
             ],
             [
              0.3333333333333333,
              "#9c179e"
             ],
             [
              0.4444444444444444,
              "#bd3786"
             ],
             [
              0.5555555555555556,
              "#d8576b"
             ],
             [
              0.6666666666666666,
              "#ed7953"
             ],
             [
              0.7777777777777778,
              "#fb9f3a"
             ],
             [
              0.8888888888888888,
              "#fdca26"
             ],
             [
              1.0,
              "#f0f921"
             ]
            ]
           }
          ],
          "contourcarpet": [
           {
            "type": "contourcarpet",
            "colorbar": {
             "outlinewidth": 0,
             "ticks": ""
            }
           }
          ],
          "contour": [
           {
            "type": "contour",
            "colorbar": {
             "outlinewidth": 0,
             "ticks": ""
            },
            "colorscale": [
             [
              0.0,
              "#0d0887"
             ],
             [
              0.1111111111111111,
              "#46039f"
             ],
             [
              0.2222222222222222,
              "#7201a8"
             ],
             [
              0.3333333333333333,
              "#9c179e"
             ],
             [
              0.4444444444444444,
              "#bd3786"
             ],
             [
              0.5555555555555556,
              "#d8576b"
             ],
             [
              0.6666666666666666,
              "#ed7953"
             ],
             [
              0.7777777777777778,
              "#fb9f3a"
             ],
             [
              0.8888888888888888,
              "#fdca26"
             ],
             [
              1.0,
              "#f0f921"
             ]
            ]
           }
          ],
          "surface": [
           {
            "type": "surface",
            "colorbar": {
             "outlinewidth": 0,
             "ticks": ""
            },
            "colorscale": [
             [
              0.0,
              "#0d0887"
             ],
             [
              0.1111111111111111,
              "#46039f"
             ],
             [
              0.2222222222222222,
              "#7201a8"
             ],
             [
              0.3333333333333333,
              "#9c179e"
             ],
             [
              0.4444444444444444,
              "#bd3786"
             ],
             [
              0.5555555555555556,
              "#d8576b"
             ],
             [
              0.6666666666666666,
              "#ed7953"
             ],
             [
              0.7777777777777778,
              "#fb9f3a"
             ],
             [
              0.8888888888888888,
              "#fdca26"
             ],
             [
              1.0,
              "#f0f921"
             ]
            ]
           }
          ],
          "mesh3d": [
           {
            "type": "mesh3d",
            "colorbar": {
             "outlinewidth": 0,
             "ticks": ""
            }
           }
          ],
          "scatter": [
           {
            "fillpattern": {
             "fillmode": "overlay",
             "size": 10,
             "solidity": 0.2
            },
            "type": "scatter"
           }
          ],
          "parcoords": [
           {
            "type": "parcoords",
            "line": {
             "colorbar": {
              "outlinewidth": 0,
              "ticks": ""
             }
            }
           }
          ],
          "scatterpolargl": [
           {
            "type": "scatterpolargl",
            "marker": {
             "colorbar": {
              "outlinewidth": 0,
              "ticks": ""
             }
            }
           }
          ],
          "bar": [
           {
            "error_x": {
             "color": "#2a3f5f"
            },
            "error_y": {
             "color": "#2a3f5f"
            },
            "marker": {
             "line": {
              "color": "#E5ECF6",
              "width": 0.5
             },
             "pattern": {
              "fillmode": "overlay",
              "size": 10,
              "solidity": 0.2
             }
            },
            "type": "bar"
           }
          ],
          "scattergeo": [
           {
            "type": "scattergeo",
            "marker": {
             "colorbar": {
              "outlinewidth": 0,
              "ticks": ""
             }
            }
           }
          ],
          "scatterpolar": [
           {
            "type": "scatterpolar",
            "marker": {
             "colorbar": {
              "outlinewidth": 0,
              "ticks": ""
             }
            }
           }
          ],
          "histogram": [
           {
            "marker": {
             "pattern": {
              "fillmode": "overlay",
              "size": 10,
              "solidity": 0.2
             }
            },
            "type": "histogram"
           }
          ],
          "scattergl": [
           {
            "type": "scattergl",
            "marker": {
             "colorbar": {
              "outlinewidth": 0,
              "ticks": ""
             }
            }
           }
          ],
          "scatter3d": [
           {
            "type": "scatter3d",
            "line": {
             "colorbar": {
              "outlinewidth": 0,
              "ticks": ""
             }
            },
            "marker": {
             "colorbar": {
              "outlinewidth": 0,
              "ticks": ""
             }
            }
           }
          ],
          "scattermap": [
           {
            "type": "scattermap",
            "marker": {
             "colorbar": {
              "outlinewidth": 0,
              "ticks": ""
             }
            }
           }
          ],
          "scattermapbox": [
           {
            "type": "scattermapbox",
            "marker": {
             "colorbar": {
              "outlinewidth": 0,
              "ticks": ""
             }
            }
           }
          ],
          "scatterternary": [
           {
            "type": "scatterternary",
            "marker": {
             "colorbar": {
              "outlinewidth": 0,
              "ticks": ""
             }
            }
           }
          ],
          "scattercarpet": [
           {
            "type": "scattercarpet",
            "marker": {
             "colorbar": {
              "outlinewidth": 0,
              "ticks": ""
             }
            }
           }
          ],
          "carpet": [
           {
            "aaxis": {
             "endlinecolor": "#2a3f5f",
             "gridcolor": "white",
             "linecolor": "white",
             "minorgridcolor": "white",
             "startlinecolor": "#2a3f5f"
            },
            "baxis": {
             "endlinecolor": "#2a3f5f",
             "gridcolor": "white",
             "linecolor": "white",
             "minorgridcolor": "white",
             "startlinecolor": "#2a3f5f"
            },
            "type": "carpet"
           }
          ],
          "table": [
           {
            "cells": {
             "fill": {
              "color": "#EBF0F8"
             },
             "line": {
              "color": "white"
             }
            },
            "header": {
             "fill": {
              "color": "#C8D4E3"
             },
             "line": {
              "color": "white"
             }
            },
            "type": "table"
           }
          ],
          "barpolar": [
           {
            "marker": {
             "line": {
              "color": "#E5ECF6",
              "width": 0.5
             },
             "pattern": {
              "fillmode": "overlay",
              "size": 10,
              "solidity": 0.2
             }
            },
            "type": "barpolar"
           }
          ],
          "pie": [
           {
            "automargin": true,
            "type": "pie"
           }
          ]
         },
         "layout": {
          "autotypenumbers": "strict",
          "colorway": [
           "#636efa",
           "#EF553B",
           "#00cc96",
           "#ab63fa",
           "#FFA15A",
           "#19d3f3",
           "#FF6692",
           "#B6E880",
           "#FF97FF",
           "#FECB52"
          ],
          "font": {
           "color": "#2a3f5f"
          },
          "hovermode": "closest",
          "hoverlabel": {
           "align": "left"
          },
          "paper_bgcolor": "white",
          "plot_bgcolor": "#E5ECF6",
          "polar": {
           "bgcolor": "#E5ECF6",
           "angularaxis": {
            "gridcolor": "white",
            "linecolor": "white",
            "ticks": ""
           },
           "radialaxis": {
            "gridcolor": "white",
            "linecolor": "white",
            "ticks": ""
           }
          },
          "ternary": {
           "bgcolor": "#E5ECF6",
           "aaxis": {
            "gridcolor": "white",
            "linecolor": "white",
            "ticks": ""
           },
           "baxis": {
            "gridcolor": "white",
            "linecolor": "white",
            "ticks": ""
           },
           "caxis": {
            "gridcolor": "white",
            "linecolor": "white",
            "ticks": ""
           }
          },
          "coloraxis": {
           "colorbar": {
            "outlinewidth": 0,
            "ticks": ""
           }
          },
          "colorscale": {
           "sequential": [
            [
             0.0,
             "#0d0887"
            ],
            [
             0.1111111111111111,
             "#46039f"
            ],
            [
             0.2222222222222222,
             "#7201a8"
            ],
            [
             0.3333333333333333,
             "#9c179e"
            ],
            [
             0.4444444444444444,
             "#bd3786"
            ],
            [
             0.5555555555555556,
             "#d8576b"
            ],
            [
             0.6666666666666666,
             "#ed7953"
            ],
            [
             0.7777777777777778,
             "#fb9f3a"
            ],
            [
             0.8888888888888888,
             "#fdca26"
            ],
            [
             1.0,
             "#f0f921"
            ]
           ],
           "sequentialminus": [
            [
             0.0,
             "#0d0887"
            ],
            [
             0.1111111111111111,
             "#46039f"
            ],
            [
             0.2222222222222222,
             "#7201a8"
            ],
            [
             0.3333333333333333,
             "#9c179e"
            ],
            [
             0.4444444444444444,
             "#bd3786"
            ],
            [
             0.5555555555555556,
             "#d8576b"
            ],
            [
             0.6666666666666666,
             "#ed7953"
            ],
            [
             0.7777777777777778,
             "#fb9f3a"
            ],
            [
             0.8888888888888888,
             "#fdca26"
            ],
            [
             1.0,
             "#f0f921"
            ]
           ],
           "diverging": [
            [
             0,
             "#8e0152"
            ],
            [
             0.1,
             "#c51b7d"
            ],
            [
             0.2,
             "#de77ae"
            ],
            [
             0.3,
             "#f1b6da"
            ],
            [
             0.4,
             "#fde0ef"
            ],
            [
             0.5,
             "#f7f7f7"
            ],
            [
             0.6,
             "#e6f5d0"
            ],
            [
             0.7,
             "#b8e186"
            ],
            [
             0.8,
             "#7fbc41"
            ],
            [
             0.9,
             "#4d9221"
            ],
            [
             1,
             "#276419"
            ]
           ]
          },
          "xaxis": {
           "gridcolor": "white",
           "linecolor": "white",
           "ticks": "",
           "title": {
            "standoff": 15
           },
           "zerolinecolor": "white",
           "automargin": true,
           "zerolinewidth": 2
          },
          "yaxis": {
           "gridcolor": "white",
           "linecolor": "white",
           "ticks": "",
           "title": {
            "standoff": 15
           },
           "zerolinecolor": "white",
           "automargin": true,
           "zerolinewidth": 2
          },
          "scene": {
           "xaxis": {
            "backgroundcolor": "#E5ECF6",
            "gridcolor": "white",
            "linecolor": "white",
            "showbackground": true,
            "ticks": "",
            "zerolinecolor": "white",
            "gridwidth": 2
           },
           "yaxis": {
            "backgroundcolor": "#E5ECF6",
            "gridcolor": "white",
            "linecolor": "white",
            "showbackground": true,
            "ticks": "",
            "zerolinecolor": "white",
            "gridwidth": 2
           },
           "zaxis": {
            "backgroundcolor": "#E5ECF6",
            "gridcolor": "white",
            "linecolor": "white",
            "showbackground": true,
            "ticks": "",
            "zerolinecolor": "white",
            "gridwidth": 2
           }
          },
          "shapedefaults": {
           "line": {
            "color": "#2a3f5f"
           }
          },
          "annotationdefaults": {
           "arrowcolor": "#2a3f5f",
           "arrowhead": 0,
           "arrowwidth": 1
          },
          "geo": {
           "bgcolor": "white",
           "landcolor": "#E5ECF6",
           "subunitcolor": "white",
           "showland": true,
           "showlakes": true,
           "lakecolor": "white"
          },
          "title": {
           "x": 0.05
          },
          "mapbox": {
           "style": "light"
          }
         }
        },
        "map": {
         "domain": {
          "x": [
           0.0,
           1.0
          ],
          "y": [
           0.0,
           1.0
          ]
         },
         "center": {
          "lat": 10.604896755162242,
          "lon": 14.868938053097343
         },
         "zoom": 2,
         "style": "carto-positron"
        },
        "coloraxis": {
         "colorbar": {
          "title": {
           "text": "Mag"
          }
         },
         "colorscale": [
          [
           0.0,
           "rgb(255,247,236)"
          ],
          [
           0.125,
           "rgb(254,232,200)"
          ],
          [
           0.25,
           "rgb(253,212,158)"
          ],
          [
           0.375,
           "rgb(253,187,132)"
          ],
          [
           0.5,
           "rgb(252,141,89)"
          ],
          [
           0.625,
           "rgb(239,101,72)"
          ],
          [
           0.75,
           "rgb(215,48,31)"
          ],
          [
           0.875,
           "rgb(179,0,0)"
          ],
          [
           1.0,
           "rgb(127,0,0)"
          ]
         ]
        },
        "legend": {
         "tracegroupgap": 0,
         "itemsizing": "constant"
        },
        "title": {
         "text": "Declustered Mainshock Sequence using Gardner and Knopoff Window Method (1974)<br><sup>Time of occurrence: 1976-2020 | Africa and its Surrounding Area</sup>"
        },
        "height": 800,
        "mapbox": {
         "center": {
          "lat": 10.604896755162242,
          "lon": 14.868938053097343
         },
         "zoom": 2,
         "style": "carto-positron"
        }
       },
       "config": {
        "plotlyServerURL": "https://plot.ly"
       }
      }
     },
     "metadata": {},
     "output_type": "display_data"
    }
   ],
   "execution_count": 12
  },
  {
   "metadata": {
    "ExecuteTime": {
     "end_time": "2025-08-26T23:17:58.575860Z",
     "start_time": "2025-08-26T23:17:52.874340Z"
    }
   },
   "cell_type": "code",
   "source": [
    "# Visualisation: The inter_arrival times are expected to fit an exponential distribution\n",
    "import matplotlib.pyplot as plt\n",
    "import numpy as np\n",
    "from scipy.stats import expon\n",
    "from scipy.stats import probplot\n",
    "\n",
    "x = mainshocks_only['inter_arrival'].dropna()\n",
    "loc, scale = expon.fit(x)\n",
    "\n",
    "# Comprehensive analysis for the raw catalogue\n",
    "fig, axes = plt.subplots(2, 2, figsize=(15, 12))\n",
    "\n",
    "# Standard Histogram with Exponential Fit (Top-Left)\n",
    "axes[0, 0].hist(x, bins=30, density=True, alpha=0.7, color='skyblue', edgecolor='black')\n",
    "x_range = np.linspace(x.min(), x.max(), 100)\n",
    "axes[0, 0].plot(x_range, expon.pdf(x_range, loc, scale), 'r-', lw=2)\n",
    "axes[0, 0].set_title('Standard Histogram with Exponential Fit')\n",
    "axes[0, 0].set_xlabel('Inter-arrival Time (days)')\n",
    "axes[0, 0].set_ylabel('Probability Density')\n",
    "axes[0, 0].grid(True, alpha=0.3)\n",
    "\n",
    "# Log-scale Histogram (Top-Right)\n",
    "bins = np.logspace(np.log10(x.min()), np.log10(x.max()), 30)\n",
    "axes[0, 1].hist(x, bins=bins, density=True, alpha=0.7, color='skyblue', edgecolor='black')\n",
    "axes[0, 1].set_xscale('log')\n",
    "axes[0, 1].set_title('Log-scale Histogram')\n",
    "axes[0, 1].set_xlabel('Inter-arrival Time (days, log scale)')\n",
    "axes[0, 1].set_ylabel('Probability Density')\n",
    "axes[0, 1].grid(True, alpha=0.3)\n",
    "\n",
    "# CDF Comparison (Bottom-Left)\n",
    "x_sorted = np.sort(x)\n",
    "y_ecdf = np.arange(1, len(x_sorted)+1) / len(x_sorted)\n",
    "y_theoretical = expon.cdf(x_sorted, loc, scale)\n",
    "axes[1, 0].plot(x_sorted, y_ecdf, label='Empirical CDF', linewidth=2)\n",
    "axes[1, 0].plot(x_sorted, y_theoretical, label='Theoretical CDF', linestyle='--', linewidth=2)\n",
    "axes[1, 0].set_title('CDF Comparison')\n",
    "axes[1, 0].set_xlabel('Inter-arrival Time (days)')\n",
    "axes[1, 0].set_ylabel('Cumulative Probability')\n",
    "axes[1, 0].legend()\n",
    "axes[1, 0].grid(True, alpha=0.3)\n",
    "\n",
    "# Q-Q Plot (Bottom-Right)\n",
    "probplot(x, dist=expon, sparams=(loc, scale), plot=axes[1, 1])\n",
    "axes[1, 1].set_title('Q-Q Plot')\n",
    "\n",
    "\n",
    "plt.suptitle('Comprehensive Analysis of Inter-arrival Times after Declustering using Window Method\\nAfrica and its Surrounding area, 1976-2020', fontsize=16)\n",
    "plt.tight_layout()\n",
    "\n",
    "plt.savefig('comprehensive_analysis_africa_window.png', dpi=300, bbox_inches='tight')\n",
    "plt.show()"
   ],
   "id": "c27764d25abd7fcf",
   "outputs": [
    {
     "data": {
      "text/plain": [
       "<Figure size 1500x1200 with 4 Axes>"
      ],
      "image/png": "[encoded data removed]"
     },
     "metadata": {},
     "output_type": "display_data"
    }
   ],
   "execution_count": 18
  },
  {
   "metadata": {
    "ExecuteTime": {
     "end_time": "2025-08-25T17:21:39.528937Z",
     "start_time": "2025-08-25T17:21:38.894355Z"
    }
   },
   "cell_type": "code",
   "source": [
    "# Q-Q Plot (Zoom out)\n",
    "x = mainshocks_only['inter_arrival'].dropna()\n",
    "loc, scale = expon.fit(x)\n",
    "\n",
    "plt.figure(figsize=(6, 6))\n",
    "probplot(x, dist=expon, sparams=(loc, scale), plot=plt)\n",
    "plt.title(\"Africa Grid: Window Method\", fontsize=14)\n",
    "plt.tight_layout()\n",
    "plt.savefig(\"qq_africa_window.png\", dpi=300)\n",
    "plt.show()"
   ],
   "id": "e4736b0f3de8eef2",
   "outputs": [
    {
     "data": {
      "text/plain": [
       "<Figure size 600x600 with 1 Axes>"
      ],
      "image/png": "[encoded data removed]"
     },
     "metadata": {},
     "output_type": "display_data"
    }
   ],
   "execution_count": 14
  },
  {
   "metadata": {
    "ExecuteTime": {
     "end_time": "2025-08-26T23:58:05.121672Z",
     "start_time": "2025-08-26T23:58:04.265464Z"
    }
   },
   "cell_type": "code",
   "source": [
    "# Lon vs Mag\n",
    "import matplotlib.pyplot as plt\n",
    "\n",
    "x = mainshocks_only['Lon']\n",
    "y = mainshocks_only['Mag']\n",
    "\n",
    "plt.figure(figsize=(8, 5))\n",
    "plt.ylim(4, 8.5)\n",
    "plt.scatter(x, y, s=5, color='green')\n",
    "plt.axhline(y=4.5, color='red', linestyle='--')  # Observing the minor magnitude(<4.5) events for comparison\n",
    "plt.axhline(y=5, color='grey', linestyle='--')  # Observing the minor magnitude events(<5) for comparison\n",
    "plt.xlabel(\"Longitude\")\n",
    "plt.ylabel(\"Magnitude\")\n",
    "plt.title(\"Longitude vs. Magnitude for the Declustered Catalogue from Window Method\\n(Africa and its Surrounding area, 1976-2020)\")\n",
    "plt.show()"
   ],
   "id": "c91fc5ae53349f6d",
   "outputs": [
    {
     "data": {
      "text/plain": [
       "<Figure size 800x500 with 1 Axes>"
      ],
      "image/png": "[encoded data removed]"
     },
     "metadata": {},
     "output_type": "display_data"
    }
   ],
   "execution_count": 19
  },
  {
   "metadata": {
    "ExecuteTime": {
     "end_time": "2025-08-25T17:21:39.955771Z",
     "start_time": "2025-08-25T17:21:39.757844Z"
    }
   },
   "cell_type": "code",
   "source": [
    "# Lat vs Mag\n",
    "import matplotlib.pyplot as plt\n",
    "\n",
    "x = mainshocks_only['Lat']\n",
    "y = mainshocks_only['Mag']\n",
    "\n",
    "plt.figure(figsize=(8, 5))\n",
    "plt.ylim(4, 9)\n",
    "plt.scatter(x, y, s=5, color='green')\n",
    "plt.axhline(y=4.5, color='red', linestyle='--')  # Observing the minor magnitude(<4.5) events for comparison\n",
    "plt.axhline(y=5, color='grey', linestyle='--')  # Observing the minor magnitude events(<5) for comparison\n",
    "plt.xlabel(\"Latitude\")\n",
    "plt.ylabel(\"Magnitude\")\n",
    "plt.title(\"Latitude vs. Magnitude for the Declustered Catalogue from Window Method\\n(Africa and its Surrounding area, 1976-2020)\")\n",
    "plt.show()"
   ],
   "id": "4ec9f91dfc1088d1",
   "outputs": [
    {
     "data": {
      "text/plain": [
       "<Figure size 800x500 with 1 Axes>"
      ],
      "image/png": "[encoded data removed]"
     },
     "metadata": {},
     "output_type": "display_data"
    }
   ],
   "execution_count": 16
  },
  {
   "metadata": {
    "ExecuteTime": {
     "end_time": "2025-08-25T17:21:39.973047Z",
     "start_time": "2025-08-25T17:21:39.963333Z"
    }
   },
   "cell_type": "code",
   "source": [
    "# KS test\n",
    "from scipy.stats import kstest, expon\n",
    "\n",
    "x = mainshocks_only['inter_arrival'].dropna()\n",
    "loc, scale = expon.fit(x)\n",
    "stat, p_value = kstest(x, 'expon', args=(loc, scale))\n",
    "\n",
    "# If p_value > 0.05, the inter-arrival times are consistent with an exponential distribution.\n",
    "# This implies that the earthquake occurrences follow a Poisson process.\n",
    "print(f\"K-S test p-value: {p_value:.4f}\")\n",
    "print(f\"K-S Test Statistic (D): {stat:.4f}\")\n",
    "\n",
    "METHOD_NAME = \"Window Method\"\n",
    "if p_value > 0.05:\n",
    "    # We fail to reject the null hypothesis.\n",
    "    print(f\"The declustered mainshock sequence from the {METHOD_NAME} method is consistent with a Poisson process.\")\n",
    "else:\n",
    "    # We reject the null hypothesis.\n",
    "    print(f\"The declustered mainshock sequence from the {METHOD_NAME} method is not consistent with a Poisson process.\")"
   ],
   "id": "f6032a26d83d750",
   "outputs": [
    {
     "name": "stdout",
     "output_type": "stream",
     "text": [
      "K-S test p-value: 0.0000\n",
      "K-S Test Statistic (D): 0.1247\n",
      "The declustered mainshock sequence from the Window Method method is not consistent with a Poisson process.\n"
     ]
    }
   ],
   "execution_count": 17
  }
 ],
 "metadata": {
  "kernelspec": {
   "display_name": "Python 3",
   "language": "python",
   "name": "python3"
  },
  "language_info": {
   "codemirror_mode": {
    "name": "ipython",
    "version": 2
   },
   "file_extension": ".py",
   "mimetype": "text/x-python",
   "name": "python",
   "nbconvert_exporter": "python",
   "pygments_lexer": "ipython2",
   "version": "2.7.6"
  }
 },
 "nbformat": 4,
 "nbformat_minor": 5
}
