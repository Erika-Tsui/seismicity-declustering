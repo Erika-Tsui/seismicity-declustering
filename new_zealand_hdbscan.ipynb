{
 "cells": [
  {
   "metadata": {
    "ExecuteTime": {
     "end_time": "2025-08-26T17:26:07.161670Z",
     "start_time": "2025-08-26T17:26:06.312495Z"
    }
   },
   "cell_type": "code",
   "source": [
    "import pandas as pd\n",
    "import geopandas as gpd\n",
    "\n",
    "# Load data\n",
    "df = pd.read_csv(\"sample_new_zealand. csv\")\n",
    "\n",
    "# Convert Datetime column\n",
    "df['Datetime'] = pd.to_datetime(df['Datetime'])\n",
    "df['Timediff'] = ((df['Datetime'] - df['Datetime'].min()).dt.total_seconds())/86400\n",
    "\n",
    "# Make GeoDataFrame with lon/lat\n",
    "gdf = gpd.GeoDataFrame(\n",
    "    df,\n",
    "    geometry=gpd.points_from_xy(df['Lon'], df['Lat']),\n",
    "    crs=\"EPSG:4326\"   # WGS84 (lat/lon)\n",
    ")\n",
    "\n",
    "# Project to UTM (auto-detect zone for centroid of data)\n",
    "gdf = gdf.to_crs(gdf.estimate_utm_crs())\n",
    "\n",
    "# Extract projected coordinates (in meters)\n",
    "df['x'] = gdf.geometry.x   # Easting\n",
    "df['y'] = gdf.geometry.y   # Northing\n",
    "\n",
    "# Build feature matrix\n",
    "features = df[['x', 'y', 'Timediff', 'Mag']].values\n",
    "print(features)"
   ],
   "id": "fa09ebe9f6efcbac",
   "outputs": [
    {
     "name": "stdout",
     "output_type": "stream",
     "text": [
      "[[ 4.82705926e+05 -6.63502250e+06  0.00000000e+00  6.20000000e+00]\n",
      " [ 5.23112588e+05 -6.66049882e+06  4.20557870e-01  6.10000000e+00]\n",
      " [ 1.72375826e+06 -4.93575159e+06  1.10326201e+02  6.60000000e+00]\n",
      " ...\n",
      " [ 6.91713536e+05 -6.35275638e+06  1.64023911e+04  5.10000000e+00]\n",
      " [ 6.72592278e+05 -6.38305638e+06  1.64096128e+04  5.10000000e+00]\n",
      " [ 6.03847264e+05 -6.44942301e+06  1.64155815e+04  5.10000000e+00]]\n"
     ]
    }
   ],
   "execution_count": 37
  },
  {
   "metadata": {
    "ExecuteTime": {
     "end_time": "2025-08-26T17:26:07.223036Z",
     "start_time": "2025-08-26T17:26:07.196072Z"
    }
   },
   "cell_type": "code",
   "source": [
    "# Data Normalisation\n",
    "from sklearn.preprocessing import MinMaxScaler\n",
    "scaler = MinMaxScaler()\n",
    "features_scaled = scaler.fit_transform(features)\n",
    "print(features_scaled)"
   ],
   "id": "fba62e64c369e41b",
   "outputs": [
    {
     "name": "stdout",
     "output_type": "stream",
     "text": [
      "[[6.64242072e-02 1.72950599e-02 0.00000000e+00 5.42857143e-01]\n",
      " [8.24477417e-02 6.83459197e-03 2.56194317e-05 5.14285714e-01]\n",
      " [5.58571884e-01 7.15008469e-01 6.72082199e-03 6.57142857e-01]\n",
      " ...\n",
      " [1.49307586e-01 1.33192329e-01 9.99196470e-01 2.28571429e-01]\n",
      " [1.41724922e-01 1.20751277e-01 9.99636400e-01 2.28571429e-01]\n",
      " [1.14463622e-01 9.35014183e-02 1.00000000e+00 2.28571429e-01]]\n"
     ]
    }
   ],
   "execution_count": 38
  },
  {
   "metadata": {
    "ExecuteTime": {
     "end_time": "2025-08-26T17:26:07.733839Z",
     "start_time": "2025-08-26T17:26:07.236885Z"
    }
   },
   "cell_type": "code",
   "source": [
    "# Tuning the cluster_selection_epsilon\n",
    "from sklearn.cluster import HDBSCAN\n",
    "import numpy as np\n",
    "\n",
    "eps_values = [0.0, 0.05, 0.1, 0.2, 0.5, 1.0]\n",
    "\n",
    "for eps in eps_values:\n",
    "    clusterer = HDBSCAN(min_cluster_size=2,\n",
    "                        cluster_selection_epsilon=eps,\n",
    "                        min_samples=2)\n",
    "    labels = clusterer.fit_predict(features_scaled)\n",
    "    n_clusters = len(set(labels)) - (1 if -1 in labels else 0)\n",
    "    noise_frac = np.mean(labels == -1)\n",
    "    print(f\"epsilon={eps}, clusters={n_clusters}, noise={noise_frac:.2f}\")"
   ],
   "id": "8b7d7e507c41db4a",
   "outputs": [
    {
     "name": "stdout",
     "output_type": "stream",
     "text": [
      "epsilon=0.0, clusters=406, noise=0.23\n",
      "epsilon=0.05, clusters=182, noise=0.12\n",
      "epsilon=0.1, clusters=28, noise=0.02\n",
      "epsilon=0.2, clusters=5, noise=0.00\n",
      "epsilon=0.5, clusters=2, noise=0.00\n",
      "epsilon=1.0, clusters=2, noise=0.00\n"
     ]
    }
   ],
   "execution_count": 39
  },
  {
   "metadata": {
    "ExecuteTime": {
     "end_time": "2025-08-26T17:26:07.827084Z",
     "start_time": "2025-08-26T17:26:07.741427Z"
    }
   },
   "cell_type": "code",
   "source": [
    "from sklearn.cluster import HDBSCAN\n",
    "\n",
    "# Initialize the HDBSCAN model\n",
    "hdb = HDBSCAN(min_cluster_size=2,\n",
    "              cluster_selection_epsilon=0.05\n",
    "              )\n",
    "hdb.fit(features_scaled)"
   ],
   "id": "8522ae55dab4fc08",
   "outputs": [
    {
     "data": {
      "text/plain": [
       "HDBSCAN(cluster_selection_epsilon=0.05, min_cluster_size=2)"
      ],
      "text/html": [
       "<style>#sk-container-id-3 {\n",
       "  /* Definition of color scheme common for light and dark mode */\n",
       "  --sklearn-color-text: #000;\n",
       "  --sklearn-color-text-muted: #666;\n",
       "  --sklearn-color-line: gray;\n",
       "  /* Definition of color scheme for unfitted estimators */\n",
       "  --sklearn-color-unfitted-level-0: #fff5e6;\n",
       "  --sklearn-color-unfitted-level-1: #f6e4d2;\n",
       "  --sklearn-color-unfitted-level-2: #ffe0b3;\n",
       "  --sklearn-color-unfitted-level-3: chocolate;\n",
       "  /* Definition of color scheme for fitted estimators */\n",
       "  --sklearn-color-fitted-level-0: #f0f8ff;\n",
       "  --sklearn-color-fitted-level-1: #d4ebff;\n",
       "  --sklearn-color-fitted-level-2: #b3dbfd;\n",
       "  --sklearn-color-fitted-level-3: cornflowerblue;\n",
       "\n",
       "  /* Specific color for light theme */\n",
       "  --sklearn-color-text-on-default-background: var(--sg-text-color, var(--theme-code-foreground, var(--jp-content-font-color1, black)));\n",
       "  --sklearn-color-background: var(--sg-background-color, var(--theme-background, var(--jp-layout-color0, white)));\n",
       "  --sklearn-color-border-box: var(--sg-text-color, var(--theme-code-foreground, var(--jp-content-font-color1, black)));\n",
       "  --sklearn-color-icon: #696969;\n",
       "\n",
       "  @media (prefers-color-scheme: dark) {\n",
       "    /* Redefinition of color scheme for dark theme */\n",
       "    --sklearn-color-text-on-default-background: var(--sg-text-color, var(--theme-code-foreground, var(--jp-content-font-color1, white)));\n",
       "    --sklearn-color-background: var(--sg-background-color, var(--theme-background, var(--jp-layout-color0, #111)));\n",
       "    --sklearn-color-border-box: var(--sg-text-color, var(--theme-code-foreground, var(--jp-content-font-color1, white)));\n",
       "    --sklearn-color-icon: #878787;\n",
       "  }\n",
       "}\n",
       "\n",
       "#sk-container-id-3 {\n",
       "  color: var(--sklearn-color-text);\n",
       "}\n",
       "\n",
       "#sk-container-id-3 pre {\n",
       "  padding: 0;\n",
       "}\n",
       "\n",
       "#sk-container-id-3 input.sk-hidden--visually {\n",
       "  border: 0;\n",
       "  clip: rect(1px 1px 1px 1px);\n",
       "  clip: rect(1px, 1px, 1px, 1px);\n",
       "  height: 1px;\n",
       "  margin: -1px;\n",
       "  overflow: hidden;\n",
       "  padding: 0;\n",
       "  position: absolute;\n",
       "  width: 1px;\n",
       "}\n",
       "\n",
       "#sk-container-id-3 div.sk-dashed-wrapped {\n",
       "  border: 1px dashed var(--sklearn-color-line);\n",
       "  margin: 0 0.4em 0.5em 0.4em;\n",
       "  box-sizing: border-box;\n",
       "  padding-bottom: 0.4em;\n",
       "  background-color: var(--sklearn-color-background);\n",
       "}\n",
       "\n",
       "#sk-container-id-3 div.sk-container {\n",
       "  /* jupyter's `normalize.less` sets `[hidden] { display: none; }`\n",
       "     but bootstrap.min.css set `[hidden] { display: none !important; }`\n",
       "     so we also need the `!important` here to be able to override the\n",
       "     default hidden behavior on the sphinx rendered scikit-learn.org.\n",
       "     See: https://github.com/scikit-learn/scikit-learn/issues/21755 */\n",
       "  display: inline-block !important;\n",
       "  position: relative;\n",
       "}\n",
       "\n",
       "#sk-container-id-3 div.sk-text-repr-fallback {\n",
       "  display: none;\n",
       "}\n",
       "\n",
       "div.sk-parallel-item,\n",
       "div.sk-serial,\n",
       "div.sk-item {\n",
       "  /* draw centered vertical line to link estimators */\n",
       "  background-image: linear-gradient(var(--sklearn-color-text-on-default-background), var(--sklearn-color-text-on-default-background));\n",
       "  background-size: 2px 100%;\n",
       "  background-repeat: no-repeat;\n",
       "  background-position: center center;\n",
       "}\n",
       "\n",
       "/* Parallel-specific style estimator block */\n",
       "\n",
       "#sk-container-id-3 div.sk-parallel-item::after {\n",
       "  content: \"\";\n",
       "  width: 100%;\n",
       "  border-bottom: 2px solid var(--sklearn-color-text-on-default-background);\n",
       "  flex-grow: 1;\n",
       "}\n",
       "\n",
       "#sk-container-id-3 div.sk-parallel {\n",
       "  display: flex;\n",
       "  align-items: stretch;\n",
       "  justify-content: center;\n",
       "  background-color: var(--sklearn-color-background);\n",
       "  position: relative;\n",
       "}\n",
       "\n",
       "#sk-container-id-3 div.sk-parallel-item {\n",
       "  display: flex;\n",
       "  flex-direction: column;\n",
       "}\n",
       "\n",
       "#sk-container-id-3 div.sk-parallel-item:first-child::after {\n",
       "  align-self: flex-end;\n",
       "  width: 50%;\n",
       "}\n",
       "\n",
       "#sk-container-id-3 div.sk-parallel-item:last-child::after {\n",
       "  align-self: flex-start;\n",
       "  width: 50%;\n",
       "}\n",
       "\n",
       "#sk-container-id-3 div.sk-parallel-item:only-child::after {\n",
       "  width: 0;\n",
       "}\n",
       "\n",
       "/* Serial-specific style estimator block */\n",
       "\n",
       "#sk-container-id-3 div.sk-serial {\n",
       "  display: flex;\n",
       "  flex-direction: column;\n",
       "  align-items: center;\n",
       "  background-color: var(--sklearn-color-background);\n",
       "  padding-right: 1em;\n",
       "  padding-left: 1em;\n",
       "}\n",
       "\n",
       "\n",
       "/* Toggleable style: style used for estimator/Pipeline/ColumnTransformer box that is\n",
       "clickable and can be expanded/collapsed.\n",
       "- Pipeline and ColumnTransformer use this feature and define the default style\n",
       "- Estimators will overwrite some part of the style using the `sk-estimator` class\n",
       "*/\n",
       "\n",
       "/* Pipeline and ColumnTransformer style (default) */\n",
       "\n",
       "#sk-container-id-3 div.sk-toggleable {\n",
       "  /* Default theme specific background. It is overwritten whether we have a\n",
       "  specific estimator or a Pipeline/ColumnTransformer */\n",
       "  background-color: var(--sklearn-color-background);\n",
       "}\n",
       "\n",
       "/* Toggleable label */\n",
       "#sk-container-id-3 label.sk-toggleable__label {\n",
       "  cursor: pointer;\n",
       "  display: flex;\n",
       "  width: 100%;\n",
       "  margin-bottom: 0;\n",
       "  padding: 0.5em;\n",
       "  box-sizing: border-box;\n",
       "  text-align: center;\n",
       "  align-items: start;\n",
       "  justify-content: space-between;\n",
       "  gap: 0.5em;\n",
       "}\n",
       "\n",
       "#sk-container-id-3 label.sk-toggleable__label .caption {\n",
       "  font-size: 0.6rem;\n",
       "  font-weight: lighter;\n",
       "  color: var(--sklearn-color-text-muted);\n",
       "}\n",
       "\n",
       "#sk-container-id-3 label.sk-toggleable__label-arrow:before {\n",
       "  /* Arrow on the left of the label */\n",
       "  content: \"▸\";\n",
       "  float: left;\n",
       "  margin-right: 0.25em;\n",
       "  color: var(--sklearn-color-icon);\n",
       "}\n",
       "\n",
       "#sk-container-id-3 label.sk-toggleable__label-arrow:hover:before {\n",
       "  color: var(--sklearn-color-text);\n",
       "}\n",
       "\n",
       "/* Toggleable content - dropdown */\n",
       "\n",
       "#sk-container-id-3 div.sk-toggleable__content {\n",
       "  display: none;\n",
       "  text-align: left;\n",
       "  /* unfitted */\n",
       "  background-color: var(--sklearn-color-unfitted-level-0);\n",
       "}\n",
       "\n",
       "#sk-container-id-3 div.sk-toggleable__content.fitted {\n",
       "  /* fitted */\n",
       "  background-color: var(--sklearn-color-fitted-level-0);\n",
       "}\n",
       "\n",
       "#sk-container-id-3 div.sk-toggleable__content pre {\n",
       "  margin: 0.2em;\n",
       "  border-radius: 0.25em;\n",
       "  color: var(--sklearn-color-text);\n",
       "  /* unfitted */\n",
       "  background-color: var(--sklearn-color-unfitted-level-0);\n",
       "}\n",
       "\n",
       "#sk-container-id-3 div.sk-toggleable__content.fitted pre {\n",
       "  /* unfitted */\n",
       "  background-color: var(--sklearn-color-fitted-level-0);\n",
       "}\n",
       "\n",
       "#sk-container-id-3 input.sk-toggleable__control:checked~div.sk-toggleable__content {\n",
       "  /* Expand drop-down */\n",
       "  display: block;\n",
       "  width: 100%;\n",
       "  overflow: visible;\n",
       "}\n",
       "\n",
       "#sk-container-id-3 input.sk-toggleable__control:checked~label.sk-toggleable__label-arrow:before {\n",
       "  content: \"▾\";\n",
       "}\n",
       "\n",
       "/* Pipeline/ColumnTransformer-specific style */\n",
       "\n",
       "#sk-container-id-3 div.sk-label input.sk-toggleable__control:checked~label.sk-toggleable__label {\n",
       "  color: var(--sklearn-color-text);\n",
       "  background-color: var(--sklearn-color-unfitted-level-2);\n",
       "}\n",
       "\n",
       "#sk-container-id-3 div.sk-label.fitted input.sk-toggleable__control:checked~label.sk-toggleable__label {\n",
       "  background-color: var(--sklearn-color-fitted-level-2);\n",
       "}\n",
       "\n",
       "/* Estimator-specific style */\n",
       "\n",
       "/* Colorize estimator box */\n",
       "#sk-container-id-3 div.sk-estimator input.sk-toggleable__control:checked~label.sk-toggleable__label {\n",
       "  /* unfitted */\n",
       "  background-color: var(--sklearn-color-unfitted-level-2);\n",
       "}\n",
       "\n",
       "#sk-container-id-3 div.sk-estimator.fitted input.sk-toggleable__control:checked~label.sk-toggleable__label {\n",
       "  /* fitted */\n",
       "  background-color: var(--sklearn-color-fitted-level-2);\n",
       "}\n",
       "\n",
       "#sk-container-id-3 div.sk-label label.sk-toggleable__label,\n",
       "#sk-container-id-3 div.sk-label label {\n",
       "  /* The background is the default theme color */\n",
       "  color: var(--sklearn-color-text-on-default-background);\n",
       "}\n",
       "\n",
       "/* On hover, darken the color of the background */\n",
       "#sk-container-id-3 div.sk-label:hover label.sk-toggleable__label {\n",
       "  color: var(--sklearn-color-text);\n",
       "  background-color: var(--sklearn-color-unfitted-level-2);\n",
       "}\n",
       "\n",
       "/* Label box, darken color on hover, fitted */\n",
       "#sk-container-id-3 div.sk-label.fitted:hover label.sk-toggleable__label.fitted {\n",
       "  color: var(--sklearn-color-text);\n",
       "  background-color: var(--sklearn-color-fitted-level-2);\n",
       "}\n",
       "\n",
       "/* Estimator label */\n",
       "\n",
       "#sk-container-id-3 div.sk-label label {\n",
       "  font-family: monospace;\n",
       "  font-weight: bold;\n",
       "  display: inline-block;\n",
       "  line-height: 1.2em;\n",
       "}\n",
       "\n",
       "#sk-container-id-3 div.sk-label-container {\n",
       "  text-align: center;\n",
       "}\n",
       "\n",
       "/* Estimator-specific */\n",
       "#sk-container-id-3 div.sk-estimator {\n",
       "  font-family: monospace;\n",
       "  border: 1px dotted var(--sklearn-color-border-box);\n",
       "  border-radius: 0.25em;\n",
       "  box-sizing: border-box;\n",
       "  margin-bottom: 0.5em;\n",
       "  /* unfitted */\n",
       "  background-color: var(--sklearn-color-unfitted-level-0);\n",
       "}\n",
       "\n",
       "#sk-container-id-3 div.sk-estimator.fitted {\n",
       "  /* fitted */\n",
       "  background-color: var(--sklearn-color-fitted-level-0);\n",
       "}\n",
       "\n",
       "/* on hover */\n",
       "#sk-container-id-3 div.sk-estimator:hover {\n",
       "  /* unfitted */\n",
       "  background-color: var(--sklearn-color-unfitted-level-2);\n",
       "}\n",
       "\n",
       "#sk-container-id-3 div.sk-estimator.fitted:hover {\n",
       "  /* fitted */\n",
       "  background-color: var(--sklearn-color-fitted-level-2);\n",
       "}\n",
       "\n",
       "/* Specification for estimator info (e.g. \"i\" and \"?\") */\n",
       "\n",
       "/* Common style for \"i\" and \"?\" */\n",
       "\n",
       ".sk-estimator-doc-link,\n",
       "a:link.sk-estimator-doc-link,\n",
       "a:visited.sk-estimator-doc-link {\n",
       "  float: right;\n",
       "  font-size: smaller;\n",
       "  line-height: 1em;\n",
       "  font-family: monospace;\n",
       "  background-color: var(--sklearn-color-background);\n",
       "  border-radius: 1em;\n",
       "  height: 1em;\n",
       "  width: 1em;\n",
       "  text-decoration: none !important;\n",
       "  margin-left: 0.5em;\n",
       "  text-align: center;\n",
       "  /* unfitted */\n",
       "  border: var(--sklearn-color-unfitted-level-1) 1pt solid;\n",
       "  color: var(--sklearn-color-unfitted-level-1);\n",
       "}\n",
       "\n",
       ".sk-estimator-doc-link.fitted,\n",
       "a:link.sk-estimator-doc-link.fitted,\n",
       "a:visited.sk-estimator-doc-link.fitted {\n",
       "  /* fitted */\n",
       "  border: var(--sklearn-color-fitted-level-1) 1pt solid;\n",
       "  color: var(--sklearn-color-fitted-level-1);\n",
       "}\n",
       "\n",
       "/* On hover */\n",
       "div.sk-estimator:hover .sk-estimator-doc-link:hover,\n",
       ".sk-estimator-doc-link:hover,\n",
       "div.sk-label-container:hover .sk-estimator-doc-link:hover,\n",
       ".sk-estimator-doc-link:hover {\n",
       "  /* unfitted */\n",
       "  background-color: var(--sklearn-color-unfitted-level-3);\n",
       "  color: var(--sklearn-color-background);\n",
       "  text-decoration: none;\n",
       "}\n",
       "\n",
       "div.sk-estimator.fitted:hover .sk-estimator-doc-link.fitted:hover,\n",
       ".sk-estimator-doc-link.fitted:hover,\n",
       "div.sk-label-container:hover .sk-estimator-doc-link.fitted:hover,\n",
       ".sk-estimator-doc-link.fitted:hover {\n",
       "  /* fitted */\n",
       "  background-color: var(--sklearn-color-fitted-level-3);\n",
       "  color: var(--sklearn-color-background);\n",
       "  text-decoration: none;\n",
       "}\n",
       "\n",
       "/* Span, style for the box shown on hovering the info icon */\n",
       ".sk-estimator-doc-link span {\n",
       "  display: none;\n",
       "  z-index: 9999;\n",
       "  position: relative;\n",
       "  font-weight: normal;\n",
       "  right: .2ex;\n",
       "  padding: .5ex;\n",
       "  margin: .5ex;\n",
       "  width: min-content;\n",
       "  min-width: 20ex;\n",
       "  max-width: 50ex;\n",
       "  color: var(--sklearn-color-text);\n",
       "  box-shadow: 2pt 2pt 4pt #999;\n",
       "  /* unfitted */\n",
       "  background: var(--sklearn-color-unfitted-level-0);\n",
       "  border: .5pt solid var(--sklearn-color-unfitted-level-3);\n",
       "}\n",
       "\n",
       ".sk-estimator-doc-link.fitted span {\n",
       "  /* fitted */\n",
       "  background: var(--sklearn-color-fitted-level-0);\n",
       "  border: var(--sklearn-color-fitted-level-3);\n",
       "}\n",
       "\n",
       ".sk-estimator-doc-link:hover span {\n",
       "  display: block;\n",
       "}\n",
       "\n",
       "/* \"?\"-specific style due to the `<a>` HTML tag */\n",
       "\n",
       "#sk-container-id-3 a.estimator_doc_link {\n",
       "  float: right;\n",
       "  font-size: 1rem;\n",
       "  line-height: 1em;\n",
       "  font-family: monospace;\n",
       "  background-color: var(--sklearn-color-background);\n",
       "  border-radius: 1rem;\n",
       "  height: 1rem;\n",
       "  width: 1rem;\n",
       "  text-decoration: none;\n",
       "  /* unfitted */\n",
       "  color: var(--sklearn-color-unfitted-level-1);\n",
       "  border: var(--sklearn-color-unfitted-level-1) 1pt solid;\n",
       "}\n",
       "\n",
       "#sk-container-id-3 a.estimator_doc_link.fitted {\n",
       "  /* fitted */\n",
       "  border: var(--sklearn-color-fitted-level-1) 1pt solid;\n",
       "  color: var(--sklearn-color-fitted-level-1);\n",
       "}\n",
       "\n",
       "/* On hover */\n",
       "#sk-container-id-3 a.estimator_doc_link:hover {\n",
       "  /* unfitted */\n",
       "  background-color: var(--sklearn-color-unfitted-level-3);\n",
       "  color: var(--sklearn-color-background);\n",
       "  text-decoration: none;\n",
       "}\n",
       "\n",
       "#sk-container-id-3 a.estimator_doc_link.fitted:hover {\n",
       "  /* fitted */\n",
       "  background-color: var(--sklearn-color-fitted-level-3);\n",
       "}\n",
       "\n",
       ".estimator-table summary {\n",
       "    padding: .5rem;\n",
       "    font-family: monospace;\n",
       "    cursor: pointer;\n",
       "}\n",
       "\n",
       ".estimator-table details[open] {\n",
       "    padding-left: 0.1rem;\n",
       "    padding-right: 0.1rem;\n",
       "    padding-bottom: 0.3rem;\n",
       "}\n",
       "\n",
       ".estimator-table .parameters-table {\n",
       "    margin-left: auto !important;\n",
       "    margin-right: auto !important;\n",
       "}\n",
       "\n",
       ".estimator-table .parameters-table tr:nth-child(odd) {\n",
       "    background-color: #fff;\n",
       "}\n",
       "\n",
       ".estimator-table .parameters-table tr:nth-child(even) {\n",
       "    background-color: #f6f6f6;\n",
       "}\n",
       "\n",
       ".estimator-table .parameters-table tr:hover {\n",
       "    background-color: #e0e0e0;\n",
       "}\n",
       "\n",
       ".estimator-table table td {\n",
       "    border: 1px solid rgba(106, 105, 104, 0.232);\n",
       "}\n",
       "\n",
       ".user-set td {\n",
       "    color:rgb(255, 94, 0);\n",
       "    text-align: left;\n",
       "}\n",
       "\n",
       ".user-set td.value pre {\n",
       "    color:rgb(255, 94, 0) !important;\n",
       "    background-color: transparent !important;\n",
       "}\n",
       "\n",
       ".default td {\n",
       "    color: black;\n",
       "    text-align: left;\n",
       "}\n",
       "\n",
       ".user-set td i,\n",
       ".default td i {\n",
       "    color: black;\n",
       "}\n",
       "\n",
       ".copy-paste-icon {\n",
       "    background-image: url(data:image/svg+xml;base64,PHN2ZyB4bWxucz0iaHR0cDovL3d3dy53My5vcmcvMjAwMC9zdmciIHZpZXdCb3g9IjAgMCA0NDggNTEyIj48IS0tIUZvbnQgQXdlc29tZSBGcmVlIDYuNy4yIGJ5IEBmb250YXdlc29tZSAtIGh0dHBzOi8vZm9udGF3ZXNvbWUuY29tIExpY2Vuc2UgLSBodHRwczovL2ZvbnRhd2Vzb21lLmNvbS9saWNlbnNlL2ZyZWUgQ29weXJpZ2h0IDIwMjUgRm9udGljb25zLCBJbmMuLS0+PHBhdGggZD0iTTIwOCAwTDMzMi4xIDBjMTIuNyAwIDI0LjkgNS4xIDMzLjkgMTQuMWw2Ny45IDY3LjljOSA5IDE0LjEgMjEuMiAxNC4xIDMzLjlMNDQ4IDMzNmMwIDI2LjUtMjEuNSA0OC00OCA0OGwtMTkyIDBjLTI2LjUgMC00OC0yMS41LTQ4LTQ4bDAtMjg4YzAtMjYuNSAyMS41LTQ4IDQ4LTQ4ek00OCAxMjhsODAgMCAwIDY0LTY0IDAgMCAyNTYgMTkyIDAgMC0zMiA2NCAwIDAgNDhjMCAyNi41LTIxLjUgNDgtNDggNDhMNDggNTEyYy0yNi41IDAtNDgtMjEuNS00OC00OEwwIDE3NmMwLTI2LjUgMjEuNS00OCA0OC00OHoiLz48L3N2Zz4=);\n",
       "    background-repeat: no-repeat;\n",
       "    background-size: 14px 14px;\n",
       "    background-position: 0;\n",
       "    display: inline-block;\n",
       "    width: 14px;\n",
       "    height: 14px;\n",
       "    cursor: pointer;\n",
       "}\n",
       "</style><body><div id=\"sk-container-id-3\" class=\"sk-top-container\"><div class=\"sk-text-repr-fallback\"><pre>HDBSCAN(cluster_selection_epsilon=0.05, min_cluster_size=2)</pre><b>In a Jupyter environment, please rerun this cell to show the HTML representation or trust the notebook. <br />On GitHub, the HTML representation is unable to render, please try loading this page with nbviewer.org.</b></div><div class=\"sk-container\" hidden><div class=\"sk-item\"><div class=\"sk-estimator fitted sk-toggleable\"><input class=\"sk-toggleable__control sk-hidden--visually\" id=\"sk-estimator-id-3\" type=\"checkbox\" checked><label for=\"sk-estimator-id-3\" class=\"sk-toggleable__label fitted sk-toggleable__label-arrow\"><div><div>HDBSCAN</div></div><div><a class=\"sk-estimator-doc-link fitted\" rel=\"noreferrer\" target=\"_blank\" href=\"https://scikit-learn.org/1.7/modules/generated/sklearn.cluster.HDBSCAN.html\">?<span>Documentation for HDBSCAN</span></a><span class=\"sk-estimator-doc-link fitted\">i<span>Fitted</span></span></div></label><div class=\"sk-toggleable__content fitted\" data-param-prefix=\"\">\n",
       "        <div class=\"estimator-table\">\n",
       "            <details>\n",
       "                <summary>Parameters</summary>\n",
       "                <table class=\"parameters-table\">\n",
       "                  <tbody>\n",
       "                    \n",
       "        <tr class=\"user-set\">\n",
       "            <td><i class=\"copy-paste-icon\"\n",
       "                 onclick=\"copyToClipboard('min_cluster_size',\n",
       "                          this.parentElement.nextElementSibling)\"\n",
       "            ></i></td>\n",
       "            <td class=\"param\">min_cluster_size&nbsp;</td>\n",
       "            <td class=\"value\">2</td>\n",
       "        </tr>\n",
       "    \n",
       "\n",
       "        <tr class=\"default\">\n",
       "            <td><i class=\"copy-paste-icon\"\n",
       "                 onclick=\"copyToClipboard('min_samples',\n",
       "                          this.parentElement.nextElementSibling)\"\n",
       "            ></i></td>\n",
       "            <td class=\"param\">min_samples&nbsp;</td>\n",
       "            <td class=\"value\">None</td>\n",
       "        </tr>\n",
       "    \n",
       "\n",
       "        <tr class=\"user-set\">\n",
       "            <td><i class=\"copy-paste-icon\"\n",
       "                 onclick=\"copyToClipboard('cluster_selection_epsilon',\n",
       "                          this.parentElement.nextElementSibling)\"\n",
       "            ></i></td>\n",
       "            <td class=\"param\">cluster_selection_epsilon&nbsp;</td>\n",
       "            <td class=\"value\">0.05</td>\n",
       "        </tr>\n",
       "    \n",
       "\n",
       "        <tr class=\"default\">\n",
       "            <td><i class=\"copy-paste-icon\"\n",
       "                 onclick=\"copyToClipboard('max_cluster_size',\n",
       "                          this.parentElement.nextElementSibling)\"\n",
       "            ></i></td>\n",
       "            <td class=\"param\">max_cluster_size&nbsp;</td>\n",
       "            <td class=\"value\">None</td>\n",
       "        </tr>\n",
       "    \n",
       "\n",
       "        <tr class=\"default\">\n",
       "            <td><i class=\"copy-paste-icon\"\n",
       "                 onclick=\"copyToClipboard('metric',\n",
       "                          this.parentElement.nextElementSibling)\"\n",
       "            ></i></td>\n",
       "            <td class=\"param\">metric&nbsp;</td>\n",
       "            <td class=\"value\">&#x27;euclidean&#x27;</td>\n",
       "        </tr>\n",
       "    \n",
       "\n",
       "        <tr class=\"default\">\n",
       "            <td><i class=\"copy-paste-icon\"\n",
       "                 onclick=\"copyToClipboard('metric_params',\n",
       "                          this.parentElement.nextElementSibling)\"\n",
       "            ></i></td>\n",
       "            <td class=\"param\">metric_params&nbsp;</td>\n",
       "            <td class=\"value\">None</td>\n",
       "        </tr>\n",
       "    \n",
       "\n",
       "        <tr class=\"default\">\n",
       "            <td><i class=\"copy-paste-icon\"\n",
       "                 onclick=\"copyToClipboard('alpha',\n",
       "                          this.parentElement.nextElementSibling)\"\n",
       "            ></i></td>\n",
       "            <td class=\"param\">alpha&nbsp;</td>\n",
       "            <td class=\"value\">1.0</td>\n",
       "        </tr>\n",
       "    \n",
       "\n",
       "        <tr class=\"default\">\n",
       "            <td><i class=\"copy-paste-icon\"\n",
       "                 onclick=\"copyToClipboard('algorithm',\n",
       "                          this.parentElement.nextElementSibling)\"\n",
       "            ></i></td>\n",
       "            <td class=\"param\">algorithm&nbsp;</td>\n",
       "            <td class=\"value\">&#x27;auto&#x27;</td>\n",
       "        </tr>\n",
       "    \n",
       "\n",
       "        <tr class=\"default\">\n",
       "            <td><i class=\"copy-paste-icon\"\n",
       "                 onclick=\"copyToClipboard('leaf_size',\n",
       "                          this.parentElement.nextElementSibling)\"\n",
       "            ></i></td>\n",
       "            <td class=\"param\">leaf_size&nbsp;</td>\n",
       "            <td class=\"value\">40</td>\n",
       "        </tr>\n",
       "    \n",
       "\n",
       "        <tr class=\"default\">\n",
       "            <td><i class=\"copy-paste-icon\"\n",
       "                 onclick=\"copyToClipboard('n_jobs',\n",
       "                          this.parentElement.nextElementSibling)\"\n",
       "            ></i></td>\n",
       "            <td class=\"param\">n_jobs&nbsp;</td>\n",
       "            <td class=\"value\">None</td>\n",
       "        </tr>\n",
       "    \n",
       "\n",
       "        <tr class=\"default\">\n",
       "            <td><i class=\"copy-paste-icon\"\n",
       "                 onclick=\"copyToClipboard('cluster_selection_method',\n",
       "                          this.parentElement.nextElementSibling)\"\n",
       "            ></i></td>\n",
       "            <td class=\"param\">cluster_selection_method&nbsp;</td>\n",
       "            <td class=\"value\">&#x27;eom&#x27;</td>\n",
       "        </tr>\n",
       "    \n",
       "\n",
       "        <tr class=\"default\">\n",
       "            <td><i class=\"copy-paste-icon\"\n",
       "                 onclick=\"copyToClipboard('allow_single_cluster',\n",
       "                          this.parentElement.nextElementSibling)\"\n",
       "            ></i></td>\n",
       "            <td class=\"param\">allow_single_cluster&nbsp;</td>\n",
       "            <td class=\"value\">False</td>\n",
       "        </tr>\n",
       "    \n",
       "\n",
       "        <tr class=\"default\">\n",
       "            <td><i class=\"copy-paste-icon\"\n",
       "                 onclick=\"copyToClipboard('store_centers',\n",
       "                          this.parentElement.nextElementSibling)\"\n",
       "            ></i></td>\n",
       "            <td class=\"param\">store_centers&nbsp;</td>\n",
       "            <td class=\"value\">None</td>\n",
       "        </tr>\n",
       "    \n",
       "\n",
       "        <tr class=\"default\">\n",
       "            <td><i class=\"copy-paste-icon\"\n",
       "                 onclick=\"copyToClipboard('copy',\n",
       "                          this.parentElement.nextElementSibling)\"\n",
       "            ></i></td>\n",
       "            <td class=\"param\">copy&nbsp;</td>\n",
       "            <td class=\"value\">False</td>\n",
       "        </tr>\n",
       "    \n",
       "                  </tbody>\n",
       "                </table>\n",
       "            </details>\n",
       "        </div>\n",
       "    </div></div></div></div></div><script>function copyToClipboard(text, element) {\n",
       "    // Get the parameter prefix from the closest toggleable content\n",
       "    const toggleableContent = element.closest('.sk-toggleable__content');\n",
       "    const paramPrefix = toggleableContent ? toggleableContent.dataset.paramPrefix : '';\n",
       "    const fullParamName = paramPrefix ? `${paramPrefix}${text}` : text;\n",
       "\n",
       "    const originalStyle = element.style;\n",
       "    const computedStyle = window.getComputedStyle(element);\n",
       "    const originalWidth = computedStyle.width;\n",
       "    const originalHTML = element.innerHTML.replace('Copied!', '');\n",
       "\n",
       "    navigator.clipboard.writeText(fullParamName)\n",
       "        .then(() => {\n",
       "            element.style.width = originalWidth;\n",
       "            element.style.color = 'green';\n",
       "            element.innerHTML = \"Copied!\";\n",
       "\n",
       "            setTimeout(() => {\n",
       "                element.innerHTML = originalHTML;\n",
       "                element.style = originalStyle;\n",
       "            }, 2000);\n",
       "        })\n",
       "        .catch(err => {\n",
       "            console.error('Failed to copy:', err);\n",
       "            element.style.color = 'red';\n",
       "            element.innerHTML = \"Failed!\";\n",
       "            setTimeout(() => {\n",
       "                element.innerHTML = originalHTML;\n",
       "                element.style = originalStyle;\n",
       "            }, 2000);\n",
       "        });\n",
       "    return false;\n",
       "}\n",
       "\n",
       "document.querySelectorAll('.fa-regular.fa-copy').forEach(function(element) {\n",
       "    const toggleableContent = element.closest('.sk-toggleable__content');\n",
       "    const paramPrefix = toggleableContent ? toggleableContent.dataset.paramPrefix : '';\n",
       "    const paramName = element.parentElement.nextElementSibling.textContent.trim();\n",
       "    const fullParamName = paramPrefix ? `${paramPrefix}${paramName}` : paramName;\n",
       "\n",
       "    element.setAttribute('title', fullParamName);\n",
       "});\n",
       "</script></body>"
      ]
     },
     "execution_count": 40,
     "metadata": {},
     "output_type": "execute_result"
    }
   ],
   "execution_count": 40
  },
  {
   "metadata": {
    "ExecuteTime": {
     "end_time": "2025-08-26T17:26:07.863349Z",
     "start_time": "2025-08-26T17:26:07.845772Z"
    }
   },
   "cell_type": "code",
   "source": [
    "# Add the resulting cluster labels to the original DataFrame\n",
    "df['Cluster'] = hdb.labels_\n",
    "\n",
    "# Count the number of points in each cluster\n",
    "# This helps understand the distribution of the data\n",
    "print(\"--- Cluster ID counts ---\")\n",
    "print(df['Cluster'].value_counts())"
   ],
   "id": "a5a0c7914424947a",
   "outputs": [
    {
     "name": "stdout",
     "output_type": "stream",
     "text": [
      "--- Cluster ID counts ---\n",
      "Cluster\n",
      " 180    732\n",
      "-1      184\n",
      " 140     27\n",
      " 77      21\n",
      " 49      16\n",
      "       ... \n",
      " 23       2\n",
      " 179      2\n",
      " 28       2\n",
      " 97       2\n",
      " 65       2\n",
      "Name: count, Length: 183, dtype: int64\n"
     ]
    }
   ],
   "execution_count": 41
  },
  {
   "metadata": {
    "ExecuteTime": {
     "end_time": "2025-08-26T17:26:08.078556Z",
     "start_time": "2025-08-26T17:26:07.873180Z"
    }
   },
   "cell_type": "code",
   "source": [
    "# Classify mainshock, dependent shock and noise in each cluster\n",
    "# Add a new column for the classification of each event\n",
    "df['Type'] = 'Dependent'  # Initialize all as Unclassified\n",
    "\n",
    "# Loop through each cluster (excluding noise: -1)\n",
    "for cluster_id in sorted(df['Cluster'].unique()):\n",
    "    if cluster_id == -1: # if cluster id is not equal to -1\n",
    "        continue  # skip noise\n",
    "\n",
    "    sub_df = df[df['Cluster'] == cluster_id]  # Make each cluster as a subset from the whole dataframe\n",
    "\n",
    "    # Identify the mainshock (largest magnitude)\n",
    "    mainshock_idx = sub_df['Mag'].idxmax()\n",
    "    mainshock_time = sub_df.at[mainshock_idx, 'Datetime']\n",
    "\n",
    "    # Assign mainshock\n",
    "    df.at[mainshock_idx, 'Type'] = 'Mainshock'\n",
    "\n",
    "# Assign noise (they might be independent shocks)\n",
    "df.loc[df['Cluster'] == -1, 'Type'] = 'Noise'\n",
    "\n",
    "print(df)"
   ],
   "id": "7463054ebaf3c802",
   "outputs": [
    {
     "name": "stdout",
     "output_type": "stream",
     "text": [
      "            Date    Lat     Lon  Depth  Mag  Strike  Dip  Rake        Time  \\\n",
      "0     1976/01/15 -30.38 -176.82   33.0  6.2     196   26    91  06:06:46.1   \n",
      "1     1976/01/15 -30.15 -177.24   33.0  6.1     180   10    73  16:12:22.3   \n",
      "2     1976/05/04 -44.64  167.57   19.0  6.6      57   18   136  13:56:29.9   \n",
      "3     1976/06/29 -33.82 -177.83   48.0  6.1      24   37    78  18:30:09.1   \n",
      "4     1976/07/31 -30.32 -177.96   20.0  6.2     196   31    93  00:46:58.0   \n",
      "...          ...    ...     ...    ...  ...     ...  ...   ...         ...   \n",
      "1537  2020/11/29 -31.86  179.20  462.5  5.3     115   35  -178  21:45:22.7   \n",
      "1538  2020/12/10 -32.88 -179.85   96.0  5.9     139   25   175  20:42:08.3   \n",
      "1539  2020/12/11 -32.91 -179.05   43.5  5.1     206   34   104  15:30:00.1   \n",
      "1540  2020/12/18 -32.64 -178.84   35.7  5.1     198   32    97  20:49:15.8   \n",
      "1541  2020/12/24 -32.05 -178.10   10.0  5.1     197   28    77  20:04:11.8   \n",
      "\n",
      "                    Datetime      Timediff             x             y  \\\n",
      "0    1976-01-15 06:06:46.100      0.000000  4.827059e+05 -6.635022e+06   \n",
      "1    1976-01-15 16:12:22.300      0.420558  5.231126e+05 -6.660499e+06   \n",
      "2    1976-05-04 13:56:29.900    110.326201  1.723758e+06 -4.935752e+06   \n",
      "3    1976-06-29 18:30:09.100    166.516238  5.768110e+05 -6.253422e+06   \n",
      "4    1976-07-31 00:46:58.000    197.777916  5.922934e+05 -6.641295e+06   \n",
      "...                      ...           ...           ...           ...   \n",
      "1537 2020-11-29 21:45:22.700  16390.651813  8.595922e+05 -6.464712e+06   \n",
      "1538 2020-12-10 20:42:08.300  16401.607896  7.666404e+05 -6.354344e+06   \n",
      "1539 2020-12-11 15:30:00.100  16402.391134  6.917135e+05 -6.352756e+06   \n",
      "1540 2020-12-18 20:49:15.800  16409.612844  6.725923e+05 -6.383056e+06   \n",
      "1541 2020-12-24 20:04:11.800  16415.581547  6.038473e+05 -6.449423e+06   \n",
      "\n",
      "      Cluster       Type  \n",
      "0          52  Dependent  \n",
      "1          52  Dependent  \n",
      "2          -1      Noise  \n",
      "3          36  Mainshock  \n",
      "4          52  Dependent  \n",
      "...       ...        ...  \n",
      "1537       -1      Noise  \n",
      "1538       -1      Noise  \n",
      "1539      180  Dependent  \n",
      "1540      180  Dependent  \n",
      "1541      180  Dependent  \n",
      "\n",
      "[1542 rows x 15 columns]\n"
     ]
    }
   ],
   "execution_count": 42
  },
  {
   "metadata": {
    "ExecuteTime": {
     "end_time": "2025-08-26T17:26:08.097550Z",
     "start_time": "2025-08-26T17:26:08.088167Z"
    }
   },
   "cell_type": "code",
   "source": "df['Type'].unique()",
   "id": "4739f489fbb13530",
   "outputs": [
    {
     "data": {
      "text/plain": [
       "array(['Dependent', 'Noise', 'Mainshock'], dtype=object)"
      ]
     },
     "execution_count": 43,
     "metadata": {},
     "output_type": "execute_result"
    }
   ],
   "execution_count": 43
  },
  {
   "metadata": {
    "ExecuteTime": {
     "end_time": "2025-08-26T17:26:08.133847Z",
     "start_time": "2025-08-26T17:26:08.130341Z"
    }
   },
   "cell_type": "code",
   "source": [
    "# ========================================\n",
    "# Estimation and further data exploration\n",
    "# ========================================"
   ],
   "id": "e3eb282b4735233f",
   "outputs": [],
   "execution_count": 44
  },
  {
   "metadata": {
    "ExecuteTime": {
     "end_time": "2025-08-26T17:26:09.097120Z",
     "start_time": "2025-08-26T17:26:08.141651Z"
    }
   },
   "cell_type": "code",
   "source": [
    "# Visualise the clustered sequence on map\n",
    "import plotly.express as px\n",
    "\n",
    "df_noise_excluded = df[df['Type'] != 'Noise']\n",
    "df_noise_excluded['Cluster'] = df_noise_excluded['Cluster'].astype('category')\n",
    "\n",
    "fig = px.scatter_map(\n",
    "    df_noise_excluded,\n",
    "    lat='Lat',\n",
    "    lon='Lon',\n",
    "    hover_name='Cluster',\n",
    "    color='Cluster',\n",
    "    hover_data={'Date', 'Time', 'Lat', 'Lon'},\n",
    "    center={'lat': -41, 'lon': 174},\n",
    "    zoom=3.8,\n",
    "    height=800,\n",
    "    map_style='carto-positron',\n",
    "    title='Earthquake Clustering using HDBSCAN <br><sup>Time of occurrence: 1976-2020 | New Zealand and its surrounding area</sup>'\n",
    ")\n",
    "\n",
    "fig.show()"
   ],
   "id": "3f8b0679cde373b",
   "outputs": [
    {
     "name": "stderr",
     "output_type": "stream",
     "text": [
      "/var/folders/fn/9d0nx8h147x36gzgyptphd8w0000gn/T/ipykernel_42630/1074453884.py:5: SettingWithCopyWarning:\n",
      "\n",
      "\n",
      "A value is trying to be set on a copy of a slice from a DataFrame.\n",
      "Try using .loc[row_indexer,col_indexer] = value instead\n",
      "\n",
      "See the caveats in the documentation: https://pandas.pydata.org/pandas-docs/stable/user_guide/indexing.html#returning-a-view-versus-a-copy\n",
      "\n"
     ]
    },
    {
     "data": {
      "application/vnd.plotly.v1+json": {
       "data": [
        {
         "customdata": [
          [
           -30.38,
           "06:06:46.1",
           -176.82,
           "1976/01/15"
          ],
          [
           -30.15,
           "16:12:22.3",
           -177.24,
           "1976/01/15"
          ],
          [
           -30.32,
           "00:46:58.0",
           -177.96,
           "1976/07/31"
          ],
          [
           -30.24,
           "23:34:14.4",
           -177.88,
           "1976/09/30"
          ],
          [
           -30.12,
           "15:20:54.2",
           -177.49,
           "1978/01/14"
          ],
          [
           -30.21,
           "06:56:34.5",
           -177.55,
           "1978/01/15"
          ],
          [
           -30.07,
           "19:32:37.1",
           -177.33,
           "1978/02/10"
          ],
          [
           -30.41,
           "00:05:23.0",
           -177.12,
           "1978/02/11"
          ],
          [
           -30.53,
           "12:37:12.8",
           -178.18,
           "1978/08/15"
          ]
         ],
         "hovertemplate": "<b>%{hovertext}</b><br><br>Cluster=52<br>Lat=%{customdata[0]}<br>Lon=%{customdata[2]}<br>Time=%{customdata[1]}<br>Date=%{customdata[3]}<extra></extra>",
         "hovertext": {
          "dtype": "f8",
          "bdata": "AAAAAAAASkAAAAAAAABKQAAAAAAAAEpAAAAAAAAASkAAAAAAAABKQAAAAAAAAEpAAAAAAAAASkAAAAAAAABKQAAAAAAAAEpA"
         },
         "lat": {
          "dtype": "f8",
          "bdata": "4XoUrkdhPsBmZmZmZiY+wFK4HoXrUT7APQrXo3A9PsAfhetRuB4+wPYoXI/CNT7AUrgehesRPsApXI/C9Wg+wEjhehSuhz7A"
         },
         "legendgroup": "52",
         "lon": {
          "dtype": "f8",
          "bdata": "CtejcD0aZsBI4XoUridmwB+F61G4PmbAXI/C9Sg8ZsBI4XoUri9mwJqZmZmZMWbAw/UoXI8qZsCkcD0K1yNmwPYoXI/CRWbA"
         },
         "marker": {
          "color": "#636efa"
         },
         "mode": "markers",
         "name": "52",
         "showlegend": true,
         "subplot": "map",
         "type": "scattermap"
        },
        {
         "customdata": [
          [
           -33.82,
           "18:30:09.1",
           -177.83,
           "1976/06/29"
          ],
          [
           -33.8,
           "17:16:40.3",
           -179.72,
           "1977/07/22"
          ]
         ],
         "hovertemplate": "<b>%{hovertext}</b><br><br>Cluster=36<br>Lat=%{customdata[0]}<br>Lon=%{customdata[2]}<br>Time=%{customdata[1]}<br>Date=%{customdata[3]}<extra></extra>",
         "hovertext": {
          "dtype": "f8",
          "bdata": "AAAAAAAAQkAAAAAAAABCQA=="
         },
         "lat": {
          "dtype": "f8",
          "bdata": "KVyPwvXoQMBmZmZmZuZAwA=="
         },
         "legendgroup": "36",
         "lon": {
          "dtype": "f8",
          "bdata": "w/UoXI86ZsDXo3A9CndmwA=="
         },
         "marker": {
          "color": "#EF553B"
         },
         "mode": "markers",
         "name": "36",
         "showlegend": true,
         "subplot": "map",
         "type": "scattermap"
        },
        {
         "customdata": [
          [
           -31.01,
           "20:52:38.2",
           179.94,
           "1977/03/14"
          ],
          [
           -31.45,
           "09:52:38.6",
           -179.89,
           "1977/11/21"
          ]
         ],
         "hovertemplate": "<b>%{hovertext}</b><br><br>Cluster=84<br>Lat=%{customdata[0]}<br>Lon=%{customdata[2]}<br>Time=%{customdata[1]}<br>Date=%{customdata[3]}<extra></extra>",
         "hovertext": {
          "dtype": "f8",
          "bdata": "AAAAAAAAVUAAAAAAAABVQA=="
         },
         "lat": {
          "dtype": "f8",
          "bdata": "w/UoXI8CP8AzMzMzM3M/wA=="
         },
         "legendgroup": "84",
         "lon": {
          "dtype": "f8",
          "bdata": "rkfhehR+ZkAUrkfhenxmwA=="
         },
         "marker": {
          "color": "#00cc96"
         },
         "mode": "markers",
         "name": "84",
         "showlegend": true,
         "subplot": "map",
         "type": "scattermap"
        },
        {
         "customdata": [
          [
           -33.6,
           "02:23:17.8",
           179.1,
           "1977/03/22"
          ],
          [
           -32.31,
           "15:56:43.9",
           179.2,
           "1979/11/08"
          ]
         ],
         "hovertemplate": "<b>%{hovertext}</b><br><br>Cluster=66<br>Lat=%{customdata[0]}<br>Lon=%{customdata[2]}<br>Time=%{customdata[1]}<br>Date=%{customdata[3]}<extra></extra>",
         "hovertext": {
          "dtype": "f8",
          "bdata": "AAAAAACAUEAAAAAAAIBQQA=="
         },
         "lat": {
          "dtype": "f8",
          "bdata": "zczMzMzMQMBI4XoUridAwA=="
         },
         "legendgroup": "66",
         "lon": {
          "dtype": "f8",
          "bdata": "MzMzMzNjZkBmZmZmZmZmQA=="
         },
         "marker": {
          "color": "#ab63fa"
         },
         "mode": "markers",
         "name": "66",
         "showlegend": true,
         "subplot": "map",
         "type": "scattermap"
        },
        {
         "customdata": [
          [
           -43.15,
           "02:41:57.3",
           171.98,
           "1977/05/11"
          ],
          [
           -42.07,
           "21:06:53.6",
           171.7,
           "1979/03/24"
          ]
         ],
         "hovertemplate": "<b>%{hovertext}</b><br><br>Cluster=9<br>Lat=%{customdata[0]}<br>Lon=%{customdata[2]}<br>Time=%{customdata[1]}<br>Date=%{customdata[3]}<extra></extra>",
         "hovertext": {
          "dtype": "f8",
          "bdata": "AAAAAAAAIkAAAAAAAAAiQA=="
         },
         "lat": {
          "dtype": "f8",
          "bdata": "MzMzMzOTRcApXI/C9QhFwA=="
         },
         "legendgroup": "9",
         "lon": {
          "dtype": "f8",
          "bdata": "j8L1KFx/ZUBmZmZmZnZlQA=="
         },
         "marker": {
          "color": "#FFA15A"
         },
         "mode": "markers",
         "name": "9",
         "showlegend": true,
         "subplot": "map",
         "type": "scattermap"
        },
        {
         "customdata": [
          [
           -30.06,
           "13:14:05.0",
           -176.85,
           "1977/10/16"
          ],
          [
           -30.44,
           "04:12:33.6",
           -177.46,
           "1978/02/11"
          ],
          [
           -30.68,
           "16:13:13.0",
           -178.14,
           "1978/03/12"
          ],
          [
           -30.68,
           "07:14:48.6",
           -178.02,
           "1978/09/01"
          ],
          [
           -30.25,
           "00:24:14.2",
           -177.92,
           "1978/11/19"
          ],
          [
           -30.57,
           "07:03:48.6",
           -177.78,
           "1979/01/27"
          ],
          [
           -30.71,
           "18:16:14.0",
           -178.16,
           "1979/05/02"
          ],
          [
           -32.19,
           "21:18:06.2",
           -178.53,
           "1979/05/03"
          ],
          [
           -30.04,
           "11:13:40.3",
           -177.22,
           "1980/02/21"
          ],
          [
           -30.03,
           "14:24:25.1",
           -177.24,
           "1980/02/21"
          ],
          [
           -31.47,
           "22:51:11.9",
           -178.39,
           "1980/07/05"
          ],
          [
           -30.46,
           "02:38:10.0",
           -177.94,
           "1980/10/28"
          ],
          [
           -30.57,
           "23:30:08.4",
           -178.21,
           "1981/03/07"
          ],
          [
           -31.03,
           "10:08:18.4",
           -179.2,
           "1981/05/18"
          ],
          [
           -30.12,
           "23:17:02.5",
           -177.31,
           "1981/05/20"
          ],
          [
           -31.92,
           "17:54:31.9",
           -178.63,
           "1981/06/04"
          ],
          [
           -30.27,
           "00:51:06.0",
           -178.99,
           "1981/06/26"
          ],
          [
           -30.33,
           "04:41:09.2",
           -178.9,
           "1981/07/04"
          ],
          [
           -30.85,
           "11:19:01.2",
           -178.22,
           "1981/07/28"
          ],
          [
           -30.41,
           "06:59:36.2",
           -177.58,
           "1981/10/12"
          ],
          [
           -30.24,
           "13:02:39.8",
           -177.28,
           "1981/12/24"
          ],
          [
           -30.37,
           "22:36:27.8",
           -177.36,
           "1981/12/24"
          ],
          [
           -30.39,
           "09:12:06.1",
           -177.5,
           "1981/12/25"
          ],
          [
           -30.01,
           "06:22:50.4",
           -177.61,
           "1981/12/27"
          ],
          [
           -30.23,
           "19:06:31.3",
           -177.92,
           "1981/12/29"
          ],
          [
           -30.04,
           "02:02:35.5",
           -176.44,
           "1982/01/14"
          ],
          [
           -30.18,
           "23:45:54.5",
           -177.9,
           "1982/02/13"
          ],
          [
           -31.67,
           "21:43:53.6",
           -179.76,
           "1982/03/05"
          ],
          [
           -30.5,
           "12:41:49.0",
           -177.84,
           "1982/05/12"
          ],
          [
           -31.12,
           "05:11:43.8",
           -179.55,
           "1982/09/14"
          ],
          [
           -30.23,
           "10:15:15.4",
           -178.06,
           "1982/10/05"
          ],
          [
           -32.45,
           "23:07:59.5",
           -178.39,
           "1982/11/22"
          ],
          [
           -32.46,
           "02:19:09.8",
           -178.26,
           "1982/11/27"
          ],
          [
           -32.48,
           "00:06:19.8",
           -178.46,
           "1982/12/19"
          ],
          [
           -30.95,
           "21:36:47.2",
           -178.06,
           "1983/04/28"
          ],
          [
           -32.8,
           "10:03:17.6",
           -178.8,
           "1983/06/25"
          ],
          [
           -31.41,
           "21:56:16.6",
           -178.13,
           "1983/07/17"
          ],
          [
           -33.24,
           "14:52:39.0",
           -179.44,
           "1984/05/13"
          ],
          [
           -30.57,
           "02:32:45.6",
           -178.35,
           "1984/05/25"
          ],
          [
           -32.85,
           "03:45:32.8",
           -178.69,
           "1984/06/02"
          ],
          [
           -32.79,
           "14:59:34.3",
           -179.31,
           "1984/08/04"
          ],
          [
           -30.06,
           "11:48:24.7",
           -177.62,
           "1984/09/03"
          ],
          [
           -32.0,
           "07:07:46.7",
           -178.18,
           "1984/09/16"
          ],
          [
           -32.14,
           "03:50:10.9",
           -178.05,
           "1984/09/19"
          ],
          [
           -32.23,
           "04:32:55.0",
           -178.04,
           "1984/09/19"
          ],
          [
           -31.86,
           "20:23:28.5",
           -177.81,
           "1984/09/19"
          ],
          [
           -32.09,
           "10:15:16.0",
           -178.24,
           "1984/09/22"
          ],
          [
           -32.2,
           "11:43:16.5",
           -178.38,
           "1984/09/22"
          ],
          [
           -30.54,
           "19:59:56.2",
           -178.38,
           "1984/10/19"
          ],
          [
           -31.46,
           "15:26:54.8",
           -177.77,
           "1984/10/22"
          ],
          [
           -31.58,
           "17:20:31.5",
           -177.57,
           "1984/10/30"
          ],
          [
           -31.53,
           "20:33:41.0",
           -177.71,
           "1984/10/30"
          ],
          [
           -33.04,
           "01:21:12.6",
           -179.13,
           "1985/03/09"
          ],
          [
           -32.98,
           "01:54:03.2",
           -179.16,
           "1985/03/09"
          ],
          [
           -33.14,
           "18:12:26.5",
           -179.35,
           "1985/04/03"
          ],
          [
           -30.12,
           "00:37:22.8",
           -177.97,
           "1985/05/17"
          ],
          [
           -31.2,
           "14:27:54.6",
           -177.96,
           "1985/06/06"
          ],
          [
           -31.77,
           "01:24:51.1",
           -178.67,
           "1985/06/08"
          ],
          [
           -31.97,
           "04:10:41.0",
           -178.82,
           "1985/08/14"
          ],
          [
           -30.73,
           "19:29:46.1",
           -178.28,
           "1985/10/11"
          ],
          [
           -30.16,
           "20:01:52.2",
           -178.19,
           "1986/06/19"
          ],
          [
           -32.13,
           "02:37:55.1",
           -179.18,
           "1986/06/20"
          ],
          [
           -30.88,
           "16:48:58.8",
           -177.54,
           "1986/06/27"
          ],
          [
           -33.44,
           "02:12:46.5",
           -178.47,
           "1986/07/22"
          ],
          [
           -31.2,
           "11:34:17.6",
           179.76,
           "1986/12/05"
          ],
          [
           -32.69,
           "10:02:16.0",
           -178.7,
           "1987/02/19"
          ],
          [
           -30.29,
           "12:15:35.4",
           -178.0,
           "1987/08/30"
          ],
          [
           -31.42,
           "21:37:00.3",
           -177.87,
           "1987/09/08"
          ],
          [
           -32.51,
           "08:07:32.7",
           -179.76,
           "1988/01/13"
          ],
          [
           -32.54,
           "11:47:44.5",
           -179.87,
           "1988/01/13"
          ],
          [
           -32.32,
           "22:16:51.0",
           -179.68,
           "1988/01/13"
          ],
          [
           -32.43,
           "13:51:34.7",
           -179.59,
           "1988/01/17"
          ],
          [
           -32.32,
           "09:53:38.0",
           -179.71,
           "1988/01/18"
          ],
          [
           -32.8,
           "00:44:14.5",
           -178.98,
           "1988/03/12"
          ],
          [
           -30.82,
           "04:13:38.1",
           -178.01,
           "1988/04/23"
          ],
          [
           -33.35,
           "06:24:23.1",
           -179.33,
           "1988/06/25"
          ],
          [
           -33.83,
           "17:16:48.7",
           -179.83,
           "1988/08/04"
          ],
          [
           -31.62,
           "14:44:21.9",
           -179.59,
           "1988/09/20"
          ],
          [
           -31.46,
           "05:10:37.8",
           -179.77,
           "1988/11/16"
          ],
          [
           -30.58,
           "04:17:34.2",
           -177.99,
           "1989/03/15"
          ],
          [
           -30.21,
           "09:33:59.8",
           -178.06,
           "1989/03/16"
          ],
          [
           -31.42,
           "07:03:59.3",
           -177.81,
           "1989/04/19"
          ],
          [
           -30.36,
           "16:01:50.1",
           -178.36,
           "1989/05/20"
          ],
          [
           -31.17,
           "04:03:42.5",
           -177.84,
           "1989/05/21"
          ],
          [
           -31.94,
           "22:16:13.3",
           -178.19,
           "1989/07/25"
          ],
          [
           -30.18,
           "13:32:01.6",
           -178.01,
           "1989/09/07"
          ],
          [
           -30.15,
           "08:25:40.1",
           -177.83,
           "1989/09/08"
          ],
          [
           -31.68,
           "07:36:33.1",
           -178.11,
           "1990/01/16"
          ],
          [
           -31.71,
           "07:56:33.4",
           -178.01,
           "1990/01/16"
          ],
          [
           -31.66,
           "10:52:08.3",
           -178.09,
           "1990/01/16"
          ],
          [
           -30.08,
           "05:42:36.1",
           -177.64,
           "1990/01/18"
          ],
          [
           -30.0,
           "12:45:26.0",
           -177.71,
           "1990/01/18"
          ],
          [
           -31.55,
           "08:25:34.1",
           -178.12,
           "1990/01/22"
          ],
          [
           -31.28,
           "06:29:40.2",
           -178.0,
           "1990/01/25"
          ],
          [
           -30.11,
           "21:58:42.4",
           -177.91,
           "1990/02/11"
          ],
          [
           -30.65,
           "13:10:20.0",
           -177.75,
           "1990/04/11"
          ],
          [
           -31.83,
           "21:33:30.8",
           -178.05,
           "1990/05/15"
          ],
          [
           -30.44,
           "18:24:11.9",
           -177.79,
           "1990/07/10"
          ],
          [
           -31.09,
           "11:34:45.6",
           -178.5,
           "1990/09/07"
          ],
          [
           -30.37,
           "21:23:20.2",
           -177.74,
           "1991/01/26"
          ],
          [
           -30.63,
           "06:21:34.8",
           -177.93,
           "1991/04/02"
          ],
          [
           -30.98,
           "13:25:03.2",
           -178.25,
           "1991/10/25"
          ],
          [
           -30.12,
           "06:36:44.7",
           -177.99,
           "1991/12/15"
          ],
          [
           -31.89,
           "01:59:38.5",
           -178.93,
           "1992/03/28"
          ],
          [
           -30.15,
           "06:09:42.4",
           -177.66,
           "1992/03/30"
          ],
          [
           -30.75,
           "10:50:46.4",
           -177.6,
           "1992/10/02"
          ],
          [
           -31.17,
           "14:56:17.9",
           -178.42,
           "1992/10/30"
          ],
          [
           -31.93,
           "12:02:14.2",
           -178.05,
           "1993/01/07"
          ],
          [
           -31.92,
           "12:06:44.7",
           -178.09,
           "1993/01/07"
          ],
          [
           -32.05,
           "16:46:19.5",
           -177.98,
           "1993/01/07"
          ],
          [
           -32.05,
           "11:15:55.6",
           -178.2,
           "1993/01/09"
          ],
          [
           -31.55,
           "15:34:45.4",
           -178.67,
           "1993/05/15"
          ],
          [
           -32.81,
           "21:43:08.4",
           -177.83,
           "1993/10/18"
          ],
          [
           -30.34,
           "02:21:54.6",
           -178.15,
           "1994/06/18"
          ],
          [
           -31.96,
           "14:19:56.1",
           -178.28,
           "1995/01/20"
          ],
          [
           -32.96,
           "13:58:27.6",
           -178.61,
           "1995/04/29"
          ],
          [
           -31.86,
           "02:15:41.5",
           -178.58,
           "1995/06/04"
          ],
          [
           -32.76,
           "21:39:36.9",
           -178.77,
           "1995/08/02"
          ],
          [
           -32.77,
           "06:38:33.2",
           -178.44,
           "1995/08/04"
          ],
          [
           -33.15,
           "06:19:11.5",
           -178.49,
           "1996/01/31"
          ],
          [
           -32.51,
           "23:34:52.8",
           -179.53,
           "1996/02/04"
          ],
          [
           -30.41,
           "04:38:01.0",
           -177.81,
           "1996/03/09"
          ],
          [
           -32.61,
           "04:36:03.7",
           -179.38,
           "1996/05/09"
          ],
          [
           -32.65,
           "10:31:58.4",
           -178.53,
           "1996/09/07"
          ],
          [
           -30.66,
           "23:26:36.2",
           -178.19,
           "1996/11/17"
          ],
          [
           -34.38,
           "03:05:13.4",
           -179.61,
           "1996/12/31"
          ],
          [
           -33.13,
           "14:34:09.3",
           -178.94,
           "1997/04/01"
          ],
          [
           -33.44,
           "19:13:11.5",
           -179.46,
           "1997/04/13"
          ],
          [
           -31.24,
           "06:55:52.3",
           -178.24,
           "1997/05/11"
          ],
          [
           -30.43,
           "04:58:34.2",
           -177.41,
           "1997/05/18"
          ],
          [
           -32.9,
           "15:40:22.7",
           -178.54,
           "1997/06/16"
          ],
          [
           -33.12,
           "04:59:27.8",
           -178.48,
           "1997/06/17"
          ],
          [
           -32.85,
           "19:31:54.6",
           -178.34,
           "1997/06/18"
          ],
          [
           -32.99,
           "03:02:41.9",
           -178.66,
           "1997/06/19"
          ],
          [
           -32.33,
           "12:26:32.6",
           -178.0,
           "1997/06/30"
          ],
          [
           -32.67,
           "02:37:48.5",
           -179.07,
           "1998/01/16"
          ],
          [
           -31.32,
           "01:20:12.1",
           -179.49,
           "1998/04/26"
          ],
          [
           -33.54,
           "18:05:48.0",
           -178.17,
           "1998/05/04"
          ],
          [
           -31.65,
           "14:27:12.7",
           -178.59,
           "1998/05/23"
          ],
          [
           -32.18,
           "16:37:34.5",
           -178.9,
           "1998/06/20"
          ],
          [
           -33.84,
           "14:17:51.2",
           -179.19,
           "1998/07/07"
          ],
          [
           -34.02,
           "03:34:12.7",
           179.51,
           "1998/07/14"
          ],
          [
           -30.39,
           "00:05:32.9",
           -177.61,
           "1998/11/08"
          ],
          [
           -34.15,
           "05:46:36.3",
           179.78,
           "1998/12/08"
          ],
          [
           -33.05,
           "17:45:34.8",
           -179.32,
           "1998/12/25"
          ],
          [
           -30.68,
           "15:19:31.9",
           -178.36,
           "1999/04/16"
          ],
          [
           -32.79,
           "09:05:08.3",
           -179.37,
           "1999/05/06"
          ],
          [
           -34.39,
           "00:15:08.6",
           -179.19,
           "1999/05/08"
          ],
          [
           -34.23,
           "09:41:39.6",
           -178.9,
           "1999/05/12"
          ],
          [
           -34.42,
           "10:56:53.3",
           -178.74,
           "1999/07/03"
          ],
          [
           -30.25,
           "11:04:50.0",
           -178.13,
           "1999/07/08"
          ],
          [
           -32.92,
           "03:35:36.2",
           -178.47,
           "1999/09/05"
          ],
          [
           -31.49,
           "15:47:18.3",
           -178.6,
           "1999/12/27"
          ],
          [
           -30.35,
           "19:15:36.9",
           -178.05,
           "1999/12/28"
          ],
          [
           -30.24,
           "15:00:40.8",
           -178.13,
           "2000/01/16"
          ],
          [
           -30.33,
           "19:54:13.2",
           -178.98,
           "2000/03/11"
          ],
          [
           -30.34,
           "16:08:40.9",
           -178.97,
           "2000/03/16"
          ],
          [
           -30.76,
           "03:29:49.5",
           -178.35,
           "2000/06/11"
          ],
          [
           -30.75,
           "05:14:15.8",
           -178.04,
           "2000/10/09"
          ],
          [
           -30.53,
           "10:32:58.5",
           -178.33,
           "2000/10/17"
          ],
          [
           -30.47,
           "22:57:03.2",
           -178.13,
           "2000/12/01"
          ],
          [
           -30.13,
           "21:07:20.1",
           -178.02,
           "2001/01/24"
          ],
          [
           -30.72,
           "23:52:24.1",
           -178.26,
           "2001/02/23"
          ],
          [
           -31.33,
           "18:28:07.4",
           179.84,
           "2001/03/27"
          ],
          [
           -30.36,
           "21:42:21.2",
           -178.06,
           "2001/04/30"
          ],
          [
           -30.01,
           "23:04:39.5",
           -177.86,
           "2001/07/20"
          ],
          [
           -30.34,
           "20:30:04.6",
           -179.23,
           "2001/07/21"
          ],
          [
           -30.66,
           "03:09:02.3",
           -178.07,
           "2001/08/09"
          ],
          [
           -34.81,
           "00:31:04.5",
           -179.32,
           "2001/08/14"
          ],
          [
           -30.17,
           "02:31:23.0",
           -177.55,
           "2001/10/03"
          ],
          [
           -33.17,
           "02:26:46.9",
           -178.77,
           "2001/11/27"
          ],
          [
           -33.0,
           "00:48:32.7",
           -178.67,
           "2001/11/28"
          ],
          [
           -33.18,
           "14:13:05.8",
           -178.48,
           "2001/11/30"
          ],
          [
           -33.23,
           "20:24:01.3",
           -178.47,
           "2001/11/30"
          ],
          [
           -33.11,
           "21:08:22.5",
           -178.61,
           "2001/11/30"
          ],
          [
           -30.32,
           "04:22:56.6",
           -178.18,
           "2001/12/25"
          ],
          [
           -30.22,
           "23:00:46.2",
           -178.09,
           "2001/12/25"
          ],
          [
           -30.25,
           "03:35:30.8",
           -177.86,
           "2001/12/26"
          ],
          [
           -33.19,
           "09:55:04.3",
           -179.39,
           "2002/03/01"
          ],
          [
           -30.77,
           "14:13:55.0",
           -177.37,
           "2002/08/13"
          ],
          [
           -31.28,
           "16:49:00.8",
           -178.33,
           "2002/08/18"
          ],
          [
           -30.54,
           "17:52:41.5",
           -177.78,
           "2002/08/23"
          ],
          [
           -30.97,
           "19:15:13.1",
           -179.82,
           "2002/10/23"
          ],
          [
           -33.9,
           "02:38:32.6",
           -178.79,
           "2002/10/28"
          ],
          [
           -34.87,
           "02:48:11.6",
           -179.51,
           "2003/02/16"
          ],
          [
           -34.8,
           "22:24:23.4",
           -179.76,
           "2003/02/16"
          ],
          [
           -33.35,
           "16:54:58.0",
           -179.25,
           "2003/03/09"
          ],
          [
           -31.79,
           "15:48:34.1",
           -178.87,
           "2003/05/01"
          ],
          [
           -30.5,
           "14:49:00.2",
           -177.68,
           "2003/05/10"
          ],
          [
           -33.46,
           "04:31:05.7",
           -179.54,
           "2003/05/27"
          ],
          [
           -33.64,
           "06:15:04.3",
           -179.58,
           "2003/06/03"
          ],
          [
           -31.26,
           "20:58:07.6",
           -178.34,
           "2003/06/19"
          ],
          [
           -30.74,
           "01:28:52.0",
           -178.19,
           "2003/08/03"
          ],
          [
           -32.93,
           "01:13:28.3",
           -179.21,
           "2003/08/19"
          ],
          [
           -33.11,
           "17:34:56.1",
           -179.22,
           "2003/08/26"
          ],
          [
           -30.9,
           "22:36:34.5",
           -178.87,
           "2003/08/29"
          ],
          [
           -30.75,
           "06:15:41.7",
           -178.24,
           "2003/08/30"
          ],
          [
           -30.42,
           "20:52:37.0",
           -177.49,
           "2003/09/29"
          ],
          [
           -30.25,
           "21:39:14.4",
           -177.49,
           "2003/09/30"
          ],
          [
           -30.53,
           "01:05:21.3",
           -177.21,
           "2003/10/02"
          ],
          [
           -30.58,
           "01:54:13.5",
           -177.3,
           "2003/10/02"
          ],
          [
           -30.28,
           "00:53:14.6",
           -177.36,
           "2003/10/03"
          ],
          [
           -30.02,
           "06:35:46.9",
           -177.34,
           "2003/10/15"
          ],
          [
           -30.54,
           "10:13:06.7",
           -179.11,
           "2003/11/15"
          ],
          [
           -32.01,
           "20:36:40.8",
           -178.81,
           "2004/01/18"
          ],
          [
           -31.66,
           "11:41:14.4",
           179.7,
           "2004/02/01"
          ],
          [
           -30.21,
           "23:12:44.6",
           -177.95,
           "2004/02/01"
          ],
          [
           -30.24,
           "17:55:01.2",
           -176.68,
           "2004/02/16"
          ],
          [
           -30.42,
           "06:33:33.5",
           -177.76,
           "2004/02/25"
          ],
          [
           -30.42,
           "15:59:03.5",
           -177.72,
           "2004/02/27"
          ],
          [
           -32.14,
           "12:33:42.7",
           -178.42,
           "2004/03/04"
          ],
          [
           -32.4,
           "17:48:42.3",
           -178.59,
           "2004/03/04"
          ],
          [
           -32.54,
           "01:07:32.4",
           -178.6,
           "2004/03/07"
          ],
          [
           -32.38,
           "11:08:01.3",
           -178.19,
           "2004/03/07"
          ],
          [
           -32.4,
           "11:19:52.5",
           -178.1,
           "2004/03/07"
          ],
          [
           -32.53,
           "15:04:51.1",
           -178.3,
           "2004/03/07"
          ],
          [
           -32.71,
           "05:34:38.3",
           -178.0,
           "2004/03/08"
          ],
          [
           -32.56,
           "22:07:13.2",
           -177.97,
           "2004/03/09"
          ],
          [
           -32.38,
           "02:04:19.6",
           -178.13,
           "2004/03/10"
          ],
          [
           -32.34,
           "03:48:36.5",
           -178.12,
           "2004/03/10"
          ],
          [
           -32.28,
           "06:52:37.7",
           -178.1,
           "2004/03/10"
          ],
          [
           -32.82,
           "08:19:18.4",
           -177.79,
           "2004/03/10"
          ],
          [
           -32.32,
           "01:31:24.2",
           -178.04,
           "2004/03/11"
          ],
          [
           -32.31,
           "02:16:00.8",
           -178.06,
           "2004/03/11"
          ],
          [
           -32.28,
           "15:50:34.5",
           -178.37,
           "2004/03/14"
          ],
          [
           -32.22,
           "06:09:22.8",
           -177.88,
           "2004/03/16"
          ],
          [
           -32.04,
           "06:11:30.1",
           -177.96,
           "2004/03/16"
          ],
          [
           -32.1,
           "13:15:48.9",
           -178.14,
           "2004/03/17"
          ],
          [
           -30.32,
           "13:37:42.0",
           -178.08,
           "2004/03/17"
          ],
          [
           -33.08,
           "14:02:05.9",
           -179.09,
           "2004/04/14"
          ],
          [
           -30.29,
           "17:26:13.1",
           -177.71,
           "2004/04/25"
          ],
          [
           -30.12,
           "17:18:55.4",
           -177.55,
           "2004/05/13"
          ],
          [
           -32.22,
           "15:59:49.2",
           -178.1,
           "2004/05/21"
          ],
          [
           -32.61,
           "19:10:10.5",
           -178.25,
           "2004/05/24"
          ],
          [
           -32.67,
           "22:24:53.3",
           -178.16,
           "2004/05/26"
          ],
          [
           -30.48,
           "22:39:29.5",
           -177.88,
           "2004/06/02"
          ],
          [
           -30.26,
           "20:33:06.2",
           -178.7,
           "2004/06/10"
          ],
          [
           -34.24,
           "23:16:12.7",
           -179.6,
           "2004/06/28"
          ],
          [
           -34.13,
           "00:38:46.4",
           -179.39,
           "2004/06/29"
          ],
          [
           -32.94,
           "20:36:55.6",
           -179.4,
           "2004/07/08"
          ],
          [
           -32.35,
           "18:48:38.4",
           -179.61,
           "2004/07/20"
          ],
          [
           -32.36,
           "03:08:18.2",
           -179.57,
           "2004/07/22"
          ],
          [
           -32.97,
           "22:17:06.9",
           -178.46,
           "2004/07/23"
          ],
          [
           -33.87,
           "23:13:24.2",
           -179.72,
           "2004/07/28"
          ],
          [
           -33.55,
           "01:25:57.6",
           -179.34,
           "2004/08/21"
          ],
          [
           -31.1,
           "11:33:24.4",
           -178.97,
           "2004/09/27"
          ],
          [
           -30.13,
           "18:48:21.0",
           -177.86,
           "2004/09/30"
          ],
          [
           -32.85,
           "10:36:04.2",
           -178.59,
           "2004/11/01"
          ],
          [
           -32.94,
           "11:37:58.5",
           -178.41,
           "2004/11/01"
          ],
          [
           -32.74,
           "14:02:39.5",
           -178.66,
           "2004/11/01"
          ],
          [
           -30.96,
           "10:32:51.0",
           -178.85,
           "2004/11/02"
          ],
          [
           -30.04,
           "10:43:50.8",
           -177.85,
           "2004/11/17"
          ],
          [
           -32.26,
           "02:13:06.3",
           -178.19,
           "2004/11/18"
          ],
          [
           -34.03,
           "01:25:19.2",
           179.7,
           "2004/11/30"
          ],
          [
           -30.48,
           "00:48:06.4",
           -177.62,
           "2004/12/07"
          ],
          [
           -30.94,
           "05:27:33.0",
           -177.65,
           "2005/01/07"
          ],
          [
           -32.59,
           "13:58:13.1",
           -178.79,
           "2005/01/20"
          ],
          [
           -30.95,
           "20:20:21.2",
           -178.13,
           "2005/01/20"
          ],
          [
           -32.78,
           "20:48:59.8",
           -178.76,
           "2005/01/21"
          ],
          [
           -31.61,
           "11:27:43.2",
           -177.93,
           "2005/01/22"
          ],
          [
           -31.56,
           "12:30:18.8",
           -177.76,
           "2005/01/22"
          ],
          [
           -31.41,
           "09:59:07.1",
           -177.74,
           "2005/02/08"
          ],
          [
           -34.27,
           "06:20:22.7",
           -178.05,
           "2005/02/17"
          ],
          [
           -30.12,
           "00:04:56.0",
           -176.83,
           "2005/02/21"
          ],
          [
           -30.34,
           "08:29:57.8",
           -177.72,
           "2005/02/28"
          ],
          [
           -30.0,
           "12:31:45.3",
           -176.98,
           "2005/03/01"
          ],
          [
           -32.88,
           "11:54:36.1",
           -179.15,
           "2005/03/03"
          ],
          [
           -32.76,
           "11:43:49.9",
           -178.59,
           "2005/04/24"
          ],
          [
           -32.61,
           "04:33:22.6",
           -178.36,
           "2005/04/27"
          ],
          [
           -33.59,
           "13:41:57.6",
           -178.7,
           "2005/05/09"
          ],
          [
           -32.8,
           "09:59:35.3",
           -178.71,
           "2005/05/16"
          ],
          [
           -30.11,
           "21:44:27.3",
           -178.01,
           "2005/05/29"
          ],
          [
           -32.76,
           "13:56:21.9",
           -179.14,
           "2005/06/01"
          ],
          [
           -32.75,
           "17:11:20.2",
           -179.18,
           "2005/06/01"
          ],
          [
           -30.13,
           "03:22:33.4",
           -177.96,
           "2005/06/10"
          ],
          [
           -32.76,
           "13:45:24.5",
           -179.22,
           "2005/07/15"
          ],
          [
           -30.77,
           "21:47:26.6",
           -177.53,
           "2005/07/19"
          ],
          [
           -30.25,
           "08:51:43.6",
           -178.07,
           "2005/07/23"
          ],
          [
           -32.73,
           "12:18:21.9",
           -178.39,
           "2005/07/23"
          ],
          [
           -34.31,
           "01:40:20.5",
           -179.57,
           "2005/07/29"
          ],
          [
           -30.2,
           "09:40:22.1",
           -177.86,
           "2005/08/17"
          ],
          [
           -32.86,
           "08:05:11.9",
           -179.98,
           "2005/10/02"
          ],
          [
           -34.66,
           "08:27:36.1",
           179.43,
           "2005/10/14"
          ],
          [
           -30.73,
           "19:15:09.3",
           -177.33,
           "2005/10/25"
          ],
          [
           -33.3,
           "07:25:56.2",
           -178.51,
           "2005/10/27"
          ],
          [
           -33.44,
           "21:04:56.3",
           -178.37,
           "2005/10/27"
          ],
          [
           -30.39,
           "03:09:18.1",
           -178.17,
           "2005/11/02"
          ],
          [
           -30.32,
           "00:22:28.1",
           -177.97,
           "2005/11/09"
          ],
          [
           -32.16,
           "06:16:54.4",
           -178.82,
           "2005/11/12"
          ],
          [
           -31.44,
           "02:34:35.3",
           -179.72,
           "2005/11/13"
          ],
          [
           -34.35,
           "11:59:04.6",
           -179.68,
           "2005/11/15"
          ],
          [
           -30.01,
           "18:09:38.7",
           -177.93,
           "2005/11/19"
          ],
          [
           -32.65,
           "05:48:51.7",
           -179.24,
           "2005/11/25"
          ],
          [
           -33.69,
           "04:32:51.7",
           -178.59,
           "2005/12/04"
          ],
          [
           -30.02,
           "05:00:15.1",
           -177.38,
           "2005/12/08"
          ],
          [
           -30.14,
           "05:32:08.5",
           -177.72,
           "2005/12/08"
          ],
          [
           -30.02,
           "20:26:40.7",
           -177.09,
           "2005/12/11"
          ],
          [
           -32.98,
           "19:35:45.2",
           -179.17,
           "2005/12/16"
          ],
          [
           -30.69,
           "01:16:16.0",
           -177.79,
           "2006/01/26"
          ],
          [
           -30.44,
           "06:32:16.6",
           -177.91,
           "2006/01/26"
          ],
          [
           -33.7,
           "01:17:21.8",
           -178.87,
           "2006/02/14"
          ],
          [
           -33.1,
           "18:55:14.3",
           -178.31,
           "2006/02/19"
          ],
          [
           -32.65,
           "18:27:30.0",
           -178.36,
           "2006/02/20"
          ],
          [
           -30.12,
           "03:25:26.8",
           -177.89,
           "2006/03/23"
          ],
          [
           -32.55,
           "09:21:57.5",
           -178.02,
           "2006/05/17"
          ],
          [
           -31.91,
           "13:52:36.1",
           -179.23,
           "2006/07/04"
          ],
          [
           -31.02,
           "08:57:42.7",
           -179.41,
           "2006/07/15"
          ],
          [
           -33.12,
           "17:21:34.4",
           -179.52,
           "2006/08/09"
          ],
          [
           -33.68,
           "14:44:46.4",
           -179.02,
           "2006/08/15"
          ],
          [
           -32.53,
           "04:37:13.9",
           -178.83,
           "2006/09/01"
          ],
          [
           -33.03,
           "06:35:00.5",
           -178.66,
           "2006/09/01"
          ],
          [
           -33.35,
           "01:43:29.1",
           -179.1,
           "2006/09/13"
          ],
          [
           -34.31,
           "04:34:00.4",
           -179.19,
           "2006/10/02"
          ],
          [
           -32.06,
           "03:13:56.3",
           -178.54,
           "2006/10/31"
          ],
          [
           -31.48,
           "19:15:35.0",
           -179.04,
           "2006/11/24"
          ],
          [
           -32.01,
           "10:23:33.4",
           -177.5,
           "2007/02/15"
          ],
          [
           -32.06,
           "10:27:29.7",
           -177.53,
           "2007/02/15"
          ],
          [
           -30.31,
           "01:10:15.1",
           -177.75,
           "2007/03/05"
          ],
          [
           -30.65,
           "01:15:49.2",
           -177.56,
           "2007/03/05"
          ],
          [
           -33.5,
           "09:25:49.2",
           -178.27,
           "2007/03/20"
          ],
          [
           -33.4,
           "10:14:19.6",
           -178.55,
           "2007/03/20"
          ],
          [
           -33.12,
           "02:58:07.8",
           -178.51,
           "2007/03/31"
          ],
          [
           -31.84,
           "03:16:05.2",
           179.76,
           "2007/04/17"
          ],
          [
           -33.83,
           "15:23:00.6",
           -178.9,
           "2007/06/01"
          ],
          [
           -34.31,
           "15:58:50.7",
           -178.5,
           "2007/07/06"
          ],
          [
           -31.32,
           "20:38:24.2",
           -179.82,
           "2007/08/05"
          ],
          [
           -32.5,
           "10:11:30.2",
           179.73,
           "2007/08/10"
          ],
          [
           -30.55,
           "00:26:52.6",
           -177.41,
           "2007/08/11"
          ],
          [
           -33.91,
           "13:30:41.6",
           -178.69,
           "2007/08/19"
          ],
          [
           -31.68,
           "16:44:35.8",
           -178.02,
           "2007/08/19"
          ],
          [
           -33.08,
           "09:41:57.2",
           -179.34,
           "2007/09/04"
          ],
          [
           -32.79,
           "13:09:36.1",
           -178.41,
           "2007/10/08"
          ],
          [
           -33.21,
           "14:43:09.6",
           -178.22,
           "2007/10/12"
          ],
          [
           -33.03,
           "08:41:45.1",
           -178.32,
           "2007/10/16"
          ],
          [
           -33.05,
           "22:06:47.9",
           -178.22,
           "2007/10/31"
          ],
          [
           -33.75,
           "09:09:51.5",
           -179.4,
           "2007/11/07"
          ],
          [
           -33.09,
           "08:09:12.5",
           -179.19,
           "2007/11/21"
          ],
          [
           -31.68,
           "13:41:21.2",
           -177.95,
           "2007/11/28"
          ],
          [
           -30.4,
           "19:16:06.7",
           -177.61,
           "2008/01/07"
          ],
          [
           -34.62,
           "04:54:27.7",
           -178.97,
           "2008/02/27"
          ],
          [
           -34.99,
           "05:27:41.3",
           -179.23,
           "2008/02/27"
          ],
          [
           -35.61,
           "21:54:57.2",
           -179.52,
           "2008/03/01"
          ],
          [
           -32.54,
           "11:06:51.0",
           -178.36,
           "2008/05/16"
          ],
          [
           -33.68,
           "02:23:15.6",
           179.39,
           "2008/05/17"
          ],
          [
           -30.22,
           "19:24:58.9",
           -177.66,
           "2008/05/19"
          ],
          [
           -33.76,
           "18:53:11.3",
           -178.64,
           "2008/06/05"
          ],
          [
           -31.72,
           "14:30:10.3",
           -178.52,
           "2008/06/11"
          ],
          [
           -32.72,
           "21:26:46.5",
           -179.92,
           "2008/07/04"
          ],
          [
           -31.13,
           "17:09:19.1",
           -178.51,
           "2008/07/16"
          ],
          [
           -33.32,
           "03:10:04.9",
           -178.37,
           "2008/08/02"
          ],
          [
           -33.29,
           "05:23:45.3",
           -179.38,
           "2008/08/24"
          ],
          [
           -31.38,
           "18:50:21.4",
           179.97,
           "2008/09/21"
          ],
          [
           -30.78,
           "13:03:08.8",
           -178.13,
           "2008/10/02"
          ],
          [
           -30.43,
           "14:50:30.7",
           -177.25,
           "2008/10/04"
          ],
          [
           -30.61,
           "10:44:60.0",
           -176.93,
           "2008/10/05"
          ],
          [
           -31.16,
           "14:09:49.3",
           -177.57,
           "2008/10/05"
          ],
          [
           -31.83,
           "03:52:24.0",
           -177.28,
           "2008/10/22"
          ],
          [
           -31.98,
           "09:52:02.5",
           -179.3,
           "2008/11/10"
          ],
          [
           -30.03,
           "15:49:56.9",
           -177.76,
           "2008/12/07"
          ],
          [
           -31.07,
           "11:55:29.6",
           -176.81,
           "2008/12/12"
          ],
          [
           -31.05,
           "06:10:33.3",
           -177.79,
           "2008/12/20"
          ],
          [
           -32.32,
           "08:40:41.9",
           -179.89,
           "2009/01/07"
          ],
          [
           -30.22,
           "21:27:58.1",
           -177.77,
           "2009/01/23"
          ],
          [
           -30.71,
           "02:17:50.0",
           -178.2,
           "2009/02/13"
          ],
          [
           -35.04,
           "19:11:54.8",
           -178.93,
           "2009/03/01"
          ],
          [
           -30.28,
           "18:08:30.3",
           -177.77,
           "2009/03/15"
          ],
          [
           -32.99,
           "16:23:52.2",
           179.55,
           "2009/03/18"
          ],
          [
           -31.4,
           "14:37:53.8",
           -178.56,
           "2009/04/03"
          ],
          [
           -30.28,
           "12:49:01.8",
           -177.9,
           "2009/04/14"
          ],
          [
           -31.67,
           "05:37:35.1",
           -177.61,
           "2009/04/24"
          ],
          [
           -31.22,
           "12:43:52.9",
           -177.75,
           "2009/05/20"
          ],
          [
           -31.41,
           "02:00:13.3",
           -177.62,
           "2009/05/24"
          ],
          [
           -31.36,
           "03:21:49.5",
           -177.75,
           "2009/05/24"
          ],
          [
           -32.34,
           "04:14:53.2",
           -178.24,
           "2009/06/30"
          ],
          [
           -32.32,
           "14:23:18.8",
           -179.1,
           "2009/08/10"
          ],
          [
           -33.33,
           "19:17:07.9",
           -179.27,
           "2009/09/22"
          ],
          [
           -30.99,
           "14:07:02.0",
           -177.54,
           "2009/09/25"
          ],
          [
           -33.17,
           "21:47:16.2",
           179.83,
           "2009/10/11"
          ],
          [
           -33.37,
           "05:52:54.4",
           -178.67,
           "2009/10/15"
          ],
          [
           -31.59,
           "12:36:38.5",
           -177.84,
           "2009/12/16"
          ],
          [
           -31.71,
           "10:38:36.6",
           -177.51,
           "2010/01/15"
          ],
          [
           -32.94,
           "14:08:27.5",
           179.82,
           "2010/01/25"
          ],
          [
           -33.89,
           "06:33:30.3",
           -178.74,
           "2010/03/23"
          ],
          [
           -31.25,
           "01:35:38.0",
           -176.98,
           "2010/04/03"
          ],
          [
           -31.2,
           "13:40:57.5",
           -177.85,
           "2010/04/15"
          ],
          [
           -32.93,
           "02:20:01.9",
           -179.35,
           "2010/06/06"
          ],
          [
           -30.81,
           "03:00:05.5",
           -178.27,
           "2010/07/11"
          ],
          [
           -30.04,
           "10:43:57.5",
           -177.23,
           "2010/08/17"
          ],
          [
           -30.82,
           "09:54:30.7",
           -178.04,
           "2010/09/06"
          ],
          [
           -30.13,
           "00:06:01.6",
           -177.98,
           "2010/10/04"
          ],
          [
           -33.4,
           "11:50:31.2",
           -178.73,
           "2010/10/21"
          ],
          [
           -30.12,
           "21:16:41.5",
           -177.19,
           "2010/11/12"
          ],
          [
           -30.99,
           "11:09:24.9",
           -177.78,
           "2010/12/08"
          ],
          [
           -32.34,
           "01:16:18.8",
           -179.57,
           "2010/12/14"
          ],
          [
           -30.36,
           "02:10:23.6",
           -178.02,
           "2010/12/16"
          ],
          [
           -31.83,
           "23:47:03.9",
           -178.13,
           "2010/12/30"
          ],
          [
           -30.06,
           "13:18:10.2",
           -177.95,
           "2011/01/25"
          ],
          [
           -31.09,
           "21:23:28.6",
           -177.66,
           "2011/02/09"
          ],
          [
           -31.24,
           "03:03:04.3",
           -177.81,
           "2011/02/12"
          ],
          [
           -31.09,
           "23:45:00.4",
           -178.67,
           "2011/03/06"
          ],
          [
           -32.4,
           "23:01:17.0",
           -179.56,
           "2011/03/23"
          ],
          [
           -31.43,
           "11:25:51.2",
           -177.1,
           "2011/04/06"
          ],
          [
           -30.82,
           "21:17:02.4",
           -178.17,
           "2011/05/21"
          ],
          [
           -31.96,
           "19:21:42.3",
           -177.94,
           "2011/06/01"
          ],
          [
           -30.42,
           "20:16:28.3",
           -178.05,
           "2011/06/09"
          ],
          [
           -30.53,
           "11:47:25.0",
           -177.71,
           "2011/06/21"
          ],
          [
           -33.08,
           "13:39:10.3",
           -178.9,
           "2011/06/27"
          ],
          [
           -33.73,
           "13:47:02.4",
           -178.67,
           "2011/07/07"
          ],
          [
           -33.7,
           "14:53:52.5",
           -178.88,
           "2011/07/07"
          ],
          [
           -32.52,
           "06:57:24.6",
           -178.35,
           "2011/07/10"
          ],
          [
           -32.69,
           "12:07:57.9",
           -177.98,
           "2011/07/10"
          ],
          [
           -30.72,
           "02:20:35.7",
           -177.82,
           "2011/07/19"
          ],
          [
           -31.27,
           "13:29:36.5",
           -178.29,
           "2011/07/31"
          ],
          [
           -30.04,
           "19:23:09.3",
           -176.67,
           "2011/08/03"
          ],
          [
           -30.54,
           "07:13:24.5",
           -178.35,
           "2011/08/10"
          ],
          [
           -30.55,
           "07:14:47.6",
           -177.93,
           "2011/08/13"
          ],
          [
           -32.57,
           "12:14:40.2",
           -178.93,
           "2011/10/07"
          ],
          [
           -31.66,
           "01:21:40.6",
           -179.78,
           "2011/10/16"
          ],
          [
           -31.72,
           "17:35:00.0",
           -179.08,
           "2011/10/24"
          ],
          [
           -32.71,
           "01:21:53.3",
           -177.39,
           "2011/11/19"
          ],
          [
           -30.77,
           "09:12:47.4",
           -177.41,
           "2011/11/27"
          ],
          [
           -30.72,
           "14:45:20.7",
           -177.85,
           "2011/12/04"
          ],
          [
           -32.85,
           "10:18:19.9",
           -178.6,
           "2011/12/17"
          ],
          [
           -32.82,
           "17:29:58.4",
           -178.1,
           "2011/12/30"
          ],
          [
           -32.38,
           "21:37:49.6",
           -178.32,
           "2011/12/30"
          ],
          [
           -32.57,
           "21:43:19.7",
           -178.39,
           "2011/12/30"
          ],
          [
           -32.81,
           "17:49:10.1",
           -178.57,
           "2012/01/13"
          ],
          [
           -30.12,
           "15:49:46.4",
           -177.27,
           "2012/02/10"
          ],
          [
           -33.98,
           "07:50:39.9",
           -178.7,
           "2012/02/13"
          ],
          [
           -32.55,
           "10:12:07.2",
           -178.85,
           "2012/02/13"
          ],
          [
           -30.59,
           "22:35:54.8",
           -177.47,
           "2012/04/29"
          ],
          [
           -30.04,
           "20:17:43.4",
           -176.23,
           "2012/04/30"
          ],
          [
           -30.27,
           "22:13:18.6",
           -175.87,
           "2012/05/01"
          ],
          [
           -30.05,
           "06:37:41.3",
           -177.12,
           "2012/05/23"
          ],
          [
           -31.7,
           "13:48:34.7",
           -178.66,
           "2012/06/12"
          ],
          [
           -32.83,
           "23:52:53.3",
           -178.62,
           "2012/06/21"
          ],
          [
           -32.8,
           "00:02:60.0",
           -178.51,
           "2012/06/22"
          ],
          [
           -32.98,
           "05:02:06.8",
           -178.33,
           "2012/06/22"
          ],
          [
           -33.06,
           "12:12:49.6",
           -178.3,
           "2012/06/22"
          ],
          [
           -30.75,
           "14:36:34.5",
           -178.17,
           "2012/07/04"
          ],
          [
           -30.55,
           "18:15:16.1",
           -177.43,
           "2012/07/22"
          ],
          [
           -30.83,
           "19:47:14.1",
           -177.46,
           "2012/07/23"
          ],
          [
           -31.5,
           "02:39:02.4",
           -179.13,
           "2012/07/26"
          ],
          [
           -35.97,
           "09:56:22.0",
           -179.41,
           "2012/08/04"
          ],
          [
           -30.4,
           "14:36:36.6",
           -177.93,
           "2012/09/09"
          ],
          [
           -30.81,
           "15:34:09.8",
           -176.8,
           "2012/10/19"
          ],
          [
           -31.1,
           "23:41:54.1",
           -177.52,
           "2012/12/05"
          ],
          [
           -31.09,
           "12:26:29.4",
           -177.45,
           "2012/12/08"
          ],
          [
           -30.91,
           "00:53:28.8",
           -178.39,
           "2012/12/13"
          ],
          [
           -30.77,
           "12:19:18.1",
           -178.12,
           "2013/02/18"
          ],
          [
           -30.74,
           "16:32:47.1",
           -178.15,
           "2013/02/18"
          ],
          [
           -32.21,
           "00:07:39.7",
           -178.05,
           "2013/02/25"
          ],
          [
           -32.39,
           "00:13:46.2",
           -178.14,
           "2013/02/25"
          ],
          [
           -32.29,
           "08:05:31.6",
           -178.0,
           "2013/02/25"
          ],
          [
           -31.07,
           "06:49:50.8",
           -177.56,
           "2013/02/27"
          ],
          [
           -31.06,
           "07:00:31.9",
           -177.44,
           "2013/03/06"
          ],
          [
           -33.28,
           "17:36:24.4",
           -179.52,
           "2013/03/26"
          ],
          [
           -31.9,
           "06:27:47.1",
           -177.7,
           "2013/04/05"
          ],
          [
           -32.04,
           "10:00:03.0",
           -177.44,
           "2013/04/05"
          ],
          [
           -30.4,
           "11:35:22.3",
           -177.65,
           "2013/05/22"
          ],
          [
           -30.61,
           "15:09:03.0",
           -178.11,
           "2013/07/03"
          ],
          [
           -32.23,
           "20:13:37.3",
           179.9,
           "2013/07/03"
          ],
          [
           -31.81,
           "18:22:32.5",
           -178.71,
           "2013/07/09"
          ],
          [
           -30.15,
           "14:25:39.8",
           -177.47,
           "2013/07/10"
          ],
          [
           -30.24,
           "14:44:01.8",
           -177.54,
           "2013/07/10"
          ],
          [
           -30.25,
           "21:27:03.5",
           -178.02,
           "2013/08/18"
          ],
          [
           -31.84,
           "15:47:07.0",
           -179.16,
           "2013/08/24"
          ],
          [
           -30.87,
           "08:31:55.5",
           -178.12,
           "2013/10/04"
          ],
          [
           -30.56,
           "14:35:16.9",
           -177.76,
           "2013/10/05"
          ],
          [
           -30.83,
           "00:25:46.1",
           -178.22,
           "2013/10/24"
          ],
          [
           -35.3,
           "14:23:03.6",
           -179.01,
           "2014/01/01"
          ],
          [
           -33.7,
           "18:12:02.5",
           -178.14,
           "2014/02/02"
          ],
          [
           -32.82,
           "01:41:04.5",
           -178.87,
           "2014/02/13"
          ],
          [
           -30.09,
           "01:06:04.4",
           -177.78,
           "2014/02/17"
          ],
          [
           -32.31,
           "05:18:22.6",
           -178.82,
           "2014/02/20"
          ],
          [
           -33.0,
           "05:21:14.7",
           -178.86,
           "2014/04/30"
          ],
          [
           -30.22,
           "06:39:04.5",
           -177.88,
           "2014/05/29"
          ],
          [
           -30.27,
           "22:48:14.1",
           -177.78,
           "2014/05/30"
          ],
          [
           -33.0,
           "06:31:39.0",
           -179.04,
           "2014/06/02"
          ],
          [
           -30.25,
           "22:46:43.1",
           -177.54,
           "2014/06/25"
          ],
          [
           -30.1,
           "02:30:06.2",
           -177.26,
           "2014/06/26"
          ],
          [
           -30.25,
           "19:45:07.3",
           -176.92,
           "2014/06/26"
          ],
          [
           -30.08,
           "00:10:48.2",
           -177.22,
           "2014/06/28"
          ],
          [
           -30.12,
           "11:36:04.0",
           -177.66,
           "2014/06/30"
          ],
          [
           -30.25,
           "18:11:48.9",
           -177.14,
           "2014/07/01"
          ],
          [
           -30.3,
           "18:14:52.0",
           -176.98,
           "2014/07/01"
          ],
          [
           -30.27,
           "18:19:20.9",
           -177.08,
           "2014/07/01"
          ],
          [
           -32.3,
           "01:25:32.8",
           -178.12,
           "2014/07/03"
          ],
          [
           -30.41,
           "01:18:08.8",
           -177.94,
           "2014/07/05"
          ],
          [
           -33.1,
           "14:35:40.7",
           -178.55,
           "2014/07/08"
          ],
          [
           -31.78,
           "06:15:24.9",
           179.47,
           "2014/07/19"
          ],
          [
           -30.4,
           "17:39:06.9",
           -177.21,
           "2014/08/03"
          ],
          [
           -30.4,
           "16:50:06.6",
           -177.21,
           "2014/08/04"
          ],
          [
           -33.24,
           "12:18:32.1",
           -179.49,
           "2014/10/23"
          ],
          [
           -30.04,
           "21:38:00.8",
           -177.85,
           "2014/11/10"
          ],
          [
           -30.55,
           "07:14:08.7",
           -178.1,
           "2014/12/14"
          ],
          [
           -31.46,
           "02:41:55.7",
           -177.9,
           "2015/02/02"
          ],
          [
           -31.06,
           "15:39:17.9",
           -178.35,
           "2015/02/20"
          ],
          [
           -30.3,
           "18:53:23.9",
           -177.39,
           "2015/03/11"
          ],
          [
           -31.75,
           "13:13:21.3",
           -177.87,
           "2015/03/21"
          ],
          [
           -30.2,
           "10:31:17.4",
           -178.85,
           "2015/04/03"
          ],
          [
           -30.12,
           "02:41:04.4",
           -178.47,
           "2015/04/18"
          ],
          [
           -30.66,
           "17:03:12.0",
           -178.34,
           "2015/04/22"
          ],
          [
           -31.42,
           "06:54:53.4",
           -176.83,
           "2015/04/29"
          ],
          [
           -35.43,
           "19:18:07.7",
           -178.51,
           "2015/05/13"
          ],
          [
           -35.23,
           "15:40:32.6",
           -179.52,
           "2015/05/15"
          ],
          [
           -35.34,
           "10:48:50.6",
           -179.35,
           "2015/05/19"
          ],
          [
           -35.1,
           "22:06:31.8",
           -179.28,
           "2015/06/24"
          ],
          [
           -32.13,
           "22:57:15.2",
           -177.94,
           "2015/06/25"
          ],
          [
           -32.19,
           "02:51:56.4",
           -178.29,
           "2015/06/26"
          ],
          [
           -32.23,
           "12:53:42.1",
           -177.62,
           "2015/06/28"
          ],
          [
           -32.32,
           "12:19:17.1",
           -177.82,
           "2015/06/30"
          ],
          [
           -32.31,
           "19:06:27.1",
           -176.19,
           "2015/07/02"
          ],
          [
           -31.95,
           "19:22:42.2",
           -178.03,
           "2015/07/02"
          ],
          [
           -35.31,
           "16:08:33.0",
           -179.54,
           "2015/07/04"
          ],
          [
           -32.09,
           "17:28:23.4",
           -178.04,
           "2015/07/04"
          ],
          [
           -32.02,
           "17:34:00.3",
           -178.03,
           "2015/07/04"
          ],
          [
           -32.2,
           "20:41:36.4",
           -177.87,
           "2015/07/16"
          ],
          [
           -32.32,
           "06:22:24.6",
           -177.77,
           "2015/07/17"
          ],
          [
           -32.81,
           "15:58:32.4",
           -178.29,
           "2015/08/13"
          ],
          [
           -30.65,
           "09:41:26.6",
           -178.73,
           "2015/08/24"
          ],
          [
           -31.06,
           "06:07:40.0",
           -177.65,
           "2015/08/31"
          ],
          [
           -32.77,
           "20:24:59.0",
           -178.43,
           "2015/09/07"
          ],
          [
           -32.72,
           "02:50:57.8",
           -178.47,
           "2015/09/08"
          ],
          [
           -33.12,
           "08:19:53.8",
           -178.21,
           "2015/09/08"
          ],
          [
           -32.7,
           "11:37:26.4",
           -178.37,
           "2015/09/08"
          ],
          [
           -33.1,
           "08:47:21.4",
           -178.38,
           "2015/09/11"
          ],
          [
           -33.42,
           "07:05:12.7",
           -178.53,
           "2015/09/13"
          ],
          [
           -32.97,
           "14:53:23.4",
           -178.36,
           "2015/09/14"
          ],
          [
           -32.44,
           "23:47:10.4",
           -178.41,
           "2015/09/15"
          ],
          [
           -32.92,
           "22:30:38.7",
           -178.17,
           "2015/09/24"
          ],
          [
           -32.61,
           "03:12:04.7",
           -178.03,
           "2015/09/29"
          ],
          [
           -33.03,
           "04:14:09.7",
           -178.28,
           "2015/10/03"
          ],
          [
           -35.12,
           "01:09:35.4",
           179.96,
           "2015/10/05"
          ],
          [
           -32.19,
           "17:34:50.7",
           -177.89,
           "2015/10/09"
          ],
          [
           -32.81,
           "14:19:45.1",
           -178.4,
           "2015/11/10"
          ],
          [
           -32.53,
           "03:47:31.8",
           -176.68,
           "2015/11/19"
          ],
          [
           -33.63,
           "23:02:32.0",
           -178.65,
           "2015/11/21"
          ],
          [
           -30.14,
           "01:47:08.5",
           -177.6,
           "2015/12/07"
          ],
          [
           -31.8,
           "06:58:58.0",
           -177.82,
           "2015/12/14"
          ],
          [
           -30.36,
           "21:29:38.9",
           -178.01,
           "2015/12/31"
          ],
          [
           -31.32,
           "13:43:58.0",
           -178.73,
           "2016/01/18"
          ],
          [
           -30.88,
           "08:26:21.6",
           -178.58,
           "2016/01/21"
          ],
          [
           -30.45,
           "00:07:47.9",
           -177.68,
           "2016/02/04"
          ],
          [
           -30.42,
           "00:48:14.1",
           -177.58,
           "2016/02/04"
          ],
          [
           -30.5,
           "00:58:43.8",
           -177.58,
           "2016/02/04"
          ],
          [
           -30.49,
           "08:52:15.6",
           -177.57,
           "2016/02/04"
          ],
          [
           -30.48,
           "07:44:26.9",
           -177.67,
           "2016/02/17"
          ],
          [
           -31.33,
           "05:16:19.4",
           -178.33,
           "2016/02/19"
          ],
          [
           -32.94,
           "09:26:45.4",
           -178.39,
           "2016/03/01"
          ],
          [
           -32.7,
           "16:43:59.2",
           -178.47,
           "2016/03/04"
          ],
          [
           -32.96,
           "18:45:30.1",
           -178.22,
           "2016/03/05"
          ],
          [
           -33.01,
           "11:03:07.1",
           179.69,
           "2016/03/29"
          ],
          [
           -33.71,
           "13:09:55.7",
           -178.46,
           "2016/05/26"
          ],
          [
           -30.27,
           "07:14:18.6",
           -177.98,
           "2016/05/30"
          ],
          [
           -30.32,
           "10:55:17.1",
           -177.93,
           "2016/05/30"
          ],
          [
           -30.22,
           "15:37:23.3",
           -177.95,
           "2016/06/01"
          ],
          [
           -30.02,
           "02:35:32.4",
           -177.84,
           "2016/06/06"
          ],
          [
           -30.15,
           "14:55:48.4",
           -177.84,
           "2016/06/23"
          ],
          [
           -30.06,
           "17:38:47.1",
           -177.87,
           "2016/07/04"
          ],
          [
           -32.94,
           "19:06:45.0",
           -177.87,
           "2016/07/05"
          ],
          [
           -31.83,
           "10:27:17.3",
           -177.97,
           "2016/07/18"
          ],
          [
           -31.64,
           "13:43:02.0",
           -179.79,
           "2016/08/09"
          ],
          [
           -33.61,
           "04:55:01.9",
           -178.58,
           "2016/08/19"
          ],
          [
           -32.61,
           "04:02:15.6",
           -178.01,
           "2016/09/24"
          ],
          [
           -32.4,
           "04:28:39.9",
           -177.77,
           "2016/09/25"
          ],
          [
           -32.44,
           "07:54:36.3",
           -178.22,
           "2016/09/27"
          ],
          [
           -32.6,
           "10:40:23.2",
           -178.05,
           "2016/09/27"
          ],
          [
           -30.29,
           "01:34:03.7",
           -177.65,
           "2016/09/29"
          ],
          [
           -30.5,
           "16:15:24.0",
           -177.65,
           "2016/11/02"
          ],
          [
           -33.26,
           "04:33:00.1",
           -179.01,
           "2016/11/09"
          ],
          [
           -32.97,
           "13:15:52.0",
           -178.75,
           "2016/11/24"
          ],
          [
           -31.0,
           "16:49:19.1",
           -179.9,
           "2016/12/06"
          ],
          [
           -31.73,
           "09:16:17.9",
           -176.15,
           "2016/12/14"
          ],
          [
           -33.55,
           "02:58:10.6",
           -177.86,
           "2016/12/30"
          ],
          [
           -30.58,
           "12:56:11.0",
           -177.77,
           "2016/12/30"
          ],
          [
           -30.17,
           "00:41:50.7",
           -177.79,
           "2017/01/16"
          ],
          [
           -33.06,
           "17:53:32.3",
           -177.69,
           "2017/01/21"
          ],
          [
           -30.09,
           "14:59:52.0",
           -177.45,
           "2017/01/29"
          ],
          [
           -30.2,
           "22:05:02.0",
           -177.58,
           "2017/02/04"
          ],
          [
           -31.18,
           "19:25:59.3",
           -179.89,
           "2017/03/06"
          ],
          [
           -30.52,
           "17:10:38.7",
           -177.52,
           "2017/03/11"
          ],
          [
           -30.3,
           "18:16:52.2",
           -177.48,
           "2017/03/14"
          ],
          [
           -33.12,
           "11:38:15.0",
           -179.13,
           "2017/03/19"
          ],
          [
           -34.47,
           "05:29:06.0",
           -179.8,
           "2017/05/07"
          ],
          [
           -30.52,
           "00:26:17.5",
           -178.06,
           "2017/06/15"
          ],
          [
           -30.22,
           "18:47:16.6",
           -177.71,
           "2017/06/18"
          ],
          [
           -30.44,
           "02:19:13.5",
           -177.18,
           "2017/06/21"
          ],
          [
           -30.31,
           "18:20:55.5",
           -177.66,
           "2017/06/28"
          ],
          [
           -30.23,
           "04:45:34.5",
           -177.7,
           "2017/07/05"
          ],
          [
           -33.0,
           "19:15:18.6",
           -179.17,
           "2017/08/02"
          ],
          [
           -30.28,
           "22:22:44.1",
           -177.97,
           "2017/09/17"
          ],
          [
           -30.31,
           "12:11:04.4",
           -177.95,
           "2017/09/18"
          ],
          [
           -34.05,
           "22:47:11.8",
           -178.6,
           "2017/09/28"
          ],
          [
           -31.34,
           "03:22:26.6",
           -178.14,
           "2017/10/04"
          ],
          [
           -32.99,
           "00:16:30.9",
           -178.28,
           "2017/10/07"
          ],
          [
           -32.91,
           "08:38:09.5",
           -178.04,
           "2017/10/07"
          ],
          [
           -30.45,
           "14:13:26.5",
           -177.32,
           "2017/10/07"
          ],
          [
           -30.52,
           "09:55:58.7",
           -177.32,
           "2017/10/20"
          ],
          [
           -31.7,
           "20:53:13.9",
           -177.79,
           "2017/11/14"
          ],
          [
           -30.39,
           "05:25:54.1",
           -177.92,
           "2017/11/17"
          ],
          [
           -30.56,
           "02:09:57.4",
           -178.49,
           "2017/12/08"
          ],
          [
           -30.52,
           "01:03:50.5",
           -177.89,
           "2018/01/10"
          ],
          [
           -30.02,
           "22:56:59.4",
           -177.74,
           "2018/01/17"
          ],
          [
           -30.65,
           "18:02:28.6",
           -178.14,
           "2018/03/09"
          ],
          [
           -30.17,
           "07:26:26.7",
           -177.72,
           "2018/03/22"
          ],
          [
           -30.24,
           "06:31:12.3",
           -177.74,
           "2018/03/31"
          ],
          [
           -30.06,
           "00:49:04.3",
           -177.75,
           "2018/04/04"
          ],
          [
           -34.37,
           "08:37:41.7",
           -179.02,
           "2018/04/11"
          ],
          [
           -31.83,
           "18:24:52.0",
           -178.61,
           "2018/05/17"
          ],
          [
           -30.24,
           "02:47:46.4",
           -177.68,
           "2018/05/18"
          ],
          [
           -30.96,
           "04:51:08.7",
           -179.4,
           "2018/05/18"
          ],
          [
           -30.38,
           "09:43:31.7",
           -179.01,
           "2018/05/22"
          ],
          [
           -30.23,
           "01:18:46.4",
           -176.92,
           "2018/06/11"
          ],
          [
           -32.7,
           "06:32:27.3",
           -178.28,
           "2018/06/16"
          ],
          [
           -31.01,
           "23:50:27.0",
           -178.68,
           "2018/06/19"
          ],
          [
           -32.7,
           "14:54:50.7",
           -179.9,
           "2018/06/21"
          ],
          [
           -30.57,
           "21:33:49.6",
           -178.07,
           "2018/07/07"
          ],
          [
           -30.75,
           "14:03:11.7",
           -177.93,
           "2018/07/16"
          ],
          [
           -30.06,
           "09:28:17.4",
           -177.45,
           "2018/07/28"
          ],
          [
           -32.28,
           "17:08:21.7",
           -177.21,
           "2018/08/11"
          ],
          [
           -35.04,
           "06:27:00.4",
           -179.24,
           "2018/09/13"
          ],
          [
           -30.04,
           "09:24:17.1",
           -177.73,
           "2018/09/18"
          ],
          [
           -33.11,
           "19:41:27.0",
           -179.13,
           "2018/09/25"
          ],
          [
           -30.41,
           "09:42:14.3",
           -177.47,
           "2018/12/15"
          ],
          [
           -33.48,
           "07:06:56.9",
           -177.93,
           "2019/01/23"
          ],
          [
           -30.23,
           "17:53:01.8",
           -178.02,
           "2019/01/23"
          ],
          [
           -30.58,
           "10:31:20.8",
           -178.02,
           "2019/03/03"
          ],
          [
           -31.81,
           "22:53:27.9",
           -178.0,
           "2019/03/03"
          ],
          [
           -31.93,
           "00:20:44.2",
           -178.08,
           "2019/03/07"
          ],
          [
           -32.09,
           "02:27:02.9",
           -177.98,
           "2019/03/07"
          ],
          [
           -32.22,
           "13:02:40.3",
           -178.17,
           "2019/03/07"
          ],
          [
           -32.15,
           "11:57:18.7",
           -178.13,
           "2019/03/08"
          ],
          [
           -32.23,
           "16:25:20.7",
           -178.48,
           "2019/03/09"
          ],
          [
           -32.08,
           "20:56:28.5",
           -177.9,
           "2019/03/11"
          ],
          [
           -31.76,
           "14:30:22.3",
           -177.77,
           "2019/03/18"
          ],
          [
           -31.63,
           "15:07:16.8",
           -177.6,
           "2019/03/18"
          ],
          [
           -31.97,
           "12:32:24.7",
           -178.18,
           "2019/03/19"
          ],
          [
           -31.38,
           "19:24:08.6",
           -177.77,
           "2019/03/21"
          ],
          [
           -31.85,
           "07:47:42.2",
           -177.79,
           "2019/03/23"
          ],
          [
           -31.95,
           "06:00:44.8",
           -177.75,
           "2019/03/26"
          ],
          [
           -31.64,
           "15:07:07.2",
           -177.85,
           "2019/03/26"
          ],
          [
           -32.02,
           "07:02:14.8",
           -177.97,
           "2019/04/07"
          ],
          [
           -32.34,
           "13:26:58.7",
           -179.58,
           "2019/04/16"
          ],
          [
           -32.37,
           "16:01:16.3",
           -179.58,
           "2019/04/16"
          ],
          [
           -31.79,
           "05:03:43.1",
           179.73,
           "2019/04/17"
          ],
          [
           -31.66,
           "18:21:52.6",
           -178.78,
           "2019/05/29"
          ],
          [
           -31.58,
           "23:10:25.0",
           -178.61,
           "2019/06/13"
          ],
          [
           -31.66,
           "20:58:22.1",
           -177.8,
           "2019/06/16"
          ],
          [
           -30.98,
           "22:20:18.6",
           -177.75,
           "2019/06/16"
          ],
          [
           -31.07,
           "22:28:21.2",
           -177.62,
           "2019/06/16"
          ],
          [
           -31.93,
           "23:19:58.9",
           -177.99,
           "2019/06/16"
          ],
          [
           -30.88,
           "00:11:02.0",
           -177.72,
           "2019/06/17"
          ],
          [
           -30.84,
           "06:02:04.1",
           -177.48,
           "2019/06/17"
          ],
          [
           -31.08,
           "09:57:19.2",
           -177.72,
           "2019/06/17"
          ],
          [
           -30.39,
           "12:10:03.7",
           -177.18,
           "2019/06/17"
          ],
          [
           -30.79,
           "16:53:05.0",
           -177.53,
           "2019/06/17"
          ],
          [
           -30.72,
           "01:15:58.5",
           -177.4,
           "2019/06/18"
          ],
          [
           -31.07,
           "04:23:50.2",
           -177.61,
           "2019/06/18"
          ],
          [
           -33.59,
           "07:20:21.6",
           -178.17,
           "2019/06/18"
          ],
          [
           -31.02,
           "16:05:17.4",
           -177.55,
           "2019/06/18"
          ],
          [
           -31.22,
           "17:21:48.0",
           -177.64,
           "2019/06/18"
          ],
          [
           -30.65,
           "18:12:09.6",
           -178.03,
           "2019/06/18"
          ],
          [
           -30.93,
           "23:04:34.8",
           -177.65,
           "2019/06/18"
          ],
          [
           -31.37,
           "23:24:20.3",
           -177.56,
           "2019/06/18"
          ],
          [
           -30.99,
           "23:59:06.8",
           -177.59,
           "2019/06/18"
          ],
          [
           -33.7,
           "05:24:44.1",
           -178.83,
           "2019/06/20"
          ],
          [
           -31.01,
           "21:45:06.9",
           -177.38,
           "2019/06/20"
          ],
          [
           -31.04,
           "07:27:40.1",
           -177.56,
           "2019/06/21"
          ],
          [
           -30.75,
           "22:49:25.0",
           -177.42,
           "2019/06/21"
          ],
          [
           -30.64,
           "23:00:28.0",
           -177.54,
           "2019/06/21"
          ],
          [
           -30.95,
           "06:52:12.4",
           -177.51,
           "2019/06/23"
          ],
          [
           -30.76,
           "11:34:08.9",
           -177.35,
           "2019/06/24"
          ],
          [
           -30.91,
           "18:06:30.1",
           -177.33,
           "2019/06/26"
          ],
          [
           -30.63,
           "19:56:58.7",
           -177.99,
           "2019/07/01"
          ],
          [
           -31.25,
           "04:07:17.4",
           -175.88,
           "2019/07/02"
          ],
          [
           -30.29,
           "00:10:45.2",
           -177.8,
           "2019/07/06"
          ],
          [
           -32.83,
           "17:52:21.1",
           -178.35,
           "2019/07/06"
          ],
          [
           -30.2,
           "06:09:50.9",
           -178.96,
           "2019/07/08"
          ],
          [
           -30.37,
           "03:11:47.5",
           -177.88,
           "2019/07/09"
          ],
          [
           -30.25,
           "13:11:20.0",
           -179.25,
           "2019/07/20"
          ],
          [
           -31.06,
           "22:35:35.9",
           -178.35,
           "2019/07/20"
          ],
          [
           -30.48,
           "11:40:03.2",
           -176.76,
           "2019/07/25"
          ],
          [
           -31.19,
           "14:40:09.9",
           -177.46,
           "2019/07/25"
          ],
          [
           -30.3,
           "07:27:40.8",
           -177.68,
           "2019/07/28"
          ],
          [
           -31.67,
           "19:29:24.6",
           -177.9,
           "2019/08/05"
          ],
          [
           -31.11,
           "01:45:51.4",
           -177.49,
           "2019/08/13"
          ],
          [
           -31.17,
           "06:35:01.5",
           -177.35,
           "2019/08/13"
          ],
          [
           -31.04,
           "17:25:39.4",
           -177.84,
           "2019/09/06"
          ],
          [
           -31.61,
           "01:25:18.5",
           -176.21,
           "2019/09/22"
          ],
          [
           -30.17,
           "12:05:02.5",
           -177.86,
           "2019/09/27"
          ],
          [
           -30.09,
           "14:02:05.0",
           -177.93,
           "2019/09/27"
          ],
          [
           -35.25,
           "18:32:14.4",
           -179.35,
           "2019/10/10"
          ],
          [
           -30.24,
           "21:57:36.0",
           -177.99,
           "2019/10/13"
          ],
          [
           -31.38,
           "09:21:15.3",
           -177.93,
           "2019/11/22"
          ],
          [
           -31.54,
           "13:49:05.0",
           -177.93,
           "2019/11/26"
          ],
          [
           -31.42,
           "17:12:57.9",
           -178.07,
           "2019/11/29"
          ],
          [
           -30.39,
           "22:49:16.0",
           -177.56,
           "2019/12/28"
          ],
          [
           -32.97,
           "19:28:51.9",
           -178.33,
           "2020/01/01"
          ],
          [
           -33.21,
           "20:01:27.2",
           -178.23,
           "2020/01/01"
          ],
          [
           -31.77,
           "04:07:58.3",
           -178.02,
           "2020/01/15"
          ],
          [
           -30.41,
           "19:19:31.2",
           -177.71,
           "2020/01/25"
          ],
          [
           -32.2,
           "10:20:30.6",
           -179.02,
           "2020/02/06"
          ],
          [
           -31.96,
           "20:50:57.2",
           -178.72,
           "2020/02/08"
          ],
          [
           -34.28,
           "06:35:31.6",
           -178.95,
           "2020/02/20"
          ],
          [
           -30.25,
           "01:43:35.5",
           -177.87,
           "2020/03/05"
          ],
          [
           -32.39,
           "01:01:48.4",
           -178.08,
           "2020/03/11"
          ],
          [
           -31.67,
           "11:29:08.7",
           179.64,
           "2020/04/07"
          ],
          [
           -30.65,
           "16:07:53.2",
           -177.03,
           "2020/04/09"
          ],
          [
           -30.42,
           "21:09:07.9",
           -177.66,
           "2020/04/18"
          ],
          [
           -30.36,
           "22:19:04.6",
           -177.61,
           "2020/04/18"
          ],
          [
           -30.39,
           "22:22:00.4",
           -177.66,
           "2020/04/18"
          ],
          [
           -32.05,
           "20:14:51.2",
           -178.6,
           "2020/05/29"
          ],
          [
           -33.59,
           "00:38:51.5",
           -178.57,
           "2020/06/19"
          ],
          [
           -33.35,
           "17:10:34.2",
           -178.48,
           "2020/06/19"
          ],
          [
           -33.88,
           "23:28:46.3",
           -178.12,
           "2020/06/20"
          ],
          [
           -31.24,
           "11:52:06.1",
           -177.69,
           "2020/06/21"
          ],
          [
           -33.79,
           "14:29:12.4",
           -178.14,
           "2020/06/22"
          ],
          [
           -33.18,
           "18:11:07.9",
           -178.51,
           "2020/06/22"
          ],
          [
           -33.59,
           "06:14:39.4",
           -178.49,
           "2020/06/27"
          ],
          [
           -33.37,
           "18:29:05.3",
           -178.13,
           "2020/06/27"
          ],
          [
           -33.98,
           "05:44:53.9",
           -177.3,
           "2020/06/30"
          ],
          [
           -33.28,
           "08:13:26.4",
           -177.88,
           "2020/07/13"
          ],
          [
           -33.37,
           "12:00:46.4",
           -177.8,
           "2020/07/18"
          ],
          [
           -33.53,
           "16:25:31.0",
           -177.88,
           "2020/07/20"
          ],
          [
           -32.31,
           "17:05:03.8",
           -179.41,
           "2020/09/02"
          ],
          [
           -32.84,
           "11:47:24.7",
           -178.63,
           "2020/09/13"
          ],
          [
           -33.55,
           "00:17:37.3",
           -178.21,
           "2020/09/29"
          ],
          [
           -31.27,
           "07:00:18.8",
           -177.73,
           "2020/10/15"
          ],
          [
           -32.91,
           "15:30:00.1",
           -179.05,
           "2020/12/11"
          ],
          [
           -32.64,
           "20:49:15.8",
           -178.84,
           "2020/12/18"
          ],
          [
           -32.05,
           "20:04:11.8",
           -178.1,
           "2020/12/24"
          ]
         ],
         "hovertemplate": "<b>%{hovertext}</b><br><br>Cluster=180<br>Lat=%{customdata[0]}<br>Lon=%{customdata[2]}<br>Time=%{customdata[1]}<br>Date=%{customdata[3]}<extra></extra>",
         "hovertext": {
          "dtype": "f8",
          "bdata": "AAAAAACAZkAAAAAAAIBmQAAAAAAAgGZAAAAAAACAZkAAAAAAAIBmQAAAAAAAgGZAAAAAAACAZkAAAAAAAIBmQAAAAAAAgGZAAAAAAACAZkAAAAAAAIBmQAAAAAAAgGZAAAAAAACAZkAAAAAAAIBmQAAAAAAAgGZAAAAAAACAZkAAAAAAAIBmQAAAAAAAgGZAAAAAAACAZkAAAAAAAIBmQAAAAAAAgGZAAAAAAACAZkAAAAAAAIBmQAAAAAAAgGZAAAAAAACAZkAAAAAAAIBmQAAAAAAAgGZAAAAAAACAZkAAAAAAAIBmQAAAAAAAgGZAAAAAAACAZkAAAAAAAIBmQAAAAAAAgGZAAAAAAACAZkAAAAAAAIBmQAAAAAAAgGZAAAAAAACAZkAAAAAAAIBmQAAAAAAAgGZAAAAAAACAZkAAAAAAAIBmQAAAAAAAgGZAAAAAAACAZkAAAAAAAIBmQAAAAAAAgGZAAAAAAACAZkAAAAAAAIBmQAAAAAAAgGZAAAAAAACAZkAAAAAAAIBmQAAAAAAAgGZAAAAAAACAZkAAAAAAAIBmQAAAAAAAgGZAAAAAAACAZkAAAAAAAIBmQAAAAAAAgGZAAAAAAACAZkAAAAAAAIBmQAAAAAAAgGZAAAAAAACAZkAAAAAAAIBmQAAAAAAAgGZAAAAAAACAZkAAAAAAAIBmQAAAAAAAgGZAAAAAAACAZkAAAAAAAIBmQAAAAAAAgGZAAAAAAACAZkAAAAAAAIBmQAAAAAAAgGZAAAAAAACAZkAAAAAAAIBmQAAAAAAAgGZAAAAAAACAZkAAAAAAAIBmQAAAAAAAgGZAAAAAAACAZkAAAAAAAIBmQAAAAAAAgGZAAAAAAACAZkAAAAAAAIBmQAAAAAAAgGZAAAAAAACAZkAAAAAAAIBmQAAAAAAAgGZAAAAAAACAZkAAAAAAAIBmQAAAAAAAgGZAAAAAAACAZkAAAAAAAIBmQAAAAAAAgGZAAAAAAACAZkAAAAAAAIBmQAAAAAAAgGZAAAAAAACAZkAAAAAAAIBmQAAAAAAAgGZAAAAAAACAZkAAAAAAAIBmQAAAAAAAgGZAAAAAAACAZkAAAAAAAIBmQAAAAAAAgGZAAAAAAACAZkAAAAAAAIBmQAAAAAAAgGZAAAAAAACAZkAAAAAAAIBmQAAAAAAAgGZAAAAAAACAZkAAAAAAAIBmQAAAAAAAgGZAAAAAAACAZkAAAAAAAIBmQAAAAAAAgGZAAAAAAACAZkAAAAAAAIBmQAAAAAAAgGZAAAAAAACAZkAAAAAAAIBmQAAAAAAAgGZAAAAAAACAZkAAAAAAAIBmQAAAAAAAgGZAAAAAAACAZkAAAAAAAIBmQAAAAAAAgGZAAAAAAACAZkAAAAAAAIBmQAAAAAAAgGZAAAAAAACAZkAAAAAAAIBmQAAAAAAAgGZAAAAAAACAZkAAAAAAAIBmQAAAAAAAgGZAAAAAAACAZkAAAAAAAIBmQAAAAAAAgGZAAAAAAACAZkAAAAAAAIBmQAAAAAAAgGZAAAAAAACAZkAAAAAAAIBmQAAAAAAAgGZAAAAAAACAZkAAAAAAAIBmQAAAAAAAgGZAAAAAAACAZkAAAAAAAIBmQAAAAAAAgGZAAAAAAACAZkAAAAAAAIBmQAAAAAAAgGZAAAAAAACAZkAAAAAAAIBmQAAAAAAAgGZAAAAAAACAZkAAAAAAAIBmQAAAAAAAgGZAAAAAAACAZkAAAAAAAIBmQAAAAAAAgGZAAAAAAACAZkAAAAAAAIBmQAAAAAAAgGZAAAAAAACAZkAAAAAAAIBmQAAAAAAAgGZAAAAAAACAZkAAAAAAAIBmQAAAAAAAgGZAAAAAAACAZkAAAAAAAIBmQAAAAAAAgGZAAAAAAACAZkAAAAAAAIBmQAAAAAAAgGZAAAAAAACAZkAAAAAAAIBmQAAAAAAAgGZAAAAAAACAZkAAAAAAAIBmQAAAAAAAgGZAAAAAAACAZkAAAAAAAIBmQAAAAAAAgGZAAAAAAACAZkAAAAAAAIBmQAAAAAAAgGZAAAAAAACAZkAAAAAAAIBmQAAAAAAAgGZAAAAAAACAZkAAAAAAAIBmQAAAAAAAgGZAAAAAAACAZkAAAAAAAIBmQAAAAAAAgGZAAAAAAACAZkAAAAAAAIBmQAAAAAAAgGZAAAAAAACAZkAAAAAAAIBmQAAAAAAAgGZAAAAAAACAZkAAAAAAAIBmQAAAAAAAgGZAAAAAAACAZkAAAAAAAIBmQAAAAAAAgGZAAAAAAACAZkAAAAAAAIBmQAAAAAAAgGZAAAAAAACAZkAAAAAAAIBmQAAAAAAAgGZAAAAAAACAZkAAAAAAAIBmQAAAAAAAgGZAAAAAAACAZkAAAAAAAIBmQAAAAAAAgGZAAAAAAACAZkAAAAAAAIBmQAAAAAAAgGZAAAAAAACAZkAAAAAAAIBmQAAAAAAAgGZAAAAAAACAZkAAAAAAAIBmQAAAAAAAgGZAAAAAAACAZkAAAAAAAIBmQAAAAAAAgGZAAAAAAACAZkAAAAAAAIBmQAAAAAAAgGZAAAAAAACAZkAAAAAAAIBmQAAAAAAAgGZAAAAAAACAZkAAAAAAAIBmQAAAAAAAgGZAAAAAAACAZkAAAAAAAIBmQAAAAAAAgGZAAAAAAACAZkAAAAAAAIBmQAAAAAAAgGZAAAAAAACAZkAAAAAAAIBmQAAAAAAAgGZAAAAAAACAZkAAAAAAAIBmQAAAAAAAgGZAAAAAAACAZkAAAAAAAIBmQAAAAAAAgGZAAAAAAACAZkAAAAAAAIBmQAAAAAAAgGZAAAAAAACAZkAAAAAAAIBmQAAAAAAAgGZAAAAAAACAZkAAAAAAAIBmQAAAAAAAgGZAAAAAAACAZkAAAAAAAIBmQAAAAAAAgGZAAAAAAACAZkAAAAAAAIBmQAAAAAAAgGZAAAAAAACAZkAAAAAAAIBmQAAAAAAAgGZAAAAAAACAZkAAAAAAAIBmQAAAAAAAgGZAAAAAAACAZkAAAAAAAIBmQAAAAAAAgGZAAAAAAACAZkAAAAAAAIBmQAAAAAAAgGZAAAAAAACAZkAAAAAAAIBmQAAAAAAAgGZAAAAAAACAZkAAAAAAAIBmQAAAAAAAgGZAAAAAAACAZkAAAAAAAIBmQAAAAAAAgGZAAAAAAACAZkAAAAAAAIBmQAAAAAAAgGZAAAAAAACAZkAAAAAAAIBmQAAAAAAAgGZAAAAAAACAZkAAAAAAAIBmQAAAAAAAgGZAAAAAAACAZkAAAAAAAIBmQAAAAAAAgGZAAAAAAACAZkAAAAAAAIBmQAAAAAAAgGZAAAAAAACAZkAAAAAAAIBmQAAAAAAAgGZAAAAAAACAZkAAAAAAAIBmQAAAAAAAgGZAAAAAAACAZkAAAAAAAIBmQAAAAAAAgGZAAAAAAACAZkAAAAAAAIBmQAAAAAAAgGZAAAAAAACAZkAAAAAAAIBmQAAAAAAAgGZAAAAAAACAZkAAAAAAAIBmQAAAAAAAgGZAAAAAAACAZkAAAAAAAIBmQAAAAAAAgGZAAAAAAACAZkAAAAAAAIBmQAAAAAAAgGZAAAAAAACAZkAAAAAAAIBmQAAAAAAAgGZAAAAAAACAZkAAAAAAAIBmQAAAAAAAgGZAAAAAAACAZkAAAAAAAIBmQAAAAAAAgGZAAAAAAACAZkAAAAAAAIBmQAAAAAAAgGZAAAAAAACAZkAAAAAAAIBmQAAAAAAAgGZAAAAAAACAZkAAAAAAAIBmQAAAAAAAgGZAAAAAAACAZkAAAAAAAIBmQAAAAAAAgGZAAAAAAACAZkAAAAAAAIBmQAAAAAAAgGZAAAAAAACAZkAAAAAAAIBmQAAAAAAAgGZAAAAAAACAZkAAAAAAAIBmQAAAAAAAgGZAAAAAAACAZkAAAAAAAIBmQAAAAAAAgGZAAAAAAACAZkAAAAAAAIBmQAAAAAAAgGZAAAAAAACAZkAAAAAAAIBmQAAAAAAAgGZAAAAAAACAZkAAAAAAAIBmQAAAAAAAgGZAAAAAAACAZkAAAAAAAIBmQAAAAAAAgGZAAAAAAACAZkAAAAAAAIBmQAAAAAAAgGZAAAAAAACAZkAAAAAAAIBmQAAAAAAAgGZAAAAAAACAZkAAAAAAAIBmQAAAAAAAgGZAAAAAAACAZkAAAAAAAIBmQAAAAAAAgGZAAAAAAACAZkAAAAAAAIBmQAAAAAAAgGZAAAAAAACAZkAAAAAAAIBmQAAAAAAAgGZAAAAAAACAZkAAAAAAAIBmQAAAAAAAgGZAAAAAAACAZkAAAAAAAIBmQAAAAAAAgGZAAAAAAACAZkAAAAAAAIBmQAAAAAAAgGZAAAAAAACAZkAAAAAAAIBmQAAAAAAAgGZAAAAAAACAZkAAAAAAAIBmQAAAAAAAgGZAAAAAAACAZkAAAAAAAIBmQAAAAAAAgGZAAAAAAACAZkAAAAAAAIBmQAAAAAAAgGZAAAAAAACAZkAAAAAAAIBmQAAAAAAAgGZAAAAAAACAZkAAAAAAAIBmQAAAAAAAgGZAAAAAAACAZkAAAAAAAIBmQAAAAAAAgGZAAAAAAACAZkAAAAAAAIBmQAAAAAAAgGZAAAAAAACAZkAAAAAAAIBmQAAAAAAAgGZAAAAAAACAZkAAAAAAAIBmQAAAAAAAgGZAAAAAAACAZkAAAAAAAIBmQAAAAAAAgGZAAAAAAACAZkAAAAAAAIBmQAAAAAAAgGZAAAAAAACAZkAAAAAAAIBmQAAAAAAAgGZAAAAAAACAZkAAAAAAAIBmQAAAAAAAgGZAAAAAAACAZkAAAAAAAIBmQAAAAAAAgGZAAAAAAACAZkAAAAAAAIBmQAAAAAAAgGZAAAAAAACAZkAAAAAAAIBmQAAAAAAAgGZAAAAAAACAZkAAAAAAAIBmQAAAAAAAgGZAAAAAAACAZkAAAAAAAIBmQAAAAAAAgGZAAAAAAACAZkAAAAAAAIBmQAAAAAAAgGZAAAAAAACAZkAAAAAAAIBmQAAAAAAAgGZAAAAAAACAZkAAAAAAAIBmQAAAAAAAgGZAAAAAAACAZkAAAAAAAIBmQAAAAAAAgGZAAAAAAACAZkAAAAAAAIBmQAAAAAAAgGZAAAAAAACAZkAAAAAAAIBmQAAAAAAAgGZAAAAAAACAZkAAAAAAAIBmQAAAAAAAgGZAAAAAAACAZkAAAAAAAIBmQAAAAAAAgGZAAAAAAACAZkAAAAAAAIBmQAAAAAAAgGZAAAAAAACAZkAAAAAAAIBmQAAAAAAAgGZAAAAAAACAZkAAAAAAAIBmQAAAAAAAgGZAAAAAAACAZkAAAAAAAIBmQAAAAAAAgGZAAAAAAACAZkAAAAAAAIBmQAAAAAAAgGZAAAAAAACAZkAAAAAAAIBmQAAAAAAAgGZAAAAAAACAZkAAAAAAAIBmQAAAAAAAgGZAAAAAAACAZkAAAAAAAIBmQAAAAAAAgGZAAAAAAACAZkAAAAAAAIBmQAAAAAAAgGZAAAAAAACAZkAAAAAAAIBmQAAAAAAAgGZAAAAAAACAZkAAAAAAAIBmQAAAAAAAgGZAAAAAAACAZkAAAAAAAIBmQAAAAAAAgGZAAAAAAACAZkAAAAAAAIBmQAAAAAAAgGZAAAAAAACAZkAAAAAAAIBmQAAAAAAAgGZAAAAAAACAZkAAAAAAAIBmQAAAAAAAgGZAAAAAAACAZkAAAAAAAIBmQAAAAAAAgGZAAAAAAACAZkAAAAAAAIBmQAAAAAAAgGZAAAAAAACAZkAAAAAAAIBmQAAAAAAAgGZAAAAAAACAZkAAAAAAAIBmQAAAAAAAgGZAAAAAAACAZkAAAAAAAIBmQAAAAAAAgGZAAAAAAACAZkAAAAAAAIBmQAAAAAAAgGZAAAAAAACAZkAAAAAAAIBmQAAAAAAAgGZAAAAAAACAZkAAAAAAAIBmQAAAAAAAgGZAAAAAAACAZkAAAAAAAIBmQAAAAAAAgGZAAAAAAACAZkAAAAAAAIBmQAAAAAAAgGZAAAAAAACAZkAAAAAAAIBmQAAAAAAAgGZAAAAAAACAZkAAAAAAAIBmQAAAAAAAgGZAAAAAAACAZkAAAAAAAIBmQAAAAAAAgGZAAAAAAACAZkAAAAAAAIBmQAAAAAAAgGZAAAAAAACAZkAAAAAAAIBmQAAAAAAAgGZAAAAAAACAZkAAAAAAAIBmQAAAAAAAgGZAAAAAAACAZkAAAAAAAIBmQAAAAAAAgGZAAAAAAACAZkAAAAAAAIBmQAAAAAAAgGZAAAAAAACAZkAAAAAAAIBmQAAAAAAAgGZAAAAAAACAZkAAAAAAAIBmQAAAAAAAgGZAAAAAAACAZkAAAAAAAIBmQAAAAAAAgGZAAAAAAACAZkAAAAAAAIBmQAAAAAAAgGZAAAAAAACAZkAAAAAAAIBmQAAAAAAAgGZAAAAAAACAZkAAAAAAAIBmQAAAAAAAgGZAAAAAAACAZkAAAAAAAIBmQAAAAAAAgGZAAAAAAACAZkAAAAAAAIBmQAAAAAAAgGZAAAAAAACAZkAAAAAAAIBmQAAAAAAAgGZAAAAAAACAZkAAAAAAAIBmQAAAAAAAgGZAAAAAAACAZkAAAAAAAIBmQAAAAAAAgGZAAAAAAACAZkAAAAAAAIBmQAAAAAAAgGZAAAAAAACAZkAAAAAAAIBmQAAAAAAAgGZAAAAAAACAZkAAAAAAAIBmQAAAAAAAgGZAAAAAAACAZkAAAAAAAIBmQAAAAAAAgGZAAAAAAACAZkAAAAAAAIBmQAAAAAAAgGZAAAAAAACAZkAAAAAAAIBmQAAAAAAAgGZAAAAAAACAZkAAAAAAAIBmQAAAAAAAgGZAAAAAAACAZkAAAAAAAIBmQAAAAAAAgGZAAAAAAACAZkAAAAAAAIBmQAAAAAAAgGZAAAAAAACAZkAAAAAAAIBmQAAAAAAAgGZAAAAAAACAZkAAAAAAAIBmQAAAAAAAgGZAAAAAAACAZkAAAAAAAIBmQAAAAAAAgGZAAAAAAACAZkAAAAAAAIBmQAAAAAAAgGZAAAAAAACAZkAAAAAAAIBmQAAAAAAAgGZAAAAAAACAZkAAAAAAAIBmQAAAAAAAgGZAAAAAAACAZkAAAAAAAIBmQAAAAAAAgGZAAAAAAACAZkAAAAAAAIBmQAAAAAAAgGZAAAAAAACAZkAAAAAAAIBmQAAAAAAAgGZAAAAAAACAZkAAAAAAAIBmQAAAAAAAgGZAAAAAAACAZkAAAAAAAIBmQAAAAAAAgGZAAAAAAACAZkAAAAAAAIBmQAAAAAAAgGZAAAAAAACAZkAAAAAAAIBmQAAAAAAAgGZAAAAAAACAZkAAAAAAAIBmQAAAAAAAgGZAAAAAAACAZkAAAAAAAIBmQAAAAAAAgGZAAAAAAACAZkAAAAAAAIBmQAAAAAAAgGZAAAAAAACAZkAAAAAAAIBmQAAAAAAAgGZAAAAAAACAZkAAAAAAAIBmQAAAAAAAgGZAAAAAAACAZkAAAAAAAIBmQAAAAAAAgGZAAAAAAACAZkAAAAAAAIBmQAAAAAAAgGZAAAAAAACAZkAAAAAAAIBmQAAAAAAAgGZAAAAAAACAZkAAAAAAAIBmQAAAAAAAgGZAAAAAAACAZkAAAAAAAIBmQAAAAAAAgGZAAAAAAACAZkAAAAAAAIBmQAAAAAAAgGZAAAAAAACAZkAAAAAAAIBmQAAAAAAAgGZAAAAAAACAZkAAAAAAAIBmQAAAAAAAgGZAAAAAAACAZkAAAAAAAIBmQAAAAAAAgGZAAAAAAACAZkAAAAAAAIBmQAAAAAAAgGZA"
         },
         "lat": {
          "dtype": "f8",
          "bdata": "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"
         },
         "legendgroup": "180",
         "lon": {
          "dtype": "f8",
          "bdata": "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"
         },
         "marker": {
          "color": "#19d3f3"
         },
         "mode": "markers",
         "name": "180",
         "showlegend": true,
         "subplot": "map",
         "type": "scattermap"
        },
        {
         "customdata": [
          [
           -37.95,
           "18:01:13.0",
           176.77,
           "1979/04/19"
          ],
          [
           -37.96,
           "09:32:22.1",
           175.93,
           "1979/11/01"
          ]
         ],
         "hovertemplate": "<b>%{hovertext}</b><br><br>Cluster=95<br>Lat=%{customdata[0]}<br>Lon=%{customdata[2]}<br>Time=%{customdata[1]}<br>Date=%{customdata[3]}<extra></extra>",
         "hovertext": {
          "dtype": "f8",
          "bdata": "AAAAAADAV0AAAAAAAMBXQA=="
         },
         "lat": {
          "dtype": "f8",
          "bdata": "mpmZmZn5QsB7FK5H4fpCwA=="
         },
         "legendgroup": "95",
         "lon": {
          "dtype": "f8",
          "bdata": "cT0K16MYZkD2KFyPwv1lQA=="
         },
         "marker": {
          "color": "#FF6692"
         },
         "mode": "markers",
         "name": "95",
         "showlegend": true,
         "subplot": "map",
         "type": "scattermap"
        },
        {
         "customdata": [
          [
           -39.48,
           "14:15:39.9",
           174.87,
           "1979/06/17"
          ],
          [
           -39.88,
           "16:45:20.3",
           175.71,
           "1980/06/23"
          ],
          [
           -40.3,
           "01:48:37.8",
           176.62,
           "1980/07/03"
          ],
          [
           -40.51,
           "17:18:45.6",
           176.31,
           "1981/12/27"
          ],
          [
           -40.74,
           "17:51:39.4",
           175.69,
           "1982/02/05"
          ]
         ],
         "hovertemplate": "<b>%{hovertext}</b><br><br>Cluster=46<br>Lat=%{customdata[0]}<br>Lon=%{customdata[2]}<br>Time=%{customdata[1]}<br>Date=%{customdata[3]}<extra></extra>",
         "hovertext": {
          "dtype": "f8",
          "bdata": "AAAAAAAAR0AAAAAAAABHQAAAAAAAAEdAAAAAAAAAR0AAAAAAAABHQA=="
         },
         "lat": {
          "dtype": "f8",
          "bdata": "PQrXo3C9Q8BxPQrXo/BDwGZmZmZmJkTA4XoUrkdBRMAfhetRuF5EwA=="
         },
         "legendgroup": "46",
         "lon": {
          "dtype": "f8",
          "bdata": "pHA9CtfbZUAfhetRuPZlQKRwPQrXE2ZAUrgehesJZkCuR+F6FPZlQA=="
         },
         "marker": {
          "color": "#B6E880"
         },
         "mode": "markers",
         "name": "46",
         "showlegend": true,
         "subplot": "map",
         "type": "scattermap"
        },
        {
         "customdata": [
          [
           -33.38,
           "21:35:51.1",
           -179.32,
           "1979/07/20"
          ],
          [
           -34.4,
           "04:15:12.3",
           -178.94,
           "1980/05/02"
          ]
         ],
         "hovertemplate": "<b>%{hovertext}</b><br><br>Cluster=142<br>Lat=%{customdata[0]}<br>Lon=%{customdata[2]}<br>Time=%{customdata[1]}<br>Date=%{customdata[3]}<extra></extra>",
         "hovertext": {
          "dtype": "f8",
          "bdata": "AAAAAADAYUAAAAAAAMBhQA=="
         },
         "lat": {
          "dtype": "f8",
          "bdata": "cT0K16OwQMAzMzMzMzNBwA=="
         },
         "legendgroup": "142",
         "lon": {
          "dtype": "f8",
          "bdata": "CtejcD1qZsCuR+F6FF5mwA=="
         },
         "marker": {
          "color": "#FF97FF"
         },
         "mode": "markers",
         "name": "142",
         "showlegend": true,
         "subplot": "map",
         "type": "scattermap"
        },
        {
         "customdata": [
          [
           -46.68,
           "10:25:22.3",
           165.71,
           "1979/10/12"
          ],
          [
           -48.79,
           "05:25:14.4",
           164.36,
           "1981/05/25"
          ]
         ],
         "hovertemplate": "<b>%{hovertext}</b><br><br>Cluster=1<br>Lat=%{customdata[0]}<br>Lon=%{customdata[2]}<br>Time=%{customdata[1]}<br>Date=%{customdata[3]}<extra></extra>",
         "hovertext": {
          "dtype": "f8",
          "bdata": "AAAAAAAA8D8AAAAAAADwPw=="
         },
         "lat": {
          "dtype": "f8",
          "bdata": "16NwPQpXR8CF61G4HmVIwA=="
         },
         "legendgroup": "1",
         "lon": {
          "dtype": "f8",
          "bdata": "H4XrUbi2ZEDsUbgehYtkQA=="
         },
         "marker": {
          "color": "#FECB52"
         },
         "mode": "markers",
         "name": "1",
         "showlegend": true,
         "subplot": "map",
         "type": "scattermap"
        },
        {
         "customdata": [
          [
           -35.08,
           "11:20:56.0",
           178.41,
           "1980/06/30"
          ],
          [
           -35.51,
           "05:20:39.7",
           -179.66,
           "1981/03/31"
          ],
          [
           -35.14,
           "01:59:52.4",
           179.53,
           "1981/07/04"
          ],
          [
           -35.35,
           "11:57:03.9",
           -179.7,
           "1982/05/14"
          ],
          [
           -35.27,
           "15:21:48.2",
           179.22,
           "1982/08/16"
          ],
          [
           -36.19,
           "04:33:46.6",
           -179.89,
           "1983/08/01"
          ]
         ],
         "hovertemplate": "<b>%{hovertext}</b><br><br>Cluster=115<br>Lat=%{customdata[0]}<br>Lon=%{customdata[2]}<br>Time=%{customdata[1]}<br>Date=%{customdata[3]}<extra></extra>",
         "hovertext": {
          "dtype": "f8",
          "bdata": "AAAAAADAXEAAAAAAAMBcQAAAAAAAwFxAAAAAAADAXEAAAAAAAMBcQAAAAAAAwFxA"
         },
         "lat": {
          "dtype": "f8",
          "bdata": "CtejcD2KQcDhehSuR8FBwFK4HoXrkUHAzczMzMysQcDD9Shcj6JBwLgehetRGELA"
         },
         "legendgroup": "115",
         "lon": {
          "dtype": "f8",
          "bdata": "hetRuB5NZkCF61G4HnVmwClcj8L1cGZAZmZmZmZ2ZsDXo3A9CmdmQBSuR+F6fGbA"
         },
         "marker": {
          "color": "#636efa"
         },
         "mode": "markers",
         "name": "115",
         "showlegend": true,
         "subplot": "map",
         "type": "scattermap"
        },
        {
         "customdata": [
          [
           -39.54,
           "15:32:49.8",
           176.48,
           "1980/10/05"
          ],
          [
           -39.78,
           "15:58:55.0",
           176.76,
           "1982/09/02"
          ]
         ],
         "hovertemplate": "<b>%{hovertext}</b><br><br>Cluster=47<br>Lat=%{customdata[0]}<br>Lon=%{customdata[2]}<br>Time=%{customdata[1]}<br>Date=%{customdata[3]}<extra></extra>",
         "hovertext": {
          "dtype": "f8",
          "bdata": "AAAAAACAR0AAAAAAAIBHQA=="
         },
         "lat": {
          "dtype": "f8",
          "bdata": "hetRuB7FQ8CkcD0K1+NDwA=="
         },
         "legendgroup": "47",
         "lon": {
          "dtype": "f8",
          "bdata": "j8L1KFwPZkC4HoXrURhmQA=="
         },
         "marker": {
          "color": "#EF553B"
         },
         "mode": "markers",
         "name": "47",
         "showlegend": true,
         "subplot": "map",
         "type": "scattermap"
        },
        {
         "customdata": [
          [
           -37.99,
           "04:22:14.7",
           177.86,
           "1980/11/24"
          ],
          [
           -37.99,
           "04:57:05.0",
           178.27,
           "1980/11/25"
          ]
         ],
         "hovertemplate": "<b>%{hovertext}</b><br><br>Cluster=94<br>Lat=%{customdata[0]}<br>Lon=%{customdata[2]}<br>Time=%{customdata[1]}<br>Date=%{customdata[3]}<extra></extra>",
         "hovertext": {
          "dtype": "f8",
          "bdata": "AAAAAACAV0AAAAAAAIBXQA=="
         },
         "lat": {
          "dtype": "f8",
          "bdata": "H4XrUbj+QsAfhetRuP5CwA=="
         },
         "legendgroup": "94",
         "lon": {
          "dtype": "f8",
          "bdata": "7FG4HoU7ZkBxPQrXo0hmQA=="
         },
         "marker": {
          "color": "#00cc96"
         },
         "mode": "markers",
         "name": "94",
         "showlegend": true,
         "subplot": "map",
         "type": "scattermap"
        },
        {
         "customdata": [
          [
           -35.35,
           "06:48:46.9",
           179.96,
           "1980/11/29"
          ],
          [
           -35.48,
           "17:03:45.9",
           -179.38,
           "1983/04/11"
          ]
         ],
         "hovertemplate": "<b>%{hovertext}</b><br><br>Cluster=113<br>Lat=%{customdata[0]}<br>Lon=%{customdata[2]}<br>Time=%{customdata[1]}<br>Date=%{customdata[3]}<extra></extra>",
         "hovertext": {
          "dtype": "f8",
          "bdata": "AAAAAABAXEAAAAAAAEBcQA=="
         },
         "lat": {
          "dtype": "f8",
          "bdata": "zczMzMysQcA9CtejcL1BwA=="
         },
         "legendgroup": "113",
         "lon": {
          "dtype": "f8",
          "bdata": "H4XrUbh+ZkBcj8L1KGxmwA=="
         },
         "marker": {
          "color": "#ab63fa"
         },
         "mode": "markers",
         "name": "113",
         "showlegend": true,
         "subplot": "map",
         "type": "scattermap"
        },
        {
         "customdata": [
          [
           -34.54,
           "20:54:08.9",
           178.95,
           "1981/01/03"
          ],
          [
           -33.47,
           "01:41:07.0",
           179.66,
           "1981/08/19"
          ]
         ],
         "hovertemplate": "<b>%{hovertext}</b><br><br>Cluster=116<br>Lat=%{customdata[0]}<br>Lon=%{customdata[2]}<br>Time=%{customdata[1]}<br>Date=%{customdata[3]}<extra></extra>",
         "hovertext": {
          "dtype": "f8",
          "bdata": "AAAAAAAAXUAAAAAAAABdQA=="
         },
         "lat": {
          "dtype": "f8",
          "bdata": "hetRuB5FQcBcj8L1KLxAwA=="
         },
         "legendgroup": "116",
         "lon": {
          "dtype": "f8",
          "bdata": "ZmZmZmZeZkCF61G4HnVmQA=="
         },
         "marker": {
          "color": "#FFA15A"
         },
         "mode": "markers",
         "name": "116",
         "showlegend": true,
         "subplot": "map",
         "type": "scattermap"
        },
        {
         "customdata": [
          [
           -30.55,
           "14:03:18.0",
           -179.52,
           "1981/01/31"
          ],
          [
           -30.05,
           "17:39:23.7",
           -179.8,
           "1981/05/03"
          ]
         ],
         "hovertemplate": "<b>%{hovertext}</b><br><br>Cluster=127<br>Lat=%{customdata[0]}<br>Lon=%{customdata[2]}<br>Time=%{customdata[1]}<br>Date=%{customdata[3]}<extra></extra>",
         "hovertext": {
          "dtype": "f8",
          "bdata": "AAAAAADAX0AAAAAAAMBfQA=="
         },
         "lat": {
          "dtype": "f8",
          "bdata": "zczMzMyMPsDNzMzMzAw+wA=="
         },
         "legendgroup": "127",
         "lon": {
          "dtype": "f8",
          "bdata": "cT0K16NwZsCamZmZmXlmwA=="
         },
         "marker": {
          "color": "#19d3f3"
         },
         "mode": "markers",
         "name": "127",
         "showlegend": true,
         "subplot": "map",
         "type": "scattermap"
        },
        {
         "customdata": [
          [
           -33.28,
           "09:40:55.7",
           -178.91,
           "1981/02/20"
          ],
          [
           -33.93,
           "16:02:52.0",
           -179.66,
           "1981/10/01"
          ]
         ],
         "hovertemplate": "<b>%{hovertext}</b><br><br>Cluster=153<br>Lat=%{customdata[0]}<br>Lon=%{customdata[2]}<br>Time=%{customdata[1]}<br>Date=%{customdata[3]}<extra></extra>",
         "hovertext": {
          "dtype": "f8",
          "bdata": "AAAAAAAgY0AAAAAAACBjQA=="
         },
         "lat": {
          "dtype": "f8",
          "bdata": "pHA9CtejQMDXo3A9CvdAwA=="
         },
         "legendgroup": "153",
         "lon": {
          "dtype": "f8",
          "bdata": "hetRuB5dZsCF61G4HnVmwA=="
         },
         "marker": {
          "color": "#FF6692"
         },
         "mode": "markers",
         "name": "153",
         "showlegend": true,
         "subplot": "map",
         "type": "scattermap"
        },
        {
         "customdata": [
          [
           -49.26,
           "08:47:06.3",
           164.79,
           "1981/03/26"
          ],
          [
           -49.15,
           "09:47:17.2",
           164.74,
           "1981/05/30"
          ]
         ],
         "hovertemplate": "<b>%{hovertext}</b><br><br>Cluster=12<br>Lat=%{customdata[0]}<br>Lon=%{customdata[2]}<br>Time=%{customdata[1]}<br>Date=%{customdata[3]}<extra></extra>",
         "hovertext": {
          "dtype": "f8",
          "bdata": "AAAAAAAAKEAAAAAAAAAoQA=="
         },
         "lat": {
          "dtype": "f8",
          "bdata": "4XoUrkehSMAzMzMzM5NIwA=="
         },
         "legendgroup": "12",
         "lon": {
          "dtype": "f8",
          "bdata": "4XoUrkeZZEBI4XoUrpdkQA=="
         },
         "marker": {
          "color": "#B6E880"
         },
         "mode": "markers",
         "name": "12",
         "showlegend": true,
         "subplot": "map",
         "type": "scattermap"
        },
        {
         "customdata": [
          [
           -48.56,
           "18:57:21.6",
           164.05,
           "1981/05/27"
          ],
          [
           -48.57,
           "02:31:18.4",
           164.71,
           "1981/06/15"
          ]
         ],
         "hovertemplate": "<b>%{hovertext}</b><br><br>Cluster=13<br>Lat=%{customdata[0]}<br>Lon=%{customdata[2]}<br>Time=%{customdata[1]}<br>Date=%{customdata[3]}<extra></extra>",
         "hovertext": {
          "dtype": "f8",
          "bdata": "AAAAAAAAKkAAAAAAAAAqQA=="
         },
         "lat": {
          "dtype": "f8",
          "bdata": "SOF6FK5HSMApXI/C9UhIwA=="
         },
         "legendgroup": "13",
         "lon": {
          "dtype": "f8",
          "bdata": "mpmZmZmBZEAfhetRuJZkQA=="
         },
         "marker": {
          "color": "#FF97FF"
         },
         "mode": "markers",
         "name": "13",
         "showlegend": true,
         "subplot": "map",
         "type": "scattermap"
        },
        {
         "customdata": [
          [
           -33.94,
           "19:42:38.5",
           -179.76,
           "1981/11/16"
          ],
          [
           -33.83,
           "04:43:59.4",
           179.38,
           "1983/05/05"
          ]
         ],
         "hovertemplate": "<b>%{hovertext}</b><br><br>Cluster=149<br>Lat=%{customdata[0]}<br>Lon=%{customdata[2]}<br>Time=%{customdata[1]}<br>Date=%{customdata[3]}<extra></extra>",
         "hovertext": {
          "dtype": "f8",
          "bdata": "AAAAAACgYkAAAAAAAKBiQA=="
         },
         "lat": {
          "dtype": "f8",
          "bdata": "uB6F61H4QMAK16NwPepAwA=="
         },
         "legendgroup": "149",
         "lon": {
          "dtype": "f8",
          "bdata": "uB6F61F4ZsBcj8L1KGxmQA=="
         },
         "marker": {
          "color": "#FECB52"
         },
         "mode": "markers",
         "name": "149",
         "showlegend": true,
         "subplot": "map",
         "type": "scattermap"
        },
        {
         "customdata": [
          [
           -31.45,
           "03:52:34.7",
           -178.69,
           "1982/03/28"
          ],
          [
           -30.36,
           "16:02:21.5",
           -179.43,
           "1983/01/26"
          ]
         ],
         "hovertemplate": "<b>%{hovertext}</b><br><br>Cluster=109<br>Lat=%{customdata[0]}<br>Lon=%{customdata[2]}<br>Time=%{customdata[1]}<br>Date=%{customdata[3]}<extra></extra>",
         "hovertext": {
          "dtype": "f8",
          "bdata": "AAAAAABAW0AAAAAAAEBbQA=="
         },
         "lat": {
          "dtype": "f8",
          "bdata": "MzMzMzNzP8Bcj8L1KFw+wA=="
         },
         "legendgroup": "109",
         "lon": {
          "dtype": "f8",
          "bdata": "rkfhehRWZsD2KFyPwm1mwA=="
         },
         "marker": {
          "color": "#636efa"
         },
         "mode": "markers",
         "name": "109",
         "showlegend": true,
         "subplot": "map",
         "type": "scattermap"
        },
        {
         "customdata": [
          [
           -30.19,
           "00:34:44.3",
           -177.88,
           "1982/04/12"
          ],
          [
           -30.25,
           "03:37:14.6",
           -177.76,
           "1984/05/08"
          ],
          [
           -30.17,
           "16:55:54.1",
           -176.65,
           "1986/03/14"
          ]
         ],
         "hovertemplate": "<b>%{hovertext}</b><br><br>Cluster=108<br>Lat=%{customdata[0]}<br>Lon=%{customdata[2]}<br>Time=%{customdata[1]}<br>Date=%{customdata[3]}<extra></extra>",
         "hovertext": {
          "dtype": "f8",
          "bdata": "AAAAAAAAW0AAAAAAAABbQAAAAAAAAFtA"
         },
         "lat": {
          "dtype": "f8",
          "bdata": "cT0K16MwPsAAAAAAAEA+wOxRuB6FKz7A"
         },
         "legendgroup": "108",
         "lon": {
          "dtype": "f8",
          "bdata": "XI/C9Sg8ZsC4HoXrUThmwM3MzMzMFGbA"
         },
         "marker": {
          "color": "#EF553B"
         },
         "mode": "markers",
         "name": "108",
         "showlegend": true,
         "subplot": "map",
         "type": "scattermap"
        },
        {
         "customdata": [
          [
           -34.01,
           "14:58:40.3",
           179.36,
           "1983/05/04"
          ],
          [
           -33.94,
           "08:21:44.5",
           179.56,
           "1984/10/11"
          ]
         ],
         "hovertemplate": "<b>%{hovertext}</b><br><br>Cluster=150<br>Lat=%{customdata[0]}<br>Lon=%{customdata[2]}<br>Time=%{customdata[1]}<br>Date=%{customdata[3]}<extra></extra>",
         "hovertext": {
          "dtype": "f8",
          "bdata": "AAAAAADAYkAAAAAAAMBiQA=="
         },
         "lat": {
          "dtype": "f8",
          "bdata": "4XoUrkcBQcC4HoXrUfhAwA=="
         },
         "legendgroup": "150",
         "lon": {
          "dtype": "f8",
          "bdata": "7FG4HoVrZkBSuB6F63FmQA=="
         },
         "marker": {
          "color": "#00cc96"
         },
         "mode": "markers",
         "name": "150",
         "showlegend": true,
         "subplot": "map",
         "type": "scattermap"
        },
        {
         "customdata": [
          [
           -38.22,
           "00:40:47.8",
           177.4,
           "1984/03/08"
          ],
          [
           -38.65,
           "14:33:59.0",
           177.07,
           "1985/07/19"
          ],
          [
           -39.18,
           "05:03:47.0",
           178.33,
           "1988/04/12"
          ]
         ],
         "hovertemplate": "<b>%{hovertext}</b><br><br>Cluster=45<br>Lat=%{customdata[0]}<br>Lon=%{customdata[2]}<br>Time=%{customdata[1]}<br>Date=%{customdata[3]}<extra></extra>",
         "hovertext": {
          "dtype": "f8",
          "bdata": "AAAAAACARkAAAAAAAIBGQAAAAAAAgEZA"
         },
         "lat": {
          "dtype": "f8",
          "bdata": "XI/C9SgcQ8AzMzMzM1NDwNejcD0Kl0PA"
         },
         "legendgroup": "45",
         "lon": {
          "dtype": "f8",
          "bdata": "zczMzMwsZkAK16NwPSJmQMP1KFyPSmZA"
         },
         "marker": {
          "color": "#ab63fa"
         },
         "mode": "markers",
         "name": "45",
         "showlegend": true,
         "subplot": "map",
         "type": "scattermap"
        },
        {
         "customdata": [
          [
           -30.9,
           "06:57:55.7",
           -178.89,
           "1984/06/25"
          ],
          [
           -30.36,
           "04:58:26.6",
           -179.65,
           "1984/07/23"
          ]
         ],
         "hovertemplate": "<b>%{hovertext}</b><br><br>Cluster=174<br>Lat=%{customdata[0]}<br>Lon=%{customdata[2]}<br>Time=%{customdata[1]}<br>Date=%{customdata[3]}<extra></extra>",
         "hovertext": {
          "dtype": "f8",
          "bdata": "AAAAAADAZUAAAAAAAMBlQA=="
         },
         "lat": {
          "dtype": "f8",
          "bdata": "ZmZmZmbmPsBcj8L1KFw+wA=="
         },
         "legendgroup": "174",
         "lon": {
          "dtype": "f8",
          "bdata": "FK5H4XpcZsDNzMzMzHRmwA=="
         },
         "marker": {
          "color": "#FFA15A"
         },
         "mode": "markers",
         "name": "174",
         "showlegend": true,
         "subplot": "map",
         "type": "scattermap"
        },
        {
         "customdata": [
          [
           -32.07,
           "09:08:52.7",
           -178.37,
           "1984/09/17"
          ],
          [
           -32.01,
           "21:44:18.4",
           -178.39,
           "1984/09/22"
          ]
         ],
         "hovertemplate": "<b>%{hovertext}</b><br><br>Cluster=110<br>Lat=%{customdata[0]}<br>Lon=%{customdata[2]}<br>Time=%{customdata[1]}<br>Date=%{customdata[3]}<extra></extra>",
         "hovertext": {
          "dtype": "f8",
          "bdata": "AAAAAACAW0AAAAAAAIBbQA=="
         },
         "lat": {
          "dtype": "f8",
          "bdata": "KVyPwvUIQMDhehSuRwFAwA=="
         },
         "legendgroup": "110",
         "lon": {
          "dtype": "f8",
          "bdata": "pHA9CtdLZsAUrkfhekxmwA=="
         },
         "marker": {
          "color": "#19d3f3"
         },
         "mode": "markers",
         "name": "110",
         "showlegend": true,
         "subplot": "map",
         "type": "scattermap"
        },
        {
         "customdata": [
          [
           -36.63,
           "18:20:17.1",
           177.72,
           "1984/12/28"
          ],
          [
           -36.72,
           "20:59:54.6",
           177.71,
           "1984/12/30"
          ],
          [
           -36.54,
           "07:41:48.4",
           177.62,
           "1985/01/08"
          ]
         ],
         "hovertemplate": "<b>%{hovertext}</b><br><br>Cluster=101<br>Lat=%{customdata[0]}<br>Lon=%{customdata[2]}<br>Time=%{customdata[1]}<br>Date=%{customdata[3]}<extra></extra>",
         "hovertext": {
          "dtype": "f8",
          "bdata": "AAAAAABAWUAAAAAAAEBZQAAAAAAAQFlA"
         },
         "lat": {
          "dtype": "f8",
          "bdata": "cT0K16NQQsBcj8L1KFxCwIXrUbgeRULA"
         },
         "legendgroup": "101",
         "lon": {
          "dtype": "f8",
          "bdata": "16NwPQo3ZkAfhetRuDZmQKRwPQrXM2ZA"
         },
         "marker": {
          "color": "#FF6692"
         },
         "mode": "markers",
         "name": "101",
         "showlegend": true,
         "subplot": "map",
         "type": "scattermap"
        },
        {
         "customdata": [
          [
           -36.48,
           "15:06:46.0",
           178.04,
           "1984/12/30"
          ],
          [
           -36.67,
           "20:26:22.1",
           177.96,
           "1984/12/30"
          ],
          [
           -37.19,
           "20:25:24.5",
           177.26,
           "1985/01/02"
          ],
          [
           -36.61,
           "21:08:55.8",
           178.18,
           "1985/01/02"
          ],
          [
           -36.67,
           "18:32:06.4",
           177.58,
           "1985/01/06"
          ],
          [
           -37.46,
           "12:12:34.1",
           177.21,
           "1987/03/22"
          ]
         ],
         "hovertemplate": "<b>%{hovertext}</b><br><br>Cluster=100<br>Lat=%{customdata[0]}<br>Lon=%{customdata[2]}<br>Time=%{customdata[1]}<br>Date=%{customdata[3]}<extra></extra>",
         "hovertext": {
          "dtype": "f8",
          "bdata": "AAAAAAAAWUAAAAAAAABZQAAAAAAAAFlAAAAAAAAAWUAAAAAAAABZQAAAAAAAAFlA"
         },
         "lat": {
          "dtype": "f8",
          "bdata": "PQrXo3A9QsD2KFyPwlVCwLgehetRmELArkfhehROQsD2KFyPwlVCwHsUrkfhukLA"
         },
         "legendgroup": "100",
         "lon": {
          "dtype": "f8",
          "bdata": "4XoUrkdBZkAfhetRuD5mQLgehetRKGZA9ihcj8JFZkDD9ShcjzJmQB+F61G4JmZA"
         },
         "marker": {
          "color": "#B6E880"
         },
         "mode": "markers",
         "name": "100",
         "showlegend": true,
         "subplot": "map",
         "type": "scattermap"
        },
        {
         "customdata": [
          [
           -36.73,
           "21:36:55.7",
           177.5,
           "1984/12/30"
          ],
          [
           -37.92,
           "01:42:33.7",
           176.75,
           "1987/03/02"
          ]
         ],
         "hovertemplate": "<b>%{hovertext}</b><br><br>Cluster=10<br>Lat=%{customdata[0]}<br>Lon=%{customdata[2]}<br>Time=%{customdata[1]}<br>Date=%{customdata[3]}<extra></extra>",
         "hovertext": {
          "dtype": "f8",
          "bdata": "AAAAAAAAJEAAAAAAAAAkQA=="
         },
         "lat": {
          "dtype": "f8",
          "bdata": "PQrXo3BdQsD2KFyPwvVCwA=="
         },
         "legendgroup": "10",
         "lon": {
          "dtype": "f8",
          "bdata": "AAAAAAAwZkAAAAAAABhmQA=="
         },
         "marker": {
          "color": "#FF97FF"
         },
         "mode": "markers",
         "name": "10",
         "showlegend": true,
         "subplot": "map",
         "type": "scattermap"
        },
        {
         "customdata": [
          [
           -46.12,
           "04:32:57.6",
           165.13,
           "1985/01/31"
          ],
          [
           -45.01,
           "23:27:34.8",
           167.52,
           "1988/06/03"
          ],
          [
           -45.16,
           "05:54:23.1",
           167.11,
           "1989/05/31"
          ]
         ],
         "hovertemplate": "<b>%{hovertext}</b><br><br>Cluster=11<br>Lat=%{customdata[0]}<br>Lon=%{customdata[2]}<br>Time=%{customdata[1]}<br>Date=%{customdata[3]}<extra></extra>",
         "hovertext": {
          "dtype": "f8",
          "bdata": "AAAAAAAAJkAAAAAAAAAmQAAAAAAAACZA"
         },
         "lat": {
          "dtype": "f8",
          "bdata": "j8L1KFwPR8DhehSuR4FGwBSuR+F6lEbA"
         },
         "legendgroup": "11",
         "lon": {
          "dtype": "f8",
          "bdata": "XI/C9SikZEBxPQrXo/BkQOxRuB6F42RA"
         },
         "marker": {
          "color": "#FECB52"
         },
         "mode": "markers",
         "name": "11",
         "showlegend": true,
         "subplot": "map",
         "type": "scattermap"
        },
        {
         "customdata": [
          [
           -37.51,
           "18:54:13.8",
           179.47,
           "1985/06/28"
          ],
          [
           -37.04,
           "07:48:03.5",
           178.87,
           "1987/08/08"
          ],
          [
           -36.62,
           "11:58:49.4",
           179.1,
           "1988/06/02"
          ]
         ],
         "hovertemplate": "<b>%{hovertext}</b><br><br>Cluster=88<br>Lat=%{customdata[0]}<br>Lon=%{customdata[2]}<br>Time=%{customdata[1]}<br>Date=%{customdata[3]}<extra></extra>",
         "hovertext": {
          "dtype": "f8",
          "bdata": "AAAAAAAAVkAAAAAAAABWQAAAAAAAAFZA"
         },
         "lat": {
          "dtype": "f8",
          "bdata": "4XoUrkfBQsCF61G4HoVCwI/C9ShcT0LA"
         },
         "legendgroup": "88",
         "lon": {
          "dtype": "f8",
          "bdata": "16NwPQpvZkCkcD0K11tmQDMzMzMzY2ZA"
         },
         "marker": {
          "color": "#636efa"
         },
         "mode": "markers",
         "name": "88",
         "showlegend": true,
         "subplot": "map",
         "type": "scattermap"
        },
        {
         "customdata": [
          [
           -35.2,
           "19:12:29.8",
           -179.36,
           "1985/11/07"
          ],
          [
           -34.56,
           "23:47:48.7",
           179.34,
           "1986/08/23"
          ]
         ],
         "hovertemplate": "<b>%{hovertext}</b><br><br>Cluster=51<br>Lat=%{customdata[0]}<br>Lon=%{customdata[2]}<br>Time=%{customdata[1]}<br>Date=%{customdata[3]}<extra></extra>",
         "hovertext": {
          "dtype": "f8",
          "bdata": "AAAAAACASUAAAAAAAIBJQA=="
         },
         "lat": {
          "dtype": "f8",
          "bdata": "mpmZmZmZQcBI4XoUrkdBwA=="
         },
         "legendgroup": "51",
         "lon": {
          "dtype": "f8",
          "bdata": "7FG4HoVrZsB7FK5H4WpmQA=="
         },
         "marker": {
          "color": "#EF553B"
         },
         "mode": "markers",
         "name": "51",
         "showlegend": true,
         "subplot": "map",
         "type": "scattermap"
        },
        {
         "customdata": [
          [
           -46.02,
           "08:27:46.2",
           166.35,
           "1986/07/11"
          ],
          [
           -43.95,
           "18:26:19.1",
           168.72,
           "1988/05/15"
          ],
          [
           -45.25,
           "02:58:15.6",
           167.64,
           "1988/07/19"
          ]
         ],
         "hovertemplate": "<b>%{hovertext}</b><br><br>Cluster=17<br>Lat=%{customdata[0]}<br>Lon=%{customdata[2]}<br>Time=%{customdata[1]}<br>Date=%{customdata[3]}<extra></extra>",
         "hovertext": {
          "dtype": "f8",
          "bdata": "AAAAAAAAMUAAAAAAAAAxQAAAAAAAADFA"
         },
         "lat": {
          "dtype": "f8",
          "bdata": "w/UoXI8CR8CamZmZmflFwAAAAAAAoEbA"
         },
         "legendgroup": "17",
         "lon": {
          "dtype": "f8",
          "bdata": "MzMzMzPLZEDXo3A9ChdlQBSuR+F69GRA"
         },
         "marker": {
          "color": "#00cc96"
         },
         "mode": "markers",
         "name": "17",
         "showlegend": true,
         "subplot": "map",
         "type": "scattermap"
        },
        {
         "customdata": [
          [
           -34.16,
           "02:50:54.1",
           178.98,
           "1987/03/11"
          ],
          [
           -34.94,
           "21:38:47.5",
           179.68,
           "1987/08/16"
          ],
          [
           -34.93,
           "18:02:50.5",
           179.72,
           "1987/10/11"
          ],
          [
           -34.48,
           "02:11:15.4",
           179.77,
           "1987/10/14"
          ]
         ],
         "hovertemplate": "<b>%{hovertext}</b><br><br>Cluster=156<br>Lat=%{customdata[0]}<br>Lon=%{customdata[2]}<br>Time=%{customdata[1]}<br>Date=%{customdata[3]}<extra></extra>",
         "hovertext": {
          "dtype": "f8",
          "bdata": "AAAAAACAY0AAAAAAAIBjQAAAAAAAgGNAAAAAAACAY0A="
         },
         "lat": {
          "dtype": "f8",
          "bdata": "FK5H4XoUQcC4HoXrUXhBwNejcD0Kd0HAPQrXo3A9QcA="
         },
         "legendgroup": "156",
         "lon": {
          "dtype": "f8",
          "bdata": "j8L1KFxfZkD2KFyPwnVmQNejcD0Kd2ZAcT0K16N4ZkA="
         },
         "marker": {
          "color": "#ab63fa"
         },
         "mode": "markers",
         "name": "156",
         "showlegend": true,
         "subplot": "map",
         "type": "scattermap"
        },
        {
         "customdata": [
          [
           -30.47,
           "10:56:45.6",
           -179.02,
           "1987/04/20"
          ],
          [
           -31.1,
           "05:14:16.8",
           -179.76,
           "1988/04/02"
          ],
          [
           -30.86,
           "20:52:02.5",
           179.92,
           "1989/04/02"
          ]
         ],
         "hovertemplate": "<b>%{hovertext}</b><br><br>Cluster=164<br>Lat=%{customdata[0]}<br>Lon=%{customdata[2]}<br>Time=%{customdata[1]}<br>Date=%{customdata[3]}<extra></extra>",
         "hovertext": {
          "dtype": "f8",
          "bdata": "AAAAAACAZEAAAAAAAIBkQAAAAAAAgGRA"
         },
         "lat": {
          "dtype": "f8",
          "bdata": "uB6F61F4PsCamZmZmRk/wFyPwvUo3D7A"
         },
         "legendgroup": "164",
         "lon": {
          "dtype": "f8",
          "bdata": "cT0K16NgZsC4HoXrUXhmwD0K16NwfWZA"
         },
         "marker": {
          "color": "#FFA15A"
         },
         "mode": "markers",
         "name": "164",
         "showlegend": true,
         "subplot": "map",
         "type": "scattermap"
        },
        {
         "customdata": [
          [
           -49.18,
           "12:26:53.3",
           164.44,
           "1987/05/03"
          ],
          [
           -49.69,
           "00:59:55.3",
           164.05,
           "1987/11/12"
          ]
         ],
         "hovertemplate": "<b>%{hovertext}</b><br><br>Cluster=16<br>Lat=%{customdata[0]}<br>Lon=%{customdata[2]}<br>Time=%{customdata[1]}<br>Date=%{customdata[3]}<extra></extra>",
         "hovertext": {
          "dtype": "f8",
          "bdata": "AAAAAAAAMEAAAAAAAAAwQA=="
         },
         "lat": {
          "dtype": "f8",
          "bdata": "16NwPQqXSMC4HoXrUdhIwA=="
         },
         "legendgroup": "16",
         "lon": {
          "dtype": "f8",
          "bdata": "rkfhehSOZECamZmZmYFkQA=="
         },
         "marker": {
          "color": "#19d3f3"
         },
         "mode": "markers",
         "name": "16",
         "showlegend": true,
         "subplot": "map",
         "type": "scattermap"
        },
        {
         "customdata": [
          [
           -30.21,
           "21:59:41.9",
           165.77,
           "1987/07/26"
          ],
          [
           -30.38,
           "17:53:35.9",
           165.52,
           "1987/07/27"
          ],
          [
           -30.23,
           "11:57:58.1",
           165.86,
           "2010/02/24"
          ]
         ],
         "hovertemplate": "<b>%{hovertext}</b><br><br>Cluster=0<br>Lat=%{customdata[0]}<br>Lon=%{customdata[2]}<br>Time=%{customdata[1]}<br>Date=%{customdata[3]}<extra></extra>",
         "hovertext": {
          "dtype": "f8",
          "bdata": "AAAAAAAAAAAAAAAAAAAAAAAAAAAAAAAA"
         },
         "lat": {
          "dtype": "f8",
          "bdata": "9ihcj8I1PsDhehSuR2E+wHsUrkfhOj7A"
         },
         "legendgroup": "0",
         "lon": {
          "dtype": "f8",
          "bdata": "cT0K16O4ZEBxPQrXo7BkQOxRuB6Fu2RA"
         },
         "marker": {
          "color": "#FF6692"
         },
         "mode": "markers",
         "name": "0",
         "showlegend": true,
         "subplot": "map",
         "type": "scattermap"
        },
        {
         "customdata": [
          [
           -31.09,
           "11:57:13.8",
           -178.08,
           "1987/09/07"
          ],
          [
           -31.22,
           "17:43:39.1",
           -177.87,
           "1987/09/07"
          ]
         ],
         "hovertemplate": "<b>%{hovertext}</b><br><br>Cluster=168<br>Lat=%{customdata[0]}<br>Lon=%{customdata[2]}<br>Time=%{customdata[1]}<br>Date=%{customdata[3]}<extra></extra>",
         "hovertext": {
          "dtype": "f8",
          "bdata": "AAAAAAAAZUAAAAAAAABlQA=="
         },
         "lat": {
          "dtype": "f8",
          "bdata": "16NwPQoXP8C4HoXrUTg/wA=="
         },
         "legendgroup": "168",
         "lon": {
          "dtype": "f8",
          "bdata": "w/UoXI9CZsCkcD0K1ztmwA=="
         },
         "marker": {
          "color": "#B6E880"
         },
         "mode": "markers",
         "name": "168",
         "showlegend": true,
         "subplot": "map",
         "type": "scattermap"
        },
        {
         "customdata": [
          [
           -33.0,
           "19:14:56.7",
           -178.75,
           "1988/05/06"
          ],
          [
           -33.15,
           "07:18:25.5",
           -177.64,
           "1989/09/04"
          ],
          [
           -32.53,
           "16:49:29.7",
           -178.96,
           "1989/10/13"
          ]
         ],
         "hovertemplate": "<b>%{hovertext}</b><br><br>Cluster=111<br>Lat=%{customdata[0]}<br>Lon=%{customdata[2]}<br>Time=%{customdata[1]}<br>Date=%{customdata[3]}<extra></extra>",
         "hovertext": {
          "dtype": "f8",
          "bdata": "AAAAAADAW0AAAAAAAMBbQAAAAAAAwFtA"
         },
         "lat": {
          "dtype": "f8",
          "bdata": "AAAAAACAQMAzMzMzM5NAwKRwPQrXQ0DA"
         },
         "legendgroup": "111",
         "lon": {
          "dtype": "f8",
          "bdata": "AAAAAABYZsAUrkfhejRmwB+F61G4XmbA"
         },
         "marker": {
          "color": "#FF97FF"
         },
         "mode": "markers",
         "name": "111",
         "showlegend": true,
         "subplot": "map",
         "type": "scattermap"
        },
        {
         "customdata": [
          [
           -34.41,
           "19:33:08.7",
           -178.48,
           "1989/03/17"
          ],
          [
           -35.04,
           "04:23:45.9",
           -179.55,
           "1989/12/20"
          ]
         ],
         "hovertemplate": "<b>%{hovertext}</b><br><br>Cluster=112<br>Lat=%{customdata[0]}<br>Lon=%{customdata[2]}<br>Time=%{customdata[1]}<br>Date=%{customdata[3]}<extra></extra>",
         "hovertext": {
          "dtype": "f8",
          "bdata": "AAAAAAAAXEAAAAAAAABcQA=="
         },
         "lat": {
          "dtype": "f8",
          "bdata": "FK5H4Xo0QcCF61G4HoVBwA=="
         },
         "legendgroup": "112",
         "lon": {
          "dtype": "f8",
          "bdata": "j8L1KFxPZsCamZmZmXFmwA=="
         },
         "marker": {
          "color": "#FECB52"
         },
         "mode": "markers",
         "name": "112",
         "showlegend": true,
         "subplot": "map",
         "type": "scattermap"
        },
        {
         "customdata": [
          [
           -30.55,
           "00:59:49.0",
           -178.41,
           "1989/05/14"
          ],
          [
           -30.11,
           "16:23:26.4",
           -177.99,
           "1991/11/01"
          ],
          [
           -30.0,
           "09:04:24.9",
           -177.28,
           "1992/10/22"
          ]
         ],
         "hovertemplate": "<b>%{hovertext}</b><br><br>Cluster=20<br>Lat=%{customdata[0]}<br>Lon=%{customdata[2]}<br>Time=%{customdata[1]}<br>Date=%{customdata[3]}<extra></extra>",
         "hovertext": {
          "dtype": "f8",
          "bdata": "AAAAAAAANEAAAAAAAAA0QAAAAAAAADRA"
         },
         "lat": {
          "dtype": "f8",
          "bdata": "zczMzMyMPsBcj8L1KBw+wAAAAAAAAD7A"
         },
         "legendgroup": "20",
         "lon": {
          "dtype": "f8",
          "bdata": "hetRuB5NZsBI4XoUrj9mwClcj8L1KGbA"
         },
         "marker": {
          "color": "#636efa"
         },
         "mode": "markers",
         "name": "20",
         "showlegend": true,
         "subplot": "map",
         "type": "scattermap"
        },
        {
         "customdata": [
          [
           -40.21,
           "07:59:07.5",
           174.22,
           "1989/08/08"
          ],
          [
           -40.23,
           "13:50:31.0",
           175.17,
           "1991/09/08"
          ],
          [
           -39.68,
           "06:59:48.5",
           176.45,
           "1993/04/11"
          ]
         ],
         "hovertemplate": "<b>%{hovertext}</b><br><br>Cluster=69<br>Lat=%{customdata[0]}<br>Lon=%{customdata[2]}<br>Time=%{customdata[1]}<br>Date=%{customdata[3]}<extra></extra>",
         "hovertext": {
          "dtype": "f8",
          "bdata": "AAAAAABAUUAAAAAAAEBRQAAAAAAAQFFA"
         },
         "lat": {
          "dtype": "f8",
          "bdata": "exSuR+EaRMA9CtejcB1EwNejcD0K10PA"
         },
         "legendgroup": "69",
         "lon": {
          "dtype": "f8",
          "bdata": "16NwPQrHZUA9CtejcOVlQGZmZmZmDmZA"
         },
         "marker": {
          "color": "#EF553B"
         },
         "mode": "markers",
         "name": "69",
         "showlegend": true,
         "subplot": "map",
         "type": "scattermap"
        },
        {
         "customdata": [
          [
           -34.02,
           "22:55:48.0",
           -179.5,
           "1989/11/26"
          ],
          [
           -32.85,
           "01:10:43.3",
           -178.57,
           "1990/03/25"
          ],
          [
           -34.75,
           "17:45:20.2",
           179.74,
           "1990/08/21"
          ]
         ],
         "hovertemplate": "<b>%{hovertext}</b><br><br>Cluster=86<br>Lat=%{customdata[0]}<br>Lon=%{customdata[2]}<br>Time=%{customdata[1]}<br>Date=%{customdata[3]}<extra></extra>",
         "hovertext": {
          "dtype": "f8",
          "bdata": "AAAAAACAVUAAAAAAAIBVQAAAAAAAgFVA"
         },
         "lat": {
          "dtype": "f8",
          "bdata": "w/UoXI8CQcDNzMzMzGxAwAAAAAAAYEHA"
         },
         "legendgroup": "86",
         "lon": {
          "dtype": "f8",
          "bdata": "AAAAAABwZsAK16NwPVJmwEjhehSud2ZA"
         },
         "marker": {
          "color": "#00cc96"
         },
         "mode": "markers",
         "name": "86",
         "showlegend": true,
         "subplot": "map",
         "type": "scattermap"
        },
        {
         "customdata": [
          [
           -34.92,
           "11:44:48.6",
           -179.51,
           "1989/12/20"
          ],
          [
           -33.98,
           "13:45:05.6",
           -179.02,
           "1990/08/26"
          ],
          [
           -33.11,
           "01:01:00.4",
           -179.3,
           "1991/02/14"
          ],
          [
           -33.97,
           "06:53:04.1",
           -179.44,
           "1991/05/22"
          ],
          [
           -33.54,
           "20:35:24.5",
           -179.54,
           "1992/02/20"
          ],
          [
           -32.85,
           "06:13:40.1",
           -178.63,
           "1992/07/02"
          ],
          [
           -33.64,
           "19:13:03.6",
           179.59,
           "1992/12/14"
          ],
          [
           -32.45,
           "19:14:25.6",
           -178.26,
           "1992/12/26"
          ],
          [
           -31.98,
           "20:17:14.2",
           -178.17,
           "1992/12/31"
          ],
          [
           -32.77,
           "03:03:41.3",
           -178.12,
           "1993/01/20"
          ],
          [
           -33.76,
           "21:45:49.9",
           179.29,
           "1994/03/12"
          ]
         ],
         "hovertemplate": "<b>%{hovertext}</b><br><br>Cluster=178<br>Lat=%{customdata[0]}<br>Lon=%{customdata[2]}<br>Time=%{customdata[1]}<br>Date=%{customdata[3]}<extra></extra>",
         "hovertext": {
          "dtype": "f8",
          "bdata": "AAAAAABAZkAAAAAAAEBmQAAAAAAAQGZAAAAAAABAZkAAAAAAAEBmQAAAAAAAQGZAAAAAAABAZkAAAAAAAEBmQAAAAAAAQGZAAAAAAABAZkAAAAAAAEBmQA=="
         },
         "lat": {
          "dtype": "f8",
          "bdata": "9ihcj8J1QcA9CtejcP1AwK5H4XoUjkDAXI/C9Sj8QMCF61G4HsVAwM3MzMzMbEDAUrgehevRQMCamZmZmTlAwHsUrkfh+j/Aw/UoXI9iQMDhehSuR+FAwA=="
         },
         "legendgroup": "178",
         "lon": {
          "dtype": "f8",
          "bdata": "uB6F61FwZsBxPQrXo2BmwJqZmZmZaWbArkfhehRuZsDhehSuR3FmwFyPwvUoVGbAexSuR+FyZkC4HoXrUUhmwD0K16NwRWbApHA9CtdDZsDhehSuR2lmQA=="
         },
         "marker": {
          "color": "#ab63fa"
         },
         "mode": "markers",
         "name": "178",
         "showlegend": true,
         "subplot": "map",
         "type": "scattermap"
        },
        {
         "customdata": [
          [
           -42.19,
           "03:54:50.8",
           172.74,
           "1990/02/10"
          ],
          [
           -42.02,
           "12:58:48.8",
           171.71,
           "1991/01/28"
          ],
          [
           -42.02,
           "18:00:55.0",
           171.75,
           "1991/01/28"
          ]
         ],
         "hovertemplate": "<b>%{hovertext}</b><br><br>Cluster=71<br>Lat=%{customdata[0]}<br>Lon=%{customdata[2]}<br>Time=%{customdata[1]}<br>Date=%{customdata[3]}<extra></extra>",
         "hovertext": {
          "dtype": "f8",
          "bdata": "AAAAAADAUUAAAAAAAMBRQAAAAAAAwFFA"
         },
         "lat": {
          "dtype": "f8",
          "bdata": "uB6F61EYRcDD9ShcjwJFwMP1KFyPAkXA"
         },
         "legendgroup": "71",
         "lon": {
          "dtype": "f8",
          "bdata": "SOF6FK6XZUAfhetRuHZlQAAAAAAAeGVA"
         },
         "marker": {
          "color": "#FFA15A"
         },
         "mode": "markers",
         "name": "71",
         "showlegend": true,
         "subplot": "map",
         "type": "scattermap"
        },
        {
         "customdata": [
          [
           -40.3,
           "05:34:37.4",
           176.04,
           "1990/02/19"
          ],
          [
           -40.26,
           "04:23:10.8",
           176.14,
           "1990/05/13"
          ]
         ],
         "hovertemplate": "<b>%{hovertext}</b><br><br>Cluster=14<br>Lat=%{customdata[0]}<br>Lon=%{customdata[2]}<br>Time=%{customdata[1]}<br>Date=%{customdata[3]}<extra></extra>",
         "hovertext": {
          "dtype": "f8",
          "bdata": "AAAAAAAALEAAAAAAAAAsQA=="
         },
         "lat": {
          "dtype": "f8",
          "bdata": "ZmZmZmYmRMDhehSuRyFEwA=="
         },
         "legendgroup": "14",
         "lon": {
          "dtype": "f8",
          "bdata": "4XoUrkcBZkAUrkfhegRmQA=="
         },
         "marker": {
          "color": "#19d3f3"
         },
         "mode": "markers",
         "name": "14",
         "showlegend": true,
         "subplot": "map",
         "type": "scattermap"
        },
        {
         "customdata": [
          [
           -48.05,
           "12:59:51.2",
           165.45,
           "1990/03/12"
          ],
          [
           -47.9,
           "13:30:39.7",
           165.76,
           "1990/03/13"
          ],
          [
           -47.94,
           "07:05:52.8",
           164.79,
           "1990/03/24"
          ],
          [
           -49.2,
           "21:54:33.2",
           164.38,
           "1992/06/13"
          ]
         ],
         "hovertemplate": "<b>%{hovertext}</b><br><br>Cluster=15<br>Lat=%{customdata[0]}<br>Lon=%{customdata[2]}<br>Time=%{customdata[1]}<br>Date=%{customdata[3]}<extra></extra>",
         "hovertext": {
          "dtype": "f8",
          "bdata": "AAAAAAAALkAAAAAAAAAuQAAAAAAAAC5AAAAAAAAALkA="
         },
         "lat": {
          "dtype": "f8",
          "bdata": "ZmZmZmYGSMAzMzMzM/NHwLgehetR+EfAmpmZmZmZSMA="
         },
         "legendgroup": "15",
         "lon": {
          "dtype": "f8",
          "bdata": "ZmZmZmauZEC4HoXrUbhkQOF6FK5HmWRAXI/C9SiMZEA="
         },
         "marker": {
          "color": "#FF6692"
         },
         "mode": "markers",
         "name": "15",
         "showlegend": true,
         "subplot": "map",
         "type": "scattermap"
        },
        {
         "customdata": [
          [
           -40.32,
           "15:54:40.3",
           176.64,
           "1990/08/15"
          ],
          [
           -39.29,
           "04:42:22.8",
           175.92,
           "1991/07/12"
          ],
          [
           -40.47,
           "09:05:57.8",
           176.19,
           "1992/03/02"
          ]
         ],
         "hovertemplate": "<b>%{hovertext}</b><br><br>Cluster=68<br>Lat=%{customdata[0]}<br>Lon=%{customdata[2]}<br>Time=%{customdata[1]}<br>Date=%{customdata[3]}<extra></extra>",
         "hovertext": {
          "dtype": "f8",
          "bdata": "AAAAAAAAUUAAAAAAAABRQAAAAAAAAFFA"
         },
         "lat": {
          "dtype": "f8",
          "bdata": "KVyPwvUoRMCF61G4HqVDwFyPwvUoPETA"
         },
         "legendgroup": "68",
         "lon": {
          "dtype": "f8",
          "bdata": "FK5H4XoUZkA9CtejcP1lQK5H4XoUBmZA"
         },
         "marker": {
          "color": "#B6E880"
         },
         "mode": "markers",
         "name": "68",
         "showlegend": true,
         "subplot": "map",
         "type": "scattermap"
        },
        {
         "customdata": [
          [
           -41.45,
           "23:48:31.4",
           175.0,
           "1990/10/04"
          ],
          [
           -41.51,
           "02:41:16.2",
           175.29,
           "1990/10/06"
          ],
          [
           -41.53,
           "22:30:36.0",
           173.6,
           "1992/05/27"
          ]
         ],
         "hovertemplate": "<b>%{hovertext}</b><br><br>Cluster=70<br>Lat=%{customdata[0]}<br>Lon=%{customdata[2]}<br>Time=%{customdata[1]}<br>Date=%{customdata[3]}<extra></extra>",
         "hovertext": {
          "dtype": "f8",
          "bdata": "AAAAAACAUUAAAAAAAIBRQAAAAAAAgFFA"
         },
         "lat": {
          "dtype": "f8",
          "bdata": "mpmZmZm5RMDhehSuR8FEwKRwPQrXw0TA"
         },
         "legendgroup": "70",
         "lon": {
          "dtype": "f8",
          "bdata": "AAAAAADgZUDhehSuR+llQDMzMzMzs2VA"
         },
         "marker": {
          "color": "#FF97FF"
         },
         "mode": "markers",
         "name": "70",
         "showlegend": true,
         "subplot": "map",
         "type": "scattermap"
        },
        {
         "customdata": [
          [
           -31.78,
           "11:31:04.6",
           179.77,
           "1991/02/12"
          ],
          [
           -31.2,
           "01:08:07.3",
           179.94,
           "1992/08/08"
          ]
         ],
         "hovertemplate": "<b>%{hovertext}</b><br><br>Cluster=161<br>Lat=%{customdata[0]}<br>Lon=%{customdata[2]}<br>Time=%{customdata[1]}<br>Date=%{customdata[3]}<extra></extra>",
         "hovertext": {
          "dtype": "f8",
          "bdata": "AAAAAAAgZEAAAAAAACBkQA=="
         },
         "lat": {
          "dtype": "f8",
          "bdata": "SOF6FK7HP8AzMzMzMzM/wA=="
         },
         "legendgroup": "161",
         "lon": {
          "dtype": "f8",
          "bdata": "cT0K16N4ZkCuR+F6FH5mQA=="
         },
         "marker": {
          "color": "#FECB52"
         },
         "mode": "markers",
         "name": "161",
         "showlegend": true,
         "subplot": "map",
         "type": "scattermap"
        },
        {
         "customdata": [
          [
           -42.1,
           "10:48:12.9",
           171.56,
           "1991/02/15"
          ],
          [
           -42.93,
           "07:02:56.6",
           171.17,
           "1992/03/30"
          ],
          [
           -43.11,
           "02:18:26.8",
           171.52,
           "1994/06/21"
          ]
         ],
         "hovertemplate": "<b>%{hovertext}</b><br><br>Cluster=67<br>Lat=%{customdata[0]}<br>Lon=%{customdata[2]}<br>Time=%{customdata[1]}<br>Date=%{customdata[3]}<extra></extra>",
         "hovertext": {
          "dtype": "f8",
          "bdata": "AAAAAADAUEAAAAAAAMBQQAAAAAAAwFBA"
         },
         "lat": {
          "dtype": "f8",
          "bdata": "zczMzMwMRcDXo3A9CndFwK5H4XoUjkXA"
         },
         "legendgroup": "67",
         "lon": {
          "dtype": "f8",
          "bdata": "UrgehetxZUA9CtejcGVlQHE9CtejcGVA"
         },
         "marker": {
          "color": "#636efa"
         },
         "mode": "markers",
         "name": "67",
         "showlegend": true,
         "subplot": "map",
         "type": "scattermap"
        },
        {
         "customdata": [
          [
           -44.56,
           "23:35:09.6",
           167.77,
           "1991/11/29"
          ],
          [
           -45.35,
           "22:08:49.6",
           166.61,
           "1993/08/11"
          ]
         ],
         "hovertemplate": "<b>%{hovertext}</b><br><br>Cluster=18<br>Lat=%{customdata[0]}<br>Lon=%{customdata[2]}<br>Time=%{customdata[1]}<br>Date=%{customdata[3]}<extra></extra>",
         "hovertext": {
          "dtype": "f8",
          "bdata": "AAAAAAAAMkAAAAAAAAAyQA=="
         },
         "lat": {
          "dtype": "f8",
          "bdata": "SOF6FK5HRsDNzMzMzKxGwA=="
         },
         "legendgroup": "18",
         "lon": {
          "dtype": "f8",
          "bdata": "cT0K16P4ZEDsUbgehdNkQA=="
         },
         "marker": {
          "color": "#EF553B"
         },
         "mode": "markers",
         "name": "18",
         "showlegend": true,
         "subplot": "map",
         "type": "scattermap"
        },
        {
         "customdata": [
          [
           -37.52,
           "17:27:32.6",
           177.25,
           "1992/03/25"
          ],
          [
           -38.25,
           "17:57:15.3",
           177.77,
           "1992/05/16"
          ]
         ],
         "hovertemplate": "<b>%{hovertext}</b><br><br>Cluster=92<br>Lat=%{customdata[0]}<br>Lon=%{customdata[2]}<br>Time=%{customdata[1]}<br>Date=%{customdata[3]}<extra></extra>",
         "hovertext": {
          "dtype": "f8",
          "bdata": "AAAAAAAAV0AAAAAAAABXQA=="
         },
         "lat": {
          "dtype": "f8",
          "bdata": "w/UoXI/CQsAAAAAAACBDwA=="
         },
         "legendgroup": "92",
         "lon": {
          "dtype": "f8",
          "bdata": "AAAAAAAoZkBxPQrXozhmQA=="
         },
         "marker": {
          "color": "#00cc96"
         },
         "mode": "markers",
         "name": "92",
         "showlegend": true,
         "subplot": "map",
         "type": "scattermap"
        },
        {
         "customdata": [
          [
           -37.8,
           "17:43:12.1",
           176.96,
           "1992/06/21"
          ],
          [
           -38.36,
           "09:46:36.1",
           177.47,
           "1993/08/10"
          ]
         ],
         "hovertemplate": "<b>%{hovertext}</b><br><br>Cluster=41<br>Lat=%{customdata[0]}<br>Lon=%{customdata[2]}<br>Time=%{customdata[1]}<br>Date=%{customdata[3]}<extra></extra>",
         "hovertext": {
          "dtype": "f8",
          "bdata": "AAAAAACAREAAAAAAAIBEQA=="
         },
         "lat": {
          "dtype": "f8",
          "bdata": "ZmZmZmbmQsCuR+F6FC5DwA=="
         },
         "legendgroup": "41",
         "lon": {
          "dtype": "f8",
          "bdata": "H4XrUbgeZkDXo3A9Ci9mQA=="
         },
         "marker": {
          "color": "#ab63fa"
         },
         "mode": "markers",
         "name": "41",
         "showlegend": true,
         "subplot": "map",
         "type": "scattermap"
        },
        {
         "customdata": [
          [
           -45.14,
           "00:51:54.7",
           166.95,
           "1993/08/10"
          ],
          [
           -42.86,
           "03:25:19.5",
           171.46,
           "1994/06/18"
          ]
         ],
         "hovertemplate": "<b>%{hovertext}</b><br><br>Cluster=3<br>Lat=%{customdata[0]}<br>Lon=%{customdata[2]}<br>Time=%{customdata[1]}<br>Date=%{customdata[3]}<extra></extra>",
         "hovertext": {
          "dtype": "f8",
          "bdata": "AAAAAAAACEAAAAAAAAAIQA=="
         },
         "lat": {
          "dtype": "f8",
          "bdata": "UrgeheuRRsCuR+F6FG5FwA=="
         },
         "legendgroup": "3",
         "lon": {
          "dtype": "f8",
          "bdata": "ZmZmZmbeZEAfhetRuG5lQA=="
         },
         "marker": {
          "color": "#FFA15A"
         },
         "mode": "markers",
         "name": "3",
         "showlegend": true,
         "subplot": "map",
         "type": "scattermap"
        },
        {
         "customdata": [
          [
           -35.93,
           "01:29:59.9",
           178.28,
           "1993/08/26"
          ],
          [
           -35.08,
           "12:54:10.7",
           179.13,
           "1994/10/07"
          ],
          [
           -35.41,
           "22:05:58.4",
           178.3,
           "1994/12/04"
          ]
         ],
         "hovertemplate": "<b>%{hovertext}</b><br><br>Cluster=134<br>Lat=%{customdata[0]}<br>Lon=%{customdata[2]}<br>Time=%{customdata[1]}<br>Date=%{customdata[3]}<extra></extra>",
         "hovertext": {
          "dtype": "f8",
          "bdata": "AAAAAADAYEAAAAAAAMBgQAAAAAAAwGBA"
         },
         "lat": {
          "dtype": "f8",
          "bdata": "16NwPQr3QcAK16NwPYpBwBSuR+F6tEHA"
         },
         "legendgroup": "134",
         "lon": {
          "dtype": "f8",
          "bdata": "KVyPwvVIZkBcj8L1KGRmQJqZmZmZSWZA"
         },
         "marker": {
          "color": "#19d3f3"
         },
         "mode": "markers",
         "name": "134",
         "showlegend": true,
         "subplot": "map",
         "type": "scattermap"
        },
        {
         "customdata": [
          [
           -31.48,
           "02:48:52.5",
           -179.49,
           "1993/09/07"
          ],
          [
           -32.83,
           "22:29:57.3",
           -178.27,
           "1996/01/30"
          ],
          [
           -31.79,
           "16:46:02.0",
           -179.38,
           "1997/05/03"
          ]
         ],
         "hovertemplate": "<b>%{hovertext}</b><br><br>Cluster=21<br>Lat=%{customdata[0]}<br>Lon=%{customdata[2]}<br>Time=%{customdata[1]}<br>Date=%{customdata[3]}<extra></extra>",
         "hovertext": {
          "dtype": "f8",
          "bdata": "AAAAAAAANUAAAAAAAAA1QAAAAAAAADVA"
         },
         "lat": {
          "dtype": "f8",
          "bdata": "exSuR+F6P8AK16NwPWpAwArXo3A9yj/A"
         },
         "legendgroup": "21",
         "lon": {
          "dtype": "f8",
          "bdata": "SOF6FK5vZsBxPQrXo0hmwFyPwvUobGbA"
         },
         "marker": {
          "color": "#FF6692"
         },
         "mode": "markers",
         "name": "21",
         "showlegend": true,
         "subplot": "map",
         "type": "scattermap"
        },
        {
         "customdata": [
          [
           -37.33,
           "11:20:22.3",
           177.55,
           "1994/12/15"
          ],
          [
           -37.71,
           "22:51:10.4",
           178.77,
           "1995/02/05"
          ],
          [
           -37.97,
           "01:45:04.4",
           178.47,
           "1995/02/10"
          ],
          [
           -37.54,
           "00:11:47.7",
           178.54,
           "1995/02/13"
          ]
         ],
         "hovertemplate": "<b>%{hovertext}</b><br><br>Cluster=42<br>Lat=%{customdata[0]}<br>Lon=%{customdata[2]}<br>Time=%{customdata[1]}<br>Date=%{customdata[3]}<extra></extra>",
         "hovertext": {
          "dtype": "f8",
          "bdata": "AAAAAAAARUAAAAAAAABFQAAAAAAAAEVAAAAAAAAARUA="
         },
         "lat": {
          "dtype": "f8",
          "bdata": "CtejcD2qQsB7FK5H4dpCwFyPwvUo/ELAhetRuB7FQsA="
         },
         "legendgroup": "42",
         "lon": {
          "dtype": "f8",
          "bdata": "mpmZmZkxZkBxPQrXo1hmQNejcD0KT2ZA4XoUrkdRZkA="
         },
         "marker": {
          "color": "#B6E880"
         },
         "mode": "markers",
         "name": "42",
         "showlegend": true,
         "subplot": "map",
         "type": "scattermap"
        },
        {
         "customdata": [
          [
           -30.16,
           "11:43:54.3",
           -178.63,
           "1994/12/25"
          ],
          [
           -30.75,
           "08:51:15.2",
           -178.24,
           "1996/08/24"
          ],
          [
           -30.9,
           "17:55:25.4",
           -177.85,
           "1997/03/07"
          ],
          [
           -30.42,
           "23:59:58.4",
           -177.71,
           "1998/03/07"
          ],
          [
           -30.56,
           "14:00:55.9",
           -177.79,
           "1998/03/08"
          ]
         ],
         "hovertemplate": "<b>%{hovertext}</b><br><br>Cluster=176<br>Lat=%{customdata[0]}<br>Lon=%{customdata[2]}<br>Time=%{customdata[1]}<br>Date=%{customdata[3]}<extra></extra>",
         "hovertext": {
          "dtype": "f8",
          "bdata": "AAAAAAAAZkAAAAAAAABmQAAAAAAAAGZAAAAAAAAAZkAAAAAAAABmQA=="
         },
         "lat": {
          "dtype": "f8",
          "bdata": "KVyPwvUoPsAAAAAAAMA+wGZmZmZm5j7A7FG4HoVrPsCPwvUoXI8+wA=="
         },
         "legendgroup": "176",
         "lon": {
          "dtype": "f8",
          "bdata": "XI/C9ShUZsBI4XoUrkdmwDMzMzMzO2bAH4XrUbg2ZsDhehSuRzlmwA=="
         },
         "marker": {
          "color": "#FF97FF"
         },
         "mode": "markers",
         "name": "176",
         "showlegend": true,
         "subplot": "map",
         "type": "scattermap"
        },
        {
         "customdata": [
          [
           -32.0,
           "17:32:52.5",
           179.87,
           "1994/12/27"
          ],
          [
           -32.88,
           "22:23:53.5",
           179.87,
           "1994/12/28"
          ],
          [
           -31.16,
           "09:41:34.7",
           180.0,
           "1996/11/05"
          ]
         ],
         "hovertemplate": "<b>%{hovertext}</b><br><br>Cluster=106<br>Lat=%{customdata[0]}<br>Lon=%{customdata[2]}<br>Time=%{customdata[1]}<br>Date=%{customdata[3]}<extra></extra>",
         "hovertext": {
          "dtype": "f8",
          "bdata": "AAAAAACAWkAAAAAAAIBaQAAAAAAAgFpA"
         },
         "lat": {
          "dtype": "f8",
          "bdata": "AAAAAAAAQMBxPQrXo3BAwClcj8L1KD/A"
         },
         "legendgroup": "106",
         "lon": {
          "dtype": "f8",
          "bdata": "pHA9Ctd7ZkCkcD0K13tmQAAAAAAAgGZA"
         },
         "marker": {
          "color": "#FECB52"
         },
         "mode": "markers",
         "name": "106",
         "showlegend": true,
         "subplot": "map",
         "type": "scattermap"
        },
        {
         "customdata": [
          [
           -37.93,
           "10:19:52.5",
           178.8,
           "1995/02/06"
          ],
          [
           -37.8,
           "10:43:57.2",
           178.82,
           "1995/02/06"
          ],
          [
           -37.78,
           "15:19:28.4",
           178.81,
           "1995/02/06"
          ],
          [
           -37.69,
           "09:04:16.7",
           179.02,
           "1995/02/27"
          ]
         ],
         "hovertemplate": "<b>%{hovertext}</b><br><br>Cluster=73<br>Lat=%{customdata[0]}<br>Lon=%{customdata[2]}<br>Time=%{customdata[1]}<br>Date=%{customdata[3]}<extra></extra>",
         "hovertext": {
          "dtype": "f8",
          "bdata": "AAAAAABAUkAAAAAAAEBSQAAAAAAAQFJAAAAAAABAUkA="
         },
         "lat": {
          "dtype": "f8",
          "bdata": "16NwPQr3QsBmZmZmZuZCwKRwPQrX40LAuB6F61HYQsA="
         },
         "legendgroup": "73",
         "lon": {
          "dtype": "f8",
          "bdata": "mpmZmZlZZkAK16NwPVpmQFK4HoXrWWZAcT0K16NgZkA="
         },
         "marker": {
          "color": "#636efa"
         },
         "mode": "markers",
         "name": "73",
         "showlegend": true,
         "subplot": "map",
         "type": "scattermap"
        },
        {
         "customdata": [
          [
           -37.98,
           "11:23:04.4",
           178.65,
           "1995/02/06"
          ],
          [
           -38.12,
           "02:56:20.2",
           178.41,
           "1995/02/07"
          ],
          [
           -37.64,
           "17:20:22.9",
           178.72,
           "1995/02/08"
          ],
          [
           -38.14,
           "10:56:43.5",
           178.52,
           "1995/02/09"
          ],
          [
           -38.25,
           "12:54:01.3",
           178.4,
           "1995/02/09"
          ],
          [
           -37.64,
           "02:44:29.2",
           179.05,
           "1995/02/12"
          ],
          [
           -37.61,
           "01:16:53.7",
           178.85,
           "1995/02/15"
          ],
          [
           -37.54,
           "23:36:16.7",
           178.73,
           "1995/02/15"
          ],
          [
           -37.08,
           "23:07:57.2",
           178.36,
           "1995/04/14"
          ],
          [
           -38.28,
           "03:34:32.9",
           177.74,
           "1996/06/27"
          ]
         ],
         "hovertemplate": "<b>%{hovertext}</b><br><br>Cluster=99<br>Lat=%{customdata[0]}<br>Lon=%{customdata[2]}<br>Time=%{customdata[1]}<br>Date=%{customdata[3]}<extra></extra>",
         "hovertext": {
          "dtype": "f8",
          "bdata": "AAAAAADAWEAAAAAAAMBYQAAAAAAAwFhAAAAAAADAWEAAAAAAAMBYQAAAAAAAwFhAAAAAAADAWEAAAAAAAMBYQAAAAAAAwFhAAAAAAADAWEA="
         },
         "lat": {
          "dtype": "f8",
          "bdata": "PQrXo3D9QsCPwvUoXA9DwFK4HoXr0ULAUrgehesRQ8AAAAAAACBDwFK4HoXr0ULArkfhehTOQsCF61G4HsVCwArXo3A9ikLApHA9CtcjQ8A="
         },
         "legendgroup": "99",
         "lon": {
          "dtype": "f8",
          "bdata": "zczMzMxUZkCF61G4Hk1mQNejcD0KV2ZAcT0K16NQZkDNzMzMzExmQJqZmZmZYWZAMzMzMzNbZkCPwvUoXFdmQOxRuB6FS2ZASOF6FK43ZkA="
         },
         "marker": {
          "color": "#EF553B"
         },
         "mode": "markers",
         "name": "99",
         "showlegend": true,
         "subplot": "map",
         "type": "scattermap"
        },
        {
         "customdata": [
          [
           -41.03,
           "19:43:30.2",
           174.05,
           "1995/03/22"
          ],
          [
           -41.21,
           "21:03:31.8",
           173.54,
           "1997/11/29"
          ],
          [
           -41.04,
           "07:00:19.7",
           174.41,
           "1999/01/03"
          ]
         ],
         "hovertemplate": "<b>%{hovertext}</b><br><br>Cluster=64<br>Lat=%{customdata[0]}<br>Lon=%{customdata[2]}<br>Time=%{customdata[1]}<br>Date=%{customdata[3]}<extra></extra>",
         "hovertext": {
          "dtype": "f8",
          "bdata": "AAAAAAAAUEAAAAAAAABQQAAAAAAAAFBA"
         },
         "lat": {
          "dtype": "f8",
          "bdata": "pHA9CteDRMB7FK5H4ZpEwIXrUbgehUTA"
         },
         "legendgroup": "64",
         "lon": {
          "dtype": "f8",
          "bdata": "mpmZmZnBZUDhehSuR7FlQIXrUbgezWVA"
         },
         "marker": {
          "color": "#00cc96"
         },
         "mode": "markers",
         "name": "64",
         "showlegend": true,
         "subplot": "map",
         "type": "scattermap"
        },
        {
         "customdata": [
          [
           -42.96,
           "10:06:45.0",
           171.5,
           "1995/05/29"
          ],
          [
           -42.49,
           "04:47:03.9",
           172.76,
           "1996/08/29"
          ],
          [
           -43.83,
           "20:02:59.8",
           169.67,
           "1998/10/20"
          ]
         ],
         "hovertemplate": "<b>%{hovertext}</b><br><br>Cluster=19<br>Lat=%{customdata[0]}<br>Lon=%{customdata[2]}<br>Time=%{customdata[1]}<br>Date=%{customdata[3]}<extra></extra>",
         "hovertext": {
          "dtype": "f8",
          "bdata": "AAAAAAAAM0AAAAAAAAAzQAAAAAAAADNA"
         },
         "lat": {
          "dtype": "f8",
          "bdata": "exSuR+F6RcAfhetRuD5FwArXo3A96kXA"
         },
         "legendgroup": "19",
         "lon": {
          "dtype": "f8",
          "bdata": "AAAAAABwZUC4HoXrUZhlQD0K16NwNWVA"
         },
         "marker": {
          "color": "#ab63fa"
         },
         "mode": "markers",
         "name": "19",
         "showlegend": true,
         "subplot": "map",
         "type": "scattermap"
        },
        {
         "customdata": [
          [
           -32.35,
           "22:56:59.5",
           -179.54,
           "1996/02/04"
          ],
          [
           -32.54,
           "00:47:21.1",
           -179.05,
           "1996/11/11"
          ],
          [
           -33.55,
           "16:43:41.3",
           -179.54,
           "1998/04/10"
          ]
         ],
         "hovertemplate": "<b>%{hovertext}</b><br><br>Cluster=105<br>Lat=%{customdata[0]}<br>Lon=%{customdata[2]}<br>Time=%{customdata[1]}<br>Date=%{customdata[3]}<extra></extra>",
         "hovertext": {
          "dtype": "f8",
          "bdata": "AAAAAABAWkAAAAAAAEBaQAAAAAAAQFpA"
         },
         "lat": {
          "dtype": "f8",
          "bdata": "zczMzMwsQMCF61G4HkVAwGZmZmZmxkDA"
         },
         "legendgroup": "105",
         "lon": {
          "dtype": "f8",
          "bdata": "4XoUrkdxZsCamZmZmWFmwOF6FK5HcWbA"
         },
         "marker": {
          "color": "#FFA15A"
         },
         "mode": "markers",
         "name": "105",
         "showlegend": true,
         "subplot": "map",
         "type": "scattermap"
        },
        {
         "customdata": [
          [
           -34.55,
           "07:53:22.7",
           179.38,
           "1996/11/09"
          ],
          [
           -34.56,
           "23:20:47.2",
           179.79,
           "1998/11/11"
          ],
          [
           -34.32,
           "14:09:50.5",
           179.13,
           "2000/03/04"
          ]
         ],
         "hovertemplate": "<b>%{hovertext}</b><br><br>Cluster=139<br>Lat=%{customdata[0]}<br>Lon=%{customdata[2]}<br>Time=%{customdata[1]}<br>Date=%{customdata[3]}<extra></extra>",
         "hovertext": {
          "dtype": "f8",
          "bdata": "AAAAAABgYUAAAAAAAGBhQAAAAAAAYGFA"
         },
         "lat": {
          "dtype": "f8",
          "bdata": "ZmZmZmZGQcBI4XoUrkdBwClcj8L1KEHA"
         },
         "legendgroup": "139",
         "lon": {
          "dtype": "f8",
          "bdata": "XI/C9ShsZkDhehSuR3lmQFyPwvUoZGZA"
         },
         "marker": {
          "color": "#19d3f3"
         },
         "mode": "markers",
         "name": "139",
         "showlegend": true,
         "subplot": "map",
         "type": "scattermap"
        },
        {
         "customdata": [
          [
           -31.08,
           "05:25:57.7",
           -177.73,
           "1997/03/11"
          ],
          [
           -30.49,
           "14:45:40.0",
           -178.99,
           "1998/07/09"
          ],
          [
           -30.28,
           "10:08:20.6",
           -178.01,
           "1999/07/28"
          ]
         ],
         "hovertemplate": "<b>%{hovertext}</b><br><br>Cluster=104<br>Lat=%{customdata[0]}<br>Lon=%{customdata[2]}<br>Time=%{customdata[1]}<br>Date=%{customdata[3]}<extra></extra>",
         "hovertext": {
          "dtype": "f8",
          "bdata": "AAAAAAAAWkAAAAAAAABaQAAAAAAAAFpA"
         },
         "lat": {
          "dtype": "f8",
          "bdata": "FK5H4XoUP8A9CtejcH0+wEjhehSuRz7A"
         },
         "legendgroup": "104",
         "lon": {
          "dtype": "f8",
          "bdata": "j8L1KFw3ZsBI4XoUrl9mwLgehetRQGbA"
         },
         "marker": {
          "color": "#FF6692"
         },
         "mode": "markers",
         "name": "104",
         "showlegend": true,
         "subplot": "map",
         "type": "scattermap"
        },
        {
         "customdata": [
          [
           -37.02,
           "02:18:00.8",
           177.65,
           "1997/03/25"
          ],
          [
           -36.4,
           "06:15:21.4",
           177.86,
           "1999/04/20"
          ],
          [
           -35.78,
           "14:52:58.0",
           178.09,
           "1999/07/15"
          ],
          [
           -35.23,
           "04:48:55.0",
           178.6,
           "2000/07/01"
          ]
         ],
         "hovertemplate": "<b>%{hovertext}</b><br><br>Cluster=98<br>Lat=%{customdata[0]}<br>Lon=%{customdata[2]}<br>Time=%{customdata[1]}<br>Date=%{customdata[3]}<extra></extra>",
         "hovertext": {
          "dtype": "f8",
          "bdata": "AAAAAACAWEAAAAAAAIBYQAAAAAAAgFhAAAAAAACAWEA="
         },
         "lat": {
          "dtype": "f8",
          "bdata": "w/UoXI+CQsAzMzMzMzNCwKRwPQrX40HAPQrXo3CdQcA="
         },
         "legendgroup": "98",
         "lon": {
          "dtype": "f8",
          "bdata": "zczMzMw0ZkDsUbgehTtmQHsUrkfhQmZAMzMzMzNTZkA="
         },
         "marker": {
          "color": "#B6E880"
         },
         "mode": "markers",
         "name": "98",
         "showlegend": true,
         "subplot": "map",
         "type": "scattermap"
        },
        {
         "customdata": [
          [
           -32.12,
           "23:22:33.1",
           179.79,
           "1997/05/25"
          ],
          [
           -31.89,
           "19:04:08.3",
           -179.04,
           "1999/04/20"
          ]
         ],
         "hovertemplate": "<b>%{hovertext}</b><br><br>Cluster=103<br>Lat=%{customdata[0]}<br>Lon=%{customdata[2]}<br>Time=%{customdata[1]}<br>Date=%{customdata[3]}<extra></extra>",
         "hovertext": {
          "dtype": "f8",
          "bdata": "AAAAAADAWUAAAAAAAMBZQA=="
         },
         "lat": {
          "dtype": "f8",
          "bdata": "j8L1KFwPQMCkcD0K1+M/wA=="
         },
         "legendgroup": "103",
         "lon": {
          "dtype": "f8",
          "bdata": "4XoUrkd5ZkDhehSuR2FmwA=="
         },
         "marker": {
          "color": "#FF97FF"
         },
         "mode": "markers",
         "name": "103",
         "showlegend": true,
         "subplot": "map",
         "type": "scattermap"
        },
        {
         "customdata": [
          [
           -47.43,
           "10:50:11.2",
           165.96,
           "1997/05/26"
          ],
          [
           -47.51,
           "23:06:01.7",
           165.18,
           "1998/01/26"
          ]
         ],
         "hovertemplate": "<b>%{hovertext}</b><br><br>Cluster=22<br>Lat=%{customdata[0]}<br>Lon=%{customdata[2]}<br>Time=%{customdata[1]}<br>Date=%{customdata[3]}<extra></extra>",
         "hovertext": {
          "dtype": "f8",
          "bdata": "AAAAAAAANkAAAAAAAAA2QA=="
         },
         "lat": {
          "dtype": "f8",
          "bdata": "16NwPQq3R8DhehSuR8FHwA=="
         },
         "legendgroup": "22",
         "lon": {
          "dtype": "f8",
          "bdata": "H4XrUbi+ZED2KFyPwqVkQA=="
         },
         "marker": {
          "color": "#FECB52"
         },
         "mode": "markers",
         "name": "22",
         "showlegend": true,
         "subplot": "map",
         "type": "scattermap"
        },
        {
         "customdata": [
          [
           -35.36,
           "22:40:54.4",
           179.56,
           "1997/08/04"
          ],
          [
           -35.42,
           "09:25:19.8",
           -179.56,
           "1998/09/27"
          ],
          [
           -35.2,
           "14:07:32.5",
           -179.54,
           "1998/10/07"
          ]
         ],
         "hovertemplate": "<b>%{hovertext}</b><br><br>Cluster=181<br>Lat=%{customdata[0]}<br>Lon=%{customdata[2]}<br>Time=%{customdata[1]}<br>Date=%{customdata[3]}<extra></extra>",
         "hovertext": {
          "dtype": "f8",
          "bdata": "AAAAAACgZkAAAAAAAKBmQAAAAAAAoGZA"
         },
         "lat": {
          "dtype": "f8",
          "bdata": "rkfhehSuQcD2KFyPwrVBwJqZmZmZmUHA"
         },
         "legendgroup": "181",
         "lon": {
          "dtype": "f8",
          "bdata": "UrgehetxZkBSuB6F63FmwOF6FK5HcWbA"
         },
         "marker": {
          "color": "#636efa"
         },
         "mode": "markers",
         "name": "181",
         "showlegend": true,
         "subplot": "map",
         "type": "scattermap"
        },
        {
         "customdata": [
          [
           -33.3,
           "01:09:10.6",
           -178.44,
           "1998/04/02"
          ],
          [
           -32.83,
           "19:37:44.8",
           -178.27,
           "1999/09/10"
          ]
         ],
         "hovertemplate": "<b>%{hovertext}</b><br><br>Cluster=143<br>Lat=%{customdata[0]}<br>Lon=%{customdata[2]}<br>Time=%{customdata[1]}<br>Date=%{customdata[3]}<extra></extra>",
         "hovertext": {
          "dtype": "f8",
          "bdata": "AAAAAADgYUAAAAAAAOBhQA=="
         },
         "lat": {
          "dtype": "f8",
          "bdata": "ZmZmZmamQMAK16NwPWpAwA=="
         },
         "legendgroup": "143",
         "lon": {
          "dtype": "f8",
          "bdata": "rkfhehROZsBxPQrXo0hmwA=="
         },
         "marker": {
          "color": "#EF553B"
         },
         "mode": "markers",
         "name": "143",
         "showlegend": true,
         "subplot": "map",
         "type": "scattermap"
        },
        {
         "customdata": [
          [
           -30.1,
           "20:24:45.2",
           -177.93,
           "1998/06/20"
          ],
          [
           -30.23,
           "02:56:07.4",
           -177.68,
           "1999/11/26"
          ],
          [
           -30.26,
           "17:26:24.2",
           -178.14,
           "2000/09/16"
          ]
         ],
         "hovertemplate": "<b>%{hovertext}</b><br><br>Cluster=145<br>Lat=%{customdata[0]}<br>Lon=%{customdata[2]}<br>Time=%{customdata[1]}<br>Date=%{customdata[3]}<extra></extra>",
         "hovertext": {
          "dtype": "f8",
          "bdata": "AAAAAAAgYkAAAAAAACBiQAAAAAAAIGJA"
         },
         "lat": {
          "dtype": "f8",
          "bdata": "mpmZmZkZPsB7FK5H4To+wMP1KFyPQj7A"
         },
         "legendgroup": "145",
         "lon": {
          "dtype": "f8",
          "bdata": "9ihcj8I9ZsD2KFyPwjVmwBSuR+F6RGbA"
         },
         "marker": {
          "color": "#00cc96"
         },
         "mode": "markers",
         "name": "145",
         "showlegend": true,
         "subplot": "map",
         "type": "scattermap"
        },
        {
         "customdata": [
          [
           -35.63,
           "06:30:46.6",
           -179.84,
           "1998/09/20"
          ],
          [
           -35.59,
           "07:14:32.6",
           179.96,
           "1998/09/20"
          ]
         ],
         "hovertemplate": "<b>%{hovertext}</b><br><br>Cluster=126<br>Lat=%{customdata[0]}<br>Lon=%{customdata[2]}<br>Time=%{customdata[1]}<br>Date=%{customdata[3]}<extra></extra>",
         "hovertext": {
          "dtype": "f8",
          "bdata": "AAAAAACAX0AAAAAAAIBfQA=="
         },
         "lat": {
          "dtype": "f8",
          "bdata": "cT0K16PQQcDsUbgehctBwA=="
         },
         "legendgroup": "126",
         "lon": {
          "dtype": "f8",
          "bdata": "exSuR+F6ZsAfhetRuH5mQA=="
         },
         "marker": {
          "color": "#ab63fa"
         },
         "mode": "markers",
         "name": "126",
         "showlegend": true,
         "subplot": "map",
         "type": "scattermap"
        },
        {
         "customdata": [
          [
           -34.02,
           "13:21:32.3",
           -178.97,
           "1999/05/06"
          ],
          [
           -33.62,
           "14:54:07.8",
           -179.01,
           "2000/04/26"
          ],
          [
           -33.25,
           "18:02:06.3",
           -178.48,
           "2001/11/30"
          ]
         ],
         "hovertemplate": "<b>%{hovertext}</b><br><br>Cluster=162<br>Lat=%{customdata[0]}<br>Lon=%{customdata[2]}<br>Time=%{customdata[1]}<br>Date=%{customdata[3]}<extra></extra>",
         "hovertext": {
          "dtype": "f8",
          "bdata": "AAAAAABAZEAAAAAAAEBkQAAAAAAAQGRA"
         },
         "lat": {
          "dtype": "f8",
          "bdata": "w/UoXI8CQcCPwvUoXM9AwAAAAAAAoEDA"
         },
         "legendgroup": "162",
         "lon": {
          "dtype": "f8",
          "bdata": "16NwPQpfZsC4HoXrUWBmwI/C9ShcT2bA"
         },
         "marker": {
          "color": "#FFA15A"
         },
         "mode": "markers",
         "name": "162",
         "showlegend": true,
         "subplot": "map",
         "type": "scattermap"
        },
        {
         "customdata": [
          [
           -38.67,
           "09:19:34.1",
           175.26,
           "1999/05/18"
          ],
          [
           -38.7,
           "20:31:42.3",
           175.8,
           "1999/10/25"
          ]
         ],
         "hovertemplate": "<b>%{hovertext}</b><br><br>Cluster=87<br>Lat=%{customdata[0]}<br>Lon=%{customdata[2]}<br>Time=%{customdata[1]}<br>Date=%{customdata[3]}<extra></extra>",
         "hovertext": {
          "dtype": "f8",
          "bdata": "AAAAAADAVUAAAAAAAMBVQA=="
         },
         "lat": {
          "dtype": "f8",
          "bdata": "9ihcj8JVQ8CamZmZmVlDwA=="
         },
         "legendgroup": "87",
         "lon": {
          "dtype": "f8",
          "bdata": "uB6F61HoZUCamZmZmfllQA=="
         },
         "marker": {
          "color": "#19d3f3"
         },
         "mode": "markers",
         "name": "87",
         "showlegend": true,
         "subplot": "map",
         "type": "scattermap"
        },
        {
         "customdata": [
          [
           -33.06,
           "21:16:40.6",
           -179.54,
           "1999/10/30"
          ],
          [
           -33.23,
           "00:53:46.2",
           -178.57,
           "2001/11/27"
          ],
          [
           -33.26,
           "20:50:32.5",
           -179.73,
           "2002/03/17"
          ]
         ],
         "hovertemplate": "<b>%{hovertext}</b><br><br>Cluster=163<br>Lat=%{customdata[0]}<br>Lon=%{customdata[2]}<br>Time=%{customdata[1]}<br>Date=%{customdata[3]}<extra></extra>",
         "hovertext": {
          "dtype": "f8",
          "bdata": "AAAAAABgZEAAAAAAAGBkQAAAAAAAYGRA"
         },
         "lat": {
          "dtype": "f8",
          "bdata": "SOF6FK6HQMA9CtejcJ1AwOF6FK5HoUDA"
         },
         "legendgroup": "163",
         "lon": {
          "dtype": "f8",
          "bdata": "4XoUrkdxZsAK16NwPVJmwI/C9Shcd2bA"
         },
         "marker": {
          "color": "#FF6692"
         },
         "mode": "markers",
         "name": "163",
         "showlegend": true,
         "subplot": "map",
         "type": "scattermap"
        },
        {
         "customdata": [
          [
           -41.03,
           "14:30:57.8",
           175.46,
           "2000/03/29"
          ],
          [
           -40.34,
           "04:49:57.2",
           176.52,
           "2001/09/24"
          ],
          [
           -40.44,
           "21:30:29.2",
           176.27,
           "2003/01/25"
          ]
         ],
         "hovertemplate": "<b>%{hovertext}</b><br><br>Cluster=89<br>Lat=%{customdata[0]}<br>Lon=%{customdata[2]}<br>Time=%{customdata[1]}<br>Date=%{customdata[3]}<extra></extra>",
         "hovertext": {
          "dtype": "f8",
          "bdata": "AAAAAABAVkAAAAAAAEBWQAAAAAAAQFZA"
         },
         "lat": {
          "dtype": "f8",
          "bdata": "pHA9CteDRMDsUbgehStEwLgehetROETA"
         },
         "legendgroup": "89",
         "lon": {
          "dtype": "f8",
          "bdata": "H4XrUbjuZUBxPQrXoxBmQHE9CtejCGZA"
         },
         "marker": {
          "color": "#B6E880"
         },
         "mode": "markers",
         "name": "89",
         "showlegend": true,
         "subplot": "map",
         "type": "scattermap"
        },
        {
         "customdata": [
          [
           -31.89,
           "00:24:13.2",
           -178.57,
           "2000/04/20"
          ],
          [
           -31.63,
           "11:04:52.5",
           -178.36,
           "2001/11/09"
          ]
         ],
         "hovertemplate": "<b>%{hovertext}</b><br><br>Cluster=170<br>Lat=%{customdata[0]}<br>Lon=%{customdata[2]}<br>Time=%{customdata[1]}<br>Date=%{customdata[3]}<extra></extra>",
         "hovertext": {
          "dtype": "f8",
          "bdata": "AAAAAABAZUAAAAAAAEBlQA=="
         },
         "lat": {
          "dtype": "f8",
          "bdata": "pHA9CtfjP8DhehSuR6E/wA=="
         },
         "legendgroup": "170",
         "lon": {
          "dtype": "f8",
          "bdata": "CtejcD1SZsDsUbgehUtmwA=="
         },
         "marker": {
          "color": "#FF97FF"
         },
         "mode": "markers",
         "name": "170",
         "showlegend": true,
         "subplot": "map",
         "type": "scattermap"
        },
        {
         "customdata": [
          [
           -39.24,
           "10:31:17.1",
           176.31,
           "2000/08/08"
          ],
          [
           -39.7,
           "03:49:38.0",
           176.61,
           "2001/10/15"
          ],
          [
           -40.49,
           "11:46:12.9",
           176.03,
           "2003/08/03"
          ]
         ],
         "hovertemplate": "<b>%{hovertext}</b><br><br>Cluster=90<br>Lat=%{customdata[0]}<br>Lon=%{customdata[2]}<br>Time=%{customdata[1]}<br>Date=%{customdata[3]}<extra></extra>",
         "hovertext": {
          "dtype": "f8",
          "bdata": "AAAAAACAVkAAAAAAAIBWQAAAAAAAgFZA"
         },
         "lat": {
          "dtype": "f8",
          "bdata": "H4XrUbieQ8CamZmZmdlDwB+F61G4PkTA"
         },
         "legendgroup": "90",
         "lon": {
          "dtype": "f8",
          "bdata": "UrgehesJZkDsUbgehRNmQClcj8L1AGZA"
         },
         "marker": {
          "color": "#FECB52"
         },
         "mode": "markers",
         "name": "90",
         "showlegend": true,
         "subplot": "map",
         "type": "scattermap"
        },
        {
         "customdata": [
          [
           -45.07,
           "10:35:55.0",
           167.01,
           "2000/11/01"
          ],
          [
           -44.22,
           "19:27:34.1",
           168.82,
           "2001/12/07"
          ]
         ],
         "hovertemplate": "<b>%{hovertext}</b><br><br>Cluster=24<br>Lat=%{customdata[0]}<br>Lon=%{customdata[2]}<br>Time=%{customdata[1]}<br>Date=%{customdata[3]}<extra></extra>",
         "hovertext": {
          "dtype": "f8",
          "bdata": "AAAAAAAAOEAAAAAAAAA4QA=="
         },
         "lat": {
          "dtype": "f8",
          "bdata": "KVyPwvWIRsBcj8L1KBxGwA=="
         },
         "legendgroup": "24",
         "lon": {
          "dtype": "f8",
          "bdata": "uB6F61HgZEAK16NwPRplQA=="
         },
         "marker": {
          "color": "#636efa"
         },
         "mode": "markers",
         "name": "24",
         "showlegend": true,
         "subplot": "map",
         "type": "scattermap"
        },
        {
         "customdata": [
          [
           -45.06,
           "11:49:15.1",
           167.15,
           "2000/11/12"
          ],
          [
           -45.43,
           "23:56:29.6",
           166.8,
           "2003/08/26"
          ],
          [
           -45.4,
           "17:56:26.2",
           166.77,
           "2003/09/11"
          ],
          [
           -45.08,
           "13:58:08.7",
           166.61,
           "2003/11/02"
          ]
         ],
         "hovertemplate": "<b>%{hovertext}</b><br><br>Cluster=34<br>Lat=%{customdata[0]}<br>Lon=%{customdata[2]}<br>Time=%{customdata[1]}<br>Date=%{customdata[3]}<extra></extra>",
         "hovertext": {
          "dtype": "f8",
          "bdata": "AAAAAAAAQUAAAAAAAABBQAAAAAAAAEFAAAAAAAAAQUA="
         },
         "lat": {
          "dtype": "f8",
          "bdata": "SOF6FK6HRsDXo3A9CrdGwDMzMzMzs0bACtejcD2KRsA="
         },
         "legendgroup": "34",
         "lon": {
          "dtype": "f8",
          "bdata": "zczMzMzkZECamZmZmdlkQHE9Ctej2GRA7FG4HoXTZEA="
         },
         "marker": {
          "color": "#EF553B"
         },
         "mode": "markers",
         "name": "34",
         "showlegend": true,
         "subplot": "map",
         "type": "scattermap"
        },
        {
         "customdata": [
          [
           -35.03,
           "15:21:26.7",
           179.67,
           "2000/12/26"
          ],
          [
           -35.0,
           "14:02:19.4",
           -179.56,
           "2001/03/12"
          ],
          [
           -35.08,
           "13:07:19.7",
           -178.8,
           "2003/03/02"
          ]
         ],
         "hovertemplate": "<b>%{hovertext}</b><br><br>Cluster=138<br>Lat=%{customdata[0]}<br>Lon=%{customdata[2]}<br>Time=%{customdata[1]}<br>Date=%{customdata[3]}<extra></extra>",
         "hovertext": {
          "dtype": "f8",
          "bdata": "AAAAAABAYUAAAAAAAEBhQAAAAAAAQGFA"
         },
         "lat": {
          "dtype": "f8",
          "bdata": "pHA9CteDQcAAAAAAAIBBwArXo3A9ikHA"
         },
         "legendgroup": "138",
         "lon": {
          "dtype": "f8",
          "bdata": "PQrXo3B1ZkBSuB6F63FmwJqZmZmZWWbA"
         },
         "marker": {
          "color": "#00cc96"
         },
         "mode": "markers",
         "name": "138",
         "showlegend": true,
         "subplot": "map",
         "type": "scattermap"
        },
        {
         "customdata": [
          [
           -36.81,
           "06:52:06.2",
           -179.57,
           "2001/08/21"
          ],
          [
           -37.14,
           "00:29:21.5",
           178.98,
           "2001/10/21"
          ]
         ],
         "hovertemplate": "<b>%{hovertext}</b><br><br>Cluster=4<br>Lat=%{customdata[0]}<br>Lon=%{customdata[2]}<br>Time=%{customdata[1]}<br>Date=%{customdata[3]}<extra></extra>",
         "hovertext": {
          "dtype": "f8",
          "bdata": "AAAAAAAAEEAAAAAAAAAQQA=="
         },
         "lat": {
          "dtype": "f8",
          "bdata": "SOF6FK5nQsBSuB6F65FCwA=="
         },
         "legendgroup": "4",
         "lon": {
          "dtype": "f8",
          "bdata": "CtejcD1yZsCPwvUoXF9mQA=="
         },
         "marker": {
          "color": "#ab63fa"
         },
         "mode": "markers",
         "name": "4",
         "showlegend": true,
         "subplot": "map",
         "type": "scattermap"
        },
        {
         "customdata": [
          [
           -36.98,
           "04:39:29.8",
           -179.83,
           "2001/08/22"
          ],
          [
           -36.85,
           "05:28:04.1",
           -179.87,
           "2001/08/22"
          ],
          [
           -36.82,
           "21:16:35.6",
           -179.7,
           "2001/08/24"
          ],
          [
           -36.81,
           "21:34:00.7",
           179.95,
           "2001/08/24"
          ],
          [
           -36.56,
           "12:50:36.1",
           -179.65,
           "2001/08/27"
          ],
          [
           -36.54,
           "13:54:58.5",
           -179.46,
           "2001/08/29"
          ],
          [
           -37.0,
           "13:29:12.1",
           -179.93,
           "2001/09/22"
          ],
          [
           -37.27,
           "01:28:53.4",
           179.84,
           "2001/10/22"
          ],
          [
           -37.06,
           "22:43:58.4",
           179.49,
           "2001/11/01"
          ],
          [
           -36.87,
           "22:13:18.2",
           -179.74,
           "2002/03/17"
          ],
          [
           -35.85,
           "02:10:13.1",
           179.26,
           "2003/01/18"
          ]
         ],
         "hovertemplate": "<b>%{hovertext}</b><br><br>Cluster=118<br>Lat=%{customdata[0]}<br>Lon=%{customdata[2]}<br>Time=%{customdata[1]}<br>Date=%{customdata[3]}<extra></extra>",
         "hovertext": {
          "dtype": "f8",
          "bdata": "AAAAAACAXUAAAAAAAIBdQAAAAAAAgF1AAAAAAACAXUAAAAAAAIBdQAAAAAAAgF1AAAAAAACAXUAAAAAAAIBdQAAAAAAAgF1AAAAAAACAXUAAAAAAAIBdQA=="
         },
         "lat": {
          "dtype": "f8",
          "bdata": "PQrXo3B9QsDNzMzMzGxCwClcj8L1aELASOF6FK5nQsBI4XoUrkdCwIXrUbgeRULAAAAAAACAQsDD9Shcj6JCwEjhehSuh0LAj8L1KFxvQsDNzMzMzOxBwA=="
         },
         "legendgroup": "118",
         "lon": {
          "dtype": "f8",
          "bdata": "w/UoXI96ZsCkcD0K13tmwGZmZmZmdmbAZmZmZmZ+ZkDNzMzMzHRmwB+F61G4bmbA9ihcj8J9ZsB7FK5H4XpmQEjhehSub2ZASOF6FK53ZsC4HoXrUWhmQA=="
         },
         "marker": {
          "color": "#FFA15A"
         },
         "mode": "markers",
         "name": "118",
         "showlegend": true,
         "subplot": "map",
         "type": "scattermap"
        },
        {
         "customdata": [
          [
           -44.11,
           "06:37:37.2",
           168.58,
           "2002/02/24"
          ],
          [
           -43.95,
           "15:35:38.4",
           169.02,
           "2005/05/02"
          ]
         ],
         "hovertemplate": "<b>%{hovertext}</b><br><br>Cluster=31<br>Lat=%{customdata[0]}<br>Lon=%{customdata[2]}<br>Time=%{customdata[1]}<br>Date=%{customdata[3]}<extra></extra>",
         "hovertext": {
          "dtype": "f8",
          "bdata": "AAAAAAAAP0AAAAAAAAA/QA=="
         },
         "lat": {
          "dtype": "f8",
          "bdata": "rkfhehQORsCamZmZmflFwA=="
         },
         "legendgroup": "31",
         "lon": {
          "dtype": "f8",
          "bdata": "w/UoXI8SZUBxPQrXoyBlQA=="
         },
         "marker": {
          "color": "#19d3f3"
         },
         "mode": "markers",
         "name": "31",
         "showlegend": true,
         "subplot": "map",
         "type": "scattermap"
        },
        {
         "customdata": [
          [
           -37.97,
           "08:21:30.0",
           176.68,
           "2002/08/17"
          ],
          [
           -37.94,
           "23:22:03.9",
           178.08,
           "2004/05/11"
          ],
          [
           -38.01,
           "03:58:06.0",
           176.49,
           "2004/07/18"
          ],
          [
           -38.0,
           "04:22:22.6",
           176.51,
           "2004/07/18"
          ],
          [
           -38.21,
           "17:07:58.8",
           179.47,
           "2005/05/13"
          ],
          [
           -37.64,
           "20:33:48.8",
           -179.81,
           "2006/06/14"
          ]
         ],
         "hovertemplate": "<b>%{hovertext}</b><br><br>Cluster=85<br>Lat=%{customdata[0]}<br>Lon=%{customdata[2]}<br>Time=%{customdata[1]}<br>Date=%{customdata[3]}<extra></extra>",
         "hovertext": {
          "dtype": "f8",
          "bdata": "AAAAAABAVUAAAAAAAEBVQAAAAAAAQFVAAAAAAABAVUAAAAAAAEBVQAAAAAAAQFVA"
         },
         "lat": {
          "dtype": "f8",
          "bdata": "XI/C9Sj8QsC4HoXrUfhCwOF6FK5HAUPAAAAAAAAAQ8B7FK5H4RpDwFK4HoXr0ULA"
         },
         "legendgroup": "85",
         "lon": {
          "dtype": "f8",
          "bdata": "9ihcj8IVZkDD9Shcj0JmQEjhehSuD2ZAuB6F61EQZkDXo3A9Cm9mQFK4HoXreWbA"
         },
         "marker": {
          "color": "#FF6692"
         },
         "mode": "markers",
         "name": "85",
         "showlegend": true,
         "subplot": "map",
         "type": "scattermap"
        },
        {
         "customdata": [
          [
           -49.94,
           "01:53:03.5",
           163.39,
           "2002/10/17"
          ],
          [
           -49.0,
           "02:26:07.7",
           164.61,
           "2003/09/16"
          ],
          [
           -49.66,
           "07:00:45.6",
           163.87,
           "2004/08/05"
          ]
         ],
         "hovertemplate": "<b>%{hovertext}</b><br><br>Cluster=50<br>Lat=%{customdata[0]}<br>Lon=%{customdata[2]}<br>Time=%{customdata[1]}<br>Date=%{customdata[3]}<extra></extra>",
         "hovertext": {
          "dtype": "f8",
          "bdata": "AAAAAAAASUAAAAAAAABJQAAAAAAAAElA"
         },
         "lat": {
          "dtype": "f8",
          "bdata": "uB6F61H4SMAAAAAAAIBIwBSuR+F61EjA"
         },
         "legendgroup": "50",
         "lon": {
          "dtype": "f8",
          "bdata": "FK5H4XpsZEDsUbgehZNkQKRwPQrXe2RA"
         },
         "marker": {
          "color": "#B6E880"
         },
         "mode": "markers",
         "name": "50",
         "showlegend": true,
         "subplot": "map",
         "type": "scattermap"
        },
        {
         "customdata": [
          [
           -35.15,
           "02:27:55.2",
           179.98,
           "2002/12/01"
          ],
          [
           -34.95,
           "14:21:14.9",
           -178.25,
           "2003/12/25"
          ]
         ],
         "hovertemplate": "<b>%{hovertext}</b><br><br>Cluster=80<br>Lat=%{customdata[0]}<br>Lon=%{customdata[2]}<br>Time=%{customdata[1]}<br>Date=%{customdata[3]}<extra></extra>",
         "hovertext": {
          "dtype": "f8",
          "bdata": "AAAAAAAAVEAAAAAAAABUQA=="
         },
         "lat": {
          "dtype": "f8",
          "bdata": "MzMzMzOTQcCamZmZmXlBwA=="
         },
         "legendgroup": "80",
         "lon": {
          "dtype": "f8",
          "bdata": "j8L1KFx/ZkAAAAAAAEhmwA=="
         },
         "marker": {
          "color": "#FF97FF"
         },
         "mode": "markers",
         "name": "80",
         "showlegend": true,
         "subplot": "map",
         "type": "scattermap"
        },
        {
         "customdata": [
          [
           -30.53,
           "13:15:18.7",
           -178.23,
           "2003/05/04"
          ],
          [
           -30.44,
           "14:08:37.7",
           -177.4,
           "2003/09/30"
          ],
          [
           -30.01,
           "23:32:51.5",
           -177.64,
           "2005/12/07"
          ]
         ],
         "hovertemplate": "<b>%{hovertext}</b><br><br>Cluster=96<br>Lat=%{customdata[0]}<br>Lon=%{customdata[2]}<br>Time=%{customdata[1]}<br>Date=%{customdata[3]}<extra></extra>",
         "hovertext": {
          "dtype": "f8",
          "bdata": "AAAAAAAAWEAAAAAAAABYQAAAAAAAAFhA"
         },
         "lat": {
          "dtype": "f8",
          "bdata": "SOF6FK6HPsBxPQrXo3A+wMP1KFyPAj7A"
         },
         "legendgroup": "96",
         "lon": {
          "dtype": "f8",
          "bdata": "j8L1KFxHZsDNzMzMzCxmwBSuR+F6NGbA"
         },
         "marker": {
          "color": "#FECB52"
         },
         "mode": "markers",
         "name": "96",
         "showlegend": true,
         "subplot": "map",
         "type": "scattermap"
        },
        {
         "customdata": [
          [
           -30.59,
           "20:08:46.5",
           -178.29,
           "2003/05/04"
          ],
          [
           -30.62,
           "13:44:53.3",
           -179.01,
           "2003/11/11"
          ],
          [
           -30.66,
           "15:39:33.6",
           -179.38,
           "2003/11/11"
          ]
         ],
         "hovertemplate": "<b>%{hovertext}</b><br><br>Cluster=154<br>Lat=%{customdata[0]}<br>Lon=%{customdata[2]}<br>Time=%{customdata[1]}<br>Date=%{customdata[3]}<extra></extra>",
         "hovertext": {
          "dtype": "f8",
          "bdata": "AAAAAABAY0AAAAAAAEBjQAAAAAAAQGNA"
         },
         "lat": {
          "dtype": "f8",
          "bdata": "16NwPQqXPsAfhetRuJ4+wClcj8L1qD7A"
         },
         "legendgroup": "154",
         "lon": {
          "dtype": "f8",
          "bdata": "4XoUrkdJZsC4HoXrUWBmwFyPwvUobGbA"
         },
         "marker": {
          "color": "#636efa"
         },
         "mode": "markers",
         "name": "154",
         "showlegend": true,
         "subplot": "map",
         "type": "scattermap"
        },
        {
         "customdata": [
          [
           -45.1,
           "12:12:49.8",
           167.14,
           "2003/08/21"
          ],
          [
           -46.68,
           "20:26:23.9",
           164.72,
           "2004/11/22"
          ],
          [
           -45.76,
           "09:22:29.0",
           166.56,
           "2009/07/15"
          ]
         ],
         "hovertemplate": "<b>%{hovertext}</b><br><br>Cluster=6<br>Lat=%{customdata[0]}<br>Lon=%{customdata[2]}<br>Time=%{customdata[1]}<br>Date=%{customdata[3]}<extra></extra>",
         "hovertext": {
          "dtype": "f8",
          "bdata": "AAAAAAAAGEAAAAAAAAAYQAAAAAAAABhA"
         },
         "lat": {
          "dtype": "f8",
          "bdata": "zczMzMyMRsDXo3A9CldHwOF6FK5H4UbA"
         },
         "legendgroup": "6",
         "lon": {
          "dtype": "f8",
          "bdata": "FK5H4XrkZEDXo3A9CpdkQFK4HoXr0WRA"
         },
         "marker": {
          "color": "#EF553B"
         },
         "mode": "markers",
         "name": "6",
         "showlegend": true,
         "subplot": "map",
         "type": "scattermap"
        },
        {
         "customdata": [
          [
           -45.19,
           "08:40:44.4",
           167.11,
           "2003/09/04"
          ],
          [
           -45.49,
           "19:37:50.2",
           167.04,
           "2003/09/30"
          ],
          [
           -45.07,
           "08:04:35.1",
           166.75,
           "2005/03/14"
          ]
         ],
         "hovertemplate": "<b>%{hovertext}</b><br><br>Cluster=43<br>Lat=%{customdata[0]}<br>Lon=%{customdata[2]}<br>Time=%{customdata[1]}<br>Date=%{customdata[3]}<extra></extra>",
         "hovertext": {
          "dtype": "f8",
          "bdata": "AAAAAACARUAAAAAAAIBFQAAAAAAAgEVA"
         },
         "lat": {
          "dtype": "f8",
          "bdata": "uB6F61GYRsAfhetRuL5GwClcj8L1iEbA"
         },
         "legendgroup": "43",
         "lon": {
          "dtype": "f8",
          "bdata": "7FG4HoXjZEDhehSuR+FkQAAAAAAA2GRA"
         },
         "marker": {
          "color": "#00cc96"
         },
         "mode": "markers",
         "name": "43",
         "showlegend": true,
         "subplot": "map",
         "type": "scattermap"
        },
        {
         "customdata": [
          [
           -30.49,
           "15:22:31.7",
           -177.18,
           "2003/09/30"
          ],
          [
           -31.05,
           "21:11:25.4",
           -177.12,
           "2004/05/30"
          ]
         ],
         "hovertemplate": "<b>%{hovertext}</b><br><br>Cluster=155<br>Lat=%{customdata[0]}<br>Lon=%{customdata[2]}<br>Time=%{customdata[1]}<br>Date=%{customdata[3]}<extra></extra>",
         "hovertext": {
          "dtype": "f8",
          "bdata": "AAAAAABgY0AAAAAAAGBjQA=="
         },
         "lat": {
          "dtype": "f8",
          "bdata": "PQrXo3B9PsDNzMzMzAw/wA=="
         },
         "legendgroup": "155",
         "lon": {
          "dtype": "f8",
          "bdata": "9ihcj8IlZsCkcD0K1yNmwA=="
         },
         "marker": {
          "color": "#ab63fa"
         },
         "mode": "markers",
         "name": "155",
         "showlegend": true,
         "subplot": "map",
         "type": "scattermap"
        },
        {
         "customdata": [
          [
           -32.26,
           "22:56:42.5",
           -178.36,
           "2004/03/09"
          ],
          [
           -32.59,
           "03:54:14.6",
           -179.35,
           "2005/05/16"
          ]
         ],
         "hovertemplate": "<b>%{hovertext}</b><br><br>Cluster=72<br>Lat=%{customdata[0]}<br>Lon=%{customdata[2]}<br>Time=%{customdata[1]}<br>Date=%{customdata[3]}<extra></extra>",
         "hovertext": {
          "dtype": "f8",
          "bdata": "AAAAAAAAUkAAAAAAAABSQA=="
         },
         "lat": {
          "dtype": "f8",
          "bdata": "4XoUrkchQMDsUbgehUtAwA=="
         },
         "legendgroup": "72",
         "lon": {
          "dtype": "f8",
          "bdata": "7FG4HoVLZsAzMzMzM2tmwA=="
         },
         "marker": {
          "color": "#FFA15A"
         },
         "mode": "markers",
         "name": "72",
         "showlegend": true,
         "subplot": "map",
         "type": "scattermap"
        },
        {
         "customdata": [
          [
           -49.58,
           "04:39:37.5",
           163.67,
           "2004/07/01"
          ],
          [
           -49.52,
           "07:12:43.1",
           164.19,
           "2005/10/17"
          ],
          [
           -49.05,
           "16:25:05.8",
           164.31,
           "2007/10/11"
          ]
         ],
         "hovertemplate": "<b>%{hovertext}</b><br><br>Cluster=33<br>Lat=%{customdata[0]}<br>Lon=%{customdata[2]}<br>Time=%{customdata[1]}<br>Date=%{customdata[3]}<extra></extra>",
         "hovertext": {
          "dtype": "f8",
          "bdata": "AAAAAACAQEAAAAAAAIBAQAAAAAAAgEBA"
         },
         "lat": {
          "dtype": "f8",
          "bdata": "CtejcD3KSMDD9Shcj8JIwGZmZmZmhkjA"
         },
         "legendgroup": "33",
         "lon": {
          "dtype": "f8",
          "bdata": "PQrXo3B1ZECuR+F6FIZkQFK4HoXriWRA"
         },
         "marker": {
          "color": "#19d3f3"
         },
         "mode": "markers",
         "name": "33",
         "showlegend": true,
         "subplot": "map",
         "type": "scattermap"
        },
        {
         "customdata": [
          [
           -36.63,
           "18:07:48.0",
           -179.45,
           "2004/09/04"
          ],
          [
           -36.79,
           "20:03:01.8",
           -179.23,
           "2005/06/05"
          ],
          [
           -36.2,
           "10:23:11.5",
           -179.99,
           "2005/07/13"
          ]
         ],
         "hovertemplate": "<b>%{hovertext}</b><br><br>Cluster=119<br>Lat=%{customdata[0]}<br>Lon=%{customdata[2]}<br>Time=%{customdata[1]}<br>Date=%{customdata[3]}<extra></extra>",
         "hovertext": {
          "dtype": "f8",
          "bdata": "AAAAAADAXUAAAAAAAMBdQAAAAAAAwF1A"
         },
         "lat": {
          "dtype": "f8",
          "bdata": "cT0K16NQQsCF61G4HmVCwJqZmZmZGULA"
         },
         "legendgroup": "119",
         "lon": {
          "dtype": "f8",
          "bdata": "ZmZmZmZuZsCPwvUoXGdmwEjhehSuf2bA"
         },
         "marker": {
          "color": "#FF6692"
         },
         "mode": "markers",
         "name": "119",
         "showlegend": true,
         "subplot": "map",
         "type": "scattermap"
        },
        {
         "customdata": [
          [
           -34.44,
           "14:59:14.3",
           179.32,
           "2004/12/03"
          ],
          [
           -35.24,
           "09:32:39.9",
           179.65,
           "2005/03/16"
          ]
         ],
         "hovertemplate": "<b>%{hovertext}</b><br><br>Cluster=177<br>Lat=%{customdata[0]}<br>Lon=%{customdata[2]}<br>Time=%{customdata[1]}<br>Date=%{customdata[3]}<extra></extra>",
         "hovertext": {
          "dtype": "f8",
          "bdata": "AAAAAAAgZkAAAAAAACBmQA=="
         },
         "lat": {
          "dtype": "f8",
          "bdata": "uB6F61E4QcAfhetRuJ5BwA=="
         },
         "legendgroup": "177",
         "lon": {
          "dtype": "f8",
          "bdata": "CtejcD1qZkDNzMzMzHRmQA=="
         },
         "marker": {
          "color": "#B6E880"
         },
         "mode": "markers",
         "name": "177",
         "showlegend": true,
         "subplot": "map",
         "type": "scattermap"
        },
        {
         "customdata": [
          [
           -49.31,
           "14:59:04.4",
           161.35,
           "2004/12/23"
          ],
          [
           -49.27,
           "05:23:34.1",
           164.12,
           "2007/09/30"
          ]
         ],
         "hovertemplate": "<b>%{hovertext}</b><br><br>Cluster=7<br>Lat=%{customdata[0]}<br>Lon=%{customdata[2]}<br>Time=%{customdata[1]}<br>Date=%{customdata[3]}<extra></extra>",
         "hovertext": {
          "dtype": "f8",
          "bdata": "AAAAAAAAHEAAAAAAAAAcQA=="
         },
         "lat": {
          "dtype": "f8",
          "bdata": "SOF6FK6nSMDD9Shcj6JIwA=="
         },
         "legendgroup": "7",
         "lon": {
          "dtype": "f8",
          "bdata": "MzMzMzMrZECkcD0K14NkQA=="
         },
         "marker": {
          "color": "#FF97FF"
         },
         "mode": "markers",
         "name": "7",
         "showlegend": true,
         "subplot": "map",
         "type": "scattermap"
        },
        {
         "customdata": [
          [
           -48.62,
           "22:34:40.0",
           161.32,
           "2004/12/24"
          ],
          [
           -49.91,
           "21:25:15.8",
           161.49,
           "2006/08/30"
          ]
         ],
         "hovertemplate": "<b>%{hovertext}</b><br><br>Cluster=44<br>Lat=%{customdata[0]}<br>Lon=%{customdata[2]}<br>Time=%{customdata[1]}<br>Date=%{customdata[3]}<extra></extra>",
         "hovertext": {
          "dtype": "f8",
          "bdata": "AAAAAAAARkAAAAAAAABGQA=="
         },
         "lat": {
          "dtype": "f8",
          "bdata": "j8L1KFxPSMAUrkfhevRIwA=="
         },
         "legendgroup": "44",
         "lon": {
          "dtype": "f8",
          "bdata": "CtejcD0qZEBI4XoUri9kQA=="
         },
         "marker": {
          "color": "#FECB52"
         },
         "mode": "markers",
         "name": "44",
         "showlegend": true,
         "subplot": "map",
         "type": "scattermap"
        },
        {
         "customdata": [
          [
           -41.46,
           "08:36:04.4",
           175.78,
           "2005/01/18"
          ],
          [
           -41.45,
           "09:26:00.5",
           175.78,
           "2005/01/18"
          ],
          [
           -41.22,
           "18:56:30.7",
           175.21,
           "2005/01/20"
          ],
          [
           -41.44,
           "17:31:53.5",
           175.75,
           "2005/01/31"
          ]
         ],
         "hovertemplate": "<b>%{hovertext}</b><br><br>Cluster=91<br>Lat=%{customdata[0]}<br>Lon=%{customdata[2]}<br>Time=%{customdata[1]}<br>Date=%{customdata[3]}<extra></extra>",
         "hovertext": {
          "dtype": "f8",
          "bdata": "AAAAAADAVkAAAAAAAMBWQAAAAAAAwFZAAAAAAADAVkA="
         },
         "lat": {
          "dtype": "f8",
          "bdata": "exSuR+G6RMCamZmZmblEwFyPwvUonETAuB6F61G4RMA="
         },
         "legendgroup": "91",
         "lon": {
          "dtype": "f8",
          "bdata": "KVyPwvX4ZUApXI/C9fhlQB+F61G45mVAAAAAAAD4ZUA="
         },
         "marker": {
          "color": "#636efa"
         },
         "mode": "markers",
         "name": "91",
         "showlegend": true,
         "subplot": "map",
         "type": "scattermap"
        },
        {
         "customdata": [
          [
           -44.37,
           "02:07:50.5",
           169.87,
           "2005/04/02"
          ],
          [
           -43.94,
           "15:40:04.1",
           169.01,
           "2005/05/02"
          ]
         ],
         "hovertemplate": "<b>%{hovertext}</b><br><br>Cluster=29<br>Lat=%{customdata[0]}<br>Lon=%{customdata[2]}<br>Time=%{customdata[1]}<br>Date=%{customdata[3]}<extra></extra>",
         "hovertext": {
          "dtype": "f8",
          "bdata": "AAAAAAAAPUAAAAAAAAA9QA=="
         },
         "lat": {
          "dtype": "f8",
          "bdata": "j8L1KFwvRsC4HoXrUfhFwA=="
         },
         "legendgroup": "29",
         "lon": {
          "dtype": "f8",
          "bdata": "pHA9Ctc7ZUC4HoXrUSBlQA=="
         },
         "marker": {
          "color": "#EF553B"
         },
         "mode": "markers",
         "name": "29",
         "showlegend": true,
         "subplot": "map",
         "type": "scattermap"
        },
        {
         "customdata": [
          [
           -35.02,
           "22:33:25.6",
           178.73,
           "2005/06/14"
          ],
          [
           -35.8,
           "17:34:12.7",
           178.47,
           "2005/08/30"
          ],
          [
           -35.52,
           "09:26:09.4",
           178.26,
           "2008/02/19"
          ]
         ],
         "hovertemplate": "<b>%{hovertext}</b><br><br>Cluster=121<br>Lat=%{customdata[0]}<br>Lon=%{customdata[2]}<br>Time=%{customdata[1]}<br>Date=%{customdata[3]}<extra></extra>",
         "hovertext": {
          "dtype": "f8",
          "bdata": "AAAAAABAXkAAAAAAAEBeQAAAAAAAQF5A"
         },
         "lat": {
          "dtype": "f8",
          "bdata": "w/UoXI+CQcBmZmZmZuZBwMP1KFyPwkHA"
         },
         "legendgroup": "121",
         "lon": {
          "dtype": "f8",
          "bdata": "j8L1KFxXZkDXo3A9Ck9mQLgehetRSGZA"
         },
         "marker": {
          "color": "#00cc96"
         },
         "mode": "markers",
         "name": "121",
         "showlegend": true,
         "subplot": "map",
         "type": "scattermap"
        },
        {
         "customdata": [
          [
           -48.67,
           "13:28:03.7",
           164.94,
           "2005/11/06"
          ],
          [
           -46.91,
           "07:14:44.5",
           165.98,
           "2006/04/15"
          ],
          [
           -49.26,
           "16:19:57.8",
           163.66,
           "2007/10/01"
          ],
          [
           -48.01,
           "06:51:33.4",
           165.01,
           "2007/10/02"
          ],
          [
           -48.63,
           "01:43:25.7",
           164.66,
           "2007/10/03"
          ],
          [
           -48.72,
           "03:32:56.5",
           164.7,
           "2007/10/03"
          ],
          [
           -48.65,
           "18:03:03.9",
           164.62,
           "2007/10/03"
          ],
          [
           -49.4,
           "18:07:11.8",
           164.79,
           "2007/12/05"
          ],
          [
           -49.5,
           "06:59:57.6",
           163.99,
           "2008/12/27"
          ],
          [
           -49.19,
           "10:50:50.0",
           164.74,
           "2009/03/14"
          ],
          [
           -48.62,
           "06:24:16.7",
           164.85,
           "2010/03/18"
          ],
          [
           -48.52,
           "06:42:08.8",
           164.9,
           "2010/03/18"
          ],
          [
           -49.35,
           "06:48:58.8",
           163.83,
           "2011/01/14"
          ],
          [
           -49.64,
           "12:32:24.5",
           164.0,
           "2011/03/04"
          ],
          [
           -49.54,
           "15:46:12.6",
           163.79,
           "2011/03/04"
          ],
          [
           -49.64,
           "10:18:27.8",
           163.76,
           "2011/09/30"
          ]
         ],
         "hovertemplate": "<b>%{hovertext}</b><br><br>Cluster=49<br>Lat=%{customdata[0]}<br>Lon=%{customdata[2]}<br>Time=%{customdata[1]}<br>Date=%{customdata[3]}<extra></extra>",
         "hovertext": {
          "dtype": "f8",
          "bdata": "AAAAAACASEAAAAAAAIBIQAAAAAAAgEhAAAAAAACASEAAAAAAAIBIQAAAAAAAgEhAAAAAAACASEAAAAAAAIBIQAAAAAAAgEhAAAAAAACASEAAAAAAAIBIQAAAAAAAgEhAAAAAAACASEAAAAAAAIBIQAAAAAAAgEhAAAAAAACASEA="
         },
         "lat": {
          "dtype": "f8",
          "bdata": "9ihcj8JVSMAUrkfhenRHwOF6FK5HoUjA4XoUrkcBSMBxPQrXo1BIwFyPwvUoXEjAMzMzMzNTSMAzMzMzM7NIwAAAAAAAwEjAuB6F61GYSMCPwvUoXE9IwMP1KFyPQkjAzczMzMysSMBSuB6F69FIwIXrUbgexUjAUrgehevRSMA="
         },
         "legendgroup": "49",
         "lon": {
          "dtype": "f8",
          "bdata": "rkfhehSeZECPwvUoXL9kQIXrUbgedWRAuB6F61GgZECF61G4HpVkQGZmZmZmlmRApHA9CteTZEDhehSuR5lkQEjhehSuf2RASOF6FK6XZEAzMzMzM5tkQM3MzMzMnGRAw/UoXI96ZEAAAAAAAIBkQOF6FK5HeWRAuB6F61F4ZEA="
         },
         "marker": {
          "color": "#ab63fa"
         },
         "mode": "markers",
         "name": "49",
         "showlegend": true,
         "subplot": "map",
         "type": "scattermap"
        },
        {
         "customdata": [
          [
           -40.22,
           "12:15:56.2",
           173.4,
           "2006/02/15"
          ],
          [
           -41.79,
           "04:29:25.2",
           172.67,
           "2006/08/13"
          ],
          [
           -42.2,
           "22:40:41.9",
           173.98,
           "2008/09/24"
          ],
          [
           -42.21,
           "07:23:03.5",
           173.8,
           "2008/09/26"
          ]
         ],
         "hovertemplate": "<b>%{hovertext}</b><br><br>Cluster=59<br>Lat=%{customdata[0]}<br>Lon=%{customdata[2]}<br>Time=%{customdata[1]}<br>Date=%{customdata[3]}<extra></extra>",
         "hovertext": {
          "dtype": "f8",
          "bdata": "AAAAAACATUAAAAAAAIBNQAAAAAAAgE1AAAAAAACATUA="
         },
         "lat": {
          "dtype": "f8",
          "bdata": "XI/C9SgcRMCF61G4HuVEwJqZmZmZGUXAexSuR+EaRcA="
         },
         "legendgroup": "59",
         "lon": {
          "dtype": "f8",
          "bdata": "zczMzMysZUA9CtejcJVlQI/C9Shcv2VAmpmZmZm5ZUA="
         },
         "marker": {
          "color": "#FFA15A"
         },
         "mode": "markers",
         "name": "59",
         "showlegend": true,
         "subplot": "map",
         "type": "scattermap"
        },
        {
         "customdata": [
          [
           -33.97,
           "17:36:13.6",
           -178.73,
           "2006/11/26"
          ],
          [
           -34.02,
           "15:14:07.1",
           -178.84,
           "2007/04/20"
          ],
          [
           -34.12,
           "13:56:29.7",
           -178.95,
           "2007/05/03"
          ]
         ],
         "hovertemplate": "<b>%{hovertext}</b><br><br>Cluster=160<br>Lat=%{customdata[0]}<br>Lon=%{customdata[2]}<br>Time=%{customdata[1]}<br>Date=%{customdata[3]}<extra></extra>",
         "hovertext": {
          "dtype": "f8",
          "bdata": "AAAAAAAAZEAAAAAAAABkQAAAAAAAAGRA"
         },
         "lat": {
          "dtype": "f8",
          "bdata": "XI/C9Sj8QMDD9ShcjwJBwI/C9ShcD0HA"
         },
         "legendgroup": "160",
         "lon": {
          "dtype": "f8",
          "bdata": "j8L1KFxXZsB7FK5H4VpmwGZmZmZmXmbA"
         },
         "marker": {
          "color": "#19d3f3"
         },
         "mode": "markers",
         "name": "160",
         "showlegend": true,
         "subplot": "map",
         "type": "scattermap"
        },
        {
         "customdata": [
          [
           -38.16,
           "18:54:51.5",
           176.86,
           "2006/11/28"
          ],
          [
           -37.86,
           "20:28:16.8",
           176.79,
           "2009/03/21"
          ],
          [
           -38.12,
           "08:45:47.1",
           176.18,
           "2011/01/18"
          ],
          [
           -38.38,
           "00:05:38.1",
           175.92,
           "2012/10/15"
          ],
          [
           -38.86,
           "06:42:13.9",
           176.11,
           "2012/10/19"
          ],
          [
           -39.46,
           "03:46:54.0",
           175.26,
           "2014/06/06"
          ]
         ],
         "hovertemplate": "<b>%{hovertext}</b><br><br>Cluster=93<br>Lat=%{customdata[0]}<br>Lon=%{customdata[2]}<br>Time=%{customdata[1]}<br>Date=%{customdata[3]}<extra></extra>",
         "hovertext": {
          "dtype": "f8",
          "bdata": "AAAAAABAV0AAAAAAAEBXQAAAAAAAQFdAAAAAAABAV0AAAAAAAEBXQAAAAAAAQFdA"
         },
         "lat": {
          "dtype": "f8",
          "bdata": "FK5H4XoUQ8CuR+F6FO5CwI/C9ShcD0PAcT0K16MwQ8CuR+F6FG5DwHsUrkfhukPA"
         },
         "legendgroup": "93",
         "lon": {
          "dtype": "f8",
          "bdata": "7FG4HoUbZkDhehSuRxlmQPYoXI/CBWZAPQrXo3D9ZUDsUbgehQNmQLgehetR6GVA"
         },
         "marker": {
          "color": "#FF6692"
         },
         "mode": "markers",
         "name": "93",
         "showlegend": true,
         "subplot": "map",
         "type": "scattermap"
        },
        {
         "customdata": [
          [
           -30.66,
           "19:29:10.2",
           -178.2,
           "2007/05/17"
          ],
          [
           -30.03,
           "15:28:28.1",
           -177.93,
           "2007/11/20"
          ],
          [
           -31.56,
           "16:09:51.3",
           -177.81,
           "2008/09/04"
          ],
          [
           -31.23,
           "18:54:28.2",
           -178.11,
           "2009/02/12"
          ],
          [
           -30.72,
           "03:30:53.3",
           -178.62,
           "2009/02/17"
          ],
          [
           -30.3,
           "00:06:53.2",
           -178.58,
           "2009/04/26"
          ],
          [
           -31.48,
           "00:58:02.1",
           -177.68,
           "2009/05/24"
          ],
          [
           -31.73,
           "10:14:03.0",
           -177.61,
           "2010/01/15"
          ]
         ],
         "hovertemplate": "<b>%{hovertext}</b><br><br>Cluster=148<br>Lat=%{customdata[0]}<br>Lon=%{customdata[2]}<br>Time=%{customdata[1]}<br>Date=%{customdata[3]}<extra></extra>",
         "hovertext": {
          "dtype": "f8",
          "bdata": "AAAAAACAYkAAAAAAAIBiQAAAAAAAgGJAAAAAAACAYkAAAAAAAIBiQAAAAAAAgGJAAAAAAACAYkAAAAAAAIBiQA=="
         },
         "lat": {
          "dtype": "f8",
          "bdata": "KVyPwvWoPsBI4XoUrgc+wI/C9Shcjz/AexSuR+E6P8C4HoXrUbg+wM3MzMzMTD7AexSuR+F6P8B7FK5H4bo/wA=="
         },
         "legendgroup": "148",
         "lon": {
          "dtype": "f8",
          "bdata": "ZmZmZmZGZsD2KFyPwj1mwFK4HoXrOWbA7FG4HoVDZsCkcD0K11NmwMP1KFyPUmbA9ihcj8I1ZsDsUbgehTNmwA=="
         },
         "marker": {
          "color": "#B6E880"
         },
         "mode": "markers",
         "name": "148",
         "showlegend": true,
         "subplot": "map",
         "type": "scattermap"
        },
        {
         "customdata": [
          [
           -30.97,
           "05:16:01.1",
           180.0,
           "2007/09/25"
          ],
          [
           -31.57,
           "22:47:27.5",
           179.47,
           "2009/11/22"
          ]
         ],
         "hovertemplate": "<b>%{hovertext}</b><br><br>Cluster=83<br>Lat=%{customdata[0]}<br>Lon=%{customdata[2]}<br>Time=%{customdata[1]}<br>Date=%{customdata[3]}<extra></extra>",
         "hovertext": {
          "dtype": "f8",
          "bdata": "AAAAAADAVEAAAAAAAMBUQA=="
         },
         "lat": {
          "dtype": "f8",
          "bdata": "uB6F61H4PsBSuB6F65E/wA=="
         },
         "legendgroup": "83",
         "lon": {
          "dtype": "f8",
          "bdata": "AAAAAACAZkDXo3A9Cm9mQA=="
         },
         "marker": {
          "color": "#FF97FF"
         },
         "mode": "markers",
         "name": "83",
         "showlegend": true,
         "subplot": "map",
         "type": "scattermap"
        },
        {
         "customdata": [
          [
           -44.79,
           "21:28:23.7",
           167.46,
           "2007/10/15"
          ],
          [
           -45.55,
           "08:31:40.5",
           166.36,
           "2009/08/05"
          ]
         ],
         "hovertemplate": "<b>%{hovertext}</b><br><br>Cluster=37<br>Lat=%{customdata[0]}<br>Lon=%{customdata[2]}<br>Time=%{customdata[1]}<br>Date=%{customdata[3]}<extra></extra>",
         "hovertext": {
          "dtype": "f8",
          "bdata": "AAAAAACAQkAAAAAAAIBCQA=="
         },
         "lat": {
          "dtype": "f8",
          "bdata": "hetRuB5lRsBmZmZmZsZGwA=="
         },
         "legendgroup": "37",
         "lon": {
          "dtype": "f8",
          "bdata": "H4XrUbjuZEDsUbgehctkQA=="
         },
         "marker": {
          "color": "#FECB52"
         },
         "mode": "markers",
         "name": "37",
         "showlegend": true,
         "subplot": "map",
         "type": "scattermap"
        },
        {
         "customdata": [
          [
           -35.64,
           "07:55:02.0",
           177.85,
           "2007/10/27"
          ],
          [
           -35.84,
           "13:18:21.3",
           178.76,
           "2007/12/06"
          ],
          [
           -35.26,
           "18:03:20.1",
           178.71,
           "2007/12/14"
          ],
          [
           -35.66,
           "11:52:03.2",
           178.2,
           "2008/02/19"
          ]
         ],
         "hovertemplate": "<b>%{hovertext}</b><br><br>Cluster=122<br>Lat=%{customdata[0]}<br>Lon=%{customdata[2]}<br>Time=%{customdata[1]}<br>Date=%{customdata[3]}<extra></extra>",
         "hovertext": {
          "dtype": "f8",
          "bdata": "AAAAAACAXkAAAAAAAIBeQAAAAAAAgF5AAAAAAACAXkA="
         },
         "lat": {
          "dtype": "f8",
          "bdata": "UrgehevRQcDsUbgehetBwOF6FK5HoUHAFK5H4XrUQcA="
         },
         "legendgroup": "122",
         "lon": {
          "dtype": "f8",
          "bdata": "MzMzMzM7ZkC4HoXrUVhmQB+F61G4VmZAZmZmZmZGZkA="
         },
         "marker": {
          "color": "#636efa"
         },
         "mode": "markers",
         "name": "122",
         "showlegend": true,
         "subplot": "map",
         "type": "scattermap"
        },
        {
         "customdata": [
          [
           -45.0,
           "15:53:31.6",
           167.41,
           "2007/11/29"
          ],
          [
           -45.82,
           "00:08:56.6",
           166.79,
           "2008/07/12"
          ],
          [
           -46.25,
           "20:43:00.9",
           165.96,
           "2009/07/29"
          ]
         ],
         "hovertemplate": "<b>%{hovertext}</b><br><br>Cluster=55<br>Lat=%{customdata[0]}<br>Lon=%{customdata[2]}<br>Time=%{customdata[1]}<br>Date=%{customdata[3]}<extra></extra>",
         "hovertext": {
          "dtype": "f8",
          "bdata": "AAAAAACAS0AAAAAAAIBLQAAAAAAAgEtA"
         },
         "lat": {
          "dtype": "f8",
          "bdata": "AAAAAACARsApXI/C9ehGwAAAAAAAIEfA"
         },
         "legendgroup": "55",
         "lon": {
          "dtype": "f8",
          "bdata": "hetRuB7tZEDhehSuR9lkQB+F61G4vmRA"
         },
         "marker": {
          "color": "#EF553B"
         },
         "mode": "markers",
         "name": "55",
         "showlegend": true,
         "subplot": "map",
         "type": "scattermap"
        },
        {
         "customdata": [
          [
           -44.92,
           "18:41:47.5",
           166.98,
           "2008/01/20"
          ],
          [
           -45.57,
           "15:33:46.6",
           166.65,
           "2009/07/18"
          ],
          [
           -45.38,
           "05:11:32.8",
           166.1,
           "2009/07/19"
          ],
          [
           -45.54,
           "08:48:45.9",
           166.29,
           "2009/07/19"
          ],
          [
           -45.83,
           "16:56:42.1",
           166.04,
           "2009/08/17"
          ],
          [
           -46.21,
           "04:57:24.0",
           166.14,
           "2009/08/25"
          ],
          [
           -46.07,
           "04:38:37.8",
           166.18,
           "2010/02/25"
          ]
         ],
         "hovertemplate": "<b>%{hovertext}</b><br><br>Cluster=57<br>Lat=%{customdata[0]}<br>Lon=%{customdata[2]}<br>Time=%{customdata[1]}<br>Date=%{customdata[3]}<extra></extra>",
         "hovertext": {
          "dtype": "f8",
          "bdata": "AAAAAACATEAAAAAAAIBMQAAAAAAAgExAAAAAAACATEAAAAAAAIBMQAAAAAAAgExAAAAAAACATEA="
         },
         "lat": {
          "dtype": "f8",
          "bdata": "9ihcj8J1RsApXI/C9chGwHE9CtejsEbAhetRuB7FRsAK16NwPepGwHsUrkfhGkfAKVyPwvUIR8A="
         },
         "legendgroup": "57",
         "lon": {
          "dtype": "f8",
          "bdata": "j8L1KFzfZEDNzMzMzNRkQDMzMzMzw2RA4XoUrkfJZEDhehSuR8FkQBSuR+F6xGRA9ihcj8LFZEA="
         },
         "marker": {
          "color": "#00cc96"
         },
         "mode": "markers",
         "name": "57",
         "showlegend": true,
         "subplot": "map",
         "type": "scattermap"
        },
        {
         "customdata": [
          [
           -32.88,
           "06:39:47.2",
           179.36,
           "2008/03/28"
          ],
          [
           -33.4,
           "02:30:08.4",
           179.91,
           "2008/06/11"
          ]
         ],
         "hovertemplate": "<b>%{hovertext}</b><br><br>Cluster=117<br>Lat=%{customdata[0]}<br>Lon=%{customdata[2]}<br>Time=%{customdata[1]}<br>Date=%{customdata[3]}<extra></extra>",
         "hovertext": {
          "dtype": "f8",
          "bdata": "AAAAAABAXUAAAAAAAEBdQA=="
         },
         "lat": {
          "dtype": "f8",
          "bdata": "cT0K16NwQMAzMzMzM7NAwA=="
         },
         "legendgroup": "117",
         "lon": {
          "dtype": "f8",
          "bdata": "7FG4HoVrZkCF61G4Hn1mQA=="
         },
         "marker": {
          "color": "#ab63fa"
         },
         "mode": "markers",
         "name": "117",
         "showlegend": true,
         "subplot": "map",
         "type": "scattermap"
        },
        {
         "customdata": [
          [
           -37.56,
           "21:06:24.3",
           177.09,
           "2008/06/12"
          ],
          [
           -36.91,
           "20:33:57.6",
           177.73,
           "2008/12/17"
          ],
          [
           -36.9,
           "23:01:09.9",
           178.26,
           "2009/07/12"
          ],
          [
           -36.74,
           "04:14:48.2",
           177.22,
           "2010/09/29"
          ]
         ],
         "hovertemplate": "<b>%{hovertext}</b><br><br>Cluster=102<br>Lat=%{customdata[0]}<br>Lon=%{customdata[2]}<br>Time=%{customdata[1]}<br>Date=%{customdata[3]}<extra></extra>",
         "hovertext": {
          "dtype": "f8",
          "bdata": "AAAAAACAWUAAAAAAAIBZQAAAAAAAgFlAAAAAAACAWUA="
         },
         "lat": {
          "dtype": "f8",
          "bdata": "SOF6FK7HQsAUrkfhenRCwDMzMzMzc0LAH4XrUbheQsA="
         },
         "legendgroup": "102",
         "lon": {
          "dtype": "f8",
          "bdata": "exSuR+EiZkCPwvUoXDdmQLgehetRSGZA16NwPQonZkA="
         },
         "marker": {
          "color": "#FFA15A"
         },
         "mode": "markers",
         "name": "102",
         "showlegend": true,
         "subplot": "map",
         "type": "scattermap"
        },
        {
         "customdata": [
          [
           -30.0,
           "03:03:24.7",
           -177.48,
           "2008/10/01"
          ],
          [
           -30.27,
           "02:01:05.9",
           -176.95,
           "2008/10/06"
          ],
          [
           -30.08,
           "14:01:21.0",
           -178.57,
           "2009/05/03"
          ]
         ],
         "hovertemplate": "<b>%{hovertext}</b><br><br>Cluster=169<br>Lat=%{customdata[0]}<br>Lon=%{customdata[2]}<br>Time=%{customdata[1]}<br>Date=%{customdata[3]}<extra></extra>",
         "hovertext": {
          "dtype": "f8",
          "bdata": "AAAAAAAgZUAAAAAAACBlQAAAAAAAIGVA"
         },
         "lat": {
          "dtype": "f8",
          "bdata": "AAAAAAAAPsCF61G4HkU+wBSuR+F6FD7A"
         },
         "legendgroup": "169",
         "lon": {
          "dtype": "f8",
          "bdata": "j8L1KFwvZsBmZmZmZh5mwArXo3A9UmbA"
         },
         "marker": {
          "color": "#19d3f3"
         },
         "mode": "markers",
         "name": "169",
         "showlegend": true,
         "subplot": "map",
         "type": "scattermap"
        },
        {
         "customdata": [
          [
           -37.01,
           "17:38:58.0",
           177.69,
           "2009/03/14"
          ],
          [
           -36.76,
           "17:46:26.8",
           178.77,
           "2009/07/25"
          ],
          [
           -36.24,
           "17:24:30.0",
           179.22,
           "2009/08/21"
          ]
         ],
         "hovertemplate": "<b>%{hovertext}</b><br><br>Cluster=120<br>Lat=%{customdata[0]}<br>Lon=%{customdata[2]}<br>Time=%{customdata[1]}<br>Date=%{customdata[3]}<extra></extra>",
         "hovertext": {
          "dtype": "f8",
          "bdata": "AAAAAAAAXkAAAAAAAABeQAAAAAAAAF5A"
         },
         "lat": {
          "dtype": "f8",
          "bdata": "4XoUrkeBQsDhehSuR2FCwB+F61G4HkLA"
         },
         "legendgroup": "120",
         "lon": {
          "dtype": "f8",
          "bdata": "rkfhehQ2ZkBxPQrXo1hmQNejcD0KZ2ZA"
         },
         "marker": {
          "color": "#FF6692"
         },
         "mode": "markers",
         "name": "120",
         "showlegend": true,
         "subplot": "map",
         "type": "scattermap"
        },
        {
         "customdata": [
          [
           -38.72,
           "11:12:58.8",
           178.51,
           "2009/04/08"
          ],
          [
           -38.97,
           "13:23:40.2",
           177.35,
           "2010/07/11"
          ]
         ],
         "hovertemplate": "<b>%{hovertext}</b><br><br>Cluster=81<br>Lat=%{customdata[0]}<br>Lon=%{customdata[2]}<br>Time=%{customdata[1]}<br>Date=%{customdata[3]}<extra></extra>",
         "hovertext": {
          "dtype": "f8",
          "bdata": "AAAAAABAVEAAAAAAAEBUQA=="
         },
         "lat": {
          "dtype": "f8",
          "bdata": "XI/C9ShcQ8Bcj8L1KHxDwA=="
         },
         "legendgroup": "81",
         "lon": {
          "dtype": "f8",
          "bdata": "uB6F61FQZkAzMzMzMytmQA=="
         },
         "marker": {
          "color": "#B6E880"
         },
         "mode": "markers",
         "name": "81",
         "showlegend": true,
         "subplot": "map",
         "type": "scattermap"
        },
        {
         "customdata": [
          [
           -46.29,
           "00:44:46.5",
           165.87,
           "2009/07/16"
          ],
          [
           -46.2,
           "22:18:23.5",
           166.13,
           "2009/07/16"
          ],
          [
           -45.43,
           "06:39:24.0",
           166.54,
           "2009/07/17"
          ]
         ],
         "hovertemplate": "<b>%{hovertext}</b><br><br>Cluster=56<br>Lat=%{customdata[0]}<br>Lon=%{customdata[2]}<br>Time=%{customdata[1]}<br>Date=%{customdata[3]}<extra></extra>",
         "hovertext": {
          "dtype": "f8",
          "bdata": "AAAAAAAATEAAAAAAAABMQAAAAAAAAExA"
         },
         "lat": {
          "dtype": "f8",
          "bdata": "hetRuB4lR8CamZmZmRlHwNejcD0Kt0bA"
         },
         "legendgroup": "56",
         "lon": {
          "dtype": "f8",
          "bdata": "pHA9Cte7ZEBcj8L1KMRkQOF6FK5H0WRA"
         },
         "marker": {
          "color": "#FF97FF"
         },
         "mode": "markers",
         "name": "56",
         "showlegend": true,
         "subplot": "map",
         "type": "scattermap"
        },
        {
         "customdata": [
          [
           -45.49,
           "17:27:40.9",
           166.54,
           "2009/07/16"
          ],
          [
           -46.03,
           "21:29:24.0",
           166.07,
           "2010/03/18"
          ],
          [
           -47.12,
           "08:20:26.8",
           165.38,
           "2010/10/24"
          ]
         ],
         "hovertemplate": "<b>%{hovertext}</b><br><br>Cluster=48<br>Lat=%{customdata[0]}<br>Lon=%{customdata[2]}<br>Time=%{customdata[1]}<br>Date=%{customdata[3]}<extra></extra>",
         "hovertext": {
          "dtype": "f8",
          "bdata": "AAAAAAAASEAAAAAAAABIQAAAAAAAAEhA"
         },
         "lat": {
          "dtype": "f8",
          "bdata": "H4XrUbi+RsCkcD0K1wNHwI/C9Shcj0fA"
         },
         "legendgroup": "48",
         "lon": {
          "dtype": "f8",
          "bdata": "4XoUrkfRZEAK16NwPcJkQFyPwvUorGRA"
         },
         "marker": {
          "color": "#FECB52"
         },
         "mode": "markers",
         "name": "48",
         "showlegend": true,
         "subplot": "map",
         "type": "scattermap"
        },
        {
         "customdata": [
          [
           -48.73,
           "06:28:50.3",
           164.67,
           "2010/03/18"
          ],
          [
           -48.98,
           "10:54:29.8",
           164.54,
           "2011/10/01"
          ]
         ],
         "hovertemplate": "<b>%{hovertext}</b><br><br>Cluster=32<br>Lat=%{customdata[0]}<br>Lon=%{customdata[2]}<br>Time=%{customdata[1]}<br>Date=%{customdata[3]}<extra></extra>",
         "hovertext": {
          "dtype": "f8",
          "bdata": "AAAAAAAAQEAAAAAAAABAQA=="
         },
         "lat": {
          "dtype": "f8",
          "bdata": "PQrXo3BdSMA9CtejcH1IwA=="
         },
         "legendgroup": "32",
         "lon": {
          "dtype": "f8",
          "bdata": "PQrXo3CVZEDhehSuR5FkQA=="
         },
         "marker": {
          "color": "#636efa"
         },
         "mode": "markers",
         "name": "32",
         "showlegend": true,
         "subplot": "map",
         "type": "scattermap"
        },
        {
         "customdata": [
          [
           -30.58,
           "23:04:22.6",
           -179.94,
           "2010/07/10"
          ],
          [
           -31.13,
           "15:20:28.3",
           -179.82,
           "2011/03/20"
          ]
         ],
         "hovertemplate": "<b>%{hovertext}</b><br><br>Cluster=152<br>Lat=%{customdata[0]}<br>Lon=%{customdata[2]}<br>Time=%{customdata[1]}<br>Date=%{customdata[3]}<extra></extra>",
         "hovertext": {
          "dtype": "f8",
          "bdata": "AAAAAAAAY0AAAAAAAABjQA=="
         },
         "lat": {
          "dtype": "f8",
          "bdata": "FK5H4XqUPsDhehSuRyE/wA=="
         },
         "legendgroup": "152",
         "lon": {
          "dtype": "f8",
          "bdata": "rkfhehR+ZsAK16NwPXpmwA=="
         },
         "marker": {
          "color": "#EF553B"
         },
         "mode": "markers",
         "name": "152",
         "showlegend": true,
         "subplot": "map",
         "type": "scattermap"
        },
        {
         "customdata": [
          [
           -43.53,
           "16:35:47.8",
           171.81,
           "2010/09/03"
          ],
          [
           -42.74,
           "11:02:56.3",
           173.05,
           "2016/11/13"
          ]
         ],
         "hovertemplate": "<b>%{hovertext}</b><br><br>Cluster=2<br>Lat=%{customdata[0]}<br>Lon=%{customdata[2]}<br>Time=%{customdata[1]}<br>Date=%{customdata[3]}<extra></extra>",
         "hovertext": {
          "dtype": "f8",
          "bdata": "AAAAAAAAAEAAAAAAAAAAQA=="
         },
         "lat": {
          "dtype": "f8",
          "bdata": "pHA9CtfDRcAfhetRuF5FwA=="
         },
         "legendgroup": "2",
         "lon": {
          "dtype": "f8",
          "bdata": "Urgehet5ZUCamZmZmaFlQA=="
         },
         "marker": {
          "color": "#00cc96"
         },
         "mode": "markers",
         "name": "2",
         "showlegend": true,
         "subplot": "map",
         "type": "scattermap"
        },
        {
         "customdata": [
          [
           -43.57,
           "11:24:01.6",
           172.39,
           "2010/09/06"
          ],
          [
           -43.59,
           "11:40:50.3",
           171.89,
           "2010/09/06"
          ],
          [
           -43.6,
           "01:50:29.7",
           172.62,
           "2011/02/22"
          ],
          [
           -43.61,
           "05:49:22.2",
           172.79,
           "2011/04/16"
          ],
          [
           -43.58,
           "15:04:23.2",
           172.33,
           "2011/05/09"
          ],
          [
           -43.58,
           "21:09:55.3",
           172.39,
           "2011/06/05"
          ],
          [
           -43.58,
           "01:01:00.3",
           172.76,
           "2011/06/13"
          ],
          [
           -43.64,
           "18:27:26.8",
           172.93,
           "2011/06/14"
          ],
          [
           -43.6,
           "10:34:23.0",
           172.52,
           "2011/06/21"
          ],
          [
           -43.47,
           "01:06:25.6",
           172.84,
           "2011/12/23"
          ],
          [
           -43.67,
           "17:37:30.4",
           172.84,
           "2011/12/23"
          ],
          [
           -43.48,
           "16:45:05.0",
           172.88,
           "2012/01/01"
          ],
          [
           -43.51,
           "12:21:37.1",
           172.82,
           "2012/01/06"
          ],
          [
           -43.47,
           "02:44:50.5",
           172.81,
           "2012/05/25"
          ]
         ],
         "hovertemplate": "<b>%{hovertext}</b><br><br>Cluster=61<br>Lat=%{customdata[0]}<br>Lon=%{customdata[2]}<br>Time=%{customdata[1]}<br>Date=%{customdata[3]}<extra></extra>",
         "hovertext": {
          "dtype": "f8",
          "bdata": "AAAAAACATkAAAAAAAIBOQAAAAAAAgE5AAAAAAACATkAAAAAAAIBOQAAAAAAAgE5AAAAAAACATkAAAAAAAIBOQAAAAAAAgE5AAAAAAACATkAAAAAAAIBOQAAAAAAAgE5AAAAAAACATkAAAAAAAIBOQA=="
         },
         "lat": {
          "dtype": "f8",
          "bdata": "KVyPwvXIRcDsUbgehctFwM3MzMzMzEXArkfhehTORcAK16NwPcpFwArXo3A9ykXACtejcD3KRcBSuB6F69FFwM3MzMzMzEXAXI/C9Si8RcD2KFyPwtVFwD0K16NwvUXA4XoUrkfBRcBcj8L1KLxFwA=="
         },
         "legendgroup": "61",
         "lon": {
          "dtype": "f8",
          "bdata": "FK5H4XqMZUAUrkfhenxlQKRwPQrXk2VA4XoUrkeZZUDD9Shcj4plQBSuR+F6jGVAuB6F61GYZUD2KFyPwp1lQHE9CtejkGVAexSuR+GaZUB7FK5H4ZplQFyPwvUonGVACtejcD2aZUBSuB6F65llQA=="
         },
         "marker": {
          "color": "#ab63fa"
         },
         "mode": "markers",
         "name": "61",
         "showlegend": true,
         "subplot": "map",
         "type": "scattermap"
        },
        {
         "customdata": [
          [
           -37.17,
           "12:04:57.1",
           179.38,
           "2011/01/13"
          ],
          [
           -37.43,
           "02:43:51.1",
           179.96,
           "2011/11/18"
          ]
         ],
         "hovertemplate": "<b>%{hovertext}</b><br><br>Cluster=132<br>Lat=%{customdata[0]}<br>Lon=%{customdata[2]}<br>Time=%{customdata[1]}<br>Date=%{customdata[3]}<extra></extra>",
         "hovertext": {
          "dtype": "f8",
          "bdata": "AAAAAACAYEAAAAAAAIBgQA=="
         },
         "lat": {
          "dtype": "f8",
          "bdata": "9ihcj8KVQsDXo3A9CrdCwA=="
         },
         "legendgroup": "132",
         "lon": {
          "dtype": "f8",
          "bdata": "XI/C9ShsZkAfhetRuH5mQA=="
         },
         "marker": {
          "color": "#FFA15A"
         },
         "mode": "markers",
         "name": "132",
         "showlegend": true,
         "subplot": "map",
         "type": "scattermap"
        },
        {
         "customdata": [
          [
           -38.5,
           "15:02:46.3",
           176.0,
           "2011/01/27"
          ],
          [
           -38.67,
           "03:36:25.1",
           175.75,
           "2011/07/05"
          ],
          [
           -39.07,
           "00:50:27.0",
           175.81,
           "2012/07/07"
          ],
          [
           -38.64,
           "23:42:55.7",
           176.17,
           "2012/10/16"
          ]
         ],
         "hovertemplate": "<b>%{hovertext}</b><br><br>Cluster=82<br>Lat=%{customdata[0]}<br>Lon=%{customdata[2]}<br>Time=%{customdata[1]}<br>Date=%{customdata[3]}<extra></extra>",
         "hovertext": {
          "dtype": "f8",
          "bdata": "AAAAAACAVEAAAAAAAIBUQAAAAAAAgFRAAAAAAACAVEA="
         },
         "lat": {
          "dtype": "f8",
          "bdata": "AAAAAABAQ8D2KFyPwlVDwClcj8L1iEPAUrgehetRQ8A="
         },
         "legendgroup": "82",
         "lon": {
          "dtype": "f8",
          "bdata": "AAAAAAAAZkAAAAAAAPhlQFK4HoXr+WVAPQrXo3AFZkA="
         },
         "marker": {
          "color": "#19d3f3"
         },
         "mode": "markers",
         "name": "82",
         "showlegend": true,
         "subplot": "map",
         "type": "scattermap"
        },
        {
         "customdata": [
          [
           -43.59,
           "00:04:19.4",
           172.65,
           "2011/02/22"
          ],
          [
           -43.56,
           "02:20:49.3",
           172.74,
           "2011/06/13"
          ],
          [
           -43.52,
           "00:58:37.1",
           172.97,
           "2011/12/23"
          ],
          [
           -43.49,
           "02:18:02.4",
           172.86,
           "2011/12/23"
          ]
         ],
         "hovertemplate": "<b>%{hovertext}</b><br><br>Cluster=62<br>Lat=%{customdata[0]}<br>Lon=%{customdata[2]}<br>Time=%{customdata[1]}<br>Date=%{customdata[3]}<extra></extra>",
         "hovertext": {
          "dtype": "f8",
          "bdata": "AAAAAAAAT0AAAAAAAABPQAAAAAAAAE9AAAAAAAAAT0A="
         },
         "lat": {
          "dtype": "f8",
          "bdata": "7FG4HoXLRcBI4XoUrsdFwMP1KFyPwkXAH4XrUbi+RcA="
         },
         "legendgroup": "62",
         "lon": {
          "dtype": "f8",
          "bdata": "zczMzMyUZUBI4XoUrpdlQNejcD0Kn2VA7FG4HoWbZUA="
         },
         "marker": {
          "color": "#FF6692"
         },
         "mode": "markers",
         "name": "62",
         "showlegend": true,
         "subplot": "map",
         "type": "scattermap"
        },
        {
         "customdata": [
          [
           -33.05,
           "05:45:17.3",
           -178.53,
           "2011/04/14"
          ],
          [
           -33.17,
           "13:37:14.8",
           -179.02,
           "2011/12/21"
          ],
          [
           -33.81,
           "10:52:07.0",
           -178.34,
           "2011/12/23"
          ],
          [
           -32.94,
           "02:20:06.6",
           -178.65,
           "2012/06/22"
          ],
          [
           -33.44,
           "10:01:53.9",
           -179.53,
           "2012/08/24"
          ],
          [
           -32.34,
           "20:54:04.1",
           -178.05,
           "2013/02/24"
          ],
          [
           -33.51,
           "16:48:59.3",
           -178.09,
           "2013/09/21"
          ]
         ],
         "hovertemplate": "<b>%{hovertext}</b><br><br>Cluster=173<br>Lat=%{customdata[0]}<br>Lon=%{customdata[2]}<br>Time=%{customdata[1]}<br>Date=%{customdata[3]}<extra></extra>",
         "hovertext": {
          "dtype": "f8",
          "bdata": "AAAAAACgZUAAAAAAAKBlQAAAAAAAoGVAAAAAAACgZUAAAAAAAKBlQAAAAAAAoGVAAAAAAACgZUA="
         },
         "lat": {
          "dtype": "f8",
          "bdata": "ZmZmZmaGQMD2KFyPwpVAwEjhehSu50DAuB6F61F4QMC4HoXrUbhAwOxRuB6FK0DA4XoUrkfBQMA="
         },
         "legendgroup": "173",
         "lon": {
          "dtype": "f8",
          "bdata": "KVyPwvVQZsBxPQrXo2BmwHsUrkfhSmbAzczMzMxUZsApXI/C9XBmwJqZmZmZQWbAexSuR+FCZsA="
         },
         "marker": {
          "color": "#B6E880"
         },
         "mode": "markers",
         "name": "173",
         "showlegend": true,
         "subplot": "map",
         "type": "scattermap"
        },
        {
         "customdata": [
          [
           -35.9,
           "14:40:45.5",
           178.12,
           "2011/07/09"
          ],
          [
           -36.51,
           "05:16:17.1",
           177.93,
           "2013/02/16"
          ]
         ],
         "hovertemplate": "<b>%{hovertext}</b><br><br>Cluster=79<br>Lat=%{customdata[0]}<br>Lon=%{customdata[2]}<br>Time=%{customdata[1]}<br>Date=%{customdata[3]}<extra></extra>",
         "hovertext": {
          "dtype": "f8",
          "bdata": "AAAAAADAU0AAAAAAAMBTQA=="
         },
         "lat": {
          "dtype": "f8",
          "bdata": "MzMzMzPzQcDhehSuR0FCwA=="
         },
         "legendgroup": "79",
         "lon": {
          "dtype": "f8",
          "bdata": "pHA9CtdDZkD2KFyPwj1mQA=="
         },
         "marker": {
          "color": "#FF97FF"
         },
         "mode": "markers",
         "name": "79",
         "showlegend": true,
         "subplot": "map",
         "type": "scattermap"
        },
        {
         "customdata": [
          [
           -35.25,
           "11:39:51.1",
           179.72,
           "2011/07/17"
          ],
          [
           -35.66,
           "09:24:41.2",
           -179.68,
           "2012/08/01"
          ],
          [
           -35.78,
           "12:54:27.1",
           -179.75,
           "2012/08/04"
          ]
         ],
         "hovertemplate": "<b>%{hovertext}</b><br><br>Cluster=146<br>Lat=%{customdata[0]}<br>Lon=%{customdata[2]}<br>Time=%{customdata[1]}<br>Date=%{customdata[3]}<extra></extra>",
         "hovertext": {
          "dtype": "f8",
          "bdata": "AAAAAABAYkAAAAAAAEBiQAAAAAAAQGJA"
         },
         "lat": {
          "dtype": "f8",
          "bdata": "AAAAAACgQcAUrkfhetRBwKRwPQrX40HA"
         },
         "legendgroup": "146",
         "lon": {
          "dtype": "f8",
          "bdata": "16NwPQp3ZkD2KFyPwnVmwAAAAAAAeGbA"
         },
         "marker": {
          "color": "#FECB52"
         },
         "mode": "markers",
         "name": "146",
         "showlegend": true,
         "subplot": "map",
         "type": "scattermap"
        },
        {
         "customdata": [
          [
           -37.5,
           "18:58:29.2",
           179.77,
           "2011/09/01"
          ],
          [
           -37.42,
           "04:34:03.0",
           179.99,
           "2011/11/18"
          ],
          [
           -37.71,
           "04:54:05.5",
           -179.97,
           "2012/07/21"
          ]
         ],
         "hovertemplate": "<b>%{hovertext}</b><br><br>Cluster=128<br>Lat=%{customdata[0]}<br>Lon=%{customdata[2]}<br>Time=%{customdata[1]}<br>Date=%{customdata[3]}<extra></extra>",
         "hovertext": {
          "dtype": "f8",
          "bdata": "AAAAAAAAYEAAAAAAAABgQAAAAAAAAGBA"
         },
         "lat": {
          "dtype": "f8",
          "bdata": "AAAAAADAQsD2KFyPwrVCwHsUrkfh2kLA"
         },
         "legendgroup": "128",
         "lon": {
          "dtype": "f8",
          "bdata": "cT0K16N4ZkBI4XoUrn9mQNejcD0Kf2bA"
         },
         "marker": {
          "color": "#636efa"
         },
         "mode": "markers",
         "name": "128",
         "showlegend": true,
         "subplot": "map",
         "type": "scattermap"
        },
        {
         "customdata": [
          [
           -34.25,
           "07:10:40.0",
           179.75,
           "2011/09/06"
          ],
          [
           -34.13,
           "13:10:22.8",
           179.5,
           "2011/09/06"
          ]
         ],
         "hovertemplate": "<b>%{hovertext}</b><br><br>Cluster=147<br>Lat=%{customdata[0]}<br>Lon=%{customdata[2]}<br>Time=%{customdata[1]}<br>Date=%{customdata[3]}<extra></extra>",
         "hovertext": {
          "dtype": "f8",
          "bdata": "AAAAAABgYkAAAAAAAGBiQA=="
         },
         "lat": {
          "dtype": "f8",
          "bdata": "AAAAAAAgQcBxPQrXoxBBwA=="
         },
         "legendgroup": "147",
         "lon": {
          "dtype": "f8",
          "bdata": "AAAAAAB4ZkAAAAAAAHBmQA=="
         },
         "marker": {
          "color": "#EF553B"
         },
         "mode": "markers",
         "name": "147",
         "showlegend": true,
         "subplot": "map",
         "type": "scattermap"
        },
        {
         "customdata": [
          [
           -32.54,
           "08:58:28.6",
           -179.04,
           "2011/10/07"
          ],
          [
           -32.72,
           "10:10:07.2",
           -179.1,
           "2011/12/15"
          ]
         ],
         "hovertemplate": "<b>%{hovertext}</b><br><br>Cluster=157<br>Lat=%{customdata[0]}<br>Lon=%{customdata[2]}<br>Time=%{customdata[1]}<br>Date=%{customdata[3]}<extra></extra>",
         "hovertext": {
          "dtype": "f8",
          "bdata": "AAAAAACgY0AAAAAAAKBjQA=="
         },
         "lat": {
          "dtype": "f8",
          "bdata": "hetRuB5FQMBcj8L1KFxAwA=="
         },
         "legendgroup": "157",
         "lon": {
          "dtype": "f8",
          "bdata": "4XoUrkdhZsAzMzMzM2NmwA=="
         },
         "marker": {
          "color": "#00cc96"
         },
         "mode": "markers",
         "name": "157",
         "showlegend": true,
         "subplot": "map",
         "type": "scattermap"
        },
        {
         "customdata": [
          [
           -37.53,
           "19:38:28.6",
           179.73,
           "2011/11/21"
          ],
          [
           -37.61,
           "04:58:01.3",
           -179.73,
           "2012/08/02"
          ],
          [
           -37.58,
           "05:17:08.6",
           -179.6,
           "2012/08/02"
          ]
         ],
         "hovertemplate": "<b>%{hovertext}</b><br><br>Cluster=131<br>Lat=%{customdata[0]}<br>Lon=%{customdata[2]}<br>Time=%{customdata[1]}<br>Date=%{customdata[3]}<extra></extra>",
         "hovertext": {
          "dtype": "f8",
          "bdata": "AAAAAABgYEAAAAAAAGBgQAAAAAAAYGBA"
         },
         "lat": {
          "dtype": "f8",
          "bdata": "pHA9CtfDQsCuR+F6FM5CwArXo3A9ykLA"
         },
         "legendgroup": "131",
         "lon": {
          "dtype": "f8",
          "bdata": "j8L1KFx3ZkCPwvUoXHdmwDMzMzMzc2bA"
         },
         "marker": {
          "color": "#ab63fa"
         },
         "mode": "markers",
         "name": "131",
         "showlegend": true,
         "subplot": "map",
         "type": "scattermap"
        },
        {
         "customdata": [
          [
           -41.36,
           "06:19:10.4",
           174.32,
           "2011/12/03"
          ],
          [
           -41.55,
           "21:06:39.0",
           174.41,
           "2013/07/18"
          ],
          [
           -41.69,
           "13:07:14.6",
           174.3,
           "2013/07/28"
          ],
          [
           -41.76,
           "02:45:28.2",
           174.02,
           "2013/08/16"
          ],
          [
           -41.68,
           "06:55:58.9",
           174.29,
           "2013/08/16"
          ],
          [
           -41.77,
           "08:58:39.7",
           174.05,
           "2013/08/17"
          ]
         ],
         "hovertemplate": "<b>%{hovertext}</b><br><br>Cluster=75<br>Lat=%{customdata[0]}<br>Lon=%{customdata[2]}<br>Time=%{customdata[1]}<br>Date=%{customdata[3]}<extra></extra>",
         "hovertext": {
          "dtype": "f8",
          "bdata": "AAAAAADAUkAAAAAAAMBSQAAAAAAAwFJAAAAAAADAUkAAAAAAAMBSQAAAAAAAwFJA"
         },
         "lat": {
          "dtype": "f8",
          "bdata": "rkfhehSuRMBmZmZmZsZEwLgehetR2ETA4XoUrkfhRMDXo3A9CtdEwMP1KFyP4kTA"
         },
         "legendgroup": "75",
         "lon": {
          "dtype": "f8",
          "bdata": "CtejcD3KZUCF61G4Hs1lQJqZmZmZyWVAcT0K16PAZUDhehSuR8llQJqZmZmZwWVA"
         },
         "marker": {
          "color": "#FFA15A"
         },
         "mode": "markers",
         "name": "75",
         "showlegend": true,
         "subplot": "map",
         "type": "scattermap"
        },
        {
         "customdata": [
          [
           -46.76,
           "09:01:56.0",
           165.6,
           "2012/01/19"
          ],
          [
           -46.68,
           "06:02:34.8",
           165.71,
           "2012/01/25"
          ]
         ],
         "hovertemplate": "<b>%{hovertext}</b><br><br>Cluster=54<br>Lat=%{customdata[0]}<br>Lon=%{customdata[2]}<br>Time=%{customdata[1]}<br>Date=%{customdata[3]}<extra></extra>",
         "hovertext": {
          "dtype": "f8",
          "bdata": "AAAAAAAAS0AAAAAAAABLQA=="
         },
         "lat": {
          "dtype": "f8",
          "bdata": "4XoUrkdhR8DXo3A9CldHwA=="
         },
         "legendgroup": "54",
         "lon": {
          "dtype": "f8",
          "bdata": "MzMzMzOzZEAfhetRuLZkQA=="
         },
         "marker": {
          "color": "#19d3f3"
         },
         "mode": "markers",
         "name": "54",
         "showlegend": true,
         "subplot": "map",
         "type": "scattermap"
        },
        {
         "customdata": [
          [
           -37.94,
           "13:12:29.9",
           177.76,
           "2012/10/30"
          ],
          [
           -37.32,
           "18:27:42.0",
           177.33,
           "2013/07/29"
          ]
         ],
         "hovertemplate": "<b>%{hovertext}</b><br><br>Cluster=135<br>Lat=%{customdata[0]}<br>Lon=%{customdata[2]}<br>Time=%{customdata[1]}<br>Date=%{customdata[3]}<extra></extra>",
         "hovertext": {
          "dtype": "f8",
          "bdata": "AAAAAADgYEAAAAAAAOBgQA=="
         },
         "lat": {
          "dtype": "f8",
          "bdata": "uB6F61H4QsApXI/C9ahCwA=="
         },
         "legendgroup": "135",
         "lon": {
          "dtype": "f8",
          "bdata": "uB6F61E4ZkDD9ShcjypmQA=="
         },
         "marker": {
          "color": "#FF6692"
         },
         "mode": "markers",
         "name": "135",
         "showlegend": true,
         "subplot": "map",
         "type": "scattermap"
        },
        {
         "customdata": [
          [
           -41.64,
           "19:17:10.1",
           174.39,
           "2013/07/20"
          ],
          [
           -41.74,
           "03:09:08.1",
           174.05,
           "2013/08/16"
          ],
          [
           -41.67,
           "05:31:16.5",
           174.26,
           "2013/08/16"
          ]
         ],
         "hovertemplate": "<b>%{hovertext}</b><br><br>Cluster=76<br>Lat=%{customdata[0]}<br>Lon=%{customdata[2]}<br>Time=%{customdata[1]}<br>Date=%{customdata[3]}<extra></extra>",
         "hovertext": {
          "dtype": "f8",
          "bdata": "AAAAAAAAU0AAAAAAAABTQAAAAAAAAFNA"
         },
         "lat": {
          "dtype": "f8",
          "bdata": "UrgehevRRMAfhetRuN5EwPYoXI/C1UTA"
         },
         "legendgroup": "76",
         "lon": {
          "dtype": "f8",
          "bdata": "FK5H4XrMZUCamZmZmcFlQLgehetRyGVA"
         },
         "marker": {
          "color": "#B6E880"
         },
         "mode": "markers",
         "name": "76",
         "showlegend": true,
         "subplot": "map",
         "type": "scattermap"
        },
        {
         "customdata": [
          [
           -41.7,
           "05:09:31.5",
           174.34,
           "2013/07/21"
          ],
          [
           -41.73,
           "02:31:05.8",
           174.15,
           "2013/08/16"
          ],
          [
           -42.61,
           "00:34:22.6",
           173.25,
           "2016/11/14"
          ]
         ],
         "hovertemplate": "<b>%{hovertext}</b><br><br>Cluster=30<br>Lat=%{customdata[0]}<br>Lon=%{customdata[2]}<br>Time=%{customdata[1]}<br>Date=%{customdata[3]}<extra></extra>",
         "hovertext": {
          "dtype": "f8",
          "bdata": "AAAAAAAAPkAAAAAAAAA+QAAAAAAAAD5A"
         },
         "lat": {
          "dtype": "f8",
          "bdata": "mpmZmZnZRMA9CtejcN1EwK5H4XoUTkXA"
         },
         "legendgroup": "30",
         "lon": {
          "dtype": "f8",
          "bdata": "exSuR+HKZUDNzMzMzMRlQAAAAAAAqGVA"
         },
         "marker": {
          "color": "#FF97FF"
         },
         "mode": "markers",
         "name": "30",
         "showlegend": true,
         "subplot": "map",
         "type": "scattermap"
        },
        {
         "customdata": [
          [
           -30.63,
           "04:16:47.8",
           -179.68,
           "2013/08/12"
          ],
          [
           -30.66,
           "21:25:00.0",
           -178.48,
           "2013/10/11"
          ],
          [
           -30.75,
           "19:00:46.3",
           -179.95,
           "2016/02/01"
          ],
          [
           -31.12,
           "07:03:11.0",
           179.93,
           "2017/06/29"
          ]
         ],
         "hovertemplate": "<b>%{hovertext}</b><br><br>Cluster=107<br>Lat=%{customdata[0]}<br>Lon=%{customdata[2]}<br>Time=%{customdata[1]}<br>Date=%{customdata[3]}<extra></extra>",
         "hovertext": {
          "dtype": "f8",
          "bdata": "AAAAAADAWkAAAAAAAMBaQAAAAAAAwFpAAAAAAADAWkA="
         },
         "lat": {
          "dtype": "f8",
          "bdata": "4XoUrkehPsApXI/C9ag+wAAAAAAAwD7AH4XrUbgeP8A="
         },
         "legendgroup": "107",
         "lon": {
          "dtype": "f8",
          "bdata": "9ihcj8J1ZsCPwvUoXE9mwGZmZmZmfmbA9ihcj8J9ZkA="
         },
         "marker": {
          "color": "#FECB52"
         },
         "mode": "markers",
         "name": "107",
         "showlegend": true,
         "subplot": "map",
         "type": "scattermap"
        },
        {
         "customdata": [
          [
           -47.35,
           "04:46:05.7",
           166.11,
           "2013/08/18"
          ],
          [
           -46.97,
           "08:02:06.5",
           165.9,
           "2014/12/12"
          ]
         ],
         "hovertemplate": "<b>%{hovertext}</b><br><br>Cluster=25<br>Lat=%{customdata[0]}<br>Lon=%{customdata[2]}<br>Time=%{customdata[1]}<br>Date=%{customdata[3]}<extra></extra>",
         "hovertext": {
          "dtype": "f8",
          "bdata": "AAAAAAAAOUAAAAAAAAA5QA=="
         },
         "lat": {
          "dtype": "f8",
          "bdata": "zczMzMysR8Bcj8L1KHxHwA=="
         },
         "legendgroup": "25",
         "lon": {
          "dtype": "f8",
          "bdata": "7FG4HoXDZEDNzMzMzLxkQA=="
         },
         "marker": {
          "color": "#636efa"
         },
         "mode": "markers",
         "name": "25",
         "showlegend": true,
         "subplot": "map",
         "type": "scattermap"
        },
        {
         "customdata": [
          [
           -30.36,
           "22:23:28.4",
           -179.71,
           "2013/11/18"
          ],
          [
           -30.2,
           "17:31:19.6",
           -179.33,
           "2015/10/24"
          ]
         ],
         "hovertemplate": "<b>%{hovertext}</b><br><br>Cluster=167<br>Lat=%{customdata[0]}<br>Lon=%{customdata[2]}<br>Time=%{customdata[1]}<br>Date=%{customdata[3]}<extra></extra>",
         "hovertext": {
          "dtype": "f8",
          "bdata": "AAAAAADgZEAAAAAAAOBkQA=="
         },
         "lat": {
          "dtype": "f8",
          "bdata": "XI/C9ShcPsAzMzMzMzM+wA=="
         },
         "legendgroup": "167",
         "lon": {
          "dtype": "f8",
          "bdata": "H4XrUbh2ZsDD9Shcj2pmwA=="
         },
         "marker": {
          "color": "#EF553B"
         },
         "mode": "markers",
         "name": "167",
         "showlegend": true,
         "subplot": "map",
         "type": "scattermap"
        },
        {
         "customdata": [
          [
           -46.08,
           "12:07:24.8",
           165.99,
           "2013/12/16"
          ],
          [
           -46.21,
           "05:13:44.1",
           165.96,
           "2014/10/13"
          ]
         ],
         "hovertemplate": "<b>%{hovertext}</b><br><br>Cluster=53<br>Lat=%{customdata[0]}<br>Lon=%{customdata[2]}<br>Time=%{customdata[1]}<br>Date=%{customdata[3]}<extra></extra>",
         "hovertext": {
          "dtype": "f8",
          "bdata": "AAAAAACASkAAAAAAAIBKQA=="
         },
         "lat": {
          "dtype": "f8",
          "bdata": "CtejcD0KR8B7FK5H4RpHwA=="
         },
         "legendgroup": "53",
         "lon": {
          "dtype": "f8",
          "bdata": "SOF6FK6/ZEAfhetRuL5kQA=="
         },
         "marker": {
          "color": "#00cc96"
         },
         "mode": "markers",
         "name": "53",
         "showlegend": true,
         "subplot": "map",
         "type": "scattermap"
        },
        {
         "customdata": [
          [
           -30.52,
           "11:53:44.9",
           -179.21,
           "2014/01/11"
          ],
          [
           -30.11,
           "12:53:51.5",
           -178.84,
           "2015/04/02"
          ]
         ],
         "hovertemplate": "<b>%{hovertext}</b><br><br>Cluster=171<br>Lat=%{customdata[0]}<br>Lon=%{customdata[2]}<br>Time=%{customdata[1]}<br>Date=%{customdata[3]}<extra></extra>",
         "hovertext": {
          "dtype": "f8",
          "bdata": "AAAAAABgZUAAAAAAAGBlQA=="
         },
         "lat": {
          "dtype": "f8",
          "bdata": "hetRuB6FPsBcj8L1KBw+wA=="
         },
         "legendgroup": "171",
         "lon": {
          "dtype": "f8",
          "bdata": "H4XrUbhmZsB7FK5H4VpmwA=="
         },
         "marker": {
          "color": "#ab63fa"
         },
         "mode": "markers",
         "name": "171",
         "showlegend": true,
         "subplot": "map",
         "type": "scattermap"
        },
        {
         "customdata": [
          [
           -32.91,
           "09:26:37.8",
           -177.88,
           "2014/02/02"
          ],
          [
           -32.82,
           "09:13:56.6",
           -177.86,
           "2015/09/07"
          ]
         ],
         "hovertemplate": "<b>%{hovertext}</b><br><br>Cluster=60<br>Lat=%{customdata[0]}<br>Lon=%{customdata[2]}<br>Time=%{customdata[1]}<br>Date=%{customdata[3]}<extra></extra>",
         "hovertext": {
          "dtype": "f8",
          "bdata": "AAAAAAAATkAAAAAAAABOQA=="
         },
         "lat": {
          "dtype": "f8",
          "bdata": "FK5H4Xp0QMApXI/C9WhAwA=="
         },
         "legendgroup": "60",
         "lon": {
          "dtype": "f8",
          "bdata": "XI/C9Sg8ZsDsUbgehTtmwA=="
         },
         "marker": {
          "color": "#FFA15A"
         },
         "mode": "markers",
         "name": "60",
         "showlegend": true,
         "subplot": "map",
         "type": "scattermap"
        },
        {
         "customdata": [
          [
           -34.8,
           "08:14:42.5",
           -179.42,
           "2014/02/18"
          ],
          [
           -35.42,
           "05:35:14.5",
           -179.62,
           "2015/07/07"
          ],
          [
           -35.41,
           "06:21:02.2",
           -179.72,
           "2015/07/07"
          ]
         ],
         "hovertemplate": "<b>%{hovertext}</b><br><br>Cluster=124<br>Lat=%{customdata[0]}<br>Lon=%{customdata[2]}<br>Time=%{customdata[1]}<br>Date=%{customdata[3]}<extra></extra>",
         "hovertext": {
          "dtype": "f8",
          "bdata": "AAAAAAAAX0AAAAAAAABfQAAAAAAAAF9A"
         },
         "lat": {
          "dtype": "f8",
          "bdata": "ZmZmZmZmQcD2KFyPwrVBwBSuR+F6tEHA"
         },
         "legendgroup": "124",
         "lon": {
          "dtype": "f8",
          "bdata": "PQrXo3BtZsCkcD0K13NmwNejcD0Kd2bA"
         },
         "marker": {
          "color": "#19d3f3"
         },
         "mode": "markers",
         "name": "124",
         "showlegend": true,
         "subplot": "map",
         "type": "scattermap"
        },
        {
         "customdata": [
          [
           -39.97,
           "01:01:19.5",
           176.55,
           "2014/03/31"
          ],
          [
           -40.54,
           "14:41:22.0",
           175.92,
           "2014/09/22"
          ],
          [
           -39.4,
           "05:42:11.5",
           175.95,
           "2015/11/01"
          ]
         ],
         "hovertemplate": "<b>%{hovertext}</b><br><br>Cluster=114<br>Lat=%{customdata[0]}<br>Lon=%{customdata[2]}<br>Time=%{customdata[1]}<br>Date=%{customdata[3]}<extra></extra>",
         "hovertext": {
          "dtype": "f8",
          "bdata": "AAAAAACAXEAAAAAAAIBcQAAAAAAAgFxA"
         },
         "lat": {
          "dtype": "f8",
          "bdata": "XI/C9Sj8Q8CF61G4HkVEwDMzMzMzs0PA"
         },
         "legendgroup": "114",
         "lon": {
          "dtype": "f8",
          "bdata": "mpmZmZkRZkA9CtejcP1lQGZmZmZm/mVA"
         },
         "marker": {
          "color": "#FF6692"
         },
         "mode": "markers",
         "name": "114",
         "showlegend": true,
         "subplot": "map",
         "type": "scattermap"
        },
        {
         "customdata": [
          [
           -33.6,
           "15:50:00.5",
           179.41,
           "2014/04/08"
          ],
          [
           -34.1,
           "15:22:10.1",
           179.07,
           "2015/02/08"
          ],
          [
           -32.85,
           "23:36:00.3",
           179.8,
           "2015/03/18"
          ]
         ],
         "hovertemplate": "<b>%{hovertext}</b><br><br>Cluster=159<br>Lat=%{customdata[0]}<br>Lon=%{customdata[2]}<br>Time=%{customdata[1]}<br>Date=%{customdata[3]}<extra></extra>",
         "hovertext": {
          "dtype": "f8",
          "bdata": "AAAAAADgY0AAAAAAAOBjQAAAAAAA4GNA"
         },
         "lat": {
          "dtype": "f8",
          "bdata": "zczMzMzMQMDNzMzMzAxBwM3MzMzMbEDA"
         },
         "legendgroup": "159",
         "lon": {
          "dtype": "f8",
          "bdata": "hetRuB5tZkAK16NwPWJmQJqZmZmZeWZA"
         },
         "marker": {
          "color": "#B6E880"
         },
         "mode": "markers",
         "name": "159",
         "showlegend": true,
         "subplot": "map",
         "type": "scattermap"
        },
        {
         "customdata": [
          [
           -34.63,
           "18:23:05.4",
           -179.58,
           "2014/07/18"
          ],
          [
           -34.87,
           "11:16:05.3",
           179.76,
           "2015/04/18"
          ]
         ],
         "hovertemplate": "<b>%{hovertext}</b><br><br>Cluster=125<br>Lat=%{customdata[0]}<br>Lon=%{customdata[2]}<br>Time=%{customdata[1]}<br>Date=%{customdata[3]}<extra></extra>",
         "hovertext": {
          "dtype": "f8",
          "bdata": "AAAAAABAX0AAAAAAAEBfQA=="
         },
         "lat": {
          "dtype": "f8",
          "bdata": "cT0K16NQQcCPwvUoXG9BwA=="
         },
         "legendgroup": "125",
         "lon": {
          "dtype": "f8",
          "bdata": "w/UoXI9yZsC4HoXrUXhmQA=="
         },
         "marker": {
          "color": "#FF97FF"
         },
         "mode": "markers",
         "name": "125",
         "showlegend": true,
         "subplot": "map",
         "type": "scattermap"
        },
        {
         "customdata": [
          [
           -36.08,
           "15:02:30.2",
           178.06,
           "2014/09/21"
          ],
          [
           -35.95,
           "15:05:27.5",
           178.38,
           "2014/09/21"
          ],
          [
           -38.56,
           "01:14:31.6",
           176.44,
           "2014/10/06"
          ],
          [
           -38.0,
           "10:43:45.0",
           177.76,
           "2014/12/04"
          ],
          [
           -37.65,
           "05:56:57.8",
           179.65,
           "2015/02/17"
          ],
          [
           -36.51,
           "10:25:06.2",
           177.27,
           "2015/02/23"
          ],
          [
           -36.58,
           "19:33:08.8",
           177.27,
           "2015/02/25"
          ],
          [
           -38.27,
           "18:47:51.3",
           176.13,
           "2015/09/23"
          ],
          [
           -37.34,
           "00:26:47.9",
           177.37,
           "2016/05/02"
          ],
          [
           -38.64,
           "13:44:22.4",
           176.6,
           "2016/05/11"
          ],
          [
           -37.34,
           "13:30:27.1",
           178.99,
           "2016/09/03"
          ],
          [
           -37.18,
           "06:19:38.5",
           179.38,
           "2016/09/04"
          ],
          [
           -37.33,
           "20:00:26.8",
           178.97,
           "2016/09/04"
          ],
          [
           -37.67,
           "05:56:27.5",
           178.97,
           "2016/09/23"
          ],
          [
           -37.07,
           "19:38:17.8",
           177.02,
           "2016/11/22"
          ],
          [
           -38.88,
           "07:21:41.6",
           177.62,
           "2016/11/26"
          ],
          [
           -37.89,
           "16:46:11.1",
           177.68,
           "2017/01/06"
          ],
          [
           -38.03,
           "05:05:38.1",
           177.78,
           "2017/02/02"
          ],
          [
           -37.64,
           "07:53:01.7",
           179.01,
           "2017/02/20"
          ],
          [
           -38.71,
           "03:08:39.4",
           177.92,
           "2017/04/19"
          ],
          [
           -37.81,
           "06:19:56.9",
           177.73,
           "2017/05/09"
          ],
          [
           -37.16,
           "06:34:36.3",
           178.77,
           "2017/09/30"
          ],
          [
           -37.49,
           "07:36:06.4",
           177.34,
           "2017/10/31"
          ],
          [
           -37.6,
           "22:59:51.9",
           177.28,
           "2017/10/31"
          ],
          [
           -37.49,
           "12:14:26.5",
           178.83,
           "2018/04/09"
          ],
          [
           -37.09,
           "18:10:48.5",
           178.99,
           "2019/04/27"
          ],
          [
           -37.26,
           "06:49:16.0",
           179.41,
           "2020/01/13"
          ]
         ],
         "hovertemplate": "<b>%{hovertext}</b><br><br>Cluster=140<br>Lat=%{customdata[0]}<br>Lon=%{customdata[2]}<br>Time=%{customdata[1]}<br>Date=%{customdata[3]}<extra></extra>",
         "hovertext": {
          "dtype": "f8",
          "bdata": "AAAAAACAYUAAAAAAAIBhQAAAAAAAgGFAAAAAAACAYUAAAAAAAIBhQAAAAAAAgGFAAAAAAACAYUAAAAAAAIBhQAAAAAAAgGFAAAAAAACAYUAAAAAAAIBhQAAAAAAAgGFAAAAAAACAYUAAAAAAAIBhQAAAAAAAgGFAAAAAAACAYUAAAAAAAIBhQAAAAAAAgGFAAAAAAACAYUAAAAAAAIBhQAAAAAAAgGFAAAAAAACAYUAAAAAAAIBhQAAAAAAAgGFAAAAAAACAYUAAAAAAAIBhQAAAAAAAgGFA"
         },
         "lat": {
          "dtype": "f8",
          "bdata": "CtejcD0KQsCamZmZmflBwEjhehSuR0PAAAAAAAAAQ8AzMzMzM9NCwOF6FK5HQULACtejcD1KQsDD9ShcjyJDwOxRuB6Fq0LAUrgehetRQ8DsUbgehatCwNejcD0Kl0LACtejcD2qQsD2KFyPwtVCwClcj8L1iELAcT0K16NwQ8BSuB6F6/FCwKRwPQrXA0PAUrgehevRQsB7FK5H4VpDwEjhehSu50LAFK5H4XqUQsAfhetRuL5CwM3MzMzMzELAH4XrUbi+QsDsUbgehYtCwOF6FK5HoULA"
         },
         "legendgroup": "140",
         "lon": {
          "dtype": "f8",
          "bdata": "UrgehetBZkBcj8L1KExmQK5H4XoUDmZAuB6F61E4ZkDNzMzMzHRmQHE9CtejKGZAcT0K16MoZkBcj8L1KARmQKRwPQrXK2ZAMzMzMzMTZkBI4XoUrl9mQFyPwvUobGZA16NwPQpfZkDXo3A9Cl9mQHE9CtejIGZApHA9CtczZkD2KFyPwjVmQClcj8L1OGZAuB6F61FgZkA9CtejcD1mQI/C9ShcN2ZAcT0K16NYZkB7FK5H4SpmQClcj8L1KGZAw/UoXI9aZkBI4XoUrl9mQIXrUbgebWZA"
         },
         "marker": {
          "color": "#FECB52"
         },
         "mode": "markers",
         "name": "140",
         "showlegend": true,
         "subplot": "map",
         "type": "scattermap"
        },
        {
         "customdata": [
          [
           -37.65,
           "22:33:20.5",
           179.66,
           "2014/11/16"
          ],
          [
           -37.36,
           "16:37:57.3",
           179.15,
           "2016/09/01"
          ]
         ],
         "hovertemplate": "<b>%{hovertext}</b><br><br>Cluster=5<br>Lat=%{customdata[0]}<br>Lon=%{customdata[2]}<br>Time=%{customdata[1]}<br>Date=%{customdata[3]}<extra></extra>",
         "hovertext": {
          "dtype": "f8",
          "bdata": "AAAAAAAAFEAAAAAAAAAUQA=="
         },
         "lat": {
          "dtype": "f8",
          "bdata": "MzMzMzPTQsCuR+F6FK5CwA=="
         },
         "legendgroup": "5",
         "lon": {
          "dtype": "f8",
          "bdata": "hetRuB51ZkDNzMzMzGRmQA=="
         },
         "marker": {
          "color": "#636efa"
         },
         "mode": "markers",
         "name": "5",
         "showlegend": true,
         "subplot": "map",
         "type": "scattermap"
        },
        {
         "customdata": [
          [
           -36.68,
           "01:57:49.0",
           177.14,
           "2014/11/23"
          ],
          [
           -36.47,
           "14:18:23.7",
           177.48,
           "2015/02/28"
          ]
         ],
         "hovertemplate": "<b>%{hovertext}</b><br><br>Cluster=63<br>Lat=%{customdata[0]}<br>Lon=%{customdata[2]}<br>Time=%{customdata[1]}<br>Date=%{customdata[3]}<extra></extra>",
         "hovertext": {
          "dtype": "f8",
          "bdata": "AAAAAACAT0AAAAAAAIBPQA=="
         },
         "lat": {
          "dtype": "f8",
          "bdata": "16NwPQpXQsBcj8L1KDxCwA=="
         },
         "legendgroup": "63",
         "lon": {
          "dtype": "f8",
          "bdata": "FK5H4XokZkCPwvUoXC9mQA=="
         },
         "marker": {
          "color": "#EF553B"
         },
         "mode": "markers",
         "name": "63",
         "showlegend": true,
         "subplot": "map",
         "type": "scattermap"
        },
        {
         "customdata": [
          [
           -48.85,
           "13:04:24.5",
           164.45,
           "2014/12/01"
          ],
          [
           -49.05,
           "19:28:04.2",
           164.48,
           "2016/02/15"
          ]
         ],
         "hovertemplate": "<b>%{hovertext}</b><br><br>Cluster=26<br>Lat=%{customdata[0]}<br>Lon=%{customdata[2]}<br>Time=%{customdata[1]}<br>Date=%{customdata[3]}<extra></extra>",
         "hovertext": {
          "dtype": "f8",
          "bdata": "AAAAAAAAOkAAAAAAAAA6QA=="
         },
         "lat": {
          "dtype": "f8",
          "bdata": "zczMzMxsSMBmZmZmZoZIwA=="
         },
         "legendgroup": "26",
         "lon": {
          "dtype": "f8",
          "bdata": "ZmZmZmaOZECPwvUoXI9kQA=="
         },
         "marker": {
          "color": "#00cc96"
         },
         "mode": "markers",
         "name": "26",
         "showlegend": true,
         "subplot": "map",
         "type": "scattermap"
        },
        {
         "customdata": [
          [
           -45.55,
           "11:40:01.3",
           167.12,
           "2015/01/13"
          ],
          [
           -45.47,
           "09:35:58.5",
           166.32,
           "2017/02/05"
          ]
         ],
         "hovertemplate": "<b>%{hovertext}</b><br><br>Cluster=38<br>Lat=%{customdata[0]}<br>Lon=%{customdata[2]}<br>Time=%{customdata[1]}<br>Date=%{customdata[3]}<extra></extra>",
         "hovertext": {
          "dtype": "f8",
          "bdata": "AAAAAAAAQ0AAAAAAAABDQA=="
         },
         "lat": {
          "dtype": "f8",
          "bdata": "ZmZmZmbGRsBcj8L1KLxGwA=="
         },
         "legendgroup": "38",
         "lon": {
          "dtype": "f8",
          "bdata": "pHA9CtfjZEAK16NwPcpkQA=="
         },
         "marker": {
          "color": "#ab63fa"
         },
         "mode": "markers",
         "name": "38",
         "showlegend": true,
         "subplot": "map",
         "type": "scattermap"
        },
        {
         "customdata": [
          [
           -33.64,
           "03:06:02.8",
           179.43,
           "2015/02/06"
          ],
          [
           -33.83,
           "14:44:31.5",
           -179.95,
           "2017/05/27"
          ],
          [
           -33.97,
           "11:38:49.9",
           -179.29,
           "2018/03/21"
          ],
          [
           -34.83,
           "01:56:30.1",
           -179.08,
           "2018/09/12"
          ],
          [
           -35.08,
           "21:16:29.4",
           -179.3,
           "2019/10/09"
          ]
         ],
         "hovertemplate": "<b>%{hovertext}</b><br><br>Cluster=144<br>Lat=%{customdata[0]}<br>Lon=%{customdata[2]}<br>Time=%{customdata[1]}<br>Date=%{customdata[3]}<extra></extra>",
         "hovertext": {
          "dtype": "f8",
          "bdata": "AAAAAAAAYkAAAAAAAABiQAAAAAAAAGJAAAAAAAAAYkAAAAAAAABiQA=="
         },
         "lat": {
          "dtype": "f8",
          "bdata": "UrgehevRQMAK16NwPepAwFyPwvUo/EDACtejcD1qQcAK16NwPYpBwA=="
         },
         "legendgroup": "144",
         "lon": {
          "dtype": "f8",
          "bdata": "9ihcj8JtZkBmZmZmZn5mwOF6FK5HaWbAw/UoXI9iZsCamZmZmWlmwA=="
         },
         "marker": {
          "color": "#FFA15A"
         },
         "mode": "markers",
         "name": "144",
         "showlegend": true,
         "subplot": "map",
         "type": "scattermap"
        },
        {
         "customdata": [
          [
           -44.52,
           "02:29:11.4",
           168.88,
           "2015/05/04"
          ],
          [
           -45.15,
           "02:55:23.9",
           166.83,
           "2016/06/07"
          ]
         ],
         "hovertemplate": "<b>%{hovertext}</b><br><br>Cluster=27<br>Lat=%{customdata[0]}<br>Lon=%{customdata[2]}<br>Time=%{customdata[1]}<br>Date=%{customdata[3]}<extra></extra>",
         "hovertext": {
          "dtype": "f8",
          "bdata": "AAAAAAAAO0AAAAAAAAA7QA=="
         },
         "lat": {
          "dtype": "f8",
          "bdata": "w/UoXI9CRsAzMzMzM5NGwA=="
         },
         "legendgroup": "27",
         "lon": {
          "dtype": "f8",
          "bdata": "XI/C9SgcZUDD9Shcj9pkQA=="
         },
         "marker": {
          "color": "#19d3f3"
         },
         "mode": "markers",
         "name": "27",
         "showlegend": true,
         "subplot": "map",
         "type": "scattermap"
        },
        {
         "customdata": [
          [
           -32.07,
           "18:45:57.5",
           -178.32,
           "2015/06/25"
          ],
          [
           -32.83,
           "14:06:27.8",
           -178.2,
           "2015/09/07"
          ],
          [
           -33.03,
           "06:48:32.9",
           -178.53,
           "2015/09/08"
          ],
          [
           -32.61,
           "20:32:27.0",
           -178.03,
           "2015/09/12"
          ]
         ],
         "hovertemplate": "<b>%{hovertext}</b><br><br>Cluster=172<br>Lat=%{customdata[0]}<br>Lon=%{customdata[2]}<br>Time=%{customdata[1]}<br>Date=%{customdata[3]}<extra></extra>",
         "hovertext": {
          "dtype": "f8",
          "bdata": "AAAAAACAZUAAAAAAAIBlQAAAAAAAgGVAAAAAAACAZUA="
         },
         "lat": {
          "dtype": "f8",
          "bdata": "KVyPwvUIQMAK16NwPWpAwKRwPQrXg0DArkfhehROQMA="
         },
         "legendgroup": "172",
         "lon": {
          "dtype": "f8",
          "bdata": "CtejcD1KZsBmZmZmZkZmwClcj8L1UGbAKVyPwvVAZsA="
         },
         "marker": {
          "color": "#FF6692"
         },
         "mode": "markers",
         "name": "172",
         "showlegend": true,
         "subplot": "map",
         "type": "scattermap"
        },
        {
         "customdata": [
          [
           -40.58,
           "08:05:01.6",
           176.29,
           "2015/10/12"
          ],
          [
           -40.6,
           "00:19:43.0",
           177.04,
           "2016/11/22"
          ]
         ],
         "hovertemplate": "<b>%{hovertext}</b><br><br>Cluster=58<br>Lat=%{customdata[0]}<br>Lon=%{customdata[2]}<br>Time=%{customdata[1]}<br>Date=%{customdata[3]}<extra></extra>",
         "hovertext": {
          "dtype": "f8",
          "bdata": "AAAAAAAATUAAAAAAAABNQA=="
         },
         "lat": {
          "dtype": "f8",
          "bdata": "CtejcD1KRMDNzMzMzExEwA=="
         },
         "legendgroup": "58",
         "lon": {
          "dtype": "f8",
          "bdata": "4XoUrkcJZkDhehSuRyFmQA=="
         },
         "marker": {
          "color": "#B6E880"
         },
         "mode": "markers",
         "name": "58",
         "showlegend": true,
         "subplot": "map",
         "type": "scattermap"
        },
        {
         "customdata": [
          [
           -35.42,
           "07:31:58.5",
           178.46,
           "2015/12/21"
          ],
          [
           -36.06,
           "15:04:43.3",
           178.74,
           "2017/07/24"
          ]
         ],
         "hovertemplate": "<b>%{hovertext}</b><br><br>Cluster=133<br>Lat=%{customdata[0]}<br>Lon=%{customdata[2]}<br>Time=%{customdata[1]}<br>Date=%{customdata[3]}<extra></extra>",
         "hovertext": {
          "dtype": "f8",
          "bdata": "AAAAAACgYEAAAAAAAKBgQA=="
         },
         "lat": {
          "dtype": "f8",
          "bdata": "9ihcj8K1QcBI4XoUrgdCwA=="
         },
         "legendgroup": "133",
         "lon": {
          "dtype": "f8",
          "bdata": "H4XrUbhOZkBI4XoUrldmQA=="
         },
         "marker": {
          "color": "#FF97FF"
         },
         "mode": "markers",
         "name": "133",
         "showlegend": true,
         "subplot": "map",
         "type": "scattermap"
        },
        {
         "customdata": [
          [
           -42.12,
           "00:39:00.6",
           173.07,
           "2016/02/09"
          ],
          [
           -40.95,
           "19:55:18.2",
           175.57,
           "2016/05/11"
          ],
          [
           -42.35,
           "22:19:32.2",
           173.07,
           "2016/11/13"
          ],
          [
           -41.82,
           "06:43:00.2",
           174.28,
           "2016/11/14"
          ],
          [
           -41.76,
           "07:21:04.7",
           174.3,
           "2016/11/14"
          ],
          [
           -42.45,
           "09:49:56.3",
           173.77,
           "2016/11/14"
          ],
          [
           -42.35,
           "19:17:31.9",
           173.96,
           "2016/11/14"
          ],
          [
           -41.79,
           "01:34:44.0",
           174.31,
           "2016/11/15"
          ],
          [
           -42.57,
           "04:12:44.7",
           173.97,
           "2016/11/15"
          ],
          [
           -42.35,
           "05:09:25.2",
           173.74,
           "2016/11/15"
          ],
          [
           -42.36,
           "06:30:30.5",
           173.95,
           "2016/11/15"
          ],
          [
           -41.72,
           "19:53:01.3",
           174.41,
           "2016/11/15"
          ],
          [
           -42.59,
           "14:22:57.1",
           173.26,
           "2016/11/18"
          ],
          [
           -42.93,
           "05:13:35.4",
           173.0,
           "2016/11/22"
          ],
          [
           -41.71,
           "03:15:47.5",
           174.2,
           "2016/12/04"
          ],
          [
           -41.7,
           "02:34:33.4",
           174.56,
           "2016/12/29"
          ],
          [
           -41.83,
           "11:17:34.8",
           174.06,
           "2017/01/05"
          ],
          [
           -42.37,
           "10:21:29.7",
           173.87,
           "2017/02/01"
          ],
          [
           -42.67,
           "20:18:54.3",
           172.74,
           "2017/02/11"
          ],
          [
           -43.01,
           "19:01:02.0",
           173.18,
           "2017/03/01"
          ],
          [
           -42.4,
           "04:10:58.9",
           173.41,
           "2017/10/22"
          ]
         ],
         "hovertemplate": "<b>%{hovertext}</b><br><br>Cluster=77<br>Lat=%{customdata[0]}<br>Lon=%{customdata[2]}<br>Time=%{customdata[1]}<br>Date=%{customdata[3]}<extra></extra>",
         "hovertext": {
          "dtype": "f8",
          "bdata": "AAAAAABAU0AAAAAAAEBTQAAAAAAAQFNAAAAAAABAU0AAAAAAAEBTQAAAAAAAQFNAAAAAAABAU0AAAAAAAEBTQAAAAAAAQFNAAAAAAABAU0AAAAAAAEBTQAAAAAAAQFNAAAAAAABAU0AAAAAAAEBTQAAAAAAAQFNAAAAAAABAU0AAAAAAAEBTQAAAAAAAQFNAAAAAAABAU0AAAAAAAEBTQAAAAAAAQFNA"
         },
         "lat": {
          "dtype": "f8",
          "bdata": "j8L1KFwPRcCamZmZmXlEwM3MzMzMLEXAKVyPwvXoRMDhehSuR+FEwJqZmZmZOUXAzczMzMwsRcCF61G4HuVEwClcj8L1SEXAzczMzMwsRcCuR+F6FC5FwFyPwvUo3ETA7FG4HoVLRcDXo3A9CndFwHsUrkfh2kTAmpmZmZnZRMAK16NwPepEwI/C9ShcL0XA9ihcj8JVRcDhehSuR4FFwDMzMzMzM0XA"
         },
         "legendgroup": "77",
         "lon": {
          "dtype": "f8",
          "bdata": "CtejcD2iZUAK16NwPfJlQArXo3A9omVAKVyPwvXIZUCamZmZmcllQHE9CtejuGVAH4XrUbi+ZUBSuB6F68llQNejcD0Kv2VASOF6FK63ZUBmZmZmZr5lQIXrUbgezWVAuB6F61GoZUAAAAAAAKBlQGZmZmZmxmVAUrgehevRZUBSuB6F68FlQKRwPQrXu2VASOF6FK6XZUD2KFyPwqVlQIXrUbgerWVA"
         },
         "marker": {
          "color": "#FECB52"
         },
         "mode": "markers",
         "name": "77",
         "showlegend": true,
         "subplot": "map",
         "type": "scattermap"
        },
        {
         "customdata": [
          [
           -47.03,
           "14:42:35.3",
           165.56,
           "2016/07/16"
          ],
          [
           -48.03,
           "20:30:22.7",
           165.02,
           "2016/11/23"
          ],
          [
           -48.0,
           "09:46:08.0",
           166.0,
           "2017/02/24"
          ],
          [
           -47.91,
           "09:57:00.5",
           165.4,
           "2018/11/26"
          ],
          [
           -47.9,
           "00:11:07.2",
           165.58,
           "2019/08/04"
          ]
         ],
         "hovertemplate": "<b>%{hovertext}</b><br><br>Cluster=40<br>Lat=%{customdata[0]}<br>Lon=%{customdata[2]}<br>Time=%{customdata[1]}<br>Date=%{customdata[3]}<extra></extra>",
         "hovertext": {
          "dtype": "f8",
          "bdata": "AAAAAAAAREAAAAAAAABEQAAAAAAAAERAAAAAAAAAREAAAAAAAABEQA=="
         },
         "lat": {
          "dtype": "f8",
          "bdata": "pHA9CteDR8CkcD0K1wNIwAAAAAAAAEjAFK5H4Xr0R8AzMzMzM/NHwA=="
         },
         "legendgroup": "40",
         "lon": {
          "dtype": "f8",
          "bdata": "UrgeheuxZEBxPQrXo6BkQAAAAAAAwGRAzczMzMysZEDD9Shcj7JkQA=="
         },
         "marker": {
          "color": "#636efa"
         },
         "mode": "markers",
         "name": "40",
         "showlegend": true,
         "subplot": "map",
         "type": "scattermap"
        },
        {
         "customdata": [
          [
           -37.13,
           "22:04:35.2",
           178.93,
           "2016/08/31"
          ],
          [
           -37.13,
           "15:19:03.6",
           178.7,
           "2016/09/05"
          ],
          [
           -37.12,
           "19:41:21.3",
           178.64,
           "2016/10/08"
          ]
         ],
         "hovertemplate": "<b>%{hovertext}</b><br><br>Cluster=74<br>Lat=%{customdata[0]}<br>Lon=%{customdata[2]}<br>Time=%{customdata[1]}<br>Date=%{customdata[3]}<extra></extra>",
         "hovertext": {
          "dtype": "f8",
          "bdata": "AAAAAACAUkAAAAAAAIBSQAAAAAAAgFJA"
         },
         "lat": {
          "dtype": "f8",
          "bdata": "cT0K16OQQsBxPQrXo5BCwI/C9Shcj0LA"
         },
         "legendgroup": "74",
         "lon": {
          "dtype": "f8",
          "bdata": "9ihcj8JdZkBmZmZmZlZmQBSuR+F6VGZA"
         },
         "marker": {
          "color": "#EF553B"
         },
         "mode": "markers",
         "name": "74",
         "showlegend": true,
         "subplot": "map",
         "type": "scattermap"
        },
        {
         "customdata": [
          [
           -37.23,
           "19:18:32.3",
           178.6,
           "2016/09/01"
          ],
          [
           -37.32,
           "20:06:10.0",
           178.71,
           "2016/09/01"
          ],
          [
           -36.58,
           "07:42:58.6",
           177.51,
           "2017/11/22"
          ]
         ],
         "hovertemplate": "<b>%{hovertext}</b><br><br>Cluster=129<br>Lat=%{customdata[0]}<br>Lon=%{customdata[2]}<br>Time=%{customdata[1]}<br>Date=%{customdata[3]}<extra></extra>",
         "hovertext": {
          "dtype": "f8",
          "bdata": "AAAAAAAgYEAAAAAAACBgQAAAAAAAIGBA"
         },
         "lat": {
          "dtype": "f8",
          "bdata": "PQrXo3CdQsApXI/C9ahCwArXo3A9SkLA"
         },
         "legendgroup": "129",
         "lon": {
          "dtype": "f8",
          "bdata": "MzMzMzNTZkAfhetRuFZmQLgehetRMGZA"
         },
         "marker": {
          "color": "#00cc96"
         },
         "mode": "markers",
         "name": "129",
         "showlegend": true,
         "subplot": "map",
         "type": "scattermap"
        },
        {
         "customdata": [
          [
           -37.5,
           "04:30:14.6",
           178.73,
           "2016/09/03"
          ],
          [
           -37.21,
           "04:58:38.5",
           178.9,
           "2016/09/03"
          ],
          [
           -36.96,
           "17:01:56.9",
           178.99,
           "2016/09/05"
          ]
         ],
         "hovertemplate": "<b>%{hovertext}</b><br><br>Cluster=141<br>Lat=%{customdata[0]}<br>Lon=%{customdata[2]}<br>Time=%{customdata[1]}<br>Date=%{customdata[3]}<extra></extra>",
         "hovertext": {
          "dtype": "f8",
          "bdata": "AAAAAACgYUAAAAAAAKBhQAAAAAAAoGFA"
         },
         "lat": {
          "dtype": "f8",
          "bdata": "AAAAAADAQsB7FK5H4ZpCwHsUrkfhekLA"
         },
         "legendgroup": "141",
         "lon": {
          "dtype": "f8",
          "bdata": "j8L1KFxXZkDNzMzMzFxmQEjhehSuX2ZA"
         },
         "marker": {
          "color": "#ab63fa"
         },
         "mode": "markers",
         "name": "141",
         "showlegend": true,
         "subplot": "map",
         "type": "scattermap"
        },
        {
         "customdata": [
          [
           -42.37,
           "19:28:56.7",
           173.94,
           "2016/11/13"
          ],
          [
           -42.33,
           "06:47:52.0",
           173.91,
           "2016/11/14"
          ]
         ],
         "hovertemplate": "<b>%{hovertext}</b><br><br>Cluster=78<br>Lat=%{customdata[0]}<br>Lon=%{customdata[2]}<br>Time=%{customdata[1]}<br>Date=%{customdata[3]}<extra></extra>",
         "hovertext": {
          "dtype": "f8",
          "bdata": "AAAAAACAU0AAAAAAAIBTQA=="
         },
         "lat": {
          "dtype": "f8",
          "bdata": "j8L1KFwvRcAK16NwPSpFwA=="
         },
         "legendgroup": "78",
         "lon": {
          "dtype": "f8",
          "bdata": "rkfhehS+ZUCF61G4Hr1lQA=="
         },
         "marker": {
          "color": "#FFA15A"
         },
         "mode": "markers",
         "name": "78",
         "showlegend": true,
         "subplot": "map",
         "type": "scattermap"
        },
        {
         "customdata": [
          [
           -34.66,
           "07:19:56.8",
           -178.73,
           "2016/12/22"
          ],
          [
           -34.87,
           "13:01:27.8",
           -178.78,
           "2018/08/02"
          ],
          [
           -34.83,
           "17:34:12.4",
           -179.35,
           "2018/09/13"
          ],
          [
           -34.62,
           "16:06:16.5",
           179.74,
           "2019/05/11"
          ],
          [
           -35.48,
           "19:24:52.7",
           -179.71,
           "2020/01/25"
          ],
          [
           -35.5,
           "21:20:06.9",
           -179.61,
           "2020/01/25"
          ]
         ],
         "hovertemplate": "<b>%{hovertext}</b><br><br>Cluster=165<br>Lat=%{customdata[0]}<br>Lon=%{customdata[2]}<br>Time=%{customdata[1]}<br>Date=%{customdata[3]}<extra></extra>",
         "hovertext": {
          "dtype": "f8",
          "bdata": "AAAAAACgZEAAAAAAAKBkQAAAAAAAoGRAAAAAAACgZEAAAAAAAKBkQAAAAAAAoGRA"
         },
         "lat": {
          "dtype": "f8",
          "bdata": "FK5H4XpUQcCPwvUoXG9BwArXo3A9akHAj8L1KFxPQcA9CtejcL1BwAAAAAAAwEHA"
         },
         "legendgroup": "165",
         "lon": {
          "dtype": "f8",
          "bdata": "j8L1KFxXZsApXI/C9VhmwDMzMzMza2bASOF6FK53ZkAfhetRuHZmwOxRuB6Fc2bA"
         },
         "marker": {
          "color": "#19d3f3"
         },
         "mode": "markers",
         "name": "165",
         "showlegend": true,
         "subplot": "map",
         "type": "scattermap"
        },
        {
         "customdata": [
          [
           -48.7,
           "20:25:48.6",
           164.62,
           "2017/08/30"
          ],
          [
           -49.64,
           "19:54:26.2",
           163.83,
           "2018/11/05"
          ],
          [
           -47.95,
           "03:25:49.8",
           165.57,
           "2019/01/03"
          ],
          [
           -47.33,
           "18:00:54.6",
           165.51,
           "2020/11/21"
          ]
         ],
         "hovertemplate": "<b>%{hovertext}</b><br><br>Cluster=39<br>Lat=%{customdata[0]}<br>Lon=%{customdata[2]}<br>Time=%{customdata[1]}<br>Date=%{customdata[3]}<extra></extra>",
         "hovertext": {
          "dtype": "f8",
          "bdata": "AAAAAACAQ0AAAAAAAIBDQAAAAAAAgENAAAAAAACAQ0A="
         },
         "lat": {
          "dtype": "f8",
          "bdata": "mpmZmZlZSMBSuB6F69FIwJqZmZmZ+UfACtejcD2qR8A="
         },
         "legendgroup": "39",
         "lon": {
          "dtype": "f8",
          "bdata": "pHA9CteTZEDD9Shcj3pkQArXo3A9smRAuB6F61GwZEA="
         },
         "marker": {
          "color": "#FF6692"
         },
         "mode": "markers",
         "name": "39",
         "showlegend": true,
         "subplot": "map",
         "type": "scattermap"
        },
        {
         "customdata": [
          [
           -32.75,
           "00:08:09.2",
           -178.77,
           "2017/12/04"
          ],
          [
           -32.24,
           "20:19:59.2",
           -177.77,
           "2019/03/06"
          ],
          [
           -32.47,
           "16:29:09.1",
           -178.37,
           "2019/03/07"
          ]
         ],
         "hovertemplate": "<b>%{hovertext}</b><br><br>Cluster=175<br>Lat=%{customdata[0]}<br>Lon=%{customdata[2]}<br>Time=%{customdata[1]}<br>Date=%{customdata[3]}<extra></extra>",
         "hovertext": {
          "dtype": "f8",
          "bdata": "AAAAAADgZUAAAAAAAOBlQAAAAAAA4GVA"
         },
         "lat": {
          "dtype": "f8",
          "bdata": "AAAAAABgQMAfhetRuB5AwFyPwvUoPEDA"
         },
         "legendgroup": "175",
         "lon": {
          "dtype": "f8",
          "bdata": "cT0K16NYZsBxPQrXozhmwKRwPQrXS2bA"
         },
         "marker": {
          "color": "#B6E880"
         },
         "mode": "markers",
         "name": "175",
         "showlegend": true,
         "subplot": "map",
         "type": "scattermap"
        },
        {
         "customdata": [
          [
           -31.98,
           "21:43:15.3",
           -179.95,
           "2018/05/17"
          ],
          [
           -31.17,
           "09:22:32.3",
           -179.07,
           "2019/04/16"
          ],
          [
           -31.04,
           "09:39:37.7",
           -178.8,
           "2019/04/16"
          ]
         ],
         "hovertemplate": "<b>%{hovertext}</b><br><br>Cluster=158<br>Lat=%{customdata[0]}<br>Lon=%{customdata[2]}<br>Time=%{customdata[1]}<br>Date=%{customdata[3]}<extra></extra>",
         "hovertext": {
          "dtype": "f8",
          "bdata": "AAAAAADAY0AAAAAAAMBjQAAAAAAAwGNA"
         },
         "lat": {
          "dtype": "f8",
          "bdata": "exSuR+H6P8DsUbgehSs/wArXo3A9Cj/A"
         },
         "legendgroup": "158",
         "lon": {
          "dtype": "f8",
          "bdata": "ZmZmZmZ+ZsAK16NwPWJmwJqZmZmZWWbA"
         },
         "marker": {
          "color": "#FF97FF"
         },
         "mode": "markers",
         "name": "158",
         "showlegend": true,
         "subplot": "map",
         "type": "scattermap"
        },
        {
         "customdata": [
          [
           -39.4,
           "21:43:57.0",
           175.49,
           "2018/07/10"
          ],
          [
           -40.62,
           "10:45:11.4",
           174.54,
           "2020/01/25"
          ],
          [
           -40.46,
           "00:34:03.3",
           174.95,
           "2020/05/26"
          ],
          [
           -39.4,
           "12:43:14.9",
           174.95,
           "2020/11/20"
          ]
         ],
         "hovertemplate": "<b>%{hovertext}</b><br><br>Cluster=123<br>Lat=%{customdata[0]}<br>Lon=%{customdata[2]}<br>Time=%{customdata[1]}<br>Date=%{customdata[3]}<extra></extra>",
         "hovertext": {
          "dtype": "f8",
          "bdata": "AAAAAADAXkAAAAAAAMBeQAAAAAAAwF5AAAAAAADAXkA="
         },
         "lat": {
          "dtype": "f8",
          "bdata": "MzMzMzOzQ8CPwvUoXE9EwHsUrkfhOkTAMzMzMzOzQ8A="
         },
         "legendgroup": "123",
         "lon": {
          "dtype": "f8",
          "bdata": "SOF6FK7vZUDhehSuR9FlQGZmZmZm3mVAZmZmZmbeZUA="
         },
         "marker": {
          "color": "#FECB52"
         },
         "mode": "markers",
         "name": "123",
         "showlegend": true,
         "subplot": "map",
         "type": "scattermap"
        },
        {
         "customdata": [
          [
           -31.75,
           "04:19:02.6",
           -179.37,
           "2018/09/10"
          ],
          [
           -30.64,
           "22:55:04.1",
           -178.1,
           "2019/06/15"
          ],
          [
           -33.29,
           "12:49:53.8",
           -177.86,
           "2020/06/18"
          ]
         ],
         "hovertemplate": "<b>%{hovertext}</b><br><br>Cluster=8<br>Lat=%{customdata[0]}<br>Lon=%{customdata[2]}<br>Time=%{customdata[1]}<br>Date=%{customdata[3]}<extra></extra>",
         "hovertext": {
          "dtype": "f8",
          "bdata": "AAAAAAAAIEAAAAAAAAAgQAAAAAAAACBA"
         },
         "lat": {
          "dtype": "f8",
          "bdata": "AAAAAADAP8CkcD0K16M+wIXrUbgepUDA"
         },
         "legendgroup": "8",
         "lon": {
          "dtype": "f8",
          "bdata": "pHA9CtdrZsAzMzMzM0NmwOxRuB6FO2bA"
         },
         "marker": {
          "color": "#636efa"
         },
         "mode": "markers",
         "name": "8",
         "showlegend": true,
         "subplot": "map",
         "type": "scattermap"
        },
        {
         "customdata": [
          [
           -38.18,
           "01:36:22.3",
           176.32,
           "2018/09/18"
          ],
          [
           -38.24,
           "03:29:48.4",
           177.15,
           "2019/10/07"
          ],
          [
           -37.65,
           "14:22:36.4",
           177.58,
           "2020/03/15"
          ],
          [
           -37.79,
           "17:29:44.7",
           177.45,
           "2020/06/15"
          ],
          [
           -38.49,
           "20:41:31.2",
           176.14,
           "2020/06/26"
          ],
          [
           -36.89,
           "08:29:51.4",
           177.2,
           "2020/08/29"
          ],
          [
           -36.86,
           "12:45:19.1",
           177.13,
           "2020/08/29"
          ],
          [
           -36.84,
           "07:53:06.7",
           177.19,
           "2020/09/12"
          ]
         ],
         "hovertemplate": "<b>%{hovertext}</b><br><br>Cluster=136<br>Lat=%{customdata[0]}<br>Lon=%{customdata[2]}<br>Time=%{customdata[1]}<br>Date=%{customdata[3]}<extra></extra>",
         "hovertext": {
          "dtype": "f8",
          "bdata": "AAAAAAAAYUAAAAAAAABhQAAAAAAAAGFAAAAAAAAAYUAAAAAAAABhQAAAAAAAAGFAAAAAAAAAYUAAAAAAAABhQA=="
         },
         "lat": {
          "dtype": "f8",
          "bdata": "16NwPQoXQ8AfhetRuB5DwDMzMzMz00LAhetRuB7lQsAfhetRuD5DwFK4HoXrcULArkfhehRuQsDsUbgehWtCwA=="
         },
         "legendgroup": "136",
         "lon": {
          "dtype": "f8",
          "bdata": "CtejcD0KZkDNzMzMzCRmQMP1KFyPMmZAZmZmZmYuZkAUrkfhegRmQGZmZmZmJmZAXI/C9SgkZkCuR+F6FCZmQA=="
         },
         "marker": {
          "color": "#EF553B"
         },
         "mode": "markers",
         "name": "136",
         "showlegend": true,
         "subplot": "map",
         "type": "scattermap"
        },
        {
         "customdata": [
          [
           -44.41,
           "09:37:15.9",
           167.85,
           "2018/10/06"
          ],
          [
           -44.77,
           "08:53:38.5",
           167.43,
           "2019/10/24"
          ],
          [
           -44.74,
           "10:14:22.5",
           167.36,
           "2020/02/24"
          ],
          [
           -44.94,
           "22:52:11.3",
           167.55,
           "2020/04/26"
          ],
          [
           -44.49,
           "07:29:18.3",
           167.76,
           "2020/06/12"
          ],
          [
           -44.69,
           "10:16:44.9",
           167.57,
           "2020/08/12"
          ]
         ],
         "hovertemplate": "<b>%{hovertext}</b><br><br>Cluster=35<br>Lat=%{customdata[0]}<br>Lon=%{customdata[2]}<br>Time=%{customdata[1]}<br>Date=%{customdata[3]}<extra></extra>",
         "hovertext": {
          "dtype": "f8",
          "bdata": "AAAAAACAQUAAAAAAAIBBQAAAAAAAgEFAAAAAAACAQUAAAAAAAIBBQAAAAAAAgEFA"
         },
         "lat": {
          "dtype": "f8",
          "bdata": "FK5H4Xo0RsDD9Shcj2JGwB+F61G4XkbAuB6F61F4RsAfhetRuD5GwLgehetRWEbA"
         },
         "legendgroup": "35",
         "lon": {
          "dtype": "f8",
          "bdata": "MzMzMzP7ZED2KFyPwu1kQOxRuB6F62RAmpmZmZnxZEC4HoXrUfhkQArXo3A98mRA"
         },
         "marker": {
          "color": "#00cc96"
         },
         "mode": "markers",
         "name": "35",
         "showlegend": true,
         "subplot": "map",
         "type": "scattermap"
        },
        {
         "customdata": [
          [
           -47.9,
           "23:42:39.5",
           165.42,
           "2018/11/24"
          ],
          [
           -48.81,
           "11:44:21.3",
           163.79,
           "2019/08/04"
          ]
         ],
         "hovertemplate": "<b>%{hovertext}</b><br><br>Cluster=23<br>Lat=%{customdata[0]}<br>Lon=%{customdata[2]}<br>Time=%{customdata[1]}<br>Date=%{customdata[3]}<extra></extra>",
         "hovertext": {
          "dtype": "f8",
          "bdata": "AAAAAAAAN0AAAAAAAAA3QA=="
         },
         "lat": {
          "dtype": "f8",
          "bdata": "MzMzMzPzR8BI4XoUrmdIwA=="
         },
         "legendgroup": "23",
         "lon": {
          "dtype": "f8",
          "bdata": "PQrXo3CtZEDhehSuR3lkQA=="
         },
         "marker": {
          "color": "#ab63fa"
         },
         "mode": "markers",
         "name": "23",
         "showlegend": true,
         "subplot": "map",
         "type": "scattermap"
        },
        {
         "customdata": [
          [
           -32.02,
           "15:46:14.9",
           -177.88,
           "2019/03/06"
          ],
          [
           -31.0,
           "05:17:14.9",
           -178.08,
           "2019/06/16"
          ],
          [
           -30.52,
           "07:01:45.4",
           -177.85,
           "2019/06/19"
          ],
          [
           -30.86,
           "08:37:17.0",
           -177.47,
           "2019/06/21"
          ],
          [
           -30.4,
           "11:04:56.3",
           -179.18,
           "2019/06/27"
          ]
         ],
         "hovertemplate": "<b>%{hovertext}</b><br><br>Cluster=151<br>Lat=%{customdata[0]}<br>Lon=%{customdata[2]}<br>Time=%{customdata[1]}<br>Date=%{customdata[3]}<extra></extra>",
         "hovertext": {
          "dtype": "f8",
          "bdata": "AAAAAADgYkAAAAAAAOBiQAAAAAAA4GJAAAAAAADgYkAAAAAAAOBiQA=="
         },
         "lat": {
          "dtype": "f8",
          "bdata": "w/UoXI8CQMAAAAAAAAA/wIXrUbgehT7AXI/C9SjcPsBmZmZmZmY+wA=="
         },
         "legendgroup": "151",
         "lon": {
          "dtype": "f8",
          "bdata": "XI/C9Sg8ZsDD9Shcj0JmwDMzMzMzO2bA16NwPQovZsD2KFyPwmVmwA=="
         },
         "marker": {
          "color": "#FFA15A"
         },
         "mode": "markers",
         "name": "151",
         "showlegend": true,
         "subplot": "map",
         "type": "scattermap"
        },
        {
         "customdata": [
          [
           -39.44,
           "11:16:37.0",
           178.36,
           "2019/05/14"
          ],
          [
           -39.23,
           "05:16:38.9",
           177.74,
           "2019/10/01"
          ],
          [
           -38.9,
           "23:58:01.3",
           178.01,
           "2019/12/09"
          ]
         ],
         "hovertemplate": "<b>%{hovertext}</b><br><br>Cluster=137<br>Lat=%{customdata[0]}<br>Lon=%{customdata[2]}<br>Time=%{customdata[1]}<br>Date=%{customdata[3]}<extra></extra>",
         "hovertext": {
          "dtype": "f8",
          "bdata": "AAAAAAAgYUAAAAAAACBhQAAAAAAAIGFA"
         },
         "lat": {
          "dtype": "f8",
          "bdata": "uB6F61G4Q8A9CtejcJ1DwDMzMzMzc0PA"
         },
         "legendgroup": "137",
         "lon": {
          "dtype": "f8",
          "bdata": "7FG4HoVLZkBI4XoUrjdmQLgehetRQGZA"
         },
         "marker": {
          "color": "#19d3f3"
         },
         "mode": "markers",
         "name": "137",
         "showlegend": true,
         "subplot": "map",
         "type": "scattermap"
        },
        {
         "customdata": [
          [
           -34.31,
           "00:16:52.1",
           179.7,
           "2019/07/12"
          ],
          [
           -34.23,
           "07:17:41.7",
           179.51,
           "2019/07/12"
          ],
          [
           -34.26,
           "07:30:34.9",
           179.46,
           "2019/07/12"
          ],
          [
           -35.01,
           "16:07:32.3",
           179.41,
           "2019/11/03"
          ]
         ],
         "hovertemplate": "<b>%{hovertext}</b><br><br>Cluster=166<br>Lat=%{customdata[0]}<br>Lon=%{customdata[2]}<br>Time=%{customdata[1]}<br>Date=%{customdata[3]}<extra></extra>",
         "hovertext": {
          "dtype": "f8",
          "bdata": "AAAAAADAZEAAAAAAAMBkQAAAAAAAwGRAAAAAAADAZEA="
         },
         "lat": {
          "dtype": "f8",
          "bdata": "SOF6FK4nQcA9CtejcB1BwOF6FK5HIUHA4XoUrkeBQcA="
         },
         "legendgroup": "166",
         "lon": {
          "dtype": "f8",
          "bdata": "ZmZmZmZ2ZkC4HoXrUXBmQB+F61G4bmZAhetRuB5tZkA="
         },
         "marker": {
          "color": "#FF6692"
         },
         "mode": "markers",
         "name": "166",
         "showlegend": true,
         "subplot": "map",
         "type": "scattermap"
        },
        {
         "customdata": [
          [
           -33.8,
           "23:08:56.8",
           -179.51,
           "2019/07/23"
          ],
          [
           -33.08,
           "00:28:15.1",
           179.95,
           "2020/02/17"
          ]
         ],
         "hovertemplate": "<b>%{hovertext}</b><br><br>Cluster=179<br>Lat=%{customdata[0]}<br>Lon=%{customdata[2]}<br>Time=%{customdata[1]}<br>Date=%{customdata[3]}<extra></extra>",
         "hovertext": {
          "dtype": "f8",
          "bdata": "AAAAAABgZkAAAAAAAGBmQA=="
         },
         "lat": {
          "dtype": "f8",
          "bdata": "ZmZmZmbmQMAK16NwPYpAwA=="
         },
         "legendgroup": "179",
         "lon": {
          "dtype": "f8",
          "bdata": "uB6F61FwZsBmZmZmZn5mQA=="
         },
         "marker": {
          "color": "#B6E880"
         },
         "mode": "markers",
         "name": "179",
         "showlegend": true,
         "subplot": "map",
         "type": "scattermap"
        },
        {
         "customdata": [
          [
           -44.55,
           "10:35:28.5",
           167.9,
           "2019/08/12"
          ],
          [
           -44.64,
           "22:20:02.0",
           167.47,
           "2020/06/24"
          ]
         ],
         "hovertemplate": "<b>%{hovertext}</b><br><br>Cluster=28<br>Lat=%{customdata[0]}<br>Lon=%{customdata[2]}<br>Time=%{customdata[1]}<br>Date=%{customdata[3]}<extra></extra>",
         "hovertext": {
          "dtype": "f8",
          "bdata": "AAAAAAAAPEAAAAAAAAA8QA=="
         },
         "lat": {
          "dtype": "f8",
          "bdata": "ZmZmZmZGRsBSuB6F61FGwA=="
         },
         "legendgroup": "28",
         "lon": {
          "dtype": "f8",
          "bdata": "zczMzMz8ZEDXo3A9Cu9kQA=="
         },
         "marker": {
          "color": "#FF97FF"
         },
         "mode": "markers",
         "name": "28",
         "showlegend": true,
         "subplot": "map",
         "type": "scattermap"
        },
        {
         "customdata": [
          [
           -38.78,
           "07:02:52.6",
           175.98,
           "2019/09/04"
          ],
          [
           -36.85,
           "07:18:18.1",
           176.95,
           "2020/01/04"
          ],
          [
           -37.71,
           "09:47:22.9",
           176.6,
           "2020/02/04"
          ],
          [
           -36.82,
           "13:26:47.7",
           177.29,
           "2020/08/30"
          ]
         ],
         "hovertemplate": "<b>%{hovertext}</b><br><br>Cluster=130<br>Lat=%{customdata[0]}<br>Lon=%{customdata[2]}<br>Time=%{customdata[1]}<br>Date=%{customdata[3]}<extra></extra>",
         "hovertext": {
          "dtype": "f8",
          "bdata": "AAAAAABAYEAAAAAAAEBgQAAAAAAAQGBAAAAAAABAYEA="
         },
         "lat": {
          "dtype": "f8",
          "bdata": "pHA9CtdjQ8DNzMzMzGxCwHsUrkfh2kLAKVyPwvVoQsA="
         },
         "legendgroup": "130",
         "lon": {
          "dtype": "f8",
          "bdata": "j8L1KFz/ZUBmZmZmZh5mQDMzMzMzE2ZA4XoUrkcpZkA="
         },
         "marker": {
          "color": "#FECB52"
         },
         "mode": "markers",
         "name": "130",
         "showlegend": true,
         "subplot": "map",
         "type": "scattermap"
        },
        {
         "customdata": [
          [
           -37.36,
           "16:34:44.2",
           177.26,
           "2019/11/23"
          ],
          [
           -36.91,
           "15:47:06.0",
           177.19,
           "2020/08/28"
          ]
         ],
         "hovertemplate": "<b>%{hovertext}</b><br><br>Cluster=97<br>Lat=%{customdata[0]}<br>Lon=%{customdata[2]}<br>Time=%{customdata[1]}<br>Date=%{customdata[3]}<extra></extra>",
         "hovertext": {
          "dtype": "f8",
          "bdata": "AAAAAABAWEAAAAAAAEBYQA=="
         },
         "lat": {
          "dtype": "f8",
          "bdata": "rkfhehSuQsAUrkfhenRCwA=="
         },
         "legendgroup": "97",
         "lon": {
          "dtype": "f8",
          "bdata": "uB6F61EoZkCuR+F6FCZmQA=="
         },
         "marker": {
          "color": "#636efa"
         },
         "mode": "markers",
         "name": "97",
         "showlegend": true,
         "subplot": "map",
         "type": "scattermap"
        },
        {
         "customdata": [
          [
           -31.05,
           "13:27:42.2",
           -177.04,
           "2019/12/25"
          ],
          [
           -30.1,
           "23:55:30.7",
           -177.17,
           "2020/08/24"
          ]
         ],
         "hovertemplate": "<b>%{hovertext}</b><br><br>Cluster=65<br>Lat=%{customdata[0]}<br>Lon=%{customdata[2]}<br>Time=%{customdata[1]}<br>Date=%{customdata[3]}<extra></extra>",
         "hovertext": {
          "dtype": "f8",
          "bdata": "AAAAAABAUEAAAAAAAEBQQA=="
         },
         "lat": {
          "dtype": "f8",
          "bdata": "zczMzMwMP8CamZmZmRk+wA=="
         },
         "legendgroup": "65",
         "lon": {
          "dtype": "f8",
          "bdata": "4XoUrkchZsA9CtejcCVmwA=="
         },
         "marker": {
          "color": "#EF553B"
         },
         "mode": "markers",
         "name": "65",
         "showlegend": true,
         "subplot": "map",
         "type": "scattermap"
        }
       ],
       "layout": {
        "template": {
         "data": {
          "histogram2dcontour": [
           {
            "type": "histogram2dcontour",
            "colorbar": {
             "outlinewidth": 0,
             "ticks": ""
            },
            "colorscale": [
             [
              0.0,
              "#0d0887"
             ],
             [
              0.1111111111111111,
              "#46039f"
             ],
             [
              0.2222222222222222,
              "#7201a8"
             ],
             [
              0.3333333333333333,
              "#9c179e"
             ],
             [
              0.4444444444444444,
              "#bd3786"
             ],
             [
              0.5555555555555556,
              "#d8576b"
             ],
             [
              0.6666666666666666,
              "#ed7953"
             ],
             [
              0.7777777777777778,
              "#fb9f3a"
             ],
             [
              0.8888888888888888,
              "#fdca26"
             ],
             [
              1.0,
              "#f0f921"
             ]
            ]
           }
          ],
          "choropleth": [
           {
            "type": "choropleth",
            "colorbar": {
             "outlinewidth": 0,
             "ticks": ""
            }
           }
          ],
          "histogram2d": [
           {
            "type": "histogram2d",
            "colorbar": {
             "outlinewidth": 0,
             "ticks": ""
            },
            "colorscale": [
             [
              0.0,
              "#0d0887"
             ],
             [
              0.1111111111111111,
              "#46039f"
             ],
             [
              0.2222222222222222,
              "#7201a8"
             ],
             [
              0.3333333333333333,
              "#9c179e"
             ],
             [
              0.4444444444444444,
              "#bd3786"
             ],
             [
              0.5555555555555556,
              "#d8576b"
             ],
             [
              0.6666666666666666,
              "#ed7953"
             ],
             [
              0.7777777777777778,
              "#fb9f3a"
             ],
             [
              0.8888888888888888,
              "#fdca26"
             ],
             [
              1.0,
              "#f0f921"
             ]
            ]
           }
          ],
          "heatmap": [
           {
            "type": "heatmap",
            "colorbar": {
             "outlinewidth": 0,
             "ticks": ""
            },
            "colorscale": [
             [
              0.0,
              "#0d0887"
             ],
             [
              0.1111111111111111,
              "#46039f"
             ],
             [
              0.2222222222222222,
              "#7201a8"
             ],
             [
              0.3333333333333333,
              "#9c179e"
             ],
             [
              0.4444444444444444,
              "#bd3786"
             ],
             [
              0.5555555555555556,
              "#d8576b"
             ],
             [
              0.6666666666666666,
              "#ed7953"
             ],
             [
              0.7777777777777778,
              "#fb9f3a"
             ],
             [
              0.8888888888888888,
              "#fdca26"
             ],
             [
              1.0,
              "#f0f921"
             ]
            ]
           }
          ],
          "contourcarpet": [
           {
            "type": "contourcarpet",
            "colorbar": {
             "outlinewidth": 0,
             "ticks": ""
            }
           }
          ],
          "contour": [
           {
            "type": "contour",
            "colorbar": {
             "outlinewidth": 0,
             "ticks": ""
            },
            "colorscale": [
             [
              0.0,
              "#0d0887"
             ],
             [
              0.1111111111111111,
              "#46039f"
             ],
             [
              0.2222222222222222,
              "#7201a8"
             ],
             [
              0.3333333333333333,
              "#9c179e"
             ],
             [
              0.4444444444444444,
              "#bd3786"
             ],
             [
              0.5555555555555556,
              "#d8576b"
             ],
             [
              0.6666666666666666,
              "#ed7953"
             ],
             [
              0.7777777777777778,
              "#fb9f3a"
             ],
             [
              0.8888888888888888,
              "#fdca26"
             ],
             [
              1.0,
              "#f0f921"
             ]
            ]
           }
          ],
          "surface": [
           {
            "type": "surface",
            "colorbar": {
             "outlinewidth": 0,
             "ticks": ""
            },
            "colorscale": [
             [
              0.0,
              "#0d0887"
             ],
             [
              0.1111111111111111,
              "#46039f"
             ],
             [
              0.2222222222222222,
              "#7201a8"
             ],
             [
              0.3333333333333333,
              "#9c179e"
             ],
             [
              0.4444444444444444,
              "#bd3786"
             ],
             [
              0.5555555555555556,
              "#d8576b"
             ],
             [
              0.6666666666666666,
              "#ed7953"
             ],
             [
              0.7777777777777778,
              "#fb9f3a"
             ],
             [
              0.8888888888888888,
              "#fdca26"
             ],
             [
              1.0,
              "#f0f921"
             ]
            ]
           }
          ],
          "mesh3d": [
           {
            "type": "mesh3d",
            "colorbar": {
             "outlinewidth": 0,
             "ticks": ""
            }
           }
          ],
          "scatter": [
           {
            "fillpattern": {
             "fillmode": "overlay",
             "size": 10,
             "solidity": 0.2
            },
            "type": "scatter"
           }
          ],
          "parcoords": [
           {
            "type": "parcoords",
            "line": {
             "colorbar": {
              "outlinewidth": 0,
              "ticks": ""
             }
            }
           }
          ],
          "scatterpolargl": [
           {
            "type": "scatterpolargl",
            "marker": {
             "colorbar": {
              "outlinewidth": 0,
              "ticks": ""
             }
            }
           }
          ],
          "bar": [
           {
            "error_x": {
             "color": "#2a3f5f"
            },
            "error_y": {
             "color": "#2a3f5f"
            },
            "marker": {
             "line": {
              "color": "#E5ECF6",
              "width": 0.5
             },
             "pattern": {
              "fillmode": "overlay",
              "size": 10,
              "solidity": 0.2
             }
            },
            "type": "bar"
           }
          ],
          "scattergeo": [
           {
            "type": "scattergeo",
            "marker": {
             "colorbar": {
              "outlinewidth": 0,
              "ticks": ""
             }
            }
           }
          ],
          "scatterpolar": [
           {
            "type": "scatterpolar",
            "marker": {
             "colorbar": {
              "outlinewidth": 0,
              "ticks": ""
             }
            }
           }
          ],
          "histogram": [
           {
            "marker": {
             "pattern": {
              "fillmode": "overlay",
              "size": 10,
              "solidity": 0.2
             }
            },
            "type": "histogram"
           }
          ],
          "scattergl": [
           {
            "type": "scattergl",
            "marker": {
             "colorbar": {
              "outlinewidth": 0,
              "ticks": ""
             }
            }
           }
          ],
          "scatter3d": [
           {
            "type": "scatter3d",
            "line": {
             "colorbar": {
              "outlinewidth": 0,
              "ticks": ""
             }
            },
            "marker": {
             "colorbar": {
              "outlinewidth": 0,
              "ticks": ""
             }
            }
           }
          ],
          "scattermap": [
           {
            "type": "scattermap",
            "marker": {
             "colorbar": {
              "outlinewidth": 0,
              "ticks": ""
             }
            }
           }
          ],
          "scattermapbox": [
           {
            "type": "scattermapbox",
            "marker": {
             "colorbar": {
              "outlinewidth": 0,
              "ticks": ""
             }
            }
           }
          ],
          "scatterternary": [
           {
            "type": "scatterternary",
            "marker": {
             "colorbar": {
              "outlinewidth": 0,
              "ticks": ""
             }
            }
           }
          ],
          "scattercarpet": [
           {
            "type": "scattercarpet",
            "marker": {
             "colorbar": {
              "outlinewidth": 0,
              "ticks": ""
             }
            }
           }
          ],
          "carpet": [
           {
            "aaxis": {
             "endlinecolor": "#2a3f5f",
             "gridcolor": "white",
             "linecolor": "white",
             "minorgridcolor": "white",
             "startlinecolor": "#2a3f5f"
            },
            "baxis": {
             "endlinecolor": "#2a3f5f",
             "gridcolor": "white",
             "linecolor": "white",
             "minorgridcolor": "white",
             "startlinecolor": "#2a3f5f"
            },
            "type": "carpet"
           }
          ],
          "table": [
           {
            "cells": {
             "fill": {
              "color": "#EBF0F8"
             },
             "line": {
              "color": "white"
             }
            },
            "header": {
             "fill": {
              "color": "#C8D4E3"
             },
             "line": {
              "color": "white"
             }
            },
            "type": "table"
           }
          ],
          "barpolar": [
           {
            "marker": {
             "line": {
              "color": "#E5ECF6",
              "width": 0.5
             },
             "pattern": {
              "fillmode": "overlay",
              "size": 10,
              "solidity": 0.2
             }
            },
            "type": "barpolar"
           }
          ],
          "pie": [
           {
            "automargin": true,
            "type": "pie"
           }
          ]
         },
         "layout": {
          "autotypenumbers": "strict",
          "colorway": [
           "#636efa",
           "#EF553B",
           "#00cc96",
           "#ab63fa",
           "#FFA15A",
           "#19d3f3",
           "#FF6692",
           "#B6E880",
           "#FF97FF",
           "#FECB52"
          ],
          "font": {
           "color": "#2a3f5f"
          },
          "hovermode": "closest",
          "hoverlabel": {
           "align": "left"
          },
          "paper_bgcolor": "white",
          "plot_bgcolor": "#E5ECF6",
          "polar": {
           "bgcolor": "#E5ECF6",
           "angularaxis": {
            "gridcolor": "white",
            "linecolor": "white",
            "ticks": ""
           },
           "radialaxis": {
            "gridcolor": "white",
            "linecolor": "white",
            "ticks": ""
           }
          },
          "ternary": {
           "bgcolor": "#E5ECF6",
           "aaxis": {
            "gridcolor": "white",
            "linecolor": "white",
            "ticks": ""
           },
           "baxis": {
            "gridcolor": "white",
            "linecolor": "white",
            "ticks": ""
           },
           "caxis": {
            "gridcolor": "white",
            "linecolor": "white",
            "ticks": ""
           }
          },
          "coloraxis": {
           "colorbar": {
            "outlinewidth": 0,
            "ticks": ""
           }
          },
          "colorscale": {
           "sequential": [
            [
             0.0,
             "#0d0887"
            ],
            [
             0.1111111111111111,
             "#46039f"
            ],
            [
             0.2222222222222222,
             "#7201a8"
            ],
            [
             0.3333333333333333,
             "#9c179e"
            ],
            [
             0.4444444444444444,
             "#bd3786"
            ],
            [
             0.5555555555555556,
             "#d8576b"
            ],
            [
             0.6666666666666666,
             "#ed7953"
            ],
            [
             0.7777777777777778,
             "#fb9f3a"
            ],
            [
             0.8888888888888888,
             "#fdca26"
            ],
            [
             1.0,
             "#f0f921"
            ]
           ],
           "sequentialminus": [
            [
             0.0,
             "#0d0887"
            ],
            [
             0.1111111111111111,
             "#46039f"
            ],
            [
             0.2222222222222222,
             "#7201a8"
            ],
            [
             0.3333333333333333,
             "#9c179e"
            ],
            [
             0.4444444444444444,
             "#bd3786"
            ],
            [
             0.5555555555555556,
             "#d8576b"
            ],
            [
             0.6666666666666666,
             "#ed7953"
            ],
            [
             0.7777777777777778,
             "#fb9f3a"
            ],
            [
             0.8888888888888888,
             "#fdca26"
            ],
            [
             1.0,
             "#f0f921"
            ]
           ],
           "diverging": [
            [
             0,
             "#8e0152"
            ],
            [
             0.1,
             "#c51b7d"
            ],
            [
             0.2,
             "#de77ae"
            ],
            [
             0.3,
             "#f1b6da"
            ],
            [
             0.4,
             "#fde0ef"
            ],
            [
             0.5,
             "#f7f7f7"
            ],
            [
             0.6,
             "#e6f5d0"
            ],
            [
             0.7,
             "#b8e186"
            ],
            [
             0.8,
             "#7fbc41"
            ],
            [
             0.9,
             "#4d9221"
            ],
            [
             1,
             "#276419"
            ]
           ]
          },
          "xaxis": {
           "gridcolor": "white",
           "linecolor": "white",
           "ticks": "",
           "title": {
            "standoff": 15
           },
           "zerolinecolor": "white",
           "automargin": true,
           "zerolinewidth": 2
          },
          "yaxis": {
           "gridcolor": "white",
           "linecolor": "white",
           "ticks": "",
           "title": {
            "standoff": 15
           },
           "zerolinecolor": "white",
           "automargin": true,
           "zerolinewidth": 2
          },
          "scene": {
           "xaxis": {
            "backgroundcolor": "#E5ECF6",
            "gridcolor": "white",
            "linecolor": "white",
            "showbackground": true,
            "ticks": "",
            "zerolinecolor": "white",
            "gridwidth": 2
           },
           "yaxis": {
            "backgroundcolor": "#E5ECF6",
            "gridcolor": "white",
            "linecolor": "white",
            "showbackground": true,
            "ticks": "",
            "zerolinecolor": "white",
            "gridwidth": 2
           },
           "zaxis": {
            "backgroundcolor": "#E5ECF6",
            "gridcolor": "white",
            "linecolor": "white",
            "showbackground": true,
            "ticks": "",
            "zerolinecolor": "white",
            "gridwidth": 2
           }
          },
          "shapedefaults": {
           "line": {
            "color": "#2a3f5f"
           }
          },
          "annotationdefaults": {
           "arrowcolor": "#2a3f5f",
           "arrowhead": 0,
           "arrowwidth": 1
          },
          "geo": {
           "bgcolor": "white",
           "landcolor": "#E5ECF6",
           "subunitcolor": "white",
           "showland": true,
           "showlakes": true,
           "lakecolor": "white"
          },
          "title": {
           "x": 0.05
          },
          "mapbox": {
           "style": "light"
          }
         }
        },
        "map": {
         "domain": {
          "x": [
           0.0,
           1.0
          ],
          "y": [
           0.0,
           1.0
          ]
         },
         "center": {
          "lat": -41,
          "lon": 174
         },
         "zoom": 3.8,
         "style": "carto-positron"
        },
        "legend": {
         "title": {
          "text": "Cluster"
         },
         "tracegroupgap": 0
        },
        "title": {
         "text": "Earthquake Clustering using HDBSCAN <br><sup>Time of occurrence: 1976-2020 | New Zealand and its surrounding area</sup>"
        },
        "height": 800,
        "mapbox": {
         "center": {
          "lat": -41,
          "lon": 174
         },
         "zoom": 3.8,
         "style": "carto-positron"
        }
       },
       "config": {
        "plotlyServerURL": "https://plot.ly"
       }
      }
     },
     "metadata": {},
     "output_type": "display_data"
    }
   ],
   "execution_count": 45
  },
  {
   "metadata": {
    "ExecuteTime": {
     "end_time": "2025-08-26T17:26:09.187425Z",
     "start_time": "2025-08-26T17:26:09.165505Z"
    }
   },
   "cell_type": "code",
   "source": [
    "# Extract the mainshock sequence\n",
    "declustered_mainshock_hdbscan = df[(df['Type'] == 'Mainshock')].copy()\n",
    "\n",
    "# Compute inter-arrival timesCompute inter-arrival times to second\n",
    "declustered_mainshock_hdbscan['inter_arrival'] = declustered_mainshock_hdbscan['Datetime'].diff().dt.total_seconds()\n",
    "print(declustered_mainshock_hdbscan)"
   ],
   "id": "fedf3be91c53280c",
   "outputs": [
    {
     "name": "stdout",
     "output_type": "stream",
     "text": [
      "            Date    Lat     Lon  Depth  Mag  Strike  Dip  Rake        Time  \\\n",
      "3     1976/06/29 -33.82 -177.83   48.0  6.1      24   37    78  18:30:09.1   \n",
      "13    1977/11/21 -31.45 -179.89  324.0  5.2      64   50   -17  09:52:38.6   \n",
      "18    1978/02/11 -30.41 -177.12   33.0  6.6     202   44    82  00:05:23.0   \n",
      "28    1979/03/24 -42.07  171.70   59.0  5.3     345   57     9  21:06:53.6   \n",
      "29    1979/04/19 -37.95  176.77   33.0  5.1       4   44  -138  18:01:13.0   \n",
      "...          ...    ...     ...    ...  ...     ...  ...   ...         ...   \n",
      "1501  2020/04/26 -44.94  167.55   80.1  5.0       2   33    37  22:52:11.3   \n",
      "1507  2020/06/18 -33.29 -177.86   10.0  7.4     124   66  -160  12:49:53.8   \n",
      "1515  2020/06/24 -44.64  167.47    9.7  5.6      51   33   129  22:20:02.0   \n",
      "1524  2020/08/24 -30.10 -177.17   10.0  4.5     176   43    76  23:55:30.7   \n",
      "1536  2020/11/21 -47.33  165.51   10.0  4.7      30   71  -174  18:00:54.6   \n",
      "\n",
      "                    Datetime      Timediff             x             y  \\\n",
      "3    1976-06-29 18:30:09.100    166.516238  5.768110e+05 -6.253422e+06   \n",
      "13   1977-11-21 09:52:38.600    676.156858  7.746463e+05 -6.512839e+06   \n",
      "18   1978-02-11 00:05:23.000    757.749038  5.115259e+05 -6.631706e+06   \n",
      "28   1979-03-24 21:06:53.600   1164.625087  1.435411e+06 -5.276149e+06   \n",
      "29   1979-04-19 18:01:13.000   1190.496145  1.047613e+06 -5.777313e+06   \n",
      "...                      ...           ...           ...           ...   \n",
      "1501 2020-04-26 22:52:11.300  16173.698208  1.718857e+06 -4.902131e+06   \n",
      "1507 2020-06-18 12:49:53.800  16226.279950  5.800750e+05 -6.312163e+06   \n",
      "1515 2020-06-24 22:20:02.000  16232.675878  1.731688e+06 -4.934208e+06   \n",
      "1524 2020-08-24 23:55:30.700  16293.742183  5.163797e+05 -6.666051e+06   \n",
      "1536 2020-11-21 18:00:54.600  16382.495932  1.819533e+06 -4.603760e+06   \n",
      "\n",
      "      Cluster       Type  inter_arrival  \n",
      "3          36  Mainshock            NaN  \n",
      "13         84  Mainshock     44032949.5  \n",
      "18         52  Mainshock      7049564.4  \n",
      "28          9  Mainshock     35154090.6  \n",
      "29         95  Mainshock      2235259.4  \n",
      "...       ...        ...            ...  \n",
      "1501       35  Mainshock      7992419.9  \n",
      "1507        8  Mainshock      4543062.5  \n",
      "1515       28  Mainshock       552608.2  \n",
      "1524       65  Mainshock      5276128.7  \n",
      "1536       39  Mainshock      7668323.9  \n",
      "\n",
      "[182 rows x 16 columns]\n"
     ]
    }
   ],
   "execution_count": 46
  },
  {
   "metadata": {
    "ExecuteTime": {
     "end_time": "2025-08-26T17:26:09.201380Z",
     "start_time": "2025-08-26T17:26:09.195046Z"
    }
   },
   "cell_type": "code",
   "source": [
    "# The Statistic Features of the Mainshock Sequence\n",
    "print(\"The declustered catalogue contains {} events.\".format(len(declustered_mainshock_hdbscan)))\n",
    "\n",
    "max_interval_days = round(declustered_mainshock_hdbscan['inter_arrival'].max() / (24*60*60))\n",
    "print(\"The maximum interarrival time between two neighbour independent events is {} days.\".format(max_interval_days))\n",
    "\n",
    "min_interval_min = round(declustered_mainshock_hdbscan['inter_arrival'].min() / 60)\n",
    "print(\"The minimum interarrival time between two neighbour independent events is {} minutes.\".format(min_interval_min))"
   ],
   "id": "2633261840f259cb",
   "outputs": [
    {
     "name": "stdout",
     "output_type": "stream",
     "text": [
      "The declustered catalogue contains 182 events.\n",
      "The maximum interarrival time between two neighbour independent events is 510 days.\n",
      "The minimum interarrival time between two neighbour independent events is 37 minutes.\n"
     ]
    }
   ],
   "execution_count": 47
  },
  {
   "metadata": {
    "ExecuteTime": {
     "end_time": "2025-08-26T17:26:09.293641Z",
     "start_time": "2025-08-26T17:26:09.234887Z"
    }
   },
   "cell_type": "code",
   "source": [
    "# Visualise the declustered mainshock sequence on map\n",
    "import plotly.express as px\n",
    "\n",
    "fig_mainshock = px.scatter_map(\n",
    "    declustered_mainshock_hdbscan,\n",
    "    lat='Lat',\n",
    "    lon='Lon',\n",
    "    hover_name='Mag',\n",
    "    size='Mag',\n",
    "    size_max=8,\n",
    "    color='Mag',\n",
    "    color_continuous_scale='orrd',\n",
    "    hover_data={'Date', 'Time', 'Lat', 'Lon'},\n",
    "    center={'lat': -41, 'lon': 174},\n",
    "    zoom=3.8,\n",
    "    height=800,\n",
    "    map_style='carto-positron',\n",
    "    title='Declustered Mainshock Sequence of New Zealand using HDBSCAN<br><sup>Time of occurrence: 1976-2020</sup>'\n",
    ")\n",
    "\n",
    "fig_mainshock.show()"
   ],
   "id": "1295e77d2b6c39",
   "outputs": [
    {
     "data": {
      "application/vnd.plotly.v1+json": {
       "data": [
        {
         "customdata": [
          [
           -33.82,
           "18:30:09.1",
           -177.83,
           "1976/06/29"
          ],
          [
           -31.45,
           "09:52:38.6",
           -179.89,
           "1977/11/21"
          ],
          [
           -30.41,
           "00:05:23.0",
           -177.12,
           "1978/02/11"
          ],
          [
           -42.07,
           "21:06:53.6",
           171.7,
           "1979/03/24"
          ],
          [
           -37.95,
           "18:01:13.0",
           176.77,
           "1979/04/19"
          ],
          [
           -33.38,
           "21:35:51.1",
           -179.32,
           "1979/07/20"
          ],
          [
           -32.31,
           "15:56:43.9",
           179.2,
           "1979/11/08"
          ],
          [
           -39.54,
           "15:32:49.8",
           176.48,
           "1980/10/05"
          ],
          [
           -37.99,
           "04:57:05.0",
           178.27,
           "1980/11/25"
          ],
          [
           -35.35,
           "06:48:46.9",
           179.96,
           "1980/11/29"
          ],
          [
           -34.54,
           "20:54:08.9",
           178.95,
           "1981/01/03"
          ],
          [
           -30.55,
           "14:03:18.0",
           -179.52,
           "1981/01/31"
          ],
          [
           -35.51,
           "05:20:39.7",
           -179.66,
           "1981/03/31"
          ],
          [
           -48.79,
           "05:25:14.4",
           164.36,
           "1981/05/25"
          ],
          [
           -48.56,
           "18:57:21.6",
           164.05,
           "1981/05/27"
          ],
          [
           -49.15,
           "09:47:17.2",
           164.74,
           "1981/05/30"
          ],
          [
           -33.93,
           "16:02:52.0",
           -179.66,
           "1981/10/01"
          ],
          [
           -40.51,
           "17:18:45.6",
           176.31,
           "1981/12/27"
          ],
          [
           -31.45,
           "03:52:34.7",
           -178.69,
           "1982/03/28"
          ],
          [
           -34.01,
           "14:58:40.3",
           179.36,
           "1983/05/04"
          ],
          [
           -33.83,
           "04:43:59.4",
           179.38,
           "1983/05/05"
          ],
          [
           -38.22,
           "00:40:47.8",
           177.4,
           "1984/03/08"
          ],
          [
           -30.36,
           "04:58:26.6",
           -179.65,
           "1984/07/23"
          ],
          [
           -32.07,
           "09:08:52.7",
           -178.37,
           "1984/09/17"
          ],
          [
           -36.48,
           "15:06:46.0",
           178.04,
           "1984/12/30"
          ],
          [
           -36.72,
           "20:59:54.6",
           177.71,
           "1984/12/30"
          ],
          [
           -36.73,
           "21:36:55.7",
           177.5,
           "1984/12/30"
          ],
          [
           -37.51,
           "18:54:13.8",
           179.47,
           "1985/06/28"
          ],
          [
           -30.17,
           "16:55:54.1",
           -176.65,
           "1986/03/14"
          ],
          [
           -46.02,
           "08:27:46.2",
           166.35,
           "1986/07/11"
          ],
          [
           -34.56,
           "23:47:48.7",
           179.34,
           "1986/08/23"
          ],
          [
           -30.47,
           "10:56:45.6",
           -179.02,
           "1987/04/20"
          ],
          [
           -30.21,
           "21:59:41.9",
           165.77,
           "1987/07/26"
          ],
          [
           -31.09,
           "11:57:13.8",
           -178.08,
           "1987/09/07"
          ],
          [
           -34.48,
           "02:11:15.4",
           179.77,
           "1987/10/14"
          ],
          [
           -49.69,
           "00:59:55.3",
           164.05,
           "1987/11/12"
          ],
          [
           -34.41,
           "19:33:08.7",
           -178.48,
           "1989/03/17"
          ],
          [
           -30.55,
           "00:59:49.0",
           -178.41,
           "1989/05/14"
          ],
          [
           -45.16,
           "05:54:23.1",
           167.11,
           "1989/05/31"
          ],
          [
           -40.21,
           "07:59:07.5",
           174.22,
           "1989/08/08"
          ],
          [
           -33.15,
           "07:18:25.5",
           -177.64,
           "1989/09/04"
          ],
          [
           -42.19,
           "03:54:50.8",
           172.74,
           "1990/02/10"
          ],
          [
           -47.94,
           "07:05:52.8",
           164.79,
           "1990/03/24"
          ],
          [
           -32.85,
           "01:10:43.3",
           -178.57,
           "1990/03/25"
          ],
          [
           -40.26,
           "04:23:10.8",
           176.14,
           "1990/05/13"
          ],
          [
           -40.32,
           "15:54:40.3",
           176.64,
           "1990/08/15"
          ],
          [
           -41.51,
           "02:41:16.2",
           175.29,
           "1990/10/06"
          ],
          [
           -42.1,
           "10:48:12.9",
           171.56,
           "1991/02/15"
          ],
          [
           -44.56,
           "23:35:09.6",
           167.77,
           "1991/11/29"
          ],
          [
           -37.52,
           "17:27:32.6",
           177.25,
           "1992/03/25"
          ],
          [
           -37.8,
           "17:43:12.1",
           176.96,
           "1992/06/21"
          ],
          [
           -31.2,
           "01:08:07.3",
           179.94,
           "1992/08/08"
          ],
          [
           -31.98,
           "20:17:14.2",
           -178.17,
           "1992/12/31"
          ],
          [
           -45.14,
           "00:51:54.7",
           166.95,
           "1993/08/10"
          ],
          [
           -35.93,
           "01:29:59.9",
           178.28,
           "1993/08/26"
          ],
          [
           -37.33,
           "11:20:22.3",
           177.55,
           "1994/12/15"
          ],
          [
           -30.16,
           "11:43:54.3",
           -178.63,
           "1994/12/25"
          ],
          [
           -32.88,
           "22:23:53.5",
           179.87,
           "1994/12/28"
          ],
          [
           -37.8,
           "10:43:57.2",
           178.82,
           "1995/02/06"
          ],
          [
           -37.98,
           "11:23:04.4",
           178.65,
           "1995/02/06"
          ],
          [
           -41.03,
           "19:43:30.2",
           174.05,
           "1995/03/22"
          ],
          [
           -32.83,
           "22:29:57.3",
           -178.27,
           "1996/01/30"
          ],
          [
           -42.49,
           "04:47:03.9",
           172.76,
           "1996/08/29"
          ],
          [
           -32.54,
           "00:47:21.1",
           -179.05,
           "1996/11/11"
          ],
          [
           -31.08,
           "05:25:57.7",
           -177.73,
           "1997/03/11"
          ],
          [
           -37.02,
           "02:18:00.8",
           177.65,
           "1997/03/25"
          ],
          [
           -32.12,
           "23:22:33.1",
           179.79,
           "1997/05/25"
          ],
          [
           -47.43,
           "10:50:11.2",
           165.96,
           "1997/05/26"
          ],
          [
           -35.36,
           "22:40:54.4",
           179.56,
           "1997/08/04"
          ],
          [
           -30.1,
           "20:24:45.2",
           -177.93,
           "1998/06/20"
          ],
          [
           -35.59,
           "07:14:32.6",
           179.96,
           "1998/09/20"
          ],
          [
           -38.67,
           "09:19:34.1",
           175.26,
           "1999/05/18"
          ],
          [
           -32.83,
           "19:37:44.8",
           -178.27,
           "1999/09/10"
          ],
          [
           -34.32,
           "14:09:50.5",
           179.13,
           "2000/03/04"
          ],
          [
           -41.03,
           "14:30:57.8",
           175.46,
           "2000/03/29"
          ],
          [
           -31.89,
           "00:24:13.2",
           -178.57,
           "2000/04/20"
          ],
          [
           -39.24,
           "10:31:17.1",
           176.31,
           "2000/08/08"
          ],
          [
           -35.03,
           "15:21:26.7",
           179.67,
           "2000/12/26"
          ],
          [
           -36.81,
           "06:52:06.2",
           -179.57,
           "2001/08/21"
          ],
          [
           -36.81,
           "21:34:00.7",
           179.95,
           "2001/08/24"
          ],
          [
           -33.23,
           "00:53:46.2",
           -178.57,
           "2001/11/27"
          ],
          [
           -33.25,
           "18:02:06.3",
           -178.48,
           "2001/11/30"
          ],
          [
           -44.22,
           "19:27:34.1",
           168.82,
           "2001/12/07"
          ],
          [
           -44.11,
           "06:37:37.2",
           168.58,
           "2002/02/24"
          ],
          [
           -49.94,
           "01:53:03.5",
           163.39,
           "2002/10/17"
          ],
          [
           -30.53,
           "13:15:18.7",
           -178.23,
           "2003/05/04"
          ],
          [
           -30.59,
           "20:08:46.5",
           -178.29,
           "2003/05/04"
          ],
          [
           -45.43,
           "23:56:29.6",
           166.8,
           "2003/08/26"
          ],
          [
           -45.19,
           "08:40:44.4",
           167.11,
           "2003/09/04"
          ],
          [
           -30.49,
           "15:22:31.7",
           -177.18,
           "2003/09/30"
          ],
          [
           -34.95,
           "14:21:14.9",
           -178.25,
           "2003/12/25"
          ],
          [
           -32.26,
           "22:56:42.5",
           -178.36,
           "2004/03/09"
          ],
          [
           -49.31,
           "14:59:04.4",
           161.35,
           "2004/12/23"
          ],
          [
           -48.62,
           "22:34:40.0",
           161.32,
           "2004/12/24"
          ],
          [
           -41.22,
           "18:56:30.7",
           175.21,
           "2005/01/20"
          ],
          [
           -35.24,
           "09:32:39.9",
           179.65,
           "2005/03/16"
          ],
          [
           -44.37,
           "02:07:50.5",
           169.87,
           "2005/04/02"
          ],
          [
           -36.2,
           "10:23:11.5",
           -179.99,
           "2005/07/13"
          ],
          [
           -35.8,
           "17:34:12.7",
           178.47,
           "2005/08/30"
          ],
          [
           -49.52,
           "07:12:43.1",
           164.19,
           "2005/10/17"
          ],
          [
           -37.64,
           "20:33:48.8",
           -179.81,
           "2006/06/14"
          ],
          [
           -34.12,
           "13:56:29.7",
           -178.95,
           "2007/05/03"
          ],
          [
           -30.97,
           "05:16:01.1",
           180.0,
           "2007/09/25"
          ],
          [
           -44.79,
           "21:28:23.7",
           167.46,
           "2007/10/15"
          ],
          [
           -49.4,
           "18:07:11.8",
           164.79,
           "2007/12/05"
          ],
          [
           -44.92,
           "18:41:47.5",
           166.98,
           "2008/01/20"
          ],
          [
           -35.66,
           "11:52:03.2",
           178.2,
           "2008/02/19"
          ],
          [
           -33.4,
           "02:30:08.4",
           179.91,
           "2008/06/11"
          ],
          [
           -37.56,
           "21:06:24.3",
           177.09,
           "2008/06/12"
          ],
          [
           -42.21,
           "07:23:03.5",
           173.8,
           "2008/09/26"
          ],
          [
           -30.0,
           "03:03:24.7",
           -177.48,
           "2008/10/01"
          ],
          [
           -37.01,
           "17:38:58.0",
           177.69,
           "2009/03/14"
          ],
          [
           -38.72,
           "11:12:58.8",
           178.51,
           "2009/04/08"
          ],
          [
           -30.3,
           "00:06:53.2",
           -178.58,
           "2009/04/26"
          ],
          [
           -45.76,
           "09:22:29.0",
           166.56,
           "2009/07/15"
          ],
          [
           -45.49,
           "17:27:40.9",
           166.54,
           "2009/07/16"
          ],
          [
           -46.2,
           "22:18:23.5",
           166.13,
           "2009/07/16"
          ],
          [
           -46.25,
           "20:43:00.9",
           165.96,
           "2009/07/29"
          ],
          [
           -48.73,
           "06:28:50.3",
           164.67,
           "2010/03/18"
          ],
          [
           -37.17,
           "12:04:57.1",
           179.38,
           "2011/01/13"
          ],
          [
           -38.12,
           "08:45:47.1",
           176.18,
           "2011/01/18"
          ],
          [
           -43.6,
           "01:50:29.7",
           172.62,
           "2011/02/22"
          ],
          [
           -31.13,
           "15:20:28.3",
           -179.82,
           "2011/03/20"
          ],
          [
           -43.56,
           "02:20:49.3",
           172.74,
           "2011/06/13"
          ],
          [
           -35.9,
           "14:40:45.5",
           178.12,
           "2011/07/09"
          ],
          [
           -35.25,
           "11:39:51.1",
           179.72,
           "2011/07/17"
          ],
          [
           -37.5,
           "18:58:29.2",
           179.77,
           "2011/09/01"
          ],
          [
           -34.25,
           "07:10:40.0",
           179.75,
           "2011/09/06"
          ],
          [
           -32.54,
           "08:58:28.6",
           -179.04,
           "2011/10/07"
          ],
          [
           -41.36,
           "06:19:10.4",
           174.32,
           "2011/12/03"
          ],
          [
           -46.68,
           "06:02:34.8",
           165.71,
           "2012/01/25"
          ],
          [
           -39.07,
           "00:50:27.0",
           175.81,
           "2012/07/07"
          ],
          [
           -37.58,
           "05:17:08.6",
           -179.6,
           "2012/08/02"
          ],
          [
           -33.44,
           "10:01:53.9",
           -179.53,
           "2012/08/24"
          ],
          [
           -37.94,
           "13:12:29.9",
           177.76,
           "2012/10/30"
          ],
          [
           -41.64,
           "19:17:10.1",
           174.39,
           "2013/07/20"
          ],
          [
           -41.7,
           "05:09:31.5",
           174.34,
           "2013/07/21"
          ],
          [
           -30.63,
           "04:16:47.8",
           -179.68,
           "2013/08/12"
          ],
          [
           -30.36,
           "22:23:28.4",
           -179.71,
           "2013/11/18"
          ],
          [
           -46.08,
           "12:07:24.8",
           165.99,
           "2013/12/16"
          ],
          [
           -30.52,
           "11:53:44.9",
           -179.21,
           "2014/01/11"
          ],
          [
           -32.91,
           "09:26:37.8",
           -177.88,
           "2014/02/02"
          ],
          [
           -34.8,
           "08:14:42.5",
           -179.42,
           "2014/02/18"
          ],
          [
           -34.63,
           "18:23:05.4",
           -179.58,
           "2014/07/18"
          ],
          [
           -36.08,
           "15:02:30.2",
           178.06,
           "2014/09/21"
          ],
          [
           -36.68,
           "01:57:49.0",
           177.14,
           "2014/11/23"
          ],
          [
           -46.97,
           "08:02:06.5",
           165.9,
           "2014/12/12"
          ],
          [
           -33.64,
           "03:06:02.8",
           179.43,
           "2015/02/06"
          ],
          [
           -34.1,
           "15:22:10.1",
           179.07,
           "2015/02/08"
          ],
          [
           -44.52,
           "02:29:11.4",
           168.88,
           "2015/05/04"
          ],
          [
           -32.07,
           "18:45:57.5",
           -178.32,
           "2015/06/25"
          ],
          [
           -39.4,
           "05:42:11.5",
           175.95,
           "2015/11/01"
          ],
          [
           -35.42,
           "07:31:58.5",
           178.46,
           "2015/12/21"
          ],
          [
           -49.05,
           "19:28:04.2",
           164.48,
           "2016/02/15"
          ],
          [
           -30.02,
           "02:35:32.4",
           -177.84,
           "2016/06/06"
          ],
          [
           -37.36,
           "16:37:57.3",
           179.15,
           "2016/09/01"
          ],
          [
           -37.23,
           "19:18:32.3",
           178.6,
           "2016/09/01"
          ],
          [
           -37.5,
           "04:30:14.6",
           178.73,
           "2016/09/03"
          ],
          [
           -37.13,
           "15:19:03.6",
           178.7,
           "2016/09/05"
          ],
          [
           -42.74,
           "11:02:56.3",
           173.05,
           "2016/11/13"
          ],
          [
           -42.37,
           "19:28:56.7",
           173.94,
           "2016/11/13"
          ],
          [
           -41.76,
           "07:21:04.7",
           174.3,
           "2016/11/14"
          ],
          [
           -40.6,
           "00:19:43.0",
           177.04,
           "2016/11/22"
          ],
          [
           -45.47,
           "09:35:58.5",
           166.32,
           "2017/02/05"
          ],
          [
           -32.75,
           "00:08:09.2",
           -178.77,
           "2017/12/04"
          ],
          [
           -31.98,
           "21:43:15.3",
           -179.95,
           "2018/05/17"
          ],
          [
           -34.87,
           "13:01:27.8",
           -178.78,
           "2018/08/02"
          ],
          [
           -47.9,
           "23:42:39.5",
           165.42,
           "2018/11/24"
          ],
          [
           -32.02,
           "15:46:14.9",
           -177.88,
           "2019/03/06"
          ],
          [
           -39.44,
           "11:16:37.0",
           178.36,
           "2019/05/14"
          ],
          [
           -33.8,
           "23:08:56.8",
           -179.51,
           "2019/07/23"
          ],
          [
           -47.9,
           "00:11:07.2",
           165.58,
           "2019/08/04"
          ],
          [
           -38.78,
           "07:02:52.6",
           175.98,
           "2019/09/04"
          ],
          [
           -38.24,
           "03:29:48.4",
           177.15,
           "2019/10/07"
          ],
          [
           -35.01,
           "16:07:32.3",
           179.41,
           "2019/11/03"
          ],
          [
           -37.36,
           "16:34:44.2",
           177.26,
           "2019/11/23"
          ],
          [
           -40.62,
           "10:45:11.4",
           174.54,
           "2020/01/25"
          ],
          [
           -44.94,
           "22:52:11.3",
           167.55,
           "2020/04/26"
          ],
          [
           -33.29,
           "12:49:53.8",
           -177.86,
           "2020/06/18"
          ],
          [
           -44.64,
           "22:20:02.0",
           167.47,
           "2020/06/24"
          ],
          [
           -30.1,
           "23:55:30.7",
           -177.17,
           "2020/08/24"
          ],
          [
           -47.33,
           "18:00:54.6",
           165.51,
           "2020/11/21"
          ]
         ],
         "hovertemplate": "<b>%{hovertext}</b><br><br>Mag=%{marker.color}<br>Lat=%{customdata[0]}<br>Lon=%{customdata[2]}<br>Time=%{customdata[1]}<br>Date=%{customdata[3]}<extra></extra>",
         "hovertext": {
          "dtype": "f8",
          "bdata": "ZmZmZmZmGEDNzMzMzMwUQGZmZmZmZhpAMzMzMzMzFUBmZmZmZmYUQJqZmZmZmRVAzczMzMzMFkBmZmZmZmYWQJqZmZmZmRVAzczMzMzMFkBmZmZmZmYUQGZmZmZmZhRAAAAAAAAAFkBmZmZmZmYeQDMzMzMzMxVAzczMzMzMFkDNzMzMzMwWQJqZmZmZmRVAzczMzMzMGECamZmZmZkVQAAAAAAAABhAmpmZmZmZF0AzMzMzMzMVQJqZmZmZmRlAzczMzMzMFEBmZmZmZmYWQJqZmZmZmRtAzczMzMzMFkBmZmZmZmYYQGZmZmZmZhZAAAAAAAAAGkDNzMzMzMwUQJqZmZmZmRVAMzMzMzMzF0DNzMzMzMwWQGZmZmZmZhZAmpmZmZmZF0BmZmZmZmYaQJqZmZmZmRlAZmZmZmZmFkAAAAAAAAAYQM3MzMzMzBZAmpmZmZmZFUBmZmZmZmYUQAAAAAAAABpAMzMzMzMzFUDNzMzMzMwWQJqZmZmZmRVAAAAAAAAAFECamZmZmZkVQM3MzMzMzBhAmpmZmZmZFUDNzMzMzMwWQGZmZmZmZhxAAAAAAAAAFkCamZmZmZkZQGZmZmZmZhRAZmZmZmZmGEAzMzMzMzMXQDMzMzMzMxVAAAAAAAAAFkDNzMzMzMwaQAAAAAAAABRAmpmZmZmZF0DNzMzMzMwYQM3MzMzMzBRAzczMzMzMGEAAAAAAAAAWQJqZmZmZmRNAzczMzMzMFkAzMzMzMzMVQAAAAAAAABZAMzMzMzMzF0BmZmZmZmYWQAAAAAAAABRAmpmZmZmZE0AzMzMzMzMVQJqZmZmZmRVAZmZmZmZmHEAAAAAAAAAWQM3MzMzMzBZAAAAAAAAAFkAAAAAAAAAYQJqZmZmZmRVAZmZmZmZmFEAAAAAAAAAaQGZmZmZmZhhAZmZmZmZmFEBmZmZmZmYWQAAAAAAAABhAMzMzMzMzF0CamZmZmZkZQM3MzMzMzB5AmpmZmZmZE0DNzMzMzMwUQJqZmZmZmRVAmpmZmZmZE0BmZmZmZmYUQAAAAAAAABRAzczMzMzMFkDNzMzMzMwUQGZmZmZmZhZAzczMzMzMGEBmZmZmZmYYQM3MzMzMzBRAAAAAAAAAFkAzMzMzMzMTQM3MzMzMzBZAmpmZmZmZFUDNzMzMzMwUQDMzMzMzMxNAAAAAAAAAFEAzMzMzMzMVQGZmZmZmZhhAMzMzMzMzH0DNzMzMzMwSQM3MzMzMzBZAAAAAAAAAFEBmZmZmZmYWQAAAAAAAABZAmpmZmZmZE0BmZmZmZmYWQM3MzMzMzBRAAAAAAAAAGEAzMzMzMzMXQM3MzMzMzBRAzczMzMzMFkBmZmZmZmYUQGZmZmZmZhhAzczMzMzMFkDNzMzMzMwWQM3MzMzMzBZAzczMzMzMFEAzMzMzMzMXQGZmZmZmZhRAmpmZmZmZF0DNzMzMzMwaQM3MzMzMzBhAZmZmZmZmFEAzMzMzMzMXQDMzMzMzMxNAAAAAAAAAGkBmZmZmZmYWQJqZmZmZmRVAMzMzMzMzFUCamZmZmZkRQM3MzMzMzBRAZmZmZmZmEkCamZmZmZkTQGZmZmZmZhZAAAAAAAAAGEAzMzMzMzMVQJqZmZmZmRNAmpmZmZmZF0BmZmZmZmYYQAAAAAAAABxAAAAAAAAAFkAzMzMzMzMVQJqZmZmZmRdAMzMzMzMzH0DNzMzMzMwWQAAAAAAAABZAmpmZmZmZF0AzMzMzMzMTQDMzMzMzMxdAzczMzMzMFkCamZmZmZkVQDMzMzMzMxdAmpmZmZmZGUBmZmZmZmYUQAAAAAAAABZAZmZmZmZmFEBmZmZmZmYUQJqZmZmZmRNAZmZmZmZmFEAzMzMzMzMXQGZmZmZmZhRAAAAAAAAAFECamZmZmZkdQGZmZmZmZhZAAAAAAAAAEkDNzMzMzMwSQA=="
         },
         "lat": {
          "dtype": "f8",
          "bdata": "KVyPwvXoQMAzMzMzM3M/wClcj8L1aD7AKVyPwvUIRcCamZmZmflCwHE9CtejsEDASOF6FK4nQMCF61G4HsVDwB+F61G4/kLAzczMzMysQcCF61G4HkVBwM3MzMzMjD7A4XoUrkfBQcCF61G4HmVIwEjhehSuR0jAMzMzMzOTSMDXo3A9CvdAwOF6FK5HQUTAMzMzMzNzP8DhehSuRwFBwArXo3A96kDAXI/C9SgcQ8Bcj8L1KFw+wClcj8L1CEDAPQrXo3A9QsBcj8L1KFxCwD0K16NwXULA4XoUrkfBQsDsUbgehSs+wMP1KFyPAkfASOF6FK5HQcC4HoXrUXg+wPYoXI/CNT7A16NwPQoXP8A9CtejcD1BwLgehetR2EjAFK5H4Xo0QcDNzMzMzIw+wBSuR+F6lEbAexSuR+EaRMAzMzMzM5NAwLgehetRGEXAuB6F61H4R8DNzMzMzGxAwOF6FK5HIUTAKVyPwvUoRMDhehSuR8FEwM3MzMzMDEXASOF6FK5HRsDD9Shcj8JCwGZmZmZm5kLAMzMzMzMzP8B7FK5H4fo/wFK4HoXrkUbA16NwPQr3QcAK16NwPapCwClcj8L1KD7AcT0K16NwQMBmZmZmZuZCwD0K16Nw/ULApHA9CteDRMAK16NwPWpAwB+F61G4PkXAhetRuB5FQMAUrkfhehQ/wMP1KFyPgkLAj8L1KFwPQMDXo3A9CrdHwK5H4XoUrkHAmpmZmZkZPsDsUbgehctBwPYoXI/CVUPACtejcD1qQMApXI/C9ShBwKRwPQrXg0TApHA9CtfjP8AfhetRuJ5DwKRwPQrXg0HASOF6FK5nQsBI4XoUrmdCwD0K16NwnUDAAAAAAACgQMBcj8L1KBxGwK5H4XoUDkbAuB6F61H4SMBI4XoUroc+wNejcD0Klz7A16NwPQq3RsC4HoXrUZhGwD0K16NwfT7AmpmZmZl5QcDhehSuRyFAwEjhehSup0jAj8L1KFxPSMBcj8L1KJxEwB+F61G4nkHAj8L1KFwvRsCamZmZmRlCwGZmZmZm5kHAw/UoXI/CSMBSuB6F69FCwI/C9ShcD0HAuB6F61H4PsCF61G4HmVGwDMzMzMzs0jA9ihcj8J1RsAUrkfhetRBwDMzMzMzs0DASOF6FK7HQsB7FK5H4RpFwAAAAAAAAD7A4XoUrkeBQsBcj8L1KFxDwM3MzMzMTD7A4XoUrkfhRsAfhetRuL5GwJqZmZmZGUfAAAAAAAAgR8A9CtejcF1IwPYoXI/ClULAj8L1KFwPQ8DNzMzMzMxFwOF6FK5HIT/ASOF6FK7HRcAzMzMzM/NBwAAAAAAAoEHAAAAAAADAQsAAAAAAACBBwIXrUbgeRUDArkfhehSuRMDXo3A9CldHwClcj8L1iEPACtejcD3KQsC4HoXrUbhAwLgehetR+ELAUrgehevRRMCamZmZmdlEwOF6FK5HoT7AXI/C9ShcPsAK16NwPQpHwIXrUbgehT7AFK5H4Xp0QMBmZmZmZmZBwHE9CtejUEHACtejcD0KQsDXo3A9CldCwFyPwvUofEfAUrgehevRQMDNzMzMzAxBwMP1KFyPQkbAKVyPwvUIQMAzMzMzM7NDwPYoXI/CtUHAZmZmZmaGSMCF61G4HgU+wK5H4XoUrkLAPQrXo3CdQsAAAAAAAMBCwHE9CtejkELAH4XrUbheRcCPwvUoXC9FwOF6FK5H4UTAzczMzMxMRMBcj8L1KLxGwAAAAAAAYEDAexSuR+H6P8CPwvUoXG9BwDMzMzMz80fAw/UoXI8CQMC4HoXrUbhDwGZmZmZm5kDAMzMzMzPzR8CkcD0K12NDwB+F61G4HkPA4XoUrkeBQcCuR+F6FK5CwI/C9ShcT0TAuB6F61F4RsCF61G4HqVAwFK4HoXrUUbAmpmZmZkZPsAK16NwPapHwA=="
         },
         "legendgroup": "",
         "lon": {
          "dtype": "f8",
          "bdata": "w/UoXI86ZsAUrkfhenxmwKRwPQrXI2bAZmZmZmZ2ZUBxPQrXoxhmQArXo3A9ambAZmZmZmZmZkCPwvUoXA9mQHE9CtejSGZAH4XrUbh+ZkBmZmZmZl5mQHE9CtejcGbAhetRuB51ZsDsUbgehYtkQJqZmZmZgWRASOF6FK6XZECF61G4HnVmwFK4HoXrCWZArkfhehRWZsDsUbgehWtmQFyPwvUobGZAzczMzMwsZkDNzMzMzHRmwKRwPQrXS2bA4XoUrkdBZkAfhetRuDZmQAAAAAAAMGZA16NwPQpvZkDNzMzMzBRmwDMzMzMzy2RAexSuR+FqZkBxPQrXo2BmwHE9CtejuGRAw/UoXI9CZsBxPQrXo3hmQJqZmZmZgWRAj8L1KFxPZsCF61G4Hk1mwOxRuB6F42RA16NwPQrHZUAUrkfhejRmwEjhehSul2VA4XoUrkeZZEAK16NwPVJmwBSuR+F6BGZAFK5H4XoUZkDhehSuR+llQFK4HoXrcWVAcT0K16P4ZEAAAAAAAChmQB+F61G4HmZArkfhehR+ZkA9CtejcEVmwGZmZmZm3mRAKVyPwvVIZkCamZmZmTFmQFyPwvUoVGbApHA9Ctd7ZkAK16NwPVpmQM3MzMzMVGZAmpmZmZnBZUBxPQrXo0hmwLgehetRmGVAmpmZmZlhZsCPwvUoXDdmwM3MzMzMNGZA4XoUrkd5ZkAfhetRuL5kQFK4HoXrcWZA9ihcj8I9ZsAfhetRuH5mQLgehetR6GVAcT0K16NIZsBcj8L1KGRmQB+F61G47mVACtejcD1SZsBSuB6F6wlmQD0K16NwdWZACtejcD1yZsBmZmZmZn5mQArXo3A9UmbAj8L1KFxPZsAK16NwPRplQMP1KFyPEmVAFK5H4XpsZECPwvUoXEdmwOF6FK5HSWbAmpmZmZnZZEDsUbgeheNkQPYoXI/CJWbAAAAAAABIZsDsUbgehUtmwDMzMzMzK2RACtejcD0qZEAfhetRuOZlQM3MzMzMdGZApHA9Ctc7ZUBI4XoUrn9mwNejcD0KT2ZArkfhehSGZEBSuB6F63lmwGZmZmZmXmbAAAAAAACAZkAfhetRuO5kQOF6FK5HmWRAj8L1KFzfZEBmZmZmZkZmQIXrUbgefWZAexSuR+EiZkCamZmZmbllQI/C9ShcL2bArkfhehQ2ZkC4HoXrUVBmQMP1KFyPUmbAUrgehevRZEDhehSuR9FkQFyPwvUoxGRAH4XrUbi+ZEA9CtejcJVkQFyPwvUobGZA9ihcj8IFZkCkcD0K15NlQArXo3A9embASOF6FK6XZUCkcD0K10NmQNejcD0Kd2ZAcT0K16N4ZkAAAAAAAHhmQOF6FK5HYWbACtejcD3KZUAfhetRuLZkQFK4HoXr+WVAMzMzMzNzZsApXI/C9XBmwLgehetROGZAFK5H4XrMZUB7FK5H4cplQPYoXI/CdWbAH4XrUbh2ZsBI4XoUrr9kQB+F61G4ZmbAXI/C9Sg8ZsA9CtejcG1mwMP1KFyPcmbAUrgehetBZkAUrkfheiRmQM3MzMzMvGRA9ihcj8JtZkAK16NwPWJmQFyPwvUoHGVACtejcD1KZsBmZmZmZv5lQB+F61G4TmZAj8L1KFyPZEB7FK5H4TpmwM3MzMzMZGZAMzMzMzNTZkCPwvUoXFdmQGZmZmZmVmZAmpmZmZmhZUCuR+F6FL5lQJqZmZmZyWVA4XoUrkchZkAK16NwPcpkQHE9CtejWGbAZmZmZmZ+ZsApXI/C9VhmwD0K16NwrWRAXI/C9Sg8ZsDsUbgehUtmQLgehetRcGbAw/UoXI+yZECPwvUoXP9lQM3MzMzMJGZAhetRuB5tZkC4HoXrUShmQOF6FK5H0WVAmpmZmZnxZEDsUbgehTtmwNejcD0K72RAPQrXo3AlZsC4HoXrUbBkQA=="
         },
         "marker": {
          "color": {
           "dtype": "f8",
           "bdata": "ZmZmZmZmGEDNzMzMzMwUQGZmZmZmZhpAMzMzMzMzFUBmZmZmZmYUQJqZmZmZmRVAzczMzMzMFkBmZmZmZmYWQJqZmZmZmRVAzczMzMzMFkBmZmZmZmYUQGZmZmZmZhRAAAAAAAAAFkBmZmZmZmYeQDMzMzMzMxVAzczMzMzMFkDNzMzMzMwWQJqZmZmZmRVAzczMzMzMGECamZmZmZkVQAAAAAAAABhAmpmZmZmZF0AzMzMzMzMVQJqZmZmZmRlAzczMzMzMFEBmZmZmZmYWQJqZmZmZmRtAzczMzMzMFkBmZmZmZmYYQGZmZmZmZhZAAAAAAAAAGkDNzMzMzMwUQJqZmZmZmRVAMzMzMzMzF0DNzMzMzMwWQGZmZmZmZhZAmpmZmZmZF0BmZmZmZmYaQJqZmZmZmRlAZmZmZmZmFkAAAAAAAAAYQM3MzMzMzBZAmpmZmZmZFUBmZmZmZmYUQAAAAAAAABpAMzMzMzMzFUDNzMzMzMwWQJqZmZmZmRVAAAAAAAAAFECamZmZmZkVQM3MzMzMzBhAmpmZmZmZFUDNzMzMzMwWQGZmZmZmZhxAAAAAAAAAFkCamZmZmZkZQGZmZmZmZhRAZmZmZmZmGEAzMzMzMzMXQDMzMzMzMxVAAAAAAAAAFkDNzMzMzMwaQAAAAAAAABRAmpmZmZmZF0DNzMzMzMwYQM3MzMzMzBRAzczMzMzMGEAAAAAAAAAWQJqZmZmZmRNAzczMzMzMFkAzMzMzMzMVQAAAAAAAABZAMzMzMzMzF0BmZmZmZmYWQAAAAAAAABRAmpmZmZmZE0AzMzMzMzMVQJqZmZmZmRVAZmZmZmZmHEAAAAAAAAAWQM3MzMzMzBZAAAAAAAAAFkAAAAAAAAAYQJqZmZmZmRVAZmZmZmZmFEAAAAAAAAAaQGZmZmZmZhhAZmZmZmZmFEBmZmZmZmYWQAAAAAAAABhAMzMzMzMzF0CamZmZmZkZQM3MzMzMzB5AmpmZmZmZE0DNzMzMzMwUQJqZmZmZmRVAmpmZmZmZE0BmZmZmZmYUQAAAAAAAABRAzczMzMzMFkDNzMzMzMwUQGZmZmZmZhZAzczMzMzMGEBmZmZmZmYYQM3MzMzMzBRAAAAAAAAAFkAzMzMzMzMTQM3MzMzMzBZAmpmZmZmZFUDNzMzMzMwUQDMzMzMzMxNAAAAAAAAAFEAzMzMzMzMVQGZmZmZmZhhAMzMzMzMzH0DNzMzMzMwSQM3MzMzMzBZAAAAAAAAAFEBmZmZmZmYWQAAAAAAAABZAmpmZmZmZE0BmZmZmZmYWQM3MzMzMzBRAAAAAAAAAGEAzMzMzMzMXQM3MzMzMzBRAzczMzMzMFkBmZmZmZmYUQGZmZmZmZhhAzczMzMzMFkDNzMzMzMwWQM3MzMzMzBZAzczMzMzMFEAzMzMzMzMXQGZmZmZmZhRAmpmZmZmZF0DNzMzMzMwaQM3MzMzMzBhAZmZmZmZmFEAzMzMzMzMXQDMzMzMzMxNAAAAAAAAAGkBmZmZmZmYWQJqZmZmZmRVAMzMzMzMzFUCamZmZmZkRQM3MzMzMzBRAZmZmZmZmEkCamZmZmZkTQGZmZmZmZhZAAAAAAAAAGEAzMzMzMzMVQJqZmZmZmRNAmpmZmZmZF0BmZmZmZmYYQAAAAAAAABxAAAAAAAAAFkAzMzMzMzMVQJqZmZmZmRdAMzMzMzMzH0DNzMzMzMwWQAAAAAAAABZAmpmZmZmZF0AzMzMzMzMTQDMzMzMzMxdAzczMzMzMFkCamZmZmZkVQDMzMzMzMxdAmpmZmZmZGUBmZmZmZmYUQAAAAAAAABZAZmZmZmZmFEBmZmZmZmYUQJqZmZmZmRNAZmZmZmZmFEAzMzMzMzMXQGZmZmZmZhRAAAAAAAAAFECamZmZmZkdQGZmZmZmZhZAAAAAAAAAEkDNzMzMzMwSQA=="
          },
          "coloraxis": "coloraxis",
          "size": {
           "dtype": "f8",
           "bdata": "ZmZmZmZmGEDNzMzMzMwUQGZmZmZmZhpAMzMzMzMzFUBmZmZmZmYUQJqZmZmZmRVAzczMzMzMFkBmZmZmZmYWQJqZmZmZmRVAzczMzMzMFkBmZmZmZmYUQGZmZmZmZhRAAAAAAAAAFkBmZmZmZmYeQDMzMzMzMxVAzczMzMzMFkDNzMzMzMwWQJqZmZmZmRVAzczMzMzMGECamZmZmZkVQAAAAAAAABhAmpmZmZmZF0AzMzMzMzMVQJqZmZmZmRlAzczMzMzMFEBmZmZmZmYWQJqZmZmZmRtAzczMzMzMFkBmZmZmZmYYQGZmZmZmZhZAAAAAAAAAGkDNzMzMzMwUQJqZmZmZmRVAMzMzMzMzF0DNzMzMzMwWQGZmZmZmZhZAmpmZmZmZF0BmZmZmZmYaQJqZmZmZmRlAZmZmZmZmFkAAAAAAAAAYQM3MzMzMzBZAmpmZmZmZFUBmZmZmZmYUQAAAAAAAABpAMzMzMzMzFUDNzMzMzMwWQJqZmZmZmRVAAAAAAAAAFECamZmZmZkVQM3MzMzMzBhAmpmZmZmZFUDNzMzMzMwWQGZmZmZmZhxAAAAAAAAAFkCamZmZmZkZQGZmZmZmZhRAZmZmZmZmGEAzMzMzMzMXQDMzMzMzMxVAAAAAAAAAFkDNzMzMzMwaQAAAAAAAABRAmpmZmZmZF0DNzMzMzMwYQM3MzMzMzBRAzczMzMzMGEAAAAAAAAAWQJqZmZmZmRNAzczMzMzMFkAzMzMzMzMVQAAAAAAAABZAMzMzMzMzF0BmZmZmZmYWQAAAAAAAABRAmpmZmZmZE0AzMzMzMzMVQJqZmZmZmRVAZmZmZmZmHEAAAAAAAAAWQM3MzMzMzBZAAAAAAAAAFkAAAAAAAAAYQJqZmZmZmRVAZmZmZmZmFEAAAAAAAAAaQGZmZmZmZhhAZmZmZmZmFEBmZmZmZmYWQAAAAAAAABhAMzMzMzMzF0CamZmZmZkZQM3MzMzMzB5AmpmZmZmZE0DNzMzMzMwUQJqZmZmZmRVAmpmZmZmZE0BmZmZmZmYUQAAAAAAAABRAzczMzMzMFkDNzMzMzMwUQGZmZmZmZhZAzczMzMzMGEBmZmZmZmYYQM3MzMzMzBRAAAAAAAAAFkAzMzMzMzMTQM3MzMzMzBZAmpmZmZmZFUDNzMzMzMwUQDMzMzMzMxNAAAAAAAAAFEAzMzMzMzMVQGZmZmZmZhhAMzMzMzMzH0DNzMzMzMwSQM3MzMzMzBZAAAAAAAAAFEBmZmZmZmYWQAAAAAAAABZAmpmZmZmZE0BmZmZmZmYWQM3MzMzMzBRAAAAAAAAAGEAzMzMzMzMXQM3MzMzMzBRAzczMzMzMFkBmZmZmZmYUQGZmZmZmZhhAzczMzMzMFkDNzMzMzMwWQM3MzMzMzBZAzczMzMzMFEAzMzMzMzMXQGZmZmZmZhRAmpmZmZmZF0DNzMzMzMwaQM3MzMzMzBhAZmZmZmZmFEAzMzMzMzMXQDMzMzMzMxNAAAAAAAAAGkBmZmZmZmYWQJqZmZmZmRVAMzMzMzMzFUCamZmZmZkRQM3MzMzMzBRAZmZmZmZmEkCamZmZmZkTQGZmZmZmZhZAAAAAAAAAGEAzMzMzMzMVQJqZmZmZmRNAmpmZmZmZF0BmZmZmZmYYQAAAAAAAABxAAAAAAAAAFkAzMzMzMzMVQJqZmZmZmRdAMzMzMzMzH0DNzMzMzMwWQAAAAAAAABZAmpmZmZmZF0AzMzMzMzMTQDMzMzMzMxdAzczMzMzMFkCamZmZmZkVQDMzMzMzMxdAmpmZmZmZGUBmZmZmZmYUQAAAAAAAABZAZmZmZmZmFEBmZmZmZmYUQJqZmZmZmRNAZmZmZmZmFEAzMzMzMzMXQGZmZmZmZhRAAAAAAAAAFECamZmZmZkdQGZmZmZmZhZAAAAAAAAAEkDNzMzMzMwSQA=="
          },
          "sizemode": "area",
          "sizeref": 0.121875
         },
         "mode": "markers",
         "name": "",
         "showlegend": false,
         "subplot": "map",
         "type": "scattermap"
        }
       ],
       "layout": {
        "template": {
         "data": {
          "histogram2dcontour": [
           {
            "type": "histogram2dcontour",
            "colorbar": {
             "outlinewidth": 0,
             "ticks": ""
            },
            "colorscale": [
             [
              0.0,
              "#0d0887"
             ],
             [
              0.1111111111111111,
              "#46039f"
             ],
             [
              0.2222222222222222,
              "#7201a8"
             ],
             [
              0.3333333333333333,
              "#9c179e"
             ],
             [
              0.4444444444444444,
              "#bd3786"
             ],
             [
              0.5555555555555556,
              "#d8576b"
             ],
             [
              0.6666666666666666,
              "#ed7953"
             ],
             [
              0.7777777777777778,
              "#fb9f3a"
             ],
             [
              0.8888888888888888,
              "#fdca26"
             ],
             [
              1.0,
              "#f0f921"
             ]
            ]
           }
          ],
          "choropleth": [
           {
            "type": "choropleth",
            "colorbar": {
             "outlinewidth": 0,
             "ticks": ""
            }
           }
          ],
          "histogram2d": [
           {
            "type": "histogram2d",
            "colorbar": {
             "outlinewidth": 0,
             "ticks": ""
            },
            "colorscale": [
             [
              0.0,
              "#0d0887"
             ],
             [
              0.1111111111111111,
              "#46039f"
             ],
             [
              0.2222222222222222,
              "#7201a8"
             ],
             [
              0.3333333333333333,
              "#9c179e"
             ],
             [
              0.4444444444444444,
              "#bd3786"
             ],
             [
              0.5555555555555556,
              "#d8576b"
             ],
             [
              0.6666666666666666,
              "#ed7953"
             ],
             [
              0.7777777777777778,
              "#fb9f3a"
             ],
             [
              0.8888888888888888,
              "#fdca26"
             ],
             [
              1.0,
              "#f0f921"
             ]
            ]
           }
          ],
          "heatmap": [
           {
            "type": "heatmap",
            "colorbar": {
             "outlinewidth": 0,
             "ticks": ""
            },
            "colorscale": [
             [
              0.0,
              "#0d0887"
             ],
             [
              0.1111111111111111,
              "#46039f"
             ],
             [
              0.2222222222222222,
              "#7201a8"
             ],
             [
              0.3333333333333333,
              "#9c179e"
             ],
             [
              0.4444444444444444,
              "#bd3786"
             ],
             [
              0.5555555555555556,
              "#d8576b"
             ],
             [
              0.6666666666666666,
              "#ed7953"
             ],
             [
              0.7777777777777778,
              "#fb9f3a"
             ],
             [
              0.8888888888888888,
              "#fdca26"
             ],
             [
              1.0,
              "#f0f921"
             ]
            ]
           }
          ],
          "contourcarpet": [
           {
            "type": "contourcarpet",
            "colorbar": {
             "outlinewidth": 0,
             "ticks": ""
            }
           }
          ],
          "contour": [
           {
            "type": "contour",
            "colorbar": {
             "outlinewidth": 0,
             "ticks": ""
            },
            "colorscale": [
             [
              0.0,
              "#0d0887"
             ],
             [
              0.1111111111111111,
              "#46039f"
             ],
             [
              0.2222222222222222,
              "#7201a8"
             ],
             [
              0.3333333333333333,
              "#9c179e"
             ],
             [
              0.4444444444444444,
              "#bd3786"
             ],
             [
              0.5555555555555556,
              "#d8576b"
             ],
             [
              0.6666666666666666,
              "#ed7953"
             ],
             [
              0.7777777777777778,
              "#fb9f3a"
             ],
             [
              0.8888888888888888,
              "#fdca26"
             ],
             [
              1.0,
              "#f0f921"
             ]
            ]
           }
          ],
          "surface": [
           {
            "type": "surface",
            "colorbar": {
             "outlinewidth": 0,
             "ticks": ""
            },
            "colorscale": [
             [
              0.0,
              "#0d0887"
             ],
             [
              0.1111111111111111,
              "#46039f"
             ],
             [
              0.2222222222222222,
              "#7201a8"
             ],
             [
              0.3333333333333333,
              "#9c179e"
             ],
             [
              0.4444444444444444,
              "#bd3786"
             ],
             [
              0.5555555555555556,
              "#d8576b"
             ],
             [
              0.6666666666666666,
              "#ed7953"
             ],
             [
              0.7777777777777778,
              "#fb9f3a"
             ],
             [
              0.8888888888888888,
              "#fdca26"
             ],
             [
              1.0,
              "#f0f921"
             ]
            ]
           }
          ],
          "mesh3d": [
           {
            "type": "mesh3d",
            "colorbar": {
             "outlinewidth": 0,
             "ticks": ""
            }
           }
          ],
          "scatter": [
           {
            "fillpattern": {
             "fillmode": "overlay",
             "size": 10,
             "solidity": 0.2
            },
            "type": "scatter"
           }
          ],
          "parcoords": [
           {
            "type": "parcoords",
            "line": {
             "colorbar": {
              "outlinewidth": 0,
              "ticks": ""
             }
            }
           }
          ],
          "scatterpolargl": [
           {
            "type": "scatterpolargl",
            "marker": {
             "colorbar": {
              "outlinewidth": 0,
              "ticks": ""
             }
            }
           }
          ],
          "bar": [
           {
            "error_x": {
             "color": "#2a3f5f"
            },
            "error_y": {
             "color": "#2a3f5f"
            },
            "marker": {
             "line": {
              "color": "#E5ECF6",
              "width": 0.5
             },
             "pattern": {
              "fillmode": "overlay",
              "size": 10,
              "solidity": 0.2
             }
            },
            "type": "bar"
           }
          ],
          "scattergeo": [
           {
            "type": "scattergeo",
            "marker": {
             "colorbar": {
              "outlinewidth": 0,
              "ticks": ""
             }
            }
           }
          ],
          "scatterpolar": [
           {
            "type": "scatterpolar",
            "marker": {
             "colorbar": {
              "outlinewidth": 0,
              "ticks": ""
             }
            }
           }
          ],
          "histogram": [
           {
            "marker": {
             "pattern": {
              "fillmode": "overlay",
              "size": 10,
              "solidity": 0.2
             }
            },
            "type": "histogram"
           }
          ],
          "scattergl": [
           {
            "type": "scattergl",
            "marker": {
             "colorbar": {
              "outlinewidth": 0,
              "ticks": ""
             }
            }
           }
          ],
          "scatter3d": [
           {
            "type": "scatter3d",
            "line": {
             "colorbar": {
              "outlinewidth": 0,
              "ticks": ""
             }
            },
            "marker": {
             "colorbar": {
              "outlinewidth": 0,
              "ticks": ""
             }
            }
           }
          ],
          "scattermap": [
           {
            "type": "scattermap",
            "marker": {
             "colorbar": {
              "outlinewidth": 0,
              "ticks": ""
             }
            }
           }
          ],
          "scattermapbox": [
           {
            "type": "scattermapbox",
            "marker": {
             "colorbar": {
              "outlinewidth": 0,
              "ticks": ""
             }
            }
           }
          ],
          "scatterternary": [
           {
            "type": "scatterternary",
            "marker": {
             "colorbar": {
              "outlinewidth": 0,
              "ticks": ""
             }
            }
           }
          ],
          "scattercarpet": [
           {
            "type": "scattercarpet",
            "marker": {
             "colorbar": {
              "outlinewidth": 0,
              "ticks": ""
             }
            }
           }
          ],
          "carpet": [
           {
            "aaxis": {
             "endlinecolor": "#2a3f5f",
             "gridcolor": "white",
             "linecolor": "white",
             "minorgridcolor": "white",
             "startlinecolor": "#2a3f5f"
            },
            "baxis": {
             "endlinecolor": "#2a3f5f",
             "gridcolor": "white",
             "linecolor": "white",
             "minorgridcolor": "white",
             "startlinecolor": "#2a3f5f"
            },
            "type": "carpet"
           }
          ],
          "table": [
           {
            "cells": {
             "fill": {
              "color": "#EBF0F8"
             },
             "line": {
              "color": "white"
             }
            },
            "header": {
             "fill": {
              "color": "#C8D4E3"
             },
             "line": {
              "color": "white"
             }
            },
            "type": "table"
           }
          ],
          "barpolar": [
           {
            "marker": {
             "line": {
              "color": "#E5ECF6",
              "width": 0.5
             },
             "pattern": {
              "fillmode": "overlay",
              "size": 10,
              "solidity": 0.2
             }
            },
            "type": "barpolar"
           }
          ],
          "pie": [
           {
            "automargin": true,
            "type": "pie"
           }
          ]
         },
         "layout": {
          "autotypenumbers": "strict",
          "colorway": [
           "#636efa",
           "#EF553B",
           "#00cc96",
           "#ab63fa",
           "#FFA15A",
           "#19d3f3",
           "#FF6692",
           "#B6E880",
           "#FF97FF",
           "#FECB52"
          ],
          "font": {
           "color": "#2a3f5f"
          },
          "hovermode": "closest",
          "hoverlabel": {
           "align": "left"
          },
          "paper_bgcolor": "white",
          "plot_bgcolor": "#E5ECF6",
          "polar": {
           "bgcolor": "#E5ECF6",
           "angularaxis": {
            "gridcolor": "white",
            "linecolor": "white",
            "ticks": ""
           },
           "radialaxis": {
            "gridcolor": "white",
            "linecolor": "white",
            "ticks": ""
           }
          },
          "ternary": {
           "bgcolor": "#E5ECF6",
           "aaxis": {
            "gridcolor": "white",
            "linecolor": "white",
            "ticks": ""
           },
           "baxis": {
            "gridcolor": "white",
            "linecolor": "white",
            "ticks": ""
           },
           "caxis": {
            "gridcolor": "white",
            "linecolor": "white",
            "ticks": ""
           }
          },
          "coloraxis": {
           "colorbar": {
            "outlinewidth": 0,
            "ticks": ""
           }
          },
          "colorscale": {
           "sequential": [
            [
             0.0,
             "#0d0887"
            ],
            [
             0.1111111111111111,
             "#46039f"
            ],
            [
             0.2222222222222222,
             "#7201a8"
            ],
            [
             0.3333333333333333,
             "#9c179e"
            ],
            [
             0.4444444444444444,
             "#bd3786"
            ],
            [
             0.5555555555555556,
             "#d8576b"
            ],
            [
             0.6666666666666666,
             "#ed7953"
            ],
            [
             0.7777777777777778,
             "#fb9f3a"
            ],
            [
             0.8888888888888888,
             "#fdca26"
            ],
            [
             1.0,
             "#f0f921"
            ]
           ],
           "sequentialminus": [
            [
             0.0,
             "#0d0887"
            ],
            [
             0.1111111111111111,
             "#46039f"
            ],
            [
             0.2222222222222222,
             "#7201a8"
            ],
            [
             0.3333333333333333,
             "#9c179e"
            ],
            [
             0.4444444444444444,
             "#bd3786"
            ],
            [
             0.5555555555555556,
             "#d8576b"
            ],
            [
             0.6666666666666666,
             "#ed7953"
            ],
            [
             0.7777777777777778,
             "#fb9f3a"
            ],
            [
             0.8888888888888888,
             "#fdca26"
            ],
            [
             1.0,
             "#f0f921"
            ]
           ],
           "diverging": [
            [
             0,
             "#8e0152"
            ],
            [
             0.1,
             "#c51b7d"
            ],
            [
             0.2,
             "#de77ae"
            ],
            [
             0.3,
             "#f1b6da"
            ],
            [
             0.4,
             "#fde0ef"
            ],
            [
             0.5,
             "#f7f7f7"
            ],
            [
             0.6,
             "#e6f5d0"
            ],
            [
             0.7,
             "#b8e186"
            ],
            [
             0.8,
             "#7fbc41"
            ],
            [
             0.9,
             "#4d9221"
            ],
            [
             1,
             "#276419"
            ]
           ]
          },
          "xaxis": {
           "gridcolor": "white",
           "linecolor": "white",
           "ticks": "",
           "title": {
            "standoff": 15
           },
           "zerolinecolor": "white",
           "automargin": true,
           "zerolinewidth": 2
          },
          "yaxis": {
           "gridcolor": "white",
           "linecolor": "white",
           "ticks": "",
           "title": {
            "standoff": 15
           },
           "zerolinecolor": "white",
           "automargin": true,
           "zerolinewidth": 2
          },
          "scene": {
           "xaxis": {
            "backgroundcolor": "#E5ECF6",
            "gridcolor": "white",
            "linecolor": "white",
            "showbackground": true,
            "ticks": "",
            "zerolinecolor": "white",
            "gridwidth": 2
           },
           "yaxis": {
            "backgroundcolor": "#E5ECF6",
            "gridcolor": "white",
            "linecolor": "white",
            "showbackground": true,
            "ticks": "",
            "zerolinecolor": "white",
            "gridwidth": 2
           },
           "zaxis": {
            "backgroundcolor": "#E5ECF6",
            "gridcolor": "white",
            "linecolor": "white",
            "showbackground": true,
            "ticks": "",
            "zerolinecolor": "white",
            "gridwidth": 2
           }
          },
          "shapedefaults": {
           "line": {
            "color": "#2a3f5f"
           }
          },
          "annotationdefaults": {
           "arrowcolor": "#2a3f5f",
           "arrowhead": 0,
           "arrowwidth": 1
          },
          "geo": {
           "bgcolor": "white",
           "landcolor": "#E5ECF6",
           "subunitcolor": "white",
           "showland": true,
           "showlakes": true,
           "lakecolor": "white"
          },
          "title": {
           "x": 0.05
          },
          "mapbox": {
           "style": "light"
          }
         }
        },
        "map": {
         "domain": {
          "x": [
           0.0,
           1.0
          ],
          "y": [
           0.0,
           1.0
          ]
         },
         "center": {
          "lat": -41,
          "lon": 174
         },
         "zoom": 3.8,
         "style": "carto-positron"
        },
        "coloraxis": {
         "colorbar": {
          "title": {
           "text": "Mag"
          }
         },
         "colorscale": [
          [
           0.0,
           "rgb(255,247,236)"
          ],
          [
           0.125,
           "rgb(254,232,200)"
          ],
          [
           0.25,
           "rgb(253,212,158)"
          ],
          [
           0.375,
           "rgb(253,187,132)"
          ],
          [
           0.5,
           "rgb(252,141,89)"
          ],
          [
           0.625,
           "rgb(239,101,72)"
          ],
          [
           0.75,
           "rgb(215,48,31)"
          ],
          [
           0.875,
           "rgb(179,0,0)"
          ],
          [
           1.0,
           "rgb(127,0,0)"
          ]
         ]
        },
        "legend": {
         "tracegroupgap": 0,
         "itemsizing": "constant"
        },
        "title": {
         "text": "Declustered Mainshock Sequence of New Zealand using HDBSCAN<br><sup>Time of occurrence: 1976-2020</sup>"
        },
        "height": 800,
        "mapbox": {
         "center": {
          "lat": -41,
          "lon": 174
         },
         "zoom": 3.8,
         "style": "carto-positron"
        }
       },
       "config": {
        "plotlyServerURL": "https://plot.ly"
       }
      }
     },
     "metadata": {},
     "output_type": "display_data"
    }
   ],
   "execution_count": 48
  },
  {
   "metadata": {
    "ExecuteTime": {
     "end_time": "2025-08-26T17:27:03.243582Z",
     "start_time": "2025-08-26T17:27:00.654374Z"
    }
   },
   "cell_type": "code",
   "source": [
    "# Visualisation: The inter_arrival times are expected to fit an exponential distribution\n",
    "import matplotlib.pyplot as plt\n",
    "import numpy as np\n",
    "from scipy.stats import expon\n",
    "from scipy.stats import probplot\n",
    "\n",
    "x = declustered_mainshock_hdbscan['inter_arrival'].dropna()\n",
    "loc, scale = expon.fit(x)\n",
    "\n",
    "# Comprehensive analysis for the raw catalogue\n",
    "fig, axes = plt.subplots(2, 2, figsize=(15, 12))\n",
    "\n",
    "# Standard Histogram with Exponential Fit (Top-Left)\n",
    "axes[0, 0].hist(x, bins=30, density=True, alpha=0.7, color='skyblue', edgecolor='black')\n",
    "x_range = np.linspace(x.min(), x.max(), 100)\n",
    "axes[0, 0].plot(x_range, expon.pdf(x_range, loc, scale), 'r-', lw=2)\n",
    "axes[0, 0].set_title('Standard Histogram with Exponential Fit')\n",
    "axes[0, 0].set_xlabel('Inter-arrival Time (days)')\n",
    "axes[0, 0].set_ylabel('Probability Density')\n",
    "axes[0, 0].grid(True, alpha=0.3)\n",
    "\n",
    "# Log-scale Histogram (Top-Right)\n",
    "bins = np.logspace(np.log10(x.min()), np.log10(x.max()), 30)\n",
    "axes[0, 1].hist(x, bins=bins, density=True, alpha=0.7, color='skyblue', edgecolor='black')\n",
    "axes[0, 1].set_xscale('log')\n",
    "axes[0, 1].set_title('Log-scale Histogram')\n",
    "axes[0, 1].set_xlabel('Inter-arrival Time (days, log scale)')\n",
    "axes[0, 1].set_ylabel('Probability Density')\n",
    "axes[0, 1].grid(True, alpha=0.3)\n",
    "\n",
    "# CDF Comparison (Bottom-Left)\n",
    "x_sorted = np.sort(x)\n",
    "y_ecdf = np.arange(1, len(x_sorted)+1) / len(x_sorted)\n",
    "y_theoretical = expon.cdf(x_sorted, loc, scale)\n",
    "axes[1, 0].plot(x_sorted, y_ecdf, label='Empirical CDF', linewidth=2)\n",
    "axes[1, 0].plot(x_sorted, y_theoretical, label='Theoretical CDF', linestyle='--', linewidth=2)\n",
    "axes[1, 0].set_title('CDF Comparison')\n",
    "axes[1, 0].set_xlabel('Inter-arrival Time (days)')\n",
    "axes[1, 0].set_ylabel('Cumulative Probability')\n",
    "axes[1, 0].legend()\n",
    "axes[1, 0].grid(True, alpha=0.3)\n",
    "\n",
    "# Q-Q Plot (Bottom-Right)\n",
    "probplot(x, dist=expon, sparams=(loc, scale), plot=axes[1, 1])\n",
    "axes[1, 1].set_title('Q-Q Plot')\n",
    "\n",
    "plt.savefig('comprehensive_analysis_new_zealand_hdbscan.png', dpi=300, bbox_inches='tight')\n",
    "plt.suptitle('Comprehensive Analysis of Inter-arrival Times after Declustering using Window Method\\nNew Zealand and its Surrounding area, 1976-2020', fontsize=16)\n",
    "plt.tight_layout()\n",
    "plt.show()"
   ],
   "id": "51f9928a884c976f",
   "outputs": [
    {
     "data": {
      "text/plain": [
       "<Figure size 1500x1200 with 4 Axes>"
      ],
      "image/png": "[encoded data removed]"
     },
     "metadata": {},
     "output_type": "display_data"
    }
   ],
   "execution_count": 54
  },
  {
   "metadata": {
    "ExecuteTime": {
     "end_time": "2025-08-26T17:26:14.487815Z",
     "start_time": "2025-08-26T17:26:13.917719Z"
    }
   },
   "cell_type": "code",
   "source": [
    "import matplotlib.pyplot as plt\n",
    "from scipy.stats import expon\n",
    "from scipy.stats import probplot\n",
    "\n",
    "x = declustered_mainshock_hdbscan['inter_arrival'].dropna()\n",
    "loc, scale = expon.fit(x)\n",
    "\n",
    "plt.figure(figsize=(6, 6))\n",
    "probplot(x, dist=expon, sparams=(loc, scale), plot=plt)\n",
    "plt.title(\"New Zealand Grid: HDBSCAN\")\n",
    "plt.tight_layout()\n",
    "plt.savefig(\"qq_new_zealand_hdbscan.png\", dpi=300)\n",
    "plt.show()"
   ],
   "id": "c52001f506bd22b9",
   "outputs": [
    {
     "data": {
      "text/plain": [
       "<Figure size 600x600 with 1 Axes>"
      ],
      "image/png": "[encoded data removed]"
     },
     "metadata": {},
     "output_type": "display_data"
    }
   ],
   "execution_count": 50
  },
  {
   "metadata": {
    "ExecuteTime": {
     "end_time": "2025-08-26T17:26:14.695400Z",
     "start_time": "2025-08-26T17:26:14.511475Z"
    }
   },
   "cell_type": "code",
   "source": [
    "# Lon vs Mag\n",
    "import matplotlib.pyplot as plt\n",
    "\n",
    "x = declustered_mainshock_hdbscan['Lon']\n",
    "y = declustered_mainshock_hdbscan['Mag']\n",
    "\n",
    "plt.figure(figsize=(8, 5))\n",
    "plt.ylim(4, 8.5)\n",
    "plt.scatter(x, y, s=5, color='orange')\n",
    "plt.axhline(y=4.5, color='red', linestyle='--')  # Observing the minor magnitude(<4.5) events for comparison\n",
    "plt.axhline(y=5, color='grey', linestyle='--')  # Observing the minor magnitude events(<5) for comparison\n",
    "plt.xlabel(\"Longitude\")\n",
    "plt.ylabel(\"Magnitude\")\n",
    "plt.title(\"Longitude vs. Magnitude for the Declustered Catalogue from HDBSCAN\\n(New Zealand and its Surrounding area, 1976-2020)\")\n",
    "plt.show()"
   ],
   "id": "4b6047b97d9a4585",
   "outputs": [
    {
     "data": {
      "text/plain": [
       "<Figure size 800x500 with 1 Axes>"
      ],
      "image/png": "[encoded data removed]"
     },
     "metadata": {},
     "output_type": "display_data"
    }
   ],
   "execution_count": 51
  },
  {
   "metadata": {
    "ExecuteTime": {
     "end_time": "2025-08-26T17:26:15.266150Z",
     "start_time": "2025-08-26T17:26:14.704175Z"
    }
   },
   "cell_type": "code",
   "source": [
    "# Lat vs Mag\n",
    "import matplotlib.pyplot as plt\n",
    "\n",
    "x = declustered_mainshock_hdbscan['Lat']\n",
    "y = declustered_mainshock_hdbscan['Mag']\n",
    "\n",
    "plt.figure(figsize=(8, 5))\n",
    "plt.ylim(4, 8.5)\n",
    "plt.scatter(x, y, s=5, color='orange')\n",
    "plt.axhline(y=4.5, color='red', linestyle='--')  # Observing the minor magnitude(<4.5) events for comparison\n",
    "plt.axhline(y=5, color='grey', linestyle='--')  # Observing the minor magnitude events(<5) for comparison\n",
    "plt.xlabel(\"Latitude\")\n",
    "plt.ylabel(\"Magnitude\")\n",
    "plt.title(\"Latitude vs. Magnitude for the Declustered Catalogue from HDBSCAN\\n(New Zealand and its Surrounding area, 1976-2020)\")\n",
    "plt.savefig('lat_mag_hdbscan.png', dpi=300)\n",
    "plt.show()"
   ],
   "id": "ca7bc4cb19080ac1",
   "outputs": [
    {
     "data": {
      "text/plain": [
       "<Figure size 800x500 with 1 Axes>"
      ],
      "image/png": "[encoded data removed]"
     },
     "metadata": {},
     "output_type": "display_data"
    }
   ],
   "execution_count": 52
  },
  {
   "metadata": {
    "ExecuteTime": {
     "end_time": "2025-08-26T17:26:15.299974Z",
     "start_time": "2025-08-26T17:26:15.292666Z"
    }
   },
   "cell_type": "code",
   "source": [
    "# KS test\n",
    "from scipy.stats import kstest, expon\n",
    "\n",
    "x = declustered_mainshock_hdbscan['inter_arrival'].dropna()\n",
    "loc, scale = expon.fit(x)\n",
    "\n",
    "stat, p_value = kstest(x, 'expon', args=(loc, scale))\n",
    "\n",
    "# If p_value > 0.05, the inter-arrival times are consistent with an exponential distribution.\n",
    "# This implies that the earthquake occurrences follow a Poisson process.\n",
    "print(f\"K-S test p-value: {p_value:.4f}\")\n",
    "print(f\"K-S Test Statistic (D): {stat:.4f}\")\n",
    "\n",
    "METHOD_NAME = \"HDBSCAN\"\n",
    "if p_value > 0.05:\n",
    "    # We fail to reject the null hypothesis.\n",
    "    print(f\"The declustered catalogue from the {METHOD_NAME} method is consistent with a Poisson process.\")\n",
    "else:\n",
    "    # We reject the null hypothesis.\n",
    "    print(f\"The declustered catalogue from the {METHOD_NAME} method is not consistent with a Poisson process.\")"
   ],
   "id": "68545393a04ea46f",
   "outputs": [
    {
     "name": "stdout",
     "output_type": "stream",
     "text": [
      "K-S test p-value: 0.0637\n",
      "K-S Test Statistic (D): 0.0966\n",
      "The declustered catalogue from the HDBSCAN method is consistent with a Poisson process.\n"
     ]
    }
   ],
   "execution_count": 53
  },
  {
   "metadata": {
    "ExecuteTime": {
     "end_time": "2025-08-26T17:26:15.308905Z",
     "start_time": "2025-08-26T17:26:15.306874Z"
    }
   },
   "cell_type": "code",
   "source": "",
   "id": "365dabd3435eec11",
   "outputs": [],
   "execution_count": null
  }
 ],
 "metadata": {
  "kernelspec": {
   "display_name": "Python 3",
   "language": "python",
   "name": "python3"
  },
  "language_info": {
   "codemirror_mode": {
    "name": "ipython",
    "version": 2
   },
   "file_extension": ".py",
   "mimetype": "text/x-python",
   "name": "python",
   "nbconvert_exporter": "python",
   "pygments_lexer": "ipython2",
   "version": "2.7.6"
  }
 },
 "nbformat": 4,
 "nbformat_minor": 5
}
